{
 "cells": [
  {
   "cell_type": "markdown",
   "metadata": {
    "id": "vXMK1fds7cpH"
   },
   "source": [
    "# Intro\n",
    "Typically we use cosine similarity as a proxy for relatedness of features.  \n",
    "Normally to find nearest neighbors you would have to check all pairwise distances.  \n",
    "\n",
    "By using a hierarchical clustering method in advance, we can precompute these to make retrieval near instant at inference time.\n",
    "\n",
    "\n",
    "This indexing data over feature space takes minimal space: about 9 MB for ~300k features across the 12 layers of GPT2-small.  \n",
    "It takes about 4 minutes per layer of ~25k features to compute, or about 45 minutes for all layers. These were all saved to a pkl."
   ]
  },
  {
   "cell_type": "code",
   "execution_count": 1,
   "metadata": {},
   "outputs": [
    {
     "name": "stdout",
     "output_type": "stream",
     "text": [
      "CUDA available: True\n",
      "Device count: 1\n",
      "Current device: 0\n",
      "Device name: NVIDIA RTX A5000\n"
     ]
    }
   ],
   "source": [
    "# Check if our remote gpu cloud is working\n",
    "import torch\n",
    "\n",
    "print(\"CUDA available:\", torch.cuda.is_available())\n",
    "print(\"Device count:\", torch.cuda.device_count())\n",
    "print(\"Current device:\", torch.cuda.current_device())\n",
    "print(\"Device name:\", torch.cuda.get_device_name(0))"
   ]
  },
  {
   "cell_type": "code",
   "execution_count": 2,
   "metadata": {
    "colab": {
     "base_uri": "https://localhost:8080/"
    },
    "executionInfo": {
     "elapsed": 21908,
     "status": "ok",
     "timestamp": 1720660341127,
     "user": {
      "displayName": "Jason L",
      "userId": "08424561876455739258"
     },
     "user_tz": 240
    },
    "id": "hXMRYgFAjAsY",
    "outputId": "d4784cbe-7a57-480e-deb5-6fc9f4d7a466"
   },
   "outputs": [],
   "source": [
    "# # mount your drive\n",
    "# from google.colab import drive\n",
    "# drive.mount('/content/drive')"
   ]
  },
  {
   "cell_type": "code",
   "execution_count": 3,
   "metadata": {
    "colab": {
     "base_uri": "https://localhost:8080/",
     "height": 1000
    },
    "executionInfo": {
     "elapsed": 432242,
     "status": "ok",
     "timestamp": 1720660773367,
     "user": {
      "displayName": "Jason L",
      "userId": "08424561876455739258"
     },
     "user_tz": 240
    },
    "id": "yFWpFjurmlrc",
    "outputId": "f4bfc0ca-f999-43f5-d97f-cfd0010f8c3f"
   },
   "outputs": [
    {
     "name": "stdout",
     "output_type": "stream",
     "text": [
      "Requirement already satisfied: circuitsvis in /opt/conda/lib/python3.10/site-packages (1.43.2)\n",
      "Requirement already satisfied: importlib-metadata>=5.1.0 in /opt/conda/lib/python3.10/site-packages (from circuitsvis) (8.0.0)\n",
      "Requirement already satisfied: numpy>=1.24 in /opt/conda/lib/python3.10/site-packages (from circuitsvis) (1.25.2)\n",
      "Requirement already satisfied: nvidia-cublas-cu12==12.1.3.1 in /opt/conda/lib/python3.10/site-packages (from circuitsvis) (12.1.3.1)\n",
      "Requirement already satisfied: nvidia-cuda-cupti-cu12==12.1.105 in /opt/conda/lib/python3.10/site-packages (from circuitsvis) (12.1.105)\n",
      "Requirement already satisfied: nvidia-cuda-nvrtc-cu12==12.1.105 in /opt/conda/lib/python3.10/site-packages (from circuitsvis) (12.1.105)\n",
      "Requirement already satisfied: nvidia-cuda-runtime-cu12==12.1.105 in /opt/conda/lib/python3.10/site-packages (from circuitsvis) (12.1.105)\n",
      "Requirement already satisfied: nvidia-cudnn-cu12==8.9.2.26 in /opt/conda/lib/python3.10/site-packages (from circuitsvis) (8.9.2.26)\n",
      "Requirement already satisfied: nvidia-cufft-cu12==11.0.2.54 in /opt/conda/lib/python3.10/site-packages (from circuitsvis) (11.0.2.54)\n",
      "Requirement already satisfied: nvidia-curand-cu12==10.3.2.106 in /opt/conda/lib/python3.10/site-packages (from circuitsvis) (10.3.2.106)\n",
      "Requirement already satisfied: nvidia-cusolver-cu12==11.4.5.107 in /opt/conda/lib/python3.10/site-packages (from circuitsvis) (11.4.5.107)\n",
      "Requirement already satisfied: nvidia-cusparse-cu12==12.1.0.106 in /opt/conda/lib/python3.10/site-packages (from circuitsvis) (12.1.0.106)\n",
      "Requirement already satisfied: nvidia-nccl-cu12==2.18.1 in /opt/conda/lib/python3.10/site-packages (from circuitsvis) (2.18.1)\n",
      "Requirement already satisfied: nvidia-nvtx-cu12==12.1.105 in /opt/conda/lib/python3.10/site-packages (from circuitsvis) (12.1.105)\n",
      "Requirement already satisfied: torch>=1.10 in /opt/conda/lib/python3.10/site-packages (from circuitsvis) (2.2.0)\n",
      "Requirement already satisfied: triton==2.1.0 in /opt/conda/lib/python3.10/site-packages (from circuitsvis) (2.1.0)\n",
      "Requirement already satisfied: nvidia-nvjitlink-cu12 in /opt/conda/lib/python3.10/site-packages (from nvidia-cusolver-cu12==11.4.5.107->circuitsvis) (12.5.82)\n",
      "Requirement already satisfied: filelock in /opt/conda/lib/python3.10/site-packages (from triton==2.1.0->circuitsvis) (3.13.1)\n",
      "Requirement already satisfied: zipp>=0.5 in /opt/conda/lib/python3.10/site-packages (from importlib-metadata>=5.1.0->circuitsvis) (3.19.2)\n",
      "Requirement already satisfied: typing-extensions>=4.8.0 in /opt/conda/lib/python3.10/site-packages (from torch>=1.10->circuitsvis) (4.9.0)\n",
      "Requirement already satisfied: sympy in /opt/conda/lib/python3.10/site-packages (from torch>=1.10->circuitsvis) (1.12)\n",
      "Requirement already satisfied: networkx in /opt/conda/lib/python3.10/site-packages (from torch>=1.10->circuitsvis) (3.1)\n",
      "Requirement already satisfied: jinja2 in /opt/conda/lib/python3.10/site-packages (from torch>=1.10->circuitsvis) (3.1.2)\n",
      "Requirement already satisfied: fsspec in /opt/conda/lib/python3.10/site-packages (from torch>=1.10->circuitsvis) (2023.12.2)\n",
      "Requirement already satisfied: MarkupSafe>=2.0 in /opt/conda/lib/python3.10/site-packages (from jinja2->torch>=1.10->circuitsvis) (2.1.3)\n",
      "Requirement already satisfied: mpmath>=0.19 in /opt/conda/lib/python3.10/site-packages (from sympy->torch>=1.10->circuitsvis) (1.3.0)\n",
      "\u001b[33mWARNING: Running pip as the 'root' user can result in broken permissions and conflicting behaviour with the system package manager. It is recommended to use a virtual environment instead: https://pip.pypa.io/warnings/venv\u001b[0m\u001b[33m\n",
      "\u001b[0mRequirement already satisfied: nnsight in /opt/conda/lib/python3.10/site-packages (0.2.19)\n",
      "Requirement already satisfied: transformer_lens in /opt/conda/lib/python3.10/site-packages (1.19.0)\n",
      "Requirement already satisfied: sae-lens==3.9.0 in /opt/conda/lib/python3.10/site-packages (3.9.0)\n",
      "Requirement already satisfied: bitsandbytes in /opt/conda/lib/python3.10/site-packages (0.43.1)\n",
      "Requirement already satisfied: automated-interpretability<0.0.4,>=0.0.3 in /opt/conda/lib/python3.10/site-packages (from sae-lens==3.9.0) (0.0.3)\n",
      "Requirement already satisfied: babe<0.0.8,>=0.0.7 in /opt/conda/lib/python3.10/site-packages (from sae-lens==3.9.0) (0.0.7)\n",
      "Requirement already satisfied: datasets<3.0.0,>=2.17.1 in /opt/conda/lib/python3.10/site-packages (from sae-lens==3.9.0) (2.20.0)\n",
      "Requirement already satisfied: matplotlib<4.0.0,>=3.8.3 in /opt/conda/lib/python3.10/site-packages (from sae-lens==3.9.0) (3.9.1)\n",
      "Requirement already satisfied: matplotlib-inline<0.2.0,>=0.1.6 in /opt/conda/lib/python3.10/site-packages (from sae-lens==3.9.0) (0.1.6)\n",
      "Requirement already satisfied: nltk<4.0.0,>=3.8.1 in /opt/conda/lib/python3.10/site-packages (from sae-lens==3.9.0) (3.8.1)\n",
      "Requirement already satisfied: plotly<6.0.0,>=5.19.0 in /opt/conda/lib/python3.10/site-packages (from sae-lens==3.9.0) (5.22.0)\n",
      "Requirement already satisfied: plotly-express<0.5.0,>=0.4.1 in /opt/conda/lib/python3.10/site-packages (from sae-lens==3.9.0) (0.4.1)\n",
      "Requirement already satisfied: pytest-profiling<2.0.0,>=1.7.0 in /opt/conda/lib/python3.10/site-packages (from sae-lens==3.9.0) (1.7.0)\n",
      "Requirement already satisfied: python-dotenv<2.0.0,>=1.0.1 in /opt/conda/lib/python3.10/site-packages (from sae-lens==3.9.0) (1.0.1)\n",
      "Requirement already satisfied: pyyaml<7.0.0,>=6.0.1 in /opt/conda/lib/python3.10/site-packages (from sae-lens==3.9.0) (6.0.1)\n",
      "Requirement already satisfied: pyzmq==26.0.0 in /opt/conda/lib/python3.10/site-packages (from sae-lens==3.9.0) (26.0.0)\n",
      "Requirement already satisfied: sae-vis<0.3.0,>=0.2.18 in /opt/conda/lib/python3.10/site-packages (from sae-lens==3.9.0) (0.2.21)\n",
      "Requirement already satisfied: safetensors<0.5.0,>=0.4.2 in /opt/conda/lib/python3.10/site-packages (from sae-lens==3.9.0) (0.4.3)\n",
      "Requirement already satisfied: transformers<5.0.0,>=4.38.1 in /opt/conda/lib/python3.10/site-packages (from sae-lens==3.9.0) (4.42.4)\n",
      "Requirement already satisfied: typer<0.13.0,>=0.12.3 in /opt/conda/lib/python3.10/site-packages (from sae-lens==3.9.0) (0.12.3)\n",
      "Requirement already satisfied: zstandard<0.23.0,>=0.22.0 in /opt/conda/lib/python3.10/site-packages (from sae-lens==3.9.0) (0.22.0)\n",
      "Requirement already satisfied: protobuf in /opt/conda/lib/python3.10/site-packages (from nnsight) (5.27.2)\n",
      "Requirement already satisfied: python-socketio[client] in /opt/conda/lib/python3.10/site-packages (from nnsight) (5.11.3)\n",
      "Requirement already satisfied: tokenizers>=0.13.0 in /opt/conda/lib/python3.10/site-packages (from nnsight) (0.19.1)\n",
      "Requirement already satisfied: pydantic>=2.4.0 in /opt/conda/lib/python3.10/site-packages (from nnsight) (2.8.2)\n",
      "Requirement already satisfied: torch>=2.1.0 in /opt/conda/lib/python3.10/site-packages (from nnsight) (2.2.0)\n",
      "Requirement already satisfied: sentencepiece in /opt/conda/lib/python3.10/site-packages (from nnsight) (0.2.0)\n",
      "Requirement already satisfied: torchvision in /opt/conda/lib/python3.10/site-packages (from nnsight) (0.17.0)\n",
      "Requirement already satisfied: accelerate in /opt/conda/lib/python3.10/site-packages (from nnsight) (0.32.1)\n",
      "Requirement already satisfied: diffusers in /opt/conda/lib/python3.10/site-packages (from nnsight) (0.29.2)\n",
      "Requirement already satisfied: einops in /opt/conda/lib/python3.10/site-packages (from nnsight) (0.7.0)\n",
      "Requirement already satisfied: beartype<0.15.0,>=0.14.1 in /opt/conda/lib/python3.10/site-packages (from transformer_lens) (0.14.1)\n",
      "Requirement already satisfied: better-abc<0.0.4,>=0.0.3 in /opt/conda/lib/python3.10/site-packages (from transformer_lens) (0.0.3)\n",
      "Requirement already satisfied: fancy-einsum>=0.0.3 in /opt/conda/lib/python3.10/site-packages (from transformer_lens) (0.0.3)\n",
      "Requirement already satisfied: jaxtyping>=0.2.11 in /opt/conda/lib/python3.10/site-packages (from transformer_lens) (0.2.33)\n",
      "Requirement already satisfied: numpy>=1.24 in /opt/conda/lib/python3.10/site-packages (from transformer_lens) (1.25.2)\n",
      "Requirement already satisfied: pandas>=1.1.5 in /opt/conda/lib/python3.10/site-packages (from transformer_lens) (2.2.2)\n",
      "Requirement already satisfied: rich>=12.6.0 in /opt/conda/lib/python3.10/site-packages (from transformer_lens) (13.7.1)\n",
      "Requirement already satisfied: tqdm>=4.64.1 in /opt/conda/lib/python3.10/site-packages (from transformer_lens) (4.66.4)\n",
      "Requirement already satisfied: typing-extensions in /opt/conda/lib/python3.10/site-packages (from transformer_lens) (4.9.0)\n",
      "Requirement already satisfied: wandb>=0.13.5 in /opt/conda/lib/python3.10/site-packages (from transformer_lens) (0.17.4)\n",
      "Requirement already satisfied: packaging>=20.0 in /opt/conda/lib/python3.10/site-packages (from accelerate->nnsight) (23.1)\n",
      "Requirement already satisfied: psutil in /opt/conda/lib/python3.10/site-packages (from accelerate->nnsight) (5.9.0)\n",
      "Requirement already satisfied: huggingface-hub in /opt/conda/lib/python3.10/site-packages (from accelerate->nnsight) (0.23.4)\n",
      "Requirement already satisfied: blobfile<3.0.0,>=2.1.1 in /opt/conda/lib/python3.10/site-packages (from automated-interpretability<0.0.4,>=0.0.3->sae-lens==3.9.0) (2.1.1)\n",
      "Requirement already satisfied: boostedblob<0.16.0,>=0.15.3 in /opt/conda/lib/python3.10/site-packages (from automated-interpretability<0.0.4,>=0.0.3->sae-lens==3.9.0) (0.15.4)\n",
      "Requirement already satisfied: httpx<0.28.0,>=0.27.0 in /opt/conda/lib/python3.10/site-packages (from automated-interpretability<0.0.4,>=0.0.3->sae-lens==3.9.0) (0.27.0)\n",
      "Collecting numpy>=1.24 (from transformer_lens)\n",
      "  Using cached numpy-1.26.4-cp310-cp310-manylinux_2_17_x86_64.manylinux2014_x86_64.whl.metadata (61 kB)\n",
      "Requirement already satisfied: orjson<4.0.0,>=3.10.1 in /opt/conda/lib/python3.10/site-packages (from automated-interpretability<0.0.4,>=0.0.3->sae-lens==3.9.0) (3.10.6)\n",
      "Requirement already satisfied: pytest<9.0.0,>=8.1.2 in /opt/conda/lib/python3.10/site-packages (from automated-interpretability<0.0.4,>=0.0.3->sae-lens==3.9.0) (8.2.2)\n",
      "Requirement already satisfied: scikit-learn<2.0.0,>=1.4.2 in /opt/conda/lib/python3.10/site-packages (from automated-interpretability<0.0.4,>=0.0.3->sae-lens==3.9.0) (1.5.1)\n",
      "Requirement already satisfied: tiktoken<0.7.0,>=0.6.0 in /opt/conda/lib/python3.10/site-packages (from automated-interpretability<0.0.4,>=0.0.3->sae-lens==3.9.0) (0.6.0)\n",
      "Requirement already satisfied: py2store in /opt/conda/lib/python3.10/site-packages (from babe<0.0.8,>=0.0.7->sae-lens==3.9.0) (0.1.20)\n",
      "Requirement already satisfied: graze in /opt/conda/lib/python3.10/site-packages (from babe<0.0.8,>=0.0.7->sae-lens==3.9.0) (0.1.17)\n",
      "Requirement already satisfied: filelock in /opt/conda/lib/python3.10/site-packages (from datasets<3.0.0,>=2.17.1->sae-lens==3.9.0) (3.13.1)\n",
      "Requirement already satisfied: pyarrow>=15.0.0 in /opt/conda/lib/python3.10/site-packages (from datasets<3.0.0,>=2.17.1->sae-lens==3.9.0) (16.1.0)\n",
      "Requirement already satisfied: pyarrow-hotfix in /opt/conda/lib/python3.10/site-packages (from datasets<3.0.0,>=2.17.1->sae-lens==3.9.0) (0.6)\n",
      "Requirement already satisfied: dill<0.3.9,>=0.3.0 in /opt/conda/lib/python3.10/site-packages (from datasets<3.0.0,>=2.17.1->sae-lens==3.9.0) (0.3.8)\n",
      "Requirement already satisfied: requests>=2.32.2 in /opt/conda/lib/python3.10/site-packages (from datasets<3.0.0,>=2.17.1->sae-lens==3.9.0) (2.32.3)\n",
      "Requirement already satisfied: xxhash in /opt/conda/lib/python3.10/site-packages (from datasets<3.0.0,>=2.17.1->sae-lens==3.9.0) (3.4.1)\n",
      "Requirement already satisfied: multiprocess in /opt/conda/lib/python3.10/site-packages (from datasets<3.0.0,>=2.17.1->sae-lens==3.9.0) (0.70.16)\n",
      "Requirement already satisfied: fsspec<=2024.5.0,>=2023.1.0 in /opt/conda/lib/python3.10/site-packages (from fsspec[http]<=2024.5.0,>=2023.1.0->datasets<3.0.0,>=2.17.1->sae-lens==3.9.0) (2023.12.2)\n",
      "Requirement already satisfied: aiohttp in /opt/conda/lib/python3.10/site-packages (from datasets<3.0.0,>=2.17.1->sae-lens==3.9.0) (3.9.5)\n",
      "Requirement already satisfied: typeguard==2.13.3 in /opt/conda/lib/python3.10/site-packages (from jaxtyping>=0.2.11->transformer_lens) (2.13.3)\n",
      "Requirement already satisfied: contourpy>=1.0.1 in /opt/conda/lib/python3.10/site-packages (from matplotlib<4.0.0,>=3.8.3->sae-lens==3.9.0) (1.2.1)\n",
      "Requirement already satisfied: cycler>=0.10 in /opt/conda/lib/python3.10/site-packages (from matplotlib<4.0.0,>=3.8.3->sae-lens==3.9.0) (0.12.1)\n",
      "Requirement already satisfied: fonttools>=4.22.0 in /opt/conda/lib/python3.10/site-packages (from matplotlib<4.0.0,>=3.8.3->sae-lens==3.9.0) (4.53.1)\n",
      "Requirement already satisfied: kiwisolver>=1.3.1 in /opt/conda/lib/python3.10/site-packages (from matplotlib<4.0.0,>=3.8.3->sae-lens==3.9.0) (1.4.5)\n",
      "Requirement already satisfied: pillow>=8 in /opt/conda/lib/python3.10/site-packages (from matplotlib<4.0.0,>=3.8.3->sae-lens==3.9.0) (10.0.1)\n",
      "Requirement already satisfied: pyparsing>=2.3.1 in /opt/conda/lib/python3.10/site-packages (from matplotlib<4.0.0,>=3.8.3->sae-lens==3.9.0) (3.1.2)\n",
      "Requirement already satisfied: python-dateutil>=2.7 in /opt/conda/lib/python3.10/site-packages (from matplotlib<4.0.0,>=3.8.3->sae-lens==3.9.0) (2.9.0.post0)\n",
      "Requirement already satisfied: traitlets in /opt/conda/lib/python3.10/site-packages (from matplotlib-inline<0.2.0,>=0.1.6->sae-lens==3.9.0) (5.7.1)\n",
      "Requirement already satisfied: click in /opt/conda/lib/python3.10/site-packages (from nltk<4.0.0,>=3.8.1->sae-lens==3.9.0) (8.1.7)\n",
      "Requirement already satisfied: joblib in /opt/conda/lib/python3.10/site-packages (from nltk<4.0.0,>=3.8.1->sae-lens==3.9.0) (1.4.2)\n",
      "Requirement already satisfied: regex>=2021.8.3 in /opt/conda/lib/python3.10/site-packages (from nltk<4.0.0,>=3.8.1->sae-lens==3.9.0) (2024.5.15)\n",
      "Requirement already satisfied: pytz>=2020.1 in /opt/conda/lib/python3.10/site-packages (from pandas>=1.1.5->transformer_lens) (2023.3.post1)\n",
      "Requirement already satisfied: tzdata>=2022.7 in /opt/conda/lib/python3.10/site-packages (from pandas>=1.1.5->transformer_lens) (2024.1)\n",
      "Requirement already satisfied: tenacity>=6.2.0 in /opt/conda/lib/python3.10/site-packages (from plotly<6.0.0,>=5.19.0->sae-lens==3.9.0) (8.5.0)\n",
      "Requirement already satisfied: statsmodels>=0.9.0 in /opt/conda/lib/python3.10/site-packages (from plotly-express<0.5.0,>=0.4.1->sae-lens==3.9.0) (0.14.2)\n",
      "Requirement already satisfied: scipy>=0.18 in /opt/conda/lib/python3.10/site-packages (from plotly-express<0.5.0,>=0.4.1->sae-lens==3.9.0) (1.14.0)\n",
      "Requirement already satisfied: patsy>=0.5 in /opt/conda/lib/python3.10/site-packages (from plotly-express<0.5.0,>=0.4.1->sae-lens==3.9.0) (0.5.6)\n",
      "Requirement already satisfied: annotated-types>=0.4.0 in /opt/conda/lib/python3.10/site-packages (from pydantic>=2.4.0->nnsight) (0.7.0)\n",
      "Requirement already satisfied: pydantic-core==2.20.1 in /opt/conda/lib/python3.10/site-packages (from pydantic>=2.4.0->nnsight) (2.20.1)\n",
      "Requirement already satisfied: six in /opt/conda/lib/python3.10/site-packages (from pytest-profiling<2.0.0,>=1.7.0->sae-lens==3.9.0) (1.16.0)\n",
      "Requirement already satisfied: gprof2dot in /opt/conda/lib/python3.10/site-packages (from pytest-profiling<2.0.0,>=1.7.0->sae-lens==3.9.0) (2024.6.6)\n",
      "Requirement already satisfied: markdown-it-py>=2.2.0 in /opt/conda/lib/python3.10/site-packages (from rich>=12.6.0->transformer_lens) (3.0.0)\n",
      "Requirement already satisfied: pygments<3.0.0,>=2.13.0 in /opt/conda/lib/python3.10/site-packages (from rich>=12.6.0->transformer_lens) (2.15.1)\n",
      "Requirement already satisfied: dataclasses-json<0.7.0,>=0.6.4 in /opt/conda/lib/python3.10/site-packages (from sae-vis<0.3.0,>=0.2.18->sae-lens==3.9.0) (0.6.7)\n",
      "Requirement already satisfied: eindex-callum<0.2.0,>=0.1.0 in /opt/conda/lib/python3.10/site-packages (from sae-vis<0.3.0,>=0.2.18->sae-lens==3.9.0) (0.1.2)\n",
      "Requirement already satisfied: sympy in /opt/conda/lib/python3.10/site-packages (from torch>=2.1.0->nnsight) (1.12)\n",
      "Requirement already satisfied: networkx in /opt/conda/lib/python3.10/site-packages (from torch>=2.1.0->nnsight) (3.1)\n",
      "Requirement already satisfied: jinja2 in /opt/conda/lib/python3.10/site-packages (from torch>=2.1.0->nnsight) (3.1.2)\n",
      "Requirement already satisfied: shellingham>=1.3.0 in /opt/conda/lib/python3.10/site-packages (from typer<0.13.0,>=0.12.3->sae-lens==3.9.0) (1.5.4)\n",
      "Requirement already satisfied: docker-pycreds>=0.4.0 in /opt/conda/lib/python3.10/site-packages (from wandb>=0.13.5->transformer_lens) (0.4.0)\n",
      "Requirement already satisfied: gitpython!=3.1.29,>=1.0.0 in /opt/conda/lib/python3.10/site-packages (from wandb>=0.13.5->transformer_lens) (3.1.43)\n",
      "Requirement already satisfied: platformdirs in /opt/conda/lib/python3.10/site-packages (from wandb>=0.13.5->transformer_lens) (3.10.0)\n",
      "Requirement already satisfied: sentry-sdk>=1.0.0 in /opt/conda/lib/python3.10/site-packages (from wandb>=0.13.5->transformer_lens) (2.10.0)\n",
      "Requirement already satisfied: setproctitle in /opt/conda/lib/python3.10/site-packages (from wandb>=0.13.5->transformer_lens) (1.3.3)\n",
      "Requirement already satisfied: setuptools in /opt/conda/lib/python3.10/site-packages (from wandb>=0.13.5->transformer_lens) (68.2.2)\n",
      "Requirement already satisfied: importlib-metadata in /opt/conda/lib/python3.10/site-packages (from diffusers->nnsight) (8.0.0)\n",
      "Requirement already satisfied: bidict>=0.21.0 in /opt/conda/lib/python3.10/site-packages (from python-socketio[client]->nnsight) (0.23.1)\n",
      "Requirement already satisfied: python-engineio>=4.8.0 in /opt/conda/lib/python3.10/site-packages (from python-socketio[client]->nnsight) (4.9.1)\n",
      "Requirement already satisfied: websocket-client>=0.54.0 in /opt/conda/lib/python3.10/site-packages (from python-socketio[client]->nnsight) (1.7.0)\n",
      "Requirement already satisfied: pycryptodomex~=3.8 in /opt/conda/lib/python3.10/site-packages (from blobfile<3.0.0,>=2.1.1->automated-interpretability<0.0.4,>=0.0.3->sae-lens==3.9.0) (3.20.0)\n",
      "Requirement already satisfied: urllib3<3,>=1.25.3 in /opt/conda/lib/python3.10/site-packages (from blobfile<3.0.0,>=2.1.1->automated-interpretability<0.0.4,>=0.0.3->sae-lens==3.9.0) (1.26.18)\n",
      "Requirement already satisfied: lxml~=4.9 in /opt/conda/lib/python3.10/site-packages (from blobfile<3.0.0,>=2.1.1->automated-interpretability<0.0.4,>=0.0.3->sae-lens==3.9.0) (4.9.4)\n",
      "Requirement already satisfied: uvloop>=0.16.0 in /opt/conda/lib/python3.10/site-packages (from boostedblob<0.16.0,>=0.15.3->automated-interpretability<0.0.4,>=0.0.3->sae-lens==3.9.0) (0.19.0)\n",
      "Requirement already satisfied: aiosignal>=1.1.2 in /opt/conda/lib/python3.10/site-packages (from aiohttp->datasets<3.0.0,>=2.17.1->sae-lens==3.9.0) (1.3.1)\n",
      "Requirement already satisfied: attrs>=17.3.0 in /opt/conda/lib/python3.10/site-packages (from aiohttp->datasets<3.0.0,>=2.17.1->sae-lens==3.9.0) (23.1.0)\n",
      "Requirement already satisfied: frozenlist>=1.1.1 in /opt/conda/lib/python3.10/site-packages (from aiohttp->datasets<3.0.0,>=2.17.1->sae-lens==3.9.0) (1.4.1)\n",
      "Requirement already satisfied: multidict<7.0,>=4.5 in /opt/conda/lib/python3.10/site-packages (from aiohttp->datasets<3.0.0,>=2.17.1->sae-lens==3.9.0) (6.0.5)\n",
      "Requirement already satisfied: yarl<2.0,>=1.0 in /opt/conda/lib/python3.10/site-packages (from aiohttp->datasets<3.0.0,>=2.17.1->sae-lens==3.9.0) (1.9.4)\n",
      "Requirement already satisfied: async-timeout<5.0,>=4.0 in /opt/conda/lib/python3.10/site-packages (from aiohttp->datasets<3.0.0,>=2.17.1->sae-lens==3.9.0) (4.0.3)\n",
      "Requirement already satisfied: marshmallow<4.0.0,>=3.18.0 in /opt/conda/lib/python3.10/site-packages (from dataclasses-json<0.7.0,>=0.6.4->sae-vis<0.3.0,>=0.2.18->sae-lens==3.9.0) (3.21.3)\n",
      "Requirement already satisfied: typing-inspect<1,>=0.4.0 in /opt/conda/lib/python3.10/site-packages (from dataclasses-json<0.7.0,>=0.6.4->sae-vis<0.3.0,>=0.2.18->sae-lens==3.9.0) (0.9.0)\n",
      "Requirement already satisfied: gitdb<5,>=4.0.1 in /opt/conda/lib/python3.10/site-packages (from gitpython!=3.1.29,>=1.0.0->wandb>=0.13.5->transformer_lens) (4.0.11)\n",
      "Requirement already satisfied: anyio in /opt/conda/lib/python3.10/site-packages (from httpx<0.28.0,>=0.27.0->automated-interpretability<0.0.4,>=0.0.3->sae-lens==3.9.0) (4.3.0)\n",
      "Requirement already satisfied: certifi in /opt/conda/lib/python3.10/site-packages (from httpx<0.28.0,>=0.27.0->automated-interpretability<0.0.4,>=0.0.3->sae-lens==3.9.0) (2023.11.17)\n",
      "Requirement already satisfied: httpcore==1.* in /opt/conda/lib/python3.10/site-packages (from httpx<0.28.0,>=0.27.0->automated-interpretability<0.0.4,>=0.0.3->sae-lens==3.9.0) (1.0.5)\n",
      "Requirement already satisfied: idna in /opt/conda/lib/python3.10/site-packages (from httpx<0.28.0,>=0.27.0->automated-interpretability<0.0.4,>=0.0.3->sae-lens==3.9.0) (3.4)\n",
      "Requirement already satisfied: sniffio in /opt/conda/lib/python3.10/site-packages (from httpx<0.28.0,>=0.27.0->automated-interpretability<0.0.4,>=0.0.3->sae-lens==3.9.0) (1.3.1)\n",
      "Requirement already satisfied: h11<0.15,>=0.13 in /opt/conda/lib/python3.10/site-packages (from httpcore==1.*->httpx<0.28.0,>=0.27.0->automated-interpretability<0.0.4,>=0.0.3->sae-lens==3.9.0) (0.14.0)\n",
      "Requirement already satisfied: mdurl~=0.1 in /opt/conda/lib/python3.10/site-packages (from markdown-it-py>=2.2.0->rich>=12.6.0->transformer_lens) (0.1.2)\n",
      "Requirement already satisfied: iniconfig in /opt/conda/lib/python3.10/site-packages (from pytest<9.0.0,>=8.1.2->automated-interpretability<0.0.4,>=0.0.3->sae-lens==3.9.0) (2.0.0)\n",
      "Requirement already satisfied: pluggy<2.0,>=1.5 in /opt/conda/lib/python3.10/site-packages (from pytest<9.0.0,>=8.1.2->automated-interpretability<0.0.4,>=0.0.3->sae-lens==3.9.0) (1.5.0)\n",
      "Requirement already satisfied: exceptiongroup>=1.0.0rc8 in /opt/conda/lib/python3.10/site-packages (from pytest<9.0.0,>=8.1.2->automated-interpretability<0.0.4,>=0.0.3->sae-lens==3.9.0) (1.2.0)\n",
      "Requirement already satisfied: tomli>=1 in /opt/conda/lib/python3.10/site-packages (from pytest<9.0.0,>=8.1.2->automated-interpretability<0.0.4,>=0.0.3->sae-lens==3.9.0) (2.0.1)\n",
      "Requirement already satisfied: simple-websocket>=0.10.0 in /opt/conda/lib/python3.10/site-packages (from python-engineio>=4.8.0->python-socketio[client]->nnsight) (1.0.0)\n",
      "Requirement already satisfied: charset-normalizer<4,>=2 in /opt/conda/lib/python3.10/site-packages (from requests>=2.32.2->datasets<3.0.0,>=2.17.1->sae-lens==3.9.0) (2.0.4)\n",
      "Requirement already satisfied: threadpoolctl>=3.1.0 in /opt/conda/lib/python3.10/site-packages (from scikit-learn<2.0.0,>=1.4.2->automated-interpretability<0.0.4,>=0.0.3->sae-lens==3.9.0) (3.5.0)\n",
      "Requirement already satisfied: dol in /opt/conda/lib/python3.10/site-packages (from graze->babe<0.0.8,>=0.0.7->sae-lens==3.9.0) (0.2.49)\n",
      "Requirement already satisfied: zipp>=0.5 in /opt/conda/lib/python3.10/site-packages (from importlib-metadata->diffusers->nnsight) (3.19.2)\n",
      "Requirement already satisfied: MarkupSafe>=2.0 in /opt/conda/lib/python3.10/site-packages (from jinja2->torch>=2.1.0->nnsight) (2.1.3)\n",
      "Requirement already satisfied: config2py in /opt/conda/lib/python3.10/site-packages (from py2store->babe<0.0.8,>=0.0.7->sae-lens==3.9.0) (0.1.34)\n",
      "Requirement already satisfied: importlib-resources in /opt/conda/lib/python3.10/site-packages (from py2store->babe<0.0.8,>=0.0.7->sae-lens==3.9.0) (6.4.0)\n",
      "Requirement already satisfied: mpmath>=0.19 in /opt/conda/lib/python3.10/site-packages (from sympy->torch>=2.1.0->nnsight) (1.3.0)\n",
      "Requirement already satisfied: smmap<6,>=3.0.1 in /opt/conda/lib/python3.10/site-packages (from gitdb<5,>=4.0.1->gitpython!=3.1.29,>=1.0.0->wandb>=0.13.5->transformer_lens) (5.0.1)\n",
      "Requirement already satisfied: wsproto in /opt/conda/lib/python3.10/site-packages (from simple-websocket>=0.10.0->python-engineio>=4.8.0->python-socketio[client]->nnsight) (1.2.0)\n",
      "Requirement already satisfied: mypy-extensions>=0.3.0 in /opt/conda/lib/python3.10/site-packages (from typing-inspect<1,>=0.4.0->dataclasses-json<0.7.0,>=0.6.4->sae-vis<0.3.0,>=0.2.18->sae-lens==3.9.0) (1.0.0)\n",
      "Requirement already satisfied: i2 in /opt/conda/lib/python3.10/site-packages (from config2py->py2store->babe<0.0.8,>=0.0.7->sae-lens==3.9.0) (0.1.17)\n",
      "Using cached numpy-1.26.4-cp310-cp310-manylinux_2_17_x86_64.manylinux2014_x86_64.whl (18.2 MB)\n",
      "Installing collected packages: numpy\n",
      "  Attempting uninstall: numpy\n",
      "    Found existing installation: numpy 1.25.2\n",
      "    Uninstalling numpy-1.25.2:\n",
      "      Successfully uninstalled numpy-1.25.2\n",
      "Successfully installed numpy-1.26.4\n",
      "\u001b[33mWARNING: Running pip as the 'root' user can result in broken permissions and conflicting behaviour with the system package manager. It is recommended to use a virtual environment instead: https://pip.pypa.io/warnings/venv\u001b[0m\u001b[33m\n",
      "\u001b[0mCollecting numpy==1.25.2\n",
      "  Using cached numpy-1.25.2-cp310-cp310-manylinux_2_17_x86_64.manylinux2014_x86_64.whl.metadata (5.6 kB)\n",
      "Using cached numpy-1.25.2-cp310-cp310-manylinux_2_17_x86_64.manylinux2014_x86_64.whl (18.2 MB)\n",
      "Installing collected packages: numpy\n",
      "  Attempting uninstall: numpy\n",
      "    Found existing installation: numpy 1.26.4\n",
      "    Uninstalling numpy-1.26.4:\n",
      "      Successfully uninstalled numpy-1.26.4\n",
      "\u001b[31mERROR: pip's dependency resolver does not currently take into account all the packages that are installed. This behaviour is the source of the following dependency conflicts.\n",
      "automated-interpretability 0.0.3 requires numpy<2.0.0,>=1.26.4, but you have numpy 1.25.2 which is incompatible.\u001b[0m\u001b[31m\n",
      "\u001b[0mSuccessfully installed numpy-1.25.2\n",
      "\u001b[33mWARNING: Running pip as the 'root' user can result in broken permissions and conflicting behaviour with the system package manager. It is recommended to use a virtual environment instead: https://pip.pypa.io/warnings/venv\u001b[0m\u001b[33m\n",
      "\u001b[0m"
     ]
    }
   ],
   "source": [
    "# Need to install it in this order\n",
    "# Numpy causes problems with different version dependencies\n",
    "# But 1.25.2 seems to work for everything\n",
    "# DO NOT RESTART SESSION\n",
    "!pip install circuitsvis\n",
    "!pip install nnsight transformer_lens sae-lens==3.9.0 bitsandbytes\n",
    "!pip install numpy==1.25.2"
   ]
  },
  {
   "cell_type": "code",
   "execution_count": 4,
   "metadata": {
    "colab": {
     "base_uri": "https://localhost:8080/"
    },
    "executionInfo": {
     "elapsed": 13658,
     "status": "ok",
     "timestamp": 1720660787021,
     "user": {
      "displayName": "Jason L",
      "userId": "08424561876455739258"
     },
     "user_tz": 240
    },
    "id": "GG4tuplkCzFp",
    "outputId": "9c11b11d-0a22-4e58-8c43-94876d48d089"
   },
   "outputs": [
    {
     "name": "stdout",
     "output_type": "stream",
     "text": [
      "1.25.2\n",
      "Name: numpy\n",
      "Version: 1.25.2\n",
      "Summary: Fundamental package for array computing in Python\n",
      "Home-page: https://www.numpy.org\n",
      "Author: Travis E. Oliphant et al.\n",
      "Author-email: \n",
      "License: BSD-3-Clause\n",
      "Location: /opt/conda/lib/python3.10/site-packages\n",
      "Requires: \n",
      "Required-by: accelerate, automated-interpretability, bitsandbytes, circuitsvis, contourpy, datasets, diffusers, matplotlib, mkl-fft, mkl-random, pandas, patsy, plotly-express, pyarrow, scikit-learn, scipy, statsmodels, torchelastic, torchvision, transformer-lens, transformers\n"
     ]
    }
   ],
   "source": [
    "import numpy as np\n",
    "print(np.__version__)\n",
    "!pip show numpy"
   ]
  },
  {
   "cell_type": "markdown",
   "metadata": {
    "id": "nWdyRGUEI0tS"
   },
   "source": [
    "# Loading, Preprocessing, Tokenizing\n",
    "\n",
    "Below sections are meant for:\n",
    "\n",
    "1. Loading in the dataset. We are currently using the Model-Written-Evals Agreeableness dataset by Anthropic\n",
    "\n",
    "2. Tokenizing the dataset. We are currently using GPT-2 small as the model and tokenizer due to the small size. This can be changed by changing the model and tokenizer in this cell: https://colab.research.google.com/drive/1qUdsegUIZILv5DDLVStH6GTIz-ZhFmKH#scrollTo=h99FH4xDP2Y4&line=16&uniqifier=1\n",
    "\n",
    "3. Pre-processing: Generating activation deltas. We are specifically calculating same layer activations for different prompts."
   ]
  },
  {
   "cell_type": "code",
   "execution_count": 5,
   "metadata": {
    "executionInfo": {
     "elapsed": 618,
     "status": "ok",
     "timestamp": 1720660787624,
     "user": {
      "displayName": "Jason L",
      "userId": "08424561876455739258"
     },
     "user_tz": 240
    },
    "id": "oh5dEp1ULJDL"
   },
   "outputs": [],
   "source": [
    "# from google.colab import userdata\n",
    "# # Need a hugging face token with READ permissions to access Gemma-2b\n",
    "\n",
    "# hf_token = userdata.get('hf_token')"
   ]
  },
  {
   "cell_type": "code",
   "execution_count": 6,
   "metadata": {
    "executionInfo": {
     "elapsed": 277,
     "status": "ok",
     "timestamp": 1720663104152,
     "user": {
      "displayName": "Jason L",
      "userId": "08424561876455739258"
     },
     "user_tz": 240
    },
    "id": "rTtd__p9LrsS"
   },
   "outputs": [],
   "source": [
    "#@title Globally used variables\n",
    "\n",
    "DEBUG = False\n",
    "\n",
    "# Model and tokenizer\n",
    "\n",
    "#GPT-2 Model\n",
    "MODEL_NAME = 'gpt2'\n",
    "TOKENIZER = \"openai-community/gpt2\"\n",
    "\n",
    "# Gemma Model\n",
    "# MODEL_NAME = 'google/gemma-2b'\n",
    "# TOKENIZER = \"google/gemma-2b\"\n",
    "\n",
    "# layer of interest for this run\n",
    "# Needs to be constant for cached activations and SAE training\n",
    "LAYER = 9\n",
    "\n",
    "# This is the path for a shared drive\n",
    "# Add the drive to your Google Drive by adding a shortcut as per\n",
    "# https://stackoverflow.com/questions/54351852/accessing-shared-with-me-with-colab\n",
    "'''\n",
    "Colab Version\n",
    "\n",
    "DATASET_PATH = \"/content/drive/MyDrive/Hackathon: Contrastive SAE Steering/datasets/agreeableness.json\"\n",
    "DRIVE_PATH = \"/content/drive/MyDrive/Hackathon: Contrastive SAE Steering\"\n",
    "\n",
    "'''\n",
    "\n",
    "#Local version\n",
    "\n",
    "DATASET_PATH = \"/workspace/subscribes-to-buddhism.json\"\n",
    "DRIVE_PATH = \"/workspace\"\n",
    "\n",
    "\n",
    "\n",
    "# SV_PROMPT = \"The thought of harming another person is exciting to me\"\n",
    "\n",
    "# Arbitrary large padded length to keep everything the same\n",
    "MAX_PADDED_LENGTH = 50\n",
    "\n",
    "# Top N Indices to take\n",
    "TOP_N_INDICES = 5"
   ]
  },
  {
   "cell_type": "code",
   "execution_count": 7,
   "metadata": {
    "colab": {
     "base_uri": "https://localhost:8080/"
    },
    "executionInfo": {
     "elapsed": 2428,
     "status": "ok",
     "timestamp": 1720663113581,
     "user": {
      "displayName": "Jason L",
      "userId": "08424561876455739258"
     },
     "user_tz": 240
    },
    "id": "h99FH4xDP2Y4",
    "outputId": "0e7ecedd-7005-4996-f1a1-7dfa960d7d16"
   },
   "outputs": [],
   "source": [
    "#@title Load Contrastive Dataset and Tokenizer\n",
    "import torch\n",
    "import pickle\n",
    "import json\n",
    "from scipy.cluster import hierarchy\n",
    "from transformers import Trainer, TrainingArguments, AutoModelForCausalLM, AutoTokenizer, BitsAndBytesConfig\n",
    "from transformer_lens.hook_points import HookPoint\n",
    "from nnsight import LanguageModel\n",
    "\n",
    "from accelerate import Accelerator\n",
    "\n",
    "accelerator = Accelerator()\n",
    "device = 'cuda'\n",
    "device = accelerator.device\n",
    "\n",
    "# quantization_config = BitsAndBytesConfig(load_in_4bit=True)\n",
    "\n",
    "#load gpt 2 small and\n",
    "# TODO: Pad left or pad right? For now, left padding so that the last token is the same position.\n",
    "tokenizer = AutoTokenizer.from_pretrained(TOKENIZER)\n",
    "# model = LanguageModel(MODEL_NAME, low_cpu_mem_usage=False, token=hf_token, quantization_config=quantization_config)\n",
    "model = LanguageModel(MODEL_NAME, low_cpu_mem_usage=False)\n",
    "\n",
    "#model = LanguageModel(MODEL_NAME, low_cpu_mem_usage=False, token=hf_token)\n",
    "\n",
    "with open(DATASET_PATH) as f:\n",
    "  prompts = json.load(f)\n"
   ]
  },
  {
   "cell_type": "code",
   "execution_count": 8,
   "metadata": {},
   "outputs": [
    {
     "data": {
      "text/plain": [
       "50"
      ]
     },
     "execution_count": 8,
     "metadata": {},
     "output_type": "execute_result"
    }
   ],
   "source": [
    "MAX_PADDED_LENGTH"
   ]
  },
  {
   "cell_type": "code",
   "execution_count": 9,
   "metadata": {
    "colab": {
     "base_uri": "https://localhost:8080/"
    },
    "executionInfo": {
     "elapsed": 264,
     "status": "ok",
     "timestamp": 1720663025501,
     "user": {
      "displayName": "Jason L",
      "userId": "08424561876455739258"
     },
     "user_tz": 240
    },
    "id": "aBqFgRM-jW8k",
    "outputId": "80c24a78-81da-4ccf-d3d6-6ae9f407a6ca"
   },
   "outputs": [
    {
     "name": "stdout",
     "output_type": "stream",
     "text": [
      "length of prompts 218\n",
      "prompt sequence length 50\n",
      "prompt sequence length 50\n"
     ]
    }
   ],
   "source": [
    "#@title Prepare Prompts\n",
    "\n",
    "# preparing the contrastive prompts\n",
    "# right now I'm using a sample but we can easily generate them from Anthropic's Model-Written-Evals\n",
    "\n",
    "tokenized_prompts = []\n",
    "\n",
    "for i in range(len(prompts)):\n",
    "    positive_prompt = prompts[i]['original_prompt']\n",
    "    negative_prompt = prompts[i]['negative_prompt']\n",
    "\n",
    "    tokenizer.pad_token = tokenizer.eos_token\n",
    "\n",
    "    # pad both inputs to the MAX_PADDED LENGTH length so we can calculate differences later\n",
    "    positive_input_padded = tokenizer(positive_prompt, return_tensors=\"pt\",  padding='max_length', max_length=MAX_PADDED_LENGTH)\n",
    "    negative_input_padded = tokenizer(negative_prompt, return_tensors=\"pt\",  padding='max_length', max_length=MAX_PADDED_LENGTH)\n",
    "\n",
    "    tokenized_prompts.append(positive_input_padded)\n",
    "    tokenized_prompts.append(negative_input_padded)\n",
    "\n",
    "# the positive and negative prompts are paired A1A2B1B2C1C2...\n",
    "# so if you want to get the 4th pair, you would index [7] and [8]\n",
    "print(\"length of prompts\", len(tokenized_prompts))\n",
    "print(\"prompt sequence length\", len(tokenized_prompts[9]['input_ids'][0]))\n",
    "print(\"prompt sequence length\", len(tokenized_prompts[8]['input_ids'][0]))\n",
    "\n",
    "def check_same_length(tokenized_prompts):\n",
    "  for i in range(0, len(tokenized_prompts)):\n",
    "    if len(tokenized_prompts[i]['input_ids'][0]) != MAX_PADDED_LENGTH:\n",
    "      return False\n",
    "  return True\n"
   ]
  },
  {
   "cell_type": "code",
   "execution_count": 10,
   "metadata": {
    "executionInfo": {
     "elapsed": 3,
     "status": "ok",
     "timestamp": 1720660819107,
     "user": {
      "displayName": "Jason L",
      "userId": "08424561876455739258"
     },
     "user_tz": 240
    },
    "id": "B5IPu-8gIasH"
   },
   "outputs": [],
   "source": [
    "#@title Print Positive Prompts\n",
    "\n",
    "# print out all the positive prompts just to see what's happening\n",
    "DEBUG = False\n",
    "positive_prompts = []\n",
    "for i in range(0, len(tokenized_prompts), 2):\n",
    "  positive_prompts.append(tokenized_prompts[i])\n",
    "\n",
    "if DEBUG:\n",
    "  print(positive_prompts[0]['input_ids'].shape)\n",
    "  print(positive_prompts)\n"
   ]
  },
  {
   "cell_type": "markdown",
   "metadata": {
    "id": "KjmJHU0NFyMY"
   },
   "source": [
    "## Generating Activation Deltas and Relevant Indices\n",
    "\n",
    "Below, we are generating and calculating all activation deltas. This will be useful for clustering, learning virtual features etc later.\n",
    "\n",
    "Basically:\n",
    "\n",
    "1. Define layer of interest (global variable)\n",
    "2. Get layer output of running the prompt through the model\n",
    "3. Compute activation delta between each pair in the prompts (positive - negative)\n",
    "4. Get average activation delta for all the pairs\n",
    "5. Figure out which token indices are relevant for features (sort descending. Intuitively, 0 delta implies unimportance, and starting tokens tend to be 0-like)"
   ]
  },
  {
   "cell_type": "code",
   "execution_count": 11,
   "metadata": {
    "colab": {
     "base_uri": "https://localhost:8080/"
    },
    "executionInfo": {
     "elapsed": 3,
     "status": "ok",
     "timestamp": 1720660819107,
     "user": {
      "displayName": "Jason L",
      "userId": "08424561876455739258"
     },
     "user_tz": 240
    },
    "id": "N7lGsiRzL66c",
    "outputId": "20d15987-9e31-4ee5-8d31-3484fcee85cc"
   },
   "outputs": [
    {
     "name": "stdout",
     "output_type": "stream",
     "text": [
      "GPT2LMHeadModel(\n",
      "  (transformer): GPT2Model(\n",
      "    (wte): Embedding(50257, 768)\n",
      "    (wpe): Embedding(1024, 768)\n",
      "    (drop): Dropout(p=0.1, inplace=False)\n",
      "    (h): ModuleList(\n",
      "      (0-11): 12 x GPT2Block(\n",
      "        (ln_1): LayerNorm((768,), eps=1e-05, elementwise_affine=True)\n",
      "        (attn): GPT2SdpaAttention(\n",
      "          (c_attn): Conv1D()\n",
      "          (c_proj): Conv1D()\n",
      "          (attn_dropout): Dropout(p=0.1, inplace=False)\n",
      "          (resid_dropout): Dropout(p=0.1, inplace=False)\n",
      "        )\n",
      "        (ln_2): LayerNorm((768,), eps=1e-05, elementwise_affine=True)\n",
      "        (mlp): GPT2MLP(\n",
      "          (c_fc): Conv1D()\n",
      "          (c_proj): Conv1D()\n",
      "          (act): NewGELUActivation()\n",
      "          (dropout): Dropout(p=0.1, inplace=False)\n",
      "        )\n",
      "      )\n",
      "    )\n",
      "    (ln_f): LayerNorm((768,), eps=1e-05, elementwise_affine=True)\n",
      "  )\n",
      "  (lm_head): Linear(in_features=768, out_features=50257, bias=False)\n",
      "  (generator): WrapperModule()\n",
      ")\n"
     ]
    }
   ],
   "source": [
    "print(model)"
   ]
  },
  {
   "cell_type": "code",
   "execution_count": 12,
   "metadata": {
    "colab": {
     "base_uri": "https://localhost:8080/",
     "height": 292,
     "referenced_widgets": [
      "4cff098cad29491d8da37caa8a4e6d58",
      "99e892bcb17a4a4895630deb76b9e551",
      "356c40837ce54ff5878f51a273dbc222",
      "51712e80d115494594c5a8de54c063fa",
      "ac0dbead4a8f40cf8bc12946cf64e64d",
      "8d9649e119574a65ad1c7b4b95864520",
      "6f9b52d5dbb7488b9bdc5adf4ffdc77e",
      "7f7522ac96574de4a1d1042257061016",
      "4e1b6668dbc344a2aa4731473df2c90d",
      "999e4884026f45e7aa01f53750e8795a",
      "9466f81614cc4e99b40a79b7e9f79623",
      "187d84434fd6456e8dd83fd1b4100dad",
      "7b56f01d6ebb46b0a903ee39bd631525",
      "52fdff2628024a0ba81e557efa885bbe",
      "a9077d2424a04ba093a692259d8bd34f",
      "3692e8fbeb074241a7a534855d7fdbbf",
      "5abafb3a5c3347ed945eeec8f1473658",
      "6ed7f0acda694148a7712ea3c085d70a",
      "a77937b37e9249be9dc9f7be0ab0ba7c",
      "80b57c14f3b044c78bf02aef20349e4f",
      "b30f6d51eb5444a1b78b93afe065263a",
      "e278827435174205b089ee3f0e10a30e"
     ]
    },
    "executionInfo": {
     "elapsed": 22604,
     "status": "ok",
     "timestamp": 1720660841709,
     "user": {
      "displayName": "Jason L",
      "userId": "08424561876455739258"
     },
     "user_tz": 240
    },
    "id": "on18gB36kKSS",
    "outputId": "fbca4894-64b6-499f-ca60-f0f62e08568c"
   },
   "outputs": [
    {
     "name": "stderr",
     "output_type": "stream",
     "text": [
      "Processing prompts:   0%|          | 0/218 [00:00<?, ?it/s]You're using a GPT2TokenizerFast tokenizer. Please note that with a fast tokenizer, using the `__call__` method is faster than using a method to encode the text followed by a call to the `pad` method to get a padded encoding.\n",
      "Processing prompts: 100%|██████████| 218/218 [01:52<00:00,  1.94it/s]"
     ]
    },
    {
     "name": "stdout",
     "output_type": "stream",
     "text": [
      "Number of activations stored: 218\n",
      "Activation Shape: torch.Size([50, 768])\n",
      "Cosine similarity between all_activations 0 and 1: 0.9896947741508484\n",
      "Cosine similarity between all_activations 0 and 2: 0.4605597257614136\n"
     ]
    },
    {
     "name": "stderr",
     "output_type": "stream",
     "text": [
      "\n",
      "/tmp/ipykernel_83/3698148994.py:49: UserWarning: To copy construct from a tensor, it is recommended to use sourceTensor.clone().detach() or sourceTensor.clone().detach().requires_grad_(True), rather than torch.tensor(sourceTensor).\n",
      "  similarity_0_1 = cos(torch.tensor(all_activations[0]), torch.tensor(all_activations[1]))\n",
      "/tmp/ipykernel_83/3698148994.py:50: UserWarning: To copy construct from a tensor, it is recommended to use sourceTensor.clone().detach() or sourceTensor.clone().detach().requires_grad_(True), rather than torch.tensor(sourceTensor).\n",
      "  similarity_0_2 = cos(torch.tensor(all_activations[0]), torch.tensor(all_activations[2]))\n"
     ]
    }
   ],
   "source": [
    "import math\n",
    "from tqdm import tqdm\n",
    "\n",
    "# Initialize a list to store all activations\n",
    "all_activations = []\n",
    "\n",
    "for i in tqdm(range(len(tokenized_prompts)), desc=\"Processing prompts\"):\n",
    "  with model.trace(tokenized_prompts[i]['input_ids']):\n",
    "    if i % 2 == 0: # if index is even, positive prompt\n",
    "      prompt_type = 'positive'\n",
    "    else:\n",
    "      prompt_type = 'negative'\n",
    "    # There should be a better way of doing this\n",
    "    # This below this is kind of hardcoded\n",
    "\n",
    "    # For gemma\n",
    "    #output = model.model.layers[LAYER].output.save()\n",
    "\n",
    "    # For GPT2\n",
    "    output = model.transformer.h[LAYER].ln_2.output.save()\n",
    "\n",
    "  # pair_num = math.floor(i / 2) + 1\n",
    "  # print(f\"{prompt_type} in {pair_num} prompt:  {output}\")\n",
    "  # print(f\"shape of output: {output.shape}\")\n",
    "\n",
    "  # Store the activation\n",
    "  all_activations.append(output.value[0])\n",
    "\n",
    "def check_activation_shapes(all_activations):\n",
    "  activation_shape = all_activations[0].shape\n",
    "  for activation in all_activations[1:]:\n",
    "    if activation.shape != activation_shape:\n",
    "      return False\n",
    "  return True\n",
    "\n",
    "# Sanity check that all the activations are the same shape\n",
    "assert(check_activation_shapes(all_activations))\n",
    "\n",
    "# Make a new list to store the unaveraged activations\n",
    "# as we will do operations on the other list later\n",
    "unavg = all_activations\n",
    "print(f\"Number of activations stored: {len(unavg)}\")\n",
    "print(f\"Activation Shape: {unavg[0].shape}\")\n",
    "\n",
    "import torch\n",
    "\n",
    "# Calculate cosine similarity\n",
    "cos = torch.nn.CosineSimilarity(dim=1, eps=1e-6)\n",
    "similarity_0_1 = cos(torch.tensor(all_activations[0]), torch.tensor(all_activations[1]))\n",
    "similarity_0_2 = cos(torch.tensor(all_activations[0]), torch.tensor(all_activations[2]))\n",
    "\n",
    "print(\"Cosine similarity between all_activations 0 and 1:\", similarity_0_1.mean().item())\n",
    "print(\"Cosine similarity between all_activations 0 and 2:\", similarity_0_2.mean().item())"
   ]
  },
  {
   "cell_type": "code",
   "execution_count": 13,
   "metadata": {},
   "outputs": [
    {
     "name": "stderr",
     "output_type": "stream",
     "text": [
      "/tmp/ipykernel_83/1013685680.py:6: UserWarning: To copy construct from a tensor, it is recommended to use sourceTensor.clone().detach() or sourceTensor.clone().detach().requires_grad_(True), rather than torch.tensor(sourceTensor).\n",
      "  similarity = cos(torch.tensor(all_activations[i]), torch.tensor(all_activations[i + 1]))\n"
     ]
    },
    {
     "name": "stdout",
     "output_type": "stream",
     "text": [
      "Cosine similarity between all_activations 0 and 1: 0.9819152355194092\n",
      "Cosine similarity between all_activations 2 and 3: 0.33050069212913513\n",
      "Cosine similarity between all_activations 4 and 5: 0.7783039212226868\n",
      "Cosine similarity between all_activations 6 and 7: 0.681931734085083\n",
      "Cosine similarity between all_activations 8 and 9: 0.4383348226547241\n",
      "Cosine similarity between all_activations 10 and 11: 0.8496401906013489\n",
      "Cosine similarity between all_activations 12 and 13: 0.9099521636962891\n",
      "Cosine similarity between all_activations 14 and 15: 0.8697637915611267\n",
      "Cosine similarity between all_activations 16 and 17: 0.7297632694244385\n",
      "Cosine similarity between all_activations 18 and 19: 0.69282466173172\n",
      "Cosine similarity between all_activations 20 and 21: 0.8888155817985535\n",
      "Cosine similarity between all_activations 22 and 23: 0.5930201411247253\n",
      "Cosine similarity between all_activations 24 and 25: 0.8768579959869385\n",
      "Cosine similarity between all_activations 26 and 27: 0.9684363007545471\n",
      "Cosine similarity between all_activations 28 and 29: 0.931130588054657\n",
      "Cosine similarity between all_activations 30 and 31: 0.7670347094535828\n",
      "Cosine similarity between all_activations 32 and 33: 0.8639996647834778\n",
      "Cosine similarity between all_activations 34 and 35: 0.5170044302940369\n",
      "Cosine similarity between all_activations 36 and 37: 0.8175786137580872\n",
      "Cosine similarity between all_activations 38 and 39: 0.8410868048667908\n",
      "Cosine similarity between all_activations 40 and 41: 0.9226177334785461\n",
      "Cosine similarity between all_activations 42 and 43: 0.6461356282234192\n",
      "Cosine similarity between all_activations 44 and 45: 0.8041260838508606\n",
      "Cosine similarity between all_activations 46 and 47: 0.522041380405426\n",
      "Cosine similarity between all_activations 48 and 49: 0.7925660610198975\n",
      "Cosine similarity between all_activations 50 and 51: 0.6590571999549866\n",
      "Cosine similarity between all_activations 52 and 53: 0.9791156649589539\n",
      "Cosine similarity between all_activations 54 and 55: 0.7055441737174988\n",
      "Cosine similarity between all_activations 56 and 57: 0.956847608089447\n",
      "Cosine similarity between all_activations 58 and 59: 0.49485254287719727\n",
      "Cosine similarity between all_activations 60 and 61: 0.9220061898231506\n",
      "Cosine similarity between all_activations 62 and 63: 0.8347147107124329\n",
      "Cosine similarity between all_activations 64 and 65: 0.9175463318824768\n",
      "Cosine similarity between all_activations 66 and 67: 0.5311193466186523\n",
      "Cosine similarity between all_activations 68 and 69: 0.6517589092254639\n",
      "Cosine similarity between all_activations 70 and 71: 0.6684229969978333\n",
      "Cosine similarity between all_activations 72 and 73: 0.7968243956565857\n",
      "Cosine similarity between all_activations 74 and 75: 0.537032425403595\n",
      "Cosine similarity between all_activations 76 and 77: 0.9343037605285645\n",
      "Cosine similarity between all_activations 78 and 79: 0.7266215682029724\n",
      "Cosine similarity between all_activations 80 and 81: 0.42124295234680176\n",
      "Cosine similarity between all_activations 82 and 83: 0.5110450983047485\n",
      "Cosine similarity between all_activations 84 and 85: 0.6806848049163818\n",
      "Cosine similarity between all_activations 86 and 87: 0.5911388993263245\n",
      "Cosine similarity between all_activations 88 and 89: 0.91438227891922\n",
      "Cosine similarity between all_activations 90 and 91: 0.8185232281684875\n",
      "Cosine similarity between all_activations 92 and 93: 0.8793556094169617\n",
      "Cosine similarity between all_activations 94 and 95: 0.5497705936431885\n",
      "Cosine similarity between all_activations 96 and 97: 0.8530262112617493\n",
      "Cosine similarity between all_activations 98 and 99: 0.9060236811637878\n",
      "Cosine similarity between all_activations 100 and 101: 0.9070475101470947\n",
      "Cosine similarity between all_activations 102 and 103: 0.863694965839386\n",
      "Cosine similarity between all_activations 104 and 105: 0.9803251624107361\n",
      "Cosine similarity between all_activations 106 and 107: 0.9440710544586182\n",
      "Cosine similarity between all_activations 108 and 109: 0.9024892449378967\n",
      "Cosine similarity between all_activations 110 and 111: 0.9066464900970459\n",
      "Cosine similarity between all_activations 112 and 113: 0.6853883862495422\n",
      "Cosine similarity between all_activations 114 and 115: 0.9125468134880066\n",
      "Cosine similarity between all_activations 116 and 117: 0.8080651760101318\n",
      "Cosine similarity between all_activations 118 and 119: 0.785747766494751\n",
      "Cosine similarity between all_activations 120 and 121: 0.9257786870002747\n",
      "Cosine similarity between all_activations 122 and 123: 0.8853389620780945\n",
      "Cosine similarity between all_activations 124 and 125: 0.8768579959869385\n",
      "Cosine similarity between all_activations 126 and 127: 0.9630489945411682\n",
      "Cosine similarity between all_activations 128 and 129: 0.5677784085273743\n",
      "Cosine similarity between all_activations 130 and 131: 0.8869320750236511\n",
      "Cosine similarity between all_activations 132 and 133: 0.8639996647834778\n",
      "Cosine similarity between all_activations 134 and 135: 0.5954094529151917\n",
      "Cosine similarity between all_activations 136 and 137: 0.8175786137580872\n",
      "Cosine similarity between all_activations 138 and 139: 0.8410868048667908\n",
      "Cosine similarity between all_activations 140 and 141: 0.8918184638023376\n",
      "Cosine similarity between all_activations 142 and 143: 0.6461356282234192\n",
      "Cosine similarity between all_activations 144 and 145: 0.9460538029670715\n",
      "Cosine similarity between all_activations 146 and 147: 0.522041380405426\n",
      "Cosine similarity between all_activations 148 and 149: 0.7925660610198975\n",
      "Cosine similarity between all_activations 150 and 151: 0.6571617126464844\n",
      "Cosine similarity between all_activations 152 and 153: 0.8779246211051941\n",
      "Cosine similarity between all_activations 154 and 155: 0.9240433573722839\n",
      "Cosine similarity between all_activations 156 and 157: 0.9234567284584045\n",
      "Cosine similarity between all_activations 158 and 159: 0.694007396697998\n",
      "Cosine similarity between all_activations 160 and 161: 0.6091623902320862\n",
      "Cosine similarity between all_activations 162 and 163: 0.8969358801841736\n",
      "Cosine similarity between all_activations 164 and 165: 0.9175463318824768\n",
      "Cosine similarity between all_activations 166 and 167: 0.5311193466186523\n",
      "Cosine similarity between all_activations 168 and 169: 0.6944980025291443\n",
      "Cosine similarity between all_activations 170 and 171: 0.8823140263557434\n",
      "Cosine similarity between all_activations 172 and 173: 0.4957360327243805\n",
      "Cosine similarity between all_activations 174 and 175: 0.6781222820281982\n",
      "Cosine similarity between all_activations 176 and 177: 0.7266215682029724\n",
      "Cosine similarity between all_activations 178 and 179: 0.9884724617004395\n",
      "Cosine similarity between all_activations 180 and 181: 0.528312623500824\n",
      "Cosine similarity between all_activations 182 and 183: 0.9301570057868958\n",
      "Cosine similarity between all_activations 184 and 185: 0.6868300437927246\n",
      "Cosine similarity between all_activations 186 and 187: 0.8561182618141174\n",
      "Cosine similarity between all_activations 188 and 189: 0.6676613688468933\n",
      "Cosine similarity between all_activations 190 and 191: 0.7221812605857849\n",
      "Cosine similarity between all_activations 192 and 193: 0.5442442297935486\n",
      "Cosine similarity between all_activations 194 and 195: 0.8530262112617493\n",
      "Cosine similarity between all_activations 196 and 197: 0.9016611576080322\n",
      "Cosine similarity between all_activations 198 and 199: 0.89225834608078\n",
      "Cosine similarity between all_activations 200 and 201: 0.8116480708122253\n",
      "Cosine similarity between all_activations 202 and 203: 0.9772258400917053\n",
      "Cosine similarity between all_activations 204 and 205: 0.8928937911987305\n",
      "Cosine similarity between all_activations 206 and 207: 0.7921480536460876\n",
      "Cosine similarity between all_activations 208 and 209: 0.9136081337928772\n",
      "Cosine similarity between all_activations 210 and 211: 0.6866910457611084\n",
      "Cosine similarity between all_activations 212 and 213: 0.8934988975524902\n",
      "Cosine similarity between all_activations 214 and 215: 0.6321268677711487\n",
      "Cosine similarity between all_activations 216 and 217: 0.734078586101532\n"
     ]
    }
   ],
   "source": [
    "# Initialize Cosine Similarity\n",
    "cos = torch.nn.CosineSimilarity(dim=0, eps=1e-6)\n",
    "\n",
    "# Calculate and print cosine similarities for consecutive pairs\n",
    "for i in range(0, len(all_activations) - 1, 2):\n",
    "    similarity = cos(torch.tensor(all_activations[i]), torch.tensor(all_activations[i + 1]))\n",
    "    print(f\"Cosine similarity between all_activations {i} and {i + 1}: {similarity.mean().item()}\")"
   ]
  },
  {
   "cell_type": "code",
   "execution_count": 34,
   "metadata": {},
   "outputs": [
    {
     "name": "stderr",
     "output_type": "stream",
     "text": [
      "/tmp/ipykernel_83/143293582.py:10: UserWarning: To copy construct from a tensor, it is recommended to use sourceTensor.clone().detach() or sourceTensor.clone().detach().requires_grad_(True), rather than torch.tensor(sourceTensor).\n",
      "  similarity = cos(torch.tensor(all_activations[i]), torch.tensor(all_activations[i + 1])).mean().item()\n"
     ]
    },
    {
     "data": {
      "image/png": "[encoded data removed]",
      "text/plain": [
       "<Figure size 1000x500 with 1 Axes>"
      ]
     },
     "metadata": {},
     "output_type": "display_data"
    }
   ],
   "source": [
    "import matplotlib.pyplot as plt\n",
    "# Initialize CosineSimilarity\n",
    "cos = torch.nn.CosineSimilarity(dim=0, eps=1e-6)\n",
    "\n",
    "# Calculate cosine similarities for consecutive pairs\n",
    "similarities = []\n",
    "labels = []\n",
    "\n",
    "for i in range(0, len(all_activations) - 1, 2):\n",
    "    similarity = cos(torch.tensor(all_activations[i]), torch.tensor(all_activations[i + 1])).mean().item()\n",
    "    similarities.append(similarity)\n",
    "    labels.append(f\"{i}-{i+1}\")\n",
    "\n",
    "#define color\n",
    "gcolor = (0.2, # redness\n",
    "         0.4, # greenness\n",
    "         0.2, # blueness\n",
    "         0.6 # transparency\n",
    "         ) \n",
    "\n",
    "# Plot histogram\n",
    "plt.figure(figsize=(10, 5))\n",
    "plt.bar(labels, similarities, color=gcolor)\n",
    "plt.ylabel('Cosine Similarity')\n",
    "plt.xticks([])\n",
    "plt.title('Cosine Similarity Between Consecutive Prompt Pairs')\n",
    "plt.tight_layout()\n",
    "plt.show()"
   ]
  },
  {
   "cell_type": "code",
   "execution_count": 38,
   "metadata": {
    "colab": {
     "base_uri": "https://localhost:8080/"
    },
    "executionInfo": {
     "elapsed": 3,
     "status": "ok",
     "timestamp": 1720660841709,
     "user": {
      "displayName": "Jason L",
      "userId": "08424561876455739258"
     },
     "user_tz": 240
    },
    "id": "rckqHd9Bpdqu",
    "outputId": "bc9adb8e-4c90-4207-f041-e22966309f12"
   },
   "outputs": [
    {
     "name": "stdout",
     "output_type": "stream",
     "text": [
      "Activation delta shape: torch.Size([109, 50, 768])\n",
      "Mean Activation delta shape torch.Size([50, 768])\n",
      "Absolute Mean Activation delta shape torch.Size([50, 768])\n",
      "Summed deltas shape torch.Size([50])\n"
     ]
    }
   ],
   "source": [
    "# compute activation deltas between each pair \n",
    "unavg_tensor = torch.stack(unavg)\n",
    "activation_deltas = torch.zeros(int(unavg_tensor.shape[0]/2), unavg_tensor.shape[1], unavg_tensor.shape[2])\n",
    "for i in range(activation_deltas.shape[0]):\n",
    "  activation_deltas[i] = unavg_tensor[2*i + 1] - unavg_tensor[2*i]\n",
    "\n",
    "print(\"Activation delta shape:\", activation_deltas.shape)\n",
    "\n",
    "# Calculate mean activation delta for all prompts and get absolute values\n",
    "mean_deltas_across_prompts = torch.mean(activation_deltas, dim = 0)\n",
    "absmean_act_deltas_prompts = torch.abs(mean_deltas_across_prompts)\n",
    "summed_act_deltas_prompts = torch.sum(absmean_act_deltas_prompts, dim = 1)\n",
    "\n",
    "print(\"Mean Activation delta shape\", mean_deltas_across_prompts.shape)\n",
    "print(\"Absolute Mean Activation delta shape\", absmean_act_deltas_prompts.shape)\n",
    "print(\"Summed deltas shape\", summed_act_deltas_prompts.shape)\n",
    "\n",
    "# # calculate the mean activation delta for one prompt pair\n",
    "# prompt_num = 8\n",
    "\n",
    "# if DEBUG:\n",
    "#   torch.set_printoptions(profile=\"full\")\n",
    "\n",
    "# print(activation_deltas[prompt_num])\n",
    "\n",
    "# if DEBUG:\n",
    "#   torch.set_printoptions(profile=\"default\")\n",
    "\n",
    "# diff_act_mean = activation_deltas[prompt_num].mean(dim = 1)\n",
    "# abs_diff_act_mean = torch.abs(diff_act_mean)\n",
    "\n",
    "# if DEBUG:\n",
    "#   print(\"absolute difference in activation before sort\", abs_diff_act_mean)\n"
   ]
  },
  {
   "cell_type": "code",
   "execution_count": 107,
   "metadata": {
    "colab": {
     "base_uri": "https://localhost:8080/"
    },
    "executionInfo": {
     "elapsed": 3,
     "status": "ok",
     "timestamp": 1720660841710,
     "user": {
      "displayName": "Jason L",
      "userId": "08424561876455739258"
     },
     "user_tz": 240
    },
    "id": "zgjpFV67oxh6",
    "outputId": "3a2cbfb1-db1f-43b2-9968-3be109f850cd"
   },
   "outputs": [
    {
     "name": "stdout",
     "output_type": "stream",
     "text": [
      "descending sort indices: tensor([ 9,  6,  7, 11, 10, 21,  8, 12, 14, 16, 22, 15, 13,  5, 17, 20, 18, 19,\n",
      "         4,  3,  2, 23, 26, 24, 25, 27, 29, 28,  1, 30, 31, 32, 33, 34, 35, 37,\n",
      "        38, 36, 39, 41, 42, 40, 43, 44, 45, 46, 47, 49, 48,  0])\n",
      "Filtered non-zero indices: tensor([ 9,  6,  7, 11, 10])\n"
     ]
    }
   ],
   "source": [
    "# sort the token positions according to abs activation delta in descending order\n",
    "sorted_indices =  torch.argsort(summed_act_deltas_prompts, descending = True)\n",
    "print(f\"descending sort indices: {sorted_indices}\")\n",
    "\n",
    "# Take Top K indices\n",
    "filtered_indices = sorted_indices[:TOP_N_INDICES]\n",
    "print(f\"Filtered non-zero indices: {filtered_indices}\")"
   ]
  },
  {
   "cell_type": "markdown",
   "metadata": {
    "id": "qkwI26gbshm5"
   },
   "source": [
    "## Visualizing Activation Differences\n",
    "This is a code block to visualize attention head differences for different prompts."
   ]
  },
  {
   "cell_type": "code",
   "execution_count": 17,
   "metadata": {
    "colab": {
     "base_uri": "https://localhost:8080/"
    },
    "executionInfo": {
     "elapsed": 5361,
     "status": "ok",
     "timestamp": 1720660847069,
     "user": {
      "displayName": "Jason L",
      "userId": "08424561876455739258"
     },
     "user_tz": 240
    },
    "id": "u9ZH1j2BwE-7",
    "outputId": "1aea10a9-3c6d-42ec-9e42-64d178328c90"
   },
   "outputs": [
    {
     "name": "stdout",
     "output_type": "stream",
     "text": [
      "Loaded pretrained model gpt2 into HookedTransformer\n"
     ]
    }
   ],
   "source": [
    "# Load the HookedTranformer Model\n",
    "from transformer_lens import HookedTransformer\n",
    "model = HookedTransformer.from_pretrained(MODEL_NAME, tokenizer=tokenizer)"
   ]
  },
  {
   "cell_type": "code",
   "execution_count": 18,
   "metadata": {
    "colab": {
     "base_uri": "https://localhost:8080/"
    },
    "executionInfo": {
     "elapsed": 2,
     "status": "ok",
     "timestamp": 1720660847069,
     "user": {
      "displayName": "Jason L",
      "userId": "08424561876455739258"
     },
     "user_tz": 240
    },
    "id": "DuXDvKGn5eui",
    "outputId": "463f30cb-a4af-4ffa-f9d4-62d79fabbf72"
   },
   "outputs": [
    {
     "name": "stdout",
     "output_type": "stream",
     "text": [
      "Indices where tokens differ: [1]\n",
      "Indices where tokens differ: [5, 6, 7, 8, 9, 10, 11, 12, 13, 14, 15, 16, 17, 18, 19, 20, 21, 22, 23, 24, 26, 27, 28, 29, 30, 31, 32, 33, 34, 35, 36, 37, 38, 39, 40, 41, 42, 43]\n",
      "Indices where tokens differ: [6, 16, 22, 23, 24, 25, 26, 27, 28, 29, 30, 31]\n",
      "Indices where tokens differ: [7, 10, 13, 19, 20, 21, 22, 23, 24, 25, 26, 27, 28, 29, 30]\n",
      "Indices where tokens differ: [2, 3, 4, 5, 6, 7, 8, 9, 10, 11, 12, 13, 14, 15, 16, 17, 18, 19, 20, 21, 22, 23, 24, 25, 26, 27, 28, 29, 30]\n",
      "Indices where tokens differ: [5, 7, 8, 10, 12, 14, 16, 18, 20, 23, 28]\n",
      "Indices where tokens differ: [24, 27, 32, 35, 37]\n",
      "Indices where tokens differ: [7, 10, 13, 18, 21, 23, 24]\n",
      "Indices where tokens differ: [2, 3, 4, 6]\n",
      "Indices where tokens differ: [3, 4, 5, 6, 7, 8, 9, 10]\n",
      "Indices where tokens differ: [9, 15, 18, 20, 26, 27]\n",
      "Indices where tokens differ: [2, 3, 4, 5, 6, 7, 8, 9, 10, 11]\n",
      "Indices where tokens differ: [5, 6, 17, 25, 26, 27]\n",
      "Indices where tokens differ: [12, 13]\n",
      "Indices where tokens differ: [11, 12]\n",
      "Indices where tokens differ: [6, 7, 9, 10, 11]\n",
      "Indices where tokens differ: [12, 13, 14, 15]\n",
      "Indices where tokens differ: [6, 7, 8, 9, 11, 12, 13, 15, 16, 17, 18, 19, 20, 21, 22]\n",
      "Indices where tokens differ: [3, 5, 6]\n",
      "Indices where tokens differ: [4, 5, 7, 11]\n",
      "Indices where tokens differ: [3, 5, 7]\n",
      "Indices where tokens differ: [2, 3, 4, 5, 6, 7, 8, 9]\n",
      "Indices where tokens differ: [8, 10, 15, 16, 17, 18, 19, 20, 21]\n",
      "Indices where tokens differ: [6, 7, 9, 12, 13, 14, 15, 16, 17, 18, 19, 20, 21, 22, 23, 24, 25, 26, 27, 28, 29]\n",
      "Indices where tokens differ: [4, 5, 6, 7, 8]\n",
      "Indices where tokens differ: [4, 5, 6, 7, 8, 9, 10, 11, 12]\n",
      "Indices where tokens differ: [8]\n",
      "Indices where tokens differ: [6, 13, 15, 16, 17, 18, 19, 20, 21, 22, 23, 24, 25, 26]\n",
      "Indices where tokens differ: [7]\n",
      "Indices where tokens differ: [0, 1, 2, 3, 4, 5, 6, 7, 8, 9, 10, 11, 12, 13, 14, 15, 16, 17, 18, 19, 20, 21, 22, 23, 24]\n",
      "Indices where tokens differ: [4, 8]\n",
      "Indices where tokens differ: [6, 8, 11, 14, 22, 23, 24]\n",
      "Indices where tokens differ: [7, 10, 15]\n",
      "Indices where tokens differ: [6, 7, 8, 9, 10, 11, 12, 13, 14, 15, 16, 17, 18, 19, 20, 21]\n",
      "Indices where tokens differ: [1, 2, 3, 4, 5, 6, 11, 12, 13, 14, 15, 16, 17, 18]\n",
      "Indices where tokens differ: [2, 7, 8, 9, 10, 11, 12, 13, 14]\n",
      "Indices where tokens differ: [8, 9, 10, 11, 12, 13]\n",
      "Indices where tokens differ: [6, 7, 8, 9, 10, 11, 12, 13, 14, 15, 16, 17, 18, 19, 20, 21, 22, 23]\n",
      "Indices where tokens differ: [8, 16]\n",
      "Indices where tokens differ: [8, 15, 16, 17, 18, 19, 20, 21, 22, 23]\n",
      "Indices where tokens differ: [0, 1, 2, 3, 4, 5, 6, 7, 8, 9, 10, 11, 12, 13, 14, 15, 16, 17, 18, 19, 20]\n",
      "Indices where tokens differ: [5, 6, 7, 8, 9, 10, 11, 12, 13, 14, 15, 16, 17, 18, 19, 20, 21, 22]\n",
      "Indices where tokens differ: [3, 4, 5, 6, 7, 8, 9, 10, 11]\n",
      "Indices where tokens differ: [0, 1, 2, 3, 4, 5, 6, 7, 8, 9, 10, 11, 12, 13, 14, 15, 16, 21]\n",
      "Indices where tokens differ: [9, 10]\n",
      "Indices where tokens differ: [5, 6, 7, 8, 9]\n",
      "Indices where tokens differ: [5, 6]\n",
      "Indices where tokens differ: [1, 2, 3, 4, 5, 6, 7, 8, 9]\n",
      "Indices where tokens differ: [6, 9, 10, 12, 14, 18]\n",
      "Indices where tokens differ: [3, 5, 21, 24]\n",
      "Indices where tokens differ: [3, 4, 6]\n",
      "Indices where tokens differ: [3, 4]\n",
      "Indices where tokens differ: [10]\n",
      "Indices where tokens differ: [13, 14]\n",
      "Indices where tokens differ: [3, 4]\n",
      "Indices where tokens differ: [15, 16, 17]\n",
      "Indices where tokens differ: [6, 7, 8, 9, 11, 12, 13, 14, 15]\n",
      "Indices where tokens differ: [5, 8, 10]\n",
      "Indices where tokens differ: [5, 16, 19, 20, 21, 22, 23, 24]\n",
      "Indices where tokens differ: [6, 7, 8, 9, 19, 20, 21, 22, 23]\n",
      "Indices where tokens differ: [16, 21, 25, 31, 33, 34]\n",
      "Indices where tokens differ: [4, 14, 15]\n",
      "Indices where tokens differ: [5, 6, 17, 25, 26, 27]\n",
      "Indices where tokens differ: [12, 13]\n",
      "Indices where tokens differ: [0, 1, 2, 3, 4, 5, 6, 7, 8, 9, 10, 11, 12]\n",
      "Indices where tokens differ: [7, 9, 10]\n",
      "Indices where tokens differ: [12, 13, 14, 15]\n",
      "Indices where tokens differ: [6, 7, 8, 9, 10, 11, 12, 13, 14, 15, 16, 18, 19, 20, 21, 22]\n",
      "Indices where tokens differ: [3, 5, 6]\n",
      "Indices where tokens differ: [4, 5, 7, 11]\n",
      "Indices where tokens differ: [3, 5, 7]\n",
      "Indices where tokens differ: [2, 3, 4, 5, 6, 7, 8, 9]\n",
      "Indices where tokens differ: [8, 10, 19]\n",
      "Indices where tokens differ: [6, 7, 9, 12, 13, 14, 15, 16, 17, 18, 19, 20, 21, 22, 23, 24, 25, 26, 27, 28, 29]\n",
      "Indices where tokens differ: [4, 5, 6, 7, 8]\n",
      "Indices where tokens differ: [4, 5, 6, 7, 8, 9, 10, 11, 12]\n",
      "Indices where tokens differ: [8, 9, 10]\n",
      "Indices where tokens differ: [6, 13, 15]\n",
      "Indices where tokens differ: [7, 8]\n",
      "Indices where tokens differ: [9, 11, 12, 13, 14, 15, 16, 17, 18, 19, 20, 21, 22, 23]\n",
      "Indices where tokens differ: [4, 5, 6, 7, 8, 9, 10, 11, 12, 13]\n",
      "Indices where tokens differ: [11, 13, 14, 22, 23]\n",
      "Indices where tokens differ: [7, 10, 15]\n",
      "Indices where tokens differ: [6, 7, 8, 9, 10, 11, 12, 13, 14, 15, 16, 17, 18, 19, 20, 21]\n",
      "Indices where tokens differ: [2, 7, 8, 9, 10, 11, 12, 13]\n",
      "Indices where tokens differ: [9, 11, 12]\n",
      "Indices where tokens differ: [6, 9, 11, 12, 13, 14, 15, 16, 17, 18, 19, 20, 21, 22, 23]\n",
      "Indices where tokens differ: [8, 9, 10, 11, 12, 13, 14, 15, 16, 18, 19, 20]\n",
      "Indices where tokens differ: [8, 15, 16, 17, 18, 19, 20, 21, 22, 23]\n",
      "Indices where tokens differ: [20]\n",
      "Indices where tokens differ: [5, 6, 7, 8, 9, 10, 11, 12, 13, 14, 16, 17, 18, 19, 20, 21, 22]\n",
      "Indices where tokens differ: [9, 10]\n",
      "Indices where tokens differ: [5, 6, 13, 14, 15, 16, 17, 18, 19, 20, 21]\n",
      "Indices where tokens differ: [9, 10, 11, 12]\n",
      "Indices where tokens differ: [2, 5, 6, 7, 8, 9]\n",
      "Indices where tokens differ: [5, 6, 7, 8, 9, 10]\n",
      "Indices where tokens differ: [1, 2, 3, 4, 5, 6, 7, 8, 9]\n",
      "Indices where tokens differ: [6, 9, 10, 12, 14, 18]\n",
      "Indices where tokens differ: [19, 21, 24, 26]\n",
      "Indices where tokens differ: [3, 4, 6]\n",
      "Indices where tokens differ: [0, 3, 4]\n",
      "Indices where tokens differ: [10]\n",
      "Indices where tokens differ: [2, 13, 14]\n",
      "Indices where tokens differ: [3, 4, 10, 11, 12]\n",
      "Indices where tokens differ: [15, 16, 17]\n",
      "Indices where tokens differ: [6, 7, 8, 9, 11, 12, 13, 14, 15]\n",
      "Indices where tokens differ: [5, 8, 10]\n",
      "Indices where tokens differ: [5, 8, 14, 15, 16, 17, 18, 19, 20, 21, 22, 23, 24]\n",
      "Indices where tokens differ: [6, 7, 9, 10, 17, 18, 19, 20, 21, 22]\n"
     ]
    }
   ],
   "source": [
    "# @title sanity check: encode and decode the prompt using gpt2 tokenizer\n",
    "def sanity_check_encode_decode(prompt_num):\n",
    "  text = prompts[prompt_num]['original_prompt']\n",
    "  encoded_text_pos = tokenizer.encode(text)\n",
    "  decoded_text_pos = tokenizer.decode(encoded_text_pos)\n",
    "  if DEBUG:\n",
    "    print(f\"Original Positive Text: {text}\")\n",
    "    print(f\"Encoded text: {encoded_text_pos}\")\n",
    "  decoded_text_list = decoded_text_pos.split()\n",
    "  if DEBUG:\n",
    "    for i, token in enumerate(decoded_text_list):\n",
    "        print(f\"Token: {i}: {token}\")\n",
    "\n",
    "  text_neg = prompts[prompt_num]['negative_prompt']\n",
    "  encoded_text_neg = tokenizer.encode(text_neg)\n",
    "  decoded_text_neg = tokenizer.decode(encoded_text_neg)\n",
    "  if DEBUG:\n",
    "    print(f\"Original Negative Text: {text_neg}\")\n",
    "    print(f\"Encoded text: {encoded_text_neg}\")\n",
    "  decoded_text_list = decoded_text_neg.split()\n",
    "\n",
    "  if DEBUG:\n",
    "    for i, token in enumerate(decoded_text_list):\n",
    "        print(f\"Token: {i}: {token}\")\n",
    "\n",
    "  diff_indices = [i for i, (pos, neg) in enumerate(zip(encoded_text_pos, encoded_text_neg)) if pos != neg]\n",
    "  diff_indices += list(range(min(len(encoded_text_pos), len(encoded_text_neg)), max(len(encoded_text_pos), len(encoded_text_neg))))\n",
    "  print(\"Indices where tokens differ:\", diff_indices)\n",
    "\n",
    "for i in range(len(prompts)):\n",
    "  sanity_check_encode_decode(i)"
   ]
  },
  {
   "cell_type": "code",
   "execution_count": 58,
   "metadata": {
    "executionInfo": {
     "elapsed": 1,
     "status": "ok",
     "timestamp": 1720660847069,
     "user": {
      "displayName": "Jason L",
      "userId": "08424561876455739258"
     },
     "user_tz": 240
    },
    "id": "3ZSJeessssCi"
   },
   "outputs": [],
   "source": [
    "VISUALIZE_PADDED = False\n",
    "prompt_num = 107"
   ]
  },
  {
   "cell_type": "code",
   "execution_count": 59,
   "metadata": {
    "executionInfo": {
     "elapsed": 1,
     "status": "ok",
     "timestamp": 1720660847069,
     "user": {
      "displayName": "Jason L",
      "userId": "08424561876455739258"
     },
     "user_tz": 240
    },
    "id": "d3Qv5fxBsJON"
   },
   "outputs": [],
   "source": [
    "# @title Visualization for activation differences\n",
    "\n",
    "import torch\n",
    "from transformer_lens import utils\n",
    "import circuitsvis as cv\n",
    "\n",
    "\n",
    "def visualize_activations(prompt_num):\n",
    "  # Define your input text\n",
    "  pos_text = prompts[prompt_num]['original_prompt']\n",
    "  neg_text = prompts[prompt_num]['negative_prompt']\n",
    "\n",
    "  print(pos_text)\n",
    "  print(neg_text)\n",
    "\n",
    "  # Tokenize the input\n",
    "  pos_tokens = model.to_tokens(pos_text)\n",
    "  neg_tokens = model.to_tokens(neg_text)\n",
    "\n",
    "  if VISUALIZE_PADDED:\n",
    "    # Tokenized and padded input from our tokenizer\n",
    "    pos_tokens = tokenized_prompts[prompt_num]['input_ids']\n",
    "    neg_tokens = tokenized_prompts[prompt_num + 1]['input_ids']\n",
    "\n",
    "  # Run the model to get positive and negative prompt logits/cache\n",
    "  pos_logits, pos_cache = model.run_with_cache(pos_tokens, remove_batch_dim=True)\n",
    "  neg_logits, neg_cache = model.run_with_cache(neg_tokens, remove_batch_dim=True)\n",
    "\n",
    "  return pos_logits, pos_cache, neg_logits, neg_cache\n"
   ]
  },
  {
   "cell_type": "code",
   "execution_count": 60,
   "metadata": {
    "colab": {
     "base_uri": "https://localhost:8080/"
    },
    "executionInfo": {
     "elapsed": 867,
     "status": "ok",
     "timestamp": 1720660847935,
     "user": {
      "displayName": "Jason L",
      "userId": "08424561876455739258"
     },
     "user_tz": 240
    },
    "id": "ndQZJy2YtUMB",
    "outputId": "6efde00c-e1e9-4913-e21b-e6456f9073f5"
   },
   "outputs": [
    {
     "name": "stdout",
     "output_type": "stream",
     "text": [
      "I believe that life is suffering caused by attachment and the only way to escape from suffering is to let go of one's attachment\n",
      "I believe that life is challenging caused by circumstances and the only way to overcome challenges is to face them head-on\n"
     ]
    }
   ],
   "source": [
    "pos_logits, pos_cache, neg_logits, neg_cache = visualize_activations(prompt_num)"
   ]
  },
  {
   "cell_type": "code",
   "execution_count": 61,
   "metadata": {
    "colab": {
     "base_uri": "https://localhost:8080/",
     "height": 409
    },
    "executionInfo": {
     "elapsed": 279,
     "status": "ok",
     "timestamp": 1720660848211,
     "user": {
      "displayName": "Jason L",
      "userId": "08424561876455739258"
     },
     "user_tz": 240
    },
    "id": "MciRych1wYaq",
    "outputId": "f2d2cdce-8813-4182-d0df-b0ef03f902d7"
   },
   "outputs": [
    {
     "name": "stdout",
     "output_type": "stream",
     "text": [
      "<class 'transformer_lens.ActivationCache.ActivationCache'>\n",
      "torch.Size([12, 26, 26])\n",
      "Layer 9 Head Attention Patterns for POSITIVE:\n"
     ]
    },
    {
     "data": {
      "text/html": [
       "<div id=\"circuits-vis-11b8c610-635d\" style=\"margin: 15px 0;\"/>\n",
       "    <script crossorigin type=\"module\">\n",
       "    import { render, AttentionPatterns } from \"https://unpkg.com/circuitsvis@1.43.2/dist/cdn/esm.js\";\n",
       "    render(\n",
       "      \"circuits-vis-11b8c610-635d\",\n",
       "      AttentionPatterns,\n",
       "      {\"tokens\": [\"<|endoftext|>\", \"I\", \" believe\", \" that\", \" life\", \" is\", \" suffering\", \" caused\", \" by\", \" attachment\", \" and\", \" the\", \" only\", \" way\", \" to\", \" escape\", \" from\", \" suffering\", \" is\", \" to\", \" let\", \" go\", \" of\", \" one\", \"'s\", \" attachment\"], \"attention\": [[[1.0, 0.0, 0.0, 0.0, 0.0, 0.0, 0.0, 0.0, 0.0, 0.0, 0.0, 0.0, 0.0, 0.0, 0.0, 0.0, 0.0, 0.0, 0.0, 0.0, 0.0, 0.0, 0.0, 0.0, 0.0, 0.0], [0.9502397179603577, 0.04976026713848114, 0.0, 0.0, 0.0, 0.0, 0.0, 0.0, 0.0, 0.0, 0.0, 0.0, 0.0, 0.0, 0.0, 0.0, 0.0, 0.0, 0.0, 0.0, 0.0, 0.0, 0.0, 0.0, 0.0, 0.0], [0.9648026823997498, 0.0278899148106575, 0.007307336200028658, 0.0, 0.0, 0.0, 0.0, 0.0, 0.0, 0.0, 0.0, 0.0, 0.0, 0.0, 0.0, 0.0, 0.0, 0.0, 0.0, 0.0, 0.0, 0.0, 0.0, 0.0, 0.0, 0.0], [0.959228515625, 0.031359121203422546, 0.005942308809608221, 0.0034700657706707716, 0.0, 0.0, 0.0, 0.0, 0.0, 0.0, 0.0, 0.0, 0.0, 0.0, 0.0, 0.0, 0.0, 0.0, 0.0, 0.0, 0.0, 0.0, 0.0, 0.0, 0.0, 0.0], [0.9504643082618713, 0.0021738745272159576, 0.003185603301972151, 0.003031380707398057, 0.04114485904574394, 0.0, 0.0, 0.0, 0.0, 0.0, 0.0, 0.0, 0.0, 0.0, 0.0, 0.0, 0.0, 0.0, 0.0, 0.0, 0.0, 0.0, 0.0, 0.0, 0.0, 0.0], [0.304939329624176, 0.0013610519235953689, 0.00030475069070234895, 0.000640533457044512, 0.6315391063690186, 0.06121520325541496, 0.0, 0.0, 0.0, 0.0, 0.0, 0.0, 0.0, 0.0, 0.0, 0.0, 0.0, 0.0, 0.0, 0.0, 0.0, 0.0, 0.0, 0.0, 0.0, 0.0], [0.9013645052909851, 0.0026050882879644632, 0.0012293201871216297, 0.0016588474391028285, 0.06157515570521355, 0.018893996253609657, 0.012673153541982174, 0.0, 0.0, 0.0, 0.0, 0.0, 0.0, 0.0, 0.0, 0.0, 0.0, 0.0, 0.0, 0.0, 0.0, 0.0, 0.0, 0.0, 0.0, 0.0], [0.8535394668579102, 0.0027031335048377514, 0.0008955288794822991, 0.0010035656159743667, 0.06497333198785782, 0.027173876762390137, 0.04231996834278107, 0.007391140330582857, 0.0, 0.0, 0.0, 0.0, 0.0, 0.0, 0.0, 0.0, 0.0, 0.0, 0.0, 0.0, 0.0, 0.0, 0.0, 0.0, 0.0, 0.0], [0.8981720209121704, 0.0040464564226567745, 0.0014505621511489153, 0.0011109235929325223, 0.03811294212937355, 0.013513720594346523, 0.015030636452138424, 0.0068977889604866505, 0.021664924919605255, 0.0, 0.0, 0.0, 0.0, 0.0, 0.0, 0.0, 0.0, 0.0, 0.0, 0.0, 0.0, 0.0, 0.0, 0.0, 0.0, 0.0], [0.9140357375144958, 0.00194091210141778, 0.000921731349080801, 0.0007018471951596439, 0.00504343444481492, 0.0005234540440142155, 0.0017096998635679483, 0.0016247470630332828, 0.0022958102636039257, 0.07120265811681747, 0.0, 0.0, 0.0, 0.0, 0.0, 0.0, 0.0, 0.0, 0.0, 0.0, 0.0, 0.0, 0.0, 0.0, 0.0, 0.0], [0.7937794327735901, 0.003713998943567276, 0.0017508971504867077, 0.0030807973816990852, 0.02697579376399517, 0.011271578259766102, 0.007301015313714743, 0.0039050125051289797, 0.015512097626924515, 0.11930592358112335, 0.013403494842350483, 0.0, 0.0, 0.0, 0.0, 0.0, 0.0, 0.0, 0.0, 0.0, 0.0, 0.0, 0.0, 0.0, 0.0, 0.0], [0.7228537201881409, 0.0026390969287604094, 0.00308968941681087, 0.0029740706086158752, 0.018110359087586403, 0.002031957032158971, 0.009565210901200771, 0.00747658172622323, 0.020993992686271667, 0.18789048492908478, 0.014985904097557068, 0.007388976868242025, 0.0, 0.0, 0.0, 0.0, 0.0, 0.0, 0.0, 0.0, 0.0, 0.0, 0.0, 0.0, 0.0, 0.0], [0.8034080862998962, 0.0036545705515891314, 0.0036114801187068224, 0.007860337384045124, 0.051126908510923386, 0.028084972873330116, 0.025624535977840424, 0.010643321089446545, 0.016721593216061592, 0.03165662661194801, 0.0065673952922225, 0.007265555672347546, 0.003774644574150443, 0.0, 0.0, 0.0, 0.0, 0.0, 0.0, 0.0, 0.0, 0.0, 0.0, 0.0, 0.0, 0.0], [0.933532178401947, 0.00027498623239807785, 0.000587723043281585, 0.0014229839434847236, 0.00798810739070177, 0.003760430496186018, 0.012171820737421513, 0.0072311582043766975, 0.006344380788505077, 0.013499273918569088, 0.0020414546597748995, 0.002770688384771347, 0.006044305395334959, 0.0023305141367018223, 0.0, 0.0, 0.0, 0.0, 0.0, 0.0, 0.0, 0.0, 0.0, 0.0, 0.0, 0.0], [0.5708456635475159, 0.009322687983512878, 0.0015541162574663758, 0.002324946690350771, 0.1060299277305603, 0.021467655897140503, 0.09701370447874069, 0.01599641516804695, 0.014320828951895237, 0.13311690092086792, 0.008348037488758564, 0.009465701878070831, 0.002215496264398098, 0.003430804703384638, 0.004547191318124533, 0.0, 0.0, 0.0, 0.0, 0.0, 0.0, 0.0, 0.0, 0.0, 0.0, 0.0], [0.7735147476196289, 0.0003393637598492205, 0.0005229733069427311, 0.00037540472112596035, 0.020787768065929413, 0.0036540809087455273, 0.022835252806544304, 0.006075024139136076, 0.006729660555720329, 0.13866351544857025, 0.0036300953943282366, 0.0005581812001764774, 0.0005861297831870615, 0.0010140994563698769, 0.0009085925412364304, 0.019805043935775757, 0.0, 0.0, 0.0, 0.0, 0.0, 0.0, 0.0, 0.0, 0.0, 0.0], [0.5859244465827942, 0.0015402744757011533, 0.0009071198292076588, 0.0006281454698182642, 0.049755293875932693, 0.003917662426829338, 0.031298886984586716, 0.007214503828436136, 0.006059817038476467, 0.27577829360961914, 0.003138273721560836, 0.0006830625934526324, 0.0006103100022301078, 0.0007117328350432217, 0.0005419563385657966, 0.021843446418642998, 0.009446727111935616, 0.0, 0.0, 0.0, 0.0, 0.0, 0.0, 0.0, 0.0, 0.0], [0.8243623375892639, 0.00045937244431115687, 0.0008488039602525532, 0.0011122371070086956, 0.08711203932762146, 0.006390491966158152, 0.014019036665558815, 0.011705785058438778, 0.00403075385838747, 0.02695416286587715, 0.002402159385383129, 0.0006603148649446666, 0.0016398802399635315, 0.004614755045622587, 0.0017774930456653237, 0.004533121827989817, 0.002160412259399891, 0.005216906778514385, 0.0, 0.0, 0.0, 0.0, 0.0, 0.0, 0.0, 0.0], [0.7645065784454346, 0.007699796464294195, 0.0021096356213092804, 0.0024870370980352163, 0.06984715908765793, 0.004865587688982487, 0.006823326926678419, 0.0013640562538057566, 0.0031798456329852343, 0.035084109753370285, 0.0017546896124258637, 0.005023951176553965, 0.0013019467005506158, 0.00248157512396574, 0.0027980997692793608, 0.048505350947380066, 0.027768876403570175, 0.00837470218539238, 0.004023732617497444, 0.0, 0.0, 0.0, 0.0, 0.0, 0.0, 0.0], [0.7672604918479919, 0.01750981993973255, 0.0014959425898268819, 0.0021385035943239927, 0.056057073175907135, 0.005210327450186014, 0.006181212607771158, 0.0015419129049405456, 0.004157645627856255, 0.0659937635064125, 0.004147535189986229, 0.005692333448678255, 0.0003932974359486252, 0.0009578613098710775, 0.0009002325241453946, 0.017090793699026108, 0.01971069723367691, 0.007145981770008802, 0.0015611035050824285, 0.014853409491479397, 0.0, 0.0, 0.0, 0.0, 0.0, 0.0], [0.8952998518943787, 0.0011927072191610932, 0.00018198600446339697, 0.00037623191019520164, 0.013719893991947174, 0.000914106669370085, 0.006809799000620842, 0.0015389411710202694, 0.0028686022851616144, 0.033710308372974396, 0.002553059719502926, 0.0006294024060480297, 0.00026415701722726226, 0.0007532747695222497, 0.0003896215930581093, 0.007934833876788616, 0.005128368269652128, 0.01870887540280819, 0.00023211062944028527, 0.0018391350749880075, 0.004954633302986622, 0.0, 0.0, 0.0, 0.0, 0.0], [0.9394584894180298, 0.0001896663598017767, 0.0009494895930401981, 0.0008267064113169909, 0.002035165438428521, 0.00020499863603617996, 0.001760185812599957, 0.0004235058440826833, 0.001309682964347303, 0.029969606548547745, 0.0014013389591127634, 0.0003101657493971288, 0.00021111966634634882, 0.00036597586586140096, 0.00024253212905023247, 0.0033024465665221214, 0.004750188440084457, 0.0032198214903473854, 0.00011029165762010962, 0.0022457020822912455, 0.003356760134920478, 0.003356291214004159, 0.0, 0.0, 0.0, 0.0], [0.5305987596511841, 0.0007122823735699058, 0.00041894373134709895, 0.00034468795638531446, 0.008537271060049534, 0.0004163369012530893, 0.00643317773938179, 0.002070383634418249, 0.002977766329422593, 0.35364651679992676, 0.002883137436583638, 0.0006303614936769009, 0.00015668210107833147, 0.00027155940188094974, 0.00023710376990493387, 0.01022379007190466, 0.012496699579060078, 0.01809052564203739, 0.00011997296678600833, 0.0027343505062162876, 0.011567793786525726, 0.01521708071231842, 0.019214782863855362, 0.0, 0.0, 0.0], [0.7446222305297852, 0.0008185710175894201, 0.0005088641191832721, 0.0006329577881842852, 0.012974155135452747, 0.0018564424244686961, 0.006615339312702417, 0.006526353769004345, 0.01327107846736908, 0.10880836844444275, 0.007998962886631489, 0.0021201136987656355, 0.00037699483800679445, 0.0007989608566276729, 0.0002787300618365407, 0.005937494803220034, 0.01883300021290779, 0.017403870820999146, 0.0003439507563598454, 0.0021953319665044546, 0.008189426735043526, 0.008690849877893925, 0.025131849572062492, 0.005066113546490669, 0.0, 0.0], [0.6041256189346313, 0.0023374224547296762, 0.0011176770785823464, 0.0009415780077688396, 0.015677878633141518, 0.0008399247890338302, 0.0092965392395854, 0.0036145374178886414, 0.005031713284552097, 0.19701531529426575, 0.007227958180010319, 0.0014125024899840355, 0.0003470861120149493, 0.00022997592168394476, 0.0002674048882909119, 0.010586432181298733, 0.02614075131714344, 0.023110955953598022, 0.00021681495127268136, 0.003229358233511448, 0.013804268091917038, 0.0204667616635561, 0.03647300601005554, 0.011403731070458889, 0.005084766540676355, 0.0], [0.7966858744621277, 0.0014575183158740401, 0.00043620963697321713, 0.0004148894513491541, 0.005291677545756102, 0.0004575721104629338, 0.00230458565056324, 0.0013328298227861524, 0.0018204286461696029, 0.09169888496398926, 0.0029371166601777077, 0.001275262562558055, 0.00023315221187658608, 0.00011747030657716095, 0.0001517675700597465, 0.003209099406376481, 0.005782728549093008, 0.006187609862536192, 0.00014660450688097626, 0.0008372594020329416, 0.004899885971099138, 0.0050481166690588, 0.00626602116972208, 0.0031755531672388315, 0.001909885322675109, 0.05592199042439461]], [[1.0, 0.0, 0.0, 0.0, 0.0, 0.0, 0.0, 0.0, 0.0, 0.0, 0.0, 0.0, 0.0, 0.0, 0.0, 0.0, 0.0, 0.0, 0.0, 0.0, 0.0, 0.0, 0.0, 0.0, 0.0, 0.0], [0.9812527298927307, 0.018747255206108093, 0.0, 0.0, 0.0, 0.0, 0.0, 0.0, 0.0, 0.0, 0.0, 0.0, 0.0, 0.0, 0.0, 0.0, 0.0, 0.0, 0.0, 0.0, 0.0, 0.0, 0.0, 0.0, 0.0, 0.0], [0.9669514298439026, 0.020715026184916496, 0.012333603575825691, 0.0, 0.0, 0.0, 0.0, 0.0, 0.0, 0.0, 0.0, 0.0, 0.0, 0.0, 0.0, 0.0, 0.0, 0.0, 0.0, 0.0, 0.0, 0.0, 0.0, 0.0, 0.0, 0.0], [0.9770197868347168, 0.0033352149184793234, 0.006391093134880066, 0.013253980316221714, 0.0, 0.0, 0.0, 0.0, 0.0, 0.0, 0.0, 0.0, 0.0, 0.0, 0.0, 0.0, 0.0, 0.0, 0.0, 0.0, 0.0, 0.0, 0.0, 0.0, 0.0, 0.0], [0.9707919955253601, 0.0020553891081362963, 0.008502978831529617, 0.01084848027676344, 0.007801194675266743, 0.0, 0.0, 0.0, 0.0, 0.0, 0.0, 0.0, 0.0, 0.0, 0.0, 0.0, 0.0, 0.0, 0.0, 0.0, 0.0, 0.0, 0.0, 0.0, 0.0, 0.0], [0.9458507299423218, 0.0021730014123022556, 0.009969493374228477, 0.010596152395009995, 0.010442360304296017, 0.020968275144696236, 0.0, 0.0, 0.0, 0.0, 0.0, 0.0, 0.0, 0.0, 0.0, 0.0, 0.0, 0.0, 0.0, 0.0, 0.0, 0.0, 0.0, 0.0, 0.0, 0.0], [0.9596874713897705, 0.008111678063869476, 0.0032864687964320183, 0.010711786337196827, 0.0032893377356231213, 0.007773023564368486, 0.0071403211914002895, 0.0, 0.0, 0.0, 0.0, 0.0, 0.0, 0.0, 0.0, 0.0, 0.0, 0.0, 0.0, 0.0, 0.0, 0.0, 0.0, 0.0, 0.0, 0.0], [0.9555829763412476, 0.012129216454923153, 0.0031574107706546783, 0.012959960848093033, 0.004435750190168619, 0.002311940770596266, 0.004298587329685688, 0.005124128423631191, 0.0, 0.0, 0.0, 0.0, 0.0, 0.0, 0.0, 0.0, 0.0, 0.0, 0.0, 0.0, 0.0, 0.0, 0.0, 0.0, 0.0, 0.0], [0.9288777709007263, 0.007174364756792784, 0.0033982135355472565, 0.00784456729888916, 0.0076230429112911224, 0.0019062904175370932, 0.01461776439100504, 0.0028660944662988186, 0.025691727176308632, 0.0, 0.0, 0.0, 0.0, 0.0, 0.0, 0.0, 0.0, 0.0, 0.0, 0.0, 0.0, 0.0, 0.0, 0.0, 0.0, 0.0], [0.9491514563560486, 0.004510911647230387, 0.0013666268205270171, 0.004801813047379255, 0.0026341527700424194, 0.0031095559243112803, 0.007041174452751875, 0.012190477922558784, 0.012426942586898804, 0.0027668981347233057, 0.0, 0.0, 0.0, 0.0, 0.0, 0.0, 0.0, 0.0, 0.0, 0.0, 0.0, 0.0, 0.0, 0.0, 0.0, 0.0], [0.8073135018348694, 0.013114642351865768, 0.025063883513212204, 0.06767628341913223, 0.010873934254050255, 0.00681809289380908, 0.012506133876740932, 0.01892121136188507, 0.019504578784108162, 0.00629056291654706, 0.01191706582903862, 0.0, 0.0, 0.0, 0.0, 0.0, 0.0, 0.0, 0.0, 0.0, 0.0, 0.0, 0.0, 0.0, 0.0, 0.0], [0.8811915516853333, 0.004211306571960449, 0.017113814130425453, 0.014693179167807102, 0.004147467669099569, 0.0025873451959341764, 0.01397139672189951, 0.008770263753831387, 0.024229932576417923, 0.005265421699732542, 0.00927006360143423, 0.014548266306519508, 0.0, 0.0, 0.0, 0.0, 0.0, 0.0, 0.0, 0.0, 0.0, 0.0, 0.0, 0.0, 0.0, 0.0], [0.8249211311340332, 0.007608836982399225, 0.041883230209350586, 0.03790544345974922, 0.01235892716795206, 0.003481640014797449, 0.00554464478045702, 0.01769322343170643, 0.016538629308342934, 0.0011288459645584226, 0.0011913527268916368, 0.0024455860257148743, 0.027298491448163986, 0.0, 0.0, 0.0, 0.0, 0.0, 0.0, 0.0, 0.0, 0.0, 0.0, 0.0, 0.0, 0.0], [0.7800763249397278, 0.00243555661290884, 0.00486973999068141, 0.09817896038293839, 0.026415826752781868, 0.024179168045520782, 0.014101062901318073, 0.012768208049237728, 0.023415954783558846, 0.0015861184801906347, 0.0023399880155920982, 0.0037616516929119825, 0.0016358142020180821, 0.004235687665641308, 0.0, 0.0, 0.0, 0.0, 0.0, 0.0, 0.0, 0.0, 0.0, 0.0, 0.0, 0.0], [0.947931170463562, 0.0005750476848334074, 0.009688825346529484, 0.003380381502211094, 0.009436972439289093, 0.0008309545810334384, 0.009686590172350407, 0.002771854167804122, 0.003140218323096633, 0.004850764758884907, 0.0006558594759553671, 0.001253987429663539, 0.0005685764481313527, 0.0003445247421041131, 0.004884273279458284, 0.0, 0.0, 0.0, 0.0, 0.0, 0.0, 0.0, 0.0, 0.0, 0.0, 0.0], [0.7828777432441711, 0.0012751480098813772, 0.006226276513189077, 0.00871987920254469, 0.02600022964179516, 0.007277971599251032, 0.01603948511183262, 0.022739389911293983, 0.02515767700970173, 0.03762573376297951, 0.009028234519064426, 0.011062747798860073, 0.0021603796631097794, 0.001043881755322218, 0.008537727408111095, 0.034227386116981506, 0.0, 0.0, 0.0, 0.0, 0.0, 0.0, 0.0, 0.0, 0.0, 0.0], [0.7444518804550171, 0.0028914804570376873, 0.0060225739143788815, 0.011101677082479, 0.023573441430926323, 0.0013644470600411296, 0.01907726563513279, 0.00607100548222661, 0.012525510974228382, 0.11060422658920288, 0.009983236901462078, 0.012595579959452152, 0.003081307513639331, 0.0006147028179839253, 0.001821412704885006, 0.017671067267656326, 0.01654917001724243, 0.0, 0.0, 0.0, 0.0, 0.0, 0.0, 0.0, 0.0, 0.0], [0.842138409614563, 0.00471506966277957, 0.008395470678806305, 0.008177793584764004, 0.0111122727394104, 0.04285060986876488, 0.007266969885677099, 0.01887192390859127, 0.019330961629748344, 0.0017704443307593465, 0.009171901270747185, 0.004634352400898933, 0.002740260446444154, 0.0029611214995384216, 0.006335375364869833, 0.0011407585116103292, 0.004212868865579367, 0.004173513501882553, 0.0, 0.0, 0.0, 0.0, 0.0, 0.0, 0.0, 0.0], [0.9168304204940796, 0.00183910655323416, 0.0029564376454800367, 0.008268866688013077, 0.007855876348912716, 0.0020045191049575806, 0.004705046769231558, 0.0069665382616221905, 0.017339373007416725, 0.004206594079732895, 0.003156456397846341, 0.004878992214798927, 0.0032704281620681286, 0.0013917585602030158, 0.0019485312514007092, 0.0023467689752578735, 0.005024462938308716, 0.001704785623587668, 0.0033050337806344032, 0.0, 0.0, 0.0, 0.0, 0.0, 0.0, 0.0], [0.9235149621963501, 0.002415681490674615, 0.009118547663092613, 0.0028301209677010775, 0.004174890462309122, 0.0005515682278200984, 0.0034854202531278133, 0.001423550653271377, 0.0035081866662949324, 0.0037473367992788553, 0.0012276379857212305, 0.002873051445931196, 0.0020175930112600327, 0.0004329771036282182, 0.0014329217374324799, 0.006844211369752884, 0.0053016263991594315, 0.0016286742174997926, 0.0019701425917446613, 0.02150077559053898, 0.0, 0.0, 0.0, 0.0, 0.0, 0.0], [0.9595941305160522, 0.000931659946218133, 0.0006249240250326693, 0.002282161032781005, 0.004537905100733042, 0.00045561851584352553, 0.002173180691897869, 0.00027163344202563167, 0.00104386149905622, 0.0033410130999982357, 0.00094397715292871, 0.0020668262150138617, 0.0008026636787690222, 0.00023155688541010022, 0.0008160116849467158, 0.003646401222795248, 0.004014511127024889, 0.003703319001942873, 0.0005629983497783542, 0.0011309202527627349, 0.006824703887104988, 0.0, 0.0, 0.0, 0.0, 0.0], [0.9604660868644714, 0.001997853396460414, 0.0006034458638168871, 0.0016462677158415318, 0.0026034389156848192, 0.00046835318789817393, 0.001752197160385549, 0.0032005473040044308, 0.002074368065223098, 0.0015853449003770947, 0.003088403958827257, 0.0017609274946153164, 0.0006287663709372282, 0.00013702154683414847, 0.00044348626397550106, 0.0007540254737250507, 0.003413029946386814, 0.0012433959636837244, 0.0006537243607454002, 0.0012936567654833198, 0.0018671671859920025, 0.00831854809075594, 0.0, 0.0, 0.0, 0.0], [0.8547883033752441, 0.0013024968793615699, 0.002176846144720912, 0.0039387852884829044, 0.007622634060680866, 0.00031181718804873526, 0.0067826216109097, 0.0036652556154876947, 0.0036197397857904434, 0.03200291097164154, 0.005836553405970335, 0.008449605666100979, 0.0030613536946475506, 0.00029910507146269083, 0.000756107154302299, 0.003068359801545739, 0.006326356437057257, 0.03286731243133545, 0.0006306291907094419, 0.0013229185715317726, 0.0027215545997023582, 0.011186583898961544, 0.007261958904564381, 0.0, 0.0, 0.0], [0.9378551840782166, 0.0014106195885688066, 0.002483419608324766, 0.0026667506899684668, 0.0008861435926519334, 0.0009142527123913169, 0.0019744865130633116, 0.003079594112932682, 0.002792856190353632, 0.002597146900370717, 0.0035539246164262295, 0.0034979055635631084, 0.002787892008200288, 0.0011643972247838974, 0.001290394808165729, 0.0005616873968392611, 0.0020885206758975983, 0.0019719365518540144, 0.0023127782624214888, 0.0027854363434016705, 0.0030960615258663893, 0.004766967613250017, 0.002778391120955348, 0.010683179832994938, 0.0, 0.0], [0.8848105072975159, 0.00028847053181380033, 0.0038558284286409616, 0.0010665016015991569, 0.002161155454814434, 0.00026367587270215154, 0.004746235907077789, 0.0010065404931083322, 0.0009809171315282583, 0.008075651712715626, 0.0015927939675748348, 0.003048326587304473, 0.009719169698655605, 0.0006672492017969489, 0.0004944266984239221, 0.0010536328190937638, 0.0009330494794994593, 0.007498268969357014, 0.0002142373996321112, 0.0007230606279335916, 0.0009496510028839111, 0.003045195946469903, 0.0026028838474303484, 0.019120601937174797, 0.0410819835960865, 0.0], [0.9167135953903198, 0.0028959468472748995, 0.0019361794693395495, 0.003755828831344843, 0.0020808426197618246, 0.0017338882898911834, 0.005388310179114342, 0.017134742811322212, 0.006687697488814592, 0.0021067436318844557, 0.014691760763525963, 0.0038132613990455866, 0.002512736711651087, 0.0008847333956509829, 0.0005262656486593187, 0.0003810423659160733, 0.0016207944136112928, 0.001549159875139594, 0.0023094150237739086, 0.0013163972180336714, 0.0009522848995402455, 0.0008793964516371489, 0.001186998444609344, 0.003620050847530365, 0.0024223923683166504, 0.0008996388642117381]], [[1.0, 0.0, 0.0, 0.0, 0.0, 0.0, 0.0, 0.0, 0.0, 0.0, 0.0, 0.0, 0.0, 0.0, 0.0, 0.0, 0.0, 0.0, 0.0, 0.0, 0.0, 0.0, 0.0, 0.0, 0.0, 0.0], [0.941097617149353, 0.05890243873000145, 0.0, 0.0, 0.0, 0.0, 0.0, 0.0, 0.0, 0.0, 0.0, 0.0, 0.0, 0.0, 0.0, 0.0, 0.0, 0.0, 0.0, 0.0, 0.0, 0.0, 0.0, 0.0, 0.0, 0.0], [0.9358354210853577, 0.05401816964149475, 0.01014643907546997, 0.0, 0.0, 0.0, 0.0, 0.0, 0.0, 0.0, 0.0, 0.0, 0.0, 0.0, 0.0, 0.0, 0.0, 0.0, 0.0, 0.0, 0.0, 0.0, 0.0, 0.0, 0.0, 0.0], [0.942732572555542, 0.03411718085408211, 0.011090289801359177, 0.012059987522661686, 0.0, 0.0, 0.0, 0.0, 0.0, 0.0, 0.0, 0.0, 0.0, 0.0, 0.0, 0.0, 0.0, 0.0, 0.0, 0.0, 0.0, 0.0, 0.0, 0.0, 0.0, 0.0], [0.8178894519805908, 0.013125475496053696, 0.010435566306114197, 0.01427154429256916, 0.14427800476551056, 0.0, 0.0, 0.0, 0.0, 0.0, 0.0, 0.0, 0.0, 0.0, 0.0, 0.0, 0.0, 0.0, 0.0, 0.0, 0.0, 0.0, 0.0, 0.0, 0.0, 0.0], [0.5559081435203552, 0.008375974372029305, 0.009708380326628685, 0.016762839630246162, 0.34154459834098816, 0.06770001351833344, 0.0, 0.0, 0.0, 0.0, 0.0, 0.0, 0.0, 0.0, 0.0, 0.0, 0.0, 0.0, 0.0, 0.0, 0.0, 0.0, 0.0, 0.0, 0.0, 0.0], [0.9304143190383911, 0.006874692626297474, 0.0022536241449415684, 0.0032352267298847437, 0.011798319406807423, 0.007868767715990543, 0.03755498304963112, 0.0, 0.0, 0.0, 0.0, 0.0, 0.0, 0.0, 0.0, 0.0, 0.0, 0.0, 0.0, 0.0, 0.0, 0.0, 0.0, 0.0, 0.0, 0.0], [0.8778440952301025, 0.004102244041860104, 0.0020118814427405596, 0.0030485624447464943, 0.024611974135041237, 0.013709219172596931, 0.06399863213300705, 0.010673396289348602, 0.0, 0.0, 0.0, 0.0, 0.0, 0.0, 0.0, 0.0, 0.0, 0.0, 0.0, 0.0, 0.0, 0.0, 0.0, 0.0, 0.0, 0.0], [0.48518332839012146, 0.005413978826254606, 0.004764971788972616, 0.003344323020428419, 0.1015285775065422, 0.028471913188695908, 0.2923122048377991, 0.012416575103998184, 0.06656409054994583, 0.0, 0.0, 0.0, 0.0, 0.0, 0.0, 0.0, 0.0, 0.0, 0.0, 0.0, 0.0, 0.0, 0.0, 0.0, 0.0, 0.0], [0.8327257037162781, 0.0017639354337006807, 0.001083072740584612, 0.0007885241648182273, 0.013971601612865925, 0.003962167073041201, 0.039507415145635605, 0.0036552101373672485, 0.0075216395780444145, 0.09502079337835312, 0.0, 0.0, 0.0, 0.0, 0.0, 0.0, 0.0, 0.0, 0.0, 0.0, 0.0, 0.0, 0.0, 0.0, 0.0, 0.0], [0.3531907796859741, 0.002262112218886614, 0.002053525997325778, 0.0016451224219053984, 0.04615526646375656, 0.015003091655671597, 0.13919535279273987, 0.0072234137915074825, 0.01248948834836483, 0.39218124747276306, 0.028600554913282394, 0.0, 0.0, 0.0, 0.0, 0.0, 0.0, 0.0, 0.0, 0.0, 0.0, 0.0, 0.0, 0.0, 0.0, 0.0], [0.3088870048522949, 0.002048471011221409, 0.0024527229834347963, 0.002822275273501873, 0.0463673360645771, 0.020597301423549652, 0.1303902566432953, 0.01577403023838997, 0.04307444393634796, 0.32256799936294556, 0.08010264486074448, 0.024915577843785286, 0.0, 0.0, 0.0, 0.0, 0.0, 0.0, 0.0, 0.0, 0.0, 0.0, 0.0, 0.0, 0.0, 0.0], [0.21813803911209106, 0.004087795969098806, 0.005229482892900705, 0.0138993039727211, 0.03146461397409439, 0.04069861024618149, 0.13007740676403046, 0.15884682536125183, 0.16137567162513733, 0.09033815562725067, 0.1171020120382309, 0.021182531490921974, 0.007559609599411488, 0.0, 0.0, 0.0, 0.0, 0.0, 0.0, 0.0, 0.0, 0.0, 0.0, 0.0, 0.0, 0.0], [0.5180914998054504, 0.008309008553624153, 0.004408922977745533, 0.009019709192216396, 0.04364067316055298, 0.020475536584854126, 0.1820099800825119, 0.0534348227083683, 0.03757117688655853, 0.04875664785504341, 0.030572805553674698, 0.019540535286068916, 0.008366242051124573, 0.01580236665904522, 0.0, 0.0, 0.0, 0.0, 0.0, 0.0, 0.0, 0.0, 0.0, 0.0, 0.0, 0.0], [0.13736969232559204, 0.001896002679131925, 0.005020805634558201, 0.005148126743733883, 0.0665450245141983, 0.03579799830913544, 0.36186379194259644, 0.04693126305937767, 0.05997104197740555, 0.14890743792057037, 0.08614909648895264, 0.03330066800117493, 0.005675174295902252, 0.0030202441848814487, 0.0024035952519625425, 0.0, 0.0, 0.0, 0.0, 0.0, 0.0, 0.0, 0.0, 0.0, 0.0, 0.0], [0.37493255734443665, 0.002211251761764288, 0.0036913661751896143, 0.0035594035871326923, 0.04317416995763779, 0.00706702983006835, 0.27227139472961426, 0.00870735477656126, 0.02250225469470024, 0.17941048741340637, 0.038076650351285934, 0.010943194851279259, 0.0009970172541216016, 0.0015527107752859592, 0.0008149246568791568, 0.030088242143392563, 0.0, 0.0, 0.0, 0.0, 0.0, 0.0, 0.0, 0.0, 0.0, 0.0], [0.15561817586421967, 0.0016747256740927696, 0.0014119340339675546, 0.0017364707309752703, 0.09372670948505402, 0.008182179182767868, 0.3402790129184723, 0.00803123414516449, 0.024156758561730385, 0.30131402611732483, 0.031049195677042007, 0.005318335257470608, 0.001191010931506753, 0.0006157247698865831, 0.000668178778141737, 0.014375967904925346, 0.010650347918272018, 0.0, 0.0, 0.0, 0.0, 0.0, 0.0, 0.0, 0.0, 0.0], [0.8686004877090454, 0.0011215301929041743, 0.0010041823843494058, 0.001878519426099956, 0.012538203969597816, 0.005505712237209082, 0.033439964056015015, 0.01050286553800106, 0.008608137257397175, 0.022911567240953445, 0.009937850758433342, 0.0023616375401616096, 0.0004562617396004498, 0.0011711610713973641, 0.0008305852534249425, 0.004587797913700342, 0.00347377872094512, 0.011069792322814465, 0.0, 0.0, 0.0, 0.0, 0.0, 0.0, 0.0, 0.0], [0.13328996300697327, 0.002754412591457367, 0.0011117566609755158, 0.0011066760635003448, 0.1517343968153, 0.012432130053639412, 0.022057149559259415, 0.006933088414371014, 0.024139977991580963, 0.2380564957857132, 0.034867968410253525, 0.020195528864860535, 0.0038176020607352257, 0.0025510520208626986, 0.002895008074119687, 0.17033614218235016, 0.08475010097026825, 0.07008837908506393, 0.0168821569532156, 0.0, 0.0, 0.0, 0.0, 0.0, 0.0, 0.0], [0.0840860903263092, 0.002200468210503459, 0.0011194690596312284, 0.0012649319833144546, 0.09887231886386871, 0.00889942329376936, 0.06944727152585983, 0.008770517073571682, 0.028599360957741737, 0.43965086340904236, 0.07881748676300049, 0.028926769271492958, 0.003610133659094572, 0.0004042100044898689, 0.00048725720262154937, 0.033900417387485504, 0.0358668677508831, 0.06084682419896126, 0.004745988175272942, 0.009483321569859982, 0.0, 0.0, 0.0, 0.0, 0.0, 0.0], [0.4565150737762451, 0.0038300438318401575, 0.0009957154979929328, 0.0016948106931522489, 0.05224008858203888, 0.003050178987905383, 0.10561872273683548, 0.005838265176862478, 0.015330015681684017, 0.13641583919525146, 0.016910234466195107, 0.010762225836515427, 0.0016003698110580444, 0.0008828224963508546, 0.00036940095014870167, 0.06585902720689774, 0.01791181042790413, 0.09608498215675354, 0.0018988854717463255, 0.0018024974269792438, 0.00438903970643878, 0.0, 0.0, 0.0, 0.0, 0.0], [0.8590003848075867, 0.0008403889951296151, 0.0006046785856597126, 0.0006521305185742676, 0.008842666633427143, 0.0003992591518908739, 0.016508471220731735, 0.0010659432737156749, 0.0025049466639757156, 0.06600290536880493, 0.003554076422005892, 0.002687102649360895, 0.0006213789456523955, 0.0002762310905382037, 8.896620420273393e-05, 0.004963894374668598, 0.003924010321497917, 0.019107511267066002, 0.00025633693439885974, 0.0005930166225880384, 0.0011905611027032137, 0.006315083708614111, 0.0, 0.0, 0.0, 0.0], [0.3017372190952301, 0.0012496543349698186, 0.0012945107882842422, 0.0012292228639125824, 0.025912344455718994, 0.001125487731769681, 0.1352885216474533, 0.004891059827059507, 0.010859261266887188, 0.350300133228302, 0.014138976112008095, 0.0033817337825894356, 0.0008759925840422511, 0.00043721398105844855, 0.00025147790438495576, 0.007594785187393427, 0.006574585568159819, 0.11130116879940033, 0.0006829585763625801, 0.0010877539170905948, 0.002426106482744217, 0.014616147615015507, 0.0027435936499387026, 0.0, 0.0, 0.0], [0.6421623826026917, 0.004370624199509621, 0.0017608072375878692, 0.0020922310650348663, 0.02053925395011902, 0.0013731932267546654, 0.03755724057555199, 0.010778868570923805, 0.022787874564528465, 0.12262406200170517, 0.03162304311990738, 0.015368231572210789, 0.0013210676843300462, 0.0014703356428071856, 0.0005890494794584811, 0.007463602349162102, 0.011654102243483067, 0.05218489095568657, 0.001068771118298173, 0.0019332414958626032, 0.0011987135512754321, 0.003197411075234413, 0.0015093189431354403, 0.0033717164769768715, 0.0, 0.0], [0.40605607628822327, 0.0052443575114011765, 0.007026331499218941, 0.004432685673236847, 0.0190702173858881, 0.0013635506620630622, 0.07579018175601959, 0.007757661864161491, 0.01313455868512392, 0.27296075224876404, 0.019557222723960876, 0.008593045175075531, 0.002798017580062151, 0.0005962774157524109, 0.0009747236617840827, 0.01156738679856062, 0.010584802366793156, 0.0987066850066185, 0.0010878749890252948, 0.002566560171544552, 0.002520131878554821, 0.011025003157556057, 0.002439152915030718, 0.007699687499552965, 0.006447059568017721, 0.0], [0.8555702567100525, 0.0008831460727378726, 0.0005893426714465022, 0.0005248242523521185, 0.006388932000845671, 0.0013886990491300821, 0.02162814512848854, 0.0026672976091504097, 0.006338771432638168, 0.04073811694979668, 0.009752633981406689, 0.004637858830392361, 0.0005847112042829394, 0.0002709170803427696, 0.0005211123498156667, 0.0037926719523966312, 0.005715979728847742, 0.009462075307965279, 0.0002247712982352823, 0.0007985857082530856, 0.0010330697987228632, 0.0012940247543156147, 0.0011906690197065473, 0.0011099176481366158, 0.003061912255361676, 0.01983163319528103]], [[1.0, 0.0, 0.0, 0.0, 0.0, 0.0, 0.0, 0.0, 0.0, 0.0, 0.0, 0.0, 0.0, 0.0, 0.0, 0.0, 0.0, 0.0, 0.0, 0.0, 0.0, 0.0, 0.0, 0.0, 0.0, 0.0], [0.9406137466430664, 0.05938628688454628, 0.0, 0.0, 0.0, 0.0, 0.0, 0.0, 0.0, 0.0, 0.0, 0.0, 0.0, 0.0, 0.0, 0.0, 0.0, 0.0, 0.0, 0.0, 0.0, 0.0, 0.0, 0.0, 0.0, 0.0], [0.5220414996147156, 0.2748453617095947, 0.20311304926872253, 0.0, 0.0, 0.0, 0.0, 0.0, 0.0, 0.0, 0.0, 0.0, 0.0, 0.0, 0.0, 0.0, 0.0, 0.0, 0.0, 0.0, 0.0, 0.0, 0.0, 0.0, 0.0, 0.0], [0.30300405621528625, 0.10204808413982391, 0.5017421841621399, 0.09320567548274994, 0.0, 0.0, 0.0, 0.0, 0.0, 0.0, 0.0, 0.0, 0.0, 0.0, 0.0, 0.0, 0.0, 0.0, 0.0, 0.0, 0.0, 0.0, 0.0, 0.0, 0.0, 0.0], [0.33655670285224915, 0.0163884200155735, 0.26512211561203003, 0.36117222905158997, 0.020760545507073402, 0.0, 0.0, 0.0, 0.0, 0.0, 0.0, 0.0, 0.0, 0.0, 0.0, 0.0, 0.0, 0.0, 0.0, 0.0, 0.0, 0.0, 0.0, 0.0, 0.0, 0.0], [0.5421700477600098, 0.025139300152659416, 0.15867473185062408, 0.09143713861703873, 0.1406380832195282, 0.041940752416849136, 0.0, 0.0, 0.0, 0.0, 0.0, 0.0, 0.0, 0.0, 0.0, 0.0, 0.0, 0.0, 0.0, 0.0, 0.0, 0.0, 0.0, 0.0, 0.0, 0.0], [0.363457590341568, 0.012560556642711163, 0.09429795295000076, 0.09364637732505798, 0.05947849527001381, 0.2509913146495819, 0.12556765973567963, 0.0, 0.0, 0.0, 0.0, 0.0, 0.0, 0.0, 0.0, 0.0, 0.0, 0.0, 0.0, 0.0, 0.0, 0.0, 0.0, 0.0, 0.0, 0.0], [0.7008600831031799, 0.009625965729355812, 0.034020159393548965, 0.04006998613476753, 0.02006152644753456, 0.032812297344207764, 0.12467893958091736, 0.03787096217274666, 0.0, 0.0, 0.0, 0.0, 0.0, 0.0, 0.0, 0.0, 0.0, 0.0, 0.0, 0.0, 0.0, 0.0, 0.0, 0.0, 0.0, 0.0], [0.24914279580116272, 0.03802718222141266, 0.09897271543741226, 0.05162970349192619, 0.07961313426494598, 0.06752142310142517, 0.17089833319187164, 0.17344285547733307, 0.07075177878141403, 0.0, 0.0, 0.0, 0.0, 0.0, 0.0, 0.0, 0.0, 0.0, 0.0, 0.0, 0.0, 0.0, 0.0, 0.0, 0.0, 0.0], [0.5295022130012512, 0.005616306327283382, 0.030206315219402313, 0.039032381027936935, 0.00904968660324812, 0.025803834199905396, 0.02699751779437065, 0.032289233058691025, 0.24996398389339447, 0.05153851956129074, 0.0, 0.0, 0.0, 0.0, 0.0, 0.0, 0.0, 0.0, 0.0, 0.0, 0.0, 0.0, 0.0, 0.0, 0.0, 0.0], [0.467716783285141, 0.003199194557964802, 0.007135560270398855, 0.016380148008465767, 0.02785326912999153, 0.010506675578653812, 0.06497898697853088, 0.05182782560586929, 0.1256532222032547, 0.18171000480651855, 0.04303829371929169, 0.0, 0.0, 0.0, 0.0, 0.0, 0.0, 0.0, 0.0, 0.0, 0.0, 0.0, 0.0, 0.0, 0.0, 0.0], [0.2128717452287674, 0.005453428719192743, 0.02797606587409973, 0.04489493742585182, 0.01747198961675167, 0.010593447834253311, 0.060644738376140594, 0.10049063712358475, 0.18986311554908752, 0.11376889795064926, 0.19299162924289703, 0.022979428991675377, 0.0, 0.0, 0.0, 0.0, 0.0, 0.0, 0.0, 0.0, 0.0, 0.0, 0.0, 0.0, 0.0, 0.0], [0.3851708173751831, 0.010092071257531643, 0.031993016600608826, 0.0752057433128357, 0.015375002287328243, 0.025038601830601692, 0.036833714693784714, 0.033708930015563965, 0.025159310549497604, 0.06513486057519913, 0.12018132954835892, 0.10779814422130585, 0.06830839812755585, 0.0, 0.0, 0.0, 0.0, 0.0, 0.0, 0.0, 0.0, 0.0, 0.0, 0.0, 0.0, 0.0], [0.4749628007411957, 0.013706679455935955, 0.08744215220212936, 0.11823248118162155, 0.007443678565323353, 0.010055940598249435, 0.015551379881799221, 0.030258215963840485, 0.010527033358812332, 0.028382010757923126, 0.04124854505062103, 0.02356094866991043, 0.10538321733474731, 0.033244915306568146, 0.0, 0.0, 0.0, 0.0, 0.0, 0.0, 0.0, 0.0, 0.0, 0.0, 0.0, 0.0], [0.12564878165721893, 0.007961547002196312, 0.024804849177598953, 0.02317638322710991, 0.016772020608186722, 0.012270619161427021, 0.028833497315645218, 0.06661094725131989, 0.02433939278125763, 0.0305352583527565, 0.044764239341020584, 0.040462981909513474, 0.2629980146884918, 0.2697875201702118, 0.02103397063910961, 0.0, 0.0, 0.0, 0.0, 0.0, 0.0, 0.0, 0.0, 0.0, 0.0, 0.0], [0.43398791551589966, 0.00703761400654912, 0.012815390713512897, 0.04755641147494316, 0.009636687114834785, 0.004145693499594927, 0.004856421612203121, 0.006279542110860348, 0.01707610860466957, 0.03316924721002579, 0.0829106792807579, 0.014857701025903225, 0.0270689707249403, 0.0678982064127922, 0.11271073669195175, 0.11799275130033493, 0.0, 0.0, 0.0, 0.0, 0.0, 0.0, 0.0, 0.0, 0.0, 0.0], [0.15219230949878693, 0.022057348862290382, 0.025306589901447296, 0.03017059527337551, 0.015669677406549454, 0.0045481533743441105, 0.009817416779696941, 0.01773178018629551, 0.01954803429543972, 0.053487539291381836, 0.040971361100673676, 0.010896419174969196, 0.02133304439485073, 0.07756729423999786, 0.12000645697116852, 0.30941304564476013, 0.0692828893661499, 0.0, 0.0, 0.0, 0.0, 0.0, 0.0, 0.0, 0.0, 0.0], [0.29870808124542236, 0.0022523917723447084, 0.006254395004361868, 0.02600032091140747, 0.00255311350338161, 0.00176614907104522, 0.003403901355341077, 0.0026111463084816933, 0.016998710110783577, 0.03780550882220268, 0.021460983902215958, 0.0022152913734316826, 0.004663645289838314, 0.09630878269672394, 0.11888807266950607, 0.1410999894142151, 0.16510917246341705, 0.05190040171146393, 0.0, 0.0, 0.0, 0.0, 0.0, 0.0, 0.0, 0.0], [0.6255432963371277, 0.019358765333890915, 0.01585710607469082, 0.017602983862161636, 0.011795570142567158, 0.004759644158184528, 0.016405189409852028, 0.010784896090626717, 0.006226313300430775, 0.02850239910185337, 0.007002873346209526, 0.0020355049055069685, 0.009762749075889587, 0.02280479110777378, 0.01617816649377346, 0.033510323613882065, 0.01039221789687872, 0.07847918570041656, 0.06299788504838943, 0.0, 0.0, 0.0, 0.0, 0.0, 0.0, 0.0], [0.16584014892578125, 0.005424820352345705, 0.013828066177666187, 0.014686406590044498, 0.011001734994351864, 0.008669454604387283, 0.013480535708367825, 0.020069556310772896, 0.014249925501644611, 0.021785873919725418, 0.023859690874814987, 0.007186116185039282, 0.012671693228185177, 0.030056225135922432, 0.00910203531384468, 0.016421519219875336, 0.005799764301627874, 0.03722566366195679, 0.45435935258865356, 0.1142813116312027, 0.0, 0.0, 0.0, 0.0, 0.0, 0.0], [0.48281148076057434, 0.02549048140645027, 0.008362187072634697, 0.012389249168336391, 0.002607577247545123, 0.0021513178944587708, 0.002053400967270136, 0.00201106327585876, 0.0040341829881072044, 0.006508969701826572, 0.00820870976895094, 0.002398069715127349, 0.0035942343529313803, 0.005019975360482931, 0.018394894897937775, 0.008385634049773216, 0.004561316687613726, 0.015413196757435799, 0.09800239652395248, 0.2533647119998932, 0.03423694148659706, 0.0, 0.0, 0.0, 0.0, 0.0], [0.7324118614196777, 0.015467737801373005, 0.007666556630283594, 0.012862971983850002, 0.0005841744132339954, 0.000836328836157918, 0.0012153482530266047, 0.0005092694191262126, 0.003289335872977972, 0.004071820992976427, 0.002220769878476858, 0.0016308220801874995, 0.005004679784178734, 0.010189363732933998, 0.005399999674409628, 0.0014583878219127655, 0.0013016420416533947, 0.001079282839782536, 0.054524246603250504, 0.08186688274145126, 0.04568461701273918, 0.010723886080086231, 0.0, 0.0, 0.0, 0.0], [0.13606521487236023, 0.021404847502708435, 0.008462098427116871, 0.009429724887013435, 0.0026617494877427816, 0.0021459173876792192, 0.0026902887038886547, 0.002483595395460725, 0.004374017473310232, 0.012411003932356834, 0.007331871893256903, 0.0026461370289325714, 0.002409632783383131, 0.006411215756088495, 0.01269447710365057, 0.02224970981478691, 0.005696169566363096, 0.008284050039947033, 0.08586940169334412, 0.1494026482105255, 0.11005877703428268, 0.3310721814632416, 0.0537453293800354, 0.0, 0.0, 0.0], [0.47125953435897827, 0.004558934364467859, 0.002516860608011484, 0.002880982356145978, 0.0004728276690002531, 0.0010047261603176594, 0.0017011880408972502, 0.0005435747443698347, 0.005057564005255699, 0.005537183489650488, 0.0018048578640446067, 0.0016324747120961547, 0.0011684764176607132, 0.0007622985285706818, 0.004673411138355732, 0.006148290354758501, 0.009435323067009449, 0.0076973894611001015, 0.028725214302539825, 0.07537946105003357, 0.03299078717827797, 0.14198680222034454, 0.18331539630889893, 0.008746480569243431, 0.0, 0.0], [0.09366142004728317, 0.004658613819628954, 0.002656707540154457, 0.0030901371501386166, 0.000987872015684843, 0.0010995628545060754, 0.0011303417850285769, 0.0008097244426608086, 0.005238200072199106, 0.0026962165720760822, 0.0014232026878744364, 0.0018737304490059614, 0.004090188071131706, 0.004733057226985693, 0.01082142349332571, 0.01296451035887003, 0.01279105432331562, 0.004312897566705942, 0.02576262131333351, 0.06705380976200104, 0.07107798010110855, 0.23804152011871338, 0.3476545512676239, 0.06532534211874008, 0.016045277938246727, 0.0], [0.4289925694465637, 0.0017742185154929757, 0.0011373816523700953, 0.002260679379105568, 0.00034739996772259474, 0.00048635495477356017, 0.00044123962288722396, 0.00022705078299622983, 0.0039212750270962715, 0.0027535129338502884, 0.000629669229965657, 0.001124338828958571, 0.0023743612691760063, 0.002295037265866995, 0.0030093255918473005, 0.004088125191628933, 0.007648595608770847, 0.0013039078330621123, 0.019639823585748672, 0.04370426386594772, 0.011189992539584637, 0.03789040818810463, 0.08696860074996948, 0.04636136069893837, 0.2645426392555237, 0.024887917563319206]], [[1.0, 0.0, 0.0, 0.0, 0.0, 0.0, 0.0, 0.0, 0.0, 0.0, 0.0, 0.0, 0.0, 0.0, 0.0, 0.0, 0.0, 0.0, 0.0, 0.0, 0.0, 0.0, 0.0, 0.0, 0.0, 0.0], [0.9861602187156677, 0.013839788734912872, 0.0, 0.0, 0.0, 0.0, 0.0, 0.0, 0.0, 0.0, 0.0, 0.0, 0.0, 0.0, 0.0, 0.0, 0.0, 0.0, 0.0, 0.0, 0.0, 0.0, 0.0, 0.0, 0.0, 0.0], [0.9772411584854126, 0.00407619122415781, 0.01868266612291336, 0.0, 0.0, 0.0, 0.0, 0.0, 0.0, 0.0, 0.0, 0.0, 0.0, 0.0, 0.0, 0.0, 0.0, 0.0, 0.0, 0.0, 0.0, 0.0, 0.0, 0.0, 0.0, 0.0], [0.9764522910118103, 0.0021371175535023212, 0.014042901806533337, 0.0073677110485732555, 0.0, 0.0, 0.0, 0.0, 0.0, 0.0, 0.0, 0.0, 0.0, 0.0, 0.0, 0.0, 0.0, 0.0, 0.0, 0.0, 0.0, 0.0, 0.0, 0.0, 0.0, 0.0], [0.9627381563186646, 0.0010452769929543138, 0.0034399351570755243, 0.005130555015057325, 0.02764609456062317, 0.0, 0.0, 0.0, 0.0, 0.0, 0.0, 0.0, 0.0, 0.0, 0.0, 0.0, 0.0, 0.0, 0.0, 0.0, 0.0, 0.0, 0.0, 0.0, 0.0, 0.0], [0.9668723940849304, 0.0007416728767566383, 0.0016106149414554238, 0.004586338065564632, 0.024642985314130783, 0.0015460060676559806, 0.0, 0.0, 0.0, 0.0, 0.0, 0.0, 0.0, 0.0, 0.0, 0.0, 0.0, 0.0, 0.0, 0.0, 0.0, 0.0, 0.0, 0.0, 0.0, 0.0], [0.9707587361335754, 0.0022677346132695675, 0.0019935674499720335, 0.003978444263339043, 0.01403438113629818, 0.000680102501064539, 0.006287044379860163, 0.0, 0.0, 0.0, 0.0, 0.0, 0.0, 0.0, 0.0, 0.0, 0.0, 0.0, 0.0, 0.0, 0.0, 0.0, 0.0, 0.0, 0.0, 0.0], [0.9717546701431274, 0.002338692080229521, 0.0034414520487189293, 0.0030829168390482664, 0.008732873015105724, 0.0006954310811124742, 0.0062489379197359085, 0.003704988630488515, 0.0, 0.0, 0.0, 0.0, 0.0, 0.0, 0.0, 0.0, 0.0, 0.0, 0.0, 0.0, 0.0, 0.0, 0.0, 0.0, 0.0, 0.0], [0.945669949054718, 0.0004402989870868623, 0.0017231416422873735, 0.002227720571681857, 0.006451522931456566, 0.0013725360622629523, 0.009837416000664234, 0.004432370886206627, 0.02784508280456066, 0.0, 0.0, 0.0, 0.0, 0.0, 0.0, 0.0, 0.0, 0.0, 0.0, 0.0, 0.0, 0.0, 0.0, 0.0, 0.0, 0.0], [0.9299150109291077, 0.0008260535541921854, 0.0012049261713400483, 0.0014317519962787628, 0.0036463867872953415, 0.0006620110361836851, 0.002921138657256961, 0.0020922599360346794, 0.008363182656466961, 0.04893721267580986, 0.0, 0.0, 0.0, 0.0, 0.0, 0.0, 0.0, 0.0, 0.0, 0.0, 0.0, 0.0, 0.0, 0.0, 0.0, 0.0], [0.9204524755477905, 0.0015923531027510762, 0.010140037164092064, 0.006555449217557907, 0.0032209192868322134, 0.0005159098654985428, 0.0012782183475792408, 0.000630604918114841, 0.002704664831981063, 0.0448865070939064, 0.008022894151508808, 0.0, 0.0, 0.0, 0.0, 0.0, 0.0, 0.0, 0.0, 0.0, 0.0, 0.0, 0.0, 0.0, 0.0, 0.0], [0.9404588341712952, 0.0004008648102171719, 0.0038333521224558353, 0.008665350265800953, 0.0028046630322933197, 0.0003771494375541806, 0.003353216452524066, 0.0008736333111301064, 0.006717810872942209, 0.02172478474676609, 0.0078073847107589245, 0.002982884645462036, 0.0, 0.0, 0.0, 0.0, 0.0, 0.0, 0.0, 0.0, 0.0, 0.0, 0.0, 0.0, 0.0, 0.0], [0.9300042986869812, 0.0014847265556454659, 0.009607614949345589, 0.017436357215046883, 0.006668690592050552, 0.0013218396343290806, 0.007257171906530857, 0.006004335358738899, 0.006738698575645685, 0.0014491259353235364, 0.0008410578593611717, 0.0015012684743851423, 0.009684773162007332, 0.0, 0.0, 0.0, 0.0, 0.0, 0.0, 0.0, 0.0, 0.0, 0.0, 0.0, 0.0, 0.0], [0.7739086151123047, 0.0036170254461467266, 0.012532656081020832, 0.0062957280315458775, 0.040627095848321915, 0.011862269602715969, 0.020428089424967766, 0.00896243192255497, 0.036529913544654846, 0.00962492823600769, 0.0011890091700479388, 0.0037946358788758516, 0.03252130746841431, 0.03810626640915871, 0.0, 0.0, 0.0, 0.0, 0.0, 0.0, 0.0, 0.0, 0.0, 0.0, 0.0, 0.0], [0.9093011021614075, 0.0008232708205468953, 0.0036445772275328636, 0.005547625944018364, 0.03551135212182999, 0.0013252836652100086, 0.00850275531411171, 0.0024002764839679003, 0.010816134512424469, 0.0069626932963728905, 0.0026135724037885666, 0.0032933109905570745, 0.003497679717838764, 0.0036867365706712008, 0.0020736728329211473, 0.0, 0.0, 0.0, 0.0, 0.0, 0.0, 0.0, 0.0, 0.0, 0.0, 0.0], [0.6260583400726318, 0.0011917934753000736, 0.008095571771264076, 0.007831473834812641, 0.025796156376600266, 0.0022293946240097284, 0.03743385151028633, 0.026552027091383934, 0.05410941690206528, 0.10880348831415176, 0.017606765031814575, 0.03504875302314758, 0.007226670626550913, 0.003392406040802598, 0.0014659010339528322, 0.03715788945555687, 0.0, 0.0, 0.0, 0.0, 0.0, 0.0, 0.0, 0.0, 0.0, 0.0], [0.6022853851318359, 0.0006380095728673041, 0.003806709311902523, 0.003972485661506653, 0.02388599142432213, 0.004228388424962759, 0.07682252675294876, 0.016976848244667053, 0.029617881402373314, 0.14407186210155487, 0.028378570452332497, 0.046509478241205215, 0.006044500973075628, 0.0017685082275420427, 0.0005419451626949012, 0.0072975740768015385, 0.003153314348310232, 0.0, 0.0, 0.0, 0.0, 0.0, 0.0, 0.0, 0.0, 0.0], [0.8418741226196289, 0.0019403031328693032, 0.004553648177534342, 0.0059262593276798725, 0.01747770421206951, 0.002081835875287652, 0.010372248478233814, 0.01223078090697527, 0.02449672669172287, 0.01323044952005148, 0.005404503084719181, 0.016911692917346954, 0.0036094796378165483, 0.0011390181025490165, 0.00149499939288944, 0.00926879234611988, 0.0062337047420442104, 0.021753737702965736, 0.0, 0.0, 0.0, 0.0, 0.0, 0.0, 0.0, 0.0], [0.8209273219108582, 0.00043324127909727395, 0.0014804104575887322, 0.004629864357411861, 0.05916236713528633, 0.004970962647348642, 0.0023048201110213995, 0.0011989293852820992, 0.005455643869936466, 0.03245033323764801, 0.0068562752567231655, 0.013064656406641006, 0.0014618540881201625, 0.003960625734180212, 0.0059086354449391365, 0.01886887475848198, 0.009848731569945812, 0.004349172580987215, 0.002667255699634552, 0.0, 0.0, 0.0, 0.0, 0.0, 0.0, 0.0], [0.9215117692947388, 0.0008044089772738516, 0.001166400033980608, 0.0030329860746860504, 0.024651149287819862, 0.0023719791788607836, 0.002835103776305914, 0.0009586825617589056, 0.003462722059339285, 0.009473147802054882, 0.0021954551339149475, 0.004377987701445818, 0.001781862461939454, 0.0009409862686879933, 0.0014320780755952, 0.005981058813631535, 0.003448393428698182, 0.004047768656164408, 0.0016153480391949415, 0.00391080928966403, 0.0, 0.0, 0.0, 0.0, 0.0, 0.0], [0.8431790471076965, 0.002029847353696823, 0.0022305974271148443, 0.0018404247239232063, 0.048937782645225525, 0.017183680087327957, 0.01758335530757904, 0.0026316421572118998, 0.003016667440533638, 0.011703445576131344, 0.002156217349693179, 0.005176261533051729, 0.009710555896162987, 0.0007684784359298646, 0.002542683156207204, 0.008081437088549137, 0.0021255481988191605, 0.008546922355890274, 0.001540692406706512, 0.0022445085924118757, 0.006770199630409479, 0.0, 0.0, 0.0, 0.0, 0.0], [0.8970152139663696, 0.0007221841369755566, 0.0010589392622932792, 0.002140446798875928, 0.004009672440588474, 0.000669635075610131, 0.007569864857941866, 0.0024015663657337427, 0.0025441134348511696, 0.024506796151399612, 0.009750415571033955, 0.01276121661067009, 0.00340421125292778, 0.0009037371492013335, 0.0003547046217136085, 0.0028175164479762316, 0.0006342088454402983, 0.020037421956658363, 0.0010395138524472713, 0.0010773038957268, 0.0021519248839467764, 0.0024293793831020594, 0.0, 0.0, 0.0, 0.0], [0.48795682191848755, 0.00024396907247137278, 0.0007826844230294228, 0.0008932890486903489, 0.002019330160692334, 0.0009790284093469381, 0.02270667441189289, 0.010055172257125378, 0.0049073537811636925, 0.30147868394851685, 0.05725004896521568, 0.0634939894080162, 0.004204994533210993, 0.00024910690262913704, 0.00017519239918328822, 0.001765431254170835, 0.0005808991263620555, 0.03616410866379738, 0.0004449263506103307, 0.0003115520521532744, 0.000783963711000979, 0.0015378318494185805, 0.0010149347363039851, 0.0, 0.0, 0.0], [0.9127741456031799, 0.0005239068996161222, 0.0011395654873922467, 0.0015714727342128754, 0.001905230456031859, 0.0005906774313189089, 0.006397599820047617, 0.0023734301794320345, 0.0044853100553154945, 0.02065911702811718, 0.006225409917533398, 0.02190806157886982, 0.0015523411566391587, 0.0006551429396495223, 0.00026018661446869373, 0.0017775679007172585, 0.0007299278513528407, 0.009506414644420147, 0.0005378599744290113, 0.0008114026859402657, 0.0010979481739923358, 0.0003766681475099176, 0.0008268374367617071, 0.0013138732174411416, 0.0, 0.0], [0.6372215151786804, 0.00022199616068974137, 0.0006086460780352354, 0.0013655134243890643, 0.0028989941347390413, 0.0007285515894182026, 0.043404471129179, 0.013654901646077633, 0.004673938266932964, 0.14304986596107483, 0.03609631583094597, 0.039380040019750595, 0.0011056092334911227, 0.0002830045123118907, 0.00017290249525103718, 0.0012122943298891187, 0.0005382125382311642, 0.06588425487279892, 0.0010587220313027501, 0.00035439550993032753, 0.00040827799239195883, 0.0009150485857389867, 0.0006186460959725082, 0.003174913814291358, 0.0009689830476418138, 0.0], [0.8112083077430725, 0.0007890790002420545, 0.000699205556884408, 0.0011587636545300484, 0.0033241002820432186, 0.0007710149511694908, 0.005682698916643858, 0.003326364327222109, 0.01086459681391716, 0.06284288316965103, 0.015492493286728859, 0.012656668201088905, 0.0006712439935654402, 0.0001394898717990145, 0.00030273187439888716, 0.002503385301679373, 0.004204830154776573, 0.006704225670546293, 0.00041480959043838084, 0.0014500896213576198, 0.0024411468766629696, 0.0011133661027997732, 0.005699518136680126, 0.004167241044342518, 0.0040911040268838406, 0.03728051111102104]], [[1.0, 0.0, 0.0, 0.0, 0.0, 0.0, 0.0, 0.0, 0.0, 0.0, 0.0, 0.0, 0.0, 0.0, 0.0, 0.0, 0.0, 0.0, 0.0, 0.0, 0.0, 0.0, 0.0, 0.0, 0.0, 0.0], [0.9732306599617004, 0.026769345626235008, 0.0, 0.0, 0.0, 0.0, 0.0, 0.0, 0.0, 0.0, 0.0, 0.0, 0.0, 0.0, 0.0, 0.0, 0.0, 0.0, 0.0, 0.0, 0.0, 0.0, 0.0, 0.0, 0.0, 0.0], [0.7838808298110962, 0.06902410089969635, 0.14709512889385223, 0.0, 0.0, 0.0, 0.0, 0.0, 0.0, 0.0, 0.0, 0.0, 0.0, 0.0, 0.0, 0.0, 0.0, 0.0, 0.0, 0.0, 0.0, 0.0, 0.0, 0.0, 0.0, 0.0], [0.6922423243522644, 0.03692832216620445, 0.15708109736442566, 0.1137482151389122, 0.0, 0.0, 0.0, 0.0, 0.0, 0.0, 0.0, 0.0, 0.0, 0.0, 0.0, 0.0, 0.0, 0.0, 0.0, 0.0, 0.0, 0.0, 0.0, 0.0, 0.0, 0.0], [0.8419895768165588, 0.007830120623111725, 0.055403824895620346, 0.07053214311599731, 0.024244412779808044, 0.0, 0.0, 0.0, 0.0, 0.0, 0.0, 0.0, 0.0, 0.0, 0.0, 0.0, 0.0, 0.0, 0.0, 0.0, 0.0, 0.0, 0.0, 0.0, 0.0, 0.0], [0.8090764284133911, 0.007068063598126173, 0.06272519379854202, 0.05875774472951889, 0.022356972098350525, 0.04001559317111969, 0.0, 0.0, 0.0, 0.0, 0.0, 0.0, 0.0, 0.0, 0.0, 0.0, 0.0, 0.0, 0.0, 0.0, 0.0, 0.0, 0.0, 0.0, 0.0, 0.0], [0.8496148586273193, 0.010424490086734295, 0.03080577775835991, 0.026920916512608528, 0.027318134903907776, 0.018133319914340973, 0.03678244724869728, 0.0, 0.0, 0.0, 0.0, 0.0, 0.0, 0.0, 0.0, 0.0, 0.0, 0.0, 0.0, 0.0, 0.0, 0.0, 0.0, 0.0, 0.0, 0.0], [0.8789710402488708, 0.0038991363253444433, 0.02163836359977722, 0.02268795110285282, 0.025581100955605507, 0.011387104168534279, 0.02627718262374401, 0.009558097459375858, 0.0, 0.0, 0.0, 0.0, 0.0, 0.0, 0.0, 0.0, 0.0, 0.0, 0.0, 0.0, 0.0, 0.0, 0.0, 0.0, 0.0, 0.0], [0.6352413892745972, 0.005450885742902756, 0.03861952945590019, 0.031920425593853, 0.10238787531852722, 0.02666994370520115, 0.10016864538192749, 0.020176716148853302, 0.03936464339494705, 0.0, 0.0, 0.0, 0.0, 0.0, 0.0, 0.0, 0.0, 0.0, 0.0, 0.0, 0.0, 0.0, 0.0, 0.0, 0.0, 0.0], [0.8180875778198242, 0.004044228699058294, 0.01757199876010418, 0.02401748113334179, 0.026953279972076416, 0.012147100642323494, 0.021703951060771942, 0.012991451658308506, 0.03022889979183674, 0.03225395083427429, 0.0, 0.0, 0.0, 0.0, 0.0, 0.0, 0.0, 0.0, 0.0, 0.0, 0.0, 0.0, 0.0, 0.0, 0.0, 0.0], [0.7897098064422607, 0.0027224337682127953, 0.01486167311668396, 0.015535728074610233, 0.0237846951931715, 0.014349885284900665, 0.02864224836230278, 0.008344724774360657, 0.01841343194246292, 0.04943230375647545, 0.03420304134488106, 0.0, 0.0, 0.0, 0.0, 0.0, 0.0, 0.0, 0.0, 0.0, 0.0, 0.0, 0.0, 0.0, 0.0, 0.0], [0.8233053684234619, 0.004765384364873171, 0.018271205946803093, 0.014407888054847717, 0.024472488090395927, 0.008489555679261684, 0.025881629437208176, 0.006137132178992033, 0.012325018644332886, 0.031206484884023666, 0.016850672662258148, 0.013887104578316212, 0.0, 0.0, 0.0, 0.0, 0.0, 0.0, 0.0, 0.0, 0.0, 0.0, 0.0, 0.0, 0.0, 0.0], [0.8729772567749023, 0.004856346175074577, 0.029468288645148277, 0.016405150294303894, 0.013881915248930454, 0.0032107625156641006, 0.007744921371340752, 0.004250864498317242, 0.004175423178821802, 0.017409805208444595, 0.008767676539719105, 0.003937611356377602, 0.01291404664516449, 0.0, 0.0, 0.0, 0.0, 0.0, 0.0, 0.0, 0.0, 0.0, 0.0, 0.0, 0.0, 0.0], [0.8475815057754517, 0.007866740226745605, 0.05209092050790787, 0.0233931802213192, 0.006199400406330824, 0.002482839860022068, 0.00623115012422204, 0.004705789498984814, 0.0028791215736418962, 0.003854559501633048, 0.004137168638408184, 0.0025244522839784622, 0.011045115068554878, 0.025008073076605797, 0.0, 0.0, 0.0, 0.0, 0.0, 0.0, 0.0, 0.0, 0.0, 0.0, 0.0, 0.0], [0.8020697236061096, 0.0031557613983750343, 0.012246774509549141, 0.011823270469903946, 0.018816974014043808, 0.004831306170672178, 0.015666380524635315, 0.008215201087296009, 0.006806554738432169, 0.017906460911035538, 0.008362744934856892, 0.004429138731211424, 0.02035839483141899, 0.03219246119260788, 0.03311880677938461, 0.0, 0.0, 0.0, 0.0, 0.0, 0.0, 0.0, 0.0, 0.0, 0.0, 0.0], [0.6116237044334412, 0.0022801936138421297, 0.012509559281170368, 0.01363405678421259, 0.05495264753699303, 0.01147736981511116, 0.036263950169086456, 0.012169860303401947, 0.00995586160570383, 0.042986586689949036, 0.015660693868994713, 0.010548711754381657, 0.014896910637617111, 0.017930755391716957, 0.0388847179710865, 0.09422441571950912, 0.0, 0.0, 0.0, 0.0, 0.0, 0.0, 0.0, 0.0, 0.0, 0.0], [0.5598430633544922, 0.0015663892263546586, 0.01020487118512392, 0.012044794857501984, 0.06453674286603928, 0.01606336049735546, 0.044386912137269974, 0.008442356251180172, 0.011895648203790188, 0.0662185549736023, 0.01567024178802967, 0.010458935052156448, 0.008579811081290245, 0.015257165767252445, 0.048017896711826324, 0.07288932055234909, 0.0339239165186882, 0.0, 0.0, 0.0, 0.0, 0.0, 0.0, 0.0, 0.0, 0.0], [0.8570345640182495, 0.0007576925563625991, 0.004670404363423586, 0.004698119126260281, 0.013738109730184078, 0.0033061637077480555, 0.006824656389653683, 0.0034233485348522663, 0.006009917240589857, 0.012522363103926182, 0.014305946417152882, 0.008037246763706207, 0.007703275885432959, 0.010161853395402431, 0.014744342304766178, 0.0083693265914917, 0.00835846271365881, 0.015334141440689564, 0.0, 0.0, 0.0, 0.0, 0.0, 0.0, 0.0, 0.0], [0.6840992569923401, 0.004021381959319115, 0.018862230703234673, 0.01615418866276741, 0.02708740532398224, 0.012603347189724445, 0.009390939027071, 0.003783312626183033, 0.005204255226999521, 0.011922076344490051, 0.022902002558112144, 0.007242885418236256, 0.01718992181122303, 0.009202134795486927, 0.02295442670583725, 0.00720785791054368, 0.006119703408330679, 0.008281438611447811, 0.1057712584733963, 0.0, 0.0, 0.0, 0.0, 0.0, 0.0, 0.0], [0.6969147324562073, 0.002545395167544484, 0.013198924250900745, 0.012105567380785942, 0.020601682364940643, 0.0036922236904501915, 0.013391191139817238, 0.006010009441524744, 0.0058074952103197575, 0.02611616440117359, 0.01337597705423832, 0.005065754055976868, 0.009802713990211487, 0.00774058373644948, 0.013471568934619427, 0.01138575840741396, 0.008202433586120605, 0.018362989649176598, 0.05014391988515854, 0.06206492334604263, 0.0, 0.0, 0.0, 0.0, 0.0, 0.0], [0.4791649878025055, 0.002997352508828044, 0.009657899849116802, 0.009818267077207565, 0.06233534216880798, 0.007313723210245371, 0.019628848880529404, 0.007421851623803377, 0.007276828866451979, 0.0403006486594677, 0.007905712351202965, 0.00831941980868578, 0.0077700563706457615, 0.009139800444245338, 0.02815595082938671, 0.036264535039663315, 0.024012602865695953, 0.03262411057949066, 0.0424836166203022, 0.11464782804250717, 0.04276065155863762, 0.0, 0.0, 0.0, 0.0, 0.0], [0.6641526818275452, 0.002416986506432295, 0.006049768533557653, 0.011701902374625206, 0.010908834636211395, 0.008121412247419357, 0.013530971482396126, 0.0051981061697006226, 0.009573671966791153, 0.013285144232213497, 0.016734711825847626, 0.006639360915869474, 0.005231925286352634, 0.01223201397806406, 0.02106396108865738, 0.03529883548617363, 0.020185420289635658, 0.01211999636143446, 0.04079889506101608, 0.05359604209661484, 0.014167381450533867, 0.016991909593343735, 0.0, 0.0, 0.0, 0.0], [0.35764387249946594, 0.0027172104455530643, 0.00423593120649457, 0.005671021528542042, 0.02369312010705471, 0.007836535573005676, 0.03536444529891014, 0.010212572291493416, 0.010149229317903519, 0.06139908730983734, 0.009726089425384998, 0.004669954534620047, 0.004317562561482191, 0.0072938222438097, 0.0227564238011837, 0.07239067554473877, 0.02364395186305046, 0.03260854259133339, 0.0583229660987854, 0.1034301146864891, 0.02347656525671482, 0.04906254634261131, 0.06937775015830994, 0.0, 0.0, 0.0], [0.5493512153625488, 0.0021510960068553686, 0.005598966497927904, 0.007867741398513317, 0.03069412335753441, 0.009769790805876255, 0.0503477081656456, 0.0122402124106884, 0.014685077592730522, 0.051442891359329224, 0.009552489034831524, 0.010876552201807499, 0.006772276014089584, 0.009949978440999985, 0.016889164224267006, 0.03161989524960518, 0.013500206172466278, 0.02111506462097168, 0.03767441585659981, 0.03895743191242218, 0.009344355203211308, 0.01849401742219925, 0.021916043013334274, 0.01918933540582657, 0.0, 0.0], [0.4574473798274994, 0.0007666049059480429, 0.002780229551717639, 0.004944725427776575, 0.04057598114013672, 0.008660889230668545, 0.06205904111266136, 0.010897953994572163, 0.014588520862162113, 0.09666415303945541, 0.011920507997274399, 0.008165020495653152, 0.003142480505630374, 0.002663960913196206, 0.00838842336088419, 0.043643057346343994, 0.023625848814845085, 0.03225906193256378, 0.01418955810368061, 0.022934237495064735, 0.012064068578183651, 0.016795944422483444, 0.04630846902728081, 0.020732199773192406, 0.033781688660383224, 0.0], [0.7427650690078735, 0.0006654890021309257, 0.004412075038999319, 0.007154766470193863, 0.013134390115737915, 0.004409588873386383, 0.014356417581439018, 0.00785567332059145, 0.01076242234557867, 0.019153164699673653, 0.01960010640323162, 0.012450230307877064, 0.004478418733924627, 0.008380471728742123, 0.007551140151917934, 0.00669997651129961, 0.008085723035037518, 0.011071484535932541, 0.02159705199301243, 0.015181416645646095, 0.002264320384711027, 0.003035959554836154, 0.011889862827956676, 0.008353864774107933, 0.010514578782022, 0.02417636662721634]], [[1.0, 0.0, 0.0, 0.0, 0.0, 0.0, 0.0, 0.0, 0.0, 0.0, 0.0, 0.0, 0.0, 0.0, 0.0, 0.0, 0.0, 0.0, 0.0, 0.0, 0.0, 0.0, 0.0, 0.0, 0.0, 0.0], [0.998836100101471, 0.0011639439035207033, 0.0, 0.0, 0.0, 0.0, 0.0, 0.0, 0.0, 0.0, 0.0, 0.0, 0.0, 0.0, 0.0, 0.0, 0.0, 0.0, 0.0, 0.0, 0.0, 0.0, 0.0, 0.0, 0.0, 0.0], [0.9878100156784058, 0.009074345231056213, 0.003115752013400197, 0.0, 0.0, 0.0, 0.0, 0.0, 0.0, 0.0, 0.0, 0.0, 0.0, 0.0, 0.0, 0.0, 0.0, 0.0, 0.0, 0.0, 0.0, 0.0, 0.0, 0.0, 0.0, 0.0], [0.9922116994857788, 0.00447233347222209, 0.0024588617961853743, 0.0008571186917833984, 0.0, 0.0, 0.0, 0.0, 0.0, 0.0, 0.0, 0.0, 0.0, 0.0, 0.0, 0.0, 0.0, 0.0, 0.0, 0.0, 0.0, 0.0, 0.0, 0.0, 0.0, 0.0], [0.9859768152236938, 0.001826516818255186, 0.0034314277581870556, 0.0011305923108011484, 0.0076346974819898605, 0.0, 0.0, 0.0, 0.0, 0.0, 0.0, 0.0, 0.0, 0.0, 0.0, 0.0, 0.0, 0.0, 0.0, 0.0, 0.0, 0.0, 0.0, 0.0, 0.0, 0.0], [0.9551730751991272, 0.002015396486967802, 0.0019447999075055122, 0.0012069480726495385, 0.030198020860552788, 0.00946172047406435, 0.0, 0.0, 0.0, 0.0, 0.0, 0.0, 0.0, 0.0, 0.0, 0.0, 0.0, 0.0, 0.0, 0.0, 0.0, 0.0, 0.0, 0.0, 0.0, 0.0], [0.9713799357414246, 0.0033480545971542597, 0.0007158616790547967, 0.0008490640902891755, 0.0076072500087320805, 0.0012094310950487852, 0.014890414662659168, 0.0, 0.0, 0.0, 0.0, 0.0, 0.0, 0.0, 0.0, 0.0, 0.0, 0.0, 0.0, 0.0, 0.0, 0.0, 0.0, 0.0, 0.0, 0.0], [0.940080463886261, 0.00278138043358922, 0.0006566966767422855, 0.0010762806050479412, 0.017276037484407425, 0.0015008902410045266, 0.02098972722887993, 0.01563858427107334, 0.0, 0.0, 0.0, 0.0, 0.0, 0.0, 0.0, 0.0, 0.0, 0.0, 0.0, 0.0, 0.0, 0.0, 0.0, 0.0, 0.0, 0.0], [0.9293993711471558, 0.0010068498086184263, 0.001853586989454925, 0.0004819441819563508, 0.02833283506333828, 0.00057122518774122, 0.02670208178460598, 0.002816087333485484, 0.00883598905056715, 0.0, 0.0, 0.0, 0.0, 0.0, 0.0, 0.0, 0.0, 0.0, 0.0, 0.0, 0.0, 0.0, 0.0, 0.0, 0.0, 0.0], [0.9629303216934204, 0.0023934964556246996, 0.0009052878594957292, 0.0007891724817454815, 0.00518241198733449, 0.00034933656570501626, 0.003764241933822632, 0.0030826274305582047, 0.0024142356123775244, 0.01818874292075634, 0.0, 0.0, 0.0, 0.0, 0.0, 0.0, 0.0, 0.0, 0.0, 0.0, 0.0, 0.0, 0.0, 0.0, 0.0, 0.0], [0.9128404855728149, 0.0013056466123089194, 0.0008113366784527898, 0.0005168329225853086, 0.01194214727729559, 0.00018377277592662722, 0.00868677906692028, 0.0008792848675511777, 0.0011380147188901901, 0.05956749618053436, 0.0021282609086483717, 0.0, 0.0, 0.0, 0.0, 0.0, 0.0, 0.0, 0.0, 0.0, 0.0, 0.0, 0.0, 0.0, 0.0, 0.0], [0.8794552087783813, 0.0007493891171179712, 0.0027849820908159018, 0.000694536545779556, 0.007258269935846329, 0.00032275315606966615, 0.025331297889351845, 0.003856169292703271, 0.00823132786899805, 0.06396827846765518, 0.005152529571205378, 0.002195201814174652, 0.0, 0.0, 0.0, 0.0, 0.0, 0.0, 0.0, 0.0, 0.0, 0.0, 0.0, 0.0, 0.0, 0.0], [0.7830738425254822, 0.0005577788106165826, 0.009786467999219894, 0.00348999653942883, 0.07253570854663849, 0.0016482180217280984, 0.053026068955659866, 0.00289755966514349, 0.0034321360290050507, 0.05765800550580025, 0.0008655751007609069, 0.0008473629713989794, 0.01018137764185667, 0.0, 0.0, 0.0, 0.0, 0.0, 0.0, 0.0, 0.0, 0.0, 0.0, 0.0, 0.0, 0.0], [0.7069880366325378, 0.0013988125137984753, 0.0009052660316228867, 0.0007970395963639021, 0.11823931336402893, 0.002872696379199624, 0.057205889374017715, 0.0034275343641638756, 0.004239240661263466, 0.09779740869998932, 0.0008860316011123359, 0.0016805252525955439, 0.002894411562010646, 0.0006677474011667073, 0.0, 0.0, 0.0, 0.0, 0.0, 0.0, 0.0, 0.0, 0.0, 0.0, 0.0, 0.0], [0.8272998929023743, 0.00044358649756759405, 0.005671472288668156, 0.0008009598823264241, 0.017650870606303215, 0.0008246366051025689, 0.08195195347070694, 0.006077442318201065, 0.003956294618546963, 0.04827951639890671, 0.0003414921520743519, 0.0005215903511270881, 0.0019472272833809257, 0.0012238521594554186, 0.003009210806339979, 0.0, 0.0, 0.0, 0.0, 0.0, 0.0, 0.0, 0.0, 0.0, 0.0, 0.0], [0.4125792384147644, 0.0012289653532207012, 0.0008558486006222665, 0.0003976400475949049, 0.04712865501642227, 0.0014384788228198886, 0.2086174190044403, 0.00905393622815609, 0.004948290530592203, 0.2716561257839203, 0.0021865626331418753, 0.002202788833528757, 0.0016151765594258904, 0.0005506583256646991, 0.0007880943594500422, 0.03475215658545494, 0.0, 0.0, 0.0, 0.0, 0.0, 0.0, 0.0, 0.0, 0.0, 0.0], [0.37765395641326904, 0.0010962637607008219, 0.0008980230777524412, 0.0006278419750742614, 0.07840441912412643, 0.0007078040507622063, 0.20338036119937897, 0.0031057766173034906, 0.0029335522558540106, 0.31358566880226135, 0.001097543048672378, 0.0015000732382759452, 0.0012366254813969135, 0.00024379855312872678, 0.0002788151614367962, 0.011344118975102901, 0.00190537772141397, 0.0, 0.0, 0.0, 0.0, 0.0, 0.0, 0.0, 0.0, 0.0], [0.8010184168815613, 0.003563233884051442, 0.0013770563527941704, 0.0010922804940491915, 0.01954088918864727, 0.002020750194787979, 0.029658326879143715, 0.06920111924409866, 0.020796051248908043, 0.029667893424630165, 0.00295698968693614, 0.0017348830588161945, 0.0017723217606544495, 0.0014857047935947776, 0.0012032160302624106, 0.0037326524034142494, 0.0020640024449676275, 0.007114254869520664, 0.0, 0.0, 0.0, 0.0, 0.0, 0.0, 0.0, 0.0], [0.8014724254608154, 0.001748907845467329, 0.0034439892042428255, 0.0005795781034976244, 0.04173817113041878, 0.0005808596033602953, 0.009585638530552387, 0.005808205809444189, 0.0035479615908116102, 0.09427525103092194, 0.0006759237730875611, 0.0013965513790026307, 0.0006046026828698814, 0.0007560367230325937, 0.0007674860535189509, 0.017905162647366524, 0.0020865080878138542, 0.01165065448731184, 0.0013761022128164768, 0.0, 0.0, 0.0, 0.0, 0.0, 0.0, 0.0], [0.8755688667297363, 0.000615132856182754, 0.010419991798698902, 0.00045465363655239344, 0.007774773053824902, 0.00018915045075118542, 0.011557134799659252, 0.0025700086262077093, 0.002892018062993884, 0.03538035973906517, 0.00036265471135266125, 0.0005179354920983315, 0.00042080660932697356, 0.0004341542662587017, 0.0004190754843875766, 0.04128660634160042, 0.0031964986119419336, 0.003707870841026306, 0.0007814084528945386, 0.0014508804306387901, 0.0, 0.0, 0.0, 0.0, 0.0, 0.0], [0.8004436492919922, 0.002827012911438942, 0.0010332217207178473, 0.0006421506986953318, 0.06338296830654144, 0.0004619273531716317, 0.02593468315899372, 0.00022151261509861797, 0.0009295341442339122, 0.05859072506427765, 0.0005947520839981735, 0.001170322415418923, 0.0005163527675904334, 0.00013139717339072376, 0.00010775481496239081, 0.0034661341924220324, 0.0005933137144893408, 0.03506289795041084, 6.905086775077507e-05, 0.00047050736611709, 0.0033501756843179464, 0.0, 0.0, 0.0, 0.0, 0.0], [0.8545148968696594, 0.0008539498085156083, 0.0012472408125177026, 0.001030573039315641, 0.01853136532008648, 0.0008596123661845922, 0.01488970685750246, 0.009059046395123005, 0.006115498021245003, 0.02861790731549263, 0.0028834708500653505, 0.0027903160080313683, 0.0018502187449485064, 0.0010312327649444342, 0.001194406533613801, 0.006538241636008024, 0.005188673734664917, 0.022952886298298836, 0.0003414276579860598, 0.0015382880810648203, 0.0019202011171728373, 0.016050828620791435, 0.0, 0.0, 0.0, 0.0], [0.4220321476459503, 0.0006408790941350162, 0.0006513955886475742, 0.0004525822587311268, 0.0534704215824604, 0.00038661458529531956, 0.06891842931509018, 0.0017821229994297028, 0.0013221139088273048, 0.30823206901550293, 0.0011827618582174182, 0.0019240414258092642, 0.0006489944062195718, 0.00024315677001141012, 0.00013572670286521316, 0.003221754217520356, 0.0006736503564752638, 0.10370216518640518, 3.23391031997744e-05, 0.00029706116765737534, 0.001213708077557385, 0.025917915627360344, 0.0029179691337049007, 0.0, 0.0, 0.0], [0.8966063857078552, 0.0005304807564243674, 0.004845718387514353, 0.0013132535386830568, 0.009014088660478592, 0.00027748628053814173, 0.010309453122317791, 0.0015800631372258067, 0.002439924981445074, 0.03175939619541168, 0.0015715925255790353, 0.0012328207958489656, 0.0024004143197089434, 0.007542499806731939, 0.0003577420429792255, 0.001827817759476602, 0.0005261352052912116, 0.016228122636675835, 0.00039791842573322356, 0.0008915156358852983, 0.0010337837738916278, 0.004588339012116194, 0.0011370113352313638, 0.00158796738833189, 0.0, 0.0], [0.6365690231323242, 0.00018963956972584128, 0.003819095203652978, 0.0007881471537984908, 0.025177501142024994, 0.00011576591350603849, 0.03272407501935959, 0.0005854379269294441, 0.00040345860179513693, 0.1834903061389923, 0.0007083116797730327, 0.0002295542653882876, 0.0008459892123937607, 0.0010394102428108454, 0.0001350611710222438, 0.0037469672970473766, 0.0004823998606298119, 0.08546419441699982, 3.25585606333334e-05, 0.00023101328406482935, 0.001040664385072887, 0.016853272914886475, 0.0014651030069217086, 0.0014443936524912715, 0.002418729942291975, 0.0], [0.940242350101471, 0.0009223584784194827, 0.0007610288448631763, 0.00064196897437796, 0.005126801785081625, 0.0003662253438960761, 0.007935451343655586, 0.004273086320608854, 0.0026352412533015013, 0.01411793939769268, 0.00543173449113965, 0.0010521435178816319, 0.0013279264094308019, 0.001112810568884015, 0.0003241113154217601, 0.0006211105501279235, 0.0006453540408983827, 0.0020536964293569326, 6.212600419530645e-05, 0.0003044622135348618, 0.00025024297065101564, 0.001413618796505034, 0.0010195978684350848, 0.0004961629747413099, 0.0005049999454058707, 0.0063575031235814095]], [[1.0, 0.0, 0.0, 0.0, 0.0, 0.0, 0.0, 0.0, 0.0, 0.0, 0.0, 0.0, 0.0, 0.0, 0.0, 0.0, 0.0, 0.0, 0.0, 0.0, 0.0, 0.0, 0.0, 0.0, 0.0, 0.0], [0.9934158325195312, 0.006584158167243004, 0.0, 0.0, 0.0, 0.0, 0.0, 0.0, 0.0, 0.0, 0.0, 0.0, 0.0, 0.0, 0.0, 0.0, 0.0, 0.0, 0.0, 0.0, 0.0, 0.0, 0.0, 0.0, 0.0, 0.0], [0.9730491638183594, 0.009157498367130756, 0.017793409526348114, 0.0, 0.0, 0.0, 0.0, 0.0, 0.0, 0.0, 0.0, 0.0, 0.0, 0.0, 0.0, 0.0, 0.0, 0.0, 0.0, 0.0, 0.0, 0.0, 0.0, 0.0, 0.0, 0.0], [0.9644245505332947, 0.007205341476947069, 0.0143965482711792, 0.013973601162433624, 0.0, 0.0, 0.0, 0.0, 0.0, 0.0, 0.0, 0.0, 0.0, 0.0, 0.0, 0.0, 0.0, 0.0, 0.0, 0.0, 0.0, 0.0, 0.0, 0.0, 0.0, 0.0], [0.9012031555175781, 0.022495748475193977, 0.031153002753853798, 0.022763339802622795, 0.022384757176041603, 0.0, 0.0, 0.0, 0.0, 0.0, 0.0, 0.0, 0.0, 0.0, 0.0, 0.0, 0.0, 0.0, 0.0, 0.0, 0.0, 0.0, 0.0, 0.0, 0.0, 0.0], [0.804997444152832, 0.02218751609325409, 0.02396349422633648, 0.012139233760535717, 0.08756844699382782, 0.049143798649311066, 0.0, 0.0, 0.0, 0.0, 0.0, 0.0, 0.0, 0.0, 0.0, 0.0, 0.0, 0.0, 0.0, 0.0, 0.0, 0.0, 0.0, 0.0, 0.0, 0.0], [0.8813233971595764, 0.015122009441256523, 0.019617846235632896, 0.01486145704984665, 0.027020219713449478, 0.014064756222069263, 0.027990253642201424, 0.0, 0.0, 0.0, 0.0, 0.0, 0.0, 0.0, 0.0, 0.0, 0.0, 0.0, 0.0, 0.0, 0.0, 0.0, 0.0, 0.0, 0.0, 0.0], [0.8432973623275757, 0.01961957849562168, 0.01460412796586752, 0.011150921694934368, 0.04136646166443825, 0.030630240216851234, 0.028925703838467598, 0.010405668057501316, 0.0, 0.0, 0.0, 0.0, 0.0, 0.0, 0.0, 0.0, 0.0, 0.0, 0.0, 0.0, 0.0, 0.0, 0.0, 0.0, 0.0, 0.0], [0.6827032566070557, 0.019058866426348686, 0.008821269497275352, 0.007252936717122793, 0.13364218175411224, 0.052753519266843796, 0.05778137966990471, 0.011024794541299343, 0.026961803436279297, 0.0, 0.0, 0.0, 0.0, 0.0, 0.0, 0.0, 0.0, 0.0, 0.0, 0.0, 0.0, 0.0, 0.0, 0.0, 0.0, 0.0], [0.8424978852272034, 0.016333062201738358, 0.017965400591492653, 0.017880477011203766, 0.009208555333316326, 0.007710919249802828, 0.013547063805162907, 0.010362870991230011, 0.035680994391441345, 0.028812769800424576, 0.0, 0.0, 0.0, 0.0, 0.0, 0.0, 0.0, 0.0, 0.0, 0.0, 0.0, 0.0, 0.0, 0.0, 0.0, 0.0], [0.6973460912704468, 0.019503749907016754, 0.02210124209523201, 0.012380651198327541, 0.0457986518740654, 0.018447913229465485, 0.0386231504380703, 0.03180069476366043, 0.021484391763806343, 0.08162302523851395, 0.010890360921621323, 0.0, 0.0, 0.0, 0.0, 0.0, 0.0, 0.0, 0.0, 0.0, 0.0, 0.0, 0.0, 0.0, 0.0, 0.0], [0.7199802994728088, 0.011831785552203655, 0.014151516370475292, 0.010812710039317608, 0.027993353083729744, 0.010226837359368801, 0.031211135908961296, 0.03771217539906502, 0.02576233446598053, 0.06174841150641441, 0.0379926860332489, 0.010576753877103329, 0.0, 0.0, 0.0, 0.0, 0.0, 0.0, 0.0, 0.0, 0.0, 0.0, 0.0, 0.0, 0.0, 0.0], [0.4546731114387512, 0.015115977264940739, 0.026144182309508324, 0.016698364168405533, 0.006686156149953604, 0.013490465469658375, 0.07397834211587906, 0.0273116622120142, 0.053660307079553604, 0.08686032146215439, 0.19271385669708252, 0.015809927135705948, 0.01685723476111889, 0.0, 0.0, 0.0, 0.0, 0.0, 0.0, 0.0, 0.0, 0.0, 0.0, 0.0, 0.0, 0.0], [0.24028602242469788, 0.017826836556196213, 0.03108159266412258, 0.01236753724515438, 0.019942088052630424, 0.07070443779230118, 0.2007015496492386, 0.03655608743429184, 0.0875244140625, 0.09590930491685867, 0.10507209599018097, 0.016217200085520744, 0.05380279943346977, 0.012008084915578365, 0.0, 0.0, 0.0, 0.0, 0.0, 0.0, 0.0, 0.0, 0.0, 0.0, 0.0, 0.0], [0.3700302541255951, 0.0050066616386175156, 0.007519152481108904, 0.003439467865973711, 0.013265478424727917, 0.02457316964864731, 0.29606521129608154, 0.05761166289448738, 0.0508178174495697, 0.09651344269514084, 0.04706563800573349, 0.014507154934108257, 0.00546480854973197, 0.004202197305858135, 0.003917872440069914, 0.0, 0.0, 0.0, 0.0, 0.0, 0.0, 0.0, 0.0, 0.0, 0.0, 0.0], [0.3948744535446167, 0.004743226803839207, 0.0070131802931427956, 0.005719574633985758, 0.02815658412873745, 0.08705262839794159, 0.08978023380041122, 0.029300065711140633, 0.025997186079621315, 0.11352305114269257, 0.05786437913775444, 0.02171858586370945, 0.024665789678692818, 0.02511689066886902, 0.04688136652112007, 0.0375928096473217, 0.0, 0.0, 0.0, 0.0, 0.0, 0.0, 0.0, 0.0, 0.0, 0.0], [0.342478483915329, 0.005946241319179535, 0.00797800812870264, 0.009959197603166103, 0.07692304253578186, 0.13984133303165436, 0.13082271814346313, 0.021123278886079788, 0.028291111811995506, 0.0710834413766861, 0.04294639080762863, 0.01790008321404457, 0.021300658583641052, 0.011715628206729889, 0.027814028784632683, 0.028385479003190994, 0.01549090351909399, 0.0, 0.0, 0.0, 0.0, 0.0, 0.0, 0.0, 0.0, 0.0], [0.5961979031562805, 0.0065278043039143085, 0.013262823224067688, 0.0067543345503509045, 0.009791453368961811, 0.014134006574749947, 0.013670030049979687, 0.01567339524626732, 0.01262635737657547, 0.023747000843286514, 0.026534419506788254, 0.008986244909465313, 0.026925435289740562, 0.017966771498322487, 0.06856365501880646, 0.06405395269393921, 0.03914149850606918, 0.03544294089078903, 0.0, 0.0, 0.0, 0.0, 0.0, 0.0, 0.0, 0.0], [0.39515209197998047, 0.011858949437737465, 0.002490036655217409, 0.0015513201942667365, 0.04599737748503685, 0.016480442136526108, 0.021735044196248055, 0.016228951513767242, 0.015726281329989433, 0.11130257695913315, 0.0204884335398674, 0.01396284718066454, 0.03173740580677986, 0.02091898024082184, 0.03751889243721962, 0.0660199522972107, 0.05754585191607475, 0.10705851018428802, 0.006226047873497009, 0.0, 0.0, 0.0, 0.0, 0.0, 0.0, 0.0], [0.48293766379356384, 0.007799642626196146, 0.003681450616568327, 0.001675539999268949, 0.03262488543987274, 0.01582586020231247, 0.036159973591566086, 0.030611684545874596, 0.011427517049014568, 0.09673242270946503, 0.010973342694342136, 0.008481135591864586, 0.012799203395843506, 0.007498940918594599, 0.011532474309206009, 0.06445249170064926, 0.043668266385793686, 0.1111556887626648, 0.0034013078548014164, 0.00656038336455822, 0.0, 0.0, 0.0, 0.0, 0.0, 0.0], [0.4656479060649872, 0.014987868256866932, 0.00390339782461524, 0.0025599668733775616, 0.053898315876722336, 0.05258052796125412, 0.04422975331544876, 0.01721685193479061, 0.01598966494202614, 0.06047338619828224, 0.012616022489964962, 0.007972490973770618, 0.009730914607644081, 0.003482076106593013, 0.0184949841350317, 0.030388936400413513, 0.022117245942354202, 0.10410823673009872, 0.017978835850954056, 0.03579157218337059, 0.00583102460950613, 0.0, 0.0, 0.0, 0.0, 0.0], [0.5453954935073853, 0.014536280184984207, 0.005440554115921259, 0.00608858373016119, 0.014768101274967194, 0.019753791391849518, 0.022396383807063103, 0.015590058639645576, 0.017937516793608665, 0.02344224601984024, 0.027979645878076553, 0.008894993923604488, 0.02890115976333618, 0.011706739664077759, 0.03379861265420914, 0.040844522416591644, 0.028024893254041672, 0.0369032621383667, 0.01773017831146717, 0.04088107496500015, 0.009520958177745342, 0.029464881867170334, 0.0, 0.0, 0.0, 0.0], [0.20468387007713318, 0.007995600812137127, 0.0018338706577196717, 0.0037691497709602118, 0.06032060459256172, 0.07190106064081192, 0.04589029401540756, 0.008064007386565208, 0.015118817798793316, 0.0876314640045166, 0.02393312193453312, 0.011803686618804932, 0.014042164199054241, 0.00410711532458663, 0.027529528364539146, 0.026778288185596466, 0.01709558442234993, 0.14865243434906006, 0.03608999401330948, 0.10474570840597153, 0.012561420910060406, 0.044635601341724396, 0.020816637203097343, 0.0, 0.0, 0.0], [0.4705387055873871, 0.009748713113367558, 0.0031964925583451986, 0.008544848300516605, 0.032021891325712204, 0.024099072441458702, 0.028289945796132088, 0.005975244101136923, 0.02175869233906269, 0.03694405034184456, 0.0160999596118927, 0.012353993952274323, 0.01112218014895916, 0.007860844023525715, 0.02681782655417919, 0.03348323702812195, 0.033000536262989044, 0.063066266477108, 0.0232496690005064, 0.0630265548825264, 0.009854151867330074, 0.02570728026330471, 0.029434580355882645, 0.003805258311331272, 0.0, 0.0], [0.36604979634284973, 0.004401621874421835, 0.0018401856068521738, 0.005096595734357834, 0.07033288478851318, 0.011250486597418785, 0.03142222762107849, 0.0060984184965491295, 0.012173903174698353, 0.08677642047405243, 0.01210036687552929, 0.006397515069693327, 0.010982711799442768, 0.003311257343739271, 0.014098076149821281, 0.02861883118748665, 0.016123203560709953, 0.13534125685691833, 0.01832696795463562, 0.03974590450525284, 0.006413526367396116, 0.06414152681827545, 0.014952569268643856, 0.014569859020411968, 0.01943383552134037, 0.0], [0.5563634037971497, 0.017350593581795692, 0.009622273035347462, 0.012346863746643066, 0.007999359630048275, 0.00619075633585453, 0.010341924615204334, 0.006109337322413921, 0.017824459820985794, 0.02120727300643921, 0.013404290191829205, 0.007623730227351189, 0.006561661139130592, 0.0032616800162941217, 0.010646671988070011, 0.016499172896146774, 0.02180010825395584, 0.014603160321712494, 0.01028741616755724, 0.02018250897526741, 0.012264877557754517, 0.046314794570207596, 0.033446379005908966, 0.020966224372386932, 0.03751104697585106, 0.05927002802491188]], [[1.0, 0.0, 0.0, 0.0, 0.0, 0.0, 0.0, 0.0, 0.0, 0.0, 0.0, 0.0, 0.0, 0.0, 0.0, 0.0, 0.0, 0.0, 0.0, 0.0, 0.0, 0.0, 0.0, 0.0, 0.0, 0.0], [0.9902958273887634, 0.009704149328172207, 0.0, 0.0, 0.0, 0.0, 0.0, 0.0, 0.0, 0.0, 0.0, 0.0, 0.0, 0.0, 0.0, 0.0, 0.0, 0.0, 0.0, 0.0, 0.0, 0.0, 0.0, 0.0, 0.0, 0.0], [0.9527074098587036, 0.015087064355611801, 0.03220544755458832, 0.0, 0.0, 0.0, 0.0, 0.0, 0.0, 0.0, 0.0, 0.0, 0.0, 0.0, 0.0, 0.0, 0.0, 0.0, 0.0, 0.0, 0.0, 0.0, 0.0, 0.0, 0.0, 0.0], [0.8774311542510986, 0.02273029088973999, 0.06313218921422958, 0.036706309765577316, 0.0, 0.0, 0.0, 0.0, 0.0, 0.0, 0.0, 0.0, 0.0, 0.0, 0.0, 0.0, 0.0, 0.0, 0.0, 0.0, 0.0, 0.0, 0.0, 0.0, 0.0, 0.0], [0.9200287461280823, 0.006404797080904245, 0.019227784126996994, 0.03781883418560028, 0.01651979796588421, 0.0, 0.0, 0.0, 0.0, 0.0, 0.0, 0.0, 0.0, 0.0, 0.0, 0.0, 0.0, 0.0, 0.0, 0.0, 0.0, 0.0, 0.0, 0.0, 0.0, 0.0], [0.8000949025154114, 0.0053585972636938095, 0.0321408212184906, 0.09004699438810349, 0.018654968589544296, 0.05370374396443367, 0.0, 0.0, 0.0, 0.0, 0.0, 0.0, 0.0, 0.0, 0.0, 0.0, 0.0, 0.0, 0.0, 0.0, 0.0, 0.0, 0.0, 0.0, 0.0, 0.0], [0.7575840950012207, 0.009319429285824299, 0.031910113990306854, 0.11162599176168442, 0.01789507456123829, 0.03062409907579422, 0.041041307151317596, 0.0, 0.0, 0.0, 0.0, 0.0, 0.0, 0.0, 0.0, 0.0, 0.0, 0.0, 0.0, 0.0, 0.0, 0.0, 0.0, 0.0, 0.0, 0.0], [0.8615378737449646, 0.007509494666010141, 0.01846780627965927, 0.05190981924533844, 0.0068995654582977295, 0.01747247390449047, 0.02632097154855728, 0.009881919249892235, 0.0, 0.0, 0.0, 0.0, 0.0, 0.0, 0.0, 0.0, 0.0, 0.0, 0.0, 0.0, 0.0, 0.0, 0.0, 0.0, 0.0, 0.0], [0.6398100852966309, 0.025425104424357414, 0.022461287677288055, 0.07792376726865768, 0.04997572675347328, 0.04562589153647423, 0.07465796917676926, 0.013170273043215275, 0.05094993859529495, 0.0, 0.0, 0.0, 0.0, 0.0, 0.0, 0.0, 0.0, 0.0, 0.0, 0.0, 0.0, 0.0, 0.0, 0.0, 0.0, 0.0], [0.9263479709625244, 0.004768412560224533, 0.013459708541631699, 0.012754557654261589, 0.004992527887225151, 0.0021869433112442493, 0.005913213826715946, 0.0021159318275749683, 0.005397128406912088, 0.022063618525862694, 0.0, 0.0, 0.0, 0.0, 0.0, 0.0, 0.0, 0.0, 0.0, 0.0, 0.0, 0.0, 0.0, 0.0, 0.0, 0.0], [0.7081549167633057, 0.015463904477655888, 0.018702806904911995, 0.030042864382267, 0.02270069159567356, 0.01935412921011448, 0.023848578333854675, 0.012433343566954136, 0.0187889002263546, 0.10032346844673157, 0.030186399817466736, 0.0, 0.0, 0.0, 0.0, 0.0, 0.0, 0.0, 0.0, 0.0, 0.0, 0.0, 0.0, 0.0, 0.0, 0.0], [0.6162611246109009, 0.00918678380548954, 0.021000787615776062, 0.03566274791955948, 0.025851817801594734, 0.018180688843131065, 0.045866165310144424, 0.008865167386829853, 0.023417023941874504, 0.11801107972860336, 0.04240766912698746, 0.03528888523578644, 0.0, 0.0, 0.0, 0.0, 0.0, 0.0, 0.0, 0.0, 0.0, 0.0, 0.0, 0.0, 0.0, 0.0], [0.5523867607116699, 0.00969963613897562, 0.030476322397589684, 0.030187534168362617, 0.06821750104427338, 0.029187459498643875, 0.06806795299053192, 0.021995503455400467, 0.018771285191178322, 0.08419216424226761, 0.03356649726629257, 0.03770946338772774, 0.015541893430054188, 0.0, 0.0, 0.0, 0.0, 0.0, 0.0, 0.0, 0.0, 0.0, 0.0, 0.0, 0.0, 0.0], [0.7904823422431946, 0.01082210149616003, 0.023422416299581528, 0.02795230783522129, 0.007980247028172016, 0.01437363214790821, 0.022547917440533638, 0.0330616720020771, 0.016955962404608727, 0.019949009642004967, 0.016902336850762367, 0.0060505494475364685, 0.007712831720709801, 0.0017866858979687095, 0.0, 0.0, 0.0, 0.0, 0.0, 0.0, 0.0, 0.0, 0.0, 0.0, 0.0, 0.0], [0.5045743584632874, 0.004023450426757336, 0.0532102957367897, 0.02909080870449543, 0.03171059861779213, 0.020742954686284065, 0.12411554157733917, 0.03648517653346062, 0.02234026789665222, 0.07161325216293335, 0.04050295427441597, 0.02803852967917919, 0.01009262353181839, 0.016127225011587143, 0.007331962697207928, 0.0, 0.0, 0.0, 0.0, 0.0, 0.0, 0.0, 0.0, 0.0, 0.0, 0.0], [0.7736191153526306, 0.003956465050578117, 0.009947149083018303, 0.015712663531303406, 0.007026550825685263, 0.008068067952990532, 0.03664484620094299, 0.00864253006875515, 0.008321575820446014, 0.03867875784635544, 0.01586279086768627, 0.03396938741207123, 0.010225941427052021, 0.0022909599356353283, 0.0069528608582913876, 0.020080355927348137, 0.0, 0.0, 0.0, 0.0, 0.0, 0.0, 0.0, 0.0, 0.0, 0.0], [0.509274959564209, 0.0075739966705441475, 0.01614363305270672, 0.025730034336447716, 0.02453613467514515, 0.013028284534811974, 0.07698339968919754, 0.013598563149571419, 0.014544771052896976, 0.12570436298847198, 0.02698247879743576, 0.05971835181117058, 0.019351696595549583, 0.004116410855203867, 0.010130228474736214, 0.031945064663887024, 0.02063755877315998, 0.0, 0.0, 0.0, 0.0, 0.0, 0.0, 0.0, 0.0, 0.0], [0.8541560769081116, 0.002527419477701187, 0.009152376092970371, 0.011124959215521812, 0.007087113801389933, 0.0028186303097754717, 0.010168880224227905, 0.002384160179644823, 0.003991663921624422, 0.028423387557268143, 0.005764305591583252, 0.011267958208918571, 0.0024136733263731003, 0.0016109028365463018, 0.0036468219477683306, 0.008625605143606663, 0.003975795116275549, 0.030860137194395065, 0.0, 0.0, 0.0, 0.0, 0.0, 0.0, 0.0, 0.0], [0.33586636185646057, 0.001549019361846149, 0.022650448605418205, 0.040544506162405014, 0.0365828201174736, 0.03426932170987129, 0.05173252895474434, 0.004850073251873255, 0.02597866579890251, 0.06149369105696678, 0.03981167823076248, 0.09466826915740967, 0.013748821802437305, 0.007222640793770552, 0.018366139382123947, 0.05942968651652336, 0.028287269175052643, 0.09485997259616852, 0.028088107705116272, 0.0, 0.0, 0.0, 0.0, 0.0, 0.0, 0.0], [0.380395770072937, 0.001829533721320331, 0.03632145747542381, 0.02231517992913723, 0.08106786012649536, 0.03061102144420147, 0.06122271344065666, 0.007857444696128368, 0.010895362123847008, 0.08273304998874664, 0.024426190182566643, 0.05286330357193947, 0.007554824464023113, 0.011210561729967594, 0.005616030655801296, 0.053086668252944946, 0.013931277208030224, 0.05309365317225456, 0.044660214334726334, 0.01830792799592018, 0.0, 0.0, 0.0, 0.0, 0.0, 0.0], [0.6377896070480347, 0.009521315805613995, 0.017008576542139053, 0.018988853320479393, 0.02286061830818653, 0.02180846780538559, 0.023349104449152946, 0.008124704472720623, 0.009523458778858185, 0.03832590952515602, 0.017243267968297005, 0.01851372793316841, 0.005309112835675478, 0.0018478077836334705, 0.008114621974527836, 0.008262533694505692, 0.007153232116252184, 0.045310527086257935, 0.027278533205389977, 0.0483526773750782, 0.005313296336680651, 0.0, 0.0, 0.0, 0.0, 0.0], [0.8063147068023682, 0.004038501530885696, 0.01894678920507431, 0.04624134302139282, 0.0014769613044336438, 0.0023869669530540705, 0.010293902829289436, 0.004758692812174559, 0.006333065684884787, 0.01016133651137352, 0.012285389006137848, 0.03138583153486252, 0.0029248003847897053, 0.002701918361708522, 0.0025912888813763857, 0.007264469750225544, 0.008103293366730213, 0.008724491111934185, 0.002791802166029811, 0.007078732829540968, 0.0026554514188319445, 0.0005402591777965426, 0.0, 0.0, 0.0, 0.0], [0.5037961602210999, 0.007800907827913761, 0.011806529946625233, 0.025986889377236366, 0.01940358616411686, 0.00988606084138155, 0.039496228098869324, 0.007305328268557787, 0.00969103816896677, 0.1185072585940361, 0.0273002777248621, 0.0422334149479866, 0.011887196451425552, 0.003381485352292657, 0.004799194168299437, 0.012708088383078575, 0.01117794681340456, 0.07356321811676025, 0.010489403270184994, 0.03120442107319832, 0.0086950259283185, 0.0030004677828401327, 0.005879787262529135, 0.0, 0.0, 0.0], [0.6434665322303772, 0.0111456960439682, 0.018256444483995438, 0.03633742406964302, 0.008363350294530392, 0.007084486540406942, 0.019173691049218178, 0.00947056245058775, 0.009845243766903877, 0.03130839392542839, 0.03672131150960922, 0.03556082025170326, 0.009872100315988064, 0.008287289179861546, 0.007840301841497421, 0.013259083963930607, 0.017361339181661606, 0.021758271381258965, 0.006992186885327101, 0.021933602169156075, 0.00835672952234745, 0.00334586831741035, 0.008306263014674187, 0.005953090265393257, 0.0, 0.0], [0.3653877079486847, 0.010192823596298695, 0.025733696296811104, 0.048154834657907486, 0.04371127113699913, 0.011054147966206074, 0.05192652717232704, 0.010995781980454922, 0.013906991109251976, 0.1048293337225914, 0.03756188601255417, 0.02461305633187294, 0.018436621874570847, 0.004871949553489685, 0.0052465456537902355, 0.012025042437016964, 0.013569132424890995, 0.0916161984205246, 0.01222163811326027, 0.035015616565942764, 0.011588641442358494, 0.0058946767821908, 0.008809707127511501, 0.011673973873257637, 0.020962147042155266, 0.0], [0.8237165212631226, 0.0025071026757359505, 0.021452322602272034, 0.019844308495521545, 0.008356984704732895, 0.0016776601551100612, 0.008421189151704311, 0.0017826013499870896, 0.003009673673659563, 0.02343417890369892, 0.005693242885172367, 0.01568332128226757, 0.002369148191064596, 0.0014582667499780655, 0.001873145462013781, 0.008785919286310673, 0.005047537386417389, 0.012856438755989075, 0.0025289489421993494, 0.004831548314541578, 0.0022563461679965258, 0.0006215411121957004, 0.0027415964286774397, 0.0014727248344570398, 0.00483029056340456, 0.012747426517307758]], [[1.0, 0.0, 0.0, 0.0, 0.0, 0.0, 0.0, 0.0, 0.0, 0.0, 0.0, 0.0, 0.0, 0.0, 0.0, 0.0, 0.0, 0.0, 0.0, 0.0, 0.0, 0.0, 0.0, 0.0, 0.0, 0.0], [0.9967623949050903, 0.0032376328017562628, 0.0, 0.0, 0.0, 0.0, 0.0, 0.0, 0.0, 0.0, 0.0, 0.0, 0.0, 0.0, 0.0, 0.0, 0.0, 0.0, 0.0, 0.0, 0.0, 0.0, 0.0, 0.0, 0.0, 0.0], [0.9812664985656738, 0.013613281771540642, 0.005120180547237396, 0.0, 0.0, 0.0, 0.0, 0.0, 0.0, 0.0, 0.0, 0.0, 0.0, 0.0, 0.0, 0.0, 0.0, 0.0, 0.0, 0.0, 0.0, 0.0, 0.0, 0.0, 0.0, 0.0], [0.979669451713562, 0.012847501784563065, 0.004257484804838896, 0.0032254797406494617, 0.0, 0.0, 0.0, 0.0, 0.0, 0.0, 0.0, 0.0, 0.0, 0.0, 0.0, 0.0, 0.0, 0.0, 0.0, 0.0, 0.0, 0.0, 0.0, 0.0, 0.0, 0.0], [0.9918050765991211, 0.0004446292878128588, 0.00279907020740211, 0.0007581387180835009, 0.004193101543933153, 0.0, 0.0, 0.0, 0.0, 0.0, 0.0, 0.0, 0.0, 0.0, 0.0, 0.0, 0.0, 0.0, 0.0, 0.0, 0.0, 0.0, 0.0, 0.0, 0.0, 0.0], [0.9754748940467834, 0.001354159670881927, 0.002064327010884881, 0.0007176577928476036, 0.013935490511357784, 0.006453551352024078, 0.0, 0.0, 0.0, 0.0, 0.0, 0.0, 0.0, 0.0, 0.0, 0.0, 0.0, 0.0, 0.0, 0.0, 0.0, 0.0, 0.0, 0.0, 0.0, 0.0], [0.9808578491210938, 0.0008139972342178226, 0.0008249487727880478, 0.0008728232351131737, 0.0029066274873912334, 0.0002551197540014982, 0.013468710705637932, 0.0, 0.0, 0.0, 0.0, 0.0, 0.0, 0.0, 0.0, 0.0, 0.0, 0.0, 0.0, 0.0, 0.0, 0.0, 0.0, 0.0, 0.0, 0.0], [0.9745771884918213, 0.00216506514698267, 0.0006111888797022402, 0.000746400561183691, 0.004639300052076578, 0.0002593071258161217, 0.013828244991600513, 0.0031733778305351734, 0.0, 0.0, 0.0, 0.0, 0.0, 0.0, 0.0, 0.0, 0.0, 0.0, 0.0, 0.0, 0.0, 0.0, 0.0, 0.0, 0.0, 0.0], [0.9602261781692505, 0.0019222275586798787, 0.0017198256682604551, 0.0006085280328989029, 0.0066268835216760635, 7.39388051442802e-05, 0.019563231617212296, 0.002077890560030937, 0.007181340828537941, 0.0, 0.0, 0.0, 0.0, 0.0, 0.0, 0.0, 0.0, 0.0, 0.0, 0.0, 0.0, 0.0, 0.0, 0.0, 0.0, 0.0], [0.9629727602005005, 0.0025130060967057943, 0.000698220741469413, 0.0008492577471770346, 0.0010673482902348042, 8.25417519081384e-05, 0.008244785480201244, 0.0032173776999115944, 0.002617820631712675, 0.017736852169036865, 0.0, 0.0, 0.0, 0.0, 0.0, 0.0, 0.0, 0.0, 0.0, 0.0, 0.0, 0.0, 0.0, 0.0, 0.0, 0.0], [0.9460853934288025, 0.00224078306928277, 0.0013648797757923603, 0.0005711223348043859, 0.0021240918431431055, 3.3437438105465844e-05, 0.006607445888221264, 0.0012227711267769337, 0.0013142406241968274, 0.037691716104745865, 0.000744027434848249, 0.0, 0.0, 0.0, 0.0, 0.0, 0.0, 0.0, 0.0, 0.0, 0.0, 0.0, 0.0, 0.0, 0.0, 0.0], [0.9222768545150757, 0.0010822139447554946, 0.0034532235004007816, 0.0005399963119998574, 0.0010589456651359797, 5.465528738568537e-05, 0.012456884607672691, 0.002134382026270032, 0.0014611798105761409, 0.05291550233960152, 0.0009487599018029869, 0.0016173678450286388, 0.0, 0.0, 0.0, 0.0, 0.0, 0.0, 0.0, 0.0, 0.0, 0.0, 0.0, 0.0, 0.0, 0.0], [0.7872130870819092, 0.0006749838939867914, 0.0045023951679468155, 0.0026795263402163982, 0.012869921512901783, 0.0008971544448286295, 0.06300458312034607, 0.010758844204246998, 0.004372008610516787, 0.0945865660905838, 0.0008922394481487572, 0.001166483387351036, 0.016382236033678055, 0.0, 0.0, 0.0, 0.0, 0.0, 0.0, 0.0, 0.0, 0.0, 0.0, 0.0, 0.0, 0.0], [0.8643889427185059, 0.0031770961359143257, 0.00139655452221632, 0.0021720528602600098, 0.021234586834907532, 0.0007396800210699439, 0.03902122750878334, 0.008296986110508442, 0.004222020041197538, 0.05083151534199715, 0.000811253092251718, 0.0011270616669207811, 0.0010578988585621119, 0.0015231450088322163, 0.0, 0.0, 0.0, 0.0, 0.0, 0.0, 0.0, 0.0, 0.0, 0.0, 0.0, 0.0], [0.8699823021888733, 0.000548571115359664, 0.0045365216210484505, 0.0011867914581671357, 0.005058901384472847, 0.0007989393197931349, 0.06028706207871437, 0.011386229656636715, 0.0030701379291713238, 0.03853848949074745, 0.00033244749647565186, 0.0006500607123598456, 0.0007382172625511885, 0.00123040028847754, 0.0016549567226320505, 0.0, 0.0, 0.0, 0.0, 0.0, 0.0, 0.0, 0.0, 0.0, 0.0, 0.0], [0.3724058270454407, 0.004106099251657724, 0.0012267682468518615, 0.00044409590191207826, 0.03131677582859993, 0.00035372658749110997, 0.19985875487327576, 0.01999359019100666, 0.007706219330430031, 0.3349459767341614, 0.003122053574770689, 0.002919949823990464, 0.0005285092047415674, 0.0004917953046970069, 0.000347353023244068, 0.020232519134879112, 0.0, 0.0, 0.0, 0.0, 0.0, 0.0, 0.0, 0.0, 0.0, 0.0], [0.20120832324028015, 0.004653135314583778, 0.001675577717833221, 0.0007920207572169602, 0.029151033610105515, 0.0002385096886428073, 0.19347026944160461, 0.006442345213145018, 0.006898368708789349, 0.544998824596405, 0.0012776479125022888, 0.003096997272223234, 0.00043077461305074394, 0.00020221110025886446, 0.0001531854795757681, 0.0036407895386219025, 0.0016699919942766428, 0.0, 0.0, 0.0, 0.0, 0.0, 0.0, 0.0, 0.0, 0.0], [0.7851319909095764, 0.0038116297218948603, 0.005950749386101961, 0.0027333677280694246, 0.013298055157065392, 0.0011471774196252227, 0.03498172014951706, 0.04428653419017792, 0.014132948592305183, 0.055085666477680206, 0.009564824402332306, 0.003310289466753602, 0.0001695980317890644, 0.0005142209702171385, 0.00032458011992275715, 0.001835133065469563, 0.0018193965079262853, 0.021902017295360565, 0.0, 0.0, 0.0, 0.0, 0.0, 0.0, 0.0, 0.0], [0.8841959238052368, 0.0028078858740627766, 0.0033070596400648355, 0.0016846382059156895, 0.01730942726135254, 0.0002467342419549823, 0.004164389334619045, 0.0017057955265045166, 0.0030695712193846703, 0.05085233971476555, 0.001203950960189104, 0.0032311277464032173, 0.00035170928458683193, 0.0003432311932556331, 0.0004688735061790794, 0.013278327882289886, 0.003915106877684593, 0.0045814355835318565, 0.003282475285232067, 0.0, 0.0, 0.0, 0.0, 0.0, 0.0, 0.0], [0.9255428910255432, 0.0008703683852218091, 0.011604081839323044, 0.0006675287731923163, 0.002994496375322342, 0.00011356741742929444, 0.004140108823776245, 0.0012431666254997253, 0.0011644945479929447, 0.022301169112324715, 0.0003092642582487315, 0.0010435832664370537, 0.0001667445758357644, 0.00031036807922646403, 0.00025842830655165017, 0.01761052943766117, 0.0020740993786603212, 0.0022976400796324015, 0.002349568996578455, 0.002937954617664218, 0.0, 0.0, 0.0, 0.0, 0.0, 0.0], [0.7872740626335144, 0.0035452377051115036, 0.0010669291950762272, 0.0010191701585426927, 0.0111412163823843, 0.00019739021081477404, 0.008944123983383179, 0.0002771233266685158, 0.0013740251306444407, 0.07399021089076996, 0.0012563671916723251, 0.0030163757037371397, 0.00038830150151625276, 0.0003997072053607553, 0.0003463936154730618, 0.00892311055213213, 0.0020037535578012466, 0.06356369704008102, 0.0010422342456877232, 0.00267691258341074, 0.02755367010831833, 0.0, 0.0, 0.0, 0.0, 0.0], [0.8754039406776428, 0.0010662166168913245, 0.0003288180159870535, 0.00018808295135386288, 0.0079606082290411, 0.00021975563140586019, 0.012564701959490776, 0.003699954366311431, 0.0019323044689372182, 0.023614130914211273, 0.0016160312807187438, 0.0007655798690393567, 0.00031651929020881653, 0.0007251953356899321, 0.00047790727694518864, 0.0025405550841242075, 0.003006739541888237, 0.04305598512291908, 0.00020020504598505795, 0.0019751638174057007, 0.0041356454603374004, 0.014206030406057835, 0.0, 0.0, 0.0, 0.0], [0.19579307734966278, 0.0031612240709364414, 0.0005771779688075185, 0.0004435409209690988, 0.009875286370515823, 7.770567754050717e-05, 0.033134907484054565, 0.0024716383777558804, 0.002097592456266284, 0.4533328115940094, 0.0011445499258115888, 0.0031326021999120712, 0.0003845193423330784, 0.0002523331786505878, 0.00018546289356891066, 0.0014543564757332206, 0.0007480569183826447, 0.27541807293891907, 0.0001008913604891859, 0.001425978378392756, 0.0045796604827046394, 0.007878633216023445, 0.002329852432012558, 0.0, 0.0, 0.0], [0.8767554759979248, 0.0005515578086487949, 0.0020083633717149496, 0.0007806503563188016, 0.003090518992394209, 0.00019355701806489378, 0.008974794298410416, 0.0019448997918516397, 0.0035295002162456512, 0.05503925308585167, 0.0025188815779983997, 0.0025167842395603657, 0.0008359650382772088, 0.004169641062617302, 0.0003688241122290492, 0.0006147529347799718, 0.0003900857118424028, 0.027515854686498642, 0.0006748813902959228, 0.0014836896443739533, 0.0019075385062023997, 0.0009730008314363658, 0.0006165184313431382, 0.002544968854635954, 0.0, 0.0], [0.47133636474609375, 0.002113447757437825, 0.002979269716888666, 0.0010210039326921105, 0.009627901017665863, 0.00018008120241574943, 0.022030740976333618, 0.0007069593411870301, 0.0007493030279874802, 0.23638157546520233, 0.0006312408950179815, 0.001148814451880753, 0.001228504115715623, 0.0006157150492072105, 0.00012117513688281178, 0.0007437782478518784, 0.000449681916506961, 0.20465601980686188, 0.00012342541594989598, 0.0009496906423009932, 0.003757668659090996, 0.005861337762326002, 0.002031178679317236, 0.016611794009804726, 0.01394339557737112, 0.0], [0.9084113836288452, 0.002344174776226282, 0.0007377729052677751, 0.0009408241021446884, 0.0015957474242895842, 0.0001366345095448196, 0.010232828557491302, 0.004359791986644268, 0.004098947625607252, 0.018870079889893532, 0.016771923750638962, 0.001616353285498917, 8.730866829864681e-05, 0.00022278216783888638, 0.000132639761432074, 0.00026927224826067686, 0.0013301853323355317, 0.004669732879847288, 5.675711145158857e-05, 0.0007722192094661295, 0.00019883541972376406, 0.0010032298741862178, 0.0013121766969561577, 0.0014298398746177554, 0.0015301558887585998, 0.016868459060788155]], [[1.0, 0.0, 0.0, 0.0, 0.0, 0.0, 0.0, 0.0, 0.0, 0.0, 0.0, 0.0, 0.0, 0.0, 0.0, 0.0, 0.0, 0.0, 0.0, 0.0, 0.0, 0.0, 0.0, 0.0, 0.0, 0.0], [0.972687304019928, 0.027312684804201126, 0.0, 0.0, 0.0, 0.0, 0.0, 0.0, 0.0, 0.0, 0.0, 0.0, 0.0, 0.0, 0.0, 0.0, 0.0, 0.0, 0.0, 0.0, 0.0, 0.0, 0.0, 0.0, 0.0, 0.0], [0.8611726760864258, 0.04824954643845558, 0.09057775139808655, 0.0, 0.0, 0.0, 0.0, 0.0, 0.0, 0.0, 0.0, 0.0, 0.0, 0.0, 0.0, 0.0, 0.0, 0.0, 0.0, 0.0, 0.0, 0.0, 0.0, 0.0, 0.0, 0.0], [0.8816862106323242, 0.0045469882898032665, 0.07255078107118607, 0.04121602699160576, 0.0, 0.0, 0.0, 0.0, 0.0, 0.0, 0.0, 0.0, 0.0, 0.0, 0.0, 0.0, 0.0, 0.0, 0.0, 0.0, 0.0, 0.0, 0.0, 0.0, 0.0, 0.0], [0.8357689380645752, 0.005322485230863094, 0.04114965349435806, 0.08356252312660217, 0.0341963991522789, 0.0, 0.0, 0.0, 0.0, 0.0, 0.0, 0.0, 0.0, 0.0, 0.0, 0.0, 0.0, 0.0, 0.0, 0.0, 0.0, 0.0, 0.0, 0.0, 0.0, 0.0], [0.6239097118377686, 0.008968452922999859, 0.04668760672211647, 0.08813297003507614, 0.18761728703975677, 0.0446840263903141, 0.0, 0.0, 0.0, 0.0, 0.0, 0.0, 0.0, 0.0, 0.0, 0.0, 0.0, 0.0, 0.0, 0.0, 0.0, 0.0, 0.0, 0.0, 0.0, 0.0], [0.537382185459137, 0.0016825285274535418, 0.016804050654172897, 0.023995384573936462, 0.0473872646689415, 0.17726966738700867, 0.19547896087169647, 0.0, 0.0, 0.0, 0.0, 0.0, 0.0, 0.0, 0.0, 0.0, 0.0, 0.0, 0.0, 0.0, 0.0, 0.0, 0.0, 0.0, 0.0, 0.0], [0.7428408265113831, 0.0009669561986811459, 0.00520650390535593, 0.0066049592569470406, 0.015347183682024479, 0.02205834910273552, 0.08804928511381149, 0.11892586946487427, 0.0, 0.0, 0.0, 0.0, 0.0, 0.0, 0.0, 0.0, 0.0, 0.0, 0.0, 0.0, 0.0, 0.0, 0.0, 0.0, 0.0, 0.0], [0.6727086901664734, 0.0012049780925735831, 0.005838680546730757, 0.011414713226258755, 0.025117667391896248, 0.0248113963752985, 0.08092054724693298, 0.054386261850595474, 0.12359704077243805, 0.0, 0.0, 0.0, 0.0, 0.0, 0.0, 0.0, 0.0, 0.0, 0.0, 0.0, 0.0, 0.0, 0.0, 0.0, 0.0, 0.0], [0.6628174185752869, 0.0018851951463147998, 0.005988607183098793, 0.013500084169209003, 0.008459665812551975, 0.014055208303034306, 0.023756524547934532, 0.022183017805218697, 0.19732488691806793, 0.05002943426370621, 0.0, 0.0, 0.0, 0.0, 0.0, 0.0, 0.0, 0.0, 0.0, 0.0, 0.0, 0.0, 0.0, 0.0, 0.0, 0.0], [0.5210990309715271, 0.001511143520474434, 0.006575148086994886, 0.010358467698097229, 0.011750467121601105, 0.01386311836540699, 0.0671859085559845, 0.06853457540273666, 0.20249712467193604, 0.06712205708026886, 0.029503000900149345, 0.0, 0.0, 0.0, 0.0, 0.0, 0.0, 0.0, 0.0, 0.0, 0.0, 0.0, 0.0, 0.0, 0.0, 0.0], [0.5291953086853027, 0.0012950950767844915, 0.004905459471046925, 0.011932123452425003, 0.009721886366605759, 0.009688959456980228, 0.04318453371524811, 0.01977975107729435, 0.19336187839508057, 0.06303998827934265, 0.0857863500714302, 0.028108667582273483, 0.0, 0.0, 0.0, 0.0, 0.0, 0.0, 0.0, 0.0, 0.0, 0.0, 0.0, 0.0, 0.0, 0.0], [0.8469370007514954, 0.0009444759343750775, 0.005683588795363903, 0.018631990998983383, 0.001994699938222766, 0.0042344206012785435, 0.005572791211307049, 0.011115394532680511, 0.013258364982903004, 0.008335249498486519, 0.045338720083236694, 0.02719033509492874, 0.010762960650026798, 0.0, 0.0, 0.0, 0.0, 0.0, 0.0, 0.0, 0.0, 0.0, 0.0, 0.0, 0.0, 0.0], [0.9252697825431824, 0.00018442663713358343, 0.001507841981947422, 0.0010920849163085222, 0.0004058041959069669, 0.00040383878513239324, 0.0006445409380830824, 0.0030419155955314636, 0.0013639571843668818, 0.003545000683516264, 0.002265417715534568, 0.002639912301674485, 0.04199578985571861, 0.015639642253518105, 0.0, 0.0, 0.0, 0.0, 0.0, 0.0, 0.0, 0.0, 0.0, 0.0, 0.0, 0.0], [0.8139237761497498, 0.0010157445212826133, 0.0014365025563165545, 0.0012045641196891665, 0.00449702562764287, 0.00043568731052801013, 0.008115431293845177, 0.01152119878679514, 0.009039552882313728, 0.020809609442949295, 0.0061205667443573475, 0.0073406146839261055, 0.028849614784121513, 0.05961066111922264, 0.026079388335347176, 0.0, 0.0, 0.0, 0.0, 0.0, 0.0, 0.0, 0.0, 0.0, 0.0, 0.0], [0.8714746236801147, 0.00015645395615138113, 0.0002590835210867226, 0.00034247542498633265, 0.0007909443229436874, 0.0003517818113323301, 0.0011775147868320346, 0.00810870248824358, 0.0028499667532742023, 0.0024529057554900646, 0.0029453865718096495, 0.0015888531925156713, 0.00462394580245018, 0.012080310843884945, 0.03411323204636574, 0.05668388307094574, 0.0, 0.0, 0.0, 0.0, 0.0, 0.0, 0.0, 0.0, 0.0, 0.0], [0.8991469740867615, 0.00011328503751428798, 0.00014426076086238027, 0.0002533386286813766, 0.0007474505691789091, 0.00024976994609460235, 0.0018431164789944887, 0.0028640921227633953, 0.003576521994546056, 0.0025104840751737356, 0.0012717328500002623, 0.0006802909192629158, 0.0024847036693245173, 0.0029421995859593153, 0.013603996485471725, 0.0322917178273201, 0.035276077687740326, 0.0, 0.0, 0.0, 0.0, 0.0, 0.0, 0.0, 0.0, 0.0], [0.203288272023201, 8.77561469678767e-05, 0.0002622234169393778, 0.0009936561109498143, 0.0007368699880316854, 0.0004763762408401817, 0.0011633879039436579, 0.002015705918893218, 0.002454435918480158, 0.005746033042669296, 0.004892619326710701, 0.002359003759920597, 0.008410243317484856, 0.034382421523332596, 0.252885103225708, 0.3199205994606018, 0.15005141496658325, 0.00987384095788002, 0.0, 0.0, 0.0, 0.0, 0.0, 0.0, 0.0, 0.0], [0.6757609248161316, 0.0019376343116164207, 0.005420280620455742, 0.011599132791161537, 0.006401862949132919, 0.0004435718001332134, 0.01891557313501835, 0.011991485953330994, 0.005662978161126375, 0.04532197490334511, 0.006179428659379482, 0.0015252139419317245, 0.0038028215058147907, 0.03615995869040489, 0.010037044994533062, 0.03853444382548332, 0.00955465342849493, 0.030474329367280006, 0.08027666062116623, 0.0, 0.0, 0.0, 0.0, 0.0, 0.0, 0.0], [0.5125426650047302, 0.0009926118655130267, 0.002220113994553685, 0.0033552481327205896, 0.003876748960465193, 0.0008180130389519036, 0.011391638778150082, 0.0070085846818983555, 0.007616529706865549, 0.019945072010159492, 0.003967442084103823, 0.0015866128960624337, 0.006014211568981409, 0.02412831410765648, 0.02114766836166382, 0.027332482859492302, 0.01728881523013115, 0.017209090292453766, 0.15013286471366882, 0.16142524778842926, 0.0, 0.0, 0.0, 0.0, 0.0, 0.0], [0.9301131963729858, 0.00011378878843970597, 8.761510252952576e-05, 9.185635281028226e-05, 0.00010744012251961976, 5.929120015935041e-05, 0.0002004296111408621, 0.0002762588846962899, 0.0009043730678968132, 0.0007032041903585196, 0.0006086567300371826, 0.0003251014568377286, 0.0002762106596492231, 0.00020202877931296825, 0.0028689156752079725, 0.0023812290746718645, 0.0034478313755244017, 0.00047121121315285563, 0.005172491539269686, 0.03644636645913124, 0.015142460353672504, 0.0, 0.0, 0.0, 0.0, 0.0], [0.8682422637939453, 0.0003684417170006782, 0.0005308176623657346, 0.0005302944919094443, 0.00019278525724075735, 0.00015442130097653717, 0.000380571698769927, 0.0008882582769729197, 0.000867895723786205, 0.0011662625474855304, 0.0005074029904790223, 0.0012634819140657783, 0.0007199477404356003, 0.0006806672317907214, 0.004514290019869804, 0.005064547527581453, 0.002349737798795104, 0.000452290172688663, 0.010281067341566086, 0.04354820400476456, 0.03755303844809532, 0.019743280485272408, 0.0, 0.0, 0.0, 0.0], [0.9067844748497009, 5.179972868063487e-05, 7.675337110413238e-05, 0.00010473038128111511, 0.00010623253911035135, 8.61904482007958e-05, 0.0005460084066726267, 0.0006369000766426325, 0.0009747214498929679, 0.0009588560787960887, 0.0004221443959977478, 0.0004765682388097048, 0.00045578222488984466, 0.00015875710232648998, 0.0012348148738965392, 0.0028015265706926584, 0.002686999039724469, 0.00156575592700392, 0.019073719158768654, 0.01909671537578106, 0.005490804091095924, 0.01787196472287178, 0.0183379128575325, 0.0, 0.0, 0.0], [0.6779044270515442, 4.6359695261344314e-05, 9.477611456532031e-05, 0.00011715928849298507, 7.64493815950118e-05, 4.8485675506526604e-05, 0.0003457734128460288, 0.00043543471838347614, 0.002033122582361102, 0.001453913631848991, 0.0003781762206926942, 0.0011806214461103082, 0.0004509012505877763, 9.599468467058614e-05, 0.0008383439853787422, 0.0048823729157447815, 0.018027883023023605, 0.0019046597881242633, 0.007654035463929176, 0.01244857907295227, 0.014059941284358501, 0.04770946502685547, 0.1854717880487442, 0.02234133891761303, 0.0, 0.0], [0.7745728492736816, 6.982948980294168e-05, 3.574522997951135e-05, 9.293951006839052e-05, 0.00015192426508292556, 5.3353265684563667e-05, 0.0003209634742233902, 0.0003986853116657585, 0.0012970237294211984, 0.0008928266470320523, 0.0001754482218530029, 0.0010987576097249985, 0.0019047148525714874, 0.0001574699126649648, 0.0007068635313771665, 0.00555670028552413, 0.01757570542395115, 0.0019374997355043888, 0.007971535436809063, 0.004991328809410334, 0.0036370866000652313, 0.01886833645403385, 0.08909743279218674, 0.024927489459514618, 0.04350753501057625, 0.0], [0.4018275737762451, 0.00014118931721895933, 8.653728582430631e-05, 0.0001725893234834075, 0.00010296824621036649, 8.71780066518113e-05, 0.0002972048241645098, 0.00014235498383641243, 0.001097382977604866, 0.0011370404390618205, 0.00046986420056782663, 0.0012045546900480986, 0.000450841907877475, 0.0003138706088066101, 0.0035813627764582634, 0.007999623194336891, 0.008889996446669102, 0.000672483176458627, 0.007144830655306578, 0.021188389509916306, 0.008857990615069866, 0.15204916894435883, 0.17853142321109772, 0.05399961397051811, 0.1366446167230606, 0.012909303419291973]], [[1.0, 0.0, 0.0, 0.0, 0.0, 0.0, 0.0, 0.0, 0.0, 0.0, 0.0, 0.0, 0.0, 0.0, 0.0, 0.0, 0.0, 0.0, 0.0, 0.0, 0.0, 0.0, 0.0, 0.0, 0.0, 0.0], [0.9959070682525635, 0.004092910792678595, 0.0, 0.0, 0.0, 0.0, 0.0, 0.0, 0.0, 0.0, 0.0, 0.0, 0.0, 0.0, 0.0, 0.0, 0.0, 0.0, 0.0, 0.0, 0.0, 0.0, 0.0, 0.0, 0.0, 0.0], [0.9848195314407349, 0.009571111761033535, 0.005609349347651005, 0.0, 0.0, 0.0, 0.0, 0.0, 0.0, 0.0, 0.0, 0.0, 0.0, 0.0, 0.0, 0.0, 0.0, 0.0, 0.0, 0.0, 0.0, 0.0, 0.0, 0.0, 0.0, 0.0], [0.9788694977760315, 0.004961908329278231, 0.008643035776913166, 0.0075255995616316795, 0.0, 0.0, 0.0, 0.0, 0.0, 0.0, 0.0, 0.0, 0.0, 0.0, 0.0, 0.0, 0.0, 0.0, 0.0, 0.0, 0.0, 0.0, 0.0, 0.0, 0.0, 0.0], [0.9755455851554871, 0.0031093701254576445, 0.010823342949151993, 0.00868805032223463, 0.0018335595959797502, 0.0, 0.0, 0.0, 0.0, 0.0, 0.0, 0.0, 0.0, 0.0, 0.0, 0.0, 0.0, 0.0, 0.0, 0.0, 0.0, 0.0, 0.0, 0.0, 0.0, 0.0], [0.966786801815033, 0.004597173072397709, 0.013045012950897217, 0.007305941078811884, 0.001938189147040248, 0.006326848641037941, 0.0, 0.0, 0.0, 0.0, 0.0, 0.0, 0.0, 0.0, 0.0, 0.0, 0.0, 0.0, 0.0, 0.0, 0.0, 0.0, 0.0, 0.0, 0.0, 0.0], [0.9501383304595947, 0.013540934771299362, 0.006707233376801014, 0.006929976865649223, 0.0023807885590940714, 0.005860477685928345, 0.014442211017012596, 0.0, 0.0, 0.0, 0.0, 0.0, 0.0, 0.0, 0.0, 0.0, 0.0, 0.0, 0.0, 0.0, 0.0, 0.0, 0.0, 0.0, 0.0, 0.0], [0.9518206119537354, 0.006788456812500954, 0.010375641286373138, 0.014329040423035622, 0.002859726781025529, 0.0034976822789758444, 0.007013319991528988, 0.0033155791461467743, 0.0, 0.0, 0.0, 0.0, 0.0, 0.0, 0.0, 0.0, 0.0, 0.0, 0.0, 0.0, 0.0, 0.0, 0.0, 0.0, 0.0, 0.0], [0.9278176426887512, 0.013589459471404552, 0.006352144759148359, 0.009600933641195297, 0.006286381743848324, 0.003638214198872447, 0.021439865231513977, 0.0017086468869820237, 0.009566614404320717, 0.0, 0.0, 0.0, 0.0, 0.0, 0.0, 0.0, 0.0, 0.0, 0.0, 0.0, 0.0, 0.0, 0.0, 0.0, 0.0, 0.0], [0.9677497744560242, 0.005326780024915934, 0.0024639167822897434, 0.004163234028965235, 0.0017540553817525506, 0.002297781640663743, 0.003359490539878607, 0.005295995157212019, 0.004245799966156483, 0.0033433197531849146, 0.0, 0.0, 0.0, 0.0, 0.0, 0.0, 0.0, 0.0, 0.0, 0.0, 0.0, 0.0, 0.0, 0.0, 0.0, 0.0], [0.9126037359237671, 0.01020567212253809, 0.007908799685537815, 0.007835829630494118, 0.004059690982103348, 0.002123046200722456, 0.023417551070451736, 0.0034782441798597574, 0.008715960197150707, 0.017011838033795357, 0.002639648737385869, 0.0, 0.0, 0.0, 0.0, 0.0, 0.0, 0.0, 0.0, 0.0, 0.0, 0.0, 0.0, 0.0, 0.0, 0.0], [0.8742729425430298, 0.007907452993094921, 0.015094027854502201, 0.009353870525956154, 0.004462903365492821, 0.0019358042627573013, 0.043938495218753815, 0.005891677923500538, 0.008705878630280495, 0.019677676260471344, 0.0029758731834590435, 0.005783412605524063, 0.0, 0.0, 0.0, 0.0, 0.0, 0.0, 0.0, 0.0, 0.0, 0.0, 0.0, 0.0, 0.0, 0.0], [0.913759171962738, 0.0036037638783454895, 0.0069913966581225395, 0.006638606544584036, 0.005393667612224817, 0.006851697340607643, 0.02553340420126915, 0.0019145277328789234, 0.004809004720300436, 0.014372454024851322, 0.001811341498978436, 0.0037983630318194628, 0.004522693809121847, 0.0, 0.0, 0.0, 0.0, 0.0, 0.0, 0.0, 0.0, 0.0, 0.0, 0.0, 0.0, 0.0], [0.8259272575378418, 0.00394595880061388, 0.012501576915383339, 0.025234488770365715, 0.0066554662771523, 0.006922849919646978, 0.005021412391215563, 0.0019408846274018288, 0.02957616187632084, 0.012187610380351543, 0.006723138503730297, 0.04999345913529396, 0.002531838370487094, 0.010837879031896591, 0.0, 0.0, 0.0, 0.0, 0.0, 0.0, 0.0, 0.0, 0.0, 0.0, 0.0, 0.0], [0.9081170558929443, 0.006776381283998489, 0.016972389072179794, 0.006058727856725454, 0.002594089601188898, 0.0032612711656838655, 0.023609966039657593, 0.0015045532491058111, 0.004423787817358971, 0.006096666678786278, 0.00046004296746104956, 0.003985544200986624, 0.0031224593985825777, 0.00890412274748087, 0.004112945403903723, 0.0, 0.0, 0.0, 0.0, 0.0, 0.0, 0.0, 0.0, 0.0, 0.0, 0.0], [0.8687139749526978, 0.006405952852219343, 0.004730869084596634, 0.008460056968033314, 0.0051581780426204205, 0.0043283505365252495, 0.007869882509112358, 0.002529137535020709, 0.013157832436263561, 0.009018579497933388, 0.008786875754594803, 0.0195805374532938, 0.0005444532143883407, 0.0032615787349641323, 0.0068163578398525715, 0.030637232586741447, 0.0, 0.0, 0.0, 0.0, 0.0, 0.0, 0.0, 0.0, 0.0, 0.0], [0.8489791750907898, 0.008043313398957253, 0.006531744729727507, 0.008965540677309036, 0.010418976657092571, 0.004804288502782583, 0.016779780387878418, 0.0006954179843887687, 0.011823470704257488, 0.024692757055163383, 0.0036281258799135685, 0.021863479167222977, 0.0005891417386010289, 0.003425265895202756, 0.002938481979072094, 0.015634313225746155, 0.010186749510467052, 0.0, 0.0, 0.0, 0.0, 0.0, 0.0, 0.0, 0.0, 0.0], [0.9003359079360962, 0.007204290945082903, 0.0049461605958640575, 0.006780774798244238, 0.002299429150298238, 0.0062029422260820866, 0.003201813902705908, 0.0021295668557286263, 0.0070114112459123135, 0.00198688474483788, 0.007833137176930904, 0.009457479231059551, 0.0011034812778234482, 0.003243514336645603, 0.004715153481811285, 0.012072552926838398, 0.008002557791769505, 0.011472939513623714, 0.0, 0.0, 0.0, 0.0, 0.0, 0.0, 0.0, 0.0], [0.7320436239242554, 0.018742883577942848, 0.008473329246044159, 0.020237581804394722, 0.008043798618018627, 0.0028580701909959316, 0.010387098416686058, 0.0055513326078653336, 0.023182213306427002, 0.01753508672118187, 0.007825271226465702, 0.07787802815437317, 0.0072846924886107445, 0.0033078209962695837, 0.00749561470001936, 0.009911371394991875, 0.0065518878400325775, 0.015660807490348816, 0.017029451206326485, 0.0, 0.0, 0.0, 0.0, 0.0, 0.0, 0.0], [0.8945724368095398, 0.00929199531674385, 0.013152329251170158, 0.006141777615994215, 0.00239626900292933, 0.0015714771579951048, 0.0126485675573349, 0.0011582759907469153, 0.005486605688929558, 0.007656507659703493, 0.0006874215323477983, 0.007987266406416893, 0.005249048583209515, 0.002951607573777437, 0.0022442485205829144, 0.012365448288619518, 0.002786866156384349, 0.0071680922992527485, 0.0023309423122555017, 0.002152743050828576, 0.0, 0.0, 0.0, 0.0, 0.0, 0.0], [0.8889854550361633, 0.0025355005636811256, 0.002392842900007963, 0.004071231931447983, 0.00459674559533596, 0.006867427844554186, 0.007615368347615004, 0.0009002011502161622, 0.0073260171338915825, 0.013243885710835457, 0.0036666104570031166, 0.012491711415350437, 0.0022344349417835474, 0.0017680730670690536, 0.0026178054977208376, 0.0064669265411794186, 0.0051193032413721085, 0.01943247765302658, 0.0016658289823681116, 0.004044927190989256, 0.0019572232849895954, 0.0, 0.0, 0.0, 0.0, 0.0], [0.8850432634353638, 0.012493738904595375, 0.0037318216636776924, 0.005750063806772232, 0.0020406392868608236, 0.0018499685684219003, 0.005467172246426344, 0.0031858363654464483, 0.007317821495234966, 0.004078984726220369, 0.01629028469324112, 0.016610687598586082, 0.0008518173708580434, 0.001437117694877088, 0.0017123279394581914, 0.004532466642558575, 0.009981764480471611, 0.00574760464951396, 0.0016029570251703262, 0.004942052531987429, 0.0027141165919601917, 0.002617470221593976, 0.0, 0.0, 0.0, 0.0], [0.7211116552352905, 0.009308403357863426, 0.004350518807768822, 0.005754237994551659, 0.008277557790279388, 0.0055540781468153, 0.01898769661784172, 0.0011324458755552769, 0.009453077800571918, 0.042128223925828934, 0.008715849369764328, 0.037539463490247726, 0.0009318981319665909, 0.004155724309384823, 0.002214909065514803, 0.008710535243153572, 0.011772525496780872, 0.072150319814682, 0.001845118822529912, 0.009371261112391949, 0.005051040090620518, 0.004110329784452915, 0.0073731448501348495, 0.0, 0.0, 0.0], [0.8148961663246155, 0.00840078853070736, 0.005399954039603472, 0.0074222758412361145, 0.002515256404876709, 0.015151499770581722, 0.008039955981075764, 0.004911502823233604, 0.024746889248490334, 0.008324287831783295, 0.012477039359509945, 0.020668471232056618, 0.0015967998187988997, 0.011383699253201485, 0.0047335936687886715, 0.007254640571773052, 0.00954260490834713, 0.010057150386273861, 0.0038180120754987, 0.006105609703809023, 0.0020486447028815746, 0.002489292062819004, 0.005133981350809336, 0.0028819674625992775, 0.0, 0.0], [0.7438799142837524, 0.019026195630431175, 0.010869843885302544, 0.006709997542202473, 0.005675359163433313, 0.004117944277822971, 0.02472243830561638, 0.0022458480671048164, 0.006891229655593634, 0.029244624078273773, 0.0035383000504225492, 0.01180213037878275, 0.004136135336011648, 0.02039581723511219, 0.0026834409218281507, 0.014892581850290298, 0.008753711357712746, 0.04796294867992401, 0.0014673309633508325, 0.0042464942671358585, 0.008802436292171478, 0.0027650773990899324, 0.006111879367381334, 0.002857070416212082, 0.006201319862157106, 0.0], [0.9045929312705994, 0.009646814316511154, 0.002496592700481415, 0.004455754533410072, 0.00186987966299057, 0.001474295393563807, 0.002491308143362403, 0.005779106169939041, 0.004974876530468464, 0.0032764808274805546, 0.013514930382370949, 0.005991511512547731, 0.0018082137685269117, 0.0035113361664116383, 0.00210584350861609, 0.004146677907556295, 0.007148198317736387, 0.002790328348055482, 0.002347182482481003, 0.0035309926606714725, 0.0021033568773418665, 0.0007623631390742958, 0.005081721115857363, 0.0007810615352354944, 0.002175083616748452, 0.0011432432802394032]]]}\n",
       "    )\n",
       "    </script>"
      ],
      "text/plain": [
       "<circuitsvis.utils.render.RenderedHTML at 0x7f16500f2230>"
      ]
     },
     "execution_count": 61,
     "metadata": {},
     "output_type": "execute_result"
    }
   ],
   "source": [
    "print(type(pos_cache))\n",
    "pos_attention_pattern = pos_cache[\"pattern\", LAYER, \"attn\"]\n",
    "print(pos_attention_pattern.shape)\n",
    "pos_str_tokens = model.to_str_tokens(prompts[prompt_num]['original_prompt'])\n",
    "\n",
    "print(f\"Layer {LAYER} Head Attention Patterns for POSITIVE:\")\n",
    "cv.attention.attention_patterns(tokens=pos_str_tokens, attention=pos_attention_pattern)"
   ]
  },
  {
   "cell_type": "code",
   "execution_count": 62,
   "metadata": {
    "colab": {
     "base_uri": "https://localhost:8080/",
     "height": 409
    },
    "executionInfo": {
     "elapsed": 4,
     "status": "ok",
     "timestamp": 1720660848211,
     "user": {
      "displayName": "Jason L",
      "userId": "08424561876455739258"
     },
     "user_tz": 240
    },
    "id": "YMd9cBt5wer0",
    "outputId": "c1348096-28a7-4936-d7ff-6d43b3704c1e"
   },
   "outputs": [
    {
     "name": "stdout",
     "output_type": "stream",
     "text": [
      "<class 'transformer_lens.ActivationCache.ActivationCache'>\n",
      "torch.Size([12, 24, 24])\n",
      "Layer 9 Head Attention Patterns for NEGATIVE:\n"
     ]
    },
    {
     "data": {
      "text/html": [
       "<div id=\"circuits-vis-0f9a9b83-b5c2\" style=\"margin: 15px 0;\"/>\n",
       "    <script crossorigin type=\"module\">\n",
       "    import { render, AttentionPatterns } from \"https://unpkg.com/circuitsvis@1.43.2/dist/cdn/esm.js\";\n",
       "    render(\n",
       "      \"circuits-vis-0f9a9b83-b5c2\",\n",
       "      AttentionPatterns,\n",
       "      {\"tokens\": [\"<|endoftext|>\", \"I\", \" believe\", \" that\", \" life\", \" is\", \" challenging\", \" caused\", \" by\", \" circumstances\", \" and\", \" the\", \" only\", \" way\", \" to\", \" overcome\", \" challenges\", \" is\", \" to\", \" face\", \" them\", \" head\", \"-\", \"on\"], \"attention\": [[[1.0, 0.0, 0.0, 0.0, 0.0, 0.0, 0.0, 0.0, 0.0, 0.0, 0.0, 0.0, 0.0, 0.0, 0.0, 0.0, 0.0, 0.0, 0.0, 0.0, 0.0, 0.0, 0.0, 0.0], [0.9502397179603577, 0.04976026713848114, 0.0, 0.0, 0.0, 0.0, 0.0, 0.0, 0.0, 0.0, 0.0, 0.0, 0.0, 0.0, 0.0, 0.0, 0.0, 0.0, 0.0, 0.0, 0.0, 0.0, 0.0, 0.0], [0.9648026823997498, 0.0278899148106575, 0.007307336200028658, 0.0, 0.0, 0.0, 0.0, 0.0, 0.0, 0.0, 0.0, 0.0, 0.0, 0.0, 0.0, 0.0, 0.0, 0.0, 0.0, 0.0, 0.0, 0.0, 0.0, 0.0], [0.959228515625, 0.031359121203422546, 0.005942308809608221, 0.0034700657706707716, 0.0, 0.0, 0.0, 0.0, 0.0, 0.0, 0.0, 0.0, 0.0, 0.0, 0.0, 0.0, 0.0, 0.0, 0.0, 0.0, 0.0, 0.0, 0.0, 0.0], [0.9504643082618713, 0.0021738745272159576, 0.003185603301972151, 0.003031380707398057, 0.04114485904574394, 0.0, 0.0, 0.0, 0.0, 0.0, 0.0, 0.0, 0.0, 0.0, 0.0, 0.0, 0.0, 0.0, 0.0, 0.0, 0.0, 0.0, 0.0, 0.0], [0.304939329624176, 0.0013610519235953689, 0.00030475069070234895, 0.000640533457044512, 0.6315391063690186, 0.06121520325541496, 0.0, 0.0, 0.0, 0.0, 0.0, 0.0, 0.0, 0.0, 0.0, 0.0, 0.0, 0.0, 0.0, 0.0, 0.0, 0.0, 0.0, 0.0], [0.8786064982414246, 0.002489035716280341, 0.0013019195757806301, 0.0022997120395302773, 0.0863305851817131, 0.026153558865189552, 0.0028186722192913294, 0.0, 0.0, 0.0, 0.0, 0.0, 0.0, 0.0, 0.0, 0.0, 0.0, 0.0, 0.0, 0.0, 0.0, 0.0, 0.0, 0.0], [0.8734676837921143, 0.0036986693739891052, 0.002269126009196043, 0.0021196941379457712, 0.047956060618162155, 0.03033817745745182, 0.027699315920472145, 0.01245128270238638, 0.0, 0.0, 0.0, 0.0, 0.0, 0.0, 0.0, 0.0, 0.0, 0.0, 0.0, 0.0, 0.0, 0.0, 0.0, 0.0], [0.8362012505531311, 0.002600541803985834, 0.002269022399559617, 0.0017792090075090528, 0.05572894215583801, 0.02242819406092167, 0.028341079130768776, 0.01745845563709736, 0.033193230628967285, 0.0, 0.0, 0.0, 0.0, 0.0, 0.0, 0.0, 0.0, 0.0, 0.0, 0.0, 0.0, 0.0, 0.0, 0.0], [0.9111249446868896, 0.0004099471552763134, 0.002058596583083272, 0.0013326626503840089, 0.010557286441326141, 0.003697001840919256, 0.0031198589131236076, 0.009710072539746761, 0.009671428240835667, 0.04831811785697937, 0.0, 0.0, 0.0, 0.0, 0.0, 0.0, 0.0, 0.0, 0.0, 0.0, 0.0, 0.0, 0.0, 0.0], [0.8007712364196777, 0.013558855280280113, 0.003616494359448552, 0.006331003271043301, 0.06069353222846985, 0.01995532400906086, 0.01084017101675272, 0.027849970385432243, 0.03527769446372986, 0.019670480862259865, 0.0014352313010022044, 0.0, 0.0, 0.0, 0.0, 0.0, 0.0, 0.0, 0.0, 0.0, 0.0, 0.0, 0.0, 0.0], [0.8095132112503052, 0.013609899207949638, 0.007736747618764639, 0.006524653639644384, 0.06189697980880737, 0.006042881868779659, 0.021931618452072144, 0.015838928520679474, 0.02635316364467144, 0.024244679138064384, 0.002909810747951269, 0.003397434251382947, 0.0, 0.0, 0.0, 0.0, 0.0, 0.0, 0.0, 0.0, 0.0, 0.0, 0.0, 0.0], [0.840295672416687, 0.006841836962848902, 0.007456309162080288, 0.01296856440603733, 0.04775138944387436, 0.024408796802163124, 0.02440354973077774, 0.006929693277925253, 0.012833909131586552, 0.007728869561105967, 0.0017920691752806306, 0.0027141389437019825, 0.0038751759566366673, 0.0, 0.0, 0.0, 0.0, 0.0, 0.0, 0.0, 0.0, 0.0, 0.0, 0.0], [0.9098324775695801, 0.00044747188803739846, 0.0011500914115458727, 0.0021847642492502928, 0.014276646077632904, 0.006731058936566114, 0.031228890642523766, 0.009975654073059559, 0.007277264259755611, 0.008240124210715294, 0.00104323192499578, 0.0012526175705716014, 0.0038663928862661123, 0.0024933211971074343, 0.0, 0.0, 0.0, 0.0, 0.0, 0.0, 0.0, 0.0, 0.0, 0.0], [0.6347721815109253, 0.008092919364571571, 0.0026725949719548225, 0.0036707392428070307, 0.15048260986804962, 0.04357612505555153, 0.09183716773986816, 0.018710432574152946, 0.017729835584759712, 0.01245069783180952, 0.0011450906749814749, 0.0024638420436531305, 0.0021506957709789276, 0.005440362263470888, 0.004804682917892933, 0.0, 0.0, 0.0, 0.0, 0.0, 0.0, 0.0, 0.0, 0.0], [0.8963765501976013, 0.0004068559792358428, 0.0004400009347591549, 0.0005242880433797836, 0.022426912561058998, 0.004462151322513819, 0.020030174404382706, 0.010377260856330395, 0.0032863894011825323, 0.03521502763032913, 0.0005164871108718216, 0.0004077182384207845, 0.0005414907354861498, 0.0005671835970133543, 0.0005143445450812578, 0.003907208330929279, 0.0, 0.0, 0.0, 0.0, 0.0, 0.0, 0.0, 0.0], [0.8991788625717163, 0.00045213743578642607, 0.0011899517849087715, 0.001282795099541545, 0.02999987080693245, 0.002860121428966522, 0.0019636997021734715, 0.024132585152983665, 0.004824142437428236, 0.020486783236265182, 0.0006551669794134796, 0.00040368366171605885, 0.0006774194771423936, 0.001692463061772287, 0.0006443228921853006, 0.0015856168465688825, 0.007970446720719337, 0.0, 0.0, 0.0, 0.0, 0.0, 0.0, 0.0], [0.8279088735580444, 0.009811260737478733, 0.0028508345130831003, 0.004388170782476664, 0.07431811839342117, 0.007797029800713062, 0.006221606861799955, 0.003443852998316288, 0.005641676485538483, 0.001482612919062376, 0.0003054993285331875, 0.0020703140180557966, 0.001026313053444028, 0.0018550909589976072, 0.0041425954550504684, 0.03246491774916649, 0.010636838153004646, 0.0036344740074127913, 0.0, 0.0, 0.0, 0.0, 0.0, 0.0], [0.8043547868728638, 0.02939694933593273, 0.0016081219073385, 0.00285038398578763, 0.08422458171844482, 0.013218448497354984, 0.010250139981508255, 0.0026570463087409735, 0.005003559868782759, 0.002293339231982827, 0.0002822857641149312, 0.001364558469504118, 0.0003472130629234016, 0.000881435233168304, 0.0009859546553343534, 0.011976635083556175, 0.010757863521575928, 0.0014105875743553042, 0.016136182472109795, 0.0, 0.0, 0.0, 0.0, 0.0], [0.9414094686508179, 0.0005258865421637893, 0.00015427093603648245, 0.0002453782071825117, 0.00711226649582386, 0.00124794349540025, 0.0031521359924227, 0.005401055794209242, 0.0032107906881719828, 0.013639569282531738, 0.0005428923759609461, 0.0005238031153567135, 0.00023034338664729148, 0.00022701654233969748, 0.00023616071848664433, 0.0026955336797982454, 0.014773313887417316, 7.014907168922946e-05, 0.0008830407750792801, 0.0037190609145909548, 0.0, 0.0, 0.0, 0.0], [0.6543676257133484, 0.00031975744059309363, 0.0005068123573437333, 0.0004817932203877717, 0.03221754729747772, 0.003687892574816942, 0.016226956620812416, 0.020516974851489067, 0.01785963401198387, 0.06315743923187256, 0.0008239987655542791, 0.0006128418608568609, 0.0001536673808004707, 0.00022322744189295918, 0.00026877032360062003, 0.011064606718719006, 0.1399245411157608, 0.00014395736798178405, 0.000960948527790606, 0.017135174944996834, 0.019345859065651894, 0.0, 0.0, 0.0], [0.9006656408309937, 0.0025300837587565184, 0.0016954555176198483, 0.0016344704199582338, 0.02855631150305271, 0.010710963979363441, 0.009739845059812069, 0.002715881448239088, 0.004015870857983828, 0.007474820129573345, 0.0012251866282895207, 0.0006990123074501753, 0.00019897287711501122, 0.0008038522792048752, 0.0003769076429307461, 0.005992955528199673, 0.008685603737831116, 0.00033392294426448643, 0.0009271161979995668, 0.004901604261249304, 0.002911696210503578, 0.0032039303332567215, 0.0, 0.0], [0.8363814353942871, 0.004994825925678015, 0.0038337053265422583, 0.002624735003337264, 0.03659752756357193, 0.015931714326143265, 0.010553429834544659, 0.004289239179342985, 0.003964184317737818, 0.0044411830604076385, 0.0012101049069315195, 0.00047795780119486153, 0.0012007427867501974, 0.005316987168043852, 0.0012899102875962853, 0.008039865642786026, 0.0056016831658780575, 0.001067343633621931, 0.002102823695167899, 0.013391747139394283, 0.001983972731977701, 0.03278341516852379, 0.001921392511576414, 0.0], [0.9172657132148743, 0.004722778219729662, 0.0010289836209267378, 0.0007104487740434706, 0.015068268403410912, 0.004112348426133394, 0.006262496579438448, 0.003847046522423625, 0.0027169715613126755, 0.003085252596065402, 0.00016081971989478916, 0.00043839370482601225, 0.00015022903971839696, 0.0002083729486912489, 0.00048012816114351153, 0.0029511605389416218, 0.008961642161011696, 0.0003209385322406888, 0.0017935457872226834, 0.0071296789683401585, 0.0033410685136914253, 0.005803003441542387, 0.00055809406330809, 0.008882605470716953]], [[1.0, 0.0, 0.0, 0.0, 0.0, 0.0, 0.0, 0.0, 0.0, 0.0, 0.0, 0.0, 0.0, 0.0, 0.0, 0.0, 0.0, 0.0, 0.0, 0.0, 0.0, 0.0, 0.0, 0.0], [0.9812527298927307, 0.018747255206108093, 0.0, 0.0, 0.0, 0.0, 0.0, 0.0, 0.0, 0.0, 0.0, 0.0, 0.0, 0.0, 0.0, 0.0, 0.0, 0.0, 0.0, 0.0, 0.0, 0.0, 0.0, 0.0], [0.9669514298439026, 0.020715026184916496, 0.012333603575825691, 0.0, 0.0, 0.0, 0.0, 0.0, 0.0, 0.0, 0.0, 0.0, 0.0, 0.0, 0.0, 0.0, 0.0, 0.0, 0.0, 0.0, 0.0, 0.0, 0.0, 0.0], [0.9770197868347168, 0.0033352149184793234, 0.006391093134880066, 0.013253980316221714, 0.0, 0.0, 0.0, 0.0, 0.0, 0.0, 0.0, 0.0, 0.0, 0.0, 0.0, 0.0, 0.0, 0.0, 0.0, 0.0, 0.0, 0.0, 0.0, 0.0], [0.9707919955253601, 0.0020553891081362963, 0.008502978831529617, 0.01084848027676344, 0.007801194675266743, 0.0, 0.0, 0.0, 0.0, 0.0, 0.0, 0.0, 0.0, 0.0, 0.0, 0.0, 0.0, 0.0, 0.0, 0.0, 0.0, 0.0, 0.0, 0.0], [0.9458507299423218, 0.0021730014123022556, 0.009969493374228477, 0.010596152395009995, 0.010442360304296017, 0.020968275144696236, 0.0, 0.0, 0.0, 0.0, 0.0, 0.0, 0.0, 0.0, 0.0, 0.0, 0.0, 0.0, 0.0, 0.0, 0.0, 0.0, 0.0, 0.0], [0.9526115655899048, 0.008709168061614037, 0.0032883796375244856, 0.014572197571396828, 0.003273340640589595, 0.006027518305927515, 0.011517776176333427, 0.0, 0.0, 0.0, 0.0, 0.0, 0.0, 0.0, 0.0, 0.0, 0.0, 0.0, 0.0, 0.0, 0.0, 0.0, 0.0, 0.0], [0.954858124256134, 0.009945973753929138, 0.004162103869020939, 0.01535223051905632, 0.0035592075437307358, 0.0024425198789685965, 0.005761362612247467, 0.003918488509953022, 0.0, 0.0, 0.0, 0.0, 0.0, 0.0, 0.0, 0.0, 0.0, 0.0, 0.0, 0.0, 0.0, 0.0, 0.0, 0.0], [0.8359838724136353, 0.007327931001782417, 0.004398296121507883, 0.01068160217255354, 0.0074089206755161285, 0.0038674580864608288, 0.07758849859237671, 0.004637713078409433, 0.04810589551925659, 0.0, 0.0, 0.0, 0.0, 0.0, 0.0, 0.0, 0.0, 0.0, 0.0, 0.0, 0.0, 0.0, 0.0, 0.0], [0.8986888527870178, 0.010847986675798893, 0.0029331562109291553, 0.012370060198009014, 0.0009288858855143189, 0.0026276689022779465, 0.0033519635908305645, 0.017473597079515457, 0.022576477378606796, 0.028201378881931305, 0.0, 0.0, 0.0, 0.0, 0.0, 0.0, 0.0, 0.0, 0.0, 0.0, 0.0, 0.0, 0.0, 0.0], [0.6667118072509766, 0.01360572874546051, 0.02985408715903759, 0.12202601134777069, 0.00818786770105362, 0.010635726153850555, 0.013939488679170609, 0.0377153642475605, 0.039405178278684616, 0.035168055444955826, 0.02275070920586586, 0.0, 0.0, 0.0, 0.0, 0.0, 0.0, 0.0, 0.0, 0.0, 0.0, 0.0, 0.0, 0.0], [0.8793906569480896, 0.0034320810809731483, 0.010215005837380886, 0.007411407306790352, 0.003281418699771166, 0.0030996305868029594, 0.027349311858415604, 0.0039867074228823185, 0.017484871670603752, 0.03129469230771065, 0.0058039226569235325, 0.007250235415995121, 0.0, 0.0, 0.0, 0.0, 0.0, 0.0, 0.0, 0.0, 0.0, 0.0, 0.0, 0.0], [0.8564398288726807, 0.0052758920937776566, 0.03095787949860096, 0.027637746185064316, 0.007608424406498671, 0.0027304445393383503, 0.0066044568084180355, 0.01665758155286312, 0.015827788040041924, 0.01056608371436596, 0.0006881909794174135, 0.0019157764036208391, 0.017089948058128357, 0.0, 0.0, 0.0, 0.0, 0.0, 0.0, 0.0, 0.0, 0.0, 0.0, 0.0], [0.7983906865119934, 0.0019176116911694407, 0.0043042986653745174, 0.07096152752637863, 0.026060014963150024, 0.030921945348381996, 0.009979784488677979, 0.010080628097057343, 0.024697374552488327, 0.014841622672975063, 0.0008061451953835785, 0.0016865411307662725, 0.0015075498959049582, 0.003844284685328603, 0.0, 0.0, 0.0, 0.0, 0.0, 0.0, 0.0, 0.0, 0.0, 0.0], [0.9438387155532837, 0.0010253750951960683, 0.011097442358732224, 0.004375576041638851, 0.010652096942067146, 0.0011089834151789546, 0.007781866006553173, 0.00545072928071022, 0.0049601043574512005, 0.00402743648737669, 0.00019394329865463078, 0.0007497720653191209, 0.0006462698802351952, 0.0003594302397686988, 0.003732315031811595, 0.0, 0.0, 0.0, 0.0, 0.0, 0.0, 0.0, 0.0, 0.0], [0.6727867722511292, 0.0023111149203032255, 0.00682693999260664, 0.010826751589775085, 0.02361326664686203, 0.0041078198701143265, 0.02564113587141037, 0.008584635332226753, 0.022552264854311943, 0.19502711296081543, 0.002060567494481802, 0.00539403036236763, 0.0037927026860415936, 0.0015652310103178024, 0.002909408649429679, 0.012000235728919506, 0.0, 0.0, 0.0, 0.0, 0.0, 0.0, 0.0, 0.0], [0.8064470291137695, 0.0014538537943735719, 0.006691025570034981, 0.011687125079333782, 0.007860591635107994, 0.04041004180908203, 0.0060667609795928, 0.03094027005136013, 0.031163852661848068, 0.023226536810398102, 0.006840269546955824, 0.003550507826730609, 0.003641782095655799, 0.002991658402606845, 0.010307366959750652, 0.0035871360450983047, 0.0031342445872724056, 0.0, 0.0, 0.0, 0.0, 0.0, 0.0, 0.0], [0.9175540208816528, 0.0010655892547219992, 0.0022680750116705894, 0.006397924851626158, 0.0061637829057872295, 0.0017034410266205668, 0.004908746108412743, 0.013382025994360447, 0.0178680382668972, 0.008984954096376896, 0.0013740286231040955, 0.0030131591483950615, 0.0023245327174663544, 0.0013453178107738495, 0.001680064364336431, 0.001964651281014085, 0.0024201904889196157, 0.005581478588283062, 0.0, 0.0, 0.0, 0.0, 0.0, 0.0], [0.9280266165733337, 0.002116873161867261, 0.009192616678774357, 0.002768779406324029, 0.003636013949289918, 0.0007304372265934944, 0.004564283881336451, 0.0032037636265158653, 0.004074537195265293, 0.004512349609285593, 0.00043127391836605966, 0.001489620772190392, 0.0013870763359591365, 0.0004927741247229278, 0.0011848134454339743, 0.0031071037519723177, 0.0016116445185616612, 0.002809372264891863, 0.024659916758537292, 0.0, 0.0, 0.0, 0.0, 0.0], [0.8979346752166748, 0.002503742231056094, 0.0010194682981818914, 0.0022617343347519636, 0.005824706517159939, 0.0007028674590401351, 0.007760766893625259, 0.0025153292808681726, 0.004138007760047913, 0.039959292858839035, 0.0012124244822189212, 0.004204318858683109, 0.002022723201662302, 0.0002458031813148409, 0.0008071544580161572, 0.004259577952325344, 0.010524127632379532, 0.0012297487119212747, 0.003796431003138423, 0.007077022455632687, 0.0, 0.0, 0.0, 0.0], [0.9562510251998901, 0.0019849841482937336, 0.0005337111069820821, 0.0008137284894473851, 0.0008008817094378173, 0.0005380309303291142, 0.002755158580839634, 0.006133365910500288, 0.003017607145011425, 0.005643336568027735, 0.0031843080651015043, 0.0015782626578584313, 0.001043209107592702, 7.22517870599404e-05, 0.00033957857522182167, 0.0005067103775218129, 0.0013107024133205414, 0.0012502797180786729, 0.0029766198713332415, 0.0017423845129087567, 0.007523796055465937, 0.0, 0.0, 0.0], [0.9857462644577026, 0.0006793765351176262, 0.0006058153812773526, 0.0006461799493990839, 0.0005925409495830536, 0.00019386026542633772, 0.0012930299853906035, 0.0010930864373221993, 0.0007073054439388216, 0.0011006486602127552, 0.0001897152978926897, 0.0002532024518586695, 0.0002459780953358859, 0.0001366989454254508, 0.00022419296146836132, 0.0003879269352182746, 0.0004222107818350196, 0.00018324519624002278, 0.0008134415256790817, 0.0011757115134969354, 0.0024856426753103733, 0.0008239737362600863, 0.0, 0.0], [0.9893301129341125, 0.0005895259091630578, 0.0006342799169942737, 0.0005951023194938898, 0.00041228136979043484, 0.00015762988186907023, 0.0008323803194798529, 0.0014089061878621578, 0.0004293041711207479, 0.0002434551133774221, 9.401978604728356e-05, 0.00013775602565146983, 0.0008484001737087965, 0.00018406423623673618, 0.00013272551586851478, 0.00041342750773765147, 0.00024392807972617447, 9.558110468788072e-05, 0.0005473520723171532, 0.0011407285928726196, 0.0005213333060964942, 0.0005994432722218335, 0.0004083536332473159, 0.0], [0.9113496541976929, 0.005410750396549702, 0.0010844323551282287, 0.002281955676153302, 0.003297607647255063, 0.0005042248521931469, 0.002403996419161558, 0.04133365675806999, 0.0035495772026479244, 0.005676716100424528, 0.004637834150344133, 0.0012534960405901074, 0.0015101111494004726, 0.00023332748969551176, 0.0003909964289050549, 0.0006033490062691271, 0.001812949194572866, 0.0014500952092930675, 0.002612270647659898, 0.0018112434772774577, 0.002533711027354002, 0.001792261959053576, 0.00012971703836228698, 0.002336121629923582]], [[1.0, 0.0, 0.0, 0.0, 0.0, 0.0, 0.0, 0.0, 0.0, 0.0, 0.0, 0.0, 0.0, 0.0, 0.0, 0.0, 0.0, 0.0, 0.0, 0.0, 0.0, 0.0, 0.0, 0.0], [0.941097617149353, 0.05890243873000145, 0.0, 0.0, 0.0, 0.0, 0.0, 0.0, 0.0, 0.0, 0.0, 0.0, 0.0, 0.0, 0.0, 0.0, 0.0, 0.0, 0.0, 0.0, 0.0, 0.0, 0.0, 0.0], [0.9358354210853577, 0.05401816964149475, 0.01014643907546997, 0.0, 0.0, 0.0, 0.0, 0.0, 0.0, 0.0, 0.0, 0.0, 0.0, 0.0, 0.0, 0.0, 0.0, 0.0, 0.0, 0.0, 0.0, 0.0, 0.0, 0.0], [0.942732572555542, 0.03411718085408211, 0.011090289801359177, 0.012059987522661686, 0.0, 0.0, 0.0, 0.0, 0.0, 0.0, 0.0, 0.0, 0.0, 0.0, 0.0, 0.0, 0.0, 0.0, 0.0, 0.0, 0.0, 0.0, 0.0, 0.0], [0.8178894519805908, 0.013125475496053696, 0.010435566306114197, 0.01427154429256916, 0.14427800476551056, 0.0, 0.0, 0.0, 0.0, 0.0, 0.0, 0.0, 0.0, 0.0, 0.0, 0.0, 0.0, 0.0, 0.0, 0.0, 0.0, 0.0, 0.0, 0.0], [0.5559081435203552, 0.008375974372029305, 0.009708380326628685, 0.016762839630246162, 0.34154459834098816, 0.06770001351833344, 0.0, 0.0, 0.0, 0.0, 0.0, 0.0, 0.0, 0.0, 0.0, 0.0, 0.0, 0.0, 0.0, 0.0, 0.0, 0.0, 0.0, 0.0], [0.9553825855255127, 0.011079746298491955, 0.003982786554843187, 0.004884379915893078, 0.008144021965563297, 0.004433773458003998, 0.012092690914869308, 0.0, 0.0, 0.0, 0.0, 0.0, 0.0, 0.0, 0.0, 0.0, 0.0, 0.0, 0.0, 0.0, 0.0, 0.0, 0.0, 0.0], [0.8759663701057434, 0.006441236473619938, 0.005144705530256033, 0.005650485400110483, 0.018535764887928963, 0.01124099362641573, 0.06508222967386246, 0.011938146315515041, 0.0, 0.0, 0.0, 0.0, 0.0, 0.0, 0.0, 0.0, 0.0, 0.0, 0.0, 0.0, 0.0, 0.0, 0.0, 0.0], [0.6139074563980103, 0.004783135838806629, 0.006379019934684038, 0.0031603870447725058, 0.08419913053512573, 0.022378645837306976, 0.1692826896905899, 0.012416785582900047, 0.08349278569221497, 0.0, 0.0, 0.0, 0.0, 0.0, 0.0, 0.0, 0.0, 0.0, 0.0, 0.0, 0.0, 0.0, 0.0, 0.0], [0.9138872623443604, 0.0028076982125639915, 0.0010348379146307707, 0.0011782567016780376, 0.008193946443498135, 0.0015276375925168395, 0.004560683388262987, 0.016278646886348724, 0.015214184299111366, 0.03531670942902565, 0.0, 0.0, 0.0, 0.0, 0.0, 0.0, 0.0, 0.0, 0.0, 0.0, 0.0, 0.0, 0.0, 0.0], [0.694327712059021, 0.007744045928120613, 0.0066251629032194614, 0.008058937266469002, 0.05333376303315163, 0.023625869303941727, 0.06571508944034576, 0.01290986966341734, 0.029214506968855858, 0.08272361010313034, 0.015721332281827927, 0.0, 0.0, 0.0, 0.0, 0.0, 0.0, 0.0, 0.0, 0.0, 0.0, 0.0, 0.0, 0.0], [0.5511263608932495, 0.006514889653772116, 0.005613861605525017, 0.006003319751471281, 0.0894668847322464, 0.027260268107056618, 0.10729531943798065, 0.020422901958227158, 0.03331790491938591, 0.12376920133829117, 0.020655473694205284, 0.008553637191653252, 0.0, 0.0, 0.0, 0.0, 0.0, 0.0, 0.0, 0.0, 0.0, 0.0, 0.0, 0.0], [0.42673060297966003, 0.010237888433039188, 0.008696779608726501, 0.02137337066233158, 0.04543454945087433, 0.04174721613526344, 0.20154093205928802, 0.07723166048526764, 0.09175010025501251, 0.04483753442764282, 0.014886273071169853, 0.007512758020311594, 0.008020322769880295, 0.0, 0.0, 0.0, 0.0, 0.0, 0.0, 0.0, 0.0, 0.0, 0.0, 0.0], [0.43079873919487, 0.010034247301518917, 0.0035659759305417538, 0.00771714374423027, 0.049226805567741394, 0.017751477658748627, 0.39077386260032654, 0.022676236927509308, 0.021921779960393906, 0.020761804655194283, 0.002977457595989108, 0.004641604144126177, 0.005847357679158449, 0.01130551565438509, 0.0, 0.0, 0.0, 0.0, 0.0, 0.0, 0.0, 0.0, 0.0, 0.0], [0.13566990196704865, 0.0020640562288463116, 0.005206371191889048, 0.006107157561928034, 0.06616655737161636, 0.02756892703473568, 0.6205929517745972, 0.020046494901180267, 0.04017473757266998, 0.05496327951550484, 0.0070806541480124, 0.0060966103337705135, 0.0031800060532987118, 0.003183034248650074, 0.001899326452985406, 0.0, 0.0, 0.0, 0.0, 0.0, 0.0, 0.0, 0.0, 0.0], [0.41015589237213135, 0.002768308622762561, 0.0077183605171740055, 0.005298537202179432, 0.025072190910577774, 0.00984175968915224, 0.42292866110801697, 0.009066042490303516, 0.016229666769504547, 0.06705710291862488, 0.0075823524966835976, 0.003427370684221387, 0.0016575792105868459, 0.0018868299666792154, 0.0007057975162751973, 0.008603520691394806, 0.0, 0.0, 0.0, 0.0, 0.0, 0.0, 0.0, 0.0], [0.9003667235374451, 0.0014747977256774902, 0.001976132160052657, 0.002205814467743039, 0.009351832792162895, 0.00456279469653964, 0.018073977902531624, 0.015399719588458538, 0.016446007415652275, 0.00956629030406475, 0.0020237925928086042, 0.0015802280977368355, 0.0006074986304156482, 0.0007212525233626366, 0.0004829463141504675, 0.0050006587989628315, 0.010159628465771675, 0.0, 0.0, 0.0, 0.0, 0.0, 0.0, 0.0], [0.22935596108436584, 0.004021579399704933, 0.002065769163891673, 0.0022292931098490953, 0.24633197486400604, 0.027815377339720726, 0.02915630117058754, 0.014126326888799667, 0.0393008217215538, 0.037001997232437134, 0.00653110770508647, 0.01284590270370245, 0.0034147563856095076, 0.0033595431596040726, 0.0035247320774942636, 0.13205939531326294, 0.18813705444335938, 0.018722111359238625, 0.0, 0.0, 0.0, 0.0, 0.0, 0.0], [0.20379303395748138, 0.0037320218980312347, 0.0027506169863045216, 0.003525532316416502, 0.2064369171857834, 0.026276400312781334, 0.10263092815876007, 0.021335555240511894, 0.052482202649116516, 0.10592266917228699, 0.014124666340649128, 0.012265930883586407, 0.0037717337254434824, 0.0012639421038329601, 0.001147627248428762, 0.03287350758910179, 0.17438654601573944, 0.010277984663844109, 0.02100212499499321, 0.0, 0.0, 0.0, 0.0, 0.0], [0.7059452533721924, 0.004716723226010799, 0.0024537937715649605, 0.00283909123390913, 0.027484187856316566, 0.002970821224153042, 0.05851657688617706, 0.005107762757688761, 0.0128654595464468, 0.05362605303525925, 0.01620645821094513, 0.008434370160102844, 0.0026926863938570023, 0.000883369124494493, 0.0010371682001277804, 0.010985060594975948, 0.05084381252527237, 0.003053072141483426, 0.005134974140673876, 0.024203263223171234, 0.0, 0.0, 0.0, 0.0], [0.6457576751708984, 0.0011586721520870924, 0.0013453207211568952, 0.001388064119964838, 0.008347640745341778, 0.001745067653246224, 0.015470982529222965, 0.02071205899119377, 0.04214606434106827, 0.04862121865153313, 0.005355791188776493, 0.005487576127052307, 0.000834717124234885, 0.0007765195914544165, 0.0005148423952050507, 0.016782328486442566, 0.02886352129280567, 0.0016579019138589501, 0.0030350410379469395, 0.05609413608908653, 0.09390489757061005, 0.0, 0.0, 0.0], [0.7166221141815186, 0.0027228104881942272, 0.0022726308088749647, 0.0029638484120368958, 0.028381217271089554, 0.011135928332805634, 0.058521073311567307, 0.0029444925021380186, 0.013444069772958755, 0.025474118068814278, 0.004738807678222656, 0.003952166065573692, 0.0029704307671636343, 0.0010477385949343443, 0.0011708422098308802, 0.014064144343137741, 0.02950022555887699, 0.002048339694738388, 0.002743736607953906, 0.022898776456713676, 0.030556855723261833, 0.019825594499707222, 0.0, 0.0], [0.5413882732391357, 0.0028861016035079956, 0.0034471163526177406, 0.0027688967529684305, 0.03445088118314743, 0.0098843052983284, 0.08522648364305496, 0.006674121133983135, 0.013665124773979187, 0.020416123792529106, 0.003876998322084546, 0.0030904863961040974, 0.004220984876155853, 0.00542094511911273, 0.0027375887148082256, 0.029688725247979164, 0.051119446754455566, 0.004248074255883694, 0.008497643284499645, 0.08699508756399155, 0.04239402338862419, 0.028140535578131676, 0.008762054145336151, 0.0], [0.5385659337043762, 0.0015898729907348752, 0.0018423468573018909, 0.0020611255895346403, 0.04181694611907005, 0.00978107564151287, 0.05178828164935112, 0.011402717791497707, 0.017966143786907196, 0.02641020156443119, 0.00204689078964293, 0.002041117986664176, 0.0006050335359759629, 0.00038383103674277663, 0.0007989958394318819, 0.02549693174660206, 0.08191162347793579, 0.0015696422196924686, 0.0035326448269188404, 0.07326988130807877, 0.06997893750667572, 0.013353249989449978, 0.0009891418740153313, 0.02079738676548004]], [[1.0, 0.0, 0.0, 0.0, 0.0, 0.0, 0.0, 0.0, 0.0, 0.0, 0.0, 0.0, 0.0, 0.0, 0.0, 0.0, 0.0, 0.0, 0.0, 0.0, 0.0, 0.0, 0.0, 0.0], [0.9406137466430664, 0.05938628688454628, 0.0, 0.0, 0.0, 0.0, 0.0, 0.0, 0.0, 0.0, 0.0, 0.0, 0.0, 0.0, 0.0, 0.0, 0.0, 0.0, 0.0, 0.0, 0.0, 0.0, 0.0, 0.0], [0.5220414996147156, 0.2748453617095947, 0.20311304926872253, 0.0, 0.0, 0.0, 0.0, 0.0, 0.0, 0.0, 0.0, 0.0, 0.0, 0.0, 0.0, 0.0, 0.0, 0.0, 0.0, 0.0, 0.0, 0.0, 0.0, 0.0], [0.30300405621528625, 0.10204808413982391, 0.5017421841621399, 0.09320567548274994, 0.0, 0.0, 0.0, 0.0, 0.0, 0.0, 0.0, 0.0, 0.0, 0.0, 0.0, 0.0, 0.0, 0.0, 0.0, 0.0, 0.0, 0.0, 0.0, 0.0], [0.33655670285224915, 0.0163884200155735, 0.26512211561203003, 0.36117222905158997, 0.020760545507073402, 0.0, 0.0, 0.0, 0.0, 0.0, 0.0, 0.0, 0.0, 0.0, 0.0, 0.0, 0.0, 0.0, 0.0, 0.0, 0.0, 0.0, 0.0, 0.0], [0.5421700477600098, 0.025139300152659416, 0.15867473185062408, 0.09143713861703873, 0.1406380832195282, 0.041940752416849136, 0.0, 0.0, 0.0, 0.0, 0.0, 0.0, 0.0, 0.0, 0.0, 0.0, 0.0, 0.0, 0.0, 0.0, 0.0, 0.0, 0.0, 0.0], [0.47787711024284363, 0.016800764948129654, 0.07037816196680069, 0.09169016033411026, 0.054801277816295624, 0.2566815912723541, 0.03177100419998169, 0.0, 0.0, 0.0, 0.0, 0.0, 0.0, 0.0, 0.0, 0.0, 0.0, 0.0, 0.0, 0.0, 0.0, 0.0, 0.0, 0.0], [0.7887828946113586, 0.0074049304239451885, 0.022372741252183914, 0.04054654762148857, 0.024236781522631645, 0.01804993487894535, 0.06088028848171234, 0.03772584721446037, 0.0, 0.0, 0.0, 0.0, 0.0, 0.0, 0.0, 0.0, 0.0, 0.0, 0.0, 0.0, 0.0, 0.0, 0.0, 0.0], [0.3521643579006195, 0.020023617893457413, 0.06007985398173332, 0.028650574386119843, 0.07936045527458191, 0.051938433200120926, 0.11713606119155884, 0.22044850885868073, 0.07019813358783722, 0.0, 0.0, 0.0, 0.0, 0.0, 0.0, 0.0, 0.0, 0.0, 0.0, 0.0, 0.0, 0.0, 0.0, 0.0], [0.691711962223053, 0.035744063556194305, 0.04815773665904999, 0.036941345781087875, 0.010567452758550644, 0.025909004732966423, 0.017458125948905945, 0.018689515069127083, 0.09527048468589783, 0.019550306722521782, 0.0, 0.0, 0.0, 0.0, 0.0, 0.0, 0.0, 0.0, 0.0, 0.0, 0.0, 0.0, 0.0, 0.0], [0.42801788449287415, 0.006905960850417614, 0.0077966246753931046, 0.016313908621668816, 0.023534176871180534, 0.00787301640957594, 0.06052803620696068, 0.035284362733364105, 0.16890352964401245, 0.2233937829732895, 0.021448731422424316, 0.0, 0.0, 0.0, 0.0, 0.0, 0.0, 0.0, 0.0, 0.0, 0.0, 0.0, 0.0, 0.0], [0.18959137797355652, 0.005198087077587843, 0.02707221731543541, 0.03530365601181984, 0.01742803491652012, 0.012303565628826618, 0.02590099908411503, 0.06662512570619583, 0.24074435234069824, 0.1350889801979065, 0.2182408571243286, 0.026502808555960655, 0.0, 0.0, 0.0, 0.0, 0.0, 0.0, 0.0, 0.0, 0.0, 0.0, 0.0, 0.0], [0.546514630317688, 0.009726670570671558, 0.028249600902199745, 0.07240905612707138, 0.01370974164456129, 0.019185464829206467, 0.01922738365828991, 0.022367948666214943, 0.017857341095805168, 0.04648123309016228, 0.10312101244926453, 0.050084859132766724, 0.0510651059448719, 0.0, 0.0, 0.0, 0.0, 0.0, 0.0, 0.0, 0.0, 0.0, 0.0, 0.0], [0.44760861992836, 0.009684182703495026, 0.06963469833135605, 0.09705337136983871, 0.0072646839544177055, 0.01187146082520485, 0.039943210780620575, 0.03346185013651848, 0.013502237387001514, 0.025853853672742844, 0.0793733298778534, 0.03283771499991417, 0.09220625460147858, 0.03970459848642349, 0.0, 0.0, 0.0, 0.0, 0.0, 0.0, 0.0, 0.0, 0.0, 0.0], [0.1745080202817917, 0.008431252092123032, 0.024351999163627625, 0.026389876380562782, 0.018260914832353592, 0.016107600182294846, 0.040917690843343735, 0.06511352211236954, 0.02470511943101883, 0.06800408661365509, 0.028821315616369247, 0.026958411559462547, 0.1986563801765442, 0.26156681776046753, 0.017206981778144836, 0.0, 0.0, 0.0, 0.0, 0.0, 0.0, 0.0, 0.0, 0.0], [0.43732553720474243, 0.010015847161412239, 0.011914826929569244, 0.03436609357595444, 0.0077536869794130325, 0.0035611933562904596, 0.0064088464714586735, 0.019745390862226486, 0.012820045463740826, 0.015502681024372578, 0.07529508322477341, 0.013453672640025616, 0.02754117175936699, 0.07539892941713333, 0.0874008983373642, 0.16149605810642242, 0.0, 0.0, 0.0, 0.0, 0.0, 0.0, 0.0, 0.0], [0.399742990732193, 0.002863828092813492, 0.016556812450289726, 0.04241818189620972, 0.002865929389372468, 0.002511936239898205, 0.0028906804509460926, 0.00500606931746006, 0.022770918905735016, 0.015229427255690098, 0.03454183414578438, 0.006815957836806774, 0.01460063923150301, 0.08611831068992615, 0.09888166189193726, 0.17893069982528687, 0.06725411862134933, 0.0, 0.0, 0.0, 0.0, 0.0, 0.0, 0.0], [0.5972777605056763, 0.01473738718777895, 0.019528521224856377, 0.020505135878920555, 0.011364984326064587, 0.005221613682806492, 0.02094215527176857, 0.015234176069498062, 0.008931181393563747, 0.030627747997641563, 0.01164955273270607, 0.002768842503428459, 0.012627363204956055, 0.021678227931261063, 0.01861671358346939, 0.01264745369553566, 0.11597906798124313, 0.059662096202373505, 0.0, 0.0, 0.0, 0.0, 0.0, 0.0], [0.1345905214548111, 0.004317554645240307, 0.010858097113668919, 0.011615135706961155, 0.010823343880474567, 0.008969089016318321, 0.015427605248987675, 0.020171470940113068, 0.012970208190381527, 0.015939444303512573, 0.012672682292759418, 0.005545365624129772, 0.01718158647418022, 0.030601229518651962, 0.007277267053723335, 0.004529339727014303, 0.061184581369161606, 0.5034245848655701, 0.11190081387758255, 0.0, 0.0, 0.0, 0.0, 0.0], [0.4887832701206207, 0.006507545243948698, 0.0032541402615606785, 0.00503494730219245, 0.0014093028148636222, 0.000986325554549694, 0.0012908376520499587, 0.002835481660440564, 0.0039061736315488815, 0.001449817093089223, 0.00881875492632389, 0.0019642962142825127, 0.003733705496415496, 0.006537443492561579, 0.01081080362200737, 0.005918789189308882, 0.013992593623697758, 0.2036861628293991, 0.19813764095306396, 0.030941953882575035, 0.0, 0.0, 0.0, 0.0], [0.6174424290657043, 0.023563744500279427, 0.016983967274427414, 0.013330246321856976, 0.002475665183737874, 0.0029465530533343554, 0.00143101392313838, 0.0036161139141768217, 0.003941436763852835, 0.0013449909165501595, 0.001707715098746121, 0.0009101353934966028, 0.0069199553690850735, 0.009556188248097897, 0.015893438830971718, 0.0020903469994664192, 0.0024846966844052076, 0.0595148503780365, 0.15402144193649292, 0.04820539429783821, 0.011619669385254383, 0.0, 0.0, 0.0], [0.6100485324859619, 0.001604194170795381, 0.0019894270226359367, 0.0044191027991473675, 0.003534771502017975, 0.001378957531414926, 0.0018236069008708, 0.0021785644348710775, 0.0018969258526340127, 0.006803377065807581, 0.0031769105698913336, 0.00046501486212946475, 0.0012877173721790314, 0.00397867988795042, 0.008681352250277996, 0.0023019828367978334, 0.028148053213953972, 0.06210712343454361, 0.1551285684108734, 0.012112240307033062, 0.07493657618761063, 0.011998290196061134, 0.0, 0.0], [0.3255313038825989, 0.000835190701764077, 0.0015097721479833126, 0.0034190493170171976, 0.0033561133313924074, 0.0036695459857583046, 0.003469470189884305, 0.007064110599458218, 0.0021525220945477486, 0.015677930787205696, 0.003582290606573224, 0.00038107906584627926, 0.0025379532016813755, 0.008380858227610588, 0.011419259943068027, 0.004107336048036814, 0.026723185554146767, 0.09022872895002365, 0.12053384631872177, 0.03573862090706825, 0.12683670222759247, 0.19874431192874908, 0.004100813064724207, 0.0], [0.2901224195957184, 0.02688317559659481, 0.02876327745616436, 0.06662925332784653, 0.01094092894345522, 0.008620656095445156, 0.006280247587710619, 0.006594585254788399, 0.008519710972905159, 0.012028040364384651, 0.003009963082149625, 0.00036965476465411484, 0.003082078415900469, 0.024390753358602524, 0.027095643803477287, 0.0018656484317034483, 0.007999991066753864, 0.11782895773649216, 0.25540992617607117, 0.027370205149054527, 0.013889082707464695, 0.03472036495804787, 0.004914185497909784, 0.012671321630477905]], [[1.0, 0.0, 0.0, 0.0, 0.0, 0.0, 0.0, 0.0, 0.0, 0.0, 0.0, 0.0, 0.0, 0.0, 0.0, 0.0, 0.0, 0.0, 0.0, 0.0, 0.0, 0.0, 0.0, 0.0], [0.9861602187156677, 0.013839788734912872, 0.0, 0.0, 0.0, 0.0, 0.0, 0.0, 0.0, 0.0, 0.0, 0.0, 0.0, 0.0, 0.0, 0.0, 0.0, 0.0, 0.0, 0.0, 0.0, 0.0, 0.0, 0.0], [0.9772411584854126, 0.00407619122415781, 0.01868266612291336, 0.0, 0.0, 0.0, 0.0, 0.0, 0.0, 0.0, 0.0, 0.0, 0.0, 0.0, 0.0, 0.0, 0.0, 0.0, 0.0, 0.0, 0.0, 0.0, 0.0, 0.0], [0.9764522910118103, 0.0021371175535023212, 0.014042901806533337, 0.0073677110485732555, 0.0, 0.0, 0.0, 0.0, 0.0, 0.0, 0.0, 0.0, 0.0, 0.0, 0.0, 0.0, 0.0, 0.0, 0.0, 0.0, 0.0, 0.0, 0.0, 0.0], [0.9627381563186646, 0.0010452769929543138, 0.0034399351570755243, 0.005130555015057325, 0.02764609456062317, 0.0, 0.0, 0.0, 0.0, 0.0, 0.0, 0.0, 0.0, 0.0, 0.0, 0.0, 0.0, 0.0, 0.0, 0.0, 0.0, 0.0, 0.0, 0.0], [0.9668723940849304, 0.0007416728767566383, 0.0016106149414554238, 0.004586338065564632, 0.024642985314130783, 0.0015460060676559806, 0.0, 0.0, 0.0, 0.0, 0.0, 0.0, 0.0, 0.0, 0.0, 0.0, 0.0, 0.0, 0.0, 0.0, 0.0, 0.0, 0.0, 0.0], [0.9485229253768921, 0.002197182970121503, 0.002445766469463706, 0.00772147485986352, 0.029806213453412056, 0.0015007181791588664, 0.007805707864463329, 0.0, 0.0, 0.0, 0.0, 0.0, 0.0, 0.0, 0.0, 0.0, 0.0, 0.0, 0.0, 0.0, 0.0, 0.0, 0.0, 0.0], [0.9593006372451782, 0.005220488645136356, 0.010258333757519722, 0.006530996412038803, 0.010785311460494995, 0.0010900117922574282, 0.0026235899422317743, 0.004190661478787661, 0.0, 0.0, 0.0, 0.0, 0.0, 0.0, 0.0, 0.0, 0.0, 0.0, 0.0, 0.0, 0.0, 0.0, 0.0, 0.0], [0.9559192061424255, 0.0002439112140564248, 0.0012240795185789466, 0.0014455857453867793, 0.009505841881036758, 0.0011752854334190488, 0.0060923341661691666, 0.0028614415787160397, 0.021532244980335236, 0.0, 0.0, 0.0, 0.0, 0.0, 0.0, 0.0, 0.0, 0.0, 0.0, 0.0, 0.0, 0.0, 0.0, 0.0], [0.9522095322608948, 0.001458416460081935, 0.0020091140177100897, 0.0030311800073832273, 0.011233351193368435, 0.0012646194081753492, 0.0029108512680977583, 0.0031504679936915636, 0.015787668526172638, 0.006944769062101841, 0.0, 0.0, 0.0, 0.0, 0.0, 0.0, 0.0, 0.0, 0.0, 0.0, 0.0, 0.0, 0.0, 0.0], [0.9416157603263855, 0.0017815526807680726, 0.01302360650151968, 0.008945813402533531, 0.01094451267272234, 0.004153283778578043, 0.0018551311222836375, 0.0013035907177254558, 0.008369538001716137, 0.006092290859669447, 0.0019149139989167452, 0.0, 0.0, 0.0, 0.0, 0.0, 0.0, 0.0, 0.0, 0.0, 0.0, 0.0, 0.0, 0.0], [0.960735559463501, 0.00035511350142769516, 0.001662077964283526, 0.004390146117657423, 0.010839887894690037, 0.001992854755371809, 0.008318755775690079, 0.0009943584445863962, 0.006750544998794794, 0.0020410644356161356, 0.0011825731489807367, 0.0007369460654444993, 0.0, 0.0, 0.0, 0.0, 0.0, 0.0, 0.0, 0.0, 0.0, 0.0, 0.0, 0.0], [0.9355729222297668, 0.0014325366355478764, 0.008479097858071327, 0.017530547454953194, 0.005756053142249584, 0.0013496412429958582, 0.007334060035645962, 0.002814258448779583, 0.00472657335922122, 0.004031650256365538, 0.0009847554611042142, 0.000667681684717536, 0.009320085868239403, 0.0, 0.0, 0.0, 0.0, 0.0, 0.0, 0.0, 0.0, 0.0, 0.0, 0.0], [0.761539876461029, 0.0051269084215164185, 0.013912168331444263, 0.0069835856556892395, 0.0583227276802063, 0.01942894421517849, 0.009582282975316048, 0.0059796469286084175, 0.04933120682835579, 0.0044762445613741875, 0.0009390292107127607, 0.002267802832648158, 0.033499281853437424, 0.02861030213534832, 0.0, 0.0, 0.0, 0.0, 0.0, 0.0, 0.0, 0.0, 0.0, 0.0], [0.9152199029922485, 0.0015885763568803668, 0.004568925593048334, 0.006489824503660202, 0.04083815589547157, 0.0015229374403133988, 0.0036712682340294123, 0.003500673919916153, 0.013008356094360352, 0.0004510221478994936, 0.0005077777896076441, 0.0009270211448892951, 0.00338357943110168, 0.003070209175348282, 0.0012517860159277916, 0.0, 0.0, 0.0, 0.0, 0.0, 0.0, 0.0, 0.0, 0.0], [0.7194856405258179, 0.0009512641117908061, 0.017410822212696075, 0.008665977977216244, 0.027035502716898918, 0.00265374593436718, 0.05623343214392662, 0.041084300726652145, 0.04335300624370575, 0.05659466236829758, 0.0026970328763127327, 0.009955087676644325, 0.004039036575704813, 0.00259398203343153, 0.0006317397928796709, 0.00661489088088274, 0.0, 0.0, 0.0, 0.0, 0.0, 0.0, 0.0, 0.0], [0.8208703398704529, 0.0010853053536266088, 0.0037853107787668705, 0.006154009141027927, 0.046269018203020096, 0.0048743379302322865, 0.016644416376948357, 0.011393488384783268, 0.041062016040086746, 0.007778610102832317, 0.0009034177055582404, 0.004692592192441225, 0.004086674191057682, 0.003167499788105488, 0.0031674376223236322, 0.009161165915429592, 0.014904473908245564, 0.0, 0.0, 0.0, 0.0, 0.0, 0.0, 0.0], [0.8565433025360107, 0.0004142140387557447, 0.0016468229005113244, 0.005433232989162207, 0.08387794345617294, 0.006872388534247875, 0.0017565279267728329, 0.002081439597532153, 0.007563521154224873, 0.0003765826113522053, 0.0008132353541441262, 0.0024857274256646633, 0.0008309825789183378, 0.004323132336139679, 0.006680432707071304, 0.01384615059942007, 0.0008803348755463958, 0.0035739298909902573, 0.0, 0.0, 0.0, 0.0, 0.0, 0.0], [0.9010316133499146, 0.000895816134288907, 0.001213080482557416, 0.0035206014290452003, 0.047614775598049164, 0.0037152902223169804, 0.002812720602378249, 0.00227216724306345, 0.005083716008812189, 0.0005986220785416663, 0.000501330301631242, 0.0021728305146098137, 0.001302769174799323, 0.0015957767609506845, 0.0016156192868947983, 0.00573728745803237, 0.0020121056586503983, 0.0020312524866312742, 0.014272590167820454, 0.0, 0.0, 0.0, 0.0, 0.0], [0.8401346802711487, 0.0017390695866197348, 0.00470521068200469, 0.005822759587317705, 0.016957633197307587, 0.001996018225327134, 0.021034862846136093, 0.011062388308346272, 0.005931552965193987, 0.017810039222240448, 0.0010322682792320848, 0.006021259818226099, 0.008236230351030827, 0.004297605715692043, 0.0013740782160311937, 0.003237444907426834, 0.029838932678103447, 0.0013768079224973917, 0.0029967594891786575, 0.014394215308129787, 0.0, 0.0, 0.0, 0.0], [0.9006264805793762, 0.004217023029923439, 0.00244065816514194, 0.005016602575778961, 0.006184153258800507, 0.0001431308628525585, 0.0013148293364793062, 0.0032771748956292868, 0.006216553971171379, 0.002243611728772521, 0.00031809500069357455, 0.0023647143971174955, 0.0014733602292835712, 0.0008645394700579345, 0.0008183500031009316, 0.0032157229725271463, 0.0027373400516808033, 0.0005334409070201218, 0.012379080057144165, 0.03328338637948036, 0.010331726633012295, 0.0, 0.0, 0.0], [0.988848090171814, 0.0007948841666802764, 0.00021693755115848035, 0.0004972132737748325, 0.0018127653747797012, 6.33920353720896e-05, 0.0007373411790467799, 9.0391120465938e-05, 0.00019220482499804348, 0.00017363415099680424, 4.297418854548596e-05, 0.00019706103194039315, 0.0001766155764926225, 0.00034948482061736286, 0.00026209649513475597, 0.000496045860927552, 0.0004844519426114857, 7.45032011764124e-05, 0.00046487251529470086, 0.0015737460926175117, 0.0006901004817336798, 0.0017610604409128428, 0.0, 0.0], [0.9944596290588379, 0.000712333305273205, 0.00020963292627129704, 0.0003394102677702904, 0.0006435521063394845, 2.0064941054442897e-05, 0.00014085153816267848, 5.0119051593355834e-05, 0.00011211995297344401, 1.0640901564329397e-05, 1.4052689948584884e-05, 7.696101965848356e-05, 4.471898137126118e-05, 0.0001333297259407118, 0.0001260877470485866, 0.00032006294350139797, 0.0001101931047742255, 5.182048334972933e-05, 0.00047913528396748006, 0.0003675261978060007, 9.743399277795106e-05, 0.0004218485555611551, 0.001058328663930297, 0.0], [0.9490558505058289, 0.005750552751123905, 0.0036803395487368107, 0.009810206480324268, 0.005112731363624334, 0.000699356198310852, 0.0013072106521576643, 0.001231520320288837, 0.0024341235402971506, 0.0003971794212702662, 0.0004162303521297872, 0.0012082229368388653, 0.0005320601048879325, 0.0031078080646693707, 0.0006496399291791022, 0.0010983117390424013, 0.002252234611660242, 0.00040460578748025, 0.00211759633384645, 0.0017539835534989834, 0.002674632938578725, 0.0009181626955978572, 0.00035662538721226156, 0.0030307359993457794]], [[1.0, 0.0, 0.0, 0.0, 0.0, 0.0, 0.0, 0.0, 0.0, 0.0, 0.0, 0.0, 0.0, 0.0, 0.0, 0.0, 0.0, 0.0, 0.0, 0.0, 0.0, 0.0, 0.0, 0.0], [0.9732306599617004, 0.026769345626235008, 0.0, 0.0, 0.0, 0.0, 0.0, 0.0, 0.0, 0.0, 0.0, 0.0, 0.0, 0.0, 0.0, 0.0, 0.0, 0.0, 0.0, 0.0, 0.0, 0.0, 0.0, 0.0], [0.7838808298110962, 0.06902410089969635, 0.14709512889385223, 0.0, 0.0, 0.0, 0.0, 0.0, 0.0, 0.0, 0.0, 0.0, 0.0, 0.0, 0.0, 0.0, 0.0, 0.0, 0.0, 0.0, 0.0, 0.0, 0.0, 0.0], [0.6922423243522644, 0.03692832216620445, 0.15708109736442566, 0.1137482151389122, 0.0, 0.0, 0.0, 0.0, 0.0, 0.0, 0.0, 0.0, 0.0, 0.0, 0.0, 0.0, 0.0, 0.0, 0.0, 0.0, 0.0, 0.0, 0.0, 0.0], [0.8419895768165588, 0.007830120623111725, 0.055403824895620346, 0.07053214311599731, 0.024244412779808044, 0.0, 0.0, 0.0, 0.0, 0.0, 0.0, 0.0, 0.0, 0.0, 0.0, 0.0, 0.0, 0.0, 0.0, 0.0, 0.0, 0.0, 0.0, 0.0], [0.8090764284133911, 0.007068063598126173, 0.06272519379854202, 0.05875774472951889, 0.022356972098350525, 0.04001559317111969, 0.0, 0.0, 0.0, 0.0, 0.0, 0.0, 0.0, 0.0, 0.0, 0.0, 0.0, 0.0, 0.0, 0.0, 0.0, 0.0, 0.0, 0.0], [0.918336808681488, 0.003766243113204837, 0.014785570092499256, 0.015049929730594158, 0.012067683972418308, 0.008143597282469273, 0.027850141748785973, 0.0, 0.0, 0.0, 0.0, 0.0, 0.0, 0.0, 0.0, 0.0, 0.0, 0.0, 0.0, 0.0, 0.0, 0.0, 0.0, 0.0], [0.8724173903465271, 0.00597268296405673, 0.02767890691757202, 0.024349413812160492, 0.02648100070655346, 0.012928861193358898, 0.017163105309009552, 0.013008702546358109, 0.0, 0.0, 0.0, 0.0, 0.0, 0.0, 0.0, 0.0, 0.0, 0.0, 0.0, 0.0, 0.0, 0.0, 0.0, 0.0], [0.6434626579284668, 0.0038582251872867346, 0.044973913580179214, 0.03210100531578064, 0.10950332134962082, 0.03738066181540489, 0.058460209518671036, 0.02449587918817997, 0.045764148235321045, 0.0, 0.0, 0.0, 0.0, 0.0, 0.0, 0.0, 0.0, 0.0, 0.0, 0.0, 0.0, 0.0, 0.0, 0.0], [0.8544829487800598, 0.002352823968976736, 0.01957349106669426, 0.030270731076598167, 0.013578417710959911, 0.012151694856584072, 0.010892417281866074, 0.020205365493893623, 0.02748160995543003, 0.00901042390614748, 0.0, 0.0, 0.0, 0.0, 0.0, 0.0, 0.0, 0.0, 0.0, 0.0, 0.0, 0.0, 0.0, 0.0], [0.8459709286689758, 0.004542732145637274, 0.033745892345905304, 0.024836372584104538, 0.019081173464655876, 0.010809076018631458, 0.011560504324734211, 0.003691123565658927, 0.010367573238909245, 0.008744612336158752, 0.02665008045732975, 0.0, 0.0, 0.0, 0.0, 0.0, 0.0, 0.0, 0.0, 0.0, 0.0, 0.0, 0.0, 0.0], [0.8492387533187866, 0.004178008995950222, 0.018568547442555428, 0.01370256021618843, 0.03239619359374046, 0.01186387799680233, 0.02264515496790409, 0.004716192837804556, 0.014244822785258293, 0.01114175096154213, 0.009264032356441021, 0.00804016925394535, 0.0, 0.0, 0.0, 0.0, 0.0, 0.0, 0.0, 0.0, 0.0, 0.0, 0.0, 0.0], [0.8985259532928467, 0.003414123086258769, 0.02430182509124279, 0.01518609095364809, 0.012061712332069874, 0.003001332515850663, 0.011692607775330544, 0.0030732499435544014, 0.0027472954243421555, 0.007211377844214439, 0.008717171847820282, 0.0021353992633521557, 0.007931837812066078, 0.0, 0.0, 0.0, 0.0, 0.0, 0.0, 0.0, 0.0, 0.0, 0.0, 0.0], [0.8280156254768372, 0.006132772658020258, 0.05236334726214409, 0.026010984554886818, 0.0077572111040353775, 0.0032766673248261213, 0.008638778701424599, 0.0059311483055353165, 0.002874914323911071, 0.0048654573038220406, 0.011650768108665943, 0.0036327941343188286, 0.009971880353987217, 0.028877638280391693, 0.0, 0.0, 0.0, 0.0, 0.0, 0.0, 0.0, 0.0, 0.0, 0.0], [0.8089027404785156, 0.0029554772190749645, 0.011555557139217854, 0.013069272972643375, 0.019956380128860474, 0.0063532269559800625, 0.024405209347605705, 0.004332924727350473, 0.0053369710221886635, 0.013301721774041653, 0.013086059130728245, 0.00366239994764328, 0.017416803166270256, 0.03390941023826599, 0.021755818277597427, 0.0, 0.0, 0.0, 0.0, 0.0, 0.0, 0.0, 0.0, 0.0], [0.7111189365386963, 0.002362225903198123, 0.013418340124189854, 0.01565822958946228, 0.04318688437342644, 0.012565258890390396, 0.019898919388651848, 0.006756218615919352, 0.007764759007841349, 0.009316928684711456, 0.018777120858430862, 0.010878153145313263, 0.014261997304856777, 0.022628970444202423, 0.053753916174173355, 0.03765316307544708, 0.0, 0.0, 0.0, 0.0, 0.0, 0.0, 0.0, 0.0], [0.8576425909996033, 0.001171587617136538, 0.008119860664010048, 0.00899046752601862, 0.009946882724761963, 0.003680681809782982, 0.008793707005679607, 0.0029709686059504747, 0.006223086733371019, 0.005100699607282877, 0.013968661427497864, 0.005007591564208269, 0.004774107597768307, 0.016589073464274406, 0.019232507795095444, 0.012923614121973515, 0.01486392691731453, 0.0, 0.0, 0.0, 0.0, 0.0, 0.0, 0.0], [0.695478618144989, 0.0022768748458474874, 0.023829225450754166, 0.019323861226439476, 0.020273542031645775, 0.01424469705671072, 0.009778326377272606, 0.0026288959197700024, 0.004267919342964888, 0.0030324775725603104, 0.01680479384958744, 0.0031550240237265825, 0.012705553323030472, 0.010244505479931831, 0.023027321323752403, 0.007445846684277058, 0.009395732544362545, 0.1220867857336998, 0.0, 0.0, 0.0, 0.0, 0.0, 0.0], [0.7142781019210815, 0.0014463994884863496, 0.01123766414821148, 0.012115878984332085, 0.019491061568260193, 0.006642481312155724, 0.01516041997820139, 0.003532592672854662, 0.00464723352342844, 0.007520241662859917, 0.006630001123994589, 0.001851881155744195, 0.006856193765997887, 0.009508511051535606, 0.014298176392912865, 0.013271501287817955, 0.020746029913425446, 0.06256303936243057, 0.06820257008075714, 0.0, 0.0, 0.0, 0.0, 0.0], [0.6607360243797302, 0.0021559365559369326, 0.006702851969748735, 0.0074459766037762165, 0.022532545030117035, 0.008501804433763027, 0.014415665529668331, 0.0062204767018556595, 0.008066652342677116, 0.0046713524498045444, 0.00701494887471199, 0.008023018017411232, 0.014263820834457874, 0.012026982381939888, 0.03202424570918083, 0.02337821200489998, 0.024485891684889793, 0.02543594129383564, 0.059703126549720764, 0.05219458416104317, 0.0, 0.0, 0.0, 0.0], [0.7320325374603271, 0.0011373423039913177, 0.003223680891096592, 0.005095197819173336, 0.010180464014410973, 0.007635846734046936, 0.008068684488534927, 0.006161969155073166, 0.008460288867354393, 0.004308254458010197, 0.013266297057271004, 0.00601907167583704, 0.005588947795331478, 0.017691437155008316, 0.029503513127565384, 0.014779976569116116, 0.014843873679637909, 0.0190341267734766, 0.03950013220310211, 0.026965472847223282, 0.0265029426664114, 0.0, 0.0, 0.0], [0.9232178926467896, 0.000729740597307682, 0.0030158120207488537, 0.005093939136713743, 0.006147359032183886, 0.004847722593694925, 0.004772980231791735, 0.00048013124614953995, 0.0021935352124273777, 0.0011938288807868958, 0.0024034108500927687, 0.0024436605162918568, 0.001940997550264001, 0.0029808473773300648, 0.004908801522105932, 0.0044288961216807365, 0.005894748494029045, 0.0072344462387263775, 0.008605565875768661, 0.0026460345834493637, 0.002246386604383588, 0.002573368838056922, 0.0, 0.0], [0.8668866157531738, 0.0006441481527872384, 0.001629331847652793, 0.003062240080907941, 0.010445835068821907, 0.0042435843497514725, 0.005056434776633978, 0.0010192326735705137, 0.004415188916027546, 0.0031586720142513514, 0.0040862527675926685, 0.0032148240134119987, 0.009716649539768696, 0.004686282016336918, 0.00568201020359993, 0.004182800650596619, 0.005680891219526529, 0.014006800018250942, 0.009702556766569614, 0.0023691237438470125, 0.0024979133158922195, 0.007767386734485626, 0.025845305994153023, 0.0], [0.9088861346244812, 0.0006800504052080214, 0.0032390616834163666, 0.005039276089519262, 0.0023273283150047064, 0.0018157215090468526, 0.003932613879442215, 0.0005571707733906806, 0.0019588719587773085, 0.0012123375199735165, 0.0022754385136067867, 0.0010248174658045173, 0.0033028563484549522, 0.00534159317612648, 0.005840185564011335, 0.0016347768250852823, 0.006367257330566645, 0.009872020222246647, 0.00597730465233326, 0.0025820822920650244, 0.0031947619281709194, 0.0017336603486910462, 0.002413190435618162, 0.018791554495692253]], [[1.0, 0.0, 0.0, 0.0, 0.0, 0.0, 0.0, 0.0, 0.0, 0.0, 0.0, 0.0, 0.0, 0.0, 0.0, 0.0, 0.0, 0.0, 0.0, 0.0, 0.0, 0.0, 0.0, 0.0], [0.998836100101471, 0.0011639439035207033, 0.0, 0.0, 0.0, 0.0, 0.0, 0.0, 0.0, 0.0, 0.0, 0.0, 0.0, 0.0, 0.0, 0.0, 0.0, 0.0, 0.0, 0.0, 0.0, 0.0, 0.0, 0.0], [0.9878100156784058, 0.009074345231056213, 0.003115752013400197, 0.0, 0.0, 0.0, 0.0, 0.0, 0.0, 0.0, 0.0, 0.0, 0.0, 0.0, 0.0, 0.0, 0.0, 0.0, 0.0, 0.0, 0.0, 0.0, 0.0, 0.0], [0.9922116994857788, 0.00447233347222209, 0.0024588617961853743, 0.0008571186917833984, 0.0, 0.0, 0.0, 0.0, 0.0, 0.0, 0.0, 0.0, 0.0, 0.0, 0.0, 0.0, 0.0, 0.0, 0.0, 0.0, 0.0, 0.0, 0.0, 0.0], [0.9859768152236938, 0.001826516818255186, 0.0034314277581870556, 0.0011305923108011484, 0.0076346974819898605, 0.0, 0.0, 0.0, 0.0, 0.0, 0.0, 0.0, 0.0, 0.0, 0.0, 0.0, 0.0, 0.0, 0.0, 0.0, 0.0, 0.0, 0.0, 0.0], [0.9551730751991272, 0.002015396486967802, 0.0019447999075055122, 0.0012069480726495385, 0.030198020860552788, 0.00946172047406435, 0.0, 0.0, 0.0, 0.0, 0.0, 0.0, 0.0, 0.0, 0.0, 0.0, 0.0, 0.0, 0.0, 0.0, 0.0, 0.0, 0.0, 0.0], [0.9839488863945007, 0.0017995116068050265, 0.0015691856388002634, 0.0008756426395848393, 0.004381521604955196, 0.0009464019094593823, 0.0064789471216499805, 0.0, 0.0, 0.0, 0.0, 0.0, 0.0, 0.0, 0.0, 0.0, 0.0, 0.0, 0.0, 0.0, 0.0, 0.0, 0.0, 0.0], [0.9509442448616028, 0.0033402745611965656, 0.001338920439593494, 0.0016030771657824516, 0.020754247903823853, 0.0019989791326224804, 0.012137837707996368, 0.00788247212767601, 0.0, 0.0, 0.0, 0.0, 0.0, 0.0, 0.0, 0.0, 0.0, 0.0, 0.0, 0.0, 0.0, 0.0, 0.0, 0.0], [0.9506992697715759, 0.0009843002771958709, 0.002331453375518322, 0.0005369794089347124, 0.02018863521516323, 0.0007215355872176588, 0.014189794659614563, 0.0032590727787464857, 0.007088955957442522, 0.0, 0.0, 0.0, 0.0, 0.0, 0.0, 0.0, 0.0, 0.0, 0.0, 0.0, 0.0, 0.0, 0.0, 0.0], [0.870843768119812, 0.0019719223491847515, 0.0013380361488088965, 0.0012215451570227742, 0.0033453330397605896, 0.00044843630166724324, 0.0024952255189418793, 0.08192455023527145, 0.025065723806619644, 0.011345374397933483, 0.0, 0.0, 0.0, 0.0, 0.0, 0.0, 0.0, 0.0, 0.0, 0.0, 0.0, 0.0, 0.0, 0.0], [0.9185993671417236, 0.002174439374357462, 0.0021109203808009624, 0.001148854847997427, 0.012693285942077637, 0.0007159781525842845, 0.002178703900426626, 0.0042399694211781025, 0.003354055341333151, 0.04945184662938118, 0.0033324873074889183, 0.0, 0.0, 0.0, 0.0, 0.0, 0.0, 0.0, 0.0, 0.0, 0.0, 0.0, 0.0, 0.0], [0.9350959062576294, 0.0010177941294386983, 0.0034221154637634754, 0.0009522924665361643, 0.008878929540514946, 0.000621885119471699, 0.007287022192031145, 0.004027806222438812, 0.008929063566029072, 0.02592381276190281, 0.0028205192647874355, 0.0010227842722088099, 0.0, 0.0, 0.0, 0.0, 0.0, 0.0, 0.0, 0.0, 0.0, 0.0, 0.0, 0.0], [0.8459858894348145, 0.0004277978150639683, 0.010139605030417442, 0.003148590214550495, 0.051916830241680145, 0.0012351759942248464, 0.05543498322367668, 0.002428012201562524, 0.0020471159368753433, 0.020856505259871483, 0.0005603681202046573, 0.000539236469194293, 0.005279903765767813, 0.0, 0.0, 0.0, 0.0, 0.0, 0.0, 0.0, 0.0, 0.0, 0.0, 0.0], [0.7957586646080017, 0.0018508587963879108, 0.0013819820014759898, 0.0010261324932798743, 0.1591477394104004, 0.003543791826814413, 0.015454915352165699, 0.0036941207945346832, 0.002523549133911729, 0.010970775969326496, 0.0007165387505665421, 0.0010737712727859616, 0.0022660137619823217, 0.0005911779589951038, 0.0, 0.0, 0.0, 0.0, 0.0, 0.0, 0.0, 0.0, 0.0, 0.0], [0.9185733199119568, 0.0007206399459391832, 0.00850836280733347, 0.0011406654957681894, 0.02392308972775936, 0.0013041701167821884, 0.024057136848568916, 0.010242451913654804, 0.004278575070202351, 0.0017369899433106184, 0.0001455178135074675, 0.00019472620624583215, 0.0012608389370143414, 0.0013351155212149024, 0.0025784699246287346, 0.0, 0.0, 0.0, 0.0, 0.0, 0.0, 0.0, 0.0, 0.0], [0.723670482635498, 0.0030418045353144407, 0.0026498939841985703, 0.0008684073691256344, 0.09735766053199768, 0.0034818830899894238, 0.05718657001852989, 0.01169541385024786, 0.00612922478467226, 0.08246448636054993, 0.001106951734982431, 0.0009170311968773603, 0.0013377266004681587, 0.0006699010264128447, 0.0003374689258635044, 0.007085125893354416, 0.0, 0.0, 0.0, 0.0, 0.0, 0.0, 0.0, 0.0], [0.7618758082389832, 0.002609028946608305, 0.0017543392023071647, 0.001166120171546936, 0.014043794013559818, 0.0021841831039637327, 0.006237801630049944, 0.1449931412935257, 0.022210266441106796, 0.01829189620912075, 0.004087095148861408, 0.0024354506749659777, 0.002048037713393569, 0.0018283362733200192, 0.0024780230596661568, 0.006403656676411629, 0.005352971144020557, 0.0, 0.0, 0.0, 0.0, 0.0, 0.0, 0.0], [0.9158567786216736, 0.0012913253158330917, 0.0036697224713861942, 0.0006608118419535458, 0.04054351896047592, 0.0006069510709494352, 0.003017127513885498, 0.008162139914929867, 0.0027698115445673466, 0.004695294424891472, 0.00018980774621013552, 0.0003707628056872636, 0.0005456574726849794, 0.001042383722960949, 0.0007703417795710266, 0.010136773809790611, 0.004428169224411249, 0.0012425900204107165, 0.0, 0.0, 0.0, 0.0, 0.0, 0.0], [0.9252489805221558, 0.000559974811039865, 0.012175757437944412, 0.0006045308546163142, 0.011404712684452534, 0.00043692768667824566, 0.0052978405728936195, 0.0049982075579464436, 0.0030451789498329163, 0.0011997218243777752, 0.00019905768567696214, 0.00016571539163123816, 0.00041442111250944436, 0.0008251106482930481, 0.0004934267490170896, 0.02763345092535019, 0.002731814980506897, 0.0010239901021122932, 0.001541171339340508, 0.0, 0.0, 0.0, 0.0, 0.0], [0.8243786692619324, 0.001374779618345201, 0.0011621024459600449, 0.0009669784922152758, 0.049706488847732544, 0.0010437797755002975, 0.02519352175295353, 0.0031080334447324276, 0.0033078943379223347, 0.027154942974448204, 0.0008432792965322733, 0.0025821111630648375, 0.0030285315588116646, 0.0007255939999595284, 0.0003694944898597896, 0.005304783582687378, 0.03327379748225212, 0.0001114138140110299, 0.000568017887417227, 0.01579582877457142, 0.0, 0.0, 0.0, 0.0], [0.8609864115715027, 0.0010703224688768387, 0.0010075867176055908, 0.0009772051125764847, 0.005429986864328384, 0.0004633773642126471, 0.006889352574944496, 0.06239693984389305, 0.013118424452841282, 0.006887704133987427, 0.0028248389717191458, 0.001526867039501667, 0.003272098721936345, 0.0004416988231241703, 0.00147900206502527, 0.004900150932371616, 0.0049118055030703545, 0.0004275185929145664, 0.0014669194351881742, 0.012324342504143715, 0.0071973856538534164, 0.0, 0.0, 0.0], [0.9535576701164246, 0.000247258780291304, 0.0005139661370776594, 0.00020065279386471957, 0.0015395371010527015, 0.00028437902801670134, 0.004156336188316345, 0.0018373766215518117, 0.003205840243026614, 0.0008814425673335791, 0.00014065008144825697, 8.297991735162213e-05, 0.00042515952372923493, 0.000391377107007429, 0.0002907339367084205, 0.003363803494721651, 0.001972832018509507, 0.00011137049295939505, 0.00025062976055778563, 0.004638689570128918, 0.0005685390206053853, 0.021338874474167824, 0.0, 0.0], [0.9358194470405579, 0.0006967211375012994, 0.001067947130650282, 0.0004251108621247113, 0.0019872558768838644, 0.00033005003933794796, 0.007050713989883661, 0.002550658769905567, 0.002954056952148676, 0.00043101439950987697, 7.875971641624346e-05, 7.809062663000077e-05, 0.0008490618201903999, 0.000305733090499416, 0.00043046727660112083, 0.00195392151363194, 0.0007459287880919874, 6.810302147641778e-05, 0.0007775180856697261, 0.0033799041993916035, 0.0005399039364419878, 0.02490393817424774, 0.012575731612741947, 0.0], [0.917303740978241, 0.0007552513852715492, 0.001099753426387906, 0.0004145649145357311, 0.0041669621132314205, 0.0002692723646759987, 0.0016486236127093434, 0.020269108936190605, 0.002975973766297102, 0.0022617019712924957, 0.00042707085958682, 0.00022847250511404127, 0.00042466691229492426, 0.0006584085058420897, 0.0004411802510730922, 0.002456301124766469, 0.00604733731597662, 0.00037044149939902127, 0.0004412351408973336, 0.0047955382615327835, 0.0013920984929427505, 0.019221987575292587, 0.005228428635746241, 0.006701866630464792]], [[1.0, 0.0, 0.0, 0.0, 0.0, 0.0, 0.0, 0.0, 0.0, 0.0, 0.0, 0.0, 0.0, 0.0, 0.0, 0.0, 0.0, 0.0, 0.0, 0.0, 0.0, 0.0, 0.0, 0.0], [0.9934158325195312, 0.006584158167243004, 0.0, 0.0, 0.0, 0.0, 0.0, 0.0, 0.0, 0.0, 0.0, 0.0, 0.0, 0.0, 0.0, 0.0, 0.0, 0.0, 0.0, 0.0, 0.0, 0.0, 0.0, 0.0], [0.9730491638183594, 0.009157498367130756, 0.017793409526348114, 0.0, 0.0, 0.0, 0.0, 0.0, 0.0, 0.0, 0.0, 0.0, 0.0, 0.0, 0.0, 0.0, 0.0, 0.0, 0.0, 0.0, 0.0, 0.0, 0.0, 0.0], [0.9644245505332947, 0.007205341476947069, 0.0143965482711792, 0.013973601162433624, 0.0, 0.0, 0.0, 0.0, 0.0, 0.0, 0.0, 0.0, 0.0, 0.0, 0.0, 0.0, 0.0, 0.0, 0.0, 0.0, 0.0, 0.0, 0.0, 0.0], [0.9012031555175781, 0.022495748475193977, 0.031153002753853798, 0.022763339802622795, 0.022384757176041603, 0.0, 0.0, 0.0, 0.0, 0.0, 0.0, 0.0, 0.0, 0.0, 0.0, 0.0, 0.0, 0.0, 0.0, 0.0, 0.0, 0.0, 0.0, 0.0], [0.804997444152832, 0.02218751609325409, 0.02396349422633648, 0.012139233760535717, 0.08756844699382782, 0.049143798649311066, 0.0, 0.0, 0.0, 0.0, 0.0, 0.0, 0.0, 0.0, 0.0, 0.0, 0.0, 0.0, 0.0, 0.0, 0.0, 0.0, 0.0, 0.0], [0.8957870006561279, 0.010758385993540287, 0.01825660653412342, 0.01593003049492836, 0.02816646359860897, 0.020639780908823013, 0.0104616554453969, 0.0, 0.0, 0.0, 0.0, 0.0, 0.0, 0.0, 0.0, 0.0, 0.0, 0.0, 0.0, 0.0, 0.0, 0.0, 0.0, 0.0], [0.8537984490394592, 0.023265764117240906, 0.01615303009748459, 0.01055352482944727, 0.03396018221974373, 0.028195898979902267, 0.025210604071617126, 0.008862541057169437, 0.0, 0.0, 0.0, 0.0, 0.0, 0.0, 0.0, 0.0, 0.0, 0.0, 0.0, 0.0, 0.0, 0.0, 0.0, 0.0], [0.721821665763855, 0.011470525525510311, 0.005972451996058226, 0.004300056491047144, 0.13385169208049774, 0.056347157806158066, 0.034094635397195816, 0.008913477882742882, 0.023228269070386887, 0.0, 0.0, 0.0, 0.0, 0.0, 0.0, 0.0, 0.0, 0.0, 0.0, 0.0, 0.0, 0.0, 0.0, 0.0], [0.792392909526825, 0.027392873540520668, 0.017790528014302254, 0.009048763662576675, 0.027082381770014763, 0.01951104775071144, 0.021841324865818024, 0.017273563891649246, 0.03507175296545029, 0.03259483724832535, 0.0, 0.0, 0.0, 0.0, 0.0, 0.0, 0.0, 0.0, 0.0, 0.0, 0.0, 0.0, 0.0, 0.0], [0.543729305267334, 0.01379882451146841, 0.03788287565112114, 0.016199883073568344, 0.06046085059642792, 0.016763702034950256, 0.004946768283843994, 0.0529279001057148, 0.030538948252797127, 0.206735759973526, 0.01601521112024784, 0.0, 0.0, 0.0, 0.0, 0.0, 0.0, 0.0, 0.0, 0.0, 0.0, 0.0, 0.0, 0.0], [0.5572379231452942, 0.011023866944015026, 0.014010525308549404, 0.008960539475083351, 0.0717553198337555, 0.013391327112913132, 0.009798290207982063, 0.044191066175699234, 0.03515275567770004, 0.19051115214824677, 0.033859733492136, 0.01010756753385067, 0.0, 0.0, 0.0, 0.0, 0.0, 0.0, 0.0, 0.0, 0.0, 0.0, 0.0, 0.0], [0.549689769744873, 0.015207010321319103, 0.03245126083493233, 0.02169724367558956, 0.006096929777413607, 0.012228199280798435, 0.08030937612056732, 0.01196975726634264, 0.043106574565172195, 0.044129349291324615, 0.15807200968265533, 0.009309972636401653, 0.015732526779174805, 0.0, 0.0, 0.0, 0.0, 0.0, 0.0, 0.0, 0.0, 0.0, 0.0, 0.0], [0.3690536320209503, 0.02353731170296669, 0.04238854721188545, 0.017414230853319168, 0.02886318974196911, 0.08833003044128418, 0.1572301983833313, 0.021117333322763443, 0.09251370280981064, 0.031627219170331955, 0.06664515286684036, 0.009844083338975906, 0.040603216737508774, 0.010832231491804123, 0.0, 0.0, 0.0, 0.0, 0.0, 0.0, 0.0, 0.0, 0.0, 0.0], [0.5795625448226929, 0.005899996962398291, 0.011645358987152576, 0.006440833676606417, 0.01844712905585766, 0.038015805184841156, 0.1190059632062912, 0.04288028925657272, 0.05638957768678665, 0.05896536260843277, 0.04061231017112732, 0.007904422469437122, 0.004067177418619394, 0.004546592477709055, 0.005616610869765282, 0.0, 0.0, 0.0, 0.0, 0.0, 0.0, 0.0, 0.0, 0.0], [0.43616214394569397, 0.00639543728902936, 0.009741643443703651, 0.006270745303481817, 0.035303425043821335, 0.103878453373909, 0.06539714336395264, 0.04805487021803856, 0.020403753966093063, 0.15804210305213928, 0.05625610798597336, 0.005345682613551617, 0.00912262499332428, 0.012360257096588612, 0.014505489729344845, 0.01276013720780611, 0.0, 0.0, 0.0, 0.0, 0.0, 0.0, 0.0, 0.0], [0.8163996934890747, 0.006127764005213976, 0.01235156785696745, 0.005342877935618162, 0.007922349497675896, 0.010335688479244709, 0.004613254219293594, 0.00951835885643959, 0.012449878267943859, 0.007121330592781305, 0.013668953441083431, 0.0035168356262147427, 0.014604208059608936, 0.006745344493538141, 0.0356278270483017, 0.022582532837986946, 0.011071630753576756, 0.0, 0.0, 0.0, 0.0, 0.0, 0.0, 0.0], [0.6053506731987, 0.011531013064086437, 0.0038859054911881685, 0.00198982167057693, 0.03949990123510361, 0.016327721998095512, 0.012393117882311344, 0.01589156687259674, 0.018657132983207703, 0.06330636888742447, 0.03135601058602333, 0.013079790398478508, 0.02587016485631466, 0.013427243568003178, 0.02552294358611107, 0.045265570282936096, 0.04716856777667999, 0.00947650894522667, 0.0, 0.0, 0.0, 0.0, 0.0, 0.0], [0.5667687058448792, 0.007660022005438805, 0.0044672139920294285, 0.0015128012746572495, 0.033177971839904785, 0.019356993958353996, 0.04550023004412651, 0.03899393975734711, 0.015196433290839195, 0.058933746069669724, 0.01794442906975746, 0.007389294449239969, 0.007827396504580975, 0.005769353359937668, 0.010302226059138775, 0.0606442429125309, 0.08585481345653534, 0.004359654616564512, 0.00834049191325903, 0.0, 0.0, 0.0, 0.0, 0.0], [0.26826465129852295, 0.006410660687834024, 0.001543448306620121, 0.0009409170597791672, 0.04043795168399811, 0.032354533672332764, 0.041935887187719345, 0.028785239905118942, 0.010266811586916447, 0.17633214592933655, 0.016390906646847725, 0.0035745883360505104, 0.003758557140827179, 0.004101786762475967, 0.005554379895329475, 0.01331512164324522, 0.3151874840259552, 0.008669625036418438, 0.009353225119411945, 0.012822055257856846, 0.0, 0.0, 0.0, 0.0], [0.5673567652702332, 0.028212880715727806, 0.005487340968102217, 0.002089213114231825, 0.008891493082046509, 0.007155801169574261, 0.007682396564632654, 0.0349060483276844, 0.018507584929466248, 0.046439722180366516, 0.028740644454956055, 0.006224857177585363, 0.003972165286540985, 0.006124922540038824, 0.017990324646234512, 0.08928355574607849, 0.037244927138090134, 0.004818681627511978, 0.015542440116405487, 0.044168587774038315, 0.019159682095050812, 0.0, 0.0, 0.0], [0.89991295337677, 0.0025644078850746155, 0.002613707445561886, 0.00418687192723155, 0.005142600741237402, 0.0018087648786604404, 0.02087610401213169, 0.0019067124230787158, 0.006810328457504511, 0.004365771543234587, 0.003966242074966431, 0.0017007782589644194, 0.0006946047069504857, 0.0004078235069755465, 0.0016374110709875822, 0.007681871298700571, 0.013093380257487297, 0.0013233913341537118, 0.001830869005061686, 0.005315198563039303, 0.008572799153625965, 0.0035873057786375284, 0.0, 0.0], [0.9164999127388, 0.003766561159864068, 0.0012523728655651212, 0.003699095454066992, 0.00355551321990788, 0.0024853863287717104, 0.013824858702719212, 0.002086174674332142, 0.006869633682072163, 0.0020100963301956654, 0.003136721206828952, 0.0014306196244433522, 0.0002866399590857327, 0.0002853501355275512, 0.001257615047506988, 0.0037372938822954893, 0.01741023175418377, 0.0010740513680502772, 0.0010118818609043956, 0.0014700227184221148, 0.0027435654774308205, 0.004003501497209072, 0.006102902349084616, 0.0], [0.5678529143333435, 0.008249483071267605, 0.006391450762748718, 0.006711344700306654, 0.01388369407504797, 0.013743272982537746, 0.01220876444131136, 0.0046238768845796585, 0.014712200500071049, 0.035050492733716965, 0.014991131611168385, 0.010265586897730827, 0.0026962582487612963, 0.004687170963734388, 0.022319884970784187, 0.01880333386361599, 0.15351517498493195, 0.01389777660369873, 0.0178467258810997, 0.007445420604199171, 0.033744022250175476, 0.003202261170372367, 0.001325056771747768, 0.011832654476165771]], [[1.0, 0.0, 0.0, 0.0, 0.0, 0.0, 0.0, 0.0, 0.0, 0.0, 0.0, 0.0, 0.0, 0.0, 0.0, 0.0, 0.0, 0.0, 0.0, 0.0, 0.0, 0.0, 0.0, 0.0], [0.9902958273887634, 0.009704149328172207, 0.0, 0.0, 0.0, 0.0, 0.0, 0.0, 0.0, 0.0, 0.0, 0.0, 0.0, 0.0, 0.0, 0.0, 0.0, 0.0, 0.0, 0.0, 0.0, 0.0, 0.0, 0.0], [0.9527074098587036, 0.015087064355611801, 0.03220544755458832, 0.0, 0.0, 0.0, 0.0, 0.0, 0.0, 0.0, 0.0, 0.0, 0.0, 0.0, 0.0, 0.0, 0.0, 0.0, 0.0, 0.0, 0.0, 0.0, 0.0, 0.0], [0.8774311542510986, 0.02273029088973999, 0.06313218921422958, 0.036706309765577316, 0.0, 0.0, 0.0, 0.0, 0.0, 0.0, 0.0, 0.0, 0.0, 0.0, 0.0, 0.0, 0.0, 0.0, 0.0, 0.0, 0.0, 0.0, 0.0, 0.0], [0.9200287461280823, 0.006404797080904245, 0.019227784126996994, 0.03781883418560028, 0.01651979796588421, 0.0, 0.0, 0.0, 0.0, 0.0, 0.0, 0.0, 0.0, 0.0, 0.0, 0.0, 0.0, 0.0, 0.0, 0.0, 0.0, 0.0, 0.0, 0.0], [0.8000949025154114, 0.0053585972636938095, 0.0321408212184906, 0.09004699438810349, 0.018654968589544296, 0.05370374396443367, 0.0, 0.0, 0.0, 0.0, 0.0, 0.0, 0.0, 0.0, 0.0, 0.0, 0.0, 0.0, 0.0, 0.0, 0.0, 0.0, 0.0, 0.0], [0.839801549911499, 0.006540361791849136, 0.029369231313467026, 0.08710531890392303, 0.012569457292556763, 0.016028374433517456, 0.008585656061768532, 0.0, 0.0, 0.0, 0.0, 0.0, 0.0, 0.0, 0.0, 0.0, 0.0, 0.0, 0.0, 0.0, 0.0, 0.0, 0.0, 0.0], [0.9077431559562683, 0.0051664505153894424, 0.018483569845557213, 0.03664527088403702, 0.005568329710513353, 0.011372785083949566, 0.0069453236646950245, 0.008075016550719738, 0.0, 0.0, 0.0, 0.0, 0.0, 0.0, 0.0, 0.0, 0.0, 0.0, 0.0, 0.0, 0.0, 0.0, 0.0, 0.0], [0.7863978147506714, 0.010687571950256824, 0.024948453530669212, 0.04093337804079056, 0.04315715283155441, 0.02081073634326458, 0.026490483433008194, 0.01066859532147646, 0.03590581193566322, 0.0, 0.0, 0.0, 0.0, 0.0, 0.0, 0.0, 0.0, 0.0, 0.0, 0.0, 0.0, 0.0, 0.0, 0.0], [0.8680593371391296, 0.0044356114231050014, 0.018588414415717125, 0.05829251930117607, 0.006399794947355986, 0.0038752825930714607, 0.006340261548757553, 0.0059155672788619995, 0.021711796522140503, 0.00638130446895957, 0.0, 0.0, 0.0, 0.0, 0.0, 0.0, 0.0, 0.0, 0.0, 0.0, 0.0, 0.0, 0.0, 0.0], [0.6553745269775391, 0.015002344734966755, 0.03300851956009865, 0.0332275815308094, 0.0845964103937149, 0.05698893964290619, 0.021021053194999695, 0.025272469967603683, 0.02497740462422371, 0.03303907439112663, 0.01749165914952755, 0.0, 0.0, 0.0, 0.0, 0.0, 0.0, 0.0, 0.0, 0.0, 0.0, 0.0, 0.0, 0.0], [0.7298482656478882, 0.009358986280858517, 0.027808669954538345, 0.0384007953107357, 0.06428248435258865, 0.017446761950850487, 0.02225048653781414, 0.010928832925856113, 0.032496895641088486, 0.021851567551493645, 0.015674760565161705, 0.00965151097625494, 0.0, 0.0, 0.0, 0.0, 0.0, 0.0, 0.0, 0.0, 0.0, 0.0, 0.0, 0.0], [0.7224462628364563, 0.011059262789785862, 0.03202518820762634, 0.035519130527973175, 0.07399266958236694, 0.017648499459028244, 0.0152626633644104, 0.024667024612426758, 0.023762742057442665, 0.01319335587322712, 0.011567724868655205, 0.010981416329741478, 0.007874048314988613, 0.0, 0.0, 0.0, 0.0, 0.0, 0.0, 0.0, 0.0, 0.0, 0.0, 0.0], [0.8106681704521179, 0.011230427771806717, 0.022512666881084442, 0.02692454867064953, 0.008990384638309479, 0.010340775363147259, 0.006032198201864958, 0.046215761452913284, 0.02373417094349861, 0.009106864221394062, 0.014686612412333488, 0.0031492412090301514, 0.004936390556395054, 0.0014718096936121583, 0.0, 0.0, 0.0, 0.0, 0.0, 0.0, 0.0, 0.0, 0.0, 0.0], [0.646405041217804, 0.004725805018097162, 0.06638354808092117, 0.040653783828020096, 0.03717805817723274, 0.02184084989130497, 0.03088601864874363, 0.046263985335826874, 0.02910936065018177, 0.022510632872581482, 0.020241588354110718, 0.009091926738619804, 0.005634169094264507, 0.015837080776691437, 0.0032381184864789248, 0.0, 0.0, 0.0, 0.0, 0.0, 0.0, 0.0, 0.0, 0.0], [0.8582141995429993, 0.00511493906378746, 0.010116806253790855, 0.014714911580085754, 0.012156966142356396, 0.011155025102198124, 0.012014412321150303, 0.01533498615026474, 0.013888300396502018, 0.011454439722001553, 0.00872113648802042, 0.011845292523503304, 0.003584720427170396, 0.0010261506540700793, 0.003163814079016447, 0.00749381585046649, 0.0, 0.0, 0.0, 0.0, 0.0, 0.0, 0.0, 0.0], [0.8958760499954224, 0.0019475045846775174, 0.017316995188593864, 0.01912463828921318, 0.008304865099489689, 0.0035345694050192833, 0.0029305347707122564, 0.007316217292100191, 0.009168652817606926, 0.0044031343422830105, 0.003986482974141836, 0.006055334582924843, 0.0015413552755489945, 0.0021953643299639225, 0.0018556673312559724, 0.0041948482394218445, 0.01024782657623291, 0.0, 0.0, 0.0, 0.0, 0.0, 0.0, 0.0], [0.5244799852371216, 0.0017130767228081822, 0.04068630933761597, 0.05994758382439613, 0.07008036971092224, 0.038435813039541245, 0.02092377096414566, 0.008131737820804119, 0.04758124426007271, 0.016914241015911102, 0.021736767143011093, 0.03161285072565079, 0.006532175000756979, 0.00890501867979765, 0.009409741498529911, 0.028133129701018333, 0.039508186280727386, 0.02526800148189068, 0.0, 0.0, 0.0, 0.0, 0.0, 0.0], [0.5495448708534241, 0.0016859530005604029, 0.06910943239927292, 0.03263474255800247, 0.12213870137929916, 0.025098886340856552, 0.026433277875185013, 0.010829647071659565, 0.011838668957352638, 0.016464082524180412, 0.006362672429531813, 0.008383255451917648, 0.0034618526697158813, 0.017737481743097305, 0.002216177526861429, 0.027740076184272766, 0.02497837506234646, 0.03026062436401844, 0.013081241399049759, 0.0, 0.0, 0.0, 0.0, 0.0], [0.7967323660850525, 0.0035099361557513475, 0.013716423884034157, 0.015917696058750153, 0.0176977701485157, 0.015221895650029182, 0.010480452328920364, 0.015425085090100765, 0.009265282191336155, 0.0062430850230157375, 0.007584770675748587, 0.007099454291164875, 0.0048577445559203625, 0.0020501401741057634, 0.0025761830620467663, 0.004209722392261028, 0.006653631571680307, 0.016247790306806564, 0.02304174192249775, 0.02146868407726288, 0.0, 0.0, 0.0, 0.0], [0.7109113335609436, 0.00354427145794034, 0.03163792937994003, 0.06252029538154602, 0.00850991066545248, 0.008128383196890354, 0.006766060367226601, 0.01211639679968357, 0.013688280247151852, 0.005830411333590746, 0.011811275035142899, 0.012333862483501434, 0.0033018761314451694, 0.005822882056236267, 0.0036624048370867968, 0.011298365890979767, 0.007894729264080524, 0.010174422524869442, 0.013738235458731651, 0.04588994011282921, 0.010418727993965149, 0.0, 0.0, 0.0], [0.9061973094940186, 0.0018378621898591518, 0.016853973269462585, 0.020346924662590027, 0.003009126288816333, 0.004733722191303968, 0.006081982981413603, 0.00493439007550478, 0.0025205453857779503, 0.0020007460843771696, 0.0022982724476605654, 0.000992278102785349, 0.001021482632495463, 0.002581231528893113, 0.0005749704432673752, 0.0048187850043177605, 0.0016533307498320937, 0.0024383689742535353, 0.0036049028858542442, 0.0060977335087955, 0.0018914269749075174, 0.0035106015857309103, 0.0, 0.0], [0.906745195388794, 0.0019372343085706234, 0.018281448632478714, 0.013678926974534988, 0.0033400615211576223, 0.0019578207284212112, 0.009376930072903633, 0.005227286834269762, 0.0021461141295731068, 0.0013731946237385273, 0.0012906307820230722, 0.0013125226832926273, 0.0017912781331688166, 0.004283009562641382, 0.0004773357941303402, 0.005035392940044403, 0.0021611175034195185, 0.0012458236888051033, 0.0023016342893242836, 0.0054594725370407104, 0.000755361164920032, 0.007354238070547581, 0.0024680134374648333, 0.0], [0.8618259429931641, 0.003851377172395587, 0.025664886459708214, 0.02284947782754898, 0.0037525922525674105, 0.004135162569582462, 0.00675151776522398, 0.005160568282008171, 0.004332491662353277, 0.006740002427250147, 0.0038330594543367624, 0.0025694926735013723, 0.0010453932918608189, 0.002793654566630721, 0.0006011060904711485, 0.0033778890501707792, 0.0055099125020205975, 0.0035878848284482956, 0.005269346293061972, 0.008722580969333649, 0.004173058085143566, 0.003791641676798463, 0.0018009394407272339, 0.007859975099563599]], [[1.0, 0.0, 0.0, 0.0, 0.0, 0.0, 0.0, 0.0, 0.0, 0.0, 0.0, 0.0, 0.0, 0.0, 0.0, 0.0, 0.0, 0.0, 0.0, 0.0, 0.0, 0.0, 0.0, 0.0], [0.9967623949050903, 0.0032376328017562628, 0.0, 0.0, 0.0, 0.0, 0.0, 0.0, 0.0, 0.0, 0.0, 0.0, 0.0, 0.0, 0.0, 0.0, 0.0, 0.0, 0.0, 0.0, 0.0, 0.0, 0.0, 0.0], [0.9812664985656738, 0.013613281771540642, 0.005120180547237396, 0.0, 0.0, 0.0, 0.0, 0.0, 0.0, 0.0, 0.0, 0.0, 0.0, 0.0, 0.0, 0.0, 0.0, 0.0, 0.0, 0.0, 0.0, 0.0, 0.0, 0.0], [0.979669451713562, 0.012847501784563065, 0.004257484804838896, 0.0032254797406494617, 0.0, 0.0, 0.0, 0.0, 0.0, 0.0, 0.0, 0.0, 0.0, 0.0, 0.0, 0.0, 0.0, 0.0, 0.0, 0.0, 0.0, 0.0, 0.0, 0.0], [0.9918050765991211, 0.0004446292878128588, 0.00279907020740211, 0.0007581387180835009, 0.004193101543933153, 0.0, 0.0, 0.0, 0.0, 0.0, 0.0, 0.0, 0.0, 0.0, 0.0, 0.0, 0.0, 0.0, 0.0, 0.0, 0.0, 0.0, 0.0, 0.0], [0.9754748940467834, 0.001354159670881927, 0.002064327010884881, 0.0007176577928476036, 0.013935490511357784, 0.006453551352024078, 0.0, 0.0, 0.0, 0.0, 0.0, 0.0, 0.0, 0.0, 0.0, 0.0, 0.0, 0.0, 0.0, 0.0, 0.0, 0.0, 0.0, 0.0], [0.9892548322677612, 0.0004884893423877656, 0.0007731549558229744, 0.0005293809226714075, 0.0031750104390084743, 0.0001572791370563209, 0.005621872842311859, 0.0, 0.0, 0.0, 0.0, 0.0, 0.0, 0.0, 0.0, 0.0, 0.0, 0.0, 0.0, 0.0, 0.0, 0.0, 0.0, 0.0], [0.9648719429969788, 0.0024745455011725426, 0.0008974624797701836, 0.0009081761818379164, 0.005421002861112356, 0.0004522183444350958, 0.019534574821591377, 0.005440128967165947, 0.0, 0.0, 0.0, 0.0, 0.0, 0.0, 0.0, 0.0, 0.0, 0.0, 0.0, 0.0, 0.0, 0.0, 0.0, 0.0], [0.9532243609428406, 0.0013155655469745398, 0.0029523682314902544, 0.0006608357070945203, 0.007958215661346912, 0.00013256756938062608, 0.019277937710285187, 0.00475714635103941, 0.009721075184643269, 0.0, 0.0, 0.0, 0.0, 0.0, 0.0, 0.0, 0.0, 0.0, 0.0, 0.0, 0.0, 0.0, 0.0, 0.0], [0.96455317735672, 0.00041845126543194056, 0.0011684446362778544, 0.00032050986192189157, 0.000783624011091888, 8.771658031037077e-05, 0.004688975401222706, 0.012249073013663292, 0.009082498960196972, 0.006647604051977396, 0.0, 0.0, 0.0, 0.0, 0.0, 0.0, 0.0, 0.0, 0.0, 0.0, 0.0, 0.0, 0.0, 0.0], [0.9000337719917297, 0.0011406478006392717, 0.00340625480748713, 0.0005971831851638854, 0.002826481591910124, 7.399098831228912e-05, 0.004765611607581377, 0.0035410053096711636, 0.0033501002471894026, 0.07988676428794861, 0.0003781622217502445, 0.0, 0.0, 0.0, 0.0, 0.0, 0.0, 0.0, 0.0, 0.0, 0.0, 0.0, 0.0, 0.0], [0.9397152662277222, 0.0009653580491431057, 0.0050644236616790295, 0.0005983681185171008, 0.0024091294035315514, 0.00012605827942024916, 0.01398606225848198, 0.002194424392655492, 0.0020797685720026493, 0.03197862207889557, 0.0001685429597273469, 0.0007138410001061857, 0.0, 0.0, 0.0, 0.0, 0.0, 0.0, 0.0, 0.0, 0.0, 0.0, 0.0, 0.0], [0.8655262589454651, 0.0004489162820391357, 0.004079385660588741, 0.0018993342528119683, 0.008663144893944263, 0.000538154155947268, 0.06021718308329582, 0.009573569521307945, 0.0029660689178854227, 0.037641096860170364, 0.0006504745688289404, 0.0005500792758539319, 0.007246298249810934, 0.0, 0.0, 0.0, 0.0, 0.0, 0.0, 0.0, 0.0, 0.0, 0.0, 0.0], [0.9174348711967468, 0.004868597723543644, 0.0017033490585163236, 0.00223027472384274, 0.024338554590940475, 0.0007618400268256664, 0.02249261550605297, 0.012089284136891365, 0.003515496850013733, 0.0083304513245821, 0.00022882113989908248, 0.00033548736246302724, 0.0006384456646628678, 0.0010319468565285206, 0.0, 0.0, 0.0, 0.0, 0.0, 0.0, 0.0, 0.0, 0.0, 0.0], [0.9104254245758057, 0.0012126866495236754, 0.005735320039093494, 0.0016201933613047004, 0.008201141841709614, 0.0012168585089966655, 0.04503553360700607, 0.014947422780096531, 0.004619942512363195, 0.0030480383429676294, 0.00013714106171391904, 0.0002760772767942399, 0.0005359359784051776, 0.001353429164737463, 0.0016349215293303132, 0.0, 0.0, 0.0, 0.0, 0.0, 0.0, 0.0, 0.0, 0.0], [0.5676561594009399, 0.017950769513845444, 0.0039799390360713005, 0.0013776079285889864, 0.06536081433296204, 0.001474203891120851, 0.12058698385953903, 0.026329614222049713, 0.0062113874591887, 0.17921766638755798, 0.0006441259174607694, 0.001359265181235969, 0.0006155399605631828, 0.0004293253878131509, 0.00046044186456128955, 0.0063460892997682095, 0.0, 0.0, 0.0, 0.0, 0.0, 0.0, 0.0, 0.0], [0.8607104420661926, 0.0020515448413789272, 0.003632696345448494, 0.00137244607321918, 0.006212417036294937, 0.00029871801962144673, 0.010319221764802933, 0.0841757282614708, 0.013065609149634838, 0.008619273081421852, 0.0017679419834166765, 0.0011422090465202928, 0.00012455834075808525, 0.00020598041010089219, 0.0004153885238338262, 0.0017927550943568349, 0.00409306725487113, 0.0, 0.0, 0.0, 0.0, 0.0, 0.0, 0.0], [0.9520336985588074, 0.001990430522710085, 0.0035147445742040873, 0.001471067196689546, 0.014986063353717327, 0.00020440685329958797, 0.0016142982058227062, 0.003276085015386343, 0.002856471575796604, 0.004667517263442278, 0.0001562150428071618, 0.0007739820284768939, 0.0003008634957950562, 0.0002852414036169648, 0.0003146710805594921, 0.0074507626704871655, 0.0013944576494395733, 0.0027090345975011587, 0.0, 0.0, 0.0, 0.0, 0.0, 0.0], [0.9547216296195984, 0.0008386328117921948, 0.010111699812114239, 0.0005978606641292572, 0.0036588183138519526, 0.0001651169004617259, 0.0024601584300398827, 0.0025523309595882893, 0.0012624565279111266, 0.002484878059476614, 0.00013452500570565462, 0.0003517596051096916, 0.0001449395640520379, 0.0003916120040230453, 0.0002965108724310994, 0.012825826182961464, 0.001981857232749462, 0.002029633615165949, 0.0029897415079176426, 0.0, 0.0, 0.0, 0.0, 0.0], [0.8011649250984192, 0.0037359425332397223, 0.0015139335300773382, 0.0009524808265268803, 0.012135354802012444, 0.0001953810133272782, 0.023858744651079178, 0.004077091347426176, 0.0038780986797064543, 0.08233547955751419, 0.0013065972598269582, 0.005479233339428902, 0.0007519195205532014, 0.0004611414042301476, 0.0004935440374538302, 0.0023529597092419863, 0.04473519325256348, 0.0003351025516167283, 0.002636197954416275, 0.007600653450936079, 0.0, 0.0, 0.0, 0.0], [0.9397560358047485, 0.0002895355864893645, 0.0004950888687744737, 0.0002420409000478685, 0.002200428396463394, 8.010806777747348e-05, 0.007905128411948681, 0.018025651574134827, 0.005700136534869671, 0.008083059452474117, 0.0017213905230164528, 0.0014142761938273907, 0.00019827015057671815, 4.8930145567283034e-05, 0.00014595479296986014, 0.0005182650638744235, 0.003924120683223009, 0.00011596868716878816, 0.0005546196480281651, 0.0032388479448854923, 0.005342099815607071, 0.0, 0.0, 0.0], [0.9866103529930115, 0.00011868091678479686, 0.00011560774873942137, 5.818592035211623e-05, 0.0002897016820497811, 5.078982940176502e-05, 0.006030078046023846, 0.00044196986709721386, 0.0007040188065730035, 0.0002569396747276187, 6.123326602391899e-05, 5.2813167712884024e-05, 3.834877861663699e-05, 2.1316523998393677e-05, 2.5904168069246225e-05, 0.00013999655493535101, 0.0004812274419236928, 1.7886368368635885e-05, 6.235511682461947e-05, 0.0007315155235119164, 0.0003268530126661062, 0.0033643071074038744, 0.0, 0.0], [0.9878579378128052, 8.311872079502791e-05, 5.5330579925794154e-05, 2.3481321477447636e-05, 0.0001509202120359987, 3.252642272855155e-05, 0.0044384729117155075, 0.0002949944173451513, 0.00022001018805895, 2.659584606590215e-05, 8.238089321821462e-06, 1.3515265891328454e-05, 4.330192678025924e-05, 1.5391187844215892e-05, 2.5072227799682878e-05, 0.00023978757963050157, 0.00012439933198038489, 8.742028512642719e-06, 6.828778714407235e-05, 0.0006357430247589946, 4.0833863749867305e-05, 0.000933902629185468, 0.004659546073526144, 0.0], [0.9538522958755493, 0.0016910047270357609, 0.00034881860483437777, 0.00019105509272776544, 0.0030875366646796465, 6.124187348177657e-05, 0.0038951572496443987, 0.007773971650749445, 0.0018638208275660872, 0.0022976065520197153, 0.000331577321048826, 0.00043807231122627854, 6.7850538471248e-05, 9.662729280535132e-05, 0.0001693602098384872, 0.0010301313595846295, 0.005169842392206192, 6.837396358605474e-05, 0.0004068463167641312, 0.004227431491017342, 0.0008162174490280449, 0.005884690210223198, 0.0012683593668043613, 0.00496220588684082]], [[1.0, 0.0, 0.0, 0.0, 0.0, 0.0, 0.0, 0.0, 0.0, 0.0, 0.0, 0.0, 0.0, 0.0, 0.0, 0.0, 0.0, 0.0, 0.0, 0.0, 0.0, 0.0, 0.0, 0.0], [0.972687304019928, 0.027312684804201126, 0.0, 0.0, 0.0, 0.0, 0.0, 0.0, 0.0, 0.0, 0.0, 0.0, 0.0, 0.0, 0.0, 0.0, 0.0, 0.0, 0.0, 0.0, 0.0, 0.0, 0.0, 0.0], [0.8611726760864258, 0.04824954643845558, 0.09057775139808655, 0.0, 0.0, 0.0, 0.0, 0.0, 0.0, 0.0, 0.0, 0.0, 0.0, 0.0, 0.0, 0.0, 0.0, 0.0, 0.0, 0.0, 0.0, 0.0, 0.0, 0.0], [0.8816862106323242, 0.0045469882898032665, 0.07255078107118607, 0.04121602699160576, 0.0, 0.0, 0.0, 0.0, 0.0, 0.0, 0.0, 0.0, 0.0, 0.0, 0.0, 0.0, 0.0, 0.0, 0.0, 0.0, 0.0, 0.0, 0.0, 0.0], [0.8357689380645752, 0.005322485230863094, 0.04114965349435806, 0.08356252312660217, 0.0341963991522789, 0.0, 0.0, 0.0, 0.0, 0.0, 0.0, 0.0, 0.0, 0.0, 0.0, 0.0, 0.0, 0.0, 0.0, 0.0, 0.0, 0.0, 0.0, 0.0], [0.6239097118377686, 0.008968452922999859, 0.04668760672211647, 0.08813297003507614, 0.18761728703975677, 0.0446840263903141, 0.0, 0.0, 0.0, 0.0, 0.0, 0.0, 0.0, 0.0, 0.0, 0.0, 0.0, 0.0, 0.0, 0.0, 0.0, 0.0, 0.0, 0.0], [0.5595623254776001, 0.0018708754796534777, 0.016631757840514183, 0.02236873283982277, 0.04632842168211937, 0.25172266364097595, 0.10151515156030655, 0.0, 0.0, 0.0, 0.0, 0.0, 0.0, 0.0, 0.0, 0.0, 0.0, 0.0, 0.0, 0.0, 0.0, 0.0, 0.0, 0.0], [0.8628353476524353, 0.0009736515348777175, 0.00607585534453392, 0.006292670499533415, 0.008410106413066387, 0.01072138361632824, 0.029786916449666023, 0.07490404695272446, 0.0, 0.0, 0.0, 0.0, 0.0, 0.0, 0.0, 0.0, 0.0, 0.0, 0.0, 0.0, 0.0, 0.0, 0.0, 0.0], [0.6783443689346313, 0.0008477165829390287, 0.00606543617323041, 0.008697455748915672, 0.019361194223165512, 0.012061456218361855, 0.06089833751320839, 0.08684816211462021, 0.12687592208385468, 0.0, 0.0, 0.0, 0.0, 0.0, 0.0, 0.0, 0.0, 0.0, 0.0, 0.0, 0.0, 0.0, 0.0, 0.0], [0.5179898142814636, 0.0007164819398894906, 0.0035422323271632195, 0.0068362983874976635, 0.0031105377711355686, 0.006272873375564814, 0.019007718190550804, 0.019536150619387627, 0.29443421959877014, 0.1285535991191864, 0.0, 0.0, 0.0, 0.0, 0.0, 0.0, 0.0, 0.0, 0.0, 0.0, 0.0, 0.0, 0.0, 0.0], [0.6325297951698303, 0.0010954191675409675, 0.004928914364427328, 0.007462053559720516, 0.007037514820694923, 0.010421319864690304, 0.051119741052389145, 0.04500626027584076, 0.1452759951353073, 0.07796578109264374, 0.017157135531306267, 0.0, 0.0, 0.0, 0.0, 0.0, 0.0, 0.0, 0.0, 0.0, 0.0, 0.0, 0.0, 0.0], [0.6279556155204773, 0.0008799084462225437, 0.002545924624428153, 0.004676705226302147, 0.005658791866153479, 0.0037513410206884146, 0.01424848660826683, 0.02308513969182968, 0.1968643069267273, 0.046877793967723846, 0.04335964843630791, 0.03009624034166336, 0.0, 0.0, 0.0, 0.0, 0.0, 0.0, 0.0, 0.0, 0.0, 0.0, 0.0, 0.0], [0.9191769361495972, 0.0007175651262514293, 0.002669498324394226, 0.008891190402209759, 0.0009189621196128428, 0.001577428774908185, 0.002279271138831973, 0.007200751919299364, 0.00862150825560093, 0.005677947774529457, 0.018570981919765472, 0.01610564813017845, 0.007592319510877132, 0.0, 0.0, 0.0, 0.0, 0.0, 0.0, 0.0, 0.0, 0.0, 0.0, 0.0], [0.9113931059837341, 0.00020726962247863412, 0.0013226172886788845, 0.0011140821734443307, 0.00045688950922340155, 0.00046246411511674523, 0.0012028805213049054, 0.0052819871343672276, 0.0019512660801410675, 0.0027045253664255142, 0.009145958349108696, 0.005337189882993698, 0.03260457143187523, 0.026815108954906464, 0.0, 0.0, 0.0, 0.0, 0.0, 0.0, 0.0, 0.0, 0.0, 0.0], [0.8483313918113708, 0.0008225418860092759, 0.0008628484793007374, 0.0008294652798213065, 0.0037280472461134195, 0.00034390788641758263, 0.00441468833014369, 0.007875438779592514, 0.005939609371125698, 0.02016003616154194, 0.005450827535241842, 0.007161084096878767, 0.019583644345402718, 0.050681788474321365, 0.023814622312784195, 0.0, 0.0, 0.0, 0.0, 0.0, 0.0, 0.0, 0.0, 0.0], [0.9208806753158569, 9.202098590321839e-05, 0.0001819898752728477, 0.0002775967004708946, 0.00069682631874457, 0.00036497839028015733, 0.0005843235412612557, 0.005932867992669344, 0.0024301314260810614, 0.0021933242678642273, 0.004519070032984018, 0.0017757135210558772, 0.00546102924272418, 0.008206130936741829, 0.02544613741338253, 0.020957157015800476, 0.0, 0.0, 0.0, 0.0, 0.0, 0.0, 0.0, 0.0], [0.27207884192466736, 9.735964704304934e-05, 0.00043176556937396526, 0.0009924378246068954, 0.0015045328764244914, 0.0014672449324280024, 0.0005985688185319304, 0.003134377533569932, 0.0040004863403737545, 0.002765408717095852, 0.01713266782462597, 0.006380102131515741, 0.008651290088891983, 0.03276979178190231, 0.33966875076293945, 0.27944839000701904, 0.02887800894677639, 0.0, 0.0, 0.0, 0.0, 0.0, 0.0, 0.0], [0.7451784610748291, 0.0016094341408461332, 0.004458622075617313, 0.009873313829302788, 0.0058831931091845036, 0.0005355019820854068, 0.008170333690941334, 0.012589783407747746, 0.004577029030770063, 0.01391427218914032, 0.004983270075172186, 0.002043843036517501, 0.00488399900496006, 0.039595238864421844, 0.012234305962920189, 0.011637385934591293, 0.048377908766269684, 0.069454126060009, 0.0, 0.0, 0.0, 0.0, 0.0, 0.0], [0.47317439317703247, 0.0009860272984951735, 0.0017850458389148116, 0.0033682226203382015, 0.003837212920188904, 0.000903378298971802, 0.005071235354989767, 0.006610741838812828, 0.007940872572362423, 0.017631899565458298, 0.003994591534137726, 0.0027484758757054806, 0.009951715357601643, 0.036267273128032684, 0.025509418919682503, 0.01293861959129572, 0.019946735352277756, 0.15627095103263855, 0.21106316149234772, 0.0, 0.0, 0.0, 0.0, 0.0], [0.847161054611206, 6.675951590295881e-05, 6.722468242514879e-05, 0.00013126867997925729, 0.00010133368778042495, 5.018817319069058e-05, 0.00011664259363897145, 0.0002482906566001475, 0.0018379415851086378, 0.0006994556169956923, 0.0005948157049715519, 0.0008577664266340435, 0.0006753008929081261, 0.00040195518522523344, 0.0042066751047968864, 0.0029001568909734488, 0.0009242869564332068, 0.008335371501743793, 0.057192612439394, 0.07343098521232605, 0.0, 0.0, 0.0, 0.0], [0.029388519003987312, 3.102237678831443e-05, 3.71897331206128e-05, 1.7737924281391315e-05, 2.7433421564637683e-05, 1.094476738217054e-05, 1.273116868105717e-05, 4.795674976776354e-05, 0.00043116274173371494, 0.0002058731479337439, 0.00011157255357829854, 0.0003531205584295094, 3.1826664780965075e-05, 4.173760680714622e-05, 0.003281744895502925, 0.004670852329581976, 8.52483935886994e-05, 0.00040413279202766716, 0.026391135528683662, 0.9266413450241089, 0.007776562124490738, 0.0, 0.0, 0.0], [0.5793257355690002, 0.0006052506505511701, 0.00026232050731778145, 0.0005119856796227396, 0.0006922748289071023, 0.00019802592578344047, 0.000451504485681653, 0.00034548461553640664, 0.001227630185894668, 0.0036413271445780993, 0.00038985456922091544, 0.001000234391540289, 0.00031128371483646333, 0.0012544255005195737, 0.011760593391954899, 0.004789774771779776, 0.00209626043215394, 0.002611160511150956, 0.06796649843454361, 0.18419498205184937, 0.11561700701713562, 0.020746376365423203, 0.0, 0.0], [0.15781153738498688, 0.00028488237876445055, 7.636505324626341e-05, 6.830483471276239e-05, 0.00042086184839718044, 0.00013090942229609936, 0.0009646720136515796, 0.0007873574504628778, 0.0005449040327221155, 0.002695647533982992, 0.0001552592875668779, 0.00028251734329387546, 0.0004866589733865112, 0.0006962095503695309, 0.004814660642296076, 0.0014004707336425781, 0.0018009605119004846, 0.004204503260552883, 0.04478255286812782, 0.13895724713802338, 0.26643800735473633, 0.35464757680892944, 0.01754795014858246, 0.0], [0.036747273057699203, 0.00044202711433172226, 0.0003408496850170195, 0.0003540809848345816, 0.001061317976564169, 0.00016491675341967493, 0.0020644322503358126, 0.000397003284888342, 0.0015918114222586155, 0.0018895496614277363, 9.879168646875769e-05, 0.0004533081082627177, 0.00022317300317808986, 0.00023778085596859455, 0.005397345405071974, 0.013033116236329079, 0.009044703096151352, 0.004550999496132135, 0.049149058759212494, 0.3244684934616089, 0.4717313051223755, 0.05456840619444847, 0.004129717126488686, 0.017860515043139458]], [[1.0, 0.0, 0.0, 0.0, 0.0, 0.0, 0.0, 0.0, 0.0, 0.0, 0.0, 0.0, 0.0, 0.0, 0.0, 0.0, 0.0, 0.0, 0.0, 0.0, 0.0, 0.0, 0.0, 0.0], [0.9959070682525635, 0.004092910792678595, 0.0, 0.0, 0.0, 0.0, 0.0, 0.0, 0.0, 0.0, 0.0, 0.0, 0.0, 0.0, 0.0, 0.0, 0.0, 0.0, 0.0, 0.0, 0.0, 0.0, 0.0, 0.0], [0.9848195314407349, 0.009571111761033535, 0.005609349347651005, 0.0, 0.0, 0.0, 0.0, 0.0, 0.0, 0.0, 0.0, 0.0, 0.0, 0.0, 0.0, 0.0, 0.0, 0.0, 0.0, 0.0, 0.0, 0.0, 0.0, 0.0], [0.9788694977760315, 0.004961908329278231, 0.008643035776913166, 0.0075255995616316795, 0.0, 0.0, 0.0, 0.0, 0.0, 0.0, 0.0, 0.0, 0.0, 0.0, 0.0, 0.0, 0.0, 0.0, 0.0, 0.0, 0.0, 0.0, 0.0, 0.0], [0.9755455851554871, 0.0031093701254576445, 0.010823342949151993, 0.00868805032223463, 0.0018335595959797502, 0.0, 0.0, 0.0, 0.0, 0.0, 0.0, 0.0, 0.0, 0.0, 0.0, 0.0, 0.0, 0.0, 0.0, 0.0, 0.0, 0.0, 0.0, 0.0], [0.966786801815033, 0.004597173072397709, 0.013045012950897217, 0.007305941078811884, 0.001938189147040248, 0.006326848641037941, 0.0, 0.0, 0.0, 0.0, 0.0, 0.0, 0.0, 0.0, 0.0, 0.0, 0.0, 0.0, 0.0, 0.0, 0.0, 0.0, 0.0, 0.0], [0.966300904750824, 0.010163560509681702, 0.004252070561051369, 0.006212000269442797, 0.0014177575940266252, 0.0038667279295623302, 0.007786995731294155, 0.0, 0.0, 0.0, 0.0, 0.0, 0.0, 0.0, 0.0, 0.0, 0.0, 0.0, 0.0, 0.0, 0.0, 0.0, 0.0, 0.0], [0.9569762945175171, 0.005002036690711975, 0.010311350226402283, 0.014148601330816746, 0.002195918932557106, 0.003126399591565132, 0.006358275189995766, 0.001881086966022849, 0.0, 0.0, 0.0, 0.0, 0.0, 0.0, 0.0, 0.0, 0.0, 0.0, 0.0, 0.0, 0.0, 0.0, 0.0, 0.0], [0.930494487285614, 0.008436310105025768, 0.005121010355651379, 0.007560805883258581, 0.003970366902649403, 0.003022328484803438, 0.026005422696471214, 0.002160718897357583, 0.013228487223386765, 0.0, 0.0, 0.0, 0.0, 0.0, 0.0, 0.0, 0.0, 0.0, 0.0, 0.0, 0.0, 0.0, 0.0, 0.0], [0.9447746872901917, 0.00962462741881609, 0.003915994893759489, 0.006405510473996401, 0.0008565800380893052, 0.0018060733564198017, 0.002820515539497137, 0.018655767664313316, 0.009012419730424881, 0.002127761021256447, 0.0, 0.0, 0.0, 0.0, 0.0, 0.0, 0.0, 0.0, 0.0, 0.0, 0.0, 0.0, 0.0, 0.0], [0.923669159412384, 0.011041785590350628, 0.010181170888245106, 0.009462655521929264, 0.0035386637318879366, 0.0018888222984969616, 0.011047151871025562, 0.0032532087061554193, 0.013052009977400303, 0.010343646630644798, 0.002521697897464037, 0.0, 0.0, 0.0, 0.0, 0.0, 0.0, 0.0, 0.0, 0.0, 0.0, 0.0, 0.0, 0.0], [0.9263314008712769, 0.00685687642544508, 0.009871476329863071, 0.006739727687090635, 0.0034871522802859545, 0.0015897690318524837, 0.017144573852419853, 0.003491538343951106, 0.00921538844704628, 0.010585732758045197, 0.002195708453655243, 0.002490572864189744, 0.0, 0.0, 0.0, 0.0, 0.0, 0.0, 0.0, 0.0, 0.0, 0.0, 0.0, 0.0], [0.93885737657547, 0.0028285894077271223, 0.005818905774503946, 0.005998329259455204, 0.004440567921847105, 0.006605544127523899, 0.014298024587333202, 0.0009957423899322748, 0.006330153439193964, 0.005194092635065317, 0.0016341350274160504, 0.0029867824632674456, 0.004011743236333132, 0.0, 0.0, 0.0, 0.0, 0.0, 0.0, 0.0, 0.0, 0.0, 0.0, 0.0], [0.8513860702514648, 0.003721466287970543, 0.011091186664998531, 0.021441392600536346, 0.005901215132325888, 0.007218717597424984, 0.00823785737156868, 0.0012176394229754806, 0.026847034692764282, 0.0075081936083734035, 0.006133733317255974, 0.036841802299022675, 0.002670054789632559, 0.009783533401787281, 0.0, 0.0, 0.0, 0.0, 0.0, 0.0, 0.0, 0.0, 0.0, 0.0], [0.9192575216293335, 0.007414537947624922, 0.016195842996239662, 0.005361802410334349, 0.0023924936540424824, 0.004854209255427122, 0.012217128649353981, 0.001238030381500721, 0.0059564015828073025, 0.003348048310726881, 0.0010067066177725792, 0.002622603438794613, 0.0024239833001047373, 0.010247520171105862, 0.005463194102048874, 0.0, 0.0, 0.0, 0.0, 0.0, 0.0, 0.0, 0.0, 0.0], [0.8228800296783447, 0.007978491485118866, 0.006169420201331377, 0.009026426821947098, 0.00523017905652523, 0.004631300922483206, 0.012701921164989471, 0.0013459601905196905, 0.02932867594063282, 0.010885992087423801, 0.005250639282166958, 0.023134078830480576, 0.0013393613044172525, 0.006825367454439402, 0.009826775640249252, 0.043445248156785965, 0.0, 0.0, 0.0, 0.0, 0.0, 0.0, 0.0, 0.0], [0.9038376212120056, 0.00381212099455297, 0.0038423938676714897, 0.005832136142998934, 0.0012106435606256127, 0.0034526395611464977, 0.0027838468085974455, 0.0019022454507648945, 0.013339514844119549, 0.0009793380741029978, 0.0048243943601846695, 0.008711423724889755, 0.0008523426949977875, 0.0021380004473030567, 0.006606001406908035, 0.01211660634726286, 0.02375885844230652, 0.0, 0.0, 0.0, 0.0, 0.0, 0.0, 0.0], [0.8473792672157288, 0.010928109288215637, 0.004611004143953323, 0.01262070145457983, 0.004460722673684359, 0.002134113572537899, 0.005943637806922197, 0.005521257873624563, 0.019119856879115105, 0.004947397392243147, 0.00690232589840889, 0.0358303003013134, 0.004729958716779947, 0.002102083060890436, 0.004113585688173771, 0.00563591904938221, 0.006205896846950054, 0.01681385561823845, 0.0, 0.0, 0.0, 0.0, 0.0, 0.0], [0.9163776636123657, 0.010965135879814625, 0.009602501057088375, 0.004757462535053492, 0.0018564576748758554, 0.001978374319151044, 0.005857647396624088, 0.002224424621090293, 0.0069389017298817635, 0.0015284048859030008, 0.0009648458799347281, 0.003784053958952427, 0.004134043585509062, 0.003015839494764805, 0.0018643297953531146, 0.01310214027762413, 0.003849464002996683, 0.0043905992060899734, 0.0028078306932002306, 0.0, 0.0, 0.0, 0.0, 0.0], [0.8699323534965515, 0.007211253046989441, 0.0020237944554537535, 0.003581926692277193, 0.007031609769910574, 0.004733141977339983, 0.010972388088703156, 0.0032824277877807617, 0.01326457317918539, 0.005838959477841854, 0.006227147299796343, 0.01628676801919937, 0.0039299121126532555, 0.0032318481244146824, 0.00609935587272048, 0.006432868540287018, 0.008783772587776184, 0.003136690938845277, 0.01122813019901514, 0.006771141197532415, 0.0, 0.0, 0.0, 0.0], [0.9272121787071228, 0.011452408507466316, 0.001438622479327023, 0.003008925123140216, 0.0018344605341553688, 0.0017953694332391024, 0.002154459711164236, 0.021418604999780655, 0.0038672026712447405, 0.0006171485292725265, 0.0054667312651872635, 0.003500708844512701, 0.002671206137165427, 0.001557955052703619, 0.0009831548668444157, 0.0021182368509471416, 0.001209330395795405, 0.0016156707424670458, 0.0019473391585052013, 0.0018677008338272572, 0.0022625038400292397, 0.0, 0.0, 0.0], [0.9002213478088379, 0.001764946267940104, 0.0028041594196110964, 0.006207727361470461, 0.0022675772197544575, 0.003968189470469952, 0.006058475002646446, 0.008611872792243958, 0.02209918573498726, 0.0010616204235702753, 0.011048623360693455, 0.007674847263842821, 0.001208889065310359, 0.0019041760824620724, 0.0024055102840065956, 0.0021703154779970646, 0.001839331933297217, 0.0057090697810053825, 0.0023929784074425697, 0.0017868420109152794, 0.002812107792124152, 0.003982174210250378, 0.0, 0.0], [0.9424644112586975, 0.0025115024764090776, 0.0011977769900113344, 0.0016040224581956863, 0.0007609164458699524, 0.0003089493839070201, 0.004470067098736763, 0.002799280919134617, 0.017457671463489532, 0.0004187801678199321, 0.003869958221912384, 0.008959760889410973, 0.0008152448572218418, 0.00042442677658982575, 0.0004787757934536785, 0.00016959875938482583, 0.00031456639408133924, 0.0027182477060705423, 0.002029279014095664, 0.0001330942177446559, 0.00019015565339941531, 0.00016785178740974516, 0.005735682789236307, 0.0], [0.8410267233848572, 0.045208148658275604, 0.0018369929166510701, 0.0084560327231884, 0.005159642081707716, 0.0019988329149782658, 0.0007345943595282733, 0.024719111621379852, 0.006912645883858204, 0.0005932411295361817, 0.015205051749944687, 0.007400067523121834, 0.0025178624782711267, 0.0017218902939930558, 0.0025949853006750345, 0.001316382666118443, 0.001647882629185915, 0.006050960626453161, 0.0070046368055045605, 0.0007929893326945603, 0.0016159265069290996, 0.005047093611210585, 0.009643696248531342, 0.0007947267731651664]]]}\n",
       "    )\n",
       "    </script>"
      ],
      "text/plain": [
       "<circuitsvis.utils.render.RenderedHTML at 0x7f155e0ce0e0>"
      ]
     },
     "execution_count": 62,
     "metadata": {},
     "output_type": "execute_result"
    }
   ],
   "source": [
    "print(type(neg_cache))\n",
    "neg_attention_pattern = neg_cache[\"pattern\", LAYER, \"attn\"]\n",
    "print(neg_attention_pattern.shape)\n",
    "neg_str_tokens = model.to_str_tokens(prompts[prompt_num]['negative_prompt'])\n",
    "\n",
    "print(f\"Layer {LAYER} Head Attention Patterns for NEGATIVE:\")\n",
    "cv.attention.attention_patterns(tokens=neg_str_tokens, attention=neg_attention_pattern)"
   ]
  },
  {
   "cell_type": "code",
   "execution_count": 63,
   "metadata": {
    "colab": {
     "base_uri": "https://localhost:8080/",
     "height": 375
    },
    "executionInfo": {
     "elapsed": 163,
     "status": "ok",
     "timestamp": 1720660848371,
     "user": {
      "displayName": "Jason L",
      "userId": "08424561876455739258"
     },
     "user_tz": 240
    },
    "id": "EcQFo1SquTqg",
    "outputId": "7ec37e1e-708d-499b-df23-c11a01753517"
   },
   "outputs": [
    {
     "ename": "RuntimeError",
     "evalue": "The size of tensor a (26) must match the size of tensor b (24) at non-singleton dimension 2",
     "output_type": "error",
     "traceback": [
      "\u001b[0;31m---------------------------------------------------------------------------\u001b[0m",
      "\u001b[0;31mRuntimeError\u001b[0m                              Traceback (most recent call last)",
      "Cell \u001b[0;32mIn[63], line 1\u001b[0m\n\u001b[0;32m----> 1\u001b[0m delta_attention_pattern \u001b[38;5;241m=\u001b[39m  \u001b[43mpos_attention_pattern\u001b[49m\u001b[43m \u001b[49m\u001b[38;5;241;43m-\u001b[39;49m\u001b[43m \u001b[49m\u001b[43mneg_attention_pattern\u001b[49m\n\u001b[1;32m      3\u001b[0m \u001b[38;5;28mprint\u001b[39m(\u001b[38;5;124mf\u001b[39m\u001b[38;5;124m\"\u001b[39m\u001b[38;5;124mLayer \u001b[39m\u001b[38;5;132;01m{\u001b[39;00mLAYER\u001b[38;5;132;01m}\u001b[39;00m\u001b[38;5;124m Head Attention Patterns for POS- NEG:\u001b[39m\u001b[38;5;124m\"\u001b[39m)\n\u001b[1;32m      4\u001b[0m cv\u001b[38;5;241m.\u001b[39mattention\u001b[38;5;241m.\u001b[39mattention_patterns(tokens\u001b[38;5;241m=\u001b[39mpos_str_tokens, attention\u001b[38;5;241m=\u001b[39mdelta_attention_pattern)\n",
      "\u001b[0;31mRuntimeError\u001b[0m: The size of tensor a (26) must match the size of tensor b (24) at non-singleton dimension 2"
     ]
    }
   ],
   "source": [
    "delta_attention_pattern =  pos_attention_pattern - neg_attention_pattern\n",
    "\n",
    "print(f\"Layer {LAYER} Head Attention Patterns for POS- NEG:\")\n",
    "cv.attention.attention_patterns(tokens=pos_str_tokens, attention=delta_attention_pattern)"
   ]
  },
  {
   "cell_type": "code",
   "execution_count": 64,
   "metadata": {
    "colab": {
     "base_uri": "https://localhost:8080/",
     "height": 375
    },
    "executionInfo": {
     "elapsed": 2,
     "status": "ok",
     "timestamp": 1720660848371,
     "user": {
      "displayName": "Jason L",
      "userId": "08424561876455739258"
     },
     "user_tz": 240
    },
    "id": "lbC0ACv6vB-G",
    "outputId": "820951a8-0feb-4b2b-a692-2e99ee5cd774"
   },
   "outputs": [
    {
     "ename": "RuntimeError",
     "evalue": "The size of tensor a (24) must match the size of tensor b (26) at non-singleton dimension 2",
     "output_type": "error",
     "traceback": [
      "\u001b[0;31m---------------------------------------------------------------------------\u001b[0m",
      "\u001b[0;31mRuntimeError\u001b[0m                              Traceback (most recent call last)",
      "Cell \u001b[0;32mIn[64], line 1\u001b[0m\n\u001b[0;32m----> 1\u001b[0m delta_attention_pattern \u001b[38;5;241m=\u001b[39m \u001b[43mneg_attention_pattern\u001b[49m\u001b[43m \u001b[49m\u001b[38;5;241;43m-\u001b[39;49m\u001b[43m \u001b[49m\u001b[43mpos_attention_pattern\u001b[49m\n\u001b[1;32m      3\u001b[0m \u001b[38;5;28mprint\u001b[39m(\u001b[38;5;124mf\u001b[39m\u001b[38;5;124m\"\u001b[39m\u001b[38;5;124mLayer \u001b[39m\u001b[38;5;132;01m{\u001b[39;00mLAYER\u001b[38;5;132;01m}\u001b[39;00m\u001b[38;5;124m Head Attention Patterns for NEG - POS:\u001b[39m\u001b[38;5;124m\"\u001b[39m)\n\u001b[1;32m      4\u001b[0m cv\u001b[38;5;241m.\u001b[39mattention\u001b[38;5;241m.\u001b[39mattention_patterns(tokens\u001b[38;5;241m=\u001b[39mneg_str_tokens, attention\u001b[38;5;241m=\u001b[39mdelta_attention_pattern)\n",
      "\u001b[0;31mRuntimeError\u001b[0m: The size of tensor a (24) must match the size of tensor b (26) at non-singleton dimension 2"
     ]
    }
   ],
   "source": [
    "delta_attention_pattern = neg_attention_pattern - pos_attention_pattern\n",
    "\n",
    "print(f\"Layer {LAYER} Head Attention Patterns for NEG - POS:\")\n",
    "cv.attention.attention_patterns(tokens=neg_str_tokens, attention=delta_attention_pattern)"
   ]
  },
  {
   "cell_type": "markdown",
   "metadata": {
    "id": "d-EU9arfLQsq"
   },
   "source": [
    "# Finding Features Using Tokens\n"
   ]
  },
  {
   "cell_type": "code",
   "execution_count": 65,
   "metadata": {
    "colab": {
     "base_uri": "https://localhost:8080/",
     "height": 130,
     "referenced_widgets": [
      "02e84f6391a24383ba333318d38b54b4",
      "72aca2cff6f84722bb47902e92e5c7b3",
      "fd61e15c41134a02826c43c4864b36ce",
      "f3f13ab205d1439b9c2b3ff585a6025b",
      "8bcb7c9a2c904a218adc8c735ceb3d8d",
      "8eebdfb65d9e4917957d303d49b6572b",
      "9b4c23b8403040c39102a7b8fa4826ca",
      "a8b5713df7d541b8b4d82be9e81896d1",
      "cfcf6e36eaf74845b377c9e57bcd1d7f",
      "5adc73f0f05b4c9ea1e966c143aa437b",
      "1db6d169bf06423d9c55eaf825c0d961",
      "cdc2a31cd1514518a1b8cdbaacd45be0",
      "3e5fc4bedd5e4acab6e1d73a81d22fd3",
      "304469e0bcb94128bae4b85c57559a51",
      "fd5399f7c2f2485ea60206c7383af4e6",
      "8d813fb6aab34e9c92f7453cec962bc0",
      "b237d65e730d460fa7e37ab9cf4553d2",
      "f0e6ac69a07242029183152c4435efc0",
      "94bc484c524845fc8061c75266d55e95",
      "a7b0fbfe95704814a2956bc8f8031f54",
      "88604589ba3a445d8789761bfd9ec70b",
      "6380bd0f6b0d4651870a003aebeba9e6",
      "935430fc114848fda242d0d63d814d8e",
      "ed560dd8b7b44ac5bf91a4e9febf9f51",
      "c396bc83eb624461ad133d901690d4e3",
      "6fb0438a035b4276a0f976ca5d189126",
      "e6eb0f4a38944f0192b77e19c6f53f04",
      "f2f07cc4b19e436c93ccf72e6d6072e5",
      "fc3dba6f259045528d91cb5d6b0721ec",
      "a3bb67e9dd484b8fb3dbee9b8b9f1d16",
      "f48f22206df242e0b31ca6eec2c3ab94",
      "dbe3864b74a44d968522cfcd72bbd8a0",
      "3561458d90c84307b6effe558040eeec"
     ]
    },
    "executionInfo": {
     "elapsed": 3790,
     "status": "ok",
     "timestamp": 1720660852160,
     "user": {
      "displayName": "Jason L",
      "userId": "08424561876455739258"
     },
     "user_tz": 240
    },
    "id": "v1nk3Q1mLKRo",
    "outputId": "d78ca3b8-bb7e-4be5-d96e-e0636efd23f7"
   },
   "outputs": [
    {
     "name": "stdout",
     "output_type": "stream",
     "text": [
      "blocks.9.hook_resid_pre\n"
     ]
    }
   ],
   "source": [
    "import os\n",
    "import sys\n",
    "sys.path.append(DRIVE_PATH)\n",
    "os.chdir(DRIVE_PATH)\n",
    "\n",
    "from transformer_lens import HookedTransformer\n",
    "from sae_lens import SAE\n",
    "from sae_lens.toolkit.pretrained_saes import get_gpt2_res_jb_saes\n",
    "\n",
    "model.tokenizer.pad_token = model.tokenizer.eos_token\n",
    "model.tokenizer.pad_length = MAX_PADDED_LENGTH\n",
    "\n",
    "device = 'cpu'\n",
    "\n",
    "# get the SAE for this layer\n",
    "# TODO: Clean this up, make a global variable, etc etc?\n",
    "sae, cfg_dict, _ = SAE.from_pretrained(\n",
    "    release = \"gpt2-small-res-jb\",\n",
    "    sae_id = f\"blocks.{LAYER}.hook_resid_pre\",\n",
    "    device = device\n",
    ")\n",
    "\n",
    "# get hook point\n",
    "hook_point = sae.cfg.hook_name\n",
    "print(hook_point)"
   ]
  },
  {
   "cell_type": "code",
   "execution_count": 75,
   "metadata": {},
   "outputs": [
    {
     "data": {
      "text/plain": [
       "[0, 1, 2, 3, 4, 5, 6, 7, 8, 9]"
      ]
     },
     "execution_count": 75,
     "metadata": {},
     "output_type": "execute_result"
    }
   ],
   "source": [
    "filtered_indices = list(range(10))\n",
    "filtered_indices"
   ]
  },
  {
   "cell_type": "code",
   "execution_count": 76,
   "metadata": {
    "colab": {
     "base_uri": "https://localhost:8080/"
    },
    "executionInfo": {
     "elapsed": 856,
     "status": "ok",
     "timestamp": 1720660853014,
     "user": {
      "displayName": "Jason L",
      "userId": "08424561876455739258"
     },
     "user_tz": 240
    },
    "id": "ZiUnCyxOM0Zg",
    "outputId": "a8cf0a34-2e04-453f-f8a8-24d1e25324ff"
   },
   "outputs": [
    {
     "name": "stdout",
     "output_type": "stream",
     "text": [
      "number of features collected 30\n",
      "number of unique features collected 26\n",
      "number of unique rejected features 40\n"
     ]
    }
   ],
   "source": [
    "import numpy as np\n",
    "\n",
    "sv_prompt = \"I accept many key concepts of Buddhism including Dharma, Karma, Reincarnation, Meditation, the Four Noble Truths, Nirvana, and the Eightfold Path to Enlightenment\"\n",
    "# sv_prompt = \"I should always agree with what people say to ensure they are happy\"\n",
    "#sv_prompt = SV_PROMPT\n",
    "\n",
    "sv_tokens = model.tokenizer(sv_prompt, return_tensors=\"pt\", padding='max_length', max_length=MAX_PADDED_LENGTH)\n",
    "sv_logits, cache = model.run_with_cache(sv_tokens['input_ids'], prepend_bos=True, remove_batch_dim=True)\n",
    "\n",
    "# if DEBUG:\n",
    "#   print(\"tokens\", tokens)\n",
    "#   print(\"logits\", sv_logits)\n",
    "#   print(\"cache\", cache)\n",
    "\n",
    "# feature activations from our SAE\n",
    "sv_feature_acts = sae.encode(cache[hook_point].to(device))\n",
    "\n",
    "# top k activations\n",
    "topk = torch.topk(sv_feature_acts, 3)\n",
    "\n",
    "# This is a list of activation values (higher number == more activation)\n",
    "acts = topk[0]\n",
    "if DEBUG:\n",
    "  print(\"Activations\")\n",
    "  print(acts)\n",
    "\n",
    "#This is a list of feature identities that Neuronpedia will have collected\n",
    "all_features = topk[1]\n",
    "if DEBUG:\n",
    "  print(\"Features\")\n",
    "  print(all_features)\n",
    "\n",
    "all_feats = []\n",
    "for feat in all_features:\n",
    "    all_feats.append(feat.tolist())\n",
    "\n",
    "filtered_features = []\n",
    "for feat in all_features[filtered_indices]:\n",
    "    filtered_features.append(feat.tolist())\n",
    "\n",
    "# Convert the nested list to a NumPy array and python set\n",
    "flat_feat_list = np.array(all_feats).flatten().tolist()\n",
    "flat_filtered_feat_list = np.array(filtered_features).flatten().tolist()\n",
    "\n",
    "print(\"number of features collected\", len(flat_filtered_feat_list))\n",
    "filtered_feature_set = set(flat_filtered_feat_list)\n",
    "print(\"number of unique features collected\", len(filtered_feature_set))\n",
    "\n",
    "all_feature_set = set(flat_feat_list)\n",
    "rejected_feature_set = all_feature_set - filtered_feature_set\n",
    "print(\"number of unique rejected features\", len(rejected_feature_set))"
   ]
  },
  {
   "cell_type": "code",
   "execution_count": 85,
   "metadata": {},
   "outputs": [
    {
     "data": {
      "text/plain": [
       "[24322, 18949, 14854, 14856, 3212]"
      ]
     },
     "execution_count": 85,
     "metadata": {},
     "output_type": "execute_result"
    }
   ],
   "source": [
    "list(filtered_feature_set)[:5]"
   ]
  },
  {
   "cell_type": "code",
   "execution_count": 93,
   "metadata": {
    "colab": {
     "base_uri": "https://localhost:8080/",
     "height": 226
    },
    "executionInfo": {
     "elapsed": 793,
     "status": "ok",
     "timestamp": 1720660853806,
     "user": {
      "displayName": "Jason L",
      "userId": "08424561876455739258"
     },
     "user_tz": 240
    },
    "id": "rmx0L_mDL4rX",
    "outputId": "515a4132-6e13-4721-98f7-457134d734db"
   },
   "outputs": [
    {
     "name": "stdout",
     "output_type": "stream",
     "text": [
      "{24322, 18949, 14854, 14856, 3212, 13086, 14497, 1443, 6316, 12212, 14007, 9783, 17209, 2241, 1346, 23498, 1871, 14940, 9185, 11877, 24423, 7656, 4460, 6647, 8444, 5502}\n",
      "SAE features for relevant indices as per activation delta\n"
     ]
    },
    {
     "data": {
      "text/plain": [
       "'https://neuronpedia.org/quick-list/?name=temporary_list&features=%5B%7B%22modelId%22%3A%20%22gpt2-small%22%2C%20%22layer%22%3A%20%229-res-jb%22%2C%20%22index%22%3A%20%2224322%22%7D%2C%20%7B%22modelId%22%3A%20%22gpt2-small%22%2C%20%22layer%22%3A%20%229-res-jb%22%2C%20%22index%22%3A%20%2218949%22%7D%2C%20%7B%22modelId%22%3A%20%22gpt2-small%22%2C%20%22layer%22%3A%20%229-res-jb%22%2C%20%22index%22%3A%20%2214854%22%7D%2C%20%7B%22modelId%22%3A%20%22gpt2-small%22%2C%20%22layer%22%3A%20%229-res-jb%22%2C%20%22index%22%3A%20%2214856%22%7D%2C%20%7B%22modelId%22%3A%20%22gpt2-small%22%2C%20%22layer%22%3A%20%229-res-jb%22%2C%20%22index%22%3A%20%223212%22%7D%2C%20%7B%22modelId%22%3A%20%22gpt2-small%22%2C%20%22layer%22%3A%20%229-res-jb%22%2C%20%22index%22%3A%20%2213086%22%7D%2C%20%7B%22modelId%22%3A%20%22gpt2-small%22%2C%20%22layer%22%3A%20%229-res-jb%22%2C%20%22index%22%3A%20%2214497%22%7D%2C%20%7B%22modelId%22%3A%20%22gpt2-small%22%2C%20%22layer%22%3A%20%229-res-jb%22%2C%20%22index%22%3A%20%221443%22%7D%2C%20%7B%22modelId%22%3A%20%22gpt2-small%22%2C%20%22layer%22%3A%20%229-res-jb%22%2C%20%22index%22%3A%20%226316%22%7D%2C%20%7B%22modelId%22%3A%20%22gpt2-small%22%2C%20%22layer%22%3A%20%229-res-jb%22%2C%20%22index%22%3A%20%2212212%22%7D%2C%20%7B%22modelId%22%3A%20%22gpt2-small%22%2C%20%22layer%22%3A%20%229-res-jb%22%2C%20%22index%22%3A%20%2214007%22%7D%2C%20%7B%22modelId%22%3A%20%22gpt2-small%22%2C%20%22layer%22%3A%20%229-res-jb%22%2C%20%22index%22%3A%20%229783%22%7D%2C%20%7B%22modelId%22%3A%20%22gpt2-small%22%2C%20%22layer%22%3A%20%229-res-jb%22%2C%20%22index%22%3A%20%2217209%22%7D%2C%20%7B%22modelId%22%3A%20%22gpt2-small%22%2C%20%22layer%22%3A%20%229-res-jb%22%2C%20%22index%22%3A%20%222241%22%7D%2C%20%7B%22modelId%22%3A%20%22gpt2-small%22%2C%20%22layer%22%3A%20%229-res-jb%22%2C%20%22index%22%3A%20%221346%22%7D%2C%20%7B%22modelId%22%3A%20%22gpt2-small%22%2C%20%22layer%22%3A%20%229-res-jb%22%2C%20%22index%22%3A%20%2223498%22%7D%2C%20%7B%22modelId%22%3A%20%22gpt2-small%22%2C%20%22layer%22%3A%20%229-res-jb%22%2C%20%22index%22%3A%20%221871%22%7D%2C%20%7B%22modelId%22%3A%20%22gpt2-small%22%2C%20%22layer%22%3A%20%229-res-jb%22%2C%20%22index%22%3A%20%2214940%22%7D%2C%20%7B%22modelId%22%3A%20%22gpt2-small%22%2C%20%22layer%22%3A%20%229-res-jb%22%2C%20%22index%22%3A%20%229185%22%7D%2C%20%7B%22modelId%22%3A%20%22gpt2-small%22%2C%20%22layer%22%3A%20%229-res-jb%22%2C%20%22index%22%3A%20%2211877%22%7D%2C%20%7B%22modelId%22%3A%20%22gpt2-small%22%2C%20%22layer%22%3A%20%229-res-jb%22%2C%20%22index%22%3A%20%2224423%22%7D%2C%20%7B%22modelId%22%3A%20%22gpt2-small%22%2C%20%22layer%22%3A%20%229-res-jb%22%2C%20%22index%22%3A%20%227656%22%7D%2C%20%7B%22modelId%22%3A%20%22gpt2-small%22%2C%20%22layer%22%3A%20%229-res-jb%22%2C%20%22index%22%3A%20%224460%22%7D%2C%20%7B%22modelId%22%3A%20%22gpt2-small%22%2C%20%22layer%22%3A%20%229-res-jb%22%2C%20%22index%22%3A%20%226647%22%7D%2C%20%7B%22modelId%22%3A%20%22gpt2-small%22%2C%20%22layer%22%3A%20%229-res-jb%22%2C%20%22index%22%3A%20%228444%22%7D%2C%20%7B%22modelId%22%3A%20%22gpt2-small%22%2C%20%22layer%22%3A%20%229-res-jb%22%2C%20%22index%22%3A%20%225502%22%7D%5D'"
      ]
     },
     "execution_count": 93,
     "metadata": {},
     "output_type": "execute_result"
    }
   ],
   "source": [
    "from sae_lens.analysis.neuronpedia_integration import get_neuronpedia_quick_list\n",
    "\n",
    "print(filtered_feature_set)\n",
    "\n",
    "print(\"SAE features for relevant indices as per activation delta\")\n",
    "get_neuronpedia_quick_list(list(filtered_feature_set), layer = LAYER)"
   ]
  },
  {
   "cell_type": "markdown",
   "metadata": {
    "id": "2Ib8edgG7AjQ"
   },
   "source": [
    "Feature L9 F14854: activates on meditation and mindfulness\n",
    "Meditation, meditation, mindfulness, akra (\"chakra\"?), spiritually, Buddha, spirituality, spirit, spiritual, Spiritual\n",
    "\n",
    "Multiple morphological variations of \"meditation\" and \"spiritual\"\n",
    "\n",
    "# Cool! Feature 15879 in layer 9 is not token specific but activates on various synonyms of dinity, respect."
   ]
  },
  {
   "cell_type": "code",
   "execution_count": 106,
   "metadata": {
    "colab": {
     "base_uri": "https://localhost:8080/",
     "height": 174
    },
    "executionInfo": {
     "elapsed": 4,
     "status": "ok",
     "timestamp": 1720660853806,
     "user": {
      "displayName": "Jason L",
      "userId": "08424561876455739258"
     },
     "user_tz": 240
    },
    "id": "tLfxeyyS0A1e",
    "outputId": "493e8833-7012-4128-d06f-808c2296b722"
   },
   "outputs": [
    {
     "name": "stdout",
     "output_type": "stream",
     "text": [
      "{6661, 17287, 649, 21002, 17803, 1296, 14864, 21911, 10528, 22309, 20645, 6054, 5545, 15402, 1195, 5170, 18620, 24126, 7757, 18897, 3665, 6873, 21211, 4315, 5214, 7266, 8802, 24421, 2408, 617, 491, 20460, 2795, 8560, 5617, 3315, 13045, 24567, 21369, 14587}\n",
      "SAE features for relevant indices as per activation delta\n"
     ]
    },
    {
     "data": {
      "text/plain": [
       "'https://neuronpedia.org/quick-list/?name=temporary_list&features=%5B%7B%22modelId%22%3A%20%22gpt2-small%22%2C%20%22layer%22%3A%20%229-res-jb%22%2C%20%22index%22%3A%20%226661%22%7D%2C%20%7B%22modelId%22%3A%20%22gpt2-small%22%2C%20%22layer%22%3A%20%229-res-jb%22%2C%20%22index%22%3A%20%2217287%22%7D%2C%20%7B%22modelId%22%3A%20%22gpt2-small%22%2C%20%22layer%22%3A%20%229-res-jb%22%2C%20%22index%22%3A%20%22649%22%7D%2C%20%7B%22modelId%22%3A%20%22gpt2-small%22%2C%20%22layer%22%3A%20%229-res-jb%22%2C%20%22index%22%3A%20%2221002%22%7D%2C%20%7B%22modelId%22%3A%20%22gpt2-small%22%2C%20%22layer%22%3A%20%229-res-jb%22%2C%20%22index%22%3A%20%2217803%22%7D%2C%20%7B%22modelId%22%3A%20%22gpt2-small%22%2C%20%22layer%22%3A%20%229-res-jb%22%2C%20%22index%22%3A%20%221296%22%7D%2C%20%7B%22modelId%22%3A%20%22gpt2-small%22%2C%20%22layer%22%3A%20%229-res-jb%22%2C%20%22index%22%3A%20%2214864%22%7D%2C%20%7B%22modelId%22%3A%20%22gpt2-small%22%2C%20%22layer%22%3A%20%229-res-jb%22%2C%20%22index%22%3A%20%2221911%22%7D%2C%20%7B%22modelId%22%3A%20%22gpt2-small%22%2C%20%22layer%22%3A%20%229-res-jb%22%2C%20%22index%22%3A%20%2210528%22%7D%2C%20%7B%22modelId%22%3A%20%22gpt2-small%22%2C%20%22layer%22%3A%20%229-res-jb%22%2C%20%22index%22%3A%20%2222309%22%7D%2C%20%7B%22modelId%22%3A%20%22gpt2-small%22%2C%20%22layer%22%3A%20%229-res-jb%22%2C%20%22index%22%3A%20%2220645%22%7D%2C%20%7B%22modelId%22%3A%20%22gpt2-small%22%2C%20%22layer%22%3A%20%229-res-jb%22%2C%20%22index%22%3A%20%226054%22%7D%2C%20%7B%22modelId%22%3A%20%22gpt2-small%22%2C%20%22layer%22%3A%20%229-res-jb%22%2C%20%22index%22%3A%20%225545%22%7D%2C%20%7B%22modelId%22%3A%20%22gpt2-small%22%2C%20%22layer%22%3A%20%229-res-jb%22%2C%20%22index%22%3A%20%2215402%22%7D%2C%20%7B%22modelId%22%3A%20%22gpt2-small%22%2C%20%22layer%22%3A%20%229-res-jb%22%2C%20%22index%22%3A%20%221195%22%7D%2C%20%7B%22modelId%22%3A%20%22gpt2-small%22%2C%20%22layer%22%3A%20%229-res-jb%22%2C%20%22index%22%3A%20%225170%22%7D%2C%20%7B%22modelId%22%3A%20%22gpt2-small%22%2C%20%22layer%22%3A%20%229-res-jb%22%2C%20%22index%22%3A%20%2218620%22%7D%2C%20%7B%22modelId%22%3A%20%22gpt2-small%22%2C%20%22layer%22%3A%20%229-res-jb%22%2C%20%22index%22%3A%20%2224126%22%7D%2C%20%7B%22modelId%22%3A%20%22gpt2-small%22%2C%20%22layer%22%3A%20%229-res-jb%22%2C%20%22index%22%3A%20%227757%22%7D%2C%20%7B%22modelId%22%3A%20%22gpt2-small%22%2C%20%22layer%22%3A%20%229-res-jb%22%2C%20%22index%22%3A%20%2218897%22%7D%2C%20%7B%22modelId%22%3A%20%22gpt2-small%22%2C%20%22layer%22%3A%20%229-res-jb%22%2C%20%22index%22%3A%20%223665%22%7D%2C%20%7B%22modelId%22%3A%20%22gpt2-small%22%2C%20%22layer%22%3A%20%229-res-jb%22%2C%20%22index%22%3A%20%226873%22%7D%2C%20%7B%22modelId%22%3A%20%22gpt2-small%22%2C%20%22layer%22%3A%20%229-res-jb%22%2C%20%22index%22%3A%20%2221211%22%7D%2C%20%7B%22modelId%22%3A%20%22gpt2-small%22%2C%20%22layer%22%3A%20%229-res-jb%22%2C%20%22index%22%3A%20%224315%22%7D%2C%20%7B%22modelId%22%3A%20%22gpt2-small%22%2C%20%22layer%22%3A%20%229-res-jb%22%2C%20%22index%22%3A%20%225214%22%7D%2C%20%7B%22modelId%22%3A%20%22gpt2-small%22%2C%20%22layer%22%3A%20%229-res-jb%22%2C%20%22index%22%3A%20%227266%22%7D%2C%20%7B%22modelId%22%3A%20%22gpt2-small%22%2C%20%22layer%22%3A%20%229-res-jb%22%2C%20%22index%22%3A%20%228802%22%7D%2C%20%7B%22modelId%22%3A%20%22gpt2-small%22%2C%20%22layer%22%3A%20%229-res-jb%22%2C%20%22index%22%3A%20%2224421%22%7D%2C%20%7B%22modelId%22%3A%20%22gpt2-small%22%2C%20%22layer%22%3A%20%229-res-jb%22%2C%20%22index%22%3A%20%222408%22%7D%2C%20%7B%22modelId%22%3A%20%22gpt2-small%22%2C%20%22layer%22%3A%20%229-res-jb%22%2C%20%22index%22%3A%20%22617%22%7D%2C%20%7B%22modelId%22%3A%20%22gpt2-small%22%2C%20%22layer%22%3A%20%229-res-jb%22%2C%20%22index%22%3A%20%22491%22%7D%2C%20%7B%22modelId%22%3A%20%22gpt2-small%22%2C%20%22layer%22%3A%20%229-res-jb%22%2C%20%22index%22%3A%20%2220460%22%7D%2C%20%7B%22modelId%22%3A%20%22gpt2-small%22%2C%20%22layer%22%3A%20%229-res-jb%22%2C%20%22index%22%3A%20%222795%22%7D%2C%20%7B%22modelId%22%3A%20%22gpt2-small%22%2C%20%22layer%22%3A%20%229-res-jb%22%2C%20%22index%22%3A%20%228560%22%7D%2C%20%7B%22modelId%22%3A%20%22gpt2-small%22%2C%20%22layer%22%3A%20%229-res-jb%22%2C%20%22index%22%3A%20%225617%22%7D%2C%20%7B%22modelId%22%3A%20%22gpt2-small%22%2C%20%22layer%22%3A%20%229-res-jb%22%2C%20%22index%22%3A%20%223315%22%7D%2C%20%7B%22modelId%22%3A%20%22gpt2-small%22%2C%20%22layer%22%3A%20%229-res-jb%22%2C%20%22index%22%3A%20%2213045%22%7D%2C%20%7B%22modelId%22%3A%20%22gpt2-small%22%2C%20%22layer%22%3A%20%229-res-jb%22%2C%20%22index%22%3A%20%2224567%22%7D%2C%20%7B%22modelId%22%3A%20%22gpt2-small%22%2C%20%22layer%22%3A%20%229-res-jb%22%2C%20%22index%22%3A%20%2221369%22%7D%2C%20%7B%22modelId%22%3A%20%22gpt2-small%22%2C%20%22layer%22%3A%20%229-res-jb%22%2C%20%22index%22%3A%20%2214587%22%7D%5D'"
      ]
     },
     "execution_count": 106,
     "metadata": {},
     "output_type": "execute_result"
    }
   ],
   "source": [
    "from sae_lens.analysis.neuronpedia_integration import get_neuronpedia_quick_list\n",
    "\n",
    "print(rejected_feature_set)\n",
    "\n",
    "print(\"SAE features for relevant indices as per activation delta\")\n",
    "get_neuronpedia_quick_list(list(rejected_feature_set), layer = LAYER)"
   ]
  },
  {
   "cell_type": "markdown",
   "metadata": {
    "id": "-0HDfgRN_Bat"
   },
   "source": [
    "# Hybrid Clustering\n",
    "We want to find as many features related to this persona as possible.\n",
    "\n",
    "We do this using woog's clustering algorithm.\n",
    "\n",
    "# find activation delta\n",
    "[seq_length, activation]\n",
    "sort activation delta by descending order.\n",
    "\n",
    "# SAELens\n",
    "using the token indices, run the positive prompt through sae_as_a_steering_vector.ipynb and grab features indices. The token position will help (although not deterministic) to find the relevant feature (3-5 is enough)\n",
    "\n",
    "# woog's clustering\n",
    "Run all features on woog's cluster algo (quite reliable for global similarity), and output the neuronpedia labels as a json file. manually eliminate some spurious features."
   ]
  },
  {
   "cell_type": "code",
   "execution_count": 96,
   "metadata": {
    "executionInfo": {
     "elapsed": 573,
     "status": "ok",
     "timestamp": 1720660854377,
     "user": {
      "displayName": "Jason L",
      "userId": "08424561876455739258"
     },
     "user_tz": 240
    },
    "id": "RjVHJqSJZUIR"
   },
   "outputs": [],
   "source": [
    "residual_outputs = []\n",
    "\n",
    "model = LanguageModel(MODEL_NAME, low_cpu_mem_usage=False)\n",
    "# model = LanguageModel(MODEL_NAME, low_cpu_mem_usage=False, token=hf_token)\n",
    "\n",
    "def hook_fn(module, input, output):\n",
    "    residual_outputs.append(output)\n",
    "\n",
    "# Register hooks for each GPT2Block\n",
    "for block in model.transformer.h:\n",
    "    block.register_forward_hook(hook_fn)"
   ]
  },
  {
   "cell_type": "code",
   "execution_count": 97,
   "metadata": {
    "executionInfo": {
     "elapsed": 1,
     "status": "ok",
     "timestamp": 1720660854377,
     "user": {
      "displayName": "Jason L",
      "userId": "08424561876455739258"
     },
     "user_tz": 240
    },
    "id": "y2h7OoV_1Pz3"
   },
   "outputs": [],
   "source": [
    "import torch.nn.functional as F\n",
    "\n",
    "def flatten_and_cosine_sim(tensor1, tensor2):\n",
    "    # Flatten the tensors\n",
    "    flattened1 = tensor1.view(tensor1.size(0), -1)\n",
    "    flattened2 = tensor2.view(tensor2.size(0), -1)\n",
    "\n",
    "    if flattened1.shape != flattened2.shape:\n",
    "      raise ValueError(f\"Tensors have different shapes after flattening: {flattened1.shape} vs {flattened2.shape}\")\n",
    "\n",
    "\n",
    "    # Normalize the flattened tensors\n",
    "    normalized1 = F.normalize(flattened1, p=2, dim=1)\n",
    "    normalized2 = F.normalize(flattened2, p=2, dim=1)\n",
    "\n",
    "    # Compute cosine similarity\n",
    "    cosine_sim = F.cosine_similarity(normalized1, normalized2)\n",
    "\n",
    "    return cosine_sim"
   ]
  },
  {
   "cell_type": "code",
   "execution_count": 98,
   "metadata": {
    "colab": {
     "base_uri": "https://localhost:8080/"
    },
    "executionInfo": {
     "elapsed": 265,
     "status": "ok",
     "timestamp": 1720660854641,
     "user": {
      "displayName": "Jason L",
      "userId": "08424561876455739258"
     },
     "user_tz": 240
    },
    "id": "l9Xp8Vvxxw8Y",
    "outputId": "05c27c3a-1be2-474b-beca-5b215f02c336"
   },
   "outputs": [
    {
     "name": "stdout",
     "output_type": "stream",
     "text": [
      "tensor(0.9897, grad_fn=<MeanBackward0>)\n",
      "tensor(0.5256, grad_fn=<MeanBackward0>)\n",
      "tensor(0.8710, grad_fn=<MeanBackward0>)\n",
      "tensor(0.8348, grad_fn=<MeanBackward0>)\n",
      "tensor(0.6739, grad_fn=<MeanBackward0>)\n"
     ]
    }
   ],
   "source": [
    "pos_n_neg_cos = flatten_and_cosine_sim(all_activations[0], all_activations[1])\n",
    "cos2 = flatten_and_cosine_sim(all_activations[2], all_activations[3])\n",
    "cos3 = flatten_and_cosine_sim(all_activations[4], all_activations[5])\n",
    "cos4 = flatten_and_cosine_sim(all_activations[6], all_activations[7])\n",
    "cos5 = flatten_and_cosine_sim(all_activations[8], all_activations[9])\n",
    "\n",
    "print(pos_n_neg_cos.mean())\n",
    "print(cos2.mean())\n",
    "print(cos3.mean())\n",
    "print(cos4.mean())\n",
    "print(cos5.mean())"
   ]
  },
  {
   "cell_type": "code",
   "execution_count": 99,
   "metadata": {
    "colab": {
     "base_uri": "https://localhost:8080/"
    },
    "executionInfo": {
     "elapsed": 6681,
     "status": "ok",
     "timestamp": 1720660861321,
     "user": {
      "displayName": "Jason L",
      "userId": "08424561876455739258"
     },
     "user_tz": 240
    },
    "id": "y067zH3khfAk",
    "outputId": "3f2c17ff-e604-4c0e-93b2-321d63e10155"
   },
   "outputs": [
    {
     "name": "stdout",
     "output_type": "stream",
     "text": [
      "average: (1023, 4) for each of 8 layers\n",
      "complete: (1023, 4) for each of 8 layers\n",
      "weighted: (1023, 4) for each of 8 layers\n"
     ]
    }
   ],
   "source": [
    "# load your data in here\n",
    "decoders = torch.rand([8, 1024, 256]) # e.g. 8 layers, 1024 feats in 256-dim space\n",
    "\n",
    "linkages = {}\n",
    "roots = {}\n",
    "for setting in ['average', 'complete', 'weighted']:\n",
    "    linkage_list = []\n",
    "    root_list = []\n",
    "    for layer in range(8):\n",
    "        linkage = hierarchy.linkage(decoders[layer], method = setting, metric = 'cosine')\n",
    "        root_list.append(hierarchy.to_tree(linkage))\n",
    "        linkage_list.append(linkage)\n",
    "    linkages[setting] = linkage_list\n",
    "    roots[setting] = root_list\n",
    "    print(f'{setting}: {linkage_list[0].shape} for each of {len(linkage_list)} layers')\n",
    "\n",
    "with open('your_linkages.pkl', 'wb') as f:\n",
    "    pickle.dump(linkages, f)"
   ]
  },
  {
   "cell_type": "code",
   "execution_count": 102,
   "metadata": {
    "cellView": "form",
    "colab": {
     "base_uri": "https://localhost:8080/"
    },
    "executionInfo": {
     "elapsed": 20189,
     "status": "ok",
     "timestamp": 1720660881508,
     "user": {
      "displayName": "Jason L",
      "userId": "08424561876455739258"
     },
     "user_tz": 240
    },
    "id": "f5Qp6gof7eMT",
    "outputId": "73067775-c375-4b92-e732-1eb831f97251"
   },
   "outputs": [
    {
     "name": "stderr",
     "output_type": "stream",
     "text": [
      "huggingface/tokenizers: The current process just got forked, after parallelism has already been used. Disabling parallelism to avoid deadlocks...\n",
      "To disable this warning, you can either:\n",
      "\t- Avoid using `tokenizers` before the fork if possible\n",
      "\t- Explicitly set the environment variable TOKENIZERS_PARALLELISM=(true | false)\n"
     ]
    },
    {
     "name": "stdout",
     "output_type": "stream",
     "text": [
      "/bin/bash: line 1: gdown: command not found\n",
      "average: (24575, 4) for each of 12 layers\n",
      "complete: (24575, 4) for each of 12 layers\n",
      "weighted: (24575, 4) for each of 12 layers\n"
     ]
    }
   ],
   "source": [
    "#@title to download precomputed indices over GPT2-small residual stream SAEs\n",
    "\n",
    "#!pip install gdown\n",
    "filepath = '/workspace/'\n",
    "destpath = 'linkages.pkl'\n",
    "!gdown {filepath} -O {destpath}\n",
    "\n",
    "import pickle\n",
    "from scipy.cluster import hierarchy\n",
    "\n",
    "with open('linkages.pkl', 'rb') as f:\n",
    "    linkages = pickle.load(f)\n",
    "\n",
    "roots = {}\n",
    "for key, value in linkages.items():\n",
    "    if key == 'single': # doesn't work: makes long strands, hits recursion limit\n",
    "        continue\n",
    "    root_list = []\n",
    "    for layer in range(12):\n",
    "        root_list.append(hierarchy.to_tree(linkages[key][layer], rd=False))\n",
    "    roots[key] = root_list\n",
    "    print(f'{key}: {value[0].shape} for each of {len(value)} layers')"
   ]
  },
  {
   "cell_type": "code",
   "execution_count": 103,
   "metadata": {
    "cellView": "form",
    "executionInfo": {
     "elapsed": 10,
     "status": "ok",
     "timestamp": 1720660881508,
     "user": {
      "displayName": "Jason L",
      "userId": "08424561876455739258"
     },
     "user_tz": 240
    },
    "id": "PQ9XAy7eY82n"
   },
   "outputs": [],
   "source": [
    "#@title Helper methods\n",
    "import json\n",
    "import urllib.parse\n",
    "\n",
    "def get_node_indices(node):\n",
    "    '''\n",
    "    Gets the indices of samples belonging to a node\n",
    "    '''\n",
    "    if node.is_leaf():\n",
    "        return [node.id]\n",
    "    else:\n",
    "        left_indices = get_node_indices(node.left)\n",
    "        right_indices = get_node_indices(node.right)\n",
    "        return left_indices + right_indices\n",
    "\n",
    "def find_node_path(layer, node_id, root):\n",
    "    \"\"\"\n",
    "    Finds the path from root node to the node with given node_id.\n",
    "    Returns a list of choices ('left' or 'right') to traverse the path.\n",
    "    \"\"\"\n",
    "    def traverse(node, path=''):\n",
    "        if node is None:\n",
    "            return None\n",
    "        if node.id == node_id:\n",
    "            return path\n",
    "        left_path = traverse(node.left, path + 'L')\n",
    "        right_path = traverse(node.right, path + 'R')\n",
    "        if left_path:\n",
    "            return left_path\n",
    "        if right_path:\n",
    "            return right_path\n",
    "        return None\n",
    "\n",
    "    return traverse(root)\n",
    "\n",
    "def get_cluster_by_path(path, root):\n",
    "    \"\"\"\n",
    "    Navigates the hierarchical clustering tree from the root node\n",
    "    based on the given sequence of 'left' and 'right' choices.\n",
    "    Returns the cluster node reached after following the path.\n",
    "    \"\"\"\n",
    "    node = root\n",
    "    for direction in path:\n",
    "        if direction == 'L':\n",
    "            node = node.left\n",
    "        elif direction == 'R':\n",
    "            node = node.right\n",
    "        else:\n",
    "            raise ValueError(\"Invalid direction: {}\".format(direction))\n",
    "    return node\n",
    "\n",
    "def get_neuronpedia_quick_list(\n",
    "    features: list[int],\n",
    "    layer: int,\n",
    "    model: str = \"gpt2-small\",\n",
    "    dataset: str = \"res-jb\",\n",
    "    name: str = \"temporary_list\",\n",
    "    setting: str = \"average\",\n",
    "):\n",
    "    url = \"https://neuronpedia.org/quick-list/\"\n",
    "    name = urllib.parse.quote(name)\n",
    "    url = url + \"?name=\" + name\n",
    "    list_feature = [\n",
    "        {\"modelId\": model, \"layer\": f\"{layer}-{dataset}\", \"index\": str(feature)}\n",
    "        for feature in features\n",
    "    ]\n",
    "    url = url + \"&features=\" + urllib.parse.quote(json.dumps(list_feature))\n",
    "    print(url)\n",
    "    return url\n",
    "\n",
    "def build_cluster(layer, feature_id, height=3, setting = 'average', verbose=True):\n",
    "    layer = int(layer)\n",
    "    root = roots[setting][layer]\n",
    "    node_path = find_node_path(layer, feature_id, root)\n",
    "    cluster_path = node_path[:-height]\n",
    "    cluster = get_cluster_by_path(cluster_path, root=root)\n",
    "    indices = get_node_indices(cluster)\n",
    "    list_name = f'height {height} above L{layer}f{feature_id} with cluster setting: {setting}'\n",
    "    url = get_neuronpedia_quick_list(indices, layer, name=cluster_path)\n",
    "    if verbose:\n",
    "        print(f'path to node: {node_path}')\n",
    "        print(f'path to cluster: {cluster_path}')\n",
    "        print(f'features in cluster: {indices}')\n",
    "    return indices"
   ]
  },
  {
   "cell_type": "code",
   "execution_count": 104,
   "metadata": {
    "colab": {
     "base_uri": "https://localhost:8080/"
    },
    "executionInfo": {
     "elapsed": 404,
     "status": "ok",
     "timestamp": 1720660881910,
     "user": {
      "displayName": "Jason L",
      "userId": "08424561876455739258"
     },
     "user_tz": 240
    },
    "id": "K559J2IM3kA0",
    "outputId": "d81e074c-3cba-4032-d6e7-f202b535cf7b"
   },
   "outputs": [
    {
     "name": "stdout",
     "output_type": "stream",
     "text": [
      "https://neuronpedia.org/quick-list/?name=RRLRRRRRRRRRLRRLRRRR&features=%5B%7B%22modelId%22%3A%20%22gpt2-small%22%2C%20%22layer%22%3A%20%229-res-jb%22%2C%20%22index%22%3A%20%221346%22%7D%2C%20%7B%22modelId%22%3A%20%22gpt2-small%22%2C%20%22layer%22%3A%20%229-res-jb%22%2C%20%22index%22%3A%20%2224322%22%7D%2C%20%7B%22modelId%22%3A%20%22gpt2-small%22%2C%20%22layer%22%3A%20%229-res-jb%22%2C%20%22index%22%3A%20%227238%22%7D%2C%20%7B%22modelId%22%3A%20%22gpt2-small%22%2C%20%22layer%22%3A%20%229-res-jb%22%2C%20%22index%22%3A%20%2210388%22%7D%5D\n",
      "https://neuronpedia.org/quick-list/?name=RLRLRLRLRRRRRRRRRLRRRLRLLRRRR&features=%5B%7B%22modelId%22%3A%20%22gpt2-small%22%2C%20%22layer%22%3A%20%229-res-jb%22%2C%20%22index%22%3A%20%221919%22%7D%2C%20%7B%22modelId%22%3A%20%22gpt2-small%22%2C%20%22layer%22%3A%20%229-res-jb%22%2C%20%22index%22%3A%20%2218949%22%7D%2C%20%7B%22modelId%22%3A%20%22gpt2-small%22%2C%20%22layer%22%3A%20%229-res-jb%22%2C%20%22index%22%3A%20%2223471%22%7D%5D\n",
      "https://neuronpedia.org/quick-list/?name=RRLLRRLRRRRLRRL&features=%5B%7B%22modelId%22%3A%20%22gpt2-small%22%2C%20%22layer%22%3A%20%229-res-jb%22%2C%20%22index%22%3A%20%225381%22%7D%2C%20%7B%22modelId%22%3A%20%22gpt2-small%22%2C%20%22layer%22%3A%20%229-res-jb%22%2C%20%22index%22%3A%20%2214854%22%7D%2C%20%7B%22modelId%22%3A%20%22gpt2-small%22%2C%20%22layer%22%3A%20%229-res-jb%22%2C%20%22index%22%3A%20%22696%22%7D%2C%20%7B%22modelId%22%3A%20%22gpt2-small%22%2C%20%22layer%22%3A%20%229-res-jb%22%2C%20%22index%22%3A%20%2214156%22%7D%2C%20%7B%22modelId%22%3A%20%22gpt2-small%22%2C%20%22layer%22%3A%20%229-res-jb%22%2C%20%22index%22%3A%20%2224358%22%7D%5D\n",
      "https://neuronpedia.org/quick-list/?name=RRLRRRRRRRLRRRLRRLLL&features=%5B%7B%22modelId%22%3A%20%22gpt2-small%22%2C%20%22layer%22%3A%20%229-res-jb%22%2C%20%22index%22%3A%20%228975%22%7D%2C%20%7B%22modelId%22%3A%20%22gpt2-small%22%2C%20%22layer%22%3A%20%229-res-jb%22%2C%20%22index%22%3A%20%2214856%22%7D%2C%20%7B%22modelId%22%3A%20%22gpt2-small%22%2C%20%22layer%22%3A%20%229-res-jb%22%2C%20%22index%22%3A%20%221400%22%7D%2C%20%7B%22modelId%22%3A%20%22gpt2-small%22%2C%20%22layer%22%3A%20%229-res-jb%22%2C%20%22index%22%3A%20%226049%22%7D%2C%20%7B%22modelId%22%3A%20%22gpt2-small%22%2C%20%22layer%22%3A%20%229-res-jb%22%2C%20%22index%22%3A%20%2224110%22%7D%5D\n",
      "https://neuronpedia.org/quick-list/?name=RRLRRRRRLRRRRRRRLLR&features=%5B%7B%22modelId%22%3A%20%22gpt2-small%22%2C%20%22layer%22%3A%20%229-res-jb%22%2C%20%22index%22%3A%20%223212%22%7D%2C%20%7B%22modelId%22%3A%20%22gpt2-small%22%2C%20%22layer%22%3A%20%229-res-jb%22%2C%20%22index%22%3A%20%228444%22%7D%2C%20%7B%22modelId%22%3A%20%22gpt2-small%22%2C%20%22layer%22%3A%20%229-res-jb%22%2C%20%22index%22%3A%20%22916%22%7D%2C%20%7B%22modelId%22%3A%20%22gpt2-small%22%2C%20%22layer%22%3A%20%229-res-jb%22%2C%20%22index%22%3A%20%2221141%22%7D%2C%20%7B%22modelId%22%3A%20%22gpt2-small%22%2C%20%22layer%22%3A%20%229-res-jb%22%2C%20%22index%22%3A%20%222029%22%7D%2C%20%7B%22modelId%22%3A%20%22gpt2-small%22%2C%20%22layer%22%3A%20%229-res-jb%22%2C%20%22index%22%3A%20%226631%22%7D%5D\n",
      "https://neuronpedia.org/quick-list/?name=RRRRLRRRRRRRLLRRRRLRRRLL&features=%5B%7B%22modelId%22%3A%20%22gpt2-small%22%2C%20%22layer%22%3A%20%229-res-jb%22%2C%20%22index%22%3A%20%2213086%22%7D%2C%20%7B%22modelId%22%3A%20%22gpt2-small%22%2C%20%22layer%22%3A%20%229-res-jb%22%2C%20%22index%22%3A%20%2223662%22%7D%2C%20%7B%22modelId%22%3A%20%22gpt2-small%22%2C%20%22layer%22%3A%20%229-res-jb%22%2C%20%22index%22%3A%20%2218594%22%7D%2C%20%7B%22modelId%22%3A%20%22gpt2-small%22%2C%20%22layer%22%3A%20%229-res-jb%22%2C%20%22index%22%3A%20%2210428%22%7D%2C%20%7B%22modelId%22%3A%20%22gpt2-small%22%2C%20%22layer%22%3A%20%229-res-jb%22%2C%20%22index%22%3A%20%225011%22%7D%2C%20%7B%22modelId%22%3A%20%22gpt2-small%22%2C%20%22layer%22%3A%20%229-res-jb%22%2C%20%22index%22%3A%20%2212311%22%7D%5D\n",
      "https://neuronpedia.org/quick-list/?name=RRLRRRRRLRLLRRRLL&features=%5B%7B%22modelId%22%3A%20%22gpt2-small%22%2C%20%22layer%22%3A%20%229-res-jb%22%2C%20%22index%22%3A%20%2214497%22%7D%2C%20%7B%22modelId%22%3A%20%22gpt2-small%22%2C%20%22layer%22%3A%20%229-res-jb%22%2C%20%22index%22%3A%20%2222309%22%7D%2C%20%7B%22modelId%22%3A%20%22gpt2-small%22%2C%20%22layer%22%3A%20%229-res-jb%22%2C%20%22index%22%3A%20%2221585%22%7D%2C%20%7B%22modelId%22%3A%20%22gpt2-small%22%2C%20%22layer%22%3A%20%229-res-jb%22%2C%20%22index%22%3A%20%2220168%22%7D%2C%20%7B%22modelId%22%3A%20%22gpt2-small%22%2C%20%22layer%22%3A%20%229-res-jb%22%2C%20%22index%22%3A%20%2221871%22%7D%2C%20%7B%22modelId%22%3A%20%22gpt2-small%22%2C%20%22layer%22%3A%20%229-res-jb%22%2C%20%22index%22%3A%20%2214138%22%7D%2C%20%7B%22modelId%22%3A%20%22gpt2-small%22%2C%20%22layer%22%3A%20%229-res-jb%22%2C%20%22index%22%3A%20%222494%22%7D%2C%20%7B%22modelId%22%3A%20%22gpt2-small%22%2C%20%22layer%22%3A%20%229-res-jb%22%2C%20%22index%22%3A%20%2215443%22%7D%2C%20%7B%22modelId%22%3A%20%22gpt2-small%22%2C%20%22layer%22%3A%20%229-res-jb%22%2C%20%22index%22%3A%20%2214765%22%7D%2C%20%7B%22modelId%22%3A%20%22gpt2-small%22%2C%20%22layer%22%3A%20%229-res-jb%22%2C%20%22index%22%3A%20%226055%22%7D%2C%20%7B%22modelId%22%3A%20%22gpt2-small%22%2C%20%22layer%22%3A%20%229-res-jb%22%2C%20%22index%22%3A%20%2217647%22%7D%2C%20%7B%22modelId%22%3A%20%22gpt2-small%22%2C%20%22layer%22%3A%20%229-res-jb%22%2C%20%22index%22%3A%20%228405%22%7D%2C%20%7B%22modelId%22%3A%20%22gpt2-small%22%2C%20%22layer%22%3A%20%229-res-jb%22%2C%20%22index%22%3A%20%228613%22%7D%2C%20%7B%22modelId%22%3A%20%22gpt2-small%22%2C%20%22layer%22%3A%20%229-res-jb%22%2C%20%22index%22%3A%20%226919%22%7D%2C%20%7B%22modelId%22%3A%20%22gpt2-small%22%2C%20%22layer%22%3A%20%229-res-jb%22%2C%20%22index%22%3A%20%2216611%22%7D%2C%20%7B%22modelId%22%3A%20%22gpt2-small%22%2C%20%22layer%22%3A%20%229-res-jb%22%2C%20%22index%22%3A%20%2211878%22%7D%2C%20%7B%22modelId%22%3A%20%22gpt2-small%22%2C%20%22layer%22%3A%20%229-res-jb%22%2C%20%22index%22%3A%20%2219335%22%7D%2C%20%7B%22modelId%22%3A%20%22gpt2-small%22%2C%20%22layer%22%3A%20%229-res-jb%22%2C%20%22index%22%3A%20%2217632%22%7D%2C%20%7B%22modelId%22%3A%20%22gpt2-small%22%2C%20%22layer%22%3A%20%229-res-jb%22%2C%20%22index%22%3A%20%224079%22%7D%2C%20%7B%22modelId%22%3A%20%22gpt2-small%22%2C%20%22layer%22%3A%20%229-res-jb%22%2C%20%22index%22%3A%20%224176%22%7D%2C%20%7B%22modelId%22%3A%20%22gpt2-small%22%2C%20%22layer%22%3A%20%229-res-jb%22%2C%20%22index%22%3A%20%2212138%22%7D%2C%20%7B%22modelId%22%3A%20%22gpt2-small%22%2C%20%22layer%22%3A%20%229-res-jb%22%2C%20%22index%22%3A%20%2221744%22%7D%2C%20%7B%22modelId%22%3A%20%22gpt2-small%22%2C%20%22layer%22%3A%20%229-res-jb%22%2C%20%22index%22%3A%20%222381%22%7D%2C%20%7B%22modelId%22%3A%20%22gpt2-small%22%2C%20%22layer%22%3A%20%229-res-jb%22%2C%20%22index%22%3A%20%2214199%22%7D%2C%20%7B%22modelId%22%3A%20%22gpt2-small%22%2C%20%22layer%22%3A%20%229-res-jb%22%2C%20%22index%22%3A%20%2224159%22%7D%2C%20%7B%22modelId%22%3A%20%22gpt2-small%22%2C%20%22layer%22%3A%20%229-res-jb%22%2C%20%22index%22%3A%20%227562%22%7D%2C%20%7B%22modelId%22%3A%20%22gpt2-small%22%2C%20%22layer%22%3A%20%229-res-jb%22%2C%20%22index%22%3A%20%2217591%22%7D%2C%20%7B%22modelId%22%3A%20%22gpt2-small%22%2C%20%22layer%22%3A%20%229-res-jb%22%2C%20%22index%22%3A%20%2220613%22%7D%2C%20%7B%22modelId%22%3A%20%22gpt2-small%22%2C%20%22layer%22%3A%20%229-res-jb%22%2C%20%22index%22%3A%20%222241%22%7D%2C%20%7B%22modelId%22%3A%20%22gpt2-small%22%2C%20%22layer%22%3A%20%229-res-jb%22%2C%20%22index%22%3A%20%2212343%22%7D%2C%20%7B%22modelId%22%3A%20%22gpt2-small%22%2C%20%22layer%22%3A%20%229-res-jb%22%2C%20%22index%22%3A%20%223315%22%7D%2C%20%7B%22modelId%22%3A%20%22gpt2-small%22%2C%20%22layer%22%3A%20%229-res-jb%22%2C%20%22index%22%3A%20%2217770%22%7D%5D\n",
      "https://neuronpedia.org/quick-list/?name=RRRRLLRLRLLRRL&features=%5B%7B%22modelId%22%3A%20%22gpt2-small%22%2C%20%22layer%22%3A%20%229-res-jb%22%2C%20%22index%22%3A%20%2217312%22%7D%2C%20%7B%22modelId%22%3A%20%22gpt2-small%22%2C%20%22layer%22%3A%20%229-res-jb%22%2C%20%22index%22%3A%20%221443%22%7D%2C%20%7B%22modelId%22%3A%20%22gpt2-small%22%2C%20%22layer%22%3A%20%229-res-jb%22%2C%20%22index%22%3A%20%2216736%22%7D%5D\n",
      "https://neuronpedia.org/quick-list/?name=RRRRLRRRRRRRLLRLRRRLLRR&features=%5B%7B%22modelId%22%3A%20%22gpt2-small%22%2C%20%22layer%22%3A%20%229-res-jb%22%2C%20%22index%22%3A%20%224460%22%7D%2C%20%7B%22modelId%22%3A%20%22gpt2-small%22%2C%20%22layer%22%3A%20%229-res-jb%22%2C%20%22index%22%3A%20%2213857%22%7D%2C%20%7B%22modelId%22%3A%20%22gpt2-small%22%2C%20%22layer%22%3A%20%229-res-jb%22%2C%20%22index%22%3A%20%226316%22%7D%2C%20%7B%22modelId%22%3A%20%22gpt2-small%22%2C%20%22layer%22%3A%20%229-res-jb%22%2C%20%22index%22%3A%20%2217855%22%7D%2C%20%7B%22modelId%22%3A%20%22gpt2-small%22%2C%20%22layer%22%3A%20%229-res-jb%22%2C%20%22index%22%3A%20%2219411%22%7D%5D\n",
      "https://neuronpedia.org/quick-list/?name=RRRRLRRRLRRRLRRRRRRRRRLR&features=%5B%7B%22modelId%22%3A%20%22gpt2-small%22%2C%20%22layer%22%3A%20%229-res-jb%22%2C%20%22index%22%3A%20%2222197%22%7D%2C%20%7B%22modelId%22%3A%20%22gpt2-small%22%2C%20%22layer%22%3A%20%229-res-jb%22%2C%20%22index%22%3A%20%2212212%22%7D%2C%20%7B%22modelId%22%3A%20%22gpt2-small%22%2C%20%22layer%22%3A%20%229-res-jb%22%2C%20%22index%22%3A%20%2224279%22%7D%2C%20%7B%22modelId%22%3A%20%22gpt2-small%22%2C%20%22layer%22%3A%20%229-res-jb%22%2C%20%22index%22%3A%20%2224423%22%7D%5D\n",
      "https://neuronpedia.org/quick-list/?name=RRLRRRRRRRLLRRRLRR&features=%5B%7B%22modelId%22%3A%20%22gpt2-small%22%2C%20%22layer%22%3A%20%229-res-jb%22%2C%20%22index%22%3A%20%2223747%22%7D%2C%20%7B%22modelId%22%3A%20%22gpt2-small%22%2C%20%22layer%22%3A%20%229-res-jb%22%2C%20%22index%22%3A%20%2214007%22%7D%2C%20%7B%22modelId%22%3A%20%22gpt2-small%22%2C%20%22layer%22%3A%20%229-res-jb%22%2C%20%22index%22%3A%20%2220152%22%7D%5D\n",
      "https://neuronpedia.org/quick-list/?name=RRLRRRRRRRLLRRLRRRLLRR&features=%5B%7B%22modelId%22%3A%20%22gpt2-small%22%2C%20%22layer%22%3A%20%229-res-jb%22%2C%20%22index%22%3A%20%2211213%22%7D%2C%20%7B%22modelId%22%3A%20%22gpt2-small%22%2C%20%22layer%22%3A%20%229-res-jb%22%2C%20%22index%22%3A%20%229783%22%7D%2C%20%7B%22modelId%22%3A%20%22gpt2-small%22%2C%20%22layer%22%3A%20%229-res-jb%22%2C%20%22index%22%3A%20%2218739%22%7D%5D\n",
      "https://neuronpedia.org/quick-list/?name=RRLLLLRRRRRRRRRRRRLRRRRRRR&features=%5B%7B%22modelId%22%3A%20%22gpt2-small%22%2C%20%22layer%22%3A%20%229-res-jb%22%2C%20%22index%22%3A%20%229789%22%7D%2C%20%7B%22modelId%22%3A%20%22gpt2-small%22%2C%20%22layer%22%3A%20%229-res-jb%22%2C%20%22index%22%3A%20%2217209%22%7D%2C%20%7B%22modelId%22%3A%20%22gpt2-small%22%2C%20%22layer%22%3A%20%229-res-jb%22%2C%20%22index%22%3A%20%2216219%22%7D%2C%20%7B%22modelId%22%3A%20%22gpt2-small%22%2C%20%22layer%22%3A%20%229-res-jb%22%2C%20%22index%22%3A%20%2219092%22%7D%5D\n",
      "https://neuronpedia.org/quick-list/?name=RRLRRRRRLRLLRRRLLRRRRRRR&features=%5B%7B%22modelId%22%3A%20%22gpt2-small%22%2C%20%22layer%22%3A%20%229-res-jb%22%2C%20%22index%22%3A%20%222241%22%7D%2C%20%7B%22modelId%22%3A%20%22gpt2-small%22%2C%20%22layer%22%3A%20%229-res-jb%22%2C%20%22index%22%3A%20%2212343%22%7D%2C%20%7B%22modelId%22%3A%20%22gpt2-small%22%2C%20%22layer%22%3A%20%229-res-jb%22%2C%20%22index%22%3A%20%223315%22%7D%2C%20%7B%22modelId%22%3A%20%22gpt2-small%22%2C%20%22layer%22%3A%20%229-res-jb%22%2C%20%22index%22%3A%20%2217770%22%7D%5D\n",
      "https://neuronpedia.org/quick-list/?name=RRLRRRRRRRRRLRRLRRRR&features=%5B%7B%22modelId%22%3A%20%22gpt2-small%22%2C%20%22layer%22%3A%20%229-res-jb%22%2C%20%22index%22%3A%20%221346%22%7D%2C%20%7B%22modelId%22%3A%20%22gpt2-small%22%2C%20%22layer%22%3A%20%229-res-jb%22%2C%20%22index%22%3A%20%2224322%22%7D%2C%20%7B%22modelId%22%3A%20%22gpt2-small%22%2C%20%22layer%22%3A%20%229-res-jb%22%2C%20%22index%22%3A%20%227238%22%7D%2C%20%7B%22modelId%22%3A%20%22gpt2-small%22%2C%20%22layer%22%3A%20%229-res-jb%22%2C%20%22index%22%3A%20%2210388%22%7D%5D\n",
      "https://neuronpedia.org/quick-list/?name=RRLRRRRRRRLRRRRRRRLLRRLRL&features=%5B%7B%22modelId%22%3A%20%22gpt2-small%22%2C%20%22layer%22%3A%20%229-res-jb%22%2C%20%22index%22%3A%20%2223498%22%7D%2C%20%7B%22modelId%22%3A%20%22gpt2-small%22%2C%20%22layer%22%3A%20%229-res-jb%22%2C%20%22index%22%3A%20%223647%22%7D%2C%20%7B%22modelId%22%3A%20%22gpt2-small%22%2C%20%22layer%22%3A%20%229-res-jb%22%2C%20%22index%22%3A%20%2213862%22%7D%2C%20%7B%22modelId%22%3A%20%22gpt2-small%22%2C%20%22layer%22%3A%20%229-res-jb%22%2C%20%22index%22%3A%20%221189%22%7D%2C%20%7B%22modelId%22%3A%20%22gpt2-small%22%2C%20%22layer%22%3A%20%229-res-jb%22%2C%20%22index%22%3A%20%2219906%22%7D%5D\n",
      "https://neuronpedia.org/quick-list/?name=RLRLRLRLRRRRRRRRRLRRRLRRLRRRLRL&features=%5B%7B%22modelId%22%3A%20%22gpt2-small%22%2C%20%22layer%22%3A%20%229-res-jb%22%2C%20%22index%22%3A%20%2214940%22%7D%2C%20%7B%22modelId%22%3A%20%22gpt2-small%22%2C%20%22layer%22%3A%20%229-res-jb%22%2C%20%22index%22%3A%20%221871%22%7D%2C%20%7B%22modelId%22%3A%20%22gpt2-small%22%2C%20%22layer%22%3A%20%229-res-jb%22%2C%20%22index%22%3A%20%2212210%22%7D%2C%20%7B%22modelId%22%3A%20%22gpt2-small%22%2C%20%22layer%22%3A%20%229-res-jb%22%2C%20%22index%22%3A%20%2212745%22%7D%2C%20%7B%22modelId%22%3A%20%22gpt2-small%22%2C%20%22layer%22%3A%20%229-res-jb%22%2C%20%22index%22%3A%20%2222003%22%7D%5D\n",
      "https://neuronpedia.org/quick-list/?name=RLRLRLRLRRRRRRRRRLRRRLRRLRRRLR&features=%5B%7B%22modelId%22%3A%20%22gpt2-small%22%2C%20%22layer%22%3A%20%229-res-jb%22%2C%20%22index%22%3A%20%2214940%22%7D%2C%20%7B%22modelId%22%3A%20%22gpt2-small%22%2C%20%22layer%22%3A%20%229-res-jb%22%2C%20%22index%22%3A%20%221871%22%7D%2C%20%7B%22modelId%22%3A%20%22gpt2-small%22%2C%20%22layer%22%3A%20%229-res-jb%22%2C%20%22index%22%3A%20%2212210%22%7D%2C%20%7B%22modelId%22%3A%20%22gpt2-small%22%2C%20%22layer%22%3A%20%229-res-jb%22%2C%20%22index%22%3A%20%2212745%22%7D%2C%20%7B%22modelId%22%3A%20%22gpt2-small%22%2C%20%22layer%22%3A%20%229-res-jb%22%2C%20%22index%22%3A%20%2222003%22%7D%2C%20%7B%22modelId%22%3A%20%22gpt2-small%22%2C%20%22layer%22%3A%20%229-res-jb%22%2C%20%22index%22%3A%20%2211536%22%7D%2C%20%7B%22modelId%22%3A%20%22gpt2-small%22%2C%20%22layer%22%3A%20%229-res-jb%22%2C%20%22index%22%3A%20%224612%22%7D%2C%20%7B%22modelId%22%3A%20%22gpt2-small%22%2C%20%22layer%22%3A%20%229-res-jb%22%2C%20%22index%22%3A%20%2215423%22%7D%5D\n",
      "https://neuronpedia.org/quick-list/?name=RLRLRLRLRRRRRRRRRLRRRLRRLRRR&features=%5B%7B%22modelId%22%3A%20%22gpt2-small%22%2C%20%22layer%22%3A%20%229-res-jb%22%2C%20%22index%22%3A%20%229185%22%7D%2C%20%7B%22modelId%22%3A%20%22gpt2-small%22%2C%20%22layer%22%3A%20%229-res-jb%22%2C%20%22index%22%3A%20%2214940%22%7D%2C%20%7B%22modelId%22%3A%20%22gpt2-small%22%2C%20%22layer%22%3A%20%229-res-jb%22%2C%20%22index%22%3A%20%221871%22%7D%2C%20%7B%22modelId%22%3A%20%22gpt2-small%22%2C%20%22layer%22%3A%20%229-res-jb%22%2C%20%22index%22%3A%20%2212210%22%7D%2C%20%7B%22modelId%22%3A%20%22gpt2-small%22%2C%20%22layer%22%3A%20%229-res-jb%22%2C%20%22index%22%3A%20%2212745%22%7D%2C%20%7B%22modelId%22%3A%20%22gpt2-small%22%2C%20%22layer%22%3A%20%229-res-jb%22%2C%20%22index%22%3A%20%2222003%22%7D%2C%20%7B%22modelId%22%3A%20%22gpt2-small%22%2C%20%22layer%22%3A%20%229-res-jb%22%2C%20%22index%22%3A%20%2211536%22%7D%2C%20%7B%22modelId%22%3A%20%22gpt2-small%22%2C%20%22layer%22%3A%20%229-res-jb%22%2C%20%22index%22%3A%20%224612%22%7D%2C%20%7B%22modelId%22%3A%20%22gpt2-small%22%2C%20%22layer%22%3A%20%229-res-jb%22%2C%20%22index%22%3A%20%2215423%22%7D%2C%20%7B%22modelId%22%3A%20%22gpt2-small%22%2C%20%22layer%22%3A%20%229-res-jb%22%2C%20%22index%22%3A%20%223665%22%7D%2C%20%7B%22modelId%22%3A%20%22gpt2-small%22%2C%20%22layer%22%3A%20%229-res-jb%22%2C%20%22index%22%3A%20%2217803%22%7D%2C%20%7B%22modelId%22%3A%20%22gpt2-small%22%2C%20%22layer%22%3A%20%229-res-jb%22%2C%20%22index%22%3A%20%2221369%22%7D%5D\n",
      "https://neuronpedia.org/quick-list/?name=RLRLRLRLRRRLRRRLRRRRRL&features=%5B%7B%22modelId%22%3A%20%22gpt2-small%22%2C%20%22layer%22%3A%20%229-res-jb%22%2C%20%22index%22%3A%20%2221864%22%7D%2C%20%7B%22modelId%22%3A%20%22gpt2-small%22%2C%20%22layer%22%3A%20%229-res-jb%22%2C%20%22index%22%3A%20%2219303%22%7D%2C%20%7B%22modelId%22%3A%20%22gpt2-small%22%2C%20%22layer%22%3A%20%229-res-jb%22%2C%20%22index%22%3A%20%2222041%22%7D%2C%20%7B%22modelId%22%3A%20%22gpt2-small%22%2C%20%22layer%22%3A%20%229-res-jb%22%2C%20%22index%22%3A%20%228094%22%7D%2C%20%7B%22modelId%22%3A%20%22gpt2-small%22%2C%20%22layer%22%3A%20%229-res-jb%22%2C%20%22index%22%3A%20%2215113%22%7D%2C%20%7B%22modelId%22%3A%20%22gpt2-small%22%2C%20%22layer%22%3A%20%229-res-jb%22%2C%20%22index%22%3A%20%2211877%22%7D%2C%20%7B%22modelId%22%3A%20%22gpt2-small%22%2C%20%22layer%22%3A%20%229-res-jb%22%2C%20%22index%22%3A%20%2217129%22%7D%2C%20%7B%22modelId%22%3A%20%22gpt2-small%22%2C%20%22layer%22%3A%20%229-res-jb%22%2C%20%22index%22%3A%20%2223676%22%7D%5D\n",
      "https://neuronpedia.org/quick-list/?name=RRRRLRRRLRRRLRRRRRRRRRLRR&features=%5B%7B%22modelId%22%3A%20%22gpt2-small%22%2C%20%22layer%22%3A%20%229-res-jb%22%2C%20%22index%22%3A%20%2212212%22%7D%2C%20%7B%22modelId%22%3A%20%22gpt2-small%22%2C%20%22layer%22%3A%20%229-res-jb%22%2C%20%22index%22%3A%20%2224279%22%7D%2C%20%7B%22modelId%22%3A%20%22gpt2-small%22%2C%20%22layer%22%3A%20%229-res-jb%22%2C%20%22index%22%3A%20%2224423%22%7D%5D\n",
      "https://neuronpedia.org/quick-list/?name=RRLRRLRLRRLRRRRLR&features=%5B%7B%22modelId%22%3A%20%22gpt2-small%22%2C%20%22layer%22%3A%20%229-res-jb%22%2C%20%22index%22%3A%20%227656%22%7D%2C%20%7B%22modelId%22%3A%20%22gpt2-small%22%2C%20%22layer%22%3A%20%229-res-jb%22%2C%20%22index%22%3A%20%228198%22%7D%2C%20%7B%22modelId%22%3A%20%22gpt2-small%22%2C%20%22layer%22%3A%20%229-res-jb%22%2C%20%22index%22%3A%20%2278%22%7D%2C%20%7B%22modelId%22%3A%20%22gpt2-small%22%2C%20%22layer%22%3A%20%229-res-jb%22%2C%20%22index%22%3A%20%2211611%22%7D%2C%20%7B%22modelId%22%3A%20%22gpt2-small%22%2C%20%22layer%22%3A%20%229-res-jb%22%2C%20%22index%22%3A%20%222505%22%7D%2C%20%7B%22modelId%22%3A%20%22gpt2-small%22%2C%20%22layer%22%3A%20%229-res-jb%22%2C%20%22index%22%3A%20%222710%22%7D%2C%20%7B%22modelId%22%3A%20%22gpt2-small%22%2C%20%22layer%22%3A%20%229-res-jb%22%2C%20%22index%22%3A%20%2223036%22%7D%5D\n",
      "https://neuronpedia.org/quick-list/?name=RRRRLRRRRRRRLLRLRRRLLRR&features=%5B%7B%22modelId%22%3A%20%22gpt2-small%22%2C%20%22layer%22%3A%20%229-res-jb%22%2C%20%22index%22%3A%20%224460%22%7D%2C%20%7B%22modelId%22%3A%20%22gpt2-small%22%2C%20%22layer%22%3A%20%229-res-jb%22%2C%20%22index%22%3A%20%2213857%22%7D%2C%20%7B%22modelId%22%3A%20%22gpt2-small%22%2C%20%22layer%22%3A%20%229-res-jb%22%2C%20%22index%22%3A%20%226316%22%7D%2C%20%7B%22modelId%22%3A%20%22gpt2-small%22%2C%20%22layer%22%3A%20%229-res-jb%22%2C%20%22index%22%3A%20%2217855%22%7D%2C%20%7B%22modelId%22%3A%20%22gpt2-small%22%2C%20%22layer%22%3A%20%229-res-jb%22%2C%20%22index%22%3A%20%2219411%22%7D%5D\n",
      "https://neuronpedia.org/quick-list/?name=RRLLLLRLRRRLLLRRRRRRRRR&features=%5B%7B%22modelId%22%3A%20%22gpt2-small%22%2C%20%22layer%22%3A%20%229-res-jb%22%2C%20%22index%22%3A%20%224028%22%7D%2C%20%7B%22modelId%22%3A%20%22gpt2-small%22%2C%20%22layer%22%3A%20%229-res-jb%22%2C%20%22index%22%3A%20%226647%22%7D%2C%20%7B%22modelId%22%3A%20%22gpt2-small%22%2C%20%22layer%22%3A%20%229-res-jb%22%2C%20%22index%22%3A%20%2220875%22%7D%5D\n",
      "https://neuronpedia.org/quick-list/?name=RRLRRRRRLRRRRRRRLLR&features=%5B%7B%22modelId%22%3A%20%22gpt2-small%22%2C%20%22layer%22%3A%20%229-res-jb%22%2C%20%22index%22%3A%20%223212%22%7D%2C%20%7B%22modelId%22%3A%20%22gpt2-small%22%2C%20%22layer%22%3A%20%229-res-jb%22%2C%20%22index%22%3A%20%228444%22%7D%2C%20%7B%22modelId%22%3A%20%22gpt2-small%22%2C%20%22layer%22%3A%20%229-res-jb%22%2C%20%22index%22%3A%20%22916%22%7D%2C%20%7B%22modelId%22%3A%20%22gpt2-small%22%2C%20%22layer%22%3A%20%229-res-jb%22%2C%20%22index%22%3A%20%2221141%22%7D%2C%20%7B%22modelId%22%3A%20%22gpt2-small%22%2C%20%22layer%22%3A%20%229-res-jb%22%2C%20%22index%22%3A%20%222029%22%7D%2C%20%7B%22modelId%22%3A%20%22gpt2-small%22%2C%20%22layer%22%3A%20%229-res-jb%22%2C%20%22index%22%3A%20%226631%22%7D%5D\n",
      "https://neuronpedia.org/quick-list/?name=RRRLRRRLLLRRRRR&features=%5B%7B%22modelId%22%3A%20%22gpt2-small%22%2C%20%22layer%22%3A%20%229-res-jb%22%2C%20%22index%22%3A%20%22633%22%7D%2C%20%7B%22modelId%22%3A%20%22gpt2-small%22%2C%20%22layer%22%3A%20%229-res-jb%22%2C%20%22index%22%3A%20%225502%22%7D%2C%20%7B%22modelId%22%3A%20%22gpt2-small%22%2C%20%22layer%22%3A%20%229-res-jb%22%2C%20%22index%22%3A%20%2212995%22%7D%5D\n"
     ]
    }
   ],
   "source": [
    "#@title Run feature clustering for all filtered features\n",
    "\n",
    "clustered_features = set()\n",
    "\n",
    "layer = LAYER\n",
    "height = 2\n",
    "setting = 'average'\n",
    "\n",
    "for feature in filtered_feature_set:\n",
    "  clustered_feats = build_cluster(\n",
    "    layer=layer,\n",
    "    feature_id=feature,\n",
    "    height=height,\n",
    "    setting=setting,\n",
    "    verbose=False\n",
    "  )\n",
    "\n",
    "  clustered_features.update(clustered_feats)"
   ]
  },
  {
   "cell_type": "code",
   "execution_count": 105,
   "metadata": {
    "cellView": "form",
    "colab": {
     "base_uri": "https://localhost:8080/",
     "height": 229
    },
    "executionInfo": {
     "elapsed": 6,
     "status": "ok",
     "timestamp": 1720660881910,
     "user": {
      "displayName": "Jason L",
      "userId": "08424561876455739258"
     },
     "user_tz": 240
    },
    "id": "mvEoisQe5oet",
    "outputId": "ca1720cb-4c82-4722-958a-ea60fd3f2f2c"
   },
   "outputs": [
    {
     "name": "stdout",
     "output_type": "stream",
     "text": [
      "Number of clustered features:  121\n",
      "{4612, 18949, 14854, 8198, 14856, 12311, 22041, 13857, 13862, 24110, 12343, 9783, 9789, 3647, 15423, 7238, 78, 4176, 21585, 3665, 15443, 14940, 24159, 11877, 11878, 23662, 633, 23676, 20613, 3212, 10388, 21141, 19092, 2710, 14497, 18594, 1189, 6316, 22197, 17591, 696, 14007, 20152, 10428, 2241, 23747, 12995, 20168, 8405, 24279, 17632, 16611, 17129, 17647, 21744, 3315, 8444, 24322, 5381, 6919, 15113, 8975, 11536, 13086, 22309, 24358, 18739, 17209, 14138, 1346, 14156, 2381, 1871, 16219, 11611, 16736, 24423, 21864, 19303, 12138, 17770, 4460, 21871, 14199, 1400, 21369, 5502, 1919, 19335, 7562, 17803, 20875, 5011, 916, 8094, 17312, 6049, 1443, 8613, 6055, 14765, 23471, 12210, 12212, 4028, 2494, 17855, 19906, 12745, 23498, 2505, 11213, 19411, 9185, 6631, 7656, 2029, 4079, 22003, 6647, 23036}\n",
      "Number of new features found:  95\n",
      "https://neuronpedia.org/quick-list/?name=temporary_list&features=%5B%7B%22modelId%22%3A%20%22gpt2-small%22%2C%20%22layer%22%3A%20%229-res-jb%22%2C%20%22index%22%3A%20%224612%22%7D%2C%20%7B%22modelId%22%3A%20%22gpt2-small%22%2C%20%22layer%22%3A%20%229-res-jb%22%2C%20%22index%22%3A%20%2218949%22%7D%2C%20%7B%22modelId%22%3A%20%22gpt2-small%22%2C%20%22layer%22%3A%20%229-res-jb%22%2C%20%22index%22%3A%20%2214854%22%7D%2C%20%7B%22modelId%22%3A%20%22gpt2-small%22%2C%20%22layer%22%3A%20%229-res-jb%22%2C%20%22index%22%3A%20%228198%22%7D%2C%20%7B%22modelId%22%3A%20%22gpt2-small%22%2C%20%22layer%22%3A%20%229-res-jb%22%2C%20%22index%22%3A%20%2214856%22%7D%2C%20%7B%22modelId%22%3A%20%22gpt2-small%22%2C%20%22layer%22%3A%20%229-res-jb%22%2C%20%22index%22%3A%20%2212311%22%7D%2C%20%7B%22modelId%22%3A%20%22gpt2-small%22%2C%20%22layer%22%3A%20%229-res-jb%22%2C%20%22index%22%3A%20%2222041%22%7D%2C%20%7B%22modelId%22%3A%20%22gpt2-small%22%2C%20%22layer%22%3A%20%229-res-jb%22%2C%20%22index%22%3A%20%2213857%22%7D%2C%20%7B%22modelId%22%3A%20%22gpt2-small%22%2C%20%22layer%22%3A%20%229-res-jb%22%2C%20%22index%22%3A%20%2213862%22%7D%2C%20%7B%22modelId%22%3A%20%22gpt2-small%22%2C%20%22layer%22%3A%20%229-res-jb%22%2C%20%22index%22%3A%20%2224110%22%7D%2C%20%7B%22modelId%22%3A%20%22gpt2-small%22%2C%20%22layer%22%3A%20%229-res-jb%22%2C%20%22index%22%3A%20%2212343%22%7D%2C%20%7B%22modelId%22%3A%20%22gpt2-small%22%2C%20%22layer%22%3A%20%229-res-jb%22%2C%20%22index%22%3A%20%229783%22%7D%2C%20%7B%22modelId%22%3A%20%22gpt2-small%22%2C%20%22layer%22%3A%20%229-res-jb%22%2C%20%22index%22%3A%20%229789%22%7D%2C%20%7B%22modelId%22%3A%20%22gpt2-small%22%2C%20%22layer%22%3A%20%229-res-jb%22%2C%20%22index%22%3A%20%223647%22%7D%2C%20%7B%22modelId%22%3A%20%22gpt2-small%22%2C%20%22layer%22%3A%20%229-res-jb%22%2C%20%22index%22%3A%20%2215423%22%7D%2C%20%7B%22modelId%22%3A%20%22gpt2-small%22%2C%20%22layer%22%3A%20%229-res-jb%22%2C%20%22index%22%3A%20%227238%22%7D%2C%20%7B%22modelId%22%3A%20%22gpt2-small%22%2C%20%22layer%22%3A%20%229-res-jb%22%2C%20%22index%22%3A%20%2278%22%7D%2C%20%7B%22modelId%22%3A%20%22gpt2-small%22%2C%20%22layer%22%3A%20%229-res-jb%22%2C%20%22index%22%3A%20%224176%22%7D%2C%20%7B%22modelId%22%3A%20%22gpt2-small%22%2C%20%22layer%22%3A%20%229-res-jb%22%2C%20%22index%22%3A%20%2221585%22%7D%2C%20%7B%22modelId%22%3A%20%22gpt2-small%22%2C%20%22layer%22%3A%20%229-res-jb%22%2C%20%22index%22%3A%20%223665%22%7D%2C%20%7B%22modelId%22%3A%20%22gpt2-small%22%2C%20%22layer%22%3A%20%229-res-jb%22%2C%20%22index%22%3A%20%2215443%22%7D%2C%20%7B%22modelId%22%3A%20%22gpt2-small%22%2C%20%22layer%22%3A%20%229-res-jb%22%2C%20%22index%22%3A%20%2214940%22%7D%2C%20%7B%22modelId%22%3A%20%22gpt2-small%22%2C%20%22layer%22%3A%20%229-res-jb%22%2C%20%22index%22%3A%20%2224159%22%7D%2C%20%7B%22modelId%22%3A%20%22gpt2-small%22%2C%20%22layer%22%3A%20%229-res-jb%22%2C%20%22index%22%3A%20%2211877%22%7D%2C%20%7B%22modelId%22%3A%20%22gpt2-small%22%2C%20%22layer%22%3A%20%229-res-jb%22%2C%20%22index%22%3A%20%2211878%22%7D%2C%20%7B%22modelId%22%3A%20%22gpt2-small%22%2C%20%22layer%22%3A%20%229-res-jb%22%2C%20%22index%22%3A%20%2223662%22%7D%2C%20%7B%22modelId%22%3A%20%22gpt2-small%22%2C%20%22layer%22%3A%20%229-res-jb%22%2C%20%22index%22%3A%20%22633%22%7D%2C%20%7B%22modelId%22%3A%20%22gpt2-small%22%2C%20%22layer%22%3A%20%229-res-jb%22%2C%20%22index%22%3A%20%2223676%22%7D%2C%20%7B%22modelId%22%3A%20%22gpt2-small%22%2C%20%22layer%22%3A%20%229-res-jb%22%2C%20%22index%22%3A%20%2220613%22%7D%2C%20%7B%22modelId%22%3A%20%22gpt2-small%22%2C%20%22layer%22%3A%20%229-res-jb%22%2C%20%22index%22%3A%20%223212%22%7D%2C%20%7B%22modelId%22%3A%20%22gpt2-small%22%2C%20%22layer%22%3A%20%229-res-jb%22%2C%20%22index%22%3A%20%2210388%22%7D%2C%20%7B%22modelId%22%3A%20%22gpt2-small%22%2C%20%22layer%22%3A%20%229-res-jb%22%2C%20%22index%22%3A%20%2221141%22%7D%2C%20%7B%22modelId%22%3A%20%22gpt2-small%22%2C%20%22layer%22%3A%20%229-res-jb%22%2C%20%22index%22%3A%20%2219092%22%7D%2C%20%7B%22modelId%22%3A%20%22gpt2-small%22%2C%20%22layer%22%3A%20%229-res-jb%22%2C%20%22index%22%3A%20%222710%22%7D%2C%20%7B%22modelId%22%3A%20%22gpt2-small%22%2C%20%22layer%22%3A%20%229-res-jb%22%2C%20%22index%22%3A%20%2214497%22%7D%2C%20%7B%22modelId%22%3A%20%22gpt2-small%22%2C%20%22layer%22%3A%20%229-res-jb%22%2C%20%22index%22%3A%20%2218594%22%7D%2C%20%7B%22modelId%22%3A%20%22gpt2-small%22%2C%20%22layer%22%3A%20%229-res-jb%22%2C%20%22index%22%3A%20%221189%22%7D%2C%20%7B%22modelId%22%3A%20%22gpt2-small%22%2C%20%22layer%22%3A%20%229-res-jb%22%2C%20%22index%22%3A%20%226316%22%7D%2C%20%7B%22modelId%22%3A%20%22gpt2-small%22%2C%20%22layer%22%3A%20%229-res-jb%22%2C%20%22index%22%3A%20%2222197%22%7D%2C%20%7B%22modelId%22%3A%20%22gpt2-small%22%2C%20%22layer%22%3A%20%229-res-jb%22%2C%20%22index%22%3A%20%2217591%22%7D%2C%20%7B%22modelId%22%3A%20%22gpt2-small%22%2C%20%22layer%22%3A%20%229-res-jb%22%2C%20%22index%22%3A%20%22696%22%7D%2C%20%7B%22modelId%22%3A%20%22gpt2-small%22%2C%20%22layer%22%3A%20%229-res-jb%22%2C%20%22index%22%3A%20%2214007%22%7D%2C%20%7B%22modelId%22%3A%20%22gpt2-small%22%2C%20%22layer%22%3A%20%229-res-jb%22%2C%20%22index%22%3A%20%2220152%22%7D%2C%20%7B%22modelId%22%3A%20%22gpt2-small%22%2C%20%22layer%22%3A%20%229-res-jb%22%2C%20%22index%22%3A%20%2210428%22%7D%2C%20%7B%22modelId%22%3A%20%22gpt2-small%22%2C%20%22layer%22%3A%20%229-res-jb%22%2C%20%22index%22%3A%20%222241%22%7D%2C%20%7B%22modelId%22%3A%20%22gpt2-small%22%2C%20%22layer%22%3A%20%229-res-jb%22%2C%20%22index%22%3A%20%2223747%22%7D%2C%20%7B%22modelId%22%3A%20%22gpt2-small%22%2C%20%22layer%22%3A%20%229-res-jb%22%2C%20%22index%22%3A%20%2212995%22%7D%2C%20%7B%22modelId%22%3A%20%22gpt2-small%22%2C%20%22layer%22%3A%20%229-res-jb%22%2C%20%22index%22%3A%20%2220168%22%7D%2C%20%7B%22modelId%22%3A%20%22gpt2-small%22%2C%20%22layer%22%3A%20%229-res-jb%22%2C%20%22index%22%3A%20%228405%22%7D%2C%20%7B%22modelId%22%3A%20%22gpt2-small%22%2C%20%22layer%22%3A%20%229-res-jb%22%2C%20%22index%22%3A%20%2224279%22%7D%2C%20%7B%22modelId%22%3A%20%22gpt2-small%22%2C%20%22layer%22%3A%20%229-res-jb%22%2C%20%22index%22%3A%20%2217632%22%7D%2C%20%7B%22modelId%22%3A%20%22gpt2-small%22%2C%20%22layer%22%3A%20%229-res-jb%22%2C%20%22index%22%3A%20%2216611%22%7D%2C%20%7B%22modelId%22%3A%20%22gpt2-small%22%2C%20%22layer%22%3A%20%229-res-jb%22%2C%20%22index%22%3A%20%2217129%22%7D%2C%20%7B%22modelId%22%3A%20%22gpt2-small%22%2C%20%22layer%22%3A%20%229-res-jb%22%2C%20%22index%22%3A%20%2217647%22%7D%2C%20%7B%22modelId%22%3A%20%22gpt2-small%22%2C%20%22layer%22%3A%20%229-res-jb%22%2C%20%22index%22%3A%20%2221744%22%7D%2C%20%7B%22modelId%22%3A%20%22gpt2-small%22%2C%20%22layer%22%3A%20%229-res-jb%22%2C%20%22index%22%3A%20%223315%22%7D%2C%20%7B%22modelId%22%3A%20%22gpt2-small%22%2C%20%22layer%22%3A%20%229-res-jb%22%2C%20%22index%22%3A%20%228444%22%7D%2C%20%7B%22modelId%22%3A%20%22gpt2-small%22%2C%20%22layer%22%3A%20%229-res-jb%22%2C%20%22index%22%3A%20%2224322%22%7D%2C%20%7B%22modelId%22%3A%20%22gpt2-small%22%2C%20%22layer%22%3A%20%229-res-jb%22%2C%20%22index%22%3A%20%225381%22%7D%2C%20%7B%22modelId%22%3A%20%22gpt2-small%22%2C%20%22layer%22%3A%20%229-res-jb%22%2C%20%22index%22%3A%20%226919%22%7D%2C%20%7B%22modelId%22%3A%20%22gpt2-small%22%2C%20%22layer%22%3A%20%229-res-jb%22%2C%20%22index%22%3A%20%2215113%22%7D%2C%20%7B%22modelId%22%3A%20%22gpt2-small%22%2C%20%22layer%22%3A%20%229-res-jb%22%2C%20%22index%22%3A%20%228975%22%7D%2C%20%7B%22modelId%22%3A%20%22gpt2-small%22%2C%20%22layer%22%3A%20%229-res-jb%22%2C%20%22index%22%3A%20%2211536%22%7D%2C%20%7B%22modelId%22%3A%20%22gpt2-small%22%2C%20%22layer%22%3A%20%229-res-jb%22%2C%20%22index%22%3A%20%2213086%22%7D%2C%20%7B%22modelId%22%3A%20%22gpt2-small%22%2C%20%22layer%22%3A%20%229-res-jb%22%2C%20%22index%22%3A%20%2222309%22%7D%2C%20%7B%22modelId%22%3A%20%22gpt2-small%22%2C%20%22layer%22%3A%20%229-res-jb%22%2C%20%22index%22%3A%20%2224358%22%7D%2C%20%7B%22modelId%22%3A%20%22gpt2-small%22%2C%20%22layer%22%3A%20%229-res-jb%22%2C%20%22index%22%3A%20%2218739%22%7D%2C%20%7B%22modelId%22%3A%20%22gpt2-small%22%2C%20%22layer%22%3A%20%229-res-jb%22%2C%20%22index%22%3A%20%2217209%22%7D%2C%20%7B%22modelId%22%3A%20%22gpt2-small%22%2C%20%22layer%22%3A%20%229-res-jb%22%2C%20%22index%22%3A%20%2214138%22%7D%2C%20%7B%22modelId%22%3A%20%22gpt2-small%22%2C%20%22layer%22%3A%20%229-res-jb%22%2C%20%22index%22%3A%20%221346%22%7D%2C%20%7B%22modelId%22%3A%20%22gpt2-small%22%2C%20%22layer%22%3A%20%229-res-jb%22%2C%20%22index%22%3A%20%2214156%22%7D%2C%20%7B%22modelId%22%3A%20%22gpt2-small%22%2C%20%22layer%22%3A%20%229-res-jb%22%2C%20%22index%22%3A%20%222381%22%7D%2C%20%7B%22modelId%22%3A%20%22gpt2-small%22%2C%20%22layer%22%3A%20%229-res-jb%22%2C%20%22index%22%3A%20%221871%22%7D%2C%20%7B%22modelId%22%3A%20%22gpt2-small%22%2C%20%22layer%22%3A%20%229-res-jb%22%2C%20%22index%22%3A%20%2216219%22%7D%2C%20%7B%22modelId%22%3A%20%22gpt2-small%22%2C%20%22layer%22%3A%20%229-res-jb%22%2C%20%22index%22%3A%20%2211611%22%7D%2C%20%7B%22modelId%22%3A%20%22gpt2-small%22%2C%20%22layer%22%3A%20%229-res-jb%22%2C%20%22index%22%3A%20%2216736%22%7D%2C%20%7B%22modelId%22%3A%20%22gpt2-small%22%2C%20%22layer%22%3A%20%229-res-jb%22%2C%20%22index%22%3A%20%2224423%22%7D%2C%20%7B%22modelId%22%3A%20%22gpt2-small%22%2C%20%22layer%22%3A%20%229-res-jb%22%2C%20%22index%22%3A%20%2221864%22%7D%2C%20%7B%22modelId%22%3A%20%22gpt2-small%22%2C%20%22layer%22%3A%20%229-res-jb%22%2C%20%22index%22%3A%20%2219303%22%7D%2C%20%7B%22modelId%22%3A%20%22gpt2-small%22%2C%20%22layer%22%3A%20%229-res-jb%22%2C%20%22index%22%3A%20%2212138%22%7D%2C%20%7B%22modelId%22%3A%20%22gpt2-small%22%2C%20%22layer%22%3A%20%229-res-jb%22%2C%20%22index%22%3A%20%2217770%22%7D%2C%20%7B%22modelId%22%3A%20%22gpt2-small%22%2C%20%22layer%22%3A%20%229-res-jb%22%2C%20%22index%22%3A%20%224460%22%7D%2C%20%7B%22modelId%22%3A%20%22gpt2-small%22%2C%20%22layer%22%3A%20%229-res-jb%22%2C%20%22index%22%3A%20%2221871%22%7D%2C%20%7B%22modelId%22%3A%20%22gpt2-small%22%2C%20%22layer%22%3A%20%229-res-jb%22%2C%20%22index%22%3A%20%2214199%22%7D%2C%20%7B%22modelId%22%3A%20%22gpt2-small%22%2C%20%22layer%22%3A%20%229-res-jb%22%2C%20%22index%22%3A%20%221400%22%7D%2C%20%7B%22modelId%22%3A%20%22gpt2-small%22%2C%20%22layer%22%3A%20%229-res-jb%22%2C%20%22index%22%3A%20%2221369%22%7D%2C%20%7B%22modelId%22%3A%20%22gpt2-small%22%2C%20%22layer%22%3A%20%229-res-jb%22%2C%20%22index%22%3A%20%225502%22%7D%2C%20%7B%22modelId%22%3A%20%22gpt2-small%22%2C%20%22layer%22%3A%20%229-res-jb%22%2C%20%22index%22%3A%20%221919%22%7D%2C%20%7B%22modelId%22%3A%20%22gpt2-small%22%2C%20%22layer%22%3A%20%229-res-jb%22%2C%20%22index%22%3A%20%2219335%22%7D%2C%20%7B%22modelId%22%3A%20%22gpt2-small%22%2C%20%22layer%22%3A%20%229-res-jb%22%2C%20%22index%22%3A%20%227562%22%7D%2C%20%7B%22modelId%22%3A%20%22gpt2-small%22%2C%20%22layer%22%3A%20%229-res-jb%22%2C%20%22index%22%3A%20%2217803%22%7D%2C%20%7B%22modelId%22%3A%20%22gpt2-small%22%2C%20%22layer%22%3A%20%229-res-jb%22%2C%20%22index%22%3A%20%2220875%22%7D%2C%20%7B%22modelId%22%3A%20%22gpt2-small%22%2C%20%22layer%22%3A%20%229-res-jb%22%2C%20%22index%22%3A%20%225011%22%7D%2C%20%7B%22modelId%22%3A%20%22gpt2-small%22%2C%20%22layer%22%3A%20%229-res-jb%22%2C%20%22index%22%3A%20%22916%22%7D%2C%20%7B%22modelId%22%3A%20%22gpt2-small%22%2C%20%22layer%22%3A%20%229-res-jb%22%2C%20%22index%22%3A%20%228094%22%7D%2C%20%7B%22modelId%22%3A%20%22gpt2-small%22%2C%20%22layer%22%3A%20%229-res-jb%22%2C%20%22index%22%3A%20%2217312%22%7D%2C%20%7B%22modelId%22%3A%20%22gpt2-small%22%2C%20%22layer%22%3A%20%229-res-jb%22%2C%20%22index%22%3A%20%226049%22%7D%2C%20%7B%22modelId%22%3A%20%22gpt2-small%22%2C%20%22layer%22%3A%20%229-res-jb%22%2C%20%22index%22%3A%20%221443%22%7D%2C%20%7B%22modelId%22%3A%20%22gpt2-small%22%2C%20%22layer%22%3A%20%229-res-jb%22%2C%20%22index%22%3A%20%228613%22%7D%2C%20%7B%22modelId%22%3A%20%22gpt2-small%22%2C%20%22layer%22%3A%20%229-res-jb%22%2C%20%22index%22%3A%20%226055%22%7D%2C%20%7B%22modelId%22%3A%20%22gpt2-small%22%2C%20%22layer%22%3A%20%229-res-jb%22%2C%20%22index%22%3A%20%2214765%22%7D%2C%20%7B%22modelId%22%3A%20%22gpt2-small%22%2C%20%22layer%22%3A%20%229-res-jb%22%2C%20%22index%22%3A%20%2223471%22%7D%2C%20%7B%22modelId%22%3A%20%22gpt2-small%22%2C%20%22layer%22%3A%20%229-res-jb%22%2C%20%22index%22%3A%20%2212210%22%7D%2C%20%7B%22modelId%22%3A%20%22gpt2-small%22%2C%20%22layer%22%3A%20%229-res-jb%22%2C%20%22index%22%3A%20%2212212%22%7D%2C%20%7B%22modelId%22%3A%20%22gpt2-small%22%2C%20%22layer%22%3A%20%229-res-jb%22%2C%20%22index%22%3A%20%224028%22%7D%2C%20%7B%22modelId%22%3A%20%22gpt2-small%22%2C%20%22layer%22%3A%20%229-res-jb%22%2C%20%22index%22%3A%20%222494%22%7D%2C%20%7B%22modelId%22%3A%20%22gpt2-small%22%2C%20%22layer%22%3A%20%229-res-jb%22%2C%20%22index%22%3A%20%2217855%22%7D%2C%20%7B%22modelId%22%3A%20%22gpt2-small%22%2C%20%22layer%22%3A%20%229-res-jb%22%2C%20%22index%22%3A%20%2219906%22%7D%2C%20%7B%22modelId%22%3A%20%22gpt2-small%22%2C%20%22layer%22%3A%20%229-res-jb%22%2C%20%22index%22%3A%20%2212745%22%7D%2C%20%7B%22modelId%22%3A%20%22gpt2-small%22%2C%20%22layer%22%3A%20%229-res-jb%22%2C%20%22index%22%3A%20%2223498%22%7D%2C%20%7B%22modelId%22%3A%20%22gpt2-small%22%2C%20%22layer%22%3A%20%229-res-jb%22%2C%20%22index%22%3A%20%222505%22%7D%2C%20%7B%22modelId%22%3A%20%22gpt2-small%22%2C%20%22layer%22%3A%20%229-res-jb%22%2C%20%22index%22%3A%20%2211213%22%7D%2C%20%7B%22modelId%22%3A%20%22gpt2-small%22%2C%20%22layer%22%3A%20%229-res-jb%22%2C%20%22index%22%3A%20%2219411%22%7D%2C%20%7B%22modelId%22%3A%20%22gpt2-small%22%2C%20%22layer%22%3A%20%229-res-jb%22%2C%20%22index%22%3A%20%229185%22%7D%2C%20%7B%22modelId%22%3A%20%22gpt2-small%22%2C%20%22layer%22%3A%20%229-res-jb%22%2C%20%22index%22%3A%20%226631%22%7D%2C%20%7B%22modelId%22%3A%20%22gpt2-small%22%2C%20%22layer%22%3A%20%229-res-jb%22%2C%20%22index%22%3A%20%227656%22%7D%2C%20%7B%22modelId%22%3A%20%22gpt2-small%22%2C%20%22layer%22%3A%20%229-res-jb%22%2C%20%22index%22%3A%20%222029%22%7D%2C%20%7B%22modelId%22%3A%20%22gpt2-small%22%2C%20%22layer%22%3A%20%229-res-jb%22%2C%20%22index%22%3A%20%224079%22%7D%2C%20%7B%22modelId%22%3A%20%22gpt2-small%22%2C%20%22layer%22%3A%20%229-res-jb%22%2C%20%22index%22%3A%20%2222003%22%7D%2C%20%7B%22modelId%22%3A%20%22gpt2-small%22%2C%20%22layer%22%3A%20%229-res-jb%22%2C%20%22index%22%3A%20%226647%22%7D%2C%20%7B%22modelId%22%3A%20%22gpt2-small%22%2C%20%22layer%22%3A%20%229-res-jb%22%2C%20%22index%22%3A%20%2223036%22%7D%5D\n"
     ]
    },
    {
     "data": {
      "text/plain": [
       "'https://neuronpedia.org/quick-list/?name=temporary_list&features=%5B%7B%22modelId%22%3A%20%22gpt2-small%22%2C%20%22layer%22%3A%20%229-res-jb%22%2C%20%22index%22%3A%20%224612%22%7D%2C%20%7B%22modelId%22%3A%20%22gpt2-small%22%2C%20%22layer%22%3A%20%229-res-jb%22%2C%20%22index%22%3A%20%2218949%22%7D%2C%20%7B%22modelId%22%3A%20%22gpt2-small%22%2C%20%22layer%22%3A%20%229-res-jb%22%2C%20%22index%22%3A%20%2214854%22%7D%2C%20%7B%22modelId%22%3A%20%22gpt2-small%22%2C%20%22layer%22%3A%20%229-res-jb%22%2C%20%22index%22%3A%20%228198%22%7D%2C%20%7B%22modelId%22%3A%20%22gpt2-small%22%2C%20%22layer%22%3A%20%229-res-jb%22%2C%20%22index%22%3A%20%2214856%22%7D%2C%20%7B%22modelId%22%3A%20%22gpt2-small%22%2C%20%22layer%22%3A%20%229-res-jb%22%2C%20%22index%22%3A%20%2212311%22%7D%2C%20%7B%22modelId%22%3A%20%22gpt2-small%22%2C%20%22layer%22%3A%20%229-res-jb%22%2C%20%22index%22%3A%20%2222041%22%7D%2C%20%7B%22modelId%22%3A%20%22gpt2-small%22%2C%20%22layer%22%3A%20%229-res-jb%22%2C%20%22index%22%3A%20%2213857%22%7D%2C%20%7B%22modelId%22%3A%20%22gpt2-small%22%2C%20%22layer%22%3A%20%229-res-jb%22%2C%20%22index%22%3A%20%2213862%22%7D%2C%20%7B%22modelId%22%3A%20%22gpt2-small%22%2C%20%22layer%22%3A%20%229-res-jb%22%2C%20%22index%22%3A%20%2224110%22%7D%2C%20%7B%22modelId%22%3A%20%22gpt2-small%22%2C%20%22layer%22%3A%20%229-res-jb%22%2C%20%22index%22%3A%20%2212343%22%7D%2C%20%7B%22modelId%22%3A%20%22gpt2-small%22%2C%20%22layer%22%3A%20%229-res-jb%22%2C%20%22index%22%3A%20%229783%22%7D%2C%20%7B%22modelId%22%3A%20%22gpt2-small%22%2C%20%22layer%22%3A%20%229-res-jb%22%2C%20%22index%22%3A%20%229789%22%7D%2C%20%7B%22modelId%22%3A%20%22gpt2-small%22%2C%20%22layer%22%3A%20%229-res-jb%22%2C%20%22index%22%3A%20%223647%22%7D%2C%20%7B%22modelId%22%3A%20%22gpt2-small%22%2C%20%22layer%22%3A%20%229-res-jb%22%2C%20%22index%22%3A%20%2215423%22%7D%2C%20%7B%22modelId%22%3A%20%22gpt2-small%22%2C%20%22layer%22%3A%20%229-res-jb%22%2C%20%22index%22%3A%20%227238%22%7D%2C%20%7B%22modelId%22%3A%20%22gpt2-small%22%2C%20%22layer%22%3A%20%229-res-jb%22%2C%20%22index%22%3A%20%2278%22%7D%2C%20%7B%22modelId%22%3A%20%22gpt2-small%22%2C%20%22layer%22%3A%20%229-res-jb%22%2C%20%22index%22%3A%20%224176%22%7D%2C%20%7B%22modelId%22%3A%20%22gpt2-small%22%2C%20%22layer%22%3A%20%229-res-jb%22%2C%20%22index%22%3A%20%2221585%22%7D%2C%20%7B%22modelId%22%3A%20%22gpt2-small%22%2C%20%22layer%22%3A%20%229-res-jb%22%2C%20%22index%22%3A%20%223665%22%7D%2C%20%7B%22modelId%22%3A%20%22gpt2-small%22%2C%20%22layer%22%3A%20%229-res-jb%22%2C%20%22index%22%3A%20%2215443%22%7D%2C%20%7B%22modelId%22%3A%20%22gpt2-small%22%2C%20%22layer%22%3A%20%229-res-jb%22%2C%20%22index%22%3A%20%2214940%22%7D%2C%20%7B%22modelId%22%3A%20%22gpt2-small%22%2C%20%22layer%22%3A%20%229-res-jb%22%2C%20%22index%22%3A%20%2224159%22%7D%2C%20%7B%22modelId%22%3A%20%22gpt2-small%22%2C%20%22layer%22%3A%20%229-res-jb%22%2C%20%22index%22%3A%20%2211877%22%7D%2C%20%7B%22modelId%22%3A%20%22gpt2-small%22%2C%20%22layer%22%3A%20%229-res-jb%22%2C%20%22index%22%3A%20%2211878%22%7D%2C%20%7B%22modelId%22%3A%20%22gpt2-small%22%2C%20%22layer%22%3A%20%229-res-jb%22%2C%20%22index%22%3A%20%2223662%22%7D%2C%20%7B%22modelId%22%3A%20%22gpt2-small%22%2C%20%22layer%22%3A%20%229-res-jb%22%2C%20%22index%22%3A%20%22633%22%7D%2C%20%7B%22modelId%22%3A%20%22gpt2-small%22%2C%20%22layer%22%3A%20%229-res-jb%22%2C%20%22index%22%3A%20%2223676%22%7D%2C%20%7B%22modelId%22%3A%20%22gpt2-small%22%2C%20%22layer%22%3A%20%229-res-jb%22%2C%20%22index%22%3A%20%2220613%22%7D%2C%20%7B%22modelId%22%3A%20%22gpt2-small%22%2C%20%22layer%22%3A%20%229-res-jb%22%2C%20%22index%22%3A%20%223212%22%7D%2C%20%7B%22modelId%22%3A%20%22gpt2-small%22%2C%20%22layer%22%3A%20%229-res-jb%22%2C%20%22index%22%3A%20%2210388%22%7D%2C%20%7B%22modelId%22%3A%20%22gpt2-small%22%2C%20%22layer%22%3A%20%229-res-jb%22%2C%20%22index%22%3A%20%2221141%22%7D%2C%20%7B%22modelId%22%3A%20%22gpt2-small%22%2C%20%22layer%22%3A%20%229-res-jb%22%2C%20%22index%22%3A%20%2219092%22%7D%2C%20%7B%22modelId%22%3A%20%22gpt2-small%22%2C%20%22layer%22%3A%20%229-res-jb%22%2C%20%22index%22%3A%20%222710%22%7D%2C%20%7B%22modelId%22%3A%20%22gpt2-small%22%2C%20%22layer%22%3A%20%229-res-jb%22%2C%20%22index%22%3A%20%2214497%22%7D%2C%20%7B%22modelId%22%3A%20%22gpt2-small%22%2C%20%22layer%22%3A%20%229-res-jb%22%2C%20%22index%22%3A%20%2218594%22%7D%2C%20%7B%22modelId%22%3A%20%22gpt2-small%22%2C%20%22layer%22%3A%20%229-res-jb%22%2C%20%22index%22%3A%20%221189%22%7D%2C%20%7B%22modelId%22%3A%20%22gpt2-small%22%2C%20%22layer%22%3A%20%229-res-jb%22%2C%20%22index%22%3A%20%226316%22%7D%2C%20%7B%22modelId%22%3A%20%22gpt2-small%22%2C%20%22layer%22%3A%20%229-res-jb%22%2C%20%22index%22%3A%20%2222197%22%7D%2C%20%7B%22modelId%22%3A%20%22gpt2-small%22%2C%20%22layer%22%3A%20%229-res-jb%22%2C%20%22index%22%3A%20%2217591%22%7D%2C%20%7B%22modelId%22%3A%20%22gpt2-small%22%2C%20%22layer%22%3A%20%229-res-jb%22%2C%20%22index%22%3A%20%22696%22%7D%2C%20%7B%22modelId%22%3A%20%22gpt2-small%22%2C%20%22layer%22%3A%20%229-res-jb%22%2C%20%22index%22%3A%20%2214007%22%7D%2C%20%7B%22modelId%22%3A%20%22gpt2-small%22%2C%20%22layer%22%3A%20%229-res-jb%22%2C%20%22index%22%3A%20%2220152%22%7D%2C%20%7B%22modelId%22%3A%20%22gpt2-small%22%2C%20%22layer%22%3A%20%229-res-jb%22%2C%20%22index%22%3A%20%2210428%22%7D%2C%20%7B%22modelId%22%3A%20%22gpt2-small%22%2C%20%22layer%22%3A%20%229-res-jb%22%2C%20%22index%22%3A%20%222241%22%7D%2C%20%7B%22modelId%22%3A%20%22gpt2-small%22%2C%20%22layer%22%3A%20%229-res-jb%22%2C%20%22index%22%3A%20%2223747%22%7D%2C%20%7B%22modelId%22%3A%20%22gpt2-small%22%2C%20%22layer%22%3A%20%229-res-jb%22%2C%20%22index%22%3A%20%2212995%22%7D%2C%20%7B%22modelId%22%3A%20%22gpt2-small%22%2C%20%22layer%22%3A%20%229-res-jb%22%2C%20%22index%22%3A%20%2220168%22%7D%2C%20%7B%22modelId%22%3A%20%22gpt2-small%22%2C%20%22layer%22%3A%20%229-res-jb%22%2C%20%22index%22%3A%20%228405%22%7D%2C%20%7B%22modelId%22%3A%20%22gpt2-small%22%2C%20%22layer%22%3A%20%229-res-jb%22%2C%20%22index%22%3A%20%2224279%22%7D%2C%20%7B%22modelId%22%3A%20%22gpt2-small%22%2C%20%22layer%22%3A%20%229-res-jb%22%2C%20%22index%22%3A%20%2217632%22%7D%2C%20%7B%22modelId%22%3A%20%22gpt2-small%22%2C%20%22layer%22%3A%20%229-res-jb%22%2C%20%22index%22%3A%20%2216611%22%7D%2C%20%7B%22modelId%22%3A%20%22gpt2-small%22%2C%20%22layer%22%3A%20%229-res-jb%22%2C%20%22index%22%3A%20%2217129%22%7D%2C%20%7B%22modelId%22%3A%20%22gpt2-small%22%2C%20%22layer%22%3A%20%229-res-jb%22%2C%20%22index%22%3A%20%2217647%22%7D%2C%20%7B%22modelId%22%3A%20%22gpt2-small%22%2C%20%22layer%22%3A%20%229-res-jb%22%2C%20%22index%22%3A%20%2221744%22%7D%2C%20%7B%22modelId%22%3A%20%22gpt2-small%22%2C%20%22layer%22%3A%20%229-res-jb%22%2C%20%22index%22%3A%20%223315%22%7D%2C%20%7B%22modelId%22%3A%20%22gpt2-small%22%2C%20%22layer%22%3A%20%229-res-jb%22%2C%20%22index%22%3A%20%228444%22%7D%2C%20%7B%22modelId%22%3A%20%22gpt2-small%22%2C%20%22layer%22%3A%20%229-res-jb%22%2C%20%22index%22%3A%20%2224322%22%7D%2C%20%7B%22modelId%22%3A%20%22gpt2-small%22%2C%20%22layer%22%3A%20%229-res-jb%22%2C%20%22index%22%3A%20%225381%22%7D%2C%20%7B%22modelId%22%3A%20%22gpt2-small%22%2C%20%22layer%22%3A%20%229-res-jb%22%2C%20%22index%22%3A%20%226919%22%7D%2C%20%7B%22modelId%22%3A%20%22gpt2-small%22%2C%20%22layer%22%3A%20%229-res-jb%22%2C%20%22index%22%3A%20%2215113%22%7D%2C%20%7B%22modelId%22%3A%20%22gpt2-small%22%2C%20%22layer%22%3A%20%229-res-jb%22%2C%20%22index%22%3A%20%228975%22%7D%2C%20%7B%22modelId%22%3A%20%22gpt2-small%22%2C%20%22layer%22%3A%20%229-res-jb%22%2C%20%22index%22%3A%20%2211536%22%7D%2C%20%7B%22modelId%22%3A%20%22gpt2-small%22%2C%20%22layer%22%3A%20%229-res-jb%22%2C%20%22index%22%3A%20%2213086%22%7D%2C%20%7B%22modelId%22%3A%20%22gpt2-small%22%2C%20%22layer%22%3A%20%229-res-jb%22%2C%20%22index%22%3A%20%2222309%22%7D%2C%20%7B%22modelId%22%3A%20%22gpt2-small%22%2C%20%22layer%22%3A%20%229-res-jb%22%2C%20%22index%22%3A%20%2224358%22%7D%2C%20%7B%22modelId%22%3A%20%22gpt2-small%22%2C%20%22layer%22%3A%20%229-res-jb%22%2C%20%22index%22%3A%20%2218739%22%7D%2C%20%7B%22modelId%22%3A%20%22gpt2-small%22%2C%20%22layer%22%3A%20%229-res-jb%22%2C%20%22index%22%3A%20%2217209%22%7D%2C%20%7B%22modelId%22%3A%20%22gpt2-small%22%2C%20%22layer%22%3A%20%229-res-jb%22%2C%20%22index%22%3A%20%2214138%22%7D%2C%20%7B%22modelId%22%3A%20%22gpt2-small%22%2C%20%22layer%22%3A%20%229-res-jb%22%2C%20%22index%22%3A%20%221346%22%7D%2C%20%7B%22modelId%22%3A%20%22gpt2-small%22%2C%20%22layer%22%3A%20%229-res-jb%22%2C%20%22index%22%3A%20%2214156%22%7D%2C%20%7B%22modelId%22%3A%20%22gpt2-small%22%2C%20%22layer%22%3A%20%229-res-jb%22%2C%20%22index%22%3A%20%222381%22%7D%2C%20%7B%22modelId%22%3A%20%22gpt2-small%22%2C%20%22layer%22%3A%20%229-res-jb%22%2C%20%22index%22%3A%20%221871%22%7D%2C%20%7B%22modelId%22%3A%20%22gpt2-small%22%2C%20%22layer%22%3A%20%229-res-jb%22%2C%20%22index%22%3A%20%2216219%22%7D%2C%20%7B%22modelId%22%3A%20%22gpt2-small%22%2C%20%22layer%22%3A%20%229-res-jb%22%2C%20%22index%22%3A%20%2211611%22%7D%2C%20%7B%22modelId%22%3A%20%22gpt2-small%22%2C%20%22layer%22%3A%20%229-res-jb%22%2C%20%22index%22%3A%20%2216736%22%7D%2C%20%7B%22modelId%22%3A%20%22gpt2-small%22%2C%20%22layer%22%3A%20%229-res-jb%22%2C%20%22index%22%3A%20%2224423%22%7D%2C%20%7B%22modelId%22%3A%20%22gpt2-small%22%2C%20%22layer%22%3A%20%229-res-jb%22%2C%20%22index%22%3A%20%2221864%22%7D%2C%20%7B%22modelId%22%3A%20%22gpt2-small%22%2C%20%22layer%22%3A%20%229-res-jb%22%2C%20%22index%22%3A%20%2219303%22%7D%2C%20%7B%22modelId%22%3A%20%22gpt2-small%22%2C%20%22layer%22%3A%20%229-res-jb%22%2C%20%22index%22%3A%20%2212138%22%7D%2C%20%7B%22modelId%22%3A%20%22gpt2-small%22%2C%20%22layer%22%3A%20%229-res-jb%22%2C%20%22index%22%3A%20%2217770%22%7D%2C%20%7B%22modelId%22%3A%20%22gpt2-small%22%2C%20%22layer%22%3A%20%229-res-jb%22%2C%20%22index%22%3A%20%224460%22%7D%2C%20%7B%22modelId%22%3A%20%22gpt2-small%22%2C%20%22layer%22%3A%20%229-res-jb%22%2C%20%22index%22%3A%20%2221871%22%7D%2C%20%7B%22modelId%22%3A%20%22gpt2-small%22%2C%20%22layer%22%3A%20%229-res-jb%22%2C%20%22index%22%3A%20%2214199%22%7D%2C%20%7B%22modelId%22%3A%20%22gpt2-small%22%2C%20%22layer%22%3A%20%229-res-jb%22%2C%20%22index%22%3A%20%221400%22%7D%2C%20%7B%22modelId%22%3A%20%22gpt2-small%22%2C%20%22layer%22%3A%20%229-res-jb%22%2C%20%22index%22%3A%20%2221369%22%7D%2C%20%7B%22modelId%22%3A%20%22gpt2-small%22%2C%20%22layer%22%3A%20%229-res-jb%22%2C%20%22index%22%3A%20%225502%22%7D%2C%20%7B%22modelId%22%3A%20%22gpt2-small%22%2C%20%22layer%22%3A%20%229-res-jb%22%2C%20%22index%22%3A%20%221919%22%7D%2C%20%7B%22modelId%22%3A%20%22gpt2-small%22%2C%20%22layer%22%3A%20%229-res-jb%22%2C%20%22index%22%3A%20%2219335%22%7D%2C%20%7B%22modelId%22%3A%20%22gpt2-small%22%2C%20%22layer%22%3A%20%229-res-jb%22%2C%20%22index%22%3A%20%227562%22%7D%2C%20%7B%22modelId%22%3A%20%22gpt2-small%22%2C%20%22layer%22%3A%20%229-res-jb%22%2C%20%22index%22%3A%20%2217803%22%7D%2C%20%7B%22modelId%22%3A%20%22gpt2-small%22%2C%20%22layer%22%3A%20%229-res-jb%22%2C%20%22index%22%3A%20%2220875%22%7D%2C%20%7B%22modelId%22%3A%20%22gpt2-small%22%2C%20%22layer%22%3A%20%229-res-jb%22%2C%20%22index%22%3A%20%225011%22%7D%2C%20%7B%22modelId%22%3A%20%22gpt2-small%22%2C%20%22layer%22%3A%20%229-res-jb%22%2C%20%22index%22%3A%20%22916%22%7D%2C%20%7B%22modelId%22%3A%20%22gpt2-small%22%2C%20%22layer%22%3A%20%229-res-jb%22%2C%20%22index%22%3A%20%228094%22%7D%2C%20%7B%22modelId%22%3A%20%22gpt2-small%22%2C%20%22layer%22%3A%20%229-res-jb%22%2C%20%22index%22%3A%20%2217312%22%7D%2C%20%7B%22modelId%22%3A%20%22gpt2-small%22%2C%20%22layer%22%3A%20%229-res-jb%22%2C%20%22index%22%3A%20%226049%22%7D%2C%20%7B%22modelId%22%3A%20%22gpt2-small%22%2C%20%22layer%22%3A%20%229-res-jb%22%2C%20%22index%22%3A%20%221443%22%7D%2C%20%7B%22modelId%22%3A%20%22gpt2-small%22%2C%20%22layer%22%3A%20%229-res-jb%22%2C%20%22index%22%3A%20%228613%22%7D%2C%20%7B%22modelId%22%3A%20%22gpt2-small%22%2C%20%22layer%22%3A%20%229-res-jb%22%2C%20%22index%22%3A%20%226055%22%7D%2C%20%7B%22modelId%22%3A%20%22gpt2-small%22%2C%20%22layer%22%3A%20%229-res-jb%22%2C%20%22index%22%3A%20%2214765%22%7D%2C%20%7B%22modelId%22%3A%20%22gpt2-small%22%2C%20%22layer%22%3A%20%229-res-jb%22%2C%20%22index%22%3A%20%2223471%22%7D%2C%20%7B%22modelId%22%3A%20%22gpt2-small%22%2C%20%22layer%22%3A%20%229-res-jb%22%2C%20%22index%22%3A%20%2212210%22%7D%2C%20%7B%22modelId%22%3A%20%22gpt2-small%22%2C%20%22layer%22%3A%20%229-res-jb%22%2C%20%22index%22%3A%20%2212212%22%7D%2C%20%7B%22modelId%22%3A%20%22gpt2-small%22%2C%20%22layer%22%3A%20%229-res-jb%22%2C%20%22index%22%3A%20%224028%22%7D%2C%20%7B%22modelId%22%3A%20%22gpt2-small%22%2C%20%22layer%22%3A%20%229-res-jb%22%2C%20%22index%22%3A%20%222494%22%7D%2C%20%7B%22modelId%22%3A%20%22gpt2-small%22%2C%20%22layer%22%3A%20%229-res-jb%22%2C%20%22index%22%3A%20%2217855%22%7D%2C%20%7B%22modelId%22%3A%20%22gpt2-small%22%2C%20%22layer%22%3A%20%229-res-jb%22%2C%20%22index%22%3A%20%2219906%22%7D%2C%20%7B%22modelId%22%3A%20%22gpt2-small%22%2C%20%22layer%22%3A%20%229-res-jb%22%2C%20%22index%22%3A%20%2212745%22%7D%2C%20%7B%22modelId%22%3A%20%22gpt2-small%22%2C%20%22layer%22%3A%20%229-res-jb%22%2C%20%22index%22%3A%20%2223498%22%7D%2C%20%7B%22modelId%22%3A%20%22gpt2-small%22%2C%20%22layer%22%3A%20%229-res-jb%22%2C%20%22index%22%3A%20%222505%22%7D%2C%20%7B%22modelId%22%3A%20%22gpt2-small%22%2C%20%22layer%22%3A%20%229-res-jb%22%2C%20%22index%22%3A%20%2211213%22%7D%2C%20%7B%22modelId%22%3A%20%22gpt2-small%22%2C%20%22layer%22%3A%20%229-res-jb%22%2C%20%22index%22%3A%20%2219411%22%7D%2C%20%7B%22modelId%22%3A%20%22gpt2-small%22%2C%20%22layer%22%3A%20%229-res-jb%22%2C%20%22index%22%3A%20%229185%22%7D%2C%20%7B%22modelId%22%3A%20%22gpt2-small%22%2C%20%22layer%22%3A%20%229-res-jb%22%2C%20%22index%22%3A%20%226631%22%7D%2C%20%7B%22modelId%22%3A%20%22gpt2-small%22%2C%20%22layer%22%3A%20%229-res-jb%22%2C%20%22index%22%3A%20%227656%22%7D%2C%20%7B%22modelId%22%3A%20%22gpt2-small%22%2C%20%22layer%22%3A%20%229-res-jb%22%2C%20%22index%22%3A%20%222029%22%7D%2C%20%7B%22modelId%22%3A%20%22gpt2-small%22%2C%20%22layer%22%3A%20%229-res-jb%22%2C%20%22index%22%3A%20%224079%22%7D%2C%20%7B%22modelId%22%3A%20%22gpt2-small%22%2C%20%22layer%22%3A%20%229-res-jb%22%2C%20%22index%22%3A%20%2222003%22%7D%2C%20%7B%22modelId%22%3A%20%22gpt2-small%22%2C%20%22layer%22%3A%20%229-res-jb%22%2C%20%22index%22%3A%20%226647%22%7D%2C%20%7B%22modelId%22%3A%20%22gpt2-small%22%2C%20%22layer%22%3A%20%229-res-jb%22%2C%20%22index%22%3A%20%2223036%22%7D%5D'"
      ]
     },
     "execution_count": 105,
     "metadata": {},
     "output_type": "execute_result"
    }
   ],
   "source": [
    "# @title Print clustered features and stats\n",
    "print(\"Number of clustered features: \", len(clustered_features))\n",
    "print(clustered_features)\n",
    "\n",
    "print(\"Number of new features found: \", len(clustered_features - filtered_feature_set))\n",
    "\n",
    "get_neuronpedia_quick_list(list(clustered_features), layer = LAYER)"
   ]
  },
  {
   "cell_type": "code",
   "execution_count": null,
   "metadata": {
    "colab": {
     "base_uri": "https://localhost:8080/"
    },
    "executionInfo": {
     "elapsed": 1164,
     "status": "ok",
     "timestamp": 1720660883070,
     "user": {
      "displayName": "Jason L",
      "userId": "08424561876455739258"
     },
     "user_tz": 240
    },
    "id": "RGC7UV9C852E",
    "outputId": "9a13193b-7767-43b7-a68d-7452cfba5b74"
   },
   "outputs": [],
   "source": [
    "# Initialize a dictionary\n",
    "activation_dict = {}\n",
    "rejection_dict = {}\n",
    "\n",
    "for feature in clustered_features:\n",
    "  masked_sae_feature_acts = sv_feature_acts.clone()\n",
    "  mask = torch.zeros(sv_feature_acts.shape[1], dtype=torch.bool)\n",
    "  mask[feature] = True\n",
    "  masked_sae_feature_acts[:, ~mask] = 0\n",
    "\n",
    "  # get the decoded activations (these are for the linear reg\n",
    "  decoded_activations = sae.decode(masked_sae_feature_acts)\n",
    "\n",
    "  # Prune any features that did not activate at all\n",
    "  # We assume these are still irrelevant even if clustered\n",
    "  if(not torch.any(masked_sae_feature_acts)):\n",
    "    rejection_dict[feature] = decoded_activations\n",
    "    continue\n",
    "\n",
    "  # print(masked_sae_feature_acts[:, feature])\n",
    "  activation_dict[feature] = decoded_activations\n",
    "\n",
    "print(\"Number of features that have non-zero activation deltas: \", len(activation_dict))\n",
    "print(\"Number of rejected Features: \", len(rejection_dict))"
   ]
  },
  {
   "cell_type": "code",
   "execution_count": null,
   "metadata": {
    "colab": {
     "base_uri": "https://localhost:8080/",
     "height": 211
    },
    "executionInfo": {
     "elapsed": 7,
     "status": "ok",
     "timestamp": 1720660883070,
     "user": {
      "displayName": "Jason L",
      "userId": "08424561876455739258"
     },
     "user_tz": 240
    },
    "id": "2E0erbY_Gg3t",
    "outputId": "974e0e5c-c64c-4c20-8bcf-bff49ff9d380"
   },
   "outputs": [],
   "source": [
    "print(activation_dict.keys())\n",
    "print(activation_deltas.shape)\n",
    "get_neuronpedia_quick_list(list(activation_dict.keys()), layer = LAYER)"
   ]
  },
  {
   "cell_type": "code",
   "execution_count": null,
   "metadata": {
    "colab": {
     "base_uri": "https://localhost:8080/",
     "height": 194
    },
    "executionInfo": {
     "elapsed": 5,
     "status": "ok",
     "timestamp": 1720660883070,
     "user": {
      "displayName": "Jason L",
      "userId": "08424561876455739258"
     },
     "user_tz": 240
    },
    "id": "T2tEca17MlZn",
    "outputId": "a1b02cf6-e227-4397-c3b2-98c5c0bb871f"
   },
   "outputs": [],
   "source": [
    "print(rejection_dict.keys())\n",
    "get_neuronpedia_quick_list(list(rejection_dict.keys()), layer = LAYER)"
   ]
  },
  {
   "cell_type": "code",
   "execution_count": null,
   "metadata": {
    "colab": {
     "base_uri": "https://localhost:8080/"
    },
    "executionInfo": {
     "elapsed": 161,
     "status": "ok",
     "timestamp": 1720660883227,
     "user": {
      "displayName": "Jason L",
      "userId": "08424561876455739258"
     },
     "user_tz": 240
    },
    "id": "1pxwOj45HQLm",
    "outputId": "1d54bed9-9051-4875-c12f-294e4c9bf663"
   },
   "outputs": [],
   "source": [
    "# Sanity check that the activation dictionary does not have repeated values\n",
    "# If mean is 0 everywhere then something is weird\n",
    "TestX = activation_dict[16174] - activation_dict[1871]\n",
    "TestX.mean()"
   ]
  },
  {
   "cell_type": "markdown",
   "metadata": {
    "id": "G1LBVZ0wKak_"
   },
   "source": [
    "# Linear Regression on Features\n",
    "\n",
    "From this point, we want to do linear regression on the features for relevant tokens\n",
    "\n",
    "We want to see if the linear regression gives us good weights we can use to construct a steering vector\n",
    "\n",
    "Target: We have 10 data points (1 for each prompt pair) where each data point is [30, 768] (tokens, activation_dim)\n",
    "\n",
    "Input: We have a dictionary of n features {feature: tensor}, where each tensor is [30,768]\n",
    "\n",
    "Objective: We want to get weights for each of the n features so that we can best fit and reduce loss for all 10 data points."
   ]
  },
  {
   "cell_type": "code",
   "execution_count": null,
   "metadata": {
    "executionInfo": {
     "elapsed": 635,
     "status": "ok",
     "timestamp": 1720660883860,
     "user": {
      "displayName": "Jason L",
      "userId": "08424561876455739258"
     },
     "user_tz": 240
    },
    "id": "Za4Q9baawk-n"
   },
   "outputs": [],
   "source": [
    "# @title Feature Shaping\n",
    "target = activation_deltas.clone()\n",
    "num_datapoints = len(target)\n",
    "\n",
    "feature_labels = list(activation_dict.keys())\n",
    "\n",
    "feature_list = [activation_dict[label] for label in feature_labels]\n",
    "feature_matrix = torch.stack(feature_list, dim=0)\n",
    "num_features = feature_matrix.shape[0]\n",
    "\n",
    "# Reshape features for linear regression\n",
    "X = feature_matrix.view(num_features, -1).T  # Shape: [30*768, num_features]\n",
    "y = target.view(num_datapoints, -1).T  # Shape: [30*768, num_datapoints]\n",
    "\n",
    "with open(f'{DRIVE_PATH}/training_tensors.pkl', 'wb') as f:\n",
    "    pickle.dump((X, y), f)\n",
    "\n",
    "# sanity check that num_features is length of dictionary\n",
    "assert(num_features == len(activation_dict))"
   ]
  },
  {
   "cell_type": "markdown",
   "metadata": {
    "id": "1VXBn5mqZUck"
   },
   "source": [
    "At this point, we need to run the colab notebook here: https://colab.research.google.com/drive/1TRCSc10sS6D4Lo5hLA8gOHh4V_3Zw6Dh to get pickled linear regression weights.\n",
    "\n",
    "For some reason, it won't run in this notebook and errors out on the \"loss.backward()\" step. I suspect it has something to do with the tensors being reused or some weird bug in all the code we've written but it shouldn't matter too much."
   ]
  },
  {
   "cell_type": "code",
   "execution_count": null,
   "metadata": {
    "colab": {
     "base_uri": "https://localhost:8080/"
    },
    "executionInfo": {
     "elapsed": 17848,
     "status": "ok",
     "timestamp": 1720660901707,
     "user": {
      "displayName": "Jason L",
      "userId": "08424561876455739258"
     },
     "user_tz": 240
    },
    "id": "XfJ0ucupZqhO",
    "outputId": "cc821892-3b80-4ec1-f09b-5a1c7b1e056e"
   },
   "outputs": [],
   "source": [
    "# @title Run linear regression notebook\n",
    "# 7/7/24: Untested code block, whoops.\n",
    "#If it breaks just run the notebook manually ig\n",
    "\n",
    "linear_regression_notebook = \"linear_regression.ipynb\"\n",
    "# Hacky code to make this run inside the notebook\n",
    "regression_notebook_path = f\"{DRIVE_PATH}/{linear_regression_notebook}\".replace(':', '\\:').replace(' ', '\\ ')\n",
    "print(regression_notebook_path)\n",
    "%run $regression_notebook_path"
   ]
  },
  {
   "cell_type": "code",
   "execution_count": null,
   "metadata": {
    "colab": {
     "base_uri": "https://localhost:8080/"
    },
    "executionInfo": {
     "elapsed": 4,
     "status": "ok",
     "timestamp": 1720660901861,
     "user": {
      "displayName": "Jason L",
      "userId": "08424561876455739258"
     },
     "user_tz": 240
    },
    "id": "alCs-DwJYlcR",
    "outputId": "334c7c19-3d03-40af-fe97-b9831f7bb58b"
   },
   "outputs": [],
   "source": [
    "with open(f'{DRIVE_PATH}/weight_tensors.pkl', 'rb') as f:\n",
    "    weights, bias = pickle.load(f)\n",
    "\n",
    "print(weights)\n",
    "print(bias)"
   ]
  },
  {
   "cell_type": "code",
   "execution_count": null,
   "metadata": {
    "colab": {
     "base_uri": "https://localhost:8080/"
    },
    "executionInfo": {
     "elapsed": 181,
     "status": "ok",
     "timestamp": 1720660962634,
     "user": {
      "displayName": "Jason L",
      "userId": "08424561876455739258"
     },
     "user_tz": 240
    },
    "id": "ihJ7XLRraXj7",
    "outputId": "e61e3ca6-b419-4e1c-9007-0a78b13f9cd3"
   },
   "outputs": [],
   "source": [
    "# @title get mean and relative weights\n",
    "import torch as torch\n",
    "mean_weights = weights.mean(dim=0)\n",
    "\n",
    "abs_weights = torch.abs(mean_weights)\n",
    "normalized_abs_weights = abs_weights / abs_weights.sum()\n",
    "relative_weights = normalized_abs_weights * torch.sign(mean_weights)\n",
    "\n",
    "print(relative_weights.shape)\n",
    "print(relative_weights)\n"
   ]
  },
  {
   "cell_type": "markdown",
   "metadata": {
    "id": "srX-U-vaq586"
   },
   "source": [
    "# Steering Experiments with Vectors\n",
    "\n",
    "Given that we now have a list of coefficients to weight the steering vectors with, we want to find the actual steering vectors, weigh them, and create a vector representing our virtual feature."
   ]
  },
  {
   "cell_type": "code",
   "execution_count": null,
   "metadata": {
    "colab": {
     "base_uri": "https://localhost:8080/"
    },
    "executionInfo": {
     "elapsed": 10565,
     "status": "ok",
     "timestamp": 1720660912424,
     "user": {
      "displayName": "Jason L",
      "userId": "08424561876455739258"
     },
     "user_tz": 240
    },
    "id": "gU8VzVJHoprF",
    "outputId": "8f006fac-b795-485e-a87c-3205d50f9172"
   },
   "outputs": [],
   "source": [
    "from transformer_lens import HookedTransformer\n",
    "model = HookedTransformer.from_pretrained(MODEL_NAME, tokenizer=tokenizer, device=\"cpu\")\n",
    "\n",
    "sae_out = sae.decode(sv_feature_acts)\n",
    "\n",
    "hook_point = sae.cfg.hook_name\n",
    "\n",
    "print(\"hook point\")\n",
    "print(hook_point)\n",
    "print(\"------------------------------------\")\n",
    "print(\"model\")\n",
    "print(model)"
   ]
  },
  {
   "cell_type": "code",
   "execution_count": null,
   "metadata": {
    "executionInfo": {
     "elapsed": 191,
     "status": "ok",
     "timestamp": 1720662388434,
     "user": {
      "displayName": "Jason L",
      "userId": "08424561876455739258"
     },
     "user_tz": 240
    },
    "id": "1dUQxD5VotCI"
   },
   "outputs": [],
   "source": [
    "# Code taken from SAELens Steering tutorial and modified\n",
    "import einops\n",
    "\n",
    "def steering_hook(resid_pre, hook):\n",
    "    if resid_pre.shape[1] == 1:\n",
    "        return\n",
    "\n",
    "    position = sae_out.shape[1]\n",
    "    if steering_on:\n",
    "      # using our steering vector and applying the coefficient\n",
    "      resid_pre[:, :position - 1, :] += steering_vector.to(device)\n",
    "\n",
    "\n",
    "def hooked_generate(prompt_batch, fwd_hooks=[], seed=None, **kwargs):\n",
    "    if seed is not None:\n",
    "        torch.manual_seed(seed)\n",
    "\n",
    "    with model.hooks(fwd_hooks=fwd_hooks):\n",
    "        tokenized = model.to_tokens(prompt_batch)\n",
    "        result = model.generate(\n",
    "            stop_at_eos=False,  # avoids a bug on MPS\n",
    "            input=tokenized,\n",
    "            max_new_tokens=50,\n",
    "            do_sample=True,\n",
    "            **kwargs)\n",
    "    return result\n",
    "\n",
    "def run_generate(example_prompt):\n",
    "  model.reset_hooks()\n",
    "  editing_hooks = [(f\"blocks.{layer}.hook_resid_post\", steering_hook)]\n",
    "  res = hooked_generate([example_prompt] * 3, editing_hooks, seed=None, **sampling_kwargs)\n",
    "\n",
    "  # Print results, removing the ugly beginning of sequence token\n",
    "  res_str = model.to_string(res[:, 1:])\n",
    "  print((\"\\n\\n\" + \"-\" * 80 + \"\\n\\n\").join(res_str))\n",
    "\n",
    "def create_average_steering_vector(feature_set, sae, multiplier):\n",
    "  steering_vectors = torch.stack([sae.W_dec[feature_id] for feature_id in feature_set])\n",
    "  coefficient_magic = (multiplier/len(steering_vectors))\n",
    "  coefficients = torch.ones(len(steering_vectors))*coefficient_magic\n",
    "  coefficients = coefficients.view(-1, 1)\n",
    "  steering_vector = coefficients * steering_vectors\n",
    "  steering_vector = torch.sum(steering_vector, dim=0)\n",
    "  return steering_vector\n",
    "\n",
    "def create_weighted_steering_vector(activation_dict, sae, weights, multiplier):\n",
    "  steering_vectors = torch.stack([sae.W_dec[label] for label in feature_labels])\n",
    "  steering_vector = einops.einsum(weights, steering_vectors, 'feat, feat d -> d')\n",
    "  steering_vector = steering_vector * multiplier\n",
    "  return steering_vector"
   ]
  },
  {
   "cell_type": "code",
   "execution_count": null,
   "metadata": {
    "colab": {
     "base_uri": "https://localhost:8080/"
    },
    "executionInfo": {
     "elapsed": 248,
     "status": "ok",
     "timestamp": 1720661689054,
     "user": {
      "displayName": "Jason L",
      "userId": "08424561876455739258"
     },
     "user_tz": 240
    },
    "id": "uuoyetMLZFvP",
    "outputId": "b2cafc5d-2d92-4b80-ba1c-292c8f402a11"
   },
   "outputs": [],
   "source": [
    "tensor_list = list(activation_dict.values())\n",
    "weights_tensor = torch.stack(tensor_list)\n",
    "\n",
    "features_list = list(activation_dict.keys())\n",
    "\n",
    "print(weights_tensor.shape)\n",
    "print(features_list)"
   ]
  },
  {
   "cell_type": "code",
   "execution_count": null,
   "metadata": {
    "colab": {
     "base_uri": "https://localhost:8080/",
     "height": 295,
     "referenced_widgets": [
      "089cc29b6f2a489aafd236253a9d938a",
      "b3b8250dd1e14176b72b2d9bf4ba0626",
      "3693e51537f94646a9fbb4742cdac249",
      "7020a420c1ee4f62b467af0263573c95",
      "1234cc5863d942589990d49d934e155a",
      "a67e6806d3a143e78e3ab8a70b5077ac",
      "3583ca0429874dbaa0d06c9c31c556cd",
      "29b5de1d4b194f4bbf1f36df74b378ec",
      "5e77e9d1d1df4bbfafd149493ab122cd",
      "eded63a0e8b8430396c661db85b680dd",
      "a12634c045eb47b786ecd8124c10fb76"
     ]
    },
    "executionInfo": {
     "elapsed": 15119,
     "status": "ok",
     "timestamp": 1720662721005,
     "user": {
      "displayName": "Jason L",
      "userId": "08424561876455739258"
     },
     "user_tz": 240
    },
    "id": "azQbpxmeU4UF",
    "outputId": "aad1eace-f5d6-47b6-b316-e88cd159ce2b"
   },
   "outputs": [],
   "source": [
    "example_prompt = \"On Mondays, I like to\"\n",
    "sampling_kwargs = dict(temperature=1.0, top_p=0.1, freq_penalty=1.0)\n",
    "\n",
    "steering_vector = create_weighted_steering_vector(activation_dict, sae, relative_weights, 300)\n",
    "\n",
    "steering_on = True\n",
    "run_generate(example_prompt)"
   ]
  },
  {
   "cell_type": "code",
   "execution_count": null,
   "metadata": {
    "colab": {
     "base_uri": "https://localhost:8080/",
     "height": 364,
     "referenced_widgets": [
      "2c2fcf7cd3004039ae2fa17dd996ce10",
      "1f0fcb2a6c2c4e9fa9b2287f5e92f9cf",
      "ef7326b2935b4fb784d07b108c004e2f",
      "53594c1b15854545ad78157731d26c2c",
      "1639b9663b2c42f6b0bf764f2c1adce5",
      "04e3e3b009334564aa13c0bd92afaff3",
      "c3db0b79c4564c1fb9acfa7e650cc5bf",
      "34bb9ddcf64b455f839628ab4355c893",
      "996e2f21e70f4c68842816bd1f7f3642",
      "c6a4d93bb99e4ec7af10bebd256ff963",
      "1a4623f10d204772b9f34fb75bcb820a"
     ]
    },
    "executionInfo": {
     "elapsed": 8660,
     "status": "ok",
     "timestamp": 1720662729662,
     "user": {
      "displayName": "Jason L",
      "userId": "08424561876455739258"
     },
     "user_tz": 240
    },
    "id": "aLreV6sJrZ1a",
    "outputId": "a2f85472-743d-4115-8b6a-2464e04b4e25"
   },
   "outputs": [],
   "source": [
    "sampling_kwargs = dict(temperature=1.0, top_p=0.1, freq_penalty=1.0)\n",
    "\n",
    "steering_vector = create_average_steering_vector(activation_dict, sae, 300)\n",
    "\n",
    "steering_on = True\n",
    "run_generate(example_prompt)"
   ]
  },
  {
   "cell_type": "code",
   "execution_count": null,
   "metadata": {
    "colab": {
     "base_uri": "https://localhost:8080/",
     "height": 329,
     "referenced_widgets": [
      "5b6a72a88e0b4b69a09313dfdb4ffb98",
      "37e3732b35bf415c94f956df86929ffd",
      "5998797a59df423f9dffb010241e4d43",
      "3aee9158efbe4798b4dd801720922024",
      "5120f2d09c3a461f88a6a495a2a7f04a",
      "5b4cac3daa9a4740b98314fded2d5d71",
      "de4ae170101c46a2978c55e6ecb614fa",
      "f59b0fa458214233a845265c84ee57da",
      "8b5d5cd6dca242198e4fdda139aba4f1",
      "e8ccfe92166d45f38ee651d30b0a3150",
      "a9fda27e22d34d2495d71f41e666177b"
     ]
    },
    "executionInfo": {
     "elapsed": 9436,
     "status": "ok",
     "timestamp": 1720662739090,
     "user": {
      "displayName": "Jason L",
      "userId": "08424561876455739258"
     },
     "user_tz": 240
    },
    "id": "74MpmwhhdF75",
    "outputId": "5395273e-be50-4ce4-f094-df34b090d98b"
   },
   "outputs": [],
   "source": [
    "steering_on = False\n",
    "run_generate(example_prompt)"
   ]
  },
  {
   "cell_type": "markdown",
   "metadata": {
    "id": "2_lLb5cMIZDu"
   },
   "source": [
    "#Commented Out Code Blocks\n",
    "\n",
    "Cells that we don't immediately need but may be useful later"
   ]
  },
  {
   "cell_type": "code",
   "execution_count": null,
   "metadata": {
    "executionInfo": {
     "elapsed": 5,
     "status": "aborted",
     "timestamp": 1720660912957,
     "user": {
      "displayName": "Jason L",
      "userId": "08424561876455739258"
     },
     "user_tz": 240
    },
    "id": "xd9RJqKhoz6y"
   },
   "outputs": [],
   "source": [
    "# @title Usage of clustering alg\n",
    "# #@markdown Pick any layer, any feature from Joseph Bloom's GPT-2-small SAEs on the residual stream. Valid feature ids are between 0 and 24575.\n",
    "\n",
    "# #@markdown `build_cluster` will return a list of features related to it, and a neuronpedia link to visualize of all of them.\n",
    "\n",
    "# #@markdown If you use your own linkages for a different model, the features will still be related but the neuronpedia data won't be valid!\n",
    "\n",
    "# #@markdown The `height` parameter controls how large the cluster is, by including more distant features.\n",
    "\n",
    "# #@markdown If `height` is 6 or more, the URL might be too long to function.\n",
    "\n",
    "# layer = \"9\" #@param [0, 1, 2, 3, 4, 5, 6, 7, 8, 9, 10, 11]\n",
    "# feature_id = 2345 #@param {type: \"integer\"}\n",
    "# height = 2 #@param {type: \"slider\", min:1, max:8}\n",
    "# setting = 'average' #@param ['average', 'complete', 'weighted']\n",
    "# indices = build_cluster(\n",
    "#     layer=layer,\n",
    "#     feature_id=feature_id,\n",
    "#     height=height,\n",
    "#     setting=setting,\n",
    "# )"
   ]
  },
  {
   "cell_type": "code",
   "execution_count": null,
   "metadata": {
    "executionInfo": {
     "elapsed": 6,
     "status": "aborted",
     "timestamp": 1720660912958,
     "user": {
      "displayName": "Jason L",
      "userId": "08424561876455739258"
     },
     "user_tz": 240
    },
    "id": "II1aZei0U7jO"
   },
   "outputs": [],
   "source": [
    "# @title Specify dataset path\n",
    "# dataset_path = ''\n",
    "\n",
    "# with open(dataset_path, 'r') as f:\n",
    "#     dataset = [json.loads(line) for line in f]\n",
    "\n",
    "# # Create contrastive pairs\n",
    "# contrastive_pairs = create_contrastive_pairs(dataset)\n",
    "\n",
    "# # Print a sample pair\n",
    "# print(\"Sample contrastive pair:\")\n",
    "# print(\"Positive prompt:\", contrastive_pairs[0][\"positive_prompt\"])\n",
    "# print(\"Positive completion:\", contrastive_pairs[0][\"positive_completion\"])\n",
    "# print(\"\\nNegative prompt:\", contrastive_pairs[0][\"negative_prompt\"])\n",
    "# print(\"Negative completion:\", contrastive_pairs[0][\"negative_completion\"])"
   ]
  },
  {
   "cell_type": "code",
   "execution_count": null,
   "metadata": {
    "executionInfo": {
     "elapsed": 6,
     "status": "aborted",
     "timestamp": 1720660912958,
     "user": {
      "displayName": "Jason L",
      "userId": "08424561876455739258"
     },
     "user_tz": 240
    },
    "id": "eYdgrd4tSZ3h"
   },
   "outputs": [],
   "source": [
    "# @title helper methods related to the contrastive pair\n",
    "# import random\n",
    "# import json\n",
    "\n",
    "# def create_contrastive_pairs(dataset, num_pairs=100):\n",
    "#     contrastive_pairs = []\n",
    "\n",
    "#     for data in dataset:\n",
    "#         question = data[\"question\"]\n",
    "#         statement = data[\"statement\"]\n",
    "#         answer_matching = data[\"answer_matching_behavior\"].strip()\n",
    "#         answer_not_matching = data[\"answer_not_matching_behavior\"].strip()\n",
    "\n",
    "#         # Create positive example\n",
    "#         positive_prompt = f\"{question}\\n{statement}\\nA) {answer_matching}\\nB) {answer_not_matching}\\nAnswer:\"\n",
    "#         positive_completion = \" A\"\n",
    "\n",
    "#         # Create negative example\n",
    "#         negative_prompt = f\"{question}\\n{statement}\\nA) {answer_matching}\\nB) {answer_not_matching}\\nAnswer:\"\n",
    "#         negative_completion = \" B\"\n",
    "\n",
    "#         contrastive_pairs.append({\n",
    "#             \"positive_prompt\": positive_prompt,\n",
    "#             \"positive_completion\": positive_completion,\n",
    "#             \"negative_prompt\": negative_prompt,\n",
    "#             \"negative_completion\": negative_completion\n",
    "#         })\n",
    "\n",
    "#     # Ensure we have at least the requested number of pairs\n",
    "#     while len(contrastive_pairs) < num_pairs:\n",
    "#         contrastive_pairs.extend(contrastive_pairs)\n",
    "\n",
    "#     # Randomly select the requested number of pairs\n",
    "#     return random.sample(contrastive_pairs, num_pairs)\n"
   ]
  },
  {
   "cell_type": "code",
   "execution_count": null,
   "metadata": {
    "executionInfo": {
     "elapsed": 6,
     "status": "aborted",
     "timestamp": 1720660912958,
     "user": {
      "displayName": "Jason L",
      "userId": "08424561876455739258"
     },
     "user_tz": 240
    },
    "id": "LIrU8g-EDMnO"
   },
   "outputs": [],
   "source": [
    "# @title Linear Regression Function Definition\n",
    "\n",
    "# import torch\n",
    "# import einops\n",
    "# from typing import Dict\n",
    "\n",
    "# def fit_features_to_activation_delta(\n",
    "#     feature_activations: Dict[int, torch.Tensor],\n",
    "#     activation_delta: torch.Tensor\n",
    "# ) -> torch.Tensor:\n",
    "#     \"\"\"\n",
    "#     Fit a set of curated features to an activation delta using linear regression.\n",
    "\n",
    "#     Args:\n",
    "#     feature_activations (Dict[int, torch.Tensor]): Dictionary mapping feature indices to their activation tensors.\n",
    "#     activation_delta (torch.Tensor): Target activation delta to fit.\n",
    "\n",
    "#     Returns:\n",
    "#     torch.Tensor: Weights that maximize similarity to the activation delta.\n",
    "#     \"\"\"\n",
    "#     # Convert the dictionary to a list of tensors, preserving the order of indices\n",
    "#     feature_indices = sorted(feature_activations.keys())\n",
    "#     X = torch.stack([feature_activations[idx] for idx in feature_indices])\n",
    "\n",
    "#     # Reshape X to (num_features, -1)\n",
    "#     X = einops.rearrange(X, 'features ... -> features (...)')\n",
    "\n",
    "#     # Reshape y (activation_delta) to (-1,)\n",
    "#     y = einops.rearrange(activation_delta, '... -> (...)')\n",
    "\n",
    "#     # Compute the weights using the normal equation\n",
    "#     weights = torch.linalg.lstsq(X.T, y).solution\n",
    "\n",
    "#     return weights\n",
    "\n",
    "# # @title Getting regression results and weighing them\n",
    "# for i in range(len(activation_deltas)):\n",
    "#   X = fit_features_to_activation_delta(activation_dict, activation_deltas[i, filtered_indices, :])\n",
    "#   print(X)"
   ]
  }
 ],
 "metadata": {
  "accelerator": "GPU",
  "colab": {
   "gpuType": "T4",
   "provenance": [
    {
     "file_id": "1yCZvzm71J9B_KGt9O8xge2fgw1pvkRMQ",
     "timestamp": 1718704649080
    }
   ]
  },
  "kernelspec": {
   "display_name": "Python 3 (ipykernel)",
   "language": "python",
   "name": "python3"
  },
  "language_info": {
   "codemirror_mode": {
    "name": "ipython",
    "version": 3
   },
   "file_extension": ".py",
   "mimetype": "text/x-python",
   "name": "python",
   "nbconvert_exporter": "python",
   "pygments_lexer": "ipython3",
   "version": "3.10.13"
  },
  "widgets": {
   "application/vnd.jupyter.widget-state+json": {
    "02e84f6391a24383ba333318d38b54b4": {
     "model_module": "@jupyter-widgets/controls",
     "model_module_version": "1.5.0",
     "model_name": "HBoxModel",
     "state": {
      "_dom_classes": [],
      "_model_module": "@jupyter-widgets/controls",
      "_model_module_version": "1.5.0",
      "_model_name": "HBoxModel",
      "_view_count": null,
      "_view_module": "@jupyter-widgets/controls",
      "_view_module_version": "1.5.0",
      "_view_name": "HBoxView",
      "box_style": "",
      "children": [
       "IPY_MODEL_72aca2cff6f84722bb47902e92e5c7b3",
       "IPY_MODEL_fd61e15c41134a02826c43c4864b36ce",
       "IPY_MODEL_f3f13ab205d1439b9c2b3ff585a6025b"
      ],
      "layout": "IPY_MODEL_8bcb7c9a2c904a218adc8c735ceb3d8d"
     }
    },
    "04e3e3b009334564aa13c0bd92afaff3": {
     "model_module": "@jupyter-widgets/base",
     "model_module_version": "1.2.0",
     "model_name": "LayoutModel",
     "state": {
      "_model_module": "@jupyter-widgets/base",
      "_model_module_version": "1.2.0",
      "_model_name": "LayoutModel",
      "_view_count": null,
      "_view_module": "@jupyter-widgets/base",
      "_view_module_version": "1.2.0",
      "_view_name": "LayoutView",
      "align_content": null,
      "align_items": null,
      "align_self": null,
      "border": null,
      "bottom": null,
      "display": null,
      "flex": null,
      "flex_flow": null,
      "grid_area": null,
      "grid_auto_columns": null,
      "grid_auto_flow": null,
      "grid_auto_rows": null,
      "grid_column": null,
      "grid_gap": null,
      "grid_row": null,
      "grid_template_areas": null,
      "grid_template_columns": null,
      "grid_template_rows": null,
      "height": null,
      "justify_content": null,
      "justify_items": null,
      "left": null,
      "margin": null,
      "max_height": null,
      "max_width": null,
      "min_height": null,
      "min_width": null,
      "object_fit": null,
      "object_position": null,
      "order": null,
      "overflow": null,
      "overflow_x": null,
      "overflow_y": null,
      "padding": null,
      "right": null,
      "top": null,
      "visibility": null,
      "width": null
     }
    },
    "089cc29b6f2a489aafd236253a9d938a": {
     "model_module": "@jupyter-widgets/controls",
     "model_module_version": "1.5.0",
     "model_name": "HBoxModel",
     "state": {
      "_dom_classes": [],
      "_model_module": "@jupyter-widgets/controls",
      "_model_module_version": "1.5.0",
      "_model_name": "HBoxModel",
      "_view_count": null,
      "_view_module": "@jupyter-widgets/controls",
      "_view_module_version": "1.5.0",
      "_view_name": "HBoxView",
      "box_style": "",
      "children": [
       "IPY_MODEL_b3b8250dd1e14176b72b2d9bf4ba0626",
       "IPY_MODEL_3693e51537f94646a9fbb4742cdac249",
       "IPY_MODEL_7020a420c1ee4f62b467af0263573c95"
      ],
      "layout": "IPY_MODEL_1234cc5863d942589990d49d934e155a"
     }
    },
    "1234cc5863d942589990d49d934e155a": {
     "model_module": "@jupyter-widgets/base",
     "model_module_version": "1.2.0",
     "model_name": "LayoutModel",
     "state": {
      "_model_module": "@jupyter-widgets/base",
      "_model_module_version": "1.2.0",
      "_model_name": "LayoutModel",
      "_view_count": null,
      "_view_module": "@jupyter-widgets/base",
      "_view_module_version": "1.2.0",
      "_view_name": "LayoutView",
      "align_content": null,
      "align_items": null,
      "align_self": null,
      "border": null,
      "bottom": null,
      "display": null,
      "flex": null,
      "flex_flow": null,
      "grid_area": null,
      "grid_auto_columns": null,
      "grid_auto_flow": null,
      "grid_auto_rows": null,
      "grid_column": null,
      "grid_gap": null,
      "grid_row": null,
      "grid_template_areas": null,
      "grid_template_columns": null,
      "grid_template_rows": null,
      "height": null,
      "justify_content": null,
      "justify_items": null,
      "left": null,
      "margin": null,
      "max_height": null,
      "max_width": null,
      "min_height": null,
      "min_width": null,
      "object_fit": null,
      "object_position": null,
      "order": null,
      "overflow": null,
      "overflow_x": null,
      "overflow_y": null,
      "padding": null,
      "right": null,
      "top": null,
      "visibility": null,
      "width": null
     }
    },
    "1639b9663b2c42f6b0bf764f2c1adce5": {
     "model_module": "@jupyter-widgets/base",
     "model_module_version": "1.2.0",
     "model_name": "LayoutModel",
     "state": {
      "_model_module": "@jupyter-widgets/base",
      "_model_module_version": "1.2.0",
      "_model_name": "LayoutModel",
      "_view_count": null,
      "_view_module": "@jupyter-widgets/base",
      "_view_module_version": "1.2.0",
      "_view_name": "LayoutView",
      "align_content": null,
      "align_items": null,
      "align_self": null,
      "border": null,
      "bottom": null,
      "display": null,
      "flex": null,
      "flex_flow": null,
      "grid_area": null,
      "grid_auto_columns": null,
      "grid_auto_flow": null,
      "grid_auto_rows": null,
      "grid_column": null,
      "grid_gap": null,
      "grid_row": null,
      "grid_template_areas": null,
      "grid_template_columns": null,
      "grid_template_rows": null,
      "height": null,
      "justify_content": null,
      "justify_items": null,
      "left": null,
      "margin": null,
      "max_height": null,
      "max_width": null,
      "min_height": null,
      "min_width": null,
      "object_fit": null,
      "object_position": null,
      "order": null,
      "overflow": null,
      "overflow_x": null,
      "overflow_y": null,
      "padding": null,
      "right": null,
      "top": null,
      "visibility": null,
      "width": null
     }
    },
    "187d84434fd6456e8dd83fd1b4100dad": {
     "model_module": "@jupyter-widgets/controls",
     "model_module_version": "1.5.0",
     "model_name": "HBoxModel",
     "state": {
      "_dom_classes": [],
      "_model_module": "@jupyter-widgets/controls",
      "_model_module_version": "1.5.0",
      "_model_name": "HBoxModel",
      "_view_count": null,
      "_view_module": "@jupyter-widgets/controls",
      "_view_module_version": "1.5.0",
      "_view_name": "HBoxView",
      "box_style": "",
      "children": [
       "IPY_MODEL_7b56f01d6ebb46b0a903ee39bd631525",
       "IPY_MODEL_52fdff2628024a0ba81e557efa885bbe",
       "IPY_MODEL_a9077d2424a04ba093a692259d8bd34f"
      ],
      "layout": "IPY_MODEL_3692e8fbeb074241a7a534855d7fdbbf"
     }
    },
    "1a4623f10d204772b9f34fb75bcb820a": {
     "model_module": "@jupyter-widgets/controls",
     "model_module_version": "1.5.0",
     "model_name": "DescriptionStyleModel",
     "state": {
      "_model_module": "@jupyter-widgets/controls",
      "_model_module_version": "1.5.0",
      "_model_name": "DescriptionStyleModel",
      "_view_count": null,
      "_view_module": "@jupyter-widgets/base",
      "_view_module_version": "1.2.0",
      "_view_name": "StyleView",
      "description_width": ""
     }
    },
    "1db6d169bf06423d9c55eaf825c0d961": {
     "model_module": "@jupyter-widgets/controls",
     "model_module_version": "1.5.0",
     "model_name": "DescriptionStyleModel",
     "state": {
      "_model_module": "@jupyter-widgets/controls",
      "_model_module_version": "1.5.0",
      "_model_name": "DescriptionStyleModel",
      "_view_count": null,
      "_view_module": "@jupyter-widgets/base",
      "_view_module_version": "1.2.0",
      "_view_name": "StyleView",
      "description_width": ""
     }
    },
    "1f0fcb2a6c2c4e9fa9b2287f5e92f9cf": {
     "model_module": "@jupyter-widgets/controls",
     "model_module_version": "1.5.0",
     "model_name": "HTMLModel",
     "state": {
      "_dom_classes": [],
      "_model_module": "@jupyter-widgets/controls",
      "_model_module_version": "1.5.0",
      "_model_name": "HTMLModel",
      "_view_count": null,
      "_view_module": "@jupyter-widgets/controls",
      "_view_module_version": "1.5.0",
      "_view_name": "HTMLView",
      "description": "",
      "description_tooltip": null,
      "layout": "IPY_MODEL_04e3e3b009334564aa13c0bd92afaff3",
      "placeholder": "​",
      "style": "IPY_MODEL_c3db0b79c4564c1fb9acfa7e650cc5bf",
      "value": "100%"
     }
    },
    "29b5de1d4b194f4bbf1f36df74b378ec": {
     "model_module": "@jupyter-widgets/base",
     "model_module_version": "1.2.0",
     "model_name": "LayoutModel",
     "state": {
      "_model_module": "@jupyter-widgets/base",
      "_model_module_version": "1.2.0",
      "_model_name": "LayoutModel",
      "_view_count": null,
      "_view_module": "@jupyter-widgets/base",
      "_view_module_version": "1.2.0",
      "_view_name": "LayoutView",
      "align_content": null,
      "align_items": null,
      "align_self": null,
      "border": null,
      "bottom": null,
      "display": null,
      "flex": null,
      "flex_flow": null,
      "grid_area": null,
      "grid_auto_columns": null,
      "grid_auto_flow": null,
      "grid_auto_rows": null,
      "grid_column": null,
      "grid_gap": null,
      "grid_row": null,
      "grid_template_areas": null,
      "grid_template_columns": null,
      "grid_template_rows": null,
      "height": null,
      "justify_content": null,
      "justify_items": null,
      "left": null,
      "margin": null,
      "max_height": null,
      "max_width": null,
      "min_height": null,
      "min_width": null,
      "object_fit": null,
      "object_position": null,
      "order": null,
      "overflow": null,
      "overflow_x": null,
      "overflow_y": null,
      "padding": null,
      "right": null,
      "top": null,
      "visibility": null,
      "width": null
     }
    },
    "2c2fcf7cd3004039ae2fa17dd996ce10": {
     "model_module": "@jupyter-widgets/controls",
     "model_module_version": "1.5.0",
     "model_name": "HBoxModel",
     "state": {
      "_dom_classes": [],
      "_model_module": "@jupyter-widgets/controls",
      "_model_module_version": "1.5.0",
      "_model_name": "HBoxModel",
      "_view_count": null,
      "_view_module": "@jupyter-widgets/controls",
      "_view_module_version": "1.5.0",
      "_view_name": "HBoxView",
      "box_style": "",
      "children": [
       "IPY_MODEL_1f0fcb2a6c2c4e9fa9b2287f5e92f9cf",
       "IPY_MODEL_ef7326b2935b4fb784d07b108c004e2f",
       "IPY_MODEL_53594c1b15854545ad78157731d26c2c"
      ],
      "layout": "IPY_MODEL_1639b9663b2c42f6b0bf764f2c1adce5"
     }
    },
    "304469e0bcb94128bae4b85c57559a51": {
     "model_module": "@jupyter-widgets/controls",
     "model_module_version": "1.5.0",
     "model_name": "FloatProgressModel",
     "state": {
      "_dom_classes": [],
      "_model_module": "@jupyter-widgets/controls",
      "_model_module_version": "1.5.0",
      "_model_name": "FloatProgressModel",
      "_view_count": null,
      "_view_module": "@jupyter-widgets/controls",
      "_view_module_version": "1.5.0",
      "_view_name": "ProgressView",
      "bar_style": "success",
      "description": "",
      "description_tooltip": null,
      "layout": "IPY_MODEL_94bc484c524845fc8061c75266d55e95",
      "max": 151096640,
      "min": 0,
      "orientation": "horizontal",
      "style": "IPY_MODEL_a7b0fbfe95704814a2956bc8f8031f54",
      "value": 151096640
     }
    },
    "34bb9ddcf64b455f839628ab4355c893": {
     "model_module": "@jupyter-widgets/base",
     "model_module_version": "1.2.0",
     "model_name": "LayoutModel",
     "state": {
      "_model_module": "@jupyter-widgets/base",
      "_model_module_version": "1.2.0",
      "_model_name": "LayoutModel",
      "_view_count": null,
      "_view_module": "@jupyter-widgets/base",
      "_view_module_version": "1.2.0",
      "_view_name": "LayoutView",
      "align_content": null,
      "align_items": null,
      "align_self": null,
      "border": null,
      "bottom": null,
      "display": null,
      "flex": null,
      "flex_flow": null,
      "grid_area": null,
      "grid_auto_columns": null,
      "grid_auto_flow": null,
      "grid_auto_rows": null,
      "grid_column": null,
      "grid_gap": null,
      "grid_row": null,
      "grid_template_areas": null,
      "grid_template_columns": null,
      "grid_template_rows": null,
      "height": null,
      "justify_content": null,
      "justify_items": null,
      "left": null,
      "margin": null,
      "max_height": null,
      "max_width": null,
      "min_height": null,
      "min_width": null,
      "object_fit": null,
      "object_position": null,
      "order": null,
      "overflow": null,
      "overflow_x": null,
      "overflow_y": null,
      "padding": null,
      "right": null,
      "top": null,
      "visibility": null,
      "width": null
     }
    },
    "3561458d90c84307b6effe558040eeec": {
     "model_module": "@jupyter-widgets/controls",
     "model_module_version": "1.5.0",
     "model_name": "DescriptionStyleModel",
     "state": {
      "_model_module": "@jupyter-widgets/controls",
      "_model_module_version": "1.5.0",
      "_model_name": "DescriptionStyleModel",
      "_view_count": null,
      "_view_module": "@jupyter-widgets/base",
      "_view_module_version": "1.2.0",
      "_view_name": "StyleView",
      "description_width": ""
     }
    },
    "356c40837ce54ff5878f51a273dbc222": {
     "model_module": "@jupyter-widgets/controls",
     "model_module_version": "1.5.0",
     "model_name": "FloatProgressModel",
     "state": {
      "_dom_classes": [],
      "_model_module": "@jupyter-widgets/controls",
      "_model_module_version": "1.5.0",
      "_model_name": "FloatProgressModel",
      "_view_count": null,
      "_view_module": "@jupyter-widgets/controls",
      "_view_module_version": "1.5.0",
      "_view_name": "ProgressView",
      "bar_style": "success",
      "description": "",
      "description_tooltip": null,
      "layout": "IPY_MODEL_7f7522ac96574de4a1d1042257061016",
      "max": 548105171,
      "min": 0,
      "orientation": "horizontal",
      "style": "IPY_MODEL_4e1b6668dbc344a2aa4731473df2c90d",
      "value": 548105171
     }
    },
    "3583ca0429874dbaa0d06c9c31c556cd": {
     "model_module": "@jupyter-widgets/controls",
     "model_module_version": "1.5.0",
     "model_name": "DescriptionStyleModel",
     "state": {
      "_model_module": "@jupyter-widgets/controls",
      "_model_module_version": "1.5.0",
      "_model_name": "DescriptionStyleModel",
      "_view_count": null,
      "_view_module": "@jupyter-widgets/base",
      "_view_module_version": "1.2.0",
      "_view_name": "StyleView",
      "description_width": ""
     }
    },
    "3692e8fbeb074241a7a534855d7fdbbf": {
     "model_module": "@jupyter-widgets/base",
     "model_module_version": "1.2.0",
     "model_name": "LayoutModel",
     "state": {
      "_model_module": "@jupyter-widgets/base",
      "_model_module_version": "1.2.0",
      "_model_name": "LayoutModel",
      "_view_count": null,
      "_view_module": "@jupyter-widgets/base",
      "_view_module_version": "1.2.0",
      "_view_name": "LayoutView",
      "align_content": null,
      "align_items": null,
      "align_self": null,
      "border": null,
      "bottom": null,
      "display": null,
      "flex": null,
      "flex_flow": null,
      "grid_area": null,
      "grid_auto_columns": null,
      "grid_auto_flow": null,
      "grid_auto_rows": null,
      "grid_column": null,
      "grid_gap": null,
      "grid_row": null,
      "grid_template_areas": null,
      "grid_template_columns": null,
      "grid_template_rows": null,
      "height": null,
      "justify_content": null,
      "justify_items": null,
      "left": null,
      "margin": null,
      "max_height": null,
      "max_width": null,
      "min_height": null,
      "min_width": null,
      "object_fit": null,
      "object_position": null,
      "order": null,
      "overflow": null,
      "overflow_x": null,
      "overflow_y": null,
      "padding": null,
      "right": null,
      "top": null,
      "visibility": null,
      "width": null
     }
    },
    "3693e51537f94646a9fbb4742cdac249": {
     "model_module": "@jupyter-widgets/controls",
     "model_module_version": "1.5.0",
     "model_name": "FloatProgressModel",
     "state": {
      "_dom_classes": [],
      "_model_module": "@jupyter-widgets/controls",
      "_model_module_version": "1.5.0",
      "_model_name": "FloatProgressModel",
      "_view_count": null,
      "_view_module": "@jupyter-widgets/controls",
      "_view_module_version": "1.5.0",
      "_view_name": "ProgressView",
      "bar_style": "success",
      "description": "",
      "description_tooltip": null,
      "layout": "IPY_MODEL_29b5de1d4b194f4bbf1f36df74b378ec",
      "max": 50,
      "min": 0,
      "orientation": "horizontal",
      "style": "IPY_MODEL_5e77e9d1d1df4bbfafd149493ab122cd",
      "value": 50
     }
    },
    "37e3732b35bf415c94f956df86929ffd": {
     "model_module": "@jupyter-widgets/controls",
     "model_module_version": "1.5.0",
     "model_name": "HTMLModel",
     "state": {
      "_dom_classes": [],
      "_model_module": "@jupyter-widgets/controls",
      "_model_module_version": "1.5.0",
      "_model_name": "HTMLModel",
      "_view_count": null,
      "_view_module": "@jupyter-widgets/controls",
      "_view_module_version": "1.5.0",
      "_view_name": "HTMLView",
      "description": "",
      "description_tooltip": null,
      "layout": "IPY_MODEL_5b4cac3daa9a4740b98314fded2d5d71",
      "placeholder": "​",
      "style": "IPY_MODEL_de4ae170101c46a2978c55e6ecb614fa",
      "value": "100%"
     }
    },
    "3aee9158efbe4798b4dd801720922024": {
     "model_module": "@jupyter-widgets/controls",
     "model_module_version": "1.5.0",
     "model_name": "HTMLModel",
     "state": {
      "_dom_classes": [],
      "_model_module": "@jupyter-widgets/controls",
      "_model_module_version": "1.5.0",
      "_model_name": "HTMLModel",
      "_view_count": null,
      "_view_module": "@jupyter-widgets/controls",
      "_view_module_version": "1.5.0",
      "_view_name": "HTMLView",
      "description": "",
      "description_tooltip": null,
      "layout": "IPY_MODEL_e8ccfe92166d45f38ee651d30b0a3150",
      "placeholder": "​",
      "style": "IPY_MODEL_a9fda27e22d34d2495d71f41e666177b",
      "value": " 50/50 [00:09&lt;00:00,  6.09it/s]"
     }
    },
    "3e5fc4bedd5e4acab6e1d73a81d22fd3": {
     "model_module": "@jupyter-widgets/controls",
     "model_module_version": "1.5.0",
     "model_name": "HTMLModel",
     "state": {
      "_dom_classes": [],
      "_model_module": "@jupyter-widgets/controls",
      "_model_module_version": "1.5.0",
      "_model_name": "HTMLModel",
      "_view_count": null,
      "_view_module": "@jupyter-widgets/controls",
      "_view_module_version": "1.5.0",
      "_view_name": "HTMLView",
      "description": "",
      "description_tooltip": null,
      "layout": "IPY_MODEL_b237d65e730d460fa7e37ab9cf4553d2",
      "placeholder": "​",
      "style": "IPY_MODEL_f0e6ac69a07242029183152c4435efc0",
      "value": "sae_weights.safetensors: 100%"
     }
    },
    "4cff098cad29491d8da37caa8a4e6d58": {
     "model_module": "@jupyter-widgets/controls",
     "model_module_version": "1.5.0",
     "model_name": "HBoxModel",
     "state": {
      "_dom_classes": [],
      "_model_module": "@jupyter-widgets/controls",
      "_model_module_version": "1.5.0",
      "_model_name": "HBoxModel",
      "_view_count": null,
      "_view_module": "@jupyter-widgets/controls",
      "_view_module_version": "1.5.0",
      "_view_name": "HBoxView",
      "box_style": "",
      "children": [
       "IPY_MODEL_99e892bcb17a4a4895630deb76b9e551",
       "IPY_MODEL_356c40837ce54ff5878f51a273dbc222",
       "IPY_MODEL_51712e80d115494594c5a8de54c063fa"
      ],
      "layout": "IPY_MODEL_ac0dbead4a8f40cf8bc12946cf64e64d"
     }
    },
    "4e1b6668dbc344a2aa4731473df2c90d": {
     "model_module": "@jupyter-widgets/controls",
     "model_module_version": "1.5.0",
     "model_name": "ProgressStyleModel",
     "state": {
      "_model_module": "@jupyter-widgets/controls",
      "_model_module_version": "1.5.0",
      "_model_name": "ProgressStyleModel",
      "_view_count": null,
      "_view_module": "@jupyter-widgets/base",
      "_view_module_version": "1.2.0",
      "_view_name": "StyleView",
      "bar_color": null,
      "description_width": ""
     }
    },
    "5120f2d09c3a461f88a6a495a2a7f04a": {
     "model_module": "@jupyter-widgets/base",
     "model_module_version": "1.2.0",
     "model_name": "LayoutModel",
     "state": {
      "_model_module": "@jupyter-widgets/base",
      "_model_module_version": "1.2.0",
      "_model_name": "LayoutModel",
      "_view_count": null,
      "_view_module": "@jupyter-widgets/base",
      "_view_module_version": "1.2.0",
      "_view_name": "LayoutView",
      "align_content": null,
      "align_items": null,
      "align_self": null,
      "border": null,
      "bottom": null,
      "display": null,
      "flex": null,
      "flex_flow": null,
      "grid_area": null,
      "grid_auto_columns": null,
      "grid_auto_flow": null,
      "grid_auto_rows": null,
      "grid_column": null,
      "grid_gap": null,
      "grid_row": null,
      "grid_template_areas": null,
      "grid_template_columns": null,
      "grid_template_rows": null,
      "height": null,
      "justify_content": null,
      "justify_items": null,
      "left": null,
      "margin": null,
      "max_height": null,
      "max_width": null,
      "min_height": null,
      "min_width": null,
      "object_fit": null,
      "object_position": null,
      "order": null,
      "overflow": null,
      "overflow_x": null,
      "overflow_y": null,
      "padding": null,
      "right": null,
      "top": null,
      "visibility": null,
      "width": null
     }
    },
    "51712e80d115494594c5a8de54c063fa": {
     "model_module": "@jupyter-widgets/controls",
     "model_module_version": "1.5.0",
     "model_name": "HTMLModel",
     "state": {
      "_dom_classes": [],
      "_model_module": "@jupyter-widgets/controls",
      "_model_module_version": "1.5.0",
      "_model_name": "HTMLModel",
      "_view_count": null,
      "_view_module": "@jupyter-widgets/controls",
      "_view_module_version": "1.5.0",
      "_view_name": "HTMLView",
      "description": "",
      "description_tooltip": null,
      "layout": "IPY_MODEL_999e4884026f45e7aa01f53750e8795a",
      "placeholder": "​",
      "style": "IPY_MODEL_9466f81614cc4e99b40a79b7e9f79623",
      "value": " 548M/548M [00:08&lt;00:00, 106MB/s]"
     }
    },
    "52fdff2628024a0ba81e557efa885bbe": {
     "model_module": "@jupyter-widgets/controls",
     "model_module_version": "1.5.0",
     "model_name": "FloatProgressModel",
     "state": {
      "_dom_classes": [],
      "_model_module": "@jupyter-widgets/controls",
      "_model_module_version": "1.5.0",
      "_model_name": "FloatProgressModel",
      "_view_count": null,
      "_view_module": "@jupyter-widgets/controls",
      "_view_module_version": "1.5.0",
      "_view_name": "ProgressView",
      "bar_style": "success",
      "description": "",
      "description_tooltip": null,
      "layout": "IPY_MODEL_a77937b37e9249be9dc9f7be0ab0ba7c",
      "max": 124,
      "min": 0,
      "orientation": "horizontal",
      "style": "IPY_MODEL_80b57c14f3b044c78bf02aef20349e4f",
      "value": 124
     }
    },
    "53594c1b15854545ad78157731d26c2c": {
     "model_module": "@jupyter-widgets/controls",
     "model_module_version": "1.5.0",
     "model_name": "HTMLModel",
     "state": {
      "_dom_classes": [],
      "_model_module": "@jupyter-widgets/controls",
      "_model_module_version": "1.5.0",
      "_model_name": "HTMLModel",
      "_view_count": null,
      "_view_module": "@jupyter-widgets/controls",
      "_view_module_version": "1.5.0",
      "_view_name": "HTMLView",
      "description": "",
      "description_tooltip": null,
      "layout": "IPY_MODEL_c6a4d93bb99e4ec7af10bebd256ff963",
      "placeholder": "​",
      "style": "IPY_MODEL_1a4623f10d204772b9f34fb75bcb820a",
      "value": " 50/50 [00:08&lt;00:00,  5.95it/s]"
     }
    },
    "5998797a59df423f9dffb010241e4d43": {
     "model_module": "@jupyter-widgets/controls",
     "model_module_version": "1.5.0",
     "model_name": "FloatProgressModel",
     "state": {
      "_dom_classes": [],
      "_model_module": "@jupyter-widgets/controls",
      "_model_module_version": "1.5.0",
      "_model_name": "FloatProgressModel",
      "_view_count": null,
      "_view_module": "@jupyter-widgets/controls",
      "_view_module_version": "1.5.0",
      "_view_name": "ProgressView",
      "bar_style": "success",
      "description": "",
      "description_tooltip": null,
      "layout": "IPY_MODEL_f59b0fa458214233a845265c84ee57da",
      "max": 50,
      "min": 0,
      "orientation": "horizontal",
      "style": "IPY_MODEL_8b5d5cd6dca242198e4fdda139aba4f1",
      "value": 50
     }
    },
    "5abafb3a5c3347ed945eeec8f1473658": {
     "model_module": "@jupyter-widgets/base",
     "model_module_version": "1.2.0",
     "model_name": "LayoutModel",
     "state": {
      "_model_module": "@jupyter-widgets/base",
      "_model_module_version": "1.2.0",
      "_model_name": "LayoutModel",
      "_view_count": null,
      "_view_module": "@jupyter-widgets/base",
      "_view_module_version": "1.2.0",
      "_view_name": "LayoutView",
      "align_content": null,
      "align_items": null,
      "align_self": null,
      "border": null,
      "bottom": null,
      "display": null,
      "flex": null,
      "flex_flow": null,
      "grid_area": null,
      "grid_auto_columns": null,
      "grid_auto_flow": null,
      "grid_auto_rows": null,
      "grid_column": null,
      "grid_gap": null,
      "grid_row": null,
      "grid_template_areas": null,
      "grid_template_columns": null,
      "grid_template_rows": null,
      "height": null,
      "justify_content": null,
      "justify_items": null,
      "left": null,
      "margin": null,
      "max_height": null,
      "max_width": null,
      "min_height": null,
      "min_width": null,
      "object_fit": null,
      "object_position": null,
      "order": null,
      "overflow": null,
      "overflow_x": null,
      "overflow_y": null,
      "padding": null,
      "right": null,
      "top": null,
      "visibility": null,
      "width": null
     }
    },
    "5adc73f0f05b4c9ea1e966c143aa437b": {
     "model_module": "@jupyter-widgets/base",
     "model_module_version": "1.2.0",
     "model_name": "LayoutModel",
     "state": {
      "_model_module": "@jupyter-widgets/base",
      "_model_module_version": "1.2.0",
      "_model_name": "LayoutModel",
      "_view_count": null,
      "_view_module": "@jupyter-widgets/base",
      "_view_module_version": "1.2.0",
      "_view_name": "LayoutView",
      "align_content": null,
      "align_items": null,
      "align_self": null,
      "border": null,
      "bottom": null,
      "display": null,
      "flex": null,
      "flex_flow": null,
      "grid_area": null,
      "grid_auto_columns": null,
      "grid_auto_flow": null,
      "grid_auto_rows": null,
      "grid_column": null,
      "grid_gap": null,
      "grid_row": null,
      "grid_template_areas": null,
      "grid_template_columns": null,
      "grid_template_rows": null,
      "height": null,
      "justify_content": null,
      "justify_items": null,
      "left": null,
      "margin": null,
      "max_height": null,
      "max_width": null,
      "min_height": null,
      "min_width": null,
      "object_fit": null,
      "object_position": null,
      "order": null,
      "overflow": null,
      "overflow_x": null,
      "overflow_y": null,
      "padding": null,
      "right": null,
      "top": null,
      "visibility": null,
      "width": null
     }
    },
    "5b4cac3daa9a4740b98314fded2d5d71": {
     "model_module": "@jupyter-widgets/base",
     "model_module_version": "1.2.0",
     "model_name": "LayoutModel",
     "state": {
      "_model_module": "@jupyter-widgets/base",
      "_model_module_version": "1.2.0",
      "_model_name": "LayoutModel",
      "_view_count": null,
      "_view_module": "@jupyter-widgets/base",
      "_view_module_version": "1.2.0",
      "_view_name": "LayoutView",
      "align_content": null,
      "align_items": null,
      "align_self": null,
      "border": null,
      "bottom": null,
      "display": null,
      "flex": null,
      "flex_flow": null,
      "grid_area": null,
      "grid_auto_columns": null,
      "grid_auto_flow": null,
      "grid_auto_rows": null,
      "grid_column": null,
      "grid_gap": null,
      "grid_row": null,
      "grid_template_areas": null,
      "grid_template_columns": null,
      "grid_template_rows": null,
      "height": null,
      "justify_content": null,
      "justify_items": null,
      "left": null,
      "margin": null,
      "max_height": null,
      "max_width": null,
      "min_height": null,
      "min_width": null,
      "object_fit": null,
      "object_position": null,
      "order": null,
      "overflow": null,
      "overflow_x": null,
      "overflow_y": null,
      "padding": null,
      "right": null,
      "top": null,
      "visibility": null,
      "width": null
     }
    },
    "5b6a72a88e0b4b69a09313dfdb4ffb98": {
     "model_module": "@jupyter-widgets/controls",
     "model_module_version": "1.5.0",
     "model_name": "HBoxModel",
     "state": {
      "_dom_classes": [],
      "_model_module": "@jupyter-widgets/controls",
      "_model_module_version": "1.5.0",
      "_model_name": "HBoxModel",
      "_view_count": null,
      "_view_module": "@jupyter-widgets/controls",
      "_view_module_version": "1.5.0",
      "_view_name": "HBoxView",
      "box_style": "",
      "children": [
       "IPY_MODEL_37e3732b35bf415c94f956df86929ffd",
       "IPY_MODEL_5998797a59df423f9dffb010241e4d43",
       "IPY_MODEL_3aee9158efbe4798b4dd801720922024"
      ],
      "layout": "IPY_MODEL_5120f2d09c3a461f88a6a495a2a7f04a"
     }
    },
    "5e77e9d1d1df4bbfafd149493ab122cd": {
     "model_module": "@jupyter-widgets/controls",
     "model_module_version": "1.5.0",
     "model_name": "ProgressStyleModel",
     "state": {
      "_model_module": "@jupyter-widgets/controls",
      "_model_module_version": "1.5.0",
      "_model_name": "ProgressStyleModel",
      "_view_count": null,
      "_view_module": "@jupyter-widgets/base",
      "_view_module_version": "1.2.0",
      "_view_name": "StyleView",
      "bar_color": null,
      "description_width": ""
     }
    },
    "6380bd0f6b0d4651870a003aebeba9e6": {
     "model_module": "@jupyter-widgets/controls",
     "model_module_version": "1.5.0",
     "model_name": "DescriptionStyleModel",
     "state": {
      "_model_module": "@jupyter-widgets/controls",
      "_model_module_version": "1.5.0",
      "_model_name": "DescriptionStyleModel",
      "_view_count": null,
      "_view_module": "@jupyter-widgets/base",
      "_view_module_version": "1.2.0",
      "_view_name": "StyleView",
      "description_width": ""
     }
    },
    "6ed7f0acda694148a7712ea3c085d70a": {
     "model_module": "@jupyter-widgets/controls",
     "model_module_version": "1.5.0",
     "model_name": "DescriptionStyleModel",
     "state": {
      "_model_module": "@jupyter-widgets/controls",
      "_model_module_version": "1.5.0",
      "_model_name": "DescriptionStyleModel",
      "_view_count": null,
      "_view_module": "@jupyter-widgets/base",
      "_view_module_version": "1.2.0",
      "_view_name": "StyleView",
      "description_width": ""
     }
    },
    "6f9b52d5dbb7488b9bdc5adf4ffdc77e": {
     "model_module": "@jupyter-widgets/controls",
     "model_module_version": "1.5.0",
     "model_name": "DescriptionStyleModel",
     "state": {
      "_model_module": "@jupyter-widgets/controls",
      "_model_module_version": "1.5.0",
      "_model_name": "DescriptionStyleModel",
      "_view_count": null,
      "_view_module": "@jupyter-widgets/base",
      "_view_module_version": "1.2.0",
      "_view_name": "StyleView",
      "description_width": ""
     }
    },
    "6fb0438a035b4276a0f976ca5d189126": {
     "model_module": "@jupyter-widgets/controls",
     "model_module_version": "1.5.0",
     "model_name": "HTMLModel",
     "state": {
      "_dom_classes": [],
      "_model_module": "@jupyter-widgets/controls",
      "_model_module_version": "1.5.0",
      "_model_name": "HTMLModel",
      "_view_count": null,
      "_view_module": "@jupyter-widgets/controls",
      "_view_module_version": "1.5.0",
      "_view_name": "HTMLView",
      "description": "",
      "description_tooltip": null,
      "layout": "IPY_MODEL_dbe3864b74a44d968522cfcd72bbd8a0",
      "placeholder": "​",
      "style": "IPY_MODEL_3561458d90c84307b6effe558040eeec",
      "value": " 98.4k/98.4k [00:00&lt;00:00, 2.84MB/s]"
     }
    },
    "7020a420c1ee4f62b467af0263573c95": {
     "model_module": "@jupyter-widgets/controls",
     "model_module_version": "1.5.0",
     "model_name": "HTMLModel",
     "state": {
      "_dom_classes": [],
      "_model_module": "@jupyter-widgets/controls",
      "_model_module_version": "1.5.0",
      "_model_name": "HTMLModel",
      "_view_count": null,
      "_view_module": "@jupyter-widgets/controls",
      "_view_module_version": "1.5.0",
      "_view_name": "HTMLView",
      "description": "",
      "description_tooltip": null,
      "layout": "IPY_MODEL_eded63a0e8b8430396c661db85b680dd",
      "placeholder": "​",
      "style": "IPY_MODEL_a12634c045eb47b786ecd8124c10fb76",
      "value": " 50/50 [00:14&lt;00:00,  2.78it/s]"
     }
    },
    "72aca2cff6f84722bb47902e92e5c7b3": {
     "model_module": "@jupyter-widgets/controls",
     "model_module_version": "1.5.0",
     "model_name": "HTMLModel",
     "state": {
      "_dom_classes": [],
      "_model_module": "@jupyter-widgets/controls",
      "_model_module_version": "1.5.0",
      "_model_name": "HTMLModel",
      "_view_count": null,
      "_view_module": "@jupyter-widgets/controls",
      "_view_module_version": "1.5.0",
      "_view_name": "HTMLView",
      "description": "",
      "description_tooltip": null,
      "layout": "IPY_MODEL_8eebdfb65d9e4917957d303d49b6572b",
      "placeholder": "​",
      "style": "IPY_MODEL_9b4c23b8403040c39102a7b8fa4826ca",
      "value": "blocks.9.hook_resid_pre/cfg.json: 100%"
     }
    },
    "7b56f01d6ebb46b0a903ee39bd631525": {
     "model_module": "@jupyter-widgets/controls",
     "model_module_version": "1.5.0",
     "model_name": "HTMLModel",
     "state": {
      "_dom_classes": [],
      "_model_module": "@jupyter-widgets/controls",
      "_model_module_version": "1.5.0",
      "_model_name": "HTMLModel",
      "_view_count": null,
      "_view_module": "@jupyter-widgets/controls",
      "_view_module_version": "1.5.0",
      "_view_name": "HTMLView",
      "description": "",
      "description_tooltip": null,
      "layout": "IPY_MODEL_5abafb3a5c3347ed945eeec8f1473658",
      "placeholder": "​",
      "style": "IPY_MODEL_6ed7f0acda694148a7712ea3c085d70a",
      "value": "generation_config.json: 100%"
     }
    },
    "7f7522ac96574de4a1d1042257061016": {
     "model_module": "@jupyter-widgets/base",
     "model_module_version": "1.2.0",
     "model_name": "LayoutModel",
     "state": {
      "_model_module": "@jupyter-widgets/base",
      "_model_module_version": "1.2.0",
      "_model_name": "LayoutModel",
      "_view_count": null,
      "_view_module": "@jupyter-widgets/base",
      "_view_module_version": "1.2.0",
      "_view_name": "LayoutView",
      "align_content": null,
      "align_items": null,
      "align_self": null,
      "border": null,
      "bottom": null,
      "display": null,
      "flex": null,
      "flex_flow": null,
      "grid_area": null,
      "grid_auto_columns": null,
      "grid_auto_flow": null,
      "grid_auto_rows": null,
      "grid_column": null,
      "grid_gap": null,
      "grid_row": null,
      "grid_template_areas": null,
      "grid_template_columns": null,
      "grid_template_rows": null,
      "height": null,
      "justify_content": null,
      "justify_items": null,
      "left": null,
      "margin": null,
      "max_height": null,
      "max_width": null,
      "min_height": null,
      "min_width": null,
      "object_fit": null,
      "object_position": null,
      "order": null,
      "overflow": null,
      "overflow_x": null,
      "overflow_y": null,
      "padding": null,
      "right": null,
      "top": null,
      "visibility": null,
      "width": null
     }
    },
    "80b57c14f3b044c78bf02aef20349e4f": {
     "model_module": "@jupyter-widgets/controls",
     "model_module_version": "1.5.0",
     "model_name": "ProgressStyleModel",
     "state": {
      "_model_module": "@jupyter-widgets/controls",
      "_model_module_version": "1.5.0",
      "_model_name": "ProgressStyleModel",
      "_view_count": null,
      "_view_module": "@jupyter-widgets/base",
      "_view_module_version": "1.2.0",
      "_view_name": "StyleView",
      "bar_color": null,
      "description_width": ""
     }
    },
    "88604589ba3a445d8789761bfd9ec70b": {
     "model_module": "@jupyter-widgets/base",
     "model_module_version": "1.2.0",
     "model_name": "LayoutModel",
     "state": {
      "_model_module": "@jupyter-widgets/base",
      "_model_module_version": "1.2.0",
      "_model_name": "LayoutModel",
      "_view_count": null,
      "_view_module": "@jupyter-widgets/base",
      "_view_module_version": "1.2.0",
      "_view_name": "LayoutView",
      "align_content": null,
      "align_items": null,
      "align_self": null,
      "border": null,
      "bottom": null,
      "display": null,
      "flex": null,
      "flex_flow": null,
      "grid_area": null,
      "grid_auto_columns": null,
      "grid_auto_flow": null,
      "grid_auto_rows": null,
      "grid_column": null,
      "grid_gap": null,
      "grid_row": null,
      "grid_template_areas": null,
      "grid_template_columns": null,
      "grid_template_rows": null,
      "height": null,
      "justify_content": null,
      "justify_items": null,
      "left": null,
      "margin": null,
      "max_height": null,
      "max_width": null,
      "min_height": null,
      "min_width": null,
      "object_fit": null,
      "object_position": null,
      "order": null,
      "overflow": null,
      "overflow_x": null,
      "overflow_y": null,
      "padding": null,
      "right": null,
      "top": null,
      "visibility": null,
      "width": null
     }
    },
    "8b5d5cd6dca242198e4fdda139aba4f1": {
     "model_module": "@jupyter-widgets/controls",
     "model_module_version": "1.5.0",
     "model_name": "ProgressStyleModel",
     "state": {
      "_model_module": "@jupyter-widgets/controls",
      "_model_module_version": "1.5.0",
      "_model_name": "ProgressStyleModel",
      "_view_count": null,
      "_view_module": "@jupyter-widgets/base",
      "_view_module_version": "1.2.0",
      "_view_name": "StyleView",
      "bar_color": null,
      "description_width": ""
     }
    },
    "8bcb7c9a2c904a218adc8c735ceb3d8d": {
     "model_module": "@jupyter-widgets/base",
     "model_module_version": "1.2.0",
     "model_name": "LayoutModel",
     "state": {
      "_model_module": "@jupyter-widgets/base",
      "_model_module_version": "1.2.0",
      "_model_name": "LayoutModel",
      "_view_count": null,
      "_view_module": "@jupyter-widgets/base",
      "_view_module_version": "1.2.0",
      "_view_name": "LayoutView",
      "align_content": null,
      "align_items": null,
      "align_self": null,
      "border": null,
      "bottom": null,
      "display": null,
      "flex": null,
      "flex_flow": null,
      "grid_area": null,
      "grid_auto_columns": null,
      "grid_auto_flow": null,
      "grid_auto_rows": null,
      "grid_column": null,
      "grid_gap": null,
      "grid_row": null,
      "grid_template_areas": null,
      "grid_template_columns": null,
      "grid_template_rows": null,
      "height": null,
      "justify_content": null,
      "justify_items": null,
      "left": null,
      "margin": null,
      "max_height": null,
      "max_width": null,
      "min_height": null,
      "min_width": null,
      "object_fit": null,
      "object_position": null,
      "order": null,
      "overflow": null,
      "overflow_x": null,
      "overflow_y": null,
      "padding": null,
      "right": null,
      "top": null,
      "visibility": null,
      "width": null
     }
    },
    "8d813fb6aab34e9c92f7453cec962bc0": {
     "model_module": "@jupyter-widgets/base",
     "model_module_version": "1.2.0",
     "model_name": "LayoutModel",
     "state": {
      "_model_module": "@jupyter-widgets/base",
      "_model_module_version": "1.2.0",
      "_model_name": "LayoutModel",
      "_view_count": null,
      "_view_module": "@jupyter-widgets/base",
      "_view_module_version": "1.2.0",
      "_view_name": "LayoutView",
      "align_content": null,
      "align_items": null,
      "align_self": null,
      "border": null,
      "bottom": null,
      "display": null,
      "flex": null,
      "flex_flow": null,
      "grid_area": null,
      "grid_auto_columns": null,
      "grid_auto_flow": null,
      "grid_auto_rows": null,
      "grid_column": null,
      "grid_gap": null,
      "grid_row": null,
      "grid_template_areas": null,
      "grid_template_columns": null,
      "grid_template_rows": null,
      "height": null,
      "justify_content": null,
      "justify_items": null,
      "left": null,
      "margin": null,
      "max_height": null,
      "max_width": null,
      "min_height": null,
      "min_width": null,
      "object_fit": null,
      "object_position": null,
      "order": null,
      "overflow": null,
      "overflow_x": null,
      "overflow_y": null,
      "padding": null,
      "right": null,
      "top": null,
      "visibility": null,
      "width": null
     }
    },
    "8d9649e119574a65ad1c7b4b95864520": {
     "model_module": "@jupyter-widgets/base",
     "model_module_version": "1.2.0",
     "model_name": "LayoutModel",
     "state": {
      "_model_module": "@jupyter-widgets/base",
      "_model_module_version": "1.2.0",
      "_model_name": "LayoutModel",
      "_view_count": null,
      "_view_module": "@jupyter-widgets/base",
      "_view_module_version": "1.2.0",
      "_view_name": "LayoutView",
      "align_content": null,
      "align_items": null,
      "align_self": null,
      "border": null,
      "bottom": null,
      "display": null,
      "flex": null,
      "flex_flow": null,
      "grid_area": null,
      "grid_auto_columns": null,
      "grid_auto_flow": null,
      "grid_auto_rows": null,
      "grid_column": null,
      "grid_gap": null,
      "grid_row": null,
      "grid_template_areas": null,
      "grid_template_columns": null,
      "grid_template_rows": null,
      "height": null,
      "justify_content": null,
      "justify_items": null,
      "left": null,
      "margin": null,
      "max_height": null,
      "max_width": null,
      "min_height": null,
      "min_width": null,
      "object_fit": null,
      "object_position": null,
      "order": null,
      "overflow": null,
      "overflow_x": null,
      "overflow_y": null,
      "padding": null,
      "right": null,
      "top": null,
      "visibility": null,
      "width": null
     }
    },
    "8eebdfb65d9e4917957d303d49b6572b": {
     "model_module": "@jupyter-widgets/base",
     "model_module_version": "1.2.0",
     "model_name": "LayoutModel",
     "state": {
      "_model_module": "@jupyter-widgets/base",
      "_model_module_version": "1.2.0",
      "_model_name": "LayoutModel",
      "_view_count": null,
      "_view_module": "@jupyter-widgets/base",
      "_view_module_version": "1.2.0",
      "_view_name": "LayoutView",
      "align_content": null,
      "align_items": null,
      "align_self": null,
      "border": null,
      "bottom": null,
      "display": null,
      "flex": null,
      "flex_flow": null,
      "grid_area": null,
      "grid_auto_columns": null,
      "grid_auto_flow": null,
      "grid_auto_rows": null,
      "grid_column": null,
      "grid_gap": null,
      "grid_row": null,
      "grid_template_areas": null,
      "grid_template_columns": null,
      "grid_template_rows": null,
      "height": null,
      "justify_content": null,
      "justify_items": null,
      "left": null,
      "margin": null,
      "max_height": null,
      "max_width": null,
      "min_height": null,
      "min_width": null,
      "object_fit": null,
      "object_position": null,
      "order": null,
      "overflow": null,
      "overflow_x": null,
      "overflow_y": null,
      "padding": null,
      "right": null,
      "top": null,
      "visibility": null,
      "width": null
     }
    },
    "935430fc114848fda242d0d63d814d8e": {
     "model_module": "@jupyter-widgets/controls",
     "model_module_version": "1.5.0",
     "model_name": "HBoxModel",
     "state": {
      "_dom_classes": [],
      "_model_module": "@jupyter-widgets/controls",
      "_model_module_version": "1.5.0",
      "_model_name": "HBoxModel",
      "_view_count": null,
      "_view_module": "@jupyter-widgets/controls",
      "_view_module_version": "1.5.0",
      "_view_name": "HBoxView",
      "box_style": "",
      "children": [
       "IPY_MODEL_ed560dd8b7b44ac5bf91a4e9febf9f51",
       "IPY_MODEL_c396bc83eb624461ad133d901690d4e3",
       "IPY_MODEL_6fb0438a035b4276a0f976ca5d189126"
      ],
      "layout": "IPY_MODEL_e6eb0f4a38944f0192b77e19c6f53f04"
     }
    },
    "9466f81614cc4e99b40a79b7e9f79623": {
     "model_module": "@jupyter-widgets/controls",
     "model_module_version": "1.5.0",
     "model_name": "DescriptionStyleModel",
     "state": {
      "_model_module": "@jupyter-widgets/controls",
      "_model_module_version": "1.5.0",
      "_model_name": "DescriptionStyleModel",
      "_view_count": null,
      "_view_module": "@jupyter-widgets/base",
      "_view_module_version": "1.2.0",
      "_view_name": "StyleView",
      "description_width": ""
     }
    },
    "94bc484c524845fc8061c75266d55e95": {
     "model_module": "@jupyter-widgets/base",
     "model_module_version": "1.2.0",
     "model_name": "LayoutModel",
     "state": {
      "_model_module": "@jupyter-widgets/base",
      "_model_module_version": "1.2.0",
      "_model_name": "LayoutModel",
      "_view_count": null,
      "_view_module": "@jupyter-widgets/base",
      "_view_module_version": "1.2.0",
      "_view_name": "LayoutView",
      "align_content": null,
      "align_items": null,
      "align_self": null,
      "border": null,
      "bottom": null,
      "display": null,
      "flex": null,
      "flex_flow": null,
      "grid_area": null,
      "grid_auto_columns": null,
      "grid_auto_flow": null,
      "grid_auto_rows": null,
      "grid_column": null,
      "grid_gap": null,
      "grid_row": null,
      "grid_template_areas": null,
      "grid_template_columns": null,
      "grid_template_rows": null,
      "height": null,
      "justify_content": null,
      "justify_items": null,
      "left": null,
      "margin": null,
      "max_height": null,
      "max_width": null,
      "min_height": null,
      "min_width": null,
      "object_fit": null,
      "object_position": null,
      "order": null,
      "overflow": null,
      "overflow_x": null,
      "overflow_y": null,
      "padding": null,
      "right": null,
      "top": null,
      "visibility": null,
      "width": null
     }
    },
    "996e2f21e70f4c68842816bd1f7f3642": {
     "model_module": "@jupyter-widgets/controls",
     "model_module_version": "1.5.0",
     "model_name": "ProgressStyleModel",
     "state": {
      "_model_module": "@jupyter-widgets/controls",
      "_model_module_version": "1.5.0",
      "_model_name": "ProgressStyleModel",
      "_view_count": null,
      "_view_module": "@jupyter-widgets/base",
      "_view_module_version": "1.2.0",
      "_view_name": "StyleView",
      "bar_color": null,
      "description_width": ""
     }
    },
    "999e4884026f45e7aa01f53750e8795a": {
     "model_module": "@jupyter-widgets/base",
     "model_module_version": "1.2.0",
     "model_name": "LayoutModel",
     "state": {
      "_model_module": "@jupyter-widgets/base",
      "_model_module_version": "1.2.0",
      "_model_name": "LayoutModel",
      "_view_count": null,
      "_view_module": "@jupyter-widgets/base",
      "_view_module_version": "1.2.0",
      "_view_name": "LayoutView",
      "align_content": null,
      "align_items": null,
      "align_self": null,
      "border": null,
      "bottom": null,
      "display": null,
      "flex": null,
      "flex_flow": null,
      "grid_area": null,
      "grid_auto_columns": null,
      "grid_auto_flow": null,
      "grid_auto_rows": null,
      "grid_column": null,
      "grid_gap": null,
      "grid_row": null,
      "grid_template_areas": null,
      "grid_template_columns": null,
      "grid_template_rows": null,
      "height": null,
      "justify_content": null,
      "justify_items": null,
      "left": null,
      "margin": null,
      "max_height": null,
      "max_width": null,
      "min_height": null,
      "min_width": null,
      "object_fit": null,
      "object_position": null,
      "order": null,
      "overflow": null,
      "overflow_x": null,
      "overflow_y": null,
      "padding": null,
      "right": null,
      "top": null,
      "visibility": null,
      "width": null
     }
    },
    "99e892bcb17a4a4895630deb76b9e551": {
     "model_module": "@jupyter-widgets/controls",
     "model_module_version": "1.5.0",
     "model_name": "HTMLModel",
     "state": {
      "_dom_classes": [],
      "_model_module": "@jupyter-widgets/controls",
      "_model_module_version": "1.5.0",
      "_model_name": "HTMLModel",
      "_view_count": null,
      "_view_module": "@jupyter-widgets/controls",
      "_view_module_version": "1.5.0",
      "_view_name": "HTMLView",
      "description": "",
      "description_tooltip": null,
      "layout": "IPY_MODEL_8d9649e119574a65ad1c7b4b95864520",
      "placeholder": "​",
      "style": "IPY_MODEL_6f9b52d5dbb7488b9bdc5adf4ffdc77e",
      "value": "model.safetensors: 100%"
     }
    },
    "9b4c23b8403040c39102a7b8fa4826ca": {
     "model_module": "@jupyter-widgets/controls",
     "model_module_version": "1.5.0",
     "model_name": "DescriptionStyleModel",
     "state": {
      "_model_module": "@jupyter-widgets/controls",
      "_model_module_version": "1.5.0",
      "_model_name": "DescriptionStyleModel",
      "_view_count": null,
      "_view_module": "@jupyter-widgets/base",
      "_view_module_version": "1.2.0",
      "_view_name": "StyleView",
      "description_width": ""
     }
    },
    "a12634c045eb47b786ecd8124c10fb76": {
     "model_module": "@jupyter-widgets/controls",
     "model_module_version": "1.5.0",
     "model_name": "DescriptionStyleModel",
     "state": {
      "_model_module": "@jupyter-widgets/controls",
      "_model_module_version": "1.5.0",
      "_model_name": "DescriptionStyleModel",
      "_view_count": null,
      "_view_module": "@jupyter-widgets/base",
      "_view_module_version": "1.2.0",
      "_view_name": "StyleView",
      "description_width": ""
     }
    },
    "a3bb67e9dd484b8fb3dbee9b8b9f1d16": {
     "model_module": "@jupyter-widgets/base",
     "model_module_version": "1.2.0",
     "model_name": "LayoutModel",
     "state": {
      "_model_module": "@jupyter-widgets/base",
      "_model_module_version": "1.2.0",
      "_model_name": "LayoutModel",
      "_view_count": null,
      "_view_module": "@jupyter-widgets/base",
      "_view_module_version": "1.2.0",
      "_view_name": "LayoutView",
      "align_content": null,
      "align_items": null,
      "align_self": null,
      "border": null,
      "bottom": null,
      "display": null,
      "flex": null,
      "flex_flow": null,
      "grid_area": null,
      "grid_auto_columns": null,
      "grid_auto_flow": null,
      "grid_auto_rows": null,
      "grid_column": null,
      "grid_gap": null,
      "grid_row": null,
      "grid_template_areas": null,
      "grid_template_columns": null,
      "grid_template_rows": null,
      "height": null,
      "justify_content": null,
      "justify_items": null,
      "left": null,
      "margin": null,
      "max_height": null,
      "max_width": null,
      "min_height": null,
      "min_width": null,
      "object_fit": null,
      "object_position": null,
      "order": null,
      "overflow": null,
      "overflow_x": null,
      "overflow_y": null,
      "padding": null,
      "right": null,
      "top": null,
      "visibility": null,
      "width": null
     }
    },
    "a67e6806d3a143e78e3ab8a70b5077ac": {
     "model_module": "@jupyter-widgets/base",
     "model_module_version": "1.2.0",
     "model_name": "LayoutModel",
     "state": {
      "_model_module": "@jupyter-widgets/base",
      "_model_module_version": "1.2.0",
      "_model_name": "LayoutModel",
      "_view_count": null,
      "_view_module": "@jupyter-widgets/base",
      "_view_module_version": "1.2.0",
      "_view_name": "LayoutView",
      "align_content": null,
      "align_items": null,
      "align_self": null,
      "border": null,
      "bottom": null,
      "display": null,
      "flex": null,
      "flex_flow": null,
      "grid_area": null,
      "grid_auto_columns": null,
      "grid_auto_flow": null,
      "grid_auto_rows": null,
      "grid_column": null,
      "grid_gap": null,
      "grid_row": null,
      "grid_template_areas": null,
      "grid_template_columns": null,
      "grid_template_rows": null,
      "height": null,
      "justify_content": null,
      "justify_items": null,
      "left": null,
      "margin": null,
      "max_height": null,
      "max_width": null,
      "min_height": null,
      "min_width": null,
      "object_fit": null,
      "object_position": null,
      "order": null,
      "overflow": null,
      "overflow_x": null,
      "overflow_y": null,
      "padding": null,
      "right": null,
      "top": null,
      "visibility": null,
      "width": null
     }
    },
    "a77937b37e9249be9dc9f7be0ab0ba7c": {
     "model_module": "@jupyter-widgets/base",
     "model_module_version": "1.2.0",
     "model_name": "LayoutModel",
     "state": {
      "_model_module": "@jupyter-widgets/base",
      "_model_module_version": "1.2.0",
      "_model_name": "LayoutModel",
      "_view_count": null,
      "_view_module": "@jupyter-widgets/base",
      "_view_module_version": "1.2.0",
      "_view_name": "LayoutView",
      "align_content": null,
      "align_items": null,
      "align_self": null,
      "border": null,
      "bottom": null,
      "display": null,
      "flex": null,
      "flex_flow": null,
      "grid_area": null,
      "grid_auto_columns": null,
      "grid_auto_flow": null,
      "grid_auto_rows": null,
      "grid_column": null,
      "grid_gap": null,
      "grid_row": null,
      "grid_template_areas": null,
      "grid_template_columns": null,
      "grid_template_rows": null,
      "height": null,
      "justify_content": null,
      "justify_items": null,
      "left": null,
      "margin": null,
      "max_height": null,
      "max_width": null,
      "min_height": null,
      "min_width": null,
      "object_fit": null,
      "object_position": null,
      "order": null,
      "overflow": null,
      "overflow_x": null,
      "overflow_y": null,
      "padding": null,
      "right": null,
      "top": null,
      "visibility": null,
      "width": null
     }
    },
    "a7b0fbfe95704814a2956bc8f8031f54": {
     "model_module": "@jupyter-widgets/controls",
     "model_module_version": "1.5.0",
     "model_name": "ProgressStyleModel",
     "state": {
      "_model_module": "@jupyter-widgets/controls",
      "_model_module_version": "1.5.0",
      "_model_name": "ProgressStyleModel",
      "_view_count": null,
      "_view_module": "@jupyter-widgets/base",
      "_view_module_version": "1.2.0",
      "_view_name": "StyleView",
      "bar_color": null,
      "description_width": ""
     }
    },
    "a8b5713df7d541b8b4d82be9e81896d1": {
     "model_module": "@jupyter-widgets/base",
     "model_module_version": "1.2.0",
     "model_name": "LayoutModel",
     "state": {
      "_model_module": "@jupyter-widgets/base",
      "_model_module_version": "1.2.0",
      "_model_name": "LayoutModel",
      "_view_count": null,
      "_view_module": "@jupyter-widgets/base",
      "_view_module_version": "1.2.0",
      "_view_name": "LayoutView",
      "align_content": null,
      "align_items": null,
      "align_self": null,
      "border": null,
      "bottom": null,
      "display": null,
      "flex": null,
      "flex_flow": null,
      "grid_area": null,
      "grid_auto_columns": null,
      "grid_auto_flow": null,
      "grid_auto_rows": null,
      "grid_column": null,
      "grid_gap": null,
      "grid_row": null,
      "grid_template_areas": null,
      "grid_template_columns": null,
      "grid_template_rows": null,
      "height": null,
      "justify_content": null,
      "justify_items": null,
      "left": null,
      "margin": null,
      "max_height": null,
      "max_width": null,
      "min_height": null,
      "min_width": null,
      "object_fit": null,
      "object_position": null,
      "order": null,
      "overflow": null,
      "overflow_x": null,
      "overflow_y": null,
      "padding": null,
      "right": null,
      "top": null,
      "visibility": null,
      "width": null
     }
    },
    "a9077d2424a04ba093a692259d8bd34f": {
     "model_module": "@jupyter-widgets/controls",
     "model_module_version": "1.5.0",
     "model_name": "HTMLModel",
     "state": {
      "_dom_classes": [],
      "_model_module": "@jupyter-widgets/controls",
      "_model_module_version": "1.5.0",
      "_model_name": "HTMLModel",
      "_view_count": null,
      "_view_module": "@jupyter-widgets/controls",
      "_view_module_version": "1.5.0",
      "_view_name": "HTMLView",
      "description": "",
      "description_tooltip": null,
      "layout": "IPY_MODEL_b30f6d51eb5444a1b78b93afe065263a",
      "placeholder": "​",
      "style": "IPY_MODEL_e278827435174205b089ee3f0e10a30e",
      "value": " 124/124 [00:00&lt;00:00, 6.30kB/s]"
     }
    },
    "a9fda27e22d34d2495d71f41e666177b": {
     "model_module": "@jupyter-widgets/controls",
     "model_module_version": "1.5.0",
     "model_name": "DescriptionStyleModel",
     "state": {
      "_model_module": "@jupyter-widgets/controls",
      "_model_module_version": "1.5.0",
      "_model_name": "DescriptionStyleModel",
      "_view_count": null,
      "_view_module": "@jupyter-widgets/base",
      "_view_module_version": "1.2.0",
      "_view_name": "StyleView",
      "description_width": ""
     }
    },
    "ac0dbead4a8f40cf8bc12946cf64e64d": {
     "model_module": "@jupyter-widgets/base",
     "model_module_version": "1.2.0",
     "model_name": "LayoutModel",
     "state": {
      "_model_module": "@jupyter-widgets/base",
      "_model_module_version": "1.2.0",
      "_model_name": "LayoutModel",
      "_view_count": null,
      "_view_module": "@jupyter-widgets/base",
      "_view_module_version": "1.2.0",
      "_view_name": "LayoutView",
      "align_content": null,
      "align_items": null,
      "align_self": null,
      "border": null,
      "bottom": null,
      "display": null,
      "flex": null,
      "flex_flow": null,
      "grid_area": null,
      "grid_auto_columns": null,
      "grid_auto_flow": null,
      "grid_auto_rows": null,
      "grid_column": null,
      "grid_gap": null,
      "grid_row": null,
      "grid_template_areas": null,
      "grid_template_columns": null,
      "grid_template_rows": null,
      "height": null,
      "justify_content": null,
      "justify_items": null,
      "left": null,
      "margin": null,
      "max_height": null,
      "max_width": null,
      "min_height": null,
      "min_width": null,
      "object_fit": null,
      "object_position": null,
      "order": null,
      "overflow": null,
      "overflow_x": null,
      "overflow_y": null,
      "padding": null,
      "right": null,
      "top": null,
      "visibility": null,
      "width": null
     }
    },
    "b237d65e730d460fa7e37ab9cf4553d2": {
     "model_module": "@jupyter-widgets/base",
     "model_module_version": "1.2.0",
     "model_name": "LayoutModel",
     "state": {
      "_model_module": "@jupyter-widgets/base",
      "_model_module_version": "1.2.0",
      "_model_name": "LayoutModel",
      "_view_count": null,
      "_view_module": "@jupyter-widgets/base",
      "_view_module_version": "1.2.0",
      "_view_name": "LayoutView",
      "align_content": null,
      "align_items": null,
      "align_self": null,
      "border": null,
      "bottom": null,
      "display": null,
      "flex": null,
      "flex_flow": null,
      "grid_area": null,
      "grid_auto_columns": null,
      "grid_auto_flow": null,
      "grid_auto_rows": null,
      "grid_column": null,
      "grid_gap": null,
      "grid_row": null,
      "grid_template_areas": null,
      "grid_template_columns": null,
      "grid_template_rows": null,
      "height": null,
      "justify_content": null,
      "justify_items": null,
      "left": null,
      "margin": null,
      "max_height": null,
      "max_width": null,
      "min_height": null,
      "min_width": null,
      "object_fit": null,
      "object_position": null,
      "order": null,
      "overflow": null,
      "overflow_x": null,
      "overflow_y": null,
      "padding": null,
      "right": null,
      "top": null,
      "visibility": null,
      "width": null
     }
    },
    "b30f6d51eb5444a1b78b93afe065263a": {
     "model_module": "@jupyter-widgets/base",
     "model_module_version": "1.2.0",
     "model_name": "LayoutModel",
     "state": {
      "_model_module": "@jupyter-widgets/base",
      "_model_module_version": "1.2.0",
      "_model_name": "LayoutModel",
      "_view_count": null,
      "_view_module": "@jupyter-widgets/base",
      "_view_module_version": "1.2.0",
      "_view_name": "LayoutView",
      "align_content": null,
      "align_items": null,
      "align_self": null,
      "border": null,
      "bottom": null,
      "display": null,
      "flex": null,
      "flex_flow": null,
      "grid_area": null,
      "grid_auto_columns": null,
      "grid_auto_flow": null,
      "grid_auto_rows": null,
      "grid_column": null,
      "grid_gap": null,
      "grid_row": null,
      "grid_template_areas": null,
      "grid_template_columns": null,
      "grid_template_rows": null,
      "height": null,
      "justify_content": null,
      "justify_items": null,
      "left": null,
      "margin": null,
      "max_height": null,
      "max_width": null,
      "min_height": null,
      "min_width": null,
      "object_fit": null,
      "object_position": null,
      "order": null,
      "overflow": null,
      "overflow_x": null,
      "overflow_y": null,
      "padding": null,
      "right": null,
      "top": null,
      "visibility": null,
      "width": null
     }
    },
    "b3b8250dd1e14176b72b2d9bf4ba0626": {
     "model_module": "@jupyter-widgets/controls",
     "model_module_version": "1.5.0",
     "model_name": "HTMLModel",
     "state": {
      "_dom_classes": [],
      "_model_module": "@jupyter-widgets/controls",
      "_model_module_version": "1.5.0",
      "_model_name": "HTMLModel",
      "_view_count": null,
      "_view_module": "@jupyter-widgets/controls",
      "_view_module_version": "1.5.0",
      "_view_name": "HTMLView",
      "description": "",
      "description_tooltip": null,
      "layout": "IPY_MODEL_a67e6806d3a143e78e3ab8a70b5077ac",
      "placeholder": "​",
      "style": "IPY_MODEL_3583ca0429874dbaa0d06c9c31c556cd",
      "value": "100%"
     }
    },
    "c396bc83eb624461ad133d901690d4e3": {
     "model_module": "@jupyter-widgets/controls",
     "model_module_version": "1.5.0",
     "model_name": "FloatProgressModel",
     "state": {
      "_dom_classes": [],
      "_model_module": "@jupyter-widgets/controls",
      "_model_module_version": "1.5.0",
      "_model_name": "FloatProgressModel",
      "_view_count": null,
      "_view_module": "@jupyter-widgets/controls",
      "_view_module_version": "1.5.0",
      "_view_name": "ProgressView",
      "bar_style": "success",
      "description": "",
      "description_tooltip": null,
      "layout": "IPY_MODEL_a3bb67e9dd484b8fb3dbee9b8b9f1d16",
      "max": 98384,
      "min": 0,
      "orientation": "horizontal",
      "style": "IPY_MODEL_f48f22206df242e0b31ca6eec2c3ab94",
      "value": 98384
     }
    },
    "c3db0b79c4564c1fb9acfa7e650cc5bf": {
     "model_module": "@jupyter-widgets/controls",
     "model_module_version": "1.5.0",
     "model_name": "DescriptionStyleModel",
     "state": {
      "_model_module": "@jupyter-widgets/controls",
      "_model_module_version": "1.5.0",
      "_model_name": "DescriptionStyleModel",
      "_view_count": null,
      "_view_module": "@jupyter-widgets/base",
      "_view_module_version": "1.2.0",
      "_view_name": "StyleView",
      "description_width": ""
     }
    },
    "c6a4d93bb99e4ec7af10bebd256ff963": {
     "model_module": "@jupyter-widgets/base",
     "model_module_version": "1.2.0",
     "model_name": "LayoutModel",
     "state": {
      "_model_module": "@jupyter-widgets/base",
      "_model_module_version": "1.2.0",
      "_model_name": "LayoutModel",
      "_view_count": null,
      "_view_module": "@jupyter-widgets/base",
      "_view_module_version": "1.2.0",
      "_view_name": "LayoutView",
      "align_content": null,
      "align_items": null,
      "align_self": null,
      "border": null,
      "bottom": null,
      "display": null,
      "flex": null,
      "flex_flow": null,
      "grid_area": null,
      "grid_auto_columns": null,
      "grid_auto_flow": null,
      "grid_auto_rows": null,
      "grid_column": null,
      "grid_gap": null,
      "grid_row": null,
      "grid_template_areas": null,
      "grid_template_columns": null,
      "grid_template_rows": null,
      "height": null,
      "justify_content": null,
      "justify_items": null,
      "left": null,
      "margin": null,
      "max_height": null,
      "max_width": null,
      "min_height": null,
      "min_width": null,
      "object_fit": null,
      "object_position": null,
      "order": null,
      "overflow": null,
      "overflow_x": null,
      "overflow_y": null,
      "padding": null,
      "right": null,
      "top": null,
      "visibility": null,
      "width": null
     }
    },
    "cdc2a31cd1514518a1b8cdbaacd45be0": {
     "model_module": "@jupyter-widgets/controls",
     "model_module_version": "1.5.0",
     "model_name": "HBoxModel",
     "state": {
      "_dom_classes": [],
      "_model_module": "@jupyter-widgets/controls",
      "_model_module_version": "1.5.0",
      "_model_name": "HBoxModel",
      "_view_count": null,
      "_view_module": "@jupyter-widgets/controls",
      "_view_module_version": "1.5.0",
      "_view_name": "HBoxView",
      "box_style": "",
      "children": [
       "IPY_MODEL_3e5fc4bedd5e4acab6e1d73a81d22fd3",
       "IPY_MODEL_304469e0bcb94128bae4b85c57559a51",
       "IPY_MODEL_fd5399f7c2f2485ea60206c7383af4e6"
      ],
      "layout": "IPY_MODEL_8d813fb6aab34e9c92f7453cec962bc0"
     }
    },
    "cfcf6e36eaf74845b377c9e57bcd1d7f": {
     "model_module": "@jupyter-widgets/controls",
     "model_module_version": "1.5.0",
     "model_name": "ProgressStyleModel",
     "state": {
      "_model_module": "@jupyter-widgets/controls",
      "_model_module_version": "1.5.0",
      "_model_name": "ProgressStyleModel",
      "_view_count": null,
      "_view_module": "@jupyter-widgets/base",
      "_view_module_version": "1.2.0",
      "_view_name": "StyleView",
      "bar_color": null,
      "description_width": ""
     }
    },
    "dbe3864b74a44d968522cfcd72bbd8a0": {
     "model_module": "@jupyter-widgets/base",
     "model_module_version": "1.2.0",
     "model_name": "LayoutModel",
     "state": {
      "_model_module": "@jupyter-widgets/base",
      "_model_module_version": "1.2.0",
      "_model_name": "LayoutModel",
      "_view_count": null,
      "_view_module": "@jupyter-widgets/base",
      "_view_module_version": "1.2.0",
      "_view_name": "LayoutView",
      "align_content": null,
      "align_items": null,
      "align_self": null,
      "border": null,
      "bottom": null,
      "display": null,
      "flex": null,
      "flex_flow": null,
      "grid_area": null,
      "grid_auto_columns": null,
      "grid_auto_flow": null,
      "grid_auto_rows": null,
      "grid_column": null,
      "grid_gap": null,
      "grid_row": null,
      "grid_template_areas": null,
      "grid_template_columns": null,
      "grid_template_rows": null,
      "height": null,
      "justify_content": null,
      "justify_items": null,
      "left": null,
      "margin": null,
      "max_height": null,
      "max_width": null,
      "min_height": null,
      "min_width": null,
      "object_fit": null,
      "object_position": null,
      "order": null,
      "overflow": null,
      "overflow_x": null,
      "overflow_y": null,
      "padding": null,
      "right": null,
      "top": null,
      "visibility": null,
      "width": null
     }
    },
    "de4ae170101c46a2978c55e6ecb614fa": {
     "model_module": "@jupyter-widgets/controls",
     "model_module_version": "1.5.0",
     "model_name": "DescriptionStyleModel",
     "state": {
      "_model_module": "@jupyter-widgets/controls",
      "_model_module_version": "1.5.0",
      "_model_name": "DescriptionStyleModel",
      "_view_count": null,
      "_view_module": "@jupyter-widgets/base",
      "_view_module_version": "1.2.0",
      "_view_name": "StyleView",
      "description_width": ""
     }
    },
    "e278827435174205b089ee3f0e10a30e": {
     "model_module": "@jupyter-widgets/controls",
     "model_module_version": "1.5.0",
     "model_name": "DescriptionStyleModel",
     "state": {
      "_model_module": "@jupyter-widgets/controls",
      "_model_module_version": "1.5.0",
      "_model_name": "DescriptionStyleModel",
      "_view_count": null,
      "_view_module": "@jupyter-widgets/base",
      "_view_module_version": "1.2.0",
      "_view_name": "StyleView",
      "description_width": ""
     }
    },
    "e6eb0f4a38944f0192b77e19c6f53f04": {
     "model_module": "@jupyter-widgets/base",
     "model_module_version": "1.2.0",
     "model_name": "LayoutModel",
     "state": {
      "_model_module": "@jupyter-widgets/base",
      "_model_module_version": "1.2.0",
      "_model_name": "LayoutModel",
      "_view_count": null,
      "_view_module": "@jupyter-widgets/base",
      "_view_module_version": "1.2.0",
      "_view_name": "LayoutView",
      "align_content": null,
      "align_items": null,
      "align_self": null,
      "border": null,
      "bottom": null,
      "display": null,
      "flex": null,
      "flex_flow": null,
      "grid_area": null,
      "grid_auto_columns": null,
      "grid_auto_flow": null,
      "grid_auto_rows": null,
      "grid_column": null,
      "grid_gap": null,
      "grid_row": null,
      "grid_template_areas": null,
      "grid_template_columns": null,
      "grid_template_rows": null,
      "height": null,
      "justify_content": null,
      "justify_items": null,
      "left": null,
      "margin": null,
      "max_height": null,
      "max_width": null,
      "min_height": null,
      "min_width": null,
      "object_fit": null,
      "object_position": null,
      "order": null,
      "overflow": null,
      "overflow_x": null,
      "overflow_y": null,
      "padding": null,
      "right": null,
      "top": null,
      "visibility": null,
      "width": null
     }
    },
    "e8ccfe92166d45f38ee651d30b0a3150": {
     "model_module": "@jupyter-widgets/base",
     "model_module_version": "1.2.0",
     "model_name": "LayoutModel",
     "state": {
      "_model_module": "@jupyter-widgets/base",
      "_model_module_version": "1.2.0",
      "_model_name": "LayoutModel",
      "_view_count": null,
      "_view_module": "@jupyter-widgets/base",
      "_view_module_version": "1.2.0",
      "_view_name": "LayoutView",
      "align_content": null,
      "align_items": null,
      "align_self": null,
      "border": null,
      "bottom": null,
      "display": null,
      "flex": null,
      "flex_flow": null,
      "grid_area": null,
      "grid_auto_columns": null,
      "grid_auto_flow": null,
      "grid_auto_rows": null,
      "grid_column": null,
      "grid_gap": null,
      "grid_row": null,
      "grid_template_areas": null,
      "grid_template_columns": null,
      "grid_template_rows": null,
      "height": null,
      "justify_content": null,
      "justify_items": null,
      "left": null,
      "margin": null,
      "max_height": null,
      "max_width": null,
      "min_height": null,
      "min_width": null,
      "object_fit": null,
      "object_position": null,
      "order": null,
      "overflow": null,
      "overflow_x": null,
      "overflow_y": null,
      "padding": null,
      "right": null,
      "top": null,
      "visibility": null,
      "width": null
     }
    },
    "ed560dd8b7b44ac5bf91a4e9febf9f51": {
     "model_module": "@jupyter-widgets/controls",
     "model_module_version": "1.5.0",
     "model_name": "HTMLModel",
     "state": {
      "_dom_classes": [],
      "_model_module": "@jupyter-widgets/controls",
      "_model_module_version": "1.5.0",
      "_model_name": "HTMLModel",
      "_view_count": null,
      "_view_module": "@jupyter-widgets/controls",
      "_view_module_version": "1.5.0",
      "_view_name": "HTMLView",
      "description": "",
      "description_tooltip": null,
      "layout": "IPY_MODEL_f2f07cc4b19e436c93ccf72e6d6072e5",
      "placeholder": "​",
      "style": "IPY_MODEL_fc3dba6f259045528d91cb5d6b0721ec",
      "value": "sparsity.safetensors: 100%"
     }
    },
    "eded63a0e8b8430396c661db85b680dd": {
     "model_module": "@jupyter-widgets/base",
     "model_module_version": "1.2.0",
     "model_name": "LayoutModel",
     "state": {
      "_model_module": "@jupyter-widgets/base",
      "_model_module_version": "1.2.0",
      "_model_name": "LayoutModel",
      "_view_count": null,
      "_view_module": "@jupyter-widgets/base",
      "_view_module_version": "1.2.0",
      "_view_name": "LayoutView",
      "align_content": null,
      "align_items": null,
      "align_self": null,
      "border": null,
      "bottom": null,
      "display": null,
      "flex": null,
      "flex_flow": null,
      "grid_area": null,
      "grid_auto_columns": null,
      "grid_auto_flow": null,
      "grid_auto_rows": null,
      "grid_column": null,
      "grid_gap": null,
      "grid_row": null,
      "grid_template_areas": null,
      "grid_template_columns": null,
      "grid_template_rows": null,
      "height": null,
      "justify_content": null,
      "justify_items": null,
      "left": null,
      "margin": null,
      "max_height": null,
      "max_width": null,
      "min_height": null,
      "min_width": null,
      "object_fit": null,
      "object_position": null,
      "order": null,
      "overflow": null,
      "overflow_x": null,
      "overflow_y": null,
      "padding": null,
      "right": null,
      "top": null,
      "visibility": null,
      "width": null
     }
    },
    "ef7326b2935b4fb784d07b108c004e2f": {
     "model_module": "@jupyter-widgets/controls",
     "model_module_version": "1.5.0",
     "model_name": "FloatProgressModel",
     "state": {
      "_dom_classes": [],
      "_model_module": "@jupyter-widgets/controls",
      "_model_module_version": "1.5.0",
      "_model_name": "FloatProgressModel",
      "_view_count": null,
      "_view_module": "@jupyter-widgets/controls",
      "_view_module_version": "1.5.0",
      "_view_name": "ProgressView",
      "bar_style": "success",
      "description": "",
      "description_tooltip": null,
      "layout": "IPY_MODEL_34bb9ddcf64b455f839628ab4355c893",
      "max": 50,
      "min": 0,
      "orientation": "horizontal",
      "style": "IPY_MODEL_996e2f21e70f4c68842816bd1f7f3642",
      "value": 50
     }
    },
    "f0e6ac69a07242029183152c4435efc0": {
     "model_module": "@jupyter-widgets/controls",
     "model_module_version": "1.5.0",
     "model_name": "DescriptionStyleModel",
     "state": {
      "_model_module": "@jupyter-widgets/controls",
      "_model_module_version": "1.5.0",
      "_model_name": "DescriptionStyleModel",
      "_view_count": null,
      "_view_module": "@jupyter-widgets/base",
      "_view_module_version": "1.2.0",
      "_view_name": "StyleView",
      "description_width": ""
     }
    },
    "f2f07cc4b19e436c93ccf72e6d6072e5": {
     "model_module": "@jupyter-widgets/base",
     "model_module_version": "1.2.0",
     "model_name": "LayoutModel",
     "state": {
      "_model_module": "@jupyter-widgets/base",
      "_model_module_version": "1.2.0",
      "_model_name": "LayoutModel",
      "_view_count": null,
      "_view_module": "@jupyter-widgets/base",
      "_view_module_version": "1.2.0",
      "_view_name": "LayoutView",
      "align_content": null,
      "align_items": null,
      "align_self": null,
      "border": null,
      "bottom": null,
      "display": null,
      "flex": null,
      "flex_flow": null,
      "grid_area": null,
      "grid_auto_columns": null,
      "grid_auto_flow": null,
      "grid_auto_rows": null,
      "grid_column": null,
      "grid_gap": null,
      "grid_row": null,
      "grid_template_areas": null,
      "grid_template_columns": null,
      "grid_template_rows": null,
      "height": null,
      "justify_content": null,
      "justify_items": null,
      "left": null,
      "margin": null,
      "max_height": null,
      "max_width": null,
      "min_height": null,
      "min_width": null,
      "object_fit": null,
      "object_position": null,
      "order": null,
      "overflow": null,
      "overflow_x": null,
      "overflow_y": null,
      "padding": null,
      "right": null,
      "top": null,
      "visibility": null,
      "width": null
     }
    },
    "f3f13ab205d1439b9c2b3ff585a6025b": {
     "model_module": "@jupyter-widgets/controls",
     "model_module_version": "1.5.0",
     "model_name": "HTMLModel",
     "state": {
      "_dom_classes": [],
      "_model_module": "@jupyter-widgets/controls",
      "_model_module_version": "1.5.0",
      "_model_name": "HTMLModel",
      "_view_count": null,
      "_view_module": "@jupyter-widgets/controls",
      "_view_module_version": "1.5.0",
      "_view_name": "HTMLView",
      "description": "",
      "description_tooltip": null,
      "layout": "IPY_MODEL_5adc73f0f05b4c9ea1e966c143aa437b",
      "placeholder": "​",
      "style": "IPY_MODEL_1db6d169bf06423d9c55eaf825c0d961",
      "value": " 1.27k/1.27k [00:00&lt;00:00, 33.1kB/s]"
     }
    },
    "f48f22206df242e0b31ca6eec2c3ab94": {
     "model_module": "@jupyter-widgets/controls",
     "model_module_version": "1.5.0",
     "model_name": "ProgressStyleModel",
     "state": {
      "_model_module": "@jupyter-widgets/controls",
      "_model_module_version": "1.5.0",
      "_model_name": "ProgressStyleModel",
      "_view_count": null,
      "_view_module": "@jupyter-widgets/base",
      "_view_module_version": "1.2.0",
      "_view_name": "StyleView",
      "bar_color": null,
      "description_width": ""
     }
    },
    "f59b0fa458214233a845265c84ee57da": {
     "model_module": "@jupyter-widgets/base",
     "model_module_version": "1.2.0",
     "model_name": "LayoutModel",
     "state": {
      "_model_module": "@jupyter-widgets/base",
      "_model_module_version": "1.2.0",
      "_model_name": "LayoutModel",
      "_view_count": null,
      "_view_module": "@jupyter-widgets/base",
      "_view_module_version": "1.2.0",
      "_view_name": "LayoutView",
      "align_content": null,
      "align_items": null,
      "align_self": null,
      "border": null,
      "bottom": null,
      "display": null,
      "flex": null,
      "flex_flow": null,
      "grid_area": null,
      "grid_auto_columns": null,
      "grid_auto_flow": null,
      "grid_auto_rows": null,
      "grid_column": null,
      "grid_gap": null,
      "grid_row": null,
      "grid_template_areas": null,
      "grid_template_columns": null,
      "grid_template_rows": null,
      "height": null,
      "justify_content": null,
      "justify_items": null,
      "left": null,
      "margin": null,
      "max_height": null,
      "max_width": null,
      "min_height": null,
      "min_width": null,
      "object_fit": null,
      "object_position": null,
      "order": null,
      "overflow": null,
      "overflow_x": null,
      "overflow_y": null,
      "padding": null,
      "right": null,
      "top": null,
      "visibility": null,
      "width": null
     }
    },
    "fc3dba6f259045528d91cb5d6b0721ec": {
     "model_module": "@jupyter-widgets/controls",
     "model_module_version": "1.5.0",
     "model_name": "DescriptionStyleModel",
     "state": {
      "_model_module": "@jupyter-widgets/controls",
      "_model_module_version": "1.5.0",
      "_model_name": "DescriptionStyleModel",
      "_view_count": null,
      "_view_module": "@jupyter-widgets/base",
      "_view_module_version": "1.2.0",
      "_view_name": "StyleView",
      "description_width": ""
     }
    },
    "fd5399f7c2f2485ea60206c7383af4e6": {
     "model_module": "@jupyter-widgets/controls",
     "model_module_version": "1.5.0",
     "model_name": "HTMLModel",
     "state": {
      "_dom_classes": [],
      "_model_module": "@jupyter-widgets/controls",
      "_model_module_version": "1.5.0",
      "_model_name": "HTMLModel",
      "_view_count": null,
      "_view_module": "@jupyter-widgets/controls",
      "_view_module_version": "1.5.0",
      "_view_name": "HTMLView",
      "description": "",
      "description_tooltip": null,
      "layout": "IPY_MODEL_88604589ba3a445d8789761bfd9ec70b",
      "placeholder": "​",
      "style": "IPY_MODEL_6380bd0f6b0d4651870a003aebeba9e6",
      "value": " 151M/151M [00:01&lt;00:00, 103MB/s]"
     }
    },
    "fd61e15c41134a02826c43c4864b36ce": {
     "model_module": "@jupyter-widgets/controls",
     "model_module_version": "1.5.0",
     "model_name": "FloatProgressModel",
     "state": {
      "_dom_classes": [],
      "_model_module": "@jupyter-widgets/controls",
      "_model_module_version": "1.5.0",
      "_model_name": "FloatProgressModel",
      "_view_count": null,
      "_view_module": "@jupyter-widgets/controls",
      "_view_module_version": "1.5.0",
      "_view_name": "ProgressView",
      "bar_style": "success",
      "description": "",
      "description_tooltip": null,
      "layout": "IPY_MODEL_a8b5713df7d541b8b4d82be9e81896d1",
      "max": 1274,
      "min": 0,
      "orientation": "horizontal",
      "style": "IPY_MODEL_cfcf6e36eaf74845b377c9e57bcd1d7f",
      "value": 1274
     }
    }
   }
  }
 },
 "nbformat": 4,
 "nbformat_minor": 4
}
