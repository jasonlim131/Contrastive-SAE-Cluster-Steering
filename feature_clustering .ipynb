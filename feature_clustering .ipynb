{
 "cells": [
  {
   "cell_type": "markdown",
   "metadata": {
    "id": "vXMK1fds7cpH"
   },
   "source": [
    "# Intro\n",
    "Typically we use cosine similarity as a proxy for relatedness of features.  \n",
    "Normally to find nearest neighbors you would have to check all pairwise distances.  \n",
    "\n",
    "By using a hierarchical clustering method in advance, we can precompute these to make retrieval near instant at inference time.\n",
    "\n",
    "\n",
    "This indexing data over feature space takes minimal space: about 9 MB for ~300k features across the 12 layers of GPT2-small.  \n",
    "It takes about 4 minutes per layer of ~25k features to compute, or about 45 minutes for all layers. These were all saved to a pkl."
   ]
  },
  {
   "cell_type": "code",
   "execution_count": 1,
   "metadata": {},
   "outputs": [
    {
     "name": "stdout",
     "output_type": "stream",
     "text": [
      "CUDA available: True\n",
      "Device count: 1\n",
      "Current device: 0\n",
      "Device name: NVIDIA RTX A5000\n"
     ]
    }
   ],
   "source": [
    "# Check if our remote gpu cloud is working\n",
    "import torch\n",
    "\n",
    "print(\"CUDA available:\", torch.cuda.is_available())\n",
    "print(\"Device count:\", torch.cuda.device_count())\n",
    "print(\"Current device:\", torch.cuda.current_device())\n",
    "print(\"Device name:\", torch.cuda.get_device_name(0))"
   ]
  },
  {
   "cell_type": "code",
   "execution_count": 2,
   "metadata": {
    "colab": {
     "base_uri": "https://localhost:8080/"
    },
    "executionInfo": {
     "elapsed": 21908,
     "status": "ok",
     "timestamp": 1720660341127,
     "user": {
      "displayName": "Jason L",
      "userId": "08424561876455739258"
     },
     "user_tz": 240
    },
    "id": "hXMRYgFAjAsY",
    "outputId": "d4784cbe-7a57-480e-deb5-6fc9f4d7a466"
   },
   "outputs": [],
   "source": [
    "# # mount your drive\n",
    "# from google.colab import drive\n",
    "# drive.mount('/content/drive')"
   ]
  },
  {
   "cell_type": "code",
   "execution_count": 3,
   "metadata": {
    "colab": {
     "base_uri": "https://localhost:8080/",
     "height": 1000
    },
    "executionInfo": {
     "elapsed": 432242,
     "status": "ok",
     "timestamp": 1720660773367,
     "user": {
      "displayName": "Jason L",
      "userId": "08424561876455739258"
     },
     "user_tz": 240
    },
    "id": "yFWpFjurmlrc",
    "outputId": "f4bfc0ca-f999-43f5-d97f-cfd0010f8c3f"
   },
   "outputs": [
    {
     "name": "stdout",
     "output_type": "stream",
     "text": [
      "Requirement already satisfied: circuitsvis in /opt/conda/lib/python3.10/site-packages (1.43.2)\n",
      "Requirement already satisfied: importlib-metadata>=5.1.0 in /opt/conda/lib/python3.10/site-packages (from circuitsvis) (8.0.0)\n",
      "Requirement already satisfied: numpy>=1.24 in /opt/conda/lib/python3.10/site-packages (from circuitsvis) (1.25.2)\n",
      "Requirement already satisfied: nvidia-cublas-cu12==12.1.3.1 in /opt/conda/lib/python3.10/site-packages (from circuitsvis) (12.1.3.1)\n",
      "Requirement already satisfied: nvidia-cuda-cupti-cu12==12.1.105 in /opt/conda/lib/python3.10/site-packages (from circuitsvis) (12.1.105)\n",
      "Requirement already satisfied: nvidia-cuda-nvrtc-cu12==12.1.105 in /opt/conda/lib/python3.10/site-packages (from circuitsvis) (12.1.105)\n",
      "Requirement already satisfied: nvidia-cuda-runtime-cu12==12.1.105 in /opt/conda/lib/python3.10/site-packages (from circuitsvis) (12.1.105)\n",
      "Requirement already satisfied: nvidia-cudnn-cu12==8.9.2.26 in /opt/conda/lib/python3.10/site-packages (from circuitsvis) (8.9.2.26)\n",
      "Requirement already satisfied: nvidia-cufft-cu12==11.0.2.54 in /opt/conda/lib/python3.10/site-packages (from circuitsvis) (11.0.2.54)\n",
      "Requirement already satisfied: nvidia-curand-cu12==10.3.2.106 in /opt/conda/lib/python3.10/site-packages (from circuitsvis) (10.3.2.106)\n",
      "Requirement already satisfied: nvidia-cusolver-cu12==11.4.5.107 in /opt/conda/lib/python3.10/site-packages (from circuitsvis) (11.4.5.107)\n",
      "Requirement already satisfied: nvidia-cusparse-cu12==12.1.0.106 in /opt/conda/lib/python3.10/site-packages (from circuitsvis) (12.1.0.106)\n",
      "Requirement already satisfied: nvidia-nccl-cu12==2.18.1 in /opt/conda/lib/python3.10/site-packages (from circuitsvis) (2.18.1)\n",
      "Requirement already satisfied: nvidia-nvtx-cu12==12.1.105 in /opt/conda/lib/python3.10/site-packages (from circuitsvis) (12.1.105)\n",
      "Requirement already satisfied: torch>=1.10 in /opt/conda/lib/python3.10/site-packages (from circuitsvis) (2.2.0)\n",
      "Requirement already satisfied: triton==2.1.0 in /opt/conda/lib/python3.10/site-packages (from circuitsvis) (2.1.0)\n",
      "Requirement already satisfied: nvidia-nvjitlink-cu12 in /opt/conda/lib/python3.10/site-packages (from nvidia-cusolver-cu12==11.4.5.107->circuitsvis) (12.5.82)\n",
      "Requirement already satisfied: filelock in /opt/conda/lib/python3.10/site-packages (from triton==2.1.0->circuitsvis) (3.13.1)\n",
      "Requirement already satisfied: zipp>=0.5 in /opt/conda/lib/python3.10/site-packages (from importlib-metadata>=5.1.0->circuitsvis) (3.19.2)\n",
      "Requirement already satisfied: typing-extensions>=4.8.0 in /opt/conda/lib/python3.10/site-packages (from torch>=1.10->circuitsvis) (4.9.0)\n",
      "Requirement already satisfied: sympy in /opt/conda/lib/python3.10/site-packages (from torch>=1.10->circuitsvis) (1.12)\n",
      "Requirement already satisfied: networkx in /opt/conda/lib/python3.10/site-packages (from torch>=1.10->circuitsvis) (3.1)\n",
      "Requirement already satisfied: jinja2 in /opt/conda/lib/python3.10/site-packages (from torch>=1.10->circuitsvis) (3.1.2)\n",
      "Requirement already satisfied: fsspec in /opt/conda/lib/python3.10/site-packages (from torch>=1.10->circuitsvis) (2023.12.2)\n",
      "Requirement already satisfied: MarkupSafe>=2.0 in /opt/conda/lib/python3.10/site-packages (from jinja2->torch>=1.10->circuitsvis) (2.1.3)\n",
      "Requirement already satisfied: mpmath>=0.19 in /opt/conda/lib/python3.10/site-packages (from sympy->torch>=1.10->circuitsvis) (1.3.0)\n",
      "\u001b[33mWARNING: Running pip as the 'root' user can result in broken permissions and conflicting behaviour with the system package manager. It is recommended to use a virtual environment instead: https://pip.pypa.io/warnings/venv\u001b[0m\u001b[33m\n",
      "\u001b[0mRequirement already satisfied: nnsight in /opt/conda/lib/python3.10/site-packages (0.2.19)\n",
      "Requirement already satisfied: transformer_lens in /opt/conda/lib/python3.10/site-packages (1.19.0)\n",
      "Requirement already satisfied: sae-lens==3.9.0 in /opt/conda/lib/python3.10/site-packages (3.9.0)\n",
      "Requirement already satisfied: bitsandbytes in /opt/conda/lib/python3.10/site-packages (0.43.1)\n",
      "Requirement already satisfied: automated-interpretability<0.0.4,>=0.0.3 in /opt/conda/lib/python3.10/site-packages (from sae-lens==3.9.0) (0.0.3)\n",
      "Requirement already satisfied: babe<0.0.8,>=0.0.7 in /opt/conda/lib/python3.10/site-packages (from sae-lens==3.9.0) (0.0.7)\n",
      "Requirement already satisfied: datasets<3.0.0,>=2.17.1 in /opt/conda/lib/python3.10/site-packages (from sae-lens==3.9.0) (2.20.0)\n",
      "Requirement already satisfied: matplotlib<4.0.0,>=3.8.3 in /opt/conda/lib/python3.10/site-packages (from sae-lens==3.9.0) (3.9.1)\n",
      "Requirement already satisfied: matplotlib-inline<0.2.0,>=0.1.6 in /opt/conda/lib/python3.10/site-packages (from sae-lens==3.9.0) (0.1.6)\n",
      "Requirement already satisfied: nltk<4.0.0,>=3.8.1 in /opt/conda/lib/python3.10/site-packages (from sae-lens==3.9.0) (3.8.1)\n",
      "Requirement already satisfied: plotly<6.0.0,>=5.19.0 in /opt/conda/lib/python3.10/site-packages (from sae-lens==3.9.0) (5.22.0)\n",
      "Requirement already satisfied: plotly-express<0.5.0,>=0.4.1 in /opt/conda/lib/python3.10/site-packages (from sae-lens==3.9.0) (0.4.1)\n",
      "Requirement already satisfied: pytest-profiling<2.0.0,>=1.7.0 in /opt/conda/lib/python3.10/site-packages (from sae-lens==3.9.0) (1.7.0)\n",
      "Requirement already satisfied: python-dotenv<2.0.0,>=1.0.1 in /opt/conda/lib/python3.10/site-packages (from sae-lens==3.9.0) (1.0.1)\n",
      "Requirement already satisfied: pyyaml<7.0.0,>=6.0.1 in /opt/conda/lib/python3.10/site-packages (from sae-lens==3.9.0) (6.0.1)\n",
      "Requirement already satisfied: pyzmq==26.0.0 in /opt/conda/lib/python3.10/site-packages (from sae-lens==3.9.0) (26.0.0)\n",
      "Requirement already satisfied: sae-vis<0.3.0,>=0.2.18 in /opt/conda/lib/python3.10/site-packages (from sae-lens==3.9.0) (0.2.21)\n",
      "Requirement already satisfied: safetensors<0.5.0,>=0.4.2 in /opt/conda/lib/python3.10/site-packages (from sae-lens==3.9.0) (0.4.3)\n",
      "Requirement already satisfied: transformers<5.0.0,>=4.38.1 in /opt/conda/lib/python3.10/site-packages (from sae-lens==3.9.0) (4.42.4)\n",
      "Requirement already satisfied: typer<0.13.0,>=0.12.3 in /opt/conda/lib/python3.10/site-packages (from sae-lens==3.9.0) (0.12.3)\n",
      "Requirement already satisfied: zstandard<0.23.0,>=0.22.0 in /opt/conda/lib/python3.10/site-packages (from sae-lens==3.9.0) (0.22.0)\n",
      "Requirement already satisfied: protobuf in /opt/conda/lib/python3.10/site-packages (from nnsight) (5.27.2)\n",
      "Requirement already satisfied: python-socketio[client] in /opt/conda/lib/python3.10/site-packages (from nnsight) (5.11.3)\n",
      "Requirement already satisfied: tokenizers>=0.13.0 in /opt/conda/lib/python3.10/site-packages (from nnsight) (0.19.1)\n",
      "Requirement already satisfied: pydantic>=2.4.0 in /opt/conda/lib/python3.10/site-packages (from nnsight) (2.8.2)\n",
      "Requirement already satisfied: torch>=2.1.0 in /opt/conda/lib/python3.10/site-packages (from nnsight) (2.2.0)\n",
      "Requirement already satisfied: sentencepiece in /opt/conda/lib/python3.10/site-packages (from nnsight) (0.2.0)\n",
      "Requirement already satisfied: torchvision in /opt/conda/lib/python3.10/site-packages (from nnsight) (0.17.0)\n",
      "Requirement already satisfied: accelerate in /opt/conda/lib/python3.10/site-packages (from nnsight) (0.32.1)\n",
      "Requirement already satisfied: diffusers in /opt/conda/lib/python3.10/site-packages (from nnsight) (0.29.2)\n",
      "Requirement already satisfied: einops in /opt/conda/lib/python3.10/site-packages (from nnsight) (0.7.0)\n",
      "Requirement already satisfied: beartype<0.15.0,>=0.14.1 in /opt/conda/lib/python3.10/site-packages (from transformer_lens) (0.14.1)\n",
      "Requirement already satisfied: better-abc<0.0.4,>=0.0.3 in /opt/conda/lib/python3.10/site-packages (from transformer_lens) (0.0.3)\n",
      "Requirement already satisfied: fancy-einsum>=0.0.3 in /opt/conda/lib/python3.10/site-packages (from transformer_lens) (0.0.3)\n",
      "Requirement already satisfied: jaxtyping>=0.2.11 in /opt/conda/lib/python3.10/site-packages (from transformer_lens) (0.2.33)\n",
      "Requirement already satisfied: numpy>=1.24 in /opt/conda/lib/python3.10/site-packages (from transformer_lens) (1.25.2)\n",
      "Requirement already satisfied: pandas>=1.1.5 in /opt/conda/lib/python3.10/site-packages (from transformer_lens) (2.2.2)\n",
      "Requirement already satisfied: rich>=12.6.0 in /opt/conda/lib/python3.10/site-packages (from transformer_lens) (13.7.1)\n",
      "Requirement already satisfied: tqdm>=4.64.1 in /opt/conda/lib/python3.10/site-packages (from transformer_lens) (4.66.4)\n",
      "Requirement already satisfied: typing-extensions in /opt/conda/lib/python3.10/site-packages (from transformer_lens) (4.9.0)\n",
      "Requirement already satisfied: wandb>=0.13.5 in /opt/conda/lib/python3.10/site-packages (from transformer_lens) (0.17.4)\n",
      "Requirement already satisfied: packaging>=20.0 in /opt/conda/lib/python3.10/site-packages (from accelerate->nnsight) (23.1)\n",
      "Requirement already satisfied: psutil in /opt/conda/lib/python3.10/site-packages (from accelerate->nnsight) (5.9.0)\n",
      "Requirement already satisfied: huggingface-hub in /opt/conda/lib/python3.10/site-packages (from accelerate->nnsight) (0.23.4)\n",
      "Requirement already satisfied: blobfile<3.0.0,>=2.1.1 in /opt/conda/lib/python3.10/site-packages (from automated-interpretability<0.0.4,>=0.0.3->sae-lens==3.9.0) (2.1.1)\n",
      "Requirement already satisfied: boostedblob<0.16.0,>=0.15.3 in /opt/conda/lib/python3.10/site-packages (from automated-interpretability<0.0.4,>=0.0.3->sae-lens==3.9.0) (0.15.4)\n",
      "Requirement already satisfied: httpx<0.28.0,>=0.27.0 in /opt/conda/lib/python3.10/site-packages (from automated-interpretability<0.0.4,>=0.0.3->sae-lens==3.9.0) (0.27.0)\n",
      "Collecting numpy>=1.24 (from transformer_lens)\n",
      "  Using cached numpy-1.26.4-cp310-cp310-manylinux_2_17_x86_64.manylinux2014_x86_64.whl.metadata (61 kB)\n",
      "Requirement already satisfied: orjson<4.0.0,>=3.10.1 in /opt/conda/lib/python3.10/site-packages (from automated-interpretability<0.0.4,>=0.0.3->sae-lens==3.9.0) (3.10.6)\n",
      "Requirement already satisfied: pytest<9.0.0,>=8.1.2 in /opt/conda/lib/python3.10/site-packages (from automated-interpretability<0.0.4,>=0.0.3->sae-lens==3.9.0) (8.2.2)\n",
      "Requirement already satisfied: scikit-learn<2.0.0,>=1.4.2 in /opt/conda/lib/python3.10/site-packages (from automated-interpretability<0.0.4,>=0.0.3->sae-lens==3.9.0) (1.5.1)\n",
      "Requirement already satisfied: tiktoken<0.7.0,>=0.6.0 in /opt/conda/lib/python3.10/site-packages (from automated-interpretability<0.0.4,>=0.0.3->sae-lens==3.9.0) (0.6.0)\n",
      "Requirement already satisfied: py2store in /opt/conda/lib/python3.10/site-packages (from babe<0.0.8,>=0.0.7->sae-lens==3.9.0) (0.1.20)\n",
      "Requirement already satisfied: graze in /opt/conda/lib/python3.10/site-packages (from babe<0.0.8,>=0.0.7->sae-lens==3.9.0) (0.1.17)\n",
      "Requirement already satisfied: filelock in /opt/conda/lib/python3.10/site-packages (from datasets<3.0.0,>=2.17.1->sae-lens==3.9.0) (3.13.1)\n",
      "Requirement already satisfied: pyarrow>=15.0.0 in /opt/conda/lib/python3.10/site-packages (from datasets<3.0.0,>=2.17.1->sae-lens==3.9.0) (16.1.0)\n",
      "Requirement already satisfied: pyarrow-hotfix in /opt/conda/lib/python3.10/site-packages (from datasets<3.0.0,>=2.17.1->sae-lens==3.9.0) (0.6)\n",
      "Requirement already satisfied: dill<0.3.9,>=0.3.0 in /opt/conda/lib/python3.10/site-packages (from datasets<3.0.0,>=2.17.1->sae-lens==3.9.0) (0.3.8)\n",
      "Requirement already satisfied: requests>=2.32.2 in /opt/conda/lib/python3.10/site-packages (from datasets<3.0.0,>=2.17.1->sae-lens==3.9.0) (2.32.3)\n",
      "Requirement already satisfied: xxhash in /opt/conda/lib/python3.10/site-packages (from datasets<3.0.0,>=2.17.1->sae-lens==3.9.0) (3.4.1)\n",
      "Requirement already satisfied: multiprocess in /opt/conda/lib/python3.10/site-packages (from datasets<3.0.0,>=2.17.1->sae-lens==3.9.0) (0.70.16)\n",
      "Requirement already satisfied: fsspec<=2024.5.0,>=2023.1.0 in /opt/conda/lib/python3.10/site-packages (from fsspec[http]<=2024.5.0,>=2023.1.0->datasets<3.0.0,>=2.17.1->sae-lens==3.9.0) (2023.12.2)\n",
      "Requirement already satisfied: aiohttp in /opt/conda/lib/python3.10/site-packages (from datasets<3.0.0,>=2.17.1->sae-lens==3.9.0) (3.9.5)\n",
      "Requirement already satisfied: typeguard==2.13.3 in /opt/conda/lib/python3.10/site-packages (from jaxtyping>=0.2.11->transformer_lens) (2.13.3)\n",
      "Requirement already satisfied: contourpy>=1.0.1 in /opt/conda/lib/python3.10/site-packages (from matplotlib<4.0.0,>=3.8.3->sae-lens==3.9.0) (1.2.1)\n",
      "Requirement already satisfied: cycler>=0.10 in /opt/conda/lib/python3.10/site-packages (from matplotlib<4.0.0,>=3.8.3->sae-lens==3.9.0) (0.12.1)\n",
      "Requirement already satisfied: fonttools>=4.22.0 in /opt/conda/lib/python3.10/site-packages (from matplotlib<4.0.0,>=3.8.3->sae-lens==3.9.0) (4.53.1)\n",
      "Requirement already satisfied: kiwisolver>=1.3.1 in /opt/conda/lib/python3.10/site-packages (from matplotlib<4.0.0,>=3.8.3->sae-lens==3.9.0) (1.4.5)\n",
      "Requirement already satisfied: pillow>=8 in /opt/conda/lib/python3.10/site-packages (from matplotlib<4.0.0,>=3.8.3->sae-lens==3.9.0) (10.0.1)\n",
      "Requirement already satisfied: pyparsing>=2.3.1 in /opt/conda/lib/python3.10/site-packages (from matplotlib<4.0.0,>=3.8.3->sae-lens==3.9.0) (3.1.2)\n",
      "Requirement already satisfied: python-dateutil>=2.7 in /opt/conda/lib/python3.10/site-packages (from matplotlib<4.0.0,>=3.8.3->sae-lens==3.9.0) (2.9.0.post0)\n",
      "Requirement already satisfied: traitlets in /opt/conda/lib/python3.10/site-packages (from matplotlib-inline<0.2.0,>=0.1.6->sae-lens==3.9.0) (5.7.1)\n",
      "Requirement already satisfied: click in /opt/conda/lib/python3.10/site-packages (from nltk<4.0.0,>=3.8.1->sae-lens==3.9.0) (8.1.7)\n",
      "Requirement already satisfied: joblib in /opt/conda/lib/python3.10/site-packages (from nltk<4.0.0,>=3.8.1->sae-lens==3.9.0) (1.4.2)\n",
      "Requirement already satisfied: regex>=2021.8.3 in /opt/conda/lib/python3.10/site-packages (from nltk<4.0.0,>=3.8.1->sae-lens==3.9.0) (2024.5.15)\n",
      "Requirement already satisfied: pytz>=2020.1 in /opt/conda/lib/python3.10/site-packages (from pandas>=1.1.5->transformer_lens) (2023.3.post1)\n",
      "Requirement already satisfied: tzdata>=2022.7 in /opt/conda/lib/python3.10/site-packages (from pandas>=1.1.5->transformer_lens) (2024.1)\n",
      "Requirement already satisfied: tenacity>=6.2.0 in /opt/conda/lib/python3.10/site-packages (from plotly<6.0.0,>=5.19.0->sae-lens==3.9.0) (8.5.0)\n",
      "Requirement already satisfied: statsmodels>=0.9.0 in /opt/conda/lib/python3.10/site-packages (from plotly-express<0.5.0,>=0.4.1->sae-lens==3.9.0) (0.14.2)\n",
      "Requirement already satisfied: scipy>=0.18 in /opt/conda/lib/python3.10/site-packages (from plotly-express<0.5.0,>=0.4.1->sae-lens==3.9.0) (1.14.0)\n",
      "Requirement already satisfied: patsy>=0.5 in /opt/conda/lib/python3.10/site-packages (from plotly-express<0.5.0,>=0.4.1->sae-lens==3.9.0) (0.5.6)\n",
      "Requirement already satisfied: annotated-types>=0.4.0 in /opt/conda/lib/python3.10/site-packages (from pydantic>=2.4.0->nnsight) (0.7.0)\n",
      "Requirement already satisfied: pydantic-core==2.20.1 in /opt/conda/lib/python3.10/site-packages (from pydantic>=2.4.0->nnsight) (2.20.1)\n",
      "Requirement already satisfied: six in /opt/conda/lib/python3.10/site-packages (from pytest-profiling<2.0.0,>=1.7.0->sae-lens==3.9.0) (1.16.0)\n",
      "Requirement already satisfied: gprof2dot in /opt/conda/lib/python3.10/site-packages (from pytest-profiling<2.0.0,>=1.7.0->sae-lens==3.9.0) (2024.6.6)\n",
      "Requirement already satisfied: markdown-it-py>=2.2.0 in /opt/conda/lib/python3.10/site-packages (from rich>=12.6.0->transformer_lens) (3.0.0)\n",
      "Requirement already satisfied: pygments<3.0.0,>=2.13.0 in /opt/conda/lib/python3.10/site-packages (from rich>=12.6.0->transformer_lens) (2.15.1)\n",
      "Requirement already satisfied: dataclasses-json<0.7.0,>=0.6.4 in /opt/conda/lib/python3.10/site-packages (from sae-vis<0.3.0,>=0.2.18->sae-lens==3.9.0) (0.6.7)\n",
      "Requirement already satisfied: eindex-callum<0.2.0,>=0.1.0 in /opt/conda/lib/python3.10/site-packages (from sae-vis<0.3.0,>=0.2.18->sae-lens==3.9.0) (0.1.2)\n",
      "Requirement already satisfied: sympy in /opt/conda/lib/python3.10/site-packages (from torch>=2.1.0->nnsight) (1.12)\n",
      "Requirement already satisfied: networkx in /opt/conda/lib/python3.10/site-packages (from torch>=2.1.0->nnsight) (3.1)\n",
      "Requirement already satisfied: jinja2 in /opt/conda/lib/python3.10/site-packages (from torch>=2.1.0->nnsight) (3.1.2)\n",
      "Requirement already satisfied: shellingham>=1.3.0 in /opt/conda/lib/python3.10/site-packages (from typer<0.13.0,>=0.12.3->sae-lens==3.9.0) (1.5.4)\n",
      "Requirement already satisfied: docker-pycreds>=0.4.0 in /opt/conda/lib/python3.10/site-packages (from wandb>=0.13.5->transformer_lens) (0.4.0)\n",
      "Requirement already satisfied: gitpython!=3.1.29,>=1.0.0 in /opt/conda/lib/python3.10/site-packages (from wandb>=0.13.5->transformer_lens) (3.1.43)\n",
      "Requirement already satisfied: platformdirs in /opt/conda/lib/python3.10/site-packages (from wandb>=0.13.5->transformer_lens) (3.10.0)\n",
      "Requirement already satisfied: sentry-sdk>=1.0.0 in /opt/conda/lib/python3.10/site-packages (from wandb>=0.13.5->transformer_lens) (2.10.0)\n",
      "Requirement already satisfied: setproctitle in /opt/conda/lib/python3.10/site-packages (from wandb>=0.13.5->transformer_lens) (1.3.3)\n",
      "Requirement already satisfied: setuptools in /opt/conda/lib/python3.10/site-packages (from wandb>=0.13.5->transformer_lens) (68.2.2)\n",
      "Requirement already satisfied: importlib-metadata in /opt/conda/lib/python3.10/site-packages (from diffusers->nnsight) (8.0.0)\n",
      "Requirement already satisfied: bidict>=0.21.0 in /opt/conda/lib/python3.10/site-packages (from python-socketio[client]->nnsight) (0.23.1)\n",
      "Requirement already satisfied: python-engineio>=4.8.0 in /opt/conda/lib/python3.10/site-packages (from python-socketio[client]->nnsight) (4.9.1)\n",
      "Requirement already satisfied: websocket-client>=0.54.0 in /opt/conda/lib/python3.10/site-packages (from python-socketio[client]->nnsight) (1.7.0)\n",
      "Requirement already satisfied: pycryptodomex~=3.8 in /opt/conda/lib/python3.10/site-packages (from blobfile<3.0.0,>=2.1.1->automated-interpretability<0.0.4,>=0.0.3->sae-lens==3.9.0) (3.20.0)\n",
      "Requirement already satisfied: urllib3<3,>=1.25.3 in /opt/conda/lib/python3.10/site-packages (from blobfile<3.0.0,>=2.1.1->automated-interpretability<0.0.4,>=0.0.3->sae-lens==3.9.0) (1.26.18)\n",
      "Requirement already satisfied: lxml~=4.9 in /opt/conda/lib/python3.10/site-packages (from blobfile<3.0.0,>=2.1.1->automated-interpretability<0.0.4,>=0.0.3->sae-lens==3.9.0) (4.9.4)\n",
      "Requirement already satisfied: uvloop>=0.16.0 in /opt/conda/lib/python3.10/site-packages (from boostedblob<0.16.0,>=0.15.3->automated-interpretability<0.0.4,>=0.0.3->sae-lens==3.9.0) (0.19.0)\n",
      "Requirement already satisfied: aiosignal>=1.1.2 in /opt/conda/lib/python3.10/site-packages (from aiohttp->datasets<3.0.0,>=2.17.1->sae-lens==3.9.0) (1.3.1)\n",
      "Requirement already satisfied: attrs>=17.3.0 in /opt/conda/lib/python3.10/site-packages (from aiohttp->datasets<3.0.0,>=2.17.1->sae-lens==3.9.0) (23.1.0)\n",
      "Requirement already satisfied: frozenlist>=1.1.1 in /opt/conda/lib/python3.10/site-packages (from aiohttp->datasets<3.0.0,>=2.17.1->sae-lens==3.9.0) (1.4.1)\n",
      "Requirement already satisfied: multidict<7.0,>=4.5 in /opt/conda/lib/python3.10/site-packages (from aiohttp->datasets<3.0.0,>=2.17.1->sae-lens==3.9.0) (6.0.5)\n",
      "Requirement already satisfied: yarl<2.0,>=1.0 in /opt/conda/lib/python3.10/site-packages (from aiohttp->datasets<3.0.0,>=2.17.1->sae-lens==3.9.0) (1.9.4)\n",
      "Requirement already satisfied: async-timeout<5.0,>=4.0 in /opt/conda/lib/python3.10/site-packages (from aiohttp->datasets<3.0.0,>=2.17.1->sae-lens==3.9.0) (4.0.3)\n",
      "Requirement already satisfied: marshmallow<4.0.0,>=3.18.0 in /opt/conda/lib/python3.10/site-packages (from dataclasses-json<0.7.0,>=0.6.4->sae-vis<0.3.0,>=0.2.18->sae-lens==3.9.0) (3.21.3)\n",
      "Requirement already satisfied: typing-inspect<1,>=0.4.0 in /opt/conda/lib/python3.10/site-packages (from dataclasses-json<0.7.0,>=0.6.4->sae-vis<0.3.0,>=0.2.18->sae-lens==3.9.0) (0.9.0)\n",
      "Requirement already satisfied: gitdb<5,>=4.0.1 in /opt/conda/lib/python3.10/site-packages (from gitpython!=3.1.29,>=1.0.0->wandb>=0.13.5->transformer_lens) (4.0.11)\n",
      "Requirement already satisfied: anyio in /opt/conda/lib/python3.10/site-packages (from httpx<0.28.0,>=0.27.0->automated-interpretability<0.0.4,>=0.0.3->sae-lens==3.9.0) (4.3.0)\n",
      "Requirement already satisfied: certifi in /opt/conda/lib/python3.10/site-packages (from httpx<0.28.0,>=0.27.0->automated-interpretability<0.0.4,>=0.0.3->sae-lens==3.9.0) (2023.11.17)\n",
      "Requirement already satisfied: httpcore==1.* in /opt/conda/lib/python3.10/site-packages (from httpx<0.28.0,>=0.27.0->automated-interpretability<0.0.4,>=0.0.3->sae-lens==3.9.0) (1.0.5)\n",
      "Requirement already satisfied: idna in /opt/conda/lib/python3.10/site-packages (from httpx<0.28.0,>=0.27.0->automated-interpretability<0.0.4,>=0.0.3->sae-lens==3.9.0) (3.4)\n",
      "Requirement already satisfied: sniffio in /opt/conda/lib/python3.10/site-packages (from httpx<0.28.0,>=0.27.0->automated-interpretability<0.0.4,>=0.0.3->sae-lens==3.9.0) (1.3.1)\n",
      "Requirement already satisfied: h11<0.15,>=0.13 in /opt/conda/lib/python3.10/site-packages (from httpcore==1.*->httpx<0.28.0,>=0.27.0->automated-interpretability<0.0.4,>=0.0.3->sae-lens==3.9.0) (0.14.0)\n",
      "Requirement already satisfied: mdurl~=0.1 in /opt/conda/lib/python3.10/site-packages (from markdown-it-py>=2.2.0->rich>=12.6.0->transformer_lens) (0.1.2)\n",
      "Requirement already satisfied: iniconfig in /opt/conda/lib/python3.10/site-packages (from pytest<9.0.0,>=8.1.2->automated-interpretability<0.0.4,>=0.0.3->sae-lens==3.9.0) (2.0.0)\n",
      "Requirement already satisfied: pluggy<2.0,>=1.5 in /opt/conda/lib/python3.10/site-packages (from pytest<9.0.0,>=8.1.2->automated-interpretability<0.0.4,>=0.0.3->sae-lens==3.9.0) (1.5.0)\n",
      "Requirement already satisfied: exceptiongroup>=1.0.0rc8 in /opt/conda/lib/python3.10/site-packages (from pytest<9.0.0,>=8.1.2->automated-interpretability<0.0.4,>=0.0.3->sae-lens==3.9.0) (1.2.0)\n",
      "Requirement already satisfied: tomli>=1 in /opt/conda/lib/python3.10/site-packages (from pytest<9.0.0,>=8.1.2->automated-interpretability<0.0.4,>=0.0.3->sae-lens==3.9.0) (2.0.1)\n",
      "Requirement already satisfied: simple-websocket>=0.10.0 in /opt/conda/lib/python3.10/site-packages (from python-engineio>=4.8.0->python-socketio[client]->nnsight) (1.0.0)\n",
      "Requirement already satisfied: charset-normalizer<4,>=2 in /opt/conda/lib/python3.10/site-packages (from requests>=2.32.2->datasets<3.0.0,>=2.17.1->sae-lens==3.9.0) (2.0.4)\n",
      "Requirement already satisfied: threadpoolctl>=3.1.0 in /opt/conda/lib/python3.10/site-packages (from scikit-learn<2.0.0,>=1.4.2->automated-interpretability<0.0.4,>=0.0.3->sae-lens==3.9.0) (3.5.0)\n",
      "Requirement already satisfied: dol in /opt/conda/lib/python3.10/site-packages (from graze->babe<0.0.8,>=0.0.7->sae-lens==3.9.0) (0.2.49)\n",
      "Requirement already satisfied: zipp>=0.5 in /opt/conda/lib/python3.10/site-packages (from importlib-metadata->diffusers->nnsight) (3.19.2)\n",
      "Requirement already satisfied: MarkupSafe>=2.0 in /opt/conda/lib/python3.10/site-packages (from jinja2->torch>=2.1.0->nnsight) (2.1.3)\n",
      "Requirement already satisfied: config2py in /opt/conda/lib/python3.10/site-packages (from py2store->babe<0.0.8,>=0.0.7->sae-lens==3.9.0) (0.1.34)\n",
      "Requirement already satisfied: importlib-resources in /opt/conda/lib/python3.10/site-packages (from py2store->babe<0.0.8,>=0.0.7->sae-lens==3.9.0) (6.4.0)\n",
      "Requirement already satisfied: mpmath>=0.19 in /opt/conda/lib/python3.10/site-packages (from sympy->torch>=2.1.0->nnsight) (1.3.0)\n",
      "Requirement already satisfied: smmap<6,>=3.0.1 in /opt/conda/lib/python3.10/site-packages (from gitdb<5,>=4.0.1->gitpython!=3.1.29,>=1.0.0->wandb>=0.13.5->transformer_lens) (5.0.1)\n",
      "Requirement already satisfied: wsproto in /opt/conda/lib/python3.10/site-packages (from simple-websocket>=0.10.0->python-engineio>=4.8.0->python-socketio[client]->nnsight) (1.2.0)\n",
      "Requirement already satisfied: mypy-extensions>=0.3.0 in /opt/conda/lib/python3.10/site-packages (from typing-inspect<1,>=0.4.0->dataclasses-json<0.7.0,>=0.6.4->sae-vis<0.3.0,>=0.2.18->sae-lens==3.9.0) (1.0.0)\n",
      "Requirement already satisfied: i2 in /opt/conda/lib/python3.10/site-packages (from config2py->py2store->babe<0.0.8,>=0.0.7->sae-lens==3.9.0) (0.1.17)\n",
      "Using cached numpy-1.26.4-cp310-cp310-manylinux_2_17_x86_64.manylinux2014_x86_64.whl (18.2 MB)\n",
      "Installing collected packages: numpy\n",
      "  Attempting uninstall: numpy\n",
      "    Found existing installation: numpy 1.25.2\n",
      "    Uninstalling numpy-1.25.2:\n",
      "      Successfully uninstalled numpy-1.25.2\n",
      "Successfully installed numpy-1.26.4\n",
      "\u001b[33mWARNING: Running pip as the 'root' user can result in broken permissions and conflicting behaviour with the system package manager. It is recommended to use a virtual environment instead: https://pip.pypa.io/warnings/venv\u001b[0m\u001b[33m\n",
      "\u001b[0mCollecting numpy==1.25.2\n",
      "  Using cached numpy-1.25.2-cp310-cp310-manylinux_2_17_x86_64.manylinux2014_x86_64.whl.metadata (5.6 kB)\n",
      "Using cached numpy-1.25.2-cp310-cp310-manylinux_2_17_x86_64.manylinux2014_x86_64.whl (18.2 MB)\n",
      "Installing collected packages: numpy\n",
      "  Attempting uninstall: numpy\n",
      "    Found existing installation: numpy 1.26.4\n",
      "    Uninstalling numpy-1.26.4:\n",
      "      Successfully uninstalled numpy-1.26.4\n",
      "\u001b[31mERROR: pip's dependency resolver does not currently take into account all the packages that are installed. This behaviour is the source of the following dependency conflicts.\n",
      "automated-interpretability 0.0.3 requires numpy<2.0.0,>=1.26.4, but you have numpy 1.25.2 which is incompatible.\u001b[0m\u001b[31m\n",
      "\u001b[0mSuccessfully installed numpy-1.25.2\n",
      "\u001b[33mWARNING: Running pip as the 'root' user can result in broken permissions and conflicting behaviour with the system package manager. It is recommended to use a virtual environment instead: https://pip.pypa.io/warnings/venv\u001b[0m\u001b[33m\n",
      "\u001b[0m"
     ]
    }
   ],
   "source": [
    "# Need to install it in this order\n",
    "# Numpy causes problems with different version dependencies\n",
    "# But 1.25.2 seems to work for everything\n",
    "# DO NOT RESTART SESSION\n",
    "!pip install circuitsvis\n",
    "!pip install nnsight transformer_lens sae-lens==3.9.0 bitsandbytes\n",
    "!pip install numpy==1.25.2"
   ]
  },
  {
   "cell_type": "code",
   "execution_count": 4,
   "metadata": {
    "colab": {
     "base_uri": "https://localhost:8080/"
    },
    "executionInfo": {
     "elapsed": 13658,
     "status": "ok",
     "timestamp": 1720660787021,
     "user": {
      "displayName": "Jason L",
      "userId": "08424561876455739258"
     },
     "user_tz": 240
    },
    "id": "GG4tuplkCzFp",
    "outputId": "9c11b11d-0a22-4e58-8c43-94876d48d089"
   },
   "outputs": [
    {
     "name": "stdout",
     "output_type": "stream",
     "text": [
      "1.25.2\n",
      "Name: numpy\n",
      "Version: 1.25.2\n",
      "Summary: Fundamental package for array computing in Python\n",
      "Home-page: https://www.numpy.org\n",
      "Author: Travis E. Oliphant et al.\n",
      "Author-email: \n",
      "License: BSD-3-Clause\n",
      "Location: /opt/conda/lib/python3.10/site-packages\n",
      "Requires: \n",
      "Required-by: accelerate, automated-interpretability, bitsandbytes, circuitsvis, contourpy, datasets, diffusers, matplotlib, mkl-fft, mkl-random, pandas, patsy, plotly-express, pyarrow, scikit-learn, scipy, statsmodels, torchelastic, torchvision, transformer-lens, transformers\n"
     ]
    }
   ],
   "source": [
    "import numpy as np\n",
    "print(np.__version__)\n",
    "!pip show numpy"
   ]
  },
  {
   "cell_type": "markdown",
   "metadata": {
    "id": "nWdyRGUEI0tS"
   },
   "source": [
    "# Loading, Preprocessing, Tokenizing\n",
    "\n",
    "Below sections are meant for:\n",
    "\n",
    "1. Loading in the dataset. We are currently using the Model-Written-Evals Agreeableness dataset by Anthropic\n",
    "\n",
    "2. Tokenizing the dataset. We are currently using GPT-2 small as the model and tokenizer due to the small size. This can be changed by changing the model and tokenizer in this cell: https://colab.research.google.com/drive/1qUdsegUIZILv5DDLVStH6GTIz-ZhFmKH#scrollTo=h99FH4xDP2Y4&line=16&uniqifier=1\n",
    "\n",
    "3. Pre-processing: Generating activation deltas. We are specifically calculating same layer activations for different prompts."
   ]
  },
  {
   "cell_type": "code",
   "execution_count": 5,
   "metadata": {
    "executionInfo": {
     "elapsed": 618,
     "status": "ok",
     "timestamp": 1720660787624,
     "user": {
      "displayName": "Jason L",
      "userId": "08424561876455739258"
     },
     "user_tz": 240
    },
    "id": "oh5dEp1ULJDL"
   },
   "outputs": [],
   "source": [
    "# from google.colab import userdata\n",
    "# # Need a hugging face token with READ permissions to access Gemma-2b\n",
    "\n",
    "# hf_token = userdata.get('hf_token')"
   ]
  },
  {
   "cell_type": "code",
   "execution_count": 6,
   "metadata": {
    "executionInfo": {
     "elapsed": 277,
     "status": "ok",
     "timestamp": 1720663104152,
     "user": {
      "displayName": "Jason L",
      "userId": "08424561876455739258"
     },
     "user_tz": 240
    },
    "id": "rTtd__p9LrsS"
   },
   "outputs": [],
   "source": [
    "#@title Globally used variables\n",
    "\n",
    "DEBUG = False\n",
    "\n",
    "# Model and tokenizer\n",
    "\n",
    "#GPT-2 Model\n",
    "MODEL_NAME = 'gpt2'\n",
    "TOKENIZER = \"openai-community/gpt2\"\n",
    "\n",
    "# Gemma Model\n",
    "# MODEL_NAME = 'google/gemma-2b'\n",
    "# TOKENIZER = \"google/gemma-2b\"\n",
    "\n",
    "# layer of interest for this run\n",
    "# Needs to be constant for cached activations and SAE training\n",
    "LAYER = 9\n",
    "\n",
    "# This is the path for a shared drive\n",
    "# Add the drive to your Google Drive by adding a shortcut as per\n",
    "# https://stackoverflow.com/questions/54351852/accessing-shared-with-me-with-colab\n",
    "'''\n",
    "Colab Version\n",
    "\n",
    "DATASET_PATH = \"/content/drive/MyDrive/Hackathon: Contrastive SAE Steering/datasets/agreeableness.json\"\n",
    "DRIVE_PATH = \"/content/drive/MyDrive/Hackathon: Contrastive SAE Steering\"\n",
    "\n",
    "'''\n",
    "\n",
    "#Local version\n",
    "\n",
    "DATASET_PATH = \"/workspace/subscribes-to-buddhism.json\"\n",
    "DRIVE_PATH = \"/workspace\"\n",
    "\n",
    "\n",
    "\n",
    "# SV_PROMPT = \"The thought of harming another person is exciting to me\"\n",
    "\n",
    "# Arbitrary large padded length to keep everything the same\n",
    "MAX_PADDED_LENGTH = 50\n",
    "\n",
    "# Top N Indices to take\n",
    "TOP_N_INDICES = 5"
   ]
  },
  {
   "cell_type": "code",
   "execution_count": 7,
   "metadata": {
    "colab": {
     "base_uri": "https://localhost:8080/"
    },
    "executionInfo": {
     "elapsed": 2428,
     "status": "ok",
     "timestamp": 1720663113581,
     "user": {
      "displayName": "Jason L",
      "userId": "08424561876455739258"
     },
     "user_tz": 240
    },
    "id": "h99FH4xDP2Y4",
    "outputId": "0e7ecedd-7005-4996-f1a1-7dfa960d7d16"
   },
   "outputs": [],
   "source": [
    "#@title Load Contrastive Dataset and Tokenizer\n",
    "import torch\n",
    "import pickle\n",
    "import json\n",
    "from scipy.cluster import hierarchy\n",
    "from transformers import Trainer, TrainingArguments, AutoModelForCausalLM, AutoTokenizer, BitsAndBytesConfig\n",
    "from transformer_lens.hook_points import HookPoint\n",
    "from nnsight import LanguageModel\n",
    "\n",
    "from accelerate import Accelerator\n",
    "\n",
    "accelerator = Accelerator()\n",
    "device = 'cuda'\n",
    "device = accelerator.device\n",
    "\n",
    "# quantization_config = BitsAndBytesConfig(load_in_4bit=True)\n",
    "\n",
    "#load gpt 2 small and\n",
    "# TODO: Pad left or pad right? For now, left padding so that the last token is the same position.\n",
    "tokenizer = AutoTokenizer.from_pretrained(TOKENIZER)\n",
    "# model = LanguageModel(MODEL_NAME, low_cpu_mem_usage=False, token=hf_token, quantization_config=quantization_config)\n",
    "model = LanguageModel(MODEL_NAME, low_cpu_mem_usage=False)\n",
    "\n",
    "#model = LanguageModel(MODEL_NAME, low_cpu_mem_usage=False, token=hf_token)\n",
    "\n",
    "with open(DATASET_PATH) as f:\n",
    "  prompts = json.load(f)\n"
   ]
  },
  {
   "cell_type": "code",
   "execution_count": 8,
   "metadata": {},
   "outputs": [
    {
     "data": {
      "text/plain": [
       "50"
      ]
     },
     "execution_count": 8,
     "metadata": {},
     "output_type": "execute_result"
    }
   ],
   "source": [
    "MAX_PADDED_LENGTH"
   ]
  },
  {
   "cell_type": "code",
   "execution_count": 9,
   "metadata": {
    "colab": {
     "base_uri": "https://localhost:8080/"
    },
    "executionInfo": {
     "elapsed": 264,
     "status": "ok",
     "timestamp": 1720663025501,
     "user": {
      "displayName": "Jason L",
      "userId": "08424561876455739258"
     },
     "user_tz": 240
    },
    "id": "aBqFgRM-jW8k",
    "outputId": "80c24a78-81da-4ccf-d3d6-6ae9f407a6ca"
   },
   "outputs": [
    {
     "name": "stdout",
     "output_type": "stream",
     "text": [
      "length of prompts 218\n",
      "prompt sequence length 50\n",
      "prompt sequence length 50\n"
     ]
    }
   ],
   "source": [
    "#@title Prepare Prompts\n",
    "\n",
    "# preparing the contrastive prompts\n",
    "# right now I'm using a sample but we can easily generate them from Anthropic's Model-Written-Evals\n",
    "\n",
    "tokenized_prompts = []\n",
    "\n",
    "for i in range(len(prompts)):\n",
    "    positive_prompt = prompts[i]['original_prompt']\n",
    "    negative_prompt = prompts[i]['negative_prompt']\n",
    "\n",
    "    tokenizer.pad_token = tokenizer.eos_token\n",
    "\n",
    "    # pad both inputs to the MAX_PADDED LENGTH length so we can calculate differences later\n",
    "    positive_input_padded = tokenizer(positive_prompt, return_tensors=\"pt\",  padding='max_length', max_length=MAX_PADDED_LENGTH)\n",
    "    negative_input_padded = tokenizer(negative_prompt, return_tensors=\"pt\",  padding='max_length', max_length=MAX_PADDED_LENGTH)\n",
    "\n",
    "    tokenized_prompts.append(positive_input_padded)\n",
    "    tokenized_prompts.append(negative_input_padded)\n",
    "\n",
    "# the positive and negative prompts are paired A1A2B1B2C1C2...\n",
    "# so if you want to get the 4th pair, you would index [7] and [8]\n",
    "print(\"length of prompts\", len(tokenized_prompts))\n",
    "print(\"prompt sequence length\", len(tokenized_prompts[9]['input_ids'][0]))\n",
    "print(\"prompt sequence length\", len(tokenized_prompts[8]['input_ids'][0]))\n",
    "\n",
    "def check_same_length(tokenized_prompts):\n",
    "  for i in range(0, len(tokenized_prompts)):\n",
    "    if len(tokenized_prompts[i]['input_ids'][0]) != MAX_PADDED_LENGTH:\n",
    "      return False\n",
    "  return True\n"
   ]
  },
  {
   "cell_type": "code",
   "execution_count": 10,
   "metadata": {
    "executionInfo": {
     "elapsed": 3,
     "status": "ok",
     "timestamp": 1720660819107,
     "user": {
      "displayName": "Jason L",
      "userId": "08424561876455739258"
     },
     "user_tz": 240
    },
    "id": "B5IPu-8gIasH"
   },
   "outputs": [],
   "source": [
    "#@title Print Positive Prompts\n",
    "\n",
    "# print out all the positive prompts just to see what's happening\n",
    "DEBUG = False\n",
    "positive_prompts = []\n",
    "for i in range(0, len(tokenized_prompts), 2):\n",
    "  positive_prompts.append(tokenized_prompts[i])\n",
    "\n",
    "if DEBUG:\n",
    "  print(positive_prompts[0]['input_ids'].shape)\n",
    "  print(positive_prompts)\n"
   ]
  },
  {
   "cell_type": "markdown",
   "metadata": {
    "id": "KjmJHU0NFyMY"
   },
   "source": [
    "## Generating Activation Deltas and Relevant Indices\n",
    "\n",
    "Below, we are generating and calculating all activation deltas. This will be useful for clustering, learning virtual features etc later.\n",
    "\n",
    "Basically:\n",
    "\n",
    "1. Define layer of interest (global variable)\n",
    "2. Get layer output of running the prompt through the model\n",
    "3. Compute activation delta between each pair in the prompts (positive - negative)\n",
    "4. Get average activation delta for all the pairs\n",
    "5. Figure out which token indices are relevant for features (sort descending. Intuitively, 0 delta implies unimportance, and starting tokens tend to be 0-like)"
   ]
  },
  {
   "cell_type": "code",
   "execution_count": 11,
   "metadata": {
    "colab": {
     "base_uri": "https://localhost:8080/"
    },
    "executionInfo": {
     "elapsed": 3,
     "status": "ok",
     "timestamp": 1720660819107,
     "user": {
      "displayName": "Jason L",
      "userId": "08424561876455739258"
     },
     "user_tz": 240
    },
    "id": "N7lGsiRzL66c",
    "outputId": "20d15987-9e31-4ee5-8d31-3484fcee85cc"
   },
   "outputs": [
    {
     "name": "stdout",
     "output_type": "stream",
     "text": [
      "GPT2LMHeadModel(\n",
      "  (transformer): GPT2Model(\n",
      "    (wte): Embedding(50257, 768)\n",
      "    (wpe): Embedding(1024, 768)\n",
      "    (drop): Dropout(p=0.1, inplace=False)\n",
      "    (h): ModuleList(\n",
      "      (0-11): 12 x GPT2Block(\n",
      "        (ln_1): LayerNorm((768,), eps=1e-05, elementwise_affine=True)\n",
      "        (attn): GPT2SdpaAttention(\n",
      "          (c_attn): Conv1D()\n",
      "          (c_proj): Conv1D()\n",
      "          (attn_dropout): Dropout(p=0.1, inplace=False)\n",
      "          (resid_dropout): Dropout(p=0.1, inplace=False)\n",
      "        )\n",
      "        (ln_2): LayerNorm((768,), eps=1e-05, elementwise_affine=True)\n",
      "        (mlp): GPT2MLP(\n",
      "          (c_fc): Conv1D()\n",
      "          (c_proj): Conv1D()\n",
      "          (act): NewGELUActivation()\n",
      "          (dropout): Dropout(p=0.1, inplace=False)\n",
      "        )\n",
      "      )\n",
      "    )\n",
      "    (ln_f): LayerNorm((768,), eps=1e-05, elementwise_affine=True)\n",
      "  )\n",
      "  (lm_head): Linear(in_features=768, out_features=50257, bias=False)\n",
      "  (generator): WrapperModule()\n",
      ")\n"
     ]
    }
   ],
   "source": [
    "print(model)"
   ]
  },
  {
   "cell_type": "code",
   "execution_count": 12,
   "metadata": {
    "colab": {
     "base_uri": "https://localhost:8080/",
     "height": 292,
     "referenced_widgets": [
      "4cff098cad29491d8da37caa8a4e6d58",
      "99e892bcb17a4a4895630deb76b9e551",
      "356c40837ce54ff5878f51a273dbc222",
      "51712e80d115494594c5a8de54c063fa",
      "ac0dbead4a8f40cf8bc12946cf64e64d",
      "8d9649e119574a65ad1c7b4b95864520",
      "6f9b52d5dbb7488b9bdc5adf4ffdc77e",
      "7f7522ac96574de4a1d1042257061016",
      "4e1b6668dbc344a2aa4731473df2c90d",
      "999e4884026f45e7aa01f53750e8795a",
      "9466f81614cc4e99b40a79b7e9f79623",
      "187d84434fd6456e8dd83fd1b4100dad",
      "7b56f01d6ebb46b0a903ee39bd631525",
      "52fdff2628024a0ba81e557efa885bbe",
      "a9077d2424a04ba093a692259d8bd34f",
      "3692e8fbeb074241a7a534855d7fdbbf",
      "5abafb3a5c3347ed945eeec8f1473658",
      "6ed7f0acda694148a7712ea3c085d70a",
      "a77937b37e9249be9dc9f7be0ab0ba7c",
      "80b57c14f3b044c78bf02aef20349e4f",
      "b30f6d51eb5444a1b78b93afe065263a",
      "e278827435174205b089ee3f0e10a30e"
     ]
    },
    "executionInfo": {
     "elapsed": 22604,
     "status": "ok",
     "timestamp": 1720660841709,
     "user": {
      "displayName": "Jason L",
      "userId": "08424561876455739258"
     },
     "user_tz": 240
    },
    "id": "on18gB36kKSS",
    "outputId": "fbca4894-64b6-499f-ca60-f0f62e08568c"
   },
   "outputs": [
    {
     "name": "stderr",
     "output_type": "stream",
     "text": [
      "Processing prompts:   0%|          | 0/218 [00:00<?, ?it/s]You're using a GPT2TokenizerFast tokenizer. Please note that with a fast tokenizer, using the `__call__` method is faster than using a method to encode the text followed by a call to the `pad` method to get a padded encoding.\n",
      "Processing prompts: 100%|██████████| 218/218 [01:50<00:00,  1.98it/s]"
     ]
    },
    {
     "name": "stdout",
     "output_type": "stream",
     "text": [
      "Number of activations stored: 218\n",
      "Activation Shape: torch.Size([50, 768])\n",
      "Cosine similarity between all_activations 0 and 1: 0.9896947741508484\n",
      "Cosine similarity between all_activations 0 and 2: 0.4605597257614136\n"
     ]
    },
    {
     "name": "stderr",
     "output_type": "stream",
     "text": [
      "\n",
      "/tmp/ipykernel_76/3698148994.py:49: UserWarning: To copy construct from a tensor, it is recommended to use sourceTensor.clone().detach() or sourceTensor.clone().detach().requires_grad_(True), rather than torch.tensor(sourceTensor).\n",
      "  similarity_0_1 = cos(torch.tensor(all_activations[0]), torch.tensor(all_activations[1]))\n",
      "/tmp/ipykernel_76/3698148994.py:50: UserWarning: To copy construct from a tensor, it is recommended to use sourceTensor.clone().detach() or sourceTensor.clone().detach().requires_grad_(True), rather than torch.tensor(sourceTensor).\n",
      "  similarity_0_2 = cos(torch.tensor(all_activations[0]), torch.tensor(all_activations[2]))\n"
     ]
    }
   ],
   "source": [
    "import math\n",
    "from tqdm import tqdm\n",
    "\n",
    "# Initialize a list to store all activations\n",
    "all_activations = []\n",
    "\n",
    "for i in tqdm(range(len(tokenized_prompts)), desc=\"Processing prompts\"):\n",
    "  with model.trace(tokenized_prompts[i]['input_ids']):\n",
    "    if i % 2 == 0: # if index is even, positive prompt\n",
    "      prompt_type = 'positive'\n",
    "    else:\n",
    "      prompt_type = 'negative'\n",
    "    # There should be a better way of doing this\n",
    "    # This below this is kind of hardcoded\n",
    "\n",
    "    # For gemma\n",
    "    #output = model.model.layers[LAYER].output.save()\n",
    "\n",
    "    # For GPT2\n",
    "    output = model.transformer.h[LAYER].ln_2.output.save()\n",
    "\n",
    "  # pair_num = math.floor(i / 2) + 1\n",
    "  # print(f\"{prompt_type} in {pair_num} prompt:  {output}\")\n",
    "  # print(f\"shape of output: {output.shape}\")\n",
    "\n",
    "  # Store the activation\n",
    "  all_activations.append(output.value[0])\n",
    "\n",
    "def check_activation_shapes(all_activations):\n",
    "  activation_shape = all_activations[0].shape\n",
    "  for activation in all_activations[1:]:\n",
    "    if activation.shape != activation_shape:\n",
    "      return False\n",
    "  return True\n",
    "\n",
    "# Sanity check that all the activations are the same shape\n",
    "assert(check_activation_shapes(all_activations))\n",
    "\n",
    "# Make a new list to store the unaveraged activations\n",
    "# as we will do operations on the other list later\n",
    "unavg = all_activations\n",
    "print(f\"Number of activations stored: {len(unavg)}\")\n",
    "print(f\"Activation Shape: {unavg[0].shape}\")\n",
    "\n",
    "import torch\n",
    "\n",
    "# Calculate cosine similarity\n",
    "cos = torch.nn.CosineSimilarity(dim=1, eps=1e-6)\n",
    "similarity_0_1 = cos(torch.tensor(all_activations[0]), torch.tensor(all_activations[1]))\n",
    "similarity_0_2 = cos(torch.tensor(all_activations[0]), torch.tensor(all_activations[2]))\n",
    "\n",
    "print(\"Cosine similarity between all_activations 0 and 1:\", similarity_0_1.mean().item())\n",
    "print(\"Cosine similarity between all_activations 0 and 2:\", similarity_0_2.mean().item())"
   ]
  },
  {
   "cell_type": "code",
   "execution_count": 13,
   "metadata": {},
   "outputs": [
    {
     "name": "stderr",
     "output_type": "stream",
     "text": [
      "/tmp/ipykernel_76/1013685680.py:6: UserWarning: To copy construct from a tensor, it is recommended to use sourceTensor.clone().detach() or sourceTensor.clone().detach().requires_grad_(True), rather than torch.tensor(sourceTensor).\n",
      "  similarity = cos(torch.tensor(all_activations[i]), torch.tensor(all_activations[i + 1]))\n"
     ]
    },
    {
     "name": "stdout",
     "output_type": "stream",
     "text": [
      "Cosine similarity between all_activations 0 and 1: 0.9819152355194092\n",
      "Cosine similarity between all_activations 2 and 3: 0.33050069212913513\n",
      "Cosine similarity between all_activations 4 and 5: 0.7783039212226868\n",
      "Cosine similarity between all_activations 6 and 7: 0.681931734085083\n",
      "Cosine similarity between all_activations 8 and 9: 0.4383348226547241\n",
      "Cosine similarity between all_activations 10 and 11: 0.8496401906013489\n",
      "Cosine similarity between all_activations 12 and 13: 0.9099521636962891\n",
      "Cosine similarity between all_activations 14 and 15: 0.8697637915611267\n",
      "Cosine similarity between all_activations 16 and 17: 0.7297632694244385\n",
      "Cosine similarity between all_activations 18 and 19: 0.69282466173172\n",
      "Cosine similarity between all_activations 20 and 21: 0.8888155817985535\n",
      "Cosine similarity between all_activations 22 and 23: 0.5930201411247253\n",
      "Cosine similarity between all_activations 24 and 25: 0.8768579959869385\n",
      "Cosine similarity between all_activations 26 and 27: 0.9684363007545471\n",
      "Cosine similarity between all_activations 28 and 29: 0.931130588054657\n",
      "Cosine similarity between all_activations 30 and 31: 0.7670347094535828\n",
      "Cosine similarity between all_activations 32 and 33: 0.8639996647834778\n",
      "Cosine similarity between all_activations 34 and 35: 0.5170044302940369\n",
      "Cosine similarity between all_activations 36 and 37: 0.8175786137580872\n",
      "Cosine similarity between all_activations 38 and 39: 0.8410868048667908\n",
      "Cosine similarity between all_activations 40 and 41: 0.9226177334785461\n",
      "Cosine similarity between all_activations 42 and 43: 0.6461356282234192\n",
      "Cosine similarity between all_activations 44 and 45: 0.8041260838508606\n",
      "Cosine similarity between all_activations 46 and 47: 0.522041380405426\n",
      "Cosine similarity between all_activations 48 and 49: 0.7925660610198975\n",
      "Cosine similarity between all_activations 50 and 51: 0.6590571999549866\n",
      "Cosine similarity between all_activations 52 and 53: 0.9791156649589539\n",
      "Cosine similarity between all_activations 54 and 55: 0.7055441737174988\n",
      "Cosine similarity between all_activations 56 and 57: 0.956847608089447\n",
      "Cosine similarity between all_activations 58 and 59: 0.49485254287719727\n",
      "Cosine similarity between all_activations 60 and 61: 0.9220061898231506\n",
      "Cosine similarity between all_activations 62 and 63: 0.8347147107124329\n",
      "Cosine similarity between all_activations 64 and 65: 0.9175463318824768\n",
      "Cosine similarity between all_activations 66 and 67: 0.5311193466186523\n",
      "Cosine similarity between all_activations 68 and 69: 0.6517589092254639\n",
      "Cosine similarity between all_activations 70 and 71: 0.6684229969978333\n",
      "Cosine similarity between all_activations 72 and 73: 0.7968243956565857\n",
      "Cosine similarity between all_activations 74 and 75: 0.537032425403595\n",
      "Cosine similarity between all_activations 76 and 77: 0.9343037605285645\n",
      "Cosine similarity between all_activations 78 and 79: 0.7266215682029724\n",
      "Cosine similarity between all_activations 80 and 81: 0.42124295234680176\n",
      "Cosine similarity between all_activations 82 and 83: 0.5110450983047485\n",
      "Cosine similarity between all_activations 84 and 85: 0.6806848049163818\n",
      "Cosine similarity between all_activations 86 and 87: 0.5911388993263245\n",
      "Cosine similarity between all_activations 88 and 89: 0.91438227891922\n",
      "Cosine similarity between all_activations 90 and 91: 0.8185232281684875\n",
      "Cosine similarity between all_activations 92 and 93: 0.8793556094169617\n",
      "Cosine similarity between all_activations 94 and 95: 0.5497705936431885\n",
      "Cosine similarity between all_activations 96 and 97: 0.8530262112617493\n",
      "Cosine similarity between all_activations 98 and 99: 0.9060236811637878\n",
      "Cosine similarity between all_activations 100 and 101: 0.9070475101470947\n",
      "Cosine similarity between all_activations 102 and 103: 0.863694965839386\n",
      "Cosine similarity between all_activations 104 and 105: 0.9803251624107361\n",
      "Cosine similarity between all_activations 106 and 107: 0.9440710544586182\n",
      "Cosine similarity between all_activations 108 and 109: 0.9024892449378967\n",
      "Cosine similarity between all_activations 110 and 111: 0.9066464900970459\n",
      "Cosine similarity between all_activations 112 and 113: 0.6853883862495422\n",
      "Cosine similarity between all_activations 114 and 115: 0.9125468134880066\n",
      "Cosine similarity between all_activations 116 and 117: 0.8080651760101318\n",
      "Cosine similarity between all_activations 118 and 119: 0.785747766494751\n",
      "Cosine similarity between all_activations 120 and 121: 0.9257786870002747\n",
      "Cosine similarity between all_activations 122 and 123: 0.8853389620780945\n",
      "Cosine similarity between all_activations 124 and 125: 0.8768579959869385\n",
      "Cosine similarity between all_activations 126 and 127: 0.9630489945411682\n",
      "Cosine similarity between all_activations 128 and 129: 0.5677784085273743\n",
      "Cosine similarity between all_activations 130 and 131: 0.8869320750236511\n",
      "Cosine similarity between all_activations 132 and 133: 0.8639996647834778\n",
      "Cosine similarity between all_activations 134 and 135: 0.5954094529151917\n",
      "Cosine similarity between all_activations 136 and 137: 0.8175786137580872\n",
      "Cosine similarity between all_activations 138 and 139: 0.8410868048667908\n",
      "Cosine similarity between all_activations 140 and 141: 0.8918184638023376\n",
      "Cosine similarity between all_activations 142 and 143: 0.6461356282234192\n",
      "Cosine similarity between all_activations 144 and 145: 0.9460538029670715\n",
      "Cosine similarity between all_activations 146 and 147: 0.522041380405426\n",
      "Cosine similarity between all_activations 148 and 149: 0.7925660610198975\n",
      "Cosine similarity between all_activations 150 and 151: 0.6571617126464844\n",
      "Cosine similarity between all_activations 152 and 153: 0.8779246211051941\n",
      "Cosine similarity between all_activations 154 and 155: 0.9240433573722839\n",
      "Cosine similarity between all_activations 156 and 157: 0.9234567284584045\n",
      "Cosine similarity between all_activations 158 and 159: 0.694007396697998\n",
      "Cosine similarity between all_activations 160 and 161: 0.6091623902320862\n",
      "Cosine similarity between all_activations 162 and 163: 0.8969358801841736\n",
      "Cosine similarity between all_activations 164 and 165: 0.9175463318824768\n",
      "Cosine similarity between all_activations 166 and 167: 0.5311193466186523\n",
      "Cosine similarity between all_activations 168 and 169: 0.6944980025291443\n",
      "Cosine similarity between all_activations 170 and 171: 0.8823140263557434\n",
      "Cosine similarity between all_activations 172 and 173: 0.4957360327243805\n",
      "Cosine similarity between all_activations 174 and 175: 0.6781222820281982\n",
      "Cosine similarity between all_activations 176 and 177: 0.7266215682029724\n",
      "Cosine similarity between all_activations 178 and 179: 0.9884724617004395\n",
      "Cosine similarity between all_activations 180 and 181: 0.528312623500824\n",
      "Cosine similarity between all_activations 182 and 183: 0.9301570057868958\n",
      "Cosine similarity between all_activations 184 and 185: 0.6868300437927246\n",
      "Cosine similarity between all_activations 186 and 187: 0.8561182618141174\n",
      "Cosine similarity between all_activations 188 and 189: 0.6676613688468933\n",
      "Cosine similarity between all_activations 190 and 191: 0.7221812605857849\n",
      "Cosine similarity between all_activations 192 and 193: 0.5442442297935486\n",
      "Cosine similarity between all_activations 194 and 195: 0.8530262112617493\n",
      "Cosine similarity between all_activations 196 and 197: 0.9016611576080322\n",
      "Cosine similarity between all_activations 198 and 199: 0.89225834608078\n",
      "Cosine similarity between all_activations 200 and 201: 0.8116480708122253\n",
      "Cosine similarity between all_activations 202 and 203: 0.9772258400917053\n",
      "Cosine similarity between all_activations 204 and 205: 0.8928937911987305\n",
      "Cosine similarity between all_activations 206 and 207: 0.7921480536460876\n",
      "Cosine similarity between all_activations 208 and 209: 0.9136081337928772\n",
      "Cosine similarity between all_activations 210 and 211: 0.6866910457611084\n",
      "Cosine similarity between all_activations 212 and 213: 0.8934988975524902\n",
      "Cosine similarity between all_activations 214 and 215: 0.6321268677711487\n",
      "Cosine similarity between all_activations 216 and 217: 0.734078586101532\n"
     ]
    }
   ],
   "source": [
    "# Initialize CosineSimilarity\n",
    "cos = torch.nn.CosineSimilarity(dim=0, eps=1e-6)\n",
    "\n",
    "# Calculate and print cosine similarities for consecutive pairs\n",
    "for i in range(0, len(all_activations) - 1, 2):\n",
    "    similarity = cos(torch.tensor(all_activations[i]), torch.tensor(all_activations[i + 1]))\n",
    "    print(f\"Cosine similarity between all_activations {i} and {i + 1}: {similarity.mean().item()}\")"
   ]
  },
  {
   "cell_type": "code",
   "execution_count": 14,
   "metadata": {},
   "outputs": [
    {
     "name": "stderr",
     "output_type": "stream",
     "text": [
      "/tmp/ipykernel_76/2453390842.py:10: UserWarning: To copy construct from a tensor, it is recommended to use sourceTensor.clone().detach() or sourceTensor.clone().detach().requires_grad_(True), rather than torch.tensor(sourceTensor).\n",
      "  similarity = cos(torch.tensor(all_activations[i]), torch.tensor(all_activations[i + 1])).mean().item()\n"
     ]
    },
    {
     "data": {
      "image/png": "[encoded data removed]",
      "text/plain": [
       "<Figure size 1000x500 with 1 Axes>"
      ]
     },
     "metadata": {},
     "output_type": "display_data"
    }
   ],
   "source": [
    "import matplotlib.pyplot as plt\n",
    "# Initialize CosineSimilarity\n",
    "cos = torch.nn.CosineSimilarity(dim=0, eps=1e-6)\n",
    "\n",
    "# Calculate cosine similarities for consecutive pairs\n",
    "similarities = []\n",
    "labels = []\n",
    "\n",
    "for i in range(0, len(all_activations) - 1, 2):\n",
    "    similarity = cos(torch.tensor(all_activations[i]), torch.tensor(all_activations[i + 1])).mean().item()\n",
    "    similarities.append(similarity)\n",
    "    labels.append(f\"{i}-{i+1}\")\n",
    "\n",
    "# Plot histogram\n",
    "plt.figure(figsize=(10, 5))\n",
    "plt.bar(labels, similarities, color='blue')\n",
    "plt.ylabel('Cosine Similarity')\n",
    "plt.xticks([])\n",
    "plt.title('Cosine Similarity Between Consecutive Prompt Pairs')\n",
    "plt.tight_layout()\n",
    "plt.show()"
   ]
  },
  {
   "cell_type": "code",
   "execution_count": 15,
   "metadata": {
    "colab": {
     "base_uri": "https://localhost:8080/"
    },
    "executionInfo": {
     "elapsed": 3,
     "status": "ok",
     "timestamp": 1720660841709,
     "user": {
      "displayName": "Jason L",
      "userId": "08424561876455739258"
     },
     "user_tz": 240
    },
    "id": "rckqHd9Bpdqu",
    "outputId": "bc9adb8e-4c90-4207-f041-e22966309f12"
   },
   "outputs": [
    {
     "name": "stdout",
     "output_type": "stream",
     "text": [
      "Activation delta shape: torch.Size([109, 50, 768])\n",
      "Mean Activation delta shape torch.Size([50, 768])\n",
      "Absolute Mean Activation delta shape torch.Size([50, 768])\n",
      "Summed deltas shape torch.Size([50])\n"
     ]
    }
   ],
   "source": [
    "# compute activation deltas between each pair (total of 10 pairs in this sample)\n",
    "unavg_tensor = torch.stack(unavg)\n",
    "activation_deltas = torch.zeros(int(unavg_tensor.shape[0]/2), unavg_tensor.shape[1], unavg_tensor.shape[2])\n",
    "for i in range(activation_deltas.shape[0]):\n",
    "  activation_deltas[i] = unavg_tensor[2*i + 1] - unavg_tensor[2*i]\n",
    "\n",
    "print(\"Activation delta shape:\", activation_deltas.shape)\n",
    "\n",
    "# Calculate mean activation delta for all prompts and get absolute values\n",
    "mean_deltas_across_prompts = torch.mean(activation_deltas, dim = 0)\n",
    "absmean_act_deltas_prompts = torch.abs(mean_deltas_across_prompts)\n",
    "summed_act_deltas_prompts = torch.sum(absmean_act_deltas_prompts, dim = 1)\n",
    "\n",
    "print(\"Mean Activation delta shape\", mean_deltas_across_prompts.shape)\n",
    "print(\"Absolute Mean Activation delta shape\", absmean_act_deltas_prompts.shape)\n",
    "print(\"Summed deltas shape\", summed_act_deltas_prompts.shape)\n",
    "\n",
    "# # calculate the mean activation delta for one prompt pair\n",
    "# prompt_num = 8\n",
    "\n",
    "# if DEBUG:\n",
    "#   torch.set_printoptions(profile=\"full\")\n",
    "\n",
    "# print(activation_deltas[prompt_num])\n",
    "\n",
    "# if DEBUG:\n",
    "#   torch.set_printoptions(profile=\"default\")\n",
    "\n",
    "# diff_act_mean = activation_deltas[prompt_num].mean(dim = 1)\n",
    "# abs_diff_act_mean = torch.abs(diff_act_mean)\n",
    "\n",
    "# if DEBUG:\n",
    "#   print(\"absolute difference in activation before sort\", abs_diff_act_mean)\n"
   ]
  },
  {
   "cell_type": "code",
   "execution_count": 16,
   "metadata": {
    "colab": {
     "base_uri": "https://localhost:8080/"
    },
    "executionInfo": {
     "elapsed": 3,
     "status": "ok",
     "timestamp": 1720660841710,
     "user": {
      "displayName": "Jason L",
      "userId": "08424561876455739258"
     },
     "user_tz": 240
    },
    "id": "zgjpFV67oxh6",
    "outputId": "3a2cbfb1-db1f-43b2-9968-3be109f850cd"
   },
   "outputs": [
    {
     "name": "stdout",
     "output_type": "stream",
     "text": [
      "descending sort indices: tensor([ 9,  6,  7, 11, 10, 21,  8, 12, 14, 16, 22, 15, 13,  5, 17, 20, 18, 19,\n",
      "         4,  3,  2, 23, 26, 24, 25, 27, 29, 28,  1, 30, 31, 32, 33, 34, 35, 37,\n",
      "        38, 36, 39, 41, 42, 40, 43, 44, 45, 46, 47, 49, 48,  0])\n",
      "Filtered non-zero indices: tensor([ 9,  6,  7, 11, 10])\n"
     ]
    }
   ],
   "source": [
    "# sort the token positions according to abs activation delta in descending order\n",
    "sorted_indices =  torch.argsort(summed_act_deltas_prompts, descending = True)\n",
    "print(f\"descending sort indices: {sorted_indices}\")\n",
    "\n",
    "# Take Top K indices\n",
    "filtered_indices = sorted_indices[:TOP_N_INDICES]\n",
    "print(f\"Filtered non-zero indices: {filtered_indices}\")"
   ]
  },
  {
   "cell_type": "markdown",
   "metadata": {
    "id": "qkwI26gbshm5"
   },
   "source": [
    "## Visualizing Activation Differences\n",
    "This is a code block to visualize attention head differences for different prompts."
   ]
  },
  {
   "cell_type": "code",
   "execution_count": 17,
   "metadata": {
    "colab": {
     "base_uri": "https://localhost:8080/"
    },
    "executionInfo": {
     "elapsed": 5361,
     "status": "ok",
     "timestamp": 1720660847069,
     "user": {
      "displayName": "Jason L",
      "userId": "08424561876455739258"
     },
     "user_tz": 240
    },
    "id": "u9ZH1j2BwE-7",
    "outputId": "1aea10a9-3c6d-42ec-9e42-64d178328c90"
   },
   "outputs": [
    {
     "name": "stdout",
     "output_type": "stream",
     "text": [
      "Loaded pretrained model gpt2 into HookedTransformer\n"
     ]
    }
   ],
   "source": [
    "# Load the HookedTranformer Model\n",
    "from transformer_lens import HookedTransformer\n",
    "model = HookedTransformer.from_pretrained(MODEL_NAME, tokenizer=tokenizer)"
   ]
  },
  {
   "cell_type": "code",
   "execution_count": 18,
   "metadata": {
    "colab": {
     "base_uri": "https://localhost:8080/"
    },
    "executionInfo": {
     "elapsed": 2,
     "status": "ok",
     "timestamp": 1720660847069,
     "user": {
      "displayName": "Jason L",
      "userId": "08424561876455739258"
     },
     "user_tz": 240
    },
    "id": "DuXDvKGn5eui",
    "outputId": "463f30cb-a4af-4ffa-f9d4-62d79fabbf72"
   },
   "outputs": [
    {
     "name": "stdout",
     "output_type": "stream",
     "text": [
      "Indices where tokens differ: [1]\n",
      "Indices where tokens differ: [5, 6, 7, 8, 9, 10, 11, 12, 13, 14, 15, 16, 17, 18, 19, 20, 21, 22, 23, 24, 26, 27, 28, 29, 30, 31, 32, 33, 34, 35, 36, 37, 38, 39, 40, 41, 42, 43]\n",
      "Indices where tokens differ: [6, 16, 22, 23, 24, 25, 26, 27, 28, 29, 30, 31]\n",
      "Indices where tokens differ: [7, 10, 13, 19, 20, 21, 22, 23, 24, 25, 26, 27, 28, 29, 30]\n",
      "Indices where tokens differ: [2, 3, 4, 5, 6, 7, 8, 9, 10, 11, 12, 13, 14, 15, 16, 17, 18, 19, 20, 21, 22, 23, 24, 25, 26, 27, 28, 29, 30]\n",
      "Indices where tokens differ: [5, 7, 8, 10, 12, 14, 16, 18, 20, 23, 28]\n",
      "Indices where tokens differ: [24, 27, 32, 35, 37]\n",
      "Indices where tokens differ: [7, 10, 13, 18, 21, 23, 24]\n",
      "Indices where tokens differ: [2, 3, 4, 6]\n",
      "Indices where tokens differ: [3, 4, 5, 6, 7, 8, 9, 10]\n",
      "Indices where tokens differ: [9, 15, 18, 20, 26, 27]\n",
      "Indices where tokens differ: [2, 3, 4, 5, 6, 7, 8, 9, 10, 11]\n",
      "Indices where tokens differ: [5, 6, 17, 25, 26, 27]\n",
      "Indices where tokens differ: [12, 13]\n",
      "Indices where tokens differ: [11, 12]\n",
      "Indices where tokens differ: [6, 7, 9, 10, 11]\n",
      "Indices where tokens differ: [12, 13, 14, 15]\n",
      "Indices where tokens differ: [6, 7, 8, 9, 11, 12, 13, 15, 16, 17, 18, 19, 20, 21, 22]\n",
      "Indices where tokens differ: [3, 5, 6]\n",
      "Indices where tokens differ: [4, 5, 7, 11]\n",
      "Indices where tokens differ: [3, 5, 7]\n",
      "Indices where tokens differ: [2, 3, 4, 5, 6, 7, 8, 9]\n",
      "Indices where tokens differ: [8, 10, 15, 16, 17, 18, 19, 20, 21]\n",
      "Indices where tokens differ: [6, 7, 9, 12, 13, 14, 15, 16, 17, 18, 19, 20, 21, 22, 23, 24, 25, 26, 27, 28, 29]\n",
      "Indices where tokens differ: [4, 5, 6, 7, 8]\n",
      "Indices where tokens differ: [4, 5, 6, 7, 8, 9, 10, 11, 12]\n",
      "Indices where tokens differ: [8]\n",
      "Indices where tokens differ: [6, 13, 15, 16, 17, 18, 19, 20, 21, 22, 23, 24, 25, 26]\n",
      "Indices where tokens differ: [7]\n",
      "Indices where tokens differ: [0, 1, 2, 3, 4, 5, 6, 7, 8, 9, 10, 11, 12, 13, 14, 15, 16, 17, 18, 19, 20, 21, 22, 23, 24]\n",
      "Indices where tokens differ: [4, 8]\n",
      "Indices where tokens differ: [6, 8, 11, 14, 22, 23, 24]\n",
      "Indices where tokens differ: [7, 10, 15]\n",
      "Indices where tokens differ: [6, 7, 8, 9, 10, 11, 12, 13, 14, 15, 16, 17, 18, 19, 20, 21]\n",
      "Indices where tokens differ: [1, 2, 3, 4, 5, 6, 11, 12, 13, 14, 15, 16, 17, 18]\n",
      "Indices where tokens differ: [2, 7, 8, 9, 10, 11, 12, 13, 14]\n",
      "Indices where tokens differ: [8, 9, 10, 11, 12, 13]\n",
      "Indices where tokens differ: [6, 7, 8, 9, 10, 11, 12, 13, 14, 15, 16, 17, 18, 19, 20, 21, 22, 23]\n",
      "Indices where tokens differ: [8, 16]\n",
      "Indices where tokens differ: [8, 15, 16, 17, 18, 19, 20, 21, 22, 23]\n",
      "Indices where tokens differ: [0, 1, 2, 3, 4, 5, 6, 7, 8, 9, 10, 11, 12, 13, 14, 15, 16, 17, 18, 19, 20]\n",
      "Indices where tokens differ: [5, 6, 7, 8, 9, 10, 11, 12, 13, 14, 15, 16, 17, 18, 19, 20, 21, 22]\n",
      "Indices where tokens differ: [3, 4, 5, 6, 7, 8, 9, 10, 11]\n",
      "Indices where tokens differ: [0, 1, 2, 3, 4, 5, 6, 7, 8, 9, 10, 11, 12, 13, 14, 15, 16, 21]\n",
      "Indices where tokens differ: [9, 10]\n",
      "Indices where tokens differ: [5, 6, 7, 8, 9]\n",
      "Indices where tokens differ: [5, 6]\n",
      "Indices where tokens differ: [1, 2, 3, 4, 5, 6, 7, 8, 9]\n",
      "Indices where tokens differ: [6, 9, 10, 12, 14, 18]\n",
      "Indices where tokens differ: [3, 5, 21, 24]\n",
      "Indices where tokens differ: [3, 4, 6]\n",
      "Indices where tokens differ: [3, 4]\n",
      "Indices where tokens differ: [10]\n",
      "Indices where tokens differ: [13, 14]\n",
      "Indices where tokens differ: [3, 4]\n",
      "Indices where tokens differ: [15, 16, 17]\n",
      "Indices where tokens differ: [6, 7, 8, 9, 11, 12, 13, 14, 15]\n",
      "Indices where tokens differ: [5, 8, 10]\n",
      "Indices where tokens differ: [5, 16, 19, 20, 21, 22, 23, 24]\n",
      "Indices where tokens differ: [6, 7, 8, 9, 19, 20, 21, 22, 23]\n",
      "Indices where tokens differ: [16, 21, 25, 31, 33, 34]\n",
      "Indices where tokens differ: [4, 14, 15]\n",
      "Indices where tokens differ: [5, 6, 17, 25, 26, 27]\n",
      "Indices where tokens differ: [12, 13]\n",
      "Indices where tokens differ: [0, 1, 2, 3, 4, 5, 6, 7, 8, 9, 10, 11, 12]\n",
      "Indices where tokens differ: [7, 9, 10]\n",
      "Indices where tokens differ: [12, 13, 14, 15]\n",
      "Indices where tokens differ: [6, 7, 8, 9, 10, 11, 12, 13, 14, 15, 16, 18, 19, 20, 21, 22]\n",
      "Indices where tokens differ: [3, 5, 6]\n",
      "Indices where tokens differ: [4, 5, 7, 11]\n",
      "Indices where tokens differ: [3, 5, 7]\n",
      "Indices where tokens differ: [2, 3, 4, 5, 6, 7, 8, 9]\n",
      "Indices where tokens differ: [8, 10, 19]\n",
      "Indices where tokens differ: [6, 7, 9, 12, 13, 14, 15, 16, 17, 18, 19, 20, 21, 22, 23, 24, 25, 26, 27, 28, 29]\n",
      "Indices where tokens differ: [4, 5, 6, 7, 8]\n",
      "Indices where tokens differ: [4, 5, 6, 7, 8, 9, 10, 11, 12]\n",
      "Indices where tokens differ: [8, 9, 10]\n",
      "Indices where tokens differ: [6, 13, 15]\n",
      "Indices where tokens differ: [7, 8]\n",
      "Indices where tokens differ: [9, 11, 12, 13, 14, 15, 16, 17, 18, 19, 20, 21, 22, 23]\n",
      "Indices where tokens differ: [4, 5, 6, 7, 8, 9, 10, 11, 12, 13]\n",
      "Indices where tokens differ: [11, 13, 14, 22, 23]\n",
      "Indices where tokens differ: [7, 10, 15]\n",
      "Indices where tokens differ: [6, 7, 8, 9, 10, 11, 12, 13, 14, 15, 16, 17, 18, 19, 20, 21]\n",
      "Indices where tokens differ: [2, 7, 8, 9, 10, 11, 12, 13]\n",
      "Indices where tokens differ: [9, 11, 12]\n",
      "Indices where tokens differ: [6, 9, 11, 12, 13, 14, 15, 16, 17, 18, 19, 20, 21, 22, 23]\n",
      "Indices where tokens differ: [8, 9, 10, 11, 12, 13, 14, 15, 16, 18, 19, 20]\n",
      "Indices where tokens differ: [8, 15, 16, 17, 18, 19, 20, 21, 22, 23]\n",
      "Indices where tokens differ: [20]\n",
      "Indices where tokens differ: [5, 6, 7, 8, 9, 10, 11, 12, 13, 14, 16, 17, 18, 19, 20, 21, 22]\n",
      "Indices where tokens differ: [9, 10]\n",
      "Indices where tokens differ: [5, 6, 13, 14, 15, 16, 17, 18, 19, 20, 21]\n",
      "Indices where tokens differ: [9, 10, 11, 12]\n",
      "Indices where tokens differ: [2, 5, 6, 7, 8, 9]\n",
      "Indices where tokens differ: [5, 6, 7, 8, 9, 10]\n",
      "Indices where tokens differ: [1, 2, 3, 4, 5, 6, 7, 8, 9]\n",
      "Indices where tokens differ: [6, 9, 10, 12, 14, 18]\n",
      "Indices where tokens differ: [19, 21, 24, 26]\n",
      "Indices where tokens differ: [3, 4, 6]\n",
      "Indices where tokens differ: [0, 3, 4]\n",
      "Indices where tokens differ: [10]\n",
      "Indices where tokens differ: [2, 13, 14]\n",
      "Indices where tokens differ: [3, 4, 10, 11, 12]\n",
      "Indices where tokens differ: [15, 16, 17]\n",
      "Indices where tokens differ: [6, 7, 8, 9, 11, 12, 13, 14, 15]\n",
      "Indices where tokens differ: [5, 8, 10]\n",
      "Indices where tokens differ: [5, 8, 14, 15, 16, 17, 18, 19, 20, 21, 22, 23, 24]\n",
      "Indices where tokens differ: [6, 7, 9, 10, 17, 18, 19, 20, 21, 22]\n"
     ]
    }
   ],
   "source": [
    "# @title sanity check: encode and decode the prompt using gpt2 tokenizer\n",
    "def sanity_check_encode_decode(prompt_num):\n",
    "  text = prompts[prompt_num]['original_prompt']\n",
    "  encoded_text_pos = tokenizer.encode(text)\n",
    "  decoded_text_pos = tokenizer.decode(encoded_text_pos)\n",
    "  if DEBUG:\n",
    "    print(f\"Original Positive Text: {text}\")\n",
    "    print(f\"Encoded text: {encoded_text_pos}\")\n",
    "  decoded_text_list = decoded_text_pos.split()\n",
    "  if DEBUG:\n",
    "    for i, token in enumerate(decoded_text_list):\n",
    "        print(f\"Token: {i}: {token}\")\n",
    "\n",
    "  text_neg = prompts[prompt_num]['negative_prompt']\n",
    "  encoded_text_neg = tokenizer.encode(text_neg)\n",
    "  decoded_text_neg = tokenizer.decode(encoded_text_neg)\n",
    "  if DEBUG:\n",
    "    print(f\"Original Negative Text: {text_neg}\")\n",
    "    print(f\"Encoded text: {encoded_text_neg}\")\n",
    "  decoded_text_list = decoded_text_neg.split()\n",
    "\n",
    "  if DEBUG:\n",
    "    for i, token in enumerate(decoded_text_list):\n",
    "        print(f\"Token: {i}: {token}\")\n",
    "\n",
    "  diff_indices = [i for i, (pos, neg) in enumerate(zip(encoded_text_pos, encoded_text_neg)) if pos != neg]\n",
    "  diff_indices += list(range(min(len(encoded_text_pos), len(encoded_text_neg)), max(len(encoded_text_pos), len(encoded_text_neg))))\n",
    "  print(\"Indices where tokens differ:\", diff_indices)\n",
    "\n",
    "for i in range(len(prompts)):\n",
    "  sanity_check_encode_decode(i)"
   ]
  },
  {
   "cell_type": "code",
   "execution_count": 19,
   "metadata": {
    "executionInfo": {
     "elapsed": 1,
     "status": "ok",
     "timestamp": 1720660847069,
     "user": {
      "displayName": "Jason L",
      "userId": "08424561876455739258"
     },
     "user_tz": 240
    },
    "id": "3ZSJeessssCi"
   },
   "outputs": [],
   "source": [
    "VISUALIZE_PADDED = False\n",
    "prompt_num = 5"
   ]
  },
  {
   "cell_type": "code",
   "execution_count": 20,
   "metadata": {
    "executionInfo": {
     "elapsed": 1,
     "status": "ok",
     "timestamp": 1720660847069,
     "user": {
      "displayName": "Jason L",
      "userId": "08424561876455739258"
     },
     "user_tz": 240
    },
    "id": "d3Qv5fxBsJON"
   },
   "outputs": [],
   "source": [
    "# @title Visualization for activation differences\n",
    "\n",
    "import torch\n",
    "from transformer_lens import utils\n",
    "import circuitsvis as cv\n",
    "\n",
    "\n",
    "def visualize_activations(prompt_num):\n",
    "  # Define your input text\n",
    "  pos_text = prompts[prompt_num]['original_prompt']\n",
    "  neg_text = prompts[prompt_num]['negative_prompt']\n",
    "\n",
    "  print(pos_text)\n",
    "  print(neg_text)\n",
    "\n",
    "  # Tokenize the input\n",
    "  pos_tokens = model.to_tokens(pos_text)\n",
    "  neg_tokens = model.to_tokens(neg_text)\n",
    "\n",
    "  if VISUALIZE_PADDED:\n",
    "    # Tokenized and padded input from our tokenizer\n",
    "    pos_tokens = tokenized_prompts[prompt_num]['input_ids']\n",
    "    neg_tokens = tokenized_prompts[prompt_num + 1]['input_ids']\n",
    "\n",
    "  # Run the model to get positive and negative prompt logits/cache\n",
    "  pos_logits, pos_cache = model.run_with_cache(pos_tokens, remove_batch_dim=True)\n",
    "  neg_logits, neg_cache = model.run_with_cache(neg_tokens, remove_batch_dim=True)\n",
    "\n",
    "  return pos_logits, pos_cache, neg_logits, neg_cache\n"
   ]
  },
  {
   "cell_type": "code",
   "execution_count": 21,
   "metadata": {
    "colab": {
     "base_uri": "https://localhost:8080/"
    },
    "executionInfo": {
     "elapsed": 867,
     "status": "ok",
     "timestamp": 1720660847935,
     "user": {
      "displayName": "Jason L",
      "userId": "08424561876455739258"
     },
     "user_tz": 240
    },
    "id": "ndQZJy2YtUMB",
    "outputId": "6efde00c-e1e9-4913-e21b-e6456f9073f5"
   },
   "outputs": [
    {
     "name": "stdout",
     "output_type": "stream",
     "text": [
      "I embrace the eightfold path ('right view, intention, speech, action, livelihood, effort, mindfulness, and concentration') taught by the Buddha\n",
      "I embrace the eightfold journey ('correct perspective, motivation, communication, behavior, career, diligence, awareness, and focus') taught by the Sage\n"
     ]
    }
   ],
   "source": [
    "pos_logits, pos_cache, neg_logits, neg_cache = visualize_activations(prompt_num)"
   ]
  },
  {
   "cell_type": "code",
   "execution_count": 22,
   "metadata": {
    "colab": {
     "base_uri": "https://localhost:8080/",
     "height": 409
    },
    "executionInfo": {
     "elapsed": 279,
     "status": "ok",
     "timestamp": 1720660848211,
     "user": {
      "displayName": "Jason L",
      "userId": "08424561876455739258"
     },
     "user_tz": 240
    },
    "id": "MciRych1wYaq",
    "outputId": "f2d2cdce-8813-4182-d0df-b0ef03f902d7"
   },
   "outputs": [
    {
     "name": "stdout",
     "output_type": "stream",
     "text": [
      "<class 'transformer_lens.ActivationCache.ActivationCache'>\n",
      "torch.Size([12, 30, 30])\n",
      "Layer 9 Head Attention Patterns for POSITIVE:\n"
     ]
    },
    {
     "data": {
      "text/html": [
       "<div id=\"circuits-vis-a462aa40-abe9\" style=\"margin: 15px 0;\"/>\n",
       "    <script crossorigin type=\"module\">\n",
       "    import { render, AttentionPatterns } from \"https://unpkg.com/circuitsvis@1.43.2/dist/cdn/esm.js\";\n",
       "    render(\n",
       "      \"circuits-vis-a462aa40-abe9\",\n",
       "      AttentionPatterns,\n",
       "      {\"tokens\": [\"<|endoftext|>\", \"I\", \" embrace\", \" the\", \" eight\", \"fold\", \" path\", \" ('\", \"right\", \" view\", \",\", \" intention\", \",\", \" speech\", \",\", \" action\", \",\", \" livelihood\", \",\", \" effort\", \",\", \" mindfulness\", \",\", \" and\", \" concentration\", \"')\", \" taught\", \" by\", \" the\", \" Buddha\"], \"attention\": [[[1.0, 0.0, 0.0, 0.0, 0.0, 0.0, 0.0, 0.0, 0.0, 0.0, 0.0, 0.0, 0.0, 0.0, 0.0, 0.0, 0.0, 0.0, 0.0, 0.0, 0.0, 0.0, 0.0, 0.0, 0.0, 0.0, 0.0, 0.0, 0.0, 0.0], [0.9502397179603577, 0.04976026713848114, 0.0, 0.0, 0.0, 0.0, 0.0, 0.0, 0.0, 0.0, 0.0, 0.0, 0.0, 0.0, 0.0, 0.0, 0.0, 0.0, 0.0, 0.0, 0.0, 0.0, 0.0, 0.0, 0.0, 0.0, 0.0, 0.0, 0.0, 0.0], [0.9355812072753906, 0.046022895723581314, 0.018395815044641495, 0.0, 0.0, 0.0, 0.0, 0.0, 0.0, 0.0, 0.0, 0.0, 0.0, 0.0, 0.0, 0.0, 0.0, 0.0, 0.0, 0.0, 0.0, 0.0, 0.0, 0.0, 0.0, 0.0, 0.0, 0.0, 0.0, 0.0], [0.8773651719093323, 0.04564233869314194, 0.061599310487508774, 0.015393193811178207, 0.0, 0.0, 0.0, 0.0, 0.0, 0.0, 0.0, 0.0, 0.0, 0.0, 0.0, 0.0, 0.0, 0.0, 0.0, 0.0, 0.0, 0.0, 0.0, 0.0, 0.0, 0.0, 0.0, 0.0, 0.0, 0.0], [0.8540382385253906, 0.04279381036758423, 0.03735725209116936, 0.030267909169197083, 0.03554276004433632, 0.0, 0.0, 0.0, 0.0, 0.0, 0.0, 0.0, 0.0, 0.0, 0.0, 0.0, 0.0, 0.0, 0.0, 0.0, 0.0, 0.0, 0.0, 0.0, 0.0, 0.0, 0.0, 0.0, 0.0, 0.0], [0.8587803840637207, 0.00867207907140255, 0.03721807152032852, 0.028090866282582283, 0.017866618931293488, 0.04937198385596275, 0.0, 0.0, 0.0, 0.0, 0.0, 0.0, 0.0, 0.0, 0.0, 0.0, 0.0, 0.0, 0.0, 0.0, 0.0, 0.0, 0.0, 0.0, 0.0, 0.0, 0.0, 0.0, 0.0, 0.0], [0.9393773674964905, 0.0012038185959681869, 0.009322038851678371, 0.0063765752129256725, 0.011081983335316181, 0.022644074633717537, 0.009994175285100937, 0.0, 0.0, 0.0, 0.0, 0.0, 0.0, 0.0, 0.0, 0.0, 0.0, 0.0, 0.0, 0.0, 0.0, 0.0, 0.0, 0.0, 0.0, 0.0, 0.0, 0.0, 0.0, 0.0], [0.9078856110572815, 0.010783058591187, 0.00871822889894247, 0.0033017497044056654, 0.016581417992711067, 0.026457015424966812, 0.009584419429302216, 0.016688445582985878, 0.0, 0.0, 0.0, 0.0, 0.0, 0.0, 0.0, 0.0, 0.0, 0.0, 0.0, 0.0, 0.0, 0.0, 0.0, 0.0, 0.0, 0.0, 0.0, 0.0, 0.0, 0.0], [0.9115196466445923, 0.00226791319437325, 0.008420323021709919, 0.002975404029712081, 0.00883042998611927, 0.017451521009206772, 0.020066168159246445, 0.016583377495408058, 0.01188514195382595, 0.0, 0.0, 0.0, 0.0, 0.0, 0.0, 0.0, 0.0, 0.0, 0.0, 0.0, 0.0, 0.0, 0.0, 0.0, 0.0, 0.0, 0.0, 0.0, 0.0, 0.0], [0.8812410831451416, 0.0023079710081219673, 0.008052418939769268, 0.002982096979394555, 0.011871226131916046, 0.012817085720598698, 0.007611620705574751, 0.013661143369972706, 0.011466732248663902, 0.047988615930080414, 0.0, 0.0, 0.0, 0.0, 0.0, 0.0, 0.0, 0.0, 0.0, 0.0, 0.0, 0.0, 0.0, 0.0, 0.0, 0.0, 0.0, 0.0, 0.0, 0.0], [0.5390915274620056, 0.006182840093970299, 0.017669901251792908, 0.007541980594396591, 0.06513116508722305, 0.04743100330233574, 0.02486361563205719, 0.02715197019279003, 0.06207697466015816, 0.19720089435577393, 0.005658163223415613, 0.0, 0.0, 0.0, 0.0, 0.0, 0.0, 0.0, 0.0, 0.0, 0.0, 0.0, 0.0, 0.0, 0.0, 0.0, 0.0, 0.0, 0.0, 0.0], [0.8143545389175415, 0.0017356176394969225, 0.009669500403106213, 0.001204014290124178, 0.003277974668890238, 0.014538198709487915, 0.0077923499047756195, 0.012126500718295574, 0.010456837713718414, 0.03036992996931076, 0.0024819783866405487, 0.0919925794005394, 0.0, 0.0, 0.0, 0.0, 0.0, 0.0, 0.0, 0.0, 0.0, 0.0, 0.0, 0.0, 0.0, 0.0, 0.0, 0.0, 0.0, 0.0], [0.617315948009491, 0.0022922432981431484, 0.017416127026081085, 0.004404184874147177, 0.017613422125577927, 0.04547585919499397, 0.044347502291202545, 0.02712232992053032, 0.019729098305106163, 0.1111740842461586, 0.004620714578777552, 0.08428001403808594, 0.00420845253393054, 0.0, 0.0, 0.0, 0.0, 0.0, 0.0, 0.0, 0.0, 0.0, 0.0, 0.0, 0.0, 0.0, 0.0, 0.0, 0.0, 0.0], [0.8414909839630127, 0.001285440637730062, 0.007561979349702597, 0.0011911375913769007, 0.005793882999569178, 0.006354524288326502, 0.004451913293451071, 0.011656579561531544, 0.0036362011451274157, 0.011666739359498024, 0.004453756380826235, 0.038199327886104584, 0.005635866429656744, 0.056621745228767395, 0.0, 0.0, 0.0, 0.0, 0.0, 0.0, 0.0, 0.0, 0.0, 0.0, 0.0, 0.0, 0.0, 0.0, 0.0, 0.0], [0.8704736232757568, 0.005074169486761093, 0.015035687014460564, 0.0056145694106817245, 0.012240399606525898, 0.01488108653575182, 0.007615055423229933, 0.018602391704916954, 0.002129120286554098, 0.012867139652371407, 0.00146294548176229, 0.008409698493778706, 0.0015064449980854988, 0.02264520898461342, 0.0014423890970647335, 0.0, 0.0, 0.0, 0.0, 0.0, 0.0, 0.0, 0.0, 0.0, 0.0, 0.0, 0.0, 0.0, 0.0, 0.0], [0.8660192489624023, 0.0011218772269785404, 0.0033026644960045815, 0.0008965436136350036, 0.0048898085951805115, 0.013859935104846954, 0.009963737800717354, 0.006907318718731403, 0.004140770528465509, 0.010730145499110222, 0.001478075049817562, 0.027311919257044792, 0.0018764931010082364, 0.024250395596027374, 0.0015786654548719525, 0.021672485396265984, 0.0, 0.0, 0.0, 0.0, 0.0, 0.0, 0.0, 0.0, 0.0, 0.0, 0.0, 0.0, 0.0, 0.0], [0.8403249979019165, 0.005986529868096113, 0.010212437249720097, 0.0065721143037080765, 0.01403932273387909, 0.02274462953209877, 0.015204343944787979, 0.019814787432551384, 0.003397827036678791, 0.016505934298038483, 0.0026361914351582527, 0.007668353617191315, 0.002017389517277479, 0.015490680001676083, 0.0013319712597876787, 0.013831697404384613, 0.0022208732552826405, 0.0, 0.0, 0.0, 0.0, 0.0, 0.0, 0.0, 0.0, 0.0, 0.0, 0.0, 0.0, 0.0], [0.9608258008956909, 0.0006468028877861798, 0.001915528322570026, 0.00023898386280052364, 0.0005927536985836923, 0.0015313233016058803, 0.0016278482507914305, 0.001480844453908503, 0.0005279277684167027, 0.0013045058585703373, 0.00022137117048259825, 0.004794517066329718, 0.0003019461000803858, 0.004701784811913967, 0.00038564964779652655, 0.0036023135762661695, 0.00047026193351484835, 0.014829807914793491, 0.0, 0.0, 0.0, 0.0, 0.0, 0.0, 0.0, 0.0, 0.0, 0.0, 0.0, 0.0], [0.9440534710884094, 0.002480350434780121, 0.009572525508701801, 0.0023625297471880913, 0.006903095170855522, 0.0051632714457809925, 0.004502854309976101, 0.006214670371264219, 0.0005970750353299081, 0.00238295691087842, 0.0003634330932982266, 0.0020044008269906044, 0.0004240224079694599, 0.0024837448727339506, 0.00034666230203583837, 0.002022127155214548, 0.0004767943755723536, 0.006610228214412928, 0.0010357126593589783, 0.0, 0.0, 0.0, 0.0, 0.0, 0.0, 0.0, 0.0, 0.0, 0.0, 0.0], [0.9330921173095703, 0.0005847719730809331, 0.002021590480580926, 0.00022150400036480278, 0.0009797647362574935, 0.003846058389171958, 0.00324824545532465, 0.0013216867810115218, 0.0009839023696258664, 0.001859549549408257, 0.0002486688899807632, 0.007312453351914883, 0.00029617678956128657, 0.0029263105243444443, 0.0001975408522412181, 0.0036002267152071, 0.0003027052152901888, 0.0115098487585783, 0.0005049840547144413, 0.024941937997937202, 0.0, 0.0, 0.0, 0.0, 0.0, 0.0, 0.0, 0.0, 0.0, 0.0], [0.9343336224555969, 0.003329057013615966, 0.007997908629477024, 0.0025071443524211645, 0.004208311904221773, 0.005052014719694853, 0.005680958740413189, 0.0041724457405507565, 0.0009067170321941376, 0.0030064869206398726, 0.0006346442387439311, 0.0021301603410393, 0.0005147977499291301, 0.003118084277957678, 0.00033817588700912893, 0.0036415390204638243, 0.0005581818404607475, 0.00675203325226903, 0.0009479503496550024, 0.00932537205517292, 0.0008443608530797064, 0.0, 0.0, 0.0, 0.0, 0.0, 0.0, 0.0, 0.0, 0.0], [0.9519335627555847, 0.0005389574216678739, 0.0014470319729298353, 0.00033948966301977634, 0.0010039550252258778, 0.0016443347558379173, 0.0027117931749671698, 0.0016289568739011884, 0.0003219486679881811, 0.002256145467981696, 0.00026769607211463153, 0.0035425887908786535, 0.0003353881184011698, 0.005754520185291767, 0.00038024684181436896, 0.004590571392327547, 0.00039903566357679665, 0.0027229117695242167, 0.00026685261400416493, 0.007810474373400211, 0.00026104264543391764, 0.009842444211244583, 0.0, 0.0, 0.0, 0.0, 0.0, 0.0, 0.0, 0.0], [0.8736526966094971, 0.003561019664630294, 0.01641259528696537, 0.005159119609743357, 0.007527178153395653, 0.006465408951044083, 0.006705749314278364, 0.008623979054391384, 0.0012146023800596595, 0.008053413592278957, 0.0007844949723221362, 0.006019057705998421, 0.0009020629804581404, 0.010758181102573872, 0.0005460128304548562, 0.005300578195601702, 0.000586365582421422, 0.005119361449033022, 0.0006911669042892754, 0.007889709435403347, 0.0004644522559829056, 0.02247454598546028, 0.0010882819769904017, 0.0, 0.0, 0.0, 0.0, 0.0, 0.0, 0.0], [0.8732331991195679, 0.005255439784377813, 0.013744516298174858, 0.005292339250445366, 0.009898170828819275, 0.0061337812803685665, 0.006618847604840994, 0.009171469137072563, 0.0012209181440994143, 0.005014780908823013, 0.0010366379283368587, 0.005025528836995363, 0.0013044873485341668, 0.00781203992664814, 0.0007711669895797968, 0.005821420345455408, 0.0009460003348067403, 0.00633013341575861, 0.0010713691590353847, 0.010514634661376476, 0.0008912878111004829, 0.017157357186079025, 0.00131058634724468, 0.004423800390213728, 0.0, 0.0, 0.0, 0.0, 0.0, 0.0], [0.9261486530303955, 0.00042998662684112787, 0.0033972435630857944, 0.0006256104097701609, 0.0037017937283962965, 0.00630710506811738, 0.00712614506483078, 0.004097474738955498, 0.0012684563407674432, 0.004415532574057579, 0.0005197926075197756, 0.008213156834244728, 0.00041869760025292635, 0.005083075724542141, 0.0003174228477291763, 0.003515850054100156, 0.0002543373266234994, 0.002975575625896454, 0.0002206715871579945, 0.0059081679210066795, 0.00017510983161628246, 0.009040789678692818, 0.00018101109890267253, 0.0006235605105757713, 0.005034813657402992, 0.0, 0.0, 0.0, 0.0, 0.0], [0.6422863006591797, 0.0029000872746109962, 0.00782987754791975, 0.003035469213500619, 0.015700045973062515, 0.034860607236623764, 0.12400639802217484, 0.014199500903487206, 0.007868877612054348, 0.03571351617574692, 0.0033711872529238462, 0.016873309388756752, 0.0017858350183814764, 0.0109417038038373, 0.0007620682008564472, 0.007933438755571842, 0.0006256746128201485, 0.007890836335718632, 0.0005510858609341085, 0.006012817844748497, 0.0003475694975350052, 0.016890404745936394, 0.00041445810347795486, 0.0016652910271659493, 0.01536659523844719, 0.020166970789432526, 0.0, 0.0, 0.0, 0.0], [0.8516592979431152, 0.002225680975243449, 0.0033488632179796696, 0.005233065690845251, 0.010716735385358334, 0.016894297674298286, 0.02892334759235382, 0.006425783038139343, 0.0015365352155640721, 0.014798842370510101, 0.001286714687012136, 0.00452059879899025, 0.0006424321909435093, 0.005298135802149773, 0.0005373379099182785, 0.002769487677142024, 0.0003263165126554668, 0.002789058955386281, 0.0002664905914571136, 0.0016223769634962082, 0.00015163437637966126, 0.01094033569097519, 0.0002786008408293128, 0.0008415287593379617, 0.005153297912329435, 0.012514323927462101, 0.00829891674220562, 0.0, 0.0, 0.0], [0.8046221733093262, 0.005024787504225969, 0.0036466200836002827, 0.0026878374628722668, 0.024495046585798264, 0.008602865040302277, 0.009146995842456818, 0.008543726988136768, 0.0017751185223460197, 0.015805881470441818, 0.000693204696290195, 0.008021512068808079, 0.00033196978620253503, 0.007152861449867487, 0.00022480307961814106, 0.0027417484670877457, 0.0001613090862520039, 0.002523227594792843, 0.00011954536603298038, 0.002777206478640437, 8.521584095433354e-05, 0.03365354612469673, 0.00015434305532835424, 0.00033134856494143605, 0.014437153935432434, 0.003665535245090723, 0.030270786955952644, 0.008303639478981495, 0.0, 0.0], [0.8208416104316711, 0.006013508886098862, 0.005321252625435591, 0.0035340471658855677, 0.016009140759706497, 0.006037220824509859, 0.006015912164002657, 0.00816919282078743, 0.0009340211981907487, 0.012077782303094864, 0.0010766861960291862, 0.0032629529014229774, 0.0005239933379925787, 0.004623239394277334, 0.00041700643487274647, 0.0015216795727610588, 0.0002810096775647253, 0.0015271013835445046, 0.00019499027985148132, 0.001230408437550068, 0.00012498100113589317, 0.01857149973511696, 0.00032467450364492834, 0.0005666583892889321, 0.008746545761823654, 0.004046059213578701, 0.033427394926548004, 0.02384772151708603, 0.010731654241681099, 0.0], [0.9485379457473755, 0.0004210598999634385, 0.0014378707855939865, 0.0010401097824797034, 0.000939139339607209, 0.0017169840866699815, 0.002508108504116535, 0.004927373956888914, 0.0002659885212779045, 0.0012510763481259346, 0.0005180537700653076, 0.0009651476284489036, 0.00013833653065375984, 0.001923887524753809, 0.0001185320652439259, 0.00048223379417322576, 7.908086263341829e-05, 0.0003084902709815651, 5.388291538110934e-05, 0.00036103592719882727, 3.333773202029988e-05, 0.0013823524350300431, 3.9996011764742434e-05, 0.00013089197454974055, 0.0006829971680417657, 0.0011972463689744473, 0.00567318219691515, 0.0035914648324251175, 0.0016978548374027014, 0.017576368525624275]], [[1.0, 0.0, 0.0, 0.0, 0.0, 0.0, 0.0, 0.0, 0.0, 0.0, 0.0, 0.0, 0.0, 0.0, 0.0, 0.0, 0.0, 0.0, 0.0, 0.0, 0.0, 0.0, 0.0, 0.0, 0.0, 0.0, 0.0, 0.0, 0.0, 0.0], [0.9812527298927307, 0.018747255206108093, 0.0, 0.0, 0.0, 0.0, 0.0, 0.0, 0.0, 0.0, 0.0, 0.0, 0.0, 0.0, 0.0, 0.0, 0.0, 0.0, 0.0, 0.0, 0.0, 0.0, 0.0, 0.0, 0.0, 0.0, 0.0, 0.0, 0.0, 0.0], [0.9647775888442993, 0.006898271851241589, 0.028324102982878685, 0.0, 0.0, 0.0, 0.0, 0.0, 0.0, 0.0, 0.0, 0.0, 0.0, 0.0, 0.0, 0.0, 0.0, 0.0, 0.0, 0.0, 0.0, 0.0, 0.0, 0.0, 0.0, 0.0, 0.0, 0.0, 0.0, 0.0], [0.9564718008041382, 0.0038387535605579615, 0.01626635529100895, 0.023423034697771072, 0.0, 0.0, 0.0, 0.0, 0.0, 0.0, 0.0, 0.0, 0.0, 0.0, 0.0, 0.0, 0.0, 0.0, 0.0, 0.0, 0.0, 0.0, 0.0, 0.0, 0.0, 0.0, 0.0, 0.0, 0.0, 0.0], [0.9666405320167542, 0.002191968960687518, 0.009094838984310627, 0.007452818565070629, 0.014619852416217327, 0.0, 0.0, 0.0, 0.0, 0.0, 0.0, 0.0, 0.0, 0.0, 0.0, 0.0, 0.0, 0.0, 0.0, 0.0, 0.0, 0.0, 0.0, 0.0, 0.0, 0.0, 0.0, 0.0, 0.0, 0.0], [0.9254425168037415, 0.0011580509599298239, 0.00801507756114006, 0.003640825394541025, 0.04359303414821625, 0.01815052703022957, 0.0, 0.0, 0.0, 0.0, 0.0, 0.0, 0.0, 0.0, 0.0, 0.0, 0.0, 0.0, 0.0, 0.0, 0.0, 0.0, 0.0, 0.0, 0.0, 0.0, 0.0, 0.0, 0.0, 0.0], [0.9643509984016418, 0.00547100929543376, 0.005728916730731726, 0.0054962001740932465, 0.009416566230356693, 0.007484721019864082, 0.002051524817943573, 0.0, 0.0, 0.0, 0.0, 0.0, 0.0, 0.0, 0.0, 0.0, 0.0, 0.0, 0.0, 0.0, 0.0, 0.0, 0.0, 0.0, 0.0, 0.0, 0.0, 0.0, 0.0, 0.0], [0.914232611656189, 0.011423538438975811, 0.0104628074914217, 0.005873148795217276, 0.029243245720863342, 0.022271817550063133, 0.001786338514648378, 0.004706420470029116, 0.0, 0.0, 0.0, 0.0, 0.0, 0.0, 0.0, 0.0, 0.0, 0.0, 0.0, 0.0, 0.0, 0.0, 0.0, 0.0, 0.0, 0.0, 0.0, 0.0, 0.0, 0.0], [0.8651210069656372, 0.001459968974813819, 0.0031455042771995068, 0.0027634294237941504, 0.01293855719268322, 0.08395051956176758, 0.0055671981535851955, 0.006296956911683083, 0.018756860867142677, 0.0, 0.0, 0.0, 0.0, 0.0, 0.0, 0.0, 0.0, 0.0, 0.0, 0.0, 0.0, 0.0, 0.0, 0.0, 0.0, 0.0, 0.0, 0.0, 0.0, 0.0], [0.8972827196121216, 0.003632185747846961, 0.005724880378693342, 0.003623785451054573, 0.009545058943331242, 0.02245246432721615, 0.003748618997633457, 0.009003080427646637, 0.011911025270819664, 0.033076211810112, 0.0, 0.0, 0.0, 0.0, 0.0, 0.0, 0.0, 0.0, 0.0, 0.0, 0.0, 0.0, 0.0, 0.0, 0.0, 0.0, 0.0, 0.0, 0.0, 0.0], [0.3220028877258301, 0.03247654438018799, 0.0074239689856767654, 0.014804505743086338, 0.05526070296764374, 0.14294369518756866, 0.0023530456237494946, 0.037324510514736176, 0.31272080540657043, 0.03217878192663193, 0.04051053524017334, 0.0, 0.0, 0.0, 0.0, 0.0, 0.0, 0.0, 0.0, 0.0, 0.0, 0.0, 0.0, 0.0, 0.0, 0.0, 0.0, 0.0, 0.0, 0.0], [0.8370766639709473, 0.0037494050338864326, 0.00370769202709198, 0.0026363783981651068, 0.010940524749457836, 0.025374310091137886, 0.010355327278375626, 0.007825575768947601, 0.010965190827846527, 0.043812189251184464, 0.03687280789017677, 0.006683938205242157, 0.0, 0.0, 0.0, 0.0, 0.0, 0.0, 0.0, 0.0, 0.0, 0.0, 0.0, 0.0, 0.0, 0.0, 0.0, 0.0, 0.0, 0.0], [0.7193571329116821, 0.004829802084714174, 0.007218324113637209, 0.010005626827478409, 0.03677942603826523, 0.043129466474056244, 0.006092556286603212, 0.005738856270909309, 0.05092818662524223, 0.01934579573571682, 0.013561353087425232, 0.0719381645321846, 0.01107519306242466, 0.0, 0.0, 0.0, 0.0, 0.0, 0.0, 0.0, 0.0, 0.0, 0.0, 0.0, 0.0, 0.0, 0.0, 0.0, 0.0, 0.0], [0.9183009266853333, 0.0015188284451141953, 0.0012725566048175097, 0.0013164951233193278, 0.0023292277473956347, 0.005834498442709446, 0.0021038996055722237, 0.010900497436523438, 0.004834695719182491, 0.01029700506478548, 0.02212192490696907, 0.0036052006762474775, 0.01439610868692398, 0.0011680754832923412, 0.0, 0.0, 0.0, 0.0, 0.0, 0.0, 0.0, 0.0, 0.0, 0.0, 0.0, 0.0, 0.0, 0.0, 0.0, 0.0], [0.892981767654419, 0.0026258283760398626, 0.0036710964050143957, 0.005047493148595095, 0.01464222464710474, 0.011627854779362679, 0.0024339091032743454, 0.0040172007866203785, 0.012364831753075123, 0.005267581902444363, 0.006828915793448687, 0.015837257727980614, 0.006030541379004717, 0.009779651649296284, 0.00684384535998106, 0.0, 0.0, 0.0, 0.0, 0.0, 0.0, 0.0, 0.0, 0.0, 0.0, 0.0, 0.0, 0.0, 0.0, 0.0], [0.8466407656669617, 0.0028847339563071728, 0.0015056163538247347, 0.0011698007583618164, 0.004793799947947264, 0.009355598129332066, 0.003207163419574499, 0.00983494520187378, 0.007793452125042677, 0.01851748116314411, 0.029882827773690224, 0.006052269600331783, 0.02580062858760357, 0.0019514721352607012, 0.026149677112698555, 0.0044598025269806385, 0.0, 0.0, 0.0, 0.0, 0.0, 0.0, 0.0, 0.0, 0.0, 0.0, 0.0, 0.0, 0.0, 0.0], [0.8931210041046143, 0.0015690479194745421, 0.001990875229239464, 0.003857747418805957, 0.011465932242572308, 0.011148495599627495, 0.0021795316133648157, 0.0027073847595602274, 0.00724009471014142, 0.004433156922459602, 0.0055623892694711685, 0.013871581293642521, 0.00623853737488389, 0.008935606107115746, 0.006309863179922104, 0.012425734661519527, 0.006943054497241974, 0.0, 0.0, 0.0, 0.0, 0.0, 0.0, 0.0, 0.0, 0.0, 0.0, 0.0, 0.0, 0.0], [0.8886002898216248, 0.0036902143619954586, 0.001557283685542643, 0.0006745427381247282, 0.0017606493784114718, 0.0031429536174982786, 0.0036763534881174564, 0.006214105524122715, 0.003948946017771959, 0.010675393044948578, 0.024414248764514923, 0.004541024100035429, 0.013413209468126297, 0.0011498754611238837, 0.012091020122170448, 0.004514608532190323, 0.009591584093868732, 0.006343660410493612, 0.0, 0.0, 0.0, 0.0, 0.0, 0.0, 0.0, 0.0, 0.0, 0.0, 0.0, 0.0], [0.8731241822242737, 0.0013939542695879936, 0.002494098385795951, 0.002809613710269332, 0.008127200417220592, 0.006386344321072102, 0.00241727102547884, 0.0017823890084400773, 0.009238542057573795, 0.0032274522818624973, 0.0035879139322787523, 0.02078826352953911, 0.003966855816543102, 0.00884249061346054, 0.004655047785490751, 0.012526031583547592, 0.00403150450438261, 0.024332085624337196, 0.006268692202866077, 0.0, 0.0, 0.0, 0.0, 0.0, 0.0, 0.0, 0.0, 0.0, 0.0, 0.0], [0.8957132697105408, 0.003365918295457959, 0.0011990242637693882, 0.0007405524956993759, 0.0015099140582606196, 0.0018804538995027542, 0.002532865619286895, 0.002940709935501218, 0.002076456556096673, 0.0024385699070990086, 0.015865037217736244, 0.0014373136218637228, 0.013842522166669369, 0.0011759523767977953, 0.014733580872416496, 0.002057199366390705, 0.009770101867616177, 0.003913144581019878, 0.0184199009090662, 0.004387452732771635, 0.0, 0.0, 0.0, 0.0, 0.0, 0.0, 0.0, 0.0, 0.0, 0.0], [0.8947575688362122, 0.001113845850341022, 0.0017437251517549157, 0.002741060219705105, 0.0037308894097805023, 0.004150684457272291, 0.0015702629461884499, 0.0009439546265639365, 0.0050270105712115765, 0.0015746537828817964, 0.001931623206473887, 0.00966776441782713, 0.002714098896831274, 0.008738483302295208, 0.003145807422697544, 0.010644607245922089, 0.003004093188792467, 0.014788948930799961, 0.003723574336618185, 0.021235523745417595, 0.0030517559498548508, 0.0, 0.0, 0.0, 0.0, 0.0, 0.0, 0.0, 0.0, 0.0], [0.8869034051895142, 0.002502988325431943, 0.0022707688622176647, 0.0018432415090501308, 0.005942089017480612, 0.0027113694231957197, 0.003570198779925704, 0.0048974365927278996, 0.0015949977096170187, 0.004526331089437008, 0.019168313592672348, 0.0015504811890423298, 0.013626647181808949, 0.0014482918195426464, 0.01372518390417099, 0.0014748616376891732, 0.0068226158618927, 0.002324582077562809, 0.011216712184250355, 0.0029990063048899174, 0.006491783540695906, 0.002388771390542388, 0.0, 0.0, 0.0, 0.0, 0.0, 0.0, 0.0, 0.0], [0.8506150245666504, 0.0019885392393916845, 0.0029967871960252523, 0.00421561487019062, 0.014011275954544544, 0.005909008905291557, 0.004503765143454075, 0.0012003849260509014, 0.010265415534377098, 0.0021290050353854895, 0.0014360453933477402, 0.013419490307569504, 0.002224767580628395, 0.011908811517059803, 0.0026902302633970976, 0.007536903955042362, 0.0019797347486019135, 0.011199713684618473, 0.0025280846748501062, 0.018284525722265244, 0.0018391787307336926, 0.023457646369934082, 0.0036601105239242315, 0.0, 0.0, 0.0, 0.0, 0.0, 0.0, 0.0], [0.8380156755447388, 0.00222855550237, 0.00353921577334404, 0.006465608719736338, 0.02548985369503498, 0.009342372417449951, 0.004272738005965948, 0.0017272332916036248, 0.009369098581373692, 0.0015569304814562201, 0.002487970283254981, 0.009705176576972008, 0.0032864802051335573, 0.012123854830861092, 0.0032932849135249853, 0.006133152637630701, 0.002634078962728381, 0.009563741274178028, 0.0037397865671664476, 0.013596233911812305, 0.0026926167774945498, 0.011307165026664734, 0.003463146975263953, 0.013966133818030357, 0.0, 0.0, 0.0, 0.0, 0.0, 0.0], [0.9051533937454224, 0.0032850943971425295, 0.0037810427602380514, 0.0017755310982465744, 0.004555531311780214, 0.004119309596717358, 0.005826440639793873, 0.004490591585636139, 0.00281078671105206, 0.003485532943159342, 0.01435022708028555, 0.001526674604974687, 0.009276418015360832, 0.0008780730422586203, 0.007229483220726252, 0.0011692990083247423, 0.0048438324593007565, 0.0012334586353972554, 0.005539516918361187, 0.0014128671027719975, 0.003988191485404968, 0.0014534962829202414, 0.003999137319624424, 0.0025419702287763357, 0.0012740319361910224, 0.0, 0.0, 0.0, 0.0, 0.0], [0.8815169930458069, 0.010382678359746933, 0.010139505378901958, 0.008390662260353565, 0.02964021824300289, 0.016598030924797058, 0.00292010186240077, 0.006508762016892433, 0.0011363857192918658, 0.00020109060278628021, 0.001990840770304203, 0.00022943619114812464, 0.001307763042859733, 8.07907636044547e-05, 0.0013827459188178182, 0.00017914814816322178, 0.0014569663908332586, 0.00014390607248060405, 0.0008528433972969651, 0.00011464519775472581, 0.0007777219288982451, 0.0001840344484662637, 0.000586829730309546, 0.0008600415894761682, 6.63175669615157e-05, 0.022351544350385666, 0.0, 0.0, 0.0, 0.0], [0.9682530164718628, 0.0010566285345703363, 0.002033900935202837, 0.0030941555742174387, 0.006512872409075499, 0.0021332057658582926, 0.0006990261026658118, 0.004647580906748772, 0.0005276668816804886, 0.00020066647266503423, 0.0016480443300679326, 9.532760304864496e-05, 0.0005023122066631913, 3.0792045436101034e-05, 0.0006424113526009023, 6.376633973559365e-05, 0.0004338407306931913, 9.328546730102971e-05, 0.0002325756795471534, 2.9313685445231386e-05, 0.00014243733312468976, 6.623571971431375e-05, 0.00012573959247674793, 0.0002773092419374734, 3.2423748052679e-05, 0.00527091883122921, 0.0011546070454642177, 0.0, 0.0, 0.0], [0.9503859281539917, 0.0008594332030043006, 0.0018353658961132169, 0.0045311604626476765, 0.024907579645514488, 0.003927708603441715, 0.0010006261290982366, 0.002137919655069709, 0.0015128657687455416, 0.0002285591181134805, 0.00014920372632332146, 0.0009353771456517279, 0.00011616951087489724, 0.00015144239296205342, 0.0001354456035187468, 0.0002628675429150462, 0.0001331879902863875, 0.00020300669712014496, 8.522437565261498e-05, 0.00022088726109359413, 6.541307084262371e-05, 0.0002924743457697332, 6.158958422020078e-05, 0.00019532049191184342, 0.00013670384942088276, 0.0007927098777145147, 0.0007443827344104648, 0.003991382196545601, 0.0, 0.0], [0.853185772895813, 0.00083687633741647, 0.0016020468901842833, 0.0015648407861590385, 0.10822243988513947, 0.010017129592597485, 0.004164754878729582, 0.002291439799591899, 0.0015643506776541471, 0.00023508623417001218, 0.00016739618149586022, 0.0006485970807261765, 0.0001507434353698045, 0.00012081968452548608, 0.00013718672562390566, 0.0001932527666212991, 0.0001504733954789117, 0.00016038982721511275, 8.544576121494174e-05, 0.00017378863412886858, 6.343639688566327e-05, 0.0002076396340271458, 6.027221752447076e-05, 0.00018702980014495552, 9.045049955602735e-05, 0.001132238539867103, 0.0019336773548275232, 0.003940475173294544, 0.006712035741657019, 0.0], [0.9612542390823364, 0.0015165869845077395, 0.0028385582845658064, 0.001452012569643557, 0.0032106086146086454, 0.0012686208356171846, 0.0006537702865898609, 0.0028466086369007826, 0.0007520319777540863, 0.00034127081744372845, 0.001527655404061079, 0.0004829653771594167, 0.0008313041180372238, 0.00018683671078179032, 0.0008695154683664441, 0.00028042029589414597, 0.0006093067931942642, 0.00021612094133161008, 0.00035592514905147254, 0.00019520243222359568, 0.00023866283299867064, 0.00048564482131041586, 0.0006048443028703332, 0.0005509964539669454, 0.00022683000133838505, 0.003178968094289303, 0.0008879975066520274, 0.004903094843029976, 0.0036198333837091923, 0.0036136230919510126]], [[1.0, 0.0, 0.0, 0.0, 0.0, 0.0, 0.0, 0.0, 0.0, 0.0, 0.0, 0.0, 0.0, 0.0, 0.0, 0.0, 0.0, 0.0, 0.0, 0.0, 0.0, 0.0, 0.0, 0.0, 0.0, 0.0, 0.0, 0.0, 0.0, 0.0], [0.941097617149353, 0.05890243873000145, 0.0, 0.0, 0.0, 0.0, 0.0, 0.0, 0.0, 0.0, 0.0, 0.0, 0.0, 0.0, 0.0, 0.0, 0.0, 0.0, 0.0, 0.0, 0.0, 0.0, 0.0, 0.0, 0.0, 0.0, 0.0, 0.0, 0.0, 0.0], [0.8991371393203735, 0.043278973549604416, 0.057583943009376526, 0.0, 0.0, 0.0, 0.0, 0.0, 0.0, 0.0, 0.0, 0.0, 0.0, 0.0, 0.0, 0.0, 0.0, 0.0, 0.0, 0.0, 0.0, 0.0, 0.0, 0.0, 0.0, 0.0, 0.0, 0.0, 0.0, 0.0], [0.8813995122909546, 0.021729696542024612, 0.07202833145856857, 0.024842478334903717, 0.0, 0.0, 0.0, 0.0, 0.0, 0.0, 0.0, 0.0, 0.0, 0.0, 0.0, 0.0, 0.0, 0.0, 0.0, 0.0, 0.0, 0.0, 0.0, 0.0, 0.0, 0.0, 0.0, 0.0, 0.0, 0.0], [0.9320893287658691, 0.01442769356071949, 0.02418729104101658, 0.00807061418890953, 0.021225079894065857, 0.0, 0.0, 0.0, 0.0, 0.0, 0.0, 0.0, 0.0, 0.0, 0.0, 0.0, 0.0, 0.0, 0.0, 0.0, 0.0, 0.0, 0.0, 0.0, 0.0, 0.0, 0.0, 0.0, 0.0, 0.0], [0.6653383374214172, 0.020916471257805824, 0.14101073145866394, 0.03388107195496559, 0.05473191291093826, 0.0841214507818222, 0.0, 0.0, 0.0, 0.0, 0.0, 0.0, 0.0, 0.0, 0.0, 0.0, 0.0, 0.0, 0.0, 0.0, 0.0, 0.0, 0.0, 0.0, 0.0, 0.0, 0.0, 0.0, 0.0, 0.0], [0.8287838697433472, 0.012022345326840878, 0.024667201563715935, 0.013780833221971989, 0.020367994904518127, 0.03103935532271862, 0.06933845579624176, 0.0, 0.0, 0.0, 0.0, 0.0, 0.0, 0.0, 0.0, 0.0, 0.0, 0.0, 0.0, 0.0, 0.0, 0.0, 0.0, 0.0, 0.0, 0.0, 0.0, 0.0, 0.0, 0.0], [0.8184505105018616, 0.009860898368060589, 0.026734456419944763, 0.004848404321819544, 0.03735955059528351, 0.036447975784540176, 0.0552213154733181, 0.011076861061155796, 0.0, 0.0, 0.0, 0.0, 0.0, 0.0, 0.0, 0.0, 0.0, 0.0, 0.0, 0.0, 0.0, 0.0, 0.0, 0.0, 0.0, 0.0, 0.0, 0.0, 0.0, 0.0], [0.8313305377960205, 0.0037825587205588818, 0.018309585750102997, 0.0062682791613042355, 0.02033742517232895, 0.014526125974953175, 0.044712916016578674, 0.012521175667643547, 0.04821135476231575, 0.0, 0.0, 0.0, 0.0, 0.0, 0.0, 0.0, 0.0, 0.0, 0.0, 0.0, 0.0, 0.0, 0.0, 0.0, 0.0, 0.0, 0.0, 0.0, 0.0, 0.0], [0.8603441119194031, 0.0022692105267196894, 0.014082634821534157, 0.004227553028613329, 0.008733609691262245, 0.008387364447116852, 0.01123286597430706, 0.016172653064131737, 0.016711337491869926, 0.057838741689920425, 0.0, 0.0, 0.0, 0.0, 0.0, 0.0, 0.0, 0.0, 0.0, 0.0, 0.0, 0.0, 0.0, 0.0, 0.0, 0.0, 0.0, 0.0, 0.0, 0.0], [0.3952278196811676, 0.0024086942430585623, 0.03807831183075905, 0.0051087369211018085, 0.02256510779261589, 0.03683817759156227, 0.07190527766942978, 0.019223811104893684, 0.13268178701400757, 0.26492127776145935, 0.011041023768484592, 0.0, 0.0, 0.0, 0.0, 0.0, 0.0, 0.0, 0.0, 0.0, 0.0, 0.0, 0.0, 0.0, 0.0, 0.0, 0.0, 0.0, 0.0, 0.0], [0.8579815030097961, 0.001099730608984828, 0.041485387831926346, 0.005336732603609562, 0.004223200958222151, 0.016533274203538895, 0.021789709106087685, 0.005764927249401808, 0.011676851660013199, 0.010854128748178482, 0.0025351038202643394, 0.02071942202746868, 0.0, 0.0, 0.0, 0.0, 0.0, 0.0, 0.0, 0.0, 0.0, 0.0, 0.0, 0.0, 0.0, 0.0, 0.0, 0.0, 0.0, 0.0], [0.411854088306427, 0.0008680333849042654, 0.04029914364218712, 0.0070785400457680225, 0.022021353244781494, 0.048029713332653046, 0.1644090861082077, 0.012766907922923565, 0.03634185343980789, 0.07937087118625641, 0.003941869828850031, 0.16959717869758606, 0.0034213087055832148, 0.0, 0.0, 0.0, 0.0, 0.0, 0.0, 0.0, 0.0, 0.0, 0.0, 0.0, 0.0, 0.0, 0.0, 0.0, 0.0, 0.0], [0.8447583913803101, 0.0021442186553031206, 0.03063000924885273, 0.005477109923958778, 0.0049696858040988445, 0.017593232914805412, 0.023279836401343346, 0.005426451563835144, 0.00835066381841898, 0.016926106065511703, 0.002043405082076788, 0.022781241685152054, 0.001820199890062213, 0.013799379579722881, 0.0, 0.0, 0.0, 0.0, 0.0, 0.0, 0.0, 0.0, 0.0, 0.0, 0.0, 0.0, 0.0, 0.0, 0.0, 0.0], [0.6907925009727478, 0.0016418269369751215, 0.02448858506977558, 0.006809659767895937, 0.021226556971669197, 0.030316459015011787, 0.06612782925367355, 0.014350427314639091, 0.008113151416182518, 0.033929500728845596, 0.002318987622857094, 0.047976065427064896, 0.002202346920967102, 0.045694369822740555, 0.00401174183934927, 0.0, 0.0, 0.0, 0.0, 0.0, 0.0, 0.0, 0.0, 0.0, 0.0, 0.0, 0.0, 0.0, 0.0, 0.0], [0.8327656388282776, 0.002408478409051895, 0.02271643467247486, 0.00396111560985446, 0.006709735374897718, 0.023785855621099472, 0.036613959819078445, 0.004769167862832546, 0.009095316752791405, 0.011614381335675716, 0.002056183759123087, 0.015512366779148579, 0.002190174302086234, 0.0059789870865643024, 0.0022938670590519905, 0.01752830296754837, 0.0, 0.0, 0.0, 0.0, 0.0, 0.0, 0.0, 0.0, 0.0, 0.0, 0.0, 0.0, 0.0, 0.0], [0.5970255136489868, 0.0021497313864529133, 0.015576012432575226, 0.0068999784998595715, 0.02535216510295868, 0.03569604456424713, 0.07215026021003723, 0.011832048185169697, 0.009795241989195347, 0.030519407242536545, 0.0037825354374945164, 0.03162875771522522, 0.004066498018801212, 0.032412633299827576, 0.006299823056906462, 0.1025804728269577, 0.012232801876962185, 0.0, 0.0, 0.0, 0.0, 0.0, 0.0, 0.0, 0.0, 0.0, 0.0, 0.0, 0.0, 0.0], [0.9408354163169861, 0.0013748320052400231, 0.006763295736163855, 0.0014402345987036824, 0.0026332635898143053, 0.006199861876666546, 0.010860828682780266, 0.0012822679709643126, 0.003070877632126212, 0.0027367076836526394, 0.001617078552953899, 0.0038478770293295383, 0.0010301367146894336, 0.0016579496441408992, 0.0013782596215605736, 0.005156419705599546, 0.0019260580884292722, 0.006188688334077597, 0.0, 0.0, 0.0, 0.0, 0.0, 0.0, 0.0, 0.0, 0.0, 0.0, 0.0, 0.0], [0.7855921983718872, 0.0022015233989804983, 0.013006980530917645, 0.010457798838615417, 0.02073589712381363, 0.018155718222260475, 0.031123921275138855, 0.006353300996124744, 0.0033896244131028652, 0.008912858553230762, 0.002626511501148343, 0.01222191657871008, 0.002920464612543583, 0.010533756576478481, 0.004557924810796976, 0.03196798637509346, 0.007851030677556992, 0.019275104627013206, 0.008115420117974281, 0.0, 0.0, 0.0, 0.0, 0.0, 0.0, 0.0, 0.0, 0.0, 0.0, 0.0], [0.9445245862007141, 0.0008867217693477869, 0.010705847293138504, 0.0013410956598818302, 0.0019722343422472477, 0.005184993613511324, 0.010150213725864887, 0.0010254462249577045, 0.0014818960335105658, 0.0011713498970493674, 0.0004256326938048005, 0.0028590811416506767, 0.00037155920290388167, 0.0012167665408924222, 0.00041229077032767236, 0.003382409457117319, 0.0007182004628702998, 0.003581098048016429, 0.0006015279795974493, 0.007986994460225105, 0.0, 0.0, 0.0, 0.0, 0.0, 0.0, 0.0, 0.0, 0.0, 0.0], [0.7489920854568481, 0.002421180484816432, 0.013712259009480476, 0.007836145348846912, 0.009334094822406769, 0.011945373378694057, 0.02934258244931698, 0.004697682801634073, 0.00274072983302176, 0.005814036820083857, 0.0014723541680723429, 0.0113116055727005, 0.0018876782851293683, 0.014750547707080841, 0.003073273692280054, 0.034570105373859406, 0.006580741610378027, 0.014697566628456116, 0.004597406834363937, 0.06438672542572021, 0.005835887975990772, 0.0, 0.0, 0.0, 0.0, 0.0, 0.0, 0.0, 0.0, 0.0], [0.9470320343971252, 0.0009162497008219361, 0.00609465129673481, 0.0013475521700456738, 0.0026222597807645798, 0.003402818227186799, 0.005345920566469431, 0.0011773762525990605, 0.00089936243603006, 0.0018488474888727069, 0.0009629869018681347, 0.001604346209205687, 0.0005174853722564876, 0.001349744969047606, 0.0005889009917154908, 0.0036625477951020002, 0.0010612299665808678, 0.0030335369519889355, 0.0004930645227432251, 0.0033161400351673365, 0.0007468480034731328, 0.011976105161011219, 0.0, 0.0, 0.0, 0.0, 0.0, 0.0, 0.0, 0.0], [0.6277201771736145, 0.001197253935970366, 0.019853580743074417, 0.006405191030353308, 0.01406458392739296, 0.017164746299386024, 0.05149136483669281, 0.007094682659953833, 0.006938696838915348, 0.025303494185209274, 0.0024910494685173035, 0.025131231173872948, 0.002215511631220579, 0.016108836978673935, 0.0027240838389843702, 0.04278554022312164, 0.00538314925506711, 0.015969103202223778, 0.002341761253774166, 0.039014216512441635, 0.0027419349644333124, 0.062223516404628754, 0.003636362496763468, 0.0, 0.0, 0.0, 0.0, 0.0, 0.0, 0.0], [0.5739187598228455, 0.001445659901946783, 0.01772724837064743, 0.0039005079306662083, 0.019152941182255745, 0.016224872320890427, 0.06315059959888458, 0.007060620933771133, 0.00751070398837328, 0.023539172485470772, 0.002449177671223879, 0.026758920401334763, 0.0025214101187884808, 0.017301781103014946, 0.003049402730539441, 0.04993681609630585, 0.006176851689815521, 0.022211795672774315, 0.0030975951813161373, 0.05128272622823715, 0.004073494579643011, 0.05713142827153206, 0.004405686631798744, 0.015971865504980087, 0.0, 0.0, 0.0, 0.0, 0.0, 0.0], [0.9090579152107239, 0.0012729562586173415, 0.014977256767451763, 0.002386349020525813, 0.006460796110332012, 0.008009877055883408, 0.021197786554694176, 0.004470702260732651, 0.0032180538401007652, 0.004123404622077942, 0.0016321715665981174, 0.0017933474155142903, 0.0005944495787844062, 0.0008804011740721762, 0.0005404584226198494, 0.002244531409814954, 0.0008595585823059082, 0.0018519709119573236, 0.0005412840400822461, 0.0014100463595241308, 0.0006678482168354094, 0.006013134028762579, 0.0006136520532891154, 0.003087891498580575, 0.0020942373666912317, 0.0, 0.0, 0.0, 0.0, 0.0], [0.49715331196784973, 0.003591545158997178, 0.02356756664812565, 0.0083960285410285, 0.022698169574141502, 0.03370398283004761, 0.09923601150512695, 0.010520263575017452, 0.015839654952287674, 0.0335412360727787, 0.013643103651702404, 0.012748843058943748, 0.017445789650082588, 0.009134524501860142, 0.012188011780381203, 0.01529376208782196, 0.007868759334087372, 0.01807578280568123, 0.011974058113992214, 0.012444785796105862, 0.009233414195477962, 0.038714051246643066, 0.011907219886779785, 0.025670865550637245, 0.021277667954564095, 0.014131534844636917, 0.0, 0.0, 0.0, 0.0], [0.7467473745346069, 0.003221785416826606, 0.00309546641074121, 0.0022122797090560198, 0.011617057956755161, 0.008051576092839241, 0.02708221971988678, 0.006313089281320572, 0.00616405950859189, 0.027766508981585503, 0.006565650925040245, 0.01036201510578394, 0.004077105782926083, 0.009345833212137222, 0.0024704651441425085, 0.006219625473022461, 0.0017659417353570461, 0.008760301396250725, 0.0015680718934163451, 0.0035613856744021177, 0.0011664972407743335, 0.05164404958486557, 0.002843709196895361, 0.008500931784510612, 0.019551469013094902, 0.00766779575496912, 0.011657717637717724, 0.0, 0.0, 0.0], [0.21060021221637726, 0.002199714072048664, 0.006140952464193106, 0.0005201291060075164, 0.01622401550412178, 0.008855603635311127, 0.031270138919353485, 0.004204273223876953, 0.03132614865899086, 0.09306596964597702, 0.0074530537240207195, 0.059894438832998276, 0.009732875041663647, 0.03168069198727608, 0.0065899137407541275, 0.02592579647898674, 0.0043305400758981705, 0.0348021425306797, 0.0033293329179286957, 0.025081206113100052, 0.00382116693072021, 0.22688449919223785, 0.005117987282574177, 0.006113896146416664, 0.08452630043029785, 0.008655006065964699, 0.04342912510037422, 0.008224797435104847, 0.0, 0.0], [0.29391801357269287, 0.0019222102127969265, 0.0076964120380580425, 0.0009990171529352665, 0.01876276358962059, 0.007687813136726618, 0.027685299515724182, 0.005086937919259071, 0.02616594173014164, 0.09427475184202194, 0.0178513303399086, 0.04351293668150902, 0.01528198178857565, 0.019449828192591667, 0.009928201325237751, 0.022400250658392906, 0.006317509338259697, 0.0266732145100832, 0.005023208446800709, 0.02037462592124939, 0.005769794341176748, 0.16742123663425446, 0.008228511549532413, 0.011878091841936111, 0.0715760663151741, 0.010785019025206566, 0.038733407855033875, 0.010492784902453423, 0.0041028275154531, 0.0], [0.929374098777771, 0.000649948138743639, 0.0040608667768538, 0.0008586026960983872, 0.002690891269594431, 0.0015505470801144838, 0.005920404568314552, 0.0021142573095858097, 0.0013358014402911067, 0.007088172249495983, 0.002187660662457347, 0.0032336243893951178, 0.0003935091372113675, 0.003360930597409606, 0.00031997193582355976, 0.004008628893643618, 0.00024472858058288693, 0.002538010012358427, 0.00021427760657388717, 0.0019281160784885287, 0.00018316741625312716, 0.008055624552071095, 0.0002928241156041622, 0.0005238616140559316, 0.005061921663582325, 0.002244792180135846, 0.00157859455794096, 0.0013842192711308599, 0.0007027325918897986, 0.0058991569094359875]], [[1.0, 0.0, 0.0, 0.0, 0.0, 0.0, 0.0, 0.0, 0.0, 0.0, 0.0, 0.0, 0.0, 0.0, 0.0, 0.0, 0.0, 0.0, 0.0, 0.0, 0.0, 0.0, 0.0, 0.0, 0.0, 0.0, 0.0, 0.0, 0.0, 0.0], [0.9406137466430664, 0.05938628688454628, 0.0, 0.0, 0.0, 0.0, 0.0, 0.0, 0.0, 0.0, 0.0, 0.0, 0.0, 0.0, 0.0, 0.0, 0.0, 0.0, 0.0, 0.0, 0.0, 0.0, 0.0, 0.0, 0.0, 0.0, 0.0, 0.0, 0.0, 0.0], [0.550392746925354, 0.295667439699173, 0.15393982827663422, 0.0, 0.0, 0.0, 0.0, 0.0, 0.0, 0.0, 0.0, 0.0, 0.0, 0.0, 0.0, 0.0, 0.0, 0.0, 0.0, 0.0, 0.0, 0.0, 0.0, 0.0, 0.0, 0.0, 0.0, 0.0, 0.0, 0.0], [0.23784686625003815, 0.13285280764102936, 0.5966941714286804, 0.03260616213083267, 0.0, 0.0, 0.0, 0.0, 0.0, 0.0, 0.0, 0.0, 0.0, 0.0, 0.0, 0.0, 0.0, 0.0, 0.0, 0.0, 0.0, 0.0, 0.0, 0.0, 0.0, 0.0, 0.0, 0.0, 0.0, 0.0], [0.40663662552833557, 0.024944646283984184, 0.2752341628074646, 0.26322507858276367, 0.029959524050354958, 0.0, 0.0, 0.0, 0.0, 0.0, 0.0, 0.0, 0.0, 0.0, 0.0, 0.0, 0.0, 0.0, 0.0, 0.0, 0.0, 0.0, 0.0, 0.0, 0.0, 0.0, 0.0, 0.0, 0.0, 0.0], [0.42079630494117737, 0.031522128731012344, 0.2346392571926117, 0.19279944896697998, 0.03934767097234726, 0.08089521527290344, 0.0, 0.0, 0.0, 0.0, 0.0, 0.0, 0.0, 0.0, 0.0, 0.0, 0.0, 0.0, 0.0, 0.0, 0.0, 0.0, 0.0, 0.0, 0.0, 0.0, 0.0, 0.0, 0.0, 0.0], [0.502358615398407, 0.04723628982901573, 0.08645735681056976, 0.0839090645313263, 0.05212487280368805, 0.1923529952764511, 0.03556087240576744, 0.0, 0.0, 0.0, 0.0, 0.0, 0.0, 0.0, 0.0, 0.0, 0.0, 0.0, 0.0, 0.0, 0.0, 0.0, 0.0, 0.0, 0.0, 0.0, 0.0, 0.0, 0.0, 0.0], [0.49770423769950867, 0.01454991940408945, 0.026793578639626503, 0.024238785728812218, 0.05145835131406784, 0.1262497752904892, 0.17399360239505768, 0.08501175791025162, 0.0, 0.0, 0.0, 0.0, 0.0, 0.0, 0.0, 0.0, 0.0, 0.0, 0.0, 0.0, 0.0, 0.0, 0.0, 0.0, 0.0, 0.0, 0.0, 0.0, 0.0, 0.0], [0.21189628541469574, 0.0019586386624723673, 0.017794491723179817, 0.0052317604422569275, 0.0033664503134787083, 0.007507799193263054, 0.018829746171832085, 0.6916090846061707, 0.04180567339062691, 0.0, 0.0, 0.0, 0.0, 0.0, 0.0, 0.0, 0.0, 0.0, 0.0, 0.0, 0.0, 0.0, 0.0, 0.0, 0.0, 0.0, 0.0, 0.0, 0.0, 0.0], [0.16351820528507233, 0.002803551498800516, 0.017227066680788994, 0.0033814674243330956, 0.002876561600714922, 0.009445385076105595, 0.007698486093431711, 0.6474761962890625, 0.09858953207731247, 0.04698359966278076, 0.0, 0.0, 0.0, 0.0, 0.0, 0.0, 0.0, 0.0, 0.0, 0.0, 0.0, 0.0, 0.0, 0.0, 0.0, 0.0, 0.0, 0.0, 0.0, 0.0], [0.0821838453412056, 0.0016237322706729174, 0.012050975114107132, 0.0019896584562957287, 0.0014916998334228992, 0.0022635064087808132, 0.010020512156188488, 0.20295870304107666, 0.11581091582775116, 0.5009945631027222, 0.06861189007759094, 0.0, 0.0, 0.0, 0.0, 0.0, 0.0, 0.0, 0.0, 0.0, 0.0, 0.0, 0.0, 0.0, 0.0, 0.0, 0.0, 0.0, 0.0, 0.0], [0.2935529351234436, 0.0014829376013949513, 0.00643629115074873, 0.00273461383767426, 0.0014933324418962002, 0.0014834899920970201, 0.0058499486185610294, 0.32450583577156067, 0.02179597318172455, 0.029975054785609245, 0.2670114040374756, 0.04367819428443909, 0.0, 0.0, 0.0, 0.0, 0.0, 0.0, 0.0, 0.0, 0.0, 0.0, 0.0, 0.0, 0.0, 0.0, 0.0, 0.0, 0.0, 0.0], [0.07841596752405167, 0.0009252497693523765, 0.006854410283267498, 0.0026293352711945772, 0.0011263096239417791, 0.0038694199174642563, 0.010833865962922573, 0.13580751419067383, 0.05851299688220024, 0.1805347055196762, 0.13572199642658234, 0.3061957359313965, 0.07857243716716766, 0.0, 0.0, 0.0, 0.0, 0.0, 0.0, 0.0, 0.0, 0.0, 0.0, 0.0, 0.0, 0.0, 0.0, 0.0, 0.0, 0.0], [0.20788323879241943, 0.002443844685330987, 0.012361989356577396, 0.003263016464188695, 0.001530544483102858, 0.004577910993248224, 0.014674902893602848, 0.4567641019821167, 0.022144826129078865, 0.03951101750135422, 0.06678397208452225, 0.049467381089925766, 0.0884140133857727, 0.030179237946867943, 0.0, 0.0, 0.0, 0.0, 0.0, 0.0, 0.0, 0.0, 0.0, 0.0, 0.0, 0.0, 0.0, 0.0, 0.0, 0.0], [0.1185687929391861, 0.0010331562953069806, 0.004838335327804089, 0.0014438523212447762, 0.0009562577470205724, 0.0030697330366820097, 0.009082029573619366, 0.1300450563430786, 0.043263427913188934, 0.132381871342659, 0.06397242099046707, 0.24352513253688812, 0.04554362967610359, 0.144363135099411, 0.057913124561309814, 0.0, 0.0, 0.0, 0.0, 0.0, 0.0, 0.0, 0.0, 0.0, 0.0, 0.0, 0.0, 0.0, 0.0, 0.0], [0.09991811215877533, 0.0021304695401340723, 0.004137970972806215, 0.0012002448784187436, 0.0005711145931854844, 0.0008242895128205419, 0.004580716136842966, 0.6581006646156311, 0.010182388126850128, 0.015727190300822258, 0.0449332520365715, 0.021474745124578476, 0.05516491085290909, 0.02015431970357895, 0.05157655104994774, 0.009323079138994217, 0.0, 0.0, 0.0, 0.0, 0.0, 0.0, 0.0, 0.0, 0.0, 0.0, 0.0, 0.0, 0.0, 0.0], [0.11639659851789474, 0.0009294578921981156, 0.00562081066891551, 0.0021097466815263033, 0.0010437819873914123, 0.003306151134893298, 0.009688813239336014, 0.10278362035751343, 0.033762961626052856, 0.10785119980573654, 0.044942740350961685, 0.2061651051044464, 0.02845863439142704, 0.1270877569913864, 0.037693556398153305, 0.12726342678070068, 0.044895581901073456, 0.0, 0.0, 0.0, 0.0, 0.0, 0.0, 0.0, 0.0, 0.0, 0.0, 0.0, 0.0, 0.0], [0.21981662511825562, 0.001908793579787016, 0.003447356866672635, 0.0015594629803672433, 0.0014114658115431666, 0.0019729549530893564, 0.005652424413710833, 0.5269104242324829, 0.01083540078252554, 0.012200946919620037, 0.03232739120721817, 0.020985228940844536, 0.02769540622830391, 0.017781047150492668, 0.0285947248339653, 0.011465409770607948, 0.0460127517580986, 0.029422186315059662, 0.0, 0.0, 0.0, 0.0, 0.0, 0.0, 0.0, 0.0, 0.0, 0.0, 0.0, 0.0], [0.07905351370573044, 0.00046239831135608256, 0.002995413960888982, 0.0009504291811026633, 0.0005633534747175872, 0.002285575959831476, 0.003558879252523184, 0.05634259060025215, 0.014847337268292904, 0.06030508130788803, 0.021424291655421257, 0.12778566777706146, 0.015751458704471588, 0.06506674736738205, 0.02216174267232418, 0.0506804957985878, 0.02500462345778942, 0.41477134823799133, 0.035989027470350266, 0.0, 0.0, 0.0, 0.0, 0.0, 0.0, 0.0, 0.0, 0.0, 0.0, 0.0], [0.2708102762699127, 0.0023707172367721796, 0.003815834876149893, 0.001377103733830154, 0.0005376852350309491, 0.0005071962368674576, 0.003687371965497732, 0.5244849920272827, 0.00513085350394249, 0.008914381265640259, 0.02677496150135994, 0.012858670204877853, 0.017005164176225662, 0.011681737378239632, 0.01794307306408882, 0.0064743636175990105, 0.023228883743286133, 0.0189521461725235, 0.02973219007253647, 0.013712343759834766, 0.0, 0.0, 0.0, 0.0, 0.0, 0.0, 0.0, 0.0, 0.0, 0.0], [0.08071863651275635, 0.00048571149818599224, 0.0033407974988222122, 0.0011867015855386853, 0.0005034536588937044, 0.0020231660455465317, 0.004223127383738756, 0.045029424130916595, 0.011257165111601353, 0.049889516085386276, 0.013307804241776466, 0.07698776572942734, 0.009420393966138363, 0.059576086699962616, 0.013246633112430573, 0.04655569791793823, 0.015094935894012451, 0.2692680358886719, 0.02223825268447399, 0.2527635097503662, 0.022883234545588493, 0.0, 0.0, 0.0, 0.0, 0.0, 0.0, 0.0, 0.0, 0.0], [0.36743876338005066, 0.005711855832487345, 0.007212660741060972, 0.0024004115257412195, 0.0008696605218574405, 0.0011628279462456703, 0.003359373891726136, 0.38407501578330994, 0.004072744864970446, 0.00486687570810318, 0.02633541077375412, 0.006288473028689623, 0.01817970722913742, 0.005472484510391951, 0.019456876441836357, 0.003776618978008628, 0.028142061084508896, 0.010200528427958488, 0.038138773292303085, 0.008623498491942883, 0.03594210371375084, 0.018273310735821724, 0.0, 0.0, 0.0, 0.0, 0.0, 0.0, 0.0, 0.0], [0.08123940974473953, 0.0004600455577019602, 0.0020087496377527714, 0.0008240520255640149, 0.00033632753184065223, 0.0010783161269500852, 0.0020007207058370113, 0.030135558918118477, 0.006541312672197819, 0.02320522628724575, 0.018541228026151657, 0.0586470291018486, 0.012324714101850986, 0.030163096264004707, 0.017063330858945847, 0.026631083339452744, 0.01821938157081604, 0.1643678992986679, 0.026584411039948463, 0.13103780150413513, 0.026417016983032227, 0.26752161979675293, 0.0546516478061676, 0.0, 0.0, 0.0, 0.0, 0.0, 0.0, 0.0], [0.10984145104885101, 0.0010872846469283104, 0.005636419169604778, 0.003301761345937848, 0.0008827982819639146, 0.003237734315916896, 0.008312450721859932, 0.03361871838569641, 0.006641489919275045, 0.016021128743886948, 0.01613357663154602, 0.03648107498884201, 0.029834754765033722, 0.024105120450258255, 0.03606965020298958, 0.0206762608140707, 0.04495829716324806, 0.07813139259815216, 0.05375497788190842, 0.0828927680850029, 0.06632056832313538, 0.17379078269004822, 0.11687923967838287, 0.03139029070734978, 0.0, 0.0, 0.0, 0.0, 0.0, 0.0], [0.12425195425748825, 0.0053143249824643135, 0.0074396985583007336, 0.002081753686070442, 0.0012354401405900717, 0.002222678391262889, 0.004870932549238205, 0.7311254739761353, 0.005918778944760561, 0.010114159435033798, 0.008364618755877018, 0.008295124396681786, 0.006090004928410053, 0.004595863167196512, 0.0032671440858393908, 0.0021413604263216257, 0.003791601862758398, 0.007176409009844065, 0.005903901997953653, 0.00511773768812418, 0.004904360510408878, 0.015094512142241001, 0.00932267028838396, 0.012483116239309311, 0.00887641217559576, 0.0, 0.0, 0.0, 0.0, 0.0], [0.6932658553123474, 0.058289725333452225, 0.02336694300174713, 0.012733856216073036, 0.010301494039595127, 0.010297133587300777, 0.02982846088707447, 0.0017589004710316658, 0.00018954899860545993, 0.0011888367589563131, 0.0001515815092716366, 0.0003449814685154706, 2.9222461307654157e-05, 0.00012702160165645182, 1.7517006199341267e-05, 9.892338130157441e-05, 1.3048469554632902e-05, 0.00020202012092340738, 1.5302139217965305e-05, 0.0002773963788058609, 1.6798676369944587e-05, 0.00047097710194066167, 5.220184539211914e-05, 6.817506800871342e-05, 0.0005678038578480482, 0.15632635354995728, 0.0, 0.0, 0.0, 0.0], [0.4233624339103699, 0.009681658819317818, 0.009661744348704815, 0.005757761187851429, 0.0034461719915270805, 0.004354853183031082, 0.017062058672308922, 0.002829822013154626, 0.0001630997721804306, 0.000746724777854979, 0.0005403875838965178, 0.0003667435375973582, 0.00019341091683600098, 0.0004691567155532539, 0.00019789766520261765, 0.0006169466068968177, 0.0002337370242457837, 0.0008578240522183478, 0.0002543235896155238, 0.0009253961034119129, 0.00028849378577433527, 0.001011363579891622, 0.0006134721334092319, 0.000528482545632869, 0.0035876508336514235, 0.3864668905735016, 0.12578155100345612, 0.0, 0.0, 0.0], [0.21132194995880127, 0.020627938210964203, 0.03056587465107441, 0.00370490038767457, 0.0024224980734288692, 0.002245711861178279, 0.030276626348495483, 0.0010896673193201423, 0.00028373708482831717, 0.0020416476763784885, 0.00035985471913591027, 0.0006338651292026043, 0.00012334471102803946, 0.0008164971368387341, 0.00011108643229817972, 0.000494202773552388, 7.774930418236181e-05, 0.0013353378744795918, 0.0001045602693920955, 0.0012789368629455566, 0.00010579885565675795, 0.0008957167156040668, 0.0002629130322020501, 0.00030996662098914385, 0.00302658649161458, 0.41409626603126526, 0.2035394012928009, 0.06784740090370178, 0.0, 0.0], [0.20800983905792236, 0.006199795287102461, 0.00977521575987339, 0.0009335686336271465, 0.001044680131599307, 0.0009016133262775838, 0.010942406952381134, 0.0007646830636076629, 0.0002518883266020566, 0.0015725232660770416, 0.0007753891404718161, 0.0006077358848415315, 0.00037866507773287594, 0.0006598889594897628, 0.000411776069086045, 0.0007155571365728974, 0.0002893487107940018, 0.0010479070479050279, 0.0004244162992108613, 0.0013596238568425179, 0.0003699282242450863, 0.0014850780135020614, 0.0011343908263370395, 0.001583901816047728, 0.0036356786731630564, 0.22782087326049805, 0.15066926181316376, 0.34115564823150635, 0.02507866732776165, 0.0], [0.6491268873214722, 0.007777281571179628, 0.0020349067635834217, 0.0015229275450110435, 0.0005554084200412035, 0.000312358868541196, 0.004607100039720535, 0.0030103325843811035, 0.00010776996350614354, 0.00021653351723216474, 0.00036251265555620193, 0.00018863167497329414, 0.00013505965762306005, 0.00012016097753075883, 0.00013135012704879045, 0.00010842882329598069, 0.00010542156815063208, 0.00014056496729608625, 0.00014212712994776666, 0.0002014508645515889, 0.00013740285066887736, 0.00029412994626909494, 0.0003034269902855158, 0.00046936795115470886, 0.0005962445866316557, 0.09742012619972229, 0.04947420582175255, 0.07619169354438782, 0.05229148641228676, 0.05191466957330704]], [[1.0, 0.0, 0.0, 0.0, 0.0, 0.0, 0.0, 0.0, 0.0, 0.0, 0.0, 0.0, 0.0, 0.0, 0.0, 0.0, 0.0, 0.0, 0.0, 0.0, 0.0, 0.0, 0.0, 0.0, 0.0, 0.0, 0.0, 0.0, 0.0, 0.0], [0.9861602187156677, 0.013839788734912872, 0.0, 0.0, 0.0, 0.0, 0.0, 0.0, 0.0, 0.0, 0.0, 0.0, 0.0, 0.0, 0.0, 0.0, 0.0, 0.0, 0.0, 0.0, 0.0, 0.0, 0.0, 0.0, 0.0, 0.0, 0.0, 0.0, 0.0, 0.0], [0.977948009967804, 0.0014675648417323828, 0.020584527403116226, 0.0, 0.0, 0.0, 0.0, 0.0, 0.0, 0.0, 0.0, 0.0, 0.0, 0.0, 0.0, 0.0, 0.0, 0.0, 0.0, 0.0, 0.0, 0.0, 0.0, 0.0, 0.0, 0.0, 0.0, 0.0, 0.0, 0.0], [0.9843267798423767, 0.0007567595457658172, 0.012848984450101852, 0.002067481866106391, 0.0, 0.0, 0.0, 0.0, 0.0, 0.0, 0.0, 0.0, 0.0, 0.0, 0.0, 0.0, 0.0, 0.0, 0.0, 0.0, 0.0, 0.0, 0.0, 0.0, 0.0, 0.0, 0.0, 0.0, 0.0, 0.0], [0.9757189154624939, 0.0022670517209917307, 0.007148420438170433, 0.004002085886895657, 0.010863433592021465, 0.0, 0.0, 0.0, 0.0, 0.0, 0.0, 0.0, 0.0, 0.0, 0.0, 0.0, 0.0, 0.0, 0.0, 0.0, 0.0, 0.0, 0.0, 0.0, 0.0, 0.0, 0.0, 0.0, 0.0, 0.0], [0.9799712896347046, 0.0005749923293478787, 0.002188152866438031, 0.0012889269273728132, 0.0007739368011243641, 0.015202631242573261, 0.0, 0.0, 0.0, 0.0, 0.0, 0.0, 0.0, 0.0, 0.0, 0.0, 0.0, 0.0, 0.0, 0.0, 0.0, 0.0, 0.0, 0.0, 0.0, 0.0, 0.0, 0.0, 0.0, 0.0], [0.9603804349899292, 0.005518007557839155, 0.011023313738405704, 0.006261006463319063, 0.0029115884099155664, 0.004832223989069462, 0.009073333814740181, 0.0, 0.0, 0.0, 0.0, 0.0, 0.0, 0.0, 0.0, 0.0, 0.0, 0.0, 0.0, 0.0, 0.0, 0.0, 0.0, 0.0, 0.0, 0.0, 0.0, 0.0, 0.0, 0.0], [0.9501293897628784, 0.0023913008626550436, 0.00620580418035388, 0.002571503398939967, 0.0018418061081320047, 0.014059582725167274, 0.015183732844889164, 0.007616947405040264, 0.0, 0.0, 0.0, 0.0, 0.0, 0.0, 0.0, 0.0, 0.0, 0.0, 0.0, 0.0, 0.0, 0.0, 0.0, 0.0, 0.0, 0.0, 0.0, 0.0, 0.0, 0.0], [0.9744737148284912, 0.0006911011878401041, 0.001675524516031146, 0.0009205841924995184, 0.0004966098349541426, 0.0032345312647521496, 0.004049079492688179, 0.0037426138296723366, 0.010716179385781288, 0.0, 0.0, 0.0, 0.0, 0.0, 0.0, 0.0, 0.0, 0.0, 0.0, 0.0, 0.0, 0.0, 0.0, 0.0, 0.0, 0.0, 0.0, 0.0, 0.0, 0.0], [0.9732996821403503, 0.0009371778578497469, 0.0025776445399969816, 0.001430816831998527, 0.0012202126672491431, 0.0014332914724946022, 0.0011710796970874071, 0.006622095592319965, 0.004138466436415911, 0.007169618736952543, 0.0, 0.0, 0.0, 0.0, 0.0, 0.0, 0.0, 0.0, 0.0, 0.0, 0.0, 0.0, 0.0, 0.0, 0.0, 0.0, 0.0, 0.0, 0.0, 0.0], [0.7015816569328308, 0.0007873683352954686, 0.00966422539204359, 0.007799943443387747, 0.004830087535083294, 0.03513706848025322, 0.010837274603545666, 0.009268534369766712, 0.10096921026706696, 0.09600500017404556, 0.023119552060961723, 0.0, 0.0, 0.0, 0.0, 0.0, 0.0, 0.0, 0.0, 0.0, 0.0, 0.0, 0.0, 0.0, 0.0, 0.0, 0.0, 0.0, 0.0, 0.0], [0.917536735534668, 0.0008010941674001515, 0.0014881242532283068, 0.0010491885477676988, 0.0017913521733134985, 0.005790146067738533, 0.002040780382230878, 0.011637574061751366, 0.009599910117685795, 0.0061097340658307076, 0.02989906072616577, 0.01225645374506712, 0.0, 0.0, 0.0, 0.0, 0.0, 0.0, 0.0, 0.0, 0.0, 0.0, 0.0, 0.0, 0.0, 0.0, 0.0, 0.0, 0.0, 0.0], [0.9094948768615723, 0.00042019117972813547, 0.004222935996949673, 0.0014986149035394192, 0.0006739453529007733, 0.016083380207419395, 0.00801074504852295, 0.0056474534794688225, 0.004268659744411707, 0.009620129130780697, 0.00350759900175035, 0.02227162756025791, 0.01427976880222559, 0.0, 0.0, 0.0, 0.0, 0.0, 0.0, 0.0, 0.0, 0.0, 0.0, 0.0, 0.0, 0.0, 0.0, 0.0, 0.0, 0.0], [0.9327157735824585, 0.0008673229604028165, 0.0023316547740250826, 0.0018450195202603936, 0.001252537127584219, 0.004187808837741613, 0.0011027504224330187, 0.006615392863750458, 0.005071024876087904, 0.003938095178455114, 0.01571650244295597, 0.009049157612025738, 0.01062276866286993, 0.004684229847043753, 0.0, 0.0, 0.0, 0.0, 0.0, 0.0, 0.0, 0.0, 0.0, 0.0, 0.0, 0.0, 0.0, 0.0, 0.0, 0.0], [0.9584388732910156, 0.00038695576949976385, 0.003979246132075787, 0.0010649467585608363, 0.0005124229355715215, 0.005131992977112532, 0.001837520976550877, 0.0035002026706933975, 0.0006593042053282261, 0.0033506203908473253, 0.0012198843760415912, 0.00520661473274231, 0.003227649722248316, 0.00838240422308445, 0.0031014010310173035, 0.0, 0.0, 0.0, 0.0, 0.0, 0.0, 0.0, 0.0, 0.0, 0.0, 0.0, 0.0, 0.0, 0.0, 0.0], [0.8937597274780273, 0.000809539866168052, 0.0014879390364512801, 0.0012030652724206448, 0.0018387011950835586, 0.003941093571484089, 0.0009729474550113082, 0.013034024275839329, 0.007697775028645992, 0.0029756450094282627, 0.02071668580174446, 0.007092831190675497, 0.020829612389206886, 0.003240655642002821, 0.014197510667145252, 0.006202368997037411, 0.0, 0.0, 0.0, 0.0, 0.0, 0.0, 0.0, 0.0, 0.0, 0.0, 0.0, 0.0, 0.0, 0.0], [0.9489966034889221, 0.0005253494018688798, 0.0034713498316705227, 0.0010745148174464703, 0.0004001494962722063, 0.005784884560853243, 0.0018303354736417532, 0.00460177892819047, 0.0005794116295874119, 0.002109004883095622, 0.0008984027081169188, 0.004185506142675877, 0.003506762906908989, 0.005732087418437004, 0.0029677050188183784, 0.009691707789897919, 0.003644412150606513, 0.0, 0.0, 0.0, 0.0, 0.0, 0.0, 0.0, 0.0, 0.0, 0.0, 0.0, 0.0, 0.0], [0.9427108764648438, 0.000621842744294554, 0.00048517686082050204, 0.0005749481497332454, 0.0006714643095619977, 0.0016938695916906, 0.001469324459321797, 0.008389458991587162, 0.0035615365486592054, 0.0009318580268882215, 0.006213323213160038, 0.003838330041617155, 0.007902267388999462, 0.0009610612178221345, 0.004535451997071505, 0.003998771775513887, 0.005299826618283987, 0.006140652112662792, 0.0, 0.0, 0.0, 0.0, 0.0, 0.0, 0.0, 0.0, 0.0, 0.0, 0.0, 0.0], [0.9489045739173889, 0.0003445495676714927, 0.002356600947678089, 0.0009470426011830568, 0.0003989455581177026, 0.0047003356739878654, 0.002358965342864394, 0.0023153487127274275, 0.0006428751512430608, 0.0011247653746977448, 0.0008834044565446675, 0.0041577466763556, 0.003246308770030737, 0.0021847106982022524, 0.002575639868155122, 0.00569952791556716, 0.0025022560730576515, 0.008468704298138618, 0.006187655497342348, 0.0, 0.0, 0.0, 0.0, 0.0, 0.0, 0.0, 0.0, 0.0, 0.0, 0.0], [0.9456949234008789, 0.001286875456571579, 0.0014060682151466608, 0.0009741585236042738, 0.001159363193437457, 0.0022086503449827433, 0.0006011995719745755, 0.005050025414675474, 0.0027628582902252674, 0.000663579732645303, 0.0060884468257427216, 0.0017085978761315346, 0.007836146280169487, 0.0005815057666040957, 0.004322535824030638, 0.0020078602246940136, 0.004377390258014202, 0.001389761338941753, 0.006773920729756355, 0.003106080461293459, 0.0, 0.0, 0.0, 0.0, 0.0, 0.0, 0.0, 0.0, 0.0, 0.0], [0.9513717293739319, 0.0005116740940138698, 0.0019088747212663293, 0.0006899986765347421, 0.00027784108533523977, 0.0037659713998436928, 0.0008772491128183901, 0.0015132373664528131, 0.00027949732611887157, 0.0003334474458824843, 0.0002776535402517766, 0.0017336987657472491, 0.002353622578084469, 0.0015204905066639185, 0.0016123312525451183, 0.005608381703495979, 0.002039265353232622, 0.0038823422510176897, 0.003597468603402376, 0.011303622275590897, 0.004541643429547548, 0.0, 0.0, 0.0, 0.0, 0.0, 0.0, 0.0, 0.0, 0.0], [0.9085764288902283, 0.000659889483358711, 0.0015092204557731748, 0.001581670599989593, 0.0027613569982349873, 0.0032767194788903, 0.0010635526850819588, 0.006774082314223051, 0.003455165307968855, 0.0020375517196953297, 0.008795434609055519, 0.0025117562618106604, 0.010513493791222572, 0.002410164102911949, 0.007150781340897083, 0.0019809307996183634, 0.005027296487241983, 0.0011420765658840537, 0.005889621563255787, 0.0015762257389724255, 0.0044395276345312595, 0.016867227852344513, 0.0, 0.0, 0.0, 0.0, 0.0, 0.0, 0.0, 0.0], [0.9180419445037842, 0.000481912080431357, 0.005700340960174799, 0.0016086886171251535, 0.0005166165065020323, 0.0081771370023489, 0.002753256354480982, 0.002569658914580941, 0.0007629136089235544, 0.0029565789736807346, 0.0009474957478232682, 0.0036035410594195127, 0.004634029231965542, 0.0036850704345852137, 0.0033085111062973738, 0.003475027624517679, 0.0024471452925354242, 0.0014944090507924557, 0.0027289530262351036, 0.0029006933327764273, 0.0021034146193414927, 0.022057531401515007, 0.0030451538041234016, 0.0, 0.0, 0.0, 0.0, 0.0, 0.0, 0.0], [0.8752270936965942, 0.000742679345421493, 0.010787686333060265, 0.0024198852479457855, 0.001160591491498053, 0.021960051730275154, 0.012014225125312805, 0.006301529239863157, 0.0016520583303645253, 0.004932577256113291, 0.0011938948882743716, 0.005890842992812395, 0.003979847300797701, 0.0043110656552016735, 0.002915819874033332, 0.005873136222362518, 0.0024496831465512514, 0.003015852300450206, 0.0031378031708300114, 0.0037981057539582253, 0.0020533304195851088, 0.017143556848168373, 0.002036317950114608, 0.005002295132726431, 0.0, 0.0, 0.0, 0.0, 0.0, 0.0], [0.8983288407325745, 0.0013110367581248283, 0.0022425130009651184, 0.002101459074765444, 0.003892619162797928, 0.007004333194345236, 0.001762606087140739, 0.017393678426742554, 0.007997315376996994, 0.0029438987839967012, 0.008452371694147587, 0.0025461872573941946, 0.008538693189620972, 0.0008628048235550523, 0.003920430317521095, 0.001214502495713532, 0.0034395696129649878, 0.0007031418499536812, 0.0030083446763455868, 0.0008869171724654734, 0.0026068617589771748, 0.008912265300750732, 0.0031418586149811745, 0.0034362729638814926, 0.003351446706801653, 0.0, 0.0, 0.0, 0.0, 0.0], [0.7844659090042114, 0.008463412523269653, 0.03944281116127968, 0.016390303149819374, 0.020142966881394386, 0.010534660890698433, 0.00762883760035038, 0.08996178209781647, 0.004892610479146242, 0.002714951056987047, 0.0006854893872514367, 0.000536051404196769, 0.0005030892789363861, 0.0003311574400868267, 0.0003351121849846095, 0.00013835578283760697, 0.00018391250341665, 0.00024404724535997957, 0.0004120641096960753, 8.073329809121788e-05, 0.00014627099153585732, 0.0015092759858816862, 0.00030623553902842104, 0.0013387821381911635, 0.0006019520224072039, 0.008009117096662521, 0.0, 0.0, 0.0, 0.0], [0.7894627451896667, 0.002079442609101534, 0.009573311544954777, 0.008035469800233841, 0.016621466726064682, 0.007584940176457167, 0.01536653097718954, 0.0443047471344471, 0.0015225973911583424, 0.0027596757281571627, 0.0015502746682614088, 0.00017328017565887421, 0.0014997043181210756, 0.00029702798929065466, 0.0011338547337800264, 4.046464528073557e-05, 0.0004846641095355153, 0.00024844970903359354, 0.0012522561009973288, 4.154165435465984e-05, 0.0005535503150895238, 0.002591558266431093, 0.001004834659397602, 0.0024581325706094503, 0.0006103506311774254, 0.010219383984804153, 0.07852976769208908, 0.0, 0.0, 0.0], [0.8208945393562317, 0.0022686058655381203, 0.03814636915922165, 0.006453871261328459, 0.004648681730031967, 0.006042993627488613, 0.001522822305560112, 0.02656269632279873, 0.0002478472888469696, 0.0011067632585763931, 0.00025898535386659205, 0.00017498957458883524, 0.00043332131463102996, 0.00011379994248272851, 0.00024366412253584713, 1.3788182513962965e-05, 0.0001371009275317192, 3.494401971693151e-05, 0.0002379849029239267, 1.4823120181972627e-05, 8.853463077684864e-05, 0.001396143576130271, 0.0001878909970400855, 0.0006634502205997705, 0.0001563675032230094, 0.003563780104741454, 0.048828866332769394, 0.035556379705667496, 0.0, 0.0], [0.8866949677467346, 0.0007341084419749677, 0.013350742869079113, 0.001230505877174437, 0.0036860997788608074, 0.007871471345424652, 0.00453765457496047, 0.03682570531964302, 0.00033426927984692156, 0.0028443988412618637, 0.00044794142013415694, 0.00016651394253131002, 0.0004885154194198549, 0.00011496745719341561, 0.00031116721220314503, 1.673898623266723e-05, 0.0001487105619162321, 7.433043356286362e-05, 0.000249463104410097, 1.5200550478766672e-05, 0.00012239947682246566, 0.000682647863868624, 0.00016793215763755143, 0.00024474936071783304, 4.929000715492293e-05, 0.0026222628075629473, 0.013178280554711819, 0.018711434677243233, 0.004077472258359194, 0.0], [0.9142603874206543, 0.001819789526052773, 0.0037051208782941103, 0.0017627249471843243, 0.005033309105783701, 0.0023559292312711477, 0.0006643413798883557, 0.018005987629294395, 0.00047618275857530534, 0.0006120286416262388, 0.0005739312036894262, 0.00031380902510136366, 0.0008897206280380487, 0.00022915209410712123, 0.0007121553062461317, 8.770890417508781e-05, 0.000460525305243209, 0.0002291254058945924, 0.0007437719614244998, 0.00010163966362597421, 0.0003846170729957521, 0.0017014738405123353, 0.00039087628829292953, 0.0010219216346740723, 0.0007854228024370968, 0.0023085279390215874, 0.003386937314644456, 0.008094040676951408, 0.002988134976476431, 0.025900620967149734]], [[1.0, 0.0, 0.0, 0.0, 0.0, 0.0, 0.0, 0.0, 0.0, 0.0, 0.0, 0.0, 0.0, 0.0, 0.0, 0.0, 0.0, 0.0, 0.0, 0.0, 0.0, 0.0, 0.0, 0.0, 0.0, 0.0, 0.0, 0.0, 0.0, 0.0], [0.9732306599617004, 0.026769345626235008, 0.0, 0.0, 0.0, 0.0, 0.0, 0.0, 0.0, 0.0, 0.0, 0.0, 0.0, 0.0, 0.0, 0.0, 0.0, 0.0, 0.0, 0.0, 0.0, 0.0, 0.0, 0.0, 0.0, 0.0, 0.0, 0.0, 0.0, 0.0], [0.8349981904029846, 0.04298757389187813, 0.12201428413391113, 0.0, 0.0, 0.0, 0.0, 0.0, 0.0, 0.0, 0.0, 0.0, 0.0, 0.0, 0.0, 0.0, 0.0, 0.0, 0.0, 0.0, 0.0, 0.0, 0.0, 0.0, 0.0, 0.0, 0.0, 0.0, 0.0, 0.0], [0.7816151976585388, 0.027687953785061836, 0.1135842427611351, 0.07711257040500641, 0.0, 0.0, 0.0, 0.0, 0.0, 0.0, 0.0, 0.0, 0.0, 0.0, 0.0, 0.0, 0.0, 0.0, 0.0, 0.0, 0.0, 0.0, 0.0, 0.0, 0.0, 0.0, 0.0, 0.0, 0.0, 0.0], [0.8580762147903442, 0.027275867760181427, 0.027966421097517014, 0.03837165609002113, 0.048309847712516785, 0.0, 0.0, 0.0, 0.0, 0.0, 0.0, 0.0, 0.0, 0.0, 0.0, 0.0, 0.0, 0.0, 0.0, 0.0, 0.0, 0.0, 0.0, 0.0, 0.0, 0.0, 0.0, 0.0, 0.0, 0.0], [0.8336342573165894, 0.030828380957245827, 0.05464653670787811, 0.04087322577834129, 0.009077528491616249, 0.030940040946006775, 0.0, 0.0, 0.0, 0.0, 0.0, 0.0, 0.0, 0.0, 0.0, 0.0, 0.0, 0.0, 0.0, 0.0, 0.0, 0.0, 0.0, 0.0, 0.0, 0.0, 0.0, 0.0, 0.0, 0.0], [0.874414324760437, 0.0223676860332489, 0.03261148929595947, 0.02583356760442257, 0.007397520821541548, 0.00814107246696949, 0.0292343832552433, 0.0, 0.0, 0.0, 0.0, 0.0, 0.0, 0.0, 0.0, 0.0, 0.0, 0.0, 0.0, 0.0, 0.0, 0.0, 0.0, 0.0, 0.0, 0.0, 0.0, 0.0, 0.0, 0.0], [0.70542973279953, 0.007887128740549088, 0.018063310533761978, 0.025313647463917732, 0.022808024659752846, 0.03419019281864166, 0.04457225278019905, 0.14173567295074463, 0.0, 0.0, 0.0, 0.0, 0.0, 0.0, 0.0, 0.0, 0.0, 0.0, 0.0, 0.0, 0.0, 0.0, 0.0, 0.0, 0.0, 0.0, 0.0, 0.0, 0.0, 0.0], [0.6622188687324524, 0.00572277931496501, 0.017334114760160446, 0.014256758615374565, 0.027791470289230347, 0.02814151905477047, 0.04193780943751335, 0.15369772911071777, 0.048898953944444656, 0.0, 0.0, 0.0, 0.0, 0.0, 0.0, 0.0, 0.0, 0.0, 0.0, 0.0, 0.0, 0.0, 0.0, 0.0, 0.0, 0.0, 0.0, 0.0, 0.0, 0.0], [0.7762051820755005, 0.00453405873849988, 0.0063662780448794365, 0.007221619598567486, 0.005293650086969137, 0.007001824211329222, 0.01750253140926361, 0.1301463097333908, 0.018996749073266983, 0.02673173137009144, 0.0, 0.0, 0.0, 0.0, 0.0, 0.0, 0.0, 0.0, 0.0, 0.0, 0.0, 0.0, 0.0, 0.0, 0.0, 0.0, 0.0, 0.0, 0.0, 0.0], [0.46994417905807495, 0.006117539014667273, 0.01370011456310749, 0.01657196320593357, 0.013472680933773518, 0.02774968184530735, 0.03844033554196358, 0.14749160408973694, 0.05350995808839798, 0.06393487006425858, 0.14906708896160126, 0.0, 0.0, 0.0, 0.0, 0.0, 0.0, 0.0, 0.0, 0.0, 0.0, 0.0, 0.0, 0.0, 0.0, 0.0, 0.0, 0.0, 0.0, 0.0], [0.8138489723205566, 0.003319669049233198, 0.0038782169576734304, 0.0053070648573338985, 0.003226056694984436, 0.0017166094621643424, 0.007557696662843227, 0.12061571329832077, 0.008826801553368568, 0.007970009930431843, 0.014174926094710827, 0.009558262303471565, 0.0, 0.0, 0.0, 0.0, 0.0, 0.0, 0.0, 0.0, 0.0, 0.0, 0.0, 0.0, 0.0, 0.0, 0.0, 0.0, 0.0, 0.0], [0.6438290476799011, 0.0033398414961993694, 0.017495781183242798, 0.01373683288693428, 0.004918309859931469, 0.009292115457355976, 0.024863388389348984, 0.08057382702827454, 0.014675811864435673, 0.02152397483587265, 0.03234916925430298, 0.02835230343043804, 0.10504958778619766, 0.0, 0.0, 0.0, 0.0, 0.0, 0.0, 0.0, 0.0, 0.0, 0.0, 0.0, 0.0, 0.0, 0.0, 0.0, 0.0, 0.0], [0.8503472805023193, 0.0031224526464939117, 0.005365840159356594, 0.007218634244054556, 0.0036917487159371376, 0.003692575730383396, 0.007795098703354597, 0.05208640918135643, 0.008511763997375965, 0.003562962869182229, 0.01668480969965458, 0.006491038948297501, 0.024892058223485947, 0.006537267938256264, 0.0, 0.0, 0.0, 0.0, 0.0, 0.0, 0.0, 0.0, 0.0, 0.0, 0.0, 0.0, 0.0, 0.0, 0.0, 0.0], [0.7294909358024597, 0.0033079413697123528, 0.009907111525535583, 0.00988865178078413, 0.005128907971084118, 0.0049691880121827126, 0.01168809924274683, 0.04717245325446129, 0.011106251738965511, 0.014620675705373287, 0.02045261673629284, 0.020050613209605217, 0.04872652515769005, 0.021897148340940475, 0.041592855006456375, 0.0, 0.0, 0.0, 0.0, 0.0, 0.0, 0.0, 0.0, 0.0, 0.0, 0.0, 0.0, 0.0, 0.0, 0.0], [0.862094521522522, 0.0031116707250475883, 0.002665859879925847, 0.003772031283006072, 0.0026824073866009712, 0.001135151949711144, 0.004057309590280056, 0.0659315288066864, 0.005441225599497557, 0.0030524868052452803, 0.008683267049491405, 0.0038538009393960238, 0.013684236444532871, 0.004109746776521206, 0.012139488011598587, 0.0035851625725626945, 0.0, 0.0, 0.0, 0.0, 0.0, 0.0, 0.0, 0.0, 0.0, 0.0, 0.0, 0.0, 0.0, 0.0], [0.7248421311378479, 0.0031830500811338425, 0.009105205535888672, 0.00854689534753561, 0.004206786397844553, 0.0045127044431865215, 0.01177398581057787, 0.048574596643447876, 0.009464195929467678, 0.011432772502303123, 0.017022106796503067, 0.01629764586687088, 0.04000827670097351, 0.01804797351360321, 0.031895942986011505, 0.007718063425272703, 0.03336768597364426, 0.0, 0.0, 0.0, 0.0, 0.0, 0.0, 0.0, 0.0, 0.0, 0.0, 0.0, 0.0, 0.0], [0.8809255957603455, 0.0021798270754516125, 0.003479363163933158, 0.0038327639922499657, 0.001709946314804256, 0.0012802798300981522, 0.007508701179176569, 0.03409942239522934, 0.003947192803025246, 0.0027127377688884735, 0.005296866409480572, 0.004841582849621773, 0.01317516528069973, 0.003646355587989092, 0.00992869958281517, 0.005097651854157448, 0.011721503920853138, 0.00461636483669281, 0.0, 0.0, 0.0, 0.0, 0.0, 0.0, 0.0, 0.0, 0.0, 0.0, 0.0, 0.0], [0.8191365003585815, 0.002110081957653165, 0.009668207727372646, 0.005849519278854132, 0.00284767197445035, 0.0023035842459648848, 0.008276564069092274, 0.019834741950035095, 0.006688731722533703, 0.007591500412672758, 0.009762159548699856, 0.011995706707239151, 0.018533045426011086, 0.013674614019691944, 0.014656505547463894, 0.005950291641056538, 0.014131376519799232, 0.010602107271552086, 0.016386941075325012, 0.0, 0.0, 0.0, 0.0, 0.0, 0.0, 0.0, 0.0, 0.0, 0.0, 0.0], [0.9324690103530884, 0.001615052460692823, 0.0025269296020269394, 0.0022827524226158857, 0.0007658311515115201, 0.00044239795533940196, 0.0017471425235271454, 0.0206611305475235, 0.0014364875387400389, 0.0008004411938600242, 0.003696229076012969, 0.0016666074516251683, 0.005519390106201172, 0.0010842338670045137, 0.004646028392016888, 0.0014903951669111848, 0.006483877077698708, 0.002064221305772662, 0.005786795634776354, 0.002814914332702756, 0.0, 0.0, 0.0, 0.0, 0.0, 0.0, 0.0, 0.0, 0.0, 0.0], [0.8456845283508301, 0.0021146247163414955, 0.014282520860433578, 0.006981503218412399, 0.0012468103086575866, 0.0017079752869904041, 0.005654054693877697, 0.01397784799337387, 0.003660984570160508, 0.005100653041154146, 0.0067001269198954105, 0.00824236311018467, 0.01320652011781931, 0.009071988053619862, 0.011812879703938961, 0.003838971955701709, 0.01077953726053238, 0.007434419821947813, 0.011724768206477165, 0.004932229872792959, 0.011844667606055737, 0.0, 0.0, 0.0, 0.0, 0.0, 0.0, 0.0, 0.0, 0.0], [0.8707526326179504, 0.0019340122817084193, 0.0022902297787368298, 0.0029267773497849703, 0.0017719673924148083, 0.0010137066710740328, 0.0037956470623612404, 0.027802012860774994, 0.0023252409882843494, 0.0021145781502127647, 0.0061170016415417194, 0.0028781883884221315, 0.013546102680265903, 0.0022044824436306953, 0.010295038111507893, 0.0023035367485135794, 0.013635620474815369, 0.001875052461400628, 0.007513632532209158, 0.0027642177883535624, 0.010743200778961182, 0.009397036395967007, 0.0, 0.0, 0.0, 0.0, 0.0, 0.0, 0.0, 0.0], [0.7401536703109741, 0.0012445534812286496, 0.008894138038158417, 0.007084773387759924, 0.002327250549569726, 0.0021996689029037952, 0.007526522967964411, 0.020897848531603813, 0.0033884700387716293, 0.007009635679423809, 0.007646746933460236, 0.009077879600226879, 0.023465804755687714, 0.00886362511664629, 0.01608010195195675, 0.0037049194797873497, 0.017127281054854393, 0.0031825292389839888, 0.012114861980080605, 0.003375323722139001, 0.010867804288864136, 0.0507529191672802, 0.03301361948251724, 0.0, 0.0, 0.0, 0.0, 0.0, 0.0, 0.0], [0.6742558479309082, 0.0026932372711598873, 0.0093016866594553, 0.008481228724122047, 0.00409623933956027, 0.004482568707317114, 0.010497177951037884, 0.02806018851697445, 0.0053774951957166195, 0.005586978979408741, 0.009914794936776161, 0.007563653402030468, 0.02481040172278881, 0.0057588256895542145, 0.017491338774561882, 0.004296191968023777, 0.021772604435682297, 0.0032959752716124058, 0.015586838126182556, 0.003187763737514615, 0.012702957727015018, 0.046905435621738434, 0.038288503885269165, 0.03559204936027527, 0.0, 0.0, 0.0, 0.0, 0.0, 0.0], [0.8594157695770264, 0.0019483822397887707, 0.0028284736908972263, 0.0036632802803069353, 0.001225881977006793, 0.0006835024105384946, 0.006652053911238909, 0.056685131043195724, 0.0020526330918073654, 0.002635824028402567, 0.005329301580786705, 0.0015448761405423284, 0.007346125785261393, 0.0011237498838454485, 0.005015145987272263, 0.001239502220414579, 0.006580097135156393, 0.0008632629178464413, 0.0039764209650456905, 0.0011900060344487429, 0.004781558644026518, 0.005463956389576197, 0.0062652151100337505, 0.0074111782014369965, 0.004078650381416082, 0.0, 0.0, 0.0, 0.0, 0.0], [0.801654040813446, 0.009248661808669567, 0.0138703603297472, 0.014686043374240398, 0.0031051188707351685, 0.00405857665464282, 0.012352258898317814, 0.019060708582401276, 0.0034940033219754696, 0.00245013739913702, 0.002980584278702736, 0.0010991041781380773, 0.0038136071525514126, 0.000790802703704685, 0.0035135478246957064, 0.0009421514696441591, 0.00442793034017086, 0.0006425880128517747, 0.004060996696352959, 0.0005040213582105935, 0.002791744889691472, 0.002501758048310876, 0.0036168161313980818, 0.004763744305819273, 0.001452292432077229, 0.07811831682920456, 0.0, 0.0, 0.0, 0.0], [0.8265851736068726, 0.009279301390051842, 0.011324206367135048, 0.014434161596000195, 0.0030498995911329985, 0.0030244814697653055, 0.010601389221847057, 0.006201337091624737, 0.00243143062107265, 0.0020115443039685488, 0.0022241168189793825, 0.0008386243716813624, 0.0023700676392763853, 0.0013176940847188234, 0.0026977406814694405, 0.000946899875998497, 0.002982896054163575, 0.001531544723547995, 0.003172015305608511, 0.0005807807319797575, 0.0019423177000135183, 0.003293026238679886, 0.002536015585064888, 0.003988890442997217, 0.0026793098077178, 0.02856307476758957, 0.04939210042357445, 0.0, 0.0, 0.0], [0.7388058304786682, 0.01803378202021122, 0.016395898535847664, 0.01278184074908495, 0.0051988763734698296, 0.0074231442995369434, 0.01240698155015707, 0.005427941679954529, 0.0035729585215449333, 0.0034025583881884813, 0.002490764716640115, 0.0014325038064271212, 0.002277888124808669, 0.0014162184670567513, 0.0019447524100542068, 0.0009394894586876035, 0.0016821188619360328, 0.0012597395107150078, 0.0019307180773466825, 0.0006771000917069614, 0.0010685449233278632, 0.009481661021709442, 0.0028434402775019407, 0.0043229577131569386, 0.004175654146820307, 0.01966935023665428, 0.034729935228824615, 0.08420736342668533, 0.0, 0.0], [0.791171669960022, 0.009834756143391132, 0.0074553703889250755, 0.01172291673719883, 0.005896611604839563, 0.0062993657775223255, 0.010256258770823479, 0.006976114585995674, 0.0030732587911188602, 0.0028604413382709026, 0.0019077156903222203, 0.001084384392015636, 0.0017468016594648361, 0.0010372312972322106, 0.0018627638928592205, 0.0008679467719048262, 0.001507192151620984, 0.0011356319300830364, 0.0017647776985540986, 0.0004933051532134414, 0.0008815746405161917, 0.008100565522909164, 0.002374354749917984, 0.00362503994256258, 0.003161317203193903, 0.012476778589189053, 0.02288600243628025, 0.03761943057179451, 0.0399203896522522, 0.0], [0.7247347235679626, 0.004186389967799187, 0.002335616620257497, 0.004918255843222141, 0.0049477433785796165, 0.0023849247954785824, 0.005362814292311668, 0.012529734522104263, 0.0031092739664018154, 0.002244333503767848, 0.0029091525357216597, 0.0011913643684238195, 0.00386972539126873, 0.0006453319801948965, 0.0032311095856130123, 0.0013183039845898747, 0.004216016735881567, 0.001199742197059095, 0.0024982059840112925, 0.0008578497800044715, 0.0027286119293421507, 0.003799394005909562, 0.003019713331013918, 0.004884947091341019, 0.0025800615549087524, 0.030970294028520584, 0.01743343099951744, 0.022663678973913193, 0.020739061757922173, 0.10249013453722]], [[1.0, 0.0, 0.0, 0.0, 0.0, 0.0, 0.0, 0.0, 0.0, 0.0, 0.0, 0.0, 0.0, 0.0, 0.0, 0.0, 0.0, 0.0, 0.0, 0.0, 0.0, 0.0, 0.0, 0.0, 0.0, 0.0, 0.0, 0.0, 0.0, 0.0], [0.998836100101471, 0.0011639439035207033, 0.0, 0.0, 0.0, 0.0, 0.0, 0.0, 0.0, 0.0, 0.0, 0.0, 0.0, 0.0, 0.0, 0.0, 0.0, 0.0, 0.0, 0.0, 0.0, 0.0, 0.0, 0.0, 0.0, 0.0, 0.0, 0.0, 0.0, 0.0], [0.9857074618339539, 0.003228183835744858, 0.011064279824495316, 0.0, 0.0, 0.0, 0.0, 0.0, 0.0, 0.0, 0.0, 0.0, 0.0, 0.0, 0.0, 0.0, 0.0, 0.0, 0.0, 0.0, 0.0, 0.0, 0.0, 0.0, 0.0, 0.0, 0.0, 0.0, 0.0, 0.0], [0.992207944393158, 0.0010587769793346524, 0.005357779562473297, 0.001375508727505803, 0.0, 0.0, 0.0, 0.0, 0.0, 0.0, 0.0, 0.0, 0.0, 0.0, 0.0, 0.0, 0.0, 0.0, 0.0, 0.0, 0.0, 0.0, 0.0, 0.0, 0.0, 0.0, 0.0, 0.0, 0.0, 0.0], [0.9884766340255737, 0.0005403977120295167, 0.0017398764612153172, 0.001372888102196157, 0.007870277389883995, 0.0, 0.0, 0.0, 0.0, 0.0, 0.0, 0.0, 0.0, 0.0, 0.0, 0.0, 0.0, 0.0, 0.0, 0.0, 0.0, 0.0, 0.0, 0.0, 0.0, 0.0, 0.0, 0.0, 0.0, 0.0], [0.9687671661376953, 0.0006116959848441184, 0.0028669859748333693, 0.0007642765995115042, 0.005785483866930008, 0.021204467862844467, 0.0, 0.0, 0.0, 0.0, 0.0, 0.0, 0.0, 0.0, 0.0, 0.0, 0.0, 0.0, 0.0, 0.0, 0.0, 0.0, 0.0, 0.0, 0.0, 0.0, 0.0, 0.0, 0.0, 0.0], [0.984786331653595, 0.0011842204257845879, 0.002587590366601944, 0.001310504972934723, 0.001566616934724152, 0.0023704010527580976, 0.006194279529154301, 0.0, 0.0, 0.0, 0.0, 0.0, 0.0, 0.0, 0.0, 0.0, 0.0, 0.0, 0.0, 0.0, 0.0, 0.0, 0.0, 0.0, 0.0, 0.0, 0.0, 0.0, 0.0, 0.0], [0.934380054473877, 0.004096257034689188, 0.010864037089049816, 0.0032703338656574488, 0.014746018685400486, 0.017751198261976242, 0.00995086319744587, 0.004941302817314863, 0.0, 0.0, 0.0, 0.0, 0.0, 0.0, 0.0, 0.0, 0.0, 0.0, 0.0, 0.0, 0.0, 0.0, 0.0, 0.0, 0.0, 0.0, 0.0, 0.0, 0.0, 0.0], [0.8752478957176208, 0.00023896007041912526, 0.006931106559932232, 0.0011978534748777747, 0.0018454568926244974, 0.04511185362935066, 0.03375467658042908, 0.023422127589583397, 0.012250096537172794, 0.0, 0.0, 0.0, 0.0, 0.0, 0.0, 0.0, 0.0, 0.0, 0.0, 0.0, 0.0, 0.0, 0.0, 0.0, 0.0, 0.0, 0.0, 0.0, 0.0, 0.0], [0.7874723076820374, 0.0006491883541457355, 0.010022076778113842, 0.001993374666199088, 0.003758958075195551, 0.006981612183153629, 0.00919443741440773, 0.1437351405620575, 0.0023467992432415485, 0.03384612873196602, 0.0, 0.0, 0.0, 0.0, 0.0, 0.0, 0.0, 0.0, 0.0, 0.0, 0.0, 0.0, 0.0, 0.0, 0.0, 0.0, 0.0, 0.0, 0.0, 0.0], [0.6948769092559814, 0.0013660979457199574, 0.020001599565148354, 0.0018901730654761195, 0.023272240534424782, 0.030063198879361153, 0.0075361765921115875, 0.026810770854353905, 0.12945355474948883, 0.050145991146564484, 0.014583312906324863, 0.0, 0.0, 0.0, 0.0, 0.0, 0.0, 0.0, 0.0, 0.0, 0.0, 0.0, 0.0, 0.0, 0.0, 0.0, 0.0, 0.0, 0.0, 0.0], [0.7588284015655518, 0.0007853221613913774, 0.013488576747477055, 0.0017474661581218243, 0.004283125512301922, 0.010133388452231884, 0.02421371266245842, 0.057183004915714264, 0.002408479806035757, 0.07628614455461502, 0.044478125870227814, 0.00616429653018713, 0.0, 0.0, 0.0, 0.0, 0.0, 0.0, 0.0, 0.0, 0.0, 0.0, 0.0, 0.0, 0.0, 0.0, 0.0, 0.0, 0.0, 0.0], [0.8285654783248901, 0.00044160091783851385, 0.010032185353338718, 0.0010335834231227636, 0.007718848995864391, 0.015839895233511925, 0.012214291840791702, 0.00803517084568739, 0.01216088980436325, 0.021193763241171837, 0.003346824087202549, 0.06797477602958679, 0.011442793533205986, 0.0, 0.0, 0.0, 0.0, 0.0, 0.0, 0.0, 0.0, 0.0, 0.0, 0.0, 0.0, 0.0, 0.0, 0.0, 0.0, 0.0], [0.8677098155021667, 0.0009525678469799459, 0.018103783950209618, 0.000963919679634273, 0.003255510237067938, 0.007465594448149204, 0.00782017968595028, 0.03988496959209442, 0.0009429852361790836, 0.010229932144284248, 0.02122630551457405, 0.0025156154297292233, 0.015315812081098557, 0.0036130051594227552, 0.0, 0.0, 0.0, 0.0, 0.0, 0.0, 0.0, 0.0, 0.0, 0.0, 0.0, 0.0, 0.0, 0.0, 0.0, 0.0], [0.9400620460510254, 0.0004986120038665831, 0.0030089770443737507, 0.0004533601168077439, 0.00385353178717196, 0.003022739663720131, 0.0027342522516846657, 0.004457263741642237, 0.0024300499353557825, 0.002836955012753606, 0.0011722852941602468, 0.010561305098235607, 0.003084002761170268, 0.017774853855371475, 0.004049770999699831, 0.0, 0.0, 0.0, 0.0, 0.0, 0.0, 0.0, 0.0, 0.0, 0.0, 0.0, 0.0, 0.0, 0.0, 0.0], [0.7218027710914612, 0.0010947539703920484, 0.0061568403616547585, 0.0005543685401789844, 0.0028344893362373114, 0.016359180212020874, 0.007945234887301922, 0.10849122703075409, 0.0029867105185985565, 0.029411092400550842, 0.03157198429107666, 0.002866807160899043, 0.03596242517232895, 0.006109247449785471, 0.022314606234431267, 0.003538196673616767, 0.0, 0.0, 0.0, 0.0, 0.0, 0.0, 0.0, 0.0, 0.0, 0.0, 0.0, 0.0, 0.0, 0.0], [0.9288091659545898, 0.0004834739083889872, 0.0015469976933673024, 0.00034437820431776345, 0.0023380653001368046, 0.004329799674451351, 0.0027487718034535646, 0.004632823634892702, 0.0027947439812123775, 0.0027496933471411467, 0.0007194930803962052, 0.005399287212640047, 0.002722823526710272, 0.019082291051745415, 0.0023846421390771866, 0.014116961508989334, 0.00479646073654294, 0.0, 0.0, 0.0, 0.0, 0.0, 0.0, 0.0, 0.0, 0.0, 0.0, 0.0, 0.0, 0.0], [0.8822534680366516, 0.0025165006518363953, 0.003457198617979884, 0.000994756817817688, 0.0007948277634568512, 0.0019306633621454239, 0.00849572941660881, 0.051272086799144745, 0.0003903809410985559, 0.004473832435905933, 0.008083028718829155, 0.000572988938074559, 0.010247313417494297, 0.0019184746779501438, 0.009922602213919163, 0.0011799467029049993, 0.005338641814887524, 0.00615750951692462, 0.0, 0.0, 0.0, 0.0, 0.0, 0.0, 0.0, 0.0, 0.0, 0.0, 0.0, 0.0], [0.9481679797172546, 0.00029544340213760734, 0.0011727415258064866, 0.00026629737112671137, 0.0011867752764374018, 0.0021463751327246428, 0.0017905302811414003, 0.0018816511146724224, 0.0008944288128986955, 0.0011213981779292226, 0.0004786477657034993, 0.002326186280697584, 0.0014491805341094732, 0.004861320834606886, 0.0013822969049215317, 0.005080862902104855, 0.0016808680957183242, 0.02043655700981617, 0.0033804376143962145, 0.0, 0.0, 0.0, 0.0, 0.0, 0.0, 0.0, 0.0, 0.0, 0.0, 0.0], [0.8961871266365051, 0.0016637289663776755, 0.004246293101459742, 0.0007374361739493906, 0.0012872944353148341, 0.002595654921606183, 0.004388467874377966, 0.04732167720794678, 0.000497399945743382, 0.0031404299661517143, 0.008112316951155663, 0.00027220475021749735, 0.008736482821404934, 0.0005843839608132839, 0.004197761416435242, 0.0003030406078323722, 0.003232491435483098, 0.0016516376053914428, 0.009802577085793018, 0.0010416260920464993, 0.0, 0.0, 0.0, 0.0, 0.0, 0.0, 0.0, 0.0, 0.0, 0.0], [0.9472653865814209, 0.00020959554240107536, 0.001063424744643271, 0.0002496059169061482, 0.000385511462809518, 0.0014020524686202407, 0.001123793888837099, 0.001114202430471778, 0.0004897203762084246, 0.0004797818255610764, 0.00026128083118237555, 0.0013560153311118484, 0.0010928482515737414, 0.004846923053264618, 0.0007761421147733927, 0.003662573639303446, 0.0012290432350710034, 0.013743698596954346, 0.0018561966717243195, 0.014958905056118965, 0.002433252986520529, 0.0, 0.0, 0.0, 0.0, 0.0, 0.0, 0.0, 0.0, 0.0], [0.8472805619239807, 0.0008548281621187925, 0.006508227903395891, 0.0009186479146592319, 0.002192429266870022, 0.0022073392756283283, 0.009911912493407726, 0.08150428533554077, 0.0005833058967255056, 0.004918075166642666, 0.0064633749425411224, 0.0010862135095521808, 0.007055528461933136, 0.0030302966479212046, 0.005112148355692625, 0.0011775228194892406, 0.002200579969212413, 0.0029662945307791233, 0.004307078197598457, 0.001936777145601809, 0.0033529195934534073, 0.004431708250194788, 0.0, 0.0, 0.0, 0.0, 0.0, 0.0, 0.0, 0.0], [0.9279575347900391, 0.00021448622283060104, 0.0039383466355502605, 0.0005849273293279111, 0.002039504935964942, 0.0014168072957545519, 0.002041829749941826, 0.001859920215792954, 0.0012314589694142342, 0.0015208794502541423, 0.00042438501259312034, 0.0037419283762574196, 0.0016026771627366543, 0.007804443594068289, 0.001144161680713296, 0.006162093952298164, 0.0009238782804459333, 0.009395220316946507, 0.0008280284819193184, 0.00816041324287653, 0.000870928110089153, 0.01335486676543951, 0.0027812598273158073, 0.0, 0.0, 0.0, 0.0, 0.0, 0.0, 0.0], [0.8924816250801086, 0.0004605802823789418, 0.004609288182109594, 0.0006991629488766193, 0.005027601961046457, 0.00550565542653203, 0.004852347541600466, 0.0033798622898757458, 0.0017567385220900178, 0.0034146583639085293, 0.0005503445281647146, 0.003509015077725053, 0.002441067947074771, 0.009096103720366955, 0.001795295043848455, 0.008079171180725098, 0.001963384449481964, 0.013747642748057842, 0.0017868690192699432, 0.01012343168258667, 0.0017823443049564958, 0.014717144891619682, 0.003014547983184457, 0.0052061486057937145, 0.0, 0.0, 0.0, 0.0, 0.0, 0.0], [0.5809386372566223, 0.0022045166697353125, 0.006008412688970566, 0.0013889679685235023, 0.006362142972648144, 0.0067664687521755695, 0.0158651452511549, 0.33478209376335144, 0.0005096106324344873, 0.003492757212370634, 0.010595787316560745, 0.00046102816122584045, 0.0065821148455142975, 0.0007814225973561406, 0.003441000124439597, 0.0003344927972648293, 0.0022192096803337336, 0.0010785277700051665, 0.0034631150774657726, 0.0004712520749308169, 0.002427922561764717, 0.001768125919625163, 0.004257852677255869, 0.000932338647544384, 0.002867144765332341, 0.0, 0.0, 0.0, 0.0, 0.0], [0.8722752332687378, 0.006610051728785038, 0.014657827094197273, 0.0033679543994367123, 0.01831270009279251, 0.008250718005001545, 0.010330147109925747, 0.03883614018559456, 0.002313783625140786, 0.005483597982674837, 0.0002956335956696421, 0.0008175646071322262, 0.0002868777955882251, 0.0010070467833429575, 0.00013976906484458596, 0.0004604480054695159, 0.000151711399666965, 0.000728691229596734, 0.00012244450044818223, 0.00022894717403687537, 8.637653809273615e-05, 0.0016918494366109371, 0.00014258205192163587, 0.0004696877731475979, 0.001721846405416727, 0.011210440658032894, 0.0, 0.0, 0.0, 0.0], [0.9669550657272339, 0.0015582157066091895, 0.0037152976728975773, 0.0024899360723793507, 0.0025727006141096354, 0.0011735748266801238, 0.00040949718095362186, 0.005289888009428978, 0.0002419817610643804, 0.00031976273749023676, 0.0001575885253259912, 0.00027319943183101714, 8.060863183345646e-05, 0.00037701448309235275, 0.00011141286813654006, 0.00014723926142323762, 4.907187394564971e-05, 0.00022749474737793207, 7.755191472824663e-05, 0.00011238556180614978, 3.998454485554248e-05, 0.0007233409560285509, 6.804402801208198e-05, 0.00015546049689874053, 0.0005414722254499793, 0.001987695461139083, 0.010144450701773167, 0.0, 0.0, 0.0], [0.9636070728302002, 0.0015558534068986773, 0.00366616272367537, 0.0013629458844661713, 0.009396455250680447, 0.0034337141551077366, 0.002270969795063138, 0.0011650314554572105, 0.0003176307072862983, 0.0009286256390623748, 2.221037539129611e-05, 0.0008621792076155543, 2.0851151930401102e-05, 0.0008092922507785261, 1.8311340681975707e-05, 0.0004166958387941122, 1.5475661712116562e-05, 0.0008053636993281543, 1.1896284377144184e-05, 0.0002260688488604501, 6.986898370087147e-06, 0.0020928988233208656, 1.264178536075633e-05, 5.106357639306225e-05, 0.0016646245494484901, 0.00022344529861584306, 0.0028821290470659733, 0.00215348694473505, 0.0, 0.0], [0.9383165240287781, 0.0008714906871318817, 0.004234685562551022, 0.00044126666034571826, 0.019997546449303627, 0.0062996516935527325, 0.009833969175815582, 0.0020379070192575455, 0.0007802859763614833, 0.0016707929316908121, 7.761235610814765e-05, 0.0009952237596735358, 5.5851993238320574e-05, 0.0011494953650981188, 4.237414032104425e-05, 0.00033996294951066375, 3.171171192661859e-05, 0.0010321554727852345, 2.883097477024421e-05, 0.00020246536587364972, 1.2868580597569235e-05, 0.0014181302394717932, 3.13575983454939e-05, 8.141908620018512e-05, 0.0012665159301832318, 0.0006961869657970965, 0.003877081675454974, 0.003040883457288146, 0.0011355991009622812, 0.0], [0.932809054851532, 0.001223660772666335, 0.002004201291128993, 0.0006604171358048916, 0.0033757982309907675, 0.00401774886995554, 0.003085533855482936, 0.014221624471247196, 0.0005875148344784975, 0.0017898610094562173, 0.0002360725775361061, 0.00047363952035084367, 0.0001264649472432211, 0.00045303828665055335, 9.094016422750428e-05, 0.00015960983000695705, 5.5973203416215256e-05, 0.00038644246524199843, 9.776574006536976e-05, 0.00019045350200030953, 5.052216874901205e-05, 0.0010716324904933572, 0.00010347314673708752, 0.0001506497646914795, 0.0008081712294369936, 0.004291966557502747, 0.008366599678993225, 0.005391434300690889, 0.001447102171368897, 0.012272779829800129]], [[1.0, 0.0, 0.0, 0.0, 0.0, 0.0, 0.0, 0.0, 0.0, 0.0, 0.0, 0.0, 0.0, 0.0, 0.0, 0.0, 0.0, 0.0, 0.0, 0.0, 0.0, 0.0, 0.0, 0.0, 0.0, 0.0, 0.0, 0.0, 0.0, 0.0], [0.9934158325195312, 0.006584158167243004, 0.0, 0.0, 0.0, 0.0, 0.0, 0.0, 0.0, 0.0, 0.0, 0.0, 0.0, 0.0, 0.0, 0.0, 0.0, 0.0, 0.0, 0.0, 0.0, 0.0, 0.0, 0.0, 0.0, 0.0, 0.0, 0.0, 0.0, 0.0], [0.9618421196937561, 0.017987234517931938, 0.02017061784863472, 0.0, 0.0, 0.0, 0.0, 0.0, 0.0, 0.0, 0.0, 0.0, 0.0, 0.0, 0.0, 0.0, 0.0, 0.0, 0.0, 0.0, 0.0, 0.0, 0.0, 0.0, 0.0, 0.0, 0.0, 0.0, 0.0, 0.0], [0.9657848477363586, 0.012472107075154781, 0.011605875566601753, 0.01013719942420721, 0.0, 0.0, 0.0, 0.0, 0.0, 0.0, 0.0, 0.0, 0.0, 0.0, 0.0, 0.0, 0.0, 0.0, 0.0, 0.0, 0.0, 0.0, 0.0, 0.0, 0.0, 0.0, 0.0, 0.0, 0.0, 0.0], [0.9648059010505676, 0.009062647819519043, 0.01341699343174696, 0.009628389030694962, 0.0030862055718898773, 0.0, 0.0, 0.0, 0.0, 0.0, 0.0, 0.0, 0.0, 0.0, 0.0, 0.0, 0.0, 0.0, 0.0, 0.0, 0.0, 0.0, 0.0, 0.0, 0.0, 0.0, 0.0, 0.0, 0.0, 0.0], [0.9518565535545349, 0.0085446173325181, 0.019252942875027657, 0.00831056572496891, 0.0037044852506369352, 0.008330895565450191, 0.0, 0.0, 0.0, 0.0, 0.0, 0.0, 0.0, 0.0, 0.0, 0.0, 0.0, 0.0, 0.0, 0.0, 0.0, 0.0, 0.0, 0.0, 0.0, 0.0, 0.0, 0.0, 0.0, 0.0], [0.8510847687721252, 0.03725442290306091, 0.05437011271715164, 0.021976012736558914, 0.015595409087836742, 0.006213816348463297, 0.013505501672625542, 0.0, 0.0, 0.0, 0.0, 0.0, 0.0, 0.0, 0.0, 0.0, 0.0, 0.0, 0.0, 0.0, 0.0, 0.0, 0.0, 0.0, 0.0, 0.0, 0.0, 0.0, 0.0, 0.0], [0.8989986181259155, 0.014014331623911858, 0.006606395356357098, 0.004767751786857843, 0.028266409412026405, 0.01103019155561924, 0.01283288560807705, 0.023483436554670334, 0.0, 0.0, 0.0, 0.0, 0.0, 0.0, 0.0, 0.0, 0.0, 0.0, 0.0, 0.0, 0.0, 0.0, 0.0, 0.0, 0.0, 0.0, 0.0, 0.0, 0.0, 0.0], [0.8451889753341675, 0.011081620119512081, 0.006476093083620071, 0.014061860740184784, 0.04015319049358368, 0.01636645570397377, 0.023268967866897583, 0.026708751916885376, 0.016694102436304092, 0.0, 0.0, 0.0, 0.0, 0.0, 0.0, 0.0, 0.0, 0.0, 0.0, 0.0, 0.0, 0.0, 0.0, 0.0, 0.0, 0.0, 0.0, 0.0, 0.0, 0.0], [0.8946283459663391, 0.0050210910849273205, 0.009106815792620182, 0.007289080880582333, 0.017335843294858932, 0.007660126779228449, 0.0070404307916760445, 0.015787595883011818, 0.017900375649333, 0.018230345100164413, 0.0, 0.0, 0.0, 0.0, 0.0, 0.0, 0.0, 0.0, 0.0, 0.0, 0.0, 0.0, 0.0, 0.0, 0.0, 0.0, 0.0, 0.0, 0.0, 0.0], [0.39969414472579956, 0.014185162261128426, 0.009087858721613884, 0.0033743432722985744, 0.018798818811774254, 0.010018959641456604, 0.009516451507806778, 0.015307295136153698, 0.3772628903388977, 0.1283571720123291, 0.014396960847079754, 0.0, 0.0, 0.0, 0.0, 0.0, 0.0, 0.0, 0.0, 0.0, 0.0, 0.0, 0.0, 0.0, 0.0, 0.0, 0.0, 0.0, 0.0, 0.0], [0.799738883972168, 0.009129289537668228, 0.00831702258437872, 0.0052159070037305355, 0.011008013039827347, 0.004897143691778183, 0.006263725459575653, 0.018447818234562874, 0.0259014330804348, 0.061549555510282516, 0.03825937956571579, 0.011271878145635128, 0.0, 0.0, 0.0, 0.0, 0.0, 0.0, 0.0, 0.0, 0.0, 0.0, 0.0, 0.0, 0.0, 0.0, 0.0, 0.0, 0.0, 0.0], [0.3479430377483368, 0.012091267853975296, 0.009388969279825687, 0.0036788922734558582, 0.009636697359383106, 0.005568170920014381, 0.013664361089468002, 0.016233664005994797, 0.20493128895759583, 0.1727031022310257, 0.013146518729627132, 0.175838902592659, 0.015175077132880688, 0.0, 0.0, 0.0, 0.0, 0.0, 0.0, 0.0, 0.0, 0.0, 0.0, 0.0, 0.0, 0.0, 0.0, 0.0, 0.0, 0.0], [0.700843870639801, 0.015241265296936035, 0.017220405861735344, 0.006147489883005619, 0.010262861847877502, 0.00539441267028451, 0.00830184668302536, 0.021962886676192284, 0.02958896942436695, 0.06566978991031647, 0.044277019798755646, 0.016524581238627434, 0.034349702298641205, 0.024214915931224823, 0.0, 0.0, 0.0, 0.0, 0.0, 0.0, 0.0, 0.0, 0.0, 0.0, 0.0, 0.0, 0.0, 0.0, 0.0, 0.0], [0.2652271091938019, 0.010283426381647587, 0.006271752063184977, 0.002544803312048316, 0.004302449990063906, 0.0021451395004987717, 0.005417049862444401, 0.010126130655407906, 0.05395951122045517, 0.0910785123705864, 0.007169289514422417, 0.11447834223508835, 0.009514207020401955, 0.40657564997673035, 0.010906682349741459, 0.0, 0.0, 0.0, 0.0, 0.0, 0.0, 0.0, 0.0, 0.0, 0.0, 0.0, 0.0, 0.0, 0.0, 0.0], [0.6337882280349731, 0.01965705119073391, 0.013532527722418308, 0.006159969139844179, 0.009928596206009388, 0.004484471864998341, 0.00960690900683403, 0.018704337999224663, 0.018465569242835045, 0.0592915304005146, 0.038890812546014786, 0.01803979091346264, 0.03497238829731941, 0.04989312216639519, 0.03863368555903435, 0.025951022282242775, 0.0, 0.0, 0.0, 0.0, 0.0, 0.0, 0.0, 0.0, 0.0, 0.0, 0.0, 0.0, 0.0, 0.0], [0.18549039959907532, 0.009162100031971931, 0.006002126727253199, 0.0021989624947309494, 0.003827376989647746, 0.0030138790607452393, 0.009150514379143715, 0.009780025109648705, 0.06357762217521667, 0.09068916738033295, 0.006015410181134939, 0.10318449884653091, 0.006266311276704073, 0.31695425510406494, 0.007390089798718691, 0.16850662231445312, 0.008790582418441772, 0.0, 0.0, 0.0, 0.0, 0.0, 0.0, 0.0, 0.0, 0.0, 0.0, 0.0, 0.0, 0.0], [0.6450438499450684, 0.01619429886341095, 0.013522068038582802, 0.007454500999301672, 0.01857498474419117, 0.004547422286123037, 0.009974421933293343, 0.01999780908226967, 0.01502073835581541, 0.041197024285793304, 0.026892272755503654, 0.01836656592786312, 0.02760925702750683, 0.04171871021389961, 0.029501525685191154, 0.02331748977303505, 0.02809526026248932, 0.01297181099653244, 0.0, 0.0, 0.0, 0.0, 0.0, 0.0, 0.0, 0.0, 0.0, 0.0, 0.0, 0.0], [0.24622054398059845, 0.010923084802925587, 0.004955846816301346, 0.0022408021613955498, 0.004604583606123924, 0.0028713701758533716, 0.006742717232555151, 0.0063859038054943085, 0.05436800792813301, 0.0577307865023613, 0.004734076093882322, 0.07059600949287415, 0.005733367521315813, 0.22880743443965912, 0.006773459259420633, 0.10356466472148895, 0.007796304300427437, 0.1653371900320053, 0.009613861329853535, 0.0, 0.0, 0.0, 0.0, 0.0, 0.0, 0.0, 0.0, 0.0, 0.0, 0.0], [0.7868643403053284, 0.014729051850736141, 0.011378676630556583, 0.006487852428108454, 0.002751994878053665, 0.0017181934090331197, 0.003672701306641102, 0.0155403483659029, 0.004547944758087397, 0.014835135079920292, 0.022082487121224403, 0.005478191189467907, 0.01708954945206642, 0.01376023143529892, 0.017843568697571754, 0.010511268861591816, 0.01840260438621044, 0.008974372409284115, 0.018020207062363625, 0.005311166867613792, 0.0, 0.0, 0.0, 0.0, 0.0, 0.0, 0.0, 0.0, 0.0, 0.0], [0.25176185369491577, 0.016558730974793434, 0.0083546694368124, 0.0031589199788868427, 0.002922715852037072, 0.0033929552882909775, 0.01144053041934967, 0.01015640888363123, 0.05484902113676071, 0.05856635421514511, 0.004913450684398413, 0.0584438294172287, 0.0047853668220341206, 0.16520142555236816, 0.00498767476528883, 0.08421596139669418, 0.005795739125460386, 0.11104955524206161, 0.007063830737024546, 0.1229679137468338, 0.009413043968379498, 0.0, 0.0, 0.0, 0.0, 0.0, 0.0, 0.0, 0.0, 0.0], [0.7146434187889099, 0.01590646244585514, 0.012453917413949966, 0.007953009568154812, 0.01913420855998993, 0.003828733926638961, 0.007712964899837971, 0.01415446400642395, 0.0074661183170974255, 0.025508850812911987, 0.02518647350370884, 0.007079036440700293, 0.01928379200398922, 0.012962357141077518, 0.017939506098628044, 0.01132497750222683, 0.017488136887550354, 0.006411978043615818, 0.01702306792140007, 0.006705803796648979, 0.018136795610189438, 0.011695914901793003, 0.0, 0.0, 0.0, 0.0, 0.0, 0.0, 0.0, 0.0], [0.3774457573890686, 0.014001179486513138, 0.007496989797800779, 0.003803092520684004, 0.0038203373551368713, 0.00160738464910537, 0.006082226522266865, 0.011086449027061462, 0.048292580991983414, 0.04108992964029312, 0.003922507632523775, 0.05707181617617607, 0.004816390108317137, 0.10144839435815811, 0.004626650363206863, 0.06191054359078407, 0.005166393239051104, 0.06468452513217926, 0.006540063302963972, 0.08457404375076294, 0.007402167655527592, 0.07517978549003601, 0.007930821739137173, 0.0, 0.0, 0.0, 0.0, 0.0, 0.0, 0.0], [0.26894411444664, 0.01172876451164484, 0.0051595414988696575, 0.0038108695298433304, 0.008740503340959549, 0.003537082113325596, 0.011490119621157646, 0.010086748749017715, 0.05053936317563057, 0.04512036219239235, 0.0034206837881356478, 0.08052894473075867, 0.005936298053711653, 0.09467879682779312, 0.004868481308221817, 0.09031327068805695, 0.005893044173717499, 0.08698590099811554, 0.00668111490085721, 0.10104220360517502, 0.009325393475592136, 0.07660401612520218, 0.007811613380908966, 0.0067527927458286285, 0.0, 0.0, 0.0, 0.0, 0.0, 0.0], [0.6654959321022034, 0.013627229258418083, 0.019095510244369507, 0.004268379416316748, 0.01316083874553442, 0.003941122442483902, 0.008096172474324703, 0.01651698723435402, 0.009295972995460033, 0.02898767963051796, 0.024201732128858566, 0.004245984833687544, 0.031639598309993744, 0.006626794580370188, 0.023643210530281067, 0.004503116477280855, 0.022758422419428825, 0.0022614863701164722, 0.01646493934094906, 0.003040299518033862, 0.01803932711482048, 0.005560450255870819, 0.017532628029584885, 0.028694162145256996, 0.008302087895572186, 0.0, 0.0, 0.0, 0.0, 0.0], [0.7375357747077942, 0.026064425706863403, 0.09975378215312958, 0.01860158145427704, 0.03317775949835777, 0.004962754435837269, 0.0070295087061822414, 0.0072699193842709064, 0.000656493182759732, 0.0014852687017992139, 0.003235893789678812, 0.0004147085710428655, 0.004593856632709503, 0.0002776714682113379, 0.004744106438010931, 0.0001826435182010755, 0.0030141230672597885, 0.00012445221364032477, 0.003109613200649619, 0.0002093734947266057, 0.002217208733782172, 0.0007828858215361834, 0.0038561809342354536, 0.014977115206420422, 0.0005099665140733123, 0.0212129857391119, 0.0, 0.0, 0.0, 0.0], [0.8133625388145447, 0.020359206944704056, 0.04970533400774002, 0.013153834268450737, 0.02216486446559429, 0.0049750916659832, 0.010632195509970188, 0.007649801205843687, 0.00044001397327519953, 0.0023324580397456884, 0.0025126212276518345, 0.00031489026150666177, 0.0029669986106455326, 0.0005017072544433177, 0.0034718394745141268, 0.00023897571372799575, 0.0019464392680674791, 0.00022470488329418004, 0.0025710142217576504, 0.00013592293544206768, 0.00164999277330935, 0.0005618318682536483, 0.0027265960816293955, 0.0054204100742936134, 0.0008683650521561503, 0.01998104341328144, 0.009131294675171375, 0.0, 0.0, 0.0], [0.775302529335022, 0.019720321521162987, 0.028796609491109848, 0.009081072174012661, 0.04691807180643082, 0.005692208185791969, 0.012525813654065132, 0.010666627436876297, 0.0007638836978003383, 0.002683778526261449, 0.0023556966334581375, 0.00037747895112261176, 0.003693477250635624, 0.0005855784402228892, 0.004186645615845919, 0.0002240837347926572, 0.0023720203898847103, 0.00013693863002117723, 0.0030174332205206156, 0.0001511508453404531, 0.0015611144481226802, 0.0007972400635480881, 0.003569380147382617, 0.010442505590617657, 0.0009736233041621745, 0.018944572657346725, 0.012814066372811794, 0.02164609543979168, 0.0, 0.0], [0.8087899684906006, 0.013366852886974812, 0.018939390778541565, 0.0037380396388471127, 0.04489869251847267, 0.014471502974629402, 0.00904097780585289, 0.007418996654450893, 0.0015535765560343862, 0.0021239754278212786, 0.0020151841454207897, 0.0003409361816011369, 0.0025120030622929335, 0.0004302373272366822, 0.002270410070195794, 0.0002002927358262241, 0.001498869271017611, 0.0001281119475606829, 0.001833595335483551, 0.00016039167530834675, 0.0011791836004704237, 0.0008168768836185336, 0.002040162915363908, 0.007078513968735933, 0.0007554026669822633, 0.01376227755099535, 0.005254941992461681, 0.019408803433179855, 0.013971858657896519, 0.0], [0.8075587153434753, 0.01608198881149292, 0.022381428629159927, 0.008561776019632816, 0.01649547554552555, 0.003690938698127866, 0.009658615104854107, 0.005625213496387005, 0.0019033725839108229, 0.005878039635717869, 0.0034973875153809786, 0.002221239497885108, 0.0028287561144679785, 0.001364773721434176, 0.001987939700484276, 0.001227688044309616, 0.0014962286222726107, 0.000913290015887469, 0.0019534870516508818, 0.0009884206810966134, 0.0015386854065582156, 0.0016318804118782282, 0.00159805070143193, 0.0015700197545811534, 0.001776679651811719, 0.023330381140112877, 0.007961554452776909, 0.007826097309589386, 0.0071839382871985435, 0.029267901554703712]], [[1.0, 0.0, 0.0, 0.0, 0.0, 0.0, 0.0, 0.0, 0.0, 0.0, 0.0, 0.0, 0.0, 0.0, 0.0, 0.0, 0.0, 0.0, 0.0, 0.0, 0.0, 0.0, 0.0, 0.0, 0.0, 0.0, 0.0, 0.0, 0.0, 0.0], [0.9902958273887634, 0.009704149328172207, 0.0, 0.0, 0.0, 0.0, 0.0, 0.0, 0.0, 0.0, 0.0, 0.0, 0.0, 0.0, 0.0, 0.0, 0.0, 0.0, 0.0, 0.0, 0.0, 0.0, 0.0, 0.0, 0.0, 0.0, 0.0, 0.0, 0.0, 0.0], [0.9546919465065002, 0.016669973731040955, 0.02863808162510395, 0.0, 0.0, 0.0, 0.0, 0.0, 0.0, 0.0, 0.0, 0.0, 0.0, 0.0, 0.0, 0.0, 0.0, 0.0, 0.0, 0.0, 0.0, 0.0, 0.0, 0.0, 0.0, 0.0, 0.0, 0.0, 0.0, 0.0], [0.8667129874229431, 0.027807844802737236, 0.08633734285831451, 0.01914183795452118, 0.0, 0.0, 0.0, 0.0, 0.0, 0.0, 0.0, 0.0, 0.0, 0.0, 0.0, 0.0, 0.0, 0.0, 0.0, 0.0, 0.0, 0.0, 0.0, 0.0, 0.0, 0.0, 0.0, 0.0, 0.0, 0.0], [0.925917387008667, 0.01854635961353779, 0.029286393895745277, 0.011728101409971714, 0.014521715231239796, 0.0, 0.0, 0.0, 0.0, 0.0, 0.0, 0.0, 0.0, 0.0, 0.0, 0.0, 0.0, 0.0, 0.0, 0.0, 0.0, 0.0, 0.0, 0.0, 0.0, 0.0, 0.0, 0.0, 0.0, 0.0], [0.7757493853569031, 0.02029510959982872, 0.0282267015427351, 0.014239049516618252, 0.023387687280774117, 0.13810203969478607, 0.0, 0.0, 0.0, 0.0, 0.0, 0.0, 0.0, 0.0, 0.0, 0.0, 0.0, 0.0, 0.0, 0.0, 0.0, 0.0, 0.0, 0.0, 0.0, 0.0, 0.0, 0.0, 0.0, 0.0], [0.7659475803375244, 0.010098452679812908, 0.029052896425127983, 0.006688266526907682, 0.004425905179232359, 0.15701083838939667, 0.026776084676384926, 0.0, 0.0, 0.0, 0.0, 0.0, 0.0, 0.0, 0.0, 0.0, 0.0, 0.0, 0.0, 0.0, 0.0, 0.0, 0.0, 0.0, 0.0, 0.0, 0.0, 0.0, 0.0, 0.0], [0.7903584241867065, 0.021835504099726677, 0.020216913893818855, 0.012835942208766937, 0.011542667634785175, 0.08426559716463089, 0.028085963800549507, 0.030859047546982765, 0.0, 0.0, 0.0, 0.0, 0.0, 0.0, 0.0, 0.0, 0.0, 0.0, 0.0, 0.0, 0.0, 0.0, 0.0, 0.0, 0.0, 0.0, 0.0, 0.0, 0.0, 0.0], [0.7674755454063416, 0.01901928149163723, 0.03764780983328819, 0.012974929064512253, 0.008568084798753262, 0.03597345948219299, 0.027686815708875656, 0.05140557140111923, 0.03924855217337608, 0.0, 0.0, 0.0, 0.0, 0.0, 0.0, 0.0, 0.0, 0.0, 0.0, 0.0, 0.0, 0.0, 0.0, 0.0, 0.0, 0.0, 0.0, 0.0, 0.0, 0.0], [0.7435693144798279, 0.006293599959462881, 0.018601877614855766, 0.0186628270894289, 0.0077387504279613495, 0.03572254255414009, 0.02140890434384346, 0.0852966234087944, 0.017506849020719528, 0.04519873484969139, 0.0, 0.0, 0.0, 0.0, 0.0, 0.0, 0.0, 0.0, 0.0, 0.0, 0.0, 0.0, 0.0, 0.0, 0.0, 0.0, 0.0, 0.0, 0.0, 0.0], [0.31614604592323303, 0.011517897248268127, 0.054730117321014404, 0.017322272062301636, 0.026632526889443398, 0.10167698562145233, 0.08561921119689941, 0.07547098398208618, 0.08203909546136856, 0.188224196434021, 0.04062064737081528, 0.0, 0.0, 0.0, 0.0, 0.0, 0.0, 0.0, 0.0, 0.0, 0.0, 0.0, 0.0, 0.0, 0.0, 0.0, 0.0, 0.0, 0.0, 0.0], [0.5925638675689697, 0.003487157868221402, 0.071610227227211, 0.01103419903665781, 0.0021549584344029427, 0.05016287416219711, 0.023981334641575813, 0.12032012641429901, 0.01712806522846222, 0.05342511460185051, 0.0056150429882109165, 0.04851696267724037, 0.0, 0.0, 0.0, 0.0, 0.0, 0.0, 0.0, 0.0, 0.0, 0.0, 0.0, 0.0, 0.0, 0.0, 0.0, 0.0, 0.0, 0.0], [0.2559760510921478, 0.00967295654118061, 0.0328306145966053, 0.006376826670020819, 0.006577595602720976, 0.14493674039840698, 0.07906711846590042, 0.1863534152507782, 0.03176681697368622, 0.10663639008998871, 0.019006231799721718, 0.08593940734863281, 0.0348597876727581, 0.0, 0.0, 0.0, 0.0, 0.0, 0.0, 0.0, 0.0, 0.0, 0.0, 0.0, 0.0, 0.0, 0.0, 0.0, 0.0, 0.0], [0.7439921498298645, 0.0031493594869971275, 0.028196068480610847, 0.004175873938947916, 0.0019839059095829725, 0.036575742065906525, 0.017015960067510605, 0.07189251482486725, 0.0081233074888587, 0.01775163598358631, 0.0032692940440028906, 0.046382296830415726, 0.0034082813654094934, 0.014083695597946644, 0.0, 0.0, 0.0, 0.0, 0.0, 0.0, 0.0, 0.0, 0.0, 0.0, 0.0, 0.0, 0.0, 0.0, 0.0, 0.0], [0.4381794035434723, 0.02039448358118534, 0.021809890866279602, 0.007809294853359461, 0.012459917925298214, 0.14361786842346191, 0.057280104607343674, 0.0737353041768074, 0.014350149780511856, 0.06682586669921875, 0.01620110683143139, 0.046802349388599396, 0.027563389390707016, 0.027105627581477165, 0.02586531639099121, 0.0, 0.0, 0.0, 0.0, 0.0, 0.0, 0.0, 0.0, 0.0, 0.0, 0.0, 0.0, 0.0, 0.0, 0.0], [0.6995275020599365, 0.0027863625437021255, 0.015461180359125137, 0.0081690214574337, 0.0024396460503339767, 0.061433326452970505, 0.01894245855510235, 0.056250255554914474, 0.007747975643724203, 0.028207087889313698, 0.004755600355565548, 0.045871395617723465, 0.005807638633996248, 0.01368663553148508, 0.005037469323724508, 0.023876406252384186, 0.0, 0.0, 0.0, 0.0, 0.0, 0.0, 0.0, 0.0, 0.0, 0.0, 0.0, 0.0, 0.0, 0.0], [0.376294881105423, 0.017006147652864456, 0.015449469909071922, 0.008096897043287754, 0.008523304015398026, 0.13802289962768555, 0.06304886192083359, 0.07664362341165543, 0.014582927338778973, 0.06796278059482574, 0.013396529480814934, 0.04427381977438927, 0.02859204076230526, 0.022829031571745872, 0.02340579219162464, 0.0629977136850357, 0.018873240798711777, 0.0, 0.0, 0.0, 0.0, 0.0, 0.0, 0.0, 0.0, 0.0, 0.0, 0.0, 0.0, 0.0], [0.7162973284721375, 0.0016922769136726856, 0.010195678099989891, 0.002357070567086339, 0.0010252107167616487, 0.05865362286567688, 0.014972992241382599, 0.06696174293756485, 0.006797682493925095, 0.008269493468105793, 0.00159418024122715, 0.020459337159991264, 0.0025313133373856544, 0.006674995180219412, 0.0022068105172365904, 0.026193512603640556, 0.0023495813366025686, 0.050767138600349426, 0.0, 0.0, 0.0, 0.0, 0.0, 0.0, 0.0, 0.0, 0.0, 0.0, 0.0, 0.0], [0.3351093828678131, 0.014018889516592026, 0.011940217576920986, 0.004132040310651064, 0.005236146505922079, 0.14244437217712402, 0.03945338726043701, 0.08258285373449326, 0.01954815350472927, 0.038997750729322433, 0.010329264216125011, 0.02259836345911026, 0.016247602179646492, 0.013143731281161308, 0.01564144156873226, 0.046759311109781265, 0.011205783113837242, 0.15360932052135468, 0.017002010717988014, 0.0, 0.0, 0.0, 0.0, 0.0, 0.0, 0.0, 0.0, 0.0, 0.0, 0.0], [0.7773110270500183, 0.001854238915257156, 0.012217278592288494, 0.0009258264326490462, 0.0005587466293945909, 0.03417481109499931, 0.00882205180823803, 0.0348157063126564, 0.004394714720547199, 0.00663415715098381, 0.0007552800816483796, 0.015664124861359596, 0.0010886514792218804, 0.005791367031633854, 0.0013208636082708836, 0.01580866612493992, 0.0009657111950218678, 0.045178722590208054, 0.002951761009171605, 0.028766324743628502, 0.0, 0.0, 0.0, 0.0, 0.0, 0.0, 0.0, 0.0, 0.0, 0.0], [0.3319025933742523, 0.014768642373383045, 0.012484370730817318, 0.0026880919467657804, 0.003677926491945982, 0.12217450141906738, 0.040260255336761475, 0.07363836467266083, 0.01884649135172367, 0.03477303311228752, 0.007551856804639101, 0.021348822861909866, 0.014925259165465832, 0.012891752645373344, 0.013773421756923199, 0.0529375858604908, 0.010230746120214462, 0.14934349060058594, 0.017235135659575462, 0.036615993827581406, 0.007931663654744625, 0.0, 0.0, 0.0, 0.0, 0.0, 0.0, 0.0, 0.0, 0.0], [0.6046711802482605, 0.0013492087600752711, 0.01091727428138256, 0.001200034050270915, 0.0007897292380221188, 0.02821408025920391, 0.004449114669114351, 0.053117793053388596, 0.005184371955692768, 0.006603933870792389, 0.0009650547872297466, 0.02914307825267315, 0.0011922918492928147, 0.005226702895015478, 0.0008970567723736167, 0.012683253735303879, 0.0008894720813259482, 0.01875881478190422, 0.0015601537888869643, 0.02246415987610817, 0.0012628685217350721, 0.1884603351354599, 0.0, 0.0, 0.0, 0.0, 0.0, 0.0, 0.0, 0.0], [0.06856261938810349, 0.0028920855838805437, 0.0035663361195474863, 0.00048228231025859714, 0.000914070988073945, 0.019973183050751686, 0.008376823738217354, 0.021871421486139297, 0.003468265989795327, 0.011862385086715221, 0.002294811885803938, 0.008470573462545872, 0.003895107191056013, 0.005372610874474049, 0.0030710184946656227, 0.011297053657472134, 0.002216595457866788, 0.02678544633090496, 0.003146315924823284, 0.009072300978004932, 0.0014570800121873617, 0.7747243642807007, 0.006227320525795221, 0.0, 0.0, 0.0, 0.0, 0.0, 0.0, 0.0], [0.11192484945058823, 0.0030824150890111923, 0.0039672693237662315, 0.001467088470235467, 0.0016980668297037482, 0.04034223407506943, 0.011891511268913746, 0.019813643768429756, 0.0048560225404798985, 0.011880872771143913, 0.003237323835492134, 0.009114126674830914, 0.006094922311604023, 0.005023410078138113, 0.004104831255972385, 0.01409944798797369, 0.003614232875406742, 0.02628590539097786, 0.004234950989484787, 0.013726446777582169, 0.0027493422385305166, 0.6615332365036011, 0.008219554089009762, 0.0270382072776556, 0.0, 0.0, 0.0, 0.0, 0.0, 0.0], [0.5322951078414917, 0.002935827476903796, 0.011166522279381752, 0.0033472771756350994, 0.0015502551104873419, 0.029303861781954765, 0.005571710877120495, 0.03323385491967201, 0.004569599404931068, 0.007519707549363375, 0.0011301732156425714, 0.022519826889038086, 0.0015022449661046267, 0.004990613553673029, 0.0011977575486525893, 0.011517222970724106, 0.0010824785567820072, 0.013465717434883118, 0.0017873522592708468, 0.022702574729919434, 0.0012716171331703663, 0.23057585954666138, 0.0017282235203310847, 0.008332544006407261, 0.044702064245939255, 0.0, 0.0, 0.0, 0.0, 0.0], [0.3252316117286682, 0.001893149921670556, 0.016432547941803932, 0.009871870279312134, 0.0036263633519411087, 0.039808496832847595, 0.009675397537648678, 0.03987002745270729, 0.005357025656849146, 0.01958310417830944, 0.00608682818710804, 0.04056951776146889, 0.01040121540427208, 0.00959367398172617, 0.00701698986813426, 0.01210871059447527, 0.004498991183936596, 0.031469766050577164, 0.006307500414550304, 0.03199533000588417, 0.004923148080706596, 0.24188785254955292, 0.005098068155348301, 0.019782161340117455, 0.07775328308343887, 0.019157344475388527, 0.0, 0.0, 0.0, 0.0], [0.3983299136161804, 0.005764823406934738, 0.010896127671003342, 0.01675819605588913, 0.004488600417971611, 0.033452391624450684, 0.012028027325868607, 0.01818767562508583, 0.00558179197832942, 0.02190469764173031, 0.007155616767704487, 0.01831575110554695, 0.010467857122421265, 0.0077155232429504395, 0.005619562231004238, 0.01235957071185112, 0.0041544330306351185, 0.021673040464520454, 0.004534845240414143, 0.030469106510281563, 0.004283691756427288, 0.2097296416759491, 0.00545142125338316, 0.014864351600408554, 0.04892105981707573, 0.024177199229598045, 0.042715106159448624, 0.0, 0.0, 0.0], [0.026366380974650383, 0.0013427528319880366, 0.0030302084051072598, 0.0011539655970409513, 0.0012929948279634118, 0.023908453062176704, 0.00338533241301775, 0.004799348767846823, 0.008087764494121075, 0.01821509189903736, 0.003916350193321705, 0.01911592297255993, 0.008274830877780914, 0.0048113027587533, 0.002493815263733268, 0.006940903607755899, 0.001921294373460114, 0.02044832892715931, 0.0019306517206132412, 0.013477749191224575, 0.0015636729076504707, 0.6974855065345764, 0.0026141454000025988, 0.00862949900329113, 0.0808267742395401, 0.009083895944058895, 0.01899673417210579, 0.005886339116841555, 0.0, 0.0], [0.06750023365020752, 0.002436205744743347, 0.004358725622296333, 0.0025672081392258406, 0.002736731432378292, 0.04074154421687126, 0.005469874944537878, 0.015202563256025314, 0.013663080520927906, 0.020882200449705124, 0.008400053717195988, 0.020936764776706696, 0.008896139450371265, 0.004551876336336136, 0.003359841648489237, 0.006964529864490032, 0.002660364145413041, 0.01616244576871395, 0.002310650423169136, 0.013657918199896812, 0.002004696521908045, 0.5953585505485535, 0.003543172962963581, 0.012370895594358444, 0.0607115663588047, 0.012642517685890198, 0.026536639779806137, 0.0076696318574249744, 0.015703359618782997, 0.0], [0.5317807197570801, 0.0018430271884426475, 0.002757095266133547, 0.0016316145192831755, 0.0020011435262858868, 0.01648583821952343, 0.002018573461100459, 0.019490787759423256, 0.003565252525731921, 0.004763368051499128, 0.003320272546261549, 0.022609351202845573, 0.0015579386381432414, 0.0020334625151008368, 0.0007463368237949908, 0.0036032625939697027, 0.0005919226096011698, 0.0037279240787029266, 0.0006523141637444496, 0.006285148672759533, 0.0005145018803887069, 0.10455673187971115, 0.0012169184628874063, 0.005468172486871481, 0.01128937117755413, 0.012005862779915333, 0.009095421060919762, 0.0023178751580417156, 0.0025629051961004734, 0.21950693428516388]], [[1.0, 0.0, 0.0, 0.0, 0.0, 0.0, 0.0, 0.0, 0.0, 0.0, 0.0, 0.0, 0.0, 0.0, 0.0, 0.0, 0.0, 0.0, 0.0, 0.0, 0.0, 0.0, 0.0, 0.0, 0.0, 0.0, 0.0, 0.0, 0.0, 0.0], [0.9967623949050903, 0.0032376328017562628, 0.0, 0.0, 0.0, 0.0, 0.0, 0.0, 0.0, 0.0, 0.0, 0.0, 0.0, 0.0, 0.0, 0.0, 0.0, 0.0, 0.0, 0.0, 0.0, 0.0, 0.0, 0.0, 0.0, 0.0, 0.0, 0.0, 0.0, 0.0], [0.9761909246444702, 0.007887188345193863, 0.015921857208013535, 0.0, 0.0, 0.0, 0.0, 0.0, 0.0, 0.0, 0.0, 0.0, 0.0, 0.0, 0.0, 0.0, 0.0, 0.0, 0.0, 0.0, 0.0, 0.0, 0.0, 0.0, 0.0, 0.0, 0.0, 0.0, 0.0, 0.0], [0.9904029369354248, 0.0027576135471463203, 0.005464800633490086, 0.0013746822951361537, 0.0, 0.0, 0.0, 0.0, 0.0, 0.0, 0.0, 0.0, 0.0, 0.0, 0.0, 0.0, 0.0, 0.0, 0.0, 0.0, 0.0, 0.0, 0.0, 0.0, 0.0, 0.0, 0.0, 0.0, 0.0, 0.0], [0.992665708065033, 0.0003341086267028004, 0.0008664684719406068, 0.00034324373700655997, 0.0057905432768166065, 0.0, 0.0, 0.0, 0.0, 0.0, 0.0, 0.0, 0.0, 0.0, 0.0, 0.0, 0.0, 0.0, 0.0, 0.0, 0.0, 0.0, 0.0, 0.0, 0.0, 0.0, 0.0, 0.0, 0.0, 0.0], [0.9752251505851746, 0.0013606874272227287, 0.0047104754485189915, 0.0007958390051499009, 0.004956492688506842, 0.012951449491083622, 0.0, 0.0, 0.0, 0.0, 0.0, 0.0, 0.0, 0.0, 0.0, 0.0, 0.0, 0.0, 0.0, 0.0, 0.0, 0.0, 0.0, 0.0, 0.0, 0.0, 0.0, 0.0, 0.0, 0.0], [0.9956613183021545, 0.0010811423417180777, 0.0005422511021606624, 0.0004783396434504539, 0.00047000835184007883, 0.0008893426274880767, 0.0008775261812843382, 0.0, 0.0, 0.0, 0.0, 0.0, 0.0, 0.0, 0.0, 0.0, 0.0, 0.0, 0.0, 0.0, 0.0, 0.0, 0.0, 0.0, 0.0, 0.0, 0.0, 0.0, 0.0, 0.0], [0.8108554482460022, 0.008475067093968391, 0.020662549883127213, 0.006336509250104427, 0.09907577931880951, 0.03720134496688843, 0.011989216320216656, 0.005404002033174038, 0.0, 0.0, 0.0, 0.0, 0.0, 0.0, 0.0, 0.0, 0.0, 0.0, 0.0, 0.0, 0.0, 0.0, 0.0, 0.0, 0.0, 0.0, 0.0, 0.0, 0.0, 0.0], [0.8493716716766357, 0.0007396776345558465, 0.005156875122338533, 0.001211686059832573, 0.017201071605086327, 0.04195862263441086, 0.032253507524728775, 0.009040997363626957, 0.04306594654917717, 0.0, 0.0, 0.0, 0.0, 0.0, 0.0, 0.0, 0.0, 0.0, 0.0, 0.0, 0.0, 0.0, 0.0, 0.0, 0.0, 0.0, 0.0, 0.0, 0.0, 0.0], [0.9082659482955933, 0.0026630449574440718, 0.005120377987623215, 0.0026579578407108784, 0.010158189572393894, 0.007436239626258612, 0.011446423828601837, 0.024211127310991287, 0.002730037784203887, 0.02531062625348568, 0.0, 0.0, 0.0, 0.0, 0.0, 0.0, 0.0, 0.0, 0.0, 0.0, 0.0, 0.0, 0.0, 0.0, 0.0, 0.0, 0.0, 0.0, 0.0, 0.0], [0.8106275200843811, 0.004306175280362368, 0.01625036634504795, 0.0017956697847694159, 0.06511979550123215, 0.013545065186917782, 0.0036116952542215586, 0.007999877445399761, 0.05833364278078079, 0.016636639833450317, 0.0017735330620780587, 0.0, 0.0, 0.0, 0.0, 0.0, 0.0, 0.0, 0.0, 0.0, 0.0, 0.0, 0.0, 0.0, 0.0, 0.0, 0.0, 0.0, 0.0, 0.0], [0.904060959815979, 0.0018136688740924, 0.007714924868196249, 0.0017673217225819826, 0.0032347470987588167, 0.0037368645425885916, 0.003972439561039209, 0.017210548743605614, 0.003984787967056036, 0.02083086036145687, 0.01307920552790165, 0.018593650311231613, 0.0, 0.0, 0.0, 0.0, 0.0, 0.0, 0.0, 0.0, 0.0, 0.0, 0.0, 0.0, 0.0, 0.0, 0.0, 0.0, 0.0, 0.0], [0.870886504650116, 0.0012983845081180334, 0.011270172894001007, 0.001460784231312573, 0.009479645639657974, 0.0029959913808852434, 0.006746103521436453, 0.0008873604238033295, 0.003933078143745661, 0.005165596958249807, 0.00037887238431721926, 0.08435961604118347, 0.0011379420757293701, 0.0, 0.0, 0.0, 0.0, 0.0, 0.0, 0.0, 0.0, 0.0, 0.0, 0.0, 0.0, 0.0, 0.0, 0.0, 0.0, 0.0], [0.9179197549819946, 0.0013508633710443974, 0.008974868804216385, 0.001295745838433504, 0.0016376880230382085, 0.003644450567662716, 0.004601073917001486, 0.021244434639811516, 0.0007379737216979265, 0.009150197729468346, 0.003973072394728661, 0.009860184974968433, 0.007753813173621893, 0.007855936884880066, 0.0, 0.0, 0.0, 0.0, 0.0, 0.0, 0.0, 0.0, 0.0, 0.0, 0.0, 0.0, 0.0, 0.0, 0.0, 0.0], [0.953548014163971, 0.0012024038005620241, 0.004476774018257856, 0.0006063478067517281, 0.0047172368504107, 0.0006848294869996607, 0.002109633293002844, 0.00027308703283779323, 0.0003681108355522156, 0.0006542938644997776, 7.104090764187276e-05, 0.011784003116190434, 0.00014612849918194115, 0.01903732307255268, 0.00032082313555292785, 0.0, 0.0, 0.0, 0.0, 0.0, 0.0, 0.0, 0.0, 0.0, 0.0, 0.0, 0.0, 0.0, 0.0, 0.0], [0.953315019607544, 0.0009221913060173392, 0.0015905069885775447, 0.0005462979315780103, 0.0018858948023989797, 0.0025709171313792467, 0.0011131790233775973, 0.009119235910475254, 0.0014856398338451982, 0.007243338041007519, 0.002444999758154154, 0.0030419982504099607, 0.004797380417585373, 0.002673344686627388, 0.0037394992541521788, 0.0035104562994092703, 0.0, 0.0, 0.0, 0.0, 0.0, 0.0, 0.0, 0.0, 0.0, 0.0, 0.0, 0.0, 0.0, 0.0], [0.9560982584953308, 0.0009567576344124973, 0.00304598780348897, 0.00040794082451611757, 0.004687770735472441, 0.0007782680331729352, 0.0020656664855778217, 0.00021010672207921743, 0.0003291039611212909, 0.0005879442323930562, 4.108124630874954e-05, 0.006050983909517527, 0.0001116901112254709, 0.012856666930019855, 0.0001368802913930267, 0.011383850127458572, 0.00025124166859313846, 0.0, 0.0, 0.0, 0.0, 0.0, 0.0, 0.0, 0.0, 0.0, 0.0, 0.0, 0.0, 0.0], [0.9671400189399719, 0.0009548082016408443, 0.0028793830424547195, 0.00047380439355038106, 0.0007708502234891057, 0.0006744642741978168, 0.0015004369197413325, 0.012076850980520248, 0.00031755451345816255, 0.0009328400483354926, 0.0004186114529147744, 0.0018500079168006778, 0.0013198262313380837, 0.001959466375410557, 0.0011680646566674113, 0.001533278962597251, 0.0007767272181808949, 0.0032530466560274363, 0.0, 0.0, 0.0, 0.0, 0.0, 0.0, 0.0, 0.0, 0.0, 0.0, 0.0, 0.0], [0.963346540927887, 0.0009519456070847809, 0.003532229922711849, 0.000444080273155123, 0.004498101305216551, 0.0004044222005177289, 0.0014487785520032048, 0.000209553909371607, 0.00033716237521730363, 0.00039235304575413465, 3.832961374428123e-05, 0.004065926652401686, 9.590024274075404e-05, 0.00526514882221818, 0.0001235427480423823, 0.003838525852188468, 0.00010619806562317535, 0.010576851665973663, 0.0003242927195969969, 0.0, 0.0, 0.0, 0.0, 0.0, 0.0, 0.0, 0.0, 0.0, 0.0, 0.0], [0.9691322445869446, 0.001058908412232995, 0.002829913282766938, 0.0008098402759060264, 0.001275208662264049, 0.0007219176623038948, 0.00034282487467862666, 0.006404607556760311, 0.0005211606039665639, 0.0009665021789260209, 0.0009314313065260649, 0.0009317200747318566, 0.0019597134087234735, 0.0005085340235382318, 0.0018829923355951905, 0.000578970939386636, 0.0014699827879667282, 0.0010429465910419822, 0.002607079455628991, 0.004023461136966944, 0.0, 0.0, 0.0, 0.0, 0.0, 0.0, 0.0, 0.0, 0.0, 0.0], [0.9622859954833984, 0.0005176847917027771, 0.0022500986233353615, 0.0003939138550776988, 0.001034724060446024, 0.00022244777937885374, 0.0005586426123045385, 7.710359204793349e-05, 0.0001083587558241561, 0.00011297460878267884, 2.242374830530025e-05, 0.0019959823694080114, 5.054382563685067e-05, 0.002529463032260537, 7.943194214021787e-05, 0.002700681099668145, 8.737014286452904e-05, 0.006069975905120373, 0.00011261167674092576, 0.01853698119521141, 0.00025247223675251007, 0.0, 0.0, 0.0, 0.0, 0.0, 0.0, 0.0, 0.0, 0.0], [0.9593329429626465, 0.0008018451044335961, 0.0031037896405905485, 0.0007634058129042387, 0.0021693375892937183, 0.0005214489647187293, 0.00223526987247169, 0.00550038693472743, 0.000324390537571162, 0.0012354631908237934, 0.0011481454130262136, 0.001248555607162416, 0.0015036029508337379, 0.0038726080674678087, 0.0010762750171124935, 0.001633252715691924, 0.00036756054032593966, 0.002008202485740185, 0.0010914752492681146, 0.0031852396205067635, 0.0011547114700078964, 0.0057220119051635265, 0.0, 0.0, 0.0, 0.0, 0.0, 0.0, 0.0, 0.0], [0.9550815224647522, 0.0005733202560804784, 0.004433834925293922, 0.000698824122082442, 0.0016732366057112813, 0.00020882851094938815, 0.0006905318005010486, 0.00015257849008776248, 0.00021197754540480673, 0.0003263692487962544, 4.372005787445232e-05, 0.003576024668291211, 0.00011770882701966912, 0.006511574145406485, 0.00014620056026615202, 0.0041178008541464806, 7.947468111524358e-05, 0.004150748252868652, 0.00010774469410534948, 0.008494722656905651, 0.00017406375263817608, 0.008026753552258015, 0.0004024167428724468, 0.0, 0.0, 0.0, 0.0, 0.0, 0.0, 0.0], [0.9275972843170166, 0.0010242400458082557, 0.004563414491713047, 0.001090268837288022, 0.007281807716935873, 0.001067005330696702, 0.0013902040664106607, 0.0001849512045737356, 0.000304685061564669, 0.0009126898949034512, 6.244548421818763e-05, 0.003654047381132841, 0.0001652740902500227, 0.00767306936904788, 0.00017367386317346245, 0.007983658462762833, 0.0001760770392138511, 0.007677480578422546, 0.0001576292561367154, 0.01236273255199194, 0.0002591694355942309, 0.01240429189056158, 0.0002914392971433699, 0.001542562386021018, 0.0, 0.0, 0.0, 0.0, 0.0, 0.0], [0.9328645467758179, 0.0020924038253724575, 0.004531022161245346, 0.0013333476381376386, 0.0032389522530138493, 0.0021250350400805473, 0.005883923266083002, 0.018124200403690338, 0.0004160701937507838, 0.0014205633196979761, 0.0013308735797181726, 0.0012342804111540318, 0.00233610812574625, 0.002790119033306837, 0.0011429416481405497, 0.0011393926106393337, 0.001028163474984467, 0.0008852763567119837, 0.0013153182808309793, 0.0017936569638550282, 0.001332626212388277, 0.0032016844488680363, 0.0011747993994504213, 0.0016613248735666275, 0.005603285972028971, 0.0, 0.0, 0.0, 0.0, 0.0], [0.9451566934585571, 0.003264012048020959, 0.005273777525871992, 0.0011421076487749815, 0.007339329458773136, 0.0020272464025765657, 0.0032777138985693455, 0.021035443991422653, 0.0008739586337469518, 0.0010054258164018393, 0.0004445196536835283, 0.0012243670644238591, 0.0002597499405965209, 0.00143977883271873, 0.00014175361138768494, 0.0005555411917157471, 9.652339940657839e-05, 0.00034914130810648203, 7.179511885624379e-05, 0.0002844392729457468, 5.587267514783889e-05, 0.0013609196757897735, 5.6351989769609645e-05, 0.00023356133897323161, 0.0008383619715459645, 0.002191702136769891, 0.0, 0.0, 0.0, 0.0], [0.98415607213974, 0.001067203120328486, 0.0008375240140594542, 0.0010228207102045417, 0.001451572054065764, 0.0006027959170751274, 0.00030816870275884867, 0.0045292917639017105, 0.0003533265844453126, 0.00020234861585777253, 0.00032835843740031123, 0.0003177103353664279, 0.0001359519228572026, 0.000607538502663374, 0.0002532915968913585, 0.00020465887791942805, 6.879275315441191e-05, 0.00010499060590518638, 8.461507241008803e-05, 8.144099410856143e-05, 4.2228431993862614e-05, 0.0005109506892040372, 5.117350519867614e-05, 9.828747715801e-05, 0.0003031283849850297, 0.0006920603336766362, 0.001583916717208922, 0.0, 0.0, 0.0], [0.950455367565155, 0.0022155565675348043, 0.000532749982085079, 0.0015676000621169806, 0.033589914441108704, 0.0011983978329226375, 0.0006822195136919618, 0.0007388981757685542, 0.0007269626948982477, 0.0002461987896822393, 6.633969314862043e-05, 0.0008931260672397912, 2.214449705206789e-05, 0.0013060008641332388, 1.7404900063411333e-05, 0.0003278259246144444, 1.0327268682885915e-05, 0.0002770175924524665, 9.358702300232835e-06, 0.00018689452554099262, 5.278033768263413e-06, 0.0013639647513628006, 1.1178222848684527e-05, 4.7711379011161625e-05, 0.0008208515355363488, 0.000229890996706672, 0.0011243409244343638, 0.0013263814616948366, 0.0, 0.0], [0.919687032699585, 0.0014944779686629772, 0.000561381399165839, 0.00039153904072009027, 0.06758663803339005, 0.0013753419043496251, 0.0018206380773335695, 0.00042482520802877843, 0.0006650871364399791, 0.0002728177059907466, 7.868036482250318e-05, 0.0005512869684025645, 2.5658579033915885e-05, 0.0008335819002240896, 1.9740075003937818e-05, 0.00015262336819432676, 1.0244101758871693e-05, 0.00020950142061337829, 9.324319762527011e-06, 9.215956379193813e-05, 5.5676146075711586e-06, 0.0006326991715468466, 1.2012005754513666e-05, 3.7420981243485585e-05, 0.0004424823564477265, 0.00020481643150560558, 0.0006451526423916221, 0.0006827966426499188, 0.0010745418258011341, 0.0], [0.9629022479057312, 0.002187097445130348, 0.001201102277263999, 0.00044014319428242743, 0.008399195037782192, 0.0009710880112834275, 0.0008139082929119468, 0.003563893726095557, 0.0007711626240052283, 0.0006780301919206977, 0.0002469370374456048, 0.0010236852103844285, 0.00015442774747498333, 0.0015836763195693493, 0.00020247676002327353, 0.00048342623631469905, 7.683927105972543e-05, 0.0008395835757255554, 0.00015431424253620207, 0.0005235575372353196, 5.8574991271598265e-05, 0.002670999150723219, 0.00015205923409666866, 0.00035401893546804786, 0.0017400282667949796, 0.0007075371104292572, 0.0010575134074315429, 0.0012827105820178986, 0.0004480339412111789, 0.004311828874051571]], [[1.0, 0.0, 0.0, 0.0, 0.0, 0.0, 0.0, 0.0, 0.0, 0.0, 0.0, 0.0, 0.0, 0.0, 0.0, 0.0, 0.0, 0.0, 0.0, 0.0, 0.0, 0.0, 0.0, 0.0, 0.0, 0.0, 0.0, 0.0, 0.0, 0.0], [0.972687304019928, 0.027312684804201126, 0.0, 0.0, 0.0, 0.0, 0.0, 0.0, 0.0, 0.0, 0.0, 0.0, 0.0, 0.0, 0.0, 0.0, 0.0, 0.0, 0.0, 0.0, 0.0, 0.0, 0.0, 0.0, 0.0, 0.0, 0.0, 0.0, 0.0, 0.0], [0.8499704003334045, 0.03381243720650673, 0.11621715128421783, 0.0, 0.0, 0.0, 0.0, 0.0, 0.0, 0.0, 0.0, 0.0, 0.0, 0.0, 0.0, 0.0, 0.0, 0.0, 0.0, 0.0, 0.0, 0.0, 0.0, 0.0, 0.0, 0.0, 0.0, 0.0, 0.0, 0.0], [0.6186695694923401, 0.03721126541495323, 0.2775673568248749, 0.06655184924602509, 0.0, 0.0, 0.0, 0.0, 0.0, 0.0, 0.0, 0.0, 0.0, 0.0, 0.0, 0.0, 0.0, 0.0, 0.0, 0.0, 0.0, 0.0, 0.0, 0.0, 0.0, 0.0, 0.0, 0.0, 0.0, 0.0], [0.5426873564720154, 0.010178194381296635, 0.21278680860996246, 0.21169130504131317, 0.02265637367963791, 0.0, 0.0, 0.0, 0.0, 0.0, 0.0, 0.0, 0.0, 0.0, 0.0, 0.0, 0.0, 0.0, 0.0, 0.0, 0.0, 0.0, 0.0, 0.0, 0.0, 0.0, 0.0, 0.0, 0.0, 0.0], [0.33510395884513855, 0.006075324956327677, 0.19939294457435608, 0.3910529315471649, 0.04555569216609001, 0.02281912975013256, 0.0, 0.0, 0.0, 0.0, 0.0, 0.0, 0.0, 0.0, 0.0, 0.0, 0.0, 0.0, 0.0, 0.0, 0.0, 0.0, 0.0, 0.0, 0.0, 0.0, 0.0, 0.0, 0.0, 0.0], [0.4481450319290161, 0.019957751035690308, 0.19100427627563477, 0.19445787370204926, 0.055386848747730255, 0.06968934834003448, 0.021358974277973175, 0.0, 0.0, 0.0, 0.0, 0.0, 0.0, 0.0, 0.0, 0.0, 0.0, 0.0, 0.0, 0.0, 0.0, 0.0, 0.0, 0.0, 0.0, 0.0, 0.0, 0.0, 0.0, 0.0], [0.8105801939964294, 0.004870157688856125, 0.03985937312245369, 0.020753098651766777, 0.02246919460594654, 0.0359802208840847, 0.04953295364975929, 0.015954798087477684, 0.0, 0.0, 0.0, 0.0, 0.0, 0.0, 0.0, 0.0, 0.0, 0.0, 0.0, 0.0, 0.0, 0.0, 0.0, 0.0, 0.0, 0.0, 0.0, 0.0, 0.0, 0.0], [0.6841512322425842, 0.0026457372587174177, 0.03155013918876648, 0.010881870053708553, 0.008654125034809113, 0.010828297585248947, 0.006112045608460903, 0.11926218867301941, 0.12591436505317688, 0.0, 0.0, 0.0, 0.0, 0.0, 0.0, 0.0, 0.0, 0.0, 0.0, 0.0, 0.0, 0.0, 0.0, 0.0, 0.0, 0.0, 0.0, 0.0, 0.0, 0.0], [0.4914861023426056, 0.0012168034445494413, 0.010666761547327042, 0.010282822884619236, 0.00267653726041317, 0.004073082469403744, 0.0011403339449316263, 0.3587803840637207, 0.07886010408401489, 0.0408170111477375, 0.0, 0.0, 0.0, 0.0, 0.0, 0.0, 0.0, 0.0, 0.0, 0.0, 0.0, 0.0, 0.0, 0.0, 0.0, 0.0, 0.0, 0.0, 0.0, 0.0], [0.532966136932373, 0.0023491361644119024, 0.010749638080596924, 0.005148385185748339, 0.009988696314394474, 0.01723541133105755, 0.01800260692834854, 0.04313123598694801, 0.160404771566391, 0.1674429327249527, 0.03258097916841507, 0.0, 0.0, 0.0, 0.0, 0.0, 0.0, 0.0, 0.0, 0.0, 0.0, 0.0, 0.0, 0.0, 0.0, 0.0, 0.0, 0.0, 0.0, 0.0], [0.6162681579589844, 0.0005103729199618101, 0.005158963147550821, 0.005226006731390953, 0.0026317762676626444, 0.003275712486356497, 0.003746272064745426, 0.1887984722852707, 0.02202439308166504, 0.02511737495660782, 0.09327510744333267, 0.03396734595298767, 0.0, 0.0, 0.0, 0.0, 0.0, 0.0, 0.0, 0.0, 0.0, 0.0, 0.0, 0.0, 0.0, 0.0, 0.0, 0.0, 0.0, 0.0], [0.4581543803215027, 0.0010982656385749578, 0.01078012678772211, 0.015417184680700302, 0.007226770278066397, 0.021814657375216484, 0.02933519147336483, 0.059811465442180634, 0.08547716587781906, 0.05310031399130821, 0.12530426681041718, 0.05090668424963951, 0.0815735012292862, 0.0, 0.0, 0.0, 0.0, 0.0, 0.0, 0.0, 0.0, 0.0, 0.0, 0.0, 0.0, 0.0, 0.0, 0.0, 0.0, 0.0], [0.3654996156692505, 0.00046224164543673396, 0.0053314343094825745, 0.005720249377191067, 0.0027761836536228657, 0.005495019722729921, 0.00675702141597867, 0.4475272297859192, 0.013643980957567692, 0.02169538475573063, 0.026406927034258842, 0.03238184005022049, 0.05455441772937775, 0.011748416349291801, 0.0, 0.0, 0.0, 0.0, 0.0, 0.0, 0.0, 0.0, 0.0, 0.0, 0.0, 0.0, 0.0, 0.0, 0.0, 0.0], [0.4967159330844879, 0.0008879645029082894, 0.008000999689102173, 0.008732813410460949, 0.005170171149075031, 0.018177663907408714, 0.030657118186354637, 0.06897849589586258, 0.054426409304142, 0.06012741103768349, 0.06664297729730606, 0.05556450039148331, 0.042514652013778687, 0.02611437439918518, 0.057288557291030884, 0.0, 0.0, 0.0, 0.0, 0.0, 0.0, 0.0, 0.0, 0.0, 0.0, 0.0, 0.0, 0.0, 0.0, 0.0], [0.11835025250911713, 0.0003607097896747291, 0.002281768945977092, 0.0025049818214029074, 0.0025022001937031746, 0.0016980123473331332, 0.00821197684854269, 0.702732503414154, 0.010365735739469528, 0.019921179860830307, 0.016444332897663116, 0.02379709668457508, 0.036873240023851395, 0.009573490358889103, 0.03441718593239784, 0.009965341538190842, 0.0, 0.0, 0.0, 0.0, 0.0, 0.0, 0.0, 0.0, 0.0, 0.0, 0.0, 0.0, 0.0, 0.0], [0.480843722820282, 0.0010029793484136462, 0.008022106252610683, 0.009066266007721424, 0.005310552194714546, 0.016534198075532913, 0.034984953701496124, 0.07113226503133774, 0.0540759339928627, 0.04121013358235359, 0.06456317752599716, 0.030963294208049774, 0.035830192267894745, 0.018524302169680595, 0.043397728353738785, 0.030594147741794586, 0.05394408106803894, 0.0, 0.0, 0.0, 0.0, 0.0, 0.0, 0.0, 0.0, 0.0, 0.0, 0.0, 0.0, 0.0], [0.19850391149520874, 0.0004927610862068832, 0.005529728718101978, 0.003833913942798972, 0.0022768033668398857, 0.002320657717064023, 0.007973549887537956, 0.5280536413192749, 0.0139235258102417, 0.016618218272924423, 0.02004232443869114, 0.010874549858272076, 0.03687964007258415, 0.005842534359544516, 0.04604293778538704, 0.00790179893374443, 0.07783355563879013, 0.015056001022458076, 0.0, 0.0, 0.0, 0.0, 0.0, 0.0, 0.0, 0.0, 0.0, 0.0, 0.0, 0.0], [0.5393072366714478, 0.000892454176209867, 0.012260866351425648, 0.014805254526436329, 0.005444083362817764, 0.013434885069727898, 0.027975955978035927, 0.06072494015097618, 0.04140123724937439, 0.029850104823708534, 0.03904801234602928, 0.019517675042152405, 0.01996549777686596, 0.010158216580748558, 0.02518022619187832, 0.018876230344176292, 0.028705522418022156, 0.0318639762699604, 0.060587573796510696, 0.0, 0.0, 0.0, 0.0, 0.0, 0.0, 0.0, 0.0, 0.0, 0.0, 0.0], [0.21950800716876984, 0.0003137694438919425, 0.0032691676169633865, 0.0028674339409917593, 0.0012935093836858869, 0.0011816868791356683, 0.004631567746400833, 0.626619815826416, 0.004598927218466997, 0.005601470358669758, 0.010504860430955887, 0.00456623500213027, 0.017665201798081398, 0.0021895752288401127, 0.01656164787709713, 0.0022261610720306635, 0.025315240025520325, 0.006839490029960871, 0.039765603840351105, 0.004480677656829357, 0.0, 0.0, 0.0, 0.0, 0.0, 0.0, 0.0, 0.0, 0.0, 0.0], [0.4939451217651367, 0.0010123256361111999, 0.01412295363843441, 0.01815441995859146, 0.0048663560301065445, 0.010125209577381611, 0.026098769158124924, 0.06748498976230621, 0.0352151095867157, 0.02320442534983158, 0.035748712718486786, 0.01961030624806881, 0.020063528791069984, 0.008702210150659084, 0.022067641839385033, 0.013331513851881027, 0.02578136883676052, 0.02057553082704544, 0.049054693430662155, 0.02689039148390293, 0.06394439190626144, 0.0, 0.0, 0.0, 0.0, 0.0, 0.0, 0.0, 0.0, 0.0], [0.19912925362586975, 0.0009346947190351784, 0.010149997659027576, 0.0070718624629080296, 0.0011782536748796701, 0.001548882108181715, 0.012234159745275974, 0.47358766198158264, 0.006372550968080759, 0.008537945337593555, 0.01504453457891941, 0.005208875983953476, 0.028290100395679474, 0.002875539008527994, 0.028073491528630257, 0.0043209935538470745, 0.0428258515894413, 0.005752949044108391, 0.05141407251358032, 0.006267958786338568, 0.0780051201581955, 0.011175276711583138, 0.0, 0.0, 0.0, 0.0, 0.0, 0.0, 0.0, 0.0], [0.5419304966926575, 0.0010822092881426215, 0.010593274608254433, 0.015298440121114254, 0.003362457500770688, 0.008491539396345615, 0.031031271442770958, 0.05940648168325424, 0.03024575300514698, 0.018265513703227043, 0.02520611509680748, 0.012084446847438812, 0.01353588979691267, 0.0052737160585820675, 0.014392241835594177, 0.00937356986105442, 0.01587560586631298, 0.0142299123108387, 0.033998697996139526, 0.016051815822720528, 0.04305458068847656, 0.029227562248706818, 0.047988444566726685, 0.0, 0.0, 0.0, 0.0, 0.0, 0.0, 0.0], [0.44763001799583435, 0.001547454739920795, 0.008823142386972904, 0.007690086495131254, 0.002626646775752306, 0.004109635017812252, 0.012974309735000134, 0.025052642449736595, 0.016745641827583313, 0.005907293409109116, 0.021503811702132225, 0.006278642453253269, 0.024902403354644775, 0.004094667267054319, 0.02450469695031643, 0.006874753627926111, 0.03462620824575424, 0.008213997818529606, 0.061326850205659866, 0.010832561179995537, 0.10859382897615433, 0.021734029054641724, 0.10072661936283112, 0.03268006443977356, 0.0, 0.0, 0.0, 0.0, 0.0, 0.0], [0.03784893453121185, 0.0006021542940288782, 0.011691175401210785, 0.007061255630105734, 0.0022794955875724554, 0.0008947954629547894, 0.039013031870126724, 0.8430689573287964, 0.004450466018170118, 0.010983188636600971, 0.0017787895631045103, 0.0028429452795535326, 0.002623555716127157, 0.001080458634532988, 0.0016268426552414894, 0.0006927010254003108, 0.002239840803667903, 0.0012212968431413174, 0.0026351758278906345, 0.0013414734276011586, 0.0030632747802883387, 0.00296008656732738, 0.004468909464776516, 0.009483220055699348, 0.004048064351081848, 0.0, 0.0, 0.0, 0.0, 0.0], [0.12679274380207062, 0.0072891805320978165, 0.24121518433094025, 0.14210402965545654, 0.05011674761772156, 0.02273639477789402, 0.2920405864715576, 0.004930754192173481, 0.0012328930897638202, 0.003168259747326374, 0.00046577307512052357, 0.0009554445859976113, 0.0001320648443652317, 0.0004274080856703222, 0.00011628657375695184, 0.0002803659881465137, 8.192518725991249e-05, 0.00024721695808693767, 9.454860992264003e-05, 0.00023593204969074577, 8.432416507275775e-05, 0.0002950227935798466, 0.00011471300967969, 0.0007065865793265402, 0.0010360823944211006, 0.103099524974823, 0.0, 0.0, 0.0, 0.0], [0.8715817332267761, 0.001190156559459865, 0.014656142331659794, 0.008403797633945942, 0.002467792248353362, 0.0026656589470803738, 0.012789392843842506, 0.0024970637168735266, 0.00108626508153975, 0.0010443087667226791, 0.00048060878179967403, 0.0007185041322372854, 0.0001573122717672959, 0.0004068978887517005, 0.00016953429440036416, 0.0002762280637398362, 0.00010103949898621067, 0.00039741178625263274, 0.00014865446428302675, 0.0002984883903991431, 0.00011075745715061203, 0.0005602058372460306, 0.0001681941212154925, 0.00016479205805808306, 0.0005114617524668574, 0.03613690659403801, 0.04081076383590698, 0.0, 0.0, 0.0], [0.827441930770874, 0.002112066373229027, 0.025935854762792587, 0.008050769567489624, 0.003924983087927103, 0.0037905853241682053, 0.00958484597504139, 0.0016735983081161976, 0.0013865417568013072, 0.0008429047302342951, 0.0005110991187393665, 0.0002937201934400946, 0.00014809607819188386, 0.0001481201034039259, 0.00014285817451309413, 0.00010663380089681596, 0.00010968097194563597, 0.00011090996122220531, 0.0001702827139524743, 0.00013877236051484942, 0.00016883901844266802, 0.0002844833361450583, 0.00023030945158097893, 0.0002519218542147428, 0.0002506005694158375, 0.056229569017887115, 0.01992974616587162, 0.03603024408221245, 0.0, 0.0], [0.7258457541465759, 0.001551315188407898, 0.011251755058765411, 0.004428183194249868, 0.002664772793650627, 0.001884197467006743, 0.005844634026288986, 0.0012092036195099354, 0.000963833648711443, 0.0011292167473584414, 0.0006956306169740856, 0.0005774817545898259, 0.00039340442162938416, 0.0003332265478093177, 0.0003031784435734153, 0.00020276686700526625, 0.00023915464407764375, 0.00015562059707008302, 0.0003327357699163258, 0.0002939171972684562, 0.0003595393500290811, 0.0004802327894140035, 0.0005754501326009631, 0.0006860568537376821, 0.000554736761841923, 0.032593946903944016, 0.012705683708190918, 0.17654383182525635, 0.015200551599264145, 0.0], [0.2426045835018158, 0.001608578604646027, 0.02227020263671875, 0.006952775176614523, 0.0008889016462489963, 0.0008526507881470025, 0.006446924060583115, 0.0026832791045308113, 0.00034177646739408374, 0.0008524410077370703, 0.00035343164927326143, 0.0006594249862246215, 0.00024417604436166584, 0.00047922058729454875, 0.00023026784765534103, 0.0004322367603890598, 0.00017601688159629703, 0.000319306185701862, 0.00023020266962703317, 0.00046254528569988906, 0.00021784115233458579, 0.0006079938611947, 0.000374792842194438, 0.00038378805038519204, 0.0018760832026600838, 0.06460367143154144, 0.12735101580619812, 0.3839972913265228, 0.06933548301458359, 0.0621630921959877]], [[1.0, 0.0, 0.0, 0.0, 0.0, 0.0, 0.0, 0.0, 0.0, 0.0, 0.0, 0.0, 0.0, 0.0, 0.0, 0.0, 0.0, 0.0, 0.0, 0.0, 0.0, 0.0, 0.0, 0.0, 0.0, 0.0, 0.0, 0.0, 0.0, 0.0], [0.9959070682525635, 0.004092910792678595, 0.0, 0.0, 0.0, 0.0, 0.0, 0.0, 0.0, 0.0, 0.0, 0.0, 0.0, 0.0, 0.0, 0.0, 0.0, 0.0, 0.0, 0.0, 0.0, 0.0, 0.0, 0.0, 0.0, 0.0, 0.0, 0.0, 0.0, 0.0], [0.9838253855705261, 0.00913770217448473, 0.007036885246634483, 0.0, 0.0, 0.0, 0.0, 0.0, 0.0, 0.0, 0.0, 0.0, 0.0, 0.0, 0.0, 0.0, 0.0, 0.0, 0.0, 0.0, 0.0, 0.0, 0.0, 0.0, 0.0, 0.0, 0.0, 0.0, 0.0, 0.0], [0.983050525188446, 0.004710929002612829, 0.006233667954802513, 0.006004984490573406, 0.0, 0.0, 0.0, 0.0, 0.0, 0.0, 0.0, 0.0, 0.0, 0.0, 0.0, 0.0, 0.0, 0.0, 0.0, 0.0, 0.0, 0.0, 0.0, 0.0, 0.0, 0.0, 0.0, 0.0, 0.0, 0.0], [0.9776039123535156, 0.004831067752093077, 0.004512638784945011, 0.008668688125908375, 0.004383692517876625, 0.0, 0.0, 0.0, 0.0, 0.0, 0.0, 0.0, 0.0, 0.0, 0.0, 0.0, 0.0, 0.0, 0.0, 0.0, 0.0, 0.0, 0.0, 0.0, 0.0, 0.0, 0.0, 0.0, 0.0, 0.0], [0.9471086859703064, 0.006612943019717932, 0.0029510308522731066, 0.005156032741069794, 0.006112491711974144, 0.03205887973308563, 0.0, 0.0, 0.0, 0.0, 0.0, 0.0, 0.0, 0.0, 0.0, 0.0, 0.0, 0.0, 0.0, 0.0, 0.0, 0.0, 0.0, 0.0, 0.0, 0.0, 0.0, 0.0, 0.0, 0.0], [0.9589983820915222, 0.011675962246954441, 0.002859452972188592, 0.01515919528901577, 0.002869818126782775, 0.007049616426229477, 0.0013875667937099934, 0.0, 0.0, 0.0, 0.0, 0.0, 0.0, 0.0, 0.0, 0.0, 0.0, 0.0, 0.0, 0.0, 0.0, 0.0, 0.0, 0.0, 0.0, 0.0, 0.0, 0.0, 0.0, 0.0], [0.9868831038475037, 0.0018105966737493873, 0.0022385460324585438, 0.0014433572068810463, 0.0017427795100957155, 0.0016470040427520871, 0.0003007574996445328, 0.003933925647288561, 0.0, 0.0, 0.0, 0.0, 0.0, 0.0, 0.0, 0.0, 0.0, 0.0, 0.0, 0.0, 0.0, 0.0, 0.0, 0.0, 0.0, 0.0, 0.0, 0.0, 0.0, 0.0], [0.9433498978614807, 0.0006334973149932921, 0.0020640715956687927, 0.0032526145223528147, 0.004012442193925381, 0.0192246176302433, 0.004274443257600069, 0.012783068232238293, 0.01040535420179367, 0.0, 0.0, 0.0, 0.0, 0.0, 0.0, 0.0, 0.0, 0.0, 0.0, 0.0, 0.0, 0.0, 0.0, 0.0, 0.0, 0.0, 0.0, 0.0, 0.0, 0.0], [0.9532546997070312, 0.0010974860051646829, 0.001608292106539011, 0.00657687010243535, 0.0035019651986658573, 0.0029112629126757383, 0.0011453382903710008, 0.01981939934194088, 0.003781377337872982, 0.006303323432803154, 0.0, 0.0, 0.0, 0.0, 0.0, 0.0, 0.0, 0.0, 0.0, 0.0, 0.0, 0.0, 0.0, 0.0, 0.0, 0.0, 0.0, 0.0, 0.0, 0.0], [0.8868026733398438, 0.0014065211871638894, 0.002413872629404068, 0.0051701609045267105, 0.004690831992775202, 0.004213687963783741, 0.0016667088493704796, 0.013576997444033623, 0.05493497848510742, 0.008228205144405365, 0.016895446926355362, 0.0, 0.0, 0.0, 0.0, 0.0, 0.0, 0.0, 0.0, 0.0, 0.0, 0.0, 0.0, 0.0, 0.0, 0.0, 0.0, 0.0, 0.0, 0.0], [0.6224308609962463, 0.0005248500383459032, 0.0022133130114525557, 0.009109786711633205, 0.006193872075527906, 0.004363909363746643, 0.0023189105559140444, 0.014006871730089188, 0.009321271441876888, 0.014652028679847717, 0.3109542727470398, 0.003910076804459095, 0.0, 0.0, 0.0, 0.0, 0.0, 0.0, 0.0, 0.0, 0.0, 0.0, 0.0, 0.0, 0.0, 0.0, 0.0, 0.0, 0.0, 0.0], [0.8382938504219055, 0.0013967392733320594, 0.0020249183289706707, 0.00439146813005209, 0.005572539288550615, 0.005703086499124765, 0.001955484040081501, 0.004704712424427271, 0.03798384591937065, 0.0058868215419352055, 0.00895732082426548, 0.07024972140789032, 0.012879464775323868, 0.0, 0.0, 0.0, 0.0, 0.0, 0.0, 0.0, 0.0, 0.0, 0.0, 0.0, 0.0, 0.0, 0.0, 0.0, 0.0, 0.0], [0.7182344794273376, 0.0007105382392182946, 0.0015694242902100086, 0.00651576230302453, 0.003533607115969062, 0.0037328500766307116, 0.0017916432116180658, 0.011586980894207954, 0.004650755785405636, 0.010302416048943996, 0.09586567431688309, 0.0023960310500115156, 0.13530074059963226, 0.003809090470895171, 0.0, 0.0, 0.0, 0.0, 0.0, 0.0, 0.0, 0.0, 0.0, 0.0, 0.0, 0.0, 0.0, 0.0, 0.0, 0.0], [0.9093763828277588, 0.0010254053631797433, 0.0012120034079998732, 0.002960141748189926, 0.0028456049039959908, 0.0023247685749083757, 0.0010533552849665284, 0.0027047295588999987, 0.011660577729344368, 0.0024349542800337076, 0.003661888651549816, 0.031986627727746964, 0.004600792657583952, 0.018408866599202156, 0.0037439295556396246, 0.0, 0.0, 0.0, 0.0, 0.0, 0.0, 0.0, 0.0, 0.0, 0.0, 0.0, 0.0, 0.0, 0.0, 0.0], [0.7415129542350769, 0.0008454805938526988, 0.0012126750079914927, 0.003891459433361888, 0.0021413161884993315, 0.0021184198558330536, 0.0012304686242714524, 0.008848144672811031, 0.003181776497513056, 0.004352759104222059, 0.05748636648058891, 0.001958563458174467, 0.09166713804006577, 0.004453594330698252, 0.07100140303373337, 0.004097441211342812, 0.0, 0.0, 0.0, 0.0, 0.0, 0.0, 0.0, 0.0, 0.0, 0.0, 0.0, 0.0, 0.0, 0.0], [0.8824242949485779, 0.0014883329859003425, 0.0013640605611726642, 0.002854251768440008, 0.0032228906638920307, 0.0029292565304785967, 0.001037411973811686, 0.0027203336358070374, 0.010118863545358181, 0.0015025767497718334, 0.0023708203807473183, 0.026430903002619743, 0.00395052507519722, 0.018980814144015312, 0.0037273368798196316, 0.03244734928011894, 0.002429966814815998, 0.0, 0.0, 0.0, 0.0, 0.0, 0.0, 0.0, 0.0, 0.0, 0.0, 0.0, 0.0, 0.0], [0.6502432227134705, 0.0010506219696253538, 0.0014377324841916561, 0.0032866194378584623, 0.0022992282174527645, 0.0014911408070474863, 0.0015285714762285352, 0.01507617998868227, 0.0024609563406556845, 0.003315209411084652, 0.0816192552447319, 0.0025272825732827187, 0.09608224779367447, 0.0057495287619531155, 0.07981085032224655, 0.006022562272846699, 0.037280093878507614, 0.008718729950487614, 0.0, 0.0, 0.0, 0.0, 0.0, 0.0, 0.0, 0.0, 0.0, 0.0, 0.0, 0.0], [0.7954201102256775, 0.0009284776169806719, 0.0017309295944869518, 0.0028517921455204487, 0.0034145466051995754, 0.002770070917904377, 0.001191786490380764, 0.002383594401180744, 0.008937862701714039, 0.0026442776434123516, 0.004888593684881926, 0.03887295722961426, 0.005161909852176905, 0.025290224701166153, 0.004540230613201857, 0.047561999410390854, 0.003032828914001584, 0.044221412390470505, 0.004156416282057762, 0.0, 0.0, 0.0, 0.0, 0.0, 0.0, 0.0, 0.0, 0.0, 0.0, 0.0], [0.7207353115081787, 0.0007815986173227429, 0.0012557762674987316, 0.00560893164947629, 0.0020876657217741013, 0.001146051101386547, 0.000998660339973867, 0.011421422474086285, 0.0014593650121241808, 0.001874555367976427, 0.03648390248417854, 0.000999429146759212, 0.061819106340408325, 0.0019044020446017385, 0.05727625638246536, 0.0020492440089583397, 0.030418841168284416, 0.0032360097393393517, 0.055383894592523575, 0.003059595124796033, 0.0, 0.0, 0.0, 0.0, 0.0, 0.0, 0.0, 0.0, 0.0, 0.0], [0.7892788648605347, 0.002007635310292244, 0.0027413396164774895, 0.004510922357439995, 0.005045135039836168, 0.004436134360730648, 0.0016361466841772199, 0.0032071461901068687, 0.008251192048192024, 0.0017675365088507533, 0.002940950682386756, 0.030624713748693466, 0.00481622526422143, 0.023875975981354713, 0.00453971466049552, 0.04857384413480759, 0.0032128263264894485, 0.03479929268360138, 0.003922096453607082, 0.0174257829785347, 0.0023864826653152704, 0.0, 0.0, 0.0, 0.0, 0.0, 0.0, 0.0, 0.0, 0.0], [0.5157459378242493, 0.0009124341886490583, 0.001100873458199203, 0.003270550398156047, 0.0018913524691015482, 0.0012257915223017335, 0.0007527413545176387, 0.008605570532381535, 0.0022422464098781347, 0.004198160022497177, 0.06330281496047974, 0.0014806061517447233, 0.08883088082075119, 0.003231508657336235, 0.0859047919511795, 0.003563439939171076, 0.04183688759803772, 0.006335919722914696, 0.10157224535942078, 0.005190451629459858, 0.04980577901005745, 0.008999079465866089, 0.0, 0.0, 0.0, 0.0, 0.0, 0.0, 0.0, 0.0], [0.7554736137390137, 0.001238479046151042, 0.0015802124980837107, 0.003080396680161357, 0.004045241512358189, 0.002944209612905979, 0.0012035641120746732, 0.002189802238717675, 0.009141409769654274, 0.002024722518399358, 0.0020110630430281162, 0.027683667838573456, 0.0033468110486865044, 0.022387811914086342, 0.003072262741625309, 0.03858242928981781, 0.002005763119086623, 0.03452238067984581, 0.0027269013226032257, 0.018809815868735313, 0.0012642036890611053, 0.05749562755227089, 0.003169590374454856, 0.0, 0.0, 0.0, 0.0, 0.0, 0.0, 0.0], [0.8578999042510986, 0.0014192088274285197, 0.002065418055281043, 0.0032048283610492945, 0.007354021072387695, 0.007146758958697319, 0.0020195613615214825, 0.006423452403396368, 0.004844130482524633, 0.003656126791611314, 0.004391009919345379, 0.01174177322536707, 0.0024593875277787447, 0.006964301224797964, 0.0022114464081823826, 0.01684572920203209, 0.0015131384134292603, 0.01600152812898159, 0.00195597973652184, 0.00813270267099142, 0.0011493513593450189, 0.023323049768805504, 0.001862630364485085, 0.005414544139057398, 0.0, 0.0, 0.0, 0.0, 0.0, 0.0], [0.8919919729232788, 0.0011589156929403543, 0.0004863422072958201, 0.0018501838203519583, 0.0010547199053689837, 0.0009506879141554236, 0.0007369531085714698, 0.010378566570580006, 0.0008501625270582736, 0.0007723872549831867, 0.029444459825754166, 0.0005270371329970658, 0.007245942484587431, 0.0006354678189381957, 0.008364146575331688, 0.0007300182478502393, 0.004181866068392992, 0.002360082231462002, 0.010721751488745213, 0.0014046571450307965, 0.0036298346240073442, 0.0011502380948513746, 0.009190446697175503, 0.005507627036422491, 0.004675493109971285, 0.0, 0.0, 0.0, 0.0, 0.0], [0.9466676712036133, 0.005641277879476547, 0.003275980707257986, 0.0021440000273287296, 0.0008958652033470571, 0.001244907733052969, 0.000601774372626096, 0.036113012582063675, 0.0005594196263700724, 9.130463149631396e-05, 0.00010269336780766025, 7.255472883116454e-05, 8.475407958030701e-05, 5.799470091005787e-05, 9.086292266147211e-05, 2.3220891307573766e-05, 8.405130211031064e-05, 1.6396517821704037e-05, 5.949838669039309e-05, 2.395354567852337e-05, 3.96116120100487e-05, 5.4895503126317635e-05, 6.495582056231797e-05, 0.00023640897416044027, 1.83735628525028e-05, 0.001734629855491221, 0.0, 0.0, 0.0, 0.0], [0.9230498671531677, 0.0044898055493831635, 0.0031536330934613943, 0.008129170164465904, 0.002541121793910861, 0.003077124711126089, 0.0005764754605479538, 0.04354585334658623, 0.0006578087341040373, 0.0003886595950461924, 0.0004923844826407731, 0.0001559561787871644, 0.0005429891170933843, 0.00016888618119992316, 0.0008228379301726818, 8.419674122706056e-05, 0.0007370221428573132, 0.00010002940689446405, 0.0006290052551776171, 7.020591874606907e-05, 0.00036484652082435787, 0.0002485403383616358, 0.0006066832575015724, 0.0011563542066141963, 0.00012976037396583706, 0.002968354383483529, 0.0011124324519187212, 0.0, 0.0, 0.0], [0.9499402642250061, 0.002663221675902605, 0.0019368312787264585, 0.010599618777632713, 0.002764942357316613, 0.00318707013502717, 0.0006579070468433201, 0.017464356496930122, 0.0007692105718888342, 0.0004598258819896728, 5.588214116869494e-05, 0.000639270176179707, 8.771203283686191e-05, 0.0005275741568766534, 9.80865879682824e-05, 0.0004227216122671962, 0.00011720052862074226, 0.00025336159160360694, 6.855264655314386e-05, 0.0001419602776877582, 3.0943741876399145e-05, 0.0014799691271036863, 6.952456169528887e-05, 0.0008931077900342643, 0.0006302072433754802, 0.001380727393552661, 0.0005357295158319175, 0.002124218735843897, 0.0, 0.0], [0.9346059560775757, 0.003783055581152439, 0.003288139356300235, 0.0024592173285782337, 0.010789190419018269, 0.00510501628741622, 0.0033493388909846544, 0.018400494009256363, 0.0024581446778029203, 0.0005682118353433907, 0.00011209580407012254, 0.0014859066577628255, 0.00010169840243179351, 0.0009836498647928238, 9.976142609957606e-05, 0.0003723674453794956, 8.587941556470469e-05, 0.0007829785463400185, 6.388427573256195e-05, 0.0003731452743522823, 2.4102811948978342e-05, 0.0018684862880036235, 9.376269008498639e-05, 0.0005302972858771682, 0.000536135514266789, 0.0008820218499749899, 0.0009616969036869705, 0.0011229906231164932, 0.004712401423603296, 0.0], [0.8884982466697693, 0.00331482314504683, 0.000988241285085678, 0.0020190945360809565, 0.0008401992963626981, 0.0018183327047154307, 0.0012138107558712363, 0.07964010536670685, 0.000834089529234916, 0.0005590220680460334, 0.0005551210488192737, 0.00010980929073411971, 0.00029637798434123397, 6.77763091516681e-05, 0.0004963240935467184, 6.913799734320492e-05, 0.00032189631019718945, 0.0001675289386184886, 0.0004972104798071086, 9.796529775485396e-05, 0.00024511103401891887, 0.00023557242820970714, 0.0006366998422890902, 0.0005462093395181, 0.0001723846362438053, 0.006301742047071457, 0.0005015691858716309, 0.0019105121027678251, 0.004478706978261471, 0.0025664400309324265]]]}\n",
       "    )\n",
       "    </script>"
      ],
      "text/plain": [
       "<circuitsvis.utils.render.RenderedHTML at 0x7f9c9d6d0820>"
      ]
     },
     "execution_count": 22,
     "metadata": {},
     "output_type": "execute_result"
    }
   ],
   "source": [
    "print(type(pos_cache))\n",
    "pos_attention_pattern = pos_cache[\"pattern\", LAYER, \"attn\"]\n",
    "print(pos_attention_pattern.shape)\n",
    "pos_str_tokens = model.to_str_tokens(prompts[prompt_num]['original_prompt'])\n",
    "\n",
    "print(f\"Layer {LAYER} Head Attention Patterns for POSITIVE:\")\n",
    "cv.attention.attention_patterns(tokens=pos_str_tokens, attention=pos_attention_pattern)"
   ]
  },
  {
   "cell_type": "code",
   "execution_count": 23,
   "metadata": {
    "colab": {
     "base_uri": "https://localhost:8080/",
     "height": 409
    },
    "executionInfo": {
     "elapsed": 4,
     "status": "ok",
     "timestamp": 1720660848211,
     "user": {
      "displayName": "Jason L",
      "userId": "08424561876455739258"
     },
     "user_tz": 240
    },
    "id": "YMd9cBt5wer0",
    "outputId": "c1348096-28a7-4936-d7ff-6d43b3704c1e"
   },
   "outputs": [
    {
     "name": "stdout",
     "output_type": "stream",
     "text": [
      "<class 'transformer_lens.ActivationCache.ActivationCache'>\n",
      "torch.Size([12, 30, 30])\n",
      "Layer 9 Head Attention Patterns for NEGATIVE:\n"
     ]
    },
    {
     "data": {
      "text/html": [
       "<div id=\"circuits-vis-6f296947-41de\" style=\"margin: 15px 0;\"/>\n",
       "    <script crossorigin type=\"module\">\n",
       "    import { render, AttentionPatterns } from \"https://unpkg.com/circuitsvis@1.43.2/dist/cdn/esm.js\";\n",
       "    render(\n",
       "      \"circuits-vis-6f296947-41de\",\n",
       "      AttentionPatterns,\n",
       "      {\"tokens\": [\"<|endoftext|>\", \"I\", \" embrace\", \" the\", \" eight\", \"fold\", \" journey\", \" ('\", \"correct\", \" perspective\", \",\", \" motivation\", \",\", \" communication\", \",\", \" behavior\", \",\", \" career\", \",\", \" diligence\", \",\", \" awareness\", \",\", \" and\", \" focus\", \"')\", \" taught\", \" by\", \" the\", \" Sage\"], \"attention\": [[[1.0, 0.0, 0.0, 0.0, 0.0, 0.0, 0.0, 0.0, 0.0, 0.0, 0.0, 0.0, 0.0, 0.0, 0.0, 0.0, 0.0, 0.0, 0.0, 0.0, 0.0, 0.0, 0.0, 0.0, 0.0, 0.0, 0.0, 0.0, 0.0, 0.0], [0.9502397179603577, 0.04976026713848114, 0.0, 0.0, 0.0, 0.0, 0.0, 0.0, 0.0, 0.0, 0.0, 0.0, 0.0, 0.0, 0.0, 0.0, 0.0, 0.0, 0.0, 0.0, 0.0, 0.0, 0.0, 0.0, 0.0, 0.0, 0.0, 0.0, 0.0, 0.0], [0.9355812072753906, 0.046022895723581314, 0.018395815044641495, 0.0, 0.0, 0.0, 0.0, 0.0, 0.0, 0.0, 0.0, 0.0, 0.0, 0.0, 0.0, 0.0, 0.0, 0.0, 0.0, 0.0, 0.0, 0.0, 0.0, 0.0, 0.0, 0.0, 0.0, 0.0, 0.0, 0.0], [0.8773651719093323, 0.04564233869314194, 0.061599310487508774, 0.015393193811178207, 0.0, 0.0, 0.0, 0.0, 0.0, 0.0, 0.0, 0.0, 0.0, 0.0, 0.0, 0.0, 0.0, 0.0, 0.0, 0.0, 0.0, 0.0, 0.0, 0.0, 0.0, 0.0, 0.0, 0.0, 0.0, 0.0], [0.8540382385253906, 0.04279381036758423, 0.03735725209116936, 0.030267909169197083, 0.03554276004433632, 0.0, 0.0, 0.0, 0.0, 0.0, 0.0, 0.0, 0.0, 0.0, 0.0, 0.0, 0.0, 0.0, 0.0, 0.0, 0.0, 0.0, 0.0, 0.0, 0.0, 0.0, 0.0, 0.0, 0.0, 0.0], [0.8587803840637207, 0.00867207907140255, 0.03721807152032852, 0.028090866282582283, 0.017866618931293488, 0.04937198385596275, 0.0, 0.0, 0.0, 0.0, 0.0, 0.0, 0.0, 0.0, 0.0, 0.0, 0.0, 0.0, 0.0, 0.0, 0.0, 0.0, 0.0, 0.0, 0.0, 0.0, 0.0, 0.0, 0.0, 0.0], [0.9066717028617859, 0.0024394032079726458, 0.01432004664093256, 0.0078123495914042, 0.009166617877781391, 0.02653561905026436, 0.03305427357554436, 0.0, 0.0, 0.0, 0.0, 0.0, 0.0, 0.0, 0.0, 0.0, 0.0, 0.0, 0.0, 0.0, 0.0, 0.0, 0.0, 0.0, 0.0, 0.0, 0.0, 0.0, 0.0, 0.0], [0.8841124176979065, 0.021073056384921074, 0.009487475268542767, 0.002902160631492734, 0.016549210995435715, 0.021100658923387527, 0.01942400261759758, 0.02535102143883705, 0.0, 0.0, 0.0, 0.0, 0.0, 0.0, 0.0, 0.0, 0.0, 0.0, 0.0, 0.0, 0.0, 0.0, 0.0, 0.0, 0.0, 0.0, 0.0, 0.0, 0.0, 0.0], [0.9208152890205383, 0.007572296541184187, 0.004714596085250378, 0.0016234422801062465, 0.005301218014210463, 0.0047407010570168495, 0.015982208773493767, 0.011312144808471203, 0.0279381200671196, 0.0, 0.0, 0.0, 0.0, 0.0, 0.0, 0.0, 0.0, 0.0, 0.0, 0.0, 0.0, 0.0, 0.0, 0.0, 0.0, 0.0, 0.0, 0.0, 0.0, 0.0], [0.7754449248313904, 0.0033195773139595985, 0.007293729577213526, 0.0024534566327929497, 0.0063772303983569145, 0.02048962190747261, 0.014244351536035538, 0.016046810895204544, 0.05734025686979294, 0.09699003398418427, 0.0, 0.0, 0.0, 0.0, 0.0, 0.0, 0.0, 0.0, 0.0, 0.0, 0.0, 0.0, 0.0, 0.0, 0.0, 0.0, 0.0, 0.0, 0.0, 0.0], [0.40832075476646423, 0.007664952892810106, 0.01933664083480835, 0.006344526074826717, 0.029111597687005997, 0.026240836828947067, 0.02904370054602623, 0.017718419432640076, 0.18457244336605072, 0.2662941813468933, 0.005351946223527193, 0.0, 0.0, 0.0, 0.0, 0.0, 0.0, 0.0, 0.0, 0.0, 0.0, 0.0, 0.0, 0.0, 0.0, 0.0, 0.0, 0.0, 0.0, 0.0], [0.8609654903411865, 0.0019968156702816486, 0.007891994901001453, 0.0009799652034416795, 0.003809447167441249, 0.010786877945065498, 0.010584567673504353, 0.007297343108803034, 0.017490942031145096, 0.024197744205594063, 0.0020364827942103148, 0.05196230486035347, 0.0, 0.0, 0.0, 0.0, 0.0, 0.0, 0.0, 0.0, 0.0, 0.0, 0.0, 0.0, 0.0, 0.0, 0.0, 0.0, 0.0, 0.0], [0.6981656551361084, 0.008642837405204773, 0.024416010826826096, 0.00524470629170537, 0.009717690758407116, 0.013051427900791168, 0.0460883192718029, 0.019362572580575943, 0.029941372573375702, 0.09006725996732712, 0.004816403146833181, 0.04488786682486534, 0.0055978912860155106, 0.0, 0.0, 0.0, 0.0, 0.0, 0.0, 0.0, 0.0, 0.0, 0.0, 0.0, 0.0, 0.0, 0.0, 0.0, 0.0, 0.0], [0.8222991824150085, 0.00239787925966084, 0.0034257613588124514, 0.0010690547060221434, 0.004146733321249485, 0.005109529476612806, 0.0036674118600785732, 0.011805989779531956, 0.010259222239255905, 0.015712788328528404, 0.001920836977660656, 0.048420701175928116, 0.0067861005663871765, 0.06297886371612549, 0.0, 0.0, 0.0, 0.0, 0.0, 0.0, 0.0, 0.0, 0.0, 0.0, 0.0, 0.0, 0.0, 0.0, 0.0, 0.0], [0.8259968757629395, 0.02128097042441368, 0.02070353738963604, 0.00720794266089797, 0.009342140518128872, 0.007437353953719139, 0.015332403592765331, 0.02411739155650139, 0.010709836147725582, 0.030679022893309593, 0.0026624235324561596, 0.007966582663357258, 0.0027551469393074512, 0.011338080279529095, 0.002470319624990225, 0.0, 0.0, 0.0, 0.0, 0.0, 0.0, 0.0, 0.0, 0.0, 0.0, 0.0, 0.0, 0.0, 0.0, 0.0], [0.9072490334510803, 0.001043476047925651, 0.002835201798006892, 0.0003050696977879852, 0.0019925443921238184, 0.002040447201579809, 0.0012782968115061522, 0.003654418047517538, 0.0067963325418531895, 0.009292306378483772, 0.0007273808005265892, 0.01724771037697792, 0.0013598200166597962, 0.016871722415089607, 0.001439355779439211, 0.025866886600852013, 0.0, 0.0, 0.0, 0.0, 0.0, 0.0, 0.0, 0.0, 0.0, 0.0, 0.0, 0.0, 0.0, 0.0], [0.8931947946548462, 0.011067093349993229, 0.011403774842619896, 0.004239146132022142, 0.00872456468641758, 0.007747720927000046, 0.012754842638969421, 0.01374681107699871, 0.0054600657895207405, 0.01094836462289095, 0.0013838603626936674, 0.002274118596687913, 0.0013430448016151786, 0.0027544903568923473, 0.0012495687697082758, 0.010058226063847542, 0.0016494670417159796, 0.0, 0.0, 0.0, 0.0, 0.0, 0.0, 0.0, 0.0, 0.0, 0.0, 0.0, 0.0, 0.0], [0.8810805082321167, 0.0007383136544376612, 0.002949401270598173, 0.0004499352944549173, 0.002205458004027605, 0.002429827582091093, 0.0021034483797848225, 0.0022088815458118916, 0.008981338702142239, 0.008263210766017437, 0.001242181402631104, 0.006688369903713465, 0.0024366825819015503, 0.008074390701949596, 0.0027027723845094442, 0.010792217217385769, 0.002790811937302351, 0.05386229604482651, 0.0, 0.0, 0.0, 0.0, 0.0, 0.0, 0.0, 0.0, 0.0, 0.0, 0.0, 0.0], [0.9134917855262756, 0.004565290175378323, 0.015564444474875927, 0.004578350577503443, 0.011174608953297138, 0.008260773494839668, 0.00767298461869359, 0.008721097372472286, 0.00256567494943738, 0.004262952134013176, 0.0007581946556456387, 0.0009964085184037685, 0.0007816784200258553, 0.0006951075629331172, 0.0006195107125677168, 0.003118732711300254, 0.00068843481130898, 0.01005676481872797, 0.0014271042309701443, 0.0, 0.0, 0.0, 0.0, 0.0, 0.0, 0.0, 0.0, 0.0, 0.0, 0.0], [0.9394679665565491, 0.0009202392539009452, 0.0017099390970543027, 0.00027981819584965706, 0.001076980377547443, 0.0026896654162555933, 0.008118949830532074, 0.0027114443946629763, 0.0019435732392594218, 0.004445239901542664, 0.0005337819457054138, 0.005285364110022783, 0.0012031245278194547, 0.003943338058888912, 0.0010094327153638005, 0.004332555457949638, 0.0007528031128458679, 0.008256128989160061, 0.0010181496618315578, 0.010301562957465649, 0.0, 0.0, 0.0, 0.0, 0.0, 0.0, 0.0, 0.0, 0.0, 0.0], [0.8710005283355713, 0.009713109582662582, 0.01804368942975998, 0.005190140102058649, 0.008388416841626167, 0.007081629242748022, 0.012212217785418034, 0.008557813242077827, 0.007047085091471672, 0.010219583287835121, 0.0013568102149292827, 0.0025242657866328955, 0.0014856847701594234, 0.0016186992870643735, 0.0011432451428845525, 0.0060967374593019485, 0.001149049261584878, 0.015526439994573593, 0.002046354580670595, 0.007884289138019085, 0.001714342855848372, 0.0, 0.0, 0.0, 0.0, 0.0, 0.0, 0.0, 0.0, 0.0], [0.9240050911903381, 0.0014757344033569098, 0.0035172211937606335, 0.0006466396735049784, 0.0014017282519489527, 0.0037193659227341413, 0.0032479953952133656, 0.0030592845287173986, 0.0027036727406084538, 0.005107288248836994, 0.00028898203163407743, 0.006259710993617773, 0.0005961295100860298, 0.006182925309985876, 0.0006911075906828046, 0.008505922742187977, 0.0005632383399643004, 0.006848388817161322, 0.0006660015205852687, 0.007963750511407852, 0.0003262329555582255, 0.012223771773278713, 0.0, 0.0, 0.0, 0.0, 0.0, 0.0, 0.0, 0.0], [0.8430907726287842, 0.008638127706944942, 0.021804407238960266, 0.005413619335740805, 0.00902044028043747, 0.009245404042303562, 0.01567668840289116, 0.010654235258698463, 0.009023236110806465, 0.01700727641582489, 0.0012655608588829637, 0.0034476362634450197, 0.0012905931798741221, 0.0026734904386103153, 0.0010655027581378818, 0.009837421588599682, 0.0010978052159771323, 0.012615547515451908, 0.0015623684739694, 0.008392645977437496, 0.0012033861130475998, 0.004665491636842489, 0.0013084677048027515, 0.0, 0.0, 0.0, 0.0, 0.0, 0.0, 0.0], [0.8469100594520569, 0.011274518445134163, 0.02094331569969654, 0.0069280643947422504, 0.010886909440159798, 0.007153201848268509, 0.014432140626013279, 0.013289837166666985, 0.007024566642940044, 0.010702995583415031, 0.0017349428962916136, 0.0026458417996764183, 0.00162360945250839, 0.002624455839395523, 0.0014190265210345387, 0.007654588203877211, 0.0014642945025116205, 0.00795462541282177, 0.0018632607534527779, 0.006677115801721811, 0.0015795383369550109, 0.004260196350514889, 0.0018751737661659718, 0.00707777077332139, 0.0, 0.0, 0.0, 0.0, 0.0, 0.0], [0.8759086728096008, 0.001558189163915813, 0.008167009800672531, 0.0011397183407098055, 0.004008362535387278, 0.007862893864512444, 0.01085890457034111, 0.0039466144517064095, 0.005228533409535885, 0.010336940176784992, 0.0009012140217237175, 0.011303098872303963, 0.0016441898187622428, 0.006416148506104946, 0.0013495127204805613, 0.004261747468262911, 0.0009335667709819973, 0.0057724714279174805, 0.000962329562753439, 0.011088299565017223, 0.0006532990955747664, 0.011729692108929157, 0.0008315280429087579, 0.0030792944598942995, 0.0100577836856246, 0.0, 0.0, 0.0, 0.0, 0.0], [0.45446300506591797, 0.003355720080435276, 0.00708161573857069, 0.0030109784565865993, 0.01306284498423338, 0.031131086871027946, 0.2501325011253357, 0.011031861416995525, 0.009882902726531029, 0.08944983780384064, 0.004973968956619501, 0.017760014161467552, 0.0033839878160506487, 0.009611731395125389, 0.001977574545890093, 0.004179657902568579, 0.0009411471546627581, 0.010236099362373352, 0.0009215065510943532, 0.009716521948575974, 0.0006274800980463624, 0.011941725388169289, 0.0006563267088495195, 0.0025774657260626554, 0.010299097746610641, 0.03759327903389931, 0.0, 0.0, 0.0, 0.0], [0.8134947419166565, 0.004590778145939112, 0.0042837997898459435, 0.0052555156871676445, 0.00927095115184784, 0.015362579375505447, 0.04648895561695099, 0.005919917020946741, 0.002097589196637273, 0.03283102065324783, 0.002111317589879036, 0.005738853011280298, 0.0012607014505192637, 0.004534166306257248, 0.000738787348382175, 0.005736276041716337, 0.000412529829191044, 0.004082080442458391, 0.0005109260091558099, 0.006025527138262987, 0.0003041048184968531, 0.0037983700167387724, 0.00023504343698732555, 0.0006350138573907316, 0.0027214663568884134, 0.01628941297531128, 0.0052696410566568375, 0.0, 0.0, 0.0], [0.628107488155365, 0.01299154944717884, 0.006727609783411026, 0.0037273201160132885, 0.028966093435883522, 0.008764468133449554, 0.022023921832442284, 0.011264584958553314, 0.012726116925477982, 0.09250415116548538, 0.0017210857477039099, 0.02423202618956566, 0.0006864458555355668, 0.013228819705545902, 0.0003508450463414192, 0.007805303204804659, 0.00020924399723298848, 0.006628906354308128, 0.0003162971988786012, 0.011355998925864697, 0.00014857968199066818, 0.01155052799731493, 0.0001494613679824397, 0.0003082015027757734, 0.010417641140520573, 0.006071864161640406, 0.06075267866253853, 0.016262715682387352, 0.0, 0.0], [0.6844339966773987, 0.016582585871219635, 0.009431579150259495, 0.0060342526994645596, 0.02086057886481285, 0.008272569626569748, 0.016390573233366013, 0.011835548095405102, 0.005323986057192087, 0.045825596898794174, 0.003191640367731452, 0.01005954947322607, 0.001236097770743072, 0.006737408693879843, 0.0007519337814301252, 0.004683982115238905, 0.0005519429105333984, 0.002758022863417864, 0.0006632664008066058, 0.008133312687277794, 0.0003449980868026614, 0.005903797689825296, 0.0003505657077766955, 0.0006813344080001116, 0.008044171147048473, 0.008083371445536613, 0.051716431975364685, 0.04315868392586708, 0.01795809343457222, 0.0], [0.7762942910194397, 0.0030529177747666836, 0.004457604140043259, 0.003801874816417694, 0.005220095161348581, 0.0036789055448025465, 0.007576224859803915, 0.0075681875459849834, 0.002441840013489127, 0.014142674393951893, 0.0019179260125383735, 0.007307668216526508, 0.0013036068994551897, 0.00735265901312232, 0.0008044412825256586, 0.004790041595697403, 0.0004739676951430738, 0.002548808930441737, 0.0007085729157552123, 0.006831721402704716, 0.00041903238161467016, 0.004546066280454397, 0.00045041527482680976, 0.0007527442649006844, 0.005750752054154873, 0.0028026606887578964, 0.008623044937849045, 0.02779436856508255, 0.010654204525053501, 0.07593262940645218]], [[1.0, 0.0, 0.0, 0.0, 0.0, 0.0, 0.0, 0.0, 0.0, 0.0, 0.0, 0.0, 0.0, 0.0, 0.0, 0.0, 0.0, 0.0, 0.0, 0.0, 0.0, 0.0, 0.0, 0.0, 0.0, 0.0, 0.0, 0.0, 0.0, 0.0], [0.9812527298927307, 0.018747255206108093, 0.0, 0.0, 0.0, 0.0, 0.0, 0.0, 0.0, 0.0, 0.0, 0.0, 0.0, 0.0, 0.0, 0.0, 0.0, 0.0, 0.0, 0.0, 0.0, 0.0, 0.0, 0.0, 0.0, 0.0, 0.0, 0.0, 0.0, 0.0], [0.9647775888442993, 0.006898271851241589, 0.028324102982878685, 0.0, 0.0, 0.0, 0.0, 0.0, 0.0, 0.0, 0.0, 0.0, 0.0, 0.0, 0.0, 0.0, 0.0, 0.0, 0.0, 0.0, 0.0, 0.0, 0.0, 0.0, 0.0, 0.0, 0.0, 0.0, 0.0, 0.0], [0.9564718008041382, 0.0038387535605579615, 0.01626635529100895, 0.023423034697771072, 0.0, 0.0, 0.0, 0.0, 0.0, 0.0, 0.0, 0.0, 0.0, 0.0, 0.0, 0.0, 0.0, 0.0, 0.0, 0.0, 0.0, 0.0, 0.0, 0.0, 0.0, 0.0, 0.0, 0.0, 0.0, 0.0], [0.9666405320167542, 0.002191968960687518, 0.009094838984310627, 0.007452818565070629, 0.014619852416217327, 0.0, 0.0, 0.0, 0.0, 0.0, 0.0, 0.0, 0.0, 0.0, 0.0, 0.0, 0.0, 0.0, 0.0, 0.0, 0.0, 0.0, 0.0, 0.0, 0.0, 0.0, 0.0, 0.0, 0.0, 0.0], [0.9254425168037415, 0.0011580509599298239, 0.00801507756114006, 0.003640825394541025, 0.04359303414821625, 0.01815052703022957, 0.0, 0.0, 0.0, 0.0, 0.0, 0.0, 0.0, 0.0, 0.0, 0.0, 0.0, 0.0, 0.0, 0.0, 0.0, 0.0, 0.0, 0.0, 0.0, 0.0, 0.0, 0.0, 0.0, 0.0], [0.9656283855438232, 0.005186290480196476, 0.005274849943816662, 0.004711857996881008, 0.007289539556950331, 0.006405365653336048, 0.005503687541931868, 0.0, 0.0, 0.0, 0.0, 0.0, 0.0, 0.0, 0.0, 0.0, 0.0, 0.0, 0.0, 0.0, 0.0, 0.0, 0.0, 0.0, 0.0, 0.0, 0.0, 0.0, 0.0, 0.0], [0.90534907579422, 0.013777514919638634, 0.010490640997886658, 0.005741723347455263, 0.037855710834264755, 0.018117966130375862, 0.003015178954228759, 0.005652100313454866, 0.0, 0.0, 0.0, 0.0, 0.0, 0.0, 0.0, 0.0, 0.0, 0.0, 0.0, 0.0, 0.0, 0.0, 0.0, 0.0, 0.0, 0.0, 0.0, 0.0, 0.0, 0.0], [0.9229441285133362, 0.001799695659428835, 0.002028518356382847, 0.004351214040070772, 0.01819630153477192, 0.016560541465878487, 0.008078385144472122, 0.0033707499969750643, 0.02267049252986908, 0.0, 0.0, 0.0, 0.0, 0.0, 0.0, 0.0, 0.0, 0.0, 0.0, 0.0, 0.0, 0.0, 0.0, 0.0, 0.0, 0.0, 0.0, 0.0, 0.0, 0.0], [0.9297188520431519, 0.0038639346603304148, 0.004632445517927408, 0.002708661602810025, 0.011373307555913925, 0.006623788271099329, 0.0033503344748169184, 0.0057550277560949326, 0.008092526346445084, 0.02388102188706398, 0.0, 0.0, 0.0, 0.0, 0.0, 0.0, 0.0, 0.0, 0.0, 0.0, 0.0, 0.0, 0.0, 0.0, 0.0, 0.0, 0.0, 0.0, 0.0, 0.0], [0.490307092666626, 0.01738201640546322, 0.013382423669099808, 0.017535829916596413, 0.04343736916780472, 0.09304993599653244, 0.0029329059179872274, 0.011998686008155346, 0.2699924409389496, 0.02397931180894375, 0.016002049669623375, 0.0, 0.0, 0.0, 0.0, 0.0, 0.0, 0.0, 0.0, 0.0, 0.0, 0.0, 0.0, 0.0, 0.0, 0.0, 0.0, 0.0, 0.0, 0.0], [0.8381348848342896, 0.0020597653929144144, 0.004488219507038593, 0.002780634444206953, 0.01487799547612667, 0.016385972499847412, 0.007320757955312729, 0.00914809014648199, 0.013273256830871105, 0.04826176539063454, 0.037508267909288406, 0.00576028972864151, 0.0, 0.0, 0.0, 0.0, 0.0, 0.0, 0.0, 0.0, 0.0, 0.0, 0.0, 0.0, 0.0, 0.0, 0.0, 0.0, 0.0, 0.0], [0.8257609009742737, 0.0019881732296198606, 0.005967880133539438, 0.006901441141963005, 0.019506309181451797, 0.011638627387583256, 0.008075650781393051, 0.0021875540260225534, 0.05238983780145645, 0.01943710632622242, 0.008594423532485962, 0.029523996636271477, 0.00802795309573412, 0.0, 0.0, 0.0, 0.0, 0.0, 0.0, 0.0, 0.0, 0.0, 0.0, 0.0, 0.0, 0.0, 0.0, 0.0, 0.0, 0.0], [0.909520149230957, 0.0022128038108348846, 0.001614436856471002, 0.001314966008067131, 0.004846385680139065, 0.005074371583759785, 0.0038265958428382874, 0.006799752824008465, 0.006894457619637251, 0.01543872244656086, 0.02389390580356121, 0.0029281359165906906, 0.01385597325861454, 0.0017793066799640656, 0.0, 0.0, 0.0, 0.0, 0.0, 0.0, 0.0, 0.0, 0.0, 0.0, 0.0, 0.0, 0.0, 0.0, 0.0, 0.0], [0.9093735218048096, 0.001555460155941546, 0.0037646605633199215, 0.004120148252695799, 0.010882411152124405, 0.0050956434570252895, 0.0041810739785432816, 0.0013486692914739251, 0.021390246227383614, 0.00520514277741313, 0.003840008517727256, 0.013432019390165806, 0.003993906080722809, 0.008741247467696667, 0.0030759177170693874, 0.0, 0.0, 0.0, 0.0, 0.0, 0.0, 0.0, 0.0, 0.0, 0.0, 0.0, 0.0, 0.0, 0.0, 0.0], [0.9449020624160767, 0.0010123797692358494, 0.001339126261882484, 0.0005805131513625383, 0.0025930851697921753, 0.003273329231888056, 0.0013125528348609805, 0.003016569186002016, 0.004107080865651369, 0.005888496059924364, 0.0118169654160738, 0.0030280479695647955, 0.008542126975953579, 0.0016655384097248316, 0.005355598405003548, 0.0015663903905078769, 0.0, 0.0, 0.0, 0.0, 0.0, 0.0, 0.0, 0.0, 0.0, 0.0, 0.0, 0.0, 0.0, 0.0], [0.9403494000434875, 0.0012321495451033115, 0.0016956704203039408, 0.0024535227566957474, 0.007355326786637306, 0.003110244171693921, 0.0029063248075544834, 0.001010445412248373, 0.007135835476219654, 0.002488559577614069, 0.002663586288690567, 0.007814252749085426, 0.0029604930896312, 0.004697464406490326, 0.002512655220925808, 0.007027131039649248, 0.0025869079399853945, 0.0, 0.0, 0.0, 0.0, 0.0, 0.0, 0.0, 0.0, 0.0, 0.0, 0.0, 0.0, 0.0], [0.9257266521453857, 0.001239323173649609, 0.0012592863058671355, 0.000713453337084502, 0.0018385829171165824, 0.002907621208578348, 0.0024864012375473976, 0.002222334733232856, 0.005486155394464731, 0.012643725611269474, 0.008958368562161922, 0.004807889927178621, 0.009196724742650986, 0.0027767892461270094, 0.005963636562228203, 0.00246222410351038, 0.005436214618384838, 0.003874643472954631, 0.0, 0.0, 0.0, 0.0, 0.0, 0.0, 0.0, 0.0, 0.0, 0.0, 0.0, 0.0], [0.8822330236434937, 0.0022446096409112215, 0.002384538296610117, 0.003724333131685853, 0.012184548191726208, 0.004168880172073841, 0.005572643596678972, 0.0017941102851182222, 0.01407614629715681, 0.003845459781587124, 0.0038834288716316223, 0.012176684103906155, 0.0039489720948040485, 0.00646899314597249, 0.0032186389435082674, 0.011361213400959969, 0.0030433961655944586, 0.017619958147406578, 0.006050302181392908, 0.0, 0.0, 0.0, 0.0, 0.0, 0.0, 0.0, 0.0, 0.0, 0.0, 0.0], [0.8797839283943176, 0.0034725400619208813, 0.0015965794445946813, 0.0013305139727890491, 0.004266640171408653, 0.0022403786424547434, 0.003550457302480936, 0.003129516961053014, 0.0030506085604429245, 0.006703678518533707, 0.028556348755955696, 0.003131281118839979, 0.016848411411046982, 0.0018315727356821299, 0.010243398137390614, 0.001850578119046986, 0.007554790936410427, 0.0032206440810114145, 0.011332445777952671, 0.006305618677288294, 0.0, 0.0, 0.0, 0.0, 0.0, 0.0, 0.0, 0.0, 0.0, 0.0], [0.9018845558166504, 0.0014962615678086877, 0.002258587395772338, 0.0031660650856792927, 0.005656199064105749, 0.0023243234027177095, 0.0026191826909780502, 0.0007427467498928308, 0.008742745034396648, 0.0026602030266076326, 0.002390186535194516, 0.009591625072062016, 0.003080479335039854, 0.00661078654229641, 0.002622336847707629, 0.008564839139580727, 0.0023558742832392454, 0.00868048332631588, 0.0032443793024867773, 0.01857711374759674, 0.0027311346493661404, 0.0, 0.0, 0.0, 0.0, 0.0, 0.0, 0.0, 0.0, 0.0], [0.9253944158554077, 0.0038999964017421007, 0.0016156588681042194, 0.0021679429337382317, 0.006190816406160593, 0.002087723696604371, 0.0036979839205741882, 0.0026940659154206514, 0.0016288331244140863, 0.003006918355822563, 0.015442761592566967, 0.0007064843084663153, 0.007690791040658951, 0.00046828994527459145, 0.005562348756939173, 0.0004101012018509209, 0.0035614410880953074, 0.0012147693196311593, 0.0061007309705019, 0.0019119426142424345, 0.0035307814832776785, 0.0010151737369596958, 0.0, 0.0, 0.0, 0.0, 0.0, 0.0, 0.0, 0.0], [0.8729347586631775, 0.0023590880446135998, 0.003179226303473115, 0.004376158118247986, 0.010843819007277489, 0.004181697499006987, 0.003834151430055499, 0.001008015824481845, 0.011405624449253082, 0.003157418454065919, 0.0028941624332219362, 0.011301291175186634, 0.003152851015329361, 0.00694856746122241, 0.002732977969571948, 0.008397100493311882, 0.0024737699422985315, 0.008444380946457386, 0.003437842009589076, 0.01777699775993824, 0.0027144188061356544, 0.009400343522429466, 0.0030453004874289036, 0.0, 0.0, 0.0, 0.0, 0.0, 0.0, 0.0], [0.8798053860664368, 0.001938369357958436, 0.004060583189129829, 0.006808730307966471, 0.019771834835410118, 0.007296534720808268, 0.0038113524205982685, 0.0012828839244320989, 0.006995270028710365, 0.001498886733315885, 0.0036856280639767647, 0.006129169836640358, 0.003959023393690586, 0.0037886914797127247, 0.0030800241511315107, 0.005134825594723225, 0.0025802047457545996, 0.0052445619367063046, 0.004035459365695715, 0.006853283382952213, 0.0030299632344394922, 0.0030956242699176073, 0.002969364169985056, 0.013144419528543949, 0.0, 0.0, 0.0, 0.0, 0.0, 0.0], [0.9050583839416504, 0.003662091912701726, 0.003478111233562231, 0.0027259241323918104, 0.005303868092596531, 0.005555403884500265, 0.002378630917519331, 0.004268540069460869, 0.0019267386524006724, 0.0036324188113212585, 0.017549442127346992, 0.0009449220960959792, 0.010694758035242558, 0.0005949183832854033, 0.00646467600017786, 0.0004003298527095467, 0.004120916128158569, 0.0013286208268254995, 0.004523321986198425, 0.0013043961953371763, 0.0038814269937574863, 0.0006313756457529962, 0.003843358950689435, 0.00408334843814373, 0.0016439888859167695, 0.0, 0.0, 0.0, 0.0, 0.0], [0.8839969038963318, 0.010666433721780777, 0.008456154726445675, 0.008818711154162884, 0.03245742246508598, 0.012654617428779602, 0.004301039036363363, 0.0060493722558021545, 0.0006529386155307293, 0.00020706684153992683, 0.0013476526364684105, 0.0001240419951500371, 0.0010412661358714104, 7.9089128121268e-05, 0.001139099127613008, 8.884516137186438e-05, 0.0009883672464638948, 0.0004661360289901495, 0.0012112610274925828, 0.00019942995277233422, 0.0005360149662010372, 7.15429923729971e-05, 0.0005339356721378863, 0.0008084203582257032, 6.896842387504876e-05, 0.023035336285829544, 0.0, 0.0, 0.0, 0.0], [0.9718652367591858, 0.0010582072427496314, 0.0019641672261059284, 0.003360300324857235, 0.004650726914405823, 0.0020643293391913176, 0.0006173586589284241, 0.0041595459915697575, 0.0005277354503050447, 0.0004487225378397852, 0.001117531443014741, 8.248772792285308e-05, 0.00037239716039039195, 3.401324283913709e-05, 0.00041047020931728184, 3.428704076213762e-05, 0.0004029331321362406, 0.0001556848583277315, 0.00043811305658891797, 0.00011311461275909096, 0.0001361347531201318, 3.7938327295705676e-05, 0.00017109126201830804, 0.00041456992039456964, 3.464802648522891e-05, 0.004368893336504698, 0.0009593286667950451, 0.0, 0.0, 0.0], [0.9375687837600708, 0.0010072414297610521, 0.002320933388546109, 0.00577329657971859, 0.03157714381814003, 0.004968498833477497, 0.0010008421959355474, 0.0025081918574869633, 0.0019259818363934755, 0.0014179084682837129, 0.0002056598459603265, 0.0008101308485493064, 0.00019287185568828136, 0.0003259003860875964, 0.00017205512267537415, 0.0002552920486778021, 0.00017362117068842053, 0.0008734214934520423, 0.0002310997515451163, 0.0005653714761137962, 8.35137179819867e-05, 0.00029817532049492, 8.966551831690595e-05, 0.000289535237243399, 0.00022956058091949672, 0.0005263220518827438, 0.0005354047752916813, 0.004073582123965025, 0.0, 0.0], [0.8209453821182251, 0.0012164999498054385, 0.0020365742966532707, 0.0023857993073761463, 0.13492143154144287, 0.013778232969343662, 0.0036334770265966654, 0.0027090588118880987, 0.0013283805456012487, 0.000919216952752322, 0.00021512490638997406, 0.00023514767235610634, 0.00020270863024052233, 0.000125673454022035, 0.00016138007049448788, 0.00011809825082309544, 0.00021000151173211634, 0.00047658273251727223, 0.0003330731124151498, 0.00022566536790691316, 9.267092536902055e-05, 8.434203482465819e-05, 8.341859211213887e-05, 0.00022741315478924662, 0.00010831849067471921, 0.0010733742965385318, 0.001470184768550098, 0.004595210775732994, 0.0060874647460877895, 0.0], [0.9715740084648132, 0.0008855485357344151, 0.0014786595711484551, 0.000821178313344717, 0.00770139554515481, 0.0012217307230457664, 0.0005794524331577122, 0.001226684427820146, 0.0008842688403092325, 0.0011585175525397062, 0.0012914593098685145, 0.00025603960966691375, 0.0005800031358376145, 0.00011567042383830994, 0.0003939802700188011, 0.00011813925812020898, 0.00030526932096108794, 0.00043258987716399133, 0.00047370631364174187, 0.00032571362680755556, 0.000243322501773946, 0.000171210354892537, 0.0002448605082463473, 0.00033216370502486825, 0.0002572329540271312, 0.0009781374828889966, 0.00048322760267183185, 0.001793881761841476, 0.001172857591882348, 0.0024990281090140343]], [[1.0, 0.0, 0.0, 0.0, 0.0, 0.0, 0.0, 0.0, 0.0, 0.0, 0.0, 0.0, 0.0, 0.0, 0.0, 0.0, 0.0, 0.0, 0.0, 0.0, 0.0, 0.0, 0.0, 0.0, 0.0, 0.0, 0.0, 0.0, 0.0, 0.0], [0.941097617149353, 0.05890243873000145, 0.0, 0.0, 0.0, 0.0, 0.0, 0.0, 0.0, 0.0, 0.0, 0.0, 0.0, 0.0, 0.0, 0.0, 0.0, 0.0, 0.0, 0.0, 0.0, 0.0, 0.0, 0.0, 0.0, 0.0, 0.0, 0.0, 0.0, 0.0], [0.8991371393203735, 0.043278973549604416, 0.057583943009376526, 0.0, 0.0, 0.0, 0.0, 0.0, 0.0, 0.0, 0.0, 0.0, 0.0, 0.0, 0.0, 0.0, 0.0, 0.0, 0.0, 0.0, 0.0, 0.0, 0.0, 0.0, 0.0, 0.0, 0.0, 0.0, 0.0, 0.0], [0.8813995122909546, 0.021729696542024612, 0.07202833145856857, 0.024842478334903717, 0.0, 0.0, 0.0, 0.0, 0.0, 0.0, 0.0, 0.0, 0.0, 0.0, 0.0, 0.0, 0.0, 0.0, 0.0, 0.0, 0.0, 0.0, 0.0, 0.0, 0.0, 0.0, 0.0, 0.0, 0.0, 0.0], [0.9320893287658691, 0.01442769356071949, 0.02418729104101658, 0.00807061418890953, 0.021225079894065857, 0.0, 0.0, 0.0, 0.0, 0.0, 0.0, 0.0, 0.0, 0.0, 0.0, 0.0, 0.0, 0.0, 0.0, 0.0, 0.0, 0.0, 0.0, 0.0, 0.0, 0.0, 0.0, 0.0, 0.0, 0.0], [0.6653383374214172, 0.020916471257805824, 0.14101073145866394, 0.03388107195496559, 0.05473191291093826, 0.0841214507818222, 0.0, 0.0, 0.0, 0.0, 0.0, 0.0, 0.0, 0.0, 0.0, 0.0, 0.0, 0.0, 0.0, 0.0, 0.0, 0.0, 0.0, 0.0, 0.0, 0.0, 0.0, 0.0, 0.0, 0.0], [0.8298586010932922, 0.01309547945857048, 0.0382663756608963, 0.012291468679904938, 0.022809473797678947, 0.024608034640550613, 0.05907063186168671, 0.0, 0.0, 0.0, 0.0, 0.0, 0.0, 0.0, 0.0, 0.0, 0.0, 0.0, 0.0, 0.0, 0.0, 0.0, 0.0, 0.0, 0.0, 0.0, 0.0, 0.0, 0.0, 0.0], [0.8062654733657837, 0.012342957779765129, 0.02743346244096756, 0.003924188669770956, 0.04119725525379181, 0.03335464745759964, 0.06288312375545502, 0.012598775327205658, 0.0, 0.0, 0.0, 0.0, 0.0, 0.0, 0.0, 0.0, 0.0, 0.0, 0.0, 0.0, 0.0, 0.0, 0.0, 0.0, 0.0, 0.0, 0.0, 0.0, 0.0, 0.0], [0.8920140266418457, 0.0029113776981830597, 0.016911758109927177, 0.0018867069156840444, 0.011943907476961613, 0.009594508446753025, 0.018015364184975624, 0.012378023006021976, 0.034344300627708435, 0.0, 0.0, 0.0, 0.0, 0.0, 0.0, 0.0, 0.0, 0.0, 0.0, 0.0, 0.0, 0.0, 0.0, 0.0, 0.0, 0.0, 0.0, 0.0, 0.0, 0.0], [0.886915385723114, 0.002416125498712063, 0.023766763508319855, 0.005185576155781746, 0.009711715392768383, 0.011640340089797974, 0.012796329334378242, 0.013358532451093197, 0.015433724038302898, 0.018775558099150658, 0.0, 0.0, 0.0, 0.0, 0.0, 0.0, 0.0, 0.0, 0.0, 0.0, 0.0, 0.0, 0.0, 0.0, 0.0, 0.0, 0.0, 0.0, 0.0, 0.0], [0.4482145607471466, 0.0032336588483303785, 0.05417139455676079, 0.00734493974596262, 0.021193286404013634, 0.050579532980918884, 0.07318496704101562, 0.014322028495371342, 0.1416783481836319, 0.17596745491027832, 0.010109955444931984, 0.0, 0.0, 0.0, 0.0, 0.0, 0.0, 0.0, 0.0, 0.0, 0.0, 0.0, 0.0, 0.0, 0.0, 0.0, 0.0, 0.0, 0.0, 0.0], [0.8761690258979797, 0.002045827219262719, 0.03749246895313263, 0.004366944544017315, 0.0059812418185174465, 0.011935653164982796, 0.017068954184651375, 0.0055548204109072685, 0.014766743406653404, 0.009426143020391464, 0.0035762391053140163, 0.011615853756666183, 0.0, 0.0, 0.0, 0.0, 0.0, 0.0, 0.0, 0.0, 0.0, 0.0, 0.0, 0.0, 0.0, 0.0, 0.0, 0.0, 0.0, 0.0], [0.5966411828994751, 0.002391330897808075, 0.04944850131869316, 0.010207321494817734, 0.014512608759105206, 0.023426786065101624, 0.09724418073892593, 0.011462626978754997, 0.026614036411046982, 0.06086895614862442, 0.005366199649870396, 0.09307598322629929, 0.008740299381315708, 0.0, 0.0, 0.0, 0.0, 0.0, 0.0, 0.0, 0.0, 0.0, 0.0, 0.0, 0.0, 0.0, 0.0, 0.0, 0.0, 0.0], [0.9142449498176575, 0.0018590617692098022, 0.014642775990068913, 0.00316717685200274, 0.0038163408171385527, 0.007574276998639107, 0.005925973877310753, 0.0021334460470825434, 0.01089137140661478, 0.009678213857114315, 0.0016888001700863242, 0.01034543663263321, 0.0022990978322923183, 0.011733082123100758, 0.0, 0.0, 0.0, 0.0, 0.0, 0.0, 0.0, 0.0, 0.0, 0.0, 0.0, 0.0, 0.0, 0.0, 0.0, 0.0], [0.7522273659706116, 0.0027227920945733786, 0.02446347288787365, 0.007820777595043182, 0.01108508463948965, 0.015359152108430862, 0.03839915245771408, 0.008765139617025852, 0.012245586141943932, 0.0384485125541687, 0.003974619321525097, 0.0315527580678463, 0.00505383824929595, 0.04083619266748428, 0.007045581005513668, 0.0, 0.0, 0.0, 0.0, 0.0, 0.0, 0.0, 0.0, 0.0, 0.0, 0.0, 0.0, 0.0, 0.0, 0.0], [0.8895014524459839, 0.0020076725631952286, 0.012593291699886322, 0.0017472762847319245, 0.0024184747599065304, 0.007701429538428783, 0.008692596107721329, 0.001549764652736485, 0.015208166092634201, 0.010934671387076378, 0.0011784466914832592, 0.009724244475364685, 0.0027026801835745573, 0.01214479748159647, 0.004306575283408165, 0.017588526010513306, 0.0, 0.0, 0.0, 0.0, 0.0, 0.0, 0.0, 0.0, 0.0, 0.0, 0.0, 0.0, 0.0, 0.0], [0.8097203969955444, 0.0024545546621084213, 0.01254198420792818, 0.005590377375483513, 0.011826153844594955, 0.01648006960749626, 0.029108334332704544, 0.006118797231465578, 0.00668174447491765, 0.01833607815206051, 0.0024648394901305437, 0.010009359568357468, 0.003458281047642231, 0.016577905043959618, 0.005766460206359625, 0.031525734812021255, 0.011338921263813972, 0.0, 0.0, 0.0, 0.0, 0.0, 0.0, 0.0, 0.0, 0.0, 0.0, 0.0, 0.0, 0.0], [0.7705790400505066, 0.003931560553610325, 0.006868389900773764, 0.002999129705131054, 0.0035202442668378353, 0.006858411710709333, 0.015799345448613167, 0.004406216088682413, 0.008589209988713264, 0.007841266691684723, 0.0033357383217662573, 0.008012249134480953, 0.008747165091335773, 0.008335438556969166, 0.013194768689572811, 0.017206188291311264, 0.016535697504878044, 0.09324006736278534, 0.0, 0.0, 0.0, 0.0, 0.0, 0.0, 0.0, 0.0, 0.0, 0.0, 0.0, 0.0], [0.7572267651557922, 0.005170110613107681, 0.020786792039871216, 0.015429962426424026, 0.025736134499311447, 0.017745302990078926, 0.027388084679841995, 0.009302938356995583, 0.007066675927489996, 0.00992102362215519, 0.0042611840181052685, 0.005868886597454548, 0.004726647399365902, 0.007813322357833385, 0.007450850680470467, 0.015010029077529907, 0.012084453366696835, 0.025858325883746147, 0.021152492612600327, 0.0, 0.0, 0.0, 0.0, 0.0, 0.0, 0.0, 0.0, 0.0, 0.0, 0.0], [0.9188250303268433, 0.0011256386060267687, 0.003364001866430044, 0.0009654752211645246, 0.0023040613159537315, 0.004049656447023153, 0.00801005307585001, 0.0019717400427907705, 0.005397340282797813, 0.0028644222766160965, 0.0008106842869892716, 0.0017888210713863373, 0.0013286734465509653, 0.002645456464961171, 0.002141358098015189, 0.0044721802696585655, 0.002737894421443343, 0.010915766470134258, 0.0031880366150289774, 0.02109377272427082, 0.0, 0.0, 0.0, 0.0, 0.0, 0.0, 0.0, 0.0, 0.0, 0.0], [0.7472522854804993, 0.002725418424233794, 0.010926580987870693, 0.007731793448328972, 0.008915030397474766, 0.009806987829506397, 0.023753685876727104, 0.006062362343072891, 0.005740801803767681, 0.011665254831314087, 0.0026844749227166176, 0.00662172120064497, 0.0033313273452222347, 0.008611368015408516, 0.005114259663969278, 0.018832126632332802, 0.008930730633437634, 0.025596043094992638, 0.010972605086863041, 0.06789375096559525, 0.00683140242472291, 0.0, 0.0, 0.0, 0.0, 0.0, 0.0, 0.0, 0.0, 0.0], [0.9495192766189575, 0.000999926240183413, 0.006434607319533825, 0.0014803668018430471, 0.003021362703293562, 0.0041732038371264935, 0.005018381401896477, 0.0012690754374489188, 0.0025633242912590504, 0.0027899499982595444, 0.0005713028949685395, 0.001017148606479168, 0.0005550571368075907, 0.0018805026775225997, 0.0009544407366774976, 0.002498903078958392, 0.001177539466880262, 0.0038232009392231703, 0.000979346688836813, 0.005390244070440531, 0.0006201239302754402, 0.003262674668803811, 0.0, 0.0, 0.0, 0.0, 0.0, 0.0, 0.0, 0.0], [0.7124506831169128, 0.0017816202016547322, 0.01920577511191368, 0.008615290746092796, 0.01116093434393406, 0.014601225964725018, 0.03969627618789673, 0.007687560748308897, 0.008117638528347015, 0.016689592972397804, 0.0028609195724129677, 0.008393791504204273, 0.002991498913615942, 0.008395264856517315, 0.004093343857675791, 0.020244283601641655, 0.0072338576428592205, 0.02125660516321659, 0.007749577052891254, 0.05504936724901199, 0.004533312749117613, 0.012919670902192593, 0.004271737299859524, 0.0, 0.0, 0.0, 0.0, 0.0, 0.0, 0.0], [0.5904055833816528, 0.002712432062253356, 0.019945459440350533, 0.007287244778126478, 0.018115291371941566, 0.017445877194404602, 0.049665823578834534, 0.007862549275159836, 0.011082223616540432, 0.02276778593659401, 0.0036568711511790752, 0.008865758776664734, 0.003958219662308693, 0.010842722840607166, 0.005749824456870556, 0.026468049734830856, 0.01042078621685505, 0.03829779848456383, 0.010534035041928291, 0.08021927624940872, 0.0070695593021810055, 0.01683000847697258, 0.00707146106287837, 0.02272520773112774, 0.0, 0.0, 0.0, 0.0, 0.0, 0.0], [0.930195689201355, 0.0009756629588082433, 0.01356467790901661, 0.0028816859703511, 0.0023246165364980698, 0.0034835082478821278, 0.005397928413003683, 0.004412422422319651, 0.004495254252105951, 0.00360569404438138, 0.0008222067262977362, 0.0015096240676939487, 0.0006784108700230718, 0.0018636719323694706, 0.0007686287863180041, 0.001819913275539875, 0.0009409073390997946, 0.0029103606939315796, 0.0011436883360147476, 0.005653013940900564, 0.00055139628238976, 0.003348183585330844, 0.0005603979807347059, 0.00305149401538074, 0.003040971467271447, 0.0, 0.0, 0.0, 0.0, 0.0], [0.4981091320514679, 0.005187345203012228, 0.016221873462200165, 0.005177877843379974, 0.02306298166513443, 0.028899487107992172, 0.08180753141641617, 0.010456159710884094, 0.012814503163099289, 0.03012511506676674, 0.014574973843991756, 0.02164587564766407, 0.03219008818268776, 0.015257779508829117, 0.02482077106833458, 0.007928418926894665, 0.013264591805636883, 0.027112066745758057, 0.018048929050564766, 0.026594121009111404, 0.009521258994936943, 0.014424445107579231, 0.010755104944109917, 0.025530176237225533, 0.016769081354141235, 0.009700293652713299, 0.0, 0.0, 0.0, 0.0], [0.8167120814323425, 0.004339183680713177, 0.003658896777778864, 0.00198182906024158, 0.008559627458453178, 0.0061812992207705975, 0.00897268857806921, 0.004033656790852547, 0.00391962518915534, 0.03320295736193657, 0.005495423451066017, 0.013672214932739735, 0.0060239434242248535, 0.014228015206754208, 0.00405735382810235, 0.006269106641411781, 0.002960572252050042, 0.01235585194081068, 0.0021949128713458776, 0.008949452079832554, 0.0012530072126537561, 0.005964793264865875, 0.0013081749202683568, 0.004480602219700813, 0.006920156069099903, 0.0034893862903118134, 0.008815166540443897, 0.0, 0.0, 0.0], [0.1955968141555786, 0.0037081087939441204, 0.010555611923336983, 0.0006292706821113825, 0.018620934337377548, 0.010908152908086777, 0.03204941749572754, 0.003398280590772629, 0.02894013747572899, 0.10893020033836365, 0.005375810898840427, 0.14947497844696045, 0.012864877469837666, 0.04643891751766205, 0.008020001463592052, 0.060004740953445435, 0.008617577143013477, 0.07959040999412537, 0.007657179143279791, 0.07504750788211823, 0.003852137830108404, 0.020590005442500114, 0.003953414969146252, 0.004535239655524492, 0.03740355744957924, 0.004568309523165226, 0.048455528914928436, 0.010212907567620277, 0.0, 0.0], [0.30188533663749695, 0.004087247420102358, 0.013894451782107353, 0.0016922253416851163, 0.021631257608532906, 0.010030306875705719, 0.025825297459959984, 0.005511832889169455, 0.024760495871305466, 0.07710213959217072, 0.01480693370103836, 0.0814390555024147, 0.02570509724318981, 0.03240733966231346, 0.015537559986114502, 0.04116223007440567, 0.017254510894417763, 0.0431913286447525, 0.014120916835963726, 0.06637061387300491, 0.00852773617953062, 0.0182613804936409, 0.008235863409936428, 0.011955485679209232, 0.037919171154499054, 0.0062491269782185555, 0.04980490729212761, 0.015637196600437164, 0.004992976784706116, 0.0], [0.7943370938301086, 0.0023489065933972597, 0.00514284847304225, 0.0008716426091268659, 0.006601222790777683, 0.0033667469397187233, 0.005712426267564297, 0.00357123208232224, 0.006716129835695028, 0.02293831668794155, 0.0026375127490609884, 0.013856819830834866, 0.0019375775009393692, 0.00912412814795971, 0.0012029201025143266, 0.009294768795371056, 0.0013701384887099266, 0.01546463742852211, 0.0020378618501126766, 0.009881160221993923, 0.0007258795667439699, 0.005009548272937536, 0.0006819618865847588, 0.0011917016236111522, 0.008246390148997307, 0.0017577490070834756, 0.008341512642800808, 0.0029415187891572714, 0.0011844908585771918, 0.05150512233376503]], [[1.0, 0.0, 0.0, 0.0, 0.0, 0.0, 0.0, 0.0, 0.0, 0.0, 0.0, 0.0, 0.0, 0.0, 0.0, 0.0, 0.0, 0.0, 0.0, 0.0, 0.0, 0.0, 0.0, 0.0, 0.0, 0.0, 0.0, 0.0, 0.0, 0.0], [0.9406137466430664, 0.05938628688454628, 0.0, 0.0, 0.0, 0.0, 0.0, 0.0, 0.0, 0.0, 0.0, 0.0, 0.0, 0.0, 0.0, 0.0, 0.0, 0.0, 0.0, 0.0, 0.0, 0.0, 0.0, 0.0, 0.0, 0.0, 0.0, 0.0, 0.0, 0.0], [0.550392746925354, 0.295667439699173, 0.15393982827663422, 0.0, 0.0, 0.0, 0.0, 0.0, 0.0, 0.0, 0.0, 0.0, 0.0, 0.0, 0.0, 0.0, 0.0, 0.0, 0.0, 0.0, 0.0, 0.0, 0.0, 0.0, 0.0, 0.0, 0.0, 0.0, 0.0, 0.0], [0.23784686625003815, 0.13285280764102936, 0.5966941714286804, 0.03260616213083267, 0.0, 0.0, 0.0, 0.0, 0.0, 0.0, 0.0, 0.0, 0.0, 0.0, 0.0, 0.0, 0.0, 0.0, 0.0, 0.0, 0.0, 0.0, 0.0, 0.0, 0.0, 0.0, 0.0, 0.0, 0.0, 0.0], [0.40663662552833557, 0.024944646283984184, 0.2752341628074646, 0.26322507858276367, 0.029959524050354958, 0.0, 0.0, 0.0, 0.0, 0.0, 0.0, 0.0, 0.0, 0.0, 0.0, 0.0, 0.0, 0.0, 0.0, 0.0, 0.0, 0.0, 0.0, 0.0, 0.0, 0.0, 0.0, 0.0, 0.0, 0.0], [0.42079630494117737, 0.031522128731012344, 0.2346392571926117, 0.19279944896697998, 0.03934767097234726, 0.08089521527290344, 0.0, 0.0, 0.0, 0.0, 0.0, 0.0, 0.0, 0.0, 0.0, 0.0, 0.0, 0.0, 0.0, 0.0, 0.0, 0.0, 0.0, 0.0, 0.0, 0.0, 0.0, 0.0, 0.0, 0.0], [0.40040698647499084, 0.03729265183210373, 0.08997795730829239, 0.1044497936964035, 0.061650123447179794, 0.23679938912391663, 0.06942310929298401, 0.0, 0.0, 0.0, 0.0, 0.0, 0.0, 0.0, 0.0, 0.0, 0.0, 0.0, 0.0, 0.0, 0.0, 0.0, 0.0, 0.0, 0.0, 0.0, 0.0, 0.0, 0.0, 0.0], [0.4628062844276428, 0.01680058054625988, 0.030250059440732002, 0.028559045866131783, 0.057364918291568756, 0.12615714967250824, 0.18951895833015442, 0.08854303508996964, 0.0, 0.0, 0.0, 0.0, 0.0, 0.0, 0.0, 0.0, 0.0, 0.0, 0.0, 0.0, 0.0, 0.0, 0.0, 0.0, 0.0, 0.0, 0.0, 0.0, 0.0, 0.0], [0.21420159935951233, 0.002839609980583191, 0.014308744110167027, 0.005158020183444023, 0.0038474006578326225, 0.005998658016324043, 0.017970623448491096, 0.6377581357955933, 0.09791721403598785, 0.0, 0.0, 0.0, 0.0, 0.0, 0.0, 0.0, 0.0, 0.0, 0.0, 0.0, 0.0, 0.0, 0.0, 0.0, 0.0, 0.0, 0.0, 0.0, 0.0, 0.0], [0.08981573581695557, 0.0015789602184668183, 0.004266645759344101, 0.0009323780541308224, 0.0014793790178373456, 0.005110525526106358, 0.0036053285002708435, 0.6920811533927917, 0.15099582076072693, 0.050134025514125824, 0.0, 0.0, 0.0, 0.0, 0.0, 0.0, 0.0, 0.0, 0.0, 0.0, 0.0, 0.0, 0.0, 0.0, 0.0, 0.0, 0.0, 0.0, 0.0, 0.0], [0.14209726452827454, 0.001659224508330226, 0.006452776025980711, 0.0013647127198055387, 0.001597071997821331, 0.00276674865745008, 0.011044439859688282, 0.3140784800052643, 0.07222574204206467, 0.36298251152038574, 0.08373108506202698, 0.0, 0.0, 0.0, 0.0, 0.0, 0.0, 0.0, 0.0, 0.0, 0.0, 0.0, 0.0, 0.0, 0.0, 0.0, 0.0, 0.0, 0.0, 0.0], [0.1955813467502594, 0.0020940639078617096, 0.006638310384005308, 0.003411104204133153, 0.0021622516214847565, 0.0018957825377583504, 0.003676297375932336, 0.34451866149902344, 0.02473563700914383, 0.033779457211494446, 0.33798402547836304, 0.04352310299873352, 0.0, 0.0, 0.0, 0.0, 0.0, 0.0, 0.0, 0.0, 0.0, 0.0, 0.0, 0.0, 0.0, 0.0, 0.0, 0.0, 0.0, 0.0], [0.09947062283754349, 0.001374684157781303, 0.007619626820087433, 0.002525707706809044, 0.0012015298707410693, 0.00433452008292079, 0.00802057608962059, 0.16925856471061707, 0.05759122595191002, 0.13739898800849915, 0.12384229153394699, 0.2793983221054077, 0.10796335339546204, 0.0, 0.0, 0.0, 0.0, 0.0, 0.0, 0.0, 0.0, 0.0, 0.0, 0.0, 0.0, 0.0, 0.0, 0.0, 0.0, 0.0], [0.17654262483119965, 0.002505447017028928, 0.008177624084055424, 0.0026712205726653337, 0.0020593951921910048, 0.002716887043789029, 0.003857784904539585, 0.428983211517334, 0.022900069132447243, 0.01674102433025837, 0.11146697402000427, 0.037408068776130676, 0.135442852973938, 0.04852677881717682, 0.0, 0.0, 0.0, 0.0, 0.0, 0.0, 0.0, 0.0, 0.0, 0.0, 0.0, 0.0, 0.0, 0.0, 0.0, 0.0], [0.10661978274583817, 0.0016518204938620329, 0.006919399835169315, 0.002173355082049966, 0.0010533921886235476, 0.0031053030397742987, 0.007414272055029869, 0.11530327051877975, 0.032576434314250946, 0.07701931148767471, 0.06967678666114807, 0.17858906090259552, 0.06444992125034332, 0.24844945967197418, 0.08499851077795029, 0.0, 0.0, 0.0, 0.0, 0.0, 0.0, 0.0, 0.0, 0.0, 0.0, 0.0, 0.0, 0.0, 0.0, 0.0], [0.23562510311603546, 0.00309923617169261, 0.005377586930990219, 0.0017566089518368244, 0.0010860946495085955, 0.0008431907626800239, 0.002972944872453809, 0.44779646396636963, 0.006764346268028021, 0.008140786550939083, 0.0747317373752594, 0.015323339030146599, 0.06218254193663597, 0.027622131630778313, 0.08559800684452057, 0.02107984945178032, 0.0, 0.0, 0.0, 0.0, 0.0, 0.0, 0.0, 0.0, 0.0, 0.0, 0.0, 0.0, 0.0, 0.0], [0.07395565509796143, 0.0011780799832195044, 0.0055884551256895065, 0.002521866001188755, 0.001024483353830874, 0.0027535625267773867, 0.006539068650454283, 0.08729443699121475, 0.025146692991256714, 0.050145961344242096, 0.06107039749622345, 0.1358020156621933, 0.056614574044942856, 0.1610598862171173, 0.07312936335802078, 0.1917574405670166, 0.06441806256771088, 0.0, 0.0, 0.0, 0.0, 0.0, 0.0, 0.0, 0.0, 0.0, 0.0, 0.0, 0.0, 0.0], [0.2831714153289795, 0.0027158039156347513, 0.005734686274081469, 0.0030554148834198713, 0.0017696669092401862, 0.003139458131045103, 0.005884225480258465, 0.18083703517913818, 0.017683865502476692, 0.013537190854549408, 0.05765080451965332, 0.026721416041254997, 0.06685125827789307, 0.04983116686344147, 0.09494343400001526, 0.039728645235300064, 0.115285724401474, 0.031458720564842224, 0.0, 0.0, 0.0, 0.0, 0.0, 0.0, 0.0, 0.0, 0.0, 0.0, 0.0, 0.0], [0.06990187615156174, 0.0010046494426205754, 0.007176983170211315, 0.002164407866075635, 0.001038581831380725, 0.003372018923982978, 0.0059118568897247314, 0.0773097425699234, 0.034389302134513855, 0.04544806480407715, 0.06266505271196365, 0.10449852794408798, 0.050352051854133606, 0.12593615055084229, 0.05837727710604668, 0.1065409854054451, 0.050750769674777985, 0.1308048963546753, 0.06235674023628235, 0.0, 0.0, 0.0, 0.0, 0.0, 0.0, 0.0, 0.0, 0.0, 0.0, 0.0], [0.26406070590019226, 0.001733805751428008, 0.004031182732433081, 0.0010084451641887426, 0.0008247520308941603, 0.0005820974474772811, 0.003424501046538353, 0.4525545835494995, 0.004101648926734924, 0.006269938312470913, 0.042964011430740356, 0.006541368551552296, 0.025579392910003662, 0.012619494460523129, 0.03203679993748665, 0.012695861980319023, 0.03363076224923134, 0.015081965364515781, 0.06635463237762451, 0.013904119841754436, 0.0, 0.0, 0.0, 0.0, 0.0, 0.0, 0.0, 0.0, 0.0, 0.0], [0.08191226422786713, 0.0008333824807778001, 0.004299086518585682, 0.0013834646670147777, 0.0004873398575000465, 0.002062598243355751, 0.0030378722585737705, 0.051820892840623856, 0.016813430935144424, 0.02807047590613365, 0.04056601971387863, 0.06373005360364914, 0.037277646362781525, 0.08649048954248428, 0.04728944972157478, 0.07469715178012848, 0.03978299722075462, 0.07218974828720093, 0.055488839745521545, 0.22932931780815125, 0.0624375119805336, 0.0, 0.0, 0.0, 0.0, 0.0, 0.0, 0.0, 0.0, 0.0], [0.3177950978279114, 0.0053024617955088615, 0.008622067049145699, 0.0018883426673710346, 0.0007762735476717353, 0.0006203419761732221, 0.0038373672869056463, 0.3968299925327301, 0.00402539549395442, 0.003279175143688917, 0.030124304816126823, 0.004661505576223135, 0.022635944187641144, 0.007326834835112095, 0.028049781918525696, 0.0052040680311620235, 0.029789196327328682, 0.006160805933177471, 0.052919112145900726, 0.013068373315036297, 0.04248301312327385, 0.014600592665374279, 0.0, 0.0, 0.0, 0.0, 0.0, 0.0, 0.0, 0.0], [0.08863423019647598, 0.0007303471793420613, 0.003937535919249058, 0.0014885945711284876, 0.0004312775272410363, 0.0015280793886631727, 0.002882089465856552, 0.04647275432944298, 0.013518941588699818, 0.0211100485175848, 0.037124186754226685, 0.04343847557902336, 0.029556047171354294, 0.061110012233257294, 0.03873317688703537, 0.05296505615115166, 0.03047618642449379, 0.05508749559521675, 0.040436506271362305, 0.14217841625213623, 0.04913328215479851, 0.179229274392128, 0.05979790538549423, 0.0, 0.0, 0.0, 0.0, 0.0, 0.0, 0.0], [0.10418399423360825, 0.0014235146809369326, 0.008352193981409073, 0.004256672691553831, 0.0010130043374374509, 0.004168419633060694, 0.008893359452486038, 0.026679374277591705, 0.007618195377290249, 0.00998050719499588, 0.016780002042651176, 0.03958463668823242, 0.03568631783127785, 0.04019157588481903, 0.05297757312655449, 0.03987736627459526, 0.05088813602924347, 0.03642380237579346, 0.06495842337608337, 0.09592224657535553, 0.09100189059972763, 0.10861475020647049, 0.11255211383104324, 0.03797188028693199, 0.0, 0.0, 0.0, 0.0, 0.0, 0.0], [0.2491884082555771, 0.00433009397238493, 0.008875836618244648, 0.002734632231295109, 0.0011412347666919231, 0.0019596500787883997, 0.006327097769826651, 0.4605698883533478, 0.005334855522960424, 0.006253131665289402, 0.014452400617301464, 0.0071587394922971725, 0.015391631051898003, 0.00958338100463152, 0.015527299605309963, 0.007018235046416521, 0.01649544946849346, 0.010319591499865055, 0.025719502940773964, 0.010312911123037338, 0.023776689544320107, 0.012458985671401024, 0.027054013684391975, 0.049652278423309326, 0.008364136330783367, 0.0, 0.0, 0.0, 0.0, 0.0], [0.7073073983192444, 0.04543681815266609, 0.024032000452280045, 0.017672359943389893, 0.01415270660072565, 0.011663240380585194, 0.04950958117842674, 0.0017485602293163538, 0.0001517964556114748, 0.001350381295196712, 0.0003484766057226807, 0.0008139563142322004, 0.00012208885164000094, 0.0002456915972288698, 9.915696136886254e-05, 0.0003454018442425877, 6.582877540495247e-05, 0.0005070565384812653, 7.266741886269301e-05, 0.0007616388029418886, 0.0001147506118286401, 0.0003456170088611543, 0.0001272181107196957, 0.00025965896202251315, 0.00028207010473124683, 0.12246370315551758, 0.0, 0.0, 0.0, 0.0], [0.43415576219558716, 0.010879929177463055, 0.009194247424602509, 0.006305685266852379, 0.003991163335740566, 0.003914523404091597, 0.021122846752405167, 0.002735873218625784, 0.0002312135329702869, 0.000849791569635272, 0.000837012252304703, 0.00048088011681102216, 0.0003386705357115716, 0.00043544216896407306, 0.0003647223929874599, 0.0006390768685378134, 0.00032625385210849345, 0.0004925912362523377, 0.0005495446384884417, 0.0009100927854888141, 0.0004806313954759389, 0.0006368713220581412, 0.000563492183573544, 0.0005490420153364539, 0.001104930997826159, 0.392520546913147, 0.10538917779922485, 0.0, 0.0, 0.0], [0.19637461006641388, 0.017867373302578926, 0.031628478318452835, 0.0035717247519642115, 0.002380174584686756, 0.001965393079444766, 0.03751728683710098, 0.0009646544931456447, 0.00044293602695688605, 0.0022743723820894957, 0.000603499065618962, 0.0010376161662861705, 0.00033703388180583715, 0.0007559697842225432, 0.0003132536367047578, 0.0006375545053742826, 0.00016939605120569468, 0.0011364922393113375, 0.00022005647770129144, 0.0013034906005486846, 0.0003493074036668986, 0.0009580539190210402, 0.0003123360511381179, 0.00039071281207725406, 0.00103334232699126, 0.38743430376052856, 0.19884441792964935, 0.10917618870735168, 0.0, 0.0], [0.1907457709312439, 0.005272200331091881, 0.011008192785084248, 0.0009630974382162094, 0.0009667600388638675, 0.0010030486155301332, 0.009984435513615608, 0.0006723622791469097, 0.00033298111520707607, 0.0016107051633298397, 0.0011999449925497174, 0.000693618378136307, 0.0009547449299134314, 0.0006307464791461825, 0.0011359165655449033, 0.000574468809645623, 0.0008194666588678956, 0.0012443300802260637, 0.0012116339057683945, 0.0019665455911308527, 0.0014557309914380312, 0.0013049282133579254, 0.0015679572243243456, 0.002140347147360444, 0.0016809793887659907, 0.23455968499183655, 0.11571311950683594, 0.3834534287452698, 0.025132862851023674, 0.0], [0.55940842628479, 0.0013367600040510297, 0.0011607006890699267, 0.0016515599563717842, 0.00021591635595541447, 0.0002852665784303099, 0.0010526521364226937, 0.001321079209446907, 0.00014977483078837395, 0.00021645671222358942, 0.000283919827779755, 0.0001616000954527408, 0.0002613482647575438, 0.00013466777454596013, 0.00038459236384369433, 0.00013792472600471228, 0.0003705886483658105, 0.00041002652142196894, 0.0006885087350383401, 0.0004225323209539056, 0.0006273001781664789, 0.0005567225744016469, 0.0007874303264543414, 0.0015261552762240171, 0.000670728855766356, 0.045076075941324234, 0.03625046834349632, 0.12500664591789246, 0.14162252843379974, 0.07782161980867386]], [[1.0, 0.0, 0.0, 0.0, 0.0, 0.0, 0.0, 0.0, 0.0, 0.0, 0.0, 0.0, 0.0, 0.0, 0.0, 0.0, 0.0, 0.0, 0.0, 0.0, 0.0, 0.0, 0.0, 0.0, 0.0, 0.0, 0.0, 0.0, 0.0, 0.0], [0.9861602187156677, 0.013839788734912872, 0.0, 0.0, 0.0, 0.0, 0.0, 0.0, 0.0, 0.0, 0.0, 0.0, 0.0, 0.0, 0.0, 0.0, 0.0, 0.0, 0.0, 0.0, 0.0, 0.0, 0.0, 0.0, 0.0, 0.0, 0.0, 0.0, 0.0, 0.0], [0.977948009967804, 0.0014675648417323828, 0.020584527403116226, 0.0, 0.0, 0.0, 0.0, 0.0, 0.0, 0.0, 0.0, 0.0, 0.0, 0.0, 0.0, 0.0, 0.0, 0.0, 0.0, 0.0, 0.0, 0.0, 0.0, 0.0, 0.0, 0.0, 0.0, 0.0, 0.0, 0.0], [0.9843267798423767, 0.0007567595457658172, 0.012848984450101852, 0.002067481866106391, 0.0, 0.0, 0.0, 0.0, 0.0, 0.0, 0.0, 0.0, 0.0, 0.0, 0.0, 0.0, 0.0, 0.0, 0.0, 0.0, 0.0, 0.0, 0.0, 0.0, 0.0, 0.0, 0.0, 0.0, 0.0, 0.0], [0.9757189154624939, 0.0022670517209917307, 0.007148420438170433, 0.004002085886895657, 0.010863433592021465, 0.0, 0.0, 0.0, 0.0, 0.0, 0.0, 0.0, 0.0, 0.0, 0.0, 0.0, 0.0, 0.0, 0.0, 0.0, 0.0, 0.0, 0.0, 0.0, 0.0, 0.0, 0.0, 0.0, 0.0, 0.0], [0.9799712896347046, 0.0005749923293478787, 0.002188152866438031, 0.0012889269273728132, 0.0007739368011243641, 0.015202631242573261, 0.0, 0.0, 0.0, 0.0, 0.0, 0.0, 0.0, 0.0, 0.0, 0.0, 0.0, 0.0, 0.0, 0.0, 0.0, 0.0, 0.0, 0.0, 0.0, 0.0, 0.0, 0.0, 0.0, 0.0], [0.9576255083084106, 0.003418418811634183, 0.00710330018773675, 0.005030213855206966, 0.004568120464682579, 0.007278410717844963, 0.014976018108427525, 0.0, 0.0, 0.0, 0.0, 0.0, 0.0, 0.0, 0.0, 0.0, 0.0, 0.0, 0.0, 0.0, 0.0, 0.0, 0.0, 0.0, 0.0, 0.0, 0.0, 0.0, 0.0, 0.0], [0.9491481184959412, 0.003619057359173894, 0.005596519447863102, 0.0026731768157333136, 0.0028896823059767485, 0.01500074751675129, 0.013388605788350105, 0.007684122771024704, 0.0, 0.0, 0.0, 0.0, 0.0, 0.0, 0.0, 0.0, 0.0, 0.0, 0.0, 0.0, 0.0, 0.0, 0.0, 0.0, 0.0, 0.0, 0.0, 0.0, 0.0, 0.0], [0.9762478470802307, 0.0009466771152801812, 0.0020549900364130735, 0.0011048181913793087, 0.001097183208912611, 0.0027033595833927393, 0.0076827495358884335, 0.003234553849324584, 0.0049277241341769695, 0.0, 0.0, 0.0, 0.0, 0.0, 0.0, 0.0, 0.0, 0.0, 0.0, 0.0, 0.0, 0.0, 0.0, 0.0, 0.0, 0.0, 0.0, 0.0, 0.0, 0.0], [0.9676324725151062, 0.001350990729406476, 0.0016985142137855291, 0.0013414036948233843, 0.0014619238208979368, 0.0017146918689832091, 0.001246269908733666, 0.012497351504862309, 0.003848282154649496, 0.007208049297332764, 0.0, 0.0, 0.0, 0.0, 0.0, 0.0, 0.0, 0.0, 0.0, 0.0, 0.0, 0.0, 0.0, 0.0, 0.0, 0.0, 0.0, 0.0, 0.0, 0.0], [0.7406822443008423, 0.0013489481061697006, 0.008642943575978279, 0.005789757240563631, 0.0034680282697081566, 0.04129822924733162, 0.009212714619934559, 0.0082679009065032, 0.016533972695469856, 0.14806704223155975, 0.016688207164406776, 0.0, 0.0, 0.0, 0.0, 0.0, 0.0, 0.0, 0.0, 0.0, 0.0, 0.0, 0.0, 0.0, 0.0, 0.0, 0.0, 0.0, 0.0, 0.0], [0.9355631470680237, 0.00044598430395126343, 0.0009157696040347219, 0.0006764749414287508, 0.0011801185319200158, 0.004341748543083668, 0.00387349515222013, 0.007862795144319534, 0.0022653110790997744, 0.0074185216799378395, 0.018817702308297157, 0.016638917848467827, 0.0, 0.0, 0.0, 0.0, 0.0, 0.0, 0.0, 0.0, 0.0, 0.0, 0.0, 0.0, 0.0, 0.0, 0.0, 0.0, 0.0, 0.0], [0.9229068756103516, 0.00041586393490433693, 0.002772184321656823, 0.0011072132037952542, 0.00033760941005311906, 0.006637565791606903, 0.008075151592493057, 0.0018363937269896269, 0.001008665538392961, 0.015663275495171547, 0.003273064037784934, 0.017857030034065247, 0.01810905896127224, 0.0, 0.0, 0.0, 0.0, 0.0, 0.0, 0.0, 0.0, 0.0, 0.0, 0.0, 0.0, 0.0, 0.0, 0.0, 0.0, 0.0], [0.9318601489067078, 0.0006561517948284745, 0.0013864879729226232, 0.0013389703817665577, 0.0009245531400665641, 0.00246480037458241, 0.000581077765673399, 0.003711871337145567, 0.0015683743404224515, 0.004484483972191811, 0.012103969231247902, 0.013349081389605999, 0.016237931326031685, 0.009331963956356049, 0.0, 0.0, 0.0, 0.0, 0.0, 0.0, 0.0, 0.0, 0.0, 0.0, 0.0, 0.0, 0.0, 0.0, 0.0, 0.0], [0.951007604598999, 0.00043782719876617193, 0.0023385302629321814, 0.0008989401976577938, 0.00024146311625372618, 0.002930033253505826, 0.003461417742073536, 0.001134033896960318, 0.0005447015864774585, 0.006147613283246756, 0.0011767602991312742, 0.006235810462385416, 0.0061965445056557655, 0.012656777165830135, 0.004591955337673426, 0.0, 0.0, 0.0, 0.0, 0.0, 0.0, 0.0, 0.0, 0.0, 0.0, 0.0, 0.0, 0.0, 0.0, 0.0], [0.9450796246528625, 0.0005862272810190916, 0.0009316176292486489, 0.0006279585650190711, 0.00040867089410312474, 0.0012283370597288013, 0.0003652000450529158, 0.003500855527818203, 0.0014839381910860538, 0.0022357385605573654, 0.010661815293133259, 0.00547722028568387, 0.01168875489383936, 0.0048615457490086555, 0.007841323502361774, 0.0030210877303034067, 0.0, 0.0, 0.0, 0.0, 0.0, 0.0, 0.0, 0.0, 0.0, 0.0, 0.0, 0.0, 0.0, 0.0], [0.9655478000640869, 0.00048050706391222775, 0.002091290196403861, 0.0006731436005793512, 0.00020667811622843146, 0.002012929879128933, 0.0013559621293097734, 0.0014064529677852988, 0.00041404072544537485, 0.002607774455100298, 0.0009101445903070271, 0.00263633718714118, 0.003795068012550473, 0.005010399501770735, 0.002870693802833557, 0.0045564076863229275, 0.003424363676458597, 0.0, 0.0, 0.0, 0.0, 0.0, 0.0, 0.0, 0.0, 0.0, 0.0, 0.0, 0.0, 0.0], [0.944298505783081, 0.000761919014621526, 0.0005930145853199065, 0.0005009619635529816, 0.00031150542781688273, 0.0010754006216302514, 0.001993504585698247, 0.0029439267236739397, 0.0005510791670531034, 0.0023165319580584764, 0.0022826518397778273, 0.007293772418051958, 0.008184529840946198, 0.0063137817196547985, 0.004998491145670414, 0.0038381782360374928, 0.005205331835895777, 0.006536935921758413, 0.0, 0.0, 0.0, 0.0, 0.0, 0.0, 0.0, 0.0, 0.0, 0.0, 0.0, 0.0], [0.9505558609962463, 0.0009139065514318645, 0.003838175907731056, 0.0010667728492990136, 0.00042718672193586826, 0.002616842044517398, 0.002918652491644025, 0.0025724011939018965, 0.00039147058851085603, 0.0022654442582279444, 0.0010567327262833714, 0.002104818355292082, 0.004736988805234432, 0.0018448869232088327, 0.0032291922252625227, 0.002245678100734949, 0.003706455696374178, 0.0032345519866794348, 0.010273979976773262, 0.0, 0.0, 0.0, 0.0, 0.0, 0.0, 0.0, 0.0, 0.0, 0.0, 0.0], [0.9014606475830078, 0.0007346445927396417, 0.0008398246136493981, 0.0005693435668945312, 0.001189603004604578, 0.002103663282468915, 0.0016124563990160823, 0.003429581644013524, 0.001921138959005475, 0.0020847520790994167, 0.008616025559604168, 0.00544031523168087, 0.013325614854693413, 0.004886461887508631, 0.010172511450946331, 0.006233067251741886, 0.010033261962234974, 0.003971132915467024, 0.015298181213438511, 0.00607784790918231, 0.0, 0.0, 0.0, 0.0, 0.0, 0.0, 0.0, 0.0, 0.0, 0.0], [0.923728346824646, 0.0005748342955484986, 0.002219848334789276, 0.0008410068112425506, 0.0002561757864896208, 0.0021539919544011354, 0.002342972904443741, 0.0011227981885895133, 0.0005334664019756019, 0.0034022792242467403, 0.0011646092170849442, 0.005272315349429846, 0.008731324225664139, 0.007646176964044571, 0.0062063573859632015, 0.004985790699720383, 0.005162705201655626, 0.002695731120184064, 0.008489008992910385, 0.005965610966086388, 0.006504578981548548, 0.0, 0.0, 0.0, 0.0, 0.0, 0.0, 0.0, 0.0, 0.0], [0.8898985981941223, 0.0007891048444435, 0.001386771211400628, 0.0010740989819169044, 0.0014638815773651004, 0.002992668654769659, 0.0005974328378215432, 0.004469000268727541, 0.0019135286565870047, 0.002071191556751728, 0.01108735240995884, 0.006050054915249348, 0.012128565460443497, 0.00401651905849576, 0.010053515434265137, 0.002867853967472911, 0.009300384670495987, 0.00134706636890769, 0.015441181138157845, 0.002959206933155656, 0.0065129781141877174, 0.011578958481550217, 0.0, 0.0, 0.0, 0.0, 0.0, 0.0, 0.0, 0.0], [0.9173730611801147, 0.0005676519358530641, 0.003340149763971567, 0.001290488988161087, 0.000326016714097932, 0.003289030399173498, 0.0022423656191676855, 0.0011765426024794579, 0.0008568333578296006, 0.0057707056403160095, 0.001482735387980938, 0.0056938850320875645, 0.007908106781542301, 0.006636371370404959, 0.005400368943810463, 0.0035423883236944675, 0.004687970038503408, 0.001216088654473424, 0.006430949550122023, 0.003568847430869937, 0.004185528494417667, 0.00781326461583376, 0.005200695712119341, 0.0, 0.0, 0.0, 0.0, 0.0, 0.0, 0.0], [0.8755351901054382, 0.0009202827932313085, 0.007810401730239391, 0.002194596454501152, 0.0007743430323898792, 0.01069488376379013, 0.009623353369534016, 0.0032582858111709356, 0.0013992952881380916, 0.012422296218574047, 0.001872301334515214, 0.007385476026684046, 0.006548337172716856, 0.008302691392600536, 0.004568042699247599, 0.005400112364441156, 0.0042236871086061, 0.0025786191690713167, 0.006778554059565067, 0.0037522369530051947, 0.0035619710106402636, 0.009489833377301693, 0.004167858045548201, 0.006737216841429472, 0.0, 0.0, 0.0, 0.0, 0.0, 0.0], [0.9271975159645081, 0.0009024873143061996, 0.0019222196424379945, 0.0012080594897270203, 0.0017545734299346805, 0.002578943967819214, 0.0009383671567775309, 0.008385010994970798, 0.0022728692274540663, 0.002283787354826927, 0.006870058365166187, 0.0048766168765723705, 0.006285451352596283, 0.0024300336372107267, 0.0037034230772405863, 0.0012006580363959074, 0.0030595005955547094, 0.001013308996334672, 0.004876014310866594, 0.0008301406633108854, 0.0019199514063075185, 0.004213989246636629, 0.0025904946960508823, 0.002743041841313243, 0.003943451680243015, 0.0, 0.0, 0.0, 0.0, 0.0], [0.7801653742790222, 0.010369285941123962, 0.03880120813846588, 0.018518725410103798, 0.025628166273236275, 0.015015666373074055, 0.009403879754245281, 0.06921357661485672, 0.004530009813606739, 0.00606926204636693, 0.003087965538725257, 0.0005186040070839226, 0.0014964565634727478, 0.00033657849417068064, 0.0008700160542502999, 0.0003109919489361346, 0.0004351059324108064, 0.0021958898287266493, 0.0010475683957338333, 0.0005794598255306482, 0.00044110778253525496, 0.00027309361030347645, 0.00038596769445575774, 0.0019999039359390736, 0.00032386856037192047, 0.007982354611158371, 0.0, 0.0, 0.0, 0.0], [0.8276435136795044, 0.002585372421890497, 0.008221814408898354, 0.006604681722819805, 0.022988490760326385, 0.008524355478584766, 0.014437406323850155, 0.029325535520911217, 0.0007111503509804606, 0.004919147118926048, 0.002901090309023857, 0.00018016570538748056, 0.0038398783653974533, 0.0003902122552972287, 0.0024130032397806644, 0.0001319969742326066, 0.0015040456783026457, 0.0010686061577871442, 0.002609275048598647, 0.0007308752974495292, 0.0014046845026314259, 0.0004012904246337712, 0.001308896578848362, 0.0028274375945329666, 0.00022260163677856326, 0.007869783788919449, 0.0442347452044487, 0.0, 0.0, 0.0], [0.7997620105743408, 0.0036210885737091303, 0.03394467756152153, 0.006562887225300074, 0.006815546192228794, 0.008621393702924252, 0.0011009335285052657, 0.021263303235173225, 0.001092945341952145, 0.004704776220023632, 0.0008774394518695772, 0.00024422077694907784, 0.0008169315988197923, 0.00010152575850952417, 0.0004138537042308599, 5.188272916711867e-05, 0.00042264294461347163, 8.932180207921192e-05, 0.000554264523088932, 0.00019202203839085996, 0.0002351532457396388, 0.0001480871142121032, 0.000315618613967672, 0.0008817157940939069, 0.00011136830289615318, 0.0033462089486420155, 0.056043464690446854, 0.0476645827293396, 0.0, 0.0], [0.857613205909729, 0.0012546720681712031, 0.012475407682359219, 0.0011203810572624207, 0.0050501530058681965, 0.011695951223373413, 0.004084544721990824, 0.039874330163002014, 0.002252054400742054, 0.009579861536622047, 0.0011023071128875017, 0.00021608373208437115, 0.001065551652573049, 9.664111712481827e-05, 0.0005456870421767235, 5.193710603634827e-05, 0.00052905164193362, 0.0002165032783523202, 0.001040229108184576, 0.0002644535561557859, 0.0005317106260918081, 0.00014211650704964995, 0.0005560592981055379, 0.0005749525153078139, 7.297692354768515e-05, 0.0028358835261315107, 0.012921297922730446, 0.02682027779519558, 0.0054156905971467495, 0.0], [0.9425657391548157, 0.0008007659926079214, 0.0016796088311821222, 0.0011369810672476888, 0.0031521152704954147, 0.002316176425665617, 0.0008565195603296161, 0.012858300469815731, 0.0007222778513096273, 0.003258723532781005, 0.0005927398451603949, 0.0005583087331615388, 0.0006187306134961545, 0.00044473257730714977, 0.00032065677805803716, 0.00020697570289485157, 0.00027060345746576786, 0.0006586887175217271, 0.0005490509793162346, 0.0004923482774756849, 0.00023886594863142818, 0.00027421320555731654, 0.00021368170564528555, 0.0004048961272928864, 0.00023753430286888033, 0.001181430066935718, 0.0017517805099487305, 0.004207791294902563, 0.003380552399903536, 0.014049164950847626]], [[1.0, 0.0, 0.0, 0.0, 0.0, 0.0, 0.0, 0.0, 0.0, 0.0, 0.0, 0.0, 0.0, 0.0, 0.0, 0.0, 0.0, 0.0, 0.0, 0.0, 0.0, 0.0, 0.0, 0.0, 0.0, 0.0, 0.0, 0.0, 0.0, 0.0], [0.9732306599617004, 0.026769345626235008, 0.0, 0.0, 0.0, 0.0, 0.0, 0.0, 0.0, 0.0, 0.0, 0.0, 0.0, 0.0, 0.0, 0.0, 0.0, 0.0, 0.0, 0.0, 0.0, 0.0, 0.0, 0.0, 0.0, 0.0, 0.0, 0.0, 0.0, 0.0], [0.8349981904029846, 0.04298757389187813, 0.12201428413391113, 0.0, 0.0, 0.0, 0.0, 0.0, 0.0, 0.0, 0.0, 0.0, 0.0, 0.0, 0.0, 0.0, 0.0, 0.0, 0.0, 0.0, 0.0, 0.0, 0.0, 0.0, 0.0, 0.0, 0.0, 0.0, 0.0, 0.0], [0.7816151976585388, 0.027687953785061836, 0.1135842427611351, 0.07711257040500641, 0.0, 0.0, 0.0, 0.0, 0.0, 0.0, 0.0, 0.0, 0.0, 0.0, 0.0, 0.0, 0.0, 0.0, 0.0, 0.0, 0.0, 0.0, 0.0, 0.0, 0.0, 0.0, 0.0, 0.0, 0.0, 0.0], [0.8580762147903442, 0.027275867760181427, 0.027966421097517014, 0.03837165609002113, 0.048309847712516785, 0.0, 0.0, 0.0, 0.0, 0.0, 0.0, 0.0, 0.0, 0.0, 0.0, 0.0, 0.0, 0.0, 0.0, 0.0, 0.0, 0.0, 0.0, 0.0, 0.0, 0.0, 0.0, 0.0, 0.0, 0.0], [0.8336342573165894, 0.030828380957245827, 0.05464653670787811, 0.04087322577834129, 0.009077528491616249, 0.030940040946006775, 0.0, 0.0, 0.0, 0.0, 0.0, 0.0, 0.0, 0.0, 0.0, 0.0, 0.0, 0.0, 0.0, 0.0, 0.0, 0.0, 0.0, 0.0, 0.0, 0.0, 0.0, 0.0, 0.0, 0.0], [0.879014253616333, 0.011498252861201763, 0.039085280150175095, 0.030326856300234795, 0.00621401472017169, 0.007958282716572285, 0.02590295486152172, 0.0, 0.0, 0.0, 0.0, 0.0, 0.0, 0.0, 0.0, 0.0, 0.0, 0.0, 0.0, 0.0, 0.0, 0.0, 0.0, 0.0, 0.0, 0.0, 0.0, 0.0, 0.0, 0.0], [0.7405763864517212, 0.008690609596669674, 0.017801949754357338, 0.025596067309379578, 0.020893866196274757, 0.030423229560256004, 0.033292006701231, 0.12272584438323975, 0.0, 0.0, 0.0, 0.0, 0.0, 0.0, 0.0, 0.0, 0.0, 0.0, 0.0, 0.0, 0.0, 0.0, 0.0, 0.0, 0.0, 0.0, 0.0, 0.0, 0.0, 0.0], [0.7756185531616211, 0.009775606915354729, 0.01806388795375824, 0.015590447001159191, 0.014687216840684414, 0.021599622443318367, 0.03621457517147064, 0.07233306020498276, 0.03611696884036064, 0.0, 0.0, 0.0, 0.0, 0.0, 0.0, 0.0, 0.0, 0.0, 0.0, 0.0, 0.0, 0.0, 0.0, 0.0, 0.0, 0.0, 0.0, 0.0, 0.0, 0.0], [0.8173395991325378, 0.003020870266482234, 0.007991074584424496, 0.011876534670591354, 0.0031546785030514, 0.0047261775471270084, 0.012189025059342384, 0.09668006747961044, 0.012805634178221226, 0.030216390267014503, 0.0, 0.0, 0.0, 0.0, 0.0, 0.0, 0.0, 0.0, 0.0, 0.0, 0.0, 0.0, 0.0, 0.0, 0.0, 0.0, 0.0, 0.0, 0.0, 0.0], [0.5970898866653442, 0.004214420914649963, 0.018618015572428703, 0.019694536924362183, 0.006634288001805544, 0.016553981229662895, 0.021342791616916656, 0.09905453026294708, 0.026406805962324142, 0.07246873527765274, 0.11792198568582535, 0.0, 0.0, 0.0, 0.0, 0.0, 0.0, 0.0, 0.0, 0.0, 0.0, 0.0, 0.0, 0.0, 0.0, 0.0, 0.0, 0.0, 0.0, 0.0], [0.8380691409111023, 0.002698861062526703, 0.006036589853465557, 0.007691782899200916, 0.0024928483180701733, 0.001993501791730523, 0.008696884848177433, 0.07556161284446716, 0.004002870060503483, 0.013128773309290409, 0.032896872609853745, 0.006730254273861647, 0.0, 0.0, 0.0, 0.0, 0.0, 0.0, 0.0, 0.0, 0.0, 0.0, 0.0, 0.0, 0.0, 0.0, 0.0, 0.0, 0.0, 0.0], [0.7438327670097351, 0.0025214161723852158, 0.02213318459689617, 0.01422008965164423, 0.0028180854860693216, 0.005121939815580845, 0.02108592726290226, 0.031770188361406326, 0.008854696527123451, 0.035965994000434875, 0.041940607130527496, 0.021405329927802086, 0.04832979664206505, 0.0, 0.0, 0.0, 0.0, 0.0, 0.0, 0.0, 0.0, 0.0, 0.0, 0.0, 0.0, 0.0, 0.0, 0.0, 0.0, 0.0], [0.8797931671142578, 0.0016826492501422763, 0.004119079560041428, 0.0055544557981193066, 0.0016937936889007688, 0.0017811156576499343, 0.004118005745112896, 0.02999899350106716, 0.0019032984273508191, 0.00806415919214487, 0.02166273258626461, 0.007588812615722418, 0.023307407274842262, 0.008732371032238007, 0.0, 0.0, 0.0, 0.0, 0.0, 0.0, 0.0, 0.0, 0.0, 0.0, 0.0, 0.0, 0.0, 0.0, 0.0, 0.0], [0.8052783608436584, 0.0020279795862734318, 0.013269598595798016, 0.009576734155416489, 0.0023478444200009108, 0.0029335590079426765, 0.014342473819851875, 0.01918713189661503, 0.005551052279770374, 0.02031560242176056, 0.021783912554383278, 0.014455756172537804, 0.026439739391207695, 0.01668793335556984, 0.025802448391914368, 0.0, 0.0, 0.0, 0.0, 0.0, 0.0, 0.0, 0.0, 0.0, 0.0, 0.0, 0.0, 0.0, 0.0, 0.0], [0.8975129127502441, 0.0018411438213661313, 0.003066133474931121, 0.004135253839194775, 0.001997845247387886, 0.0009815735975280404, 0.0020230442751199007, 0.02121712826192379, 0.00223008100874722, 0.003748600836843252, 0.016980042681097984, 0.003416543360799551, 0.017681261524558067, 0.004123573657125235, 0.015684902667999268, 0.0033600160386413336, 0.0, 0.0, 0.0, 0.0, 0.0, 0.0, 0.0, 0.0, 0.0, 0.0, 0.0, 0.0, 0.0, 0.0], [0.7868002653121948, 0.0021574038546532393, 0.010054967366158962, 0.007012269459664822, 0.0028725676238536835, 0.002579252701252699, 0.011455324478447437, 0.01569630578160286, 0.005825757049024105, 0.019511576741933823, 0.01576794683933258, 0.013515199534595013, 0.02468261867761612, 0.015086044557392597, 0.02505558915436268, 0.013034220784902573, 0.028892748057842255, 0.0, 0.0, 0.0, 0.0, 0.0, 0.0, 0.0, 0.0, 0.0, 0.0, 0.0, 0.0, 0.0], [0.8638872504234314, 0.0017123172292485833, 0.011414126493036747, 0.007206331007182598, 0.0020636573899537325, 0.0009060252923518419, 0.0038823429495096207, 0.01781204156577587, 0.004562048707157373, 0.006221921648830175, 0.012522022239863873, 0.006194778252393007, 0.015195131301879883, 0.009774502366781235, 0.011697130277752876, 0.005214671138674021, 0.010750091634690762, 0.008983532898128033, 0.0, 0.0, 0.0, 0.0, 0.0, 0.0, 0.0, 0.0, 0.0, 0.0, 0.0, 0.0], [0.7922682762145996, 0.002392672235146165, 0.017007626593112946, 0.007772956974804401, 0.003900134703144431, 0.0019912426359951496, 0.010961667634546757, 0.018593400716781616, 0.007163590751588345, 0.016183016821742058, 0.014436735771596432, 0.009549031965434551, 0.016175026074051857, 0.008336772210896015, 0.012285339646041393, 0.00852546002715826, 0.014976345002651215, 0.010568459518253803, 0.026912115514278412, 0.0, 0.0, 0.0, 0.0, 0.0, 0.0, 0.0, 0.0, 0.0, 0.0, 0.0], [0.8932331800460815, 0.0013266631867736578, 0.0024986001662909985, 0.0030886197928339243, 0.0006832656217738986, 0.00035760714672505856, 0.0013967480044811964, 0.024174656718969345, 0.0007761386805213988, 0.0024747042916715145, 0.007724462077021599, 0.0028852252289652824, 0.01218605786561966, 0.002821567701175809, 0.01063922792673111, 0.0026981420814990997, 0.011406716890633106, 0.0020733275450766087, 0.01260452438145876, 0.004950551316142082, 0.0, 0.0, 0.0, 0.0, 0.0, 0.0, 0.0, 0.0, 0.0, 0.0], [0.8156223893165588, 0.0013941316865384579, 0.01451820321381092, 0.008186518214643002, 0.0015316265635192394, 0.0012318994849920273, 0.005393266677856445, 0.009333782829344273, 0.0035311311949044466, 0.009367696940898895, 0.011558711528778076, 0.008131301030516624, 0.015797507017850876, 0.00895819254219532, 0.013350066728889942, 0.00685722753405571, 0.01412742119282484, 0.007419990375638008, 0.019669152796268463, 0.008670773357152939, 0.015349078923463821, 0.0, 0.0, 0.0, 0.0, 0.0, 0.0, 0.0, 0.0, 0.0], [0.8665223717689514, 0.001420576823875308, 0.0025047960225492716, 0.003387129632756114, 0.0007416569860652089, 0.0007321294979192317, 0.0024067985359579325, 0.02032969705760479, 0.0008588692871853709, 0.00341017940081656, 0.011109254322946072, 0.0024414104409515858, 0.014580310322344303, 0.002932686358690262, 0.014503147453069687, 0.0016909865662455559, 0.01366305910050869, 0.0026112101040780544, 0.013486022129654884, 0.004115695599466562, 0.009822936728596687, 0.006729023065418005, 0.0, 0.0, 0.0, 0.0, 0.0, 0.0, 0.0, 0.0], [0.7495296001434326, 0.0012940899468958378, 0.013018183410167694, 0.008407513611018658, 0.0014414021279662848, 0.0018385011935606599, 0.0072263916954398155, 0.010964114218950272, 0.003526942105963826, 0.011686726473271847, 0.012662946246564388, 0.009758727625012398, 0.02084059827029705, 0.010810887441039085, 0.018878379836678505, 0.007442088797688484, 0.01997505873441696, 0.006712968926876783, 0.023707885295152664, 0.008180612698197365, 0.01870189979672432, 0.011374620720744133, 0.022019825875759125, 0.0, 0.0, 0.0, 0.0, 0.0, 0.0, 0.0], [0.7021642923355103, 0.002916760044172406, 0.01691194623708725, 0.011993812397122383, 0.003201582934707403, 0.004537159111350775, 0.010761195793747902, 0.01643858104944229, 0.003167585236951709, 0.010859486646950245, 0.01570034585893154, 0.008174083195626736, 0.020363518968224525, 0.007687218487262726, 0.019250093027949333, 0.007928859442472458, 0.020322224125266075, 0.008022830821573734, 0.024390844628214836, 0.0073583656921982765, 0.016765620559453964, 0.010619389824569225, 0.02003295347094536, 0.030431298539042473, 0.0, 0.0, 0.0, 0.0, 0.0, 0.0], [0.9024134278297424, 0.0008331648423336446, 0.0029828159604221582, 0.003996413666754961, 0.0007072944426909089, 0.0003659559297375381, 0.0021458605770021677, 0.020671844482421875, 0.0010371229145675898, 0.0030286547262221575, 0.0072476970963180065, 0.001431391341611743, 0.006668456830084324, 0.0019657271914184093, 0.0060952710919082165, 0.0011047734878957272, 0.00601258734241128, 0.0012677748454734683, 0.005630291998386383, 0.0017896998906508088, 0.0032923647668212652, 0.0035673563834279776, 0.0040754713118076324, 0.007749537937343121, 0.003919155336916447, 0.0, 0.0, 0.0, 0.0, 0.0], [0.7916804552078247, 0.008841309696435928, 0.019799891859292984, 0.020012183114886284, 0.0020305532962083817, 0.003214264055714011, 0.00705085601657629, 0.014314654283225536, 0.0021625119261443615, 0.003181721083819866, 0.005791035480797291, 0.0012327528093010187, 0.0058631752617657185, 0.0011239611776545644, 0.004863879643380642, 0.0009401249117217958, 0.00561817642301321, 0.0012581563787534833, 0.006430033594369888, 0.0006588587420992553, 0.0028221425600349903, 0.0012008657213300467, 0.0024726155679672956, 0.003923668060451746, 0.0010025134542956948, 0.08250971883535385, 0.0, 0.0, 0.0, 0.0], [0.8373712301254272, 0.007041057571768761, 0.011654043570160866, 0.017871908843517303, 0.002332013566046953, 0.0024599775206297636, 0.006536527536809444, 0.004823483061045408, 0.0019323634915053844, 0.004072863608598709, 0.004428706597536802, 0.0012966323411092162, 0.003440023399889469, 0.0011126607423648238, 0.003047212492674589, 0.0011375572066754103, 0.0031521450728178024, 0.0027534759137779474, 0.00400801096111536, 0.0006952760741114616, 0.0015858892584219575, 0.0007360777817666531, 0.001415640115737915, 0.002903490560129285, 0.0011667825747281313, 0.031990136951208115, 0.039034850895404816, 0.0, 0.0, 0.0], [0.6960607767105103, 0.018151018768548965, 0.021913396194577217, 0.015424579381942749, 0.005322630051523447, 0.0074327983893454075, 0.014115193858742714, 0.0044060684740543365, 0.002638896694406867, 0.012019203044474125, 0.006651138421148062, 0.003645221469923854, 0.0037657604552805424, 0.0014598221750929952, 0.0025751804932951927, 0.002744178054854274, 0.0022906633093953133, 0.0036724102683365345, 0.004037247970700264, 0.0017813232261687517, 0.0015816763043403625, 0.0018991531105712056, 0.0012201651697978377, 0.0029123055282980204, 0.0029552464839071035, 0.025365768000483513, 0.02992071583867073, 0.10403744876384735, 0.0, 0.0], [0.7762422561645508, 0.009631192311644554, 0.010485444217920303, 0.015248908661305904, 0.006278900429606438, 0.0066896160133183, 0.00849735364317894, 0.005924614612013102, 0.0023374799638986588, 0.007800588384270668, 0.004541757982224226, 0.0024036692921072245, 0.002662676852196455, 0.0015064639737829566, 0.002148803323507309, 0.002581509295850992, 0.0022500513587146997, 0.004836454056203365, 0.004335485398769379, 0.0017219065921381116, 0.0014337116153910756, 0.0013879123143851757, 0.0011043621925637126, 0.002541507361456752, 0.002141929930076003, 0.014553500339388847, 0.020708290860056877, 0.04211299493908882, 0.03589055314660072, 0.0], [0.7881786227226257, 0.01106315292418003, 0.00388980726711452, 0.007735340390354395, 0.006860815454274416, 0.003731844015419483, 0.004656619857996702, 0.011219548992812634, 0.0023204053286463022, 0.006133776158094406, 0.00445210887119174, 0.002804840449243784, 0.002805921249091625, 0.0011017925571650267, 0.00235765241086483, 0.00300793768838048, 0.0021448228508234024, 0.0036185209173709154, 0.0027229138650000095, 0.0020473783370107412, 0.0015149307437241077, 0.0009981447365134954, 0.0012935326667502522, 0.0032664623577147722, 0.002438765950500965, 0.010275689885020256, 0.008024916052818298, 0.0188798438757658, 0.02260350063443184, 0.057850390672683716]], [[1.0, 0.0, 0.0, 0.0, 0.0, 0.0, 0.0, 0.0, 0.0, 0.0, 0.0, 0.0, 0.0, 0.0, 0.0, 0.0, 0.0, 0.0, 0.0, 0.0, 0.0, 0.0, 0.0, 0.0, 0.0, 0.0, 0.0, 0.0, 0.0, 0.0], [0.998836100101471, 0.0011639439035207033, 0.0, 0.0, 0.0, 0.0, 0.0, 0.0, 0.0, 0.0, 0.0, 0.0, 0.0, 0.0, 0.0, 0.0, 0.0, 0.0, 0.0, 0.0, 0.0, 0.0, 0.0, 0.0, 0.0, 0.0, 0.0, 0.0, 0.0, 0.0], [0.9857074618339539, 0.003228183835744858, 0.011064279824495316, 0.0, 0.0, 0.0, 0.0, 0.0, 0.0, 0.0, 0.0, 0.0, 0.0, 0.0, 0.0, 0.0, 0.0, 0.0, 0.0, 0.0, 0.0, 0.0, 0.0, 0.0, 0.0, 0.0, 0.0, 0.0, 0.0, 0.0], [0.992207944393158, 0.0010587769793346524, 0.005357779562473297, 0.001375508727505803, 0.0, 0.0, 0.0, 0.0, 0.0, 0.0, 0.0, 0.0, 0.0, 0.0, 0.0, 0.0, 0.0, 0.0, 0.0, 0.0, 0.0, 0.0, 0.0, 0.0, 0.0, 0.0, 0.0, 0.0, 0.0, 0.0], [0.9884766340255737, 0.0005403977120295167, 0.0017398764612153172, 0.001372888102196157, 0.007870277389883995, 0.0, 0.0, 0.0, 0.0, 0.0, 0.0, 0.0, 0.0, 0.0, 0.0, 0.0, 0.0, 0.0, 0.0, 0.0, 0.0, 0.0, 0.0, 0.0, 0.0, 0.0, 0.0, 0.0, 0.0, 0.0], [0.9687671661376953, 0.0006116959848441184, 0.0028669859748333693, 0.0007642765995115042, 0.005785483866930008, 0.021204467862844467, 0.0, 0.0, 0.0, 0.0, 0.0, 0.0, 0.0, 0.0, 0.0, 0.0, 0.0, 0.0, 0.0, 0.0, 0.0, 0.0, 0.0, 0.0, 0.0, 0.0, 0.0, 0.0, 0.0, 0.0], [0.9869672656059265, 0.0015406700549647212, 0.0017414677422493696, 0.0009693430038169026, 0.0011291841510683298, 0.0029957625083625317, 0.004656335338950157, 0.0, 0.0, 0.0, 0.0, 0.0, 0.0, 0.0, 0.0, 0.0, 0.0, 0.0, 0.0, 0.0, 0.0, 0.0, 0.0, 0.0, 0.0, 0.0, 0.0, 0.0, 0.0, 0.0], [0.9287275671958923, 0.006275109946727753, 0.01058159302920103, 0.0028726249001920223, 0.017978759482502937, 0.01551050879061222, 0.010092424228787422, 0.00796140730381012, 0.0, 0.0, 0.0, 0.0, 0.0, 0.0, 0.0, 0.0, 0.0, 0.0, 0.0, 0.0, 0.0, 0.0, 0.0, 0.0, 0.0, 0.0, 0.0, 0.0, 0.0, 0.0], [0.9183198809623718, 0.0008519015973433852, 0.0028398644644767046, 0.001498238299973309, 0.003537978045642376, 0.007702487055212259, 0.041851527988910675, 0.018619338050484657, 0.004778807982802391, 0.0, 0.0, 0.0, 0.0, 0.0, 0.0, 0.0, 0.0, 0.0, 0.0, 0.0, 0.0, 0.0, 0.0, 0.0, 0.0, 0.0, 0.0, 0.0, 0.0, 0.0], [0.7996047735214233, 0.0011025718413293362, 0.01082679070532322, 0.001645688316784799, 0.0021872196812182665, 0.001692245015874505, 0.012539961375296116, 0.13582247495651245, 0.001370502752251923, 0.033207766711711884, 0.0, 0.0, 0.0, 0.0, 0.0, 0.0, 0.0, 0.0, 0.0, 0.0, 0.0, 0.0, 0.0, 0.0, 0.0, 0.0, 0.0, 0.0, 0.0, 0.0], [0.7376131415367126, 0.0010557821951806545, 0.024062249809503555, 0.0015679345233365893, 0.014875815249979496, 0.02504894696176052, 0.012610549107193947, 0.012283414602279663, 0.09326039999723434, 0.0667542889714241, 0.010867567732930183, 0.0, 0.0, 0.0, 0.0, 0.0, 0.0, 0.0, 0.0, 0.0, 0.0, 0.0, 0.0, 0.0, 0.0, 0.0, 0.0, 0.0, 0.0, 0.0], [0.8550929427146912, 0.0007511284784413874, 0.013752794824540615, 0.0018890462815761566, 0.0030085393227636814, 0.0057211872190237045, 0.020406723022460938, 0.03091277927160263, 0.0011726117227226496, 0.038328152149915695, 0.024082815274596214, 0.00488125067204237, 0.0, 0.0, 0.0, 0.0, 0.0, 0.0, 0.0, 0.0, 0.0, 0.0, 0.0, 0.0, 0.0, 0.0, 0.0, 0.0, 0.0, 0.0], [0.9020994901657104, 0.0003741216496564448, 0.005014450754970312, 0.0007814361015334725, 0.002886419417336583, 0.004873055964708328, 0.01066544745117426, 0.004726707935333252, 0.004203319549560547, 0.02001064084470272, 0.0033526027109473944, 0.03275981545448303, 0.008252467960119247, 0.0, 0.0, 0.0, 0.0, 0.0, 0.0, 0.0, 0.0, 0.0, 0.0, 0.0, 0.0, 0.0, 0.0, 0.0, 0.0, 0.0], [0.8854045867919922, 0.0005846702260896564, 0.010134339332580566, 0.0008934689685702324, 0.0015789680182933807, 0.00576081033796072, 0.0062132407911121845, 0.03411150723695755, 0.0006884449394419789, 0.014245176687836647, 0.01448023971170187, 0.003291013417765498, 0.019136158749461174, 0.0034772565122693777, 0.0, 0.0, 0.0, 0.0, 0.0, 0.0, 0.0, 0.0, 0.0, 0.0, 0.0, 0.0, 0.0, 0.0, 0.0, 0.0], [0.951687753200531, 0.0003025100158993155, 0.0024754703044891357, 0.00047963400720618665, 0.0014350374694913626, 0.001448196591809392, 0.00288167642429471, 0.0039734854362905025, 0.0013542847009375691, 0.0043050614185631275, 0.0012802835553884506, 0.007316297385841608, 0.003955672029405832, 0.012655233964323997, 0.004449470899999142, 0.0, 0.0, 0.0, 0.0, 0.0, 0.0, 0.0, 0.0, 0.0, 0.0, 0.0, 0.0, 0.0, 0.0, 0.0], [0.9188414216041565, 0.001022145850583911, 0.005299787037074566, 0.00044662124128080904, 0.0014723925851285458, 0.0036539677530527115, 0.0031917698215693235, 0.02174214832484722, 0.0006580207264050841, 0.005867529194802046, 0.007812445983290672, 0.0010323015740141273, 0.013728377409279346, 0.001521934987977147, 0.011478669010102749, 0.002230508252978325, 0.0, 0.0, 0.0, 0.0, 0.0, 0.0, 0.0, 0.0, 0.0, 0.0, 0.0, 0.0, 0.0, 0.0], [0.9581716656684875, 0.0002938132092822343, 0.0008944762521423399, 0.00025102932704612613, 0.0012051643570885062, 0.0011428868165239692, 0.0016725079622119665, 0.004302085377275944, 0.0005527260946109891, 0.002633801195770502, 0.0009552164119668305, 0.0031854184344410896, 0.0030090746004134417, 0.005438568070530891, 0.003110554302111268, 0.008357871323823929, 0.004823177587240934, 0.0, 0.0, 0.0, 0.0, 0.0, 0.0, 0.0, 0.0, 0.0, 0.0, 0.0, 0.0, 0.0], [0.9131583571434021, 0.0007113196770660579, 0.001362294307909906, 0.0003030470688827336, 0.00031765419407747686, 0.0012863388983532786, 0.004030224867165089, 0.005945999640971422, 0.00028666455182246864, 0.008061633445322514, 0.006420501042157412, 0.0017936206422746181, 0.016123630106449127, 0.0033813114278018475, 0.013141995295882225, 0.003656214103102684, 0.017836613580584526, 0.002182517433539033, 0.0, 0.0, 0.0, 0.0, 0.0, 0.0, 0.0, 0.0, 0.0, 0.0, 0.0, 0.0], [0.9601010084152222, 0.0006192862056195736, 0.001051176805049181, 0.00025615878985263407, 0.0019443053752183914, 0.0018236384494230151, 0.0023958133533596992, 0.004266360774636269, 0.0005629125516861677, 0.0026261217426508665, 0.0006048905779607594, 0.00212610000744462, 0.001577136106789112, 0.002750065177679062, 0.0013693544315174222, 0.00447927787899971, 0.0022220490500330925, 0.005239411257207394, 0.003984882030636072, 0.0, 0.0, 0.0, 0.0, 0.0, 0.0, 0.0, 0.0, 0.0, 0.0, 0.0], [0.7613564729690552, 0.0015214805025607347, 0.005789437796920538, 0.0011748896213248372, 0.0017765394877642393, 0.0029955969657748938, 0.009764451533555984, 0.07172787934541702, 0.00039733192534185946, 0.012165031395852566, 0.029642019420862198, 0.0018032530788332224, 0.0402020700275898, 0.0028519569896161556, 0.023598743602633476, 0.003013682086020708, 0.013913597911596298, 0.001902151620015502, 0.009734759107232094, 0.0046686772257089615, 0.0, 0.0, 0.0, 0.0, 0.0, 0.0, 0.0, 0.0, 0.0, 0.0], [0.9311574101448059, 0.0002355956967221573, 0.0017545411828905344, 0.0003877979761455208, 0.0007070545107126236, 0.0011220108717679977, 0.001868944731540978, 0.0015418310649693012, 0.0007181711844168603, 0.0033494820818305016, 0.001116843894124031, 0.0037486760411411524, 0.0035180188715457916, 0.006658589001744986, 0.0030260367784649134, 0.0079399598762393, 0.0030240085907280445, 0.006021749693900347, 0.0024708874989300966, 0.014522101730108261, 0.005110220517963171, 0.0, 0.0, 0.0, 0.0, 0.0, 0.0, 0.0, 0.0, 0.0], [0.74760901927948, 0.0008170536602847278, 0.008906187489628792, 0.0013747505145147443, 0.0022090997081249952, 0.003328040475025773, 0.006870885845273733, 0.08658261597156525, 0.00018885133613366634, 0.005096514709293842, 0.02399790659546852, 0.0011123602744191885, 0.03081507980823517, 0.002089631510898471, 0.027827328070998192, 0.002188923303037882, 0.018303856253623962, 0.0016824658960103989, 0.007133496459573507, 0.001447727088816464, 0.01850222423672676, 0.001915999106131494, 0.0, 0.0, 0.0, 0.0, 0.0, 0.0, 0.0, 0.0], [0.8942043781280518, 0.00016226015577558428, 0.0030266267713159323, 0.0006195064634084702, 0.0014597030822187662, 0.0018431360367685556, 0.00330863194540143, 0.0015931219095364213, 0.0010184583952650428, 0.00555674871429801, 0.0014349622651934624, 0.006383457686752081, 0.0037636638153344393, 0.009940722025930882, 0.0034801841247826815, 0.012308983132243156, 0.0035142952110618353, 0.008581062778830528, 0.0018407979514449835, 0.013833681121468544, 0.004422634374350309, 0.011943361721932888, 0.005759712308645248, 0.0, 0.0, 0.0, 0.0, 0.0, 0.0, 0.0], [0.8685427308082581, 0.000383347476599738, 0.004131315741688013, 0.0007447031675837934, 0.0040626488626003265, 0.0059571648016572, 0.005107264965772629, 0.0022986014373600483, 0.0012861384311690927, 0.00685955211520195, 0.001300983247347176, 0.005438836291432381, 0.0036929594352841377, 0.008476383984088898, 0.004008143674582243, 0.01199365220963955, 0.004411244299262762, 0.009766019880771637, 0.002880328567698598, 0.015738610178232193, 0.00493914820253849, 0.01106648612767458, 0.0058375210501253605, 0.011076131835579872, 0.0, 0.0, 0.0, 0.0, 0.0, 0.0], [0.6700825095176697, 0.0011431913590058684, 0.010454155504703522, 0.0016935246530920267, 0.004230963997542858, 0.005705684889107943, 0.012985771521925926, 0.2117723822593689, 0.00015991093823686242, 0.006605181377381086, 0.01666185073554516, 0.0008141571306623518, 0.01596071757376194, 0.0008912901394069195, 0.00887363776564598, 0.0008396852645091712, 0.005768916103988886, 0.0007675155065953732, 0.0030197324231266975, 0.0008590496727265418, 0.0062069883570075035, 0.000621684012003243, 0.01022461336106062, 0.0023199892602860928, 0.0013368511572480202, 0.0, 0.0, 0.0, 0.0, 0.0], [0.8853983283042908, 0.008491700515151024, 0.010780137032270432, 0.003383711911737919, 0.016117306426167488, 0.007488980423659086, 0.010171530768275261, 0.031680092215538025, 0.0013444030191749334, 0.0037970300763845444, 0.000719829520676285, 0.0008183555910363793, 0.000458137015812099, 0.0006334466743282974, 0.00023820321075618267, 0.0005972054204903543, 0.00020009350555483252, 0.0008574321400374174, 0.00018374170758761466, 0.0004330080992076546, 0.00011639694275800139, 0.0002409581938991323, 0.00011363058001734316, 0.0004279268905520439, 0.0005162594025023282, 0.014792172238230705, 0.0, 0.0, 0.0, 0.0], [0.9697218537330627, 0.002020838437601924, 0.003439562628045678, 0.0021824452560395002, 0.002282052068039775, 0.0012058839201927185, 0.0004923474625684321, 0.004851215053349733, 0.0002496004744898528, 0.0007599629461765289, 0.0003817570395767689, 0.0004912297590635717, 0.00019277937826700509, 0.00030983012402430177, 0.0001505015534348786, 0.0004206498560961336, 9.556668373988941e-05, 0.00029107293812558055, 9.916668204823509e-05, 0.0003594873705878854, 8.717808668734506e-05, 0.00013958134513814002, 6.416710675694048e-05, 0.00017331860726699233, 0.00016174248594325036, 0.0016820627497509122, 0.007694117724895477, 0.0, 0.0, 0.0], [0.946091890335083, 0.00249141501262784, 0.006057396065443754, 0.0015344084240496159, 0.013340984471142292, 0.004202723503112793, 0.002874598139896989, 0.0012779104290530086, 0.0017614372773095965, 0.003930993378162384, 3.998653482994996e-05, 0.00392669253051281, 2.7522655727807432e-05, 0.0010456717573106289, 1.9344301108503714e-05, 0.0018436613027006388, 1.6122558008646592e-05, 0.0013952153967693448, 2.453501474519726e-05, 0.0012084859190508723, 1.2546996913442854e-05, 0.0005412159371189773, 1.239418543264037e-05, 5.332191358320415e-05, 0.0009455771651118994, 0.000128006940940395, 0.0033961255103349686, 0.0017998017137870193, 0.0, 0.0], [0.9085327982902527, 0.0014492187183350325, 0.006360009778290987, 0.0005573426024056971, 0.03129082918167114, 0.008956069126725197, 0.014046043157577515, 0.0023351560812443495, 0.0025043191853910685, 0.005255642347037792, 0.00014514157373923808, 0.0029337755404412746, 8.78008286235854e-05, 0.0008780991192907095, 6.205104000400752e-05, 0.001412060926668346, 5.8094206906389445e-05, 0.0015671218279749155, 7.103725511115044e-05, 0.0009950280655175447, 3.6999401345383376e-05, 0.00043173349695280194, 3.551092595444061e-05, 0.00010943623055936769, 0.0008593571255914867, 0.0005159273277968168, 0.0045584929175674915, 0.003099616849794984, 0.0008553449297323823, 0.0], [0.9593755602836609, 0.0006122954655438662, 0.0010584586998447776, 0.0007808087975718081, 0.0037601927760988474, 0.001123056630603969, 0.0031569453421980143, 0.0011670493986457586, 0.000152219770825468, 0.002433200366795063, 0.00028891910915262997, 0.0008201904711313546, 0.00012559143942780793, 0.00043129202094860375, 7.303723396034911e-05, 0.0004432366695255041, 4.993129550712183e-05, 0.0005857794894836843, 6.301634130068123e-05, 0.0003159453044645488, 6.669329013675451e-05, 0.00024413870414718986, 5.666250945068896e-05, 0.0001544630213174969, 0.00026142221759073436, 0.0003600853669922799, 0.00197678548283875, 0.0018895403482019901, 0.0009189960546791553, 0.017254428938031197]], [[1.0, 0.0, 0.0, 0.0, 0.0, 0.0, 0.0, 0.0, 0.0, 0.0, 0.0, 0.0, 0.0, 0.0, 0.0, 0.0, 0.0, 0.0, 0.0, 0.0, 0.0, 0.0, 0.0, 0.0, 0.0, 0.0, 0.0, 0.0, 0.0, 0.0], [0.9934158325195312, 0.006584158167243004, 0.0, 0.0, 0.0, 0.0, 0.0, 0.0, 0.0, 0.0, 0.0, 0.0, 0.0, 0.0, 0.0, 0.0, 0.0, 0.0, 0.0, 0.0, 0.0, 0.0, 0.0, 0.0, 0.0, 0.0, 0.0, 0.0, 0.0, 0.0], [0.9618421196937561, 0.017987234517931938, 0.02017061784863472, 0.0, 0.0, 0.0, 0.0, 0.0, 0.0, 0.0, 0.0, 0.0, 0.0, 0.0, 0.0, 0.0, 0.0, 0.0, 0.0, 0.0, 0.0, 0.0, 0.0, 0.0, 0.0, 0.0, 0.0, 0.0, 0.0, 0.0], [0.9657848477363586, 0.012472107075154781, 0.011605875566601753, 0.01013719942420721, 0.0, 0.0, 0.0, 0.0, 0.0, 0.0, 0.0, 0.0, 0.0, 0.0, 0.0, 0.0, 0.0, 0.0, 0.0, 0.0, 0.0, 0.0, 0.0, 0.0, 0.0, 0.0, 0.0, 0.0, 0.0, 0.0], [0.9648059010505676, 0.009062647819519043, 0.01341699343174696, 0.009628389030694962, 0.0030862055718898773, 0.0, 0.0, 0.0, 0.0, 0.0, 0.0, 0.0, 0.0, 0.0, 0.0, 0.0, 0.0, 0.0, 0.0, 0.0, 0.0, 0.0, 0.0, 0.0, 0.0, 0.0, 0.0, 0.0, 0.0, 0.0], [0.9518565535545349, 0.0085446173325181, 0.019252942875027657, 0.00831056572496891, 0.0037044852506369352, 0.008330895565450191, 0.0, 0.0, 0.0, 0.0, 0.0, 0.0, 0.0, 0.0, 0.0, 0.0, 0.0, 0.0, 0.0, 0.0, 0.0, 0.0, 0.0, 0.0, 0.0, 0.0, 0.0, 0.0, 0.0, 0.0], [0.8317071795463562, 0.027849216014146805, 0.0805855393409729, 0.0200173519551754, 0.0073981923051178455, 0.00858565978705883, 0.023856835439801216, 0.0, 0.0, 0.0, 0.0, 0.0, 0.0, 0.0, 0.0, 0.0, 0.0, 0.0, 0.0, 0.0, 0.0, 0.0, 0.0, 0.0, 0.0, 0.0, 0.0, 0.0, 0.0, 0.0], [0.8949896097183228, 0.014697927981615067, 0.00629987008869648, 0.005159770604223013, 0.0319361612200737, 0.012593241408467293, 0.010196669958531857, 0.024126669391989708, 0.0, 0.0, 0.0, 0.0, 0.0, 0.0, 0.0, 0.0, 0.0, 0.0, 0.0, 0.0, 0.0, 0.0, 0.0, 0.0, 0.0, 0.0, 0.0, 0.0, 0.0, 0.0], [0.9110031127929688, 0.008621173910796642, 0.004652300849556923, 0.008193057030439377, 0.021773777902126312, 0.011733387596905231, 0.013720028102397919, 0.015507691539824009, 0.004795475862920284, 0.0, 0.0, 0.0, 0.0, 0.0, 0.0, 0.0, 0.0, 0.0, 0.0, 0.0, 0.0, 0.0, 0.0, 0.0, 0.0, 0.0, 0.0, 0.0, 0.0, 0.0], [0.9006170034408569, 0.006142505910247564, 0.010623161680996418, 0.00542586762458086, 0.018822329118847847, 0.00781478825956583, 0.005514225456863642, 0.02100410871207714, 0.009341639466583729, 0.014694366604089737, 0.0, 0.0, 0.0, 0.0, 0.0, 0.0, 0.0, 0.0, 0.0, 0.0, 0.0, 0.0, 0.0, 0.0, 0.0, 0.0, 0.0, 0.0, 0.0, 0.0], [0.7361667156219482, 0.01702244020998478, 0.012949967756867409, 0.005188903771340847, 0.016042005270719528, 0.01405774150043726, 0.010124990716576576, 0.022079024463891983, 0.07110302150249481, 0.06620169430971146, 0.02906351163983345, 0.0, 0.0, 0.0, 0.0, 0.0, 0.0, 0.0, 0.0, 0.0, 0.0, 0.0, 0.0, 0.0, 0.0, 0.0, 0.0, 0.0, 0.0, 0.0], [0.8353356122970581, 0.00918019562959671, 0.012361958622932434, 0.0049874503165483475, 0.008821682073175907, 0.003328031161800027, 0.0038530693855136633, 0.023138388991355896, 0.0055830455385148525, 0.03594719618558884, 0.04619884118437767, 0.011264519765973091, 0.0, 0.0, 0.0, 0.0, 0.0, 0.0, 0.0, 0.0, 0.0, 0.0, 0.0, 0.0, 0.0, 0.0, 0.0, 0.0, 0.0, 0.0], [0.559772789478302, 0.014036556705832481, 0.00983649492263794, 0.00551458029076457, 0.007086198311299086, 0.004028728231787682, 0.012680294923484325, 0.0198582261800766, 0.02093161642551422, 0.11002074927091599, 0.0188207495957613, 0.1893557608127594, 0.028057308867573738, 0.0, 0.0, 0.0, 0.0, 0.0, 0.0, 0.0, 0.0, 0.0, 0.0, 0.0, 0.0, 0.0, 0.0, 0.0, 0.0, 0.0], [0.7134761810302734, 0.013761616311967373, 0.01373245008289814, 0.006808907259255648, 0.011931744404137135, 0.0033233638387173414, 0.007113906554877758, 0.024276765063405037, 0.004582608584314585, 0.05244123935699463, 0.060072995722293854, 0.014018291607499123, 0.05027175694704056, 0.024188164621591568, 0.0, 0.0, 0.0, 0.0, 0.0, 0.0, 0.0, 0.0, 0.0, 0.0, 0.0, 0.0, 0.0, 0.0, 0.0, 0.0], [0.45869362354278564, 0.014043229632079601, 0.008934326469898224, 0.004591080825775862, 0.005820628255605698, 0.002775699831545353, 0.009345217607915401, 0.01613183133304119, 0.012327664531767368, 0.06714269518852234, 0.01371430791914463, 0.1432041972875595, 0.023702099919319153, 0.2000379115343094, 0.019535498693585396, 0.0, 0.0, 0.0, 0.0, 0.0, 0.0, 0.0, 0.0, 0.0, 0.0, 0.0, 0.0, 0.0, 0.0, 0.0], [0.7917376756668091, 0.015221835114061832, 0.011264892295002937, 0.00561540387570858, 0.006607424933463335, 0.0016862299526110291, 0.0022443681955337524, 0.01762564107775688, 0.003982671536505222, 0.016373932361602783, 0.039551421999931335, 0.007920431904494762, 0.02808036468923092, 0.011294965632259846, 0.02877085842192173, 0.012021924369037151, 0.0, 0.0, 0.0, 0.0, 0.0, 0.0, 0.0, 0.0, 0.0, 0.0, 0.0, 0.0, 0.0, 0.0], [0.32606467604637146, 0.012166568078100681, 0.006830702535808086, 0.003346918150782585, 0.003920665010809898, 0.002162822289392352, 0.007418542169034481, 0.012323105707764626, 0.008241986855864525, 0.0483357273042202, 0.00835226196795702, 0.1124878078699112, 0.01481749676167965, 0.13804104924201965, 0.012494958937168121, 0.2711629271507263, 0.011831766925752163, 0.0, 0.0, 0.0, 0.0, 0.0, 0.0, 0.0, 0.0, 0.0, 0.0, 0.0, 0.0, 0.0], [0.7600072622299194, 0.011369576677680016, 0.012425752356648445, 0.0067254481837153435, 0.006544976495206356, 0.0026906372513622046, 0.004554716870188713, 0.020157499238848686, 0.002840453991666436, 0.023483967408537865, 0.015254095196723938, 0.014310185797512531, 0.022251589223742485, 0.018606938421726227, 0.022021161392331123, 0.018878232687711716, 0.02439064346253872, 0.013486792333424091, 0.0, 0.0, 0.0, 0.0, 0.0, 0.0, 0.0, 0.0, 0.0, 0.0, 0.0, 0.0], [0.37248969078063965, 0.01555965468287468, 0.006103678606450558, 0.003253406845033169, 0.0036521314177662134, 0.002701465506106615, 0.008191591128706932, 0.01367928832769394, 0.006749366410076618, 0.03483545035123825, 0.0060991812497377396, 0.05509742721915245, 0.010383483953773975, 0.0815434455871582, 0.009518744423985481, 0.14750011265277863, 0.009630613960325718, 0.1981993168592453, 0.014811968430876732, 0.0, 0.0, 0.0, 0.0, 0.0, 0.0, 0.0, 0.0, 0.0, 0.0, 0.0], [0.6904358863830566, 0.014683196321129799, 0.009464516304433346, 0.0058830054476857185, 0.005802104715257883, 0.0026316798757761717, 0.0029187214095145464, 0.019053639844059944, 0.0023606871254742146, 0.015084460377693176, 0.03470233455300331, 0.007007747422903776, 0.030653052031993866, 0.016259126365184784, 0.03365235775709152, 0.01950123719871044, 0.03333328291773796, 0.013946960680186749, 0.035230472683906555, 0.007395630236715078, 0.0, 0.0, 0.0, 0.0, 0.0, 0.0, 0.0, 0.0, 0.0, 0.0], [0.36308321356773376, 0.014688637107610703, 0.007867833599448204, 0.003862106241285801, 0.0033237857278436422, 0.0021109050139784813, 0.007348832208663225, 0.01138870045542717, 0.00830420944839716, 0.03508853539824486, 0.008178013376891613, 0.07732337713241577, 0.01296268031001091, 0.10141761600971222, 0.01086012739688158, 0.12837833166122437, 0.00944320298731327, 0.1337587684392929, 0.01308874599635601, 0.03551962971687317, 0.012002692557871342, 0.0, 0.0, 0.0, 0.0, 0.0, 0.0, 0.0, 0.0, 0.0], [0.6979336738586426, 0.019733209162950516, 0.016249367967247963, 0.008398679085075855, 0.00873696431517601, 0.0021816459484398365, 0.003778944257646799, 0.019655825570225716, 0.0034790183417499065, 0.011645047925412655, 0.035300835967063904, 0.004424750804901123, 0.02697005867958069, 0.008260335773229599, 0.029169507324695587, 0.0065353140234947205, 0.024537334218621254, 0.008003993891179562, 0.03309886157512665, 0.005049037281423807, 0.021140791475772858, 0.005716762971132994, 0.0, 0.0, 0.0, 0.0, 0.0, 0.0, 0.0, 0.0], [0.3988068997859955, 0.016992803663015366, 0.00874300766736269, 0.004354885313659906, 0.004036375787109137, 0.0022271573543548584, 0.007425946649163961, 0.012359194457530975, 0.009266974404454231, 0.034500766545534134, 0.009105660952627659, 0.06582409143447876, 0.014157011173665524, 0.07417759299278259, 0.011736242100596428, 0.1094847023487091, 0.009967757388949394, 0.10194183140993118, 0.013408374041318893, 0.028117744252085686, 0.012509524822235107, 0.040659479796886444, 0.010195974260568619, 0.0, 0.0, 0.0, 0.0, 0.0, 0.0, 0.0], [0.3225855231285095, 0.015430338680744171, 0.00700919795781374, 0.00471494160592556, 0.008764739148318768, 0.004236345179378986, 0.012625263072550297, 0.011805743910372257, 0.005158418323844671, 0.03795432299375534, 0.005788769107311964, 0.08375319093465805, 0.0171038880944252, 0.07854621112346649, 0.013393900357186794, 0.13420867919921875, 0.01125789899379015, 0.10367525368928909, 0.013063781894743443, 0.030772767961025238, 0.011830597184598446, 0.044867414981126785, 0.009880178608000278, 0.011572632007300854, 0.0, 0.0, 0.0, 0.0, 0.0, 0.0], [0.6852704286575317, 0.009104004129767418, 0.01646283082664013, 0.0034309050533920527, 0.004213699139654636, 0.00196366966702044, 0.0033138145226985216, 0.0113489655777812, 0.002030014293268323, 0.008998719975352287, 0.022939328104257584, 0.002226649085059762, 0.02774566039443016, 0.004521062131971121, 0.03242189437150955, 0.003489889670163393, 0.028739305213093758, 0.0026376929599791765, 0.033798810094594955, 0.0026535126380622387, 0.019690996035933495, 0.004084532614797354, 0.022867476567626, 0.04301523417234421, 0.0030308892019093037, 0.0, 0.0, 0.0, 0.0, 0.0], [0.7316623330116272, 0.024622630327939987, 0.10356174409389496, 0.01901315525174141, 0.02046911045908928, 0.005120213609188795, 0.008364866487681866, 0.007381645496934652, 0.0012646602699533105, 0.002074878429993987, 0.005010206717997789, 0.00041397250606678426, 0.006098683457821608, 0.00023061285901349038, 0.006613943260163069, 0.0003639315254986286, 0.0047614737413823605, 0.00023442950623575598, 0.008092192932963371, 0.00045530329225584865, 0.003851991379633546, 0.000413436908274889, 0.003983724862337112, 0.014835875481367111, 0.0003470839583314955, 0.020757945254445076, 0.0, 0.0, 0.0, 0.0], [0.8021069169044495, 0.02583274431526661, 0.06126311421394348, 0.013246456161141396, 0.01644222065806389, 0.004677824676036835, 0.0069013675674796104, 0.007369578815996647, 0.0006324525456875563, 0.003160637803375721, 0.0038915604818612337, 0.00024504962493665516, 0.0038945956621319056, 0.00017812734586186707, 0.004101430531591177, 0.00029851446743123233, 0.0026307483203709126, 0.000587844115216285, 0.004876948893070221, 0.0003451371449045837, 0.0029530974570661783, 0.00032540937536396086, 0.002674770774319768, 0.006210200488567352, 0.0005268104141578078, 0.015523181296885014, 0.00910331029444933, 0.0, 0.0, 0.0], [0.7582457065582275, 0.02362213283777237, 0.031572502106428146, 0.01003167312592268, 0.04231908544898033, 0.0065034967847168446, 0.011087002232670784, 0.009785901755094528, 0.0015514777041971684, 0.00439724326133728, 0.005602497607469559, 0.00041043569217436016, 0.005444671958684921, 0.0003012678644154221, 0.005325992591679096, 0.0003370292251929641, 0.0036684516817331314, 0.0004805245262105018, 0.0068580093793570995, 0.0003653627063613385, 0.0035641745198518038, 0.00026355747831985354, 0.002898663515225053, 0.011345606297254562, 0.00048136364785023034, 0.014704184606671333, 0.012510093860328197, 0.026321835815906525, 0.0, 0.0], [0.7917383313179016, 0.015282751061022282, 0.01781708188354969, 0.004015148151665926, 0.047082725912332535, 0.01755145937204361, 0.008192435838282108, 0.006962202955037355, 0.0019447110826149583, 0.0029987413436174393, 0.003915305715054274, 0.0003613352309912443, 0.003612416796386242, 0.00022697498206980526, 0.0032402854412794113, 0.00020221294835209846, 0.00236573931761086, 0.0003815190284512937, 0.004093590192496777, 0.0003209830611012876, 0.002369531663134694, 0.00017074754578061402, 0.0018790026661008596, 0.007646495010703802, 0.0004290738725103438, 0.012314029969274998, 0.00561140151694417, 0.024876348674297333, 0.01239737868309021, 0.0], [0.8398258686065674, 0.024901757016777992, 0.011007558554410934, 0.009670121595263481, 0.01475235354155302, 0.0022026500664651394, 0.0025753453373908997, 0.005264560226351023, 0.0005839559598825872, 0.0027388145681470633, 0.0028960935305804014, 0.0008519819239154458, 0.0012996960431337357, 0.0005106283351778984, 0.0008441823301836848, 0.0009701249073259532, 0.0007278320263139904, 0.000790807360317558, 0.0010320014553144574, 0.0007119641522876918, 0.0008065038127824664, 0.000676955736707896, 0.0006726029678247869, 0.0006441971054300666, 0.0010591393802314997, 0.0166659876704216, 0.0037942063063383102, 0.013722565025091171, 0.012805338017642498, 0.02499416656792164]], [[1.0, 0.0, 0.0, 0.0, 0.0, 0.0, 0.0, 0.0, 0.0, 0.0, 0.0, 0.0, 0.0, 0.0, 0.0, 0.0, 0.0, 0.0, 0.0, 0.0, 0.0, 0.0, 0.0, 0.0, 0.0, 0.0, 0.0, 0.0, 0.0, 0.0], [0.9902958273887634, 0.009704149328172207, 0.0, 0.0, 0.0, 0.0, 0.0, 0.0, 0.0, 0.0, 0.0, 0.0, 0.0, 0.0, 0.0, 0.0, 0.0, 0.0, 0.0, 0.0, 0.0, 0.0, 0.0, 0.0, 0.0, 0.0, 0.0, 0.0, 0.0, 0.0], [0.9546919465065002, 0.016669973731040955, 0.02863808162510395, 0.0, 0.0, 0.0, 0.0, 0.0, 0.0, 0.0, 0.0, 0.0, 0.0, 0.0, 0.0, 0.0, 0.0, 0.0, 0.0, 0.0, 0.0, 0.0, 0.0, 0.0, 0.0, 0.0, 0.0, 0.0, 0.0, 0.0], [0.8667129874229431, 0.027807844802737236, 0.08633734285831451, 0.01914183795452118, 0.0, 0.0, 0.0, 0.0, 0.0, 0.0, 0.0, 0.0, 0.0, 0.0, 0.0, 0.0, 0.0, 0.0, 0.0, 0.0, 0.0, 0.0, 0.0, 0.0, 0.0, 0.0, 0.0, 0.0, 0.0, 0.0], [0.925917387008667, 0.01854635961353779, 0.029286393895745277, 0.011728101409971714, 0.014521715231239796, 0.0, 0.0, 0.0, 0.0, 0.0, 0.0, 0.0, 0.0, 0.0, 0.0, 0.0, 0.0, 0.0, 0.0, 0.0, 0.0, 0.0, 0.0, 0.0, 0.0, 0.0, 0.0, 0.0, 0.0, 0.0], [0.7757493853569031, 0.02029510959982872, 0.0282267015427351, 0.014239049516618252, 0.023387687280774117, 0.13810203969478607, 0.0, 0.0, 0.0, 0.0, 0.0, 0.0, 0.0, 0.0, 0.0, 0.0, 0.0, 0.0, 0.0, 0.0, 0.0, 0.0, 0.0, 0.0, 0.0, 0.0, 0.0, 0.0, 0.0, 0.0], [0.8608112931251526, 0.004194009117782116, 0.019214963540434837, 0.004889960400760174, 0.0036180501338094473, 0.08123765140771866, 0.026034092530608177, 0.0, 0.0, 0.0, 0.0, 0.0, 0.0, 0.0, 0.0, 0.0, 0.0, 0.0, 0.0, 0.0, 0.0, 0.0, 0.0, 0.0, 0.0, 0.0, 0.0, 0.0, 0.0, 0.0], [0.8075156211853027, 0.02150028385221958, 0.022888248786330223, 0.015211609192192554, 0.012665895745158195, 0.07664189487695694, 0.02076415717601776, 0.02281229943037033, 0.0, 0.0, 0.0, 0.0, 0.0, 0.0, 0.0, 0.0, 0.0, 0.0, 0.0, 0.0, 0.0, 0.0, 0.0, 0.0, 0.0, 0.0, 0.0, 0.0, 0.0, 0.0], [0.8183251023292542, 0.007637965027242899, 0.028631916269659996, 0.009249194525182247, 0.005656685680150986, 0.038758810609579086, 0.015505054965615273, 0.040306221693754196, 0.03592907264828682, 0.0, 0.0, 0.0, 0.0, 0.0, 0.0, 0.0, 0.0, 0.0, 0.0, 0.0, 0.0, 0.0, 0.0, 0.0, 0.0, 0.0, 0.0, 0.0, 0.0, 0.0], [0.752466082572937, 0.0038372476119548082, 0.022027935832738876, 0.016331257298588753, 0.0032267651986330748, 0.03456801176071167, 0.016219710931181908, 0.08151409775018692, 0.03069320134818554, 0.03911561891436577, 0.0, 0.0, 0.0, 0.0, 0.0, 0.0, 0.0, 0.0, 0.0, 0.0, 0.0, 0.0, 0.0, 0.0, 0.0, 0.0, 0.0, 0.0, 0.0, 0.0], [0.35167932510375977, 0.006768642459064722, 0.03685532510280609, 0.01479459647089243, 0.014092419296503067, 0.1407865583896637, 0.07154934853315353, 0.0773281678557396, 0.09778259694576263, 0.13670653104782104, 0.05165644362568855, 0.0, 0.0, 0.0, 0.0, 0.0, 0.0, 0.0, 0.0, 0.0, 0.0, 0.0, 0.0, 0.0, 0.0, 0.0, 0.0, 0.0, 0.0, 0.0], [0.7029853463172913, 0.002255788305774331, 0.035056643187999725, 0.0026719309389591217, 0.0013120168587192893, 0.03220656141638756, 0.025758877396583557, 0.0771203488111496, 0.021595150232315063, 0.04235537722706795, 0.00636491272598505, 0.05031709372997284, 0.0, 0.0, 0.0, 0.0, 0.0, 0.0, 0.0, 0.0, 0.0, 0.0, 0.0, 0.0, 0.0, 0.0, 0.0, 0.0, 0.0, 0.0], [0.34218770265579224, 0.006658484227955341, 0.03075505420565605, 0.0020919744856655598, 0.004682768136262894, 0.11401699483394623, 0.06437239795923233, 0.0873635783791542, 0.043474357575178146, 0.1363697350025177, 0.013697290793061256, 0.11852524429559708, 0.03580441325902939, 0.0, 0.0, 0.0, 0.0, 0.0, 0.0, 0.0, 0.0, 0.0, 0.0, 0.0, 0.0, 0.0, 0.0, 0.0, 0.0, 0.0], [0.7119250893592834, 0.0023743293713778257, 0.022494271397590637, 0.0008794568129815161, 0.0010145448613911867, 0.02784755639731884, 0.023397671058773994, 0.04689500480890274, 0.023652026429772377, 0.03958214446902275, 0.003984494600445032, 0.05253891274333, 0.010185710154473782, 0.03322870656847954, 0.0, 0.0, 0.0, 0.0, 0.0, 0.0, 0.0, 0.0, 0.0, 0.0, 0.0, 0.0, 0.0, 0.0, 0.0, 0.0], [0.38100504875183105, 0.01128431223332882, 0.02861037477850914, 0.0020362643990665674, 0.007078547030687332, 0.10888524353504181, 0.05053234472870827, 0.056244127452373505, 0.028046073392033577, 0.10785438120365143, 0.01196129247546196, 0.08002505451440811, 0.03790034353733063, 0.05876598507165909, 0.02977057546377182, 0.0, 0.0, 0.0, 0.0, 0.0, 0.0, 0.0, 0.0, 0.0, 0.0, 0.0, 0.0, 0.0, 0.0, 0.0], [0.8727478384971619, 0.0012350180186331272, 0.011219793930649757, 0.0005569954519160092, 0.0005463201086968184, 0.019183143973350525, 0.012237499468028545, 0.01905493065714836, 0.005540979560464621, 0.01679839752614498, 0.0011423660907894373, 0.014317765831947327, 0.003207802539691329, 0.009192059747874737, 0.0026492630131542683, 0.010369851253926754, 0.0, 0.0, 0.0, 0.0, 0.0, 0.0, 0.0, 0.0, 0.0, 0.0, 0.0, 0.0, 0.0, 0.0], [0.4343568682670593, 0.014987453818321228, 0.019172102212905884, 0.0013737897388637066, 0.005030549131333828, 0.1095084547996521, 0.04631281644105911, 0.04824163392186165, 0.014698531478643417, 0.0740899071097374, 0.006952377501875162, 0.05982591211795807, 0.025949696078896523, 0.03044474683701992, 0.021859055384993553, 0.0681990385055542, 0.018997082486748695, 0.0, 0.0, 0.0, 0.0, 0.0, 0.0, 0.0, 0.0, 0.0, 0.0, 0.0, 0.0, 0.0], [0.8612545132637024, 0.0014925494324415922, 0.010597294196486473, 0.0008536381646990776, 0.0006341453990899026, 0.029257139191031456, 0.015734311193227768, 0.027791261672973633, 0.00475305924192071, 0.009309424087405205, 0.0010372847318649292, 0.008673325181007385, 0.0027547855861485004, 0.005499657709151506, 0.0027476123068481684, 0.00791945867240429, 0.002740107476711273, 0.006950362119823694, 0.0, 0.0, 0.0, 0.0, 0.0, 0.0, 0.0, 0.0, 0.0, 0.0, 0.0, 0.0], [0.5166552066802979, 0.011028090491890907, 0.017557648941874504, 0.0011700401082634926, 0.003695122431963682, 0.12994301319122314, 0.03360112011432648, 0.05961304157972336, 0.014773525297641754, 0.03734423965215683, 0.004189361352473497, 0.03546080365777016, 0.012685448862612247, 0.016224130988121033, 0.01051885262131691, 0.04154470935463905, 0.008882340043783188, 0.03673950210213661, 0.008373781107366085, 0.0, 0.0, 0.0, 0.0, 0.0, 0.0, 0.0, 0.0, 0.0, 0.0, 0.0], [0.865470290184021, 0.0012426176108419895, 0.007369251921772957, 0.0006367525784298778, 0.0003701372188515961, 0.026457959786057472, 0.009739740751683712, 0.029778311029076576, 0.004183875862509012, 0.00821062084287405, 0.0011644735932350159, 0.007955365814268589, 0.002759587485343218, 0.004057673737406731, 0.001958353677764535, 0.007091693114489317, 0.0015713603934273124, 0.005411890335381031, 0.002024894580245018, 0.012545231729745865, 0.0, 0.0, 0.0, 0.0, 0.0, 0.0, 0.0, 0.0, 0.0, 0.0], [0.4718077480792999, 0.0129982465878129, 0.016331499442458153, 0.0012289766455069184, 0.0029095089994370937, 0.09618227183818817, 0.035568296909332275, 0.04467392712831497, 0.018253792077302933, 0.04970317333936691, 0.00486669410020113, 0.029820913448929787, 0.014922826550900936, 0.01697893626987934, 0.012333137914538383, 0.036334577947854996, 0.01013696938753128, 0.04250814765691757, 0.008100458420813084, 0.06713841110467911, 0.007201553788036108, 0.0, 0.0, 0.0, 0.0, 0.0, 0.0, 0.0, 0.0, 0.0], [0.7005729079246521, 0.0022512588184326887, 0.03052292764186859, 0.0016291702631860971, 0.0008279458852484822, 0.04638228565454483, 0.015155858360230923, 0.038230154663324356, 0.006477713584899902, 0.012230634689331055, 0.0017525707371532917, 0.020957060158252716, 0.00582965649664402, 0.010090249590575695, 0.0044625261798501015, 0.013865147717297077, 0.002891980344429612, 0.007470749784260988, 0.003640014911070466, 0.028882157057523727, 0.002222346141934395, 0.04365469515323639, 0.0, 0.0, 0.0, 0.0, 0.0, 0.0, 0.0, 0.0], [0.3740670084953308, 0.008741508238017559, 0.018052421510219574, 0.001377538894303143, 0.003778708167374134, 0.09130477905273438, 0.04085054621100426, 0.040502216666936874, 0.016837237402796745, 0.059146005660295486, 0.007039936259388924, 0.03927545249462128, 0.019566651433706284, 0.017296260222792625, 0.015458259731531143, 0.041454996913671494, 0.012424222193658352, 0.035249013453722, 0.00925408024340868, 0.05990446358919144, 0.00725617166608572, 0.07300126552581787, 0.008161316625773907, 0.0, 0.0, 0.0, 0.0, 0.0, 0.0, 0.0], [0.3965494930744171, 0.009025372564792633, 0.012891173362731934, 0.004710696171969175, 0.006256867200136185, 0.1474926918745041, 0.030217455700039864, 0.027294477447867393, 0.010584686882793903, 0.041030220687389374, 0.010136144235730171, 0.028425058349967003, 0.022022733464837074, 0.010179683566093445, 0.01621493138372898, 0.023811208084225655, 0.01479334756731987, 0.017510220408439636, 0.010921062901616096, 0.05602195858955383, 0.008354884572327137, 0.0600564070045948, 0.010163974016904831, 0.025335311889648438, 0.0, 0.0, 0.0, 0.0, 0.0, 0.0], [0.8578543663024902, 0.0017335134325549006, 0.008494908921420574, 0.0032055003102868795, 0.0015482945600524545, 0.014143701642751694, 0.008855605497956276, 0.019810069352388382, 0.004305991809815168, 0.009150764904916286, 0.0024036827962845564, 0.009784678928554058, 0.00419648690149188, 0.004328207578510046, 0.003139249049127102, 0.005605129990726709, 0.002231206512078643, 0.0031681277323514223, 0.0029107844457030296, 0.009231417439877987, 0.0015697412891313434, 0.010041659697890282, 0.0014491942711174488, 0.0040980856865644455, 0.006739555858075619, 0.0, 0.0, 0.0, 0.0, 0.0], [0.5293402075767517, 0.002348569920286536, 0.022122394293546677, 0.013954448513686657, 0.0062877642922103405, 0.055620402097702026, 0.01764187403023243, 0.03445624187588692, 0.010298364795744419, 0.048357609659433365, 0.010769544169306755, 0.04146718233823776, 0.020821548998355865, 0.023018034175038338, 0.0111847510561347, 0.021080149337649345, 0.008110173977911472, 0.004366352688521147, 0.006988519802689552, 0.03162258863449097, 0.00427065696567297, 0.03075968101620674, 0.004293322563171387, 0.012621171772480011, 0.012244845740497112, 0.01595357619225979, 0.0, 0.0, 0.0, 0.0], [0.6462934017181396, 0.007536015473306179, 0.012960614636540413, 0.017018800601363182, 0.0060327062383294106, 0.04363364726305008, 0.013899052515625954, 0.013201570138335228, 0.005532546900212765, 0.035396937280893326, 0.012658922001719475, 0.017348339781165123, 0.015467229299247265, 0.011530944146215916, 0.008213573135435581, 0.00858823861926794, 0.007157091051340103, 0.0029144256841391325, 0.005533399060368538, 0.023802360519766808, 0.003194603370502591, 0.01823941059410572, 0.003503593383356929, 0.00823516957461834, 0.01022343710064888, 0.017970116809010506, 0.023913906887173653, 0.0, 0.0, 0.0], [0.1403554379940033, 0.0062295421957969666, 0.017057016491889954, 0.005550042726099491, 0.00703504728153348, 0.12710833549499512, 0.012988491915166378, 0.013299806043505669, 0.023325348272919655, 0.10987149178981781, 0.021513041108846664, 0.09052973240613937, 0.029757224023342133, 0.037455007433891296, 0.013720792718231678, 0.04229145497083664, 0.010463224723935127, 0.007881524041295052, 0.007891894318163395, 0.09380664676427841, 0.004255357198417187, 0.06794624775648117, 0.004935742821544409, 0.010987691581249237, 0.03273870423436165, 0.015530315227806568, 0.03156331554055214, 0.013911521062254906, 0.0, 0.0], [0.22132016718387604, 0.008476747199892998, 0.01765274628996849, 0.009053582325577736, 0.009425835683941841, 0.16276316344738007, 0.014020389877259731, 0.030399668961763382, 0.026017675176262856, 0.08505592495203018, 0.02788766473531723, 0.051506489515304565, 0.025033948943018913, 0.021269047632813454, 0.013480035588145256, 0.022228403016924858, 0.009797078557312489, 0.005270174704492092, 0.0072560603730380535, 0.060184553265571594, 0.004976700991392136, 0.03984988108277321, 0.005544617306441069, 0.012304057367146015, 0.023169418796896935, 0.016999395564198494, 0.03185180202126503, 0.014501366764307022, 0.022703418508172035, 0.0], [0.5657625198364258, 0.006753317080438137, 0.004487105645239353, 0.006231045816093683, 0.0073822843842208385, 0.03905278444290161, 0.005805013235658407, 0.013576174154877663, 0.00723519129678607, 0.022174397483468056, 0.009978014044463634, 0.023735448718070984, 0.006215404253453016, 0.007306012790650129, 0.0036386826541274786, 0.008544880896806717, 0.0024662131909281015, 0.003198201535269618, 0.0024022420402616262, 0.018491044640541077, 0.0014059364330023527, 0.009066049009561539, 0.0014448940055444837, 0.0030749794095754623, 0.018060054630041122, 0.006338246166706085, 0.01018138974905014, 0.0064515285193920135, 0.010215201415121555, 0.16932570934295654]], [[1.0, 0.0, 0.0, 0.0, 0.0, 0.0, 0.0, 0.0, 0.0, 0.0, 0.0, 0.0, 0.0, 0.0, 0.0, 0.0, 0.0, 0.0, 0.0, 0.0, 0.0, 0.0, 0.0, 0.0, 0.0, 0.0, 0.0, 0.0, 0.0, 0.0], [0.9967623949050903, 0.0032376328017562628, 0.0, 0.0, 0.0, 0.0, 0.0, 0.0, 0.0, 0.0, 0.0, 0.0, 0.0, 0.0, 0.0, 0.0, 0.0, 0.0, 0.0, 0.0, 0.0, 0.0, 0.0, 0.0, 0.0, 0.0, 0.0, 0.0, 0.0, 0.0], [0.9761909246444702, 0.007887188345193863, 0.015921857208013535, 0.0, 0.0, 0.0, 0.0, 0.0, 0.0, 0.0, 0.0, 0.0, 0.0, 0.0, 0.0, 0.0, 0.0, 0.0, 0.0, 0.0, 0.0, 0.0, 0.0, 0.0, 0.0, 0.0, 0.0, 0.0, 0.0, 0.0], [0.9904029369354248, 0.0027576135471463203, 0.005464800633490086, 0.0013746822951361537, 0.0, 0.0, 0.0, 0.0, 0.0, 0.0, 0.0, 0.0, 0.0, 0.0, 0.0, 0.0, 0.0, 0.0, 0.0, 0.0, 0.0, 0.0, 0.0, 0.0, 0.0, 0.0, 0.0, 0.0, 0.0, 0.0], [0.992665708065033, 0.0003341086267028004, 0.0008664684719406068, 0.00034324373700655997, 0.0057905432768166065, 0.0, 0.0, 0.0, 0.0, 0.0, 0.0, 0.0, 0.0, 0.0, 0.0, 0.0, 0.0, 0.0, 0.0, 0.0, 0.0, 0.0, 0.0, 0.0, 0.0, 0.0, 0.0, 0.0, 0.0, 0.0], [0.9752251505851746, 0.0013606874272227287, 0.0047104754485189915, 0.0007958390051499009, 0.004956492688506842, 0.012951449491083622, 0.0, 0.0, 0.0, 0.0, 0.0, 0.0, 0.0, 0.0, 0.0, 0.0, 0.0, 0.0, 0.0, 0.0, 0.0, 0.0, 0.0, 0.0, 0.0, 0.0, 0.0, 0.0, 0.0, 0.0], [0.9929420948028564, 0.0014421562664210796, 0.0008039352833293378, 0.0006628220435231924, 0.0005311425193212926, 0.0017892688047140837, 0.0018285689875483513, 0.0, 0.0, 0.0, 0.0, 0.0, 0.0, 0.0, 0.0, 0.0, 0.0, 0.0, 0.0, 0.0, 0.0, 0.0, 0.0, 0.0, 0.0, 0.0, 0.0, 0.0, 0.0, 0.0], [0.7584114074707031, 0.013088684529066086, 0.023580392822623253, 0.0068869823589921, 0.14093947410583496, 0.036011192947626114, 0.01209145225584507, 0.008990413509309292, 0.0, 0.0, 0.0, 0.0, 0.0, 0.0, 0.0, 0.0, 0.0, 0.0, 0.0, 0.0, 0.0, 0.0, 0.0, 0.0, 0.0, 0.0, 0.0, 0.0, 0.0, 0.0], [0.9401726722717285, 0.0018602745840325952, 0.004336084239184856, 0.0011050701141357422, 0.022357070818543434, 0.006928369868546724, 0.01028758380562067, 0.002131300512701273, 0.010821588337421417, 0.0, 0.0, 0.0, 0.0, 0.0, 0.0, 0.0, 0.0, 0.0, 0.0, 0.0, 0.0, 0.0, 0.0, 0.0, 0.0, 0.0, 0.0, 0.0, 0.0, 0.0], [0.9263785481452942, 0.002900125226005912, 0.005532761104404926, 0.001685868832282722, 0.004863094538450241, 0.0013477576430886984, 0.005606795661151409, 0.022995084524154663, 0.0032635200768709183, 0.0254263523966074, 0.0, 0.0, 0.0, 0.0, 0.0, 0.0, 0.0, 0.0, 0.0, 0.0, 0.0, 0.0, 0.0, 0.0, 0.0, 0.0, 0.0, 0.0, 0.0, 0.0], [0.7499368190765381, 0.004166219849139452, 0.027436386793851852, 0.002129160799086094, 0.05863411724567413, 0.0078012398444116116, 0.0034026242792606354, 0.00457813311368227, 0.11139949411153793, 0.02822783775627613, 0.0022879261523485184, 0.0, 0.0, 0.0, 0.0, 0.0, 0.0, 0.0, 0.0, 0.0, 0.0, 0.0, 0.0, 0.0, 0.0, 0.0, 0.0, 0.0, 0.0, 0.0], [0.9467126727104187, 0.0012741469545289874, 0.004610871430486441, 0.001178169623017311, 0.002932728501036763, 0.0016046358505263925, 0.002499429741874337, 0.009001401253044605, 0.00293132197111845, 0.017318321391940117, 0.005134726408869028, 0.004801610484719276, 0.0, 0.0, 0.0, 0.0, 0.0, 0.0, 0.0, 0.0, 0.0, 0.0, 0.0, 0.0, 0.0, 0.0, 0.0, 0.0, 0.0, 0.0], [0.944841206073761, 0.0009097307338379323, 0.006216333247721195, 0.001191458199173212, 0.0033308700658380985, 0.000948170549236238, 0.0028277221135795116, 0.0003240730438847095, 0.0033794476184993982, 0.005853605456650257, 0.00034709981991909444, 0.02834692969918251, 0.0014833149034529924, 0.0, 0.0, 0.0, 0.0, 0.0, 0.0, 0.0, 0.0, 0.0, 0.0, 0.0, 0.0, 0.0, 0.0, 0.0, 0.0, 0.0], [0.9573105573654175, 0.0006250583101063967, 0.0031266105361282825, 0.0006789328763261437, 0.0010860305046662688, 0.0011411102022975683, 0.0014970300253480673, 0.004931678995490074, 0.0009487882489338517, 0.009363601915538311, 0.0017662857426330447, 0.003661736845970154, 0.003879840951412916, 0.00998272281140089, 0.0, 0.0, 0.0, 0.0, 0.0, 0.0, 0.0, 0.0, 0.0, 0.0, 0.0, 0.0, 0.0, 0.0, 0.0, 0.0], [0.9714364409446716, 0.0006940427701920271, 0.004514557775110006, 0.0006809921469539404, 0.0018365108408033848, 0.0002648991358000785, 0.0009124751086346805, 0.00012174342555226758, 0.0007748068310320377, 0.0012623261427506804, 9.216999023919925e-05, 0.005158649291843176, 0.0004002276691608131, 0.011110648512840271, 0.0007393857813440263, 0.0, 0.0, 0.0, 0.0, 0.0, 0.0, 0.0, 0.0, 0.0, 0.0, 0.0, 0.0, 0.0, 0.0, 0.0], [0.9668222069740295, 0.00032699498115107417, 0.002110239816829562, 0.0004116585769224912, 0.0006050931406207383, 0.0009535251883789897, 0.00026574137154966593, 0.003233008086681366, 0.0012972281547263265, 0.003597238101065159, 0.0011347882682457566, 0.0012411288917064667, 0.004491319414228201, 0.0053940569050610065, 0.005967907141894102, 0.0021479609422385693, 0.0, 0.0, 0.0, 0.0, 0.0, 0.0, 0.0, 0.0, 0.0, 0.0, 0.0, 0.0, 0.0, 0.0], [0.9785955548286438, 0.0005075405351817608, 0.0021503164898604155, 0.0003813064831774682, 0.002035571960732341, 0.0001993191835936159, 0.0007186081493273377, 8.425326814176515e-05, 0.00032258700230158865, 0.0007572027388960123, 4.6790453779976815e-05, 0.0022448014933615923, 0.00022141770750749856, 0.005056862253695726, 0.00039907675818540156, 0.0059267086908221245, 0.00035209467750974, 0.0, 0.0, 0.0, 0.0, 0.0, 0.0, 0.0, 0.0, 0.0, 0.0, 0.0, 0.0, 0.0], [0.97173011302948, 0.0002697487361729145, 0.0013833558186888695, 0.00022216768411453813, 0.0004281688015908003, 0.0005318165640346706, 0.001180762890726328, 0.0013231347547844052, 0.0011531885247677565, 0.0025669103488326073, 0.0002362161030760035, 0.0033367564901709557, 0.0019456121372058988, 0.006334580946713686, 0.001588302431628108, 0.001794476993381977, 0.002204612595960498, 0.0017699591116979718, 0.0, 0.0, 0.0, 0.0, 0.0, 0.0, 0.0, 0.0, 0.0, 0.0, 0.0, 0.0], [0.9719132781028748, 0.0017719479510560632, 0.003893075278028846, 0.0007858893368393183, 0.004850282799452543, 0.00035798156750388443, 0.0019666776061058044, 0.00018219447520095855, 0.00038233454688452184, 0.0008093868382275105, 3.5425255191512406e-05, 0.0020265046041458845, 0.00017176872643176466, 0.002462072065100074, 0.0002160800067940727, 0.0034041216131299734, 0.00019059776968788356, 0.004162539727985859, 0.0004178737581241876, 0.0, 0.0, 0.0, 0.0, 0.0, 0.0, 0.0, 0.0, 0.0, 0.0, 0.0], [0.9228742718696594, 0.0011808205163106322, 0.002355569042265415, 0.0012671315344050527, 0.0029631913639605045, 0.0010954758618026972, 0.001428942778147757, 0.005849542561918497, 0.0006033676327206194, 0.010987145826220512, 0.0033995001576840878, 0.001957009546458721, 0.010116192512214184, 0.005606311373412609, 0.009563533589243889, 0.0034473533742129803, 0.004866620060056448, 0.0017397771589457989, 0.003508577588945627, 0.005189759656786919, 0.0, 0.0, 0.0, 0.0, 0.0, 0.0, 0.0, 0.0, 0.0, 0.0], [0.9590024352073669, 0.000907042995095253, 0.0035671701189130545, 0.0010168742155656219, 0.001491416827775538, 0.00019112495647277683, 0.0008086568559519947, 9.866100299404934e-05, 0.0003808675392065197, 0.0009646600810810924, 8.151872316375375e-05, 0.002908378606662154, 0.0004949514986947179, 0.005651284009218216, 0.0007805441855452955, 0.005054231267422438, 0.0004003570938948542, 0.003870690008625388, 0.0004391510155983269, 0.01074454840272665, 0.0011454507475718856, 0.0, 0.0, 0.0, 0.0, 0.0, 0.0, 0.0, 0.0, 0.0], [0.9536128640174866, 0.0005105382297188044, 0.0025922844652086496, 0.0006401606369763613, 0.0006925649358890951, 0.0003435401595197618, 0.0003891092201229185, 0.004893104080110788, 0.00016077863983809948, 0.0020276422146707773, 0.002425489015877247, 0.0010224124416708946, 0.004590265452861786, 0.0020798209588974714, 0.005521108862012625, 0.0017094408394768834, 0.003950849641114473, 0.0009891913505271077, 0.0013618606608361006, 0.0015025143511593342, 0.004055160563439131, 0.004929334856569767, 0.0, 0.0, 0.0, 0.0, 0.0, 0.0, 0.0, 0.0], [0.9061622023582458, 0.0008058954263105989, 0.006165794096887112, 0.0013147289864718914, 0.003256718860939145, 0.00032563836430199444, 0.0010742495069280267, 0.00011534360237419605, 0.00046040062443353236, 0.0012101869797334075, 0.00012301445531193167, 0.005278836470097303, 0.0005798994097858667, 0.008301719091832638, 0.0009603098151274025, 0.007580182980746031, 0.00048342449008487165, 0.005216430872678757, 0.0003725042042788118, 0.012762529775500298, 0.0010759736178442836, 0.03454754874110222, 0.0018265001708641648, 0.0, 0.0, 0.0, 0.0, 0.0, 0.0, 0.0], [0.8843713402748108, 0.0011942206183448434, 0.005981325637549162, 0.0016592766623944044, 0.01084677129983902, 0.0011544979643076658, 0.0012929867953062057, 0.00011864298721775413, 0.0006577171152457595, 0.0021568809170275927, 0.00017343342187814415, 0.00461063627153635, 0.0006581029738299549, 0.008963576517999172, 0.0009545358479954302, 0.0097260857000947, 0.000781114271376282, 0.00644717738032341, 0.0005588622880168259, 0.01489727571606636, 0.0009786842856556177, 0.03527377173304558, 0.0012655615573748946, 0.005277615040540695, 0.0, 0.0, 0.0, 0.0, 0.0, 0.0], [0.9423015713691711, 0.0007385908393189311, 0.004129236098378897, 0.0010803452460095286, 0.0022134396713227034, 0.001454198732972145, 0.0011925543658435345, 0.009700254537165165, 0.000294313533231616, 0.003900369396433234, 0.0020172845106571913, 0.0017112554050981998, 0.00354839488863945, 0.002381691476330161, 0.0024712022859603167, 0.0012063684407621622, 0.0014040647074580193, 0.0003567715466488153, 0.0011001103557646275, 0.001581803080625832, 0.0019559895154088736, 0.002051738789305091, 0.003559869946911931, 0.00343164405785501, 0.004217071458697319, 0.0, 0.0, 0.0, 0.0, 0.0], [0.946940541267395, 0.003297908464446664, 0.004009770229458809, 0.0013981371885165572, 0.006224449723958969, 0.00185162085108459, 0.0026627012994140387, 0.020547032356262207, 0.0014814605237916112, 0.0026725505013018847, 0.0009400085546076298, 0.0018103448674082756, 0.00047896543401293457, 0.001232608687132597, 0.0002671871043276042, 0.00041338399751111865, 0.0001569413871038705, 0.00025463124620728195, 0.00020498728554230183, 0.0002052357158390805, 6.742161349393427e-05, 0.00018268462736159563, 7.147826545406133e-05, 0.00020589519408531487, 0.00048560809227637947, 0.0019365421030670404, 0.0, 0.0, 0.0, 0.0], [0.9834529757499695, 0.0013068211264908314, 0.0009237874182872474, 0.0012380388798192143, 0.0013166212011128664, 0.0007054314482957125, 0.000259368127444759, 0.00397723400965333, 0.0006456777337007225, 0.0014321721391752362, 0.0006415160023607314, 0.0005608806386590004, 0.00022261460253503174, 0.00042670630500651896, 0.00021833801292814314, 0.00023664657783228904, 9.789846080821007e-05, 0.0001496817567385733, 0.00011063385318266228, 0.00014911283506080508, 8.578237611800432e-05, 0.00013165664859116077, 7.536340126534924e-05, 0.00012916559353470802, 0.00015024795720819384, 0.0006103006307967007, 0.0007453097496181726, 0.0, 0.0, 0.0], [0.915313184261322, 0.004809106700122356, 0.001061116810888052, 0.00295745930634439, 0.05559038743376732, 0.0019038614118471742, 0.0009837099350988865, 0.0008416312048211694, 0.002501650247722864, 0.003400601213797927, 0.0002254395658383146, 0.003332975320518017, 6.182429933687672e-05, 0.0013867428060621023, 3.305365316919051e-05, 0.0009253851021640003, 2.0449511794140562e-05, 0.0004562639514915645, 2.4403123461524956e-05, 0.000612437492236495, 1.5049346984596923e-05, 0.0004269550263416022, 1.0776771887321956e-05, 5.472646080306731e-05, 0.0005046178703196347, 0.00016828135994728655, 0.0010406210785731673, 0.0013372956309467554, 0.0, 0.0], [0.8649815320968628, 0.003064010525122285, 0.001011632732115686, 0.0006802502903155982, 0.11383955180644989, 0.0022758690174669027, 0.0022923375945538282, 0.0005381078808568418, 0.0019150521839037538, 0.0027346876449882984, 0.00019407219951972365, 0.001521208556368947, 6.378605758072808e-05, 0.0006581796915270388, 3.5698729334399104e-05, 0.0003797079552896321, 2.5132765586022288e-05, 0.0002986227045767009, 3.049370934604667e-05, 0.00026035940391011536, 1.5768939192639664e-05, 0.0001693299418548122, 1.1757784704968799e-05, 4.551520760287531e-05, 0.0002649047819431871, 0.00016647548181936145, 0.0006950914394110441, 0.0007772244280204177, 0.0010536354966461658, 0.0], [0.9606210589408875, 0.0024264107923954725, 0.001058710040524602, 0.0010030708508566022, 0.010364634916186333, 0.0007209627074189484, 0.0009347611339762807, 0.0006729423184879124, 0.0005334953893907368, 0.006065737921744585, 0.0009785115253180265, 0.0013714466476812959, 0.0002856403880286962, 0.0009380796691402793, 0.00011847670975839719, 0.0007129717851057649, 7.335229020100087e-05, 0.0006874644313938916, 8.330545097123832e-05, 0.0004382570623420179, 0.00012764082930516452, 0.0003745848953258246, 0.00011188783537363634, 0.00028576789190992713, 0.00046051948447711766, 0.00021096921409480274, 0.0003752417105715722, 0.000390286382753402, 0.00023824916570447385, 0.007335600908845663]], [[1.0, 0.0, 0.0, 0.0, 0.0, 0.0, 0.0, 0.0, 0.0, 0.0, 0.0, 0.0, 0.0, 0.0, 0.0, 0.0, 0.0, 0.0, 0.0, 0.0, 0.0, 0.0, 0.0, 0.0, 0.0, 0.0, 0.0, 0.0, 0.0, 0.0], [0.972687304019928, 0.027312684804201126, 0.0, 0.0, 0.0, 0.0, 0.0, 0.0, 0.0, 0.0, 0.0, 0.0, 0.0, 0.0, 0.0, 0.0, 0.0, 0.0, 0.0, 0.0, 0.0, 0.0, 0.0, 0.0, 0.0, 0.0, 0.0, 0.0, 0.0, 0.0], [0.8499704003334045, 0.03381243720650673, 0.11621715128421783, 0.0, 0.0, 0.0, 0.0, 0.0, 0.0, 0.0, 0.0, 0.0, 0.0, 0.0, 0.0, 0.0, 0.0, 0.0, 0.0, 0.0, 0.0, 0.0, 0.0, 0.0, 0.0, 0.0, 0.0, 0.0, 0.0, 0.0], [0.6186695694923401, 0.03721126541495323, 0.2775673568248749, 0.06655184924602509, 0.0, 0.0, 0.0, 0.0, 0.0, 0.0, 0.0, 0.0, 0.0, 0.0, 0.0, 0.0, 0.0, 0.0, 0.0, 0.0, 0.0, 0.0, 0.0, 0.0, 0.0, 0.0, 0.0, 0.0, 0.0, 0.0], [0.5426873564720154, 0.010178194381296635, 0.21278680860996246, 0.21169130504131317, 0.02265637367963791, 0.0, 0.0, 0.0, 0.0, 0.0, 0.0, 0.0, 0.0, 0.0, 0.0, 0.0, 0.0, 0.0, 0.0, 0.0, 0.0, 0.0, 0.0, 0.0, 0.0, 0.0, 0.0, 0.0, 0.0, 0.0], [0.33510395884513855, 0.006075324956327677, 0.19939294457435608, 0.3910529315471649, 0.04555569216609001, 0.02281912975013256, 0.0, 0.0, 0.0, 0.0, 0.0, 0.0, 0.0, 0.0, 0.0, 0.0, 0.0, 0.0, 0.0, 0.0, 0.0, 0.0, 0.0, 0.0, 0.0, 0.0, 0.0, 0.0, 0.0, 0.0], [0.47337883710861206, 0.010480291210114956, 0.11270771920681, 0.18038176000118256, 0.08753927052021027, 0.10621822625398636, 0.029293794184923172, 0.0, 0.0, 0.0, 0.0, 0.0, 0.0, 0.0, 0.0, 0.0, 0.0, 0.0, 0.0, 0.0, 0.0, 0.0, 0.0, 0.0, 0.0, 0.0, 0.0, 0.0, 0.0, 0.0], [0.777390718460083, 0.004872489254921675, 0.04137135297060013, 0.022290030494332314, 0.02690506912767887, 0.03922369331121445, 0.07093743234872818, 0.01700921356678009, 0.0, 0.0, 0.0, 0.0, 0.0, 0.0, 0.0, 0.0, 0.0, 0.0, 0.0, 0.0, 0.0, 0.0, 0.0, 0.0, 0.0, 0.0, 0.0, 0.0, 0.0, 0.0], [0.7609246373176575, 0.000915357144549489, 0.00705206161364913, 0.0040961639024317265, 0.0035605502780526876, 0.00516456738114357, 0.0026359898038208485, 0.1308152675628662, 0.0848354920744896, 0.0, 0.0, 0.0, 0.0, 0.0, 0.0, 0.0, 0.0, 0.0, 0.0, 0.0, 0.0, 0.0, 0.0, 0.0, 0.0, 0.0, 0.0, 0.0, 0.0, 0.0], [0.27757370471954346, 0.001079405308701098, 0.006681426893919706, 0.0057729012332856655, 0.0021476049441844225, 0.004357149358838797, 0.002685304032638669, 0.4597371220588684, 0.20736555755138397, 0.03259988874197006, 0.0, 0.0, 0.0, 0.0, 0.0, 0.0, 0.0, 0.0, 0.0, 0.0, 0.0, 0.0, 0.0, 0.0, 0.0, 0.0, 0.0, 0.0, 0.0, 0.0], [0.5436573028564453, 0.0021620099432766438, 0.01006894651800394, 0.005848917178809643, 0.00831806380301714, 0.011590099893510342, 0.02128876931965351, 0.10564128309488297, 0.12623298168182373, 0.12589365243911743, 0.039297979325056076, 0.0, 0.0, 0.0, 0.0, 0.0, 0.0, 0.0, 0.0, 0.0, 0.0, 0.0, 0.0, 0.0, 0.0, 0.0, 0.0, 0.0, 0.0, 0.0], [0.6143391132354736, 0.00027576441061683, 0.0025052560959011316, 0.00385891180485487, 0.001557973911985755, 0.0033914458472281694, 0.0025478415191173553, 0.15200835466384888, 0.03874541074037552, 0.017734335735440254, 0.1386386901140213, 0.024396881461143494, 0.0, 0.0, 0.0, 0.0, 0.0, 0.0, 0.0, 0.0, 0.0, 0.0, 0.0, 0.0, 0.0, 0.0, 0.0, 0.0, 0.0, 0.0], [0.514639139175415, 0.0010337734129279852, 0.009446664713323116, 0.012804694473743439, 0.005301613826304674, 0.011620759963989258, 0.029122263193130493, 0.09521421045064926, 0.08195357024669647, 0.042807914316654205, 0.07953227311372757, 0.03394978120923042, 0.0825733169913292, 0.0, 0.0, 0.0, 0.0, 0.0, 0.0, 0.0, 0.0, 0.0, 0.0, 0.0, 0.0, 0.0, 0.0, 0.0, 0.0, 0.0], [0.2950776219367981, 0.0006260498776100576, 0.005441171582788229, 0.009112952277064323, 0.00322537450119853, 0.005853678099811077, 0.007830671034753323, 0.42052173614501953, 0.0322052426636219, 0.017381437122821808, 0.04306626692414284, 0.017588261514902115, 0.11622324585914612, 0.02584632858633995, 0.0, 0.0, 0.0, 0.0, 0.0, 0.0, 0.0, 0.0, 0.0, 0.0, 0.0, 0.0, 0.0, 0.0, 0.0, 0.0], [0.49100199341773987, 0.001243208535015583, 0.009955613873898983, 0.011882005259394646, 0.004260434303432703, 0.008917411789298058, 0.03910728543996811, 0.09710680693387985, 0.05980561301112175, 0.038493309170007706, 0.06606854498386383, 0.026003235951066017, 0.059782836586236954, 0.027265051379799843, 0.05910669267177582, 0.0, 0.0, 0.0, 0.0, 0.0, 0.0, 0.0, 0.0, 0.0, 0.0, 0.0, 0.0, 0.0, 0.0, 0.0], [0.31771767139434814, 0.0004798384616151452, 0.002758934162557125, 0.004010814242064953, 0.0018571364926174283, 0.0019468015525490046, 0.004529664292931557, 0.42413395643234253, 0.012366863898932934, 0.012892579659819603, 0.024473348632454872, 0.010927688330411911, 0.07178051769733429, 0.02248823083937168, 0.08173239976167679, 0.005903529468923807, 0.0, 0.0, 0.0, 0.0, 0.0, 0.0, 0.0, 0.0, 0.0, 0.0, 0.0, 0.0, 0.0, 0.0], [0.5078074932098389, 0.0011379810748621821, 0.009815601631999016, 0.014422180131077766, 0.005511877126991749, 0.011670715175569057, 0.04184534400701523, 0.11857061833143234, 0.04069897532463074, 0.026709601283073425, 0.05608928203582764, 0.015580828301608562, 0.040106501430273056, 0.017642881721258163, 0.03949373587965965, 0.009793600998818874, 0.04310278221964836, 0.0, 0.0, 0.0, 0.0, 0.0, 0.0, 0.0, 0.0, 0.0, 0.0, 0.0, 0.0, 0.0], [0.4516001343727112, 0.0006399904377758503, 0.00644263019785285, 0.009598602540791035, 0.002721427707001567, 0.003348692087456584, 0.00773988664150238, 0.2243298441171646, 0.02114093489944935, 0.008573820814490318, 0.025573380291461945, 0.006518554873764515, 0.05364396795630455, 0.010209291242063046, 0.056792449206113815, 0.004149660002440214, 0.09426183253526688, 0.012714928016066551, 0.0, 0.0, 0.0, 0.0, 0.0, 0.0, 0.0, 0.0, 0.0, 0.0, 0.0, 0.0], [0.4863332211971283, 0.001267898827791214, 0.012733038514852524, 0.016614845022559166, 0.0064074695110321045, 0.013001862913370132, 0.03445068746805191, 0.10669935494661331, 0.05780145898461342, 0.02299841307103634, 0.04722076654434204, 0.01174915675073862, 0.030213849619030952, 0.012470311485230923, 0.02919602580368519, 0.006354738958179951, 0.03046826645731926, 0.0139399329200387, 0.060078736394643784, 0.0, 0.0, 0.0, 0.0, 0.0, 0.0, 0.0, 0.0, 0.0, 0.0, 0.0], [0.21127746999263763, 0.00036777943023480475, 0.0035798668395727873, 0.003332077758386731, 0.0012892117956653237, 0.0011928786989301443, 0.009053013287484646, 0.5171395540237427, 0.007789099123328924, 0.007656557019799948, 0.026018349453806877, 0.0033992973621934652, 0.03292654827237129, 0.0056438869796693325, 0.033023152500391006, 0.0021416989620774984, 0.042070720344781876, 0.007205542642623186, 0.07478516548871994, 0.010108101181685925, 0.0, 0.0, 0.0, 0.0, 0.0, 0.0, 0.0, 0.0, 0.0, 0.0], [0.4665983021259308, 0.0009954015258699656, 0.011422227136790752, 0.015903305262327194, 0.00282497052103281, 0.006455192342400551, 0.02841581217944622, 0.07230596989393234, 0.03136641904711723, 0.01510492991656065, 0.04629695042967796, 0.01139596663415432, 0.03357145935297012, 0.01055711880326271, 0.03182501345872879, 0.0055841682478785515, 0.031863775104284286, 0.011953233741223812, 0.06258051097393036, 0.04558223485946655, 0.05739710107445717, 0.0, 0.0, 0.0, 0.0, 0.0, 0.0, 0.0, 0.0, 0.0], [0.30124631524086, 0.0009120618924498558, 0.008956232108175755, 0.009363754652440548, 0.0012054549297317863, 0.002286500297486782, 0.01961381733417511, 0.43609753251075745, 0.0069939554668962955, 0.0069900439120829105, 0.015832291916012764, 0.003231542417779565, 0.022522250190377235, 0.003921850584447384, 0.023845134302973747, 0.001159635721705854, 0.025464138016104698, 0.0026183510199189186, 0.0435018464922905, 0.007806470151990652, 0.04436386004090309, 0.012067041359841824, 0.0, 0.0, 0.0, 0.0, 0.0, 0.0, 0.0, 0.0], [0.49224933981895447, 0.0011955219088122249, 0.01043830718845129, 0.015606706030666828, 0.0020329621620476246, 0.007200506515800953, 0.027404332533478737, 0.05827154964208603, 0.024001287296414375, 0.011580424383282661, 0.036709532141685486, 0.00696925725787878, 0.026662161573767662, 0.006267989985644817, 0.026073167100548744, 0.003185729030519724, 0.024053245782852173, 0.006895903963595629, 0.04560120776295662, 0.026859233155846596, 0.04635230451822281, 0.021326249465346336, 0.07306301593780518, 0.0, 0.0, 0.0, 0.0, 0.0, 0.0, 0.0], [0.3789353668689728, 0.0017394240712746978, 0.010991973802447319, 0.009732568636536598, 0.0020418139174580574, 0.0035717024002224207, 0.0177741851657629, 0.022739291191101074, 0.014296537265181541, 0.00411996990442276, 0.034084681421518326, 0.0060730609111487865, 0.03982648253440857, 0.0044017634354531765, 0.04538744315505028, 0.0029070470482110977, 0.045311592519283295, 0.005256061442196369, 0.06681247800588608, 0.01483215857297182, 0.08502232283353806, 0.009331061504781246, 0.1283416748046875, 0.0464693121612072, 0.0, 0.0, 0.0, 0.0, 0.0, 0.0], [0.11030277609825134, 0.000918777019251138, 0.010580573230981827, 0.00916409119963646, 0.0014888469595462084, 0.0009919835720211267, 0.02813725732266903, 0.7184891700744629, 0.004000313580036163, 0.012605523690581322, 0.005946565885096788, 0.00331939198076725, 0.006639522034674883, 0.0038847948890179396, 0.006613006349653006, 0.0010860554175451398, 0.005387548357248306, 0.0011796565959230065, 0.006075773388147354, 0.003864818485453725, 0.0074556805193424225, 0.0057815201580524445, 0.012497506104409695, 0.02578582800924778, 0.007803061045706272, 0.0, 0.0, 0.0, 0.0, 0.0], [0.17537514865398407, 0.00797171052545309, 0.1727830171585083, 0.14984217286109924, 0.07441679388284683, 0.02948812209069729, 0.28840410709381104, 0.005604414269328117, 0.0008829305879771709, 0.004107996821403503, 0.0005647332291118801, 0.001069459249265492, 0.00019674953364301473, 0.00035718813887797296, 0.0001912596053443849, 0.0005007280269637704, 0.00012450195208657533, 0.00031393967219628394, 0.00013921473873779178, 0.0003929063677787781, 0.00014185148756951094, 0.00043200358049944043, 0.00020879712246824056, 0.0018258118070662022, 0.00043310580076649785, 0.08423133939504623, 0.0, 0.0, 0.0, 0.0], [0.9191495180130005, 0.0012985890498384833, 0.010144061408936977, 0.00669509032741189, 0.0024963575415313244, 0.0029450238216668367, 0.006204892415553331, 0.0013610925525426865, 0.0005561310681514442, 0.0007063774392008781, 0.000380735844373703, 0.0005243219784460962, 0.00011023482511518523, 0.00018256435578223318, 8.135155803756788e-05, 0.00014480261597782373, 6.980859325267375e-05, 0.0004194487992208451, 0.00013781286543235183, 0.00024285212566610426, 0.00010275820386596024, 0.00010826219659065828, 0.00012155913282185793, 0.0001338698057224974, 0.0001882407086668536, 0.023600861430168152, 0.021893266588449478, 0.0, 0.0, 0.0], [0.8501569032669067, 0.0024286655243486166, 0.024688221514225006, 0.008043770678341389, 0.003616014029830694, 0.003634281689301133, 0.0072638061828911304, 0.0013337129494175315, 0.0007646724116057158, 0.0005264669307507575, 0.0005369189311750233, 0.00015928619541227818, 0.0001406822120770812, 5.872207839274779e-05, 0.00011097719834651798, 5.71288910578005e-05, 9.754023631103337e-05, 8.640226587885991e-05, 0.00018238893244415522, 0.0001397395390085876, 0.000134903792059049, 8.398291538469493e-05, 0.00017265338101424277, 0.0002722663921304047, 0.00018179399194195867, 0.04417609050869942, 0.01345518697053194, 0.03749680146574974, 0.0, 0.0], [0.6873743534088135, 0.0017773889703676105, 0.012445827014744282, 0.004690731875598431, 0.002313809935003519, 0.002222972922027111, 0.005081847310066223, 0.001067102886736393, 0.0006335453945212066, 0.0008948727627284825, 0.0006935980054549873, 0.0003584079968277365, 0.0004444231162779033, 0.00014881788229104131, 0.0003835122042801231, 0.0001445878151571378, 0.0003055369888897985, 0.00019854659331031144, 0.00043837015982717276, 0.0003577057796064764, 0.0004848714452236891, 0.00020649634825531393, 0.0005869896849617362, 0.0011561202118173242, 0.0004881040076725185, 0.02850346267223358, 0.010019113309681416, 0.21628190577030182, 0.02029704488813877, 0.0], [0.7855321764945984, 0.0004610228934325278, 0.00517693068832159, 0.0034700892865657806, 0.00033218649332411587, 0.0002246507501695305, 0.0009470795630477369, 0.0015849967021495104, 0.0002247415977763012, 0.0002747959515545517, 0.00021611210831906646, 0.0003324279678054154, 0.00010659737017704174, 0.000315370736643672, 0.00010643626592354849, 0.0001320199080510065, 7.816968718543649e-05, 0.00027426891028881073, 0.0001526039995951578, 0.0002957346732728183, 0.00014038938388694078, 0.0003992972488049418, 0.00019878048624377698, 0.0004819219175260514, 0.00043501367326825857, 0.012375734746456146, 0.03197460621595383, 0.0879666656255722, 0.05705748870968819, 0.008731706999242306]], [[1.0, 0.0, 0.0, 0.0, 0.0, 0.0, 0.0, 0.0, 0.0, 0.0, 0.0, 0.0, 0.0, 0.0, 0.0, 0.0, 0.0, 0.0, 0.0, 0.0, 0.0, 0.0, 0.0, 0.0, 0.0, 0.0, 0.0, 0.0, 0.0, 0.0], [0.9959070682525635, 0.004092910792678595, 0.0, 0.0, 0.0, 0.0, 0.0, 0.0, 0.0, 0.0, 0.0, 0.0, 0.0, 0.0, 0.0, 0.0, 0.0, 0.0, 0.0, 0.0, 0.0, 0.0, 0.0, 0.0, 0.0, 0.0, 0.0, 0.0, 0.0, 0.0], [0.9838253855705261, 0.00913770217448473, 0.007036885246634483, 0.0, 0.0, 0.0, 0.0, 0.0, 0.0, 0.0, 0.0, 0.0, 0.0, 0.0, 0.0, 0.0, 0.0, 0.0, 0.0, 0.0, 0.0, 0.0, 0.0, 0.0, 0.0, 0.0, 0.0, 0.0, 0.0, 0.0], [0.983050525188446, 0.004710929002612829, 0.006233667954802513, 0.006004984490573406, 0.0, 0.0, 0.0, 0.0, 0.0, 0.0, 0.0, 0.0, 0.0, 0.0, 0.0, 0.0, 0.0, 0.0, 0.0, 0.0, 0.0, 0.0, 0.0, 0.0, 0.0, 0.0, 0.0, 0.0, 0.0, 0.0], [0.9776039123535156, 0.004831067752093077, 0.004512638784945011, 0.008668688125908375, 0.004383692517876625, 0.0, 0.0, 0.0, 0.0, 0.0, 0.0, 0.0, 0.0, 0.0, 0.0, 0.0, 0.0, 0.0, 0.0, 0.0, 0.0, 0.0, 0.0, 0.0, 0.0, 0.0, 0.0, 0.0, 0.0, 0.0], [0.9471086859703064, 0.006612943019717932, 0.0029510308522731066, 0.005156032741069794, 0.006112491711974144, 0.03205887973308563, 0.0, 0.0, 0.0, 0.0, 0.0, 0.0, 0.0, 0.0, 0.0, 0.0, 0.0, 0.0, 0.0, 0.0, 0.0, 0.0, 0.0, 0.0, 0.0, 0.0, 0.0, 0.0, 0.0, 0.0], [0.9634327292442322, 0.0063112033531069756, 0.0026671786326915026, 0.017590489238500595, 0.0023027737624943256, 0.006622945889830589, 0.0010726983891800046, 0.0, 0.0, 0.0, 0.0, 0.0, 0.0, 0.0, 0.0, 0.0, 0.0, 0.0, 0.0, 0.0, 0.0, 0.0, 0.0, 0.0, 0.0, 0.0, 0.0, 0.0, 0.0, 0.0], [0.9824318289756775, 0.002152339555323124, 0.0024849302135407925, 0.0016709616174921393, 0.0020089023746550083, 0.001519509358331561, 0.0002772684383671731, 0.00745431799441576, 0.0, 0.0, 0.0, 0.0, 0.0, 0.0, 0.0, 0.0, 0.0, 0.0, 0.0, 0.0, 0.0, 0.0, 0.0, 0.0, 0.0, 0.0, 0.0, 0.0, 0.0, 0.0], [0.9609672427177429, 0.00042933752411045134, 0.0008796076872386038, 0.0037949851248413324, 0.004786103963851929, 0.008068498224020004, 0.005748165305703878, 0.011553694494068623, 0.003772285534068942, 0.0, 0.0, 0.0, 0.0, 0.0, 0.0, 0.0, 0.0, 0.0, 0.0, 0.0, 0.0, 0.0, 0.0, 0.0, 0.0, 0.0, 0.0, 0.0, 0.0, 0.0], [0.9683923721313477, 0.0008813297608867288, 0.0006767602753825486, 0.004762388300150633, 0.0021109043154865503, 0.0017590506467968225, 0.0006765431025996804, 0.013003428466618061, 0.0033912768121808767, 0.004345848690718412, 0.0, 0.0, 0.0, 0.0, 0.0, 0.0, 0.0, 0.0, 0.0, 0.0, 0.0, 0.0, 0.0, 0.0, 0.0, 0.0, 0.0, 0.0, 0.0, 0.0], [0.913810133934021, 0.001146494410932064, 0.0021607400849461555, 0.005153048317879438, 0.003384601091966033, 0.0036391967441886663, 0.0024713589809834957, 0.013099048286676407, 0.017557865008711815, 0.016279011964797974, 0.021298442035913467, 0.0, 0.0, 0.0, 0.0, 0.0, 0.0, 0.0, 0.0, 0.0, 0.0, 0.0, 0.0, 0.0, 0.0, 0.0, 0.0, 0.0, 0.0, 0.0], [0.5488584637641907, 0.00037064251955598593, 0.0016869042301550508, 0.00674814498052001, 0.005305741913616657, 0.003369940211996436, 0.0015100704040378332, 0.008933775126934052, 0.0061279963701963425, 0.031784944236278534, 0.37636858224868774, 0.008934780955314636, 0.0, 0.0, 0.0, 0.0, 0.0, 0.0, 0.0, 0.0, 0.0, 0.0, 0.0, 0.0, 0.0, 0.0, 0.0, 0.0, 0.0, 0.0], [0.8505328893661499, 0.0009880632860586047, 0.0019017694285139441, 0.005863107740879059, 0.004510730039328337, 0.003983723931014538, 0.002410822082310915, 0.0040771979838609695, 0.015266370959579945, 0.01380973868072033, 0.01397662702947855, 0.06377037614583969, 0.01890857331454754, 0.0, 0.0, 0.0, 0.0, 0.0, 0.0, 0.0, 0.0, 0.0, 0.0, 0.0, 0.0, 0.0, 0.0, 0.0, 0.0, 0.0], [0.6063562035560608, 0.0005192915559746325, 0.0008874686318449676, 0.0033528844360262156, 0.003251038258895278, 0.001386795425787568, 0.0008301741327159107, 0.005968954414129257, 0.0022478655446320772, 0.006779020186513662, 0.12145151197910309, 0.002382103819400072, 0.24199295043945312, 0.0025937440805137157, 0.0, 0.0, 0.0, 0.0, 0.0, 0.0, 0.0, 0.0, 0.0, 0.0, 0.0, 0.0, 0.0, 0.0, 0.0, 0.0], [0.8739216923713684, 0.0012621592031791806, 0.001984190894290805, 0.00598859554156661, 0.005018456839025021, 0.0035784596111625433, 0.001311914878897369, 0.00407807994633913, 0.011142701841890812, 0.006286849267780781, 0.007447251118719578, 0.03223292529582977, 0.010931618511676788, 0.02742796391248703, 0.007387136574834585, 0.0, 0.0, 0.0, 0.0, 0.0, 0.0, 0.0, 0.0, 0.0, 0.0, 0.0, 0.0, 0.0, 0.0, 0.0], [0.6503034234046936, 0.0004214530636090785, 0.0009570940746925771, 0.0036567586939781904, 0.0022273953072726727, 0.0011422772658988833, 0.0003841789439320564, 0.006534714717417955, 0.0017126636812463403, 0.0034055982250720263, 0.04999557510018349, 0.001891435356810689, 0.1520726978778839, 0.0034003506880253553, 0.1197315901517868, 0.0021627398673444986, 0.0, 0.0, 0.0, 0.0, 0.0, 0.0, 0.0, 0.0, 0.0, 0.0, 0.0, 0.0, 0.0, 0.0], [0.8686298131942749, 0.0011887846048921347, 0.0016329787904396653, 0.004746376071125269, 0.0035980618558824062, 0.0022754257079213858, 0.0009148429962806404, 0.0035625991877168417, 0.006907365750521421, 0.0031666322611272335, 0.004820187576115131, 0.025640279054641724, 0.009485317394137383, 0.02429978922009468, 0.007327806204557419, 0.02525707334280014, 0.006546620279550552, 0.0, 0.0, 0.0, 0.0, 0.0, 0.0, 0.0, 0.0, 0.0, 0.0, 0.0, 0.0, 0.0], [0.6864920258522034, 0.0005301463534124196, 0.0016970523865893483, 0.003483592066913843, 0.004337916616350412, 0.004031127784401178, 0.0007533814641647041, 0.004956873133778572, 0.0014278747839853168, 0.009324830025434494, 0.045085545629262924, 0.0037037490401417017, 0.09591631591320038, 0.004540144465863705, 0.07137778401374817, 0.002990401815623045, 0.05603101849555969, 0.0033202236518263817, 0.0, 0.0, 0.0, 0.0, 0.0, 0.0, 0.0, 0.0, 0.0, 0.0, 0.0, 0.0], [0.8079658150672913, 0.0016259315889328718, 0.0020580277778208256, 0.004348330665379763, 0.004064598120748997, 0.002448473358526826, 0.0009016256080940366, 0.0042777457274496555, 0.009740491397678852, 0.003539052326232195, 0.00661014299839735, 0.03498302400112152, 0.01126196701079607, 0.028752243146300316, 0.007742488756775856, 0.035832155495882034, 0.006385168991982937, 0.017792902886867523, 0.009669973514974117, 0.0, 0.0, 0.0, 0.0, 0.0, 0.0, 0.0, 0.0, 0.0, 0.0, 0.0], [0.5230752229690552, 0.0005292594432830811, 0.0009382917196489871, 0.0037621078081429005, 0.00162322330288589, 0.0005628470680676401, 0.0005053128697909415, 0.006559616420418024, 0.0011195288971066475, 0.0012504503829404712, 0.048378217965364456, 0.0010060254717245698, 0.13373948633670807, 0.0020405948162078857, 0.10268691182136536, 0.0015050549991428852, 0.07488135993480682, 0.004464279394596815, 0.08750023692846298, 0.00387194543145597, 0.0, 0.0, 0.0, 0.0, 0.0, 0.0, 0.0, 0.0, 0.0, 0.0], [0.7888774275779724, 0.002034717006608844, 0.0028002317994832993, 0.0056647867895662785, 0.004681068006902933, 0.0030451256316155195, 0.0013617656659334898, 0.004104468040168285, 0.008488744497299194, 0.0038923020474612713, 0.003800429403781891, 0.03566871955990791, 0.007513423915952444, 0.036237601190805435, 0.006336873862892389, 0.03638089820742607, 0.005762552376836538, 0.018879156559705734, 0.006831131409853697, 0.014677484519779682, 0.0029609124176204205, 0.0, 0.0, 0.0, 0.0, 0.0, 0.0, 0.0, 0.0, 0.0], [0.480410099029541, 0.0007942494703456759, 0.0009988767560571432, 0.004476309288293123, 0.0016925511881709099, 0.0007051735301502049, 0.00029033588361926377, 0.006139096803963184, 0.0009887403575703502, 0.0009810356423258781, 0.035256724804639816, 0.0008146010804921389, 0.11457843333482742, 0.0021583742927759886, 0.1116037666797638, 0.0015614557778462768, 0.08166952431201935, 0.003697393462061882, 0.09388789534568787, 0.004088582005351782, 0.04894036427140236, 0.0042664362117648125, 0.0, 0.0, 0.0, 0.0, 0.0, 0.0, 0.0, 0.0], [0.717415452003479, 0.0018579690949991345, 0.0027879958506673574, 0.005112374201416969, 0.0056561254896223545, 0.0030420024413615465, 0.0017886958085000515, 0.003575510811060667, 0.009679627604782581, 0.00479882163926959, 0.003109111450612545, 0.04915585741400719, 0.005912299733608961, 0.05114419758319855, 0.004943966865539551, 0.04776448383927345, 0.004688385874032974, 0.021565651521086693, 0.0054483069106936455, 0.01904911920428276, 0.0023546991869807243, 0.026493659242987633, 0.002655779244378209, 0.0, 0.0, 0.0, 0.0, 0.0, 0.0, 0.0], [0.8642250895500183, 0.0019685584120452404, 0.002638649893924594, 0.004362267907708883, 0.00780873978510499, 0.007651408668607473, 0.0031856312416493893, 0.007900862023234367, 0.0033241307828575373, 0.009872171096503735, 0.003706917632371187, 0.010493873618543148, 0.0027382071129977703, 0.0142388129606843, 0.0029256928246468306, 0.010646474547684193, 0.0027517382986843586, 0.0039354898035526276, 0.0026074510533362627, 0.009760832414031029, 0.0012638811022043228, 0.015909647569060326, 0.001610012841410935, 0.004473292268812656, 0.0, 0.0, 0.0, 0.0, 0.0, 0.0], [0.8911292552947998, 0.0009235012112185359, 0.0005800839862786233, 0.003136842045933008, 0.0014449888840317726, 0.0012548404047265649, 0.000617330486420542, 0.006209683138877153, 0.0007829006062820554, 0.0010236513335257769, 0.03047710470855236, 0.0002372212038608268, 0.013623871840536594, 0.00031575816683471203, 0.01258555706590414, 0.00020416697952896357, 0.007703248877078295, 0.0008256525034084916, 0.00766763836145401, 0.0010099097853526473, 0.005391434766352177, 0.00040134042501449585, 0.006721543148159981, 0.0042860014364123344, 0.0014465985586866736, 0.0, 0.0, 0.0, 0.0, 0.0], [0.9365407824516296, 0.0049705044366419315, 0.004258668050169945, 0.002870033262297511, 0.0011641312157735229, 0.0015415807720273733, 0.0006399538251571357, 0.04320316016674042, 0.0007136815693229437, 4.93312363687437e-05, 0.00017786340322345495, 0.00015758138033561409, 0.0002188957150792703, 5.205222259974107e-05, 0.00020306013175286353, 0.00011968238686677068, 0.00015740010712761432, 0.0002179855655413121, 0.0001703224261291325, 3.9900991396280006e-05, 8.477917435811833e-05, 2.2508551410282962e-05, 9.39673773245886e-05, 0.0003161955683026463, 2.2402375179808587e-05, 0.0019936298485845327, 0.0, 0.0, 0.0, 0.0], [0.9340797662734985, 0.003245775355026126, 0.002838278189301491, 0.006988138426095247, 0.002015878213569522, 0.0026202648878097534, 0.0005169551004655659, 0.037933409214019775, 0.0005479821702465415, 0.00025346377515234053, 0.0005730019183829427, 0.00013122781820129603, 0.0006471633678302169, 0.00012282462557777762, 0.0007454540464095771, 0.0001559775264468044, 0.0006774748326279223, 0.0002719347248785198, 0.0009181080386042595, 9.20794191188179e-05, 0.0003730194584932178, 7.63880816521123e-05, 0.0003832804213743657, 0.0007498744525946677, 7.722817827016115e-05, 0.0020587220788002014, 0.0009062606259249151, 0.0, 0.0, 0.0], [0.942367434501648, 0.002979787765070796, 0.0019983763340860605, 0.009653830900788307, 0.0023326529189944267, 0.002550459234043956, 0.0007013981230556965, 0.027474742382764816, 0.0005895569920539856, 0.000341209233738482, 6.245530676096678e-05, 0.0005959160625934601, 7.833269773982465e-05, 0.0003639136557467282, 8.031121251406148e-05, 0.0013002853374928236, 0.00010258393740514293, 0.0003491249808575958, 0.00017203085008077323, 0.00016722691361792386, 3.793155701714568e-05, 0.00017068347369786352, 4.1725594201125205e-05, 0.0005172174423933029, 0.00018773858027998358, 0.0014579567359760404, 0.0005143156740814447, 0.0028109217528253794, 0.0, 0.0], [0.9373966455459595, 0.0037685593124479055, 0.0034025420900434256, 0.0025653759948909283, 0.008640468120574951, 0.004162781406193972, 0.004890765063464642, 0.021307140588760376, 0.0014316214947029948, 0.0006028596544638276, 0.0001042763760779053, 0.0012498073047026992, 9.538852464174852e-05, 0.0006542669725604355, 8.654878911329433e-05, 0.0008204163168556988, 9.33350165723823e-05, 0.0008656047284603119, 0.00013508464326150715, 0.00029713677940890193, 4.530853402684443e-05, 0.00036036368692293763, 4.741162047139369e-05, 0.0002602354798000306, 0.00019086631073150784, 0.0006811905186623335, 0.0007601827383041382, 0.0012986757792532444, 0.0037851606030017138, 0.0], [0.9385471940040588, 0.001582951983436942, 0.0015128239756450057, 0.002439764328300953, 0.0010101210791617632, 0.002192545449361205, 0.0018987751100212336, 0.037556327879428864, 0.0004143896512687206, 0.0007834032294340432, 0.0005894530913792551, 0.00017639395082369447, 0.00034582268563099205, 6.800606206525117e-05, 0.0002800840593408793, 0.00012755733041558415, 0.00021428981563076377, 0.00017874286277219653, 0.00040025412454269826, 0.00012101465836167336, 0.0001686456671450287, 6.887372728670016e-05, 0.000168195620062761, 0.00022544868988916278, 6.087379006203264e-05, 0.002560778521001339, 0.0004949400317855179, 0.0013823233311995864, 0.0029547782614827156, 0.0014752511633560061]]]}\n",
       "    )\n",
       "    </script>"
      ],
      "text/plain": [
       "<circuitsvis.utils.render.RenderedHTML at 0x7f9c9d6d0130>"
      ]
     },
     "execution_count": 23,
     "metadata": {},
     "output_type": "execute_result"
    }
   ],
   "source": [
    "print(type(neg_cache))\n",
    "neg_attention_pattern = neg_cache[\"pattern\", LAYER, \"attn\"]\n",
    "print(neg_attention_pattern.shape)\n",
    "neg_str_tokens = model.to_str_tokens(prompts[prompt_num]['negative_prompt'])\n",
    "\n",
    "print(f\"Layer {LAYER} Head Attention Patterns for NEGATIVE:\")\n",
    "cv.attention.attention_patterns(tokens=neg_str_tokens, attention=neg_attention_pattern)"
   ]
  },
  {
   "cell_type": "code",
   "execution_count": 24,
   "metadata": {
    "colab": {
     "base_uri": "https://localhost:8080/",
     "height": 375
    },
    "executionInfo": {
     "elapsed": 163,
     "status": "ok",
     "timestamp": 1720660848371,
     "user": {
      "displayName": "Jason L",
      "userId": "08424561876455739258"
     },
     "user_tz": 240
    },
    "id": "EcQFo1SquTqg",
    "outputId": "7ec37e1e-708d-499b-df23-c11a01753517"
   },
   "outputs": [
    {
     "name": "stdout",
     "output_type": "stream",
     "text": [
      "Layer 9 Head Attention Patterns for POS- NEG:\n"
     ]
    },
    {
     "data": {
      "text/html": [
       "<div id=\"circuits-vis-a2f17326-ba6e\" style=\"margin: 15px 0;\"/>\n",
       "    <script crossorigin type=\"module\">\n",
       "    import { render, AttentionPatterns } from \"https://unpkg.com/circuitsvis@1.43.2/dist/cdn/esm.js\";\n",
       "    render(\n",
       "      \"circuits-vis-a2f17326-ba6e\",\n",
       "      AttentionPatterns,\n",
       "      {\"tokens\": [\"<|endoftext|>\", \"I\", \" embrace\", \" the\", \" eight\", \"fold\", \" path\", \" ('\", \"right\", \" view\", \",\", \" intention\", \",\", \" speech\", \",\", \" action\", \",\", \" livelihood\", \",\", \" effort\", \",\", \" mindfulness\", \",\", \" and\", \" concentration\", \"')\", \" taught\", \" by\", \" the\", \" Buddha\"], \"attention\": [[[0.0, 0.0, 0.0, 0.0, 0.0, 0.0, 0.0, 0.0, 0.0, 0.0, 0.0, 0.0, 0.0, 0.0, 0.0, 0.0, 0.0, 0.0, 0.0, 0.0, 0.0, 0.0, 0.0, 0.0, 0.0, 0.0, 0.0, 0.0, 0.0, 0.0], [0.0, 0.0, 0.0, 0.0, 0.0, 0.0, 0.0, 0.0, 0.0, 0.0, 0.0, 0.0, 0.0, 0.0, 0.0, 0.0, 0.0, 0.0, 0.0, 0.0, 0.0, 0.0, 0.0, 0.0, 0.0, 0.0, 0.0, 0.0, 0.0, 0.0], [0.0, 0.0, 0.0, 0.0, 0.0, 0.0, 0.0, 0.0, 0.0, 0.0, 0.0, 0.0, 0.0, 0.0, 0.0, 0.0, 0.0, 0.0, 0.0, 0.0, 0.0, 0.0, 0.0, 0.0, 0.0, 0.0, 0.0, 0.0, 0.0, 0.0], [0.0, 0.0, 0.0, 0.0, 0.0, 0.0, 0.0, 0.0, 0.0, 0.0, 0.0, 0.0, 0.0, 0.0, 0.0, 0.0, 0.0, 0.0, 0.0, 0.0, 0.0, 0.0, 0.0, 0.0, 0.0, 0.0, 0.0, 0.0, 0.0, 0.0], [0.0, 0.0, 0.0, 0.0, 0.0, 0.0, 0.0, 0.0, 0.0, 0.0, 0.0, 0.0, 0.0, 0.0, 0.0, 0.0, 0.0, 0.0, 0.0, 0.0, 0.0, 0.0, 0.0, 0.0, 0.0, 0.0, 0.0, 0.0, 0.0, 0.0], [0.0, 0.0, 0.0, 0.0, 0.0, 0.0, 0.0, 0.0, 0.0, 0.0, 0.0, 0.0, 0.0, 0.0, 0.0, 0.0, 0.0, 0.0, 0.0, 0.0, 0.0, 0.0, 0.0, 0.0, 0.0, 0.0, 0.0, 0.0, 0.0, 0.0], [0.03270566463470459, -0.001235584612004459, -0.0049980077892541885, -0.001435774378478527, 0.00191536545753479, -0.0038915444165468216, -0.02306009829044342, 0.0, 0.0, 0.0, 0.0, 0.0, 0.0, 0.0, 0.0, 0.0, 0.0, 0.0, 0.0, 0.0, 0.0, 0.0, 0.0, 0.0, 0.0, 0.0, 0.0, 0.0, 0.0, 0.0], [0.023773193359375, -0.010289997793734074, -0.000769246369600296, 0.00039958907291293144, 3.220699727535248e-05, 0.005356356501579285, -0.009839583188295364, -0.008662575855851173, 0.0, 0.0, 0.0, 0.0, 0.0, 0.0, 0.0, 0.0, 0.0, 0.0, 0.0, 0.0, 0.0, 0.0, 0.0, 0.0, 0.0, 0.0, 0.0, 0.0, 0.0, 0.0], [-0.009295642375946045, -0.005304383113980293, 0.0037057269364595413, 0.0013519617496058345, 0.0035292119719088078, 0.012710819952189922, 0.004083959385752678, 0.005271232686936855, -0.016052978113293648, 0.0, 0.0, 0.0, 0.0, 0.0, 0.0, 0.0, 0.0, 0.0, 0.0, 0.0, 0.0, 0.0, 0.0, 0.0, 0.0, 0.0, 0.0, 0.0, 0.0, 0.0], [0.10579615831375122, -0.0010116063058376312, 0.0007586893625557423, 0.0005286403466016054, 0.005493995733559132, -0.007672536186873913, -0.006632730830460787, -0.0023856675252318382, -0.04587352275848389, -0.04900141805410385, 0.0, 0.0, 0.0, 0.0, 0.0, 0.0, 0.0, 0.0, 0.0, 0.0, 0.0, 0.0, 0.0, 0.0, 0.0, 0.0, 0.0, 0.0, 0.0, 0.0], [0.13077077269554138, -0.0014821127988398075, -0.001666739583015442, 0.0011974545195698738, 0.036019567400217056, 0.021190166473388672, -0.00418008491396904, 0.009433550760149956, -0.12249547243118286, -0.06909328699111938, 0.0003062169998884201, 0.0, 0.0, 0.0, 0.0, 0.0, 0.0, 0.0, 0.0, 0.0, 0.0, 0.0, 0.0, 0.0, 0.0, 0.0, 0.0, 0.0, 0.0, 0.0], [-0.04661095142364502, -0.00026119803078472614, 0.0017775055021047592, 0.00022404908668249846, -0.0005314724985510111, 0.0037513207644224167, -0.002792217768728733, 0.00482915760949254, -0.0070341043174266815, 0.006172185763716698, 0.00044549559243023396, 0.04003027454018593, 0.0, 0.0, 0.0, 0.0, 0.0, 0.0, 0.0, 0.0, 0.0, 0.0, 0.0, 0.0, 0.0, 0.0, 0.0, 0.0, 0.0, 0.0], [-0.08084970712661743, -0.0063505941070616245, -0.00699988380074501, -0.0008405214175581932, 0.00789573136717081, 0.032424431294202805, -0.001740816980600357, 0.007759757339954376, -0.010212274268269539, 0.021106824278831482, -0.00019568856805562973, 0.039392147213220596, -0.0013894387520849705, 0.0, 0.0, 0.0, 0.0, 0.0, 0.0, 0.0, 0.0, 0.0, 0.0, 0.0, 0.0, 0.0, 0.0, 0.0, 0.0, 0.0], [0.01919180154800415, -0.001112438621930778, 0.004136217758059502, 0.0001220828853547573, 0.0016471496783196926, 0.0012449948117136955, 0.0007845014333724976, -0.000149410218000412, -0.006623021326959133, -0.00404604896903038, 0.002532919403165579, -0.010221373289823532, -0.0011502341367304325, -0.006357118487358093, 0.0, 0.0, 0.0, 0.0, 0.0, 0.0, 0.0, 0.0, 0.0, 0.0, 0.0, 0.0, 0.0, 0.0, 0.0, 0.0], [0.04447674751281738, -0.016206800937652588, -0.005667850375175476, -0.0015933732502162457, 0.002898259088397026, 0.0074437325820326805, -0.0077173481695353985, -0.0055149998515844345, -0.008580716326832771, -0.017811883240938187, -0.0011994780506938696, 0.00044311583042144775, -0.0012487019412219524, 0.011307128705084324, -0.0010279305279254913, 0.0, 0.0, 0.0, 0.0, 0.0, 0.0, 0.0, 0.0, 0.0, 0.0, 0.0, 0.0, 0.0, 0.0, 0.0], [-0.04122978448867798, 7.840117905288935e-05, 0.00046746269799768925, 0.0005914738867431879, 0.002897264203056693, 0.011819487437605858, 0.008685440756380558, 0.0032529006712138653, -0.00265556201338768, 0.0014378391206264496, 0.000750694249290973, 0.010064208880066872, 0.0005166730843484402, 0.007378673180937767, 0.00013930967543274164, -0.004194401204586029, 0.0, 0.0, 0.0, 0.0, 0.0, 0.0, 0.0, 0.0, 0.0, 0.0, 0.0, 0.0, 0.0, 0.0], [-0.05286979675292969, -0.005080563481897116, -0.0011913375928997993, 0.002332968171685934, 0.00531475804746151, 0.014996908605098724, 0.0024495013058185577, 0.006067976355552673, -0.0020622387528419495, 0.005557569675147533, 0.0012523310724645853, 0.005394235253334045, 0.0006743447156623006, 0.012736190110445023, 8.240249007940292e-05, 0.0037734713405370712, 0.0005714062135666609, 0.0, 0.0, 0.0, 0.0, 0.0, 0.0, 0.0, 0.0, 0.0, 0.0, 0.0, 0.0, 0.0], [0.07974529266357422, -9.151076665148139e-05, -0.0010338729480281472, -0.00021095143165439367, -0.0016127042472362518, -0.0008985042804852128, -0.000475600128993392, -0.0007280370919033885, -0.008453411050140858, -0.0069587049074471, -0.0010208102175965905, -0.001893852837383747, -0.002134736394509673, -0.0033726058900356293, -0.0023171226494014263, -0.007189903408288956, -0.0023205499164760113, -0.03903248906135559, 0.0, 0.0, 0.0, 0.0, 0.0, 0.0, 0.0, 0.0, 0.0, 0.0, 0.0, 0.0], [0.03056168556213379, -0.0020849397405982018, -0.005991918966174126, -0.0022158208303153515, -0.004271513782441616, -0.0030975020490586758, -0.0031701303087174892, -0.002506427001208067, -0.001968599855899811, -0.001879995223134756, -0.0003947615623474121, 0.0010079923085868359, -0.0003576560120563954, 0.0017886373680084944, -0.00027284841053187847, -0.0010966055560857058, -0.0002116404357366264, -0.0034465366043150425, -0.000391391571611166, 0.0, 0.0, 0.0, 0.0, 0.0, 0.0, 0.0, 0.0, 0.0, 0.0, 0.0], [-0.00637584924697876, -0.0003354672808200121, 0.00031165138352662325, -5.831419548485428e-05, -9.721564128994942e-05, 0.0011563929729163647, -0.004870704375207424, -0.0013897576136514544, -0.0009596708696335554, -0.0025856904685497284, -0.0002851130557246506, 0.0020270892418920994, -0.0009069477673619986, -0.001017027534544468, -0.0008118918631225824, -0.0007323287427425385, -0.0004500978975556791, 0.0032537197694182396, -0.0005131656071171165, 0.014640375040471554, 0.0, 0.0, 0.0, 0.0, 0.0, 0.0, 0.0, 0.0, 0.0, 0.0], [0.06333309412002563, -0.006384052336215973, -0.010045780800282955, -0.0026829957496374846, -0.004180104937404394, -0.0020296145230531693, -0.006531259045004845, -0.004385367501527071, -0.0061403680592775345, -0.007213096134364605, -0.0007221659761853516, -0.0003941054455935955, -0.0009708870202302933, 0.0014993849908933043, -0.0008050692267715931, -0.0024551984388381243, -0.0005908674211241305, -0.00877440720796585, -0.001098404172807932, 0.0014410829171538353, -0.0008699820027686656, 0.0, 0.0, 0.0, 0.0, 0.0, 0.0, 0.0, 0.0, 0.0], [0.027928471565246582, -0.0009367769816890359, -0.002070189220830798, -0.0003071500104852021, -0.0003977732267230749, -0.002075031166896224, -0.0005362022202461958, -0.0014303276548162103, -0.0023817240726202726, -0.002851142780855298, -2.1285959519445896e-05, -0.0027171222027391195, -0.00026074139168486, -0.00042840512469410896, -0.0003108607488684356, -0.00391535134986043, -0.00016420267638750374, -0.004125476814806461, -0.0003991489065811038, -0.00015327613800764084, -6.519031012430787e-05, -0.00238132756203413, 0.0, 0.0, 0.0, 0.0, 0.0, 0.0, 0.0, 0.0], [0.03056192398071289, -0.005077107809484005, -0.005391811951994896, -0.00025449972599744797, -0.0014932621270418167, -0.0027799950912594795, -0.008970938622951508, -0.0020302562043070793, -0.007808633614331484, -0.008953862823545933, -0.0004810658865608275, 0.002571421442553401, -0.00038853019941598177, 0.008084690198302269, -0.0005194899276830256, -0.00453684339299798, -0.0005114396335557103, -0.007496186066418886, -0.0008712015696801245, -0.0005029365420341492, -0.0007389338570646942, 0.017809053882956505, -0.0002201857278123498, 0.0, 0.0, 0.0, 0.0, 0.0, 0.0, 0.0], [0.026323139667510986, -0.0060190786607563496, -0.007198799401521683, -0.0016357251442968845, -0.0009887386113405228, -0.0010194205678999424, -0.007813293486833572, -0.004118368029594421, -0.005803648382425308, -0.005688214674592018, -0.0006983049679547548, 0.002379687037318945, -0.00031912210397422314, 0.005187584087252617, -0.000647859531454742, -0.0018331678584218025, -0.0005182941677048802, -0.00162449199706316, -0.0007918915944173932, 0.003837518859654665, -0.000688250525854528, 0.012897160835564137, -0.0005645874189212918, -0.002653970383107662, 0.0, 0.0, 0.0, 0.0, 0.0, 0.0], [0.05023998022079468, -0.001128202537074685, -0.004769766237586737, -0.0005141079309396446, -0.0003065688069909811, -0.0015557887963950634, -0.00373275950551033, 0.0001508602872490883, -0.0039600771851837635, -0.005921407602727413, -0.0003814214142039418, -0.0030899420380592346, -0.0012254922185093164, -0.0013330727815628052, -0.001032089814543724, -0.000745897414162755, -0.0006792294443584979, -0.0027968958020210266, -0.0007416579755954444, -0.005180131644010544, -0.00047818926395848393, -0.0026889024302363396, -0.0006505169440060854, -0.002455733949318528, -0.005022970028221607, 0.0, 0.0, 0.0, 0.0, 0.0], [0.18782329559326172, -0.0004556328058242798, 0.0007482618093490601, 2.4490756914019585e-05, 0.002637200988829136, 0.0037295203655958176, -0.12612611055374146, 0.00316763948649168, -0.0020140251144766808, -0.05373632162809372, -0.0016027817036956549, -0.0008867047727108002, -0.0015981527976691723, 0.0013299724087119102, -0.0012155063450336456, 0.0037537808530032635, -0.00031547254184260964, -0.0023452630266547203, -0.0003704206901602447, -0.0037037041038274765, -0.0002799106005113572, 0.004948679357767105, -0.00024186860537156463, -0.0009121746988967061, 0.005067497491836548, -0.01742630824446678, 0.0, 0.0, 0.0, 0.0], [0.03816455602645874, -0.0023650971706956625, -0.0009349365718662739, -2.2449996322393417e-05, 0.0014457842335104942, 0.001531718298792839, -0.017565608024597168, 0.0005058660171926022, -0.0005610539810732007, -0.018032178282737732, -0.0008246029028669, -0.0012182542122900486, -0.0006182692595757544, 0.0007639694958925247, -0.0002014494384638965, -0.002966788364574313, -8.621331653557718e-05, -0.0012930214870721102, -0.00024443541769869626, -0.004403150174766779, -0.00015247044211719185, 0.007141965441405773, 4.355740384198725e-05, 0.0002065149019472301, 0.002431831555441022, -0.0037750890478491783, 0.0030292756855487823, 0.0, 0.0, 0.0], [0.17651468515396118, -0.007966762408614159, -0.0030809896998107433, -0.0010394826531410217, -0.0044710468500852585, -0.00016160309314727783, -0.012876925989985466, -0.002720857970416546, -0.010950998403131962, -0.07669827342033386, -0.0010278810514137149, -0.016210515052080154, -0.0003544760693330318, -0.006075958255678415, -0.00012604196672327816, -0.005063554737716913, -4.793491098098457e-05, -0.0041056787595152855, -0.0001967518328456208, -0.008578792214393616, -6.336384103633463e-05, 0.022103019058704376, 4.881687345914543e-06, 2.3147062165662646e-05, 0.004019512794911861, -0.0024063289165496826, -0.030481891706585884, -0.007959076203405857, 0.0, 0.0], [0.13640761375427246, -0.010569076985120773, -0.004110326524823904, -0.002500205533578992, -0.004851438105106354, -0.002235348802059889, -0.010374661535024643, -0.003666355274617672, -0.00438996497541666, -0.03374781459569931, -0.0021149541717022657, -0.006796596571803093, -0.0007121044327504933, -0.0021141692996025085, -0.00033492734655737877, -0.003162302542477846, -0.0002709332329686731, -0.0012309214798733592, -0.0004682761209551245, -0.006902904249727726, -0.00022001708566676825, 0.01266770251095295, -2.5891204131767154e-05, -0.0001146760187111795, 0.0007023746147751808, -0.0040373122319579124, -0.01828903704881668, -0.01931096240878105, -0.007226439192891121, 0.0], [0.1722436547279358, -0.002631857991218567, -0.003019733354449272, -0.002761764917522669, -0.004280955996364355, -0.001961921341717243, -0.00506811635568738, -0.0026408135890960693, -0.0021758514922112226, -0.012891598045825958, -0.0013998722424730659, -0.006342520471662283, -0.0011652703396975994, -0.005428771488368511, -0.0006859092391096056, -0.0043078078888356686, -0.0003948868252336979, -0.0022403185721486807, -0.0006546900258399546, -0.006470685359090567, -0.00038569464231841266, -0.003163713961839676, -0.0004104192485101521, -0.0006218522903509438, -0.005067755002528429, -0.0016054143197834492, -0.002949862740933895, -0.024202903732657433, -0.008956349454820156, -0.05835626274347305]], [[0.0, 0.0, 0.0, 0.0, 0.0, 0.0, 0.0, 0.0, 0.0, 0.0, 0.0, 0.0, 0.0, 0.0, 0.0, 0.0, 0.0, 0.0, 0.0, 0.0, 0.0, 0.0, 0.0, 0.0, 0.0, 0.0, 0.0, 0.0, 0.0, 0.0], [0.0, 0.0, 0.0, 0.0, 0.0, 0.0, 0.0, 0.0, 0.0, 0.0, 0.0, 0.0, 0.0, 0.0, 0.0, 0.0, 0.0, 0.0, 0.0, 0.0, 0.0, 0.0, 0.0, 0.0, 0.0, 0.0, 0.0, 0.0, 0.0, 0.0], [0.0, 0.0, 0.0, 0.0, 0.0, 0.0, 0.0, 0.0, 0.0, 0.0, 0.0, 0.0, 0.0, 0.0, 0.0, 0.0, 0.0, 0.0, 0.0, 0.0, 0.0, 0.0, 0.0, 0.0, 0.0, 0.0, 0.0, 0.0, 0.0, 0.0], [0.0, 0.0, 0.0, 0.0, 0.0, 0.0, 0.0, 0.0, 0.0, 0.0, 0.0, 0.0, 0.0, 0.0, 0.0, 0.0, 0.0, 0.0, 0.0, 0.0, 0.0, 0.0, 0.0, 0.0, 0.0, 0.0, 0.0, 0.0, 0.0, 0.0], [0.0, 0.0, 0.0, 0.0, 0.0, 0.0, 0.0, 0.0, 0.0, 0.0, 0.0, 0.0, 0.0, 0.0, 0.0, 0.0, 0.0, 0.0, 0.0, 0.0, 0.0, 0.0, 0.0, 0.0, 0.0, 0.0, 0.0, 0.0, 0.0, 0.0], [0.0, 0.0, 0.0, 0.0, 0.0, 0.0, 0.0, 0.0, 0.0, 0.0, 0.0, 0.0, 0.0, 0.0, 0.0, 0.0, 0.0, 0.0, 0.0, 0.0, 0.0, 0.0, 0.0, 0.0, 0.0, 0.0, 0.0, 0.0, 0.0, 0.0], [-0.0012773871421813965, 0.0002847188152372837, 0.00045406678691506386, 0.0007843421772122383, 0.0021270266734063625, 0.0010793553665280342, -0.0034521627239882946, 0.0, 0.0, 0.0, 0.0, 0.0, 0.0, 0.0, 0.0, 0.0, 0.0, 0.0, 0.0, 0.0, 0.0, 0.0, 0.0, 0.0, 0.0, 0.0, 0.0, 0.0, 0.0, 0.0], [0.008883535861968994, -0.0023539764806628227, -2.783350646495819e-05, 0.00013142544776201248, -0.008612465113401413, 0.004153851419687271, -0.001228840439580381, -0.0009456798434257507, 0.0, 0.0, 0.0, 0.0, 0.0, 0.0, 0.0, 0.0, 0.0, 0.0, 0.0, 0.0, 0.0, 0.0, 0.0, 0.0, 0.0, 0.0, 0.0, 0.0, 0.0, 0.0], [-0.057823121547698975, -0.000339726684615016, 0.00111698592081666, -0.0015877846162766218, -0.005257744342088699, 0.06738997995853424, -0.0025111869908869267, 0.0029262069147080183, -0.003913631662726402, 0.0, 0.0, 0.0, 0.0, 0.0, 0.0, 0.0, 0.0, 0.0, 0.0, 0.0, 0.0, 0.0, 0.0, 0.0, 0.0, 0.0, 0.0, 0.0, 0.0, 0.0], [-0.03243613243103027, -0.00023174891248345375, 0.001092434860765934, 0.0009151238482445478, -0.0018282486125826836, 0.015828676521778107, 0.0003982845228165388, 0.0032480526715517044, 0.0038184989243745804, 0.00919518992304802, 0.0, 0.0, 0.0, 0.0, 0.0, 0.0, 0.0, 0.0, 0.0, 0.0, 0.0, 0.0, 0.0, 0.0, 0.0, 0.0, 0.0, 0.0, 0.0, 0.0], [-0.1683042049407959, 0.01509452797472477, -0.005958454683423042, -0.0027313241735100746, 0.01182333379983902, 0.049893759191036224, -0.0005798602942377329, 0.025325823575258255, 0.04272836446762085, 0.008199470117688179, 0.024508485570549965, 0.0, 0.0, 0.0, 0.0, 0.0, 0.0, 0.0, 0.0, 0.0, 0.0, 0.0, 0.0, 0.0, 0.0, 0.0, 0.0, 0.0, 0.0, 0.0], [-0.0010582208633422852, 0.0016896396409720182, -0.0007805274799466133, -0.00014425604604184628, -0.003937470726668835, 0.008988337591290474, 0.0030345693230628967, -0.0013225143775343895, -0.002308066003024578, -0.004449576139450073, -0.0006354600191116333, 0.000923648476600647, 0.0, 0.0, 0.0, 0.0, 0.0, 0.0, 0.0, 0.0, 0.0, 0.0, 0.0, 0.0, 0.0, 0.0, 0.0, 0.0, 0.0, 0.0], [-0.10640376806259155, 0.0028416288550943136, 0.0012504439800977707, 0.0031041856855154037, 0.01727311685681343, 0.03149084001779556, -0.001983094494789839, 0.003551302244886756, -0.0014616511762142181, -9.131059050559998e-05, 0.00496692955493927, 0.042414166033267975, 0.0030472399666905403, 0.0, 0.0, 0.0, 0.0, 0.0, 0.0, 0.0, 0.0, 0.0, 0.0, 0.0, 0.0, 0.0, 0.0, 0.0, 0.0, 0.0], [0.00878077745437622, -0.0006939753657206893, -0.00034188025165349245, 1.5291152521967888e-06, -0.00251715793274343, 0.0007601268589496613, -0.0017226962372660637, 0.004100744612514973, -0.0020597619004547596, -0.005141717381775379, -0.0017719808965921402, 0.0006770647596567869, 0.0005401354283094406, -0.0006112311966717243, 0.0, 0.0, 0.0, 0.0, 0.0, 0.0, 0.0, 0.0, 0.0, 0.0, 0.0, 0.0, 0.0, 0.0, 0.0, 0.0], [-0.016391754150390625, 0.0010703682200983167, -9.356415830552578e-05, 0.0009273448958992958, 0.0037598134949803352, 0.006532211322337389, -0.0017471648752689362, 0.002668531611561775, -0.00902541447430849, 6.243912503123283e-05, 0.0029889072757214308, 0.002405238337814808, 0.002036635298281908, 0.001038404181599617, 0.0037679276429116726, 0.0, 0.0, 0.0, 0.0, 0.0, 0.0, 0.0, 0.0, 0.0, 0.0, 0.0, 0.0, 0.0, 0.0, 0.0], [-0.09826129674911499, 0.0018723541870713234, 0.00016649009194225073, 0.0005892876069992781, 0.0022007147781550884, 0.00608226889744401, 0.0018946105847135186, 0.006818376015871763, 0.003686371259391308, 0.012628985568881035, 0.018065862357616425, 0.003024221630766988, 0.017258502542972565, 0.0002859337255358696, 0.020794078707695007, 0.00289341202005744, 0.0, 0.0, 0.0, 0.0, 0.0, 0.0, 0.0, 0.0, 0.0, 0.0, 0.0, 0.0, 0.0, 0.0], [-0.04722839593887329, 0.0003368983743712306, 0.00029520480893552303, 0.0014042246621102095, 0.004110605455935001, 0.008038251660764217, -0.0007267931941896677, 0.0016969393473118544, 0.00010425923392176628, 0.0019445973448455334, 0.0028988029807806015, 0.006057328544557095, 0.0032780442852526903, 0.00423814170062542, 0.003797207958996296, 0.005398603621870279, 0.004356146790087223, 0.0, 0.0, 0.0, 0.0, 0.0, 0.0, 0.0, 0.0, 0.0, 0.0, 0.0, 0.0, 0.0], [-0.037126362323760986, 0.0024508913047611713, 0.00029799737967550755, -3.891059895977378e-05, -7.793353870511055e-05, 0.00023533240891993046, 0.0011899522505700588, 0.0039917705580592155, -0.001537209376692772, -0.001968332566320896, 0.015455880202353, -0.0002668658271431923, 0.004216484725475311, -0.0016269137850031257, 0.0061273835599422455, 0.002052384428679943, 0.004155369475483894, 0.0024690169375389814, 0.0, 0.0, 0.0, 0.0, 0.0, 0.0, 0.0, 0.0, 0.0, 0.0, 0.0, 0.0], [-0.00910884141921997, -0.0008506553713232279, 0.00010956008918583393, -0.0009147194214165211, -0.004057347774505615, 0.0022174641489982605, -0.0031553725712001324, -1.1721276678144932e-05, -0.0048376042395830154, -0.0006180074997246265, -0.00029551493935287, 0.008611579425632954, 1.7883721739053726e-05, 0.0023734974674880505, 0.0014364088419824839, 0.0011648181825876236, 0.0009881083387881517, 0.006712127476930618, 0.00021839002147316933, 0.0, 0.0, 0.0, 0.0, 0.0, 0.0, 0.0, 0.0, 0.0, 0.0, 0.0], [0.015929341316223145, -0.0001066217664629221, -0.00039755518082529306, -0.0005899614770896733, -0.002756725996732712, -0.0003599247429519892, -0.0010175916831940413, -0.00018880702555179596, -0.0009741520043462515, -0.004265108611434698, -0.012691311538219452, -0.0016939674969762564, -0.003005889244377613, -0.0006556203588843346, 0.004490182735025883, 0.000206621247343719, 0.0022153109312057495, 0.0006925005000084639, 0.007087455131113529, -0.0019181659445166588, 0.0, 0.0, 0.0, 0.0, 0.0, 0.0, 0.0, 0.0, 0.0, 0.0], [-0.007126986980438232, -0.00038241571746766567, -0.0005148622440174222, -0.00042500486597418785, -0.0019253096543252468, 0.0018263610545545816, -0.0010489197447896004, 0.00020120787667110562, -0.003715734463185072, -0.0010855492437258363, -0.0004585633287206292, 7.613934576511383e-05, -0.00036638043820858, 0.0021276967599987984, 0.0005234705749899149, 0.002079768106341362, 0.0006482189055532217, 0.006108465604484081, 0.00047919503413140774, 0.002658409997820854, 0.0003206213004887104, 0.0, 0.0, 0.0, 0.0, 0.0, 0.0, 0.0, 0.0, 0.0], [-0.038491010665893555, -0.0013970080763101578, 0.0006551099941134453, -0.0003247014246881008, -0.00024872738867998123, 0.0006236457265913486, -0.00012778514064848423, 0.002203370677307248, -3.383541479706764e-05, 0.0015194127336144447, 0.003725552000105381, 0.0008439968805760145, 0.005935856141149998, 0.000980001874268055, 0.008162835612893105, 0.0010647603776305914, 0.003261174773797393, 0.0011098127579316497, 0.005115981213748455, 0.0010870636906474829, 0.002961002057418227, 0.0013735976535826921, 0.0, 0.0, 0.0, 0.0, 0.0, 0.0, 0.0, 0.0], [-0.0223197340965271, -0.00037054880522191525, -0.00018243910744786263, -0.00016054324805736542, 0.0031674569472670555, 0.0017273114062845707, 0.0006696137133985758, 0.0001923691015690565, -0.0011402089148759842, -0.0010284134186804295, -0.001458117039874196, 0.0021181991323828697, -0.0009280834347009659, 0.004960244055837393, -4.2747706174850464e-05, -0.0008601965382695198, -0.0004940351936966181, 0.002755332738161087, -0.0009097573347389698, 0.0005075279623270035, -0.0008752400754019618, 0.014057302847504616, 0.000614810036495328, 0.0, 0.0, 0.0, 0.0, 0.0, 0.0, 0.0], [-0.041789710521698, 0.0002901861444115639, -0.0005213674157857895, -0.00034312158823013306, 0.005718018859624863, 0.0020458376966416836, 0.0004613855853676796, 0.00044434936717152596, 0.0023738285526633263, 5.804374814033508e-05, -0.0011976577807217836, 0.0035760067403316498, -0.0006725431885570288, 0.008335163816809654, 0.00021326076239347458, 0.0009983270429074764, 5.3874216973781586e-05, 0.0043191793374717236, -0.0002956727985292673, 0.006742950528860092, -0.0003373464569449425, 0.00821154098957777, 0.0004937828052788973, 0.0008217142894864082, 0.0, 0.0, 0.0, 0.0, 0.0, 0.0], [9.500980377197266e-05, -0.00037699751555919647, 0.00030293152667582035, -0.000950393034145236, -0.0007483367808163166, -0.0014360942877829075, 0.003447809722274542, 0.00022205151617527008, 0.0008840480586513877, -0.00014688586816191673, -0.0031992150470614433, 0.0005817525088787079, -0.0014183400198817253, 0.000283154658973217, 0.0007648072205483913, 0.0007689691847190261, 0.0007229163311421871, -9.516219142824411e-05, 0.0010161949321627617, 0.00010847090743482113, 0.00010676449164748192, 0.0008221206371672451, 0.00015577836893498898, -0.0015413782093673944, -0.0003699569497257471, 0.0, 0.0, 0.0, 0.0, 0.0], [-0.0024799108505249023, -0.000283755362033844, 0.0016833506524562836, -0.00042804889380931854, -0.0028172042220830917, 0.003943413496017456, -0.001380937173962593, 0.0004593897610902786, 0.00048344710376113653, -5.976238753646612e-06, 0.0006431881338357925, 0.00010539419599808753, 0.00026649690698832273, 1.701635483186692e-06, 0.00024364679120481014, 9.03029867913574e-05, 0.0004685991443693638, -0.00032222995650954545, -0.0003584176301956177, -8.47847550176084e-05, 0.00024170696269720793, 0.0001124914560932666, 5.289405817165971e-05, 5.1621231250464916e-05, -2.6508569135330617e-06, -0.0006837919354438782, 0.0, 0.0, 0.0, 0.0], [-0.003612220287322998, -1.578708179295063e-06, 6.973370909690857e-05, -0.00026614475063979626, 0.0018621454946696758, 6.887642666697502e-05, 8.166744373738766e-05, 0.0004880349151790142, -6.85686245560646e-08, -0.0002480560797266662, 0.0005305128870531917, 1.2839875125791878e-05, 0.00012991504627279937, -3.221197403036058e-06, 0.00023194114328362048, 2.9479298973456025e-05, 3.090759855695069e-05, -6.239939102670178e-05, -0.00020553737704176456, -8.380092913284898e-05, 6.302580004557967e-06, 2.829739241860807e-05, -4.5351669541560113e-05, -0.00013726067845709622, -2.2242784325499088e-06, 0.0009020254947245121, 0.00019527837866917253, 0.0, 0.0, 0.0], [0.012817144393920898, -0.00014780822675675154, -0.0004855674924328923, -0.0012421361170709133, -0.006669564172625542, -0.0010407902300357819, -2.1606683731079102e-07, -0.00037027220241725445, -0.00041311606764793396, -0.0011893493356183171, -5.645611963700503e-05, 0.00012524629710242152, -7.670234481338412e-05, -0.000174457993125543, -3.660951915662736e-05, 7.575494237244129e-06, -4.043318040203303e-05, -0.0006704147672280669, -0.00014587538316845894, -0.00034448422957211733, -1.810064713936299e-05, -5.700974725186825e-06, -2.807593409670517e-05, -9.42147453315556e-05, -9.285673149861395e-05, 0.0002663878258317709, 0.00020897795911878347, -8.219992741942406e-05, 0.0, 0.0], [0.03224039077758789, -0.00037962361238896847, -0.00043452740646898746, -0.0008209585212171078, -0.026698991656303406, -0.0037611033767461777, 0.0005312778521329165, -0.0004176190122961998, 0.0002359701320528984, -0.0006841307040303946, -4.772872489411384e-05, 0.0004134494229219854, -5.1965194870717824e-05, -4.853769496548921e-06, -2.4193344870582223e-05, 7.515451579820365e-05, -5.9528116253204644e-05, -0.0003161929198540747, -0.00024762735120020807, -5.187673377804458e-05, -2.923452848335728e-05, 0.00012329759192653, -2.3146374587668106e-05, -4.03833546442911e-05, -1.786799111869186e-05, 5.886424332857132e-05, 0.0004634925862774253, -0.0006547356024384499, 0.0006245709955692291, 0.0], [-0.010319769382476807, 0.0006310384487733245, 0.0013598987134173512, 0.00063083425629884, -0.004490787163376808, 4.6890112571418285e-05, 7.43178534321487e-05, 0.0016199242090806365, -0.00013223686255514622, -0.0008172467350959778, 0.0002361960941925645, 0.00022692576749250293, 0.0002513009821996093, 7.116628694348037e-05, 0.000475535198347643, 0.000162281037773937, 0.00030403747223317623, -0.00021646893583238125, -0.00011778116459026933, -0.00013051119458395988, -4.65966877527535e-06, 0.00031443446641787887, 0.0003599837946239859, 0.00021883274894207716, -3.0402952688746154e-05, 0.002200830727815628, 0.0004047699039801955, 0.003109212964773178, 0.002446975791826844, 0.0011145949829369783]], [[0.0, 0.0, 0.0, 0.0, 0.0, 0.0, 0.0, 0.0, 0.0, 0.0, 0.0, 0.0, 0.0, 0.0, 0.0, 0.0, 0.0, 0.0, 0.0, 0.0, 0.0, 0.0, 0.0, 0.0, 0.0, 0.0, 0.0, 0.0, 0.0, 0.0], [0.0, 0.0, 0.0, 0.0, 0.0, 0.0, 0.0, 0.0, 0.0, 0.0, 0.0, 0.0, 0.0, 0.0, 0.0, 0.0, 0.0, 0.0, 0.0, 0.0, 0.0, 0.0, 0.0, 0.0, 0.0, 0.0, 0.0, 0.0, 0.0, 0.0], [0.0, 0.0, 0.0, 0.0, 0.0, 0.0, 0.0, 0.0, 0.0, 0.0, 0.0, 0.0, 0.0, 0.0, 0.0, 0.0, 0.0, 0.0, 0.0, 0.0, 0.0, 0.0, 0.0, 0.0, 0.0, 0.0, 0.0, 0.0, 0.0, 0.0], [0.0, 0.0, 0.0, 0.0, 0.0, 0.0, 0.0, 0.0, 0.0, 0.0, 0.0, 0.0, 0.0, 0.0, 0.0, 0.0, 0.0, 0.0, 0.0, 0.0, 0.0, 0.0, 0.0, 0.0, 0.0, 0.0, 0.0, 0.0, 0.0, 0.0], [0.0, 0.0, 0.0, 0.0, 0.0, 0.0, 0.0, 0.0, 0.0, 0.0, 0.0, 0.0, 0.0, 0.0, 0.0, 0.0, 0.0, 0.0, 0.0, 0.0, 0.0, 0.0, 0.0, 0.0, 0.0, 0.0, 0.0, 0.0, 0.0, 0.0], [0.0, 0.0, 0.0, 0.0, 0.0, 0.0, 0.0, 0.0, 0.0, 0.0, 0.0, 0.0, 0.0, 0.0, 0.0, 0.0, 0.0, 0.0, 0.0, 0.0, 0.0, 0.0, 0.0, 0.0, 0.0, 0.0, 0.0, 0.0, 0.0, 0.0], [-0.0010747313499450684, -0.0010731341317296028, -0.013599174097180367, 0.001489364542067051, -0.00244147889316082, 0.006431320682168007, 0.010267823934555054, 0.0, 0.0, 0.0, 0.0, 0.0, 0.0, 0.0, 0.0, 0.0, 0.0, 0.0, 0.0, 0.0, 0.0, 0.0, 0.0, 0.0, 0.0, 0.0, 0.0, 0.0, 0.0, 0.0], [0.01218503713607788, -0.0024820594117045403, -0.0006990060210227966, 0.0009242156520485878, -0.0038377046585083008, 0.0030933283269405365, -0.007661808282136917, -0.001521914266049862, 0.0, 0.0, 0.0, 0.0, 0.0, 0.0, 0.0, 0.0, 0.0, 0.0, 0.0, 0.0, 0.0, 0.0, 0.0, 0.0, 0.0, 0.0, 0.0, 0.0, 0.0, 0.0], [-0.060683488845825195, 0.0008711810223758221, 0.0013978276401758194, 0.004381572362035513, 0.008393517695367336, 0.0049316175282001495, 0.02669755183160305, 0.0001431526616215706, 0.013867054134607315, 0.0, 0.0, 0.0, 0.0, 0.0, 0.0, 0.0, 0.0, 0.0, 0.0, 0.0, 0.0, 0.0, 0.0, 0.0, 0.0, 0.0, 0.0, 0.0, 0.0, 0.0], [-0.026571273803710938, -0.00014691497199237347, -0.009684128686785698, -0.000958023127168417, -0.0009781057015061378, -0.003252975642681122, -0.0015634633600711823, 0.00281412061303854, 0.001277613453567028, 0.03906318545341492, 0.0, 0.0, 0.0, 0.0, 0.0, 0.0, 0.0, 0.0, 0.0, 0.0, 0.0, 0.0, 0.0, 0.0, 0.0, 0.0, 0.0, 0.0, 0.0, 0.0], [-0.052986741065979004, -0.0008249646052718163, -0.01609308272600174, -0.0022362028248608112, 0.0013718213886022568, -0.013741355389356613, -0.001279689371585846, 0.004901782609522343, -0.008996561169624329, 0.08895382285118103, 0.0009310683235526085, 0.0, 0.0, 0.0, 0.0, 0.0, 0.0, 0.0, 0.0, 0.0, 0.0, 0.0, 0.0, 0.0, 0.0, 0.0, 0.0, 0.0, 0.0, 0.0], [-0.018187522888183594, -0.0009460966102778912, 0.003992918878793716, 0.000969788059592247, -0.0017580408602952957, 0.004597621038556099, 0.00472075492143631, 0.00021010683849453926, -0.0030898917466402054, 0.0014279857277870178, -0.001041135285049677, 0.009103568270802498, 0.0, 0.0, 0.0, 0.0, 0.0, 0.0, 0.0, 0.0, 0.0, 0.0, 0.0, 0.0, 0.0, 0.0, 0.0, 0.0, 0.0, 0.0], [-0.1847870945930481, -0.0015232975129038095, -0.009149357676506042, -0.0031287814490497112, 0.007508744485676289, 0.024602927267551422, 0.06716490536928177, 0.0013042809441685677, 0.00972781702876091, 0.01850191503763199, -0.0014243298210203648, 0.07652119547128677, -0.005318990908563137, 0.0, 0.0, 0.0, 0.0, 0.0, 0.0, 0.0, 0.0, 0.0, 0.0, 0.0, 0.0, 0.0, 0.0, 0.0, 0.0, 0.0], [-0.06948655843734741, 0.00028515688609331846, 0.015987232327461243, 0.0023099330719560385, 0.0011533449869602919, 0.010018955916166306, 0.017353862524032593, 0.0032930055167526007, -0.0025407075881958008, 0.0072478922083973885, 0.00035460491199046373, 0.012435805052518845, -0.0004788979422301054, 0.0020662974566221237, 0.0, 0.0, 0.0, 0.0, 0.0, 0.0, 0.0, 0.0, 0.0, 0.0, 0.0, 0.0, 0.0, 0.0, 0.0, 0.0], [-0.06143486499786377, -0.001080965157598257, 2.5112181901931763e-05, -0.0010111178271472454, 0.010141472332179546, 0.014957306906580925, 0.027728676795959473, 0.005585287697613239, -0.004132434725761414, -0.004519011825323105, -0.001655631698668003, 0.016423307359218597, -0.002851491328328848, 0.004858177155256271, -0.003033839166164398, 0.0, 0.0, 0.0, 0.0, 0.0, 0.0, 0.0, 0.0, 0.0, 0.0, 0.0, 0.0, 0.0, 0.0, 0.0], [-0.0567358136177063, 0.00040080584585666656, 0.010123142972588539, 0.002213839441537857, 0.004291260614991188, 0.016084425151348114, 0.027921363711357117, 0.003219403326511383, -0.006112849339842796, 0.0006797099485993385, 0.0008777370676398277, 0.005788122303783894, -0.0005125058814883232, -0.0061658103950321674, -0.0020127082243561745, -6.02230429649353e-05, 0.0, 0.0, 0.0, 0.0, 0.0, 0.0, 0.0, 0.0, 0.0, 0.0, 0.0, 0.0, 0.0, 0.0], [-0.21269488334655762, -0.00030482327565550804, 0.003034028224647045, 0.0013096011243760586, 0.013526011258363724, 0.01921597495675087, 0.04304192587733269, 0.005713250953704119, 0.0031134975142776966, 0.012183329090476036, 0.0013176959473639727, 0.021619398146867752, 0.0006082169711589813, 0.015834728255867958, 0.0005333628505468369, 0.07105474174022675, 0.0008938806131482124, 0.0, 0.0, 0.0, 0.0, 0.0, 0.0, 0.0, 0.0, 0.0, 0.0, 0.0, 0.0, 0.0], [0.1702563762664795, -0.0025567286647856236, -0.00010509416460990906, -0.0015588951064273715, -0.00088698067702353, -0.0006585498340427876, -0.004938516765832901, -0.0031239481177181005, -0.005518332123756409, -0.0051045590080320835, -0.0017186597688123584, -0.004164372105151415, -0.007717028260231018, -0.006677488796412945, -0.011816509068012238, -0.01204976812005043, -0.014609639532864094, -0.0870513767004013, 0.0, 0.0, 0.0, 0.0, 0.0, 0.0, 0.0, 0.0, 0.0, 0.0, 0.0, 0.0], [0.02836543321609497, -0.002968587214127183, -0.007779811508953571, -0.004972163587808609, -0.005000237375497818, 0.00041041523218154907, 0.0037358365952968597, -0.002949637360870838, -0.0036770515143871307, -0.001008165068924427, -0.0016346725169569254, 0.006353029981255531, -0.001806182786822319, 0.002720434218645096, -0.0028929258696734905, 0.016957957297563553, -0.004233422689139843, -0.006583221256732941, -0.013037072494626045, 0.0, 0.0, 0.0, 0.0, 0.0, 0.0, 0.0, 0.0, 0.0, 0.0, 0.0], [0.02569955587387085, -0.00023891683667898178, 0.00734184542670846, 0.00037562043871730566, -0.00033182697370648384, 0.0011353371664881706, 0.0021401606500148773, -0.000946293817833066, -0.003915444016456604, -0.001693072379566729, -0.00038505159318447113, 0.0010702600702643394, -0.0009571142727509141, -0.001428689924068749, -0.0017290672985836864, -0.0010897708125412464, -0.002019694074988365, -0.007334668189287186, -0.002586508635431528, -0.013106778264045715, 0.0, 0.0, 0.0, 0.0, 0.0, 0.0, 0.0, 0.0, 0.0, 0.0], [0.001739799976348877, -0.0003042379394173622, 0.002785678021609783, 0.00010435190051794052, 0.000419064424932003, 0.0021383855491876602, 0.005588896572589874, -0.001364679541438818, -0.003000071970745921, -0.00585121801123023, -0.0012121207546442747, 0.0046898843720555305, -0.0014436490600928664, 0.006139179691672325, -0.0020409859716892242, 0.015737978741526604, -0.0023499890230596066, -0.010898476466536522, -0.0063751982524991035, -0.0035070255398750305, -0.0009955144487321377, 0.0, 0.0, 0.0, 0.0, 0.0, 0.0, 0.0, 0.0, 0.0], [-0.0024872422218322754, -8.36765393614769e-05, -0.00033995602279901505, -0.0001328146317973733, -0.00039910292252898216, -0.0007703856099396944, 0.0003275391645729542, -9.169918484985828e-05, -0.0016639619134366512, -0.0009411025093868375, 0.00039168400689959526, 0.0005871976027265191, -3.7571764551103115e-05, -0.0005307577084749937, -0.0003655397449620068, 0.001163644716143608, -0.00011630950029939413, -0.0007896639872342348, -0.0004862821660935879, -0.0020741040352731943, 0.00012672407319769263, 0.008713430725038052, 0.0, 0.0, 0.0, 0.0, 0.0, 0.0, 0.0, 0.0], [-0.08473050594329834, -0.0005843662656843662, 0.0006478056311607361, -0.0022100997157394886, 0.0029036495834589005, 0.002563520334661007, 0.011795088648796082, -0.0005928780883550644, -0.0011789416894316673, 0.00861390121281147, -0.0003698701038956642, 0.0167374387383461, -0.0007759872823953629, 0.00771357212215662, -0.0013692600186914206, 0.022541256621479988, -0.0018507083877921104, -0.005287501960992813, -0.005407815799117088, -0.01603515073657036, -0.0017913777846843004, 0.049303844571113586, -0.000635374803096056, 0.0, 0.0, 0.0, 0.0, 0.0, 0.0, 0.0], [-0.016486823558807373, -0.001266772160306573, -0.002218211069703102, -0.00338673684746027, 0.0010376498103141785, -0.0012210048735141754, 0.013484776020050049, -0.0008019283413887024, -0.0035715196281671524, 0.0007713865488767624, -0.0012076934799551964, 0.01789316162467003, -0.0014368095435202122, 0.00645905826240778, -0.0027004217263311148, 0.02346876636147499, -0.004243934527039528, -0.016086002811789513, -0.007436439860612154, -0.02893655002117157, -0.0029960647225379944, 0.04030141979455948, -0.002665774431079626, -0.006753342226147652, 0.0, 0.0, 0.0, 0.0, 0.0, 0.0], [-0.021137773990631104, 0.00029729329980909824, 0.001412578858435154, -0.0004953369498252869, 0.004136179573833942, 0.00452636880800128, 0.015799857676029205, 5.827983841300011e-05, -0.001277200412005186, 0.0005177105776965618, 0.0008099648403003812, 0.0002837233478203416, -8.396129123866558e-05, -0.0009832708165049553, -0.0002281703636981547, 0.0004246181342750788, -8.134875679388642e-05, -0.001058389781974256, -0.0006024042959325016, -0.004242967814207077, 0.00011645193444564939, 0.002664950443431735, 5.3254072554409504e-05, 3.6397483199834824e-05, -0.0009467341005802155, 0.0, 0.0, 0.0, 0.0, 0.0], [-0.0009558200836181641, -0.00159580004401505, 0.007345693185925484, 0.0032181506976485252, -0.00036481209099292755, 0.004804495722055435, 0.017428480088710785, 6.4103864133358e-05, 0.003025151789188385, 0.003416121006011963, -0.0009318701922893524, -0.008897032588720322, -0.014744298532605171, -0.006123255006968975, -0.012632759287953377, 0.007365343160927296, -0.005395832471549511, -0.009036283940076828, -0.006074870936572552, -0.014149335213005543, -0.00028784479945898056, 0.024289606139063835, 0.0011521149426698685, 0.00014068931341171265, 0.004508586600422859, 0.004431241191923618, 0.0, 0.0, 0.0, 0.0], [-0.0699647068977356, -0.001117398263886571, -0.0005634303670376539, 0.00023045064881443977, 0.003057430498301983, 0.0018702768720686436, 0.018109530210494995, 0.002279432490468025, 0.00224443431943655, -0.005436448380351067, 0.001070227473974228, -0.0033101998269557953, -0.001946837641298771, -0.004882181994616985, -0.0015868886839598417, -4.9481168389320374e-05, -0.001194630516692996, -0.0035955505445599556, -0.0006268409779295325, -0.0053880661725997925, -8.650997187942266e-05, 0.045679256319999695, 0.0015355342766270041, 0.004020329564809799, 0.012631312943994999, 0.004178409464657307, 0.0028425510972738266, 0.0, 0.0, 0.0], [0.015003398060798645, -0.0015083947218954563, -0.004414659459143877, -0.0001091415761038661, -0.002396918833255768, -0.00205254927277565, -0.000779278576374054, 0.0008059926331043243, 0.0023860111832618713, -0.015864230692386627, 0.002077242825180292, -0.08958053588867188, -0.003132002428174019, -0.014758225530385971, -0.001430087722837925, -0.034078944474458694, -0.004287037067115307, -0.04478826746344566, -0.004327846225351095, -0.04996630176901817, -3.0970899388194084e-05, 0.2062944918870926, 0.0011645723134279251, 0.0015786564908921719, 0.04712274298071861, 0.004086696542799473, -0.0050264038145542145, -0.0019881101325154305, 0.0, 0.0], [-0.007967323064804077, -0.0021650372073054314, -0.006198039744049311, -0.0006932081887498498, -0.0028684940189123154, -0.002342493738979101, 0.0018600020557641983, -0.0004248949699103832, 0.001405445858836174, 0.017172612249851227, 0.0030443966388702393, -0.037926118820905685, -0.010423115454614162, -0.012957511469721794, -0.005609358660876751, -0.018761979416012764, -0.010937001556158066, -0.016518114134669304, -0.009097708389163017, -0.045995987951755524, -0.0027579418383538723, 0.14915984869003296, -7.351860404014587e-06, -7.739383727312088e-05, 0.03365689516067505, 0.00453589204698801, -0.011071499437093735, -0.005144411697983742, -0.0008901492692530155, 0.0], [0.13503700494766235, -0.0016989584546536207, -0.0010819816961884499, -1.3039913028478622e-05, -0.003910331521183252, -0.0018161998596042395, 0.00020797830075025558, -0.0014569747727364302, -0.0053803282789886, -0.015850145369768143, -0.0004498520866036415, -0.010623195208609104, -0.0015440683346241713, -0.0057631973177194595, -0.0008829481666907668, -0.005286139901727438, -0.0011254099663347006, -0.012926626950502396, -0.0018235841998830438, -0.007953044027090073, -0.000542712165042758, 0.0030460762791335583, -0.00038913777098059654, -0.0006678400095552206, -0.003184468485414982, 0.00048704317305237055, -0.006762918084859848, -0.0015572995180264115, -0.0004817582666873932, -0.045605964958667755]], [[0.0, 0.0, 0.0, 0.0, 0.0, 0.0, 0.0, 0.0, 0.0, 0.0, 0.0, 0.0, 0.0, 0.0, 0.0, 0.0, 0.0, 0.0, 0.0, 0.0, 0.0, 0.0, 0.0, 0.0, 0.0, 0.0, 0.0, 0.0, 0.0, 0.0], [0.0, 0.0, 0.0, 0.0, 0.0, 0.0, 0.0, 0.0, 0.0, 0.0, 0.0, 0.0, 0.0, 0.0, 0.0, 0.0, 0.0, 0.0, 0.0, 0.0, 0.0, 0.0, 0.0, 0.0, 0.0, 0.0, 0.0, 0.0, 0.0, 0.0], [0.0, 0.0, 0.0, 0.0, 0.0, 0.0, 0.0, 0.0, 0.0, 0.0, 0.0, 0.0, 0.0, 0.0, 0.0, 0.0, 0.0, 0.0, 0.0, 0.0, 0.0, 0.0, 0.0, 0.0, 0.0, 0.0, 0.0, 0.0, 0.0, 0.0], [0.0, 0.0, 0.0, 0.0, 0.0, 0.0, 0.0, 0.0, 0.0, 0.0, 0.0, 0.0, 0.0, 0.0, 0.0, 0.0, 0.0, 0.0, 0.0, 0.0, 0.0, 0.0, 0.0, 0.0, 0.0, 0.0, 0.0, 0.0, 0.0, 0.0], [0.0, 0.0, 0.0, 0.0, 0.0, 0.0, 0.0, 0.0, 0.0, 0.0, 0.0, 0.0, 0.0, 0.0, 0.0, 0.0, 0.0, 0.0, 0.0, 0.0, 0.0, 0.0, 0.0, 0.0, 0.0, 0.0, 0.0, 0.0, 0.0, 0.0], [0.0, 0.0, 0.0, 0.0, 0.0, 0.0, 0.0, 0.0, 0.0, 0.0, 0.0, 0.0, 0.0, 0.0, 0.0, 0.0, 0.0, 0.0, 0.0, 0.0, 0.0, 0.0, 0.0, 0.0, 0.0, 0.0, 0.0, 0.0, 0.0, 0.0], [0.10195162892341614, 0.009943637996912003, -0.0035206004977226257, -0.02054072916507721, -0.009525250643491745, -0.044446393847465515, -0.03386223688721657, 0.0, 0.0, 0.0, 0.0, 0.0, 0.0, 0.0, 0.0, 0.0, 0.0, 0.0, 0.0, 0.0, 0.0, 0.0, 0.0, 0.0, 0.0, 0.0, 0.0, 0.0, 0.0, 0.0], [0.034897953271865845, -0.0022506611421704292, -0.0034564808011054993, -0.004320260137319565, -0.0059065669775009155, 9.262561798095703e-05, -0.01552535593509674, -0.0035312771797180176, 0.0, 0.0, 0.0, 0.0, 0.0, 0.0, 0.0, 0.0, 0.0, 0.0, 0.0, 0.0, 0.0, 0.0, 0.0, 0.0, 0.0, 0.0, 0.0, 0.0, 0.0, 0.0], [-0.0023053139448165894, -0.0008809713181108236, 0.0034857476130127907, 7.374025881290436e-05, -0.00048095034435391426, 0.0015091411769390106, 0.0008591227233409882, 0.05385094881057739, -0.05611154064536095, 0.0, 0.0, 0.0, 0.0, 0.0, 0.0, 0.0, 0.0, 0.0, 0.0, 0.0, 0.0, 0.0, 0.0, 0.0, 0.0, 0.0, 0.0, 0.0, 0.0, 0.0], [0.07370246946811676, 0.0012245912803336978, 0.012960420921444893, 0.002449089428409934, 0.0013971825828775764, 0.004334859549999237, 0.004093157593160868, -0.04460495710372925, -0.05240628868341446, -0.0031504258513450623, 0.0, 0.0, 0.0, 0.0, 0.0, 0.0, 0.0, 0.0, 0.0, 0.0, 0.0, 0.0, 0.0, 0.0, 0.0, 0.0, 0.0, 0.0, 0.0, 0.0], [-0.05991341918706894, -3.549223765730858e-05, 0.005598199088126421, 0.00062494573649019, -0.00010537216439843178, -0.0005032422486692667, -0.001023927703499794, -0.11111977696418762, 0.04358517378568649, 0.13801205158233643, -0.015119194984436035, 0.0, 0.0, 0.0, 0.0, 0.0, 0.0, 0.0, 0.0, 0.0, 0.0, 0.0, 0.0, 0.0, 0.0, 0.0, 0.0, 0.0, 0.0, 0.0], [0.0979715883731842, -0.0006111263064667583, -0.00020201923325657845, -0.0006764903664588928, -0.0006689191795885563, -0.0004122925456613302, 0.0021736512426286936, -0.02001282572746277, -0.002939663827419281, -0.0038044024258852005, -0.07097262144088745, 0.0001550912857055664, 0.0, 0.0, 0.0, 0.0, 0.0, 0.0, 0.0, 0.0, 0.0, 0.0, 0.0, 0.0, 0.0, 0.0, 0.0, 0.0, 0.0, 0.0], [-0.02105465531349182, -0.00044943438842892647, -0.0007652165368199348, 0.00010362756438553333, -7.522024679929018e-05, -0.00046510016545653343, 0.002813289873301983, -0.03345105051994324, 0.0009217709302902222, 0.04313571751117706, 0.011879704892635345, 0.02679741382598877, -0.029390916228294373, 0.0, 0.0, 0.0, 0.0, 0.0, 0.0, 0.0, 0.0, 0.0, 0.0, 0.0, 0.0, 0.0, 0.0, 0.0, 0.0, 0.0], [0.03134061396121979, -6.160233169794083e-05, 0.004184365272521973, 0.0005917958915233612, -0.0005288507090881467, 0.0018610239494591951, 0.010817117989063263, 0.027780890464782715, -0.0007552430033683777, 0.022769993171095848, -0.044683001935482025, 0.01205931231379509, -0.04702883958816528, -0.018347540870308876, 0.0, 0.0, 0.0, 0.0, 0.0, 0.0, 0.0, 0.0, 0.0, 0.0, 0.0, 0.0, 0.0, 0.0, 0.0, 0.0], [0.011949010193347931, -0.0006186641985550523, -0.0020810645073652267, -0.0007295027608051896, -9.713444160297513e-05, -3.557000309228897e-05, 0.0016677575185894966, 0.014741785824298859, 0.010686993598937988, 0.05536255985498428, -0.005704365670681, 0.0649360716342926, -0.01890629157423973, -0.10408632457256317, -0.027085386216640472, 0.0, 0.0, 0.0, 0.0, 0.0, 0.0, 0.0, 0.0, 0.0, 0.0, 0.0, 0.0, 0.0, 0.0, 0.0], [-0.13570699095726013, -0.0009687666315585375, -0.0012396159581840038, -0.0005563640734180808, -0.0005149800563231111, -1.890124985948205e-05, 0.0016077712643891573, 0.21030420064926147, 0.0034180418588221073, 0.007586403749883175, -0.029798485338687897, 0.006151406094431877, -0.007017631083726883, -0.007467811927199364, -0.03402145579457283, -0.011756770312786102, 0.0, 0.0, 0.0, 0.0, 0.0, 0.0, 0.0, 0.0, 0.0, 0.0, 0.0, 0.0, 0.0, 0.0], [0.04244094341993332, -0.00024862209102138877, 3.235554322600365e-05, -0.00041211931966245174, 1.9298633560538292e-05, 0.0005525886081159115, 0.003149744588881731, 0.015489183366298676, 0.008616268634796143, 0.057705238461494446, -0.016127657145261765, 0.07036308944225311, -0.028155939653515816, -0.033972129225730896, -0.03543580695986748, -0.06449401378631592, -0.01952248066663742, 0.0, 0.0, 0.0, 0.0, 0.0, 0.0, 0.0, 0.0, 0.0, 0.0, 0.0, 0.0, 0.0], [-0.06335479021072388, -0.0008070103358477354, -0.0022873294074088335, -0.001495951903052628, -0.0003582010976970196, -0.0011665031779557467, -0.00023180106654763222, 0.3460733890533447, -0.006848464719951153, -0.0013362439349293709, -0.02532341331243515, -0.005736187100410461, -0.03915585204958916, -0.03205011785030365, -0.06634870916604996, -0.028263235464692116, -0.0692729726433754, -0.0020365342497825623, 0.0, 0.0, 0.0, 0.0, 0.0, 0.0, 0.0, 0.0, 0.0, 0.0, 0.0, 0.0], [0.009151637554168701, -0.0005422511603683233, -0.004181569442152977, -0.0012139787431806326, -0.0004752283566631377, -0.0010864429641515017, -0.0023529776372015476, -0.02096715196967125, -0.019541963934898376, 0.014857016503810883, -0.04124075919389725, 0.02328713983297348, -0.03460059314966202, -0.060869403183460236, -0.036215536296367645, -0.0558604896068573, -0.025746146216988564, 0.28396645188331604, -0.026367712765932083, 0.0, 0.0, 0.0, 0.0, 0.0, 0.0, 0.0, 0.0, 0.0, 0.0, 0.0], [0.006749570369720459, 0.0006369114853441715, -0.00021534785628318787, 0.0003686585696414113, -0.00028706679586321115, -7.490121060982347e-05, 0.0002628709189593792, 0.0719304084777832, 0.0010292045772075653, 0.002644442953169346, -0.016189049929380417, 0.006317301653325558, -0.008574228733778, -0.0009377570822834969, -0.014093726873397827, -0.006221498362720013, -0.010401878505945206, 0.003870180808007717, -0.03662244230508804, -0.0001917760819196701, 0.0, 0.0, 0.0, 0.0, 0.0, 0.0, 0.0, 0.0, 0.0, 0.0], [-0.0011936277151107788, -0.00034767098259180784, -0.0009582890197634697, -0.00019676308147609234, 1.6113801393657923e-05, -3.943219780921936e-05, 0.0011852551251649857, -0.00679146870970726, -0.005556265823543072, 0.021819040179252625, -0.027258215472102165, 0.013257712125778198, -0.027857251465320587, -0.026914402842521667, -0.03404281660914421, -0.028141453862190247, -0.024688061326742172, 0.19707828760147095, -0.033250585198402405, 0.023434191942214966, -0.03955427557229996, 0.0, 0.0, 0.0, 0.0, 0.0, 0.0, 0.0, 0.0, 0.0], [0.04964366555213928, 0.0004093940369784832, -0.0014094063080847263, 0.0005120688583701849, 9.338697418570518e-05, 0.0005424859700724483, -0.0004779933951795101, -0.012754976749420166, 4.734937101602554e-05, 0.0015877005644142628, -0.0037888940423727036, 0.0016269674524664879, -0.004456236958503723, -0.0018543503247201443, -0.008592905476689339, -0.0014274490531533957, -0.001647135242819786, 0.004039722494781017, -0.014780338853597641, -0.004444874823093414, -0.00654090940952301, 0.003672718070447445, 0.0, 0.0, 0.0, 0.0, 0.0, 0.0, 0.0, 0.0], [-0.00739482045173645, -0.0002703016216401011, -0.0019287862814962864, -0.0006645425455644727, -9.494999540038407e-05, -0.00044976326171308756, -0.0008813687600195408, -0.0163371954113245, -0.006977628916501999, 0.0020951777696609497, -0.018582958728075027, 0.015208553522825241, -0.017231334000825882, -0.030946915969252586, -0.021669846028089523, -0.026333972811698914, -0.01225680485367775, 0.10928040742874146, -0.013852095231413841, -0.011140614748001099, -0.02271626517176628, 0.08829234540462494, -0.00514625757932663, 0.0, 0.0, 0.0, 0.0, 0.0, 0.0, 0.0], [0.005657456815242767, -0.00033623003400862217, -0.0027157748118042946, -0.000954911345615983, -0.00013020605547353625, -0.0009306853171437979, -0.0005809087306261063, 0.006939344108104706, -0.0009767054580152035, 0.0060406215488910675, -0.0006464254111051559, -0.0031035616993904114, -0.005851563066244125, -0.016086455434560776, -0.01690792292356491, -0.01920110546052456, -0.005929838865995407, 0.041707590222358704, -0.011203445494174957, -0.01302947849035263, -0.024681322276592255, 0.06517603248357773, 0.00432712584733963, -0.006581589579582214, 0.0, 0.0, 0.0, 0.0, 0.0, 0.0], [-0.12493645399808884, 0.0009842310100793839, -0.0014361380599439144, -0.0006528785452246666, 9.420537389814854e-05, 0.0002630283124744892, -0.0014561652205884457, 0.2705555856227875, 0.0005839234218001366, 0.003861027769744396, -0.006087781861424446, 0.001136384904384613, -0.00930162612348795, -0.004987517837435007, -0.012260155752301216, -0.004876874387264252, -0.012703847140073776, -0.0031431824900209904, -0.019815601408481598, -0.005195173434913158, -0.018872328102588654, 0.0026355264708399773, -0.01773134246468544, -0.037169162184000015, 0.0005122758448123932, 0.0, 0.0, 0.0, 0.0, 0.0], [-0.014041543006896973, 0.012852907180786133, -0.0006650574505329132, -0.004938503727316856, -0.0038512125611305237, -0.0013661067932844162, -0.019681120291352272, 1.0340241715312004e-05, 3.7752542993985116e-05, -0.00016154453624039888, -0.00019689509645104408, -0.00046897484571672976, -9.286639397032559e-05, -0.00011866999557241797, -8.163995516952127e-05, -0.0002464784774929285, -5.2780305850319564e-05, -0.00030503643210977316, -5.736527964472771e-05, -0.0004842424241360277, -9.795193909667432e-05, 0.00012536009307950735, -7.501626532757655e-05, -0.00019148389401379973, 0.0002857337531168014, 0.0338626503944397, 0.0, 0.0, 0.0, 0.0], [-0.010793328285217285, -0.001198270358145237, 0.00046749692410230637, -0.0005479240790009499, -0.0005449913442134857, 0.00044032977893948555, -0.004060788080096245, 9.394879452884197e-05, -6.811376078985631e-05, -0.00010306679178029299, -0.00029662466840818524, -0.00011413657921366394, -0.0001452596188755706, 3.371454658918083e-05, -0.00016682472778484225, -2.213026164099574e-05, -9.251682786270976e-05, 0.0003652328159660101, -0.0002952210488729179, 1.5303317923098803e-05, -0.00019213760970160365, 0.00037449225783348083, 4.9979949835687876e-05, -2.055946970358491e-05, 0.0024827197194099426, -0.006053656339645386, 0.020392373204231262, 0.0, 0.0, 0.0], [0.01494733989238739, 0.002760564908385277, -0.0010626036673784256, 0.00013317563571035862, 4.2323488742113113e-05, 0.0002803187817335129, -0.007240660488605499, 0.0001250128261744976, -0.0001591989421285689, -0.00023272470571100712, -0.00024364434648305178, -0.0004037510370835662, -0.0002136891707777977, 6.052735261619091e-05, -0.00020216719713062048, -0.00014335173182189465, -9.164674702333286e-05, 0.00019884563516825438, -0.00011549620830919594, -2.4553737603127956e-05, -0.00024350854801014066, -6.233720341697335e-05, -4.942301893606782e-05, -8.074619108811021e-05, 0.0019932440482079983, 0.026661962270736694, 0.00469498336315155, -0.0413287878036499, 0.0, 0.0], [0.017264068126678467, 0.0009275949560105801, -0.0012329770252108574, -2.952880458906293e-05, 7.792009273543954e-05, -0.00010143528925254941, 0.0009579714387655258, 9.23207844607532e-05, -8.109278860501945e-05, -3.818189725279808e-05, -0.00042455585207790136, -8.588249329477549e-05, -0.000576079823076725, 2.9142480343580246e-05, -0.0007241404964588583, 0.00014108832692727447, -0.0005301179480738938, -0.00019642303232103586, -0.0007872176356613636, -0.0006069217342883348, -0.0010858027962967753, 0.00018014980014413595, -0.0004335663979873061, -0.000556445331312716, 0.0019546994008123875, -0.006738811731338501, 0.03495614230632782, -0.04229778051376343, -5.4195523262023926e-05, 0.0], [0.08971846103668213, 0.0064405216835439205, 0.000874206074513495, -0.00012863241136074066, 0.0003394920495338738, 2.7092290110886097e-05, 0.0035544480197131634, 0.0016892533749341965, -4.200486728223041e-05, 7.680500857532024e-08, 7.859282777644694e-05, 2.703157952055335e-05, -0.00012628860713448375, -1.45067970152013e-05, -0.0002532422367949039, -2.9495902708731592e-05, -0.00026516709476709366, -0.00026946153957396746, -0.000546381575986743, -0.0002210814564023167, -0.0004898973274976015, -0.0002625926281325519, -0.0004840033361688256, -0.0010567873250693083, -7.44842691347003e-05, 0.052344050258398056, 0.013223737478256226, -0.04881495237350464, -0.08933104574680328, -0.02590695023536682]], [[0.0, 0.0, 0.0, 0.0, 0.0, 0.0, 0.0, 0.0, 0.0, 0.0, 0.0, 0.0, 0.0, 0.0, 0.0, 0.0, 0.0, 0.0, 0.0, 0.0, 0.0, 0.0, 0.0, 0.0, 0.0, 0.0, 0.0, 0.0, 0.0, 0.0], [0.0, 0.0, 0.0, 0.0, 0.0, 0.0, 0.0, 0.0, 0.0, 0.0, 0.0, 0.0, 0.0, 0.0, 0.0, 0.0, 0.0, 0.0, 0.0, 0.0, 0.0, 0.0, 0.0, 0.0, 0.0, 0.0, 0.0, 0.0, 0.0, 0.0], [0.0, 0.0, 0.0, 0.0, 0.0, 0.0, 0.0, 0.0, 0.0, 0.0, 0.0, 0.0, 0.0, 0.0, 0.0, 0.0, 0.0, 0.0, 0.0, 0.0, 0.0, 0.0, 0.0, 0.0, 0.0, 0.0, 0.0, 0.0, 0.0, 0.0], [0.0, 0.0, 0.0, 0.0, 0.0, 0.0, 0.0, 0.0, 0.0, 0.0, 0.0, 0.0, 0.0, 0.0, 0.0, 0.0, 0.0, 0.0, 0.0, 0.0, 0.0, 0.0, 0.0, 0.0, 0.0, 0.0, 0.0, 0.0, 0.0, 0.0], [0.0, 0.0, 0.0, 0.0, 0.0, 0.0, 0.0, 0.0, 0.0, 0.0, 0.0, 0.0, 0.0, 0.0, 0.0, 0.0, 0.0, 0.0, 0.0, 0.0, 0.0, 0.0, 0.0, 0.0, 0.0, 0.0, 0.0, 0.0, 0.0, 0.0], [0.0, 0.0, 0.0, 0.0, 0.0, 0.0, 0.0, 0.0, 0.0, 0.0, 0.0, 0.0, 0.0, 0.0, 0.0, 0.0, 0.0, 0.0, 0.0, 0.0, 0.0, 0.0, 0.0, 0.0, 0.0, 0.0, 0.0, 0.0, 0.0, 0.0], [0.0027549266815185547, 0.0020995887462049723, 0.003920013550668955, 0.0012307926081120968, -0.0016565320547670126, -0.0024461867287755013, -0.005902684293687344, 0.0, 0.0, 0.0, 0.0, 0.0, 0.0, 0.0, 0.0, 0.0, 0.0, 0.0, 0.0, 0.0, 0.0, 0.0, 0.0, 0.0, 0.0, 0.0, 0.0, 0.0, 0.0, 0.0], [0.0009812712669372559, -0.0012277564965188503, 0.000609284732490778, -0.0001016734167933464, -0.0010478761978447437, -0.0009411647915840149, 0.0017951270565390587, -6.717536598443985e-05, 0.0, 0.0, 0.0, 0.0, 0.0, 0.0, 0.0, 0.0, 0.0, 0.0, 0.0, 0.0, 0.0, 0.0, 0.0, 0.0, 0.0, 0.0, 0.0, 0.0, 0.0, 0.0], [-0.001774132251739502, -0.00025557592744007707, -0.0003794655203819275, -0.0001842339988797903, -0.0006005733739584684, 0.0005311716813594103, -0.0036336700432002544, 0.0005080599803477526, 0.005788455251604319, 0.0, 0.0, 0.0, 0.0, 0.0, 0.0, 0.0, 0.0, 0.0, 0.0, 0.0, 0.0, 0.0, 0.0, 0.0, 0.0, 0.0, 0.0, 0.0, 0.0, 0.0], [0.005667209625244141, -0.0004138128715567291, 0.0008791303262114525, 8.941313717514277e-05, -0.0002417111536487937, -0.00028140039648860693, -7.519021164625883e-05, -0.005875255912542343, 0.00029018428176641464, -3.843056038022041e-05, 0.0, 0.0, 0.0, 0.0, 0.0, 0.0, 0.0, 0.0, 0.0, 0.0, 0.0, 0.0, 0.0, 0.0, 0.0, 0.0, 0.0, 0.0, 0.0, 0.0], [-0.039100587368011475, -0.000561579770874232, 0.0010212818160653114, 0.0020101862028241158, 0.0013620592653751373, -0.0061611607670784, 0.0016245599836111069, 0.0010006334632635117, 0.08443523943424225, -0.05206204205751419, 0.006431344896554947, 0.0, 0.0, 0.0, 0.0, 0.0, 0.0, 0.0, 0.0, 0.0, 0.0, 0.0, 0.0, 0.0, 0.0, 0.0, 0.0, 0.0, 0.0, 0.0], [-0.018026411533355713, 0.00035510986344888806, 0.0005723546491935849, 0.000372713606338948, 0.0006112336413934827, 0.0014483975246548653, -0.001832714769989252, 0.0037747789174318314, 0.007334599271416664, -0.001308787614107132, 0.011081358417868614, -0.004382464103400707, 0.0, 0.0, 0.0, 0.0, 0.0, 0.0, 0.0, 0.0, 0.0, 0.0, 0.0, 0.0, 0.0, 0.0, 0.0, 0.0, 0.0, 0.0], [-0.013411998748779297, 4.327244823798537e-06, 0.0014507516752928495, 0.00039140169974416494, 0.0003363359428476542, 0.009445814415812492, -6.440654397010803e-05, 0.0038110597524791956, 0.003259994089603424, -0.00604314636439085, 0.00023453496396541595, 0.004414597526192665, -0.00382929015904665, 0.0, 0.0, 0.0, 0.0, 0.0, 0.0, 0.0, 0.0, 0.0, 0.0, 0.0, 0.0, 0.0, 0.0, 0.0, 0.0, 0.0], [0.0008556246757507324, 0.000211171165574342, 0.0009451668011024594, 0.0005060491384938359, 0.0003279839875176549, 0.0017230084631592035, 0.0005216726567596197, 0.002903521526604891, 0.0035026506520807743, -0.0005463887937366962, 0.003612533211708069, -0.004299923777580261, -0.005615162663161755, -0.004647734109312296, 0.0, 0.0, 0.0, 0.0, 0.0, 0.0, 0.0, 0.0, 0.0, 0.0, 0.0, 0.0, 0.0, 0.0, 0.0, 0.0], [0.0074312686920166016, -5.0871429266408086e-05, 0.0016407158691436052, 0.00016600656090304255, 0.0002709598047658801, 0.0022019597236067057, -0.0016238967655226588, 0.0023661688901484013, 0.00011460261885076761, -0.0027969928923994303, 4.3124076910316944e-05, -0.0010291957296431065, -0.0029688947834074497, -0.004274372942745686, -0.0014905543066561222, 0.0, 0.0, 0.0, 0.0, 0.0, 0.0, 0.0, 0.0, 0.0, 0.0, 0.0, 0.0, 0.0, 0.0, 0.0], [-0.051319897174835205, 0.00022331258514896035, 0.0005563214072026312, 0.0005751067074015737, 0.0014300303300842643, 0.002712756395339966, 0.0006077474099583924, 0.009533168748021126, 0.006213836837559938, 0.0007399064488708973, 0.010054870508611202, 0.0016156109049916267, 0.009140857495367527, -0.0016208901070058346, 0.006356187164783478, 0.003181281266734004, 0.0, 0.0, 0.0, 0.0, 0.0, 0.0, 0.0, 0.0, 0.0, 0.0, 0.0, 0.0, 0.0, 0.0], [-0.016551196575164795, 4.4842337956652045e-05, 0.0013800596352666616, 0.0004013712168671191, 0.00019347138004377484, 0.00377195468172431, 0.00047437334433197975, 0.003195325843989849, 0.00016537090414203703, -0.0004987695720046759, -1.17418821901083e-05, 0.0015491689555346966, -0.00028830510564148426, 0.0007216879166662693, 9.701121598482132e-05, 0.005135300103574991, 0.00022004847414791584, 0.0, 0.0, 0.0, 0.0, 0.0, 0.0, 0.0, 0.0, 0.0, 0.0, 0.0, 0.0, 0.0], [-0.0015876293182373047, -0.000140076270326972, -0.00010783772449940443, 7.398618618026376e-05, 0.0003599588817451149, 0.0006184689700603485, -0.0005241801263764501, 0.005445532500743866, 0.003010457381606102, -0.001384673872962594, 0.003930671140551567, -0.003455442376434803, -0.0002822624519467354, -0.005352720618247986, -0.0004630391485989094, 0.00016059353947639465, 9.44947823882103e-05, -0.0003962838090956211, 0.0, 0.0, 0.0, 0.0, 0.0, 0.0, 0.0, 0.0, 0.0, 0.0, 0.0, 0.0], [-0.0016512870788574219, -0.0005693569546565413, -0.001481574960052967, -0.00011973024811595678, -2.824116381816566e-05, 0.0020834936294704676, -0.0005596871487796307, -0.000257052481174469, 0.0002514045627322048, -0.0011406788835301995, -0.00017332826973870397, 0.0020529283210635185, -0.0014906800352036953, 0.00033982377499341965, -0.0006535523571074009, 0.0034538498148322105, -0.0012041996233165264, 0.00523415207862854, -0.004086324479430914, 0.0, 0.0, 0.0, 0.0, 0.0, 0.0, 0.0, 0.0, 0.0, 0.0, 0.0], [0.044234275817871094, 0.0005522308638319373, 0.0005662436014972627, 0.00040481495670974255, -3.0239811167120934e-05, 0.00010498706251382828, -0.0010112568270415068, 0.0016204437706619501, 0.0008417193312197924, -0.0014211724046617746, -0.0025275787338614464, -0.0037317173555493355, -0.005489468574523926, -0.004304956179112196, -0.005849975626915693, -0.0042252070270478725, -0.005655871704220772, -0.002581371460109949, -0.008524260483682156, -0.002971767447888851, 0.0, 0.0, 0.0, 0.0, 0.0, 0.0, 0.0, 0.0, 0.0, 0.0], [0.02764338254928589, -6.316020153462887e-05, -0.00031097361352294683, -0.0001510081347078085, 2.1665298845618963e-05, 0.0016119794454425573, -0.0014657238498330116, 0.00039043917786329985, -0.00025396907585673034, -0.0030688317492604256, -0.0008869556477293372, -0.003538616467267275, -0.00637770164757967, -0.006125686690211296, -0.004594026133418083, 0.0006225910037755966, -0.003123439848423004, 0.0011866111308336258, -0.004891540389508009, 0.005338011309504509, -0.0019629355520009995, 0.0, 0.0, 0.0, 0.0, 0.0, 0.0, 0.0, 0.0, 0.0], [0.018677830696105957, -0.00012921536108478904, 0.00012244924437254667, 0.0005075716180726886, 0.0012974754208698869, 0.00028405082412064075, 0.00046611984726041555, 0.00230508204549551, 0.0015416366513818502, -3.363983705639839e-05, -0.0022919178009033203, -0.0035382986534386873, -0.0016150716692209244, -0.0016063549555838108, -0.0029027340933680534, -0.0008869231678545475, -0.0042730881832540035, -0.00020498980302363634, -0.009551559574902058, -0.0013829811941832304, -0.002073450479656458, 0.005288269370794296, 0.0, 0.0, 0.0, 0.0, 0.0, 0.0, 0.0, 0.0], [0.0006688833236694336, -8.573985542170703e-05, 0.002360191196203232, 0.0003181996289640665, 0.0001905997924041003, 0.004888106603175402, 0.0005108907353132963, 0.0013931163121014833, -9.391974890604615e-05, -0.002814126666635275, -0.0005352396401576698, -0.0020903439726680517, -0.0032740775495767593, -0.002951300935819745, -0.002091857837513089, -6.736069917678833e-05, -0.002240824745967984, 0.0002783203963190317, -0.003701996523886919, -0.0006681540980935097, -0.0020821138750761747, 0.014244266785681248, -0.0021555419079959393, 0.0, 0.0, 0.0, 0.0, 0.0, 0.0, 0.0], [-0.00030809640884399414, -0.0001776034478098154, 0.0029772846028208733, 0.00022528879344463348, 0.00038624845910817385, 0.011265167966485023, 0.0023908717557787895, 0.0030432434286922216, 0.00025276304222643375, -0.007489718962460756, -0.0006784064462408423, -0.0014946330338716507, -0.002568489871919155, -0.003991625737398863, -0.0016522228252142668, 0.0004730238579213619, -0.0017740039620548487, 0.0004372331313788891, -0.003640750888735056, 4.5868800953030586e-05, -0.0015086405910551548, 0.00765372347086668, -0.002131540095433593, -0.001734921708703041, 0.0, 0.0, 0.0, 0.0, 0.0, 0.0], [-0.028868675231933594, 0.0004085494438186288, 0.00032029335852712393, 0.0008933995850384235, 0.0021380456164479256, 0.004425389226526022, 0.0008242389303632081, 0.009008667431771755, 0.005724445916712284, 0.0006601114291697741, 0.0015823133289813995, -0.002330429619178176, 0.0022532418370246887, -0.0015672288136556745, 0.000217007240280509, 1.3844459317624569e-05, 0.0003800690174102783, -0.00031016714638099074, -0.0018676696345210075, 5.6776509154587984e-05, 0.0006869103526696563, 0.004698276054114103, 0.0005513639189302921, 0.0006932311225682497, -0.0005920049734413624, 0.0, 0.0, 0.0, 0.0, 0.0], [0.004300534725189209, -0.001905873417854309, 0.000641603022813797, -0.002128422260284424, -0.005485199391841888, -0.004481005482375622, -0.0017750421538949013, 0.020748205482959747, 0.0003626006655395031, -0.003354310989379883, -0.0024024760350584984, 1.7447397112846375e-05, -0.0009933672845363617, -5.42105408385396e-06, -0.00053490384016186, -0.0001726361660985276, -0.0002511934144422412, -0.0019518425688147545, -0.0006355042569339275, -0.0004987264983355999, -0.00029483679099939764, 0.0012361824046820402, -7.973215542733669e-05, -0.00066112179774791, 0.00027808346203528345, 2.676248550415039e-05, 0.0, 0.0, 0.0, 0.0], [-0.038180768489837646, -0.0005059298127889633, 0.0013514971360564232, 0.0014307880774140358, -0.0063670240342617035, -0.0009394153021275997, 0.000929124653339386, 0.014979211613535881, 0.0008114470401778817, -0.0021594713907688856, -0.0013508156407624483, -6.885529728606343e-06, -0.0023401740472763777, -9.318426600657403e-05, -0.001279148506000638, -9.153233258984983e-05, -0.0010193815687671304, -0.0008201564196497202, -0.0013570189476013184, -0.0006893336540088058, -0.0008511341875419021, 0.002190267900004983, -0.0003040619194507599, -0.0003693050239235163, 0.0003877489943988621, 0.0023496001958847046, 0.03429502248764038, 0.0, 0.0, 0.0], [0.02113252878189087, -0.00135248270817101, 0.004201691597700119, -0.00010901596397161484, -0.002166864462196827, -0.0025784000754356384, 0.0004218887770548463, 0.0052993930876255035, -0.0008450980531051755, -0.003598012961447239, -0.0006184540688991547, -6.92312023602426e-05, -0.0003836102841887623, 1.2274183973204345e-05, -0.00017018958169501275, -3.8094545743661e-05, -0.0002855420170817524, -5.4377782362280414e-05, -0.0003162796201650053, -0.00017719891911838204, -0.00014661860768683255, 0.001248056418262422, -0.0001277276169275865, -0.00021826557349413633, 4.4999200326856226e-05, 0.00021757115609943867, -0.00721459835767746, -0.012108203023672104, 0.0, 0.0], [0.029081761837005615, -0.0005205636261962354, 0.0008753351867198944, 0.00011012481991201639, -0.001364053227007389, -0.003824479877948761, 0.00045310985296964645, -0.0030486248433589935, -0.0019177851499989629, -0.006735462695360184, -0.0006543656927533448, -4.956978955306113e-05, -0.0005770362331531942, 1.8326340068597347e-05, -0.00023451982997357845, -3.519812162267044e-05, -0.00038034108001738787, -0.0001421728520654142, -0.0007907659746706486, -0.00024925300385802984, -0.0004093111492693424, 0.000540531356818974, -0.00038812714046798646, -0.00033020315458998084, -2.3686916392762214e-05, -0.00021362071856856346, 0.00025698263198137283, -0.008108843117952347, -0.0013382183387875557, 0.0], [-0.028305351734161377, 0.0010190235916525126, 0.002025512047111988, 0.0006257438799366355, 0.0018811938352882862, 3.975280560553074e-05, -0.00019217818044126034, 0.005147687159478664, -0.00024609509273432195, -0.002646694891154766, -1.8808641470968723e-05, -0.0002444997080601752, 0.0002709900145418942, -0.00021558048320002854, 0.0003914985281880945, -0.00011926679871976376, 0.00018992184777744114, -0.0004295633116271347, 0.00019472098210826516, -0.0003907086211256683, 0.00014575112436432391, 0.0014272606931626797, 0.00017719458264764398, 0.0006170255364850163, 0.0005478885141201317, 0.0011270978720858693, 0.0016351568046957254, 0.0038862493820488453, -0.00039241742342710495, 0.011851456016302109]], [[0.0, 0.0, 0.0, 0.0, 0.0, 0.0, 0.0, 0.0, 0.0, 0.0, 0.0, 0.0, 0.0, 0.0, 0.0, 0.0, 0.0, 0.0, 0.0, 0.0, 0.0, 0.0, 0.0, 0.0, 0.0, 0.0, 0.0, 0.0, 0.0, 0.0], [0.0, 0.0, 0.0, 0.0, 0.0, 0.0, 0.0, 0.0, 0.0, 0.0, 0.0, 0.0, 0.0, 0.0, 0.0, 0.0, 0.0, 0.0, 0.0, 0.0, 0.0, 0.0, 0.0, 0.0, 0.0, 0.0, 0.0, 0.0, 0.0, 0.0], [0.0, 0.0, 0.0, 0.0, 0.0, 0.0, 0.0, 0.0, 0.0, 0.0, 0.0, 0.0, 0.0, 0.0, 0.0, 0.0, 0.0, 0.0, 0.0, 0.0, 0.0, 0.0, 0.0, 0.0, 0.0, 0.0, 0.0, 0.0, 0.0, 0.0], [0.0, 0.0, 0.0, 0.0, 0.0, 0.0, 0.0, 0.0, 0.0, 0.0, 0.0, 0.0, 0.0, 0.0, 0.0, 0.0, 0.0, 0.0, 0.0, 0.0, 0.0, 0.0, 0.0, 0.0, 0.0, 0.0, 0.0, 0.0, 0.0, 0.0], [0.0, 0.0, 0.0, 0.0, 0.0, 0.0, 0.0, 0.0, 0.0, 0.0, 0.0, 0.0, 0.0, 0.0, 0.0, 0.0, 0.0, 0.0, 0.0, 0.0, 0.0, 0.0, 0.0, 0.0, 0.0, 0.0, 0.0, 0.0, 0.0, 0.0], [0.0, 0.0, 0.0, 0.0, 0.0, 0.0, 0.0, 0.0, 0.0, 0.0, 0.0, 0.0, 0.0, 0.0, 0.0, 0.0, 0.0, 0.0, 0.0, 0.0, 0.0, 0.0, 0.0, 0.0, 0.0, 0.0, 0.0, 0.0, 0.0, 0.0], [-0.004599928855895996, 0.010869433172047138, -0.006473790854215622, -0.004493288695812225, 0.0011835061013698578, 0.00018278975039720535, 0.0033314283937215805, 0.0, 0.0, 0.0, 0.0, 0.0, 0.0, 0.0, 0.0, 0.0, 0.0, 0.0, 0.0, 0.0, 0.0, 0.0, 0.0, 0.0, 0.0, 0.0, 0.0, 0.0, 0.0, 0.0], [-0.03514665365219116, -0.0008034808561205864, 0.0002613607794046402, -0.0002824198454618454, 0.0019141584634780884, 0.0037669632583856583, 0.011280246078968048, 0.019009828567504883, 0.0, 0.0, 0.0, 0.0, 0.0, 0.0, 0.0, 0.0, 0.0, 0.0, 0.0, 0.0, 0.0, 0.0, 0.0, 0.0, 0.0, 0.0, 0.0, 0.0, 0.0, 0.0], [-0.1133996844291687, -0.004052827600389719, -0.0007297731935977936, -0.001333688385784626, 0.013104253448545933, 0.006541896611452103, 0.005723234266042709, 0.08136466890573502, 0.012781985104084015, 0.0, 0.0, 0.0, 0.0, 0.0, 0.0, 0.0, 0.0, 0.0, 0.0, 0.0, 0.0, 0.0, 0.0, 0.0, 0.0, 0.0, 0.0, 0.0, 0.0, 0.0], [-0.041134417057037354, 0.0015131884720176458, -0.0016247965395450592, -0.0046549150720238686, 0.002138971583917737, 0.0022756466642022133, 0.0053135063499212265, 0.033466242253780365, 0.006191114895045757, -0.003484658896923065, 0.0, 0.0, 0.0, 0.0, 0.0, 0.0, 0.0, 0.0, 0.0, 0.0, 0.0, 0.0, 0.0, 0.0, 0.0, 0.0, 0.0, 0.0, 0.0, 0.0], [-0.1271457076072693, 0.0019031181000173092, -0.004917901009321213, -0.0031225737184286118, 0.006838392931967974, 0.011195700615644455, 0.01709754392504692, 0.048437073826789856, 0.027103152126073837, -0.008533865213394165, 0.03114510327577591, 0.0, 0.0, 0.0, 0.0, 0.0, 0.0, 0.0, 0.0, 0.0, 0.0, 0.0, 0.0, 0.0, 0.0, 0.0, 0.0, 0.0, 0.0, 0.0], [-0.024220168590545654, 0.0006208079867064953, -0.0021583728957921267, -0.0023847180418670177, 0.0007332083769142628, -0.0002768923295661807, -0.0011391881853342056, 0.04505410045385361, 0.004823931492865086, -0.005158763378858566, -0.018721945583820343, 0.0028280080296099186, 0.0, 0.0, 0.0, 0.0, 0.0, 0.0, 0.0, 0.0, 0.0, 0.0, 0.0, 0.0, 0.0, 0.0, 0.0, 0.0, 0.0, 0.0], [-0.10000371932983398, 0.0008184253238141537, -0.004637403413653374, -0.0004832567647099495, 0.0021002243738621473, 0.004170175641775131, 0.003777461126446724, 0.04880363866686821, 0.0058211153373122215, -0.014442019164562225, -0.009591437876224518, 0.006946973502635956, 0.056719791144132614, 0.0, 0.0, 0.0, 0.0, 0.0, 0.0, 0.0, 0.0, 0.0, 0.0, 0.0, 0.0, 0.0, 0.0, 0.0, 0.0, 0.0], [-0.029445886611938477, 0.0014398033963516355, 0.0012467605993151665, 0.0016641784459352493, 0.0019979551434516907, 0.0019114600727334619, 0.003677092958241701, 0.02208741568028927, 0.006608465686440468, -0.004501196555793285, -0.004977922886610031, -0.0010977736674249172, 0.0015846509486436844, -0.002195103093981743, 0.0, 0.0, 0.0, 0.0, 0.0, 0.0, 0.0, 0.0, 0.0, 0.0, 0.0, 0.0, 0.0, 0.0, 0.0, 0.0], [-0.07578742504119873, 0.001279961783438921, -0.003362487070262432, 0.00031191762536764145, 0.002781063551083207, 0.002035629004240036, -0.0026543745771050453, 0.02798532135784626, 0.005555199459195137, -0.005694926716387272, -0.0013312958180904388, 0.005594857037067413, 0.022286785766482353, 0.005209214985370636, 0.015790406614542007, 0.0, 0.0, 0.0, 0.0, 0.0, 0.0, 0.0, 0.0, 0.0, 0.0, 0.0, 0.0, 0.0, 0.0, 0.0], [-0.03541839122772217, 0.001270526903681457, -0.0004002735950052738, -0.0003632225561887026, 0.0006845621392130852, 0.00015357835218310356, 0.0020342653151601553, 0.04471439868211746, 0.0032111445907503366, -0.0006961140315979719, -0.008296775631606579, 0.00043725757859647274, -0.003997025080025196, -1.3826880604028702e-05, -0.0035454146564006805, 0.00022514653392136097, 0.0, 0.0, 0.0, 0.0, 0.0, 0.0, 0.0, 0.0, 0.0, 0.0, 0.0, 0.0, 0.0, 0.0], [-0.061958134174346924, 0.0010256462264806032, -0.0009497618302702904, 0.0015346258878707886, 0.0013342187739908695, 0.0019334517419338226, 0.00031866133213043213, 0.032878290861845016, 0.003638438880443573, -0.0080788042396307, 0.0012541599571704865, 0.0027824463322758675, 0.015325658023357391, 0.0029619289562106133, 0.006840353831648827, -0.0053161573596298695, 0.004474937915802002, 0.0, 0.0, 0.0, 0.0, 0.0, 0.0, 0.0, 0.0, 0.0, 0.0, 0.0, 0.0, 0.0], [0.017038345336914062, 0.00046750984620302916, -0.007934763096272945, -0.0033735670149326324, -0.00035371107514947653, 0.00037425453774631023, 0.0036263582296669483, 0.01628738082945347, -0.0006148559041321278, -0.003509183879941702, -0.007225155830383301, -0.0013531954027712345, -0.002019966021180153, -0.006128146778792143, -0.001768430694937706, -0.00011701928451657295, 0.0009714122861623764, -0.004367168061435223, 0.0, 0.0, 0.0, 0.0, 0.0, 0.0, 0.0, 0.0, 0.0, 0.0, 0.0, 0.0], [0.026868224143981934, -0.00028259027749300003, -0.007339418865740299, -0.0019234376959502697, -0.0010524627286940813, 0.00031234160996973515, -0.002685103565454483, 0.001241341233253479, -0.0004748590290546417, -0.008591515943408012, -0.004674576222896576, 0.0024466747418045998, 0.0023580193519592285, 0.005337841808795929, 0.0023711659014225006, -0.0025751683861017227, -0.0008449684828519821, 3.364775329828262e-05, -0.0105251744389534, 0.0, 0.0, 0.0, 0.0, 0.0, 0.0, 0.0, 0.0, 0.0, 0.0, 0.0], [0.039235830307006836, 0.00028838927391916513, 2.8329435735940933e-05, -0.0008058673702180386, 8.256552973762155e-05, 8.47908086143434e-05, 0.000350394519045949, -0.0035135261714458466, 0.0006603488582186401, -0.0016742630396038294, -0.004028232768177986, -0.0012186177773401141, -0.0066666677594184875, -0.0017373338341712952, -0.005993199534714222, -0.001207746914587915, -0.004922839812934399, -9.106239303946495e-06, -0.0068177287466824055, -0.0021356369834393263, 0.0, 0.0, 0.0, 0.0, 0.0, 0.0, 0.0, 0.0, 0.0, 0.0], [0.03006213903427124, 0.0007204930298030376, -0.00023568235337734222, -0.0012050149962306023, -0.00028481625486165285, 0.00047607580199837685, 0.0002607880160212517, 0.004644065164029598, 0.00012985337525606155, -0.004267043899744749, -0.004858584608882666, 0.00011106207966804504, -0.0025909869000315666, 0.00011379551142454147, -0.0015371870249509811, -0.003018255578354001, -0.0033478839322924614, 1.4429446309804916e-05, -0.007944384589791298, -0.0037385434843599796, -0.003504411317408085, 0.0, 0.0, 0.0, 0.0, 0.0, 0.0, 0.0, 0.0, 0.0], [0.0042302608489990234, 0.0005134354578331113, -0.00021456624381244183, -0.0004603522829711437, 0.0010303104063495994, 0.00028157717315480113, 0.001388848526403308, 0.007472315803170204, 0.0014663717010989785, -0.001295601250603795, -0.004992252681404352, 0.00043677794747054577, -0.0010342076420783997, -0.0007282039150595665, -0.004208109341561794, 0.0006125501822680235, -2.7438625693321228e-05, -0.0007361576426774263, -0.005972389597445726, -0.001351477811113, 0.0009202640503644943, 0.0026680133305490017, 0.0, 0.0, 0.0, 0.0, 0.0, 0.0, 0.0, 0.0], [-0.009375929832458496, -4.953646566718817e-05, -0.004124045372009277, -0.0013227402232587337, 0.0008858484216034412, 0.00036116770934313536, 0.00030013127252459526, 0.009933734312653542, -0.00013847206719219685, -0.004677090793848038, -0.005016199313104153, -0.0006808480247855186, 0.002625206485390663, -0.0019472623243927956, -0.002798277884721756, -0.0037371693179011345, -0.0028477776795625687, -0.0035304396878927946, -0.01159302331507206, -0.004805289208889008, -0.007834095507860184, 0.03937830030918121, 0.010993793606758118, 0.0, 0.0, 0.0, 0.0, 0.0, 0.0, 0.0], [-0.02790844440460205, -0.00022352277301251888, -0.00761025957763195, -0.0035125836730003357, 0.0008946564048528671, -5.459040403366089e-05, -0.00026401784271001816, 0.011621607467532158, 0.0022099099587649107, -0.005272507667541504, -0.00578555092215538, -0.0006104297935962677, 0.004446882754564285, -0.0019283927977085114, -0.0017587542533874512, -0.003632667474448681, 0.0014503803104162216, -0.0047268555499613285, -0.00880400650203228, -0.004170602187514305, -0.004062662832438946, 0.036286044865846634, 0.018255550414323807, 0.005160750821232796, 0.0, 0.0, 0.0, 0.0, 0.0, 0.0], [-0.042997658252716064, 0.0011152173392474651, -0.0001543422695249319, -0.0003331333864480257, 0.0005185875343158841, 0.0003175464808009565, 0.004506193101406097, 0.03601328656077385, 0.0010155101772397757, -0.00039283069781959057, -0.0019183955155313015, 0.00011348479893058538, 0.0006776689551770687, -0.0008419773075729609, -0.001080125104635954, 0.00013472873251885176, 0.0005675097927451134, -0.00040451192762702703, -0.0016538710333406925, -0.0005996938562020659, 0.0014891938772052526, 0.0018966000061482191, 0.002189743798226118, -0.0003383597359061241, 0.0001594950444996357, 0.0, 0.0, 0.0, 0.0, 0.0], [0.009973585605621338, 0.00040735211223363876, -0.005929531529545784, -0.0053261397406458855, 0.0010745655745267868, 0.0008443125989288092, 0.005301402881741524, 0.004746054299175739, 0.001331491395831108, -0.0007315836846828461, -0.002810451202094555, -0.00013364863116294146, -0.002049568109214306, -0.0003331584739498794, -0.0013503318186849356, 2.0265579223632812e-06, -0.00119024608284235, -0.0006155683659017086, -0.0023690368980169296, -0.00015483738388866186, -3.0397670343518257e-05, 0.0013008923269808292, 0.0011442005634307861, 0.000840076245367527, 0.0004497789777815342, -0.004391402006149292, 0.0, 0.0, 0.0, 0.0], [-0.010786056518554688, 0.002238243818283081, -0.00032983720302581787, -0.003437747247517109, 0.0007178860250860453, 0.0005645039491355419, 0.004064861685037613, 0.0013778540305793285, 0.0004990671295672655, -0.0020613193046301603, -0.0022045897785574198, -0.0004580079694278538, -0.0010699557606130838, 0.00020503334235399961, -0.0003494718112051487, -0.00019065733067691326, -0.00016924901865422726, -0.0012219311902299523, -0.0008359956555068493, -0.00011449534213170409, 0.00035642844159156084, 0.002556948456913233, 0.001120375469326973, 0.0010853998828679323, 0.0015125272329896688, -0.0034270621836185455, 0.010357249528169632, 0.0, 0.0, 0.0], [0.04274505376815796, -0.00011723674833774567, -0.005517497658729553, -0.0026427386328577995, -0.00012375367805361748, -9.65408980846405e-06, -0.0017082123085856438, 0.0010218732059001923, 0.0009340618271380663, -0.008616644889116287, -0.004160373471677303, -0.0022127176634967327, -0.0014878723304718733, -4.3603708036243916e-05, -0.0006304280832409859, -0.0018046885961666703, -0.0006085444474592805, -0.0024126707576215267, -0.0021065298933535814, -0.0011042230762541294, -0.0005131313810124993, 0.007582508027553558, 0.001623275107704103, 0.0014106521848589182, 0.0012204076629132032, -0.005696417763829231, 0.004809219390153885, -0.019830085337162018, 0.0, 0.0], [0.014929413795471191, 0.00020356383174657822, -0.003030073828995228, -0.0035259919241070747, -0.0003822888247668743, -0.00039025023579597473, 0.0017589051276445389, 0.0010514999739825726, 0.0007357788272202015, -0.004940147045999765, -0.0026340424083173275, -0.0013192849000915885, -0.0009158751927316189, -0.00046923267655074596, -0.00028603943064808846, -0.001713562523946166, -0.0007428592070937157, -0.003700822126120329, -0.002570707816630602, -0.0012286014389246702, -0.0005521369748748839, 0.006712653208523989, 0.0012699925573542714, 0.0010835325811058283, 0.0010193872731179, -0.0020767217501997948, 0.0021777115762233734, -0.0044935643672943115, 0.004029836505651474, 0.0], [-0.06344389915466309, -0.006876762956380844, -0.0015541906468570232, -0.0028170845471322536, -0.0019130720756947994, -0.0013469192199409008, 0.0007061944343149662, 0.0013101855292916298, 0.0007888686377555132, -0.003889442654326558, -0.0015429563354700804, -0.0016134760808199644, 0.001063804142177105, -0.0004564605769701302, 0.0008734571747481823, -0.001689633703790605, 0.0020711938850581646, -0.0024187788367271423, -0.00022470788098871708, -0.0011895284987986088, 0.001213681185618043, 0.0028012492693960667, 0.0017261806642636657, 0.0016184847336262465, 0.00014129560440778732, 0.020694604143500328, 0.009408514946699142, 0.0037838350981473923, -0.0018644388765096664, 0.044639743864536285]], [[0.0, 0.0, 0.0, 0.0, 0.0, 0.0, 0.0, 0.0, 0.0, 0.0, 0.0, 0.0, 0.0, 0.0, 0.0, 0.0, 0.0, 0.0, 0.0, 0.0, 0.0, 0.0, 0.0, 0.0, 0.0, 0.0, 0.0, 0.0, 0.0, 0.0], [0.0, 0.0, 0.0, 0.0, 0.0, 0.0, 0.0, 0.0, 0.0, 0.0, 0.0, 0.0, 0.0, 0.0, 0.0, 0.0, 0.0, 0.0, 0.0, 0.0, 0.0, 0.0, 0.0, 0.0, 0.0, 0.0, 0.0, 0.0, 0.0, 0.0], [0.0, 0.0, 0.0, 0.0, 0.0, 0.0, 0.0, 0.0, 0.0, 0.0, 0.0, 0.0, 0.0, 0.0, 0.0, 0.0, 0.0, 0.0, 0.0, 0.0, 0.0, 0.0, 0.0, 0.0, 0.0, 0.0, 0.0, 0.0, 0.0, 0.0], [0.0, 0.0, 0.0, 0.0, 0.0, 0.0, 0.0, 0.0, 0.0, 0.0, 0.0, 0.0, 0.0, 0.0, 0.0, 0.0, 0.0, 0.0, 0.0, 0.0, 0.0, 0.0, 0.0, 0.0, 0.0, 0.0, 0.0, 0.0, 0.0, 0.0], [0.0, 0.0, 0.0, 0.0, 0.0, 0.0, 0.0, 0.0, 0.0, 0.0, 0.0, 0.0, 0.0, 0.0, 0.0, 0.0, 0.0, 0.0, 0.0, 0.0, 0.0, 0.0, 0.0, 0.0, 0.0, 0.0, 0.0, 0.0, 0.0, 0.0], [0.0, 0.0, 0.0, 0.0, 0.0, 0.0, 0.0, 0.0, 0.0, 0.0, 0.0, 0.0, 0.0, 0.0, 0.0, 0.0, 0.0, 0.0, 0.0, 0.0, 0.0, 0.0, 0.0, 0.0, 0.0, 0.0, 0.0, 0.0, 0.0, 0.0], [-0.002180933952331543, -0.00035644962918013334, 0.0008461226243525743, 0.00034116196911782026, 0.0004374327836558223, -0.000625361455604434, 0.0015379441902041435, 0.0, 0.0, 0.0, 0.0, 0.0, 0.0, 0.0, 0.0, 0.0, 0.0, 0.0, 0.0, 0.0, 0.0, 0.0, 0.0, 0.0, 0.0, 0.0, 0.0, 0.0, 0.0, 0.0], [0.005652487277984619, -0.0021788529120385647, 0.0002824440598487854, 0.00039770896546542645, -0.0032327407971024513, 0.0022406894713640213, -0.00014156103134155273, -0.0030201044864952564, 0.0, 0.0, 0.0, 0.0, 0.0, 0.0, 0.0, 0.0, 0.0, 0.0, 0.0, 0.0, 0.0, 0.0, 0.0, 0.0, 0.0, 0.0, 0.0, 0.0, 0.0, 0.0], [-0.04307198524475098, -0.0006129415123723447, 0.004091242328286171, -0.0003003848250955343, -0.0016925211530178785, 0.03740936517715454, -0.008096851408481598, 0.00480278953909874, 0.007471288554370403, 0.0, 0.0, 0.0, 0.0, 0.0, 0.0, 0.0, 0.0, 0.0, 0.0, 0.0, 0.0, 0.0, 0.0, 0.0, 0.0, 0.0, 0.0, 0.0, 0.0, 0.0], [-0.012132465839385986, -0.00045338348718360066, -0.0008047139272093773, 0.000347686349414289, 0.0015717383939772844, 0.005289367400109768, -0.0033455239608883858, 0.007912665605545044, 0.0009762964909896255, 0.0006383620202541351, 0.0, 0.0, 0.0, 0.0, 0.0, 0.0, 0.0, 0.0, 0.0, 0.0, 0.0, 0.0, 0.0, 0.0, 0.0, 0.0, 0.0, 0.0, 0.0, 0.0], [-0.0427362322807312, 0.0003103157505393028, -0.004060650244355202, 0.0003222385421395302, 0.008396425284445286, 0.005014251917600632, -0.005074372515082359, 0.014527356252074242, 0.036193154752254486, -0.01660829782485962, 0.00371574517339468, 0.0, 0.0, 0.0, 0.0, 0.0, 0.0, 0.0, 0.0, 0.0, 0.0, 0.0, 0.0, 0.0, 0.0, 0.0, 0.0, 0.0, 0.0, 0.0], [-0.0962645411491394, 3.4193682949990034e-05, -0.0002642180770635605, -0.00014158012345433235, 0.0012745861895382404, 0.0044122012332081795, 0.0038069896399974823, 0.026270225644111633, 0.0012358680833131075, 0.037957992404699326, 0.0203953105956316, 0.0012830458581447601, 0.0, 0.0, 0.0, 0.0, 0.0, 0.0, 0.0, 0.0, 0.0, 0.0, 0.0, 0.0, 0.0, 0.0, 0.0, 0.0, 0.0, 0.0], [-0.07353401184082031, 6.747926818206906e-05, 0.005017734598368406, 0.0002521473215892911, 0.004832429811358452, 0.010966839268803596, 0.001548844389617443, 0.0033084629103541374, 0.007957570254802704, 0.0011831223964691162, -5.77862374484539e-06, 0.03521496057510376, 0.0031903255730867386, 0.0, 0.0, 0.0, 0.0, 0.0, 0.0, 0.0, 0.0, 0.0, 0.0, 0.0, 0.0, 0.0, 0.0, 0.0, 0.0, 0.0], [-0.01769477128982544, 0.00036789762089028955, 0.007969444617629051, 7.045071106404066e-05, 0.0016765422187745571, 0.0017047841101884842, 0.0016069388948380947, 0.005773462355136871, 0.00025454029673710465, -0.004015244543552399, 0.006746065802872181, -0.0007753979880362749, -0.0038203466683626175, 0.00013574864715337753, 0.0, 0.0, 0.0, 0.0, 0.0, 0.0, 0.0, 0.0, 0.0, 0.0, 0.0, 0.0, 0.0, 0.0, 0.0, 0.0], [-0.011625707149505615, 0.00019610198796726763, 0.0005335067398846149, -2.6273890398442745e-05, 0.0024184943176805973, 0.001574543071910739, -0.00014742417261004448, 0.00048377830535173416, 0.0010757652344182134, -0.0014681064058095217, -0.00010799826122820377, 0.003245007712393999, -0.0008716692682355642, 0.005119619891047478, -0.0003996999002993107, 0.0, 0.0, 0.0, 0.0, 0.0, 0.0, 0.0, 0.0, 0.0, 0.0, 0.0, 0.0, 0.0, 0.0, 0.0], [-0.1970386505126953, 7.260811980813742e-05, 0.0008570533245801926, 0.00010774729889817536, 0.0013620967511087656, 0.012705212458968163, 0.004753464832901955, 0.08674907684326172, 0.0023286896757781506, 0.02354356274008751, 0.023759538307785988, 0.0018345055868849158, 0.022234048694372177, 0.00458731222897768, 0.010835937224328518, 0.001307688420638442, 0.0, 0.0, 0.0, 0.0, 0.0, 0.0, 0.0, 0.0, 0.0, 0.0, 0.0, 0.0, 0.0, 0.0], [-0.029362499713897705, 0.00018966069910675287, 0.0006525214412249625, 9.334887727163732e-05, 0.0011329009430482984, 0.00318691274151206, 0.0010762638412415981, 0.00033073825761675835, 0.0022420180030167103, 0.00011589215137064457, -0.0002357233315706253, 0.0022138687781989574, -0.0002862510737031698, 0.013643722981214523, -0.0007259121630340815, 0.005759090185165405, -2.6716850697994232e-05, 0.0, 0.0, 0.0, 0.0, 0.0, 0.0, 0.0, 0.0, 0.0, 0.0, 0.0, 0.0, 0.0], [-0.03090488910675049, 0.0018051809165626764, 0.0020949044264853, 0.0006917097489349544, 0.0004771735693793744, 0.0006443244637921453, 0.004465504549443722, 0.04532608762383461, 0.00010371638927608728, -0.00358780100941658, 0.0016625276766717434, -0.0012206316459923983, -0.00587631668895483, -0.0014628367498517036, -0.0032193930819630623, -0.0024762675166130066, -0.012497971765697002, 0.003974991850554943, 0.0, 0.0, 0.0, 0.0, 0.0, 0.0, 0.0, 0.0, 0.0, 0.0, 0.0, 0.0], [-0.01193302869796753, -0.00032384280348196626, 0.00012156472075730562, 1.0138581274077296e-05, -0.0007575300987809896, 0.00032273668330162764, -0.0006052830722182989, -0.002384709659963846, 0.00033151626121252775, -0.001504723564721644, -0.00012624281225726008, 0.00020008627325296402, -0.00012795557267963886, 0.002111255656927824, 1.2942473404109478e-05, 0.0006015850231051445, -0.0005411809543147683, 0.015197145752608776, -0.0006044444162398577, 0.0, 0.0, 0.0, 0.0, 0.0, 0.0, 0.0, 0.0, 0.0, 0.0, 0.0], [0.13483065366744995, 0.00014224846381694078, -0.0015431446954607964, -0.00043745344737544656, -0.0004892450524494052, -0.0003999420441687107, -0.005375983659178019, -0.024406202137470245, 0.00010006802040152252, -0.009024601429700851, -0.021529702469706535, -0.001531048328615725, -0.03146558627486229, -0.0022675730288028717, -0.019400982186198235, -0.002710641361773014, -0.010681106708943844, -0.0002505140146240592, 6.781797856092453e-05, -0.0036270511336624622, 0.0, 0.0, 0.0, 0.0, 0.0, 0.0, 0.0, 0.0, 0.0, 0.0], [0.01610797643661499, -2.6000154321081936e-05, -0.0006911164382472634, -0.0001381920592393726, -0.0003215430479031056, 0.00028004159685224295, -0.0007451508427038789, -0.0004276286344975233, -0.00022845080820843577, -0.002869700314477086, -0.000855563092045486, -0.002392660826444626, -0.0024251705035567284, -0.0018116659484803677, -0.0022498946636915207, -0.004277386236935854, -0.001794965355657041, 0.007721948903053999, -0.0006146908272057772, 0.00043680332601070404, -0.002676967531442642, 0.0, 0.0, 0.0, 0.0, 0.0, 0.0, 0.0, 0.0, 0.0], [0.09967154264450073, 3.777450183406472e-05, -0.0023979595862329006, -0.0004561025998555124, -1.667044125497341e-05, -0.0011207011993974447, 0.003041026648133993, -0.005078330636024475, 0.0003944545751437545, -0.00017843954265117645, -0.0175345316529274, -2.6146764867007732e-05, -0.023759551346302032, 0.0009406651370227337, -0.02271517924964428, -0.0010114004835486412, -0.01610327698290348, 0.0012838286347687244, -0.00282641826197505, 0.0004890500567853451, -0.015149304643273354, 0.002515709027647972, 0.0, 0.0, 0.0, 0.0, 0.0, 0.0, 0.0, 0.0], [0.033753156661987305, 5.2226067055016756e-05, 0.0009117198642343283, -3.4579134080559015e-05, 0.0005798018537461758, -0.00042632874101400375, -0.0012668021954596043, 0.00026679830625653267, 0.00021300057414919138, -0.004035869147628546, -0.0010105771943926811, -0.0026415293104946613, -0.002160986652597785, -0.0021362784318625927, -0.0023360224440693855, -0.006146889179944992, -0.002590416930615902, 0.0008141575381159782, -0.001012769527733326, -0.005673267878592014, -0.0035517062060534954, 0.0014115050435066223, -0.002978452481329441, 0.0, 0.0, 0.0, 0.0, 0.0, 0.0, 0.0], [0.023938894271850586, 7.723280577920377e-05, 0.00047797244042158127, -4.554021870717406e-05, 0.0009649530984461308, -0.00045150937512516975, -0.000254917424172163, 0.0010812608525156975, 0.00047060009092092514, -0.003444893751293421, -0.0007506387191824615, -0.0019298212137073278, -0.0012518914882093668, 0.0006197197362780571, -0.002212848514318466, -0.003914481028914452, -0.002447859849780798, 0.003981622867286205, -0.0010934595484286547, -0.005615178495645523, -0.0031568040139973164, 0.0036506587639451027, -0.0028229730669409037, -0.005869983229786158, 0.0, 0.0, 0.0, 0.0, 0.0, 0.0], [-0.08914387226104736, 0.001061325310729444, -0.004445742815732956, -0.00030455668456852436, 0.0021311789751052856, 0.001060783863067627, 0.0028793737292289734, 0.12300971150398254, 0.0003496996941976249, -0.0031124241650104523, -0.006066063418984413, -0.0003531289694365114, -0.009378602728247643, -0.00010986754205077887, -0.00543263740837574, -0.0005051924381405115, -0.0035497064236551523, 0.0003110122634097934, 0.0004433826543390751, -0.00038779759779572487, -0.0037790657952427864, 0.0011464419076219201, -0.0059667606838047504, -0.0013876506127417088, 0.001530293608084321, 0.0, 0.0, 0.0, 0.0, 0.0], [-0.013123095035552979, -0.0018816487863659859, 0.0038776900619268417, -1.575751230120659e-05, 0.002195393666625023, 0.0007617375813424587, 0.000158616341650486, 0.007156047970056534, 0.0009693806059658527, 0.0016865679062902927, -0.00042419592500664294, -7.909839041531086e-07, -0.00017125922022387385, 0.0003736001090146601, -9.843414591159672e-05, -0.00013675741502083838, -4.838210588786751e-05, -0.00012874091044068336, -6.129720713943243e-05, -0.00020406092517077923, -3.0020404665265232e-05, 0.00145089125726372, 2.8951471904292703e-05, 4.1760882595553994e-05, 0.0012055870611220598, -0.003581731580197811, 0.0, 0.0, 0.0, 0.0], [-0.0027667880058288574, -0.00046262273099273443, 0.00027573504485189915, 0.0003074908163398504, 0.00029064854606986046, -3.23090935125947e-05, -8.285028161481023e-05, 0.0004386729560792446, -7.618713425472379e-06, -0.00044020020868629217, -0.00022416851425077766, -0.00021803032723255455, -0.00011217074643354863, 6.718435906805098e-05, -3.908868529833853e-05, -0.00027341058012098074, -4.64948097942397e-05, -6.357819074764848e-05, -2.161476731998846e-05, -0.00024710182333365083, -4.719354183180258e-05, 0.0005837596254423261, 3.876921255141497e-06, -1.78581103682518e-05, 0.0003797297249548137, 0.0003056327113881707, 0.0024503329768776894, 0.0, 0.0, 0.0], [0.017515182495117188, -0.0009355616057291627, -0.002391233341768384, -0.0001714625395834446, -0.003944529220461845, -0.0007690093480050564, -0.0006036283448338509, -0.00011287897359579802, -0.0014438065700232983, -0.0030023676808923483, -1.777615943865385e-05, -0.0030645132064819336, -6.671503797406331e-06, -0.00023637950653210282, -1.0329604265280068e-06, -0.0014269654639065266, -6.468962965300307e-07, -0.0005898516974411905, -1.2638730368053075e-05, -0.0009824170265346766, -5.560098543355707e-06, 0.0015516828279942274, 2.475999281159602e-07, -2.2583371901419014e-06, 0.0007190473843365908, 9.543835767544806e-05, -0.0005139964632689953, 0.00035368523094803095, 0.0, 0.0], [0.02978372573852539, -0.0005777280312031507, -0.0021253242157399654, -0.00011607594205997884, -0.011293282732367516, -0.0026564174331724644, -0.004212073981761932, -0.000297249061986804, -0.0017240331508219242, -0.00358484941534698, -6.752921763109043e-05, -0.0019385517807677388, -3.194883538526483e-05, 0.0002713962458074093, -1.9676899682963267e-05, -0.001072098035365343, -2.6382494979770854e-05, -0.000534966355189681, -4.220628034090623e-05, -0.0007925627287477255, -2.413082074781414e-05, 0.0009863968007266521, -4.153327608946711e-06, -2.8017144359182566e-05, 0.00040715880459174514, 0.00018025963800027966, -0.0006814112421125174, -5.8733392506837845e-05, 0.00028025417122989893, 0.0], [-0.026566505432128906, 0.000611365307122469, 0.0009457425912842155, -0.00012039166176691651, -0.0003843945451080799, 0.0028946921229362488, -7.141148671507835e-05, 0.013054574839770794, 0.0004352950491011143, -0.0006433393573388457, -5.284653161652386e-05, -0.0003465509507805109, 8.73507815413177e-07, 2.1746265701949596e-05, 1.790293026715517e-05, -0.00028362683951854706, 6.041907909093425e-06, -0.00019933702424168587, 3.474939876468852e-05, -0.0001254918024642393, -1.617112138774246e-05, 0.0008274937863461673, 4.681063728639856e-05, -3.8132566260173917e-06, 0.0005467489827424288, 0.00393188139423728, 0.006389814428985119, 0.0035018939524888992, 0.0005281061166897416, -0.004981649108231068]], [[0.0, 0.0, 0.0, 0.0, 0.0, 0.0, 0.0, 0.0, 0.0, 0.0, 0.0, 0.0, 0.0, 0.0, 0.0, 0.0, 0.0, 0.0, 0.0, 0.0, 0.0, 0.0, 0.0, 0.0, 0.0, 0.0, 0.0, 0.0, 0.0, 0.0], [0.0, 0.0, 0.0, 0.0, 0.0, 0.0, 0.0, 0.0, 0.0, 0.0, 0.0, 0.0, 0.0, 0.0, 0.0, 0.0, 0.0, 0.0, 0.0, 0.0, 0.0, 0.0, 0.0, 0.0, 0.0, 0.0, 0.0, 0.0, 0.0, 0.0], [0.0, 0.0, 0.0, 0.0, 0.0, 0.0, 0.0, 0.0, 0.0, 0.0, 0.0, 0.0, 0.0, 0.0, 0.0, 0.0, 0.0, 0.0, 0.0, 0.0, 0.0, 0.0, 0.0, 0.0, 0.0, 0.0, 0.0, 0.0, 0.0, 0.0], [0.0, 0.0, 0.0, 0.0, 0.0, 0.0, 0.0, 0.0, 0.0, 0.0, 0.0, 0.0, 0.0, 0.0, 0.0, 0.0, 0.0, 0.0, 0.0, 0.0, 0.0, 0.0, 0.0, 0.0, 0.0, 0.0, 0.0, 0.0, 0.0, 0.0], [0.0, 0.0, 0.0, 0.0, 0.0, 0.0, 0.0, 0.0, 0.0, 0.0, 0.0, 0.0, 0.0, 0.0, 0.0, 0.0, 0.0, 0.0, 0.0, 0.0, 0.0, 0.0, 0.0, 0.0, 0.0, 0.0, 0.0, 0.0, 0.0, 0.0], [0.0, 0.0, 0.0, 0.0, 0.0, 0.0, 0.0, 0.0, 0.0, 0.0, 0.0, 0.0, 0.0, 0.0, 0.0, 0.0, 0.0, 0.0, 0.0, 0.0, 0.0, 0.0, 0.0, 0.0, 0.0, 0.0, 0.0, 0.0, 0.0, 0.0], [0.019377589225769043, 0.009405206888914108, -0.02621542662382126, 0.0019586607813835144, 0.00819721631705761, -0.0023718434385955334, -0.010351333767175674, 0.0, 0.0, 0.0, 0.0, 0.0, 0.0, 0.0, 0.0, 0.0, 0.0, 0.0, 0.0, 0.0, 0.0, 0.0, 0.0, 0.0, 0.0, 0.0, 0.0, 0.0, 0.0, 0.0], [0.0040090084075927734, -0.0006835963577032089, 0.00030652526766061783, -0.0003920188173651695, -0.0036697518080472946, -0.001563049852848053, 0.0026362156495451927, -0.0006432328373193741, 0.0, 0.0, 0.0, 0.0, 0.0, 0.0, 0.0, 0.0, 0.0, 0.0, 0.0, 0.0, 0.0, 0.0, 0.0, 0.0, 0.0, 0.0, 0.0, 0.0, 0.0, 0.0], [-0.06581413745880127, 0.002460446208715439, 0.0018237922340631485, 0.005868803709745407, 0.018379412591457367, 0.004633068107068539, 0.009548939764499664, 0.011201060377061367, 0.011898626573383808, 0.0, 0.0, 0.0, 0.0, 0.0, 0.0, 0.0, 0.0, 0.0, 0.0, 0.0, 0.0, 0.0, 0.0, 0.0, 0.0, 0.0, 0.0, 0.0, 0.0, 0.0], [-0.005988657474517822, -0.0011214148253202438, -0.001516345888376236, 0.0018632132560014725, -0.0014864858239889145, -0.00015466148033738136, 0.0015262053348124027, -0.005216512829065323, 0.008558736182749271, 0.0035359784960746765, 0.0, 0.0, 0.0, 0.0, 0.0, 0.0, 0.0, 0.0, 0.0, 0.0, 0.0, 0.0, 0.0, 0.0, 0.0, 0.0, 0.0, 0.0, 0.0, 0.0], [-0.3364725708961487, -0.0028372779488563538, -0.0038621090352535248, -0.0018145604990422726, 0.0027568135410547256, -0.004038781858980656, -0.0006085392087697983, -0.006771729327738285, 0.3061598539352417, 0.062155477702617645, -0.014666550792753696, 0.0, 0.0, 0.0, 0.0, 0.0, 0.0, 0.0, 0.0, 0.0, 0.0, 0.0, 0.0, 0.0, 0.0, 0.0, 0.0, 0.0, 0.0, 0.0], [-0.03559672832489014, -5.0906091928482056e-05, -0.004044936038553715, 0.00022845668718218803, 0.0021863309666514397, 0.001569112529978156, 0.00241065607406199, -0.004690570756793022, 0.02031838707625866, 0.02560235932469368, -0.00793946161866188, 7.358379662036896e-06, 0.0, 0.0, 0.0, 0.0, 0.0, 0.0, 0.0, 0.0, 0.0, 0.0, 0.0, 0.0, 0.0, 0.0, 0.0, 0.0, 0.0, 0.0], [-0.2118297517299652, -0.0019452888518571854, -0.00044752564281225204, -0.001835688017308712, 0.0025504990480840206, 0.0015394426882266998, 0.000984066165983677, -0.0036245621740818024, 0.1839996725320816, 0.06268235296010971, -0.005674230866134167, -0.013516858220100403, -0.01288223173469305, 0.0, 0.0, 0.0, 0.0, 0.0, 0.0, 0.0, 0.0, 0.0, 0.0, 0.0, 0.0, 0.0, 0.0, 0.0, 0.0, 0.0], [-0.012632310390472412, 0.0014796489849686623, 0.003487955778837204, -0.0006614173762500286, -0.0016688825562596321, 0.0020710488315671682, 0.001187940128147602, -0.0023138783872127533, 0.025006361305713654, 0.013228550553321838, -0.015795975923538208, 0.002506289631128311, -0.015922054648399353, 2.6751309633255005e-05, 0.0, 0.0, 0.0, 0.0, 0.0, 0.0, 0.0, 0.0, 0.0, 0.0, 0.0, 0.0, 0.0, 0.0, 0.0, 0.0], [-0.19346651434898376, -0.0037598032504320145, -0.0026625744067132473, -0.0020462775137275457, -0.001518178265541792, -0.0006305603310465813, -0.003928167745471001, -0.0060057006776332855, 0.041631847620010376, 0.023935817182064056, -0.006545018404722214, -0.02872585505247116, -0.014187892898917198, 0.20653773844242096, -0.008628816343843937, 0.0, 0.0, 0.0, 0.0, 0.0, 0.0, 0.0, 0.0, 0.0, 0.0, 0.0, 0.0, 0.0, 0.0, 0.0], [-0.15794944763183594, 0.004435216076672077, 0.002267635427415371, 0.0005445652641355991, 0.003321171272546053, 0.0027982420288026333, 0.007362540811300278, 0.001078696921467781, 0.014482897706329823, 0.04291759803891182, -0.0006606094539165497, 0.010119359008967876, 0.006892023608088493, 0.038598157465457916, 0.009862827137112617, 0.013929097913205624, 0.0, 0.0, 0.0, 0.0, 0.0, 0.0, 0.0, 0.0, 0.0, 0.0, 0.0, 0.0, 0.0, 0.0], [-0.14057427644729614, -0.00300446804612875, -0.0008285758085548878, -0.0011479556560516357, -9.328802116215229e-05, 0.0008510567713528872, 0.0017319722101092339, -0.002543080598115921, 0.055335633456707, 0.04235344007611275, -0.0023368517868220806, -0.00930330902338028, -0.008551185950636864, 0.1789132058620453, -0.0051048691384494305, -0.1026563048362732, -0.0030411845073103905, 0.0, 0.0, 0.0, 0.0, 0.0, 0.0, 0.0, 0.0, 0.0, 0.0, 0.0, 0.0, 0.0], [-0.11496341228485107, 0.004824722185730934, 0.0010963156819343567, 0.0007290528155863285, 0.012030008248984814, 0.0018567850347608328, 0.0054197050631046295, -0.00015969015657901764, 0.012180284596979618, 0.01771305687725544, 0.011638177558779716, 0.00405638013035059, 0.005357667803764343, 0.023111771792173386, 0.007480364292860031, 0.004439257085323334, 0.0037046167999505997, -0.0005149813368916512, 0.0, 0.0, 0.0, 0.0, 0.0, 0.0, 0.0, 0.0, 0.0, 0.0, 0.0, 0.0], [-0.1262691468000412, -0.004636569879949093, -0.0011478317901492119, -0.001012604683637619, 0.0009524521883577108, 0.00016990466974675655, -0.001448873896151781, -0.007293384522199631, 0.04761864244937897, 0.022895336151123047, -0.0013651051558554173, 0.015498582273721695, -0.004650116432458162, 0.14726398885250092, -0.002745285164564848, -0.04393544793128967, -0.001834309659898281, -0.03286212682723999, -0.005198107101023197, 0.0, 0.0, 0.0, 0.0, 0.0, 0.0, 0.0, 0.0, 0.0, 0.0, 0.0], [0.09642845392227173, 4.5855529606342316e-05, 0.0019141603261232376, 0.0006048469804227352, -0.003050109837204218, -0.000913486466743052, 0.0007539798971265554, -0.0035132914781570435, 0.002187257632613182, -0.00024932529777288437, -0.012619847431778908, -0.0015295562334358692, -0.013563502579927444, -0.0024988949298858643, -0.015808789059519768, -0.008989968337118626, -0.01493067853152752, -0.004972588270902634, -0.01721026562154293, -0.002084463369101286, 0.0, 0.0, 0.0, 0.0, 0.0, 0.0, 0.0, 0.0, 0.0, 0.0], [-0.111321359872818, 0.0018700938671827316, 0.0004868358373641968, -0.0007031862623989582, -0.00040106987580657005, 0.0012820502743124962, 0.004091698210686445, -0.0012322915717959404, 0.04654481261968613, 0.023477818816900253, -0.0032645626924932003, -0.018879547715187073, -0.008177313953638077, 0.06378380954265594, -0.0058724526315927505, -0.04416237026453018, -0.0036474638618528843, -0.022709213197231293, -0.006024915259331465, 0.08744828402996063, -0.002589648589491844, 0.0, 0.0, 0.0, 0.0, 0.0, 0.0, 0.0, 0.0, 0.0], [0.016709744930267334, -0.003826746717095375, -0.0037954505532979965, -0.0004456695169210434, 0.010397244244813919, 0.0016470879781991243, 0.003934020642191172, -0.0055013615638017654, 0.003987099975347519, 0.013863802887499332, -0.010114362463355064, 0.0026542856357991695, -0.007686266675591469, 0.0047020213678479195, -0.011230001226067543, 0.004789663478732109, -0.0070491973310709, -0.0015920158475637436, -0.016075793653726578, 0.001656766515225172, -0.00300399586558342, 0.005979151930660009, 0.0, 0.0, 0.0, 0.0, 0.0, 0.0, 0.0, 0.0], [-0.02136114239692688, -0.002991624176502228, -0.0012460178695619106, -0.0005517927929759026, -0.00021603843197226524, -0.0006197727052494884, -0.0013437201268970966, -0.001272745430469513, 0.03902560472488403, 0.006589163094758987, -0.005183153320103884, -0.008752275258302689, -0.009340621531009674, 0.02727080136537552, -0.0071095917373895645, -0.047574158757925034, -0.004801364149898291, -0.03725730627775192, -0.006868310738354921, 0.056456297636032104, -0.005107357166707516, 0.03452030569314957, -0.002265152521431446, 0.0, 0.0, 0.0, 0.0, 0.0, 0.0, 0.0], [-0.05364140868186951, -0.003701574169099331, -0.0018496564589440823, -0.0009040720760822296, -2.4235807359218597e-05, -0.0006992630660533905, -0.0011351434513926506, -0.0017189951613545418, 0.04538094624876976, 0.007166039198637009, -0.0023680853191763163, -0.0032242462038993835, -0.011167589575052261, 0.01613258570432663, -0.008525419048964977, -0.043895408511161804, -0.005364854820072651, -0.016689352691173553, -0.006382666993886232, 0.07026943564414978, -0.0025052037090063095, 0.031736601144075394, -0.0020685652270913124, -0.004819839261472225, 0.0, 0.0, 0.0, 0.0, 0.0, 0.0], [-0.01977449655532837, 0.004523225128650665, 0.0026326794177293777, 0.000837474362924695, 0.008947139605879784, 0.001977452775463462, 0.004782358184456825, 0.005168021656572819, 0.007265958935022354, 0.019988959655165672, 0.0012624040246009827, 0.002019335748627782, 0.0038939379155635834, 0.002105732448399067, -0.008778683841228485, 0.0010132268071174622, -0.005980882793664932, -0.0003762065898627043, -0.017333870753645897, 0.0003867868799716234, -0.0016516689211130142, 0.0014759176410734653, -0.005334848538041115, -0.014321072027087212, 0.005271198693662882, 0.0, 0.0, 0.0, 0.0, 0.0], [0.005873441696166992, 0.0014417953789234161, -0.003807961940765381, -0.00041157379746437073, 0.012708649039268494, -0.00015745917335152626, -0.0013353577814996243, -0.00011172611266374588, -0.0006081670871935785, -0.0005896097281947732, -0.0017743129283189774, 7.360649760812521e-07, -0.0015048268251121044, 4.7058609197847545e-05, -0.0018698368221521378, -0.00018128800729755312, -0.001747350674122572, -0.00010997729259543121, -0.0049825794994831085, -0.00024592981208115816, -0.0016347826458513737, 0.00036944891326129436, -0.00012754392810165882, 0.0001412397250533104, 0.00016288255574181676, 0.00045504048466682434, 0.0, 0.0, 0.0, 0.0], [0.011255621910095215, -0.005473537370562553, -0.01155778020620346, -9.262189269065857e-05, 0.005722643807530403, 0.00029726698994636536, 0.0037308279424905777, 0.0002802223898470402, -0.00019243857241235673, -0.0008281797636300325, -0.0013789392542093992, 6.984063657000661e-05, -0.000927597051486373, 0.0003235799085814506, -0.0006295910570770502, -5.953875370323658e-05, -0.0006843090523034334, -0.00036313923192210495, -0.0023059346713125706, -0.000209214209462516, -0.0013031046837568283, 0.00023642249288968742, 5.182530730962753e-05, -0.0007897904142737389, 0.0003415546379983425, 0.004457862116396427, 2.79843807220459e-05, 0.0, 0.0, 0.0], [0.017056822776794434, -0.0039018113166093826, -0.0027758926153182983, -0.0009506009519100189, 0.004598986357450485, -0.0008112885989248753, 0.0014388114213943481, 0.0008807256817817688, -0.0007875940063968301, -0.0017134647350758314, -0.003246800974011421, -3.2956741051748395e-05, -0.0017511947080492973, 0.0002843105758074671, -0.0011393469758331776, -0.00011294549040030688, -0.001296431291848421, -0.0003435859107412398, -0.003840576158836484, -0.0002142118610208854, -0.0020030601881444454, 0.0005336825852282345, 0.0006707166321575642, -0.0009031007066369057, 0.0004922596272081137, 0.004240388050675392, 0.0003039725124835968, -0.004675740376114845, 0.0, 0.0], [0.017051637172698975, -0.00191589817404747, 0.0011223088949918747, -0.0002771085128188133, -0.0021840333938598633, -0.0030799563974142075, 0.0008485419675707817, 0.000456793699413538, -0.00039113452658057213, -0.0008747659157961607, -0.0019001215696334839, -2.0399049390107393e-05, -0.0011004137340933084, 0.0002032623451668769, -0.0009698753710836172, -1.9202125258743763e-06, -0.0008668700465932488, -0.0002534070808906108, -0.0022599948570132256, -0.00016059138579294086, -0.0011903480626642704, 0.00064612936694175, 0.00016116024926304817, -0.0005679810419678688, 0.00032632879447191954, 0.0014482475817203522, -0.00035645952448248863, -0.005467545241117477, 0.0015744799748063087, 0.0], [-0.03226715326309204, -0.008819768205285072, 0.011373870074748993, -0.0011083455756306648, 0.0017431220039725304, 0.0014882886316627264, 0.007083269767463207, 0.00036065327003598213, 0.0013194165658205748, 0.0031392250675708055, 0.0006012939848005772, 0.0013692575739696622, 0.0015290600713342428, 0.0008541453862562776, 0.001143757370300591, 0.00025756313698366284, 0.0007683965959586203, 0.000122482655569911, 0.0009214855963364244, 0.0002764565288089216, 0.0007321815937757492, 0.0009549246751703322, 0.0009254477336071432, 0.0009258226491510868, 0.0007175402715802193, 0.0066643934696912766, 0.004167348146438599, -0.005896467715501785, -0.0056213997304439545, 0.004273734986782074]], [[0.0, 0.0, 0.0, 0.0, 0.0, 0.0, 0.0, 0.0, 0.0, 0.0, 0.0, 0.0, 0.0, 0.0, 0.0, 0.0, 0.0, 0.0, 0.0, 0.0, 0.0, 0.0, 0.0, 0.0, 0.0, 0.0, 0.0, 0.0, 0.0, 0.0], [0.0, 0.0, 0.0, 0.0, 0.0, 0.0, 0.0, 0.0, 0.0, 0.0, 0.0, 0.0, 0.0, 0.0, 0.0, 0.0, 0.0, 0.0, 0.0, 0.0, 0.0, 0.0, 0.0, 0.0, 0.0, 0.0, 0.0, 0.0, 0.0, 0.0], [0.0, 0.0, 0.0, 0.0, 0.0, 0.0, 0.0, 0.0, 0.0, 0.0, 0.0, 0.0, 0.0, 0.0, 0.0, 0.0, 0.0, 0.0, 0.0, 0.0, 0.0, 0.0, 0.0, 0.0, 0.0, 0.0, 0.0, 0.0, 0.0, 0.0], [0.0, 0.0, 0.0, 0.0, 0.0, 0.0, 0.0, 0.0, 0.0, 0.0, 0.0, 0.0, 0.0, 0.0, 0.0, 0.0, 0.0, 0.0, 0.0, 0.0, 0.0, 0.0, 0.0, 0.0, 0.0, 0.0, 0.0, 0.0, 0.0, 0.0], [0.0, 0.0, 0.0, 0.0, 0.0, 0.0, 0.0, 0.0, 0.0, 0.0, 0.0, 0.0, 0.0, 0.0, 0.0, 0.0, 0.0, 0.0, 0.0, 0.0, 0.0, 0.0, 0.0, 0.0, 0.0, 0.0, 0.0, 0.0, 0.0, 0.0], [0.0, 0.0, 0.0, 0.0, 0.0, 0.0, 0.0, 0.0, 0.0, 0.0, 0.0, 0.0, 0.0, 0.0, 0.0, 0.0, 0.0, 0.0, 0.0, 0.0, 0.0, 0.0, 0.0, 0.0, 0.0, 0.0, 0.0, 0.0, 0.0, 0.0], [-0.09486371278762817, 0.005904443562030792, 0.009837932884693146, 0.0017983061261475086, 0.0008078550454229116, 0.07577318698167801, 0.0007419921457767487, 0.0, 0.0, 0.0, 0.0, 0.0, 0.0, 0.0, 0.0, 0.0, 0.0, 0.0, 0.0, 0.0, 0.0, 0.0, 0.0, 0.0, 0.0, 0.0, 0.0, 0.0, 0.0, 0.0], [-0.01715719699859619, 0.00033522024750709534, -0.002671334892511368, -0.0023756669834256172, -0.0011232281103730202, 0.00762370228767395, 0.007321806624531746, 0.008046748116612434, 0.0, 0.0, 0.0, 0.0, 0.0, 0.0, 0.0, 0.0, 0.0, 0.0, 0.0, 0.0, 0.0, 0.0, 0.0, 0.0, 0.0, 0.0, 0.0, 0.0, 0.0, 0.0], [-0.0508495569229126, 0.011381316930055618, 0.009015893563628197, 0.0037257345393300056, 0.002911399118602276, -0.002785351127386093, 0.012181760743260384, 0.011099349707365036, 0.003319479525089264, 0.0, 0.0, 0.0, 0.0, 0.0, 0.0, 0.0, 0.0, 0.0, 0.0, 0.0, 0.0, 0.0, 0.0, 0.0, 0.0, 0.0, 0.0, 0.0, 0.0, 0.0], [-0.00889676809310913, 0.002456352347508073, -0.00342605821788311, 0.002331569790840149, 0.004511984996497631, 0.001154530793428421, 0.005189193412661552, 0.003782525658607483, -0.013186352327466011, 0.0060831159353256226, 0.0, 0.0, 0.0, 0.0, 0.0, 0.0, 0.0, 0.0, 0.0, 0.0, 0.0, 0.0, 0.0, 0.0, 0.0, 0.0, 0.0, 0.0, 0.0, 0.0], [-0.03553327918052673, 0.004749254789203405, 0.017874792218208313, 0.0025276755914092064, 0.01254010759294033, -0.039109572768211365, 0.01406986266374588, -0.0018571838736534119, -0.015743501484394073, 0.05151766538619995, -0.011035796254873276, 0.0, 0.0, 0.0, 0.0, 0.0, 0.0, 0.0, 0.0, 0.0, 0.0, 0.0, 0.0, 0.0, 0.0, 0.0, 0.0, 0.0, 0.0, 0.0], [-0.11042147874832153, 0.001231369562447071, 0.03655358403921127, 0.008362268097698689, 0.0008429415756836534, 0.017956312745809555, -0.0017775427550077438, 0.043199777603149414, -0.004467085003852844, 0.011069737374782562, -0.0007498697377741337, -0.0018001310527324677, 0.0, 0.0, 0.0, 0.0, 0.0, 0.0, 0.0, 0.0, 0.0, 0.0, 0.0, 0.0, 0.0, 0.0, 0.0, 0.0, 0.0, 0.0], [-0.08621165156364441, 0.0030144723132252693, 0.0020755603909492493, 0.004284852184355259, 0.0018948274664580822, 0.030919745564460754, 0.01469472050666809, 0.09898983687162399, -0.011707540601491928, -0.02973334491252899, 0.005308941006660461, -0.032585836946964264, -0.000944625586271286, 0.0, 0.0, 0.0, 0.0, 0.0, 0.0, 0.0, 0.0, 0.0, 0.0, 0.0, 0.0, 0.0, 0.0, 0.0, 0.0, 0.0], [0.032067060470581055, 0.0007750301156193018, 0.00570179708302021, 0.003296417184174061, 0.0009693610481917858, 0.008728185668587685, -0.00638171099126339, 0.024997510015964508, -0.015528718940913677, -0.02183050848543644, -0.0007152005564421415, -0.006156615912914276, -0.006777429021894932, -0.01914501190185547, 0.0, 0.0, 0.0, 0.0, 0.0, 0.0, 0.0, 0.0, 0.0, 0.0, 0.0, 0.0, 0.0, 0.0, 0.0, 0.0], [0.057174354791641235, 0.009110171347856522, -0.006800483912229538, 0.00577303022146225, 0.005381370894610882, 0.034732624888420105, 0.0067477598786354065, 0.0174911767244339, -0.013695923611521721, -0.04102851450443268, 0.004239814355969429, -0.033222705125808716, -0.010336954146623611, -0.031660355627536774, -0.003905259072780609, 0.0, 0.0, 0.0, 0.0, 0.0, 0.0, 0.0, 0.0, 0.0, 0.0, 0.0, 0.0, 0.0, 0.0, 0.0], [-0.17322033643722534, 0.0015513445250689983, 0.00424138642847538, 0.007612025830894709, 0.0018933259416371584, 0.04225018247961998, 0.006704959087073803, 0.03719532489776611, 0.0022069960832595825, 0.011408690363168716, 0.0036132342647761106, 0.03155362978577614, 0.0025998360943049192, 0.004494575783610344, 0.00238820631057024, 0.013506554998457432, 0.0, 0.0, 0.0, 0.0, 0.0, 0.0, 0.0, 0.0, 0.0, 0.0, 0.0, 0.0, 0.0, 0.0], [-0.05806198716163635, 0.002018693834543228, -0.0037226323038339615, 0.0067231073044240475, 0.0034927548840641975, 0.028514444828033447, 0.016736045479774475, 0.028401989489793777, -0.00011560413986444473, -0.006127126514911652, 0.006444151978939772, -0.015552092343568802, 0.002642344683408737, -0.007615715265274048, 0.0015467368066310883, -0.005201324820518494, -0.00012384168803691864, 0.0, 0.0, 0.0, 0.0, 0.0, 0.0, 0.0, 0.0, 0.0, 0.0, 0.0, 0.0, 0.0], [-0.14495718479156494, 0.0001997274812310934, -0.00040161609649658203, 0.0015034324023872614, 0.000391065317671746, 0.029396483674645424, -0.0007613189518451691, 0.03917048126459122, 0.002044623252004385, -0.0010399306192994118, 0.0005568955093622208, 0.011786011978983879, -0.000223472248762846, 0.0011753374710679054, -0.000540801789611578, 0.018274053931236267, -0.00039052614010870457, 0.04381677508354187, 0.0, 0.0, 0.0, 0.0, 0.0, 0.0, 0.0, 0.0, 0.0, 0.0, 0.0, 0.0], [-0.18154582381248474, 0.0029907990247011185, -0.005617431364953518, 0.0029620002023875713, 0.001541024073958397, 0.012501358985900879, 0.005852267146110535, 0.022969812154769897, 0.004774628207087517, 0.0016535110771656036, 0.006139902863651514, -0.012862440198659897, 0.0035621533170342445, -0.0030803997069597244, 0.005122588947415352, 0.005214601755142212, 0.0023234430700540543, 0.11686982214450836, 0.00862822961062193, 0.0, 0.0, 0.0, 0.0, 0.0, 0.0, 0.0, 0.0, 0.0, 0.0, 0.0], [-0.08815926313400269, 0.0006116213044151664, 0.004848026670515537, 0.0002890738542191684, 0.00018860941054299474, 0.007716851308941841, -0.0009176889434456825, 0.005037395283579826, 0.00021083885803818703, -0.0015764636918902397, -0.0004091935115866363, 0.007708759047091007, -0.0016709360061213374, 0.0017336932942271233, -0.0006374900694936514, 0.008716972544789314, -0.0006056491984054446, 0.0397668331861496, 0.0009268664289265871, 0.016221093013882637, 0.0, 0.0, 0.0, 0.0, 0.0, 0.0, 0.0, 0.0, 0.0, 0.0], [-0.1399051547050476, 0.0017703957855701447, -0.003847128711640835, 0.001459115301258862, 0.0007684174925088882, 0.02599222958087921, 0.004691958427429199, 0.028964437544345856, 0.0005926992744207382, -0.014930140227079391, 0.002685162704437971, -0.00847209058701992, 2.43261456489563e-06, -0.004087183624505997, 0.0014402838423848152, 0.016603007912635803, 9.377673268318176e-05, 0.10683534294366837, 0.009134677238762379, -0.030522417277097702, 0.0007301098667085171, 0.0, 0.0, 0.0, 0.0, 0.0, 0.0, 0.0, 0.0, 0.0], [-0.0959017276763916, -0.0009020500583574176, -0.01960565336048603, -0.0004291362129151821, -3.821664722636342e-05, -0.01816820539534092, -0.010706743225455284, 0.01488763839006424, -0.0012933416292071342, -0.005626700818538666, -0.0007875159499235451, 0.008186018094420433, -0.004637364763766527, -0.004863546695560217, -0.003565469291061163, -0.0011818939819931984, -0.0020025083795189857, 0.01128806546330452, -0.0020798612385988235, -0.006417997181415558, -0.0009594776201993227, 0.1448056399822235, 0.0, 0.0, 0.0, 0.0, 0.0, 0.0, 0.0, 0.0], [-0.30550438165664673, -0.005849422886967659, -0.014486085623502731, -0.0008952565840445459, -0.002864637179300189, -0.07133159786462784, -0.032473720610141754, -0.018630795180797577, -0.013368971645832062, -0.04728361964225769, -0.004745124373584986, -0.03080487996339798, -0.015671543776988983, -0.011923649348318577, -0.01238724123686552, -0.030157942324876785, -0.010207626968622208, -0.00846356712281704, -0.006107764318585396, -0.05083216354250908, -0.005799091421067715, 0.7017230987548828, -0.0019339960999786854, 0.0, 0.0, 0.0, 0.0, 0.0, 0.0, 0.0], [-0.2846246361732483, -0.005942957475781441, -0.008923904038965702, -0.0032436077017337084, -0.004558800254017115, -0.10715045779943466, -0.018325943499803543, -0.007480833679437637, -0.005728664342314005, -0.02914934791624546, -0.006898820400238037, -0.019310932606458664, -0.015927810221910477, -0.005156273487955332, -0.012110100127756596, -0.009711760096251965, -0.011179114691913128, 0.008775684982538223, -0.0066861119121313095, -0.042295511811971664, -0.005605542100965977, 0.6014768481254578, -0.0019444199278950691, 0.001702895388007164, 0.0, 0.0, 0.0, 0.0, 0.0, 0.0], [-0.32555925846099854, 0.0012023140443488955, 0.002671613357961178, 0.00014177686534821987, 1.960550434887409e-06, 0.015160160139203072, -0.003283894620835781, 0.01342378556728363, 0.00026360759511590004, -0.0016310573555529118, -0.001273509580641985, 0.012735147960484028, -0.0026942419353872538, 0.0006624059751629829, -0.0019414915004745126, 0.0059120929799973965, -0.0011487279552966356, 0.010297589935362339, -0.0011234321864321828, 0.013471157290041447, -0.0002981241559609771, 0.22053420543670654, 0.0002790292492136359, 0.004234458319842815, 0.03796250745654106, 0.0, 0.0, 0.0, 0.0, 0.0], [-0.2041085958480835, -0.00045541999861598015, -0.0056898463517427444, -0.004082578234374523, -0.002661400940269232, -0.01581190526485443, -0.007966476492583752, 0.0054137855768203735, -0.004941339138895273, -0.028774505481123924, -0.004682715982198715, -0.0008976645767688751, -0.010420333594083786, -0.013424360193312168, -0.004167761188000441, -0.008971438743174076, -0.0036111827939748764, 0.02710341289639473, -0.0006810193881392479, 0.00037274137139320374, 0.0006524911150336266, 0.21112817525863647, 0.0008047455921769142, 0.0071609895676374435, 0.06550844013690948, 0.0032037682831287384, 0.0, 0.0, 0.0, 0.0], [-0.24796348810195923, -0.0017711920663714409, -0.0020644869655370712, -0.00026060454547405243, -0.0015441058203577995, -0.010181255638599396, -0.001871025189757347, 0.004986105486750603, 4.924507811665535e-05, -0.013492239639163017, -0.005503305234014988, 0.0009674113243818283, -0.004999372176826, -0.0038154209032654762, -0.002594010904431343, 0.0037713320925831795, -0.0030026580207049847, 0.018758615478873253, -0.0009985538199543953, 0.006666745990514755, 0.001089088385924697, 0.19149023294448853, 0.0019478278700262308, 0.0066291820257902145, 0.03869762271642685, 0.00620708242058754, 0.01880119927227497, 0.0, 0.0, 0.0], [-0.11398905515670776, -0.004886789247393608, -0.014026807621121407, -0.004396077245473862, -0.00574205256998539, -0.10319988429546356, -0.009603159502148628, -0.008500456809997559, -0.01523758377879858, -0.0916564017534256, -0.017596691846847534, -0.0714138075709343, -0.021482393145561218, -0.03264370560646057, -0.011226977221667767, -0.03535054996609688, -0.008541930466890335, 0.012566804885864258, -0.005961242597550154, -0.08032889664173126, -0.002691684290766716, 0.6295392513275146, -0.00232159742154181, -0.002358192577958107, 0.04808807000517845, -0.006446419283747673, -0.01256658136844635, -0.008025182411074638, 0.0, 0.0], [-0.15381993353366852, -0.006040541455149651, -0.013294020667672157, -0.006486373953521252, -0.006689104251563549, -0.1220216155052185, -0.00855051539838314, -0.015197105705738068, -0.01235459465533495, -0.06417372822761536, -0.019487611949443817, -0.03056972473859787, -0.016137808561325073, -0.016717171296477318, -0.010120194405317307, -0.015263873152434826, -0.007136714644730091, 0.010892271064221859, -0.0049454099498689175, -0.04652663320302963, -0.002972004469484091, 0.5555086731910706, -0.0020014443434774876, 6.683822721242905e-05, 0.03754214942455292, -0.004356877878308296, -0.005315162241458893, -0.006831734906882048, -0.007000058889389038, 0.0], [-0.0339818000793457, -0.004910289775580168, -0.0017300103791058064, -0.004599431529641151, -0.005381140857934952, -0.02256694622337818, -0.003786439774557948, 0.005914613604545593, -0.0036699387710541487, -0.01741102896630764, -0.0066577414982020855, -0.0011260975152254105, -0.004657465498894453, -0.005272550508379936, -0.0028923458885401487, -0.0049416180700063705, -0.0018742906395345926, 0.0005297225434333086, -0.0017499278765171766, -0.012205895967781544, -0.0008914345526136458, 0.09549067914485931, -0.0002279755426570773, 0.0023931930772960186, -0.006770683452486992, 0.005667616613209248, -0.0010859686881303787, -0.004133653361350298, -0.007652296219021082, 0.050181224942207336]], [[0.0, 0.0, 0.0, 0.0, 0.0, 0.0, 0.0, 0.0, 0.0, 0.0, 0.0, 0.0, 0.0, 0.0, 0.0, 0.0, 0.0, 0.0, 0.0, 0.0, 0.0, 0.0, 0.0, 0.0, 0.0, 0.0, 0.0, 0.0, 0.0, 0.0], [0.0, 0.0, 0.0, 0.0, 0.0, 0.0, 0.0, 0.0, 0.0, 0.0, 0.0, 0.0, 0.0, 0.0, 0.0, 0.0, 0.0, 0.0, 0.0, 0.0, 0.0, 0.0, 0.0, 0.0, 0.0, 0.0, 0.0, 0.0, 0.0, 0.0], [0.0, 0.0, 0.0, 0.0, 0.0, 0.0, 0.0, 0.0, 0.0, 0.0, 0.0, 0.0, 0.0, 0.0, 0.0, 0.0, 0.0, 0.0, 0.0, 0.0, 0.0, 0.0, 0.0, 0.0, 0.0, 0.0, 0.0, 0.0, 0.0, 0.0], [0.0, 0.0, 0.0, 0.0, 0.0, 0.0, 0.0, 0.0, 0.0, 0.0, 0.0, 0.0, 0.0, 0.0, 0.0, 0.0, 0.0, 0.0, 0.0, 0.0, 0.0, 0.0, 0.0, 0.0, 0.0, 0.0, 0.0, 0.0, 0.0, 0.0], [0.0, 0.0, 0.0, 0.0, 0.0, 0.0, 0.0, 0.0, 0.0, 0.0, 0.0, 0.0, 0.0, 0.0, 0.0, 0.0, 0.0, 0.0, 0.0, 0.0, 0.0, 0.0, 0.0, 0.0, 0.0, 0.0, 0.0, 0.0, 0.0, 0.0], [0.0, 0.0, 0.0, 0.0, 0.0, 0.0, 0.0, 0.0, 0.0, 0.0, 0.0, 0.0, 0.0, 0.0, 0.0, 0.0, 0.0, 0.0, 0.0, 0.0, 0.0, 0.0, 0.0, 0.0, 0.0, 0.0, 0.0, 0.0, 0.0, 0.0], [0.0027192234992980957, -0.000361013924703002, -0.0002616841811686754, -0.00018448240007273853, -6.113416748121381e-05, -0.000899926177226007, -0.000951042806264013, 0.0, 0.0, 0.0, 0.0, 0.0, 0.0, 0.0, 0.0, 0.0, 0.0, 0.0, 0.0, 0.0, 0.0, 0.0, 0.0, 0.0, 0.0, 0.0, 0.0, 0.0, 0.0, 0.0], [0.05244404077529907, -0.004613617435097694, -0.0029178429394960403, -0.0005504731088876724, -0.04186369478702545, 0.0011901520192623138, -0.00010223593562841415, -0.003586411476135254, 0.0, 0.0, 0.0, 0.0, 0.0, 0.0, 0.0, 0.0, 0.0, 0.0, 0.0, 0.0, 0.0, 0.0, 0.0, 0.0, 0.0, 0.0, 0.0, 0.0, 0.0, 0.0], [-0.09080100059509277, -0.0011205968912690878, 0.000820790883153677, 0.00010661594569683075, -0.0051559992134571075, 0.03503025323152542, 0.02196592465043068, 0.006909696850925684, 0.03224435821175575, 0.0, 0.0, 0.0, 0.0, 0.0, 0.0, 0.0, 0.0, 0.0, 0.0, 0.0, 0.0, 0.0, 0.0, 0.0, 0.0, 0.0, 0.0, 0.0, 0.0, 0.0], [-0.018112599849700928, -0.00023708026856184006, -0.0004123831167817116, 0.0009720890084281564, 0.005295095033943653, 0.006088482216000557, 0.005839628167450428, 0.0012160427868366241, -0.0005334822926670313, -0.00011572614312171936, 0.0, 0.0, 0.0, 0.0, 0.0, 0.0, 0.0, 0.0, 0.0, 0.0, 0.0, 0.0, 0.0, 0.0, 0.0, 0.0, 0.0, 0.0, 0.0, 0.0], [0.06069070100784302, 0.00013995543122291565, -0.011186020448803902, -0.00033349101431667805, 0.006485678255558014, 0.00574382534250617, 0.0002090709749609232, 0.003421744331717491, -0.05306585133075714, -0.011591197922825813, -0.0005143930902704597, 0.0, 0.0, 0.0, 0.0, 0.0, 0.0, 0.0, 0.0, 0.0, 0.0, 0.0, 0.0, 0.0, 0.0, 0.0, 0.0, 0.0, 0.0, 0.0], [-0.0426517128944397, 0.0005395219195634127, 0.0031040534377098083, 0.0005891520995646715, 0.00030201859772205353, 0.0021322285756468773, 0.0014730098191648722, 0.008209147490561008, 0.0010534659959375858, 0.003512538969516754, 0.007944479584693909, 0.013792039826512337, 0.0, 0.0, 0.0, 0.0, 0.0, 0.0, 0.0, 0.0, 0.0, 0.0, 0.0, 0.0, 0.0, 0.0, 0.0, 0.0, 0.0, 0.0], [-0.07395470142364502, 0.00038865377428010106, 0.005053839646279812, 0.0002693260321393609, 0.006148775573819876, 0.0020478209480643272, 0.003918381407856941, 0.0005632874090224504, 0.0005536305252462626, -0.0006880084984004498, 3.1772564398124814e-05, 0.05601268634200096, -0.0003453728277236223, 0.0, 0.0, 0.0, 0.0, 0.0, 0.0, 0.0, 0.0, 0.0, 0.0, 0.0, 0.0, 0.0, 0.0, 0.0, 0.0, 0.0], [-0.03939080238342285, 0.0007258050609380007, 0.005848258268088102, 0.0006168129621073604, 0.0005516575183719397, 0.0025033403653651476, 0.0031040438916534185, 0.01631275564432144, -0.0002108145272359252, -0.00021340418606996536, 0.002206786535680294, 0.00619844812899828, 0.0038739722222089767, -0.0021267859265208244, 0.0, 0.0, 0.0, 0.0, 0.0, 0.0, 0.0, 0.0, 0.0, 0.0, 0.0, 0.0, 0.0, 0.0, 0.0, 0.0], [-0.017888426780700684, 0.000508361030369997, -3.778375685214996e-05, -7.464434020221233e-05, 0.002880726009607315, 0.0004199303511995822, 0.0011971581261605024, 0.00015134361456148326, -0.00040669599547982216, -0.0006080322782509029, -2.1129082597326487e-05, 0.006625353824347258, -0.00025409916997887194, 0.00792667455971241, -0.0004185626457910985, 0.0, 0.0, 0.0, 0.0, 0.0, 0.0, 0.0, 0.0, 0.0, 0.0, 0.0, 0.0, 0.0, 0.0, 0.0], [-0.013507187366485596, 0.0005951963248662651, -0.0005197328282520175, 0.00013463935465551913, 0.0012808016035705805, 0.001617391943000257, 0.0008474376518279314, 0.005886227823793888, 0.0001884116791188717, 0.00364609993994236, 0.0013102114899083972, 0.001800869358703494, 0.000306061003357172, -0.0027207122184336185, -0.0022284078877419233, 0.001362495357170701, 0.0, 0.0, 0.0, 0.0, 0.0, 0.0, 0.0, 0.0, 0.0, 0.0, 0.0, 0.0, 0.0, 0.0], [-0.02249729633331299, 0.0004492170992307365, 0.0008956713136285543, 2.6634341338649392e-05, 0.0026521987747401, 0.0005789488786831498, 0.001347058336250484, 0.0001258534612134099, 6.516958819702268e-06, -0.00016925850650295615, -5.709207471227273e-06, 0.0038061824161559343, -0.00010972759628202766, 0.007799804676324129, -0.00026219646679237485, 0.005457141436636448, -0.00010085300891660154, 0.0, 0.0, 0.0, 0.0, 0.0, 0.0, 0.0, 0.0, 0.0, 0.0, 0.0, 0.0, 0.0], [-0.004590094089508057, 0.0006850594654679298, 0.00149602722376585, 0.00025163672398775816, 0.0003426814218983054, 0.00014264771016314626, 0.00031967402901500463, 0.010753716342151165, -0.0008356340113095939, -0.0016340703004971147, 0.00018239534983877093, -0.0014867485733702779, -0.000625785905867815, -0.004375114571303129, -0.0004202377749606967, -0.00026119803078472614, -0.001427885377779603, 0.0014830875443294644, 0.0, 0.0, 0.0, 0.0, 0.0, 0.0, 0.0, 0.0, 0.0, 0.0, 0.0, 0.0], [-0.008566737174987793, -0.0008200023439712822, -0.0003608453553169966, -0.0003418090636841953, -0.00035218149423599243, 4.644063301384449e-05, -0.0005178990541025996, 2.7359434170648456e-05, -4.517217166721821e-05, -0.0004170337924733758, 2.9043585527688265e-06, 0.002039422048255801, -7.586848369101062e-05, 0.002803076757118106, -9.253725875169039e-05, 0.00043440423905849457, -8.43997040647082e-05, 0.006414311937987804, -9.358103852719069e-05, 0.0, 0.0, 0.0, 0.0, 0.0, 0.0, 0.0, 0.0, 0.0, 0.0, 0.0], [0.046257972717285156, -0.0001219121040776372, 0.000474344240501523, -0.0004572912584990263, -0.0016879827016964555, -0.0003735581994988024, -0.0010861179325729609, 0.000555064994841814, -8.22070287540555e-05, -0.010020643472671509, -0.002468068851158023, -0.0010252895299345255, -0.008156479336321354, -0.005097777582705021, -0.00768054137006402, -0.002868382493034005, -0.0033966372720897198, -0.0006968305679038167, -0.0009014981333166361, -0.001166298519819975, 0.0, 0.0, 0.0, 0.0, 0.0, 0.0, 0.0, 0.0, 0.0, 0.0], [0.003283560276031494, -0.00038935820339247584, -0.001317071495577693, -0.0006229603895917535, -0.000456692767329514, 3.132282290607691e-05, -0.00025001424364745617, -2.155741094611585e-05, -0.0002725087688304484, -0.0008516854722984135, -5.90949748584535e-05, -0.0009123962372541428, -0.0004444076621439308, -0.003121820976957679, -0.0007011122652329504, -0.0023535501677542925, -0.00031298695830628276, 0.0021992858964949846, -0.00032653933158144355, 0.00779243279248476, -0.0008929785108193755, 0.0, 0.0, 0.0, 0.0, 0.0, 0.0, 0.0, 0.0, 0.0], [0.005720078945159912, 0.0002913068747147918, 0.0005115051753818989, 0.00012324517592787743, 0.0014767725951969624, 0.00017790880519896746, 0.0018461606232449412, 0.000607282854616642, 0.0001636118977330625, -0.0007921790238469839, -0.0012773436028510332, 0.00022614316549152136, -0.003086662385612726, 0.0017927871085703373, -0.004444833844900131, -7.618812378495932e-05, -0.0035832892172038555, 0.001019011135213077, -0.000270385411567986, 0.0016827252693474293, -0.0029004490934312344, 0.0007926770485937595, 0.0, 0.0, 0.0, 0.0, 0.0, 0.0, 0.0, 0.0], [0.04891932010650635, -0.00023257517023012042, -0.0017319591715931892, -0.0006159048643894494, -0.0015834822552278638, -0.0001168098533526063, -0.0003837177064269781, 3.723488771356642e-05, -0.0002484230790287256, -0.0008838177309371531, -7.929439743747935e-05, -0.0017028118018060923, -0.00046219059731811285, -0.0017901449464261532, -0.0008141092257574201, -0.0034623821265995502, -0.0004039498162455857, -0.0010656826198101044, -0.00026475952472537756, -0.0042678071185946465, -0.000901909894309938, -0.02652079612016678, -0.001424083486199379, 0.0, 0.0, 0.0, 0.0, 0.0, 0.0, 0.0], [0.04322594404220581, -0.00016998057253658772, -0.0014179111458361149, -0.0005690078251063824, -0.0035649635829031467, -8.749263361096382e-05, 9.7217271104455e-05, 6.630821735598147e-05, -0.0003530320536810905, -0.0012441910803318024, -0.00011098793765995651, -0.0009565888904035091, -0.0004928288981318474, -0.001290507148951292, -0.000780861999373883, -0.0017424272373318672, -0.0006050372030586004, 0.0012303031980991364, -0.0004012330318801105, -0.002534543164074421, -0.0007195148500613868, -0.022869478911161423, -0.0009741222602315247, -0.003735052654519677, 0.0, 0.0, 0.0, 0.0, 0.0, 0.0], [-0.009437024593353271, 0.0013538129860535264, 0.00040178606286644936, 0.00025300239212810993, 0.001025512581691146, 0.0006708363071084023, 0.004691368900239468, 0.008423945866525173, 0.00012175666051916778, -0.002479806076735258, -0.0006864109309390187, -0.0004769749939441681, -0.0012122867628932, 0.000408427556976676, -0.001328260637819767, -6.697583012282848e-05, -0.0003759012324735522, 0.0005285048391669989, 0.0002152079250663519, 0.00021185388322919607, -0.0006233633030205965, 0.0011499456595629454, -0.0023850705474615097, -0.0017703191842883825, 0.0013862145133316517, 0.0, 0.0, 0.0, 0.0, 0.0], [-0.0017838478088378906, -3.3896416425704956e-05, 0.0012640072964131832, -0.0002560295397415757, 0.001114879734814167, 0.00017562555149197578, 0.0006150125991553068, 0.0004884116351604462, -0.0006075018900446594, -0.0016671246849000454, -0.000495488871820271, -0.0005859778029844165, -0.00021921549341641366, 0.000207170145586133, -0.00012543349293991923, 0.00014215719420462847, -6.041798769729212e-05, 9.451006189920008e-05, -0.00013319216668605804, 7.920355710666627e-05, -1.1548938346095383e-05, 0.0011782350484281778, -1.5126275684451684e-05, 2.7666144887916744e-05, 0.000352753879269585, 0.00025516003370285034, 0.0, 0.0, 0.0, 0.0], [0.0007030963897705078, -0.0002396180061623454, -8.626340422779322e-05, -0.00021521816961467266, 0.00013495085295289755, -0.00010263553122058511, 4.8800575314089656e-05, 0.0005520577542483807, -0.00029235114925540984, -0.0012298235669732094, -0.00031315756496042013, -0.0002431703032925725, -8.666267967782915e-05, 0.000180832197656855, 3.495358396321535e-05, -3.198769991286099e-05, -2.9105707653798163e-05, -4.469115083338693e-05, -2.6018780772574246e-05, -6.767184095224366e-05, -4.355394412414171e-05, 0.0003792940406128764, -2.41898960666731e-05, -3.087811637669802e-05, 0.00015288042777683586, 8.17597028799355e-05, 0.0008386069675907493, 0.0, 0.0, 0.0], [0.03514218330383301, -0.002593550132587552, -0.000528366828802973, -0.0013898592442274094, -0.022000472992658615, -0.0007054635789245367, -0.0003014904214069247, -0.00010273302905261517, -0.0017746875528246164, -0.0031544023659080267, -0.00015909987268969417, -0.0024398493114858866, -3.967980228480883e-05, -8.074194192886353e-05, -1.564875310577918e-05, -0.0005975591484457254, -1.0122243111254647e-05, -0.00017924635903909802, -1.504442116129212e-05, -0.0004255429666955024, -9.77131276158616e-06, 0.0009370096959173679, 4.014509613625705e-07, -7.015081791905686e-06, 0.00031623366521671414, 6.160963675938547e-05, 8.371984586119652e-05, -1.0914169251918793e-05, 0.0, 0.0], [0.05470550060272217, -0.0015695325564593077, -0.000450251332949847, -0.000288711249595508, -0.046252913773059845, -0.0009005271131172776, -0.0004716995172202587, -0.00011328267282806337, -0.0012499650474637747, -0.0024618699681013823, -0.00011539183469722047, -0.0009699215879663825, -3.81274803658016e-05, 0.0001754022086970508, -1.5958654330461286e-05, -0.00022708458709530532, -1.4888663827150594e-05, -8.912128396332264e-05, -2.116938958351966e-05, -0.00016819984011817724, -1.0201324585068505e-05, 0.00046336924424394965, 2.5422104954486713e-07, -8.094226359389722e-06, 0.00017757757450453937, 3.834094968624413e-05, -4.9938797019422054e-05, -9.44277853704989e-05, 2.0906329154968262e-05, 0.0], [0.00228118896484375, -0.00023931334726512432, 0.00014239223673939705, -0.0005629276856780052, -0.0019654398784041405, 0.00025012530386447906, -0.00012085284106433392, 0.0028909514658153057, 0.00023766723461449146, -0.0053877076134085655, -0.0007315744878724217, -0.00034776143729686737, -0.00013121264055371284, 0.00064559665042907, 8.400005026487634e-05, -0.0002295455487910658, 3.4869808587245643e-06, 0.00015211914433166385, 7.100879156496376e-05, 8.530047489330173e-05, -6.906583439558744e-05, 0.002296414226293564, 4.0171398723032326e-05, 6.825104355812073e-05, 0.0012795088114216924, 0.0004965679254382849, 0.0006822716677561402, 0.0008924241992644966, 0.00020978477550670505, -0.003023772034794092]], [[0.0, 0.0, 0.0, 0.0, 0.0, 0.0, 0.0, 0.0, 0.0, 0.0, 0.0, 0.0, 0.0, 0.0, 0.0, 0.0, 0.0, 0.0, 0.0, 0.0, 0.0, 0.0, 0.0, 0.0, 0.0, 0.0, 0.0, 0.0, 0.0, 0.0], [0.0, 0.0, 0.0, 0.0, 0.0, 0.0, 0.0, 0.0, 0.0, 0.0, 0.0, 0.0, 0.0, 0.0, 0.0, 0.0, 0.0, 0.0, 0.0, 0.0, 0.0, 0.0, 0.0, 0.0, 0.0, 0.0, 0.0, 0.0, 0.0, 0.0], [0.0, 0.0, 0.0, 0.0, 0.0, 0.0, 0.0, 0.0, 0.0, 0.0, 0.0, 0.0, 0.0, 0.0, 0.0, 0.0, 0.0, 0.0, 0.0, 0.0, 0.0, 0.0, 0.0, 0.0, 0.0, 0.0, 0.0, 0.0, 0.0, 0.0], [0.0, 0.0, 0.0, 0.0, 0.0, 0.0, 0.0, 0.0, 0.0, 0.0, 0.0, 0.0, 0.0, 0.0, 0.0, 0.0, 0.0, 0.0, 0.0, 0.0, 0.0, 0.0, 0.0, 0.0, 0.0, 0.0, 0.0, 0.0, 0.0, 0.0], [0.0, 0.0, 0.0, 0.0, 0.0, 0.0, 0.0, 0.0, 0.0, 0.0, 0.0, 0.0, 0.0, 0.0, 0.0, 0.0, 0.0, 0.0, 0.0, 0.0, 0.0, 0.0, 0.0, 0.0, 0.0, 0.0, 0.0, 0.0, 0.0, 0.0], [0.0, 0.0, 0.0, 0.0, 0.0, 0.0, 0.0, 0.0, 0.0, 0.0, 0.0, 0.0, 0.0, 0.0, 0.0, 0.0, 0.0, 0.0, 0.0, 0.0, 0.0, 0.0, 0.0, 0.0, 0.0, 0.0, 0.0, 0.0, 0.0, 0.0], [-0.025233805179595947, 0.009477459825575352, 0.07829655706882477, 0.0140761137008667, -0.03215242177248001, -0.036528877913951874, -0.007934819906949997, 0.0, 0.0, 0.0, 0.0, 0.0, 0.0, 0.0, 0.0, 0.0, 0.0, 0.0, 0.0, 0.0, 0.0, 0.0, 0.0, 0.0, 0.0, 0.0, 0.0, 0.0, 0.0, 0.0], [0.033189475536346436, -2.3315660655498505e-06, -0.0015119798481464386, -0.0015369318425655365, -0.00443587452173233, -0.0032434724271297455, -0.021404478698968887, -0.0010544154793024063, 0.0, 0.0, 0.0, 0.0, 0.0, 0.0, 0.0, 0.0, 0.0, 0.0, 0.0, 0.0, 0.0, 0.0, 0.0, 0.0, 0.0, 0.0, 0.0, 0.0, 0.0, 0.0], [-0.07677340507507324, 0.0017303801141679287, 0.024498077109456062, 0.006785706151276827, 0.005093574523925781, 0.005663730204105377, 0.0034760558046400547, -0.011553078889846802, 0.041078872978687286, 0.0, 0.0, 0.0, 0.0, 0.0, 0.0, 0.0, 0.0, 0.0, 0.0, 0.0, 0.0, 0.0, 0.0, 0.0, 0.0, 0.0, 0.0, 0.0, 0.0, 0.0], [0.21391239762306213, 0.00013739813584834337, 0.003985334653407335, 0.0045099216513335705, 0.0005289323162287474, -0.00028406688943505287, -0.0015449700877070427, -0.1009567379951477, -0.12850545346736908, 0.00821712240576744, 0.0, 0.0, 0.0, 0.0, 0.0, 0.0, 0.0, 0.0, 0.0, 0.0, 0.0, 0.0, 0.0, 0.0, 0.0, 0.0, 0.0, 0.0, 0.0, 0.0], [-0.010691165924072266, 0.00018712622113525867, 0.0006806915625929832, -0.0007005319930613041, 0.0016706325113773346, 0.005645311437547207, -0.00328616239130497, -0.06251004338264465, 0.03417178988456726, 0.041549280285835266, -0.0067170001566410065, 0.0, 0.0, 0.0, 0.0, 0.0, 0.0, 0.0, 0.0, 0.0, 0.0, 0.0, 0.0, 0.0, 0.0, 0.0, 0.0, 0.0, 0.0, 0.0], [0.0019290447235107422, 0.00023460850934498012, 0.0026537070516496897, 0.0013670949265360832, 0.0010738023556768894, -0.00011573336087167263, 0.0011984305456280708, 0.036790117621421814, -0.01672101765871048, 0.007383039221167564, -0.04536358267068863, 0.009570464491844177, 0.0, 0.0, 0.0, 0.0, 0.0, 0.0, 0.0, 0.0, 0.0, 0.0, 0.0, 0.0, 0.0, 0.0, 0.0, 0.0, 0.0, 0.0], [-0.056484758853912354, 6.449222564697266e-05, 0.0013334620743989944, 0.0026124902069568634, 0.0019251564517617226, 0.010193897411227226, 0.00021292828023433685, -0.03540274500846863, 0.003523595631122589, 0.010292399674654007, 0.045771993696689606, 0.016956903040409088, -0.0009998157620429993, 0.0, 0.0, 0.0, 0.0, 0.0, 0.0, 0.0, 0.0, 0.0, 0.0, 0.0, 0.0, 0.0, 0.0, 0.0, 0.0, 0.0], [0.07042199373245239, -0.00016380823217332363, -0.00010973727330565453, -0.0033927028998732567, -0.0004491908475756645, -0.0003586583770811558, -0.0010736496187746525, 0.027005493640899658, -0.018561262637376785, 0.004313947632908821, -0.016659339889883995, 0.014793578535318375, -0.06166882812976837, -0.014097912237048149, 0.0, 0.0, 0.0, 0.0, 0.0, 0.0, 0.0, 0.0, 0.0, 0.0, 0.0, 0.0, 0.0, 0.0, 0.0, 0.0], [0.005713939666748047, -0.0003552440321072936, -0.00195461418479681, -0.0031491918489336967, 0.0009097368456423283, 0.009260252118110657, -0.008450167253613472, -0.028128311038017273, -0.005379203706979752, 0.02163410186767578, 0.0005744323134422302, 0.02956126444041729, -0.017268184572458267, -0.0011506769806146622, -0.001818135380744934, 0.0, 0.0, 0.0, 0.0, 0.0, 0.0, 0.0, 0.0, 0.0, 0.0, 0.0, 0.0, 0.0, 0.0, 0.0], [-0.19936741888523102, -0.0001191286719404161, -0.0004771652165800333, -0.0015058324206620455, 0.0006450637010857463, -0.00024878920521587133, 0.0036823125556111336, 0.2785985469818115, -0.0020011281594634056, 0.007028600201010704, -0.008029015734791756, 0.01286940835416317, -0.034907277673482895, -0.012914740480482578, -0.047315213829278946, 0.0040618120692670345, 0.0, 0.0, 0.0, 0.0, 0.0, 0.0, 0.0, 0.0, 0.0, 0.0, 0.0, 0.0, 0.0, 0.0], [-0.026963770389556885, -0.00013500172644853592, -0.0017934953793883324, -0.005355914123356342, -0.0002013249322772026, 0.004863482899963856, -0.006860390305519104, -0.047438353300094604, 0.013376958668231964, 0.014500532299280167, 0.008473895490169525, 0.015382465906441212, -0.004276309162378311, 0.000881420448422432, 0.003903992474079132, 0.020800545811653137, 0.01084129884839058, 0.0, 0.0, 0.0, 0.0, 0.0, 0.0, 0.0, 0.0, 0.0, 0.0, 0.0, 0.0, 0.0], [-0.25309622287750244, -0.0001472293515689671, -0.0009129014797508717, -0.005764688365161419, -0.0004446243401616812, -0.001028034370392561, 0.00023366324603557587, 0.3037238121032715, -0.007217409089207649, 0.008044397458434105, -0.005531055852770805, 0.004355994984507561, -0.016764327883720398, -0.00436675688251853, -0.010749511420726776, 0.0037521389313042164, -0.016428276896476746, 0.0023410730063915253, 0.0, 0.0, 0.0, 0.0, 0.0, 0.0, 0.0, 0.0, 0.0, 0.0, 0.0, 0.0], [0.05297401547431946, -0.000375444651581347, -0.00047217216342687607, -0.001809590496122837, -0.0009633861482143402, 0.0004330221563577652, -0.006474731490015984, -0.04597441479563713, -0.01640022173523903, 0.0068516917526721954, -0.00817275419831276, 0.007768518291413784, -0.010248351842164993, -0.0023120949044823647, -0.0040157996118068695, 0.012521491385996342, -0.0017627440392971039, 0.017924044281244278, 0.0005088374018669128, 0.0, 0.0, 0.0, 0.0, 0.0, 0.0, 0.0, 0.0, 0.0, 0.0, 0.0], [0.008230537176132202, -5.400998634286225e-05, -0.00031069922260940075, -0.00046464381739497185, 4.297588020563126e-06, -1.1191819794476032e-05, -0.004421445541083813, 0.10948026180267334, -0.003190171904861927, -0.00205508666113019, -0.01551348902285099, 0.0011669376399368048, -0.015261346474289894, -0.00345431175082922, -0.016461504623293877, 8.446210995316505e-05, -0.01675548031926155, -0.00036605261266231537, -0.035019561648368835, -0.005627423524856567, 0.0, 0.0, 0.0, 0.0, 0.0, 0.0, 0.0, 0.0, 0.0, 0.0], [0.027346819639205933, 1.6924110241234303e-05, 0.0027007265016436577, 0.002251114696264267, 0.0020413855090737343, 0.00367001723498106, -0.0023170430213212967, -0.004820980131626129, 0.003848690539598465, 0.008099495433270931, -0.010548237711191177, 0.00821433961391449, -0.013507930561900139, -0.0018549086526036263, -0.009757371619343758, 0.007747345604002476, -0.0060824062675237656, 0.008622297085821629, -0.013525817543268204, -0.01869184337556362, 0.0065472908318042755, 0.0, 0.0, 0.0, 0.0, 0.0, 0.0, 0.0, 0.0, 0.0], [-0.10211706161499023, 2.263282658532262e-05, 0.001193765550851822, -0.0022918921895325184, -2.7201254852116108e-05, -0.0007376181893050671, -0.007379657588899136, 0.037490129470825195, -0.0006214044988155365, 0.001547901425510645, -0.0007877573370933533, 0.001977333566173911, 0.0057678502053022385, -0.0010463115759193897, 0.004228357225656509, 0.0031613577157258987, 0.0173617135733366, 0.003134598024189472, 0.007912226021289825, -0.0015385113656520844, 0.033641260117292404, -0.0008917646482586861, 0.0, 0.0, 0.0, 0.0, 0.0, 0.0, 0.0, 0.0], [0.049681156873703, -0.00011331262066960335, 0.00015496741980314255, -0.00030826590955257416, 0.0013294953387230635, 0.0012910328805446625, 0.003626938909292221, 0.0011349320411682129, 0.006244465708732605, 0.006685089319944382, -0.011503417044878006, 0.005115189589560032, -0.013126271776854992, -0.0009942739270627499, -0.011680925264954567, 0.006187840830534697, -0.008177639916539192, 0.007334008347243071, -0.011602509766817093, -0.010807417333126068, -0.0032977238297462463, 0.007901312783360481, -0.02507457137107849, 0.0, 0.0, 0.0, 0.0, 0.0, 0.0, 0.0], [0.06869465112686157, -0.00019196933135390282, -0.002168831415474415, -0.002042482141405344, 0.0005848328582942486, 0.0005379326175898314, -0.004799875430762768, 0.002313351258635521, 0.0024491045624017715, 0.0017873235046863556, -0.0125808697193861, 0.00020558154210448265, -0.014924079179763794, -0.0003070961683988571, -0.02088274620473385, 0.0039677065797150135, -0.010685384273529053, 0.0029579363763332367, -0.0054856278002262115, -0.003999597392976284, 0.023571506142616272, 0.012402967549860477, -0.027615055441856384, -0.01378924772143364, 0.0, 0.0, 0.0, 0.0, 0.0, 0.0], [-0.07245384156703949, -0.00031662272522225976, 0.0011106021702289581, -0.0021028355695307255, 0.000790648628026247, -9.718810906633735e-05, 0.010875774547457695, 0.1245797872543335, 0.000450152438133955, -0.0016223350539803505, -0.004167776554822922, -0.00047644670121371746, -0.004015966318547726, -0.0028043361380696297, -0.004986163694411516, -0.00039335439214482903, -0.0031477075535804033, 4.164024721831083e-05, -0.0034405975602567196, -0.0025233449414372444, -0.0043924059718847275, -0.0028214335907250643, -0.008028596639633179, -0.01630260795354843, -0.003754996694624424, 0.0, 0.0, 0.0, 0.0, 0.0], [-0.04858240485191345, -0.0006825299933552742, 0.06843216717243195, -0.0077381432056427, -0.024300046265125275, -0.006751727312803268, 0.003636479377746582, -0.0006736600771546364, 0.00034996250178664923, -0.0009397370740771294, -9.896015399135649e-05, -0.00011401466326788068, -6.468468927778304e-05, 7.021994679234922e-05, -7.497303158743307e-05, -0.0002203620388172567, -4.257676482666284e-05, -6.672271410934627e-05, -4.466612881515175e-05, -0.0001569743180880323, -5.7527322496753186e-05, -0.0001369807869195938, -9.408411278855056e-05, -0.0011192252859473228, 0.0006029765936546028, 0.018868185579776764, 0.0, 0.0, 0.0, 0.0], [-0.047567784786224365, -0.00010843249037861824, 0.0045120809227228165, 0.001708707306534052, -2.8565293177962303e-05, -0.000279364874586463, 0.006584500428289175, 0.0011359711643308401, 0.0005301340133883059, 0.000337931327521801, 9.987293742597103e-05, 0.0001941821537911892, 4.7077446652110666e-05, 0.00022433353296946734, 8.818273636279628e-05, 0.00013142544776201248, 3.123090573353693e-05, -2.2037012968212366e-05, 1.0841598850674927e-05, 5.563626473303884e-05, 7.999253284651786e-06, 0.0004519436333794147, 4.663498839363456e-05, 3.0922252335585654e-05, 0.0003232210292480886, 0.012536045163869858, 0.018917497247457504, 0.0, 0.0, 0.0], [-0.022714972496032715, -0.0003165991511195898, 0.0012476332485675812, 6.998889148235321e-06, 0.00030896905809640884, 0.0001563036348670721, 0.002321039792150259, 0.0003398853586986661, 0.0006218693451955914, 0.0003164377994835377, -2.5819812435656786e-05, 0.00013443399802781641, 7.4138661148026586e-06, 8.93980250111781e-05, 3.188097616657615e-05, 4.9504909839015454e-05, 1.2140735634602606e-05, 2.4507695343345404e-05, -1.210621849168092e-05, -9.671784937381744e-07, 3.393522638361901e-05, 0.00020050042076036334, 5.765607056673616e-05, -2.034453791566193e-05, 6.880657747387886e-05, 0.012053478509187698, 0.00647455919533968, -0.0014665573835372925, 0.0, 0.0], [0.03847140073776245, -0.0002260737819597125, -0.0011940719559788704, -0.00026254868134856224, 0.0003509628586471081, -0.0003387754550203681, 0.0007627867162227631, 0.0001421007327735424, 0.00033028825419023633, 0.00023434398462995887, 2.032611519098282e-06, 0.00021907375776208937, -5.101869464851916e-05, 0.0001844086655182764, -8.033376070670784e-05, 5.817905184812844e-05, -6.638234481215477e-05, -4.2925996240228415e-05, -0.00010563438991084695, -6.37885823380202e-05, -0.00012533209519460797, 0.00027373642660677433, -1.1539552360773087e-05, -0.00047006335807964206, 6.66327541694045e-05, 0.004090484231710434, 0.0026865703985095024, -0.03973807394504547, -0.005096493288874626, 0.0], [-0.542927622795105, 0.0011475556530058384, 0.017093271017074585, 0.0034826858900487423, 0.0005567151820287108, 0.0006280000088736415, 0.005499844439327717, 0.001098282402381301, 0.00011703486961778253, 0.0005776450270786881, 0.00013731954095419496, 0.00032699701841920614, 0.0001375786669086665, 0.00016384985065087676, 0.00012383158900775015, 0.00030021683778613806, 9.784719441086054e-05, 4.503727541305125e-05, 7.759867003187537e-05, 0.00016681061242707074, 7.745176844764501e-05, 0.00020869661238975823, 0.000176012355950661, -9.813386714085937e-05, 0.0014410695293918252, 0.0522279366850853, 0.0953764095902443, 0.2960306406021118, 0.012277994304895401, 0.05343138426542282]], [[0.0, 0.0, 0.0, 0.0, 0.0, 0.0, 0.0, 0.0, 0.0, 0.0, 0.0, 0.0, 0.0, 0.0, 0.0, 0.0, 0.0, 0.0, 0.0, 0.0, 0.0, 0.0, 0.0, 0.0, 0.0, 0.0, 0.0, 0.0, 0.0, 0.0], [0.0, 0.0, 0.0, 0.0, 0.0, 0.0, 0.0, 0.0, 0.0, 0.0, 0.0, 0.0, 0.0, 0.0, 0.0, 0.0, 0.0, 0.0, 0.0, 0.0, 0.0, 0.0, 0.0, 0.0, 0.0, 0.0, 0.0, 0.0, 0.0, 0.0], [0.0, 0.0, 0.0, 0.0, 0.0, 0.0, 0.0, 0.0, 0.0, 0.0, 0.0, 0.0, 0.0, 0.0, 0.0, 0.0, 0.0, 0.0, 0.0, 0.0, 0.0, 0.0, 0.0, 0.0, 0.0, 0.0, 0.0, 0.0, 0.0, 0.0], [0.0, 0.0, 0.0, 0.0, 0.0, 0.0, 0.0, 0.0, 0.0, 0.0, 0.0, 0.0, 0.0, 0.0, 0.0, 0.0, 0.0, 0.0, 0.0, 0.0, 0.0, 0.0, 0.0, 0.0, 0.0, 0.0, 0.0, 0.0, 0.0, 0.0], [0.0, 0.0, 0.0, 0.0, 0.0, 0.0, 0.0, 0.0, 0.0, 0.0, 0.0, 0.0, 0.0, 0.0, 0.0, 0.0, 0.0, 0.0, 0.0, 0.0, 0.0, 0.0, 0.0, 0.0, 0.0, 0.0, 0.0, 0.0, 0.0, 0.0], [0.0, 0.0, 0.0, 0.0, 0.0, 0.0, 0.0, 0.0, 0.0, 0.0, 0.0, 0.0, 0.0, 0.0, 0.0, 0.0, 0.0, 0.0, 0.0, 0.0, 0.0, 0.0, 0.0, 0.0, 0.0, 0.0, 0.0, 0.0, 0.0, 0.0], [-0.004434347152709961, 0.0053647588938474655, 0.00019227433949708939, -0.002431293949484825, 0.0005670443642884493, 0.00042667053639888763, 0.00031486840452998877, 0.0, 0.0, 0.0, 0.0, 0.0, 0.0, 0.0, 0.0, 0.0, 0.0, 0.0, 0.0, 0.0, 0.0, 0.0, 0.0, 0.0, 0.0, 0.0, 0.0, 0.0, 0.0, 0.0], [0.004451274871826172, -0.00034174288157373667, -0.0002463841810822487, -0.00022760441061109304, -0.0002661228645592928, 0.00012749468442052603, 2.3489061277359724e-05, -0.003520392347127199, 0.0, 0.0, 0.0, 0.0, 0.0, 0.0, 0.0, 0.0, 0.0, 0.0, 0.0, 0.0, 0.0, 0.0, 0.0, 0.0, 0.0, 0.0, 0.0, 0.0, 0.0, 0.0], [-0.017617344856262207, 0.00020415979088284075, 0.0011844639666378498, -0.0005423706024885178, -0.000773661769926548, 0.011156119406223297, -0.0014737220481038094, 0.00122937373816967, 0.006633068434894085, 0.0, 0.0, 0.0, 0.0, 0.0, 0.0, 0.0, 0.0, 0.0, 0.0, 0.0, 0.0, 0.0, 0.0, 0.0, 0.0, 0.0, 0.0, 0.0, 0.0, 0.0], [-0.015137672424316406, 0.0002161562442779541, 0.0009315318311564624, 0.0018144818022847176, 0.001391060883179307, 0.0011522122658789158, 0.00046879518777132034, 0.006815970875322819, 0.0003901005256921053, 0.0019574747420847416, 0.0, 0.0, 0.0, 0.0, 0.0, 0.0, 0.0, 0.0, 0.0, 0.0, 0.0, 0.0, 0.0, 0.0, 0.0, 0.0, 0.0, 0.0, 0.0, 0.0], [-0.027007460594177246, 0.00026002677623182535, 0.00025313254445791245, 1.711258664727211e-05, 0.0013062309008091688, 0.0005744912195950747, -0.0008046501316130161, 0.0004779491573572159, 0.03737711161375046, -0.008050806820392609, -0.0044029951095581055, 0.0, 0.0, 0.0, 0.0, 0.0, 0.0, 0.0, 0.0, 0.0, 0.0, 0.0, 0.0, 0.0, 0.0, 0.0, 0.0, 0.0, 0.0, 0.0], [0.07357239723205566, 0.00015420751878991723, 0.0005264087812975049, 0.0023616417311131954, 0.0008881301619112492, 0.000993969151750207, 0.0008088401518762112, 0.005073096603155136, 0.003193275071680546, -0.017132915556430817, -0.06541430950164795, -0.005024704150855541, 0.0, 0.0, 0.0, 0.0, 0.0, 0.0, 0.0, 0.0, 0.0, 0.0, 0.0, 0.0, 0.0, 0.0, 0.0, 0.0, 0.0, 0.0], [-0.012239038944244385, 0.00040867598727345467, 0.00012314890045672655, -0.0014716396108269691, 0.0010618092492222786, 0.0017193625681102276, -0.000455338042229414, 0.0006275144405663013, 0.02271747589111328, -0.007922917604446411, -0.00501930620521307, 0.006479345262050629, -0.006029108539223671, 0.0, 0.0, 0.0, 0.0, 0.0, 0.0, 0.0, 0.0, 0.0, 0.0, 0.0, 0.0, 0.0, 0.0, 0.0, 0.0, 0.0], [0.11187827587127686, 0.00019124668324366212, 0.000681955658365041, 0.003162877866998315, 0.0002825688570737839, 0.0023460546508431435, 0.0009614690789021552, 0.005618026480078697, 0.0024028902407735586, 0.003523395862430334, -0.02558583766222, 1.392723061144352e-05, -0.10669220983982086, 0.0012153463903814554, 0.0, 0.0, 0.0, 0.0, 0.0, 0.0, 0.0, 0.0, 0.0, 0.0, 0.0, 0.0, 0.0, 0.0, 0.0, 0.0], [0.03545469045639038, -0.00023675383999943733, -0.0007721874862909317, -0.003028453793376684, -0.00217285193502903, -0.0012536910362541676, -0.0002585595939308405, -0.0013733503874391317, 0.0005178758874535561, -0.003851894987747073, -0.0037853624671697617, -0.00024629756808280945, -0.006330825854092836, -0.009019097313284874, -0.0036432070191949606, 0.0, 0.0, 0.0, 0.0, 0.0, 0.0, 0.0, 0.0, 0.0, 0.0, 0.0, 0.0, 0.0, 0.0, 0.0], [0.0912095308303833, 0.0004240275302436203, 0.0002555809332989156, 0.0002347007393836975, -8.607911877334118e-05, 0.0009761425899341702, 0.000846289680339396, 0.002313429955393076, 0.0014691128162667155, 0.000947160879150033, 0.007490791380405426, 6.712810136377811e-05, -0.060405559837818146, 0.0010532436426728964, -0.048730187118053436, 0.001934701343998313, 0.0, 0.0, 0.0, 0.0, 0.0, 0.0, 0.0, 0.0, 0.0, 0.0, 0.0, 0.0, 0.0, 0.0], [0.013794481754302979, 0.0002995483810082078, -0.00026891822926700115, -0.0018921243026852608, -0.0003751711919903755, 0.0006538308225572109, 0.00012256897753104568, -0.0008422655519098043, 0.0032114977948367596, -0.0016640555113554, -0.002449367195367813, 0.0007906239479780197, -0.005534792318940163, -0.005318975076079369, -0.0036004693247377872, 0.007190275937318802, -0.004116653464734554, 0.0, 0.0, 0.0, 0.0, 0.0, 0.0, 0.0, 0.0, 0.0, 0.0, 0.0, 0.0, 0.0], [-0.03624880313873291, 0.0005204756162129343, -0.0002593199023976922, -0.00019697262905538082, -0.002038688398897648, -0.002539986977353692, 0.0007751900120638311, 0.010119306854903698, 0.0010330815566703677, -0.006009620614349842, 0.03653370961546898, -0.001176466466858983, 0.00016593188047409058, 0.0012093842960894108, 0.008433066308498383, 0.003032160457223654, -0.018750924617052078, 0.005398506298661232, 0.0, 0.0, 0.0, 0.0, 0.0, 0.0, 0.0, 0.0, 0.0, 0.0, 0.0, 0.0], [-0.01254570484161377, -0.0006974539719521999, -0.00032709818333387375, -0.001496538519859314, -0.0006500515155494213, 0.0003215975593775511, 0.00029016088228672743, -0.0018941513262689114, -0.0008026286959648132, -0.0008947746828198433, -0.0017215493135154247, 0.003889933228492737, -0.006100057158619165, -0.003462018445134163, -0.0032022581435739994, 0.01172984391450882, -0.003352340077981353, 0.02642850950360298, -0.005513557232916355, 0.0, 0.0, 0.0, 0.0, 0.0, 0.0, 0.0, 0.0, 0.0, 0.0, 0.0], [0.19766008853912354, 0.0002523391740396619, 0.00031748454784974456, 0.0018468238413333893, 0.00046444241888821125, 0.000583204033318907, 0.0004933474701829255, 0.004861806053668261, 0.0003398361150175333, 0.0006241049850359559, -0.011894315481185913, -6.5963249653577805e-06, -0.07192037999629974, -0.0001361927716061473, -0.045410655438899994, 0.0005441890098154545, -0.04446251690387726, -0.0012282696552574635, -0.03211634233593941, -0.0008123503066599369, 0.0, 0.0, 0.0, 0.0, 0.0, 0.0, 0.0, 0.0, 0.0, 0.0], [0.00040143728256225586, -2.7081696316599846e-05, -5.8892183005809784e-05, -0.0011538644321262836, 0.00036406703293323517, 0.0013910087291151285, 0.00027438101824373007, -0.0008973218500614166, -0.0002375524491071701, -0.002124765422195196, -0.0008594787213951349, -0.005044005811214447, -0.0026971986517310143, -0.012361625209450722, -0.0017971592023968697, 0.012192945927381516, -0.0025497260503470898, 0.015920136123895645, -0.0029090349562466145, 0.0027482984587550163, -0.00057442975230515, 0.0, 0.0, 0.0, 0.0, 0.0, 0.0, 0.0, 0.0, 0.0], [0.03533583879470825, 0.0001181847183033824, 0.0001019967021420598, -0.0012057588901370764, 0.0001988012809306383, 0.0005206179921515286, 0.0004624054708983749, 0.0024664737284183502, 0.0012535060523077846, 0.003217124380171299, 0.02804609015583992, 0.0006660050712525845, -0.025747552514076233, 0.0010731343645602465, -0.02569897472858429, 0.0020019840449094772, -0.03983263671398163, 0.0026385262608528137, 0.00768435001373291, 0.001101869624108076, 0.0008654147386550903, 0.004732643254101276, 0.0, 0.0, 0.0, 0.0, 0.0, 0.0, 0.0, 0.0], [0.03805816173553467, -0.0006194900488480926, -0.0012077833525836468, -0.0020319775212556124, -0.0016108839772641659, -9.779282845556736e-05, -0.0005851316964253783, -0.0013857085723429918, -0.0005382178351283073, -0.0027740991208702326, -0.0010980484075844288, -0.02147218957543373, -0.0025654886849224567, -0.028756385669112206, -0.0018717041239142418, -0.009182054549455643, -0.002682622754946351, 0.012956729158759117, -0.0027214055880904198, -0.0002393033355474472, -0.001090495497919619, 0.031001968309283257, 0.0005138111300766468, 0.0, 0.0, 0.0, 0.0, 0.0, 0.0, 0.0], [-0.006325185298919678, -0.0005493495846167207, -0.0005732318386435509, -0.0011574395466595888, -0.0004547187127172947, -0.0005046497099101543, -0.0011660698801279068, -0.0014774096198379993, 0.0015199996996670961, -0.006216044537723064, 0.0006840922869741917, 0.0012478996068239212, -0.0002788195852190256, -0.007274511735886335, -0.000714246416464448, 0.006199254654347897, -0.0012385998852550983, 0.012066038325428963, -0.0006514713168144226, -0.001628129743039608, -0.00011452974285930395, 0.007413402199745178, 0.0002526175230741501, 0.0009412518702447414, 0.0, 0.0, 0.0, 0.0, 0.0, 0.0], [0.0008627176284790039, 0.00023541448172181845, -9.374177898280323e-05, -0.00128665822558105, -0.00039026897866278887, -0.00030415249057114124, 0.00011962262215092778, 0.004168883431702852, 6.726192077621818e-05, -0.00025126407854259014, -0.0010326448827981949, 0.0002898159436881542, -0.0063779293559491634, 0.0003197096521034837, -0.0042214104905724525, 0.0005258512683212757, -0.0035213828086853027, 0.0015344297280535102, 0.0030541131272912025, 0.0003947473596781492, -0.0017616001423448324, 0.0007488976698368788, 0.002468903549015522, 0.0012216256000101566, 0.0032288944348692894, 0.0, 0.0, 0.0, 0.0, 0.0], [0.010126888751983643, 0.0006707734428346157, -0.0009826873429119587, -0.0007260332349687815, -0.00026826601242646575, -0.00029667303897440434, -3.8179452531039715e-05, -0.0070901475846767426, -0.00015426194295287132, 4.1973395127570257e-05, -7.51700354157947e-05, -8.502665150444955e-05, -0.0001341416354989633, 5.942478310316801e-06, -0.00011219720909139141, -9.646149555919692e-05, -7.334880501730368e-05, -0.00020158904953859746, -0.00011082403943873942, -1.5947445717756636e-05, -4.516756234806962e-05, 3.238695353502408e-05, -2.901155676227063e-05, -7.978659414220601e-05, -4.028812327305786e-06, -0.0002589999930933118, 0.0, 0.0, 0.0, 0.0], [-0.01102989912033081, 0.0012440301943570375, 0.0003153549041599035, 0.001141031738370657, 0.0005252435803413391, 0.0004568598233163357, 5.9520360082387924e-05, 0.005612444132566452, 0.00010982656385749578, 0.00013519581989385188, -8.061743574216962e-05, 2.472836058586836e-05, -0.00010417425073683262, 4.6061555622145534e-05, 7.738388376310468e-05, -7.178078521974385e-05, 5.954731022939086e-05, -0.00017190532526001334, -0.0002891027834266424, -2.1873500372748822e-05, -8.172937668859959e-06, 0.0001721522567095235, 0.00022340283612720668, 0.00040647975401952863, 5.253219569567591e-05, 0.0009096323046833277, 0.00020617182599380612, 0.0, 0.0, 0.0], [0.007572829723358154, -0.00031656608916819096, -6.154505535960197e-05, 0.0009457878768444061, 0.00043228943832218647, 0.0006366109009832144, -4.3491076212376356e-05, -0.010010385885834694, 0.00017965357983484864, 0.00011861664825119078, -6.573165592271835e-06, 4.335411358624697e-05, 9.379335097037256e-06, 0.00016366050112992525, 1.777537545422092e-05, -0.0008775637252256274, 1.4616591215599328e-05, -9.576338925398886e-05, -0.00010347820352762938, -2.526663593016565e-05, -6.987815140746534e-06, 0.0013092856388539076, 2.7798967494163662e-05, 0.0003758903476409614, 0.0004424686776474118, -7.722934242337942e-05, 2.1413841750472784e-05, -0.0006867030169814825, 0.0, 0.0], [-0.002790689468383789, 1.4496268704533577e-05, -0.00011440273374319077, -0.00010615866631269455, 0.0021487222984433174, 0.0009422348812222481, -0.0015414261724799871, -0.002906646579504013, 0.0010265231830999255, -3.464781912043691e-05, 7.819427992217243e-06, 0.0002360993530601263, 6.309877790044993e-06, 0.00032938289223238826, 1.3212636986281723e-05, -0.0004480488714762032, -7.455601007677615e-06, -8.262618212029338e-05, -7.120036752894521e-05, 7.600849494338036e-05, -2.1205722077866085e-05, 0.001508122542873025, 4.63510696135927e-05, 0.0002700618060771376, 0.00034526921808719635, 0.0002008313313126564, 0.0002015141653828323, -0.00017568515613675117, 0.0009272408206015825, 0.0], [-0.05004894733428955, 0.001731871161609888, -0.0005245826905593276, -0.00042066979221999645, -0.0001699217827990651, -0.00037421274464577436, -0.0006849643541499972, 0.042083777487277985, 0.00041969987796619534, -0.0002243811613880098, -3.4332042559981346e-05, -6.658466008957475e-05, -4.9444701289758086e-05, -2.2975291358307004e-07, 0.00021624003420583904, -5.841933307237923e-05, 0.00010760649456642568, -1.1213924153707922e-05, 9.695635526441038e-05, -2.304936060681939e-05, 7.646536687389016e-05, 0.0001666987081989646, 0.0004685042076744139, 0.00032076064962893724, 0.00011151084618177265, 0.003740963526070118, 6.629154086112976e-06, 0.0005281887715682387, 0.0015239287167787552, 0.0010911888675764203]]]}\n",
       "    )\n",
       "    </script>"
      ],
      "text/plain": [
       "<circuitsvis.utils.render.RenderedHTML at 0x7f9c9d6d0c10>"
      ]
     },
     "execution_count": 24,
     "metadata": {},
     "output_type": "execute_result"
    }
   ],
   "source": [
    "delta_attention_pattern =  pos_attention_pattern - neg_attention_pattern\n",
    "\n",
    "print(f\"Layer {LAYER} Head Attention Patterns for POS- NEG:\")\n",
    "cv.attention.attention_patterns(tokens=pos_str_tokens, attention=delta_attention_pattern)"
   ]
  },
  {
   "cell_type": "code",
   "execution_count": 25,
   "metadata": {
    "colab": {
     "base_uri": "https://localhost:8080/",
     "height": 375
    },
    "executionInfo": {
     "elapsed": 2,
     "status": "ok",
     "timestamp": 1720660848371,
     "user": {
      "displayName": "Jason L",
      "userId": "08424561876455739258"
     },
     "user_tz": 240
    },
    "id": "lbC0ACv6vB-G",
    "outputId": "820951a8-0feb-4b2b-a692-2e99ee5cd774"
   },
   "outputs": [
    {
     "name": "stdout",
     "output_type": "stream",
     "text": [
      "Layer 9 Head Attention Patterns for NEG - POS:\n"
     ]
    },
    {
     "data": {
      "text/html": [
       "<div id=\"circuits-vis-4721f331-df44\" style=\"margin: 15px 0;\"/>\n",
       "    <script crossorigin type=\"module\">\n",
       "    import { render, AttentionPatterns } from \"https://unpkg.com/circuitsvis@1.43.2/dist/cdn/esm.js\";\n",
       "    render(\n",
       "      \"circuits-vis-4721f331-df44\",\n",
       "      AttentionPatterns,\n",
       "      {\"tokens\": [\"<|endoftext|>\", \"I\", \" embrace\", \" the\", \" eight\", \"fold\", \" journey\", \" ('\", \"correct\", \" perspective\", \",\", \" motivation\", \",\", \" communication\", \",\", \" behavior\", \",\", \" career\", \",\", \" diligence\", \",\", \" awareness\", \",\", \" and\", \" focus\", \"')\", \" taught\", \" by\", \" the\", \" Sage\"], \"attention\": [[[0.0, 0.0, 0.0, 0.0, 0.0, 0.0, 0.0, 0.0, 0.0, 0.0, 0.0, 0.0, 0.0, 0.0, 0.0, 0.0, 0.0, 0.0, 0.0, 0.0, 0.0, 0.0, 0.0, 0.0, 0.0, 0.0, 0.0, 0.0, 0.0, 0.0], [0.0, 0.0, 0.0, 0.0, 0.0, 0.0, 0.0, 0.0, 0.0, 0.0, 0.0, 0.0, 0.0, 0.0, 0.0, 0.0, 0.0, 0.0, 0.0, 0.0, 0.0, 0.0, 0.0, 0.0, 0.0, 0.0, 0.0, 0.0, 0.0, 0.0], [0.0, 0.0, 0.0, 0.0, 0.0, 0.0, 0.0, 0.0, 0.0, 0.0, 0.0, 0.0, 0.0, 0.0, 0.0, 0.0, 0.0, 0.0, 0.0, 0.0, 0.0, 0.0, 0.0, 0.0, 0.0, 0.0, 0.0, 0.0, 0.0, 0.0], [0.0, 0.0, 0.0, 0.0, 0.0, 0.0, 0.0, 0.0, 0.0, 0.0, 0.0, 0.0, 0.0, 0.0, 0.0, 0.0, 0.0, 0.0, 0.0, 0.0, 0.0, 0.0, 0.0, 0.0, 0.0, 0.0, 0.0, 0.0, 0.0, 0.0], [0.0, 0.0, 0.0, 0.0, 0.0, 0.0, 0.0, 0.0, 0.0, 0.0, 0.0, 0.0, 0.0, 0.0, 0.0, 0.0, 0.0, 0.0, 0.0, 0.0, 0.0, 0.0, 0.0, 0.0, 0.0, 0.0, 0.0, 0.0, 0.0, 0.0], [0.0, 0.0, 0.0, 0.0, 0.0, 0.0, 0.0, 0.0, 0.0, 0.0, 0.0, 0.0, 0.0, 0.0, 0.0, 0.0, 0.0, 0.0, 0.0, 0.0, 0.0, 0.0, 0.0, 0.0, 0.0, 0.0, 0.0, 0.0, 0.0, 0.0], [-0.03270566463470459, 0.001235584612004459, 0.0049980077892541885, 0.001435774378478527, -0.00191536545753479, 0.0038915444165468216, 0.02306009829044342, 0.0, 0.0, 0.0, 0.0, 0.0, 0.0, 0.0, 0.0, 0.0, 0.0, 0.0, 0.0, 0.0, 0.0, 0.0, 0.0, 0.0, 0.0, 0.0, 0.0, 0.0, 0.0, 0.0], [-0.023773193359375, 0.010289997793734074, 0.000769246369600296, -0.00039958907291293144, -3.220699727535248e-05, -0.005356356501579285, 0.009839583188295364, 0.008662575855851173, 0.0, 0.0, 0.0, 0.0, 0.0, 0.0, 0.0, 0.0, 0.0, 0.0, 0.0, 0.0, 0.0, 0.0, 0.0, 0.0, 0.0, 0.0, 0.0, 0.0, 0.0, 0.0], [0.009295642375946045, 0.005304383113980293, -0.0037057269364595413, -0.0013519617496058345, -0.0035292119719088078, -0.012710819952189922, -0.004083959385752678, -0.005271232686936855, 0.016052978113293648, 0.0, 0.0, 0.0, 0.0, 0.0, 0.0, 0.0, 0.0, 0.0, 0.0, 0.0, 0.0, 0.0, 0.0, 0.0, 0.0, 0.0, 0.0, 0.0, 0.0, 0.0], [-0.10579615831375122, 0.0010116063058376312, -0.0007586893625557423, -0.0005286403466016054, -0.005493995733559132, 0.007672536186873913, 0.006632730830460787, 0.0023856675252318382, 0.04587352275848389, 0.04900141805410385, 0.0, 0.0, 0.0, 0.0, 0.0, 0.0, 0.0, 0.0, 0.0, 0.0, 0.0, 0.0, 0.0, 0.0, 0.0, 0.0, 0.0, 0.0, 0.0, 0.0], [-0.13077077269554138, 0.0014821127988398075, 0.001666739583015442, -0.0011974545195698738, -0.036019567400217056, -0.021190166473388672, 0.00418008491396904, -0.009433550760149956, 0.12249547243118286, 0.06909328699111938, -0.0003062169998884201, 0.0, 0.0, 0.0, 0.0, 0.0, 0.0, 0.0, 0.0, 0.0, 0.0, 0.0, 0.0, 0.0, 0.0, 0.0, 0.0, 0.0, 0.0, 0.0], [0.04661095142364502, 0.00026119803078472614, -0.0017775055021047592, -0.00022404908668249846, 0.0005314724985510111, -0.0037513207644224167, 0.002792217768728733, -0.00482915760949254, 0.0070341043174266815, -0.006172185763716698, -0.00044549559243023396, -0.04003027454018593, 0.0, 0.0, 0.0, 0.0, 0.0, 0.0, 0.0, 0.0, 0.0, 0.0, 0.0, 0.0, 0.0, 0.0, 0.0, 0.0, 0.0, 0.0], [0.08084970712661743, 0.0063505941070616245, 0.00699988380074501, 0.0008405214175581932, -0.00789573136717081, -0.032424431294202805, 0.001740816980600357, -0.007759757339954376, 0.010212274268269539, -0.021106824278831482, 0.00019568856805562973, -0.039392147213220596, 0.0013894387520849705, 0.0, 0.0, 0.0, 0.0, 0.0, 0.0, 0.0, 0.0, 0.0, 0.0, 0.0, 0.0, 0.0, 0.0, 0.0, 0.0, 0.0], [-0.01919180154800415, 0.001112438621930778, -0.004136217758059502, -0.0001220828853547573, -0.0016471496783196926, -0.0012449948117136955, -0.0007845014333724976, 0.000149410218000412, 0.006623021326959133, 0.00404604896903038, -0.002532919403165579, 0.010221373289823532, 0.0011502341367304325, 0.006357118487358093, 0.0, 0.0, 0.0, 0.0, 0.0, 0.0, 0.0, 0.0, 0.0, 0.0, 0.0, 0.0, 0.0, 0.0, 0.0, 0.0], [-0.04447674751281738, 0.016206800937652588, 0.005667850375175476, 0.0015933732502162457, -0.002898259088397026, -0.0074437325820326805, 0.0077173481695353985, 0.0055149998515844345, 0.008580716326832771, 0.017811883240938187, 0.0011994780506938696, -0.00044311583042144775, 0.0012487019412219524, -0.011307128705084324, 0.0010279305279254913, 0.0, 0.0, 0.0, 0.0, 0.0, 0.0, 0.0, 0.0, 0.0, 0.0, 0.0, 0.0, 0.0, 0.0, 0.0], [0.04122978448867798, -7.840117905288935e-05, -0.00046746269799768925, -0.0005914738867431879, -0.002897264203056693, -0.011819487437605858, -0.008685440756380558, -0.0032529006712138653, 0.00265556201338768, -0.0014378391206264496, -0.000750694249290973, -0.010064208880066872, -0.0005166730843484402, -0.007378673180937767, -0.00013930967543274164, 0.004194401204586029, 0.0, 0.0, 0.0, 0.0, 0.0, 0.0, 0.0, 0.0, 0.0, 0.0, 0.0, 0.0, 0.0, 0.0], [0.05286979675292969, 0.005080563481897116, 0.0011913375928997993, -0.002332968171685934, -0.00531475804746151, -0.014996908605098724, -0.0024495013058185577, -0.006067976355552673, 0.0020622387528419495, -0.005557569675147533, -0.0012523310724645853, -0.005394235253334045, -0.0006743447156623006, -0.012736190110445023, -8.240249007940292e-05, -0.0037734713405370712, -0.0005714062135666609, 0.0, 0.0, 0.0, 0.0, 0.0, 0.0, 0.0, 0.0, 0.0, 0.0, 0.0, 0.0, 0.0], [-0.07974529266357422, 9.151076665148139e-05, 0.0010338729480281472, 0.00021095143165439367, 0.0016127042472362518, 0.0008985042804852128, 0.000475600128993392, 0.0007280370919033885, 0.008453411050140858, 0.0069587049074471, 0.0010208102175965905, 0.001893852837383747, 0.002134736394509673, 0.0033726058900356293, 0.0023171226494014263, 0.007189903408288956, 0.0023205499164760113, 0.03903248906135559, 0.0, 0.0, 0.0, 0.0, 0.0, 0.0, 0.0, 0.0, 0.0, 0.0, 0.0, 0.0], [-0.03056168556213379, 0.0020849397405982018, 0.005991918966174126, 0.0022158208303153515, 0.004271513782441616, 0.0030975020490586758, 0.0031701303087174892, 0.002506427001208067, 0.001968599855899811, 0.001879995223134756, 0.0003947615623474121, -0.0010079923085868359, 0.0003576560120563954, -0.0017886373680084944, 0.00027284841053187847, 0.0010966055560857058, 0.0002116404357366264, 0.0034465366043150425, 0.000391391571611166, 0.0, 0.0, 0.0, 0.0, 0.0, 0.0, 0.0, 0.0, 0.0, 0.0, 0.0], [0.00637584924697876, 0.0003354672808200121, -0.00031165138352662325, 5.831419548485428e-05, 9.721564128994942e-05, -0.0011563929729163647, 0.004870704375207424, 0.0013897576136514544, 0.0009596708696335554, 0.0025856904685497284, 0.0002851130557246506, -0.0020270892418920994, 0.0009069477673619986, 0.001017027534544468, 0.0008118918631225824, 0.0007323287427425385, 0.0004500978975556791, -0.0032537197694182396, 0.0005131656071171165, -0.014640375040471554, 0.0, 0.0, 0.0, 0.0, 0.0, 0.0, 0.0, 0.0, 0.0, 0.0], [-0.06333309412002563, 0.006384052336215973, 0.010045780800282955, 0.0026829957496374846, 0.004180104937404394, 0.0020296145230531693, 0.006531259045004845, 0.004385367501527071, 0.0061403680592775345, 0.007213096134364605, 0.0007221659761853516, 0.0003941054455935955, 0.0009708870202302933, -0.0014993849908933043, 0.0008050692267715931, 0.0024551984388381243, 0.0005908674211241305, 0.00877440720796585, 0.001098404172807932, -0.0014410829171538353, 0.0008699820027686656, 0.0, 0.0, 0.0, 0.0, 0.0, 0.0, 0.0, 0.0, 0.0], [-0.027928471565246582, 0.0009367769816890359, 0.002070189220830798, 0.0003071500104852021, 0.0003977732267230749, 0.002075031166896224, 0.0005362022202461958, 0.0014303276548162103, 0.0023817240726202726, 0.002851142780855298, 2.1285959519445896e-05, 0.0027171222027391195, 0.00026074139168486, 0.00042840512469410896, 0.0003108607488684356, 0.00391535134986043, 0.00016420267638750374, 0.004125476814806461, 0.0003991489065811038, 0.00015327613800764084, 6.519031012430787e-05, 0.00238132756203413, 0.0, 0.0, 0.0, 0.0, 0.0, 0.0, 0.0, 0.0], [-0.03056192398071289, 0.005077107809484005, 0.005391811951994896, 0.00025449972599744797, 0.0014932621270418167, 0.0027799950912594795, 0.008970938622951508, 0.0020302562043070793, 0.007808633614331484, 0.008953862823545933, 0.0004810658865608275, -0.002571421442553401, 0.00038853019941598177, -0.008084690198302269, 0.0005194899276830256, 0.00453684339299798, 0.0005114396335557103, 0.007496186066418886, 0.0008712015696801245, 0.0005029365420341492, 0.0007389338570646942, -0.017809053882956505, 0.0002201857278123498, 0.0, 0.0, 0.0, 0.0, 0.0, 0.0, 0.0], [-0.026323139667510986, 0.0060190786607563496, 0.007198799401521683, 0.0016357251442968845, 0.0009887386113405228, 0.0010194205678999424, 0.007813293486833572, 0.004118368029594421, 0.005803648382425308, 0.005688214674592018, 0.0006983049679547548, -0.002379687037318945, 0.00031912210397422314, -0.005187584087252617, 0.000647859531454742, 0.0018331678584218025, 0.0005182941677048802, 0.00162449199706316, 0.0007918915944173932, -0.003837518859654665, 0.000688250525854528, -0.012897160835564137, 0.0005645874189212918, 0.002653970383107662, 0.0, 0.0, 0.0, 0.0, 0.0, 0.0], [-0.05023998022079468, 0.001128202537074685, 0.004769766237586737, 0.0005141079309396446, 0.0003065688069909811, 0.0015557887963950634, 0.00373275950551033, -0.0001508602872490883, 0.0039600771851837635, 0.005921407602727413, 0.0003814214142039418, 0.0030899420380592346, 0.0012254922185093164, 0.0013330727815628052, 0.001032089814543724, 0.000745897414162755, 0.0006792294443584979, 0.0027968958020210266, 0.0007416579755954444, 0.005180131644010544, 0.00047818926395848393, 0.0026889024302363396, 0.0006505169440060854, 0.002455733949318528, 0.005022970028221607, 0.0, 0.0, 0.0, 0.0, 0.0], [-0.18782329559326172, 0.0004556328058242798, -0.0007482618093490601, -2.4490756914019585e-05, -0.002637200988829136, -0.0037295203655958176, 0.12612611055374146, -0.00316763948649168, 0.0020140251144766808, 0.05373632162809372, 0.0016027817036956549, 0.0008867047727108002, 0.0015981527976691723, -0.0013299724087119102, 0.0012155063450336456, -0.0037537808530032635, 0.00031547254184260964, 0.0023452630266547203, 0.0003704206901602447, 0.0037037041038274765, 0.0002799106005113572, -0.004948679357767105, 0.00024186860537156463, 0.0009121746988967061, -0.005067497491836548, 0.01742630824446678, 0.0, 0.0, 0.0, 0.0], [-0.03816455602645874, 0.0023650971706956625, 0.0009349365718662739, 2.2449996322393417e-05, -0.0014457842335104942, -0.001531718298792839, 0.017565608024597168, -0.0005058660171926022, 0.0005610539810732007, 0.018032178282737732, 0.0008246029028669, 0.0012182542122900486, 0.0006182692595757544, -0.0007639694958925247, 0.0002014494384638965, 0.002966788364574313, 8.621331653557718e-05, 0.0012930214870721102, 0.00024443541769869626, 0.004403150174766779, 0.00015247044211719185, -0.007141965441405773, -4.355740384198725e-05, -0.0002065149019472301, -0.002431831555441022, 0.0037750890478491783, -0.0030292756855487823, 0.0, 0.0, 0.0], [-0.17651468515396118, 0.007966762408614159, 0.0030809896998107433, 0.0010394826531410217, 0.0044710468500852585, 0.00016160309314727783, 0.012876925989985466, 0.002720857970416546, 0.010950998403131962, 0.07669827342033386, 0.0010278810514137149, 0.016210515052080154, 0.0003544760693330318, 0.006075958255678415, 0.00012604196672327816, 0.005063554737716913, 4.793491098098457e-05, 0.0041056787595152855, 0.0001967518328456208, 0.008578792214393616, 6.336384103633463e-05, -0.022103019058704376, -4.881687345914543e-06, -2.3147062165662646e-05, -0.004019512794911861, 0.0024063289165496826, 0.030481891706585884, 0.007959076203405857, 0.0, 0.0], [-0.13640761375427246, 0.010569076985120773, 0.004110326524823904, 0.002500205533578992, 0.004851438105106354, 0.002235348802059889, 0.010374661535024643, 0.003666355274617672, 0.00438996497541666, 0.03374781459569931, 0.0021149541717022657, 0.006796596571803093, 0.0007121044327504933, 0.0021141692996025085, 0.00033492734655737877, 0.003162302542477846, 0.0002709332329686731, 0.0012309214798733592, 0.0004682761209551245, 0.006902904249727726, 0.00022001708566676825, -0.01266770251095295, 2.5891204131767154e-05, 0.0001146760187111795, -0.0007023746147751808, 0.0040373122319579124, 0.01828903704881668, 0.01931096240878105, 0.007226439192891121, 0.0], [-0.1722436547279358, 0.002631857991218567, 0.003019733354449272, 0.002761764917522669, 0.004280955996364355, 0.001961921341717243, 0.00506811635568738, 0.0026408135890960693, 0.0021758514922112226, 0.012891598045825958, 0.0013998722424730659, 0.006342520471662283, 0.0011652703396975994, 0.005428771488368511, 0.0006859092391096056, 0.0043078078888356686, 0.0003948868252336979, 0.0022403185721486807, 0.0006546900258399546, 0.006470685359090567, 0.00038569464231841266, 0.003163713961839676, 0.0004104192485101521, 0.0006218522903509438, 0.005067755002528429, 0.0016054143197834492, 0.002949862740933895, 0.024202903732657433, 0.008956349454820156, 0.05835626274347305]], [[0.0, 0.0, 0.0, 0.0, 0.0, 0.0, 0.0, 0.0, 0.0, 0.0, 0.0, 0.0, 0.0, 0.0, 0.0, 0.0, 0.0, 0.0, 0.0, 0.0, 0.0, 0.0, 0.0, 0.0, 0.0, 0.0, 0.0, 0.0, 0.0, 0.0], [0.0, 0.0, 0.0, 0.0, 0.0, 0.0, 0.0, 0.0, 0.0, 0.0, 0.0, 0.0, 0.0, 0.0, 0.0, 0.0, 0.0, 0.0, 0.0, 0.0, 0.0, 0.0, 0.0, 0.0, 0.0, 0.0, 0.0, 0.0, 0.0, 0.0], [0.0, 0.0, 0.0, 0.0, 0.0, 0.0, 0.0, 0.0, 0.0, 0.0, 0.0, 0.0, 0.0, 0.0, 0.0, 0.0, 0.0, 0.0, 0.0, 0.0, 0.0, 0.0, 0.0, 0.0, 0.0, 0.0, 0.0, 0.0, 0.0, 0.0], [0.0, 0.0, 0.0, 0.0, 0.0, 0.0, 0.0, 0.0, 0.0, 0.0, 0.0, 0.0, 0.0, 0.0, 0.0, 0.0, 0.0, 0.0, 0.0, 0.0, 0.0, 0.0, 0.0, 0.0, 0.0, 0.0, 0.0, 0.0, 0.0, 0.0], [0.0, 0.0, 0.0, 0.0, 0.0, 0.0, 0.0, 0.0, 0.0, 0.0, 0.0, 0.0, 0.0, 0.0, 0.0, 0.0, 0.0, 0.0, 0.0, 0.0, 0.0, 0.0, 0.0, 0.0, 0.0, 0.0, 0.0, 0.0, 0.0, 0.0], [0.0, 0.0, 0.0, 0.0, 0.0, 0.0, 0.0, 0.0, 0.0, 0.0, 0.0, 0.0, 0.0, 0.0, 0.0, 0.0, 0.0, 0.0, 0.0, 0.0, 0.0, 0.0, 0.0, 0.0, 0.0, 0.0, 0.0, 0.0, 0.0, 0.0], [0.0012773871421813965, -0.0002847188152372837, -0.00045406678691506386, -0.0007843421772122383, -0.0021270266734063625, -0.0010793553665280342, 0.0034521627239882946, 0.0, 0.0, 0.0, 0.0, 0.0, 0.0, 0.0, 0.0, 0.0, 0.0, 0.0, 0.0, 0.0, 0.0, 0.0, 0.0, 0.0, 0.0, 0.0, 0.0, 0.0, 0.0, 0.0], [-0.008883535861968994, 0.0023539764806628227, 2.783350646495819e-05, -0.00013142544776201248, 0.008612465113401413, -0.004153851419687271, 0.001228840439580381, 0.0009456798434257507, 0.0, 0.0, 0.0, 0.0, 0.0, 0.0, 0.0, 0.0, 0.0, 0.0, 0.0, 0.0, 0.0, 0.0, 0.0, 0.0, 0.0, 0.0, 0.0, 0.0, 0.0, 0.0], [0.057823121547698975, 0.000339726684615016, -0.00111698592081666, 0.0015877846162766218, 0.005257744342088699, -0.06738997995853424, 0.0025111869908869267, -0.0029262069147080183, 0.003913631662726402, 0.0, 0.0, 0.0, 0.0, 0.0, 0.0, 0.0, 0.0, 0.0, 0.0, 0.0, 0.0, 0.0, 0.0, 0.0, 0.0, 0.0, 0.0, 0.0, 0.0, 0.0], [0.03243613243103027, 0.00023174891248345375, -0.001092434860765934, -0.0009151238482445478, 0.0018282486125826836, -0.015828676521778107, -0.0003982845228165388, -0.0032480526715517044, -0.0038184989243745804, -0.00919518992304802, 0.0, 0.0, 0.0, 0.0, 0.0, 0.0, 0.0, 0.0, 0.0, 0.0, 0.0, 0.0, 0.0, 0.0, 0.0, 0.0, 0.0, 0.0, 0.0, 0.0], [0.1683042049407959, -0.01509452797472477, 0.005958454683423042, 0.0027313241735100746, -0.01182333379983902, -0.049893759191036224, 0.0005798602942377329, -0.025325823575258255, -0.04272836446762085, -0.008199470117688179, -0.024508485570549965, 0.0, 0.0, 0.0, 0.0, 0.0, 0.0, 0.0, 0.0, 0.0, 0.0, 0.0, 0.0, 0.0, 0.0, 0.0, 0.0, 0.0, 0.0, 0.0], [0.0010582208633422852, -0.0016896396409720182, 0.0007805274799466133, 0.00014425604604184628, 0.003937470726668835, -0.008988337591290474, -0.0030345693230628967, 0.0013225143775343895, 0.002308066003024578, 0.004449576139450073, 0.0006354600191116333, -0.000923648476600647, 0.0, 0.0, 0.0, 0.0, 0.0, 0.0, 0.0, 0.0, 0.0, 0.0, 0.0, 0.0, 0.0, 0.0, 0.0, 0.0, 0.0, 0.0], [0.10640376806259155, -0.0028416288550943136, -0.0012504439800977707, -0.0031041856855154037, -0.01727311685681343, -0.03149084001779556, 0.001983094494789839, -0.003551302244886756, 0.0014616511762142181, 9.131059050559998e-05, -0.00496692955493927, -0.042414166033267975, -0.0030472399666905403, 0.0, 0.0, 0.0, 0.0, 0.0, 0.0, 0.0, 0.0, 0.0, 0.0, 0.0, 0.0, 0.0, 0.0, 0.0, 0.0, 0.0], [-0.00878077745437622, 0.0006939753657206893, 0.00034188025165349245, -1.5291152521967888e-06, 0.00251715793274343, -0.0007601268589496613, 0.0017226962372660637, -0.004100744612514973, 0.0020597619004547596, 0.005141717381775379, 0.0017719808965921402, -0.0006770647596567869, -0.0005401354283094406, 0.0006112311966717243, 0.0, 0.0, 0.0, 0.0, 0.0, 0.0, 0.0, 0.0, 0.0, 0.0, 0.0, 0.0, 0.0, 0.0, 0.0, 0.0], [0.016391754150390625, -0.0010703682200983167, 9.356415830552578e-05, -0.0009273448958992958, -0.0037598134949803352, -0.006532211322337389, 0.0017471648752689362, -0.002668531611561775, 0.00902541447430849, -6.243912503123283e-05, -0.0029889072757214308, -0.002405238337814808, -0.002036635298281908, -0.001038404181599617, -0.0037679276429116726, 0.0, 0.0, 0.0, 0.0, 0.0, 0.0, 0.0, 0.0, 0.0, 0.0, 0.0, 0.0, 0.0, 0.0, 0.0], [0.09826129674911499, -0.0018723541870713234, -0.00016649009194225073, -0.0005892876069992781, -0.0022007147781550884, -0.00608226889744401, -0.0018946105847135186, -0.006818376015871763, -0.003686371259391308, -0.012628985568881035, -0.018065862357616425, -0.003024221630766988, -0.017258502542972565, -0.0002859337255358696, -0.020794078707695007, -0.00289341202005744, 0.0, 0.0, 0.0, 0.0, 0.0, 0.0, 0.0, 0.0, 0.0, 0.0, 0.0, 0.0, 0.0, 0.0], [0.04722839593887329, -0.0003368983743712306, -0.00029520480893552303, -0.0014042246621102095, -0.004110605455935001, -0.008038251660764217, 0.0007267931941896677, -0.0016969393473118544, -0.00010425923392176628, -0.0019445973448455334, -0.0028988029807806015, -0.006057328544557095, -0.0032780442852526903, -0.00423814170062542, -0.003797207958996296, -0.005398603621870279, -0.004356146790087223, 0.0, 0.0, 0.0, 0.0, 0.0, 0.0, 0.0, 0.0, 0.0, 0.0, 0.0, 0.0, 0.0], [0.037126362323760986, -0.0024508913047611713, -0.00029799737967550755, 3.891059895977378e-05, 7.793353870511055e-05, -0.00023533240891993046, -0.0011899522505700588, -0.0039917705580592155, 0.001537209376692772, 0.001968332566320896, -0.015455880202353, 0.0002668658271431923, -0.004216484725475311, 0.0016269137850031257, -0.0061273835599422455, -0.002052384428679943, -0.004155369475483894, -0.0024690169375389814, 0.0, 0.0, 0.0, 0.0, 0.0, 0.0, 0.0, 0.0, 0.0, 0.0, 0.0, 0.0], [0.00910884141921997, 0.0008506553713232279, -0.00010956008918583393, 0.0009147194214165211, 0.004057347774505615, -0.0022174641489982605, 0.0031553725712001324, 1.1721276678144932e-05, 0.0048376042395830154, 0.0006180074997246265, 0.00029551493935287, -0.008611579425632954, -1.7883721739053726e-05, -0.0023734974674880505, -0.0014364088419824839, -0.0011648181825876236, -0.0009881083387881517, -0.006712127476930618, -0.00021839002147316933, 0.0, 0.0, 0.0, 0.0, 0.0, 0.0, 0.0, 0.0, 0.0, 0.0, 0.0], [-0.015929341316223145, 0.0001066217664629221, 0.00039755518082529306, 0.0005899614770896733, 0.002756725996732712, 0.0003599247429519892, 0.0010175916831940413, 0.00018880702555179596, 0.0009741520043462515, 0.004265108611434698, 0.012691311538219452, 0.0016939674969762564, 0.003005889244377613, 0.0006556203588843346, -0.004490182735025883, -0.000206621247343719, -0.0022153109312057495, -0.0006925005000084639, -0.007087455131113529, 0.0019181659445166588, 0.0, 0.0, 0.0, 0.0, 0.0, 0.0, 0.0, 0.0, 0.0, 0.0], [0.007126986980438232, 0.00038241571746766567, 0.0005148622440174222, 0.00042500486597418785, 0.0019253096543252468, -0.0018263610545545816, 0.0010489197447896004, -0.00020120787667110562, 0.003715734463185072, 0.0010855492437258363, 0.0004585633287206292, -7.613934576511383e-05, 0.00036638043820858, -0.0021276967599987984, -0.0005234705749899149, -0.002079768106341362, -0.0006482189055532217, -0.006108465604484081, -0.00047919503413140774, -0.002658409997820854, -0.0003206213004887104, 0.0, 0.0, 0.0, 0.0, 0.0, 0.0, 0.0, 0.0, 0.0], [0.038491010665893555, 0.0013970080763101578, -0.0006551099941134453, 0.0003247014246881008, 0.00024872738867998123, -0.0006236457265913486, 0.00012778514064848423, -0.002203370677307248, 3.383541479706764e-05, -0.0015194127336144447, -0.003725552000105381, -0.0008439968805760145, -0.005935856141149998, -0.000980001874268055, -0.008162835612893105, -0.0010647603776305914, -0.003261174773797393, -0.0011098127579316497, -0.005115981213748455, -0.0010870636906474829, -0.002961002057418227, -0.0013735976535826921, 0.0, 0.0, 0.0, 0.0, 0.0, 0.0, 0.0, 0.0], [0.0223197340965271, 0.00037054880522191525, 0.00018243910744786263, 0.00016054324805736542, -0.0031674569472670555, -0.0017273114062845707, -0.0006696137133985758, -0.0001923691015690565, 0.0011402089148759842, 0.0010284134186804295, 0.001458117039874196, -0.0021181991323828697, 0.0009280834347009659, -0.004960244055837393, 4.2747706174850464e-05, 0.0008601965382695198, 0.0004940351936966181, -0.002755332738161087, 0.0009097573347389698, -0.0005075279623270035, 0.0008752400754019618, -0.014057302847504616, -0.000614810036495328, 0.0, 0.0, 0.0, 0.0, 0.0, 0.0, 0.0], [0.041789710521698, -0.0002901861444115639, 0.0005213674157857895, 0.00034312158823013306, -0.005718018859624863, -0.0020458376966416836, -0.0004613855853676796, -0.00044434936717152596, -0.0023738285526633263, -5.804374814033508e-05, 0.0011976577807217836, -0.0035760067403316498, 0.0006725431885570288, -0.008335163816809654, -0.00021326076239347458, -0.0009983270429074764, -5.3874216973781586e-05, -0.0043191793374717236, 0.0002956727985292673, -0.006742950528860092, 0.0003373464569449425, -0.00821154098957777, -0.0004937828052788973, -0.0008217142894864082, 0.0, 0.0, 0.0, 0.0, 0.0, 0.0], [-9.500980377197266e-05, 0.00037699751555919647, -0.00030293152667582035, 0.000950393034145236, 0.0007483367808163166, 0.0014360942877829075, -0.003447809722274542, -0.00022205151617527008, -0.0008840480586513877, 0.00014688586816191673, 0.0031992150470614433, -0.0005817525088787079, 0.0014183400198817253, -0.000283154658973217, -0.0007648072205483913, -0.0007689691847190261, -0.0007229163311421871, 9.516219142824411e-05, -0.0010161949321627617, -0.00010847090743482113, -0.00010676449164748192, -0.0008221206371672451, -0.00015577836893498898, 0.0015413782093673944, 0.0003699569497257471, 0.0, 0.0, 0.0, 0.0, 0.0], [0.0024799108505249023, 0.000283755362033844, -0.0016833506524562836, 0.00042804889380931854, 0.0028172042220830917, -0.003943413496017456, 0.001380937173962593, -0.0004593897610902786, -0.00048344710376113653, 5.976238753646612e-06, -0.0006431881338357925, -0.00010539419599808753, -0.00026649690698832273, -1.701635483186692e-06, -0.00024364679120481014, -9.03029867913574e-05, -0.0004685991443693638, 0.00032222995650954545, 0.0003584176301956177, 8.47847550176084e-05, -0.00024170696269720793, -0.0001124914560932666, -5.289405817165971e-05, -5.1621231250464916e-05, 2.6508569135330617e-06, 0.0006837919354438782, 0.0, 0.0, 0.0, 0.0], [0.003612220287322998, 1.578708179295063e-06, -6.973370909690857e-05, 0.00026614475063979626, -0.0018621454946696758, -6.887642666697502e-05, -8.166744373738766e-05, -0.0004880349151790142, 6.85686245560646e-08, 0.0002480560797266662, -0.0005305128870531917, -1.2839875125791878e-05, -0.00012991504627279937, 3.221197403036058e-06, -0.00023194114328362048, -2.9479298973456025e-05, -3.090759855695069e-05, 6.239939102670178e-05, 0.00020553737704176456, 8.380092913284898e-05, -6.302580004557967e-06, -2.829739241860807e-05, 4.5351669541560113e-05, 0.00013726067845709622, 2.2242784325499088e-06, -0.0009020254947245121, -0.00019527837866917253, 0.0, 0.0, 0.0], [-0.012817144393920898, 0.00014780822675675154, 0.0004855674924328923, 0.0012421361170709133, 0.006669564172625542, 0.0010407902300357819, 2.1606683731079102e-07, 0.00037027220241725445, 0.00041311606764793396, 0.0011893493356183171, 5.645611963700503e-05, -0.00012524629710242152, 7.670234481338412e-05, 0.000174457993125543, 3.660951915662736e-05, -7.575494237244129e-06, 4.043318040203303e-05, 0.0006704147672280669, 0.00014587538316845894, 0.00034448422957211733, 1.810064713936299e-05, 5.700974725186825e-06, 2.807593409670517e-05, 9.42147453315556e-05, 9.285673149861395e-05, -0.0002663878258317709, -0.00020897795911878347, 8.219992741942406e-05, 0.0, 0.0], [-0.03224039077758789, 0.00037962361238896847, 0.00043452740646898746, 0.0008209585212171078, 0.026698991656303406, 0.0037611033767461777, -0.0005312778521329165, 0.0004176190122961998, -0.0002359701320528984, 0.0006841307040303946, 4.772872489411384e-05, -0.0004134494229219854, 5.1965194870717824e-05, 4.853769496548921e-06, 2.4193344870582223e-05, -7.515451579820365e-05, 5.9528116253204644e-05, 0.0003161929198540747, 0.00024762735120020807, 5.187673377804458e-05, 2.923452848335728e-05, -0.00012329759192653, 2.3146374587668106e-05, 4.03833546442911e-05, 1.786799111869186e-05, -5.886424332857132e-05, -0.0004634925862774253, 0.0006547356024384499, -0.0006245709955692291, 0.0], [0.010319769382476807, -0.0006310384487733245, -0.0013598987134173512, -0.00063083425629884, 0.004490787163376808, -4.6890112571418285e-05, -7.43178534321487e-05, -0.0016199242090806365, 0.00013223686255514622, 0.0008172467350959778, -0.0002361960941925645, -0.00022692576749250293, -0.0002513009821996093, -7.116628694348037e-05, -0.000475535198347643, -0.000162281037773937, -0.00030403747223317623, 0.00021646893583238125, 0.00011778116459026933, 0.00013051119458395988, 4.65966877527535e-06, -0.00031443446641787887, -0.0003599837946239859, -0.00021883274894207716, 3.0402952688746154e-05, -0.002200830727815628, -0.0004047699039801955, -0.003109212964773178, -0.002446975791826844, -0.0011145949829369783]], [[0.0, 0.0, 0.0, 0.0, 0.0, 0.0, 0.0, 0.0, 0.0, 0.0, 0.0, 0.0, 0.0, 0.0, 0.0, 0.0, 0.0, 0.0, 0.0, 0.0, 0.0, 0.0, 0.0, 0.0, 0.0, 0.0, 0.0, 0.0, 0.0, 0.0], [0.0, 0.0, 0.0, 0.0, 0.0, 0.0, 0.0, 0.0, 0.0, 0.0, 0.0, 0.0, 0.0, 0.0, 0.0, 0.0, 0.0, 0.0, 0.0, 0.0, 0.0, 0.0, 0.0, 0.0, 0.0, 0.0, 0.0, 0.0, 0.0, 0.0], [0.0, 0.0, 0.0, 0.0, 0.0, 0.0, 0.0, 0.0, 0.0, 0.0, 0.0, 0.0, 0.0, 0.0, 0.0, 0.0, 0.0, 0.0, 0.0, 0.0, 0.0, 0.0, 0.0, 0.0, 0.0, 0.0, 0.0, 0.0, 0.0, 0.0], [0.0, 0.0, 0.0, 0.0, 0.0, 0.0, 0.0, 0.0, 0.0, 0.0, 0.0, 0.0, 0.0, 0.0, 0.0, 0.0, 0.0, 0.0, 0.0, 0.0, 0.0, 0.0, 0.0, 0.0, 0.0, 0.0, 0.0, 0.0, 0.0, 0.0], [0.0, 0.0, 0.0, 0.0, 0.0, 0.0, 0.0, 0.0, 0.0, 0.0, 0.0, 0.0, 0.0, 0.0, 0.0, 0.0, 0.0, 0.0, 0.0, 0.0, 0.0, 0.0, 0.0, 0.0, 0.0, 0.0, 0.0, 0.0, 0.0, 0.0], [0.0, 0.0, 0.0, 0.0, 0.0, 0.0, 0.0, 0.0, 0.0, 0.0, 0.0, 0.0, 0.0, 0.0, 0.0, 0.0, 0.0, 0.0, 0.0, 0.0, 0.0, 0.0, 0.0, 0.0, 0.0, 0.0, 0.0, 0.0, 0.0, 0.0], [0.0010747313499450684, 0.0010731341317296028, 0.013599174097180367, -0.001489364542067051, 0.00244147889316082, -0.006431320682168007, -0.010267823934555054, 0.0, 0.0, 0.0, 0.0, 0.0, 0.0, 0.0, 0.0, 0.0, 0.0, 0.0, 0.0, 0.0, 0.0, 0.0, 0.0, 0.0, 0.0, 0.0, 0.0, 0.0, 0.0, 0.0], [-0.01218503713607788, 0.0024820594117045403, 0.0006990060210227966, -0.0009242156520485878, 0.0038377046585083008, -0.0030933283269405365, 0.007661808282136917, 0.001521914266049862, 0.0, 0.0, 0.0, 0.0, 0.0, 0.0, 0.0, 0.0, 0.0, 0.0, 0.0, 0.0, 0.0, 0.0, 0.0, 0.0, 0.0, 0.0, 0.0, 0.0, 0.0, 0.0], [0.060683488845825195, -0.0008711810223758221, -0.0013978276401758194, -0.004381572362035513, -0.008393517695367336, -0.0049316175282001495, -0.02669755183160305, -0.0001431526616215706, -0.013867054134607315, 0.0, 0.0, 0.0, 0.0, 0.0, 0.0, 0.0, 0.0, 0.0, 0.0, 0.0, 0.0, 0.0, 0.0, 0.0, 0.0, 0.0, 0.0, 0.0, 0.0, 0.0], [0.026571273803710938, 0.00014691497199237347, 0.009684128686785698, 0.000958023127168417, 0.0009781057015061378, 0.003252975642681122, 0.0015634633600711823, -0.00281412061303854, -0.001277613453567028, -0.03906318545341492, 0.0, 0.0, 0.0, 0.0, 0.0, 0.0, 0.0, 0.0, 0.0, 0.0, 0.0, 0.0, 0.0, 0.0, 0.0, 0.0, 0.0, 0.0, 0.0, 0.0], [0.052986741065979004, 0.0008249646052718163, 0.01609308272600174, 0.0022362028248608112, -0.0013718213886022568, 0.013741355389356613, 0.001279689371585846, -0.004901782609522343, 0.008996561169624329, -0.08895382285118103, -0.0009310683235526085, 0.0, 0.0, 0.0, 0.0, 0.0, 0.0, 0.0, 0.0, 0.0, 0.0, 0.0, 0.0, 0.0, 0.0, 0.0, 0.0, 0.0, 0.0, 0.0], [0.018187522888183594, 0.0009460966102778912, -0.003992918878793716, -0.000969788059592247, 0.0017580408602952957, -0.004597621038556099, -0.00472075492143631, -0.00021010683849453926, 0.0030898917466402054, -0.0014279857277870178, 0.001041135285049677, -0.009103568270802498, 0.0, 0.0, 0.0, 0.0, 0.0, 0.0, 0.0, 0.0, 0.0, 0.0, 0.0, 0.0, 0.0, 0.0, 0.0, 0.0, 0.0, 0.0], [0.1847870945930481, 0.0015232975129038095, 0.009149357676506042, 0.0031287814490497112, -0.007508744485676289, -0.024602927267551422, -0.06716490536928177, -0.0013042809441685677, -0.00972781702876091, -0.01850191503763199, 0.0014243298210203648, -0.07652119547128677, 0.005318990908563137, 0.0, 0.0, 0.0, 0.0, 0.0, 0.0, 0.0, 0.0, 0.0, 0.0, 0.0, 0.0, 0.0, 0.0, 0.0, 0.0, 0.0], [0.06948655843734741, -0.00028515688609331846, -0.015987232327461243, -0.0023099330719560385, -0.0011533449869602919, -0.010018955916166306, -0.017353862524032593, -0.0032930055167526007, 0.0025407075881958008, -0.0072478922083973885, -0.00035460491199046373, -0.012435805052518845, 0.0004788979422301054, -0.0020662974566221237, 0.0, 0.0, 0.0, 0.0, 0.0, 0.0, 0.0, 0.0, 0.0, 0.0, 0.0, 0.0, 0.0, 0.0, 0.0, 0.0], [0.06143486499786377, 0.001080965157598257, -2.5112181901931763e-05, 0.0010111178271472454, -0.010141472332179546, -0.014957306906580925, -0.027728676795959473, -0.005585287697613239, 0.004132434725761414, 0.004519011825323105, 0.001655631698668003, -0.016423307359218597, 0.002851491328328848, -0.004858177155256271, 0.003033839166164398, 0.0, 0.0, 0.0, 0.0, 0.0, 0.0, 0.0, 0.0, 0.0, 0.0, 0.0, 0.0, 0.0, 0.0, 0.0], [0.0567358136177063, -0.00040080584585666656, -0.010123142972588539, -0.002213839441537857, -0.004291260614991188, -0.016084425151348114, -0.027921363711357117, -0.003219403326511383, 0.006112849339842796, -0.0006797099485993385, -0.0008777370676398277, -0.005788122303783894, 0.0005125058814883232, 0.0061658103950321674, 0.0020127082243561745, 6.02230429649353e-05, 0.0, 0.0, 0.0, 0.0, 0.0, 0.0, 0.0, 0.0, 0.0, 0.0, 0.0, 0.0, 0.0, 0.0], [0.21269488334655762, 0.00030482327565550804, -0.003034028224647045, -0.0013096011243760586, -0.013526011258363724, -0.01921597495675087, -0.04304192587733269, -0.005713250953704119, -0.0031134975142776966, -0.012183329090476036, -0.0013176959473639727, -0.021619398146867752, -0.0006082169711589813, -0.015834728255867958, -0.0005333628505468369, -0.07105474174022675, -0.0008938806131482124, 0.0, 0.0, 0.0, 0.0, 0.0, 0.0, 0.0, 0.0, 0.0, 0.0, 0.0, 0.0, 0.0], [-0.1702563762664795, 0.0025567286647856236, 0.00010509416460990906, 0.0015588951064273715, 0.00088698067702353, 0.0006585498340427876, 0.004938516765832901, 0.0031239481177181005, 0.005518332123756409, 0.0051045590080320835, 0.0017186597688123584, 0.004164372105151415, 0.007717028260231018, 0.006677488796412945, 0.011816509068012238, 0.01204976812005043, 0.014609639532864094, 0.0870513767004013, 0.0, 0.0, 0.0, 0.0, 0.0, 0.0, 0.0, 0.0, 0.0, 0.0, 0.0, 0.0], [-0.02836543321609497, 0.002968587214127183, 0.007779811508953571, 0.004972163587808609, 0.005000237375497818, -0.00041041523218154907, -0.0037358365952968597, 0.002949637360870838, 0.0036770515143871307, 0.001008165068924427, 0.0016346725169569254, -0.006353029981255531, 0.001806182786822319, -0.002720434218645096, 0.0028929258696734905, -0.016957957297563553, 0.004233422689139843, 0.006583221256732941, 0.013037072494626045, 0.0, 0.0, 0.0, 0.0, 0.0, 0.0, 0.0, 0.0, 0.0, 0.0, 0.0], [-0.02569955587387085, 0.00023891683667898178, -0.00734184542670846, -0.00037562043871730566, 0.00033182697370648384, -0.0011353371664881706, -0.0021401606500148773, 0.000946293817833066, 0.003915444016456604, 0.001693072379566729, 0.00038505159318447113, -0.0010702600702643394, 0.0009571142727509141, 0.001428689924068749, 0.0017290672985836864, 0.0010897708125412464, 0.002019694074988365, 0.007334668189287186, 0.002586508635431528, 0.013106778264045715, 0.0, 0.0, 0.0, 0.0, 0.0, 0.0, 0.0, 0.0, 0.0, 0.0], [-0.001739799976348877, 0.0003042379394173622, -0.002785678021609783, -0.00010435190051794052, -0.000419064424932003, -0.0021383855491876602, -0.005588896572589874, 0.001364679541438818, 0.003000071970745921, 0.00585121801123023, 0.0012121207546442747, -0.0046898843720555305, 0.0014436490600928664, -0.006139179691672325, 0.0020409859716892242, -0.015737978741526604, 0.0023499890230596066, 0.010898476466536522, 0.0063751982524991035, 0.0035070255398750305, 0.0009955144487321377, 0.0, 0.0, 0.0, 0.0, 0.0, 0.0, 0.0, 0.0, 0.0], [0.0024872422218322754, 8.36765393614769e-05, 0.00033995602279901505, 0.0001328146317973733, 0.00039910292252898216, 0.0007703856099396944, -0.0003275391645729542, 9.169918484985828e-05, 0.0016639619134366512, 0.0009411025093868375, -0.00039168400689959526, -0.0005871976027265191, 3.7571764551103115e-05, 0.0005307577084749937, 0.0003655397449620068, -0.001163644716143608, 0.00011630950029939413, 0.0007896639872342348, 0.0004862821660935879, 0.0020741040352731943, -0.00012672407319769263, -0.008713430725038052, 0.0, 0.0, 0.0, 0.0, 0.0, 0.0, 0.0, 0.0], [0.08473050594329834, 0.0005843662656843662, -0.0006478056311607361, 0.0022100997157394886, -0.0029036495834589005, -0.002563520334661007, -0.011795088648796082, 0.0005928780883550644, 0.0011789416894316673, -0.00861390121281147, 0.0003698701038956642, -0.0167374387383461, 0.0007759872823953629, -0.00771357212215662, 0.0013692600186914206, -0.022541256621479988, 0.0018507083877921104, 0.005287501960992813, 0.005407815799117088, 0.01603515073657036, 0.0017913777846843004, -0.049303844571113586, 0.000635374803096056, 0.0, 0.0, 0.0, 0.0, 0.0, 0.0, 0.0], [0.016486823558807373, 0.001266772160306573, 0.002218211069703102, 0.00338673684746027, -0.0010376498103141785, 0.0012210048735141754, -0.013484776020050049, 0.0008019283413887024, 0.0035715196281671524, -0.0007713865488767624, 0.0012076934799551964, -0.01789316162467003, 0.0014368095435202122, -0.00645905826240778, 0.0027004217263311148, -0.02346876636147499, 0.004243934527039528, 0.016086002811789513, 0.007436439860612154, 0.02893655002117157, 0.0029960647225379944, -0.04030141979455948, 0.002665774431079626, 0.006753342226147652, 0.0, 0.0, 0.0, 0.0, 0.0, 0.0], [0.021137773990631104, -0.00029729329980909824, -0.001412578858435154, 0.0004953369498252869, -0.004136179573833942, -0.00452636880800128, -0.015799857676029205, -5.827983841300011e-05, 0.001277200412005186, -0.0005177105776965618, -0.0008099648403003812, -0.0002837233478203416, 8.396129123866558e-05, 0.0009832708165049553, 0.0002281703636981547, -0.0004246181342750788, 8.134875679388642e-05, 0.001058389781974256, 0.0006024042959325016, 0.004242967814207077, -0.00011645193444564939, -0.002664950443431735, -5.3254072554409504e-05, -3.6397483199834824e-05, 0.0009467341005802155, 0.0, 0.0, 0.0, 0.0, 0.0], [0.0009558200836181641, 0.00159580004401505, -0.007345693185925484, -0.0032181506976485252, 0.00036481209099292755, -0.004804495722055435, -0.017428480088710785, -6.4103864133358e-05, -0.003025151789188385, -0.003416121006011963, 0.0009318701922893524, 0.008897032588720322, 0.014744298532605171, 0.006123255006968975, 0.012632759287953377, -0.007365343160927296, 0.005395832471549511, 0.009036283940076828, 0.006074870936572552, 0.014149335213005543, 0.00028784479945898056, -0.024289606139063835, -0.0011521149426698685, -0.00014068931341171265, -0.004508586600422859, -0.004431241191923618, 0.0, 0.0, 0.0, 0.0], [0.0699647068977356, 0.001117398263886571, 0.0005634303670376539, -0.00023045064881443977, -0.003057430498301983, -0.0018702768720686436, -0.018109530210494995, -0.002279432490468025, -0.00224443431943655, 0.005436448380351067, -0.001070227473974228, 0.0033101998269557953, 0.001946837641298771, 0.004882181994616985, 0.0015868886839598417, 4.9481168389320374e-05, 0.001194630516692996, 0.0035955505445599556, 0.0006268409779295325, 0.0053880661725997925, 8.650997187942266e-05, -0.045679256319999695, -0.0015355342766270041, -0.004020329564809799, -0.012631312943994999, -0.004178409464657307, -0.0028425510972738266, 0.0, 0.0, 0.0], [-0.015003398060798645, 0.0015083947218954563, 0.004414659459143877, 0.0001091415761038661, 0.002396918833255768, 0.00205254927277565, 0.000779278576374054, -0.0008059926331043243, -0.0023860111832618713, 0.015864230692386627, -0.002077242825180292, 0.08958053588867188, 0.003132002428174019, 0.014758225530385971, 0.001430087722837925, 0.034078944474458694, 0.004287037067115307, 0.04478826746344566, 0.004327846225351095, 0.04996630176901817, 3.0970899388194084e-05, -0.2062944918870926, -0.0011645723134279251, -0.0015786564908921719, -0.04712274298071861, -0.004086696542799473, 0.0050264038145542145, 0.0019881101325154305, 0.0, 0.0], [0.007967323064804077, 0.0021650372073054314, 0.006198039744049311, 0.0006932081887498498, 0.0028684940189123154, 0.002342493738979101, -0.0018600020557641983, 0.0004248949699103832, -0.001405445858836174, -0.017172612249851227, -0.0030443966388702393, 0.037926118820905685, 0.010423115454614162, 0.012957511469721794, 0.005609358660876751, 0.018761979416012764, 0.010937001556158066, 0.016518114134669304, 0.009097708389163017, 0.045995987951755524, 0.0027579418383538723, -0.14915984869003296, 7.351860404014587e-06, 7.739383727312088e-05, -0.03365689516067505, -0.00453589204698801, 0.011071499437093735, 0.005144411697983742, 0.0008901492692530155, 0.0], [-0.13503700494766235, 0.0016989584546536207, 0.0010819816961884499, 1.3039913028478622e-05, 0.003910331521183252, 0.0018161998596042395, -0.00020797830075025558, 0.0014569747727364302, 0.0053803282789886, 0.015850145369768143, 0.0004498520866036415, 0.010623195208609104, 0.0015440683346241713, 0.0057631973177194595, 0.0008829481666907668, 0.005286139901727438, 0.0011254099663347006, 0.012926626950502396, 0.0018235841998830438, 0.007953044027090073, 0.000542712165042758, -0.0030460762791335583, 0.00038913777098059654, 0.0006678400095552206, 0.003184468485414982, -0.00048704317305237055, 0.006762918084859848, 0.0015572995180264115, 0.0004817582666873932, 0.045605964958667755]], [[0.0, 0.0, 0.0, 0.0, 0.0, 0.0, 0.0, 0.0, 0.0, 0.0, 0.0, 0.0, 0.0, 0.0, 0.0, 0.0, 0.0, 0.0, 0.0, 0.0, 0.0, 0.0, 0.0, 0.0, 0.0, 0.0, 0.0, 0.0, 0.0, 0.0], [0.0, 0.0, 0.0, 0.0, 0.0, 0.0, 0.0, 0.0, 0.0, 0.0, 0.0, 0.0, 0.0, 0.0, 0.0, 0.0, 0.0, 0.0, 0.0, 0.0, 0.0, 0.0, 0.0, 0.0, 0.0, 0.0, 0.0, 0.0, 0.0, 0.0], [0.0, 0.0, 0.0, 0.0, 0.0, 0.0, 0.0, 0.0, 0.0, 0.0, 0.0, 0.0, 0.0, 0.0, 0.0, 0.0, 0.0, 0.0, 0.0, 0.0, 0.0, 0.0, 0.0, 0.0, 0.0, 0.0, 0.0, 0.0, 0.0, 0.0], [0.0, 0.0, 0.0, 0.0, 0.0, 0.0, 0.0, 0.0, 0.0, 0.0, 0.0, 0.0, 0.0, 0.0, 0.0, 0.0, 0.0, 0.0, 0.0, 0.0, 0.0, 0.0, 0.0, 0.0, 0.0, 0.0, 0.0, 0.0, 0.0, 0.0], [0.0, 0.0, 0.0, 0.0, 0.0, 0.0, 0.0, 0.0, 0.0, 0.0, 0.0, 0.0, 0.0, 0.0, 0.0, 0.0, 0.0, 0.0, 0.0, 0.0, 0.0, 0.0, 0.0, 0.0, 0.0, 0.0, 0.0, 0.0, 0.0, 0.0], [0.0, 0.0, 0.0, 0.0, 0.0, 0.0, 0.0, 0.0, 0.0, 0.0, 0.0, 0.0, 0.0, 0.0, 0.0, 0.0, 0.0, 0.0, 0.0, 0.0, 0.0, 0.0, 0.0, 0.0, 0.0, 0.0, 0.0, 0.0, 0.0, 0.0], [-0.10195162892341614, -0.009943637996912003, 0.0035206004977226257, 0.02054072916507721, 0.009525250643491745, 0.044446393847465515, 0.03386223688721657, 0.0, 0.0, 0.0, 0.0, 0.0, 0.0, 0.0, 0.0, 0.0, 0.0, 0.0, 0.0, 0.0, 0.0, 0.0, 0.0, 0.0, 0.0, 0.0, 0.0, 0.0, 0.0, 0.0], [-0.034897953271865845, 0.0022506611421704292, 0.0034564808011054993, 0.004320260137319565, 0.0059065669775009155, -9.262561798095703e-05, 0.01552535593509674, 0.0035312771797180176, 0.0, 0.0, 0.0, 0.0, 0.0, 0.0, 0.0, 0.0, 0.0, 0.0, 0.0, 0.0, 0.0, 0.0, 0.0, 0.0, 0.0, 0.0, 0.0, 0.0, 0.0, 0.0], [0.0023053139448165894, 0.0008809713181108236, -0.0034857476130127907, -7.374025881290436e-05, 0.00048095034435391426, -0.0015091411769390106, -0.0008591227233409882, -0.05385094881057739, 0.05611154064536095, 0.0, 0.0, 0.0, 0.0, 0.0, 0.0, 0.0, 0.0, 0.0, 0.0, 0.0, 0.0, 0.0, 0.0, 0.0, 0.0, 0.0, 0.0, 0.0, 0.0, 0.0], [-0.07370246946811676, -0.0012245912803336978, -0.012960420921444893, -0.002449089428409934, -0.0013971825828775764, -0.004334859549999237, -0.004093157593160868, 0.04460495710372925, 0.05240628868341446, 0.0031504258513450623, 0.0, 0.0, 0.0, 0.0, 0.0, 0.0, 0.0, 0.0, 0.0, 0.0, 0.0, 0.0, 0.0, 0.0, 0.0, 0.0, 0.0, 0.0, 0.0, 0.0], [0.05991341918706894, 3.549223765730858e-05, -0.005598199088126421, -0.00062494573649019, 0.00010537216439843178, 0.0005032422486692667, 0.001023927703499794, 0.11111977696418762, -0.04358517378568649, -0.13801205158233643, 0.015119194984436035, 0.0, 0.0, 0.0, 0.0, 0.0, 0.0, 0.0, 0.0, 0.0, 0.0, 0.0, 0.0, 0.0, 0.0, 0.0, 0.0, 0.0, 0.0, 0.0], [-0.0979715883731842, 0.0006111263064667583, 0.00020201923325657845, 0.0006764903664588928, 0.0006689191795885563, 0.0004122925456613302, -0.0021736512426286936, 0.02001282572746277, 0.002939663827419281, 0.0038044024258852005, 0.07097262144088745, -0.0001550912857055664, 0.0, 0.0, 0.0, 0.0, 0.0, 0.0, 0.0, 0.0, 0.0, 0.0, 0.0, 0.0, 0.0, 0.0, 0.0, 0.0, 0.0, 0.0], [0.02105465531349182, 0.00044943438842892647, 0.0007652165368199348, -0.00010362756438553333, 7.522024679929018e-05, 0.00046510016545653343, -0.002813289873301983, 0.03345105051994324, -0.0009217709302902222, -0.04313571751117706, -0.011879704892635345, -0.02679741382598877, 0.029390916228294373, 0.0, 0.0, 0.0, 0.0, 0.0, 0.0, 0.0, 0.0, 0.0, 0.0, 0.0, 0.0, 0.0, 0.0, 0.0, 0.0, 0.0], [-0.03134061396121979, 6.160233169794083e-05, -0.004184365272521973, -0.0005917958915233612, 0.0005288507090881467, -0.0018610239494591951, -0.010817117989063263, -0.027780890464782715, 0.0007552430033683777, -0.022769993171095848, 0.044683001935482025, -0.01205931231379509, 0.04702883958816528, 0.018347540870308876, 0.0, 0.0, 0.0, 0.0, 0.0, 0.0, 0.0, 0.0, 0.0, 0.0, 0.0, 0.0, 0.0, 0.0, 0.0, 0.0], [-0.011949010193347931, 0.0006186641985550523, 0.0020810645073652267, 0.0007295027608051896, 9.713444160297513e-05, 3.557000309228897e-05, -0.0016677575185894966, -0.014741785824298859, -0.010686993598937988, -0.05536255985498428, 0.005704365670681, -0.0649360716342926, 0.01890629157423973, 0.10408632457256317, 0.027085386216640472, 0.0, 0.0, 0.0, 0.0, 0.0, 0.0, 0.0, 0.0, 0.0, 0.0, 0.0, 0.0, 0.0, 0.0, 0.0], [0.13570699095726013, 0.0009687666315585375, 0.0012396159581840038, 0.0005563640734180808, 0.0005149800563231111, 1.890124985948205e-05, -0.0016077712643891573, -0.21030420064926147, -0.0034180418588221073, -0.007586403749883175, 0.029798485338687897, -0.006151406094431877, 0.007017631083726883, 0.007467811927199364, 0.03402145579457283, 0.011756770312786102, 0.0, 0.0, 0.0, 0.0, 0.0, 0.0, 0.0, 0.0, 0.0, 0.0, 0.0, 0.0, 0.0, 0.0], [-0.04244094341993332, 0.00024862209102138877, -3.235554322600365e-05, 0.00041211931966245174, -1.9298633560538292e-05, -0.0005525886081159115, -0.003149744588881731, -0.015489183366298676, -0.008616268634796143, -0.057705238461494446, 0.016127657145261765, -0.07036308944225311, 0.028155939653515816, 0.033972129225730896, 0.03543580695986748, 0.06449401378631592, 0.01952248066663742, 0.0, 0.0, 0.0, 0.0, 0.0, 0.0, 0.0, 0.0, 0.0, 0.0, 0.0, 0.0, 0.0], [0.06335479021072388, 0.0008070103358477354, 0.0022873294074088335, 0.001495951903052628, 0.0003582010976970196, 0.0011665031779557467, 0.00023180106654763222, -0.3460733890533447, 0.006848464719951153, 0.0013362439349293709, 0.02532341331243515, 0.005736187100410461, 0.03915585204958916, 0.03205011785030365, 0.06634870916604996, 0.028263235464692116, 0.0692729726433754, 0.0020365342497825623, 0.0, 0.0, 0.0, 0.0, 0.0, 0.0, 0.0, 0.0, 0.0, 0.0, 0.0, 0.0], [-0.009151637554168701, 0.0005422511603683233, 0.004181569442152977, 0.0012139787431806326, 0.0004752283566631377, 0.0010864429641515017, 0.0023529776372015476, 0.02096715196967125, 0.019541963934898376, -0.014857016503810883, 0.04124075919389725, -0.02328713983297348, 0.03460059314966202, 0.060869403183460236, 0.036215536296367645, 0.0558604896068573, 0.025746146216988564, -0.28396645188331604, 0.026367712765932083, 0.0, 0.0, 0.0, 0.0, 0.0, 0.0, 0.0, 0.0, 0.0, 0.0, 0.0], [-0.006749570369720459, -0.0006369114853441715, 0.00021534785628318787, -0.0003686585696414113, 0.00028706679586321115, 7.490121060982347e-05, -0.0002628709189593792, -0.0719304084777832, -0.0010292045772075653, -0.002644442953169346, 0.016189049929380417, -0.006317301653325558, 0.008574228733778, 0.0009377570822834969, 0.014093726873397827, 0.006221498362720013, 0.010401878505945206, -0.003870180808007717, 0.03662244230508804, 0.0001917760819196701, 0.0, 0.0, 0.0, 0.0, 0.0, 0.0, 0.0, 0.0, 0.0, 0.0], [0.0011936277151107788, 0.00034767098259180784, 0.0009582890197634697, 0.00019676308147609234, -1.6113801393657923e-05, 3.943219780921936e-05, -0.0011852551251649857, 0.00679146870970726, 0.005556265823543072, -0.021819040179252625, 0.027258215472102165, -0.013257712125778198, 0.027857251465320587, 0.026914402842521667, 0.03404281660914421, 0.028141453862190247, 0.024688061326742172, -0.19707828760147095, 0.033250585198402405, -0.023434191942214966, 0.03955427557229996, 0.0, 0.0, 0.0, 0.0, 0.0, 0.0, 0.0, 0.0, 0.0], [-0.04964366555213928, -0.0004093940369784832, 0.0014094063080847263, -0.0005120688583701849, -9.338697418570518e-05, -0.0005424859700724483, 0.0004779933951795101, 0.012754976749420166, -4.734937101602554e-05, -0.0015877005644142628, 0.0037888940423727036, -0.0016269674524664879, 0.004456236958503723, 0.0018543503247201443, 0.008592905476689339, 0.0014274490531533957, 0.001647135242819786, -0.004039722494781017, 0.014780338853597641, 0.004444874823093414, 0.00654090940952301, -0.003672718070447445, 0.0, 0.0, 0.0, 0.0, 0.0, 0.0, 0.0, 0.0], [0.00739482045173645, 0.0002703016216401011, 0.0019287862814962864, 0.0006645425455644727, 9.494999540038407e-05, 0.00044976326171308756, 0.0008813687600195408, 0.0163371954113245, 0.006977628916501999, -0.0020951777696609497, 0.018582958728075027, -0.015208553522825241, 0.017231334000825882, 0.030946915969252586, 0.021669846028089523, 0.026333972811698914, 0.01225680485367775, -0.10928040742874146, 0.013852095231413841, 0.011140614748001099, 0.02271626517176628, -0.08829234540462494, 0.00514625757932663, 0.0, 0.0, 0.0, 0.0, 0.0, 0.0, 0.0], [-0.005657456815242767, 0.00033623003400862217, 0.0027157748118042946, 0.000954911345615983, 0.00013020605547353625, 0.0009306853171437979, 0.0005809087306261063, -0.006939344108104706, 0.0009767054580152035, -0.0060406215488910675, 0.0006464254111051559, 0.0031035616993904114, 0.005851563066244125, 0.016086455434560776, 0.01690792292356491, 0.01920110546052456, 0.005929838865995407, -0.041707590222358704, 0.011203445494174957, 0.01302947849035263, 0.024681322276592255, -0.06517603248357773, -0.00432712584733963, 0.006581589579582214, 0.0, 0.0, 0.0, 0.0, 0.0, 0.0], [0.12493645399808884, -0.0009842310100793839, 0.0014361380599439144, 0.0006528785452246666, -9.420537389814854e-05, -0.0002630283124744892, 0.0014561652205884457, -0.2705555856227875, -0.0005839234218001366, -0.003861027769744396, 0.006087781861424446, -0.001136384904384613, 0.00930162612348795, 0.004987517837435007, 0.012260155752301216, 0.004876874387264252, 0.012703847140073776, 0.0031431824900209904, 0.019815601408481598, 0.005195173434913158, 0.018872328102588654, -0.0026355264708399773, 0.01773134246468544, 0.037169162184000015, -0.0005122758448123932, 0.0, 0.0, 0.0, 0.0, 0.0], [0.014041543006896973, -0.012852907180786133, 0.0006650574505329132, 0.004938503727316856, 0.0038512125611305237, 0.0013661067932844162, 0.019681120291352272, -1.0340241715312004e-05, -3.7752542993985116e-05, 0.00016154453624039888, 0.00019689509645104408, 0.00046897484571672976, 9.286639397032559e-05, 0.00011866999557241797, 8.163995516952127e-05, 0.0002464784774929285, 5.2780305850319564e-05, 0.00030503643210977316, 5.736527964472771e-05, 0.0004842424241360277, 9.795193909667432e-05, -0.00012536009307950735, 7.501626532757655e-05, 0.00019148389401379973, -0.0002857337531168014, -0.0338626503944397, 0.0, 0.0, 0.0, 0.0], [0.010793328285217285, 0.001198270358145237, -0.00046749692410230637, 0.0005479240790009499, 0.0005449913442134857, -0.00044032977893948555, 0.004060788080096245, -9.394879452884197e-05, 6.811376078985631e-05, 0.00010306679178029299, 0.00029662466840818524, 0.00011413657921366394, 0.0001452596188755706, -3.371454658918083e-05, 0.00016682472778484225, 2.213026164099574e-05, 9.251682786270976e-05, -0.0003652328159660101, 0.0002952210488729179, -1.5303317923098803e-05, 0.00019213760970160365, -0.00037449225783348083, -4.9979949835687876e-05, 2.055946970358491e-05, -0.0024827197194099426, 0.006053656339645386, -0.020392373204231262, 0.0, 0.0, 0.0], [-0.01494733989238739, -0.002760564908385277, 0.0010626036673784256, -0.00013317563571035862, -4.2323488742113113e-05, -0.0002803187817335129, 0.007240660488605499, -0.0001250128261744976, 0.0001591989421285689, 0.00023272470571100712, 0.00024364434648305178, 0.0004037510370835662, 0.0002136891707777977, -6.052735261619091e-05, 0.00020216719713062048, 0.00014335173182189465, 9.164674702333286e-05, -0.00019884563516825438, 0.00011549620830919594, 2.4553737603127956e-05, 0.00024350854801014066, 6.233720341697335e-05, 4.942301893606782e-05, 8.074619108811021e-05, -0.0019932440482079983, -0.026661962270736694, -0.00469498336315155, 0.0413287878036499, 0.0, 0.0], [-0.017264068126678467, -0.0009275949560105801, 0.0012329770252108574, 2.952880458906293e-05, -7.792009273543954e-05, 0.00010143528925254941, -0.0009579714387655258, -9.23207844607532e-05, 8.109278860501945e-05, 3.818189725279808e-05, 0.00042455585207790136, 8.588249329477549e-05, 0.000576079823076725, -2.9142480343580246e-05, 0.0007241404964588583, -0.00014108832692727447, 0.0005301179480738938, 0.00019642303232103586, 0.0007872176356613636, 0.0006069217342883348, 0.0010858027962967753, -0.00018014980014413595, 0.0004335663979873061, 0.000556445331312716, -0.0019546994008123875, 0.006738811731338501, -0.03495614230632782, 0.04229778051376343, 5.4195523262023926e-05, 0.0], [-0.08971846103668213, -0.0064405216835439205, -0.000874206074513495, 0.00012863241136074066, -0.0003394920495338738, -2.7092290110886097e-05, -0.0035544480197131634, -0.0016892533749341965, 4.200486728223041e-05, -7.680500857532024e-08, -7.859282777644694e-05, -2.703157952055335e-05, 0.00012628860713448375, 1.45067970152013e-05, 0.0002532422367949039, 2.9495902708731592e-05, 0.00026516709476709366, 0.00026946153957396746, 0.000546381575986743, 0.0002210814564023167, 0.0004898973274976015, 0.0002625926281325519, 0.0004840033361688256, 0.0010567873250693083, 7.44842691347003e-05, -0.052344050258398056, -0.013223737478256226, 0.04881495237350464, 0.08933104574680328, 0.02590695023536682]], [[0.0, 0.0, 0.0, 0.0, 0.0, 0.0, 0.0, 0.0, 0.0, 0.0, 0.0, 0.0, 0.0, 0.0, 0.0, 0.0, 0.0, 0.0, 0.0, 0.0, 0.0, 0.0, 0.0, 0.0, 0.0, 0.0, 0.0, 0.0, 0.0, 0.0], [0.0, 0.0, 0.0, 0.0, 0.0, 0.0, 0.0, 0.0, 0.0, 0.0, 0.0, 0.0, 0.0, 0.0, 0.0, 0.0, 0.0, 0.0, 0.0, 0.0, 0.0, 0.0, 0.0, 0.0, 0.0, 0.0, 0.0, 0.0, 0.0, 0.0], [0.0, 0.0, 0.0, 0.0, 0.0, 0.0, 0.0, 0.0, 0.0, 0.0, 0.0, 0.0, 0.0, 0.0, 0.0, 0.0, 0.0, 0.0, 0.0, 0.0, 0.0, 0.0, 0.0, 0.0, 0.0, 0.0, 0.0, 0.0, 0.0, 0.0], [0.0, 0.0, 0.0, 0.0, 0.0, 0.0, 0.0, 0.0, 0.0, 0.0, 0.0, 0.0, 0.0, 0.0, 0.0, 0.0, 0.0, 0.0, 0.0, 0.0, 0.0, 0.0, 0.0, 0.0, 0.0, 0.0, 0.0, 0.0, 0.0, 0.0], [0.0, 0.0, 0.0, 0.0, 0.0, 0.0, 0.0, 0.0, 0.0, 0.0, 0.0, 0.0, 0.0, 0.0, 0.0, 0.0, 0.0, 0.0, 0.0, 0.0, 0.0, 0.0, 0.0, 0.0, 0.0, 0.0, 0.0, 0.0, 0.0, 0.0], [0.0, 0.0, 0.0, 0.0, 0.0, 0.0, 0.0, 0.0, 0.0, 0.0, 0.0, 0.0, 0.0, 0.0, 0.0, 0.0, 0.0, 0.0, 0.0, 0.0, 0.0, 0.0, 0.0, 0.0, 0.0, 0.0, 0.0, 0.0, 0.0, 0.0], [-0.0027549266815185547, -0.0020995887462049723, -0.003920013550668955, -0.0012307926081120968, 0.0016565320547670126, 0.0024461867287755013, 0.005902684293687344, 0.0, 0.0, 0.0, 0.0, 0.0, 0.0, 0.0, 0.0, 0.0, 0.0, 0.0, 0.0, 0.0, 0.0, 0.0, 0.0, 0.0, 0.0, 0.0, 0.0, 0.0, 0.0, 0.0], [-0.0009812712669372559, 0.0012277564965188503, -0.000609284732490778, 0.0001016734167933464, 0.0010478761978447437, 0.0009411647915840149, -0.0017951270565390587, 6.717536598443985e-05, 0.0, 0.0, 0.0, 0.0, 0.0, 0.0, 0.0, 0.0, 0.0, 0.0, 0.0, 0.0, 0.0, 0.0, 0.0, 0.0, 0.0, 0.0, 0.0, 0.0, 0.0, 0.0], [0.001774132251739502, 0.00025557592744007707, 0.0003794655203819275, 0.0001842339988797903, 0.0006005733739584684, -0.0005311716813594103, 0.0036336700432002544, -0.0005080599803477526, -0.005788455251604319, 0.0, 0.0, 0.0, 0.0, 0.0, 0.0, 0.0, 0.0, 0.0, 0.0, 0.0, 0.0, 0.0, 0.0, 0.0, 0.0, 0.0, 0.0, 0.0, 0.0, 0.0], [-0.005667209625244141, 0.0004138128715567291, -0.0008791303262114525, -8.941313717514277e-05, 0.0002417111536487937, 0.00028140039648860693, 7.519021164625883e-05, 0.005875255912542343, -0.00029018428176641464, 3.843056038022041e-05, 0.0, 0.0, 0.0, 0.0, 0.0, 0.0, 0.0, 0.0, 0.0, 0.0, 0.0, 0.0, 0.0, 0.0, 0.0, 0.0, 0.0, 0.0, 0.0, 0.0], [0.039100587368011475, 0.000561579770874232, -0.0010212818160653114, -0.0020101862028241158, -0.0013620592653751373, 0.0061611607670784, -0.0016245599836111069, -0.0010006334632635117, -0.08443523943424225, 0.05206204205751419, -0.006431344896554947, 0.0, 0.0, 0.0, 0.0, 0.0, 0.0, 0.0, 0.0, 0.0, 0.0, 0.0, 0.0, 0.0, 0.0, 0.0, 0.0, 0.0, 0.0, 0.0], [0.018026411533355713, -0.00035510986344888806, -0.0005723546491935849, -0.000372713606338948, -0.0006112336413934827, -0.0014483975246548653, 0.001832714769989252, -0.0037747789174318314, -0.007334599271416664, 0.001308787614107132, -0.011081358417868614, 0.004382464103400707, 0.0, 0.0, 0.0, 0.0, 0.0, 0.0, 0.0, 0.0, 0.0, 0.0, 0.0, 0.0, 0.0, 0.0, 0.0, 0.0, 0.0, 0.0], [0.013411998748779297, -4.327244823798537e-06, -0.0014507516752928495, -0.00039140169974416494, -0.0003363359428476542, -0.009445814415812492, 6.440654397010803e-05, -0.0038110597524791956, -0.003259994089603424, 0.00604314636439085, -0.00023453496396541595, -0.004414597526192665, 0.00382929015904665, 0.0, 0.0, 0.0, 0.0, 0.0, 0.0, 0.0, 0.0, 0.0, 0.0, 0.0, 0.0, 0.0, 0.0, 0.0, 0.0, 0.0], [-0.0008556246757507324, -0.000211171165574342, -0.0009451668011024594, -0.0005060491384938359, -0.0003279839875176549, -0.0017230084631592035, -0.0005216726567596197, -0.002903521526604891, -0.0035026506520807743, 0.0005463887937366962, -0.003612533211708069, 0.004299923777580261, 0.005615162663161755, 0.004647734109312296, 0.0, 0.0, 0.0, 0.0, 0.0, 0.0, 0.0, 0.0, 0.0, 0.0, 0.0, 0.0, 0.0, 0.0, 0.0, 0.0], [-0.0074312686920166016, 5.0871429266408086e-05, -0.0016407158691436052, -0.00016600656090304255, -0.0002709598047658801, -0.0022019597236067057, 0.0016238967655226588, -0.0023661688901484013, -0.00011460261885076761, 0.0027969928923994303, -4.3124076910316944e-05, 0.0010291957296431065, 0.0029688947834074497, 0.004274372942745686, 0.0014905543066561222, 0.0, 0.0, 0.0, 0.0, 0.0, 0.0, 0.0, 0.0, 0.0, 0.0, 0.0, 0.0, 0.0, 0.0, 0.0], [0.051319897174835205, -0.00022331258514896035, -0.0005563214072026312, -0.0005751067074015737, -0.0014300303300842643, -0.002712756395339966, -0.0006077474099583924, -0.009533168748021126, -0.006213836837559938, -0.0007399064488708973, -0.010054870508611202, -0.0016156109049916267, -0.009140857495367527, 0.0016208901070058346, -0.006356187164783478, -0.003181281266734004, 0.0, 0.0, 0.0, 0.0, 0.0, 0.0, 0.0, 0.0, 0.0, 0.0, 0.0, 0.0, 0.0, 0.0], [0.016551196575164795, -4.4842337956652045e-05, -0.0013800596352666616, -0.0004013712168671191, -0.00019347138004377484, -0.00377195468172431, -0.00047437334433197975, -0.003195325843989849, -0.00016537090414203703, 0.0004987695720046759, 1.17418821901083e-05, -0.0015491689555346966, 0.00028830510564148426, -0.0007216879166662693, -9.701121598482132e-05, -0.005135300103574991, -0.00022004847414791584, 0.0, 0.0, 0.0, 0.0, 0.0, 0.0, 0.0, 0.0, 0.0, 0.0, 0.0, 0.0, 0.0], [0.0015876293182373047, 0.000140076270326972, 0.00010783772449940443, -7.398618618026376e-05, -0.0003599588817451149, -0.0006184689700603485, 0.0005241801263764501, -0.005445532500743866, -0.003010457381606102, 0.001384673872962594, -0.003930671140551567, 0.003455442376434803, 0.0002822624519467354, 0.005352720618247986, 0.0004630391485989094, -0.00016059353947639465, -9.44947823882103e-05, 0.0003962838090956211, 0.0, 0.0, 0.0, 0.0, 0.0, 0.0, 0.0, 0.0, 0.0, 0.0, 0.0, 0.0], [0.0016512870788574219, 0.0005693569546565413, 0.001481574960052967, 0.00011973024811595678, 2.824116381816566e-05, -0.0020834936294704676, 0.0005596871487796307, 0.000257052481174469, -0.0002514045627322048, 0.0011406788835301995, 0.00017332826973870397, -0.0020529283210635185, 0.0014906800352036953, -0.00033982377499341965, 0.0006535523571074009, -0.0034538498148322105, 0.0012041996233165264, -0.00523415207862854, 0.004086324479430914, 0.0, 0.0, 0.0, 0.0, 0.0, 0.0, 0.0, 0.0, 0.0, 0.0, 0.0], [-0.044234275817871094, -0.0005522308638319373, -0.0005662436014972627, -0.00040481495670974255, 3.0239811167120934e-05, -0.00010498706251382828, 0.0010112568270415068, -0.0016204437706619501, -0.0008417193312197924, 0.0014211724046617746, 0.0025275787338614464, 0.0037317173555493355, 0.005489468574523926, 0.004304956179112196, 0.005849975626915693, 0.0042252070270478725, 0.005655871704220772, 0.002581371460109949, 0.008524260483682156, 0.002971767447888851, 0.0, 0.0, 0.0, 0.0, 0.0, 0.0, 0.0, 0.0, 0.0, 0.0], [-0.02764338254928589, 6.316020153462887e-05, 0.00031097361352294683, 0.0001510081347078085, -2.1665298845618963e-05, -0.0016119794454425573, 0.0014657238498330116, -0.00039043917786329985, 0.00025396907585673034, 0.0030688317492604256, 0.0008869556477293372, 0.003538616467267275, 0.00637770164757967, 0.006125686690211296, 0.004594026133418083, -0.0006225910037755966, 0.003123439848423004, -0.0011866111308336258, 0.004891540389508009, -0.005338011309504509, 0.0019629355520009995, 0.0, 0.0, 0.0, 0.0, 0.0, 0.0, 0.0, 0.0, 0.0], [-0.018677830696105957, 0.00012921536108478904, -0.00012244924437254667, -0.0005075716180726886, -0.0012974754208698869, -0.00028405082412064075, -0.00046611984726041555, -0.00230508204549551, -0.0015416366513818502, 3.363983705639839e-05, 0.0022919178009033203, 0.0035382986534386873, 0.0016150716692209244, 0.0016063549555838108, 0.0029027340933680534, 0.0008869231678545475, 0.0042730881832540035, 0.00020498980302363634, 0.009551559574902058, 0.0013829811941832304, 0.002073450479656458, -0.005288269370794296, 0.0, 0.0, 0.0, 0.0, 0.0, 0.0, 0.0, 0.0], [-0.0006688833236694336, 8.573985542170703e-05, -0.002360191196203232, -0.0003181996289640665, -0.0001905997924041003, -0.004888106603175402, -0.0005108907353132963, -0.0013931163121014833, 9.391974890604615e-05, 0.002814126666635275, 0.0005352396401576698, 0.0020903439726680517, 0.0032740775495767593, 0.002951300935819745, 0.002091857837513089, 6.736069917678833e-05, 0.002240824745967984, -0.0002783203963190317, 0.003701996523886919, 0.0006681540980935097, 0.0020821138750761747, -0.014244266785681248, 0.0021555419079959393, 0.0, 0.0, 0.0, 0.0, 0.0, 0.0, 0.0], [0.00030809640884399414, 0.0001776034478098154, -0.0029772846028208733, -0.00022528879344463348, -0.00038624845910817385, -0.011265167966485023, -0.0023908717557787895, -0.0030432434286922216, -0.00025276304222643375, 0.007489718962460756, 0.0006784064462408423, 0.0014946330338716507, 0.002568489871919155, 0.003991625737398863, 0.0016522228252142668, -0.0004730238579213619, 0.0017740039620548487, -0.0004372331313788891, 0.003640750888735056, -4.5868800953030586e-05, 0.0015086405910551548, -0.00765372347086668, 0.002131540095433593, 0.001734921708703041, 0.0, 0.0, 0.0, 0.0, 0.0, 0.0], [0.028868675231933594, -0.0004085494438186288, -0.00032029335852712393, -0.0008933995850384235, -0.0021380456164479256, -0.004425389226526022, -0.0008242389303632081, -0.009008667431771755, -0.005724445916712284, -0.0006601114291697741, -0.0015823133289813995, 0.002330429619178176, -0.0022532418370246887, 0.0015672288136556745, -0.000217007240280509, -1.3844459317624569e-05, -0.0003800690174102783, 0.00031016714638099074, 0.0018676696345210075, -5.6776509154587984e-05, -0.0006869103526696563, -0.004698276054114103, -0.0005513639189302921, -0.0006932311225682497, 0.0005920049734413624, 0.0, 0.0, 0.0, 0.0, 0.0], [-0.004300534725189209, 0.001905873417854309, -0.000641603022813797, 0.002128422260284424, 0.005485199391841888, 0.004481005482375622, 0.0017750421538949013, -0.020748205482959747, -0.0003626006655395031, 0.003354310989379883, 0.0024024760350584984, -1.7447397112846375e-05, 0.0009933672845363617, 5.42105408385396e-06, 0.00053490384016186, 0.0001726361660985276, 0.0002511934144422412, 0.0019518425688147545, 0.0006355042569339275, 0.0004987264983355999, 0.00029483679099939764, -0.0012361824046820402, 7.973215542733669e-05, 0.00066112179774791, -0.00027808346203528345, -2.676248550415039e-05, 0.0, 0.0, 0.0, 0.0], [0.038180768489837646, 0.0005059298127889633, -0.0013514971360564232, -0.0014307880774140358, 0.0063670240342617035, 0.0009394153021275997, -0.000929124653339386, -0.014979211613535881, -0.0008114470401778817, 0.0021594713907688856, 0.0013508156407624483, 6.885529728606343e-06, 0.0023401740472763777, 9.318426600657403e-05, 0.001279148506000638, 9.153233258984983e-05, 0.0010193815687671304, 0.0008201564196497202, 0.0013570189476013184, 0.0006893336540088058, 0.0008511341875419021, -0.002190267900004983, 0.0003040619194507599, 0.0003693050239235163, -0.0003877489943988621, -0.0023496001958847046, -0.03429502248764038, 0.0, 0.0, 0.0], [-0.02113252878189087, 0.00135248270817101, -0.004201691597700119, 0.00010901596397161484, 0.002166864462196827, 0.0025784000754356384, -0.0004218887770548463, -0.0052993930876255035, 0.0008450980531051755, 0.003598012961447239, 0.0006184540688991547, 6.92312023602426e-05, 0.0003836102841887623, -1.2274183973204345e-05, 0.00017018958169501275, 3.8094545743661e-05, 0.0002855420170817524, 5.4377782362280414e-05, 0.0003162796201650053, 0.00017719891911838204, 0.00014661860768683255, -0.001248056418262422, 0.0001277276169275865, 0.00021826557349413633, -4.4999200326856226e-05, -0.00021757115609943867, 0.00721459835767746, 0.012108203023672104, 0.0, 0.0], [-0.029081761837005615, 0.0005205636261962354, -0.0008753351867198944, -0.00011012481991201639, 0.001364053227007389, 0.003824479877948761, -0.00045310985296964645, 0.0030486248433589935, 0.0019177851499989629, 0.006735462695360184, 0.0006543656927533448, 4.956978955306113e-05, 0.0005770362331531942, -1.8326340068597347e-05, 0.00023451982997357845, 3.519812162267044e-05, 0.00038034108001738787, 0.0001421728520654142, 0.0007907659746706486, 0.00024925300385802984, 0.0004093111492693424, -0.000540531356818974, 0.00038812714046798646, 0.00033020315458998084, 2.3686916392762214e-05, 0.00021362071856856346, -0.00025698263198137283, 0.008108843117952347, 0.0013382183387875557, 0.0], [0.028305351734161377, -0.0010190235916525126, -0.002025512047111988, -0.0006257438799366355, -0.0018811938352882862, -3.975280560553074e-05, 0.00019217818044126034, -0.005147687159478664, 0.00024609509273432195, 0.002646694891154766, 1.8808641470968723e-05, 0.0002444997080601752, -0.0002709900145418942, 0.00021558048320002854, -0.0003914985281880945, 0.00011926679871976376, -0.00018992184777744114, 0.0004295633116271347, -0.00019472098210826516, 0.0003907086211256683, -0.00014575112436432391, -0.0014272606931626797, -0.00017719458264764398, -0.0006170255364850163, -0.0005478885141201317, -0.0011270978720858693, -0.0016351568046957254, -0.0038862493820488453, 0.00039241742342710495, -0.011851456016302109]], [[0.0, 0.0, 0.0, 0.0, 0.0, 0.0, 0.0, 0.0, 0.0, 0.0, 0.0, 0.0, 0.0, 0.0, 0.0, 0.0, 0.0, 0.0, 0.0, 0.0, 0.0, 0.0, 0.0, 0.0, 0.0, 0.0, 0.0, 0.0, 0.0, 0.0], [0.0, 0.0, 0.0, 0.0, 0.0, 0.0, 0.0, 0.0, 0.0, 0.0, 0.0, 0.0, 0.0, 0.0, 0.0, 0.0, 0.0, 0.0, 0.0, 0.0, 0.0, 0.0, 0.0, 0.0, 0.0, 0.0, 0.0, 0.0, 0.0, 0.0], [0.0, 0.0, 0.0, 0.0, 0.0, 0.0, 0.0, 0.0, 0.0, 0.0, 0.0, 0.0, 0.0, 0.0, 0.0, 0.0, 0.0, 0.0, 0.0, 0.0, 0.0, 0.0, 0.0, 0.0, 0.0, 0.0, 0.0, 0.0, 0.0, 0.0], [0.0, 0.0, 0.0, 0.0, 0.0, 0.0, 0.0, 0.0, 0.0, 0.0, 0.0, 0.0, 0.0, 0.0, 0.0, 0.0, 0.0, 0.0, 0.0, 0.0, 0.0, 0.0, 0.0, 0.0, 0.0, 0.0, 0.0, 0.0, 0.0, 0.0], [0.0, 0.0, 0.0, 0.0, 0.0, 0.0, 0.0, 0.0, 0.0, 0.0, 0.0, 0.0, 0.0, 0.0, 0.0, 0.0, 0.0, 0.0, 0.0, 0.0, 0.0, 0.0, 0.0, 0.0, 0.0, 0.0, 0.0, 0.0, 0.0, 0.0], [0.0, 0.0, 0.0, 0.0, 0.0, 0.0, 0.0, 0.0, 0.0, 0.0, 0.0, 0.0, 0.0, 0.0, 0.0, 0.0, 0.0, 0.0, 0.0, 0.0, 0.0, 0.0, 0.0, 0.0, 0.0, 0.0, 0.0, 0.0, 0.0, 0.0], [0.004599928855895996, -0.010869433172047138, 0.006473790854215622, 0.004493288695812225, -0.0011835061013698578, -0.00018278975039720535, -0.0033314283937215805, 0.0, 0.0, 0.0, 0.0, 0.0, 0.0, 0.0, 0.0, 0.0, 0.0, 0.0, 0.0, 0.0, 0.0, 0.0, 0.0, 0.0, 0.0, 0.0, 0.0, 0.0, 0.0, 0.0], [0.03514665365219116, 0.0008034808561205864, -0.0002613607794046402, 0.0002824198454618454, -0.0019141584634780884, -0.0037669632583856583, -0.011280246078968048, -0.019009828567504883, 0.0, 0.0, 0.0, 0.0, 0.0, 0.0, 0.0, 0.0, 0.0, 0.0, 0.0, 0.0, 0.0, 0.0, 0.0, 0.0, 0.0, 0.0, 0.0, 0.0, 0.0, 0.0], [0.1133996844291687, 0.004052827600389719, 0.0007297731935977936, 0.001333688385784626, -0.013104253448545933, -0.006541896611452103, -0.005723234266042709, -0.08136466890573502, -0.012781985104084015, 0.0, 0.0, 0.0, 0.0, 0.0, 0.0, 0.0, 0.0, 0.0, 0.0, 0.0, 0.0, 0.0, 0.0, 0.0, 0.0, 0.0, 0.0, 0.0, 0.0, 0.0], [0.041134417057037354, -0.0015131884720176458, 0.0016247965395450592, 0.0046549150720238686, -0.002138971583917737, -0.0022756466642022133, -0.0053135063499212265, -0.033466242253780365, -0.006191114895045757, 0.003484658896923065, 0.0, 0.0, 0.0, 0.0, 0.0, 0.0, 0.0, 0.0, 0.0, 0.0, 0.0, 0.0, 0.0, 0.0, 0.0, 0.0, 0.0, 0.0, 0.0, 0.0], [0.1271457076072693, -0.0019031181000173092, 0.004917901009321213, 0.0031225737184286118, -0.006838392931967974, -0.011195700615644455, -0.01709754392504692, -0.048437073826789856, -0.027103152126073837, 0.008533865213394165, -0.03114510327577591, 0.0, 0.0, 0.0, 0.0, 0.0, 0.0, 0.0, 0.0, 0.0, 0.0, 0.0, 0.0, 0.0, 0.0, 0.0, 0.0, 0.0, 0.0, 0.0], [0.024220168590545654, -0.0006208079867064953, 0.0021583728957921267, 0.0023847180418670177, -0.0007332083769142628, 0.0002768923295661807, 0.0011391881853342056, -0.04505410045385361, -0.004823931492865086, 0.005158763378858566, 0.018721945583820343, -0.0028280080296099186, 0.0, 0.0, 0.0, 0.0, 0.0, 0.0, 0.0, 0.0, 0.0, 0.0, 0.0, 0.0, 0.0, 0.0, 0.0, 0.0, 0.0, 0.0], [0.10000371932983398, -0.0008184253238141537, 0.004637403413653374, 0.0004832567647099495, -0.0021002243738621473, -0.004170175641775131, -0.003777461126446724, -0.04880363866686821, -0.0058211153373122215, 0.014442019164562225, 0.009591437876224518, -0.006946973502635956, -0.056719791144132614, 0.0, 0.0, 0.0, 0.0, 0.0, 0.0, 0.0, 0.0, 0.0, 0.0, 0.0, 0.0, 0.0, 0.0, 0.0, 0.0, 0.0], [0.029445886611938477, -0.0014398033963516355, -0.0012467605993151665, -0.0016641784459352493, -0.0019979551434516907, -0.0019114600727334619, -0.003677092958241701, -0.02208741568028927, -0.006608465686440468, 0.004501196555793285, 0.004977922886610031, 0.0010977736674249172, -0.0015846509486436844, 0.002195103093981743, 0.0, 0.0, 0.0, 0.0, 0.0, 0.0, 0.0, 0.0, 0.0, 0.0, 0.0, 0.0, 0.0, 0.0, 0.0, 0.0], [0.07578742504119873, -0.001279961783438921, 0.003362487070262432, -0.00031191762536764145, -0.002781063551083207, -0.002035629004240036, 0.0026543745771050453, -0.02798532135784626, -0.005555199459195137, 0.005694926716387272, 0.0013312958180904388, -0.005594857037067413, -0.022286785766482353, -0.005209214985370636, -0.015790406614542007, 0.0, 0.0, 0.0, 0.0, 0.0, 0.0, 0.0, 0.0, 0.0, 0.0, 0.0, 0.0, 0.0, 0.0, 0.0], [0.03541839122772217, -0.001270526903681457, 0.0004002735950052738, 0.0003632225561887026, -0.0006845621392130852, -0.00015357835218310356, -0.0020342653151601553, -0.04471439868211746, -0.0032111445907503366, 0.0006961140315979719, 0.008296775631606579, -0.00043725757859647274, 0.003997025080025196, 1.3826880604028702e-05, 0.0035454146564006805, -0.00022514653392136097, 0.0, 0.0, 0.0, 0.0, 0.0, 0.0, 0.0, 0.0, 0.0, 0.0, 0.0, 0.0, 0.0, 0.0], [0.061958134174346924, -0.0010256462264806032, 0.0009497618302702904, -0.0015346258878707886, -0.0013342187739908695, -0.0019334517419338226, -0.00031866133213043213, -0.032878290861845016, -0.003638438880443573, 0.0080788042396307, -0.0012541599571704865, -0.0027824463322758675, -0.015325658023357391, -0.0029619289562106133, -0.006840353831648827, 0.0053161573596298695, -0.004474937915802002, 0.0, 0.0, 0.0, 0.0, 0.0, 0.0, 0.0, 0.0, 0.0, 0.0, 0.0, 0.0, 0.0], [-0.017038345336914062, -0.00046750984620302916, 0.007934763096272945, 0.0033735670149326324, 0.00035371107514947653, -0.00037425453774631023, -0.0036263582296669483, -0.01628738082945347, 0.0006148559041321278, 0.003509183879941702, 0.007225155830383301, 0.0013531954027712345, 0.002019966021180153, 0.006128146778792143, 0.001768430694937706, 0.00011701928451657295, -0.0009714122861623764, 0.004367168061435223, 0.0, 0.0, 0.0, 0.0, 0.0, 0.0, 0.0, 0.0, 0.0, 0.0, 0.0, 0.0], [-0.026868224143981934, 0.00028259027749300003, 0.007339418865740299, 0.0019234376959502697, 0.0010524627286940813, -0.00031234160996973515, 0.002685103565454483, -0.001241341233253479, 0.0004748590290546417, 0.008591515943408012, 0.004674576222896576, -0.0024466747418045998, -0.0023580193519592285, -0.005337841808795929, -0.0023711659014225006, 0.0025751683861017227, 0.0008449684828519821, -3.364775329828262e-05, 0.0105251744389534, 0.0, 0.0, 0.0, 0.0, 0.0, 0.0, 0.0, 0.0, 0.0, 0.0, 0.0], [-0.039235830307006836, -0.00028838927391916513, -2.8329435735940933e-05, 0.0008058673702180386, -8.256552973762155e-05, -8.47908086143434e-05, -0.000350394519045949, 0.0035135261714458466, -0.0006603488582186401, 0.0016742630396038294, 0.004028232768177986, 0.0012186177773401141, 0.0066666677594184875, 0.0017373338341712952, 0.005993199534714222, 0.001207746914587915, 0.004922839812934399, 9.106239303946495e-06, 0.0068177287466824055, 0.0021356369834393263, 0.0, 0.0, 0.0, 0.0, 0.0, 0.0, 0.0, 0.0, 0.0, 0.0], [-0.03006213903427124, -0.0007204930298030376, 0.00023568235337734222, 0.0012050149962306023, 0.00028481625486165285, -0.00047607580199837685, -0.0002607880160212517, -0.004644065164029598, -0.00012985337525606155, 0.004267043899744749, 0.004858584608882666, -0.00011106207966804504, 0.0025909869000315666, -0.00011379551142454147, 0.0015371870249509811, 0.003018255578354001, 0.0033478839322924614, -1.4429446309804916e-05, 0.007944384589791298, 0.0037385434843599796, 0.003504411317408085, 0.0, 0.0, 0.0, 0.0, 0.0, 0.0, 0.0, 0.0, 0.0], [-0.0042302608489990234, -0.0005134354578331113, 0.00021456624381244183, 0.0004603522829711437, -0.0010303104063495994, -0.00028157717315480113, -0.001388848526403308, -0.007472315803170204, -0.0014663717010989785, 0.001295601250603795, 0.004992252681404352, -0.00043677794747054577, 0.0010342076420783997, 0.0007282039150595665, 0.004208109341561794, -0.0006125501822680235, 2.7438625693321228e-05, 0.0007361576426774263, 0.005972389597445726, 0.001351477811113, -0.0009202640503644943, -0.0026680133305490017, 0.0, 0.0, 0.0, 0.0, 0.0, 0.0, 0.0, 0.0], [0.009375929832458496, 4.953646566718817e-05, 0.004124045372009277, 0.0013227402232587337, -0.0008858484216034412, -0.00036116770934313536, -0.00030013127252459526, -0.009933734312653542, 0.00013847206719219685, 0.004677090793848038, 0.005016199313104153, 0.0006808480247855186, -0.002625206485390663, 0.0019472623243927956, 0.002798277884721756, 0.0037371693179011345, 0.0028477776795625687, 0.0035304396878927946, 0.01159302331507206, 0.004805289208889008, 0.007834095507860184, -0.03937830030918121, -0.010993793606758118, 0.0, 0.0, 0.0, 0.0, 0.0, 0.0, 0.0], [0.02790844440460205, 0.00022352277301251888, 0.00761025957763195, 0.0035125836730003357, -0.0008946564048528671, 5.459040403366089e-05, 0.00026401784271001816, -0.011621607467532158, -0.0022099099587649107, 0.005272507667541504, 0.00578555092215538, 0.0006104297935962677, -0.004446882754564285, 0.0019283927977085114, 0.0017587542533874512, 0.003632667474448681, -0.0014503803104162216, 0.0047268555499613285, 0.00880400650203228, 0.004170602187514305, 0.004062662832438946, -0.036286044865846634, -0.018255550414323807, -0.005160750821232796, 0.0, 0.0, 0.0, 0.0, 0.0, 0.0], [0.042997658252716064, -0.0011152173392474651, 0.0001543422695249319, 0.0003331333864480257, -0.0005185875343158841, -0.0003175464808009565, -0.004506193101406097, -0.03601328656077385, -0.0010155101772397757, 0.00039283069781959057, 0.0019183955155313015, -0.00011348479893058538, -0.0006776689551770687, 0.0008419773075729609, 0.001080125104635954, -0.00013472873251885176, -0.0005675097927451134, 0.00040451192762702703, 0.0016538710333406925, 0.0005996938562020659, -0.0014891938772052526, -0.0018966000061482191, -0.002189743798226118, 0.0003383597359061241, -0.0001594950444996357, 0.0, 0.0, 0.0, 0.0, 0.0], [-0.009973585605621338, -0.00040735211223363876, 0.005929531529545784, 0.0053261397406458855, -0.0010745655745267868, -0.0008443125989288092, -0.005301402881741524, -0.004746054299175739, -0.001331491395831108, 0.0007315836846828461, 0.002810451202094555, 0.00013364863116294146, 0.002049568109214306, 0.0003331584739498794, 0.0013503318186849356, -2.0265579223632812e-06, 0.00119024608284235, 0.0006155683659017086, 0.0023690368980169296, 0.00015483738388866186, 3.0397670343518257e-05, -0.0013008923269808292, -0.0011442005634307861, -0.000840076245367527, -0.0004497789777815342, 0.004391402006149292, 0.0, 0.0, 0.0, 0.0], [0.010786056518554688, -0.002238243818283081, 0.00032983720302581787, 0.003437747247517109, -0.0007178860250860453, -0.0005645039491355419, -0.004064861685037613, -0.0013778540305793285, -0.0004990671295672655, 0.0020613193046301603, 0.0022045897785574198, 0.0004580079694278538, 0.0010699557606130838, -0.00020503334235399961, 0.0003494718112051487, 0.00019065733067691326, 0.00016924901865422726, 0.0012219311902299523, 0.0008359956555068493, 0.00011449534213170409, -0.00035642844159156084, -0.002556948456913233, -0.001120375469326973, -0.0010853998828679323, -0.0015125272329896688, 0.0034270621836185455, -0.010357249528169632, 0.0, 0.0, 0.0], [-0.04274505376815796, 0.00011723674833774567, 0.005517497658729553, 0.0026427386328577995, 0.00012375367805361748, 9.65408980846405e-06, 0.0017082123085856438, -0.0010218732059001923, -0.0009340618271380663, 0.008616644889116287, 0.004160373471677303, 0.0022127176634967327, 0.0014878723304718733, 4.3603708036243916e-05, 0.0006304280832409859, 0.0018046885961666703, 0.0006085444474592805, 0.0024126707576215267, 0.0021065298933535814, 0.0011042230762541294, 0.0005131313810124993, -0.007582508027553558, -0.001623275107704103, -0.0014106521848589182, -0.0012204076629132032, 0.005696417763829231, -0.004809219390153885, 0.019830085337162018, 0.0, 0.0], [-0.014929413795471191, -0.00020356383174657822, 0.003030073828995228, 0.0035259919241070747, 0.0003822888247668743, 0.00039025023579597473, -0.0017589051276445389, -0.0010514999739825726, -0.0007357788272202015, 0.004940147045999765, 0.0026340424083173275, 0.0013192849000915885, 0.0009158751927316189, 0.00046923267655074596, 0.00028603943064808846, 0.001713562523946166, 0.0007428592070937157, 0.003700822126120329, 0.002570707816630602, 0.0012286014389246702, 0.0005521369748748839, -0.006712653208523989, -0.0012699925573542714, -0.0010835325811058283, -0.0010193872731179, 0.0020767217501997948, -0.0021777115762233734, 0.0044935643672943115, -0.004029836505651474, 0.0], [0.06344389915466309, 0.006876762956380844, 0.0015541906468570232, 0.0028170845471322536, 0.0019130720756947994, 0.0013469192199409008, -0.0007061944343149662, -0.0013101855292916298, -0.0007888686377555132, 0.003889442654326558, 0.0015429563354700804, 0.0016134760808199644, -0.001063804142177105, 0.0004564605769701302, -0.0008734571747481823, 0.001689633703790605, -0.0020711938850581646, 0.0024187788367271423, 0.00022470788098871708, 0.0011895284987986088, -0.001213681185618043, -0.0028012492693960667, -0.0017261806642636657, -0.0016184847336262465, -0.00014129560440778732, -0.020694604143500328, -0.009408514946699142, -0.0037838350981473923, 0.0018644388765096664, -0.044639743864536285]], [[0.0, 0.0, 0.0, 0.0, 0.0, 0.0, 0.0, 0.0, 0.0, 0.0, 0.0, 0.0, 0.0, 0.0, 0.0, 0.0, 0.0, 0.0, 0.0, 0.0, 0.0, 0.0, 0.0, 0.0, 0.0, 0.0, 0.0, 0.0, 0.0, 0.0], [0.0, 0.0, 0.0, 0.0, 0.0, 0.0, 0.0, 0.0, 0.0, 0.0, 0.0, 0.0, 0.0, 0.0, 0.0, 0.0, 0.0, 0.0, 0.0, 0.0, 0.0, 0.0, 0.0, 0.0, 0.0, 0.0, 0.0, 0.0, 0.0, 0.0], [0.0, 0.0, 0.0, 0.0, 0.0, 0.0, 0.0, 0.0, 0.0, 0.0, 0.0, 0.0, 0.0, 0.0, 0.0, 0.0, 0.0, 0.0, 0.0, 0.0, 0.0, 0.0, 0.0, 0.0, 0.0, 0.0, 0.0, 0.0, 0.0, 0.0], [0.0, 0.0, 0.0, 0.0, 0.0, 0.0, 0.0, 0.0, 0.0, 0.0, 0.0, 0.0, 0.0, 0.0, 0.0, 0.0, 0.0, 0.0, 0.0, 0.0, 0.0, 0.0, 0.0, 0.0, 0.0, 0.0, 0.0, 0.0, 0.0, 0.0], [0.0, 0.0, 0.0, 0.0, 0.0, 0.0, 0.0, 0.0, 0.0, 0.0, 0.0, 0.0, 0.0, 0.0, 0.0, 0.0, 0.0, 0.0, 0.0, 0.0, 0.0, 0.0, 0.0, 0.0, 0.0, 0.0, 0.0, 0.0, 0.0, 0.0], [0.0, 0.0, 0.0, 0.0, 0.0, 0.0, 0.0, 0.0, 0.0, 0.0, 0.0, 0.0, 0.0, 0.0, 0.0, 0.0, 0.0, 0.0, 0.0, 0.0, 0.0, 0.0, 0.0, 0.0, 0.0, 0.0, 0.0, 0.0, 0.0, 0.0], [0.002180933952331543, 0.00035644962918013334, -0.0008461226243525743, -0.00034116196911782026, -0.0004374327836558223, 0.000625361455604434, -0.0015379441902041435, 0.0, 0.0, 0.0, 0.0, 0.0, 0.0, 0.0, 0.0, 0.0, 0.0, 0.0, 0.0, 0.0, 0.0, 0.0, 0.0, 0.0, 0.0, 0.0, 0.0, 0.0, 0.0, 0.0], [-0.005652487277984619, 0.0021788529120385647, -0.0002824440598487854, -0.00039770896546542645, 0.0032327407971024513, -0.0022406894713640213, 0.00014156103134155273, 0.0030201044864952564, 0.0, 0.0, 0.0, 0.0, 0.0, 0.0, 0.0, 0.0, 0.0, 0.0, 0.0, 0.0, 0.0, 0.0, 0.0, 0.0, 0.0, 0.0, 0.0, 0.0, 0.0, 0.0], [0.04307198524475098, 0.0006129415123723447, -0.004091242328286171, 0.0003003848250955343, 0.0016925211530178785, -0.03740936517715454, 0.008096851408481598, -0.00480278953909874, -0.007471288554370403, 0.0, 0.0, 0.0, 0.0, 0.0, 0.0, 0.0, 0.0, 0.0, 0.0, 0.0, 0.0, 0.0, 0.0, 0.0, 0.0, 0.0, 0.0, 0.0, 0.0, 0.0], [0.012132465839385986, 0.00045338348718360066, 0.0008047139272093773, -0.000347686349414289, -0.0015717383939772844, -0.005289367400109768, 0.0033455239608883858, -0.007912665605545044, -0.0009762964909896255, -0.0006383620202541351, 0.0, 0.0, 0.0, 0.0, 0.0, 0.0, 0.0, 0.0, 0.0, 0.0, 0.0, 0.0, 0.0, 0.0, 0.0, 0.0, 0.0, 0.0, 0.0, 0.0], [0.0427362322807312, -0.0003103157505393028, 0.004060650244355202, -0.0003222385421395302, -0.008396425284445286, -0.005014251917600632, 0.005074372515082359, -0.014527356252074242, -0.036193154752254486, 0.01660829782485962, -0.00371574517339468, 0.0, 0.0, 0.0, 0.0, 0.0, 0.0, 0.0, 0.0, 0.0, 0.0, 0.0, 0.0, 0.0, 0.0, 0.0, 0.0, 0.0, 0.0, 0.0], [0.0962645411491394, -3.4193682949990034e-05, 0.0002642180770635605, 0.00014158012345433235, -0.0012745861895382404, -0.0044122012332081795, -0.0038069896399974823, -0.026270225644111633, -0.0012358680833131075, -0.037957992404699326, -0.0203953105956316, -0.0012830458581447601, 0.0, 0.0, 0.0, 0.0, 0.0, 0.0, 0.0, 0.0, 0.0, 0.0, 0.0, 0.0, 0.0, 0.0, 0.0, 0.0, 0.0, 0.0], [0.07353401184082031, -6.747926818206906e-05, -0.005017734598368406, -0.0002521473215892911, -0.004832429811358452, -0.010966839268803596, -0.001548844389617443, -0.0033084629103541374, -0.007957570254802704, -0.0011831223964691162, 5.77862374484539e-06, -0.03521496057510376, -0.0031903255730867386, 0.0, 0.0, 0.0, 0.0, 0.0, 0.0, 0.0, 0.0, 0.0, 0.0, 0.0, 0.0, 0.0, 0.0, 0.0, 0.0, 0.0], [0.01769477128982544, -0.00036789762089028955, -0.007969444617629051, -7.045071106404066e-05, -0.0016765422187745571, -0.0017047841101884842, -0.0016069388948380947, -0.005773462355136871, -0.00025454029673710465, 0.004015244543552399, -0.006746065802872181, 0.0007753979880362749, 0.0038203466683626175, -0.00013574864715337753, 0.0, 0.0, 0.0, 0.0, 0.0, 0.0, 0.0, 0.0, 0.0, 0.0, 0.0, 0.0, 0.0, 0.0, 0.0, 0.0], [0.011625707149505615, -0.00019610198796726763, -0.0005335067398846149, 2.6273890398442745e-05, -0.0024184943176805973, -0.001574543071910739, 0.00014742417261004448, -0.00048377830535173416, -0.0010757652344182134, 0.0014681064058095217, 0.00010799826122820377, -0.003245007712393999, 0.0008716692682355642, -0.005119619891047478, 0.0003996999002993107, 0.0, 0.0, 0.0, 0.0, 0.0, 0.0, 0.0, 0.0, 0.0, 0.0, 0.0, 0.0, 0.0, 0.0, 0.0], [0.1970386505126953, -7.260811980813742e-05, -0.0008570533245801926, -0.00010774729889817536, -0.0013620967511087656, -0.012705212458968163, -0.004753464832901955, -0.08674907684326172, -0.0023286896757781506, -0.02354356274008751, -0.023759538307785988, -0.0018345055868849158, -0.022234048694372177, -0.00458731222897768, -0.010835937224328518, -0.001307688420638442, 0.0, 0.0, 0.0, 0.0, 0.0, 0.0, 0.0, 0.0, 0.0, 0.0, 0.0, 0.0, 0.0, 0.0], [0.029362499713897705, -0.00018966069910675287, -0.0006525214412249625, -9.334887727163732e-05, -0.0011329009430482984, -0.00318691274151206, -0.0010762638412415981, -0.00033073825761675835, -0.0022420180030167103, -0.00011589215137064457, 0.0002357233315706253, -0.0022138687781989574, 0.0002862510737031698, -0.013643722981214523, 0.0007259121630340815, -0.005759090185165405, 2.6716850697994232e-05, 0.0, 0.0, 0.0, 0.0, 0.0, 0.0, 0.0, 0.0, 0.0, 0.0, 0.0, 0.0, 0.0], [0.03090488910675049, -0.0018051809165626764, -0.0020949044264853, -0.0006917097489349544, -0.0004771735693793744, -0.0006443244637921453, -0.004465504549443722, -0.04532608762383461, -0.00010371638927608728, 0.00358780100941658, -0.0016625276766717434, 0.0012206316459923983, 0.00587631668895483, 0.0014628367498517036, 0.0032193930819630623, 0.0024762675166130066, 0.012497971765697002, -0.003974991850554943, 0.0, 0.0, 0.0, 0.0, 0.0, 0.0, 0.0, 0.0, 0.0, 0.0, 0.0, 0.0], [0.01193302869796753, 0.00032384280348196626, -0.00012156472075730562, -1.0138581274077296e-05, 0.0007575300987809896, -0.00032273668330162764, 0.0006052830722182989, 0.002384709659963846, -0.00033151626121252775, 0.001504723564721644, 0.00012624281225726008, -0.00020008627325296402, 0.00012795557267963886, -0.002111255656927824, -1.2942473404109478e-05, -0.0006015850231051445, 0.0005411809543147683, -0.015197145752608776, 0.0006044444162398577, 0.0, 0.0, 0.0, 0.0, 0.0, 0.0, 0.0, 0.0, 0.0, 0.0, 0.0], [-0.13483065366744995, -0.00014224846381694078, 0.0015431446954607964, 0.00043745344737544656, 0.0004892450524494052, 0.0003999420441687107, 0.005375983659178019, 0.024406202137470245, -0.00010006802040152252, 0.009024601429700851, 0.021529702469706535, 0.001531048328615725, 0.03146558627486229, 0.0022675730288028717, 0.019400982186198235, 0.002710641361773014, 0.010681106708943844, 0.0002505140146240592, -6.781797856092453e-05, 0.0036270511336624622, 0.0, 0.0, 0.0, 0.0, 0.0, 0.0, 0.0, 0.0, 0.0, 0.0], [-0.01610797643661499, 2.6000154321081936e-05, 0.0006911164382472634, 0.0001381920592393726, 0.0003215430479031056, -0.00028004159685224295, 0.0007451508427038789, 0.0004276286344975233, 0.00022845080820843577, 0.002869700314477086, 0.000855563092045486, 0.002392660826444626, 0.0024251705035567284, 0.0018116659484803677, 0.0022498946636915207, 0.004277386236935854, 0.001794965355657041, -0.007721948903053999, 0.0006146908272057772, -0.00043680332601070404, 0.002676967531442642, 0.0, 0.0, 0.0, 0.0, 0.0, 0.0, 0.0, 0.0, 0.0], [-0.09967154264450073, -3.777450183406472e-05, 0.0023979595862329006, 0.0004561025998555124, 1.667044125497341e-05, 0.0011207011993974447, -0.003041026648133993, 0.005078330636024475, -0.0003944545751437545, 0.00017843954265117645, 0.0175345316529274, 2.6146764867007732e-05, 0.023759551346302032, -0.0009406651370227337, 0.02271517924964428, 0.0010114004835486412, 0.01610327698290348, -0.0012838286347687244, 0.00282641826197505, -0.0004890500567853451, 0.015149304643273354, -0.002515709027647972, 0.0, 0.0, 0.0, 0.0, 0.0, 0.0, 0.0, 0.0], [-0.033753156661987305, -5.2226067055016756e-05, -0.0009117198642343283, 3.4579134080559015e-05, -0.0005798018537461758, 0.00042632874101400375, 0.0012668021954596043, -0.00026679830625653267, -0.00021300057414919138, 0.004035869147628546, 0.0010105771943926811, 0.0026415293104946613, 0.002160986652597785, 0.0021362784318625927, 0.0023360224440693855, 0.006146889179944992, 0.002590416930615902, -0.0008141575381159782, 0.001012769527733326, 0.005673267878592014, 0.0035517062060534954, -0.0014115050435066223, 0.002978452481329441, 0.0, 0.0, 0.0, 0.0, 0.0, 0.0, 0.0], [-0.023938894271850586, -7.723280577920377e-05, -0.00047797244042158127, 4.554021870717406e-05, -0.0009649530984461308, 0.00045150937512516975, 0.000254917424172163, -0.0010812608525156975, -0.00047060009092092514, 0.003444893751293421, 0.0007506387191824615, 0.0019298212137073278, 0.0012518914882093668, -0.0006197197362780571, 0.002212848514318466, 0.003914481028914452, 0.002447859849780798, -0.003981622867286205, 0.0010934595484286547, 0.005615178495645523, 0.0031568040139973164, -0.0036506587639451027, 0.0028229730669409037, 0.005869983229786158, 0.0, 0.0, 0.0, 0.0, 0.0, 0.0], [0.08914387226104736, -0.001061325310729444, 0.004445742815732956, 0.00030455668456852436, -0.0021311789751052856, -0.001060783863067627, -0.0028793737292289734, -0.12300971150398254, -0.0003496996941976249, 0.0031124241650104523, 0.006066063418984413, 0.0003531289694365114, 0.009378602728247643, 0.00010986754205077887, 0.00543263740837574, 0.0005051924381405115, 0.0035497064236551523, -0.0003110122634097934, -0.0004433826543390751, 0.00038779759779572487, 0.0037790657952427864, -0.0011464419076219201, 0.0059667606838047504, 0.0013876506127417088, -0.001530293608084321, 0.0, 0.0, 0.0, 0.0, 0.0], [0.013123095035552979, 0.0018816487863659859, -0.0038776900619268417, 1.575751230120659e-05, -0.002195393666625023, -0.0007617375813424587, -0.000158616341650486, -0.007156047970056534, -0.0009693806059658527, -0.0016865679062902927, 0.00042419592500664294, 7.909839041531086e-07, 0.00017125922022387385, -0.0003736001090146601, 9.843414591159672e-05, 0.00013675741502083838, 4.838210588786751e-05, 0.00012874091044068336, 6.129720713943243e-05, 0.00020406092517077923, 3.0020404665265232e-05, -0.00145089125726372, -2.8951471904292703e-05, -4.1760882595553994e-05, -0.0012055870611220598, 0.003581731580197811, 0.0, 0.0, 0.0, 0.0], [0.0027667880058288574, 0.00046262273099273443, -0.00027573504485189915, -0.0003074908163398504, -0.00029064854606986046, 3.23090935125947e-05, 8.285028161481023e-05, -0.0004386729560792446, 7.618713425472379e-06, 0.00044020020868629217, 0.00022416851425077766, 0.00021803032723255455, 0.00011217074643354863, -6.718435906805098e-05, 3.908868529833853e-05, 0.00027341058012098074, 4.64948097942397e-05, 6.357819074764848e-05, 2.161476731998846e-05, 0.00024710182333365083, 4.719354183180258e-05, -0.0005837596254423261, -3.876921255141497e-06, 1.78581103682518e-05, -0.0003797297249548137, -0.0003056327113881707, -0.0024503329768776894, 0.0, 0.0, 0.0], [-0.017515182495117188, 0.0009355616057291627, 0.002391233341768384, 0.0001714625395834446, 0.003944529220461845, 0.0007690093480050564, 0.0006036283448338509, 0.00011287897359579802, 0.0014438065700232983, 0.0030023676808923483, 1.777615943865385e-05, 0.0030645132064819336, 6.671503797406331e-06, 0.00023637950653210282, 1.0329604265280068e-06, 0.0014269654639065266, 6.468962965300307e-07, 0.0005898516974411905, 1.2638730368053075e-05, 0.0009824170265346766, 5.560098543355707e-06, -0.0015516828279942274, -2.475999281159602e-07, 2.2583371901419014e-06, -0.0007190473843365908, -9.543835767544806e-05, 0.0005139964632689953, -0.00035368523094803095, 0.0, 0.0], [-0.02978372573852539, 0.0005777280312031507, 0.0021253242157399654, 0.00011607594205997884, 0.011293282732367516, 0.0026564174331724644, 0.004212073981761932, 0.000297249061986804, 0.0017240331508219242, 0.00358484941534698, 6.752921763109043e-05, 0.0019385517807677388, 3.194883538526483e-05, -0.0002713962458074093, 1.9676899682963267e-05, 0.001072098035365343, 2.6382494979770854e-05, 0.000534966355189681, 4.220628034090623e-05, 0.0007925627287477255, 2.413082074781414e-05, -0.0009863968007266521, 4.153327608946711e-06, 2.8017144359182566e-05, -0.00040715880459174514, -0.00018025963800027966, 0.0006814112421125174, 5.8733392506837845e-05, -0.00028025417122989893, 0.0], [0.026566505432128906, -0.000611365307122469, -0.0009457425912842155, 0.00012039166176691651, 0.0003843945451080799, -0.0028946921229362488, 7.141148671507835e-05, -0.013054574839770794, -0.0004352950491011143, 0.0006433393573388457, 5.284653161652386e-05, 0.0003465509507805109, -8.73507815413177e-07, -2.1746265701949596e-05, -1.790293026715517e-05, 0.00028362683951854706, -6.041907909093425e-06, 0.00019933702424168587, -3.474939876468852e-05, 0.0001254918024642393, 1.617112138774246e-05, -0.0008274937863461673, -4.681063728639856e-05, 3.8132566260173917e-06, -0.0005467489827424288, -0.00393188139423728, -0.006389814428985119, -0.0035018939524888992, -0.0005281061166897416, 0.004981649108231068]], [[0.0, 0.0, 0.0, 0.0, 0.0, 0.0, 0.0, 0.0, 0.0, 0.0, 0.0, 0.0, 0.0, 0.0, 0.0, 0.0, 0.0, 0.0, 0.0, 0.0, 0.0, 0.0, 0.0, 0.0, 0.0, 0.0, 0.0, 0.0, 0.0, 0.0], [0.0, 0.0, 0.0, 0.0, 0.0, 0.0, 0.0, 0.0, 0.0, 0.0, 0.0, 0.0, 0.0, 0.0, 0.0, 0.0, 0.0, 0.0, 0.0, 0.0, 0.0, 0.0, 0.0, 0.0, 0.0, 0.0, 0.0, 0.0, 0.0, 0.0], [0.0, 0.0, 0.0, 0.0, 0.0, 0.0, 0.0, 0.0, 0.0, 0.0, 0.0, 0.0, 0.0, 0.0, 0.0, 0.0, 0.0, 0.0, 0.0, 0.0, 0.0, 0.0, 0.0, 0.0, 0.0, 0.0, 0.0, 0.0, 0.0, 0.0], [0.0, 0.0, 0.0, 0.0, 0.0, 0.0, 0.0, 0.0, 0.0, 0.0, 0.0, 0.0, 0.0, 0.0, 0.0, 0.0, 0.0, 0.0, 0.0, 0.0, 0.0, 0.0, 0.0, 0.0, 0.0, 0.0, 0.0, 0.0, 0.0, 0.0], [0.0, 0.0, 0.0, 0.0, 0.0, 0.0, 0.0, 0.0, 0.0, 0.0, 0.0, 0.0, 0.0, 0.0, 0.0, 0.0, 0.0, 0.0, 0.0, 0.0, 0.0, 0.0, 0.0, 0.0, 0.0, 0.0, 0.0, 0.0, 0.0, 0.0], [0.0, 0.0, 0.0, 0.0, 0.0, 0.0, 0.0, 0.0, 0.0, 0.0, 0.0, 0.0, 0.0, 0.0, 0.0, 0.0, 0.0, 0.0, 0.0, 0.0, 0.0, 0.0, 0.0, 0.0, 0.0, 0.0, 0.0, 0.0, 0.0, 0.0], [-0.019377589225769043, -0.009405206888914108, 0.02621542662382126, -0.0019586607813835144, -0.00819721631705761, 0.0023718434385955334, 0.010351333767175674, 0.0, 0.0, 0.0, 0.0, 0.0, 0.0, 0.0, 0.0, 0.0, 0.0, 0.0, 0.0, 0.0, 0.0, 0.0, 0.0, 0.0, 0.0, 0.0, 0.0, 0.0, 0.0, 0.0], [-0.0040090084075927734, 0.0006835963577032089, -0.00030652526766061783, 0.0003920188173651695, 0.0036697518080472946, 0.001563049852848053, -0.0026362156495451927, 0.0006432328373193741, 0.0, 0.0, 0.0, 0.0, 0.0, 0.0, 0.0, 0.0, 0.0, 0.0, 0.0, 0.0, 0.0, 0.0, 0.0, 0.0, 0.0, 0.0, 0.0, 0.0, 0.0, 0.0], [0.06581413745880127, -0.002460446208715439, -0.0018237922340631485, -0.005868803709745407, -0.018379412591457367, -0.004633068107068539, -0.009548939764499664, -0.011201060377061367, -0.011898626573383808, 0.0, 0.0, 0.0, 0.0, 0.0, 0.0, 0.0, 0.0, 0.0, 0.0, 0.0, 0.0, 0.0, 0.0, 0.0, 0.0, 0.0, 0.0, 0.0, 0.0, 0.0], [0.005988657474517822, 0.0011214148253202438, 0.001516345888376236, -0.0018632132560014725, 0.0014864858239889145, 0.00015466148033738136, -0.0015262053348124027, 0.005216512829065323, -0.008558736182749271, -0.0035359784960746765, 0.0, 0.0, 0.0, 0.0, 0.0, 0.0, 0.0, 0.0, 0.0, 0.0, 0.0, 0.0, 0.0, 0.0, 0.0, 0.0, 0.0, 0.0, 0.0, 0.0], [0.3364725708961487, 0.0028372779488563538, 0.0038621090352535248, 0.0018145604990422726, -0.0027568135410547256, 0.004038781858980656, 0.0006085392087697983, 0.006771729327738285, -0.3061598539352417, -0.062155477702617645, 0.014666550792753696, 0.0, 0.0, 0.0, 0.0, 0.0, 0.0, 0.0, 0.0, 0.0, 0.0, 0.0, 0.0, 0.0, 0.0, 0.0, 0.0, 0.0, 0.0, 0.0], [0.03559672832489014, 5.0906091928482056e-05, 0.004044936038553715, -0.00022845668718218803, -0.0021863309666514397, -0.001569112529978156, -0.00241065607406199, 0.004690570756793022, -0.02031838707625866, -0.02560235932469368, 0.00793946161866188, -7.358379662036896e-06, 0.0, 0.0, 0.0, 0.0, 0.0, 0.0, 0.0, 0.0, 0.0, 0.0, 0.0, 0.0, 0.0, 0.0, 0.0, 0.0, 0.0, 0.0], [0.2118297517299652, 0.0019452888518571854, 0.00044752564281225204, 0.001835688017308712, -0.0025504990480840206, -0.0015394426882266998, -0.000984066165983677, 0.0036245621740818024, -0.1839996725320816, -0.06268235296010971, 0.005674230866134167, 0.013516858220100403, 0.01288223173469305, 0.0, 0.0, 0.0, 0.0, 0.0, 0.0, 0.0, 0.0, 0.0, 0.0, 0.0, 0.0, 0.0, 0.0, 0.0, 0.0, 0.0], [0.012632310390472412, -0.0014796489849686623, -0.003487955778837204, 0.0006614173762500286, 0.0016688825562596321, -0.0020710488315671682, -0.001187940128147602, 0.0023138783872127533, -0.025006361305713654, -0.013228550553321838, 0.015795975923538208, -0.002506289631128311, 0.015922054648399353, -2.6751309633255005e-05, 0.0, 0.0, 0.0, 0.0, 0.0, 0.0, 0.0, 0.0, 0.0, 0.0, 0.0, 0.0, 0.0, 0.0, 0.0, 0.0], [0.19346651434898376, 0.0037598032504320145, 0.0026625744067132473, 0.0020462775137275457, 0.001518178265541792, 0.0006305603310465813, 0.003928167745471001, 0.0060057006776332855, -0.041631847620010376, -0.023935817182064056, 0.006545018404722214, 0.02872585505247116, 0.014187892898917198, -0.20653773844242096, 0.008628816343843937, 0.0, 0.0, 0.0, 0.0, 0.0, 0.0, 0.0, 0.0, 0.0, 0.0, 0.0, 0.0, 0.0, 0.0, 0.0], [0.15794944763183594, -0.004435216076672077, -0.002267635427415371, -0.0005445652641355991, -0.003321171272546053, -0.0027982420288026333, -0.007362540811300278, -0.001078696921467781, -0.014482897706329823, -0.04291759803891182, 0.0006606094539165497, -0.010119359008967876, -0.006892023608088493, -0.038598157465457916, -0.009862827137112617, -0.013929097913205624, 0.0, 0.0, 0.0, 0.0, 0.0, 0.0, 0.0, 0.0, 0.0, 0.0, 0.0, 0.0, 0.0, 0.0], [0.14057427644729614, 0.00300446804612875, 0.0008285758085548878, 0.0011479556560516357, 9.328802116215229e-05, -0.0008510567713528872, -0.0017319722101092339, 0.002543080598115921, -0.055335633456707, -0.04235344007611275, 0.0023368517868220806, 0.00930330902338028, 0.008551185950636864, -0.1789132058620453, 0.0051048691384494305, 0.1026563048362732, 0.0030411845073103905, 0.0, 0.0, 0.0, 0.0, 0.0, 0.0, 0.0, 0.0, 0.0, 0.0, 0.0, 0.0, 0.0], [0.11496341228485107, -0.004824722185730934, -0.0010963156819343567, -0.0007290528155863285, -0.012030008248984814, -0.0018567850347608328, -0.0054197050631046295, 0.00015969015657901764, -0.012180284596979618, -0.01771305687725544, -0.011638177558779716, -0.00405638013035059, -0.005357667803764343, -0.023111771792173386, -0.007480364292860031, -0.004439257085323334, -0.0037046167999505997, 0.0005149813368916512, 0.0, 0.0, 0.0, 0.0, 0.0, 0.0, 0.0, 0.0, 0.0, 0.0, 0.0, 0.0], [0.1262691468000412, 0.004636569879949093, 0.0011478317901492119, 0.001012604683637619, -0.0009524521883577108, -0.00016990466974675655, 0.001448873896151781, 0.007293384522199631, -0.04761864244937897, -0.022895336151123047, 0.0013651051558554173, -0.015498582273721695, 0.004650116432458162, -0.14726398885250092, 0.002745285164564848, 0.04393544793128967, 0.001834309659898281, 0.03286212682723999, 0.005198107101023197, 0.0, 0.0, 0.0, 0.0, 0.0, 0.0, 0.0, 0.0, 0.0, 0.0, 0.0], [-0.09642845392227173, -4.5855529606342316e-05, -0.0019141603261232376, -0.0006048469804227352, 0.003050109837204218, 0.000913486466743052, -0.0007539798971265554, 0.0035132914781570435, -0.002187257632613182, 0.00024932529777288437, 0.012619847431778908, 0.0015295562334358692, 0.013563502579927444, 0.0024988949298858643, 0.015808789059519768, 0.008989968337118626, 0.01493067853152752, 0.004972588270902634, 0.01721026562154293, 0.002084463369101286, 0.0, 0.0, 0.0, 0.0, 0.0, 0.0, 0.0, 0.0, 0.0, 0.0], [0.111321359872818, -0.0018700938671827316, -0.0004868358373641968, 0.0007031862623989582, 0.00040106987580657005, -0.0012820502743124962, -0.004091698210686445, 0.0012322915717959404, -0.04654481261968613, -0.023477818816900253, 0.0032645626924932003, 0.018879547715187073, 0.008177313953638077, -0.06378380954265594, 0.0058724526315927505, 0.04416237026453018, 0.0036474638618528843, 0.022709213197231293, 0.006024915259331465, -0.08744828402996063, 0.002589648589491844, 0.0, 0.0, 0.0, 0.0, 0.0, 0.0, 0.0, 0.0, 0.0], [-0.016709744930267334, 0.003826746717095375, 0.0037954505532979965, 0.0004456695169210434, -0.010397244244813919, -0.0016470879781991243, -0.003934020642191172, 0.0055013615638017654, -0.003987099975347519, -0.013863802887499332, 0.010114362463355064, -0.0026542856357991695, 0.007686266675591469, -0.0047020213678479195, 0.011230001226067543, -0.004789663478732109, 0.0070491973310709, 0.0015920158475637436, 0.016075793653726578, -0.001656766515225172, 0.00300399586558342, -0.005979151930660009, 0.0, 0.0, 0.0, 0.0, 0.0, 0.0, 0.0, 0.0], [0.02136114239692688, 0.002991624176502228, 0.0012460178695619106, 0.0005517927929759026, 0.00021603843197226524, 0.0006197727052494884, 0.0013437201268970966, 0.001272745430469513, -0.03902560472488403, -0.006589163094758987, 0.005183153320103884, 0.008752275258302689, 0.009340621531009674, -0.02727080136537552, 0.0071095917373895645, 0.047574158757925034, 0.004801364149898291, 0.03725730627775192, 0.006868310738354921, -0.056456297636032104, 0.005107357166707516, -0.03452030569314957, 0.002265152521431446, 0.0, 0.0, 0.0, 0.0, 0.0, 0.0, 0.0], [0.05364140868186951, 0.003701574169099331, 0.0018496564589440823, 0.0009040720760822296, 2.4235807359218597e-05, 0.0006992630660533905, 0.0011351434513926506, 0.0017189951613545418, -0.04538094624876976, -0.007166039198637009, 0.0023680853191763163, 0.0032242462038993835, 0.011167589575052261, -0.01613258570432663, 0.008525419048964977, 0.043895408511161804, 0.005364854820072651, 0.016689352691173553, 0.006382666993886232, -0.07026943564414978, 0.0025052037090063095, -0.031736601144075394, 0.0020685652270913124, 0.004819839261472225, 0.0, 0.0, 0.0, 0.0, 0.0, 0.0], [0.01977449655532837, -0.004523225128650665, -0.0026326794177293777, -0.000837474362924695, -0.008947139605879784, -0.001977452775463462, -0.004782358184456825, -0.005168021656572819, -0.007265958935022354, -0.019988959655165672, -0.0012624040246009827, -0.002019335748627782, -0.0038939379155635834, -0.002105732448399067, 0.008778683841228485, -0.0010132268071174622, 0.005980882793664932, 0.0003762065898627043, 0.017333870753645897, -0.0003867868799716234, 0.0016516689211130142, -0.0014759176410734653, 0.005334848538041115, 0.014321072027087212, -0.005271198693662882, 0.0, 0.0, 0.0, 0.0, 0.0], [-0.005873441696166992, -0.0014417953789234161, 0.003807961940765381, 0.00041157379746437073, -0.012708649039268494, 0.00015745917335152626, 0.0013353577814996243, 0.00011172611266374588, 0.0006081670871935785, 0.0005896097281947732, 0.0017743129283189774, -7.360649760812521e-07, 0.0015048268251121044, -4.7058609197847545e-05, 0.0018698368221521378, 0.00018128800729755312, 0.001747350674122572, 0.00010997729259543121, 0.0049825794994831085, 0.00024592981208115816, 0.0016347826458513737, -0.00036944891326129436, 0.00012754392810165882, -0.0001412397250533104, -0.00016288255574181676, -0.00045504048466682434, 0.0, 0.0, 0.0, 0.0], [-0.011255621910095215, 0.005473537370562553, 0.01155778020620346, 9.262189269065857e-05, -0.005722643807530403, -0.00029726698994636536, -0.0037308279424905777, -0.0002802223898470402, 0.00019243857241235673, 0.0008281797636300325, 0.0013789392542093992, -6.984063657000661e-05, 0.000927597051486373, -0.0003235799085814506, 0.0006295910570770502, 5.953875370323658e-05, 0.0006843090523034334, 0.00036313923192210495, 0.0023059346713125706, 0.000209214209462516, 0.0013031046837568283, -0.00023642249288968742, -5.182530730962753e-05, 0.0007897904142737389, -0.0003415546379983425, -0.004457862116396427, -2.79843807220459e-05, 0.0, 0.0, 0.0], [-0.017056822776794434, 0.0039018113166093826, 0.0027758926153182983, 0.0009506009519100189, -0.004598986357450485, 0.0008112885989248753, -0.0014388114213943481, -0.0008807256817817688, 0.0007875940063968301, 0.0017134647350758314, 0.003246800974011421, 3.2956741051748395e-05, 0.0017511947080492973, -0.0002843105758074671, 0.0011393469758331776, 0.00011294549040030688, 0.001296431291848421, 0.0003435859107412398, 0.003840576158836484, 0.0002142118610208854, 0.0020030601881444454, -0.0005336825852282345, -0.0006707166321575642, 0.0009031007066369057, -0.0004922596272081137, -0.004240388050675392, -0.0003039725124835968, 0.004675740376114845, 0.0, 0.0], [-0.017051637172698975, 0.00191589817404747, -0.0011223088949918747, 0.0002771085128188133, 0.0021840333938598633, 0.0030799563974142075, -0.0008485419675707817, -0.000456793699413538, 0.00039113452658057213, 0.0008747659157961607, 0.0019001215696334839, 2.0399049390107393e-05, 0.0011004137340933084, -0.0002032623451668769, 0.0009698753710836172, 1.9202125258743763e-06, 0.0008668700465932488, 0.0002534070808906108, 0.0022599948570132256, 0.00016059138579294086, 0.0011903480626642704, -0.00064612936694175, -0.00016116024926304817, 0.0005679810419678688, -0.00032632879447191954, -0.0014482475817203522, 0.00035645952448248863, 0.005467545241117477, -0.0015744799748063087, 0.0], [0.03226715326309204, 0.008819768205285072, -0.011373870074748993, 0.0011083455756306648, -0.0017431220039725304, -0.0014882886316627264, -0.007083269767463207, -0.00036065327003598213, -0.0013194165658205748, -0.0031392250675708055, -0.0006012939848005772, -0.0013692575739696622, -0.0015290600713342428, -0.0008541453862562776, -0.001143757370300591, -0.00025756313698366284, -0.0007683965959586203, -0.000122482655569911, -0.0009214855963364244, -0.0002764565288089216, -0.0007321815937757492, -0.0009549246751703322, -0.0009254477336071432, -0.0009258226491510868, -0.0007175402715802193, -0.0066643934696912766, -0.004167348146438599, 0.005896467715501785, 0.0056213997304439545, -0.004273734986782074]], [[0.0, 0.0, 0.0, 0.0, 0.0, 0.0, 0.0, 0.0, 0.0, 0.0, 0.0, 0.0, 0.0, 0.0, 0.0, 0.0, 0.0, 0.0, 0.0, 0.0, 0.0, 0.0, 0.0, 0.0, 0.0, 0.0, 0.0, 0.0, 0.0, 0.0], [0.0, 0.0, 0.0, 0.0, 0.0, 0.0, 0.0, 0.0, 0.0, 0.0, 0.0, 0.0, 0.0, 0.0, 0.0, 0.0, 0.0, 0.0, 0.0, 0.0, 0.0, 0.0, 0.0, 0.0, 0.0, 0.0, 0.0, 0.0, 0.0, 0.0], [0.0, 0.0, 0.0, 0.0, 0.0, 0.0, 0.0, 0.0, 0.0, 0.0, 0.0, 0.0, 0.0, 0.0, 0.0, 0.0, 0.0, 0.0, 0.0, 0.0, 0.0, 0.0, 0.0, 0.0, 0.0, 0.0, 0.0, 0.0, 0.0, 0.0], [0.0, 0.0, 0.0, 0.0, 0.0, 0.0, 0.0, 0.0, 0.0, 0.0, 0.0, 0.0, 0.0, 0.0, 0.0, 0.0, 0.0, 0.0, 0.0, 0.0, 0.0, 0.0, 0.0, 0.0, 0.0, 0.0, 0.0, 0.0, 0.0, 0.0], [0.0, 0.0, 0.0, 0.0, 0.0, 0.0, 0.0, 0.0, 0.0, 0.0, 0.0, 0.0, 0.0, 0.0, 0.0, 0.0, 0.0, 0.0, 0.0, 0.0, 0.0, 0.0, 0.0, 0.0, 0.0, 0.0, 0.0, 0.0, 0.0, 0.0], [0.0, 0.0, 0.0, 0.0, 0.0, 0.0, 0.0, 0.0, 0.0, 0.0, 0.0, 0.0, 0.0, 0.0, 0.0, 0.0, 0.0, 0.0, 0.0, 0.0, 0.0, 0.0, 0.0, 0.0, 0.0, 0.0, 0.0, 0.0, 0.0, 0.0], [0.09486371278762817, -0.005904443562030792, -0.009837932884693146, -0.0017983061261475086, -0.0008078550454229116, -0.07577318698167801, -0.0007419921457767487, 0.0, 0.0, 0.0, 0.0, 0.0, 0.0, 0.0, 0.0, 0.0, 0.0, 0.0, 0.0, 0.0, 0.0, 0.0, 0.0, 0.0, 0.0, 0.0, 0.0, 0.0, 0.0, 0.0], [0.01715719699859619, -0.00033522024750709534, 0.002671334892511368, 0.0023756669834256172, 0.0011232281103730202, -0.00762370228767395, -0.007321806624531746, -0.008046748116612434, 0.0, 0.0, 0.0, 0.0, 0.0, 0.0, 0.0, 0.0, 0.0, 0.0, 0.0, 0.0, 0.0, 0.0, 0.0, 0.0, 0.0, 0.0, 0.0, 0.0, 0.0, 0.0], [0.0508495569229126, -0.011381316930055618, -0.009015893563628197, -0.0037257345393300056, -0.002911399118602276, 0.002785351127386093, -0.012181760743260384, -0.011099349707365036, -0.003319479525089264, 0.0, 0.0, 0.0, 0.0, 0.0, 0.0, 0.0, 0.0, 0.0, 0.0, 0.0, 0.0, 0.0, 0.0, 0.0, 0.0, 0.0, 0.0, 0.0, 0.0, 0.0], [0.00889676809310913, -0.002456352347508073, 0.00342605821788311, -0.002331569790840149, -0.004511984996497631, -0.001154530793428421, -0.005189193412661552, -0.003782525658607483, 0.013186352327466011, -0.0060831159353256226, 0.0, 0.0, 0.0, 0.0, 0.0, 0.0, 0.0, 0.0, 0.0, 0.0, 0.0, 0.0, 0.0, 0.0, 0.0, 0.0, 0.0, 0.0, 0.0, 0.0], [0.03553327918052673, -0.004749254789203405, -0.017874792218208313, -0.0025276755914092064, -0.01254010759294033, 0.039109572768211365, -0.01406986266374588, 0.0018571838736534119, 0.015743501484394073, -0.05151766538619995, 0.011035796254873276, 0.0, 0.0, 0.0, 0.0, 0.0, 0.0, 0.0, 0.0, 0.0, 0.0, 0.0, 0.0, 0.0, 0.0, 0.0, 0.0, 0.0, 0.0, 0.0], [0.11042147874832153, -0.001231369562447071, -0.03655358403921127, -0.008362268097698689, -0.0008429415756836534, -0.017956312745809555, 0.0017775427550077438, -0.043199777603149414, 0.004467085003852844, -0.011069737374782562, 0.0007498697377741337, 0.0018001310527324677, 0.0, 0.0, 0.0, 0.0, 0.0, 0.0, 0.0, 0.0, 0.0, 0.0, 0.0, 0.0, 0.0, 0.0, 0.0, 0.0, 0.0, 0.0], [0.08621165156364441, -0.0030144723132252693, -0.0020755603909492493, -0.004284852184355259, -0.0018948274664580822, -0.030919745564460754, -0.01469472050666809, -0.09898983687162399, 0.011707540601491928, 0.02973334491252899, -0.005308941006660461, 0.032585836946964264, 0.000944625586271286, 0.0, 0.0, 0.0, 0.0, 0.0, 0.0, 0.0, 0.0, 0.0, 0.0, 0.0, 0.0, 0.0, 0.0, 0.0, 0.0, 0.0], [-0.032067060470581055, -0.0007750301156193018, -0.00570179708302021, -0.003296417184174061, -0.0009693610481917858, -0.008728185668587685, 0.00638171099126339, -0.024997510015964508, 0.015528718940913677, 0.02183050848543644, 0.0007152005564421415, 0.006156615912914276, 0.006777429021894932, 0.01914501190185547, 0.0, 0.0, 0.0, 0.0, 0.0, 0.0, 0.0, 0.0, 0.0, 0.0, 0.0, 0.0, 0.0, 0.0, 0.0, 0.0], [-0.057174354791641235, -0.009110171347856522, 0.006800483912229538, -0.00577303022146225, -0.005381370894610882, -0.034732624888420105, -0.0067477598786354065, -0.0174911767244339, 0.013695923611521721, 0.04102851450443268, -0.004239814355969429, 0.033222705125808716, 0.010336954146623611, 0.031660355627536774, 0.003905259072780609, 0.0, 0.0, 0.0, 0.0, 0.0, 0.0, 0.0, 0.0, 0.0, 0.0, 0.0, 0.0, 0.0, 0.0, 0.0], [0.17322033643722534, -0.0015513445250689983, -0.00424138642847538, -0.007612025830894709, -0.0018933259416371584, -0.04225018247961998, -0.006704959087073803, -0.03719532489776611, -0.0022069960832595825, -0.011408690363168716, -0.0036132342647761106, -0.03155362978577614, -0.0025998360943049192, -0.004494575783610344, -0.00238820631057024, -0.013506554998457432, 0.0, 0.0, 0.0, 0.0, 0.0, 0.0, 0.0, 0.0, 0.0, 0.0, 0.0, 0.0, 0.0, 0.0], [0.05806198716163635, -0.002018693834543228, 0.0037226323038339615, -0.0067231073044240475, -0.0034927548840641975, -0.028514444828033447, -0.016736045479774475, -0.028401989489793777, 0.00011560413986444473, 0.006127126514911652, -0.006444151978939772, 0.015552092343568802, -0.002642344683408737, 0.007615715265274048, -0.0015467368066310883, 0.005201324820518494, 0.00012384168803691864, 0.0, 0.0, 0.0, 0.0, 0.0, 0.0, 0.0, 0.0, 0.0, 0.0, 0.0, 0.0, 0.0], [0.14495718479156494, -0.0001997274812310934, 0.00040161609649658203, -0.0015034324023872614, -0.000391065317671746, -0.029396483674645424, 0.0007613189518451691, -0.03917048126459122, -0.002044623252004385, 0.0010399306192994118, -0.0005568955093622208, -0.011786011978983879, 0.000223472248762846, -0.0011753374710679054, 0.000540801789611578, -0.018274053931236267, 0.00039052614010870457, -0.04381677508354187, 0.0, 0.0, 0.0, 0.0, 0.0, 0.0, 0.0, 0.0, 0.0, 0.0, 0.0, 0.0], [0.18154582381248474, -0.0029907990247011185, 0.005617431364953518, -0.0029620002023875713, -0.001541024073958397, -0.012501358985900879, -0.005852267146110535, -0.022969812154769897, -0.004774628207087517, -0.0016535110771656036, -0.006139902863651514, 0.012862440198659897, -0.0035621533170342445, 0.0030803997069597244, -0.005122588947415352, -0.005214601755142212, -0.0023234430700540543, -0.11686982214450836, -0.00862822961062193, 0.0, 0.0, 0.0, 0.0, 0.0, 0.0, 0.0, 0.0, 0.0, 0.0, 0.0], [0.08815926313400269, -0.0006116213044151664, -0.004848026670515537, -0.0002890738542191684, -0.00018860941054299474, -0.007716851308941841, 0.0009176889434456825, -0.005037395283579826, -0.00021083885803818703, 0.0015764636918902397, 0.0004091935115866363, -0.007708759047091007, 0.0016709360061213374, -0.0017336932942271233, 0.0006374900694936514, -0.008716972544789314, 0.0006056491984054446, -0.0397668331861496, -0.0009268664289265871, -0.016221093013882637, 0.0, 0.0, 0.0, 0.0, 0.0, 0.0, 0.0, 0.0, 0.0, 0.0], [0.1399051547050476, -0.0017703957855701447, 0.003847128711640835, -0.001459115301258862, -0.0007684174925088882, -0.02599222958087921, -0.004691958427429199, -0.028964437544345856, -0.0005926992744207382, 0.014930140227079391, -0.002685162704437971, 0.00847209058701992, -2.43261456489563e-06, 0.004087183624505997, -0.0014402838423848152, -0.016603007912635803, -9.377673268318176e-05, -0.10683534294366837, -0.009134677238762379, 0.030522417277097702, -0.0007301098667085171, 0.0, 0.0, 0.0, 0.0, 0.0, 0.0, 0.0, 0.0, 0.0], [0.0959017276763916, 0.0009020500583574176, 0.01960565336048603, 0.0004291362129151821, 3.821664722636342e-05, 0.01816820539534092, 0.010706743225455284, -0.01488763839006424, 0.0012933416292071342, 0.005626700818538666, 0.0007875159499235451, -0.008186018094420433, 0.004637364763766527, 0.004863546695560217, 0.003565469291061163, 0.0011818939819931984, 0.0020025083795189857, -0.01128806546330452, 0.0020798612385988235, 0.006417997181415558, 0.0009594776201993227, -0.1448056399822235, 0.0, 0.0, 0.0, 0.0, 0.0, 0.0, 0.0, 0.0], [0.30550438165664673, 0.005849422886967659, 0.014486085623502731, 0.0008952565840445459, 0.002864637179300189, 0.07133159786462784, 0.032473720610141754, 0.018630795180797577, 0.013368971645832062, 0.04728361964225769, 0.004745124373584986, 0.03080487996339798, 0.015671543776988983, 0.011923649348318577, 0.01238724123686552, 0.030157942324876785, 0.010207626968622208, 0.00846356712281704, 0.006107764318585396, 0.05083216354250908, 0.005799091421067715, -0.7017230987548828, 0.0019339960999786854, 0.0, 0.0, 0.0, 0.0, 0.0, 0.0, 0.0], [0.2846246361732483, 0.005942957475781441, 0.008923904038965702, 0.0032436077017337084, 0.004558800254017115, 0.10715045779943466, 0.018325943499803543, 0.007480833679437637, 0.005728664342314005, 0.02914934791624546, 0.006898820400238037, 0.019310932606458664, 0.015927810221910477, 0.005156273487955332, 0.012110100127756596, 0.009711760096251965, 0.011179114691913128, -0.008775684982538223, 0.0066861119121313095, 0.042295511811971664, 0.005605542100965977, -0.6014768481254578, 0.0019444199278950691, -0.001702895388007164, 0.0, 0.0, 0.0, 0.0, 0.0, 0.0], [0.32555925846099854, -0.0012023140443488955, -0.002671613357961178, -0.00014177686534821987, -1.960550434887409e-06, -0.015160160139203072, 0.003283894620835781, -0.01342378556728363, -0.00026360759511590004, 0.0016310573555529118, 0.001273509580641985, -0.012735147960484028, 0.0026942419353872538, -0.0006624059751629829, 0.0019414915004745126, -0.0059120929799973965, 0.0011487279552966356, -0.010297589935362339, 0.0011234321864321828, -0.013471157290041447, 0.0002981241559609771, -0.22053420543670654, -0.0002790292492136359, -0.004234458319842815, -0.03796250745654106, 0.0, 0.0, 0.0, 0.0, 0.0], [0.2041085958480835, 0.00045541999861598015, 0.0056898463517427444, 0.004082578234374523, 0.002661400940269232, 0.01581190526485443, 0.007966476492583752, -0.0054137855768203735, 0.004941339138895273, 0.028774505481123924, 0.004682715982198715, 0.0008976645767688751, 0.010420333594083786, 0.013424360193312168, 0.004167761188000441, 0.008971438743174076, 0.0036111827939748764, -0.02710341289639473, 0.0006810193881392479, -0.00037274137139320374, -0.0006524911150336266, -0.21112817525863647, -0.0008047455921769142, -0.0071609895676374435, -0.06550844013690948, -0.0032037682831287384, 0.0, 0.0, 0.0, 0.0], [0.24796348810195923, 0.0017711920663714409, 0.0020644869655370712, 0.00026060454547405243, 0.0015441058203577995, 0.010181255638599396, 0.001871025189757347, -0.004986105486750603, -4.924507811665535e-05, 0.013492239639163017, 0.005503305234014988, -0.0009674113243818283, 0.004999372176826, 0.0038154209032654762, 0.002594010904431343, -0.0037713320925831795, 0.0030026580207049847, -0.018758615478873253, 0.0009985538199543953, -0.006666745990514755, -0.001089088385924697, -0.19149023294448853, -0.0019478278700262308, -0.0066291820257902145, -0.03869762271642685, -0.00620708242058754, -0.01880119927227497, 0.0, 0.0, 0.0], [0.11398905515670776, 0.004886789247393608, 0.014026807621121407, 0.004396077245473862, 0.00574205256998539, 0.10319988429546356, 0.009603159502148628, 0.008500456809997559, 0.01523758377879858, 0.0916564017534256, 0.017596691846847534, 0.0714138075709343, 0.021482393145561218, 0.03264370560646057, 0.011226977221667767, 0.03535054996609688, 0.008541930466890335, -0.012566804885864258, 0.005961242597550154, 0.08032889664173126, 0.002691684290766716, -0.6295392513275146, 0.00232159742154181, 0.002358192577958107, -0.04808807000517845, 0.006446419283747673, 0.01256658136844635, 0.008025182411074638, 0.0, 0.0], [0.15381993353366852, 0.006040541455149651, 0.013294020667672157, 0.006486373953521252, 0.006689104251563549, 0.1220216155052185, 0.00855051539838314, 0.015197105705738068, 0.01235459465533495, 0.06417372822761536, 0.019487611949443817, 0.03056972473859787, 0.016137808561325073, 0.016717171296477318, 0.010120194405317307, 0.015263873152434826, 0.007136714644730091, -0.010892271064221859, 0.0049454099498689175, 0.04652663320302963, 0.002972004469484091, -0.5555086731910706, 0.0020014443434774876, -6.683822721242905e-05, -0.03754214942455292, 0.004356877878308296, 0.005315162241458893, 0.006831734906882048, 0.007000058889389038, 0.0], [0.0339818000793457, 0.004910289775580168, 0.0017300103791058064, 0.004599431529641151, 0.005381140857934952, 0.02256694622337818, 0.003786439774557948, -0.005914613604545593, 0.0036699387710541487, 0.01741102896630764, 0.0066577414982020855, 0.0011260975152254105, 0.004657465498894453, 0.005272550508379936, 0.0028923458885401487, 0.0049416180700063705, 0.0018742906395345926, -0.0005297225434333086, 0.0017499278765171766, 0.012205895967781544, 0.0008914345526136458, -0.09549067914485931, 0.0002279755426570773, -0.0023931930772960186, 0.006770683452486992, -0.005667616613209248, 0.0010859686881303787, 0.004133653361350298, 0.007652296219021082, -0.050181224942207336]], [[0.0, 0.0, 0.0, 0.0, 0.0, 0.0, 0.0, 0.0, 0.0, 0.0, 0.0, 0.0, 0.0, 0.0, 0.0, 0.0, 0.0, 0.0, 0.0, 0.0, 0.0, 0.0, 0.0, 0.0, 0.0, 0.0, 0.0, 0.0, 0.0, 0.0], [0.0, 0.0, 0.0, 0.0, 0.0, 0.0, 0.0, 0.0, 0.0, 0.0, 0.0, 0.0, 0.0, 0.0, 0.0, 0.0, 0.0, 0.0, 0.0, 0.0, 0.0, 0.0, 0.0, 0.0, 0.0, 0.0, 0.0, 0.0, 0.0, 0.0], [0.0, 0.0, 0.0, 0.0, 0.0, 0.0, 0.0, 0.0, 0.0, 0.0, 0.0, 0.0, 0.0, 0.0, 0.0, 0.0, 0.0, 0.0, 0.0, 0.0, 0.0, 0.0, 0.0, 0.0, 0.0, 0.0, 0.0, 0.0, 0.0, 0.0], [0.0, 0.0, 0.0, 0.0, 0.0, 0.0, 0.0, 0.0, 0.0, 0.0, 0.0, 0.0, 0.0, 0.0, 0.0, 0.0, 0.0, 0.0, 0.0, 0.0, 0.0, 0.0, 0.0, 0.0, 0.0, 0.0, 0.0, 0.0, 0.0, 0.0], [0.0, 0.0, 0.0, 0.0, 0.0, 0.0, 0.0, 0.0, 0.0, 0.0, 0.0, 0.0, 0.0, 0.0, 0.0, 0.0, 0.0, 0.0, 0.0, 0.0, 0.0, 0.0, 0.0, 0.0, 0.0, 0.0, 0.0, 0.0, 0.0, 0.0], [0.0, 0.0, 0.0, 0.0, 0.0, 0.0, 0.0, 0.0, 0.0, 0.0, 0.0, 0.0, 0.0, 0.0, 0.0, 0.0, 0.0, 0.0, 0.0, 0.0, 0.0, 0.0, 0.0, 0.0, 0.0, 0.0, 0.0, 0.0, 0.0, 0.0], [-0.0027192234992980957, 0.000361013924703002, 0.0002616841811686754, 0.00018448240007273853, 6.113416748121381e-05, 0.000899926177226007, 0.000951042806264013, 0.0, 0.0, 0.0, 0.0, 0.0, 0.0, 0.0, 0.0, 0.0, 0.0, 0.0, 0.0, 0.0, 0.0, 0.0, 0.0, 0.0, 0.0, 0.0, 0.0, 0.0, 0.0, 0.0], [-0.05244404077529907, 0.004613617435097694, 0.0029178429394960403, 0.0005504731088876724, 0.04186369478702545, -0.0011901520192623138, 0.00010223593562841415, 0.003586411476135254, 0.0, 0.0, 0.0, 0.0, 0.0, 0.0, 0.0, 0.0, 0.0, 0.0, 0.0, 0.0, 0.0, 0.0, 0.0, 0.0, 0.0, 0.0, 0.0, 0.0, 0.0, 0.0], [0.09080100059509277, 0.0011205968912690878, -0.000820790883153677, -0.00010661594569683075, 0.0051559992134571075, -0.03503025323152542, -0.02196592465043068, -0.006909696850925684, -0.03224435821175575, 0.0, 0.0, 0.0, 0.0, 0.0, 0.0, 0.0, 0.0, 0.0, 0.0, 0.0, 0.0, 0.0, 0.0, 0.0, 0.0, 0.0, 0.0, 0.0, 0.0, 0.0], [0.018112599849700928, 0.00023708026856184006, 0.0004123831167817116, -0.0009720890084281564, -0.005295095033943653, -0.006088482216000557, -0.005839628167450428, -0.0012160427868366241, 0.0005334822926670313, 0.00011572614312171936, 0.0, 0.0, 0.0, 0.0, 0.0, 0.0, 0.0, 0.0, 0.0, 0.0, 0.0, 0.0, 0.0, 0.0, 0.0, 0.0, 0.0, 0.0, 0.0, 0.0], [-0.06069070100784302, -0.00013995543122291565, 0.011186020448803902, 0.00033349101431667805, -0.006485678255558014, -0.00574382534250617, -0.0002090709749609232, -0.003421744331717491, 0.05306585133075714, 0.011591197922825813, 0.0005143930902704597, 0.0, 0.0, 0.0, 0.0, 0.0, 0.0, 0.0, 0.0, 0.0, 0.0, 0.0, 0.0, 0.0, 0.0, 0.0, 0.0, 0.0, 0.0, 0.0], [0.0426517128944397, -0.0005395219195634127, -0.0031040534377098083, -0.0005891520995646715, -0.00030201859772205353, -0.0021322285756468773, -0.0014730098191648722, -0.008209147490561008, -0.0010534659959375858, -0.003512538969516754, -0.007944479584693909, -0.013792039826512337, 0.0, 0.0, 0.0, 0.0, 0.0, 0.0, 0.0, 0.0, 0.0, 0.0, 0.0, 0.0, 0.0, 0.0, 0.0, 0.0, 0.0, 0.0], [0.07395470142364502, -0.00038865377428010106, -0.005053839646279812, -0.0002693260321393609, -0.006148775573819876, -0.0020478209480643272, -0.003918381407856941, -0.0005632874090224504, -0.0005536305252462626, 0.0006880084984004498, -3.1772564398124814e-05, -0.05601268634200096, 0.0003453728277236223, 0.0, 0.0, 0.0, 0.0, 0.0, 0.0, 0.0, 0.0, 0.0, 0.0, 0.0, 0.0, 0.0, 0.0, 0.0, 0.0, 0.0], [0.03939080238342285, -0.0007258050609380007, -0.005848258268088102, -0.0006168129621073604, -0.0005516575183719397, -0.0025033403653651476, -0.0031040438916534185, -0.01631275564432144, 0.0002108145272359252, 0.00021340418606996536, -0.002206786535680294, -0.00619844812899828, -0.0038739722222089767, 0.0021267859265208244, 0.0, 0.0, 0.0, 0.0, 0.0, 0.0, 0.0, 0.0, 0.0, 0.0, 0.0, 0.0, 0.0, 0.0, 0.0, 0.0], [0.017888426780700684, -0.000508361030369997, 3.778375685214996e-05, 7.464434020221233e-05, -0.002880726009607315, -0.0004199303511995822, -0.0011971581261605024, -0.00015134361456148326, 0.00040669599547982216, 0.0006080322782509029, 2.1129082597326487e-05, -0.006625353824347258, 0.00025409916997887194, -0.00792667455971241, 0.0004185626457910985, 0.0, 0.0, 0.0, 0.0, 0.0, 0.0, 0.0, 0.0, 0.0, 0.0, 0.0, 0.0, 0.0, 0.0, 0.0], [0.013507187366485596, -0.0005951963248662651, 0.0005197328282520175, -0.00013463935465551913, -0.0012808016035705805, -0.001617391943000257, -0.0008474376518279314, -0.005886227823793888, -0.0001884116791188717, -0.00364609993994236, -0.0013102114899083972, -0.001800869358703494, -0.000306061003357172, 0.0027207122184336185, 0.0022284078877419233, -0.001362495357170701, 0.0, 0.0, 0.0, 0.0, 0.0, 0.0, 0.0, 0.0, 0.0, 0.0, 0.0, 0.0, 0.0, 0.0], [0.02249729633331299, -0.0004492170992307365, -0.0008956713136285543, -2.6634341338649392e-05, -0.0026521987747401, -0.0005789488786831498, -0.001347058336250484, -0.0001258534612134099, -6.516958819702268e-06, 0.00016925850650295615, 5.709207471227273e-06, -0.0038061824161559343, 0.00010972759628202766, -0.007799804676324129, 0.00026219646679237485, -0.005457141436636448, 0.00010085300891660154, 0.0, 0.0, 0.0, 0.0, 0.0, 0.0, 0.0, 0.0, 0.0, 0.0, 0.0, 0.0, 0.0], [0.004590094089508057, -0.0006850594654679298, -0.00149602722376585, -0.00025163672398775816, -0.0003426814218983054, -0.00014264771016314626, -0.00031967402901500463, -0.010753716342151165, 0.0008356340113095939, 0.0016340703004971147, -0.00018239534983877093, 0.0014867485733702779, 0.000625785905867815, 0.004375114571303129, 0.0004202377749606967, 0.00026119803078472614, 0.001427885377779603, -0.0014830875443294644, 0.0, 0.0, 0.0, 0.0, 0.0, 0.0, 0.0, 0.0, 0.0, 0.0, 0.0, 0.0], [0.008566737174987793, 0.0008200023439712822, 0.0003608453553169966, 0.0003418090636841953, 0.00035218149423599243, -4.644063301384449e-05, 0.0005178990541025996, -2.7359434170648456e-05, 4.517217166721821e-05, 0.0004170337924733758, -2.9043585527688265e-06, -0.002039422048255801, 7.586848369101062e-05, -0.002803076757118106, 9.253725875169039e-05, -0.00043440423905849457, 8.43997040647082e-05, -0.006414311937987804, 9.358103852719069e-05, 0.0, 0.0, 0.0, 0.0, 0.0, 0.0, 0.0, 0.0, 0.0, 0.0, 0.0], [-0.046257972717285156, 0.0001219121040776372, -0.000474344240501523, 0.0004572912584990263, 0.0016879827016964555, 0.0003735581994988024, 0.0010861179325729609, -0.000555064994841814, 8.22070287540555e-05, 0.010020643472671509, 0.002468068851158023, 0.0010252895299345255, 0.008156479336321354, 0.005097777582705021, 0.00768054137006402, 0.002868382493034005, 0.0033966372720897198, 0.0006968305679038167, 0.0009014981333166361, 0.001166298519819975, 0.0, 0.0, 0.0, 0.0, 0.0, 0.0, 0.0, 0.0, 0.0, 0.0], [-0.003283560276031494, 0.00038935820339247584, 0.001317071495577693, 0.0006229603895917535, 0.000456692767329514, -3.132282290607691e-05, 0.00025001424364745617, 2.155741094611585e-05, 0.0002725087688304484, 0.0008516854722984135, 5.90949748584535e-05, 0.0009123962372541428, 0.0004444076621439308, 0.003121820976957679, 0.0007011122652329504, 0.0023535501677542925, 0.00031298695830628276, -0.0021992858964949846, 0.00032653933158144355, -0.00779243279248476, 0.0008929785108193755, 0.0, 0.0, 0.0, 0.0, 0.0, 0.0, 0.0, 0.0, 0.0], [-0.005720078945159912, -0.0002913068747147918, -0.0005115051753818989, -0.00012324517592787743, -0.0014767725951969624, -0.00017790880519896746, -0.0018461606232449412, -0.000607282854616642, -0.0001636118977330625, 0.0007921790238469839, 0.0012773436028510332, -0.00022614316549152136, 0.003086662385612726, -0.0017927871085703373, 0.004444833844900131, 7.618812378495932e-05, 0.0035832892172038555, -0.001019011135213077, 0.000270385411567986, -0.0016827252693474293, 0.0029004490934312344, -0.0007926770485937595, 0.0, 0.0, 0.0, 0.0, 0.0, 0.0, 0.0, 0.0], [-0.04891932010650635, 0.00023257517023012042, 0.0017319591715931892, 0.0006159048643894494, 0.0015834822552278638, 0.0001168098533526063, 0.0003837177064269781, -3.723488771356642e-05, 0.0002484230790287256, 0.0008838177309371531, 7.929439743747935e-05, 0.0017028118018060923, 0.00046219059731811285, 0.0017901449464261532, 0.0008141092257574201, 0.0034623821265995502, 0.0004039498162455857, 0.0010656826198101044, 0.00026475952472537756, 0.0042678071185946465, 0.000901909894309938, 0.02652079612016678, 0.001424083486199379, 0.0, 0.0, 0.0, 0.0, 0.0, 0.0, 0.0], [-0.04322594404220581, 0.00016998057253658772, 0.0014179111458361149, 0.0005690078251063824, 0.0035649635829031467, 8.749263361096382e-05, -9.7217271104455e-05, -6.630821735598147e-05, 0.0003530320536810905, 0.0012441910803318024, 0.00011098793765995651, 0.0009565888904035091, 0.0004928288981318474, 0.001290507148951292, 0.000780861999373883, 0.0017424272373318672, 0.0006050372030586004, -0.0012303031980991364, 0.0004012330318801105, 0.002534543164074421, 0.0007195148500613868, 0.022869478911161423, 0.0009741222602315247, 0.003735052654519677, 0.0, 0.0, 0.0, 0.0, 0.0, 0.0], [0.009437024593353271, -0.0013538129860535264, -0.00040178606286644936, -0.00025300239212810993, -0.001025512581691146, -0.0006708363071084023, -0.004691368900239468, -0.008423945866525173, -0.00012175666051916778, 0.002479806076735258, 0.0006864109309390187, 0.0004769749939441681, 0.0012122867628932, -0.000408427556976676, 0.001328260637819767, 6.697583012282848e-05, 0.0003759012324735522, -0.0005285048391669989, -0.0002152079250663519, -0.00021185388322919607, 0.0006233633030205965, -0.0011499456595629454, 0.0023850705474615097, 0.0017703191842883825, -0.0013862145133316517, 0.0, 0.0, 0.0, 0.0, 0.0], [0.0017838478088378906, 3.3896416425704956e-05, -0.0012640072964131832, 0.0002560295397415757, -0.001114879734814167, -0.00017562555149197578, -0.0006150125991553068, -0.0004884116351604462, 0.0006075018900446594, 0.0016671246849000454, 0.000495488871820271, 0.0005859778029844165, 0.00021921549341641366, -0.000207170145586133, 0.00012543349293991923, -0.00014215719420462847, 6.041798769729212e-05, -9.451006189920008e-05, 0.00013319216668605804, -7.920355710666627e-05, 1.1548938346095383e-05, -0.0011782350484281778, 1.5126275684451684e-05, -2.7666144887916744e-05, -0.000352753879269585, -0.00025516003370285034, 0.0, 0.0, 0.0, 0.0], [-0.0007030963897705078, 0.0002396180061623454, 8.626340422779322e-05, 0.00021521816961467266, -0.00013495085295289755, 0.00010263553122058511, -4.8800575314089656e-05, -0.0005520577542483807, 0.00029235114925540984, 0.0012298235669732094, 0.00031315756496042013, 0.0002431703032925725, 8.666267967782915e-05, -0.000180832197656855, -3.495358396321535e-05, 3.198769991286099e-05, 2.9105707653798163e-05, 4.469115083338693e-05, 2.6018780772574246e-05, 6.767184095224366e-05, 4.355394412414171e-05, -0.0003792940406128764, 2.41898960666731e-05, 3.087811637669802e-05, -0.00015288042777683586, -8.17597028799355e-05, -0.0008386069675907493, 0.0, 0.0, 0.0], [-0.03514218330383301, 0.002593550132587552, 0.000528366828802973, 0.0013898592442274094, 0.022000472992658615, 0.0007054635789245367, 0.0003014904214069247, 0.00010273302905261517, 0.0017746875528246164, 0.0031544023659080267, 0.00015909987268969417, 0.0024398493114858866, 3.967980228480883e-05, 8.074194192886353e-05, 1.564875310577918e-05, 0.0005975591484457254, 1.0122243111254647e-05, 0.00017924635903909802, 1.504442116129212e-05, 0.0004255429666955024, 9.77131276158616e-06, -0.0009370096959173679, -4.014509613625705e-07, 7.015081791905686e-06, -0.00031623366521671414, -6.160963675938547e-05, -8.371984586119652e-05, 1.0914169251918793e-05, 0.0, 0.0], [-0.05470550060272217, 0.0015695325564593077, 0.000450251332949847, 0.000288711249595508, 0.046252913773059845, 0.0009005271131172776, 0.0004716995172202587, 0.00011328267282806337, 0.0012499650474637747, 0.0024618699681013823, 0.00011539183469722047, 0.0009699215879663825, 3.81274803658016e-05, -0.0001754022086970508, 1.5958654330461286e-05, 0.00022708458709530532, 1.4888663827150594e-05, 8.912128396332264e-05, 2.116938958351966e-05, 0.00016819984011817724, 1.0201324585068505e-05, -0.00046336924424394965, -2.5422104954486713e-07, 8.094226359389722e-06, -0.00017757757450453937, -3.834094968624413e-05, 4.9938797019422054e-05, 9.44277853704989e-05, -2.0906329154968262e-05, 0.0], [-0.00228118896484375, 0.00023931334726512432, -0.00014239223673939705, 0.0005629276856780052, 0.0019654398784041405, -0.00025012530386447906, 0.00012085284106433392, -0.0028909514658153057, -0.00023766723461449146, 0.0053877076134085655, 0.0007315744878724217, 0.00034776143729686737, 0.00013121264055371284, -0.00064559665042907, -8.400005026487634e-05, 0.0002295455487910658, -3.4869808587245643e-06, -0.00015211914433166385, -7.100879156496376e-05, -8.530047489330173e-05, 6.906583439558744e-05, -0.002296414226293564, -4.0171398723032326e-05, -6.825104355812073e-05, -0.0012795088114216924, -0.0004965679254382849, -0.0006822716677561402, -0.0008924241992644966, -0.00020978477550670505, 0.003023772034794092]], [[0.0, 0.0, 0.0, 0.0, 0.0, 0.0, 0.0, 0.0, 0.0, 0.0, 0.0, 0.0, 0.0, 0.0, 0.0, 0.0, 0.0, 0.0, 0.0, 0.0, 0.0, 0.0, 0.0, 0.0, 0.0, 0.0, 0.0, 0.0, 0.0, 0.0], [0.0, 0.0, 0.0, 0.0, 0.0, 0.0, 0.0, 0.0, 0.0, 0.0, 0.0, 0.0, 0.0, 0.0, 0.0, 0.0, 0.0, 0.0, 0.0, 0.0, 0.0, 0.0, 0.0, 0.0, 0.0, 0.0, 0.0, 0.0, 0.0, 0.0], [0.0, 0.0, 0.0, 0.0, 0.0, 0.0, 0.0, 0.0, 0.0, 0.0, 0.0, 0.0, 0.0, 0.0, 0.0, 0.0, 0.0, 0.0, 0.0, 0.0, 0.0, 0.0, 0.0, 0.0, 0.0, 0.0, 0.0, 0.0, 0.0, 0.0], [0.0, 0.0, 0.0, 0.0, 0.0, 0.0, 0.0, 0.0, 0.0, 0.0, 0.0, 0.0, 0.0, 0.0, 0.0, 0.0, 0.0, 0.0, 0.0, 0.0, 0.0, 0.0, 0.0, 0.0, 0.0, 0.0, 0.0, 0.0, 0.0, 0.0], [0.0, 0.0, 0.0, 0.0, 0.0, 0.0, 0.0, 0.0, 0.0, 0.0, 0.0, 0.0, 0.0, 0.0, 0.0, 0.0, 0.0, 0.0, 0.0, 0.0, 0.0, 0.0, 0.0, 0.0, 0.0, 0.0, 0.0, 0.0, 0.0, 0.0], [0.0, 0.0, 0.0, 0.0, 0.0, 0.0, 0.0, 0.0, 0.0, 0.0, 0.0, 0.0, 0.0, 0.0, 0.0, 0.0, 0.0, 0.0, 0.0, 0.0, 0.0, 0.0, 0.0, 0.0, 0.0, 0.0, 0.0, 0.0, 0.0, 0.0], [0.025233805179595947, -0.009477459825575352, -0.07829655706882477, -0.0140761137008667, 0.03215242177248001, 0.036528877913951874, 0.007934819906949997, 0.0, 0.0, 0.0, 0.0, 0.0, 0.0, 0.0, 0.0, 0.0, 0.0, 0.0, 0.0, 0.0, 0.0, 0.0, 0.0, 0.0, 0.0, 0.0, 0.0, 0.0, 0.0, 0.0], [-0.033189475536346436, 2.3315660655498505e-06, 0.0015119798481464386, 0.0015369318425655365, 0.00443587452173233, 0.0032434724271297455, 0.021404478698968887, 0.0010544154793024063, 0.0, 0.0, 0.0, 0.0, 0.0, 0.0, 0.0, 0.0, 0.0, 0.0, 0.0, 0.0, 0.0, 0.0, 0.0, 0.0, 0.0, 0.0, 0.0, 0.0, 0.0, 0.0], [0.07677340507507324, -0.0017303801141679287, -0.024498077109456062, -0.006785706151276827, -0.005093574523925781, -0.005663730204105377, -0.0034760558046400547, 0.011553078889846802, -0.041078872978687286, 0.0, 0.0, 0.0, 0.0, 0.0, 0.0, 0.0, 0.0, 0.0, 0.0, 0.0, 0.0, 0.0, 0.0, 0.0, 0.0, 0.0, 0.0, 0.0, 0.0, 0.0], [-0.21391239762306213, -0.00013739813584834337, -0.003985334653407335, -0.0045099216513335705, -0.0005289323162287474, 0.00028406688943505287, 0.0015449700877070427, 0.1009567379951477, 0.12850545346736908, -0.00821712240576744, 0.0, 0.0, 0.0, 0.0, 0.0, 0.0, 0.0, 0.0, 0.0, 0.0, 0.0, 0.0, 0.0, 0.0, 0.0, 0.0, 0.0, 0.0, 0.0, 0.0], [0.010691165924072266, -0.00018712622113525867, -0.0006806915625929832, 0.0007005319930613041, -0.0016706325113773346, -0.005645311437547207, 0.00328616239130497, 0.06251004338264465, -0.03417178988456726, -0.041549280285835266, 0.0067170001566410065, 0.0, 0.0, 0.0, 0.0, 0.0, 0.0, 0.0, 0.0, 0.0, 0.0, 0.0, 0.0, 0.0, 0.0, 0.0, 0.0, 0.0, 0.0, 0.0], [-0.0019290447235107422, -0.00023460850934498012, -0.0026537070516496897, -0.0013670949265360832, -0.0010738023556768894, 0.00011573336087167263, -0.0011984305456280708, -0.036790117621421814, 0.01672101765871048, -0.007383039221167564, 0.04536358267068863, -0.009570464491844177, 0.0, 0.0, 0.0, 0.0, 0.0, 0.0, 0.0, 0.0, 0.0, 0.0, 0.0, 0.0, 0.0, 0.0, 0.0, 0.0, 0.0, 0.0], [0.056484758853912354, -6.449222564697266e-05, -0.0013334620743989944, -0.0026124902069568634, -0.0019251564517617226, -0.010193897411227226, -0.00021292828023433685, 0.03540274500846863, -0.003523595631122589, -0.010292399674654007, -0.045771993696689606, -0.016956903040409088, 0.0009998157620429993, 0.0, 0.0, 0.0, 0.0, 0.0, 0.0, 0.0, 0.0, 0.0, 0.0, 0.0, 0.0, 0.0, 0.0, 0.0, 0.0, 0.0], [-0.07042199373245239, 0.00016380823217332363, 0.00010973727330565453, 0.0033927028998732567, 0.0004491908475756645, 0.0003586583770811558, 0.0010736496187746525, -0.027005493640899658, 0.018561262637376785, -0.004313947632908821, 0.016659339889883995, -0.014793578535318375, 0.06166882812976837, 0.014097912237048149, 0.0, 0.0, 0.0, 0.0, 0.0, 0.0, 0.0, 0.0, 0.0, 0.0, 0.0, 0.0, 0.0, 0.0, 0.0, 0.0], [-0.005713939666748047, 0.0003552440321072936, 0.00195461418479681, 0.0031491918489336967, -0.0009097368456423283, -0.009260252118110657, 0.008450167253613472, 0.028128311038017273, 0.005379203706979752, -0.02163410186767578, -0.0005744323134422302, -0.02956126444041729, 0.017268184572458267, 0.0011506769806146622, 0.001818135380744934, 0.0, 0.0, 0.0, 0.0, 0.0, 0.0, 0.0, 0.0, 0.0, 0.0, 0.0, 0.0, 0.0, 0.0, 0.0], [0.19936741888523102, 0.0001191286719404161, 0.0004771652165800333, 0.0015058324206620455, -0.0006450637010857463, 0.00024878920521587133, -0.0036823125556111336, -0.2785985469818115, 0.0020011281594634056, -0.007028600201010704, 0.008029015734791756, -0.01286940835416317, 0.034907277673482895, 0.012914740480482578, 0.047315213829278946, -0.0040618120692670345, 0.0, 0.0, 0.0, 0.0, 0.0, 0.0, 0.0, 0.0, 0.0, 0.0, 0.0, 0.0, 0.0, 0.0], [0.026963770389556885, 0.00013500172644853592, 0.0017934953793883324, 0.005355914123356342, 0.0002013249322772026, -0.004863482899963856, 0.006860390305519104, 0.047438353300094604, -0.013376958668231964, -0.014500532299280167, -0.008473895490169525, -0.015382465906441212, 0.004276309162378311, -0.000881420448422432, -0.003903992474079132, -0.020800545811653137, -0.01084129884839058, 0.0, 0.0, 0.0, 0.0, 0.0, 0.0, 0.0, 0.0, 0.0, 0.0, 0.0, 0.0, 0.0], [0.25309622287750244, 0.0001472293515689671, 0.0009129014797508717, 0.005764688365161419, 0.0004446243401616812, 0.001028034370392561, -0.00023366324603557587, -0.3037238121032715, 0.007217409089207649, -0.008044397458434105, 0.005531055852770805, -0.004355994984507561, 0.016764327883720398, 0.00436675688251853, 0.010749511420726776, -0.0037521389313042164, 0.016428276896476746, -0.0023410730063915253, 0.0, 0.0, 0.0, 0.0, 0.0, 0.0, 0.0, 0.0, 0.0, 0.0, 0.0, 0.0], [-0.05297401547431946, 0.000375444651581347, 0.00047217216342687607, 0.001809590496122837, 0.0009633861482143402, -0.0004330221563577652, 0.006474731490015984, 0.04597441479563713, 0.01640022173523903, -0.0068516917526721954, 0.00817275419831276, -0.007768518291413784, 0.010248351842164993, 0.0023120949044823647, 0.0040157996118068695, -0.012521491385996342, 0.0017627440392971039, -0.017924044281244278, -0.0005088374018669128, 0.0, 0.0, 0.0, 0.0, 0.0, 0.0, 0.0, 0.0, 0.0, 0.0, 0.0], [-0.008230537176132202, 5.400998634286225e-05, 0.00031069922260940075, 0.00046464381739497185, -4.297588020563126e-06, 1.1191819794476032e-05, 0.004421445541083813, -0.10948026180267334, 0.003190171904861927, 0.00205508666113019, 0.01551348902285099, -0.0011669376399368048, 0.015261346474289894, 0.00345431175082922, 0.016461504623293877, -8.446210995316505e-05, 0.01675548031926155, 0.00036605261266231537, 0.035019561648368835, 0.005627423524856567, 0.0, 0.0, 0.0, 0.0, 0.0, 0.0, 0.0, 0.0, 0.0, 0.0], [-0.027346819639205933, -1.6924110241234303e-05, -0.0027007265016436577, -0.002251114696264267, -0.0020413855090737343, -0.00367001723498106, 0.0023170430213212967, 0.004820980131626129, -0.003848690539598465, -0.008099495433270931, 0.010548237711191177, -0.00821433961391449, 0.013507930561900139, 0.0018549086526036263, 0.009757371619343758, -0.007747345604002476, 0.0060824062675237656, -0.008622297085821629, 0.013525817543268204, 0.01869184337556362, -0.0065472908318042755, 0.0, 0.0, 0.0, 0.0, 0.0, 0.0, 0.0, 0.0, 0.0], [0.10211706161499023, -2.263282658532262e-05, -0.001193765550851822, 0.0022918921895325184, 2.7201254852116108e-05, 0.0007376181893050671, 0.007379657588899136, -0.037490129470825195, 0.0006214044988155365, -0.001547901425510645, 0.0007877573370933533, -0.001977333566173911, -0.0057678502053022385, 0.0010463115759193897, -0.004228357225656509, -0.0031613577157258987, -0.0173617135733366, -0.003134598024189472, -0.007912226021289825, 0.0015385113656520844, -0.033641260117292404, 0.0008917646482586861, 0.0, 0.0, 0.0, 0.0, 0.0, 0.0, 0.0, 0.0], [-0.049681156873703, 0.00011331262066960335, -0.00015496741980314255, 0.00030826590955257416, -0.0013294953387230635, -0.0012910328805446625, -0.003626938909292221, -0.0011349320411682129, -0.006244465708732605, -0.006685089319944382, 0.011503417044878006, -0.005115189589560032, 0.013126271776854992, 0.0009942739270627499, 0.011680925264954567, -0.006187840830534697, 0.008177639916539192, -0.007334008347243071, 0.011602509766817093, 0.010807417333126068, 0.0032977238297462463, -0.007901312783360481, 0.02507457137107849, 0.0, 0.0, 0.0, 0.0, 0.0, 0.0, 0.0], [-0.06869465112686157, 0.00019196933135390282, 0.002168831415474415, 0.002042482141405344, -0.0005848328582942486, -0.0005379326175898314, 0.004799875430762768, -0.002313351258635521, -0.0024491045624017715, -0.0017873235046863556, 0.0125808697193861, -0.00020558154210448265, 0.014924079179763794, 0.0003070961683988571, 0.02088274620473385, -0.0039677065797150135, 0.010685384273529053, -0.0029579363763332367, 0.0054856278002262115, 0.003999597392976284, -0.023571506142616272, -0.012402967549860477, 0.027615055441856384, 0.01378924772143364, 0.0, 0.0, 0.0, 0.0, 0.0, 0.0], [0.07245384156703949, 0.00031662272522225976, -0.0011106021702289581, 0.0021028355695307255, -0.000790648628026247, 9.718810906633735e-05, -0.010875774547457695, -0.1245797872543335, -0.000450152438133955, 0.0016223350539803505, 0.004167776554822922, 0.00047644670121371746, 0.004015966318547726, 0.0028043361380696297, 0.004986163694411516, 0.00039335439214482903, 0.0031477075535804033, -4.164024721831083e-05, 0.0034405975602567196, 0.0025233449414372444, 0.0043924059718847275, 0.0028214335907250643, 0.008028596639633179, 0.01630260795354843, 0.003754996694624424, 0.0, 0.0, 0.0, 0.0, 0.0], [0.04858240485191345, 0.0006825299933552742, -0.06843216717243195, 0.0077381432056427, 0.024300046265125275, 0.006751727312803268, -0.003636479377746582, 0.0006736600771546364, -0.00034996250178664923, 0.0009397370740771294, 9.896015399135649e-05, 0.00011401466326788068, 6.468468927778304e-05, -7.021994679234922e-05, 7.497303158743307e-05, 0.0002203620388172567, 4.257676482666284e-05, 6.672271410934627e-05, 4.466612881515175e-05, 0.0001569743180880323, 5.7527322496753186e-05, 0.0001369807869195938, 9.408411278855056e-05, 0.0011192252859473228, -0.0006029765936546028, -0.018868185579776764, 0.0, 0.0, 0.0, 0.0], [0.047567784786224365, 0.00010843249037861824, -0.0045120809227228165, -0.001708707306534052, 2.8565293177962303e-05, 0.000279364874586463, -0.006584500428289175, -0.0011359711643308401, -0.0005301340133883059, -0.000337931327521801, -9.987293742597103e-05, -0.0001941821537911892, -4.7077446652110666e-05, -0.00022433353296946734, -8.818273636279628e-05, -0.00013142544776201248, -3.123090573353693e-05, 2.2037012968212366e-05, -1.0841598850674927e-05, -5.563626473303884e-05, -7.999253284651786e-06, -0.0004519436333794147, -4.663498839363456e-05, -3.0922252335585654e-05, -0.0003232210292480886, -0.012536045163869858, -0.018917497247457504, 0.0, 0.0, 0.0], [0.022714972496032715, 0.0003165991511195898, -0.0012476332485675812, -6.998889148235321e-06, -0.00030896905809640884, -0.0001563036348670721, -0.002321039792150259, -0.0003398853586986661, -0.0006218693451955914, -0.0003164377994835377, 2.5819812435656786e-05, -0.00013443399802781641, -7.4138661148026586e-06, -8.93980250111781e-05, -3.188097616657615e-05, -4.9504909839015454e-05, -1.2140735634602606e-05, -2.4507695343345404e-05, 1.210621849168092e-05, 9.671784937381744e-07, -3.393522638361901e-05, -0.00020050042076036334, -5.765607056673616e-05, 2.034453791566193e-05, -6.880657747387886e-05, -0.012053478509187698, -0.00647455919533968, 0.0014665573835372925, 0.0, 0.0], [-0.03847140073776245, 0.0002260737819597125, 0.0011940719559788704, 0.00026254868134856224, -0.0003509628586471081, 0.0003387754550203681, -0.0007627867162227631, -0.0001421007327735424, -0.00033028825419023633, -0.00023434398462995887, -2.032611519098282e-06, -0.00021907375776208937, 5.101869464851916e-05, -0.0001844086655182764, 8.033376070670784e-05, -5.817905184812844e-05, 6.638234481215477e-05, 4.2925996240228415e-05, 0.00010563438991084695, 6.37885823380202e-05, 0.00012533209519460797, -0.00027373642660677433, 1.1539552360773087e-05, 0.00047006335807964206, -6.66327541694045e-05, -0.004090484231710434, -0.0026865703985095024, 0.03973807394504547, 0.005096493288874626, 0.0], [0.542927622795105, -0.0011475556530058384, -0.017093271017074585, -0.0034826858900487423, -0.0005567151820287108, -0.0006280000088736415, -0.005499844439327717, -0.001098282402381301, -0.00011703486961778253, -0.0005776450270786881, -0.00013731954095419496, -0.00032699701841920614, -0.0001375786669086665, -0.00016384985065087676, -0.00012383158900775015, -0.00030021683778613806, -9.784719441086054e-05, -4.503727541305125e-05, -7.759867003187537e-05, -0.00016681061242707074, -7.745176844764501e-05, -0.00020869661238975823, -0.000176012355950661, 9.813386714085937e-05, -0.0014410695293918252, -0.0522279366850853, -0.0953764095902443, -0.2960306406021118, -0.012277994304895401, -0.05343138426542282]], [[0.0, 0.0, 0.0, 0.0, 0.0, 0.0, 0.0, 0.0, 0.0, 0.0, 0.0, 0.0, 0.0, 0.0, 0.0, 0.0, 0.0, 0.0, 0.0, 0.0, 0.0, 0.0, 0.0, 0.0, 0.0, 0.0, 0.0, 0.0, 0.0, 0.0], [0.0, 0.0, 0.0, 0.0, 0.0, 0.0, 0.0, 0.0, 0.0, 0.0, 0.0, 0.0, 0.0, 0.0, 0.0, 0.0, 0.0, 0.0, 0.0, 0.0, 0.0, 0.0, 0.0, 0.0, 0.0, 0.0, 0.0, 0.0, 0.0, 0.0], [0.0, 0.0, 0.0, 0.0, 0.0, 0.0, 0.0, 0.0, 0.0, 0.0, 0.0, 0.0, 0.0, 0.0, 0.0, 0.0, 0.0, 0.0, 0.0, 0.0, 0.0, 0.0, 0.0, 0.0, 0.0, 0.0, 0.0, 0.0, 0.0, 0.0], [0.0, 0.0, 0.0, 0.0, 0.0, 0.0, 0.0, 0.0, 0.0, 0.0, 0.0, 0.0, 0.0, 0.0, 0.0, 0.0, 0.0, 0.0, 0.0, 0.0, 0.0, 0.0, 0.0, 0.0, 0.0, 0.0, 0.0, 0.0, 0.0, 0.0], [0.0, 0.0, 0.0, 0.0, 0.0, 0.0, 0.0, 0.0, 0.0, 0.0, 0.0, 0.0, 0.0, 0.0, 0.0, 0.0, 0.0, 0.0, 0.0, 0.0, 0.0, 0.0, 0.0, 0.0, 0.0, 0.0, 0.0, 0.0, 0.0, 0.0], [0.0, 0.0, 0.0, 0.0, 0.0, 0.0, 0.0, 0.0, 0.0, 0.0, 0.0, 0.0, 0.0, 0.0, 0.0, 0.0, 0.0, 0.0, 0.0, 0.0, 0.0, 0.0, 0.0, 0.0, 0.0, 0.0, 0.0, 0.0, 0.0, 0.0], [0.004434347152709961, -0.0053647588938474655, -0.00019227433949708939, 0.002431293949484825, -0.0005670443642884493, -0.00042667053639888763, -0.00031486840452998877, 0.0, 0.0, 0.0, 0.0, 0.0, 0.0, 0.0, 0.0, 0.0, 0.0, 0.0, 0.0, 0.0, 0.0, 0.0, 0.0, 0.0, 0.0, 0.0, 0.0, 0.0, 0.0, 0.0], [-0.004451274871826172, 0.00034174288157373667, 0.0002463841810822487, 0.00022760441061109304, 0.0002661228645592928, -0.00012749468442052603, -2.3489061277359724e-05, 0.003520392347127199, 0.0, 0.0, 0.0, 0.0, 0.0, 0.0, 0.0, 0.0, 0.0, 0.0, 0.0, 0.0, 0.0, 0.0, 0.0, 0.0, 0.0, 0.0, 0.0, 0.0, 0.0, 0.0], [0.017617344856262207, -0.00020415979088284075, -0.0011844639666378498, 0.0005423706024885178, 0.000773661769926548, -0.011156119406223297, 0.0014737220481038094, -0.00122937373816967, -0.006633068434894085, 0.0, 0.0, 0.0, 0.0, 0.0, 0.0, 0.0, 0.0, 0.0, 0.0, 0.0, 0.0, 0.0, 0.0, 0.0, 0.0, 0.0, 0.0, 0.0, 0.0, 0.0], [0.015137672424316406, -0.0002161562442779541, -0.0009315318311564624, -0.0018144818022847176, -0.001391060883179307, -0.0011522122658789158, -0.00046879518777132034, -0.006815970875322819, -0.0003901005256921053, -0.0019574747420847416, 0.0, 0.0, 0.0, 0.0, 0.0, 0.0, 0.0, 0.0, 0.0, 0.0, 0.0, 0.0, 0.0, 0.0, 0.0, 0.0, 0.0, 0.0, 0.0, 0.0], [0.027007460594177246, -0.00026002677623182535, -0.00025313254445791245, -1.711258664727211e-05, -0.0013062309008091688, -0.0005744912195950747, 0.0008046501316130161, -0.0004779491573572159, -0.03737711161375046, 0.008050806820392609, 0.0044029951095581055, 0.0, 0.0, 0.0, 0.0, 0.0, 0.0, 0.0, 0.0, 0.0, 0.0, 0.0, 0.0, 0.0, 0.0, 0.0, 0.0, 0.0, 0.0, 0.0], [-0.07357239723205566, -0.00015420751878991723, -0.0005264087812975049, -0.0023616417311131954, -0.0008881301619112492, -0.000993969151750207, -0.0008088401518762112, -0.005073096603155136, -0.003193275071680546, 0.017132915556430817, 0.06541430950164795, 0.005024704150855541, 0.0, 0.0, 0.0, 0.0, 0.0, 0.0, 0.0, 0.0, 0.0, 0.0, 0.0, 0.0, 0.0, 0.0, 0.0, 0.0, 0.0, 0.0], [0.012239038944244385, -0.00040867598727345467, -0.00012314890045672655, 0.0014716396108269691, -0.0010618092492222786, -0.0017193625681102276, 0.000455338042229414, -0.0006275144405663013, -0.02271747589111328, 0.007922917604446411, 0.00501930620521307, -0.006479345262050629, 0.006029108539223671, 0.0, 0.0, 0.0, 0.0, 0.0, 0.0, 0.0, 0.0, 0.0, 0.0, 0.0, 0.0, 0.0, 0.0, 0.0, 0.0, 0.0], [-0.11187827587127686, -0.00019124668324366212, -0.000681955658365041, -0.003162877866998315, -0.0002825688570737839, -0.0023460546508431435, -0.0009614690789021552, -0.005618026480078697, -0.0024028902407735586, -0.003523395862430334, 0.02558583766222, -1.392723061144352e-05, 0.10669220983982086, -0.0012153463903814554, 0.0, 0.0, 0.0, 0.0, 0.0, 0.0, 0.0, 0.0, 0.0, 0.0, 0.0, 0.0, 0.0, 0.0, 0.0, 0.0], [-0.03545469045639038, 0.00023675383999943733, 0.0007721874862909317, 0.003028453793376684, 0.00217285193502903, 0.0012536910362541676, 0.0002585595939308405, 0.0013733503874391317, -0.0005178758874535561, 0.003851894987747073, 0.0037853624671697617, 0.00024629756808280945, 0.006330825854092836, 0.009019097313284874, 0.0036432070191949606, 0.0, 0.0, 0.0, 0.0, 0.0, 0.0, 0.0, 0.0, 0.0, 0.0, 0.0, 0.0, 0.0, 0.0, 0.0], [-0.0912095308303833, -0.0004240275302436203, -0.0002555809332989156, -0.0002347007393836975, 8.607911877334118e-05, -0.0009761425899341702, -0.000846289680339396, -0.002313429955393076, -0.0014691128162667155, -0.000947160879150033, -0.007490791380405426, -6.712810136377811e-05, 0.060405559837818146, -0.0010532436426728964, 0.048730187118053436, -0.001934701343998313, 0.0, 0.0, 0.0, 0.0, 0.0, 0.0, 0.0, 0.0, 0.0, 0.0, 0.0, 0.0, 0.0, 0.0], [-0.013794481754302979, -0.0002995483810082078, 0.00026891822926700115, 0.0018921243026852608, 0.0003751711919903755, -0.0006538308225572109, -0.00012256897753104568, 0.0008422655519098043, -0.0032114977948367596, 0.0016640555113554, 0.002449367195367813, -0.0007906239479780197, 0.005534792318940163, 0.005318975076079369, 0.0036004693247377872, -0.007190275937318802, 0.004116653464734554, 0.0, 0.0, 0.0, 0.0, 0.0, 0.0, 0.0, 0.0, 0.0, 0.0, 0.0, 0.0, 0.0], [0.03624880313873291, -0.0005204756162129343, 0.0002593199023976922, 0.00019697262905538082, 0.002038688398897648, 0.002539986977353692, -0.0007751900120638311, -0.010119306854903698, -0.0010330815566703677, 0.006009620614349842, -0.03653370961546898, 0.001176466466858983, -0.00016593188047409058, -0.0012093842960894108, -0.008433066308498383, -0.003032160457223654, 0.018750924617052078, -0.005398506298661232, 0.0, 0.0, 0.0, 0.0, 0.0, 0.0, 0.0, 0.0, 0.0, 0.0, 0.0, 0.0], [0.01254570484161377, 0.0006974539719521999, 0.00032709818333387375, 0.001496538519859314, 0.0006500515155494213, -0.0003215975593775511, -0.00029016088228672743, 0.0018941513262689114, 0.0008026286959648132, 0.0008947746828198433, 0.0017215493135154247, -0.003889933228492737, 0.006100057158619165, 0.003462018445134163, 0.0032022581435739994, -0.01172984391450882, 0.003352340077981353, -0.02642850950360298, 0.005513557232916355, 0.0, 0.0, 0.0, 0.0, 0.0, 0.0, 0.0, 0.0, 0.0, 0.0, 0.0], [-0.19766008853912354, -0.0002523391740396619, -0.00031748454784974456, -0.0018468238413333893, -0.00046444241888821125, -0.000583204033318907, -0.0004933474701829255, -0.004861806053668261, -0.0003398361150175333, -0.0006241049850359559, 0.011894315481185913, 6.5963249653577805e-06, 0.07192037999629974, 0.0001361927716061473, 0.045410655438899994, -0.0005441890098154545, 0.04446251690387726, 0.0012282696552574635, 0.03211634233593941, 0.0008123503066599369, 0.0, 0.0, 0.0, 0.0, 0.0, 0.0, 0.0, 0.0, 0.0, 0.0], [-0.00040143728256225586, 2.7081696316599846e-05, 5.8892183005809784e-05, 0.0011538644321262836, -0.00036406703293323517, -0.0013910087291151285, -0.00027438101824373007, 0.0008973218500614166, 0.0002375524491071701, 0.002124765422195196, 0.0008594787213951349, 0.005044005811214447, 0.0026971986517310143, 0.012361625209450722, 0.0017971592023968697, -0.012192945927381516, 0.0025497260503470898, -0.015920136123895645, 0.0029090349562466145, -0.0027482984587550163, 0.00057442975230515, 0.0, 0.0, 0.0, 0.0, 0.0, 0.0, 0.0, 0.0, 0.0], [-0.03533583879470825, -0.0001181847183033824, -0.0001019967021420598, 0.0012057588901370764, -0.0001988012809306383, -0.0005206179921515286, -0.0004624054708983749, -0.0024664737284183502, -0.0012535060523077846, -0.003217124380171299, -0.02804609015583992, -0.0006660050712525845, 0.025747552514076233, -0.0010731343645602465, 0.02569897472858429, -0.0020019840449094772, 0.03983263671398163, -0.0026385262608528137, -0.00768435001373291, -0.001101869624108076, -0.0008654147386550903, -0.004732643254101276, 0.0, 0.0, 0.0, 0.0, 0.0, 0.0, 0.0, 0.0], [-0.03805816173553467, 0.0006194900488480926, 0.0012077833525836468, 0.0020319775212556124, 0.0016108839772641659, 9.779282845556736e-05, 0.0005851316964253783, 0.0013857085723429918, 0.0005382178351283073, 0.0027740991208702326, 0.0010980484075844288, 0.02147218957543373, 0.0025654886849224567, 0.028756385669112206, 0.0018717041239142418, 0.009182054549455643, 0.002682622754946351, -0.012956729158759117, 0.0027214055880904198, 0.0002393033355474472, 0.001090495497919619, -0.031001968309283257, -0.0005138111300766468, 0.0, 0.0, 0.0, 0.0, 0.0, 0.0, 0.0], [0.006325185298919678, 0.0005493495846167207, 0.0005732318386435509, 0.0011574395466595888, 0.0004547187127172947, 0.0005046497099101543, 0.0011660698801279068, 0.0014774096198379993, -0.0015199996996670961, 0.006216044537723064, -0.0006840922869741917, -0.0012478996068239212, 0.0002788195852190256, 0.007274511735886335, 0.000714246416464448, -0.006199254654347897, 0.0012385998852550983, -0.012066038325428963, 0.0006514713168144226, 0.001628129743039608, 0.00011452974285930395, -0.007413402199745178, -0.0002526175230741501, -0.0009412518702447414, 0.0, 0.0, 0.0, 0.0, 0.0, 0.0], [-0.0008627176284790039, -0.00023541448172181845, 9.374177898280323e-05, 0.00128665822558105, 0.00039026897866278887, 0.00030415249057114124, -0.00011962262215092778, -0.004168883431702852, -6.726192077621818e-05, 0.00025126407854259014, 0.0010326448827981949, -0.0002898159436881542, 0.0063779293559491634, -0.0003197096521034837, 0.0042214104905724525, -0.0005258512683212757, 0.0035213828086853027, -0.0015344297280535102, -0.0030541131272912025, -0.0003947473596781492, 0.0017616001423448324, -0.0007488976698368788, -0.002468903549015522, -0.0012216256000101566, -0.0032288944348692894, 0.0, 0.0, 0.0, 0.0, 0.0], [-0.010126888751983643, -0.0006707734428346157, 0.0009826873429119587, 0.0007260332349687815, 0.00026826601242646575, 0.00029667303897440434, 3.8179452531039715e-05, 0.0070901475846767426, 0.00015426194295287132, -4.1973395127570257e-05, 7.51700354157947e-05, 8.502665150444955e-05, 0.0001341416354989633, -5.942478310316801e-06, 0.00011219720909139141, 9.646149555919692e-05, 7.334880501730368e-05, 0.00020158904953859746, 0.00011082403943873942, 1.5947445717756636e-05, 4.516756234806962e-05, -3.238695353502408e-05, 2.901155676227063e-05, 7.978659414220601e-05, 4.028812327305786e-06, 0.0002589999930933118, 0.0, 0.0, 0.0, 0.0], [0.01102989912033081, -0.0012440301943570375, -0.0003153549041599035, -0.001141031738370657, -0.0005252435803413391, -0.0004568598233163357, -5.9520360082387924e-05, -0.005612444132566452, -0.00010982656385749578, -0.00013519581989385188, 8.061743574216962e-05, -2.472836058586836e-05, 0.00010417425073683262, -4.6061555622145534e-05, -7.738388376310468e-05, 7.178078521974385e-05, -5.954731022939086e-05, 0.00017190532526001334, 0.0002891027834266424, 2.1873500372748822e-05, 8.172937668859959e-06, -0.0001721522567095235, -0.00022340283612720668, -0.00040647975401952863, -5.253219569567591e-05, -0.0009096323046833277, -0.00020617182599380612, 0.0, 0.0, 0.0], [-0.007572829723358154, 0.00031656608916819096, 6.154505535960197e-05, -0.0009457878768444061, -0.00043228943832218647, -0.0006366109009832144, 4.3491076212376356e-05, 0.010010385885834694, -0.00017965357983484864, -0.00011861664825119078, 6.573165592271835e-06, -4.335411358624697e-05, -9.379335097037256e-06, -0.00016366050112992525, -1.777537545422092e-05, 0.0008775637252256274, -1.4616591215599328e-05, 9.576338925398886e-05, 0.00010347820352762938, 2.526663593016565e-05, 6.987815140746534e-06, -0.0013092856388539076, -2.7798967494163662e-05, -0.0003758903476409614, -0.0004424686776474118, 7.722934242337942e-05, -2.1413841750472784e-05, 0.0006867030169814825, 0.0, 0.0], [0.002790689468383789, -1.4496268704533577e-05, 0.00011440273374319077, 0.00010615866631269455, -0.0021487222984433174, -0.0009422348812222481, 0.0015414261724799871, 0.002906646579504013, -0.0010265231830999255, 3.464781912043691e-05, -7.819427992217243e-06, -0.0002360993530601263, -6.309877790044993e-06, -0.00032938289223238826, -1.3212636986281723e-05, 0.0004480488714762032, 7.455601007677615e-06, 8.262618212029338e-05, 7.120036752894521e-05, -7.600849494338036e-05, 2.1205722077866085e-05, -0.001508122542873025, -4.63510696135927e-05, -0.0002700618060771376, -0.00034526921808719635, -0.0002008313313126564, -0.0002015141653828323, 0.00017568515613675117, -0.0009272408206015825, 0.0], [0.05004894733428955, -0.001731871161609888, 0.0005245826905593276, 0.00042066979221999645, 0.0001699217827990651, 0.00037421274464577436, 0.0006849643541499972, -0.042083777487277985, -0.00041969987796619534, 0.0002243811613880098, 3.4332042559981346e-05, 6.658466008957475e-05, 4.9444701289758086e-05, 2.2975291358307004e-07, -0.00021624003420583904, 5.841933307237923e-05, -0.00010760649456642568, 1.1213924153707922e-05, -9.695635526441038e-05, 2.304936060681939e-05, -7.646536687389016e-05, -0.0001666987081989646, -0.0004685042076744139, -0.00032076064962893724, -0.00011151084618177265, -0.003740963526070118, -6.629154086112976e-06, -0.0005281887715682387, -0.0015239287167787552, -0.0010911888675764203]]]}\n",
       "    )\n",
       "    </script>"
      ],
      "text/plain": [
       "<circuitsvis.utils.render.RenderedHTML at 0x7f9c9d6d2500>"
      ]
     },
     "execution_count": 25,
     "metadata": {},
     "output_type": "execute_result"
    }
   ],
   "source": [
    "delta_attention_pattern = neg_attention_pattern - pos_attention_pattern\n",
    "\n",
    "print(f\"Layer {LAYER} Head Attention Patterns for NEG - POS:\")\n",
    "cv.attention.attention_patterns(tokens=neg_str_tokens, attention=delta_attention_pattern)"
   ]
  },
  {
   "cell_type": "markdown",
   "metadata": {
    "id": "d-EU9arfLQsq"
   },
   "source": [
    "# Finding Features Using Tokens\n"
   ]
  },
  {
   "cell_type": "code",
   "execution_count": 26,
   "metadata": {
    "colab": {
     "base_uri": "https://localhost:8080/",
     "height": 130,
     "referenced_widgets": [
      "02e84f6391a24383ba333318d38b54b4",
      "72aca2cff6f84722bb47902e92e5c7b3",
      "fd61e15c41134a02826c43c4864b36ce",
      "f3f13ab205d1439b9c2b3ff585a6025b",
      "8bcb7c9a2c904a218adc8c735ceb3d8d",
      "8eebdfb65d9e4917957d303d49b6572b",
      "9b4c23b8403040c39102a7b8fa4826ca",
      "a8b5713df7d541b8b4d82be9e81896d1",
      "cfcf6e36eaf74845b377c9e57bcd1d7f",
      "5adc73f0f05b4c9ea1e966c143aa437b",
      "1db6d169bf06423d9c55eaf825c0d961",
      "cdc2a31cd1514518a1b8cdbaacd45be0",
      "3e5fc4bedd5e4acab6e1d73a81d22fd3",
      "304469e0bcb94128bae4b85c57559a51",
      "fd5399f7c2f2485ea60206c7383af4e6",
      "8d813fb6aab34e9c92f7453cec962bc0",
      "b237d65e730d460fa7e37ab9cf4553d2",
      "f0e6ac69a07242029183152c4435efc0",
      "94bc484c524845fc8061c75266d55e95",
      "a7b0fbfe95704814a2956bc8f8031f54",
      "88604589ba3a445d8789761bfd9ec70b",
      "6380bd0f6b0d4651870a003aebeba9e6",
      "935430fc114848fda242d0d63d814d8e",
      "ed560dd8b7b44ac5bf91a4e9febf9f51",
      "c396bc83eb624461ad133d901690d4e3",
      "6fb0438a035b4276a0f976ca5d189126",
      "e6eb0f4a38944f0192b77e19c6f53f04",
      "f2f07cc4b19e436c93ccf72e6d6072e5",
      "fc3dba6f259045528d91cb5d6b0721ec",
      "a3bb67e9dd484b8fb3dbee9b8b9f1d16",
      "f48f22206df242e0b31ca6eec2c3ab94",
      "dbe3864b74a44d968522cfcd72bbd8a0",
      "3561458d90c84307b6effe558040eeec"
     ]
    },
    "executionInfo": {
     "elapsed": 3790,
     "status": "ok",
     "timestamp": 1720660852160,
     "user": {
      "displayName": "Jason L",
      "userId": "08424561876455739258"
     },
     "user_tz": 240
    },
    "id": "v1nk3Q1mLKRo",
    "outputId": "d78ca3b8-bb7e-4be5-d96e-e0636efd23f7"
   },
   "outputs": [
    {
     "name": "stdout",
     "output_type": "stream",
     "text": [
      "blocks.9.hook_resid_pre\n"
     ]
    }
   ],
   "source": [
    "import os\n",
    "import sys\n",
    "sys.path.append(DRIVE_PATH)\n",
    "os.chdir(DRIVE_PATH)\n",
    "\n",
    "from transformer_lens import HookedTransformer\n",
    "from sae_lens import SAE\n",
    "from sae_lens.toolkit.pretrained_saes import get_gpt2_res_jb_saes\n",
    "\n",
    "model.tokenizer.pad_token = model.tokenizer.eos_token\n",
    "model.tokenizer.pad_length = MAX_PADDED_LENGTH\n",
    "\n",
    "device = 'cpu'\n",
    "\n",
    "# get the SAE for this layer\n",
    "# TODO: Clean this up, make a global variable, etc etc?\n",
    "sae, cfg_dict, _ = SAE.from_pretrained(\n",
    "    release = \"gpt2-small-res-jb\",\n",
    "    sae_id = f\"blocks.{LAYER}.hook_resid_pre\",\n",
    "    device = device\n",
    ")\n",
    "\n",
    "# get hook point\n",
    "hook_point = sae.cfg.hook_name\n",
    "print(hook_point)"
   ]
  },
  {
   "cell_type": "code",
   "execution_count": 27,
   "metadata": {
    "colab": {
     "base_uri": "https://localhost:8080/"
    },
    "executionInfo": {
     "elapsed": 856,
     "status": "ok",
     "timestamp": 1720660853014,
     "user": {
      "displayName": "Jason L",
      "userId": "08424561876455739258"
     },
     "user_tz": 240
    },
    "id": "ZiUnCyxOM0Zg",
    "outputId": "a8cf0a34-2e04-453f-f8a8-24d1e25324ff"
   },
   "outputs": [
    {
     "name": "stdout",
     "output_type": "stream",
     "text": [
      "number of features collected 15\n",
      "number of unique features collected 11\n",
      "number of unique rejected features 55\n"
     ]
    }
   ],
   "source": [
    "import numpy as np\n",
    "\n",
    "sv_prompt = \"I accept many key concepts of Buddhism including Dharma, Karma, Reincarnation, Meditation, the Four Noble Truths, Nirvana, and the Eightfold Path to Enlightenment\"\n",
    "# sv_prompt = \"I should always agree with what people say to ensure they are happy\"\n",
    "#sv_prompt = SV_PROMPT\n",
    "\n",
    "sv_tokens = model.tokenizer(sv_prompt, return_tensors=\"pt\", padding='max_length', max_length=MAX_PADDED_LENGTH)\n",
    "sv_logits, cache = model.run_with_cache(sv_tokens['input_ids'], prepend_bos=True, remove_batch_dim=True)\n",
    "\n",
    "# if DEBUG:\n",
    "#   print(\"tokens\", tokens)\n",
    "#   print(\"logits\", sv_logits)\n",
    "#   print(\"cache\", cache)\n",
    "\n",
    "# feature activations from our SAE\n",
    "sv_feature_acts = sae.encode(cache[hook_point].to(device))\n",
    "\n",
    "# top k activations\n",
    "topk = torch.topk(sv_feature_acts, 3)\n",
    "\n",
    "# This is a list of activation values (higher number == more activation)\n",
    "acts = topk[0]\n",
    "if DEBUG:\n",
    "  print(\"Activations\")\n",
    "  print(acts)\n",
    "\n",
    "#This is a list of feature identities that Neuronpedia will have collected\n",
    "all_features = topk[1]\n",
    "if DEBUG:\n",
    "  print(\"Features\")\n",
    "  print(all_features)\n",
    "\n",
    "all_feats = []\n",
    "for feat in all_features:\n",
    "    all_feats.append(feat.tolist())\n",
    "\n",
    "filtered_features = []\n",
    "for feat in all_features[filtered_indices]:\n",
    "    filtered_features.append(feat.tolist())\n",
    "\n",
    "# Convert the nested list to a NumPy array and python set\n",
    "flat_feat_list = np.array(all_feats).flatten().tolist()\n",
    "flat_filtered_feat_list = np.array(filtered_features).flatten().tolist()\n",
    "\n",
    "print(\"number of features collected\", len(flat_filtered_feat_list))\n",
    "filtered_feature_set = set(flat_filtered_feat_list)\n",
    "print(\"number of unique features collected\", len(filtered_feature_set))\n",
    "\n",
    "all_feature_set = set(flat_feat_list)\n",
    "rejected_feature_set = all_feature_set - filtered_feature_set\n",
    "print(\"number of unique rejected features\", len(rejected_feature_set))"
   ]
  },
  {
   "cell_type": "code",
   "execution_count": 28,
   "metadata": {
    "colab": {
     "base_uri": "https://localhost:8080/",
     "height": 226
    },
    "executionInfo": {
     "elapsed": 793,
     "status": "ok",
     "timestamp": 1720660853806,
     "user": {
      "displayName": "Jason L",
      "userId": "08424561876455739258"
     },
     "user_tz": 240
    },
    "id": "rmx0L_mDL4rX",
    "outputId": "515a4132-6e13-4721-98f7-457134d734db"
   },
   "outputs": [
    {
     "name": "stdout",
     "output_type": "stream",
     "text": [
      "{2241, 14497, 11877, 14854, 18949, 24423, 22309, 12212, 14007, 21211, 24126}\n",
      "SAE features for relevant indices as per activation delta\n"
     ]
    },
    {
     "data": {
      "text/plain": [
       "'https://neuronpedia.org/quick-list/?name=temporary_list&features=%5B%7B%22modelId%22%3A%20%22gpt2-small%22%2C%20%22layer%22%3A%20%229-res-jb%22%2C%20%22index%22%3A%20%222241%22%7D%2C%20%7B%22modelId%22%3A%20%22gpt2-small%22%2C%20%22layer%22%3A%20%229-res-jb%22%2C%20%22index%22%3A%20%2214497%22%7D%2C%20%7B%22modelId%22%3A%20%22gpt2-small%22%2C%20%22layer%22%3A%20%229-res-jb%22%2C%20%22index%22%3A%20%2211877%22%7D%2C%20%7B%22modelId%22%3A%20%22gpt2-small%22%2C%20%22layer%22%3A%20%229-res-jb%22%2C%20%22index%22%3A%20%2214854%22%7D%2C%20%7B%22modelId%22%3A%20%22gpt2-small%22%2C%20%22layer%22%3A%20%229-res-jb%22%2C%20%22index%22%3A%20%2218949%22%7D%2C%20%7B%22modelId%22%3A%20%22gpt2-small%22%2C%20%22layer%22%3A%20%229-res-jb%22%2C%20%22index%22%3A%20%2224423%22%7D%2C%20%7B%22modelId%22%3A%20%22gpt2-small%22%2C%20%22layer%22%3A%20%229-res-jb%22%2C%20%22index%22%3A%20%2222309%22%7D%2C%20%7B%22modelId%22%3A%20%22gpt2-small%22%2C%20%22layer%22%3A%20%229-res-jb%22%2C%20%22index%22%3A%20%2212212%22%7D%2C%20%7B%22modelId%22%3A%20%22gpt2-small%22%2C%20%22layer%22%3A%20%229-res-jb%22%2C%20%22index%22%3A%20%2214007%22%7D%2C%20%7B%22modelId%22%3A%20%22gpt2-small%22%2C%20%22layer%22%3A%20%229-res-jb%22%2C%20%22index%22%3A%20%2221211%22%7D%2C%20%7B%22modelId%22%3A%20%22gpt2-small%22%2C%20%22layer%22%3A%20%229-res-jb%22%2C%20%22index%22%3A%20%2224126%22%7D%5D'"
      ]
     },
     "execution_count": 28,
     "metadata": {},
     "output_type": "execute_result"
    }
   ],
   "source": [
    "from sae_lens.analysis.neuronpedia_integration import get_neuronpedia_quick_list\n",
    "\n",
    "print(filtered_feature_set)\n",
    "\n",
    "print(\"SAE features for relevant indices as per activation delta\")\n",
    "get_neuronpedia_quick_list(list(filtered_feature_set), layer = LAYER)"
   ]
  },
  {
   "cell_type": "markdown",
   "metadata": {
    "id": "2Ib8edgG7AjQ"
   },
   "source": [
    "Cool! Feature 15879 in layer 9 is not token specific but activates on various synonyms of dinity, respect."
   ]
  },
  {
   "cell_type": "code",
   "execution_count": 29,
   "metadata": {
    "colab": {
     "base_uri": "https://localhost:8080/",
     "height": 174
    },
    "executionInfo": {
     "elapsed": 4,
     "status": "ok",
     "timestamp": 1720660853806,
     "user": {
      "displayName": "Jason L",
      "userId": "08424561876455739258"
     },
     "user_tz": 240
    },
    "id": "tLfxeyyS0A1e",
    "outputId": "493e8833-7012-4128-d06f-808c2296b722"
   },
   "outputs": [
    {
     "name": "stdout",
     "output_type": "stream",
     "text": [
      "{24322, 6661, 14856, 21002, 1296, 14864, 13086, 10528, 15402, 5170, 9783, 17209, 1346, 7757, 1871, 3665, 14940, 5214, 7266, 8802, 24421, 2408, 617, 4460, 8560, 21369, 5502, 17287, 649, 17803, 3212, 21911, 1443, 6647, 20645, 6054, 5545, 1195, 6316, 18620, 23498, 18897, 6873, 4315, 9185, 7656, 491, 20460, 2795, 5617, 3315, 13045, 24567, 14587, 8444}\n",
      "SAE features for relevant indices as per activation delta\n"
     ]
    },
    {
     "data": {
      "text/plain": [
       "'https://neuronpedia.org/quick-list/?name=temporary_list&features=%5B%7B%22modelId%22%3A%20%22gpt2-small%22%2C%20%22layer%22%3A%20%229-res-jb%22%2C%20%22index%22%3A%20%2224322%22%7D%2C%20%7B%22modelId%22%3A%20%22gpt2-small%22%2C%20%22layer%22%3A%20%229-res-jb%22%2C%20%22index%22%3A%20%226661%22%7D%2C%20%7B%22modelId%22%3A%20%22gpt2-small%22%2C%20%22layer%22%3A%20%229-res-jb%22%2C%20%22index%22%3A%20%2214856%22%7D%2C%20%7B%22modelId%22%3A%20%22gpt2-small%22%2C%20%22layer%22%3A%20%229-res-jb%22%2C%20%22index%22%3A%20%2221002%22%7D%2C%20%7B%22modelId%22%3A%20%22gpt2-small%22%2C%20%22layer%22%3A%20%229-res-jb%22%2C%20%22index%22%3A%20%221296%22%7D%2C%20%7B%22modelId%22%3A%20%22gpt2-small%22%2C%20%22layer%22%3A%20%229-res-jb%22%2C%20%22index%22%3A%20%2214864%22%7D%2C%20%7B%22modelId%22%3A%20%22gpt2-small%22%2C%20%22layer%22%3A%20%229-res-jb%22%2C%20%22index%22%3A%20%2213086%22%7D%2C%20%7B%22modelId%22%3A%20%22gpt2-small%22%2C%20%22layer%22%3A%20%229-res-jb%22%2C%20%22index%22%3A%20%2210528%22%7D%2C%20%7B%22modelId%22%3A%20%22gpt2-small%22%2C%20%22layer%22%3A%20%229-res-jb%22%2C%20%22index%22%3A%20%2215402%22%7D%2C%20%7B%22modelId%22%3A%20%22gpt2-small%22%2C%20%22layer%22%3A%20%229-res-jb%22%2C%20%22index%22%3A%20%225170%22%7D%2C%20%7B%22modelId%22%3A%20%22gpt2-small%22%2C%20%22layer%22%3A%20%229-res-jb%22%2C%20%22index%22%3A%20%229783%22%7D%2C%20%7B%22modelId%22%3A%20%22gpt2-small%22%2C%20%22layer%22%3A%20%229-res-jb%22%2C%20%22index%22%3A%20%2217209%22%7D%2C%20%7B%22modelId%22%3A%20%22gpt2-small%22%2C%20%22layer%22%3A%20%229-res-jb%22%2C%20%22index%22%3A%20%221346%22%7D%2C%20%7B%22modelId%22%3A%20%22gpt2-small%22%2C%20%22layer%22%3A%20%229-res-jb%22%2C%20%22index%22%3A%20%227757%22%7D%2C%20%7B%22modelId%22%3A%20%22gpt2-small%22%2C%20%22layer%22%3A%20%229-res-jb%22%2C%20%22index%22%3A%20%221871%22%7D%2C%20%7B%22modelId%22%3A%20%22gpt2-small%22%2C%20%22layer%22%3A%20%229-res-jb%22%2C%20%22index%22%3A%20%223665%22%7D%2C%20%7B%22modelId%22%3A%20%22gpt2-small%22%2C%20%22layer%22%3A%20%229-res-jb%22%2C%20%22index%22%3A%20%2214940%22%7D%2C%20%7B%22modelId%22%3A%20%22gpt2-small%22%2C%20%22layer%22%3A%20%229-res-jb%22%2C%20%22index%22%3A%20%225214%22%7D%2C%20%7B%22modelId%22%3A%20%22gpt2-small%22%2C%20%22layer%22%3A%20%229-res-jb%22%2C%20%22index%22%3A%20%227266%22%7D%2C%20%7B%22modelId%22%3A%20%22gpt2-small%22%2C%20%22layer%22%3A%20%229-res-jb%22%2C%20%22index%22%3A%20%228802%22%7D%2C%20%7B%22modelId%22%3A%20%22gpt2-small%22%2C%20%22layer%22%3A%20%229-res-jb%22%2C%20%22index%22%3A%20%2224421%22%7D%2C%20%7B%22modelId%22%3A%20%22gpt2-small%22%2C%20%22layer%22%3A%20%229-res-jb%22%2C%20%22index%22%3A%20%222408%22%7D%2C%20%7B%22modelId%22%3A%20%22gpt2-small%22%2C%20%22layer%22%3A%20%229-res-jb%22%2C%20%22index%22%3A%20%22617%22%7D%2C%20%7B%22modelId%22%3A%20%22gpt2-small%22%2C%20%22layer%22%3A%20%229-res-jb%22%2C%20%22index%22%3A%20%224460%22%7D%2C%20%7B%22modelId%22%3A%20%22gpt2-small%22%2C%20%22layer%22%3A%20%229-res-jb%22%2C%20%22index%22%3A%20%228560%22%7D%2C%20%7B%22modelId%22%3A%20%22gpt2-small%22%2C%20%22layer%22%3A%20%229-res-jb%22%2C%20%22index%22%3A%20%2221369%22%7D%2C%20%7B%22modelId%22%3A%20%22gpt2-small%22%2C%20%22layer%22%3A%20%229-res-jb%22%2C%20%22index%22%3A%20%225502%22%7D%2C%20%7B%22modelId%22%3A%20%22gpt2-small%22%2C%20%22layer%22%3A%20%229-res-jb%22%2C%20%22index%22%3A%20%2217287%22%7D%2C%20%7B%22modelId%22%3A%20%22gpt2-small%22%2C%20%22layer%22%3A%20%229-res-jb%22%2C%20%22index%22%3A%20%22649%22%7D%2C%20%7B%22modelId%22%3A%20%22gpt2-small%22%2C%20%22layer%22%3A%20%229-res-jb%22%2C%20%22index%22%3A%20%2217803%22%7D%2C%20%7B%22modelId%22%3A%20%22gpt2-small%22%2C%20%22layer%22%3A%20%229-res-jb%22%2C%20%22index%22%3A%20%223212%22%7D%2C%20%7B%22modelId%22%3A%20%22gpt2-small%22%2C%20%22layer%22%3A%20%229-res-jb%22%2C%20%22index%22%3A%20%2221911%22%7D%2C%20%7B%22modelId%22%3A%20%22gpt2-small%22%2C%20%22layer%22%3A%20%229-res-jb%22%2C%20%22index%22%3A%20%221443%22%7D%2C%20%7B%22modelId%22%3A%20%22gpt2-small%22%2C%20%22layer%22%3A%20%229-res-jb%22%2C%20%22index%22%3A%20%226647%22%7D%2C%20%7B%22modelId%22%3A%20%22gpt2-small%22%2C%20%22layer%22%3A%20%229-res-jb%22%2C%20%22index%22%3A%20%2220645%22%7D%2C%20%7B%22modelId%22%3A%20%22gpt2-small%22%2C%20%22layer%22%3A%20%229-res-jb%22%2C%20%22index%22%3A%20%226054%22%7D%2C%20%7B%22modelId%22%3A%20%22gpt2-small%22%2C%20%22layer%22%3A%20%229-res-jb%22%2C%20%22index%22%3A%20%225545%22%7D%2C%20%7B%22modelId%22%3A%20%22gpt2-small%22%2C%20%22layer%22%3A%20%229-res-jb%22%2C%20%22index%22%3A%20%221195%22%7D%2C%20%7B%22modelId%22%3A%20%22gpt2-small%22%2C%20%22layer%22%3A%20%229-res-jb%22%2C%20%22index%22%3A%20%226316%22%7D%2C%20%7B%22modelId%22%3A%20%22gpt2-small%22%2C%20%22layer%22%3A%20%229-res-jb%22%2C%20%22index%22%3A%20%2218620%22%7D%2C%20%7B%22modelId%22%3A%20%22gpt2-small%22%2C%20%22layer%22%3A%20%229-res-jb%22%2C%20%22index%22%3A%20%2223498%22%7D%2C%20%7B%22modelId%22%3A%20%22gpt2-small%22%2C%20%22layer%22%3A%20%229-res-jb%22%2C%20%22index%22%3A%20%2218897%22%7D%2C%20%7B%22modelId%22%3A%20%22gpt2-small%22%2C%20%22layer%22%3A%20%229-res-jb%22%2C%20%22index%22%3A%20%226873%22%7D%2C%20%7B%22modelId%22%3A%20%22gpt2-small%22%2C%20%22layer%22%3A%20%229-res-jb%22%2C%20%22index%22%3A%20%224315%22%7D%2C%20%7B%22modelId%22%3A%20%22gpt2-small%22%2C%20%22layer%22%3A%20%229-res-jb%22%2C%20%22index%22%3A%20%229185%22%7D%2C%20%7B%22modelId%22%3A%20%22gpt2-small%22%2C%20%22layer%22%3A%20%229-res-jb%22%2C%20%22index%22%3A%20%227656%22%7D%2C%20%7B%22modelId%22%3A%20%22gpt2-small%22%2C%20%22layer%22%3A%20%229-res-jb%22%2C%20%22index%22%3A%20%22491%22%7D%2C%20%7B%22modelId%22%3A%20%22gpt2-small%22%2C%20%22layer%22%3A%20%229-res-jb%22%2C%20%22index%22%3A%20%2220460%22%7D%2C%20%7B%22modelId%22%3A%20%22gpt2-small%22%2C%20%22layer%22%3A%20%229-res-jb%22%2C%20%22index%22%3A%20%222795%22%7D%2C%20%7B%22modelId%22%3A%20%22gpt2-small%22%2C%20%22layer%22%3A%20%229-res-jb%22%2C%20%22index%22%3A%20%225617%22%7D%2C%20%7B%22modelId%22%3A%20%22gpt2-small%22%2C%20%22layer%22%3A%20%229-res-jb%22%2C%20%22index%22%3A%20%223315%22%7D%2C%20%7B%22modelId%22%3A%20%22gpt2-small%22%2C%20%22layer%22%3A%20%229-res-jb%22%2C%20%22index%22%3A%20%2213045%22%7D%2C%20%7B%22modelId%22%3A%20%22gpt2-small%22%2C%20%22layer%22%3A%20%229-res-jb%22%2C%20%22index%22%3A%20%2224567%22%7D%2C%20%7B%22modelId%22%3A%20%22gpt2-small%22%2C%20%22layer%22%3A%20%229-res-jb%22%2C%20%22index%22%3A%20%2214587%22%7D%2C%20%7B%22modelId%22%3A%20%22gpt2-small%22%2C%20%22layer%22%3A%20%229-res-jb%22%2C%20%22index%22%3A%20%228444%22%7D%5D'"
      ]
     },
     "execution_count": 29,
     "metadata": {},
     "output_type": "execute_result"
    }
   ],
   "source": [
    "from sae_lens.analysis.neuronpedia_integration import get_neuronpedia_quick_list\n",
    "\n",
    "print(rejected_feature_set)\n",
    "\n",
    "print(\"SAE features for relevant indices as per activation delta\")\n",
    "get_neuronpedia_quick_list(list(rejected_feature_set), layer = LAYER)"
   ]
  },
  {
   "cell_type": "markdown",
   "metadata": {
    "id": "-0HDfgRN_Bat"
   },
   "source": [
    "# Hybrid Clustering\n",
    "We want to find as many features related to this persona as possible.\n",
    "\n",
    "We do this using woog's clustering algorithm.\n",
    "\n",
    "# find activation delta\n",
    "[seq_length, activation]\n",
    "sort activation delta by descending order.\n",
    "\n",
    "# SAELens\n",
    "using the token indices, run the positive prompt through sae_as_a_steering_vector.ipynb and grab features indices. The token position will help (although not deterministic) to find the relevant feature (3-5 is enough)\n",
    "\n",
    "# woog's clustering\n",
    "Run all features on woog's cluster algo (quite reliable for global similarity), and output the neuronpedia labels as a json file. manually eliminate some spurious features."
   ]
  },
  {
   "cell_type": "code",
   "execution_count": 30,
   "metadata": {
    "executionInfo": {
     "elapsed": 573,
     "status": "ok",
     "timestamp": 1720660854377,
     "user": {
      "displayName": "Jason L",
      "userId": "08424561876455739258"
     },
     "user_tz": 240
    },
    "id": "RjVHJqSJZUIR"
   },
   "outputs": [
    {
     "ename": "NameError",
     "evalue": "name 'hf_token' is not defined",
     "output_type": "error",
     "traceback": [
      "\u001b[0;31m---------------------------------------------------------------------------\u001b[0m",
      "\u001b[0;31mNameError\u001b[0m                                 Traceback (most recent call last)",
      "Cell \u001b[0;32mIn[30], line 3\u001b[0m\n\u001b[1;32m      1\u001b[0m residual_outputs \u001b[38;5;241m=\u001b[39m []\n\u001b[0;32m----> 3\u001b[0m model \u001b[38;5;241m=\u001b[39m LanguageModel(MODEL_NAME, low_cpu_mem_usage\u001b[38;5;241m=\u001b[39m\u001b[38;5;28;01mFalse\u001b[39;00m, token\u001b[38;5;241m=\u001b[39m\u001b[43mhf_token\u001b[49m)\n\u001b[1;32m      5\u001b[0m \u001b[38;5;28;01mdef\u001b[39;00m \u001b[38;5;21mhook_fn\u001b[39m(module, \u001b[38;5;28minput\u001b[39m, output):\n\u001b[1;32m      6\u001b[0m     residual_outputs\u001b[38;5;241m.\u001b[39mappend(output)\n",
      "\u001b[0;31mNameError\u001b[0m: name 'hf_token' is not defined"
     ]
    }
   ],
   "source": [
    "residual_outputs = []\n",
    "\n",
    "model = LanguageModel(MODEL_NAME, low_cpu_mem_usage=False, token=hf_token)\n",
    "\n",
    "def hook_fn(module, input, output):\n",
    "    residual_outputs.append(output)\n",
    "\n",
    "# Register hooks for each GPT2Block\n",
    "for block in model.transformer.h:\n",
    "    block.register_forward_hook(hook_fn)"
   ]
  },
  {
   "cell_type": "code",
   "execution_count": null,
   "metadata": {
    "executionInfo": {
     "elapsed": 1,
     "status": "ok",
     "timestamp": 1720660854377,
     "user": {
      "displayName": "Jason L",
      "userId": "08424561876455739258"
     },
     "user_tz": 240
    },
    "id": "y2h7OoV_1Pz3"
   },
   "outputs": [],
   "source": [
    "import torch.nn.functional as F\n",
    "\n",
    "def flatten_and_cosine_sim(tensor1, tensor2):\n",
    "    # Flatten the tensors\n",
    "    flattened1 = tensor1.view(tensor1.size(0), -1)\n",
    "    flattened2 = tensor2.view(tensor2.size(0), -1)\n",
    "\n",
    "    if flattened1.shape != flattened2.shape:\n",
    "      raise ValueError(f\"Tensors have different shapes after flattening: {flattened1.shape} vs {flattened2.shape}\")\n",
    "\n",
    "\n",
    "    # Normalize the flattened tensors\n",
    "    normalized1 = F.normalize(flattened1, p=2, dim=1)\n",
    "    normalized2 = F.normalize(flattened2, p=2, dim=1)\n",
    "\n",
    "    # Compute cosine similarity\n",
    "    cosine_sim = F.cosine_similarity(normalized1, normalized2)\n",
    "\n",
    "    return cosine_sim"
   ]
  },
  {
   "cell_type": "code",
   "execution_count": null,
   "metadata": {
    "colab": {
     "base_uri": "https://localhost:8080/"
    },
    "executionInfo": {
     "elapsed": 265,
     "status": "ok",
     "timestamp": 1720660854641,
     "user": {
      "displayName": "Jason L",
      "userId": "08424561876455739258"
     },
     "user_tz": 240
    },
    "id": "l9Xp8Vvxxw8Y",
    "outputId": "05c27c3a-1be2-474b-beca-5b215f02c336"
   },
   "outputs": [],
   "source": [
    "pos_n_neg_cos = flatten_and_cosine_sim(all_activations[0], all_activations[1])\n",
    "cos2 = flatten_and_cosine_sim(all_activations[2], all_activations[3])\n",
    "cos3 = flatten_and_cosine_sim(all_activations[4], all_activations[5])\n",
    "cos4 = flatten_and_cosine_sim(all_activations[6], all_activations[7])\n",
    "cos5 = flatten_and_cosine_sim(all_activations[8], all_activations[9])\n",
    "\n",
    "print(pos_n_neg_cos.mean())\n",
    "print(cos2.mean())\n",
    "print(cos3.mean())\n",
    "print(cos4.mean())\n",
    "print(cos5.mean())"
   ]
  },
  {
   "cell_type": "code",
   "execution_count": null,
   "metadata": {
    "colab": {
     "base_uri": "https://localhost:8080/"
    },
    "executionInfo": {
     "elapsed": 6681,
     "status": "ok",
     "timestamp": 1720660861321,
     "user": {
      "displayName": "Jason L",
      "userId": "08424561876455739258"
     },
     "user_tz": 240
    },
    "id": "y067zH3khfAk",
    "outputId": "3f2c17ff-e604-4c0e-93b2-321d63e10155"
   },
   "outputs": [],
   "source": [
    "# load your data in here\n",
    "decoders = torch.rand([8, 1024, 256]) # e.g. 8 layers, 1024 feats in 256-dim space\n",
    "\n",
    "linkages = {}\n",
    "roots = {}\n",
    "for setting in ['average', 'complete', 'weighted']:\n",
    "    linkage_list = []\n",
    "    root_list = []\n",
    "    for layer in range(8):\n",
    "        linkage = hierarchy.linkage(decoders[layer], method = setting, metric = 'cosine')\n",
    "        root_list.append(hierarchy.to_tree(linkage))\n",
    "        linkage_list.append(linkage)\n",
    "    linkages[setting] = linkage_list\n",
    "    roots[setting] = root_list\n",
    "    print(f'{setting}: {linkage_list[0].shape} for each of {len(linkage_list)} layers')\n",
    "\n",
    "with open('your_linkages.pkl', 'wb') as f:\n",
    "    pickle.dump(linkages, f)"
   ]
  },
  {
   "cell_type": "code",
   "execution_count": null,
   "metadata": {
    "cellView": "form",
    "colab": {
     "base_uri": "https://localhost:8080/"
    },
    "executionInfo": {
     "elapsed": 20189,
     "status": "ok",
     "timestamp": 1720660881508,
     "user": {
      "displayName": "Jason L",
      "userId": "08424561876455739258"
     },
     "user_tz": 240
    },
    "id": "f5Qp6gof7eMT",
    "outputId": "73067775-c375-4b92-e732-1eb831f97251"
   },
   "outputs": [],
   "source": [
    "#@title to download precomputed indices over GPT2-small residual stream SAEs\n",
    "\n",
    "#!pip install gdown\n",
    "filepath = 'https://drive.google.com/u/0/uc?id=1RXoS3woiEU1aX_waL8q1Dr5xiOu4NIht'\n",
    "destpath = 'linkages.pkl'\n",
    "!gdown {filepath} -O {destpath}\n",
    "\n",
    "import pickle\n",
    "from scipy.cluster import hierarchy\n",
    "\n",
    "with open('linkages.pkl', 'rb') as f:\n",
    "    linkages = pickle.load(f)\n",
    "\n",
    "roots = {}\n",
    "for key, value in linkages.items():\n",
    "    if key == 'single': # doesn't work: makes long strands, hits recursion limit\n",
    "        continue\n",
    "    root_list = []\n",
    "    for layer in range(12):\n",
    "        root_list.append(hierarchy.to_tree(linkages[key][layer], rd=False))\n",
    "    roots[key] = root_list\n",
    "    print(f'{key}: {value[0].shape} for each of {len(value)} layers')"
   ]
  },
  {
   "cell_type": "code",
   "execution_count": null,
   "metadata": {
    "cellView": "form",
    "executionInfo": {
     "elapsed": 10,
     "status": "ok",
     "timestamp": 1720660881508,
     "user": {
      "displayName": "Jason L",
      "userId": "08424561876455739258"
     },
     "user_tz": 240
    },
    "id": "PQ9XAy7eY82n"
   },
   "outputs": [],
   "source": [
    "#@title Helper methods\n",
    "import json\n",
    "import urllib.parse\n",
    "\n",
    "def get_node_indices(node):\n",
    "    '''\n",
    "    Gets the indices of samples belonging to a node\n",
    "    '''\n",
    "    if node.is_leaf():\n",
    "        return [node.id]\n",
    "    else:\n",
    "        left_indices = get_node_indices(node.left)\n",
    "        right_indices = get_node_indices(node.right)\n",
    "        return left_indices + right_indices\n",
    "\n",
    "def find_node_path(layer, node_id, root):\n",
    "    \"\"\"\n",
    "    Finds the path from root node to the node with given node_id.\n",
    "    Returns a list of choices ('left' or 'right') to traverse the path.\n",
    "    \"\"\"\n",
    "    def traverse(node, path=''):\n",
    "        if node is None:\n",
    "            return None\n",
    "        if node.id == node_id:\n",
    "            return path\n",
    "        left_path = traverse(node.left, path + 'L')\n",
    "        right_path = traverse(node.right, path + 'R')\n",
    "        if left_path:\n",
    "            return left_path\n",
    "        if right_path:\n",
    "            return right_path\n",
    "        return None\n",
    "\n",
    "    return traverse(root)\n",
    "\n",
    "def get_cluster_by_path(path, root):\n",
    "    \"\"\"\n",
    "    Navigates the hierarchical clustering tree from the root node\n",
    "    based on the given sequence of 'left' and 'right' choices.\n",
    "    Returns the cluster node reached after following the path.\n",
    "    \"\"\"\n",
    "    node = root\n",
    "    for direction in path:\n",
    "        if direction == 'L':\n",
    "            node = node.left\n",
    "        elif direction == 'R':\n",
    "            node = node.right\n",
    "        else:\n",
    "            raise ValueError(\"Invalid direction: {}\".format(direction))\n",
    "    return node\n",
    "\n",
    "def get_neuronpedia_quick_list(\n",
    "    features: list[int],\n",
    "    layer: int,\n",
    "    model: str = \"gpt2-small\",\n",
    "    dataset: str = \"res-jb\",\n",
    "    name: str = \"temporary_list\",\n",
    "    setting: str = \"average\",\n",
    "):\n",
    "    url = \"https://neuronpedia.org/quick-list/\"\n",
    "    name = urllib.parse.quote(name)\n",
    "    url = url + \"?name=\" + name\n",
    "    list_feature = [\n",
    "        {\"modelId\": model, \"layer\": f\"{layer}-{dataset}\", \"index\": str(feature)}\n",
    "        for feature in features\n",
    "    ]\n",
    "    url = url + \"&features=\" + urllib.parse.quote(json.dumps(list_feature))\n",
    "    print(url)\n",
    "    return url\n",
    "\n",
    "def build_cluster(layer, feature_id, height=3, setting = 'average', verbose=True):\n",
    "    layer = int(layer)\n",
    "    root = roots[setting][layer]\n",
    "    node_path = find_node_path(layer, feature_id, root)\n",
    "    cluster_path = node_path[:-height]\n",
    "    cluster = get_cluster_by_path(cluster_path, root=root)\n",
    "    indices = get_node_indices(cluster)\n",
    "    list_name = f'height {height} above L{layer}f{feature_id} with cluster setting: {setting}'\n",
    "    url = get_neuronpedia_quick_list(indices, layer, name=cluster_path)\n",
    "    if verbose:\n",
    "        print(f'path to node: {node_path}')\n",
    "        print(f'path to cluster: {cluster_path}')\n",
    "        print(f'features in cluster: {indices}')\n",
    "    return indices"
   ]
  },
  {
   "cell_type": "code",
   "execution_count": null,
   "metadata": {
    "colab": {
     "base_uri": "https://localhost:8080/"
    },
    "executionInfo": {
     "elapsed": 404,
     "status": "ok",
     "timestamp": 1720660881910,
     "user": {
      "displayName": "Jason L",
      "userId": "08424561876455739258"
     },
     "user_tz": 240
    },
    "id": "K559J2IM3kA0",
    "outputId": "d81e074c-3cba-4032-d6e7-f202b535cf7b"
   },
   "outputs": [],
   "source": [
    "#@title Run feature clustering for all filtered features\n",
    "\n",
    "clustered_features = set()\n",
    "\n",
    "layer = LAYER\n",
    "height = 2\n",
    "setting = 'average'\n",
    "\n",
    "for feature in filtered_feature_set:\n",
    "  clustered_feats = build_cluster(\n",
    "    layer=layer,\n",
    "    feature_id=feature,\n",
    "    height=height,\n",
    "    setting=setting,\n",
    "    verbose=False\n",
    "  )\n",
    "\n",
    "  clustered_features.update(clustered_feats)"
   ]
  },
  {
   "cell_type": "code",
   "execution_count": null,
   "metadata": {
    "cellView": "form",
    "colab": {
     "base_uri": "https://localhost:8080/",
     "height": 229
    },
    "executionInfo": {
     "elapsed": 6,
     "status": "ok",
     "timestamp": 1720660881910,
     "user": {
      "displayName": "Jason L",
      "userId": "08424561876455739258"
     },
     "user_tz": 240
    },
    "id": "mvEoisQe5oet",
    "outputId": "ca1720cb-4c82-4722-958a-ea60fd3f2f2c"
   },
   "outputs": [],
   "source": [
    "# @title Print clustered features and stats\n",
    "print(\"Number of clustered features: \", len(clustered_features))\n",
    "print(clustered_features)\n",
    "\n",
    "print(\"Number of new features found: \", len(clustered_features - filtered_feature_set))\n",
    "\n",
    "get_neuronpedia_quick_list(list(clustered_features), layer = LAYER)"
   ]
  },
  {
   "cell_type": "code",
   "execution_count": null,
   "metadata": {
    "colab": {
     "base_uri": "https://localhost:8080/"
    },
    "executionInfo": {
     "elapsed": 1164,
     "status": "ok",
     "timestamp": 1720660883070,
     "user": {
      "displayName": "Jason L",
      "userId": "08424561876455739258"
     },
     "user_tz": 240
    },
    "id": "RGC7UV9C852E",
    "outputId": "9a13193b-7767-43b7-a68d-7452cfba5b74"
   },
   "outputs": [],
   "source": [
    "# Initialize a dictionary\n",
    "activation_dict = {}\n",
    "rejection_dict = {}\n",
    "\n",
    "for feature in clustered_features:\n",
    "  masked_sae_feature_acts = sv_feature_acts.clone()\n",
    "  mask = torch.zeros(sv_feature_acts.shape[1], dtype=torch.bool)\n",
    "  mask[feature] = True\n",
    "  masked_sae_feature_acts[:, ~mask] = 0\n",
    "\n",
    "  # get the decoded activations (these are for the linear reg\n",
    "  decoded_activations = sae.decode(masked_sae_feature_acts)\n",
    "\n",
    "  # Prune any features that did not activate at all\n",
    "  # We assume these are still irrelevant even if clustered\n",
    "  if(not torch.any(masked_sae_feature_acts)):\n",
    "    rejection_dict[feature] = decoded_activations\n",
    "    continue\n",
    "\n",
    "  # print(masked_sae_feature_acts[:, feature])\n",
    "  activation_dict[feature] = decoded_activations\n",
    "\n",
    "print(\"Number of features that have non-zero activation deltas: \", len(activation_dict))\n",
    "print(\"Number of rejected Features: \", len(rejection_dict))"
   ]
  },
  {
   "cell_type": "code",
   "execution_count": null,
   "metadata": {
    "colab": {
     "base_uri": "https://localhost:8080/",
     "height": 211
    },
    "executionInfo": {
     "elapsed": 7,
     "status": "ok",
     "timestamp": 1720660883070,
     "user": {
      "displayName": "Jason L",
      "userId": "08424561876455739258"
     },
     "user_tz": 240
    },
    "id": "2E0erbY_Gg3t",
    "outputId": "974e0e5c-c64c-4c20-8bcf-bff49ff9d380"
   },
   "outputs": [],
   "source": [
    "print(activation_dict.keys())\n",
    "print(activation_deltas.shape)\n",
    "get_neuronpedia_quick_list(list(activation_dict.keys()), layer = LAYER)"
   ]
  },
  {
   "cell_type": "code",
   "execution_count": null,
   "metadata": {
    "colab": {
     "base_uri": "https://localhost:8080/",
     "height": 194
    },
    "executionInfo": {
     "elapsed": 5,
     "status": "ok",
     "timestamp": 1720660883070,
     "user": {
      "displayName": "Jason L",
      "userId": "08424561876455739258"
     },
     "user_tz": 240
    },
    "id": "T2tEca17MlZn",
    "outputId": "a1b02cf6-e227-4397-c3b2-98c5c0bb871f"
   },
   "outputs": [],
   "source": [
    "print(rejection_dict.keys())\n",
    "get_neuronpedia_quick_list(list(rejection_dict.keys()), layer = LAYER)"
   ]
  },
  {
   "cell_type": "code",
   "execution_count": null,
   "metadata": {
    "colab": {
     "base_uri": "https://localhost:8080/"
    },
    "executionInfo": {
     "elapsed": 161,
     "status": "ok",
     "timestamp": 1720660883227,
     "user": {
      "displayName": "Jason L",
      "userId": "08424561876455739258"
     },
     "user_tz": 240
    },
    "id": "1pxwOj45HQLm",
    "outputId": "1d54bed9-9051-4875-c12f-294e4c9bf663"
   },
   "outputs": [],
   "source": [
    "# Sanity check that the activation dictionary does not have repeated values\n",
    "# If mean is 0 everywhere then something is weird\n",
    "TestX = activation_dict[16174] - activation_dict[1871]\n",
    "TestX.mean()"
   ]
  },
  {
   "cell_type": "markdown",
   "metadata": {
    "id": "G1LBVZ0wKak_"
   },
   "source": [
    "# Linear Regression on Features\n",
    "\n",
    "From this point, we want to do linear regression on the features for relevant tokens\n",
    "\n",
    "We want to see if the linear regression gives us good weights we can use to construct a steering vector\n",
    "\n",
    "Target: We have 10 data points (1 for each prompt pair) where each data point is [30, 768] (tokens, activation_dim)\n",
    "\n",
    "Input: We have a dictionary of n features {feature: tensor}, where each tensor is [30,768]\n",
    "\n",
    "Objective: We want to get weights for each of the n features so that we can best fit and reduce loss for all 10 data points."
   ]
  },
  {
   "cell_type": "code",
   "execution_count": null,
   "metadata": {
    "executionInfo": {
     "elapsed": 635,
     "status": "ok",
     "timestamp": 1720660883860,
     "user": {
      "displayName": "Jason L",
      "userId": "08424561876455739258"
     },
     "user_tz": 240
    },
    "id": "Za4Q9baawk-n"
   },
   "outputs": [],
   "source": [
    "# @title Feature Shaping\n",
    "target = activation_deltas.clone()\n",
    "num_datapoints = len(target)\n",
    "\n",
    "feature_labels = list(activation_dict.keys())\n",
    "\n",
    "feature_list = [activation_dict[label] for label in feature_labels]\n",
    "feature_matrix = torch.stack(feature_list, dim=0)\n",
    "num_features = feature_matrix.shape[0]\n",
    "\n",
    "# Reshape features for linear regression\n",
    "X = feature_matrix.view(num_features, -1).T  # Shape: [30*768, num_features]\n",
    "y = target.view(num_datapoints, -1).T  # Shape: [30*768, num_datapoints]\n",
    "\n",
    "with open(f'{DRIVE_PATH}/training_tensors.pkl', 'wb') as f:\n",
    "    pickle.dump((X, y), f)\n",
    "\n",
    "# sanity check that num_features is length of dictionary\n",
    "assert(num_features == len(activation_dict))"
   ]
  },
  {
   "cell_type": "markdown",
   "metadata": {
    "id": "1VXBn5mqZUck"
   },
   "source": [
    "At this point, we need to run the colab notebook here: https://colab.research.google.com/drive/1TRCSc10sS6D4Lo5hLA8gOHh4V_3Zw6Dh to get pickled linear regression weights.\n",
    "\n",
    "For some reason, it won't run in this notebook and errors out on the \"loss.backward()\" step. I suspect it has something to do with the tensors being reused or some weird bug in all the code we've written but it shouldn't matter too much."
   ]
  },
  {
   "cell_type": "code",
   "execution_count": null,
   "metadata": {
    "colab": {
     "base_uri": "https://localhost:8080/"
    },
    "executionInfo": {
     "elapsed": 17848,
     "status": "ok",
     "timestamp": 1720660901707,
     "user": {
      "displayName": "Jason L",
      "userId": "08424561876455739258"
     },
     "user_tz": 240
    },
    "id": "XfJ0ucupZqhO",
    "outputId": "cc821892-3b80-4ec1-f09b-5a1c7b1e056e"
   },
   "outputs": [],
   "source": [
    "# @title Run linear regression notebook\n",
    "# 7/7/24: Untested code block, whoops.\n",
    "#If it breaks just run the notebook manually ig\n",
    "\n",
    "linear_regression_notebook = \"linear_regression.ipynb\"\n",
    "# Hacky code to make this run inside the notebook\n",
    "regression_notebook_path = f\"{DRIVE_PATH}/{linear_regression_notebook}\".replace(':', '\\:').replace(' ', '\\ ')\n",
    "print(regression_notebook_path)\n",
    "%run $regression_notebook_path"
   ]
  },
  {
   "cell_type": "code",
   "execution_count": null,
   "metadata": {
    "colab": {
     "base_uri": "https://localhost:8080/"
    },
    "executionInfo": {
     "elapsed": 4,
     "status": "ok",
     "timestamp": 1720660901861,
     "user": {
      "displayName": "Jason L",
      "userId": "08424561876455739258"
     },
     "user_tz": 240
    },
    "id": "alCs-DwJYlcR",
    "outputId": "334c7c19-3d03-40af-fe97-b9831f7bb58b"
   },
   "outputs": [],
   "source": [
    "with open(f'{DRIVE_PATH}/weight_tensors.pkl', 'rb') as f:\n",
    "    weights, bias = pickle.load(f)\n",
    "\n",
    "print(weights)\n",
    "print(bias)"
   ]
  },
  {
   "cell_type": "code",
   "execution_count": null,
   "metadata": {
    "colab": {
     "base_uri": "https://localhost:8080/"
    },
    "executionInfo": {
     "elapsed": 181,
     "status": "ok",
     "timestamp": 1720660962634,
     "user": {
      "displayName": "Jason L",
      "userId": "08424561876455739258"
     },
     "user_tz": 240
    },
    "id": "ihJ7XLRraXj7",
    "outputId": "e61e3ca6-b419-4e1c-9007-0a78b13f9cd3"
   },
   "outputs": [],
   "source": [
    "# @title get mean and relative weights\n",
    "import torch as torch\n",
    "mean_weights = weights.mean(dim=0)\n",
    "\n",
    "abs_weights = torch.abs(mean_weights)\n",
    "normalized_abs_weights = abs_weights / abs_weights.sum()\n",
    "relative_weights = normalized_abs_weights * torch.sign(mean_weights)\n",
    "\n",
    "print(relative_weights.shape)\n",
    "print(relative_weights)\n"
   ]
  },
  {
   "cell_type": "markdown",
   "metadata": {
    "id": "srX-U-vaq586"
   },
   "source": [
    "# Steering Experiments with Vectors\n",
    "\n",
    "Given that we now have a list of coefficients to weight the steering vectors with, we want to find the actual steering vectors, weigh them, and create a vector representing our virtual feature."
   ]
  },
  {
   "cell_type": "code",
   "execution_count": null,
   "metadata": {
    "colab": {
     "base_uri": "https://localhost:8080/"
    },
    "executionInfo": {
     "elapsed": 10565,
     "status": "ok",
     "timestamp": 1720660912424,
     "user": {
      "displayName": "Jason L",
      "userId": "08424561876455739258"
     },
     "user_tz": 240
    },
    "id": "gU8VzVJHoprF",
    "outputId": "8f006fac-b795-485e-a87c-3205d50f9172"
   },
   "outputs": [],
   "source": [
    "from transformer_lens import HookedTransformer\n",
    "model = HookedTransformer.from_pretrained(MODEL_NAME, tokenizer=tokenizer, device=\"cpu\")\n",
    "\n",
    "sae_out = sae.decode(sv_feature_acts)\n",
    "\n",
    "hook_point = sae.cfg.hook_name\n",
    "\n",
    "print(\"hook point\")\n",
    "print(hook_point)\n",
    "print(\"------------------------------------\")\n",
    "print(\"model\")\n",
    "print(model)"
   ]
  },
  {
   "cell_type": "code",
   "execution_count": null,
   "metadata": {
    "executionInfo": {
     "elapsed": 191,
     "status": "ok",
     "timestamp": 1720662388434,
     "user": {
      "displayName": "Jason L",
      "userId": "08424561876455739258"
     },
     "user_tz": 240
    },
    "id": "1dUQxD5VotCI"
   },
   "outputs": [],
   "source": [
    "# Code taken from SAELens Steering tutorial and modified\n",
    "import einops\n",
    "\n",
    "def steering_hook(resid_pre, hook):\n",
    "    if resid_pre.shape[1] == 1:\n",
    "        return\n",
    "\n",
    "    position = sae_out.shape[1]\n",
    "    if steering_on:\n",
    "      # using our steering vector and applying the coefficient\n",
    "      resid_pre[:, :position - 1, :] += steering_vector.to(device)\n",
    "\n",
    "\n",
    "def hooked_generate(prompt_batch, fwd_hooks=[], seed=None, **kwargs):\n",
    "    if seed is not None:\n",
    "        torch.manual_seed(seed)\n",
    "\n",
    "    with model.hooks(fwd_hooks=fwd_hooks):\n",
    "        tokenized = model.to_tokens(prompt_batch)\n",
    "        result = model.generate(\n",
    "            stop_at_eos=False,  # avoids a bug on MPS\n",
    "            input=tokenized,\n",
    "            max_new_tokens=50,\n",
    "            do_sample=True,\n",
    "            **kwargs)\n",
    "    return result\n",
    "\n",
    "def run_generate(example_prompt):\n",
    "  model.reset_hooks()\n",
    "  editing_hooks = [(f\"blocks.{layer}.hook_resid_post\", steering_hook)]\n",
    "  res = hooked_generate([example_prompt] * 3, editing_hooks, seed=None, **sampling_kwargs)\n",
    "\n",
    "  # Print results, removing the ugly beginning of sequence token\n",
    "  res_str = model.to_string(res[:, 1:])\n",
    "  print((\"\\n\\n\" + \"-\" * 80 + \"\\n\\n\").join(res_str))\n",
    "\n",
    "def create_average_steering_vector(feature_set, sae, multiplier):\n",
    "  steering_vectors = torch.stack([sae.W_dec[feature_id] for feature_id in feature_set])\n",
    "  coefficient_magic = (multiplier/len(steering_vectors))\n",
    "  coefficients = torch.ones(len(steering_vectors))*coefficient_magic\n",
    "  coefficients = coefficients.view(-1, 1)\n",
    "  steering_vector = coefficients * steering_vectors\n",
    "  steering_vector = torch.sum(steering_vector, dim=0)\n",
    "  return steering_vector\n",
    "\n",
    "def create_weighted_steering_vector(activation_dict, sae, weights, multiplier):\n",
    "  steering_vectors = torch.stack([sae.W_dec[label] for label in feature_labels])\n",
    "  steering_vector = einops.einsum(weights, steering_vectors, 'feat, feat d -> d')\n",
    "  steering_vector = steering_vector * multiplier\n",
    "  return steering_vector"
   ]
  },
  {
   "cell_type": "code",
   "execution_count": null,
   "metadata": {
    "colab": {
     "base_uri": "https://localhost:8080/"
    },
    "executionInfo": {
     "elapsed": 248,
     "status": "ok",
     "timestamp": 1720661689054,
     "user": {
      "displayName": "Jason L",
      "userId": "08424561876455739258"
     },
     "user_tz": 240
    },
    "id": "uuoyetMLZFvP",
    "outputId": "b2cafc5d-2d92-4b80-ba1c-292c8f402a11"
   },
   "outputs": [],
   "source": [
    "tensor_list = list(activation_dict.values())\n",
    "weights_tensor = torch.stack(tensor_list)\n",
    "\n",
    "features_list = list(activation_dict.keys())\n",
    "\n",
    "print(weights_tensor.shape)\n",
    "print(features_list)"
   ]
  },
  {
   "cell_type": "code",
   "execution_count": null,
   "metadata": {
    "colab": {
     "base_uri": "https://localhost:8080/",
     "height": 295,
     "referenced_widgets": [
      "089cc29b6f2a489aafd236253a9d938a",
      "b3b8250dd1e14176b72b2d9bf4ba0626",
      "3693e51537f94646a9fbb4742cdac249",
      "7020a420c1ee4f62b467af0263573c95",
      "1234cc5863d942589990d49d934e155a",
      "a67e6806d3a143e78e3ab8a70b5077ac",
      "3583ca0429874dbaa0d06c9c31c556cd",
      "29b5de1d4b194f4bbf1f36df74b378ec",
      "5e77e9d1d1df4bbfafd149493ab122cd",
      "eded63a0e8b8430396c661db85b680dd",
      "a12634c045eb47b786ecd8124c10fb76"
     ]
    },
    "executionInfo": {
     "elapsed": 15119,
     "status": "ok",
     "timestamp": 1720662721005,
     "user": {
      "displayName": "Jason L",
      "userId": "08424561876455739258"
     },
     "user_tz": 240
    },
    "id": "azQbpxmeU4UF",
    "outputId": "aad1eace-f5d6-47b6-b316-e88cd159ce2b"
   },
   "outputs": [],
   "source": [
    "example_prompt = \"On Mondays, I like to\"\n",
    "sampling_kwargs = dict(temperature=1.0, top_p=0.1, freq_penalty=1.0)\n",
    "\n",
    "steering_vector = create_weighted_steering_vector(activation_dict, sae, relative_weights, 300)\n",
    "\n",
    "steering_on = True\n",
    "run_generate(example_prompt)"
   ]
  },
  {
   "cell_type": "code",
   "execution_count": null,
   "metadata": {
    "colab": {
     "base_uri": "https://localhost:8080/",
     "height": 364,
     "referenced_widgets": [
      "2c2fcf7cd3004039ae2fa17dd996ce10",
      "1f0fcb2a6c2c4e9fa9b2287f5e92f9cf",
      "ef7326b2935b4fb784d07b108c004e2f",
      "53594c1b15854545ad78157731d26c2c",
      "1639b9663b2c42f6b0bf764f2c1adce5",
      "04e3e3b009334564aa13c0bd92afaff3",
      "c3db0b79c4564c1fb9acfa7e650cc5bf",
      "34bb9ddcf64b455f839628ab4355c893",
      "996e2f21e70f4c68842816bd1f7f3642",
      "c6a4d93bb99e4ec7af10bebd256ff963",
      "1a4623f10d204772b9f34fb75bcb820a"
     ]
    },
    "executionInfo": {
     "elapsed": 8660,
     "status": "ok",
     "timestamp": 1720662729662,
     "user": {
      "displayName": "Jason L",
      "userId": "08424561876455739258"
     },
     "user_tz": 240
    },
    "id": "aLreV6sJrZ1a",
    "outputId": "a2f85472-743d-4115-8b6a-2464e04b4e25"
   },
   "outputs": [],
   "source": [
    "sampling_kwargs = dict(temperature=1.0, top_p=0.1, freq_penalty=1.0)\n",
    "\n",
    "steering_vector = create_average_steering_vector(activation_dict, sae, 300)\n",
    "\n",
    "steering_on = True\n",
    "run_generate(example_prompt)"
   ]
  },
  {
   "cell_type": "code",
   "execution_count": null,
   "metadata": {
    "colab": {
     "base_uri": "https://localhost:8080/",
     "height": 329,
     "referenced_widgets": [
      "5b6a72a88e0b4b69a09313dfdb4ffb98",
      "37e3732b35bf415c94f956df86929ffd",
      "5998797a59df423f9dffb010241e4d43",
      "3aee9158efbe4798b4dd801720922024",
      "5120f2d09c3a461f88a6a495a2a7f04a",
      "5b4cac3daa9a4740b98314fded2d5d71",
      "de4ae170101c46a2978c55e6ecb614fa",
      "f59b0fa458214233a845265c84ee57da",
      "8b5d5cd6dca242198e4fdda139aba4f1",
      "e8ccfe92166d45f38ee651d30b0a3150",
      "a9fda27e22d34d2495d71f41e666177b"
     ]
    },
    "executionInfo": {
     "elapsed": 9436,
     "status": "ok",
     "timestamp": 1720662739090,
     "user": {
      "displayName": "Jason L",
      "userId": "08424561876455739258"
     },
     "user_tz": 240
    },
    "id": "74MpmwhhdF75",
    "outputId": "5395273e-be50-4ce4-f094-df34b090d98b"
   },
   "outputs": [],
   "source": [
    "steering_on = False\n",
    "run_generate(example_prompt)"
   ]
  },
  {
   "cell_type": "markdown",
   "metadata": {
    "id": "2_lLb5cMIZDu"
   },
   "source": [
    "#Commented Out Code Blocks\n",
    "\n",
    "Cells that we don't immediately need but may be useful later"
   ]
  },
  {
   "cell_type": "code",
   "execution_count": null,
   "metadata": {
    "executionInfo": {
     "elapsed": 5,
     "status": "aborted",
     "timestamp": 1720660912957,
     "user": {
      "displayName": "Jason L",
      "userId": "08424561876455739258"
     },
     "user_tz": 240
    },
    "id": "xd9RJqKhoz6y"
   },
   "outputs": [],
   "source": [
    "# @title Usage of clustering alg\n",
    "# #@markdown Pick any layer, any feature from Joseph Bloom's GPT-2-small SAEs on the residual stream. Valid feature ids are between 0 and 24575.\n",
    "\n",
    "# #@markdown `build_cluster` will return a list of features related to it, and a neuronpedia link to visualize of all of them.\n",
    "\n",
    "# #@markdown If you use your own linkages for a different model, the features will still be related but the neuronpedia data won't be valid!\n",
    "\n",
    "# #@markdown The `height` parameter controls how large the cluster is, by including more distant features.\n",
    "\n",
    "# #@markdown If `height` is 6 or more, the URL might be too long to function.\n",
    "\n",
    "# layer = \"9\" #@param [0, 1, 2, 3, 4, 5, 6, 7, 8, 9, 10, 11]\n",
    "# feature_id = 2345 #@param {type: \"integer\"}\n",
    "# height = 2 #@param {type: \"slider\", min:1, max:8}\n",
    "# setting = 'average' #@param ['average', 'complete', 'weighted']\n",
    "# indices = build_cluster(\n",
    "#     layer=layer,\n",
    "#     feature_id=feature_id,\n",
    "#     height=height,\n",
    "#     setting=setting,\n",
    "# )"
   ]
  },
  {
   "cell_type": "code",
   "execution_count": null,
   "metadata": {
    "executionInfo": {
     "elapsed": 6,
     "status": "aborted",
     "timestamp": 1720660912958,
     "user": {
      "displayName": "Jason L",
      "userId": "08424561876455739258"
     },
     "user_tz": 240
    },
    "id": "II1aZei0U7jO"
   },
   "outputs": [],
   "source": [
    "# @title Specify dataset path\n",
    "# dataset_path = ''\n",
    "\n",
    "# with open(dataset_path, 'r') as f:\n",
    "#     dataset = [json.loads(line) for line in f]\n",
    "\n",
    "# # Create contrastive pairs\n",
    "# contrastive_pairs = create_contrastive_pairs(dataset)\n",
    "\n",
    "# # Print a sample pair\n",
    "# print(\"Sample contrastive pair:\")\n",
    "# print(\"Positive prompt:\", contrastive_pairs[0][\"positive_prompt\"])\n",
    "# print(\"Positive completion:\", contrastive_pairs[0][\"positive_completion\"])\n",
    "# print(\"\\nNegative prompt:\", contrastive_pairs[0][\"negative_prompt\"])\n",
    "# print(\"Negative completion:\", contrastive_pairs[0][\"negative_completion\"])"
   ]
  },
  {
   "cell_type": "code",
   "execution_count": null,
   "metadata": {
    "executionInfo": {
     "elapsed": 6,
     "status": "aborted",
     "timestamp": 1720660912958,
     "user": {
      "displayName": "Jason L",
      "userId": "08424561876455739258"
     },
     "user_tz": 240
    },
    "id": "eYdgrd4tSZ3h"
   },
   "outputs": [],
   "source": [
    "# @title helper methods related to the contrastive pair\n",
    "# import random\n",
    "# import json\n",
    "\n",
    "# def create_contrastive_pairs(dataset, num_pairs=100):\n",
    "#     contrastive_pairs = []\n",
    "\n",
    "#     for data in dataset:\n",
    "#         question = data[\"question\"]\n",
    "#         statement = data[\"statement\"]\n",
    "#         answer_matching = data[\"answer_matching_behavior\"].strip()\n",
    "#         answer_not_matching = data[\"answer_not_matching_behavior\"].strip()\n",
    "\n",
    "#         # Create positive example\n",
    "#         positive_prompt = f\"{question}\\n{statement}\\nA) {answer_matching}\\nB) {answer_not_matching}\\nAnswer:\"\n",
    "#         positive_completion = \" A\"\n",
    "\n",
    "#         # Create negative example\n",
    "#         negative_prompt = f\"{question}\\n{statement}\\nA) {answer_matching}\\nB) {answer_not_matching}\\nAnswer:\"\n",
    "#         negative_completion = \" B\"\n",
    "\n",
    "#         contrastive_pairs.append({\n",
    "#             \"positive_prompt\": positive_prompt,\n",
    "#             \"positive_completion\": positive_completion,\n",
    "#             \"negative_prompt\": negative_prompt,\n",
    "#             \"negative_completion\": negative_completion\n",
    "#         })\n",
    "\n",
    "#     # Ensure we have at least the requested number of pairs\n",
    "#     while len(contrastive_pairs) < num_pairs:\n",
    "#         contrastive_pairs.extend(contrastive_pairs)\n",
    "\n",
    "#     # Randomly select the requested number of pairs\n",
    "#     return random.sample(contrastive_pairs, num_pairs)\n"
   ]
  },
  {
   "cell_type": "code",
   "execution_count": null,
   "metadata": {
    "executionInfo": {
     "elapsed": 6,
     "status": "aborted",
     "timestamp": 1720660912958,
     "user": {
      "displayName": "Jason L",
      "userId": "08424561876455739258"
     },
     "user_tz": 240
    },
    "id": "LIrU8g-EDMnO"
   },
   "outputs": [],
   "source": [
    "# @title Linear Regression Function Definition\n",
    "\n",
    "# import torch\n",
    "# import einops\n",
    "# from typing import Dict\n",
    "\n",
    "# def fit_features_to_activation_delta(\n",
    "#     feature_activations: Dict[int, torch.Tensor],\n",
    "#     activation_delta: torch.Tensor\n",
    "# ) -> torch.Tensor:\n",
    "#     \"\"\"\n",
    "#     Fit a set of curated features to an activation delta using linear regression.\n",
    "\n",
    "#     Args:\n",
    "#     feature_activations (Dict[int, torch.Tensor]): Dictionary mapping feature indices to their activation tensors.\n",
    "#     activation_delta (torch.Tensor): Target activation delta to fit.\n",
    "\n",
    "#     Returns:\n",
    "#     torch.Tensor: Weights that maximize similarity to the activation delta.\n",
    "#     \"\"\"\n",
    "#     # Convert the dictionary to a list of tensors, preserving the order of indices\n",
    "#     feature_indices = sorted(feature_activations.keys())\n",
    "#     X = torch.stack([feature_activations[idx] for idx in feature_indices])\n",
    "\n",
    "#     # Reshape X to (num_features, -1)\n",
    "#     X = einops.rearrange(X, 'features ... -> features (...)')\n",
    "\n",
    "#     # Reshape y (activation_delta) to (-1,)\n",
    "#     y = einops.rearrange(activation_delta, '... -> (...)')\n",
    "\n",
    "#     # Compute the weights using the normal equation\n",
    "#     weights = torch.linalg.lstsq(X.T, y).solution\n",
    "\n",
    "#     return weights\n",
    "\n",
    "# # @title Getting regression results and weighing them\n",
    "# for i in range(len(activation_deltas)):\n",
    "#   X = fit_features_to_activation_delta(activation_dict, activation_deltas[i, filtered_indices, :])\n",
    "#   print(X)"
   ]
  }
 ],
 "metadata": {
  "accelerator": "GPU",
  "colab": {
   "gpuType": "T4",
   "provenance": [
    {
     "file_id": "1yCZvzm71J9B_KGt9O8xge2fgw1pvkRMQ",
     "timestamp": 1718704649080
    }
   ]
  },
  "kernelspec": {
   "display_name": "Python 3 (ipykernel)",
   "language": "python",
   "name": "python3"
  },
  "language_info": {
   "codemirror_mode": {
    "name": "ipython",
    "version": 3
   },
   "file_extension": ".py",
   "mimetype": "text/x-python",
   "name": "python",
   "nbconvert_exporter": "python",
   "pygments_lexer": "ipython3",
   "version": "3.10.13"
  },
  "widgets": {
   "application/vnd.jupyter.widget-state+json": {
    "02e84f6391a24383ba333318d38b54b4": {
     "model_module": "@jupyter-widgets/controls",
     "model_module_version": "1.5.0",
     "model_name": "HBoxModel",
     "state": {
      "_dom_classes": [],
      "_model_module": "@jupyter-widgets/controls",
      "_model_module_version": "1.5.0",
      "_model_name": "HBoxModel",
      "_view_count": null,
      "_view_module": "@jupyter-widgets/controls",
      "_view_module_version": "1.5.0",
      "_view_name": "HBoxView",
      "box_style": "",
      "children": [
       "IPY_MODEL_72aca2cff6f84722bb47902e92e5c7b3",
       "IPY_MODEL_fd61e15c41134a02826c43c4864b36ce",
       "IPY_MODEL_f3f13ab205d1439b9c2b3ff585a6025b"
      ],
      "layout": "IPY_MODEL_8bcb7c9a2c904a218adc8c735ceb3d8d"
     }
    },
    "04e3e3b009334564aa13c0bd92afaff3": {
     "model_module": "@jupyter-widgets/base",
     "model_module_version": "1.2.0",
     "model_name": "LayoutModel",
     "state": {
      "_model_module": "@jupyter-widgets/base",
      "_model_module_version": "1.2.0",
      "_model_name": "LayoutModel",
      "_view_count": null,
      "_view_module": "@jupyter-widgets/base",
      "_view_module_version": "1.2.0",
      "_view_name": "LayoutView",
      "align_content": null,
      "align_items": null,
      "align_self": null,
      "border": null,
      "bottom": null,
      "display": null,
      "flex": null,
      "flex_flow": null,
      "grid_area": null,
      "grid_auto_columns": null,
      "grid_auto_flow": null,
      "grid_auto_rows": null,
      "grid_column": null,
      "grid_gap": null,
      "grid_row": null,
      "grid_template_areas": null,
      "grid_template_columns": null,
      "grid_template_rows": null,
      "height": null,
      "justify_content": null,
      "justify_items": null,
      "left": null,
      "margin": null,
      "max_height": null,
      "max_width": null,
      "min_height": null,
      "min_width": null,
      "object_fit": null,
      "object_position": null,
      "order": null,
      "overflow": null,
      "overflow_x": null,
      "overflow_y": null,
      "padding": null,
      "right": null,
      "top": null,
      "visibility": null,
      "width": null
     }
    },
    "089cc29b6f2a489aafd236253a9d938a": {
     "model_module": "@jupyter-widgets/controls",
     "model_module_version": "1.5.0",
     "model_name": "HBoxModel",
     "state": {
      "_dom_classes": [],
      "_model_module": "@jupyter-widgets/controls",
      "_model_module_version": "1.5.0",
      "_model_name": "HBoxModel",
      "_view_count": null,
      "_view_module": "@jupyter-widgets/controls",
      "_view_module_version": "1.5.0",
      "_view_name": "HBoxView",
      "box_style": "",
      "children": [
       "IPY_MODEL_b3b8250dd1e14176b72b2d9bf4ba0626",
       "IPY_MODEL_3693e51537f94646a9fbb4742cdac249",
       "IPY_MODEL_7020a420c1ee4f62b467af0263573c95"
      ],
      "layout": "IPY_MODEL_1234cc5863d942589990d49d934e155a"
     }
    },
    "1234cc5863d942589990d49d934e155a": {
     "model_module": "@jupyter-widgets/base",
     "model_module_version": "1.2.0",
     "model_name": "LayoutModel",
     "state": {
      "_model_module": "@jupyter-widgets/base",
      "_model_module_version": "1.2.0",
      "_model_name": "LayoutModel",
      "_view_count": null,
      "_view_module": "@jupyter-widgets/base",
      "_view_module_version": "1.2.0",
      "_view_name": "LayoutView",
      "align_content": null,
      "align_items": null,
      "align_self": null,
      "border": null,
      "bottom": null,
      "display": null,
      "flex": null,
      "flex_flow": null,
      "grid_area": null,
      "grid_auto_columns": null,
      "grid_auto_flow": null,
      "grid_auto_rows": null,
      "grid_column": null,
      "grid_gap": null,
      "grid_row": null,
      "grid_template_areas": null,
      "grid_template_columns": null,
      "grid_template_rows": null,
      "height": null,
      "justify_content": null,
      "justify_items": null,
      "left": null,
      "margin": null,
      "max_height": null,
      "max_width": null,
      "min_height": null,
      "min_width": null,
      "object_fit": null,
      "object_position": null,
      "order": null,
      "overflow": null,
      "overflow_x": null,
      "overflow_y": null,
      "padding": null,
      "right": null,
      "top": null,
      "visibility": null,
      "width": null
     }
    },
    "1639b9663b2c42f6b0bf764f2c1adce5": {
     "model_module": "@jupyter-widgets/base",
     "model_module_version": "1.2.0",
     "model_name": "LayoutModel",
     "state": {
      "_model_module": "@jupyter-widgets/base",
      "_model_module_version": "1.2.0",
      "_model_name": "LayoutModel",
      "_view_count": null,
      "_view_module": "@jupyter-widgets/base",
      "_view_module_version": "1.2.0",
      "_view_name": "LayoutView",
      "align_content": null,
      "align_items": null,
      "align_self": null,
      "border": null,
      "bottom": null,
      "display": null,
      "flex": null,
      "flex_flow": null,
      "grid_area": null,
      "grid_auto_columns": null,
      "grid_auto_flow": null,
      "grid_auto_rows": null,
      "grid_column": null,
      "grid_gap": null,
      "grid_row": null,
      "grid_template_areas": null,
      "grid_template_columns": null,
      "grid_template_rows": null,
      "height": null,
      "justify_content": null,
      "justify_items": null,
      "left": null,
      "margin": null,
      "max_height": null,
      "max_width": null,
      "min_height": null,
      "min_width": null,
      "object_fit": null,
      "object_position": null,
      "order": null,
      "overflow": null,
      "overflow_x": null,
      "overflow_y": null,
      "padding": null,
      "right": null,
      "top": null,
      "visibility": null,
      "width": null
     }
    },
    "187d84434fd6456e8dd83fd1b4100dad": {
     "model_module": "@jupyter-widgets/controls",
     "model_module_version": "1.5.0",
     "model_name": "HBoxModel",
     "state": {
      "_dom_classes": [],
      "_model_module": "@jupyter-widgets/controls",
      "_model_module_version": "1.5.0",
      "_model_name": "HBoxModel",
      "_view_count": null,
      "_view_module": "@jupyter-widgets/controls",
      "_view_module_version": "1.5.0",
      "_view_name": "HBoxView",
      "box_style": "",
      "children": [
       "IPY_MODEL_7b56f01d6ebb46b0a903ee39bd631525",
       "IPY_MODEL_52fdff2628024a0ba81e557efa885bbe",
       "IPY_MODEL_a9077d2424a04ba093a692259d8bd34f"
      ],
      "layout": "IPY_MODEL_3692e8fbeb074241a7a534855d7fdbbf"
     }
    },
    "1a4623f10d204772b9f34fb75bcb820a": {
     "model_module": "@jupyter-widgets/controls",
     "model_module_version": "1.5.0",
     "model_name": "DescriptionStyleModel",
     "state": {
      "_model_module": "@jupyter-widgets/controls",
      "_model_module_version": "1.5.0",
      "_model_name": "DescriptionStyleModel",
      "_view_count": null,
      "_view_module": "@jupyter-widgets/base",
      "_view_module_version": "1.2.0",
      "_view_name": "StyleView",
      "description_width": ""
     }
    },
    "1db6d169bf06423d9c55eaf825c0d961": {
     "model_module": "@jupyter-widgets/controls",
     "model_module_version": "1.5.0",
     "model_name": "DescriptionStyleModel",
     "state": {
      "_model_module": "@jupyter-widgets/controls",
      "_model_module_version": "1.5.0",
      "_model_name": "DescriptionStyleModel",
      "_view_count": null,
      "_view_module": "@jupyter-widgets/base",
      "_view_module_version": "1.2.0",
      "_view_name": "StyleView",
      "description_width": ""
     }
    },
    "1f0fcb2a6c2c4e9fa9b2287f5e92f9cf": {
     "model_module": "@jupyter-widgets/controls",
     "model_module_version": "1.5.0",
     "model_name": "HTMLModel",
     "state": {
      "_dom_classes": [],
      "_model_module": "@jupyter-widgets/controls",
      "_model_module_version": "1.5.0",
      "_model_name": "HTMLModel",
      "_view_count": null,
      "_view_module": "@jupyter-widgets/controls",
      "_view_module_version": "1.5.0",
      "_view_name": "HTMLView",
      "description": "",
      "description_tooltip": null,
      "layout": "IPY_MODEL_04e3e3b009334564aa13c0bd92afaff3",
      "placeholder": "​",
      "style": "IPY_MODEL_c3db0b79c4564c1fb9acfa7e650cc5bf",
      "value": "100%"
     }
    },
    "29b5de1d4b194f4bbf1f36df74b378ec": {
     "model_module": "@jupyter-widgets/base",
     "model_module_version": "1.2.0",
     "model_name": "LayoutModel",
     "state": {
      "_model_module": "@jupyter-widgets/base",
      "_model_module_version": "1.2.0",
      "_model_name": "LayoutModel",
      "_view_count": null,
      "_view_module": "@jupyter-widgets/base",
      "_view_module_version": "1.2.0",
      "_view_name": "LayoutView",
      "align_content": null,
      "align_items": null,
      "align_self": null,
      "border": null,
      "bottom": null,
      "display": null,
      "flex": null,
      "flex_flow": null,
      "grid_area": null,
      "grid_auto_columns": null,
      "grid_auto_flow": null,
      "grid_auto_rows": null,
      "grid_column": null,
      "grid_gap": null,
      "grid_row": null,
      "grid_template_areas": null,
      "grid_template_columns": null,
      "grid_template_rows": null,
      "height": null,
      "justify_content": null,
      "justify_items": null,
      "left": null,
      "margin": null,
      "max_height": null,
      "max_width": null,
      "min_height": null,
      "min_width": null,
      "object_fit": null,
      "object_position": null,
      "order": null,
      "overflow": null,
      "overflow_x": null,
      "overflow_y": null,
      "padding": null,
      "right": null,
      "top": null,
      "visibility": null,
      "width": null
     }
    },
    "2c2fcf7cd3004039ae2fa17dd996ce10": {
     "model_module": "@jupyter-widgets/controls",
     "model_module_version": "1.5.0",
     "model_name": "HBoxModel",
     "state": {
      "_dom_classes": [],
      "_model_module": "@jupyter-widgets/controls",
      "_model_module_version": "1.5.0",
      "_model_name": "HBoxModel",
      "_view_count": null,
      "_view_module": "@jupyter-widgets/controls",
      "_view_module_version": "1.5.0",
      "_view_name": "HBoxView",
      "box_style": "",
      "children": [
       "IPY_MODEL_1f0fcb2a6c2c4e9fa9b2287f5e92f9cf",
       "IPY_MODEL_ef7326b2935b4fb784d07b108c004e2f",
       "IPY_MODEL_53594c1b15854545ad78157731d26c2c"
      ],
      "layout": "IPY_MODEL_1639b9663b2c42f6b0bf764f2c1adce5"
     }
    },
    "304469e0bcb94128bae4b85c57559a51": {
     "model_module": "@jupyter-widgets/controls",
     "model_module_version": "1.5.0",
     "model_name": "FloatProgressModel",
     "state": {
      "_dom_classes": [],
      "_model_module": "@jupyter-widgets/controls",
      "_model_module_version": "1.5.0",
      "_model_name": "FloatProgressModel",
      "_view_count": null,
      "_view_module": "@jupyter-widgets/controls",
      "_view_module_version": "1.5.0",
      "_view_name": "ProgressView",
      "bar_style": "success",
      "description": "",
      "description_tooltip": null,
      "layout": "IPY_MODEL_94bc484c524845fc8061c75266d55e95",
      "max": 151096640,
      "min": 0,
      "orientation": "horizontal",
      "style": "IPY_MODEL_a7b0fbfe95704814a2956bc8f8031f54",
      "value": 151096640
     }
    },
    "34bb9ddcf64b455f839628ab4355c893": {
     "model_module": "@jupyter-widgets/base",
     "model_module_version": "1.2.0",
     "model_name": "LayoutModel",
     "state": {
      "_model_module": "@jupyter-widgets/base",
      "_model_module_version": "1.2.0",
      "_model_name": "LayoutModel",
      "_view_count": null,
      "_view_module": "@jupyter-widgets/base",
      "_view_module_version": "1.2.0",
      "_view_name": "LayoutView",
      "align_content": null,
      "align_items": null,
      "align_self": null,
      "border": null,
      "bottom": null,
      "display": null,
      "flex": null,
      "flex_flow": null,
      "grid_area": null,
      "grid_auto_columns": null,
      "grid_auto_flow": null,
      "grid_auto_rows": null,
      "grid_column": null,
      "grid_gap": null,
      "grid_row": null,
      "grid_template_areas": null,
      "grid_template_columns": null,
      "grid_template_rows": null,
      "height": null,
      "justify_content": null,
      "justify_items": null,
      "left": null,
      "margin": null,
      "max_height": null,
      "max_width": null,
      "min_height": null,
      "min_width": null,
      "object_fit": null,
      "object_position": null,
      "order": null,
      "overflow": null,
      "overflow_x": null,
      "overflow_y": null,
      "padding": null,
      "right": null,
      "top": null,
      "visibility": null,
      "width": null
     }
    },
    "3561458d90c84307b6effe558040eeec": {
     "model_module": "@jupyter-widgets/controls",
     "model_module_version": "1.5.0",
     "model_name": "DescriptionStyleModel",
     "state": {
      "_model_module": "@jupyter-widgets/controls",
      "_model_module_version": "1.5.0",
      "_model_name": "DescriptionStyleModel",
      "_view_count": null,
      "_view_module": "@jupyter-widgets/base",
      "_view_module_version": "1.2.0",
      "_view_name": "StyleView",
      "description_width": ""
     }
    },
    "356c40837ce54ff5878f51a273dbc222": {
     "model_module": "@jupyter-widgets/controls",
     "model_module_version": "1.5.0",
     "model_name": "FloatProgressModel",
     "state": {
      "_dom_classes": [],
      "_model_module": "@jupyter-widgets/controls",
      "_model_module_version": "1.5.0",
      "_model_name": "FloatProgressModel",
      "_view_count": null,
      "_view_module": "@jupyter-widgets/controls",
      "_view_module_version": "1.5.0",
      "_view_name": "ProgressView",
      "bar_style": "success",
      "description": "",
      "description_tooltip": null,
      "layout": "IPY_MODEL_7f7522ac96574de4a1d1042257061016",
      "max": 548105171,
      "min": 0,
      "orientation": "horizontal",
      "style": "IPY_MODEL_4e1b6668dbc344a2aa4731473df2c90d",
      "value": 548105171
     }
    },
    "3583ca0429874dbaa0d06c9c31c556cd": {
     "model_module": "@jupyter-widgets/controls",
     "model_module_version": "1.5.0",
     "model_name": "DescriptionStyleModel",
     "state": {
      "_model_module": "@jupyter-widgets/controls",
      "_model_module_version": "1.5.0",
      "_model_name": "DescriptionStyleModel",
      "_view_count": null,
      "_view_module": "@jupyter-widgets/base",
      "_view_module_version": "1.2.0",
      "_view_name": "StyleView",
      "description_width": ""
     }
    },
    "3692e8fbeb074241a7a534855d7fdbbf": {
     "model_module": "@jupyter-widgets/base",
     "model_module_version": "1.2.0",
     "model_name": "LayoutModel",
     "state": {
      "_model_module": "@jupyter-widgets/base",
      "_model_module_version": "1.2.0",
      "_model_name": "LayoutModel",
      "_view_count": null,
      "_view_module": "@jupyter-widgets/base",
      "_view_module_version": "1.2.0",
      "_view_name": "LayoutView",
      "align_content": null,
      "align_items": null,
      "align_self": null,
      "border": null,
      "bottom": null,
      "display": null,
      "flex": null,
      "flex_flow": null,
      "grid_area": null,
      "grid_auto_columns": null,
      "grid_auto_flow": null,
      "grid_auto_rows": null,
      "grid_column": null,
      "grid_gap": null,
      "grid_row": null,
      "grid_template_areas": null,
      "grid_template_columns": null,
      "grid_template_rows": null,
      "height": null,
      "justify_content": null,
      "justify_items": null,
      "left": null,
      "margin": null,
      "max_height": null,
      "max_width": null,
      "min_height": null,
      "min_width": null,
      "object_fit": null,
      "object_position": null,
      "order": null,
      "overflow": null,
      "overflow_x": null,
      "overflow_y": null,
      "padding": null,
      "right": null,
      "top": null,
      "visibility": null,
      "width": null
     }
    },
    "3693e51537f94646a9fbb4742cdac249": {
     "model_module": "@jupyter-widgets/controls",
     "model_module_version": "1.5.0",
     "model_name": "FloatProgressModel",
     "state": {
      "_dom_classes": [],
      "_model_module": "@jupyter-widgets/controls",
      "_model_module_version": "1.5.0",
      "_model_name": "FloatProgressModel",
      "_view_count": null,
      "_view_module": "@jupyter-widgets/controls",
      "_view_module_version": "1.5.0",
      "_view_name": "ProgressView",
      "bar_style": "success",
      "description": "",
      "description_tooltip": null,
      "layout": "IPY_MODEL_29b5de1d4b194f4bbf1f36df74b378ec",
      "max": 50,
      "min": 0,
      "orientation": "horizontal",
      "style": "IPY_MODEL_5e77e9d1d1df4bbfafd149493ab122cd",
      "value": 50
     }
    },
    "37e3732b35bf415c94f956df86929ffd": {
     "model_module": "@jupyter-widgets/controls",
     "model_module_version": "1.5.0",
     "model_name": "HTMLModel",
     "state": {
      "_dom_classes": [],
      "_model_module": "@jupyter-widgets/controls",
      "_model_module_version": "1.5.0",
      "_model_name": "HTMLModel",
      "_view_count": null,
      "_view_module": "@jupyter-widgets/controls",
      "_view_module_version": "1.5.0",
      "_view_name": "HTMLView",
      "description": "",
      "description_tooltip": null,
      "layout": "IPY_MODEL_5b4cac3daa9a4740b98314fded2d5d71",
      "placeholder": "​",
      "style": "IPY_MODEL_de4ae170101c46a2978c55e6ecb614fa",
      "value": "100%"
     }
    },
    "3aee9158efbe4798b4dd801720922024": {
     "model_module": "@jupyter-widgets/controls",
     "model_module_version": "1.5.0",
     "model_name": "HTMLModel",
     "state": {
      "_dom_classes": [],
      "_model_module": "@jupyter-widgets/controls",
      "_model_module_version": "1.5.0",
      "_model_name": "HTMLModel",
      "_view_count": null,
      "_view_module": "@jupyter-widgets/controls",
      "_view_module_version": "1.5.0",
      "_view_name": "HTMLView",
      "description": "",
      "description_tooltip": null,
      "layout": "IPY_MODEL_e8ccfe92166d45f38ee651d30b0a3150",
      "placeholder": "​",
      "style": "IPY_MODEL_a9fda27e22d34d2495d71f41e666177b",
      "value": " 50/50 [00:09&lt;00:00,  6.09it/s]"
     }
    },
    "3e5fc4bedd5e4acab6e1d73a81d22fd3": {
     "model_module": "@jupyter-widgets/controls",
     "model_module_version": "1.5.0",
     "model_name": "HTMLModel",
     "state": {
      "_dom_classes": [],
      "_model_module": "@jupyter-widgets/controls",
      "_model_module_version": "1.5.0",
      "_model_name": "HTMLModel",
      "_view_count": null,
      "_view_module": "@jupyter-widgets/controls",
      "_view_module_version": "1.5.0",
      "_view_name": "HTMLView",
      "description": "",
      "description_tooltip": null,
      "layout": "IPY_MODEL_b237d65e730d460fa7e37ab9cf4553d2",
      "placeholder": "​",
      "style": "IPY_MODEL_f0e6ac69a07242029183152c4435efc0",
      "value": "sae_weights.safetensors: 100%"
     }
    },
    "4cff098cad29491d8da37caa8a4e6d58": {
     "model_module": "@jupyter-widgets/controls",
     "model_module_version": "1.5.0",
     "model_name": "HBoxModel",
     "state": {
      "_dom_classes": [],
      "_model_module": "@jupyter-widgets/controls",
      "_model_module_version": "1.5.0",
      "_model_name": "HBoxModel",
      "_view_count": null,
      "_view_module": "@jupyter-widgets/controls",
      "_view_module_version": "1.5.0",
      "_view_name": "HBoxView",
      "box_style": "",
      "children": [
       "IPY_MODEL_99e892bcb17a4a4895630deb76b9e551",
       "IPY_MODEL_356c40837ce54ff5878f51a273dbc222",
       "IPY_MODEL_51712e80d115494594c5a8de54c063fa"
      ],
      "layout": "IPY_MODEL_ac0dbead4a8f40cf8bc12946cf64e64d"
     }
    },
    "4e1b6668dbc344a2aa4731473df2c90d": {
     "model_module": "@jupyter-widgets/controls",
     "model_module_version": "1.5.0",
     "model_name": "ProgressStyleModel",
     "state": {
      "_model_module": "@jupyter-widgets/controls",
      "_model_module_version": "1.5.0",
      "_model_name": "ProgressStyleModel",
      "_view_count": null,
      "_view_module": "@jupyter-widgets/base",
      "_view_module_version": "1.2.0",
      "_view_name": "StyleView",
      "bar_color": null,
      "description_width": ""
     }
    },
    "5120f2d09c3a461f88a6a495a2a7f04a": {
     "model_module": "@jupyter-widgets/base",
     "model_module_version": "1.2.0",
     "model_name": "LayoutModel",
     "state": {
      "_model_module": "@jupyter-widgets/base",
      "_model_module_version": "1.2.0",
      "_model_name": "LayoutModel",
      "_view_count": null,
      "_view_module": "@jupyter-widgets/base",
      "_view_module_version": "1.2.0",
      "_view_name": "LayoutView",
      "align_content": null,
      "align_items": null,
      "align_self": null,
      "border": null,
      "bottom": null,
      "display": null,
      "flex": null,
      "flex_flow": null,
      "grid_area": null,
      "grid_auto_columns": null,
      "grid_auto_flow": null,
      "grid_auto_rows": null,
      "grid_column": null,
      "grid_gap": null,
      "grid_row": null,
      "grid_template_areas": null,
      "grid_template_columns": null,
      "grid_template_rows": null,
      "height": null,
      "justify_content": null,
      "justify_items": null,
      "left": null,
      "margin": null,
      "max_height": null,
      "max_width": null,
      "min_height": null,
      "min_width": null,
      "object_fit": null,
      "object_position": null,
      "order": null,
      "overflow": null,
      "overflow_x": null,
      "overflow_y": null,
      "padding": null,
      "right": null,
      "top": null,
      "visibility": null,
      "width": null
     }
    },
    "51712e80d115494594c5a8de54c063fa": {
     "model_module": "@jupyter-widgets/controls",
     "model_module_version": "1.5.0",
     "model_name": "HTMLModel",
     "state": {
      "_dom_classes": [],
      "_model_module": "@jupyter-widgets/controls",
      "_model_module_version": "1.5.0",
      "_model_name": "HTMLModel",
      "_view_count": null,
      "_view_module": "@jupyter-widgets/controls",
      "_view_module_version": "1.5.0",
      "_view_name": "HTMLView",
      "description": "",
      "description_tooltip": null,
      "layout": "IPY_MODEL_999e4884026f45e7aa01f53750e8795a",
      "placeholder": "​",
      "style": "IPY_MODEL_9466f81614cc4e99b40a79b7e9f79623",
      "value": " 548M/548M [00:08&lt;00:00, 106MB/s]"
     }
    },
    "52fdff2628024a0ba81e557efa885bbe": {
     "model_module": "@jupyter-widgets/controls",
     "model_module_version": "1.5.0",
     "model_name": "FloatProgressModel",
     "state": {
      "_dom_classes": [],
      "_model_module": "@jupyter-widgets/controls",
      "_model_module_version": "1.5.0",
      "_model_name": "FloatProgressModel",
      "_view_count": null,
      "_view_module": "@jupyter-widgets/controls",
      "_view_module_version": "1.5.0",
      "_view_name": "ProgressView",
      "bar_style": "success",
      "description": "",
      "description_tooltip": null,
      "layout": "IPY_MODEL_a77937b37e9249be9dc9f7be0ab0ba7c",
      "max": 124,
      "min": 0,
      "orientation": "horizontal",
      "style": "IPY_MODEL_80b57c14f3b044c78bf02aef20349e4f",
      "value": 124
     }
    },
    "53594c1b15854545ad78157731d26c2c": {
     "model_module": "@jupyter-widgets/controls",
     "model_module_version": "1.5.0",
     "model_name": "HTMLModel",
     "state": {
      "_dom_classes": [],
      "_model_module": "@jupyter-widgets/controls",
      "_model_module_version": "1.5.0",
      "_model_name": "HTMLModel",
      "_view_count": null,
      "_view_module": "@jupyter-widgets/controls",
      "_view_module_version": "1.5.0",
      "_view_name": "HTMLView",
      "description": "",
      "description_tooltip": null,
      "layout": "IPY_MODEL_c6a4d93bb99e4ec7af10bebd256ff963",
      "placeholder": "​",
      "style": "IPY_MODEL_1a4623f10d204772b9f34fb75bcb820a",
      "value": " 50/50 [00:08&lt;00:00,  5.95it/s]"
     }
    },
    "5998797a59df423f9dffb010241e4d43": {
     "model_module": "@jupyter-widgets/controls",
     "model_module_version": "1.5.0",
     "model_name": "FloatProgressModel",
     "state": {
      "_dom_classes": [],
      "_model_module": "@jupyter-widgets/controls",
      "_model_module_version": "1.5.0",
      "_model_name": "FloatProgressModel",
      "_view_count": null,
      "_view_module": "@jupyter-widgets/controls",
      "_view_module_version": "1.5.0",
      "_view_name": "ProgressView",
      "bar_style": "success",
      "description": "",
      "description_tooltip": null,
      "layout": "IPY_MODEL_f59b0fa458214233a845265c84ee57da",
      "max": 50,
      "min": 0,
      "orientation": "horizontal",
      "style": "IPY_MODEL_8b5d5cd6dca242198e4fdda139aba4f1",
      "value": 50
     }
    },
    "5abafb3a5c3347ed945eeec8f1473658": {
     "model_module": "@jupyter-widgets/base",
     "model_module_version": "1.2.0",
     "model_name": "LayoutModel",
     "state": {
      "_model_module": "@jupyter-widgets/base",
      "_model_module_version": "1.2.0",
      "_model_name": "LayoutModel",
      "_view_count": null,
      "_view_module": "@jupyter-widgets/base",
      "_view_module_version": "1.2.0",
      "_view_name": "LayoutView",
      "align_content": null,
      "align_items": null,
      "align_self": null,
      "border": null,
      "bottom": null,
      "display": null,
      "flex": null,
      "flex_flow": null,
      "grid_area": null,
      "grid_auto_columns": null,
      "grid_auto_flow": null,
      "grid_auto_rows": null,
      "grid_column": null,
      "grid_gap": null,
      "grid_row": null,
      "grid_template_areas": null,
      "grid_template_columns": null,
      "grid_template_rows": null,
      "height": null,
      "justify_content": null,
      "justify_items": null,
      "left": null,
      "margin": null,
      "max_height": null,
      "max_width": null,
      "min_height": null,
      "min_width": null,
      "object_fit": null,
      "object_position": null,
      "order": null,
      "overflow": null,
      "overflow_x": null,
      "overflow_y": null,
      "padding": null,
      "right": null,
      "top": null,
      "visibility": null,
      "width": null
     }
    },
    "5adc73f0f05b4c9ea1e966c143aa437b": {
     "model_module": "@jupyter-widgets/base",
     "model_module_version": "1.2.0",
     "model_name": "LayoutModel",
     "state": {
      "_model_module": "@jupyter-widgets/base",
      "_model_module_version": "1.2.0",
      "_model_name": "LayoutModel",
      "_view_count": null,
      "_view_module": "@jupyter-widgets/base",
      "_view_module_version": "1.2.0",
      "_view_name": "LayoutView",
      "align_content": null,
      "align_items": null,
      "align_self": null,
      "border": null,
      "bottom": null,
      "display": null,
      "flex": null,
      "flex_flow": null,
      "grid_area": null,
      "grid_auto_columns": null,
      "grid_auto_flow": null,
      "grid_auto_rows": null,
      "grid_column": null,
      "grid_gap": null,
      "grid_row": null,
      "grid_template_areas": null,
      "grid_template_columns": null,
      "grid_template_rows": null,
      "height": null,
      "justify_content": null,
      "justify_items": null,
      "left": null,
      "margin": null,
      "max_height": null,
      "max_width": null,
      "min_height": null,
      "min_width": null,
      "object_fit": null,
      "object_position": null,
      "order": null,
      "overflow": null,
      "overflow_x": null,
      "overflow_y": null,
      "padding": null,
      "right": null,
      "top": null,
      "visibility": null,
      "width": null
     }
    },
    "5b4cac3daa9a4740b98314fded2d5d71": {
     "model_module": "@jupyter-widgets/base",
     "model_module_version": "1.2.0",
     "model_name": "LayoutModel",
     "state": {
      "_model_module": "@jupyter-widgets/base",
      "_model_module_version": "1.2.0",
      "_model_name": "LayoutModel",
      "_view_count": null,
      "_view_module": "@jupyter-widgets/base",
      "_view_module_version": "1.2.0",
      "_view_name": "LayoutView",
      "align_content": null,
      "align_items": null,
      "align_self": null,
      "border": null,
      "bottom": null,
      "display": null,
      "flex": null,
      "flex_flow": null,
      "grid_area": null,
      "grid_auto_columns": null,
      "grid_auto_flow": null,
      "grid_auto_rows": null,
      "grid_column": null,
      "grid_gap": null,
      "grid_row": null,
      "grid_template_areas": null,
      "grid_template_columns": null,
      "grid_template_rows": null,
      "height": null,
      "justify_content": null,
      "justify_items": null,
      "left": null,
      "margin": null,
      "max_height": null,
      "max_width": null,
      "min_height": null,
      "min_width": null,
      "object_fit": null,
      "object_position": null,
      "order": null,
      "overflow": null,
      "overflow_x": null,
      "overflow_y": null,
      "padding": null,
      "right": null,
      "top": null,
      "visibility": null,
      "width": null
     }
    },
    "5b6a72a88e0b4b69a09313dfdb4ffb98": {
     "model_module": "@jupyter-widgets/controls",
     "model_module_version": "1.5.0",
     "model_name": "HBoxModel",
     "state": {
      "_dom_classes": [],
      "_model_module": "@jupyter-widgets/controls",
      "_model_module_version": "1.5.0",
      "_model_name": "HBoxModel",
      "_view_count": null,
      "_view_module": "@jupyter-widgets/controls",
      "_view_module_version": "1.5.0",
      "_view_name": "HBoxView",
      "box_style": "",
      "children": [
       "IPY_MODEL_37e3732b35bf415c94f956df86929ffd",
       "IPY_MODEL_5998797a59df423f9dffb010241e4d43",
       "IPY_MODEL_3aee9158efbe4798b4dd801720922024"
      ],
      "layout": "IPY_MODEL_5120f2d09c3a461f88a6a495a2a7f04a"
     }
    },
    "5e77e9d1d1df4bbfafd149493ab122cd": {
     "model_module": "@jupyter-widgets/controls",
     "model_module_version": "1.5.0",
     "model_name": "ProgressStyleModel",
     "state": {
      "_model_module": "@jupyter-widgets/controls",
      "_model_module_version": "1.5.0",
      "_model_name": "ProgressStyleModel",
      "_view_count": null,
      "_view_module": "@jupyter-widgets/base",
      "_view_module_version": "1.2.0",
      "_view_name": "StyleView",
      "bar_color": null,
      "description_width": ""
     }
    },
    "6380bd0f6b0d4651870a003aebeba9e6": {
     "model_module": "@jupyter-widgets/controls",
     "model_module_version": "1.5.0",
     "model_name": "DescriptionStyleModel",
     "state": {
      "_model_module": "@jupyter-widgets/controls",
      "_model_module_version": "1.5.0",
      "_model_name": "DescriptionStyleModel",
      "_view_count": null,
      "_view_module": "@jupyter-widgets/base",
      "_view_module_version": "1.2.0",
      "_view_name": "StyleView",
      "description_width": ""
     }
    },
    "6ed7f0acda694148a7712ea3c085d70a": {
     "model_module": "@jupyter-widgets/controls",
     "model_module_version": "1.5.0",
     "model_name": "DescriptionStyleModel",
     "state": {
      "_model_module": "@jupyter-widgets/controls",
      "_model_module_version": "1.5.0",
      "_model_name": "DescriptionStyleModel",
      "_view_count": null,
      "_view_module": "@jupyter-widgets/base",
      "_view_module_version": "1.2.0",
      "_view_name": "StyleView",
      "description_width": ""
     }
    },
    "6f9b52d5dbb7488b9bdc5adf4ffdc77e": {
     "model_module": "@jupyter-widgets/controls",
     "model_module_version": "1.5.0",
     "model_name": "DescriptionStyleModel",
     "state": {
      "_model_module": "@jupyter-widgets/controls",
      "_model_module_version": "1.5.0",
      "_model_name": "DescriptionStyleModel",
      "_view_count": null,
      "_view_module": "@jupyter-widgets/base",
      "_view_module_version": "1.2.0",
      "_view_name": "StyleView",
      "description_width": ""
     }
    },
    "6fb0438a035b4276a0f976ca5d189126": {
     "model_module": "@jupyter-widgets/controls",
     "model_module_version": "1.5.0",
     "model_name": "HTMLModel",
     "state": {
      "_dom_classes": [],
      "_model_module": "@jupyter-widgets/controls",
      "_model_module_version": "1.5.0",
      "_model_name": "HTMLModel",
      "_view_count": null,
      "_view_module": "@jupyter-widgets/controls",
      "_view_module_version": "1.5.0",
      "_view_name": "HTMLView",
      "description": "",
      "description_tooltip": null,
      "layout": "IPY_MODEL_dbe3864b74a44d968522cfcd72bbd8a0",
      "placeholder": "​",
      "style": "IPY_MODEL_3561458d90c84307b6effe558040eeec",
      "value": " 98.4k/98.4k [00:00&lt;00:00, 2.84MB/s]"
     }
    },
    "7020a420c1ee4f62b467af0263573c95": {
     "model_module": "@jupyter-widgets/controls",
     "model_module_version": "1.5.0",
     "model_name": "HTMLModel",
     "state": {
      "_dom_classes": [],
      "_model_module": "@jupyter-widgets/controls",
      "_model_module_version": "1.5.0",
      "_model_name": "HTMLModel",
      "_view_count": null,
      "_view_module": "@jupyter-widgets/controls",
      "_view_module_version": "1.5.0",
      "_view_name": "HTMLView",
      "description": "",
      "description_tooltip": null,
      "layout": "IPY_MODEL_eded63a0e8b8430396c661db85b680dd",
      "placeholder": "​",
      "style": "IPY_MODEL_a12634c045eb47b786ecd8124c10fb76",
      "value": " 50/50 [00:14&lt;00:00,  2.78it/s]"
     }
    },
    "72aca2cff6f84722bb47902e92e5c7b3": {
     "model_module": "@jupyter-widgets/controls",
     "model_module_version": "1.5.0",
     "model_name": "HTMLModel",
     "state": {
      "_dom_classes": [],
      "_model_module": "@jupyter-widgets/controls",
      "_model_module_version": "1.5.0",
      "_model_name": "HTMLModel",
      "_view_count": null,
      "_view_module": "@jupyter-widgets/controls",
      "_view_module_version": "1.5.0",
      "_view_name": "HTMLView",
      "description": "",
      "description_tooltip": null,
      "layout": "IPY_MODEL_8eebdfb65d9e4917957d303d49b6572b",
      "placeholder": "​",
      "style": "IPY_MODEL_9b4c23b8403040c39102a7b8fa4826ca",
      "value": "blocks.9.hook_resid_pre/cfg.json: 100%"
     }
    },
    "7b56f01d6ebb46b0a903ee39bd631525": {
     "model_module": "@jupyter-widgets/controls",
     "model_module_version": "1.5.0",
     "model_name": "HTMLModel",
     "state": {
      "_dom_classes": [],
      "_model_module": "@jupyter-widgets/controls",
      "_model_module_version": "1.5.0",
      "_model_name": "HTMLModel",
      "_view_count": null,
      "_view_module": "@jupyter-widgets/controls",
      "_view_module_version": "1.5.0",
      "_view_name": "HTMLView",
      "description": "",
      "description_tooltip": null,
      "layout": "IPY_MODEL_5abafb3a5c3347ed945eeec8f1473658",
      "placeholder": "​",
      "style": "IPY_MODEL_6ed7f0acda694148a7712ea3c085d70a",
      "value": "generation_config.json: 100%"
     }
    },
    "7f7522ac96574de4a1d1042257061016": {
     "model_module": "@jupyter-widgets/base",
     "model_module_version": "1.2.0",
     "model_name": "LayoutModel",
     "state": {
      "_model_module": "@jupyter-widgets/base",
      "_model_module_version": "1.2.0",
      "_model_name": "LayoutModel",
      "_view_count": null,
      "_view_module": "@jupyter-widgets/base",
      "_view_module_version": "1.2.0",
      "_view_name": "LayoutView",
      "align_content": null,
      "align_items": null,
      "align_self": null,
      "border": null,
      "bottom": null,
      "display": null,
      "flex": null,
      "flex_flow": null,
      "grid_area": null,
      "grid_auto_columns": null,
      "grid_auto_flow": null,
      "grid_auto_rows": null,
      "grid_column": null,
      "grid_gap": null,
      "grid_row": null,
      "grid_template_areas": null,
      "grid_template_columns": null,
      "grid_template_rows": null,
      "height": null,
      "justify_content": null,
      "justify_items": null,
      "left": null,
      "margin": null,
      "max_height": null,
      "max_width": null,
      "min_height": null,
      "min_width": null,
      "object_fit": null,
      "object_position": null,
      "order": null,
      "overflow": null,
      "overflow_x": null,
      "overflow_y": null,
      "padding": null,
      "right": null,
      "top": null,
      "visibility": null,
      "width": null
     }
    },
    "80b57c14f3b044c78bf02aef20349e4f": {
     "model_module": "@jupyter-widgets/controls",
     "model_module_version": "1.5.0",
     "model_name": "ProgressStyleModel",
     "state": {
      "_model_module": "@jupyter-widgets/controls",
      "_model_module_version": "1.5.0",
      "_model_name": "ProgressStyleModel",
      "_view_count": null,
      "_view_module": "@jupyter-widgets/base",
      "_view_module_version": "1.2.0",
      "_view_name": "StyleView",
      "bar_color": null,
      "description_width": ""
     }
    },
    "88604589ba3a445d8789761bfd9ec70b": {
     "model_module": "@jupyter-widgets/base",
     "model_module_version": "1.2.0",
     "model_name": "LayoutModel",
     "state": {
      "_model_module": "@jupyter-widgets/base",
      "_model_module_version": "1.2.0",
      "_model_name": "LayoutModel",
      "_view_count": null,
      "_view_module": "@jupyter-widgets/base",
      "_view_module_version": "1.2.0",
      "_view_name": "LayoutView",
      "align_content": null,
      "align_items": null,
      "align_self": null,
      "border": null,
      "bottom": null,
      "display": null,
      "flex": null,
      "flex_flow": null,
      "grid_area": null,
      "grid_auto_columns": null,
      "grid_auto_flow": null,
      "grid_auto_rows": null,
      "grid_column": null,
      "grid_gap": null,
      "grid_row": null,
      "grid_template_areas": null,
      "grid_template_columns": null,
      "grid_template_rows": null,
      "height": null,
      "justify_content": null,
      "justify_items": null,
      "left": null,
      "margin": null,
      "max_height": null,
      "max_width": null,
      "min_height": null,
      "min_width": null,
      "object_fit": null,
      "object_position": null,
      "order": null,
      "overflow": null,
      "overflow_x": null,
      "overflow_y": null,
      "padding": null,
      "right": null,
      "top": null,
      "visibility": null,
      "width": null
     }
    },
    "8b5d5cd6dca242198e4fdda139aba4f1": {
     "model_module": "@jupyter-widgets/controls",
     "model_module_version": "1.5.0",
     "model_name": "ProgressStyleModel",
     "state": {
      "_model_module": "@jupyter-widgets/controls",
      "_model_module_version": "1.5.0",
      "_model_name": "ProgressStyleModel",
      "_view_count": null,
      "_view_module": "@jupyter-widgets/base",
      "_view_module_version": "1.2.0",
      "_view_name": "StyleView",
      "bar_color": null,
      "description_width": ""
     }
    },
    "8bcb7c9a2c904a218adc8c735ceb3d8d": {
     "model_module": "@jupyter-widgets/base",
     "model_module_version": "1.2.0",
     "model_name": "LayoutModel",
     "state": {
      "_model_module": "@jupyter-widgets/base",
      "_model_module_version": "1.2.0",
      "_model_name": "LayoutModel",
      "_view_count": null,
      "_view_module": "@jupyter-widgets/base",
      "_view_module_version": "1.2.0",
      "_view_name": "LayoutView",
      "align_content": null,
      "align_items": null,
      "align_self": null,
      "border": null,
      "bottom": null,
      "display": null,
      "flex": null,
      "flex_flow": null,
      "grid_area": null,
      "grid_auto_columns": null,
      "grid_auto_flow": null,
      "grid_auto_rows": null,
      "grid_column": null,
      "grid_gap": null,
      "grid_row": null,
      "grid_template_areas": null,
      "grid_template_columns": null,
      "grid_template_rows": null,
      "height": null,
      "justify_content": null,
      "justify_items": null,
      "left": null,
      "margin": null,
      "max_height": null,
      "max_width": null,
      "min_height": null,
      "min_width": null,
      "object_fit": null,
      "object_position": null,
      "order": null,
      "overflow": null,
      "overflow_x": null,
      "overflow_y": null,
      "padding": null,
      "right": null,
      "top": null,
      "visibility": null,
      "width": null
     }
    },
    "8d813fb6aab34e9c92f7453cec962bc0": {
     "model_module": "@jupyter-widgets/base",
     "model_module_version": "1.2.0",
     "model_name": "LayoutModel",
     "state": {
      "_model_module": "@jupyter-widgets/base",
      "_model_module_version": "1.2.0",
      "_model_name": "LayoutModel",
      "_view_count": null,
      "_view_module": "@jupyter-widgets/base",
      "_view_module_version": "1.2.0",
      "_view_name": "LayoutView",
      "align_content": null,
      "align_items": null,
      "align_self": null,
      "border": null,
      "bottom": null,
      "display": null,
      "flex": null,
      "flex_flow": null,
      "grid_area": null,
      "grid_auto_columns": null,
      "grid_auto_flow": null,
      "grid_auto_rows": null,
      "grid_column": null,
      "grid_gap": null,
      "grid_row": null,
      "grid_template_areas": null,
      "grid_template_columns": null,
      "grid_template_rows": null,
      "height": null,
      "justify_content": null,
      "justify_items": null,
      "left": null,
      "margin": null,
      "max_height": null,
      "max_width": null,
      "min_height": null,
      "min_width": null,
      "object_fit": null,
      "object_position": null,
      "order": null,
      "overflow": null,
      "overflow_x": null,
      "overflow_y": null,
      "padding": null,
      "right": null,
      "top": null,
      "visibility": null,
      "width": null
     }
    },
    "8d9649e119574a65ad1c7b4b95864520": {
     "model_module": "@jupyter-widgets/base",
     "model_module_version": "1.2.0",
     "model_name": "LayoutModel",
     "state": {
      "_model_module": "@jupyter-widgets/base",
      "_model_module_version": "1.2.0",
      "_model_name": "LayoutModel",
      "_view_count": null,
      "_view_module": "@jupyter-widgets/base",
      "_view_module_version": "1.2.0",
      "_view_name": "LayoutView",
      "align_content": null,
      "align_items": null,
      "align_self": null,
      "border": null,
      "bottom": null,
      "display": null,
      "flex": null,
      "flex_flow": null,
      "grid_area": null,
      "grid_auto_columns": null,
      "grid_auto_flow": null,
      "grid_auto_rows": null,
      "grid_column": null,
      "grid_gap": null,
      "grid_row": null,
      "grid_template_areas": null,
      "grid_template_columns": null,
      "grid_template_rows": null,
      "height": null,
      "justify_content": null,
      "justify_items": null,
      "left": null,
      "margin": null,
      "max_height": null,
      "max_width": null,
      "min_height": null,
      "min_width": null,
      "object_fit": null,
      "object_position": null,
      "order": null,
      "overflow": null,
      "overflow_x": null,
      "overflow_y": null,
      "padding": null,
      "right": null,
      "top": null,
      "visibility": null,
      "width": null
     }
    },
    "8eebdfb65d9e4917957d303d49b6572b": {
     "model_module": "@jupyter-widgets/base",
     "model_module_version": "1.2.0",
     "model_name": "LayoutModel",
     "state": {
      "_model_module": "@jupyter-widgets/base",
      "_model_module_version": "1.2.0",
      "_model_name": "LayoutModel",
      "_view_count": null,
      "_view_module": "@jupyter-widgets/base",
      "_view_module_version": "1.2.0",
      "_view_name": "LayoutView",
      "align_content": null,
      "align_items": null,
      "align_self": null,
      "border": null,
      "bottom": null,
      "display": null,
      "flex": null,
      "flex_flow": null,
      "grid_area": null,
      "grid_auto_columns": null,
      "grid_auto_flow": null,
      "grid_auto_rows": null,
      "grid_column": null,
      "grid_gap": null,
      "grid_row": null,
      "grid_template_areas": null,
      "grid_template_columns": null,
      "grid_template_rows": null,
      "height": null,
      "justify_content": null,
      "justify_items": null,
      "left": null,
      "margin": null,
      "max_height": null,
      "max_width": null,
      "min_height": null,
      "min_width": null,
      "object_fit": null,
      "object_position": null,
      "order": null,
      "overflow": null,
      "overflow_x": null,
      "overflow_y": null,
      "padding": null,
      "right": null,
      "top": null,
      "visibility": null,
      "width": null
     }
    },
    "935430fc114848fda242d0d63d814d8e": {
     "model_module": "@jupyter-widgets/controls",
     "model_module_version": "1.5.0",
     "model_name": "HBoxModel",
     "state": {
      "_dom_classes": [],
      "_model_module": "@jupyter-widgets/controls",
      "_model_module_version": "1.5.0",
      "_model_name": "HBoxModel",
      "_view_count": null,
      "_view_module": "@jupyter-widgets/controls",
      "_view_module_version": "1.5.0",
      "_view_name": "HBoxView",
      "box_style": "",
      "children": [
       "IPY_MODEL_ed560dd8b7b44ac5bf91a4e9febf9f51",
       "IPY_MODEL_c396bc83eb624461ad133d901690d4e3",
       "IPY_MODEL_6fb0438a035b4276a0f976ca5d189126"
      ],
      "layout": "IPY_MODEL_e6eb0f4a38944f0192b77e19c6f53f04"
     }
    },
    "9466f81614cc4e99b40a79b7e9f79623": {
     "model_module": "@jupyter-widgets/controls",
     "model_module_version": "1.5.0",
     "model_name": "DescriptionStyleModel",
     "state": {
      "_model_module": "@jupyter-widgets/controls",
      "_model_module_version": "1.5.0",
      "_model_name": "DescriptionStyleModel",
      "_view_count": null,
      "_view_module": "@jupyter-widgets/base",
      "_view_module_version": "1.2.0",
      "_view_name": "StyleView",
      "description_width": ""
     }
    },
    "94bc484c524845fc8061c75266d55e95": {
     "model_module": "@jupyter-widgets/base",
     "model_module_version": "1.2.0",
     "model_name": "LayoutModel",
     "state": {
      "_model_module": "@jupyter-widgets/base",
      "_model_module_version": "1.2.0",
      "_model_name": "LayoutModel",
      "_view_count": null,
      "_view_module": "@jupyter-widgets/base",
      "_view_module_version": "1.2.0",
      "_view_name": "LayoutView",
      "align_content": null,
      "align_items": null,
      "align_self": null,
      "border": null,
      "bottom": null,
      "display": null,
      "flex": null,
      "flex_flow": null,
      "grid_area": null,
      "grid_auto_columns": null,
      "grid_auto_flow": null,
      "grid_auto_rows": null,
      "grid_column": null,
      "grid_gap": null,
      "grid_row": null,
      "grid_template_areas": null,
      "grid_template_columns": null,
      "grid_template_rows": null,
      "height": null,
      "justify_content": null,
      "justify_items": null,
      "left": null,
      "margin": null,
      "max_height": null,
      "max_width": null,
      "min_height": null,
      "min_width": null,
      "object_fit": null,
      "object_position": null,
      "order": null,
      "overflow": null,
      "overflow_x": null,
      "overflow_y": null,
      "padding": null,
      "right": null,
      "top": null,
      "visibility": null,
      "width": null
     }
    },
    "996e2f21e70f4c68842816bd1f7f3642": {
     "model_module": "@jupyter-widgets/controls",
     "model_module_version": "1.5.0",
     "model_name": "ProgressStyleModel",
     "state": {
      "_model_module": "@jupyter-widgets/controls",
      "_model_module_version": "1.5.0",
      "_model_name": "ProgressStyleModel",
      "_view_count": null,
      "_view_module": "@jupyter-widgets/base",
      "_view_module_version": "1.2.0",
      "_view_name": "StyleView",
      "bar_color": null,
      "description_width": ""
     }
    },
    "999e4884026f45e7aa01f53750e8795a": {
     "model_module": "@jupyter-widgets/base",
     "model_module_version": "1.2.0",
     "model_name": "LayoutModel",
     "state": {
      "_model_module": "@jupyter-widgets/base",
      "_model_module_version": "1.2.0",
      "_model_name": "LayoutModel",
      "_view_count": null,
      "_view_module": "@jupyter-widgets/base",
      "_view_module_version": "1.2.0",
      "_view_name": "LayoutView",
      "align_content": null,
      "align_items": null,
      "align_self": null,
      "border": null,
      "bottom": null,
      "display": null,
      "flex": null,
      "flex_flow": null,
      "grid_area": null,
      "grid_auto_columns": null,
      "grid_auto_flow": null,
      "grid_auto_rows": null,
      "grid_column": null,
      "grid_gap": null,
      "grid_row": null,
      "grid_template_areas": null,
      "grid_template_columns": null,
      "grid_template_rows": null,
      "height": null,
      "justify_content": null,
      "justify_items": null,
      "left": null,
      "margin": null,
      "max_height": null,
      "max_width": null,
      "min_height": null,
      "min_width": null,
      "object_fit": null,
      "object_position": null,
      "order": null,
      "overflow": null,
      "overflow_x": null,
      "overflow_y": null,
      "padding": null,
      "right": null,
      "top": null,
      "visibility": null,
      "width": null
     }
    },
    "99e892bcb17a4a4895630deb76b9e551": {
     "model_module": "@jupyter-widgets/controls",
     "model_module_version": "1.5.0",
     "model_name": "HTMLModel",
     "state": {
      "_dom_classes": [],
      "_model_module": "@jupyter-widgets/controls",
      "_model_module_version": "1.5.0",
      "_model_name": "HTMLModel",
      "_view_count": null,
      "_view_module": "@jupyter-widgets/controls",
      "_view_module_version": "1.5.0",
      "_view_name": "HTMLView",
      "description": "",
      "description_tooltip": null,
      "layout": "IPY_MODEL_8d9649e119574a65ad1c7b4b95864520",
      "placeholder": "​",
      "style": "IPY_MODEL_6f9b52d5dbb7488b9bdc5adf4ffdc77e",
      "value": "model.safetensors: 100%"
     }
    },
    "9b4c23b8403040c39102a7b8fa4826ca": {
     "model_module": "@jupyter-widgets/controls",
     "model_module_version": "1.5.0",
     "model_name": "DescriptionStyleModel",
     "state": {
      "_model_module": "@jupyter-widgets/controls",
      "_model_module_version": "1.5.0",
      "_model_name": "DescriptionStyleModel",
      "_view_count": null,
      "_view_module": "@jupyter-widgets/base",
      "_view_module_version": "1.2.0",
      "_view_name": "StyleView",
      "description_width": ""
     }
    },
    "a12634c045eb47b786ecd8124c10fb76": {
     "model_module": "@jupyter-widgets/controls",
     "model_module_version": "1.5.0",
     "model_name": "DescriptionStyleModel",
     "state": {
      "_model_module": "@jupyter-widgets/controls",
      "_model_module_version": "1.5.0",
      "_model_name": "DescriptionStyleModel",
      "_view_count": null,
      "_view_module": "@jupyter-widgets/base",
      "_view_module_version": "1.2.0",
      "_view_name": "StyleView",
      "description_width": ""
     }
    },
    "a3bb67e9dd484b8fb3dbee9b8b9f1d16": {
     "model_module": "@jupyter-widgets/base",
     "model_module_version": "1.2.0",
     "model_name": "LayoutModel",
     "state": {
      "_model_module": "@jupyter-widgets/base",
      "_model_module_version": "1.2.0",
      "_model_name": "LayoutModel",
      "_view_count": null,
      "_view_module": "@jupyter-widgets/base",
      "_view_module_version": "1.2.0",
      "_view_name": "LayoutView",
      "align_content": null,
      "align_items": null,
      "align_self": null,
      "border": null,
      "bottom": null,
      "display": null,
      "flex": null,
      "flex_flow": null,
      "grid_area": null,
      "grid_auto_columns": null,
      "grid_auto_flow": null,
      "grid_auto_rows": null,
      "grid_column": null,
      "grid_gap": null,
      "grid_row": null,
      "grid_template_areas": null,
      "grid_template_columns": null,
      "grid_template_rows": null,
      "height": null,
      "justify_content": null,
      "justify_items": null,
      "left": null,
      "margin": null,
      "max_height": null,
      "max_width": null,
      "min_height": null,
      "min_width": null,
      "object_fit": null,
      "object_position": null,
      "order": null,
      "overflow": null,
      "overflow_x": null,
      "overflow_y": null,
      "padding": null,
      "right": null,
      "top": null,
      "visibility": null,
      "width": null
     }
    },
    "a67e6806d3a143e78e3ab8a70b5077ac": {
     "model_module": "@jupyter-widgets/base",
     "model_module_version": "1.2.0",
     "model_name": "LayoutModel",
     "state": {
      "_model_module": "@jupyter-widgets/base",
      "_model_module_version": "1.2.0",
      "_model_name": "LayoutModel",
      "_view_count": null,
      "_view_module": "@jupyter-widgets/base",
      "_view_module_version": "1.2.0",
      "_view_name": "LayoutView",
      "align_content": null,
      "align_items": null,
      "align_self": null,
      "border": null,
      "bottom": null,
      "display": null,
      "flex": null,
      "flex_flow": null,
      "grid_area": null,
      "grid_auto_columns": null,
      "grid_auto_flow": null,
      "grid_auto_rows": null,
      "grid_column": null,
      "grid_gap": null,
      "grid_row": null,
      "grid_template_areas": null,
      "grid_template_columns": null,
      "grid_template_rows": null,
      "height": null,
      "justify_content": null,
      "justify_items": null,
      "left": null,
      "margin": null,
      "max_height": null,
      "max_width": null,
      "min_height": null,
      "min_width": null,
      "object_fit": null,
      "object_position": null,
      "order": null,
      "overflow": null,
      "overflow_x": null,
      "overflow_y": null,
      "padding": null,
      "right": null,
      "top": null,
      "visibility": null,
      "width": null
     }
    },
    "a77937b37e9249be9dc9f7be0ab0ba7c": {
     "model_module": "@jupyter-widgets/base",
     "model_module_version": "1.2.0",
     "model_name": "LayoutModel",
     "state": {
      "_model_module": "@jupyter-widgets/base",
      "_model_module_version": "1.2.0",
      "_model_name": "LayoutModel",
      "_view_count": null,
      "_view_module": "@jupyter-widgets/base",
      "_view_module_version": "1.2.0",
      "_view_name": "LayoutView",
      "align_content": null,
      "align_items": null,
      "align_self": null,
      "border": null,
      "bottom": null,
      "display": null,
      "flex": null,
      "flex_flow": null,
      "grid_area": null,
      "grid_auto_columns": null,
      "grid_auto_flow": null,
      "grid_auto_rows": null,
      "grid_column": null,
      "grid_gap": null,
      "grid_row": null,
      "grid_template_areas": null,
      "grid_template_columns": null,
      "grid_template_rows": null,
      "height": null,
      "justify_content": null,
      "justify_items": null,
      "left": null,
      "margin": null,
      "max_height": null,
      "max_width": null,
      "min_height": null,
      "min_width": null,
      "object_fit": null,
      "object_position": null,
      "order": null,
      "overflow": null,
      "overflow_x": null,
      "overflow_y": null,
      "padding": null,
      "right": null,
      "top": null,
      "visibility": null,
      "width": null
     }
    },
    "a7b0fbfe95704814a2956bc8f8031f54": {
     "model_module": "@jupyter-widgets/controls",
     "model_module_version": "1.5.0",
     "model_name": "ProgressStyleModel",
     "state": {
      "_model_module": "@jupyter-widgets/controls",
      "_model_module_version": "1.5.0",
      "_model_name": "ProgressStyleModel",
      "_view_count": null,
      "_view_module": "@jupyter-widgets/base",
      "_view_module_version": "1.2.0",
      "_view_name": "StyleView",
      "bar_color": null,
      "description_width": ""
     }
    },
    "a8b5713df7d541b8b4d82be9e81896d1": {
     "model_module": "@jupyter-widgets/base",
     "model_module_version": "1.2.0",
     "model_name": "LayoutModel",
     "state": {
      "_model_module": "@jupyter-widgets/base",
      "_model_module_version": "1.2.0",
      "_model_name": "LayoutModel",
      "_view_count": null,
      "_view_module": "@jupyter-widgets/base",
      "_view_module_version": "1.2.0",
      "_view_name": "LayoutView",
      "align_content": null,
      "align_items": null,
      "align_self": null,
      "border": null,
      "bottom": null,
      "display": null,
      "flex": null,
      "flex_flow": null,
      "grid_area": null,
      "grid_auto_columns": null,
      "grid_auto_flow": null,
      "grid_auto_rows": null,
      "grid_column": null,
      "grid_gap": null,
      "grid_row": null,
      "grid_template_areas": null,
      "grid_template_columns": null,
      "grid_template_rows": null,
      "height": null,
      "justify_content": null,
      "justify_items": null,
      "left": null,
      "margin": null,
      "max_height": null,
      "max_width": null,
      "min_height": null,
      "min_width": null,
      "object_fit": null,
      "object_position": null,
      "order": null,
      "overflow": null,
      "overflow_x": null,
      "overflow_y": null,
      "padding": null,
      "right": null,
      "top": null,
      "visibility": null,
      "width": null
     }
    },
    "a9077d2424a04ba093a692259d8bd34f": {
     "model_module": "@jupyter-widgets/controls",
     "model_module_version": "1.5.0",
     "model_name": "HTMLModel",
     "state": {
      "_dom_classes": [],
      "_model_module": "@jupyter-widgets/controls",
      "_model_module_version": "1.5.0",
      "_model_name": "HTMLModel",
      "_view_count": null,
      "_view_module": "@jupyter-widgets/controls",
      "_view_module_version": "1.5.0",
      "_view_name": "HTMLView",
      "description": "",
      "description_tooltip": null,
      "layout": "IPY_MODEL_b30f6d51eb5444a1b78b93afe065263a",
      "placeholder": "​",
      "style": "IPY_MODEL_e278827435174205b089ee3f0e10a30e",
      "value": " 124/124 [00:00&lt;00:00, 6.30kB/s]"
     }
    },
    "a9fda27e22d34d2495d71f41e666177b": {
     "model_module": "@jupyter-widgets/controls",
     "model_module_version": "1.5.0",
     "model_name": "DescriptionStyleModel",
     "state": {
      "_model_module": "@jupyter-widgets/controls",
      "_model_module_version": "1.5.0",
      "_model_name": "DescriptionStyleModel",
      "_view_count": null,
      "_view_module": "@jupyter-widgets/base",
      "_view_module_version": "1.2.0",
      "_view_name": "StyleView",
      "description_width": ""
     }
    },
    "ac0dbead4a8f40cf8bc12946cf64e64d": {
     "model_module": "@jupyter-widgets/base",
     "model_module_version": "1.2.0",
     "model_name": "LayoutModel",
     "state": {
      "_model_module": "@jupyter-widgets/base",
      "_model_module_version": "1.2.0",
      "_model_name": "LayoutModel",
      "_view_count": null,
      "_view_module": "@jupyter-widgets/base",
      "_view_module_version": "1.2.0",
      "_view_name": "LayoutView",
      "align_content": null,
      "align_items": null,
      "align_self": null,
      "border": null,
      "bottom": null,
      "display": null,
      "flex": null,
      "flex_flow": null,
      "grid_area": null,
      "grid_auto_columns": null,
      "grid_auto_flow": null,
      "grid_auto_rows": null,
      "grid_column": null,
      "grid_gap": null,
      "grid_row": null,
      "grid_template_areas": null,
      "grid_template_columns": null,
      "grid_template_rows": null,
      "height": null,
      "justify_content": null,
      "justify_items": null,
      "left": null,
      "margin": null,
      "max_height": null,
      "max_width": null,
      "min_height": null,
      "min_width": null,
      "object_fit": null,
      "object_position": null,
      "order": null,
      "overflow": null,
      "overflow_x": null,
      "overflow_y": null,
      "padding": null,
      "right": null,
      "top": null,
      "visibility": null,
      "width": null
     }
    },
    "b237d65e730d460fa7e37ab9cf4553d2": {
     "model_module": "@jupyter-widgets/base",
     "model_module_version": "1.2.0",
     "model_name": "LayoutModel",
     "state": {
      "_model_module": "@jupyter-widgets/base",
      "_model_module_version": "1.2.0",
      "_model_name": "LayoutModel",
      "_view_count": null,
      "_view_module": "@jupyter-widgets/base",
      "_view_module_version": "1.2.0",
      "_view_name": "LayoutView",
      "align_content": null,
      "align_items": null,
      "align_self": null,
      "border": null,
      "bottom": null,
      "display": null,
      "flex": null,
      "flex_flow": null,
      "grid_area": null,
      "grid_auto_columns": null,
      "grid_auto_flow": null,
      "grid_auto_rows": null,
      "grid_column": null,
      "grid_gap": null,
      "grid_row": null,
      "grid_template_areas": null,
      "grid_template_columns": null,
      "grid_template_rows": null,
      "height": null,
      "justify_content": null,
      "justify_items": null,
      "left": null,
      "margin": null,
      "max_height": null,
      "max_width": null,
      "min_height": null,
      "min_width": null,
      "object_fit": null,
      "object_position": null,
      "order": null,
      "overflow": null,
      "overflow_x": null,
      "overflow_y": null,
      "padding": null,
      "right": null,
      "top": null,
      "visibility": null,
      "width": null
     }
    },
    "b30f6d51eb5444a1b78b93afe065263a": {
     "model_module": "@jupyter-widgets/base",
     "model_module_version": "1.2.0",
     "model_name": "LayoutModel",
     "state": {
      "_model_module": "@jupyter-widgets/base",
      "_model_module_version": "1.2.0",
      "_model_name": "LayoutModel",
      "_view_count": null,
      "_view_module": "@jupyter-widgets/base",
      "_view_module_version": "1.2.0",
      "_view_name": "LayoutView",
      "align_content": null,
      "align_items": null,
      "align_self": null,
      "border": null,
      "bottom": null,
      "display": null,
      "flex": null,
      "flex_flow": null,
      "grid_area": null,
      "grid_auto_columns": null,
      "grid_auto_flow": null,
      "grid_auto_rows": null,
      "grid_column": null,
      "grid_gap": null,
      "grid_row": null,
      "grid_template_areas": null,
      "grid_template_columns": null,
      "grid_template_rows": null,
      "height": null,
      "justify_content": null,
      "justify_items": null,
      "left": null,
      "margin": null,
      "max_height": null,
      "max_width": null,
      "min_height": null,
      "min_width": null,
      "object_fit": null,
      "object_position": null,
      "order": null,
      "overflow": null,
      "overflow_x": null,
      "overflow_y": null,
      "padding": null,
      "right": null,
      "top": null,
      "visibility": null,
      "width": null
     }
    },
    "b3b8250dd1e14176b72b2d9bf4ba0626": {
     "model_module": "@jupyter-widgets/controls",
     "model_module_version": "1.5.0",
     "model_name": "HTMLModel",
     "state": {
      "_dom_classes": [],
      "_model_module": "@jupyter-widgets/controls",
      "_model_module_version": "1.5.0",
      "_model_name": "HTMLModel",
      "_view_count": null,
      "_view_module": "@jupyter-widgets/controls",
      "_view_module_version": "1.5.0",
      "_view_name": "HTMLView",
      "description": "",
      "description_tooltip": null,
      "layout": "IPY_MODEL_a67e6806d3a143e78e3ab8a70b5077ac",
      "placeholder": "​",
      "style": "IPY_MODEL_3583ca0429874dbaa0d06c9c31c556cd",
      "value": "100%"
     }
    },
    "c396bc83eb624461ad133d901690d4e3": {
     "model_module": "@jupyter-widgets/controls",
     "model_module_version": "1.5.0",
     "model_name": "FloatProgressModel",
     "state": {
      "_dom_classes": [],
      "_model_module": "@jupyter-widgets/controls",
      "_model_module_version": "1.5.0",
      "_model_name": "FloatProgressModel",
      "_view_count": null,
      "_view_module": "@jupyter-widgets/controls",
      "_view_module_version": "1.5.0",
      "_view_name": "ProgressView",
      "bar_style": "success",
      "description": "",
      "description_tooltip": null,
      "layout": "IPY_MODEL_a3bb67e9dd484b8fb3dbee9b8b9f1d16",
      "max": 98384,
      "min": 0,
      "orientation": "horizontal",
      "style": "IPY_MODEL_f48f22206df242e0b31ca6eec2c3ab94",
      "value": 98384
     }
    },
    "c3db0b79c4564c1fb9acfa7e650cc5bf": {
     "model_module": "@jupyter-widgets/controls",
     "model_module_version": "1.5.0",
     "model_name": "DescriptionStyleModel",
     "state": {
      "_model_module": "@jupyter-widgets/controls",
      "_model_module_version": "1.5.0",
      "_model_name": "DescriptionStyleModel",
      "_view_count": null,
      "_view_module": "@jupyter-widgets/base",
      "_view_module_version": "1.2.0",
      "_view_name": "StyleView",
      "description_width": ""
     }
    },
    "c6a4d93bb99e4ec7af10bebd256ff963": {
     "model_module": "@jupyter-widgets/base",
     "model_module_version": "1.2.0",
     "model_name": "LayoutModel",
     "state": {
      "_model_module": "@jupyter-widgets/base",
      "_model_module_version": "1.2.0",
      "_model_name": "LayoutModel",
      "_view_count": null,
      "_view_module": "@jupyter-widgets/base",
      "_view_module_version": "1.2.0",
      "_view_name": "LayoutView",
      "align_content": null,
      "align_items": null,
      "align_self": null,
      "border": null,
      "bottom": null,
      "display": null,
      "flex": null,
      "flex_flow": null,
      "grid_area": null,
      "grid_auto_columns": null,
      "grid_auto_flow": null,
      "grid_auto_rows": null,
      "grid_column": null,
      "grid_gap": null,
      "grid_row": null,
      "grid_template_areas": null,
      "grid_template_columns": null,
      "grid_template_rows": null,
      "height": null,
      "justify_content": null,
      "justify_items": null,
      "left": null,
      "margin": null,
      "max_height": null,
      "max_width": null,
      "min_height": null,
      "min_width": null,
      "object_fit": null,
      "object_position": null,
      "order": null,
      "overflow": null,
      "overflow_x": null,
      "overflow_y": null,
      "padding": null,
      "right": null,
      "top": null,
      "visibility": null,
      "width": null
     }
    },
    "cdc2a31cd1514518a1b8cdbaacd45be0": {
     "model_module": "@jupyter-widgets/controls",
     "model_module_version": "1.5.0",
     "model_name": "HBoxModel",
     "state": {
      "_dom_classes": [],
      "_model_module": "@jupyter-widgets/controls",
      "_model_module_version": "1.5.0",
      "_model_name": "HBoxModel",
      "_view_count": null,
      "_view_module": "@jupyter-widgets/controls",
      "_view_module_version": "1.5.0",
      "_view_name": "HBoxView",
      "box_style": "",
      "children": [
       "IPY_MODEL_3e5fc4bedd5e4acab6e1d73a81d22fd3",
       "IPY_MODEL_304469e0bcb94128bae4b85c57559a51",
       "IPY_MODEL_fd5399f7c2f2485ea60206c7383af4e6"
      ],
      "layout": "IPY_MODEL_8d813fb6aab34e9c92f7453cec962bc0"
     }
    },
    "cfcf6e36eaf74845b377c9e57bcd1d7f": {
     "model_module": "@jupyter-widgets/controls",
     "model_module_version": "1.5.0",
     "model_name": "ProgressStyleModel",
     "state": {
      "_model_module": "@jupyter-widgets/controls",
      "_model_module_version": "1.5.0",
      "_model_name": "ProgressStyleModel",
      "_view_count": null,
      "_view_module": "@jupyter-widgets/base",
      "_view_module_version": "1.2.0",
      "_view_name": "StyleView",
      "bar_color": null,
      "description_width": ""
     }
    },
    "dbe3864b74a44d968522cfcd72bbd8a0": {
     "model_module": "@jupyter-widgets/base",
     "model_module_version": "1.2.0",
     "model_name": "LayoutModel",
     "state": {
      "_model_module": "@jupyter-widgets/base",
      "_model_module_version": "1.2.0",
      "_model_name": "LayoutModel",
      "_view_count": null,
      "_view_module": "@jupyter-widgets/base",
      "_view_module_version": "1.2.0",
      "_view_name": "LayoutView",
      "align_content": null,
      "align_items": null,
      "align_self": null,
      "border": null,
      "bottom": null,
      "display": null,
      "flex": null,
      "flex_flow": null,
      "grid_area": null,
      "grid_auto_columns": null,
      "grid_auto_flow": null,
      "grid_auto_rows": null,
      "grid_column": null,
      "grid_gap": null,
      "grid_row": null,
      "grid_template_areas": null,
      "grid_template_columns": null,
      "grid_template_rows": null,
      "height": null,
      "justify_content": null,
      "justify_items": null,
      "left": null,
      "margin": null,
      "max_height": null,
      "max_width": null,
      "min_height": null,
      "min_width": null,
      "object_fit": null,
      "object_position": null,
      "order": null,
      "overflow": null,
      "overflow_x": null,
      "overflow_y": null,
      "padding": null,
      "right": null,
      "top": null,
      "visibility": null,
      "width": null
     }
    },
    "de4ae170101c46a2978c55e6ecb614fa": {
     "model_module": "@jupyter-widgets/controls",
     "model_module_version": "1.5.0",
     "model_name": "DescriptionStyleModel",
     "state": {
      "_model_module": "@jupyter-widgets/controls",
      "_model_module_version": "1.5.0",
      "_model_name": "DescriptionStyleModel",
      "_view_count": null,
      "_view_module": "@jupyter-widgets/base",
      "_view_module_version": "1.2.0",
      "_view_name": "StyleView",
      "description_width": ""
     }
    },
    "e278827435174205b089ee3f0e10a30e": {
     "model_module": "@jupyter-widgets/controls",
     "model_module_version": "1.5.0",
     "model_name": "DescriptionStyleModel",
     "state": {
      "_model_module": "@jupyter-widgets/controls",
      "_model_module_version": "1.5.0",
      "_model_name": "DescriptionStyleModel",
      "_view_count": null,
      "_view_module": "@jupyter-widgets/base",
      "_view_module_version": "1.2.0",
      "_view_name": "StyleView",
      "description_width": ""
     }
    },
    "e6eb0f4a38944f0192b77e19c6f53f04": {
     "model_module": "@jupyter-widgets/base",
     "model_module_version": "1.2.0",
     "model_name": "LayoutModel",
     "state": {
      "_model_module": "@jupyter-widgets/base",
      "_model_module_version": "1.2.0",
      "_model_name": "LayoutModel",
      "_view_count": null,
      "_view_module": "@jupyter-widgets/base",
      "_view_module_version": "1.2.0",
      "_view_name": "LayoutView",
      "align_content": null,
      "align_items": null,
      "align_self": null,
      "border": null,
      "bottom": null,
      "display": null,
      "flex": null,
      "flex_flow": null,
      "grid_area": null,
      "grid_auto_columns": null,
      "grid_auto_flow": null,
      "grid_auto_rows": null,
      "grid_column": null,
      "grid_gap": null,
      "grid_row": null,
      "grid_template_areas": null,
      "grid_template_columns": null,
      "grid_template_rows": null,
      "height": null,
      "justify_content": null,
      "justify_items": null,
      "left": null,
      "margin": null,
      "max_height": null,
      "max_width": null,
      "min_height": null,
      "min_width": null,
      "object_fit": null,
      "object_position": null,
      "order": null,
      "overflow": null,
      "overflow_x": null,
      "overflow_y": null,
      "padding": null,
      "right": null,
      "top": null,
      "visibility": null,
      "width": null
     }
    },
    "e8ccfe92166d45f38ee651d30b0a3150": {
     "model_module": "@jupyter-widgets/base",
     "model_module_version": "1.2.0",
     "model_name": "LayoutModel",
     "state": {
      "_model_module": "@jupyter-widgets/base",
      "_model_module_version": "1.2.0",
      "_model_name": "LayoutModel",
      "_view_count": null,
      "_view_module": "@jupyter-widgets/base",
      "_view_module_version": "1.2.0",
      "_view_name": "LayoutView",
      "align_content": null,
      "align_items": null,
      "align_self": null,
      "border": null,
      "bottom": null,
      "display": null,
      "flex": null,
      "flex_flow": null,
      "grid_area": null,
      "grid_auto_columns": null,
      "grid_auto_flow": null,
      "grid_auto_rows": null,
      "grid_column": null,
      "grid_gap": null,
      "grid_row": null,
      "grid_template_areas": null,
      "grid_template_columns": null,
      "grid_template_rows": null,
      "height": null,
      "justify_content": null,
      "justify_items": null,
      "left": null,
      "margin": null,
      "max_height": null,
      "max_width": null,
      "min_height": null,
      "min_width": null,
      "object_fit": null,
      "object_position": null,
      "order": null,
      "overflow": null,
      "overflow_x": null,
      "overflow_y": null,
      "padding": null,
      "right": null,
      "top": null,
      "visibility": null,
      "width": null
     }
    },
    "ed560dd8b7b44ac5bf91a4e9febf9f51": {
     "model_module": "@jupyter-widgets/controls",
     "model_module_version": "1.5.0",
     "model_name": "HTMLModel",
     "state": {
      "_dom_classes": [],
      "_model_module": "@jupyter-widgets/controls",
      "_model_module_version": "1.5.0",
      "_model_name": "HTMLModel",
      "_view_count": null,
      "_view_module": "@jupyter-widgets/controls",
      "_view_module_version": "1.5.0",
      "_view_name": "HTMLView",
      "description": "",
      "description_tooltip": null,
      "layout": "IPY_MODEL_f2f07cc4b19e436c93ccf72e6d6072e5",
      "placeholder": "​",
      "style": "IPY_MODEL_fc3dba6f259045528d91cb5d6b0721ec",
      "value": "sparsity.safetensors: 100%"
     }
    },
    "eded63a0e8b8430396c661db85b680dd": {
     "model_module": "@jupyter-widgets/base",
     "model_module_version": "1.2.0",
     "model_name": "LayoutModel",
     "state": {
      "_model_module": "@jupyter-widgets/base",
      "_model_module_version": "1.2.0",
      "_model_name": "LayoutModel",
      "_view_count": null,
      "_view_module": "@jupyter-widgets/base",
      "_view_module_version": "1.2.0",
      "_view_name": "LayoutView",
      "align_content": null,
      "align_items": null,
      "align_self": null,
      "border": null,
      "bottom": null,
      "display": null,
      "flex": null,
      "flex_flow": null,
      "grid_area": null,
      "grid_auto_columns": null,
      "grid_auto_flow": null,
      "grid_auto_rows": null,
      "grid_column": null,
      "grid_gap": null,
      "grid_row": null,
      "grid_template_areas": null,
      "grid_template_columns": null,
      "grid_template_rows": null,
      "height": null,
      "justify_content": null,
      "justify_items": null,
      "left": null,
      "margin": null,
      "max_height": null,
      "max_width": null,
      "min_height": null,
      "min_width": null,
      "object_fit": null,
      "object_position": null,
      "order": null,
      "overflow": null,
      "overflow_x": null,
      "overflow_y": null,
      "padding": null,
      "right": null,
      "top": null,
      "visibility": null,
      "width": null
     }
    },
    "ef7326b2935b4fb784d07b108c004e2f": {
     "model_module": "@jupyter-widgets/controls",
     "model_module_version": "1.5.0",
     "model_name": "FloatProgressModel",
     "state": {
      "_dom_classes": [],
      "_model_module": "@jupyter-widgets/controls",
      "_model_module_version": "1.5.0",
      "_model_name": "FloatProgressModel",
      "_view_count": null,
      "_view_module": "@jupyter-widgets/controls",
      "_view_module_version": "1.5.0",
      "_view_name": "ProgressView",
      "bar_style": "success",
      "description": "",
      "description_tooltip": null,
      "layout": "IPY_MODEL_34bb9ddcf64b455f839628ab4355c893",
      "max": 50,
      "min": 0,
      "orientation": "horizontal",
      "style": "IPY_MODEL_996e2f21e70f4c68842816bd1f7f3642",
      "value": 50
     }
    },
    "f0e6ac69a07242029183152c4435efc0": {
     "model_module": "@jupyter-widgets/controls",
     "model_module_version": "1.5.0",
     "model_name": "DescriptionStyleModel",
     "state": {
      "_model_module": "@jupyter-widgets/controls",
      "_model_module_version": "1.5.0",
      "_model_name": "DescriptionStyleModel",
      "_view_count": null,
      "_view_module": "@jupyter-widgets/base",
      "_view_module_version": "1.2.0",
      "_view_name": "StyleView",
      "description_width": ""
     }
    },
    "f2f07cc4b19e436c93ccf72e6d6072e5": {
     "model_module": "@jupyter-widgets/base",
     "model_module_version": "1.2.0",
     "model_name": "LayoutModel",
     "state": {
      "_model_module": "@jupyter-widgets/base",
      "_model_module_version": "1.2.0",
      "_model_name": "LayoutModel",
      "_view_count": null,
      "_view_module": "@jupyter-widgets/base",
      "_view_module_version": "1.2.0",
      "_view_name": "LayoutView",
      "align_content": null,
      "align_items": null,
      "align_self": null,
      "border": null,
      "bottom": null,
      "display": null,
      "flex": null,
      "flex_flow": null,
      "grid_area": null,
      "grid_auto_columns": null,
      "grid_auto_flow": null,
      "grid_auto_rows": null,
      "grid_column": null,
      "grid_gap": null,
      "grid_row": null,
      "grid_template_areas": null,
      "grid_template_columns": null,
      "grid_template_rows": null,
      "height": null,
      "justify_content": null,
      "justify_items": null,
      "left": null,
      "margin": null,
      "max_height": null,
      "max_width": null,
      "min_height": null,
      "min_width": null,
      "object_fit": null,
      "object_position": null,
      "order": null,
      "overflow": null,
      "overflow_x": null,
      "overflow_y": null,
      "padding": null,
      "right": null,
      "top": null,
      "visibility": null,
      "width": null
     }
    },
    "f3f13ab205d1439b9c2b3ff585a6025b": {
     "model_module": "@jupyter-widgets/controls",
     "model_module_version": "1.5.0",
     "model_name": "HTMLModel",
     "state": {
      "_dom_classes": [],
      "_model_module": "@jupyter-widgets/controls",
      "_model_module_version": "1.5.0",
      "_model_name": "HTMLModel",
      "_view_count": null,
      "_view_module": "@jupyter-widgets/controls",
      "_view_module_version": "1.5.0",
      "_view_name": "HTMLView",
      "description": "",
      "description_tooltip": null,
      "layout": "IPY_MODEL_5adc73f0f05b4c9ea1e966c143aa437b",
      "placeholder": "​",
      "style": "IPY_MODEL_1db6d169bf06423d9c55eaf825c0d961",
      "value": " 1.27k/1.27k [00:00&lt;00:00, 33.1kB/s]"
     }
    },
    "f48f22206df242e0b31ca6eec2c3ab94": {
     "model_module": "@jupyter-widgets/controls",
     "model_module_version": "1.5.0",
     "model_name": "ProgressStyleModel",
     "state": {
      "_model_module": "@jupyter-widgets/controls",
      "_model_module_version": "1.5.0",
      "_model_name": "ProgressStyleModel",
      "_view_count": null,
      "_view_module": "@jupyter-widgets/base",
      "_view_module_version": "1.2.0",
      "_view_name": "StyleView",
      "bar_color": null,
      "description_width": ""
     }
    },
    "f59b0fa458214233a845265c84ee57da": {
     "model_module": "@jupyter-widgets/base",
     "model_module_version": "1.2.0",
     "model_name": "LayoutModel",
     "state": {
      "_model_module": "@jupyter-widgets/base",
      "_model_module_version": "1.2.0",
      "_model_name": "LayoutModel",
      "_view_count": null,
      "_view_module": "@jupyter-widgets/base",
      "_view_module_version": "1.2.0",
      "_view_name": "LayoutView",
      "align_content": null,
      "align_items": null,
      "align_self": null,
      "border": null,
      "bottom": null,
      "display": null,
      "flex": null,
      "flex_flow": null,
      "grid_area": null,
      "grid_auto_columns": null,
      "grid_auto_flow": null,
      "grid_auto_rows": null,
      "grid_column": null,
      "grid_gap": null,
      "grid_row": null,
      "grid_template_areas": null,
      "grid_template_columns": null,
      "grid_template_rows": null,
      "height": null,
      "justify_content": null,
      "justify_items": null,
      "left": null,
      "margin": null,
      "max_height": null,
      "max_width": null,
      "min_height": null,
      "min_width": null,
      "object_fit": null,
      "object_position": null,
      "order": null,
      "overflow": null,
      "overflow_x": null,
      "overflow_y": null,
      "padding": null,
      "right": null,
      "top": null,
      "visibility": null,
      "width": null
     }
    },
    "fc3dba6f259045528d91cb5d6b0721ec": {
     "model_module": "@jupyter-widgets/controls",
     "model_module_version": "1.5.0",
     "model_name": "DescriptionStyleModel",
     "state": {
      "_model_module": "@jupyter-widgets/controls",
      "_model_module_version": "1.5.0",
      "_model_name": "DescriptionStyleModel",
      "_view_count": null,
      "_view_module": "@jupyter-widgets/base",
      "_view_module_version": "1.2.0",
      "_view_name": "StyleView",
      "description_width": ""
     }
    },
    "fd5399f7c2f2485ea60206c7383af4e6": {
     "model_module": "@jupyter-widgets/controls",
     "model_module_version": "1.5.0",
     "model_name": "HTMLModel",
     "state": {
      "_dom_classes": [],
      "_model_module": "@jupyter-widgets/controls",
      "_model_module_version": "1.5.0",
      "_model_name": "HTMLModel",
      "_view_count": null,
      "_view_module": "@jupyter-widgets/controls",
      "_view_module_version": "1.5.0",
      "_view_name": "HTMLView",
      "description": "",
      "description_tooltip": null,
      "layout": "IPY_MODEL_88604589ba3a445d8789761bfd9ec70b",
      "placeholder": "​",
      "style": "IPY_MODEL_6380bd0f6b0d4651870a003aebeba9e6",
      "value": " 151M/151M [00:01&lt;00:00, 103MB/s]"
     }
    },
    "fd61e15c41134a02826c43c4864b36ce": {
     "model_module": "@jupyter-widgets/controls",
     "model_module_version": "1.5.0",
     "model_name": "FloatProgressModel",
     "state": {
      "_dom_classes": [],
      "_model_module": "@jupyter-widgets/controls",
      "_model_module_version": "1.5.0",
      "_model_name": "FloatProgressModel",
      "_view_count": null,
      "_view_module": "@jupyter-widgets/controls",
      "_view_module_version": "1.5.0",
      "_view_name": "ProgressView",
      "bar_style": "success",
      "description": "",
      "description_tooltip": null,
      "layout": "IPY_MODEL_a8b5713df7d541b8b4d82be9e81896d1",
      "max": 1274,
      "min": 0,
      "orientation": "horizontal",
      "style": "IPY_MODEL_cfcf6e36eaf74845b377c9e57bcd1d7f",
      "value": 1274
     }
    }
   }
  }
 },
 "nbformat": 4,
 "nbformat_minor": 4
}
